{
 "cells": [
  {
   "cell_type": "markdown",
   "metadata": {},
   "source": [
    "#  추천 시스템 - ETF 데이터 수집 및 전처리 \n",
    "\n",
    "\n",
    "---"
   ]
  },
  {
   "cell_type": "markdown",
   "metadata": {},
   "source": [
    "## 환경 설정 및 준비"
   ]
  },
  {
   "cell_type": "markdown",
   "metadata": {},
   "source": [
    "`(1) Env 환경변수`"
   ]
  },
  {
   "cell_type": "code",
   "execution_count": 1,
   "metadata": {},
   "outputs": [
    {
     "data": {
      "text/plain": [
       "True"
      ]
     },
     "execution_count": 1,
     "metadata": {},
     "output_type": "execute_result"
    }
   ],
   "source": [
    "from dotenv import load_dotenv\n",
    "load_dotenv()"
   ]
  },
  {
   "cell_type": "markdown",
   "metadata": {},
   "source": [
    "`(2) 기본 라이브러리`"
   ]
  },
  {
   "cell_type": "code",
   "execution_count": 2,
   "metadata": {},
   "outputs": [],
   "source": [
    "import os\n",
    "from glob import glob\n",
    "\n",
    "from pprint import pprint\n",
    "import json"
   ]
  },
  {
   "cell_type": "markdown",
   "metadata": {},
   "source": [
    "## ETF 데이터 수집\n",
    "\n",
    "- CSV 다운로드\n",
    "- http://data.krx.co.kr/contents/MDC/MDI/mdiLoader/index.cmd?menuId=MDC020103010901"
   ]
  },
  {
   "cell_type": "code",
   "execution_count": 3,
   "metadata": {},
   "outputs": [
    {
     "data": {
      "text/html": [
       "<div>\n",
       "<style scoped>\n",
       "    .dataframe tbody tr th:only-of-type {\n",
       "        vertical-align: middle;\n",
       "    }\n",
       "\n",
       "    .dataframe tbody tr th {\n",
       "        vertical-align: top;\n",
       "    }\n",
       "\n",
       "    .dataframe thead th {\n",
       "        text-align: right;\n",
       "    }\n",
       "</style>\n",
       "<table border=\"1\" class=\"dataframe\">\n",
       "  <thead>\n",
       "    <tr style=\"text-align: right;\">\n",
       "      <th></th>\n",
       "      <th>종목코드</th>\n",
       "      <th>종목명</th>\n",
       "      <th>상장일</th>\n",
       "      <th>분류체계</th>\n",
       "      <th>운용사</th>\n",
       "      <th>수익률(최근 1년)</th>\n",
       "      <th>기초지수</th>\n",
       "      <th>추적오차</th>\n",
       "      <th>순자산총액</th>\n",
       "      <th>괴리율</th>\n",
       "      <th>변동성</th>\n",
       "      <th>복제방법</th>\n",
       "      <th>총보수</th>\n",
       "      <th>과세유형</th>\n",
       "    </tr>\n",
       "  </thead>\n",
       "  <tbody>\n",
       "    <tr>\n",
       "      <th>0</th>\n",
       "      <td>466400</td>\n",
       "      <td>1Q 25-08 회사채(A+이상)액티브</td>\n",
       "      <td>2023/09/19</td>\n",
       "      <td>채권-회사채-단기</td>\n",
       "      <td>하나자산운용</td>\n",
       "      <td>4.52</td>\n",
       "      <td>KIS 2025-08만기형 크레딧 A+이상 지수(총수익)</td>\n",
       "      <td>0.11</td>\n",
       "      <td>111916276404</td>\n",
       "      <td>0.03</td>\n",
       "      <td>매우낮음</td>\n",
       "      <td>실물(액티브)</td>\n",
       "      <td>0.10</td>\n",
       "      <td>배당소득세(보유기간과세)</td>\n",
       "    </tr>\n",
       "    <tr>\n",
       "      <th>1</th>\n",
       "      <td>491610</td>\n",
       "      <td>1Q CD금리액티브(합성)</td>\n",
       "      <td>2024/09/24</td>\n",
       "      <td>기타</td>\n",
       "      <td>하나자산운용</td>\n",
       "      <td>0.00</td>\n",
       "      <td>KIS 하나 CD금리 총수익지수</td>\n",
       "      <td>0.05</td>\n",
       "      <td>316206006696</td>\n",
       "      <td>0.02</td>\n",
       "      <td>매우낮음</td>\n",
       "      <td>합성(액티브)</td>\n",
       "      <td>0.02</td>\n",
       "      <td>배당소득세(보유기간과세)</td>\n",
       "    </tr>\n",
       "    <tr>\n",
       "      <th>2</th>\n",
       "      <td>451060</td>\n",
       "      <td>1Q K200액티브</td>\n",
       "      <td>2023/01/31</td>\n",
       "      <td>주식-시장대표</td>\n",
       "      <td>하나자산운용</td>\n",
       "      <td>-3.66</td>\n",
       "      <td>코스피 200</td>\n",
       "      <td>0.77</td>\n",
       "      <td>99754348820</td>\n",
       "      <td>-0.01</td>\n",
       "      <td>높음</td>\n",
       "      <td>실물(액티브)</td>\n",
       "      <td>0.18</td>\n",
       "      <td>배당소득세(보유기간과세)</td>\n",
       "    </tr>\n",
       "    <tr>\n",
       "      <th>3</th>\n",
       "      <td>463290</td>\n",
       "      <td>1Q 단기금융채액티브</td>\n",
       "      <td>2023/08/03</td>\n",
       "      <td>채권-혼합-단기</td>\n",
       "      <td>하나자산운용</td>\n",
       "      <td>4.01</td>\n",
       "      <td>MK 머니마켓 지수(총수익)</td>\n",
       "      <td>0.05</td>\n",
       "      <td>252717462257</td>\n",
       "      <td>0.00</td>\n",
       "      <td>매우낮음</td>\n",
       "      <td>실물(액티브)</td>\n",
       "      <td>0.08</td>\n",
       "      <td>배당소득세(보유기간과세)</td>\n",
       "    </tr>\n",
       "    <tr>\n",
       "      <th>4</th>\n",
       "      <td>479080</td>\n",
       "      <td>1Q 머니마켓액티브</td>\n",
       "      <td>2024/04/02</td>\n",
       "      <td>채권-혼합-단기</td>\n",
       "      <td>하나자산운용</td>\n",
       "      <td>0.00</td>\n",
       "      <td>KIS-하나 MMF 지수(총수익)</td>\n",
       "      <td>0.06</td>\n",
       "      <td>308255065986</td>\n",
       "      <td>-0.01</td>\n",
       "      <td>매우낮음</td>\n",
       "      <td>실물(액티브)</td>\n",
       "      <td>0.05</td>\n",
       "      <td>배당소득세(보유기간과세)</td>\n",
       "    </tr>\n",
       "  </tbody>\n",
       "</table>\n",
       "</div>"
      ],
      "text/plain": [
       "     종목코드                    종목명         상장일       분류체계     운용사  수익률(최근 1년)  \\\n",
       "0  466400  1Q 25-08 회사채(A+이상)액티브  2023/09/19  채권-회사채-단기  하나자산운용        4.52   \n",
       "1  491610         1Q CD금리액티브(합성)  2024/09/24         기타  하나자산운용        0.00   \n",
       "2  451060             1Q K200액티브  2023/01/31    주식-시장대표  하나자산운용       -3.66   \n",
       "3  463290            1Q 단기금융채액티브  2023/08/03   채권-혼합-단기  하나자산운용        4.01   \n",
       "4  479080             1Q 머니마켓액티브  2024/04/02   채권-혼합-단기  하나자산운용        0.00   \n",
       "\n",
       "                              기초지수  추적오차         순자산총액   괴리율   변동성     복제방법  \\\n",
       "0  KIS 2025-08만기형 크레딧 A+이상 지수(총수익)  0.11  111916276404  0.03  매우낮음  실물(액티브)   \n",
       "1                KIS 하나 CD금리 총수익지수  0.05  316206006696  0.02  매우낮음  합성(액티브)   \n",
       "2                          코스피 200  0.77   99754348820 -0.01    높음  실물(액티브)   \n",
       "3                  MK 머니마켓 지수(총수익)  0.05  252717462257  0.00  매우낮음  실물(액티브)   \n",
       "4               KIS-하나 MMF 지수(총수익)  0.06  308255065986 -0.01  매우낮음  실물(액티브)   \n",
       "\n",
       "    총보수           과세유형  \n",
       "0  0.10  배당소득세(보유기간과세)  \n",
       "1  0.02  배당소득세(보유기간과세)  \n",
       "2  0.18  배당소득세(보유기간과세)  \n",
       "3  0.08  배당소득세(보유기간과세)  \n",
       "4  0.05  배당소득세(보유기간과세)  "
      ]
     },
     "execution_count": 3,
     "metadata": {},
     "output_type": "execute_result"
    }
   ],
   "source": [
    "import pandas as pd\n",
    "import numpy as np\n",
    "\n",
    "etf_list = pd.read_csv('data/etf_list.csv', encoding='cp949')\n",
    "etf_list.head()"
   ]
  },
  {
   "cell_type": "code",
   "execution_count": 4,
   "metadata": {},
   "outputs": [
    {
     "data": {
      "text/html": [
       "<div>\n",
       "<style scoped>\n",
       "    .dataframe tbody tr th:only-of-type {\n",
       "        vertical-align: middle;\n",
       "    }\n",
       "\n",
       "    .dataframe tbody tr th {\n",
       "        vertical-align: top;\n",
       "    }\n",
       "\n",
       "    .dataframe thead th {\n",
       "        text-align: right;\n",
       "    }\n",
       "</style>\n",
       "<table border=\"1\" class=\"dataframe\">\n",
       "  <thead>\n",
       "    <tr style=\"text-align: right;\">\n",
       "      <th></th>\n",
       "      <th>종목코드</th>\n",
       "      <th>종목명</th>\n",
       "      <th>상장일</th>\n",
       "      <th>분류체계</th>\n",
       "      <th>운용사</th>\n",
       "      <th>수익률(최근 1년)</th>\n",
       "      <th>기초지수</th>\n",
       "      <th>추적오차</th>\n",
       "      <th>순자산총액</th>\n",
       "      <th>괴리율</th>\n",
       "      <th>변동성</th>\n",
       "      <th>복제방법</th>\n",
       "      <th>총보수</th>\n",
       "      <th>과세유형</th>\n",
       "    </tr>\n",
       "  </thead>\n",
       "  <tbody>\n",
       "    <tr>\n",
       "      <th>925</th>\n",
       "      <td>429870</td>\n",
       "      <td>히어로즈 리츠이지스액티브</td>\n",
       "      <td>2022/05/24</td>\n",
       "      <td>부동산-리츠</td>\n",
       "      <td>키움투자자산운용</td>\n",
       "      <td>-4.51</td>\n",
       "      <td>iSelect 리츠 지수</td>\n",
       "      <td>3.07</td>\n",
       "      <td>3763127456</td>\n",
       "      <td>-0.98</td>\n",
       "      <td>낮음</td>\n",
       "      <td>실물(액티브)</td>\n",
       "      <td>0.300</td>\n",
       "      <td>배당소득세(분리과세부동산ETF)</td>\n",
       "    </tr>\n",
       "    <tr>\n",
       "      <th>926</th>\n",
       "      <td>476450</td>\n",
       "      <td>히어로즈 머니마켓액티브</td>\n",
       "      <td>2024/02/29</td>\n",
       "      <td>채권-혼합-단기</td>\n",
       "      <td>키움투자자산운용</td>\n",
       "      <td>0.00</td>\n",
       "      <td>KIS-키움 MMF지수(총수익지수)</td>\n",
       "      <td>0.06</td>\n",
       "      <td>327428123675</td>\n",
       "      <td>0.00</td>\n",
       "      <td>매우낮음</td>\n",
       "      <td>실물(액티브)</td>\n",
       "      <td>0.050</td>\n",
       "      <td>배당소득세(보유기간과세)</td>\n",
       "    </tr>\n",
       "    <tr>\n",
       "      <th>927</th>\n",
       "      <td>460270</td>\n",
       "      <td>히어로즈 미국달러SOFR금리액티브(합성)</td>\n",
       "      <td>2023/06/20</td>\n",
       "      <td>기타</td>\n",
       "      <td>키움투자자산운용</td>\n",
       "      <td>16.59</td>\n",
       "      <td>Solactive SOFR Daily Total Return Index</td>\n",
       "      <td>0.09</td>\n",
       "      <td>9885129694</td>\n",
       "      <td>-0.07</td>\n",
       "      <td>매우낮음</td>\n",
       "      <td>합성(액티브)</td>\n",
       "      <td>0.050</td>\n",
       "      <td>배당소득세(보유기간과세)</td>\n",
       "    </tr>\n",
       "    <tr>\n",
       "      <th>928</th>\n",
       "      <td>459790</td>\n",
       "      <td>히어로즈 미국성장기업30액티브</td>\n",
       "      <td>2023/06/27</td>\n",
       "      <td>주식-시장대표</td>\n",
       "      <td>키움투자자산운용</td>\n",
       "      <td>44.70</td>\n",
       "      <td>MSCI USA Index(Price Return)</td>\n",
       "      <td>6.44</td>\n",
       "      <td>13371801852</td>\n",
       "      <td>0.31</td>\n",
       "      <td>높음</td>\n",
       "      <td>실물(액티브)</td>\n",
       "      <td>0.760</td>\n",
       "      <td>배당소득세(보유기간과세)</td>\n",
       "    </tr>\n",
       "    <tr>\n",
       "      <th>929</th>\n",
       "      <td>454780</td>\n",
       "      <td>히어로즈 종합채권(AA-이상)액티브</td>\n",
       "      <td>2023/04/11</td>\n",
       "      <td>채권-혼합-중기</td>\n",
       "      <td>키움투자자산운용</td>\n",
       "      <td>7.56</td>\n",
       "      <td>KIS 종합 채권시장지수(AA-이상)(총수익지수)</td>\n",
       "      <td>0.24</td>\n",
       "      <td>338847308716</td>\n",
       "      <td>0.26</td>\n",
       "      <td>매우낮음</td>\n",
       "      <td>실물(액티브)</td>\n",
       "      <td>0.025</td>\n",
       "      <td>배당소득세(보유기간과세)</td>\n",
       "    </tr>\n",
       "  </tbody>\n",
       "</table>\n",
       "</div>"
      ],
      "text/plain": [
       "       종목코드                     종목명         상장일      분류체계       운용사  \\\n",
       "925  429870           히어로즈 리츠이지스액티브  2022/05/24    부동산-리츠  키움투자자산운용   \n",
       "926  476450            히어로즈 머니마켓액티브  2024/02/29  채권-혼합-단기  키움투자자산운용   \n",
       "927  460270  히어로즈 미국달러SOFR금리액티브(합성)  2023/06/20        기타  키움투자자산운용   \n",
       "928  459790        히어로즈 미국성장기업30액티브  2023/06/27   주식-시장대표  키움투자자산운용   \n",
       "929  454780     히어로즈 종합채권(AA-이상)액티브  2023/04/11  채권-혼합-중기  키움투자자산운용   \n",
       "\n",
       "     수익률(최근 1년)                                     기초지수  추적오차         순자산총액  \\\n",
       "925       -4.51                            iSelect 리츠 지수  3.07    3763127456   \n",
       "926        0.00                      KIS-키움 MMF지수(총수익지수)  0.06  327428123675   \n",
       "927       16.59  Solactive SOFR Daily Total Return Index  0.09    9885129694   \n",
       "928       44.70             MSCI USA Index(Price Return)  6.44   13371801852   \n",
       "929        7.56              KIS 종합 채권시장지수(AA-이상)(총수익지수)  0.24  338847308716   \n",
       "\n",
       "      괴리율   변동성     복제방법    총보수               과세유형  \n",
       "925 -0.98    낮음  실물(액티브)  0.300  배당소득세(분리과세부동산ETF)  \n",
       "926  0.00  매우낮음  실물(액티브)  0.050      배당소득세(보유기간과세)  \n",
       "927 -0.07  매우낮음  합성(액티브)  0.050      배당소득세(보유기간과세)  \n",
       "928  0.31    높음  실물(액티브)  0.760      배당소득세(보유기간과세)  \n",
       "929  0.26  매우낮음  실물(액티브)  0.025      배당소득세(보유기간과세)  "
      ]
     },
     "execution_count": 4,
     "metadata": {},
     "output_type": "execute_result"
    }
   ],
   "source": [
    "etf_list.tail()"
   ]
  },
  {
   "cell_type": "code",
   "execution_count": 5,
   "metadata": {},
   "outputs": [
    {
     "data": {
      "text/plain": [
       "(930, 14)"
      ]
     },
     "execution_count": 5,
     "metadata": {},
     "output_type": "execute_result"
    }
   ],
   "source": [
    "etf_list.shape"
   ]
  },
  {
   "cell_type": "code",
   "execution_count": 6,
   "metadata": {},
   "outputs": [
    {
     "data": {
      "text/html": [
       "<div>\n",
       "<style scoped>\n",
       "    .dataframe tbody tr th:only-of-type {\n",
       "        vertical-align: middle;\n",
       "    }\n",
       "\n",
       "    .dataframe tbody tr th {\n",
       "        vertical-align: top;\n",
       "    }\n",
       "\n",
       "    .dataframe thead th {\n",
       "        text-align: right;\n",
       "    }\n",
       "</style>\n",
       "<table border=\"1\" class=\"dataframe\">\n",
       "  <thead>\n",
       "    <tr style=\"text-align: right;\">\n",
       "      <th></th>\n",
       "      <th>종목코드</th>\n",
       "      <th>종목명</th>\n",
       "      <th>상장일</th>\n",
       "      <th>분류체계</th>\n",
       "      <th>운용사</th>\n",
       "      <th>수익률(최근 1년)</th>\n",
       "      <th>기초지수</th>\n",
       "      <th>추적오차</th>\n",
       "      <th>순자산총액</th>\n",
       "      <th>괴리율</th>\n",
       "      <th>변동성</th>\n",
       "      <th>복제방법</th>\n",
       "      <th>총보수</th>\n",
       "      <th>과세유형</th>\n",
       "    </tr>\n",
       "  </thead>\n",
       "  <tbody>\n",
       "    <tr>\n",
       "      <th>0</th>\n",
       "      <td>466400</td>\n",
       "      <td>1Q 25-08 회사채(A+이상)액티브</td>\n",
       "      <td>2023/09/19</td>\n",
       "      <td>채권-회사채-단기</td>\n",
       "      <td>하나자산운용</td>\n",
       "      <td>4.52</td>\n",
       "      <td>KIS 2025-08만기형 크레딧 A+이상 지수(총수익)</td>\n",
       "      <td>0.11</td>\n",
       "      <td>111916276404</td>\n",
       "      <td>0.03</td>\n",
       "      <td>매우낮음</td>\n",
       "      <td>실물(액티브)</td>\n",
       "      <td>0.1</td>\n",
       "      <td>배당소득세(보유기간과세)</td>\n",
       "    </tr>\n",
       "  </tbody>\n",
       "</table>\n",
       "</div>"
      ],
      "text/plain": [
       "     종목코드                    종목명         상장일       분류체계     운용사  수익률(최근 1년)  \\\n",
       "0  466400  1Q 25-08 회사채(A+이상)액티브  2023/09/19  채권-회사채-단기  하나자산운용        4.52   \n",
       "\n",
       "                              기초지수  추적오차         순자산총액   괴리율   변동성     복제방법  \\\n",
       "0  KIS 2025-08만기형 크레딧 A+이상 지수(총수익)  0.11  111916276404  0.03  매우낮음  실물(액티브)   \n",
       "\n",
       "   총보수           과세유형  \n",
       "0  0.1  배당소득세(보유기간과세)  "
      ]
     },
     "execution_count": 6,
     "metadata": {},
     "output_type": "execute_result"
    }
   ],
   "source": [
    "etf_list[etf_list['종목코드'] == '466400']"
   ]
  },
  {
   "cell_type": "code",
   "execution_count": 7,
   "metadata": {},
   "outputs": [
    {
     "data": {
      "text/plain": [
       "'https://kind.krx.co.kr/disclosure/etfisudetail.do?method=searchEtfIsuSummary&strIsurCd=45979'"
      ]
     },
     "execution_count": 7,
     "metadata": {},
     "output_type": "execute_result"
    }
   ],
   "source": [
    "strIsurCd = '45979'\n",
    "etf_url = f\"https://kind.krx.co.kr/disclosure/etfisudetail.do?method=searchEtfIsuSummary&strIsurCd={strIsurCd}\"\n",
    "\n",
    "etf_url"
   ]
  },
  {
   "cell_type": "markdown",
   "metadata": {},
   "source": [
    "## Crawl4AI\n",
    "\n",
    "- LLM, AI 에이전트, 데이터 파이프라인을 위한 **고성능 웹 크롤링** 솔루션 제공\n",
    "\n",
    "- **오픈소스** 기반으로 실시간 성능과 유연한 구현이 가능\n",
    "\n",
    "- https://github.com/unclecode/crawl4ai?tab=readme-ov-file\n",
    "\n",
    "- 설치 방법:\n",
    "    ```bash\n",
    "    # 기본 설치 - 코어 라이브러리만 설치\n",
    "    pip install crawl4ai\n",
    "\n",
    "    # 초기 설정 - Playwright 브라우저 설치 및 환경 점검\n",
    "    crawl4ai-setup\n",
    "\n",
    "    # 진단 도구 - 시스템 호환성 확인\n",
    "    crawl4ai-doctor\n",
    "    ```"
   ]
  },
  {
   "cell_type": "markdown",
   "metadata": {},
   "source": [
    "### 1) Jupyter 환경 설정\n",
    "\n",
    "- `nest_asyncio`는 Jupyter에서 이미 실행 중인 이벤트 루프 위에 중첩된 이벤트 루프를 실행할 수 있게 해주는 패키지\n",
    "\n",
    "- Jupyter Notebook 에서 asyncio 를 사용할 때, 이 코드를 실행하면 에러가 발생하지 않음 "
   ]
  },
  {
   "cell_type": "code",
   "execution_count": 8,
   "metadata": {},
   "outputs": [],
   "source": [
    "# Jupyter Notebook 에서 asyncio 를 사용할 때, 이 코드를 실행하면 에러가 발생하지 않음 (MacOS, Linux 환경)\n",
    "import nest_asyncio\n",
    "nest_asyncio.apply()"
   ]
  },
  {
   "cell_type": "code",
   "execution_count": 9,
   "metadata": {},
   "outputs": [],
   "source": [
    "# # Jupyter Notebook 에서 asyncio 를 사용할 때, 이 코드를 실행하면 에러가 발생하지 않음 (Windows용)\n",
    "import asyncio\n",
    "import sys\n",
    "\n",
    "# 이벤트 루프 정책 변경 (Windows용)\n",
    "if sys.platform == 'win32':\n",
    "    asyncio.set_event_loop_policy(asyncio.WindowsProactorEventLoopPolicy())\n",
    "    \n",
    "# 새 이벤트 루프 생성 및 설정\n",
    "loop = asyncio.new_event_loop()\n",
    "asyncio.set_event_loop(loop)\n",
    "\n",
    "# nest_asyncio 적용\n",
    "import nest_asyncio\n",
    "nest_asyncio.apply(loop)"
   ]
  },
  {
   "cell_type": "markdown",
   "metadata": {},
   "source": [
    "### 2) **기본 크롤링** \n",
    "\n",
    "- `BrowserConfig`와 `CrawlerRunConfig` 클래스 기본값 설정을 사용"
   ]
  },
  {
   "cell_type": "code",
   "execution_count": 10,
   "metadata": {},
   "outputs": [
    {
     "data": {
      "text/html": [
       "<pre style=\"white-space:pre;overflow-x:auto;line-height:normal;font-family:Menlo,'DejaVu Sans Mono',consolas,'Courier New',monospace\"><span style=\"color: #008080; text-decoration-color: #008080; font-weight: bold\">[</span><span style=\"color: #008080; text-decoration-color: #008080\">INIT</span><span style=\"color: #008080; text-decoration-color: #008080; font-weight: bold\">]</span><span style=\"color: #008080; text-decoration-color: #008080\">.... → Crawl4AI </span><span style=\"color: #008080; text-decoration-color: #008080; font-weight: bold\">0.7</span><span style=\"color: #008080; text-decoration-color: #008080\">.</span><span style=\"color: #008080; text-decoration-color: #008080; font-weight: bold\">4</span><span style=\"color: #008080; text-decoration-color: #008080\"> </span>\n",
       "</pre>\n"
      ],
      "text/plain": [
       "\u001b[1;36m[\u001b[0m\u001b[36mINIT\u001b[0m\u001b[1;36m]\u001b[0m\u001b[36m...\u001b[0m\u001b[36m. → Crawl4AI \u001b[0m\u001b[1;36m0.7\u001b[0m\u001b[36m.\u001b[0m\u001b[1;36m4\u001b[0m\u001b[36m \u001b[0m\n"
      ]
     },
     "metadata": {},
     "output_type": "display_data"
    },
    {
     "data": {
      "text/html": [
       "<pre style=\"white-space:pre;overflow-x:auto;line-height:normal;font-family:Menlo,'DejaVu Sans Mono',consolas,'Courier New',monospace\"><span style=\"color: #008000; text-decoration-color: #008000; font-weight: bold\">[</span><span style=\"color: #008000; text-decoration-color: #008000\">FETCH</span><span style=\"color: #008000; text-decoration-color: #008000; font-weight: bold\">]</span><span style=\"color: #008000; text-decoration-color: #008000\">... ↓ </span><span style=\"color: #008000; text-decoration-color: #008000; text-decoration: underline\">https://kind.krx.co.kr/disclosure/etfisudetail.do?method=searchEtfIsuSummary&amp;strIsurCd=45979</span><span style=\"color: #008000; text-decoration-color: #008000\">         |</span>\n",
       "<span style=\"color: #008000; text-decoration-color: #008000\">✓ | ⏱: </span><span style=\"color: #008000; text-decoration-color: #008000; font-weight: bold\">2.</span><span style=\"color: #008000; text-decoration-color: #008000\">67s </span>\n",
       "</pre>\n"
      ],
      "text/plain": [
       "\u001b[1;32m[\u001b[0m\u001b[32mFETCH\u001b[0m\u001b[1;32m]\u001b[0m\u001b[32m...\u001b[0m\u001b[32m ↓ \u001b[0m\u001b[4;32mhttps://kind.krx.co.kr/disclosure/etfisudetail.do?\u001b[0m\u001b[4;32mmethod\u001b[0m\u001b[4;32m=\u001b[0m\u001b[4;32msearchEtfIsuSummary\u001b[0m\u001b[4;32m&\u001b[0m\u001b[4;32mstrIsurCd\u001b[0m\u001b[4;32m=\u001b[0m\u001b[4;32m45979\u001b[0m\u001b[32m         |\u001b[0m\n",
       "\u001b[32m✓\u001b[0m\u001b[32m | ⏱: \u001b[0m\u001b[1;32m2.\u001b[0m\u001b[32m67s \u001b[0m\n"
      ]
     },
     "metadata": {},
     "output_type": "display_data"
    },
    {
     "data": {
      "text/html": [
       "<pre style=\"white-space:pre;overflow-x:auto;line-height:normal;font-family:Menlo,'DejaVu Sans Mono',consolas,'Courier New',monospace\"><span style=\"color: #008000; text-decoration-color: #008000; font-weight: bold\">[</span><span style=\"color: #008000; text-decoration-color: #008000\">SCRAPE</span><span style=\"color: #008000; text-decoration-color: #008000; font-weight: bold\">]</span><span style=\"color: #008000; text-decoration-color: #008000\">.. ◆ </span><span style=\"color: #008000; text-decoration-color: #008000; text-decoration: underline\">https://kind.krx.co.kr/disclosure/etfisudetail.do?method=searchEtfIsuSummary&amp;strIsurCd=45979</span><span style=\"color: #008000; text-decoration-color: #008000\">         |</span>\n",
       "<span style=\"color: #008000; text-decoration-color: #008000\">✓ | ⏱: </span><span style=\"color: #008000; text-decoration-color: #008000; font-weight: bold\">0.</span><span style=\"color: #008000; text-decoration-color: #008000\">01s </span>\n",
       "</pre>\n"
      ],
      "text/plain": [
       "\u001b[1;32m[\u001b[0m\u001b[32mSCRAPE\u001b[0m\u001b[1;32m]\u001b[0m\u001b[32m.. ◆ \u001b[0m\u001b[4;32mhttps://kind.krx.co.kr/disclosure/etfisudetail.do?\u001b[0m\u001b[4;32mmethod\u001b[0m\u001b[4;32m=\u001b[0m\u001b[4;32msearchEtfIsuSummary\u001b[0m\u001b[4;32m&\u001b[0m\u001b[4;32mstrIsurCd\u001b[0m\u001b[4;32m=\u001b[0m\u001b[4;32m45979\u001b[0m\u001b[32m         |\u001b[0m\n",
       "\u001b[32m✓\u001b[0m\u001b[32m | ⏱: \u001b[0m\u001b[1;32m0.\u001b[0m\u001b[32m01s \u001b[0m\n"
      ]
     },
     "metadata": {},
     "output_type": "display_data"
    },
    {
     "data": {
      "text/html": [
       "<pre style=\"white-space:pre;overflow-x:auto;line-height:normal;font-family:Menlo,'DejaVu Sans Mono',consolas,'Courier New',monospace\"><span style=\"color: #008000; text-decoration-color: #008000; font-weight: bold\">[</span><span style=\"color: #008000; text-decoration-color: #008000\">COMPLETE</span><span style=\"color: #008000; text-decoration-color: #008000; font-weight: bold\">]</span><span style=\"color: #008000; text-decoration-color: #008000\"> ● </span><span style=\"color: #008000; text-decoration-color: #008000; text-decoration: underline\">https://kind.krx.co.kr/disclosure/etfisudetail.do?method=searchEtfIsuSummary&amp;strIsurCd=45979</span><span style=\"color: #008000; text-decoration-color: #008000\">         |</span>\n",
       "<span style=\"color: #008000; text-decoration-color: #008000\">✓ | ⏱: </span><span style=\"color: #008000; text-decoration-color: #008000; font-weight: bold\">2.</span><span style=\"color: #008000; text-decoration-color: #008000\">69s </span>\n",
       "</pre>\n"
      ],
      "text/plain": [
       "\u001b[1;32m[\u001b[0m\u001b[32mCOMPLETE\u001b[0m\u001b[1;32m]\u001b[0m\u001b[32m ● \u001b[0m\u001b[4;32mhttps://kind.krx.co.kr/disclosure/etfisudetail.do?\u001b[0m\u001b[4;32mmethod\u001b[0m\u001b[4;32m=\u001b[0m\u001b[4;32msearchEtfIsuSummary\u001b[0m\u001b[4;32m&\u001b[0m\u001b[4;32mstrIsurCd\u001b[0m\u001b[4;32m=\u001b[0m\u001b[4;32m45979\u001b[0m\u001b[32m         |\u001b[0m\n",
       "\u001b[32m✓\u001b[0m\u001b[32m | ⏱: \u001b[0m\u001b[1;32m2.\u001b[0m\u001b[32m69s \u001b[0m\n"
      ]
     },
     "metadata": {},
     "output_type": "display_data"
    },
    {
     "name": "stdout",
     "output_type": "stream",
     "text": [
      "# 키움 KIWOOM 미국성장기업30액티브증권상장지수투자신탁[주식]\n",
      "  * [상품개요(ETF)](https://kind.krx.co.kr/disclosure/etfisudetail.do?method=searchEtfIsuSummary&strIsurCd=45979 \"상품개요\\(ETF\\)\")\n",
      "\n",
      "\n",
      "## 상품 개요\n",
      "목록 한글명 |  KIWOOM 미국성장기업30액티브  | 영문명 |  KIWOOM US Growth 30 Active   \n",
      "---|---|---|---  \n",
      "표준코드 |  KR7459790002  | 종목코드 |  459790   \n",
      "상장일 |  2023-06-27  | 펀드형태 |  수익증권형   \n",
      "기초지수명 |  MSCI USA Index(Price Return)  | 추적배수 |  일반 (1)   \n",
      "자산운용사 |  키움투자자산운용(주)  | 지정참가회사(AP) |  키움증권, 삼성증권, DB금융투자   \n",
      "총보수(%) |  0.76  | 회계기간 |  매년 1월 1일부터 12월 31일까지. 단, 최초 회계기간은 최초설정일로부터 당해연도 12월 31일까지   \n",
      "과세유형 |  배당소득세(보유기간과세)  | 분배금 지급일 |  1월, 4월, 7월, 10월 마지막 영업일 및 회계기간 종료일(다만, 회계기간 종료일이 영업일이 아닌 경우 그 직전 영업일)   \n",
      "홈페이지 |  <http://www.kosef.co.kr>  \n",
      "## 유형 정보\n",
      "목록 기초 시장 |  (해외)   \n",
      "(북미)   \n",
      "(미국)  | 기초 자산 |  (주식)   \n",
      "(시장대표) / (-)   \n",
      "(-) / (-)   \n",
      "---|---|---|---  \n",
      "## 상품 설명\n",
      "목록 기본 정보 |  ```\n",
      "1. 이 투자신탁은 해외 주식을 주된 투자대상으로 하며, MSCI에서 산출 및 발표하는 “MSCI USA Index(Price Return)(원화환산)”를 비교지수로 하여 1좌당 순자산가치의 변동률이 비교지수의 변동률을 초과하도록 운용하는 것을 목적으로 합니다.  \n",
      "\n",
      "2. 이 투자신탁은 액티브상장지수펀드로서 비교지수의 구성종목인 해외 주식에 투자신탁재산의 60% 이상을 투자하며, 투자목석 달성을 위하여 비교지수 이외의 종목에도 투자할 수 있습니다. 향후 글로벌 산업 성장을 이끌어갈 성장 테마 내에서 구조적 성장세를 보이는 미국 주요 산업의 핵심 종목 30개 내외를 선정하여 포트폴리오를 구성할 예정입니다.\n",
      "\n",
      "3. 이 투자신탁은 환율변동으로 인한 투자신탁재산의 위험을 방지하기 위한 환헤지 전략을 실행하지 아니할 계획입니다. 따라서, 이 투자신탁은 환율변동위험에 노출됩니다. \n",
      "```\n",
      "  \n",
      "---|---  \n",
      "투자유의사항 |  ```\n",
      "1. 이 ETF의 수익률은 보수 또는 비용 등 이 ETF의 순자산가치에 부의 영향을 미치는 다양한 이유로 인하여 기초지수 수익률과 괴리(추적오차)가 발생할 수 있습니다.\n",
      "\n",
      "2. 개인투자자는 보유 ETF를 거래소에서 매도하는 방법으로만 현금화가 가능하므로 보유수익증권을 판매회사 또는 지정참가회사에 환매 신청할 수 없으며, 거래소의 거래 상황에 따라 동 ETF의 순자산가치와 거래가격이 다르게 형성될 수 있습니다.\n",
      "```\n",
      "  \n",
      "[닫 기](https://kind.krx.co.kr/disclosure/etfisudetail.do?method=searchEtfIsuSummary&strIsurCd=45979#myclose \"닫기\")\n",
      "  * ![유가증권](https://kind.krx.co.kr/images/common/icn_t_yu.gif) 유가증권 \n",
      "  * ![코스닥](https://kind.krx.co.kr/images/common/icn_t_ko.gif) 코스닥 \n",
      "  * ![코넥스](https://kind.krx.co.kr/images/common/icn_t_konex.gif) 코넥스 \n",
      "  * ![관리종목](https://kind.krx.co.kr/images/common/icn_t_kwan.gif) 관리종목 \n",
      "  * ![투자주의환기종목](https://kind.krx.co.kr/images/common/icn_t_hwan.gif) 투자주의환기종목 \n",
      "  * ![불성실공시법인](https://kind.krx.co.kr/images/common/icn_t_bul.gif) 불성실공시법인 \n",
      "  * ![폐지법인](https://kind.krx.co.kr/images/common/icn_t_pe.gif) 폐지법인 \n",
      "  * ![코리아밸류업](https://kind.krx.co.kr/images/common/icn_t_v100.gif) 코리아밸류업 \n",
      "  * ![KOSPI200](https://kind.krx.co.kr/images/common/icn_t_k200.gif) KOSPI200 \n",
      "  * ![KOSDAQ150](https://kind.krx.co.kr/images/common/icn_t_q150.gif) KOSDAQ150 \n",
      "  * ![KRX300](https://kind.krx.co.kr/images/common/icn_t_x300.gif) KRX300 \n",
      "  * ![KTOP30](https://kind.krx.co.kr/images/common/icn_t_ktop.gif) KTOP30 \n",
      "  * ![정정있음](https://kind.krx.co.kr/images/common/icn_t_jung.gif) 정정있음 \n",
      "  * ![투자주의](https://kind.krx.co.kr/images/common/icn_t_joo.gif) 투자주의 \n",
      "  * ![투자경고](https://kind.krx.co.kr/images/common/icn_t_kyung.gif) 투자경고 \n",
      "  * ![투자위험](https://kind.krx.co.kr/images/common/icn_t_wii.gif) 투자위험 \n",
      "\n",
      "![](https://kind.krx.co.kr/images/common/icn_tbox_tl.png) ![](https://kind.krx.co.kr/images/common/icn_tbox_bl.gif) ![](https://kind.krx.co.kr/images/common/icn_tbox_tr.gif) ![](https://kind.krx.co.kr/images/common/icn_tbox_br.gif)\n",
      "자료를 조회 중입니다.[close](https://kind.krx.co.kr/disclosure/etfisudetail.do?method=searchEtfIsuSummary&strIsurCd=45979)\n",
      "![](https://kind.krx.co.kr/images/loader/ajax-loader01.gif)\n",
      "\n"
     ]
    }
   ],
   "source": [
    "import asyncio\n",
    "from crawl4ai import AsyncWebCrawler, BrowserConfig, CrawlerRunConfig\n",
    "\n",
    "async def main():\n",
    "    \"\"\" \n",
    "    크롤링 실행 함수\n",
    "    \"\"\"\n",
    "    browser_config = BrowserConfig()  # 브라우저 설정\n",
    "    run_config = CrawlerRunConfig()   # 크롤러 실행 설정\n",
    "\n",
    "    async with AsyncWebCrawler(config=browser_config) as crawler:   # 크롤러 객체 생성\n",
    "        result = await crawler.arun(\n",
    "            url=etf_url,\n",
    "            config=run_config   # 크롤러 실행 설정\n",
    "        )\n",
    "        \n",
    "    return result\n",
    "\n",
    "\n",
    "# 크롤링 실행 및 결과 출력\n",
    "# result = asyncio.run(main())  # loop.run_until_complete() 사용\n",
    "result = loop.run_until_complete(main())  # 새 이벤트 루프에서 실행\n",
    "print(result.markdown)  # 크롤링 결과 (정제된 markdown 출력)"
   ]
  },
  {
   "cell_type": "markdown",
   "metadata": {},
   "source": [
    "### 3) **CrawlResult 응답 객체** \n",
    "\n",
    "- 크롤링된 URL, HTML, 성공 여부 등 기본 정보 포함\n",
    "\n",
    "- **cleaned_html**와 **markdown** 필드로 정제된 데이터 접근 가능\n",
    "\n",
    "- **extracted_content**를 통해 구조화된 형태의 추출 데이터 확인"
   ]
  },
  {
   "cell_type": "code",
   "execution_count": 11,
   "metadata": {},
   "outputs": [
    {
     "data": {
      "text/plain": [
       "{'url': 'https://kind.krx.co.kr/disclosure/etfisudetail.do?method=searchEtfIsuSummary&strIsurCd=45979',\n",
       " 'html': '<!DOCTYPE html><html lang=\"ko\"><head>\\n<meta http-equiv=\"X-UA-Compatible\" content=\"IE=edge\">\\n<meta http-equiv=\"content-type\" content=\"text/html; charset=utf-8\">\\n<meta http-equiv=\"content-language\" content=\"kr\">\\n<meta http-equiv=\"content-style-type\" content=\"text/css\">\\n<meta http-equiv=\"pragma\" content=\"no-cache\">\\n<meta http-equiv=\"cache-control\" content=\"no-cache\">\\n<meta http-equiv=\"imagetoolbar\" content=\"no\">\\n<meta name=\"copyright\" content=\"(c)2012\">\\n<meta name=\"description\" content=\"대한민국 대표 기업공시채널 KIND\">\\n<meta name=\"keywords\" content=\"대한민국 대표 기업공시채널 KIND\">\\n<title>대한민국 대표 기업공시채널 KIND</title>\\n<link rel=\"stylesheet\" type=\"text/css\" href=\"../js/jquery/themes-base/jquery-ui.min.css\" media=\"all\">\\n<link rel=\"stylesheet\" type=\"text/css\" href=\"../css/default_new.css\" media=\"all\">\\n<link rel=\"stylesheet\" type=\"text/css\" href=\"../css/common.css?version=20240531\" media=\"all\">\\n<link rel=\"stylesheet\" type=\"text/css\" href=\"../css/popup.css\" media=\"all\">\\n<!--[if lt IE 9]>\\n<script type=\"text/javascript\" src=\"../js/html5shiv.js\"></script>\\n<![endif]-->\\n<script type=\"text/javascript\" src=\"../js/trans.js\"></script>\\n<script type=\"text/javascript\" src=\"../js/jquery/jquery.js\"></script>\\n<script type=\"text/javascript\" src=\"../js/jquery/jquery-ui.min.js\"></script>\\n<script type=\"text/javascript\" src=\"../js/common.js\"></script>\\n<script type=\"text/javascript\" src=\"../js/common-pop.js?version=20220624\"></script>\\n<script type=\"text/javascript\" src=\"../js/common-ajax.js\"></script>\\n<script type=\"text/javascript\" src=\"../js/JCommon.js\"></script>\\n\\n</head>\\n<body class=\"pop\">\\n\\n<header class=\"popup\">\\n<h1 class=\"ttl type-99\" id=\"title\">키움 KIWOOM 미국성장기업30액티브증권상장지수투자신탁[주식]</h1>\\n</header>\\n\\n\\n\\n\\n\\n\\n<form id=\"searchForm\" name=\"searchForm\" method=\"post\">\\n<input type=\"hidden\" id=\"method\" name=\"method\" value=\"searchEftIsuDetail\">\\n<input type=\"hidden\" id=\"menuIndex\" name=\"menuIndex\" value=\"0\">\\n<input type=\"hidden\" id=\"isuCd\" name=\"isuCd\" value=\"KR7459790002\">\\n<input type=\"hidden\" id=\"isuKorNm\" name=\"isuKorNm\" value=\"키움 KIWOOM 미국성장기업30액티브증권상장지수투자신탁[주식]\">\\n<input type=\"hidden\" id=\"isSynthEtf\" name=\"isSynthEtf\" value=\"N\">\\n\\n<section class=\"contents popup2\">\\n\\t<nav class=\"tabgroup type-00 mt20\">\\n\\t\\t<ul>\\n\\t\\t\\t<li id=\"tabName\" onclick=\"fnTabMenu(\\'0\\');\" class=\"first active\"><a href=\"#\" title=\"상품개요(ETF)\"><span>상품개요(ETF)</span></a></li>\\n\\t\\t</ul>\\n\\t\\t<div class=\"clear\"></div>\\n\\t</nav>\\n\\t<div class=\"tabzone\" id=\"tab-contents\">\\n\\n\\n\\n\\n\\n<input type=\"hidden\" id=\"comAbbrv\" name=\"comAbbrv\" value=\"\">\\n\\n\\n<hgroup class=\"title type-02 mt10\">\\n\\t<h2>상품 개요</h2>\\n</hgroup>\\n\\n<table class=\"detail type-00\" summary=\"한글명, 영문명, 표준코드, 종목코드, 상장일, 펀드형태, 기초지수명, 추적배수, 자산운용사, 지정참가회사(AP), 총보수(%), 회계기간, 과세유형, 분배금 지급일, 홈페이지\">\\n\\t<caption>목록</caption>\\n\\t<colgroup>\\n\\t\\t<col width=\"15%\">\\n\\t\\t<col width=\"30%\">\\n\\t\\t<col width=\"15%\">\\n\\t\\t<col width=\"*\">\\n\\t</colgroup>\\n\\t<tbody>\\n\\t\\t<tr>\\n\\t\\t\\t<th scope=\"row\">한글명</th>\\n\\t\\t\\t<td>\\n\\t\\t\\t\\t\\n\\t\\t\\t\\t\\tKIWOOM 미국성장기업30액티브\\n\\t\\t\\t\\t\\t\\n\\t\\t\\t\\t\\t\\t\\t\\t\\n\\t\\t\\t</td>\\n\\t\\t\\t<th scope=\"row\">영문명</th>\\n\\t\\t\\t<td>\\n\\t\\t\\t\\t\\n\\t\\t\\t\\t\\tKIWOOM US Growth 30 Active\\n\\t\\t\\t\\t\\t\\n\\t\\t\\t\\t\\n\\t\\t\\t</td>\\n\\t\\t</tr>\\n\\t\\t<tr>\\n\\t\\t\\t<th scope=\"row\">표준코드</th>\\n\\t\\t\\t<td>\\n\\t\\t\\t\\t\\n\\t\\t\\t\\t\\tKR7459790002\\n\\t\\t\\t\\t\\t\\n\\t\\t\\t\\t\\n\\t\\t\\t</td>\\n\\t\\t\\t<th scope=\"row\">종목코드</th>\\n\\t\\t\\t<td>\\n\\t\\t\\t\\t\\n\\t\\t\\t\\t\\t459790\\n\\t\\t\\t\\t\\t\\n\\t\\t\\t\\t\\n\\t\\t\\t</td>\\n\\t\\t</tr>\\n\\t\\t<tr>\\n\\t\\t\\t<th scope=\"row\">상장일</th>\\n\\t\\t\\t<td>\\n\\t\\t\\t\\t\\n\\t\\t\\t\\t\\t2023-06-27\\n\\t\\t\\t\\t\\t\\n\\t\\t\\t\\t\\n\\t\\t\\t</td>\\n\\t\\t\\t<th scope=\"row\">펀드형태</th>\\n\\t\\t\\t<td>\\n\\t\\t\\t\\t\\n\\t\\t\\t\\t\\t수익증권형\\n\\t\\t\\t\\t\\t\\n\\t\\t\\t\\t\\n\\t\\t\\t</td>\\t\\t\\t\\n\\t\\t</tr>\\n\\t\\t<tr>\\n\\t\\t\\t<th scope=\"row\">기초지수명</th>\\n\\t\\t\\t<td>\\n\\t\\t\\t\\t\\n\\t\\t\\t\\t\\tMSCI USA Index(Price Return)\\n\\t\\t\\t\\t\\t\\n\\t\\t\\t\\t\\n\\t\\t\\t</td>\\n\\t\\t\\t<th scope=\"row\">추적배수</th>\\n\\t\\t\\t<td>\\n\\t\\t\\t\\t\\n\\t\\t\\t\\t\\t일반 (1)\\n\\t\\t\\t\\t\\t\\n\\t\\t\\t\\t\\n\\t\\t\\t</td>\\t\\t\\t\\n\\t\\t</tr>\\n\\t\\t<tr>\\n\\t\\t\\t<th scope=\"row\">자산운용사</th>\\n\\t\\t\\t<td>\\n\\t\\t\\t\\t\\n\\t\\t\\t\\t\\t키움투자자산운용(주)\\n\\t\\t\\t\\t\\t\\n\\t\\t\\t\\t\\n\\t\\t\\t</td>\\n\\t\\t\\t<th scope=\"row\">지정참가회사(AP)</th>\\n\\t\\t\\t<td>\\n\\t\\t\\t\\t\\n\\t\\t\\t\\t\\t키움증권, 삼성증권, DB금융투자\\n\\t\\t\\t\\t\\t\\n\\t\\t\\t\\t\\n\\t\\t\\t</td>\\t\\t\\t\\n\\t\\t</tr>\\n\\t\\t<tr>\\n\\t\\t\\t<th scope=\"row\">총보수(%)</th>\\n\\t\\t\\t<td class=\"txr\">\\n\\t\\t\\t\\t\\n\\t\\t\\t\\t\\t0.76\\n\\t\\t\\t\\t\\t\\n\\t\\t\\t\\t\\n\\t\\t\\t</td>\\n\\t\\t\\t<th scope=\"row\">회계기간</th>\\n\\t\\t\\t<td>\\n\\t\\t\\t\\t\\n\\t\\t\\t\\t\\t매년 1월 1일부터 12월 31일까지. 단, 최초 회계기간은 최초설정일로부터 당해연도 12월 31일까지\\n\\t\\t\\t\\t\\t\\n\\t\\t\\t\\t\\n\\t\\t\\t</td>\\n\\t\\t</tr>\\n\\t\\t<tr>\\n\\t\\t\\t<th scope=\"row\">과세유형</th>\\n\\t\\t\\t<td>\\n\\t\\t\\t\\t\\n\\t\\t\\t\\t\\t배당소득세(보유기간과세)\\n\\t\\t\\t\\t\\t\\n\\t\\t\\t\\t\\n\\t\\t\\t</td>\\n\\t\\t\\t<th scope=\"row\">분배금 지급일</th>\\n\\t\\t\\t<td>\\n\\t\\t\\t\\t\\n\\t\\t\\t\\t\\t1월, 4월, 7월, 10월 마지막 영업일 및 회계기간 종료일(다만, 회계기간 종료일이 영업일이 아닌 경우 그 직전 영업일)\\n\\t\\t\\t\\t\\t\\n\\t\\t\\t\\t\\n\\t\\t\\t</td>\\n\\t\\t</tr>\\t\\t\\t\\n\\t\\t<tr>\\n\\t\\t\\t<th scope=\"row\">홈페이지</th>\\n\\t\\t\\t<td colspan=\"3\">\\n\\t\\t\\t\\t\\n\\t\\t\\t\\t\\t<a href=\"http://www.kosef.co.kr\" target=\"_blank\" title=\"새창\">http://www.kosef.co.kr</a>\\n\\t\\t\\t\\t\\t\\n\\t\\t\\t\\t\\n\\t\\t\\t</td>\\n\\t\\t</tr>\\n\\t</tbody>\\n</table>\\n\\n\\n\\n<hgroup class=\"title type-02 mt10 fleft\">\\n\\t<h2>유형 정보</h2>\\n</hgroup>\\n\\n<table class=\"detail type-00\" summary=\"기초 시장, 기초 자산\">\\n\\t<caption>목록</caption>\\n\\t<colgroup>\\n\\t\\t<col width=\"15%\">\\n\\t\\t<col width=\"*\">\\n\\t\\t<col width=\"15%\">\\n\\t\\t<col width=\"*\">\\n\\t</colgroup>\\n\\t<tbody>\\n\\t\\t<tr>\\n\\t\\t\\t<th scope=\"row\">기초 시장</th>\\n\\t\\t\\t<td>\\n\\t\\t\\t\\t\\n\\t\\t\\t\\t\\t\\n\\t\\t\\t\\t\\t\\t(해외) <br> (북미) <br> (미국)\\n\\t\\t\\t\\t\\t\\n\\t\\t\\t\\t\\t\\n\\t\\t\\t\\t\\t\\t\\t\\n\\t\\t\\t</td>\\n\\t\\t\\t<th scope=\"row\">기초 자산</th>\\n\\t\\t\\t<td>\\n\\t\\t\\t\\t\\n\\t\\t\\t\\t\\t\\n\\t\\t\\t\\t\\t\\t(주식) <br> (시장대표) / (-)  <br> (-) / (-) \\n\\t\\t\\t\\t\\t\\n\\t\\t\\t\\t\\t\\n\\t\\t\\t\\t\\t\\t\\t\\t\\n\\t\\t\\t</td>\\n\\t\\t</tr>\\n\\t</tbody>\\n</table>\\n\\n\\n<hgroup class=\"title type-02 mt10 fleft\">\\n\\t<h2>상품 설명</h2>\\n</hgroup>\\n\\n<table class=\"detail type-00\" summary=\"기본 정보, 투자유의사항\">\\n\\t<caption>목록</caption>\\n\\t<colgroup>\\n\\t\\t<col width=\"15%\">\\n\\t\\t<col width=\"*\">\\n\\t</colgroup>\\n\\t<tbody>\\n\\t\\t<tr>\\n\\t\\t\\t<th scope=\"row\">기본 정보</th>\\n\\t\\t\\t<td>\\n\\t\\t\\t\\t<article class=\"scrarea type-03\" style=\"height:150px;\">\\n\\t\\t\\t\\t\\t<pre>1. 이 투자신탁은 해외 주식을 주된 투자대상으로 하며, MSCI에서 산출 및 발표하는 “MSCI USA Index(Price Return)(원화환산)”를 비교지수로 하여 1좌당 순자산가치의 변동률이 비교지수의 변동률을 초과하도록 운용하는 것을 목적으로 합니다.  \\n\\n2. 이 투자신탁은 액티브상장지수펀드로서 비교지수의 구성종목인 해외 주식에 투자신탁재산의 60% 이상을 투자하며, 투자목석 달성을 위하여 비교지수 이외의 종목에도 투자할 수 있습니다. 향후 글로벌 산업 성장을 이끌어갈 성장 테마 내에서 구조적 성장세를 보이는 미국 주요 산업의 핵심 종목 30개 내외를 선정하여 포트폴리오를 구성할 예정입니다.\\n\\n3. 이 투자신탁은 환율변동으로 인한 투자신탁재산의 위험을 방지하기 위한 환헤지 전략을 실행하지 아니할 계획입니다. 따라서, 이 투자신탁은 환율변동위험에 노출됩니다. </pre>\\n\\t\\t\\t\\t</article>\\n\\t\\t\\t</td>\\n\\t\\t</tr>\\n\\t\\t<tr>\\n\\t\\t\\t<th scope=\"row\">투자유의사항</th>\\n\\t\\t\\t<td>\\n\\t\\t\\t\\t<article class=\"scrarea type-03\" style=\"height:150px;\">\\n\\t\\t\\t\\t\\t<pre>1. 이 ETF의 수익률은 보수 또는 비용 등 이 ETF의 순자산가치에 부의 영향을 미치는 다양한 이유로 인하여 기초지수 수익률과 괴리(추적오차)가 발생할 수 있습니다.\\n\\n2. 개인투자자는 보유 ETF를 거래소에서 매도하는 방법으로만 현금화가 가능하므로 보유수익증권을 판매회사 또는 지정참가회사에 환매 신청할 수 없으며, 거래소의 거래 상황에 따라 동 ETF의 순자산가치와 거래가격이 다르게 형성될 수 있습니다.</pre>\\n\\t\\t\\t\\t</article>\\n\\t\\t\\t</td>\\n\\t\\t</tr>\\n\\t</tbody>\\n</table>\\n</div>\\n</section>\\n</form>\\n\\n<script type=\"text/JavaScript\">\\n<!--\\n$(document).ready(function(){\\n\\t$(document).find(\\'h1[id=title]\\').empty().append($(\"#searchForm\").find(\\'input:hidden[name=isuKorNm]\\').val());\\n\\tfnInit();\\n});\\n\\nfunction fnPopClose() {\\n\\twindow.close();\\n}\\n\\n//초기 로딩시\\nfunction fnInit(){\\n\\tfnTabMenu(\"0\");\\n}\\n\\n//상단 메뉴텝 클릭시 이미지 변경해 주는 스크립트\\nfunction fnTabMenu(menuIdx){\\n\\t$(document).find(\"li[id=tabName]\").each(function(index){\\n\\t\\tif($(this).hasClass(\"active\")) {\\n\\t\\t\\t$(this).removeClass(\"active\");\\n\\t\\t}\\n\\n\\t\\tif(index == menuIdx) {\\n\\t\\t\\t$(this).addClass(\"active\");\\n\\t\\t}\\n\\t});\\n\\n\\t$(\"#searchForm > #menuIndex\").val(menuIdx);\\n\\t\\n\\t//서브메뉴 조회\\n\\tfnSearch();\\n}\\n\\n//최종검색루틴\\nfunction fnSearch() {\\n\\n\\tvar\\t\\tvMenuIndex = $(\"#searchForm > #menuIndex\").val();\\n\\tvar\\t\\tvMethod = \"\";\\n\\tif(vMenuIndex == \"0\") {\\n\\t\\tvMethod = \"searchEftIsuDetail\";\\t//상품개요(ETF)\\n\\t} else {\\n\\t\\treturn;\\n\\t}\\n\\n\\t$(\"#searchForm > #method\").val(vMethod);\\n\\t$(\"#searchForm\").ajaxSubmit({\\n\\t\\t  ajaxUrl : \\'/disclosure/etfisudetail.do\\'\\n\\t\\t, ajaxCallBack: fnSearchCallBack\\n\\t});\\n\\n}\\n\\nfunction fnSearchCallBack(data){\\n\\t$(\"#tab-contents\").empty().append(data);\\n}\\n//-->\\n</script>\\n\\n<footer class=\"popup\">\\n\\t<div class=\"btn-group type-98\">\\n\\t\\t<a href=\"#myclose\" title=\"닫기\" onclick=\"fnPopClose(); return false;\" class=\"btn-sprite type-98 vmiddle\"><span>닫 기</span></a>\\n\\t</div>\\n</footer>\\n\\n<!-- 범례 START -->\\n\\n    \\n<div style=\"position:absolute; display:none\" id=\"marketSection\">\\n\\t<section class=\"icn_tbox\" style=\"width:400px;top:-30px; left:10px\">\\n\\t\\t<ul>\\n\\t\\t\\t<li>\\n\\t\\t\\t\\t<img src=\"../images/common/icn_t_yu.gif\" class=\"vmiddle\" alt=\"유가증권\"> 유가증권\\n\\t\\t\\t</li>\\n\\t\\t\\t<li>\\n\\t\\t\\t\\t<img src=\"../images/common/icn_t_ko.gif\" class=\"vmiddle\" alt=\"코스닥\"> 코스닥\\n\\t\\t\\t</li>\\n\\t\\t\\t<li>\\n\\t\\t\\t\\t<img src=\"../images/common/icn_t_konex.gif\" class=\"vmiddle\" alt=\"코넥스\"> 코넥스\\n\\t\\t\\t</li>\\n\\t\\t\\t<li>\\n\\t\\t\\t\\t<img src=\"../images/common/icn_t_kwan.gif\" class=\"vmiddle\" alt=\"관리종목\"> 관리종목\\n\\t\\t\\t</li>\\n\\t\\t\\t<li>\\n\\t\\t\\t\\t<img src=\"../images/common/icn_t_hwan.gif\" class=\"vmiddle\" alt=\"투자주의환기종목\"> 투자주의환기종목\\n\\t\\t\\t</li>\\n\\t\\t\\t<li>\\n\\t\\t\\t\\t<img src=\"../images/common/icn_t_bul.gif\" class=\"vmiddle\" alt=\"불성실공시법인\"> 불성실공시법인\\n\\t\\t\\t</li>\\n\\t\\t\\t<li>\\n\\t\\t\\t\\t<img src=\"../images/common/icn_t_pe.gif\" class=\"vmiddle\" alt=\"폐지법인\"> 폐지법인\\n\\t\\t\\t</li>\\n\\t\\t\\t<li>\\n\\t\\t\\t\\t<img src=\"../images/common/icn_t_v100.gif\" class=\"vmiddle\" alt=\"코리아밸류업\"> 코리아밸류업\\n\\t\\t\\t</li>\\n\\t\\t\\t<li>\\n\\t\\t\\t\\t<img src=\"../images/common/icn_t_k200.gif\" class=\"vmiddle\" alt=\"KOSPI200\"> KOSPI200\\n\\t\\t\\t</li>\\n\\t\\t\\t<li>\\n\\t\\t\\t\\t<img src=\"../images/common/icn_t_q150.gif\" class=\"vmiddle\" alt=\"KOSDAQ150\"> KOSDAQ150\\n\\t\\t\\t</li>\\n\\t\\t\\t<li>\\n\\t\\t\\t\\t<img src=\"../images/common/icn_t_x300.gif\" class=\"vmiddle\" alt=\"KRX300\"> KRX300\\n\\t\\t\\t</li>\\n\\t\\t\\t<li>\\n\\t\\t\\t\\t<img src=\"../images/common/icn_t_ktop.gif\" class=\"vmiddle\" alt=\"KTOP30\"> KTOP30\\n\\t\\t\\t</li>\\n\\t\\t\\t<li>\\n\\t\\t\\t\\t<img src=\"../images/common/icn_t_jung.gif\" class=\"vmiddle\" alt=\"정정있음\"> 정정있음\\n\\t\\t\\t</li>\\n\\t\\t\\t<li>\\n\\t\\t\\t\\t<img src=\"../images/common/icn_t_joo.gif\" class=\"vmiddle\" alt=\"투자주의\"> 투자주의\\n\\t\\t\\t</li>\\n\\t\\t\\t<li>\\n\\t\\t\\t\\t<img src=\"../images/common/icn_t_kyung.gif\" class=\"vmiddle\" alt=\"투자경고\"> 투자경고\\n\\t\\t\\t</li>\\n\\t\\t\\t<li>\\n\\t\\t\\t\\t<img src=\"../images/common/icn_t_wii.gif\" class=\"vmiddle\" alt=\"투자위험\"> 투자위험\\n\\t\\t\\t</li>\\n\\t\\t</ul>\\n\\t\\t<div class=\"clear\"></div>\\n\\t\\t<img src=\"../images/common/icn_tbox_tl.png\" class=\"tl\" alt=\"\">\\n\\t\\t<img src=\"../images/common/icn_tbox_bl.gif\" class=\"bl\" alt=\"\">\\n\\t\\t<img src=\"../images/common/icn_tbox_tr.gif\" class=\"tr\" alt=\"\">\\n\\t\\t<img src=\"../images/common/icn_tbox_br.gif\" class=\"br\" alt=\"\">\\n\\t\\t<div class=\"tm\"></div>\\n\\t\\t<div class=\"lm\"></div>\\n\\t\\t<div class=\"bm\"></div>\\n\\t\\t<div class=\"rm\"></div>\\t\\t\\n\\t</section>\\n</div>\\n<!-- 범례 END -->\\n\\n\\n\\n\\n<div class=\"ui-dialog ui-widget ui-widget-content ui-corner-all\" tabindex=\"-1\" role=\"dialog\" aria-labelledby=\"ui-id-1\" style=\"outline: 0px; z-index: 1002; height: auto; width: 300px; top: 250px; left: 385.5px; display: none;\"><div class=\"ui-dialog-titlebar ui-widget-header ui-corner-all ui-helper-clearfix\"><span id=\"ui-id-1\" class=\"ui-dialog-title\">자료를 조회 중입니다.</span><a href=\"#\" class=\"ui-dialog-titlebar-close ui-corner-all\" role=\"button\"><span class=\"ui-icon ui-icon-closethick\">close</span></a></div><div id=\"dialog-loading\" class=\"loading ui-dialog-content ui-widget-content\" style=\"width: auto; min-height: 0px; height: 42px;\" scrolltop=\"0\" scrollleft=\"0\">\\n\\t<span>\\n\\t\\t<img src=\"/images/loader/ajax-loader01.gif\" width=\"128\" height=\"15\">\\n\\t</span>\\n</div></div></body></html>',\n",
       " 'fit_html': '<html lang=\"ko\"><body class=\"pop\">\\n\\n<header class=\"popup\"><h1 class=\"ttl type-99\" id=\"title\">키움 KIWOOM 미국성장기업30액티브증권상장지수투자신탁[주식]</h1>\\n</header><form id=\"searchForm\" name=\"searchForm\">\\n<input type=\"hidden\" id=\"method\" name=\"method\" value=\"searchEftIsuDetail\"><input type=\"hidden\" id=\"menuIndex\" name=\"menuIndex\" value=\"0\"><input type=\"hidden\" id=\"isuCd\" name=\"isuCd\" value=\"KR7459790002\"><input type=\"hidden\" id=\"isuKorNm\" name=\"isuKorNm\" value=\"키움 KIWOOM 미국성장기업30액티브증권상장지수투자신탁[주식]\"><input type=\"hidden\" id=\"isSynthEtf\" name=\"isSynthEtf\" value=\"N\"><section class=\"contents popup2\"><nav class=\"tabgroup type-00 mt20\"><ul><li id=\"tabName\" class=\"first active\"><a><span>상품개요(ETF)</span></a></li>\\n\\t\\t</ul><div class=\"clear\"></div>\\n\\t</nav><div class=\"tabzone\" id=\"tab-contents\">\\n\\n\\n\\n\\n\\n<input type=\"hidden\" id=\"comAbbrv\" name=\"comAbbrv\" value=\"\"><hgroup class=\"title type-02 mt10\"><h2>상품 개요</h2>\\n</hgroup><table class=\"detail type-00\"><caption>목록</caption>\\n\\t<colgroup><col><col><col><col></colgroup><tbody><tr><th>한글명</th>\\n\\t\\t\\t<td>\\n\\t\\t\\t\\t\\n\\t\\t\\t\\t\\tKIWOOM 미국성장기업30액티브\\n\\t\\t\\t\\t\\t\\n\\t\\t\\t\\t\\t\\t\\t\\t\\n\\t\\t\\t</td>\\n\\t\\t\\t<th>영문명</th>\\n\\t\\t\\t<td>\\n\\t\\t\\t\\t\\n\\t\\t\\t\\t\\tKIWOOM US Growth 30 Active\\n\\t\\t\\t\\t\\t\\n\\t\\t\\t\\t\\n\\t\\t\\t</td>\\n\\t\\t</tr><tr><th>표준코드</th>\\n\\t\\t\\t<td>\\n\\t\\t\\t\\t\\n\\t\\t\\t\\t\\tKR7459790002\\n\\t\\t\\t\\t\\t\\n\\t\\t\\t\\t\\n\\t\\t\\t</td>\\n\\t\\t\\t<th>종목코드</th>\\n\\t\\t\\t<td>\\n\\t\\t\\t\\t\\n\\t\\t\\t\\t\\t459790\\n\\t\\t\\t\\t\\t\\n\\t\\t\\t\\t\\n\\t\\t\\t</td>\\n\\t\\t</tr><tr><th>상장일</th>\\n\\t\\t\\t<td>\\n\\t\\t\\t\\t\\n\\t\\t\\t\\t\\t2023-06-27\\n\\t\\t\\t\\t\\t\\n\\t\\t\\t\\t\\n\\t\\t\\t</td>\\n\\t\\t\\t<th>펀드형태</th>\\n\\t\\t\\t<td>\\n\\t\\t\\t\\t\\n\\t\\t\\t\\t\\t수익증권형\\n\\t\\t\\t\\t\\t\\n\\t\\t\\t\\t\\n\\t\\t\\t</td>\\t\\t\\t\\n\\t\\t</tr><tr><th>기초지수명</th>\\n\\t\\t\\t<td>\\n\\t\\t\\t\\t\\n\\t\\t\\t\\t\\tMSCI USA Index(Price Return)\\n\\t\\t\\t\\t\\t\\n\\t\\t\\t\\t\\n\\t\\t\\t</td>\\n\\t\\t\\t<th>추적배수</th>\\n\\t\\t\\t<td>\\n\\t\\t\\t\\t\\n\\t\\t\\t\\t\\t일반 (1)\\n\\t\\t\\t\\t\\t\\n\\t\\t\\t\\t\\n\\t\\t\\t</td>\\t\\t\\t\\n\\t\\t</tr><tr><th>자산운용사</th>\\n\\t\\t\\t<td>\\n\\t\\t\\t\\t\\n\\t\\t\\t\\t\\t키움투자자산운용(주)\\n\\t\\t\\t\\t\\t\\n\\t\\t\\t\\t\\n\\t\\t\\t</td>\\n\\t\\t\\t<th>지정참가회사(AP)</th>\\n\\t\\t\\t<td>\\n\\t\\t\\t\\t\\n\\t\\t\\t\\t\\t키움증권, 삼성증권, DB금융투자\\n\\t\\t\\t\\t\\t\\n\\t\\t\\t\\t\\n\\t\\t\\t</td>\\t\\t\\t\\n\\t\\t</tr><tr><th>총보수(%)</th>\\n\\t\\t\\t<td class=\"txr\">\\n\\t\\t\\t\\t\\n\\t\\t\\t\\t\\t0.76\\n\\t\\t\\t\\t\\t\\n\\t\\t\\t\\t\\n\\t\\t\\t</td>\\n\\t\\t\\t<th>회계기간</th>\\n\\t\\t\\t<td>\\n\\t\\t\\t\\t\\n\\t\\t\\t\\t\\t매년 1월 1일부터 12월 31일까지. 단, 최초 회계기간은 최초설정일로부터 당해연도 12월 31일까지\\n\\t\\t\\t\\t\\t\\n\\t\\t\\t\\t\\n\\t\\t\\t</td>\\n\\t\\t</tr><tr><th>과세유형</th>\\n\\t\\t\\t<td>\\n\\t\\t\\t\\t\\n\\t\\t\\t\\t\\t배당소득세(보유기간과세)\\n\\t\\t\\t\\t\\t\\n\\t\\t\\t\\t\\n\\t\\t\\t</td>\\n\\t\\t\\t<th>분배금 지급일</th>\\n\\t\\t\\t<td>\\n\\t\\t\\t\\t\\n\\t\\t\\t\\t\\t1월, 4월, 7월, 10월 마지막 영업일 및 회계기간 종료일(다만, 회계기간 종료일이 영업일이 아닌 경우 그 직전 영업일)\\n\\t\\t\\t\\t\\t\\n\\t\\t\\t\\t\\n\\t\\t\\t</td>\\n\\t\\t</tr><tr><th>홈페이지</th>\\n\\t\\t\\t<td>\\n\\t\\t\\t\\t\\n\\t\\t\\t\\t\\t<a>http://www.kosef.co.kr</a>\\n\\t\\t\\t\\t\\t\\n\\t\\t\\t\\t\\n\\t\\t\\t</td>\\n\\t\\t</tr></tbody></table><hgroup class=\"title type-02 mt10 fleft\"><h2>유형 정보</h2>\\n</hgroup><table class=\"detail type-00\"><caption>목록</caption>\\n\\t<colgroup><col><col><col><col></colgroup><tbody><tr><th>기초 시장</th>\\n\\t\\t\\t<td>\\n\\t\\t\\t\\t\\n\\t\\t\\t\\t\\t\\n\\t\\t\\t\\t\\t\\t(해외) <br> (북미) <br> (미국)\\n\\t\\t\\t\\t\\t\\n\\t\\t\\t\\t\\t\\n\\t\\t\\t\\t\\t\\t\\t\\n\\t\\t\\t</td>\\n\\t\\t\\t<th>기초 자산</th>\\n\\t\\t\\t<td>\\n\\t\\t\\t\\t\\n\\t\\t\\t\\t\\t\\n\\t\\t\\t\\t\\t\\t(주식) <br> (시장대표) / (-)  <br> (-) / (-) \\n\\t\\t\\t\\t\\t\\n\\t\\t\\t\\t\\t\\n\\t\\t\\t\\t\\t\\t\\t\\t\\n\\t\\t\\t</td>\\n\\t\\t</tr></tbody></table><hgroup class=\"title type-02 mt10 fleft\"><h2>상품 설명</h2>\\n</hgroup><table class=\"detail type-00\"><caption>목록</caption>\\n\\t<colgroup><col><col></colgroup><tbody><tr><th>기본 정보</th>\\n\\t\\t\\t<td>\\n\\t\\t\\t\\t<article class=\"scrarea type-03\"><pre>1. 이 투자신탁은 해외 주식을 주된 투자대상으로 하며, MSCI에서 산출 및 발표하는 “MSCI USA Index(Price Return)(원화환산)”를 비교지수로 하여 1좌당 순자산가치의 변동률이 비교지수의 변동률을 초과하도록 운용하는 것을 목적으로 합니다.  \\n\\n2. 이 투자신탁은 액티브상장지수펀드로서 비교지수의 구성종목인 해외 주식에 투자신탁재산의 60% 이상을 투자하며, 투자목석 달성을 위하여 비교지수 이외의 종목에도 투자할 수 있습니다. 향후 글로벌 산업 성장을 이끌어갈 성장 테마 내에서 구조적 성장세를 보이는 미국 주요 산업의 핵심 종목 30개 내외를 선정하여 포트폴리오를 구성할 예정입니다.\\n\\n3. 이 투자신탁은 환율변동으로 인한 투자신탁재산의 위험을 방지하기 위한 환헤지 전략을 실행하지 아니할 계획입니다. 따라서, 이 투자신탁은 환율변동위험에 노출됩니다. </pre>\\n\\t\\t\\t\\t</article></td>\\n\\t\\t</tr><tr><th>투자유의사항</th>\\n\\t\\t\\t<td>\\n\\t\\t\\t\\t<article class=\"scrarea type-03\"><pre>1. 이 ETF의 수익률은 보수 또는 비용 등 이 ETF의 순자산가치에 부의 영향을 미치는 다양한 이유로 인하여 기초지수 수익률과 괴리(추적오차)가 발생할 수 있습니다.\\n\\n2. 개인투자자는 보유 ETF를 거래소에서 매도하는 방법으로만 현금화가 가능하므로 보유수익증권을 판매회사 또는 지정참가회사에 환매 신청할 수 없으며, 거래소의 거래 상황에 따라 동 ETF의 순자산가치와 거래가격이 다르게 형성될 수 있습니다.</pre>\\n\\t\\t\\t\\t</article></td>\\n\\t\\t</tr></tbody></table></div>\\n</section></form>\\n\\n<footer class=\"popup\"><div class=\"btn-group type-98\">\\n\\t\\t<a class=\"btn-sprite type-98 vmiddle\"><span>닫 기</span></a>\\n\\t</div>\\n</footer><div id=\"marketSection\">\\n\\t<section class=\"icn_tbox\"><ul><li>\\n\\t\\t\\t\\t<img class=\"vmiddle\"> 유가증권\\n\\t\\t\\t</li>\\n\\t\\t\\t<li>\\n\\t\\t\\t\\t</li>\\n\\t\\t\\t<li>\\n\\t\\t\\t\\t</li>\\n\\t\\t\\t<li>\\n\\t\\t\\t\\t</li>\\n\\t\\t\\t<li>\\n\\t\\t\\t\\t</li>\\n\\t\\t\\t<li>\\n\\t\\t\\t\\t</li>\\n\\t\\t\\t<li>\\n\\t\\t\\t\\t</li>\\n\\t\\t\\t<li>\\n\\t\\t\\t\\t</li>\\n\\t\\t\\t<li>\\n\\t\\t\\t\\t</li>\\n\\t\\t\\t<li>\\n\\t\\t\\t\\t</li>\\n\\t\\t\\t<li>\\n\\t\\t\\t\\t</li>\\n\\t\\t\\t<li>\\n\\t\\t\\t\\t</li>\\n\\t\\t\\t<li>\\n\\t\\t\\t\\t</li>\\n\\t\\t\\t<li>\\n\\t\\t\\t\\t</li>\\n\\t\\t\\t<li>\\n\\t\\t\\t\\t</li>\\n\\t\\t\\t<li>\\n\\t\\t\\t\\t</li>\\n\\t\\t</ul><img class=\"tl\"><img class=\"bl\"><img class=\"tr\"><img class=\"br\"><div class=\"tm\"></div>\\n\\t\\t<div class=\"lm\"></div>\\n\\t\\t<div class=\"bm\"></div>\\n\\t\\t<div class=\"rm\"></div>\\t\\t\\n\\t</section></div>\\n\\n\\n\\n\\n\\n<div class=\"ui-dialog ui-widget ui-widget-content ui-corner-all\"><div class=\"ui-dialog-titlebar ui-widget-header ui-corner-all ui-helper-clearfix\"><span id=\"ui-id-1\" class=\"ui-dialog-title\">자료를 조회 중입니다.</span><a class=\"ui-dialog-titlebar-close ui-corner-all\"><span class=\"ui-icon ui-icon-closethick\">close</span></a></div><div id=\"dialog-loading\" class=\"loading ui-dialog-content ui-widget-content\">\\n\\t<span>\\n\\t\\t<img></span>\\n</div></div></body></html>',\n",
       " 'success': True,\n",
       " 'cleaned_html': '<html>\\n<head>\\n<title>대한민국 대표 기업공시채널 KIND</title>\\n<!--[if lt IE 9]>\\n<script type=\"text/javascript\" src=\"../js/html5shiv.js\"></script>\\n<![endif]-->\\n</head>\\n<body>\\n\\n<header>\\n<h1>키움 KIWOOM 미국성장기업30액티브증권상장지수투자신탁[주식]</h1>\\n</header>\\n\\n\\n\\n\\n\\n\\n<form>\\n<input>\\n<input>\\n<input>\\n<input>\\n<input>\\n\\n<section>\\n\\t<nav>\\n\\t\\t<ul>\\n\\t\\t\\t<li><a href=\"#\" title=\"상품개요(ETF)\"><span>상품개요(ETF)</span></a></li>\\n\\t\\t</ul>\\n\\t\\t</nav>\\n\\t<div>\\n\\n\\n\\n\\n\\n<input>\\n\\n\\n<hgroup>\\n\\t<h2>상품 개요</h2>\\n</hgroup>\\n\\n<table>\\n\\t<caption>목록</caption>\\n\\t<tbody>\\n\\t\\t<tr>\\n\\t\\t\\t<th>한글명</th>\\n\\t\\t\\t<td>\\n\\t\\t\\t\\t\\n\\t\\t\\t\\t\\tKIWOOM 미국성장기업30액티브\\n\\t\\t\\t\\t\\t\\n\\t\\t\\t\\t\\t\\t\\t\\t\\n\\t\\t\\t</td>\\n\\t\\t\\t<th>영문명</th>\\n\\t\\t\\t<td>\\n\\t\\t\\t\\t\\n\\t\\t\\t\\t\\tKIWOOM US Growth 30 Active\\n\\t\\t\\t\\t\\t\\n\\t\\t\\t\\t\\n\\t\\t\\t</td>\\n\\t\\t</tr>\\n\\t\\t<tr>\\n\\t\\t\\t<th>표준코드</th>\\n\\t\\t\\t<td>\\n\\t\\t\\t\\t\\n\\t\\t\\t\\t\\tKR7459790002\\n\\t\\t\\t\\t\\t\\n\\t\\t\\t\\t\\n\\t\\t\\t</td>\\n\\t\\t\\t<th>종목코드</th>\\n\\t\\t\\t<td>\\n\\t\\t\\t\\t\\n\\t\\t\\t\\t\\t459790\\n\\t\\t\\t\\t\\t\\n\\t\\t\\t\\t\\n\\t\\t\\t</td>\\n\\t\\t</tr>\\n\\t\\t<tr>\\n\\t\\t\\t<th>상장일</th>\\n\\t\\t\\t<td>\\n\\t\\t\\t\\t\\n\\t\\t\\t\\t\\t2023-06-27\\n\\t\\t\\t\\t\\t\\n\\t\\t\\t\\t\\n\\t\\t\\t</td>\\n\\t\\t\\t<th>펀드형태</th>\\n\\t\\t\\t<td>\\n\\t\\t\\t\\t\\n\\t\\t\\t\\t\\t수익증권형\\n\\t\\t\\t\\t\\t\\n\\t\\t\\t\\t\\n\\t\\t\\t</td>\\t\\t\\t\\n\\t\\t</tr>\\n\\t\\t<tr>\\n\\t\\t\\t<th>기초지수명</th>\\n\\t\\t\\t<td>\\n\\t\\t\\t\\t\\n\\t\\t\\t\\t\\tMSCI USA Index(Price Return)\\n\\t\\t\\t\\t\\t\\n\\t\\t\\t\\t\\n\\t\\t\\t</td>\\n\\t\\t\\t<th>추적배수</th>\\n\\t\\t\\t<td>\\n\\t\\t\\t\\t\\n\\t\\t\\t\\t\\t일반 (1)\\n\\t\\t\\t\\t\\t\\n\\t\\t\\t\\t\\n\\t\\t\\t</td>\\t\\t\\t\\n\\t\\t</tr>\\n\\t\\t<tr>\\n\\t\\t\\t<th>자산운용사</th>\\n\\t\\t\\t<td>\\n\\t\\t\\t\\t\\n\\t\\t\\t\\t\\t키움투자자산운용(주)\\n\\t\\t\\t\\t\\t\\n\\t\\t\\t\\t\\n\\t\\t\\t</td>\\n\\t\\t\\t<th>지정참가회사(AP)</th>\\n\\t\\t\\t<td>\\n\\t\\t\\t\\t\\n\\t\\t\\t\\t\\t키움증권, 삼성증권, DB금융투자\\n\\t\\t\\t\\t\\t\\n\\t\\t\\t\\t\\n\\t\\t\\t</td>\\t\\t\\t\\n\\t\\t</tr>\\n\\t\\t<tr>\\n\\t\\t\\t<th>총보수(%)</th>\\n\\t\\t\\t<td>\\n\\t\\t\\t\\t\\n\\t\\t\\t\\t\\t0.76\\n\\t\\t\\t\\t\\t\\n\\t\\t\\t\\t\\n\\t\\t\\t</td>\\n\\t\\t\\t<th>회계기간</th>\\n\\t\\t\\t<td>\\n\\t\\t\\t\\t\\n\\t\\t\\t\\t\\t매년 1월 1일부터 12월 31일까지. 단, 최초 회계기간은 최초설정일로부터 당해연도 12월 31일까지\\n\\t\\t\\t\\t\\t\\n\\t\\t\\t\\t\\n\\t\\t\\t</td>\\n\\t\\t</tr>\\n\\t\\t<tr>\\n\\t\\t\\t<th>과세유형</th>\\n\\t\\t\\t<td>\\n\\t\\t\\t\\t\\n\\t\\t\\t\\t\\t배당소득세(보유기간과세)\\n\\t\\t\\t\\t\\t\\n\\t\\t\\t\\t\\n\\t\\t\\t</td>\\n\\t\\t\\t<th>분배금 지급일</th>\\n\\t\\t\\t<td>\\n\\t\\t\\t\\t\\n\\t\\t\\t\\t\\t1월, 4월, 7월, 10월 마지막 영업일 및 회계기간 종료일(다만, 회계기간 종료일이 영업일이 아닌 경우 그 직전 영업일)\\n\\t\\t\\t\\t\\t\\n\\t\\t\\t\\t\\n\\t\\t\\t</td>\\n\\t\\t</tr>\\t\\t\\t\\n\\t\\t<tr>\\n\\t\\t\\t<th>홈페이지</th>\\n\\t\\t\\t<td>\\n\\t\\t\\t\\t\\n\\t\\t\\t\\t\\t<a href=\"http://www.kosef.co.kr\" title=\"새창\">http://www.kosef.co.kr</a>\\n\\t\\t\\t\\t\\t\\n\\t\\t\\t\\t\\n\\t\\t\\t</td>\\n\\t\\t</tr>\\n\\t</tbody>\\n</table>\\n\\n\\n\\n<hgroup>\\n\\t<h2>유형 정보</h2>\\n</hgroup>\\n\\n<table>\\n\\t<caption>목록</caption>\\n\\t<tbody>\\n\\t\\t<tr>\\n\\t\\t\\t<th>기초 시장</th>\\n\\t\\t\\t<td>\\n\\t\\t\\t\\t\\n\\t\\t\\t\\t\\t\\n\\t\\t\\t\\t\\t\\t(해외) <br> (북미) <br> (미국)\\n\\t\\t\\t\\t\\t\\n\\t\\t\\t\\t\\t\\n\\t\\t\\t\\t\\t\\t\\t\\n\\t\\t\\t</td>\\n\\t\\t\\t<th>기초 자산</th>\\n\\t\\t\\t<td>\\n\\t\\t\\t\\t\\n\\t\\t\\t\\t\\t\\n\\t\\t\\t\\t\\t\\t(주식) <br> (시장대표) / (-)  <br> (-) / (-) \\n\\t\\t\\t\\t\\t\\n\\t\\t\\t\\t\\t\\n\\t\\t\\t\\t\\t\\t\\t\\t\\n\\t\\t\\t</td>\\n\\t\\t</tr>\\n\\t</tbody>\\n</table>\\n\\n\\n<hgroup>\\n\\t<h2>상품 설명</h2>\\n</hgroup>\\n\\n<table>\\n\\t<caption>목록</caption>\\n\\t<tbody>\\n\\t\\t<tr>\\n\\t\\t\\t<th>기본 정보</th>\\n\\t\\t\\t<td>\\n\\t\\t\\t\\t<article>\\n\\t\\t\\t\\t\\t<pre>1. 이 투자신탁은 해외 주식을 주된 투자대상으로 하며, MSCI에서 산출 및 발표하는 “MSCI USA Index(Price Return)(원화환산)”를 비교지수로 하여 1좌당 순자산가치의 변동률이 비교지수의 변동률을 초과하도록 운용하는 것을 목적으로 합니다.  \\n\\n2. 이 투자신탁은 액티브상장지수펀드로서 비교지수의 구성종목인 해외 주식에 투자신탁재산의 60% 이상을 투자하며, 투자목석 달성을 위하여 비교지수 이외의 종목에도 투자할 수 있습니다. 향후 글로벌 산업 성장을 이끌어갈 성장 테마 내에서 구조적 성장세를 보이는 미국 주요 산업의 핵심 종목 30개 내외를 선정하여 포트폴리오를 구성할 예정입니다.\\n\\n3. 이 투자신탁은 환율변동으로 인한 투자신탁재산의 위험을 방지하기 위한 환헤지 전략을 실행하지 아니할 계획입니다. 따라서, 이 투자신탁은 환율변동위험에 노출됩니다. </pre>\\n\\t\\t\\t\\t</article>\\n\\t\\t\\t</td>\\n\\t\\t</tr>\\n\\t\\t<tr>\\n\\t\\t\\t<th>투자유의사항</th>\\n\\t\\t\\t<td>\\n\\t\\t\\t\\t<article>\\n\\t\\t\\t\\t\\t<pre>1. 이 ETF의 수익률은 보수 또는 비용 등 이 ETF의 순자산가치에 부의 영향을 미치는 다양한 이유로 인하여 기초지수 수익률과 괴리(추적오차)가 발생할 수 있습니다.\\n\\n2. 개인투자자는 보유 ETF를 거래소에서 매도하는 방법으로만 현금화가 가능하므로 보유수익증권을 판매회사 또는 지정참가회사에 환매 신청할 수 없으며, 거래소의 거래 상황에 따라 동 ETF의 순자산가치와 거래가격이 다르게 형성될 수 있습니다.</pre>\\n\\t\\t\\t\\t</article>\\n\\t\\t\\t</td>\\n\\t\\t</tr>\\n\\t</tbody>\\n</table>\\n</div>\\n</section>\\n</form>\\n\\n<footer>\\n\\t<div>\\n\\t\\t<a href=\"#myclose\" title=\"닫기\"><span>닫 기</span></a>\\n\\t</div>\\n</footer>\\n\\n<!-- 범례 START -->\\n\\n    \\n<div>\\n\\t<section>\\n\\t\\t<ul>\\n\\t\\t\\t<li>\\n\\t\\t\\t\\t<img src=\"../images/common/icn_t_yu.gif\" alt=\"유가증권\"> 유가증권\\n\\t\\t\\t</li>\\n\\t\\t\\t<li>\\n\\t\\t\\t\\t<img src=\"../images/common/icn_t_ko.gif\" alt=\"코스닥\"> 코스닥\\n\\t\\t\\t</li>\\n\\t\\t\\t<li>\\n\\t\\t\\t\\t<img src=\"../images/common/icn_t_konex.gif\" alt=\"코넥스\"> 코넥스\\n\\t\\t\\t</li>\\n\\t\\t\\t<li>\\n\\t\\t\\t\\t<img src=\"../images/common/icn_t_kwan.gif\" alt=\"관리종목\"> 관리종목\\n\\t\\t\\t</li>\\n\\t\\t\\t<li>\\n\\t\\t\\t\\t<img src=\"../images/common/icn_t_hwan.gif\" alt=\"투자주의환기종목\"> 투자주의환기종목\\n\\t\\t\\t</li>\\n\\t\\t\\t<li>\\n\\t\\t\\t\\t<img src=\"../images/common/icn_t_bul.gif\" alt=\"불성실공시법인\"> 불성실공시법인\\n\\t\\t\\t</li>\\n\\t\\t\\t<li>\\n\\t\\t\\t\\t<img src=\"../images/common/icn_t_pe.gif\" alt=\"폐지법인\"> 폐지법인\\n\\t\\t\\t</li>\\n\\t\\t\\t<li>\\n\\t\\t\\t\\t<img src=\"../images/common/icn_t_v100.gif\" alt=\"코리아밸류업\"> 코리아밸류업\\n\\t\\t\\t</li>\\n\\t\\t\\t<li>\\n\\t\\t\\t\\t<img src=\"../images/common/icn_t_k200.gif\" alt=\"KOSPI200\"> KOSPI200\\n\\t\\t\\t</li>\\n\\t\\t\\t<li>\\n\\t\\t\\t\\t<img src=\"../images/common/icn_t_q150.gif\" alt=\"KOSDAQ150\"> KOSDAQ150\\n\\t\\t\\t</li>\\n\\t\\t\\t<li>\\n\\t\\t\\t\\t<img src=\"../images/common/icn_t_x300.gif\" alt=\"KRX300\"> KRX300\\n\\t\\t\\t</li>\\n\\t\\t\\t<li>\\n\\t\\t\\t\\t<img src=\"../images/common/icn_t_ktop.gif\" alt=\"KTOP30\"> KTOP30\\n\\t\\t\\t</li>\\n\\t\\t\\t<li>\\n\\t\\t\\t\\t<img src=\"../images/common/icn_t_jung.gif\" alt=\"정정있음\"> 정정있음\\n\\t\\t\\t</li>\\n\\t\\t\\t<li>\\n\\t\\t\\t\\t<img src=\"../images/common/icn_t_joo.gif\" alt=\"투자주의\"> 투자주의\\n\\t\\t\\t</li>\\n\\t\\t\\t<li>\\n\\t\\t\\t\\t<img src=\"../images/common/icn_t_kyung.gif\" alt=\"투자경고\"> 투자경고\\n\\t\\t\\t</li>\\n\\t\\t\\t<li>\\n\\t\\t\\t\\t<img src=\"../images/common/icn_t_wii.gif\" alt=\"투자위험\"> 투자위험\\n\\t\\t\\t</li>\\n\\t\\t</ul>\\n\\t\\t<img src=\"../images/common/icn_tbox_tl.png\" alt=\"\">\\n\\t\\t<img src=\"../images/common/icn_tbox_bl.gif\" alt=\"\">\\n\\t\\t<img src=\"../images/common/icn_tbox_tr.gif\" alt=\"\">\\n\\t\\t<img src=\"../images/common/icn_tbox_br.gif\" alt=\"\">\\n\\t\\t</section>\\n</div>\\n<!-- 범례 END -->\\n\\n\\n\\n\\n<div>\\n<div>\\n<span>자료를 조회 중입니다.</span><a href=\"#\"><span>close</span></a>\\n</div>\\n<div>\\n\\t<span>\\n\\t\\t<img src=\"/images/loader/ajax-loader01.gif\" width=\"128\" height=\"15\">\\n\\t</span>\\n</div>\\n</div>\\n</body>\\n</html>',\n",
       " 'media': {'images': [{'src': '../images/common/icn_t_yu.gif',\n",
       "    'data': '',\n",
       "    'alt': '유가증권',\n",
       "    'desc': '유가증권',\n",
       "    'score': 3,\n",
       "    'type': 'image',\n",
       "    'group_id': 0,\n",
       "    'format': 'gif',\n",
       "    'width': None},\n",
       "   {'src': '../images/common/icn_t_ko.gif',\n",
       "    'data': '',\n",
       "    'alt': '코스닥',\n",
       "    'desc': '코스닥',\n",
       "    'score': 3,\n",
       "    'type': 'image',\n",
       "    'group_id': 1,\n",
       "    'format': 'gif',\n",
       "    'width': None},\n",
       "   {'src': '../images/common/icn_t_konex.gif',\n",
       "    'data': '',\n",
       "    'alt': '코넥스',\n",
       "    'desc': '코넥스',\n",
       "    'score': 3,\n",
       "    'type': 'image',\n",
       "    'group_id': 2,\n",
       "    'format': 'gif',\n",
       "    'width': None},\n",
       "   {'src': '../images/common/icn_t_kwan.gif',\n",
       "    'data': '',\n",
       "    'alt': '관리종목',\n",
       "    'desc': '관리종목',\n",
       "    'score': 3,\n",
       "    'type': 'image',\n",
       "    'group_id': 3,\n",
       "    'format': 'gif',\n",
       "    'width': None},\n",
       "   {'src': '../images/common/icn_t_hwan.gif',\n",
       "    'data': '',\n",
       "    'alt': '투자주의환기종목',\n",
       "    'desc': '투자주의환기종목',\n",
       "    'score': 3,\n",
       "    'type': 'image',\n",
       "    'group_id': 4,\n",
       "    'format': 'gif',\n",
       "    'width': None},\n",
       "   {'src': '../images/common/icn_t_bul.gif',\n",
       "    'data': '',\n",
       "    'alt': '불성실공시법인',\n",
       "    'desc': '불성실공시법인',\n",
       "    'score': 3,\n",
       "    'type': 'image',\n",
       "    'group_id': 5,\n",
       "    'format': 'gif',\n",
       "    'width': None},\n",
       "   {'src': '../images/common/icn_t_pe.gif',\n",
       "    'data': '',\n",
       "    'alt': '폐지법인',\n",
       "    'desc': '폐지법인',\n",
       "    'score': 3,\n",
       "    'type': 'image',\n",
       "    'group_id': 6,\n",
       "    'format': 'gif',\n",
       "    'width': None},\n",
       "   {'src': '../images/common/icn_t_v100.gif',\n",
       "    'data': '',\n",
       "    'alt': '코리아밸류업',\n",
       "    'desc': '코리아밸류업',\n",
       "    'score': 3,\n",
       "    'type': 'image',\n",
       "    'group_id': 7,\n",
       "    'format': 'gif',\n",
       "    'width': None},\n",
       "   {'src': '../images/common/icn_t_k200.gif',\n",
       "    'data': '',\n",
       "    'alt': 'KOSPI200',\n",
       "    'desc': 'KOSPI200',\n",
       "    'score': 3,\n",
       "    'type': 'image',\n",
       "    'group_id': 8,\n",
       "    'format': 'gif',\n",
       "    'width': None},\n",
       "   {'src': '../images/common/icn_t_q150.gif',\n",
       "    'data': '',\n",
       "    'alt': 'KOSDAQ150',\n",
       "    'desc': 'KOSDAQ150',\n",
       "    'score': 3,\n",
       "    'type': 'image',\n",
       "    'group_id': 9,\n",
       "    'format': 'gif',\n",
       "    'width': None},\n",
       "   {'src': '../images/common/icn_t_x300.gif',\n",
       "    'data': '',\n",
       "    'alt': 'KRX300',\n",
       "    'desc': 'KRX300',\n",
       "    'score': 3,\n",
       "    'type': 'image',\n",
       "    'group_id': 10,\n",
       "    'format': 'gif',\n",
       "    'width': None}],\n",
       "  'videos': [],\n",
       "  'audios': []},\n",
       " 'links': {'internal': [{'href': 'https://kind.krx.co.kr/disclosure/etfisudetail.do?method=searchEtfIsuSummary&strisurcd=45979',\n",
       "    'text': '상품개요(ETF)',\n",
       "    'title': '상품개요(ETF)',\n",
       "    'base_domain': 'krx.co.kr',\n",
       "    'head_data': None,\n",
       "    'head_extraction_status': None,\n",
       "    'head_extraction_error': None,\n",
       "    'intrinsic_score': 0.0,\n",
       "    'contextual_score': None,\n",
       "    'total_score': None}],\n",
       "  'external': [{'href': 'http://www.kosef.co.kr',\n",
       "    'text': 'http://www.kosef.co.kr',\n",
       "    'title': '새창',\n",
       "    'base_domain': 'kosef.co.kr',\n",
       "    'head_data': None,\n",
       "    'head_extraction_status': None,\n",
       "    'head_extraction_error': None,\n",
       "    'intrinsic_score': 0.0,\n",
       "    'contextual_score': None,\n",
       "    'total_score': None}]},\n",
       " 'downloaded_files': None,\n",
       " 'js_execution_result': None,\n",
       " 'screenshot': None,\n",
       " 'pdf': None,\n",
       " 'mhtml': None,\n",
       " 'extracted_content': None,\n",
       " 'metadata': {'title': '대한민국 대표 기업공시채널 KIND',\n",
       "  'description': '대한민국 대표 기업공시채널 KIND',\n",
       "  'keywords': '대한민국 대표 기업공시채널 KIND',\n",
       "  'author': None},\n",
       " 'error_message': '',\n",
       " 'session_id': None,\n",
       " 'response_headers': {'cache-control': 'max-age=0, no-cache, no-store',\n",
       "  'content-encoding': 'gzip',\n",
       "  'content-length': '2215',\n",
       "  'content-type': 'text/html; charset=UTF-8',\n",
       "  'date': 'Tue, 14 Oct 2025 13:21:37 GMT',\n",
       "  'expires': 'Tue, 14 Oct 2025 13:21:37 GMT',\n",
       "  'pragma': 'no-cache',\n",
       "  'vary': 'Accept-Encoding'},\n",
       " 'status_code': 200,\n",
       " 'ssl_certificate': None,\n",
       " 'dispatch_result': None,\n",
       " 'redirected_url': 'https://kind.krx.co.kr/disclosure/etfisudetail.do?method=searchEtfIsuSummary&strIsurCd=45979',\n",
       " 'network_requests': None,\n",
       " 'console_messages': None,\n",
       " 'tables': [{'headers': ['한글명',\n",
       "    'KIWOOM 미국성장기업30액티브',\n",
       "    '영문명',\n",
       "    'KIWOOM US Growth 30 Active'],\n",
       "   'rows': [['KIWOOM 미국성장기업30액티브', 'KIWOOM US Growth 30 Active', '', ''],\n",
       "    ['KR7459790002', '459790', '', ''],\n",
       "    ['2023-06-27', '수익증권형', '', ''],\n",
       "    ['MSCI USA Index(Price Return)', '일반 (1)', '', ''],\n",
       "    ['키움투자자산운용(주)', '키움증권, 삼성증권, DB금융투자', '', ''],\n",
       "    ['0.76',\n",
       "     '매년 1월 1일부터 12월 31일까지. 단, 최초 회계기간은 최초설정일로부터 당해연도 12월 31일까지',\n",
       "     '',\n",
       "     ''],\n",
       "    ['배당소득세(보유기간과세)',\n",
       "     '1월, 4월, 7월, 10월 마지막 영업일 및 회계기간 종료일(다만, 회계기간 종료일이 영업일이 아닌 경우 그 직전 영업일)',\n",
       "     '',\n",
       "     ''],\n",
       "    ['http://www.kosef.co.kr',\n",
       "     'http://www.kosef.co.kr',\n",
       "     'http://www.kosef.co.kr',\n",
       "     '']],\n",
       "   'caption': '목록',\n",
       "   'summary': '한글명, 영문명, 표준코드, 종목코드, 상장일, 펀드형태, 기초지수명, 추적배수, 자산운용사, 지정참가회사(AP), 총보수(%), 회계기간, 과세유형, 분배금 지급일, 홈페이지',\n",
       "   'metadata': {'row_count': 8,\n",
       "    'column_count': 4,\n",
       "    'has_headers': True,\n",
       "    'has_caption': True,\n",
       "    'has_summary': True,\n",
       "    'class': 'detail type-00'}},\n",
       "  {'headers': ['기초 시장',\n",
       "    '(해외)  (북미)  (미국)',\n",
       "    '기초 자산',\n",
       "    '(주식)  (시장대표) / (-)   (-) / (-)'],\n",
       "   'rows': [['(해외)  (북미)  (미국)', '(주식)  (시장대표) / (-)   (-) / (-)', '', '']],\n",
       "   'caption': '목록',\n",
       "   'summary': '기초 시장, 기초 자산',\n",
       "   'metadata': {'row_count': 1,\n",
       "    'column_count': 4,\n",
       "    'has_headers': True,\n",
       "    'has_caption': True,\n",
       "    'has_summary': True,\n",
       "    'class': 'detail type-00'}},\n",
       "  {'headers': ['기본 정보',\n",
       "    '1. 이 투자신탁은 해외 주식을 주된 투자대상으로 하며, MSCI에서 산출 및 발표하는 “MSCI USA Index(Price Return)(원화환산)”를 비교지수로 하여 1좌당 순자산가치의 변동률이 비교지수의 변동률을 초과하도록 운용하는 것을 목적으로 합니다.  \\n\\n2. 이 투자신탁은 액티브상장지수펀드로서 비교지수의 구성종목인 해외 주식에 투자신탁재산의 60% 이상을 투자하며, 투자목석 달성을 위하여 비교지수 이외의 종목에도 투자할 수 있습니다. 향후 글로벌 산업 성장을 이끌어갈 성장 테마 내에서 구조적 성장세를 보이는 미국 주요 산업의 핵심 종목 30개 내외를 선정하여 포트폴리오를 구성할 예정입니다.\\n\\n3. 이 투자신탁은 환율변동으로 인한 투자신탁재산의 위험을 방지하기 위한 환헤지 전략을 실행하지 아니할 계획입니다. 따라서, 이 투자신탁은 환율변동위험에 노출됩니다.'],\n",
       "   'rows': [['1. 이 투자신탁은 해외 주식을 주된 투자대상으로 하며, MSCI에서 산출 및 발표하는 “MSCI USA Index(Price Return)(원화환산)”를 비교지수로 하여 1좌당 순자산가치의 변동률이 비교지수의 변동률을 초과하도록 운용하는 것을 목적으로 합니다.  \\n\\n2. 이 투자신탁은 액티브상장지수펀드로서 비교지수의 구성종목인 해외 주식에 투자신탁재산의 60% 이상을 투자하며, 투자목석 달성을 위하여 비교지수 이외의 종목에도 투자할 수 있습니다. 향후 글로벌 산업 성장을 이끌어갈 성장 테마 내에서 구조적 성장세를 보이는 미국 주요 산업의 핵심 종목 30개 내외를 선정하여 포트폴리오를 구성할 예정입니다.\\n\\n3. 이 투자신탁은 환율변동으로 인한 투자신탁재산의 위험을 방지하기 위한 환헤지 전략을 실행하지 아니할 계획입니다. 따라서, 이 투자신탁은 환율변동위험에 노출됩니다.',\n",
       "     ''],\n",
       "    ['1. 이 ETF의 수익률은 보수 또는 비용 등 이 ETF의 순자산가치에 부의 영향을 미치는 다양한 이유로 인하여 기초지수 수익률과 괴리(추적오차)가 발생할 수 있습니다.\\n\\n2. 개인투자자는 보유 ETF를 거래소에서 매도하는 방법으로만 현금화가 가능하므로 보유수익증권을 판매회사 또는 지정참가회사에 환매 신청할 수 없으며, 거래소의 거래 상황에 따라 동 ETF의 순자산가치와 거래가격이 다르게 형성될 수 있습니다.',\n",
       "     '']],\n",
       "   'caption': '목록',\n",
       "   'summary': '기본 정보, 투자유의사항',\n",
       "   'metadata': {'row_count': 2,\n",
       "    'column_count': 2,\n",
       "    'has_headers': True,\n",
       "    'has_caption': True,\n",
       "    'has_summary': True,\n",
       "    'class': 'detail type-00'}}],\n",
       " 'markdown': {'raw_markdown': '# 키움 KIWOOM 미국성장기업30액티브증권상장지수투자신탁[주식]\\n  * [상품개요(ETF)](https://kind.krx.co.kr/disclosure/etfisudetail.do?method=searchEtfIsuSummary&strIsurCd=45979 \"상품개요\\\\(ETF\\\\)\")\\n\\n\\n## 상품 개요\\n목록 한글명 |  KIWOOM 미국성장기업30액티브  | 영문명 |  KIWOOM US Growth 30 Active   \\n---|---|---|---  \\n표준코드 |  KR7459790002  | 종목코드 |  459790   \\n상장일 |  2023-06-27  | 펀드형태 |  수익증권형   \\n기초지수명 |  MSCI USA Index(Price Return)  | 추적배수 |  일반 (1)   \\n자산운용사 |  키움투자자산운용(주)  | 지정참가회사(AP) |  키움증권, 삼성증권, DB금융투자   \\n총보수(%) |  0.76  | 회계기간 |  매년 1월 1일부터 12월 31일까지. 단, 최초 회계기간은 최초설정일로부터 당해연도 12월 31일까지   \\n과세유형 |  배당소득세(보유기간과세)  | 분배금 지급일 |  1월, 4월, 7월, 10월 마지막 영업일 및 회계기간 종료일(다만, 회계기간 종료일이 영업일이 아닌 경우 그 직전 영업일)   \\n홈페이지 |  <http://www.kosef.co.kr>  \\n## 유형 정보\\n목록 기초 시장 |  (해외)   \\n(북미)   \\n(미국)  | 기초 자산 |  (주식)   \\n(시장대표) / (-)   \\n(-) / (-)   \\n---|---|---|---  \\n## 상품 설명\\n목록 기본 정보 |  ```\\n1. 이 투자신탁은 해외 주식을 주된 투자대상으로 하며, MSCI에서 산출 및 발표하는 “MSCI USA Index(Price Return)(원화환산)”를 비교지수로 하여 1좌당 순자산가치의 변동률이 비교지수의 변동률을 초과하도록 운용하는 것을 목적으로 합니다.  \\n\\n2. 이 투자신탁은 액티브상장지수펀드로서 비교지수의 구성종목인 해외 주식에 투자신탁재산의 60% 이상을 투자하며, 투자목석 달성을 위하여 비교지수 이외의 종목에도 투자할 수 있습니다. 향후 글로벌 산업 성장을 이끌어갈 성장 테마 내에서 구조적 성장세를 보이는 미국 주요 산업의 핵심 종목 30개 내외를 선정하여 포트폴리오를 구성할 예정입니다.\\n\\n3. 이 투자신탁은 환율변동으로 인한 투자신탁재산의 위험을 방지하기 위한 환헤지 전략을 실행하지 아니할 계획입니다. 따라서, 이 투자신탁은 환율변동위험에 노출됩니다. \\n```\\n  \\n---|---  \\n투자유의사항 |  ```\\n1. 이 ETF의 수익률은 보수 또는 비용 등 이 ETF의 순자산가치에 부의 영향을 미치는 다양한 이유로 인하여 기초지수 수익률과 괴리(추적오차)가 발생할 수 있습니다.\\n\\n2. 개인투자자는 보유 ETF를 거래소에서 매도하는 방법으로만 현금화가 가능하므로 보유수익증권을 판매회사 또는 지정참가회사에 환매 신청할 수 없으며, 거래소의 거래 상황에 따라 동 ETF의 순자산가치와 거래가격이 다르게 형성될 수 있습니다.\\n```\\n  \\n[닫 기](https://kind.krx.co.kr/disclosure/etfisudetail.do?method=searchEtfIsuSummary&strIsurCd=45979#myclose \"닫기\")\\n  * ![유가증권](https://kind.krx.co.kr/images/common/icn_t_yu.gif) 유가증권 \\n  * ![코스닥](https://kind.krx.co.kr/images/common/icn_t_ko.gif) 코스닥 \\n  * ![코넥스](https://kind.krx.co.kr/images/common/icn_t_konex.gif) 코넥스 \\n  * ![관리종목](https://kind.krx.co.kr/images/common/icn_t_kwan.gif) 관리종목 \\n  * ![투자주의환기종목](https://kind.krx.co.kr/images/common/icn_t_hwan.gif) 투자주의환기종목 \\n  * ![불성실공시법인](https://kind.krx.co.kr/images/common/icn_t_bul.gif) 불성실공시법인 \\n  * ![폐지법인](https://kind.krx.co.kr/images/common/icn_t_pe.gif) 폐지법인 \\n  * ![코리아밸류업](https://kind.krx.co.kr/images/common/icn_t_v100.gif) 코리아밸류업 \\n  * ![KOSPI200](https://kind.krx.co.kr/images/common/icn_t_k200.gif) KOSPI200 \\n  * ![KOSDAQ150](https://kind.krx.co.kr/images/common/icn_t_q150.gif) KOSDAQ150 \\n  * ![KRX300](https://kind.krx.co.kr/images/common/icn_t_x300.gif) KRX300 \\n  * ![KTOP30](https://kind.krx.co.kr/images/common/icn_t_ktop.gif) KTOP30 \\n  * ![정정있음](https://kind.krx.co.kr/images/common/icn_t_jung.gif) 정정있음 \\n  * ![투자주의](https://kind.krx.co.kr/images/common/icn_t_joo.gif) 투자주의 \\n  * ![투자경고](https://kind.krx.co.kr/images/common/icn_t_kyung.gif) 투자경고 \\n  * ![투자위험](https://kind.krx.co.kr/images/common/icn_t_wii.gif) 투자위험 \\n\\n![](https://kind.krx.co.kr/images/common/icn_tbox_tl.png) ![](https://kind.krx.co.kr/images/common/icn_tbox_bl.gif) ![](https://kind.krx.co.kr/images/common/icn_tbox_tr.gif) ![](https://kind.krx.co.kr/images/common/icn_tbox_br.gif)\\n자료를 조회 중입니다.[close](https://kind.krx.co.kr/disclosure/etfisudetail.do?method=searchEtfIsuSummary&strIsurCd=45979)\\n![](https://kind.krx.co.kr/images/loader/ajax-loader01.gif)\\n',\n",
       "  'markdown_with_citations': '# 키움 KIWOOM 미국성장기업30액티브증권상장지수투자신탁[주식]\\n  * 상품개요(ETF)⟨1⟩\\n\\n\\n## 상품 개요\\n목록 한글명 |  KIWOOM 미국성장기업30액티브  | 영문명 |  KIWOOM US Growth 30 Active   \\n---|---|---|---  \\n표준코드 |  KR7459790002  | 종목코드 |  459790   \\n상장일 |  2023-06-27  | 펀드형태 |  수익증권형   \\n기초지수명 |  MSCI USA Index(Price Return)  | 추적배수 |  일반 (1)   \\n자산운용사 |  키움투자자산운용(주)  | 지정참가회사(AP) |  키움증권, 삼성증권, DB금융투자   \\n총보수(%) |  0.76  | 회계기간 |  매년 1월 1일부터 12월 31일까지. 단, 최초 회계기간은 최초설정일로부터 당해연도 12월 31일까지   \\n과세유형 |  배당소득세(보유기간과세)  | 분배금 지급일 |  1월, 4월, 7월, 10월 마지막 영업일 및 회계기간 종료일(다만, 회계기간 종료일이 영업일이 아닌 경우 그 직전 영업일)   \\n홈페이지 |  <http://www.kosef.co.kr>  \\n## 유형 정보\\n목록 기초 시장 |  (해외)   \\n(북미)   \\n(미국)  | 기초 자산 |  (주식)   \\n(시장대표) / (-)   \\n(-) / (-)   \\n---|---|---|---  \\n## 상품 설명\\n목록 기본 정보 |  ```\\n1. 이 투자신탁은 해외 주식을 주된 투자대상으로 하며, MSCI에서 산출 및 발표하는 “MSCI USA Index(Price Return)(원화환산)”를 비교지수로 하여 1좌당 순자산가치의 변동률이 비교지수의 변동률을 초과하도록 운용하는 것을 목적으로 합니다.  \\n\\n2. 이 투자신탁은 액티브상장지수펀드로서 비교지수의 구성종목인 해외 주식에 투자신탁재산의 60% 이상을 투자하며, 투자목석 달성을 위하여 비교지수 이외의 종목에도 투자할 수 있습니다. 향후 글로벌 산업 성장을 이끌어갈 성장 테마 내에서 구조적 성장세를 보이는 미국 주요 산업의 핵심 종목 30개 내외를 선정하여 포트폴리오를 구성할 예정입니다.\\n\\n3. 이 투자신탁은 환율변동으로 인한 투자신탁재산의 위험을 방지하기 위한 환헤지 전략을 실행하지 아니할 계획입니다. 따라서, 이 투자신탁은 환율변동위험에 노출됩니다. \\n```\\n  \\n---|---  \\n투자유의사항 |  ```\\n1. 이 ETF의 수익률은 보수 또는 비용 등 이 ETF의 순자산가치에 부의 영향을 미치는 다양한 이유로 인하여 기초지수 수익률과 괴리(추적오차)가 발생할 수 있습니다.\\n\\n2. 개인투자자는 보유 ETF를 거래소에서 매도하는 방법으로만 현금화가 가능하므로 보유수익증권을 판매회사 또는 지정참가회사에 환매 신청할 수 없으며, 거래소의 거래 상황에 따라 동 ETF의 순자산가치와 거래가격이 다르게 형성될 수 있습니다.\\n```\\n  \\n닫 기⟨2⟩\\n  * ![유가증권⟨3⟩] 유가증권 \\n  * ![코스닥⟨4⟩] 코스닥 \\n  * ![코넥스⟨5⟩] 코넥스 \\n  * ![관리종목⟨6⟩] 관리종목 \\n  * ![투자주의환기종목⟨7⟩] 투자주의환기종목 \\n  * ![불성실공시법인⟨8⟩] 불성실공시법인 \\n  * ![폐지법인⟨9⟩] 폐지법인 \\n  * ![코리아밸류업⟨10⟩] 코리아밸류업 \\n  * ![KOSPI200⟨11⟩] KOSPI200 \\n  * ![KOSDAQ150⟨12⟩] KOSDAQ150 \\n  * ![KRX300⟨13⟩] KRX300 \\n  * ![KTOP30⟨14⟩] KTOP30 \\n  * ![정정있음⟨15⟩] 정정있음 \\n  * ![투자주의⟨16⟩] 투자주의 \\n  * ![투자경고⟨17⟩] 투자경고 \\n  * ![투자위험⟨18⟩] 투자위험 \\n\\n![](https://kind.krx.co.kr/images/common/icn_tbox_tl.png) ![](https://kind.krx.co.kr/images/common/icn_tbox_bl.gif) ![](https://kind.krx.co.kr/images/common/icn_tbox_tr.gif) ![](https://kind.krx.co.kr/images/common/icn_tbox_br.gif)\\n자료를 조회 중입니다.close⟨1⟩\\n![](https://kind.krx.co.kr/images/loader/ajax-loader01.gif)\\n',\n",
       "  'references_markdown': '\\n\\n## References\\n\\n⟨1⟩ https://kind.krx.co.kr/disclosure/etfisudetail.do?method=searchEtfIsuSummary&strIsurCd=45979: 상품개요\\\\(ETF\\\\) - 상품개요(ETF)\\n⟨2⟩ https://kind.krx.co.kr/disclosure/etfisudetail.do?method=searchEtfIsuSummary&strIsurCd=45979#myclose: 닫기 - 닫 기\\n⟨3⟩ https://kind.krx.co.kr/images/common/icn_t_yu.gif: 유가증권\\n⟨4⟩ https://kind.krx.co.kr/images/common/icn_t_ko.gif: 코스닥\\n⟨5⟩ https://kind.krx.co.kr/images/common/icn_t_konex.gif: 코넥스\\n⟨6⟩ https://kind.krx.co.kr/images/common/icn_t_kwan.gif: 관리종목\\n⟨7⟩ https://kind.krx.co.kr/images/common/icn_t_hwan.gif: 투자주의환기종목\\n⟨8⟩ https://kind.krx.co.kr/images/common/icn_t_bul.gif: 불성실공시법인\\n⟨9⟩ https://kind.krx.co.kr/images/common/icn_t_pe.gif: 폐지법인\\n⟨10⟩ https://kind.krx.co.kr/images/common/icn_t_v100.gif: 코리아밸류업\\n⟨11⟩ https://kind.krx.co.kr/images/common/icn_t_k200.gif: KOSPI200\\n⟨12⟩ https://kind.krx.co.kr/images/common/icn_t_q150.gif: KOSDAQ150\\n⟨13⟩ https://kind.krx.co.kr/images/common/icn_t_x300.gif: KRX300\\n⟨14⟩ https://kind.krx.co.kr/images/common/icn_t_ktop.gif: KTOP30\\n⟨15⟩ https://kind.krx.co.kr/images/common/icn_t_jung.gif: 정정있음\\n⟨16⟩ https://kind.krx.co.kr/images/common/icn_t_joo.gif: 투자주의\\n⟨17⟩ https://kind.krx.co.kr/images/common/icn_t_kyung.gif: 투자경고\\n⟨18⟩ https://kind.krx.co.kr/images/common/icn_t_wii.gif: 투자위험\\n',\n",
       "  'fit_markdown': '',\n",
       "  'fit_html': ''}}"
      ]
     },
     "execution_count": 11,
     "metadata": {},
     "output_type": "execute_result"
    }
   ],
   "source": [
    "result.model_dump()"
   ]
  },
  {
   "cell_type": "code",
   "execution_count": 12,
   "metadata": {},
   "outputs": [
    {
     "data": {
      "text/plain": [
       "True"
      ]
     },
     "execution_count": 12,
     "metadata": {},
     "output_type": "execute_result"
    }
   ],
   "source": [
    "# 크롤링 성공 여부 확인\n",
    "result.success"
   ]
  },
  {
   "cell_type": "code",
   "execution_count": 13,
   "metadata": {},
   "outputs": [
    {
     "name": "stdout",
     "output_type": "stream",
     "text": [
      "<!DOCTYPE html><html lang=\"ko\"><head>\n",
      "<meta http-equiv=\"X-UA-Compatible\" content=\"IE=edge\">\n",
      "<meta ht\n"
     ]
    }
   ],
   "source": [
    "# HTML 접근\n",
    "print(result.html[:100])"
   ]
  },
  {
   "cell_type": "code",
   "execution_count": 14,
   "metadata": {},
   "outputs": [
    {
     "name": "stdout",
     "output_type": "stream",
     "text": [
      "<html>\n",
      "<head>\n",
      "<title>대한민국 대표 기업공시채널 KIND</title>\n",
      "<!--[if lt IE 9]>\n",
      "<script type=\"text/javascript\" sr\n"
     ]
    }
   ],
   "source": [
    "# 정제된 HTML 출력\n",
    "print(result.cleaned_html[:100])"
   ]
  },
  {
   "cell_type": "code",
   "execution_count": 15,
   "metadata": {},
   "outputs": [
    {
     "name": "stdout",
     "output_type": "stream",
     "text": [
      "# 키움 KIWOOM 미국성장기업30액티브증권상장지수투자신탁[주식]\n",
      "  * [상품개요(ETF)](https://kind.krx.co.kr/disclosure/etfisudetail.do?method=searchEtfIsuSummary&strIsurCd=45979 \"상품개요\\(ETF\\)\")\n",
      "\n",
      "\n",
      "## 상품 개요\n",
      "목록 한글명 |  KIWOOM 미국성장기업30액티브  | 영문명 |  KIWOOM US Growth 30 Active   \n",
      "---|---|---|---  \n",
      "표준코드 |  KR7459790002  | 종목코드 |  459790   \n",
      "상장일 |  2023-06-27  | 펀드형태 |  수익증권형   \n",
      "기초지수명 |  MSCI USA Index(Price Return)  | 추적배수 |  일반 (1)   \n",
      "자산운용사 |  키움투자자산운용(주)  | 지정참가회사(AP) |  키움증권, 삼성증권, DB금융투자   \n",
      "총보수(%) |  0.76  | 회계기간 |  매년 1월 1일부터 12월 31일까지. 단, 최초 회계기간은 최초설정일로부터 당해연도 12월 31일까지   \n",
      "과세유형 |  배당소득세(보유기간과세)  | 분배금 지급일 |  1월, 4월, 7월, 10월 마지막 영업일 및 회계기간 종료일(다만, 회계기간 종료일이 영업일이 아닌 경우 그 직전 영업일)   \n",
      "홈페이지 |  <http://www.kosef.co.kr>  \n",
      "## 유형 정보\n",
      "목록 기초 시장 |  (해외)   \n",
      "(북미)   \n",
      "(미국)  | 기초 자산 |  (주식)   \n",
      "(시장대표) / (-)   \n",
      "(-) / (-)   \n",
      "---|---|---|---  \n",
      "## 상품 설명\n",
      "목록 기본 정보 |  ```\n",
      "1. 이 투자신탁은 해외 주식을 주된 투자대상으로 하며, MSCI에서 산출 및 발표하는 “MSCI USA Index(Price Return)(원화환산)”를 비교지수로 하여 1좌당 순자산가치의 변동률이 비교지수의 변동률을 초과하도록 운용하는 것을 목적으로 합니다.  \n",
      "\n",
      "2. 이 투자신탁은 액티브상장지수펀드로서 비교지수의 구성종목인 해외 주식에 투자신탁재산의 60% 이상을 투자하며, 투자목석 달성을 위하여 비교지수 이외의 종목에도 투자할 수 있습니다. 향후 글로벌 산업 성장을 이끌어갈 성장 테마 내에서 구조적 성장세를 보이는 미국 주요 산업의 핵심 종목 30개 내외를 선정하여 포트폴리오를 구성할 예정입니다.\n",
      "\n",
      "3. 이 투자신탁은 환율변동으로 인한 투자신탁재산의 위험을 방지하기 위한 환헤지 전략을 실행하지 아니할 계획입니다. 따라서, 이 투자신탁은 환율변동위험에 노출됩니다. \n",
      "```\n",
      "  \n",
      "---|---  \n",
      "투자유의사항 |  ```\n",
      "1. 이 ETF의 수익률은 보수 또는 비용 등 이 ETF의 순자산가치에 부의 영향을 미치는 다양한 이유로 인하여 기초지수 수익률과 괴리(추적오차)가 발생할 수 있습니다.\n",
      "\n",
      "2. 개인투자자는 보유 ETF를 거래소에서 매도하는 방법으로만 현금화가 가능하므로 보유수익증권을 판매회사 또는 지정참가회사에 환매 신청할 수 없으며, 거래소의 거래 상황에 따라 동 ETF의 순자산가치와 거래가격이 다르게 형성될 수 있습니다.\n",
      "```\n",
      "  \n",
      "[닫 기](https://kind.krx.co.kr/disclosure/etfisudetail.do?method=searchEtfIsuSummary&strIsurCd=45979#myclose \"닫기\")\n",
      "  * ![유가증권](https://kind.krx.co.kr/images/common/icn_t_yu.gif) 유가증권 \n",
      "  * ![코스닥](https://kind.krx.co.kr/images/common/icn_t_ko.gif) 코스닥 \n",
      "  * ![코넥스](https://kind.krx.co.kr/images/common/icn_t_konex.gif) 코넥스 \n",
      "  * ![관리종목](https://kind.krx.co.kr/images/common/icn_t_kwan.gif) 관리종목 \n",
      "  * ![투자주의환기종목](https://kind.krx.co.kr/images/common/icn_t_hwan.gif) 투자주의환기종목 \n",
      "  * ![불성실공시법인](https://kind.krx.co.kr/images/common/icn_t_bul.gif) 불성실공시법인 \n",
      "  * ![폐지법인](https://kind.krx.co.kr/images/common/icn_t_pe.gif) 폐지법인 \n",
      "  * ![코리아밸류업](https://kind.krx.co.kr/images/common/icn_t_v100.gif) 코리아밸류업 \n",
      "  * ![KOSPI200](https://kind.krx.co.kr/images/common/icn_t_k200.gif) KOSPI200 \n",
      "  * ![KOSDAQ150](https://kind.krx.co.kr/images/common/icn_t_q150.gif) KOSDAQ150 \n",
      "  * ![KRX300](https://kind.krx.co.kr/images/common/icn_t_x300.gif) KRX300 \n",
      "  * ![KTOP30](https://kind.krx.co.kr/images/common/icn_t_ktop.gif) KTOP30 \n",
      "  * ![정정있음](https://kind.krx.co.kr/images/common/icn_t_jung.gif) 정정있음 \n",
      "  * ![투자주의](https://kind.krx.co.kr/images/common/icn_t_joo.gif) 투자주의 \n",
      "  * ![투자경고](https://kind.krx.co.kr/images/common/icn_t_kyung.gif) 투자경고 \n",
      "  * ![투자위험](https://kind.krx.co.kr/images/common/icn_t_wii.gif) 투자위험 \n",
      "\n",
      "![](https://kind.krx.co.kr/images/common/icn_tbox_tl.png) ![](https://kind.krx.co.kr/images/common/icn_tbox_bl.gif) ![](https://kind.krx.co.kr/images/common/icn_tbox_tr.gif) ![](https://kind.krx.co.kr/images/common/icn_tbox_br.gif)\n",
      "자료를 조회 중입니다.[close](https://kind.krx.co.kr/disclosure/etfisudetail.do?method=searchEtfIsuSummary&strIsurCd=45979)\n",
      "![](https://kind.krx.co.kr/images/loader/ajax-loader01.gif)\n",
      "\n"
     ]
    }
   ],
   "source": [
    "# 마크다운 변환 결과 (정제된)\n",
    "print(result.markdown)"
   ]
  },
  {
   "cell_type": "code",
   "execution_count": 16,
   "metadata": {},
   "outputs": [],
   "source": [
    "# 구조화된 데이터 (Optional)\n",
    "if result.extracted_content:\n",
    "    data = json.loads(result.extracted_content)\n",
    "    print(data)"
   ]
  },
  {
   "cell_type": "markdown",
   "metadata": {},
   "source": [
    "### 4) **BrowserConfig 설정** \n",
    "\n",
    "- **BrowserConfig**로 브라우저 타입, 헤드리스 모드, 뷰포트 크기 등 **기본 설정** 관리\n",
    "\n",
    "- **프록시 설정**과 **디버깅 옵션**을 통한 고급 크롤링 환경 구성\n",
    "\n",
    "- **AsyncWebCrawler** 클래스와 연동하여 비동기 크롤링 실행"
   ]
  },
  {
   "cell_type": "code",
   "execution_count": 17,
   "metadata": {},
   "outputs": [
    {
     "data": {
      "text/html": [
       "<pre style=\"white-space:pre;overflow-x:auto;line-height:normal;font-family:Menlo,'DejaVu Sans Mono',consolas,'Courier New',monospace\"><span style=\"color: #808080; text-decoration-color: #808080; font-weight: bold\">[</span><span style=\"color: #808080; text-decoration-color: #808080\">BROWSER</span><span style=\"color: #808080; text-decoration-color: #808080; font-weight: bold\">]</span><span style=\"color: #808080; text-decoration-color: #808080\">. ℹ Starting browser with args: </span>\n",
       "<span style=\"color: #808080; text-decoration-color: #808080\">C:\\Users\\kaydash\\AppData\\Local\\ms-playwright\\chromium-</span><span style=\"color: #808080; text-decoration-color: #808080; font-weight: bold\">1187</span><span style=\"color: #808080; text-decoration-color: #808080\">\\chrome-win\\chrome.exe --remote-debugging-</span><span style=\"color: #808080; text-decoration-color: #808080\">port</span><span style=\"color: #808080; text-decoration-color: #808080\">=</span><span style=\"color: #808080; text-decoration-color: #808080; font-weight: bold\">9222</span><span style=\"color: #808080; text-decoration-color: #808080\"> </span>\n",
       "<span style=\"color: #808080; text-decoration-color: #808080\">--user-data-</span><span style=\"color: #808080; text-decoration-color: #808080\">dir</span><span style=\"color: #808080; text-decoration-color: #808080\">=</span><span style=\"color: #808080; text-decoration-color: #808080\">C</span><span style=\"color: #808080; text-decoration-color: #808080\">:\\Users\\kaydash\\AppData\\Local\\Temp\\browser-profile-sv6gupoy --</span><span style=\"color: #808080; text-decoration-color: #808080\">headless</span><span style=\"color: #808080; text-decoration-color: #808080\">=</span><span style=\"color: #808080; text-decoration-color: #808080\">new</span><span style=\"color: #808080; text-decoration-color: #808080\"> --disable-gpu </span>\n",
       "<span style=\"color: #808080; text-decoration-color: #808080\">--disable-gpu-compositing --disable-software-rasterizer --no-sandbox --disable-dev-shm-usage --no-first-run </span>\n",
       "<span style=\"color: #808080; text-decoration-color: #808080\">--no-default-browser-check --disable-infobars --window-</span><span style=\"color: #808080; text-decoration-color: #808080\">position</span><span style=\"color: #808080; text-decoration-color: #808080\">=</span><span style=\"color: #808080; text-decoration-color: #808080; font-weight: bold\">0</span><span style=\"color: #808080; text-decoration-color: #808080\">,</span><span style=\"color: #808080; text-decoration-color: #808080; font-weight: bold\">0</span><span style=\"color: #808080; text-decoration-color: #808080\"> --ignore-certificate-errors </span>\n",
       "<span style=\"color: #808080; text-decoration-color: #808080\">--ignore-certificate-errors-spki-list --disable-blink-</span><span style=\"color: #808080; text-decoration-color: #808080\">features</span><span style=\"color: #808080; text-decoration-color: #808080\">=</span><span style=\"color: #808080; text-decoration-color: #808080\">AutomationControlled</span><span style=\"color: #808080; text-decoration-color: #808080\"> --window-</span><span style=\"color: #808080; text-decoration-color: #808080\">position</span><span style=\"color: #808080; text-decoration-color: #808080\">=</span><span style=\"color: #808080; text-decoration-color: #808080; font-weight: bold\">400</span><span style=\"color: #808080; text-decoration-color: #808080\">,</span><span style=\"color: #808080; text-decoration-color: #808080; font-weight: bold\">0</span><span style=\"color: #808080; text-decoration-color: #808080\"> </span>\n",
       "<span style=\"color: #808080; text-decoration-color: #808080\">--disable-renderer-backgrounding --disable-ipc-flooding-protection --force-color-</span><span style=\"color: #808080; text-decoration-color: #808080\">profile</span><span style=\"color: #808080; text-decoration-color: #808080\">=</span><span style=\"color: #808080; text-decoration-color: #808080\">srgb</span><span style=\"color: #808080; text-decoration-color: #808080\"> --mute-audio </span>\n",
       "<span style=\"color: #808080; text-decoration-color: #808080\">--disable-background-timer-throttling --blink-</span><span style=\"color: #808080; text-decoration-color: #808080\">settings</span><span style=\"color: #808080; text-decoration-color: #808080\">=</span><span style=\"color: #808080; text-decoration-color: #808080\">imagesEnabled</span><span style=\"color: #808080; text-decoration-color: #808080\">=false --disable-remote-fonts --disable-images </span>\n",
       "<span style=\"color: #808080; text-decoration-color: #808080\">--disable-javascript </span>\n",
       "</pre>\n"
      ],
      "text/plain": [
       "\u001b[1;90m[\u001b[0m\u001b[90mBROWSER\u001b[0m\u001b[1;90m]\u001b[0m\u001b[90m. ℹ Starting browser with args: \u001b[0m\n",
       "\u001b[90mC:\\Users\\kaydash\\AppData\\Local\\ms-playwright\\chromium-\u001b[0m\u001b[1;90m1187\u001b[0m\u001b[90m\\chrome-win\\chrome.exe --remote-debugging-\u001b[0m\u001b[90mport\u001b[0m\u001b[90m=\u001b[0m\u001b[1;90m9222\u001b[0m\u001b[90m \u001b[0m\n",
       "\u001b[90m--user-data-\u001b[0m\u001b[90mdir\u001b[0m\u001b[90m=\u001b[0m\u001b[90mC\u001b[0m\u001b[90m:\\Users\\kaydash\\AppData\\Local\\Temp\\browser-profile-sv6gupoy --\u001b[0m\u001b[90mheadless\u001b[0m\u001b[90m=\u001b[0m\u001b[90mnew\u001b[0m\u001b[90m --disable-gpu \u001b[0m\n",
       "\u001b[90m--disable-gpu-compositing --disable-software-rasterizer --no-sandbox --disable-dev-shm-usage --no-first-run \u001b[0m\n",
       "\u001b[90m--no-default-browser-check --disable-infobars --window-\u001b[0m\u001b[90mposition\u001b[0m\u001b[90m=\u001b[0m\u001b[1;90m0\u001b[0m\u001b[90m,\u001b[0m\u001b[1;90m0\u001b[0m\u001b[90m --ignore-certificate-errors \u001b[0m\n",
       "\u001b[90m--ignore-certificate-errors-spki-list --disable-blink-\u001b[0m\u001b[90mfeatures\u001b[0m\u001b[90m=\u001b[0m\u001b[90mAutomationControlled\u001b[0m\u001b[90m --window-\u001b[0m\u001b[90mposition\u001b[0m\u001b[90m=\u001b[0m\u001b[1;90m400\u001b[0m\u001b[90m,\u001b[0m\u001b[1;90m0\u001b[0m\u001b[90m \u001b[0m\n",
       "\u001b[90m--disable-renderer-backgrounding --disable-ipc-flooding-protection --force-color-\u001b[0m\u001b[90mprofile\u001b[0m\u001b[90m=\u001b[0m\u001b[90msrgb\u001b[0m\u001b[90m --mute-audio \u001b[0m\n",
       "\u001b[90m--disable-background-timer-throttling --blink-\u001b[0m\u001b[90msettings\u001b[0m\u001b[90m=\u001b[0m\u001b[90mimagesEnabled\u001b[0m\u001b[90m=false --disable-remote-fonts --disable-images \u001b[0m\n",
       "\u001b[90m--disable-javascript \u001b[0m\n"
      ]
     },
     "metadata": {},
     "output_type": "display_data"
    },
    {
     "data": {
      "text/html": [
       "<pre style=\"white-space:pre;overflow-x:auto;line-height:normal;font-family:Menlo,'DejaVu Sans Mono',consolas,'Courier New',monospace\"><span style=\"color: #008080; text-decoration-color: #008080; font-weight: bold\">[</span><span style=\"color: #008080; text-decoration-color: #008080\">INIT</span><span style=\"color: #008080; text-decoration-color: #008080; font-weight: bold\">]</span><span style=\"color: #008080; text-decoration-color: #008080\">.... → Crawl4AI </span><span style=\"color: #008080; text-decoration-color: #008080; font-weight: bold\">0.7</span><span style=\"color: #008080; text-decoration-color: #008080\">.</span><span style=\"color: #008080; text-decoration-color: #008080; font-weight: bold\">4</span><span style=\"color: #008080; text-decoration-color: #008080\"> </span>\n",
       "</pre>\n"
      ],
      "text/plain": [
       "\u001b[1;36m[\u001b[0m\u001b[36mINIT\u001b[0m\u001b[1;36m]\u001b[0m\u001b[36m...\u001b[0m\u001b[36m. → Crawl4AI \u001b[0m\u001b[1;36m0.7\u001b[0m\u001b[36m.\u001b[0m\u001b[1;36m4\u001b[0m\u001b[36m \u001b[0m\n"
      ]
     },
     "metadata": {},
     "output_type": "display_data"
    },
    {
     "data": {
      "text/html": [
       "<pre style=\"white-space:pre;overflow-x:auto;line-height:normal;font-family:Menlo,'DejaVu Sans Mono',consolas,'Courier New',monospace\"><span style=\"color: #008000; text-decoration-color: #008000; font-weight: bold\">[</span><span style=\"color: #008000; text-decoration-color: #008000\">FETCH</span><span style=\"color: #008000; text-decoration-color: #008000; font-weight: bold\">]</span><span style=\"color: #008000; text-decoration-color: #008000\">... ↓ </span><span style=\"color: #008000; text-decoration-color: #008000; text-decoration: underline\">https://kind.krx.co.kr/disclosure/etfisudetail.do?method=searchEtfIsuSummary&amp;strIsurCd=45979</span><span style=\"color: #008000; text-decoration-color: #008000\">         |</span>\n",
       "<span style=\"color: #008000; text-decoration-color: #008000\">✓ | ⏱: </span><span style=\"color: #008000; text-decoration-color: #008000; font-weight: bold\">0.</span><span style=\"color: #008000; text-decoration-color: #008000\">78s </span>\n",
       "</pre>\n"
      ],
      "text/plain": [
       "\u001b[1;32m[\u001b[0m\u001b[32mFETCH\u001b[0m\u001b[1;32m]\u001b[0m\u001b[32m...\u001b[0m\u001b[32m ↓ \u001b[0m\u001b[4;32mhttps://kind.krx.co.kr/disclosure/etfisudetail.do?\u001b[0m\u001b[4;32mmethod\u001b[0m\u001b[4;32m=\u001b[0m\u001b[4;32msearchEtfIsuSummary\u001b[0m\u001b[4;32m&\u001b[0m\u001b[4;32mstrIsurCd\u001b[0m\u001b[4;32m=\u001b[0m\u001b[4;32m45979\u001b[0m\u001b[32m         |\u001b[0m\n",
       "\u001b[32m✓\u001b[0m\u001b[32m | ⏱: \u001b[0m\u001b[1;32m0.\u001b[0m\u001b[32m78s \u001b[0m\n"
      ]
     },
     "metadata": {},
     "output_type": "display_data"
    },
    {
     "data": {
      "text/html": [
       "<pre style=\"white-space:pre;overflow-x:auto;line-height:normal;font-family:Menlo,'DejaVu Sans Mono',consolas,'Courier New',monospace\"><span style=\"color: #008000; text-decoration-color: #008000; font-weight: bold\">[</span><span style=\"color: #008000; text-decoration-color: #008000\">SCRAPE</span><span style=\"color: #008000; text-decoration-color: #008000; font-weight: bold\">]</span><span style=\"color: #008000; text-decoration-color: #008000\">.. ◆ </span><span style=\"color: #008000; text-decoration-color: #008000; text-decoration: underline\">https://kind.krx.co.kr/disclosure/etfisudetail.do?method=searchEtfIsuSummary&amp;strIsurCd=45979</span><span style=\"color: #008000; text-decoration-color: #008000\">         |</span>\n",
       "<span style=\"color: #008000; text-decoration-color: #008000\">✓ | ⏱: </span><span style=\"color: #008000; text-decoration-color: #008000; font-weight: bold\">0.</span><span style=\"color: #008000; text-decoration-color: #008000\">01s </span>\n",
       "</pre>\n"
      ],
      "text/plain": [
       "\u001b[1;32m[\u001b[0m\u001b[32mSCRAPE\u001b[0m\u001b[1;32m]\u001b[0m\u001b[32m.. ◆ \u001b[0m\u001b[4;32mhttps://kind.krx.co.kr/disclosure/etfisudetail.do?\u001b[0m\u001b[4;32mmethod\u001b[0m\u001b[4;32m=\u001b[0m\u001b[4;32msearchEtfIsuSummary\u001b[0m\u001b[4;32m&\u001b[0m\u001b[4;32mstrIsurCd\u001b[0m\u001b[4;32m=\u001b[0m\u001b[4;32m45979\u001b[0m\u001b[32m         |\u001b[0m\n",
       "\u001b[32m✓\u001b[0m\u001b[32m | ⏱: \u001b[0m\u001b[1;32m0.\u001b[0m\u001b[32m01s \u001b[0m\n"
      ]
     },
     "metadata": {},
     "output_type": "display_data"
    },
    {
     "data": {
      "text/html": [
       "<pre style=\"white-space:pre;overflow-x:auto;line-height:normal;font-family:Menlo,'DejaVu Sans Mono',consolas,'Courier New',monospace\"><span style=\"color: #008000; text-decoration-color: #008000; font-weight: bold\">[</span><span style=\"color: #008000; text-decoration-color: #008000\">COMPLETE</span><span style=\"color: #008000; text-decoration-color: #008000; font-weight: bold\">]</span><span style=\"color: #008000; text-decoration-color: #008000\"> ● </span><span style=\"color: #008000; text-decoration-color: #008000; text-decoration: underline\">https://kind.krx.co.kr/disclosure/etfisudetail.do?method=searchEtfIsuSummary&amp;strIsurCd=45979</span><span style=\"color: #008000; text-decoration-color: #008000\">         |</span>\n",
       "<span style=\"color: #008000; text-decoration-color: #008000\">✓ | ⏱: </span><span style=\"color: #008000; text-decoration-color: #008000; font-weight: bold\">0.</span><span style=\"color: #008000; text-decoration-color: #008000\">80s </span>\n",
       "</pre>\n"
      ],
      "text/plain": [
       "\u001b[1;32m[\u001b[0m\u001b[32mCOMPLETE\u001b[0m\u001b[1;32m]\u001b[0m\u001b[32m ● \u001b[0m\u001b[4;32mhttps://kind.krx.co.kr/disclosure/etfisudetail.do?\u001b[0m\u001b[4;32mmethod\u001b[0m\u001b[4;32m=\u001b[0m\u001b[4;32msearchEtfIsuSummary\u001b[0m\u001b[4;32m&\u001b[0m\u001b[4;32mstrIsurCd\u001b[0m\u001b[4;32m=\u001b[0m\u001b[4;32m45979\u001b[0m\u001b[32m         |\u001b[0m\n",
       "\u001b[32m✓\u001b[0m\u001b[32m | ⏱: \u001b[0m\u001b[1;32m0.\u001b[0m\u001b[32m80s \u001b[0m\n"
      ]
     },
     "metadata": {},
     "output_type": "display_data"
    },
    {
     "name": "stdout",
     "output_type": "stream",
     "text": [
      "True\n",
      "# 키움 KIWOOM 미국성장기업30액티브증권상장지수투자신탁[주식]\n",
      "  * [상품개요(ETF)](https://kind.krx.co.kr/disclosure/etfisudetail.do?method=searchEtfIsuSummary&strIsurCd=45979 \"상품개요\\(ETF\\)\")\n",
      "\n",
      "\n",
      "## 상품 개요\n",
      "목록 한글명 |  KIWOOM 미국성장기업30액티브  | 영문명 |  KIWOOM US Growth 30 Active   \n",
      "---|---|---|---  \n",
      "표준코드 |  KR7459790002  | 종목코드 |  459790   \n",
      "상장일 |  2023-06-27  | 펀드형태 |  수익증권형   \n",
      "기초지수명 |  MSCI USA Index(Price Return)  | 추적배수 |  일반 (1)   \n",
      "자산운용사 |  키움투자자산운용(주)  | 지정참가회사(AP) |  키움증권, 삼성증권, DB금융투자   \n",
      "총보수(%) |  0.76  | 회계기간 |  매년 1월 1일부터 12월 31일까지. 단, 최초 회계기간은 최초설정일로부터 당해연도 12월 31일까지   \n",
      "과세유형 |  배당소득세(보유기간과세)  | 분배금 지급일 |  1월, 4월, 7월, 10월 마지막 영업일 및 회계기간 종료일(다만, 회계기간 종료일이 영업일이 아닌 경우 그 직전 영업일)   \n",
      "홈페이지 |  <http://www.kosef.co.kr>  \n",
      "## 유형 정보\n",
      "목록 기초 시장 |  (해외)   \n",
      "(북미)   \n",
      "(미국)  | 기초 자산 |  (주식)   \n",
      "(시장대표) / (-)   \n",
      "(-) / (-)   \n",
      "---|---|---|---  \n",
      "## 상품 설명\n",
      "목록 기본 정보 |  ```\n",
      "1. 이 투자신탁은 해외 주식을 주된 투자대상으로 하며, MSCI에서 산출 및 발표하는 “MSCI USA Index(Price Return)(원화환산)”를 비교지수로 하여 1좌당 순자산가치의 변동률이 비교지수의 변동률을 초과하도록 운용하는 것을 목적으로 합니다.  \n",
      "\n",
      "2. 이 투자신탁은 액티브상장지수펀드로서 비교지수의 구성종목인 해외 주식에 투자신탁재산의 60% 이상을 투자하며, 투자목석 달성을 위하여 비교지수 이외의 종목에도 투자할 수 있습니다. 향후 글로벌 산업 성장을 이끌어갈 성장 테마 내에서 구조적 성장세를 보이는 미국 주요 산업의 핵심 종목 30개 내외를 선정하여 포트폴리오를 구성할 예정입니다.\n",
      "\n",
      "3. 이 투자신탁은 환율변동으로 인한 투자신탁재산의 위험을 방지하기 위한 환헤지 전략을 실행하지 아니할 계획입니다. 따라서, 이 투자신탁은 환율변동위험에 노출됩니다. \n",
      "```\n",
      "  \n",
      "---|---  \n",
      "투자유의사항 |  ```\n",
      "1. 이 ETF의 수익률은 보수 또는 비용 등 이 ETF의 순자산가치에 부의 영향을 미치는 다양한 이유로 인하여 기초지수 수익률과 괴리(추적오차)가 발생할 수 있습니다.\n",
      "\n",
      "2. 개인투자자는 보유 ETF를 거래소에서 매도하는 방법으로만 현금화가 가능하므로 보유수익증권을 판매회사 또는 지정참가회사에 환매 신청할 수 없으며, 거래소의 거래 상황에 따라 동 ETF의 순자산가치와 거래가격이 다르게 형성될 수 있습니다.\n",
      "```\n",
      "  \n",
      "[닫 기](https://kind.krx.co.kr/disclosure/etfisudetail.do?method=searchEtfIsuSummary&strIsurCd=45979#myclose \"닫기\")\n",
      "  * ![유가증권](https://kind.krx.co.kr/images/common/icn_t_yu.gif) 유가증권 \n",
      "  * ![코스닥](https://kind.krx.co.kr/images/common/icn_t_ko.gif) 코스닥 \n",
      "  * ![코넥스](https://kind.krx.co.kr/images/common/icn_t_konex.gif) 코넥스 \n",
      "  * ![관리종목](https://kind.krx.co.kr/images/common/icn_t_kwan.gif) 관리종목 \n",
      "  * ![투자주의환기종목](https://kind.krx.co.kr/images/common/icn_t_hwan.gif) 투자주의환기종목 \n",
      "  * ![불성실공시법인](https://kind.krx.co.kr/images/common/icn_t_bul.gif) 불성실공시법인 \n",
      "  * ![폐지법인](https://kind.krx.co.kr/images/common/icn_t_pe.gif) 폐지법인 \n",
      "  * ![코리아밸류업](https://kind.krx.co.kr/images/common/icn_t_v100.gif) 코리아밸류업 \n",
      "  * ![KOSPI200](https://kind.krx.co.kr/images/common/icn_t_k200.gif) KOSPI200 \n",
      "  * ![KOSDAQ150](https://kind.krx.co.kr/images/common/icn_t_q150.gif) KOSDAQ150 \n",
      "  * ![KRX300](https://kind.krx.co.kr/images/common/icn_t_x300.gif) KRX300 \n",
      "  * ![KTOP30](https://kind.krx.co.kr/images/common/icn_t_ktop.gif) KTOP30 \n",
      "  * ![정정있음](https://kind.krx.co.kr/images/common/icn_t_jung.gif) 정정있음 \n",
      "  * ![투자주의](https://kind.krx.co.kr/images/common/icn_t_joo.gif) 투자주의 \n",
      "  * ![투자경고](https://kind.krx.co.kr/images/common/icn_t_kyung.gif) 투자경고 \n",
      "  * ![투자위험](https://kind.krx.co.kr/images/common/icn_t_wii.gif) 투자위험 \n",
      "\n",
      "![](https://kind.krx.co.kr/images/common/icn_tbox_tl.png) ![](https://kind.krx.co.kr/images/common/icn_tbox_bl.gif) ![](https://kind.krx.co.kr/images/common/icn_tbox_tr.gif) ![](https://kind.krx.co.kr/images/common/icn_tbox_br.gif)\n",
      "자료를 조회 중입니다.[close](https://kind.krx.co.kr/disclosure/etfisudetail.do?method=searchEtfIsuSummary&strIsurCd=45979)\n",
      "![](https://kind.krx.co.kr/images/loader/ajax-loader01.gif)\n",
      "\n"
     ]
    }
   ],
   "source": [
    "import asyncio\n",
    "from crawl4ai import AsyncWebCrawler, BrowserConfig, CrawlerRunConfig\n",
    "\n",
    "# 기본 설정\n",
    "base_config = BrowserConfig(\n",
    "    browser_type=\"chromium\",  # 브라우저 엔진 선택\n",
    "    viewport_width=1080,     # 뷰포트 크기\n",
    "    viewport_height=600,\n",
    "    text_mode=True,          # 텍스트 모드 (이미지 비활성화)\n",
    "    use_persistent_context=True,  # 세션을 유지\n",
    "    headless=True,           # 헤드리스 모드 실행\n",
    ")\n",
    "\n",
    "# 디버깅용 설정\n",
    "debug_config = base_config.clone(\n",
    "    headless=False,  # 헤드리스 모드 비활성화\n",
    "    verbose=True     # 디버깅용 로그 출력\n",
    ") \n",
    "\n",
    "# 프록시 설정 (필요 시 적절한 프록시 서버 구성)\n",
    "proxy_config = {\n",
    "    \"server\": \"http://proxy.example.com:8080\",\n",
    "    \"username\": \"user\",\n",
    "    \"password\": \"pass\"\n",
    "}\n",
    "\n",
    "proxy_config = base_config.clone(\n",
    "    proxy_config=proxy_config,  \n",
    ")\n",
    "\n",
    "# 크롤러 실행 설정\n",
    "run_config = CrawlerRunConfig()   \n",
    "\n",
    "async def extract_by_url(url , browser_config: BrowserConfig, run_config: CrawlerRunConfig):\n",
    "    \"\"\" \n",
    "    크롤링 실행 함수\n",
    "    \"\"\"\n",
    "\n",
    "    async with AsyncWebCrawler(config=browser_config) as crawler:   # 크롤러 객체 생성\n",
    "        result = await crawler.arun(\n",
    "            url=url,\n",
    "            config=run_config   # 크롤러 실행 설정\n",
    "        )\n",
    "        \n",
    "    return result\n",
    "\n",
    "\n",
    "# 크롤링 실행 및 결과 출력\n",
    "#result = asyncio.run(extract_by_url(etf_url, base_config, run_config))\n",
    "result = loop.run_until_complete(extract_by_url(etf_url, base_config, run_config))\n",
    "print(result.success)  # 크롤링 성공 여부\n",
    "print(result.markdown)  # 크롤링 결과 (정제된 markdown 출력)"
   ]
  },
  {
   "cell_type": "markdown",
   "metadata": {},
   "source": [
    "### 5) **CrawlerRunConfig 설정** \n",
    "\n",
    "- 단어 수 제한, 추출 전략, 캐시 설정 등 **크롤링 옵션** 관리\n",
    "\n",
    "- **js_code**와 **wait_for** 옵션으로 동적 콘텐츠 처리 가능\n",
    "\n",
    "- **screenshot**과 **rate_limiting** 기능으로 크롤링 과정 제어\n",
    "\n",
    "- **기본 구조**:\n",
    "\n",
    "    ```python\n",
    "    class CrawlerRunConfig:\n",
    "        def __init__(\n",
    "            word_count_threshold=200,      # 컨텐츠 최소 단어 수\n",
    "            extraction_strategy=None,      # 데이터 추출 전략\n",
    "            cache_mode=None,               # 캐시 설정\n",
    "            js_code=None,                  # 실행할 JS 코드\n",
    "            wait_for=None,                 # 대기 조건\n",
    "            screenshot=False,              # 스크린샷 캡처\n",
    "            enable_rate_limiting=False     # 속도 제한 활성화\n",
    "        )\n",
    "    ```"
   ]
  },
  {
   "cell_type": "markdown",
   "metadata": {},
   "source": [
    "`(1) 기본 추출 설정`"
   ]
  },
  {
   "cell_type": "code",
   "execution_count": 18,
   "metadata": {},
   "outputs": [
    {
     "data": {
      "text/html": [
       "<pre style=\"white-space:pre;overflow-x:auto;line-height:normal;font-family:Menlo,'DejaVu Sans Mono',consolas,'Courier New',monospace\"><span style=\"color: #808080; text-decoration-color: #808080; font-weight: bold\">[</span><span style=\"color: #808080; text-decoration-color: #808080\">BROWSER</span><span style=\"color: #808080; text-decoration-color: #808080; font-weight: bold\">]</span><span style=\"color: #808080; text-decoration-color: #808080\">. ℹ Starting browser with args: </span>\n",
       "<span style=\"color: #808080; text-decoration-color: #808080\">C:\\Users\\kaydash\\AppData\\Local\\ms-playwright\\chromium-</span><span style=\"color: #808080; text-decoration-color: #808080; font-weight: bold\">1187</span><span style=\"color: #808080; text-decoration-color: #808080\">\\chrome-win\\chrome.exe --remote-debugging-</span><span style=\"color: #808080; text-decoration-color: #808080\">port</span><span style=\"color: #808080; text-decoration-color: #808080\">=</span><span style=\"color: #808080; text-decoration-color: #808080; font-weight: bold\">9222</span><span style=\"color: #808080; text-decoration-color: #808080\"> </span>\n",
       "<span style=\"color: #808080; text-decoration-color: #808080\">--user-data-</span><span style=\"color: #808080; text-decoration-color: #808080\">dir</span><span style=\"color: #808080; text-decoration-color: #808080\">=</span><span style=\"color: #808080; text-decoration-color: #808080\">C</span><span style=\"color: #808080; text-decoration-color: #808080\">:\\Users\\kaydash\\AppData\\Local\\Temp\\browser-profile-f4qa4d40 --</span><span style=\"color: #808080; text-decoration-color: #808080\">headless</span><span style=\"color: #808080; text-decoration-color: #808080\">=</span><span style=\"color: #808080; text-decoration-color: #808080\">new</span><span style=\"color: #808080; text-decoration-color: #808080\"> --disable-gpu </span>\n",
       "<span style=\"color: #808080; text-decoration-color: #808080\">--disable-gpu-compositing --disable-software-rasterizer --no-sandbox --disable-dev-shm-usage --no-first-run </span>\n",
       "<span style=\"color: #808080; text-decoration-color: #808080\">--no-default-browser-check --disable-infobars --window-</span><span style=\"color: #808080; text-decoration-color: #808080\">position</span><span style=\"color: #808080; text-decoration-color: #808080\">=</span><span style=\"color: #808080; text-decoration-color: #808080; font-weight: bold\">0</span><span style=\"color: #808080; text-decoration-color: #808080\">,</span><span style=\"color: #808080; text-decoration-color: #808080; font-weight: bold\">0</span><span style=\"color: #808080; text-decoration-color: #808080\"> --ignore-certificate-errors </span>\n",
       "<span style=\"color: #808080; text-decoration-color: #808080\">--ignore-certificate-errors-spki-list --disable-blink-</span><span style=\"color: #808080; text-decoration-color: #808080\">features</span><span style=\"color: #808080; text-decoration-color: #808080\">=</span><span style=\"color: #808080; text-decoration-color: #808080\">AutomationControlled</span><span style=\"color: #808080; text-decoration-color: #808080\"> --window-</span><span style=\"color: #808080; text-decoration-color: #808080\">position</span><span style=\"color: #808080; text-decoration-color: #808080\">=</span><span style=\"color: #808080; text-decoration-color: #808080; font-weight: bold\">400</span><span style=\"color: #808080; text-decoration-color: #808080\">,</span><span style=\"color: #808080; text-decoration-color: #808080; font-weight: bold\">0</span><span style=\"color: #808080; text-decoration-color: #808080\"> </span>\n",
       "<span style=\"color: #808080; text-decoration-color: #808080\">--disable-renderer-backgrounding --disable-ipc-flooding-protection --force-color-</span><span style=\"color: #808080; text-decoration-color: #808080\">profile</span><span style=\"color: #808080; text-decoration-color: #808080\">=</span><span style=\"color: #808080; text-decoration-color: #808080\">srgb</span><span style=\"color: #808080; text-decoration-color: #808080\"> --mute-audio </span>\n",
       "<span style=\"color: #808080; text-decoration-color: #808080\">--disable-background-timer-throttling --blink-</span><span style=\"color: #808080; text-decoration-color: #808080\">settings</span><span style=\"color: #808080; text-decoration-color: #808080\">=</span><span style=\"color: #808080; text-decoration-color: #808080\">imagesEnabled</span><span style=\"color: #808080; text-decoration-color: #808080\">=false --disable-remote-fonts --disable-images </span>\n",
       "<span style=\"color: #808080; text-decoration-color: #808080\">--disable-javascript </span>\n",
       "</pre>\n"
      ],
      "text/plain": [
       "\u001b[1;90m[\u001b[0m\u001b[90mBROWSER\u001b[0m\u001b[1;90m]\u001b[0m\u001b[90m. ℹ Starting browser with args: \u001b[0m\n",
       "\u001b[90mC:\\Users\\kaydash\\AppData\\Local\\ms-playwright\\chromium-\u001b[0m\u001b[1;90m1187\u001b[0m\u001b[90m\\chrome-win\\chrome.exe --remote-debugging-\u001b[0m\u001b[90mport\u001b[0m\u001b[90m=\u001b[0m\u001b[1;90m9222\u001b[0m\u001b[90m \u001b[0m\n",
       "\u001b[90m--user-data-\u001b[0m\u001b[90mdir\u001b[0m\u001b[90m=\u001b[0m\u001b[90mC\u001b[0m\u001b[90m:\\Users\\kaydash\\AppData\\Local\\Temp\\browser-profile-f4qa4d40 --\u001b[0m\u001b[90mheadless\u001b[0m\u001b[90m=\u001b[0m\u001b[90mnew\u001b[0m\u001b[90m --disable-gpu \u001b[0m\n",
       "\u001b[90m--disable-gpu-compositing --disable-software-rasterizer --no-sandbox --disable-dev-shm-usage --no-first-run \u001b[0m\n",
       "\u001b[90m--no-default-browser-check --disable-infobars --window-\u001b[0m\u001b[90mposition\u001b[0m\u001b[90m=\u001b[0m\u001b[1;90m0\u001b[0m\u001b[90m,\u001b[0m\u001b[1;90m0\u001b[0m\u001b[90m --ignore-certificate-errors \u001b[0m\n",
       "\u001b[90m--ignore-certificate-errors-spki-list --disable-blink-\u001b[0m\u001b[90mfeatures\u001b[0m\u001b[90m=\u001b[0m\u001b[90mAutomationControlled\u001b[0m\u001b[90m --window-\u001b[0m\u001b[90mposition\u001b[0m\u001b[90m=\u001b[0m\u001b[1;90m400\u001b[0m\u001b[90m,\u001b[0m\u001b[1;90m0\u001b[0m\u001b[90m \u001b[0m\n",
       "\u001b[90m--disable-renderer-backgrounding --disable-ipc-flooding-protection --force-color-\u001b[0m\u001b[90mprofile\u001b[0m\u001b[90m=\u001b[0m\u001b[90msrgb\u001b[0m\u001b[90m --mute-audio \u001b[0m\n",
       "\u001b[90m--disable-background-timer-throttling --blink-\u001b[0m\u001b[90msettings\u001b[0m\u001b[90m=\u001b[0m\u001b[90mimagesEnabled\u001b[0m\u001b[90m=false --disable-remote-fonts --disable-images \u001b[0m\n",
       "\u001b[90m--disable-javascript \u001b[0m\n"
      ]
     },
     "metadata": {},
     "output_type": "display_data"
    },
    {
     "data": {
      "text/html": [
       "<pre style=\"white-space:pre;overflow-x:auto;line-height:normal;font-family:Menlo,'DejaVu Sans Mono',consolas,'Courier New',monospace\"><span style=\"color: #008080; text-decoration-color: #008080; font-weight: bold\">[</span><span style=\"color: #008080; text-decoration-color: #008080\">INIT</span><span style=\"color: #008080; text-decoration-color: #008080; font-weight: bold\">]</span><span style=\"color: #008080; text-decoration-color: #008080\">.... → Crawl4AI </span><span style=\"color: #008080; text-decoration-color: #008080; font-weight: bold\">0.7</span><span style=\"color: #008080; text-decoration-color: #008080\">.</span><span style=\"color: #008080; text-decoration-color: #008080; font-weight: bold\">4</span><span style=\"color: #008080; text-decoration-color: #008080\"> </span>\n",
       "</pre>\n"
      ],
      "text/plain": [
       "\u001b[1;36m[\u001b[0m\u001b[36mINIT\u001b[0m\u001b[1;36m]\u001b[0m\u001b[36m...\u001b[0m\u001b[36m. → Crawl4AI \u001b[0m\u001b[1;36m0.7\u001b[0m\u001b[36m.\u001b[0m\u001b[1;36m4\u001b[0m\u001b[36m \u001b[0m\n"
      ]
     },
     "metadata": {},
     "output_type": "display_data"
    },
    {
     "data": {
      "text/html": [
       "<pre style=\"white-space:pre;overflow-x:auto;line-height:normal;font-family:Menlo,'DejaVu Sans Mono',consolas,'Courier New',monospace\"><span style=\"color: #008000; text-decoration-color: #008000; font-weight: bold\">[</span><span style=\"color: #008000; text-decoration-color: #008000\">FETCH</span><span style=\"color: #008000; text-decoration-color: #008000; font-weight: bold\">]</span><span style=\"color: #008000; text-decoration-color: #008000\">... ↓ </span><span style=\"color: #008000; text-decoration-color: #008000; text-decoration: underline\">https://kind.krx.co.kr/disclosure/etfisudetail.do?method=searchEtfIsuSummary&amp;strIsurCd=45979</span><span style=\"color: #008000; text-decoration-color: #008000\">         |</span>\n",
       "<span style=\"color: #008000; text-decoration-color: #008000\">✓ | ⏱: </span><span style=\"color: #008000; text-decoration-color: #008000; font-weight: bold\">0.</span><span style=\"color: #008000; text-decoration-color: #008000\">07s </span>\n",
       "</pre>\n"
      ],
      "text/plain": [
       "\u001b[1;32m[\u001b[0m\u001b[32mFETCH\u001b[0m\u001b[1;32m]\u001b[0m\u001b[32m...\u001b[0m\u001b[32m ↓ \u001b[0m\u001b[4;32mhttps://kind.krx.co.kr/disclosure/etfisudetail.do?\u001b[0m\u001b[4;32mmethod\u001b[0m\u001b[4;32m=\u001b[0m\u001b[4;32msearchEtfIsuSummary\u001b[0m\u001b[4;32m&\u001b[0m\u001b[4;32mstrIsurCd\u001b[0m\u001b[4;32m=\u001b[0m\u001b[4;32m45979\u001b[0m\u001b[32m         |\u001b[0m\n",
       "\u001b[32m✓\u001b[0m\u001b[32m | ⏱: \u001b[0m\u001b[1;32m0.\u001b[0m\u001b[32m07s \u001b[0m\n"
      ]
     },
     "metadata": {},
     "output_type": "display_data"
    },
    {
     "data": {
      "text/html": [
       "<pre style=\"white-space:pre;overflow-x:auto;line-height:normal;font-family:Menlo,'DejaVu Sans Mono',consolas,'Courier New',monospace\"><span style=\"color: #008000; text-decoration-color: #008000; font-weight: bold\">[</span><span style=\"color: #008000; text-decoration-color: #008000\">COMPLETE</span><span style=\"color: #008000; text-decoration-color: #008000; font-weight: bold\">]</span><span style=\"color: #008000; text-decoration-color: #008000\"> ● </span><span style=\"color: #008000; text-decoration-color: #008000; text-decoration: underline\">https://kind.krx.co.kr/disclosure/etfisudetail.do?method=searchEtfIsuSummary&amp;strIsurCd=45979</span><span style=\"color: #008000; text-decoration-color: #008000\">         |</span>\n",
       "<span style=\"color: #008000; text-decoration-color: #008000\">✓ | ⏱: </span><span style=\"color: #008000; text-decoration-color: #008000; font-weight: bold\">0.</span><span style=\"color: #008000; text-decoration-color: #008000\">07s </span>\n",
       "</pre>\n"
      ],
      "text/plain": [
       "\u001b[1;32m[\u001b[0m\u001b[32mCOMPLETE\u001b[0m\u001b[1;32m]\u001b[0m\u001b[32m ● \u001b[0m\u001b[4;32mhttps://kind.krx.co.kr/disclosure/etfisudetail.do?\u001b[0m\u001b[4;32mmethod\u001b[0m\u001b[4;32m=\u001b[0m\u001b[4;32msearchEtfIsuSummary\u001b[0m\u001b[4;32m&\u001b[0m\u001b[4;32mstrIsurCd\u001b[0m\u001b[4;32m=\u001b[0m\u001b[4;32m45979\u001b[0m\u001b[32m         |\u001b[0m\n",
       "\u001b[32m✓\u001b[0m\u001b[32m | ⏱: \u001b[0m\u001b[1;32m0.\u001b[0m\u001b[32m07s \u001b[0m\n"
      ]
     },
     "metadata": {},
     "output_type": "display_data"
    },
    {
     "name": "stdout",
     "output_type": "stream",
     "text": [
      "True\n",
      "# 키움 KIWOOM 미국성장기업30액티브증권상장지수투자신탁[주식]\n",
      "  * [상품개요(ETF)](https://kind.krx.co.kr/disclosure/etfisudetail.do?method=searchEtfIsuSummary&strIsurCd=45979 \"상품개요\\(ETF\\)\")\n",
      "\n",
      "\n",
      "## 상품 개요\n",
      "목록 한글명 |  KIWOOM 미국성장기업30액티브  | 영문명 |  KIWOOM US Growth 30 Active   \n",
      "---|---|---|---  \n",
      "표준코드 |  KR7459790002  | 종목코드 |  459790   \n",
      "상장일 |  2023-06-27  | 펀드형태 |  수익증권형   \n",
      "기초지수명 |  MSCI USA Index(Price Return)  | 추적배수 |  일반 (1)   \n",
      "자산운용사 |  키움투자자산운용(주)  | 지정참가회사(AP) |  키움증권, 삼성증권, DB금융투자   \n",
      "총보수(%) |  0.76  | 회계기간 |  매년 1월 1일부터 12월 31일까지. 단, 최초 회계기간은 최초설정일로부터 당해연도 12월 31일까지   \n",
      "과세유형 |  배당소득세(보유기간과세)  | 분배금 지급일 |  1월, 4월, 7월, 10월 마지막 영업일 및 회계기간 종료일(다만, 회계기간 종료일이 영업일이 아닌 경우 그 직전 영업일)   \n",
      "홈페이지 |  <http://www.kosef.co.kr>  \n",
      "## 유형 정보\n",
      "목록 기초 시장 |  (해외)   \n",
      "(북미)   \n",
      "(미국)  | 기초 자산 |  (주식)   \n",
      "(시장대표) / (-)   \n",
      "(-) / (-)   \n",
      "---|---|---|---  \n",
      "## 상품 설명\n",
      "목록 기본 정보 |  ```\n",
      "1. 이 투자신탁은 해외 주식을 주된 투자대상으로 하며, MSCI에서 산출 및 발표하는 “MSCI USA Index(Price Return)(원화환산)”를 비교지수로 하여 1좌당 순자산가치의 변동률이 비교지수의 변동률을 초과하도록 운용하는 것을 목적으로 합니다.  \n",
      "\n",
      "2. 이 투자신탁은 액티브상장지수펀드로서 비교지수의 구성종목인 해외 주식에 투자신탁재산의 60% 이상을 투자하며, 투자목석 달성을 위하여 비교지수 이외의 종목에도 투자할 수 있습니다. 향후 글로벌 산업 성장을 이끌어갈 성장 테마 내에서 구조적 성장세를 보이는 미국 주요 산업의 핵심 종목 30개 내외를 선정하여 포트폴리오를 구성할 예정입니다.\n",
      "\n",
      "3. 이 투자신탁은 환율변동으로 인한 투자신탁재산의 위험을 방지하기 위한 환헤지 전략을 실행하지 아니할 계획입니다. 따라서, 이 투자신탁은 환율변동위험에 노출됩니다. \n",
      "```\n",
      "  \n",
      "---|---  \n",
      "투자유의사항 |  ```\n",
      "1. 이 ETF의 수익률은 보수 또는 비용 등 이 ETF의 순자산가치에 부의 영향을 미치는 다양한 이유로 인하여 기초지수 수익률과 괴리(추적오차)가 발생할 수 있습니다.\n",
      "\n",
      "2. 개인투자자는 보유 ETF를 거래소에서 매도하는 방법으로만 현금화가 가능하므로 보유수익증권을 판매회사 또는 지정참가회사에 환매 신청할 수 없으며, 거래소의 거래 상황에 따라 동 ETF의 순자산가치와 거래가격이 다르게 형성될 수 있습니다.\n",
      "```\n",
      "  \n",
      "[닫 기](https://kind.krx.co.kr/disclosure/etfisudetail.do?method=searchEtfIsuSummary&strIsurCd=45979#myclose \"닫기\")\n",
      "  * ![유가증권](https://kind.krx.co.kr/images/common/icn_t_yu.gif) 유가증권 \n",
      "  * ![코스닥](https://kind.krx.co.kr/images/common/icn_t_ko.gif) 코스닥 \n",
      "  * ![코넥스](https://kind.krx.co.kr/images/common/icn_t_konex.gif) 코넥스 \n",
      "  * ![관리종목](https://kind.krx.co.kr/images/common/icn_t_kwan.gif) 관리종목 \n",
      "  * ![투자주의환기종목](https://kind.krx.co.kr/images/common/icn_t_hwan.gif) 투자주의환기종목 \n",
      "  * ![불성실공시법인](https://kind.krx.co.kr/images/common/icn_t_bul.gif) 불성실공시법인 \n",
      "  * ![폐지법인](https://kind.krx.co.kr/images/common/icn_t_pe.gif) 폐지법인 \n",
      "  * ![코리아밸류업](https://kind.krx.co.kr/images/common/icn_t_v100.gif) 코리아밸류업 \n",
      "  * ![KOSPI200](https://kind.krx.co.kr/images/common/icn_t_k200.gif) KOSPI200 \n",
      "  * ![KOSDAQ150](https://kind.krx.co.kr/images/common/icn_t_q150.gif) KOSDAQ150 \n",
      "  * ![KRX300](https://kind.krx.co.kr/images/common/icn_t_x300.gif) KRX300 \n",
      "  * ![KTOP30](https://kind.krx.co.kr/images/common/icn_t_ktop.gif) KTOP30 \n",
      "  * ![정정있음](https://kind.krx.co.kr/images/common/icn_t_jung.gif) 정정있음 \n",
      "  * ![투자주의](https://kind.krx.co.kr/images/common/icn_t_joo.gif) 투자주의 \n",
      "  * ![투자경고](https://kind.krx.co.kr/images/common/icn_t_kyung.gif) 투자경고 \n",
      "  * ![투자위험](https://kind.krx.co.kr/images/common/icn_t_wii.gif) 투자위험 \n",
      "\n",
      "![](https://kind.krx.co.kr/images/common/icn_tbox_tl.png) ![](https://kind.krx.co.kr/images/common/icn_tbox_bl.gif) ![](https://kind.krx.co.kr/images/common/icn_tbox_tr.gif) ![](https://kind.krx.co.kr/images/common/icn_tbox_br.gif)\n",
      "자료를 조회 중입니다.[close](https://kind.krx.co.kr/disclosure/etfisudetail.do?method=searchEtfIsuSummary&strIsurCd=45979)\n",
      "![](https://kind.krx.co.kr/images/loader/ajax-loader01.gif)\n",
      "\n"
     ]
    }
   ],
   "source": [
    "from crawl4ai import AsyncWebCrawler, BrowserConfig, CrawlerRunConfig, CacheMode\n",
    "\n",
    "run_config = CrawlerRunConfig(\n",
    "    cache_mode=CacheMode.ENABLED,   # 캐시 활성화\n",
    "    word_count_threshold=200,       # 컨텐츠 블록의 최소 단어 수 기준 설정 (짧은 문단이나 항목이 많은 사이트는 기준값을 낮춰야 함)\n",
    ")\n",
    "\n",
    "# 크롤링 실행 및 결과 출력\n",
    "# result = asyncio.run(extract_by_url(etf_url, base_config, run_config))\n",
    "result = loop.run_until_complete(extract_by_url(etf_url, base_config, run_config))\n",
    "print(result.success)  # 크롤링 성공 여부\n",
    "print(result.markdown)  # 크롤링 결과 (정제된 markdown 출력)"
   ]
  },
  {
   "cell_type": "markdown",
   "metadata": {},
   "source": [
    "`(2) 추출 전략`\n",
    "\n",
    "- 참조 문서: https://docs.crawl4ai.com/core/content-selection/\n",
    "\n",
    "- 대상 페이지: https://news.ycombinator.com/newest\n",
    "\n",
    "- robots.txt: https://www.ycombinator.com/robots.txt"
   ]
  },
  {
   "cell_type": "code",
   "execution_count": 19,
   "metadata": {},
   "outputs": [
    {
     "data": {
      "text/plain": [
       "'https://news.ycombinator.com/newest'"
      ]
     },
     "execution_count": 19,
     "metadata": {},
     "output_type": "execute_result"
    }
   ],
   "source": [
    "news_url = \"https://news.ycombinator.com/newest\"\n",
    "#news_url = \"https://kind.krx.co.kr/disclosure/disclosurebystocktype.do?method=searchDisclosureByStockTypeEtf\"\n",
    "news_url"
   ]
  },
  {
   "cell_type": "code",
   "execution_count": 20,
   "metadata": {},
   "outputs": [
    {
     "data": {
      "text/html": [
       "<pre style=\"white-space:pre;overflow-x:auto;line-height:normal;font-family:Menlo,'DejaVu Sans Mono',consolas,'Courier New',monospace\"><span style=\"color: #808080; text-decoration-color: #808080; font-weight: bold\">[</span><span style=\"color: #808080; text-decoration-color: #808080\">BROWSER</span><span style=\"color: #808080; text-decoration-color: #808080; font-weight: bold\">]</span><span style=\"color: #808080; text-decoration-color: #808080\">. ℹ Starting browser with args: </span>\n",
       "<span style=\"color: #808080; text-decoration-color: #808080\">C:\\Users\\kaydash\\AppData\\Local\\ms-playwright\\chromium-</span><span style=\"color: #808080; text-decoration-color: #808080; font-weight: bold\">1187</span><span style=\"color: #808080; text-decoration-color: #808080\">\\chrome-win\\chrome.exe --remote-debugging-</span><span style=\"color: #808080; text-decoration-color: #808080\">port</span><span style=\"color: #808080; text-decoration-color: #808080\">=</span><span style=\"color: #808080; text-decoration-color: #808080; font-weight: bold\">9222</span><span style=\"color: #808080; text-decoration-color: #808080\"> </span>\n",
       "<span style=\"color: #808080; text-decoration-color: #808080\">--user-data-</span><span style=\"color: #808080; text-decoration-color: #808080\">dir</span><span style=\"color: #808080; text-decoration-color: #808080\">=</span><span style=\"color: #808080; text-decoration-color: #808080\">C</span><span style=\"color: #808080; text-decoration-color: #808080\">:\\Users\\kaydash\\AppData\\Local\\Temp\\browser-profile-drhp6c61 --</span><span style=\"color: #808080; text-decoration-color: #808080\">headless</span><span style=\"color: #808080; text-decoration-color: #808080\">=</span><span style=\"color: #808080; text-decoration-color: #808080\">new</span><span style=\"color: #808080; text-decoration-color: #808080\"> --disable-gpu </span>\n",
       "<span style=\"color: #808080; text-decoration-color: #808080\">--disable-gpu-compositing --disable-software-rasterizer --no-sandbox --disable-dev-shm-usage --no-first-run </span>\n",
       "<span style=\"color: #808080; text-decoration-color: #808080\">--no-default-browser-check --disable-infobars --window-</span><span style=\"color: #808080; text-decoration-color: #808080\">position</span><span style=\"color: #808080; text-decoration-color: #808080\">=</span><span style=\"color: #808080; text-decoration-color: #808080; font-weight: bold\">0</span><span style=\"color: #808080; text-decoration-color: #808080\">,</span><span style=\"color: #808080; text-decoration-color: #808080; font-weight: bold\">0</span><span style=\"color: #808080; text-decoration-color: #808080\"> --ignore-certificate-errors </span>\n",
       "<span style=\"color: #808080; text-decoration-color: #808080\">--ignore-certificate-errors-spki-list --disable-blink-</span><span style=\"color: #808080; text-decoration-color: #808080\">features</span><span style=\"color: #808080; text-decoration-color: #808080\">=</span><span style=\"color: #808080; text-decoration-color: #808080\">AutomationControlled</span><span style=\"color: #808080; text-decoration-color: #808080\"> --window-</span><span style=\"color: #808080; text-decoration-color: #808080\">position</span><span style=\"color: #808080; text-decoration-color: #808080\">=</span><span style=\"color: #808080; text-decoration-color: #808080; font-weight: bold\">400</span><span style=\"color: #808080; text-decoration-color: #808080\">,</span><span style=\"color: #808080; text-decoration-color: #808080; font-weight: bold\">0</span><span style=\"color: #808080; text-decoration-color: #808080\"> </span>\n",
       "<span style=\"color: #808080; text-decoration-color: #808080\">--disable-renderer-backgrounding --disable-ipc-flooding-protection --force-color-</span><span style=\"color: #808080; text-decoration-color: #808080\">profile</span><span style=\"color: #808080; text-decoration-color: #808080\">=</span><span style=\"color: #808080; text-decoration-color: #808080\">srgb</span><span style=\"color: #808080; text-decoration-color: #808080\"> --mute-audio </span>\n",
       "<span style=\"color: #808080; text-decoration-color: #808080\">--disable-background-timer-throttling --blink-</span><span style=\"color: #808080; text-decoration-color: #808080\">settings</span><span style=\"color: #808080; text-decoration-color: #808080\">=</span><span style=\"color: #808080; text-decoration-color: #808080\">imagesEnabled</span><span style=\"color: #808080; text-decoration-color: #808080\">=false --disable-remote-fonts --disable-images </span>\n",
       "<span style=\"color: #808080; text-decoration-color: #808080\">--disable-javascript </span>\n",
       "</pre>\n"
      ],
      "text/plain": [
       "\u001b[1;90m[\u001b[0m\u001b[90mBROWSER\u001b[0m\u001b[1;90m]\u001b[0m\u001b[90m. ℹ Starting browser with args: \u001b[0m\n",
       "\u001b[90mC:\\Users\\kaydash\\AppData\\Local\\ms-playwright\\chromium-\u001b[0m\u001b[1;90m1187\u001b[0m\u001b[90m\\chrome-win\\chrome.exe --remote-debugging-\u001b[0m\u001b[90mport\u001b[0m\u001b[90m=\u001b[0m\u001b[1;90m9222\u001b[0m\u001b[90m \u001b[0m\n",
       "\u001b[90m--user-data-\u001b[0m\u001b[90mdir\u001b[0m\u001b[90m=\u001b[0m\u001b[90mC\u001b[0m\u001b[90m:\\Users\\kaydash\\AppData\\Local\\Temp\\browser-profile-drhp6c61 --\u001b[0m\u001b[90mheadless\u001b[0m\u001b[90m=\u001b[0m\u001b[90mnew\u001b[0m\u001b[90m --disable-gpu \u001b[0m\n",
       "\u001b[90m--disable-gpu-compositing --disable-software-rasterizer --no-sandbox --disable-dev-shm-usage --no-first-run \u001b[0m\n",
       "\u001b[90m--no-default-browser-check --disable-infobars --window-\u001b[0m\u001b[90mposition\u001b[0m\u001b[90m=\u001b[0m\u001b[1;90m0\u001b[0m\u001b[90m,\u001b[0m\u001b[1;90m0\u001b[0m\u001b[90m --ignore-certificate-errors \u001b[0m\n",
       "\u001b[90m--ignore-certificate-errors-spki-list --disable-blink-\u001b[0m\u001b[90mfeatures\u001b[0m\u001b[90m=\u001b[0m\u001b[90mAutomationControlled\u001b[0m\u001b[90m --window-\u001b[0m\u001b[90mposition\u001b[0m\u001b[90m=\u001b[0m\u001b[1;90m400\u001b[0m\u001b[90m,\u001b[0m\u001b[1;90m0\u001b[0m\u001b[90m \u001b[0m\n",
       "\u001b[90m--disable-renderer-backgrounding --disable-ipc-flooding-protection --force-color-\u001b[0m\u001b[90mprofile\u001b[0m\u001b[90m=\u001b[0m\u001b[90msrgb\u001b[0m\u001b[90m --mute-audio \u001b[0m\n",
       "\u001b[90m--disable-background-timer-throttling --blink-\u001b[0m\u001b[90msettings\u001b[0m\u001b[90m=\u001b[0m\u001b[90mimagesEnabled\u001b[0m\u001b[90m=false --disable-remote-fonts --disable-images \u001b[0m\n",
       "\u001b[90m--disable-javascript \u001b[0m\n"
      ]
     },
     "metadata": {},
     "output_type": "display_data"
    },
    {
     "data": {
      "text/html": [
       "<pre style=\"white-space:pre;overflow-x:auto;line-height:normal;font-family:Menlo,'DejaVu Sans Mono',consolas,'Courier New',monospace\"><span style=\"color: #008080; text-decoration-color: #008080; font-weight: bold\">[</span><span style=\"color: #008080; text-decoration-color: #008080\">INIT</span><span style=\"color: #008080; text-decoration-color: #008080; font-weight: bold\">]</span><span style=\"color: #008080; text-decoration-color: #008080\">.... → Crawl4AI </span><span style=\"color: #008080; text-decoration-color: #008080; font-weight: bold\">0.7</span><span style=\"color: #008080; text-decoration-color: #008080\">.</span><span style=\"color: #008080; text-decoration-color: #008080; font-weight: bold\">4</span><span style=\"color: #008080; text-decoration-color: #008080\"> </span>\n",
       "</pre>\n"
      ],
      "text/plain": [
       "\u001b[1;36m[\u001b[0m\u001b[36mINIT\u001b[0m\u001b[1;36m]\u001b[0m\u001b[36m...\u001b[0m\u001b[36m. → Crawl4AI \u001b[0m\u001b[1;36m0.7\u001b[0m\u001b[36m.\u001b[0m\u001b[1;36m4\u001b[0m\u001b[36m \u001b[0m\n"
      ]
     },
     "metadata": {},
     "output_type": "display_data"
    },
    {
     "data": {
      "text/html": [
       "<pre style=\"white-space:pre;overflow-x:auto;line-height:normal;font-family:Menlo,'DejaVu Sans Mono',consolas,'Courier New',monospace\"><span style=\"color: #008000; text-decoration-color: #008000; font-weight: bold\">[</span><span style=\"color: #008000; text-decoration-color: #008000\">FETCH</span><span style=\"color: #008000; text-decoration-color: #008000; font-weight: bold\">]</span><span style=\"color: #008000; text-decoration-color: #008000\">... ↓ </span><span style=\"color: #008000; text-decoration-color: #008000; text-decoration: underline\">https://kind.krx.co.kr/disclosure/etfisudetail.do?method=searchEtfIsuSummary&amp;strIsurCd=45979</span><span style=\"color: #008000; text-decoration-color: #008000\">         |</span>\n",
       "<span style=\"color: #008000; text-decoration-color: #008000\">✓ | ⏱: </span><span style=\"color: #008000; text-decoration-color: #008000; font-weight: bold\">0.</span><span style=\"color: #008000; text-decoration-color: #008000\">78s </span>\n",
       "</pre>\n"
      ],
      "text/plain": [
       "\u001b[1;32m[\u001b[0m\u001b[32mFETCH\u001b[0m\u001b[1;32m]\u001b[0m\u001b[32m...\u001b[0m\u001b[32m ↓ \u001b[0m\u001b[4;32mhttps://kind.krx.co.kr/disclosure/etfisudetail.do?\u001b[0m\u001b[4;32mmethod\u001b[0m\u001b[4;32m=\u001b[0m\u001b[4;32msearchEtfIsuSummary\u001b[0m\u001b[4;32m&\u001b[0m\u001b[4;32mstrIsurCd\u001b[0m\u001b[4;32m=\u001b[0m\u001b[4;32m45979\u001b[0m\u001b[32m         |\u001b[0m\n",
       "\u001b[32m✓\u001b[0m\u001b[32m | ⏱: \u001b[0m\u001b[1;32m0.\u001b[0m\u001b[32m78s \u001b[0m\n"
      ]
     },
     "metadata": {},
     "output_type": "display_data"
    },
    {
     "data": {
      "text/html": [
       "<pre style=\"white-space:pre;overflow-x:auto;line-height:normal;font-family:Menlo,'DejaVu Sans Mono',consolas,'Courier New',monospace\"><span style=\"color: #008000; text-decoration-color: #008000; font-weight: bold\">[</span><span style=\"color: #008000; text-decoration-color: #008000\">SCRAPE</span><span style=\"color: #008000; text-decoration-color: #008000; font-weight: bold\">]</span><span style=\"color: #008000; text-decoration-color: #008000\">.. ◆ </span><span style=\"color: #008000; text-decoration-color: #008000; text-decoration: underline\">https://kind.krx.co.kr/disclosure/etfisudetail.do?method=searchEtfIsuSummary&amp;strIsurCd=45979</span><span style=\"color: #008000; text-decoration-color: #008000\">         |</span>\n",
       "<span style=\"color: #008000; text-decoration-color: #008000\">✓ | ⏱: </span><span style=\"color: #008000; text-decoration-color: #008000; font-weight: bold\">0.</span><span style=\"color: #008000; text-decoration-color: #008000\">00s </span>\n",
       "</pre>\n"
      ],
      "text/plain": [
       "\u001b[1;32m[\u001b[0m\u001b[32mSCRAPE\u001b[0m\u001b[1;32m]\u001b[0m\u001b[32m.. ◆ \u001b[0m\u001b[4;32mhttps://kind.krx.co.kr/disclosure/etfisudetail.do?\u001b[0m\u001b[4;32mmethod\u001b[0m\u001b[4;32m=\u001b[0m\u001b[4;32msearchEtfIsuSummary\u001b[0m\u001b[4;32m&\u001b[0m\u001b[4;32mstrIsurCd\u001b[0m\u001b[4;32m=\u001b[0m\u001b[4;32m45979\u001b[0m\u001b[32m         |\u001b[0m\n",
       "\u001b[32m✓\u001b[0m\u001b[32m | ⏱: \u001b[0m\u001b[1;32m0.\u001b[0m\u001b[32m00s \u001b[0m\n"
      ]
     },
     "metadata": {},
     "output_type": "display_data"
    },
    {
     "data": {
      "text/html": [
       "<pre style=\"white-space:pre;overflow-x:auto;line-height:normal;font-family:Menlo,'DejaVu Sans Mono',consolas,'Courier New',monospace\"><span style=\"color: #008000; text-decoration-color: #008000; font-weight: bold\">[</span><span style=\"color: #008000; text-decoration-color: #008000\">COMPLETE</span><span style=\"color: #008000; text-decoration-color: #008000; font-weight: bold\">]</span><span style=\"color: #008000; text-decoration-color: #008000\"> ● </span><span style=\"color: #008000; text-decoration-color: #008000; text-decoration: underline\">https://kind.krx.co.kr/disclosure/etfisudetail.do?method=searchEtfIsuSummary&amp;strIsurCd=45979</span><span style=\"color: #008000; text-decoration-color: #008000\">         |</span>\n",
       "<span style=\"color: #008000; text-decoration-color: #008000\">✓ | ⏱: </span><span style=\"color: #008000; text-decoration-color: #008000; font-weight: bold\">0.</span><span style=\"color: #008000; text-decoration-color: #008000\">78s </span>\n",
       "</pre>\n"
      ],
      "text/plain": [
       "\u001b[1;32m[\u001b[0m\u001b[32mCOMPLETE\u001b[0m\u001b[1;32m]\u001b[0m\u001b[32m ● \u001b[0m\u001b[4;32mhttps://kind.krx.co.kr/disclosure/etfisudetail.do?\u001b[0m\u001b[4;32mmethod\u001b[0m\u001b[4;32m=\u001b[0m\u001b[4;32msearchEtfIsuSummary\u001b[0m\u001b[4;32m&\u001b[0m\u001b[4;32mstrIsurCd\u001b[0m\u001b[4;32m=\u001b[0m\u001b[4;32m45979\u001b[0m\u001b[32m         |\u001b[0m\n",
       "\u001b[32m✓\u001b[0m\u001b[32m | ⏱: \u001b[0m\u001b[1;32m0.\u001b[0m\u001b[32m78s \u001b[0m\n"
      ]
     },
     "metadata": {},
     "output_type": "display_data"
    },
    {
     "name": "stdout",
     "output_type": "stream",
     "text": [
      "True\n",
      "\n",
      "\n"
     ]
    }
   ],
   "source": [
    "from crawl4ai import AsyncWebCrawler, BrowserConfig, CrawlerRunConfig, CacheMode\n",
    "\n",
    "run_config = CrawlerRunConfig(\n",
    "    css_selector=\"main.content\",         # 크롤링 대상 컨텐츠 선택자\n",
    "    word_count_threshold=10,             # 컨텐츠 블록의 최소 단어 수 기준 설정\n",
    "    excluded_tags=[\"nav\", \"footer\"],     # 제외할 태그 설정\n",
    "    exclude_external_links=True,         # 외부 링크 제외 설정\n",
    "    exclude_social_media_links=True,     # 소셜 미디어 링크 제외 설정\n",
    "    exclude_domains=[\"ads.com\", \"spammytrackers.net\"],   # 제외할 도메인 설정\n",
    "    exclude_external_images=True,         # 외부 이미지 제외 설정\n",
    "    cache_mode=CacheMode.BYPASS           # 캐시 비활성화\n",
    ")\n",
    "\n",
    "# 크롤링 실행 및 결과 출력\n",
    "# result = asyncio.run(extract_by_url(news_url, base_config, run_config))\n",
    "result = loop.run_until_complete(extract_by_url(etf_url, base_config, run_config))\n",
    "print(result.success)  # 크롤링 성공 여부\n",
    "print(result.markdown)  # 크롤링 결과 (정제된 markdown 출력)"
   ]
  },
  {
   "cell_type": "code",
   "execution_count": null,
   "metadata": {},
   "outputs": [
    {
     "data": {
      "text/html": [
       "<pre style=\"white-space:pre;overflow-x:auto;line-height:normal;font-family:Menlo,'DejaVu Sans Mono',consolas,'Courier New',monospace\"><span style=\"color: #808080; text-decoration-color: #808080; font-weight: bold\">[</span><span style=\"color: #808080; text-decoration-color: #808080\">BROWSER</span><span style=\"color: #808080; text-decoration-color: #808080; font-weight: bold\">]</span><span style=\"color: #808080; text-decoration-color: #808080\">. ℹ Starting browser with args: </span>\n",
       "<span style=\"color: #808080; text-decoration-color: #808080\">C:\\Users\\kaydash\\AppData\\Local\\ms-playwright\\chromium-</span><span style=\"color: #808080; text-decoration-color: #808080; font-weight: bold\">1187</span><span style=\"color: #808080; text-decoration-color: #808080\">\\chrome-win\\chrome.exe --remote-debugging-</span><span style=\"color: #808080; text-decoration-color: #808080\">port</span><span style=\"color: #808080; text-decoration-color: #808080\">=</span><span style=\"color: #808080; text-decoration-color: #808080; font-weight: bold\">9222</span><span style=\"color: #808080; text-decoration-color: #808080\"> </span>\n",
       "<span style=\"color: #808080; text-decoration-color: #808080\">--user-data-</span><span style=\"color: #808080; text-decoration-color: #808080\">dir</span><span style=\"color: #808080; text-decoration-color: #808080\">=</span><span style=\"color: #808080; text-decoration-color: #808080\">C</span><span style=\"color: #808080; text-decoration-color: #808080\">:\\Users\\kaydash\\AppData\\Local\\Temp\\browser-profile-459ihr__ --</span><span style=\"color: #808080; text-decoration-color: #808080\">headless</span><span style=\"color: #808080; text-decoration-color: #808080\">=</span><span style=\"color: #808080; text-decoration-color: #808080\">new</span><span style=\"color: #808080; text-decoration-color: #808080\"> --disable-gpu </span>\n",
       "<span style=\"color: #808080; text-decoration-color: #808080\">--disable-gpu-compositing --disable-software-rasterizer --no-sandbox --disable-dev-shm-usage --no-first-run </span>\n",
       "<span style=\"color: #808080; text-decoration-color: #808080\">--no-default-browser-check --disable-infobars --window-</span><span style=\"color: #808080; text-decoration-color: #808080\">position</span><span style=\"color: #808080; text-decoration-color: #808080\">=</span><span style=\"color: #808080; text-decoration-color: #808080; font-weight: bold\">0</span><span style=\"color: #808080; text-decoration-color: #808080\">,</span><span style=\"color: #808080; text-decoration-color: #808080; font-weight: bold\">0</span><span style=\"color: #808080; text-decoration-color: #808080\"> --ignore-certificate-errors </span>\n",
       "<span style=\"color: #808080; text-decoration-color: #808080\">--ignore-certificate-errors-spki-list --disable-blink-</span><span style=\"color: #808080; text-decoration-color: #808080\">features</span><span style=\"color: #808080; text-decoration-color: #808080\">=</span><span style=\"color: #808080; text-decoration-color: #808080\">AutomationControlled</span><span style=\"color: #808080; text-decoration-color: #808080\"> --window-</span><span style=\"color: #808080; text-decoration-color: #808080\">position</span><span style=\"color: #808080; text-decoration-color: #808080\">=</span><span style=\"color: #808080; text-decoration-color: #808080; font-weight: bold\">400</span><span style=\"color: #808080; text-decoration-color: #808080\">,</span><span style=\"color: #808080; text-decoration-color: #808080; font-weight: bold\">0</span><span style=\"color: #808080; text-decoration-color: #808080\"> </span>\n",
       "<span style=\"color: #808080; text-decoration-color: #808080\">--disable-renderer-backgrounding --disable-ipc-flooding-protection --force-color-</span><span style=\"color: #808080; text-decoration-color: #808080\">profile</span><span style=\"color: #808080; text-decoration-color: #808080\">=</span><span style=\"color: #808080; text-decoration-color: #808080\">srgb</span><span style=\"color: #808080; text-decoration-color: #808080\"> --mute-audio </span>\n",
       "<span style=\"color: #808080; text-decoration-color: #808080\">--disable-background-timer-throttling --blink-</span><span style=\"color: #808080; text-decoration-color: #808080\">settings</span><span style=\"color: #808080; text-decoration-color: #808080\">=</span><span style=\"color: #808080; text-decoration-color: #808080\">imagesEnabled</span><span style=\"color: #808080; text-decoration-color: #808080\">=false --disable-remote-fonts --disable-images </span>\n",
       "<span style=\"color: #808080; text-decoration-color: #808080\">--disable-javascript </span>\n",
       "</pre>\n"
      ],
      "text/plain": [
       "\u001b[1;90m[\u001b[0m\u001b[90mBROWSER\u001b[0m\u001b[1;90m]\u001b[0m\u001b[90m. ℹ Starting browser with args: \u001b[0m\n",
       "\u001b[90mC:\\Users\\kaydash\\AppData\\Local\\ms-playwright\\chromium-\u001b[0m\u001b[1;90m1187\u001b[0m\u001b[90m\\chrome-win\\chrome.exe --remote-debugging-\u001b[0m\u001b[90mport\u001b[0m\u001b[90m=\u001b[0m\u001b[1;90m9222\u001b[0m\u001b[90m \u001b[0m\n",
       "\u001b[90m--user-data-\u001b[0m\u001b[90mdir\u001b[0m\u001b[90m=\u001b[0m\u001b[90mC\u001b[0m\u001b[90m:\\Users\\kaydash\\AppData\\Local\\Temp\\browser-profile-459ihr__ --\u001b[0m\u001b[90mheadless\u001b[0m\u001b[90m=\u001b[0m\u001b[90mnew\u001b[0m\u001b[90m --disable-gpu \u001b[0m\n",
       "\u001b[90m--disable-gpu-compositing --disable-software-rasterizer --no-sandbox --disable-dev-shm-usage --no-first-run \u001b[0m\n",
       "\u001b[90m--no-default-browser-check --disable-infobars --window-\u001b[0m\u001b[90mposition\u001b[0m\u001b[90m=\u001b[0m\u001b[1;90m0\u001b[0m\u001b[90m,\u001b[0m\u001b[1;90m0\u001b[0m\u001b[90m --ignore-certificate-errors \u001b[0m\n",
       "\u001b[90m--ignore-certificate-errors-spki-list --disable-blink-\u001b[0m\u001b[90mfeatures\u001b[0m\u001b[90m=\u001b[0m\u001b[90mAutomationControlled\u001b[0m\u001b[90m --window-\u001b[0m\u001b[90mposition\u001b[0m\u001b[90m=\u001b[0m\u001b[1;90m400\u001b[0m\u001b[90m,\u001b[0m\u001b[1;90m0\u001b[0m\u001b[90m \u001b[0m\n",
       "\u001b[90m--disable-renderer-backgrounding --disable-ipc-flooding-protection --force-color-\u001b[0m\u001b[90mprofile\u001b[0m\u001b[90m=\u001b[0m\u001b[90msrgb\u001b[0m\u001b[90m --mute-audio \u001b[0m\n",
       "\u001b[90m--disable-background-timer-throttling --blink-\u001b[0m\u001b[90msettings\u001b[0m\u001b[90m=\u001b[0m\u001b[90mimagesEnabled\u001b[0m\u001b[90m=false --disable-remote-fonts --disable-images \u001b[0m\n",
       "\u001b[90m--disable-javascript \u001b[0m\n"
      ]
     },
     "metadata": {},
     "output_type": "display_data"
    },
    {
     "data": {
      "text/html": [
       "<pre style=\"white-space:pre;overflow-x:auto;line-height:normal;font-family:Menlo,'DejaVu Sans Mono',consolas,'Courier New',monospace\"><span style=\"color: #008080; text-decoration-color: #008080; font-weight: bold\">[</span><span style=\"color: #008080; text-decoration-color: #008080\">INIT</span><span style=\"color: #008080; text-decoration-color: #008080; font-weight: bold\">]</span><span style=\"color: #008080; text-decoration-color: #008080\">.... → Crawl4AI </span><span style=\"color: #008080; text-decoration-color: #008080; font-weight: bold\">0.7</span><span style=\"color: #008080; text-decoration-color: #008080\">.</span><span style=\"color: #008080; text-decoration-color: #008080; font-weight: bold\">4</span><span style=\"color: #008080; text-decoration-color: #008080\"> </span>\n",
       "</pre>\n"
      ],
      "text/plain": [
       "\u001b[1;36m[\u001b[0m\u001b[36mINIT\u001b[0m\u001b[1;36m]\u001b[0m\u001b[36m...\u001b[0m\u001b[36m. → Crawl4AI \u001b[0m\u001b[1;36m0.7\u001b[0m\u001b[36m.\u001b[0m\u001b[1;36m4\u001b[0m\u001b[36m \u001b[0m\n"
      ]
     },
     "metadata": {},
     "output_type": "display_data"
    },
    {
     "data": {
      "text/html": [
       "<pre style=\"white-space:pre;overflow-x:auto;line-height:normal;font-family:Menlo,'DejaVu Sans Mono',consolas,'Courier New',monospace\"><span style=\"color: #008000; text-decoration-color: #008000; font-weight: bold\">[</span><span style=\"color: #008000; text-decoration-color: #008000\">FETCH</span><span style=\"color: #008000; text-decoration-color: #008000; font-weight: bold\">]</span><span style=\"color: #008000; text-decoration-color: #008000\">... ↓ </span><span style=\"color: #008000; text-decoration-color: #008000; text-decoration: underline\">https://kind.krx.co.kr/disclosure/etfisudetail.do?method=searchEtfIsuSummary&amp;strIsurCd=45979</span><span style=\"color: #008000; text-decoration-color: #008000\">         |</span>\n",
       "<span style=\"color: #008000; text-decoration-color: #008000\">✓ | ⏱: </span><span style=\"color: #008000; text-decoration-color: #008000; font-weight: bold\">0.</span><span style=\"color: #008000; text-decoration-color: #008000\">90s </span>\n",
       "</pre>\n"
      ],
      "text/plain": [
       "\u001b[1;32m[\u001b[0m\u001b[32mFETCH\u001b[0m\u001b[1;32m]\u001b[0m\u001b[32m...\u001b[0m\u001b[32m ↓ \u001b[0m\u001b[4;32mhttps://kind.krx.co.kr/disclosure/etfisudetail.do?\u001b[0m\u001b[4;32mmethod\u001b[0m\u001b[4;32m=\u001b[0m\u001b[4;32msearchEtfIsuSummary\u001b[0m\u001b[4;32m&\u001b[0m\u001b[4;32mstrIsurCd\u001b[0m\u001b[4;32m=\u001b[0m\u001b[4;32m45979\u001b[0m\u001b[32m         |\u001b[0m\n",
       "\u001b[32m✓\u001b[0m\u001b[32m | ⏱: \u001b[0m\u001b[1;32m0.\u001b[0m\u001b[32m90s \u001b[0m\n"
      ]
     },
     "metadata": {},
     "output_type": "display_data"
    },
    {
     "data": {
      "text/html": [
       "<pre style=\"white-space:pre;overflow-x:auto;line-height:normal;font-family:Menlo,'DejaVu Sans Mono',consolas,'Courier New',monospace\"><span style=\"color: #008000; text-decoration-color: #008000; font-weight: bold\">[</span><span style=\"color: #008000; text-decoration-color: #008000\">SCRAPE</span><span style=\"color: #008000; text-decoration-color: #008000; font-weight: bold\">]</span><span style=\"color: #008000; text-decoration-color: #008000\">.. ◆ </span><span style=\"color: #008000; text-decoration-color: #008000; text-decoration: underline\">https://kind.krx.co.kr/disclosure/etfisudetail.do?method=searchEtfIsuSummary&amp;strIsurCd=45979</span><span style=\"color: #008000; text-decoration-color: #008000\">         |</span>\n",
       "<span style=\"color: #008000; text-decoration-color: #008000\">✓ | ⏱: </span><span style=\"color: #808000; text-decoration-color: #808000; font-weight: bold\">0.</span><span style=\"color: #808000; text-decoration-color: #808000\">0</span><span style=\"color: #008000; text-decoration-color: #008000\">0s </span>\n",
       "</pre>\n"
      ],
      "text/plain": [
       "\u001b[1;32m[\u001b[0m\u001b[32mSCRAPE\u001b[0m\u001b[1;32m]\u001b[0m\u001b[32m.. ◆ \u001b[0m\u001b[4;32mhttps://kind.krx.co.kr/disclosure/etfisudetail.do?\u001b[0m\u001b[4;32mmethod\u001b[0m\u001b[4;32m=\u001b[0m\u001b[4;32msearchEtfIsuSummary\u001b[0m\u001b[4;32m&\u001b[0m\u001b[4;32mstrIsurCd\u001b[0m\u001b[4;32m=\u001b[0m\u001b[4;32m45979\u001b[0m\u001b[32m         |\u001b[0m\n",
       "\u001b[32m✓\u001b[0m\u001b[32m | ⏱: \u001b[0m\u001b[1;33m0.\u001b[0m\u001b[33m0\u001b[0m\u001b[32m0s \u001b[0m\n"
      ]
     },
     "metadata": {},
     "output_type": "display_data"
    },
    {
     "data": {
      "text/html": [
       "<pre style=\"white-space:pre;overflow-x:auto;line-height:normal;font-family:Menlo,'DejaVu Sans Mono',consolas,'Courier New',monospace\"><span style=\"color: #008000; text-decoration-color: #008000; font-weight: bold\">[</span><span style=\"color: #008000; text-decoration-color: #008000\">COMPLETE</span><span style=\"color: #008000; text-decoration-color: #008000; font-weight: bold\">]</span><span style=\"color: #008000; text-decoration-color: #008000\"> ● </span><span style=\"color: #008000; text-decoration-color: #008000; text-decoration: underline\">https://kind.krx.co.kr/disclosure/etfisudetail.do?method=searchEtfIsuSummary&amp;strIsurCd=45979</span><span style=\"color: #008000; text-decoration-color: #008000\">         |</span>\n",
       "<span style=\"color: #008000; text-decoration-color: #008000\">✓ | ⏱: </span><span style=\"color: #008000; text-decoration-color: #008000; font-weight: bold\">0.</span><span style=\"color: #008000; text-decoration-color: #008000\">90s </span>\n",
       "</pre>\n"
      ],
      "text/plain": [
       "\u001b[1;32m[\u001b[0m\u001b[32mCOMPLETE\u001b[0m\u001b[1;32m]\u001b[0m\u001b[32m ● \u001b[0m\u001b[4;32mhttps://kind.krx.co.kr/disclosure/etfisudetail.do?\u001b[0m\u001b[4;32mmethod\u001b[0m\u001b[4;32m=\u001b[0m\u001b[4;32msearchEtfIsuSummary\u001b[0m\u001b[4;32m&\u001b[0m\u001b[4;32mstrIsurCd\u001b[0m\u001b[4;32m=\u001b[0m\u001b[4;32m45979\u001b[0m\u001b[32m         |\u001b[0m\n",
       "\u001b[32m✓\u001b[0m\u001b[32m | ⏱: \u001b[0m\u001b[1;32m0.\u001b[0m\u001b[32m90s \u001b[0m\n"
      ]
     },
     "metadata": {},
     "output_type": "display_data"
    }
   ],
   "source": [
    "# CSS 기반 추출 전략\n",
    "from crawl4ai.extraction_strategy import JsonCssExtractionStrategy\n",
    "\n",
    "news_schema = {\n",
    "    \"name\": \"HN Stories\",\n",
    "    \"baseSelector\": \"tr.athing\",\n",
    "    \"fields\": [\n",
    "        {\n",
    "            \"name\": \"title\",\n",
    "            \"selector\": \"td.title span.titleline a:first-child\",\n",
    "            \"type\": \"text\"\n",
    "        },\n",
    "        {\n",
    "            \"name\": \"url\",\n",
    "            \"selector\": \"td.title span.titleline a:first-child\",\n",
    "            \"type\": \"attribute\", \n",
    "            \"attribute\": \"href\"\n",
    "        },\n",
    "        {\n",
    "            \"name\": \"rank\",\n",
    "            \"selector\": \"td.title span.rank\",\n",
    "            \"type\": \"text\",\n",
    "            \"transform\": lambda x: int(x.strip(\".\"))\n",
    "        }\n",
    "    ]\n",
    "}\n",
    "\n",
    "extraction_config = CrawlerRunConfig(\n",
    "    extraction_strategy=JsonCssExtractionStrategy(news_schema),\n",
    "    cache_mode=CacheMode.BYPASS  # 항상 최신 데이터 가져오기\n",
    ")\n",
    "\n",
    "\n",
    "# 크롤링 실행 및 결과 출력\n",
    "# result = asyncio.run(extract_by_url(news_url, base_config, extraction_config))\n",
    "result = loop.run_until_complete(extract_by_url(etf_url, base_config, run_config))\n",
    "\n",
    "# 구조화된 데이터 (Optional)\n",
    "if result.extracted_content:\n",
    "    data = json.loads(result.extracted_content)\n",
    "    print(data)"
   ]
  },
  {
   "cell_type": "code",
   "execution_count": 22,
   "metadata": {},
   "outputs": [],
   "source": [
    "if result.extracted_content:\n",
    "    data = json.loads(result.extracted_content)\n",
    "    print(data)"
   ]
  },
  {
   "cell_type": "code",
   "execution_count": 23,
   "metadata": {},
   "outputs": [
    {
     "name": "stdout",
     "output_type": "stream",
     "text": [
      "Type: <class 'NoneType'>\n",
      "Value: None\n",
      "추출된 콘텐츠가 없습니다. extraction_strategy를 사용했는지 확인하세요.\n"
     ]
    }
   ],
   "source": [
    "print(f\"Type: {type(result.extracted_content)}\")\n",
    "print(f\"Value: {result.extracted_content}\")\n",
    "\n",
    "if result.extracted_content:\n",
    "    data = json.loads(result.extracted_content)\n",
    "    print(data[0])\n",
    "else:\n",
    "    print(\"추출된 콘텐츠가 없습니다. extraction_strategy를 사용했는지 확인하세요.\")"
   ]
  },
  {
   "cell_type": "code",
   "execution_count": 24,
   "metadata": {},
   "outputs": [
    {
     "data": {
      "text/plain": [
       "'https://n.news.naver.com/article/654/0000103393?cds=news_media_pc&type=breakingnews'"
      ]
     },
     "execution_count": 24,
     "metadata": {},
     "output_type": "execute_result"
    }
   ],
   "source": [
    "# 네이버 뉴스\n",
    "\n",
    "news_url = \"https://n.news.naver.com/article/654/0000103393?cds=news_media_pc&type=breakingnews\"\n",
    "news_url"
   ]
  },
  {
   "cell_type": "code",
   "execution_count": 25,
   "metadata": {},
   "outputs": [
    {
     "data": {
      "text/html": [
       "<pre style=\"white-space:pre;overflow-x:auto;line-height:normal;font-family:Menlo,'DejaVu Sans Mono',consolas,'Courier New',monospace\"><span style=\"color: #808080; text-decoration-color: #808080; font-weight: bold\">[</span><span style=\"color: #808080; text-decoration-color: #808080\">BROWSER</span><span style=\"color: #808080; text-decoration-color: #808080; font-weight: bold\">]</span><span style=\"color: #808080; text-decoration-color: #808080\">. ℹ Starting browser with args: </span>\n",
       "<span style=\"color: #808080; text-decoration-color: #808080\">C:\\Users\\kaydash\\AppData\\Local\\ms-playwright\\chromium-</span><span style=\"color: #808080; text-decoration-color: #808080; font-weight: bold\">1187</span><span style=\"color: #808080; text-decoration-color: #808080\">\\chrome-win\\chrome.exe --remote-debugging-</span><span style=\"color: #808080; text-decoration-color: #808080\">port</span><span style=\"color: #808080; text-decoration-color: #808080\">=</span><span style=\"color: #808080; text-decoration-color: #808080; font-weight: bold\">9222</span><span style=\"color: #808080; text-decoration-color: #808080\"> </span>\n",
       "<span style=\"color: #808080; text-decoration-color: #808080\">--user-data-</span><span style=\"color: #808080; text-decoration-color: #808080\">dir</span><span style=\"color: #808080; text-decoration-color: #808080\">=</span><span style=\"color: #808080; text-decoration-color: #808080\">C</span><span style=\"color: #808080; text-decoration-color: #808080\">:\\Users\\kaydash\\AppData\\Local\\Temp\\browser-profile-uz8edf9k --</span><span style=\"color: #808080; text-decoration-color: #808080\">headless</span><span style=\"color: #808080; text-decoration-color: #808080\">=</span><span style=\"color: #808080; text-decoration-color: #808080\">new</span><span style=\"color: #808080; text-decoration-color: #808080\"> --disable-gpu </span>\n",
       "<span style=\"color: #808080; text-decoration-color: #808080\">--disable-gpu-compositing --disable-software-rasterizer --no-sandbox --disable-dev-shm-usage --no-first-run </span>\n",
       "<span style=\"color: #808080; text-decoration-color: #808080\">--no-default-browser-check --disable-infobars --window-</span><span style=\"color: #808080; text-decoration-color: #808080\">position</span><span style=\"color: #808080; text-decoration-color: #808080\">=</span><span style=\"color: #808080; text-decoration-color: #808080; font-weight: bold\">0</span><span style=\"color: #808080; text-decoration-color: #808080\">,</span><span style=\"color: #808080; text-decoration-color: #808080; font-weight: bold\">0</span><span style=\"color: #808080; text-decoration-color: #808080\"> --ignore-certificate-errors </span>\n",
       "<span style=\"color: #808080; text-decoration-color: #808080\">--ignore-certificate-errors-spki-list --disable-blink-</span><span style=\"color: #808080; text-decoration-color: #808080\">features</span><span style=\"color: #808080; text-decoration-color: #808080\">=</span><span style=\"color: #808080; text-decoration-color: #808080\">AutomationControlled</span><span style=\"color: #808080; text-decoration-color: #808080\"> --window-</span><span style=\"color: #808080; text-decoration-color: #808080\">position</span><span style=\"color: #808080; text-decoration-color: #808080\">=</span><span style=\"color: #808080; text-decoration-color: #808080; font-weight: bold\">400</span><span style=\"color: #808080; text-decoration-color: #808080\">,</span><span style=\"color: #808080; text-decoration-color: #808080; font-weight: bold\">0</span><span style=\"color: #808080; text-decoration-color: #808080\"> </span>\n",
       "<span style=\"color: #808080; text-decoration-color: #808080\">--disable-renderer-backgrounding --disable-ipc-flooding-protection --force-color-</span><span style=\"color: #808080; text-decoration-color: #808080\">profile</span><span style=\"color: #808080; text-decoration-color: #808080\">=</span><span style=\"color: #808080; text-decoration-color: #808080\">srgb</span><span style=\"color: #808080; text-decoration-color: #808080\"> --mute-audio </span>\n",
       "<span style=\"color: #808080; text-decoration-color: #808080\">--disable-background-timer-throttling --blink-</span><span style=\"color: #808080; text-decoration-color: #808080\">settings</span><span style=\"color: #808080; text-decoration-color: #808080\">=</span><span style=\"color: #808080; text-decoration-color: #808080\">imagesEnabled</span><span style=\"color: #808080; text-decoration-color: #808080\">=false --disable-remote-fonts --disable-images </span>\n",
       "<span style=\"color: #808080; text-decoration-color: #808080\">--disable-javascript </span>\n",
       "</pre>\n"
      ],
      "text/plain": [
       "\u001b[1;90m[\u001b[0m\u001b[90mBROWSER\u001b[0m\u001b[1;90m]\u001b[0m\u001b[90m. ℹ Starting browser with args: \u001b[0m\n",
       "\u001b[90mC:\\Users\\kaydash\\AppData\\Local\\ms-playwright\\chromium-\u001b[0m\u001b[1;90m1187\u001b[0m\u001b[90m\\chrome-win\\chrome.exe --remote-debugging-\u001b[0m\u001b[90mport\u001b[0m\u001b[90m=\u001b[0m\u001b[1;90m9222\u001b[0m\u001b[90m \u001b[0m\n",
       "\u001b[90m--user-data-\u001b[0m\u001b[90mdir\u001b[0m\u001b[90m=\u001b[0m\u001b[90mC\u001b[0m\u001b[90m:\\Users\\kaydash\\AppData\\Local\\Temp\\browser-profile-uz8edf9k --\u001b[0m\u001b[90mheadless\u001b[0m\u001b[90m=\u001b[0m\u001b[90mnew\u001b[0m\u001b[90m --disable-gpu \u001b[0m\n",
       "\u001b[90m--disable-gpu-compositing --disable-software-rasterizer --no-sandbox --disable-dev-shm-usage --no-first-run \u001b[0m\n",
       "\u001b[90m--no-default-browser-check --disable-infobars --window-\u001b[0m\u001b[90mposition\u001b[0m\u001b[90m=\u001b[0m\u001b[1;90m0\u001b[0m\u001b[90m,\u001b[0m\u001b[1;90m0\u001b[0m\u001b[90m --ignore-certificate-errors \u001b[0m\n",
       "\u001b[90m--ignore-certificate-errors-spki-list --disable-blink-\u001b[0m\u001b[90mfeatures\u001b[0m\u001b[90m=\u001b[0m\u001b[90mAutomationControlled\u001b[0m\u001b[90m --window-\u001b[0m\u001b[90mposition\u001b[0m\u001b[90m=\u001b[0m\u001b[1;90m400\u001b[0m\u001b[90m,\u001b[0m\u001b[1;90m0\u001b[0m\u001b[90m \u001b[0m\n",
       "\u001b[90m--disable-renderer-backgrounding --disable-ipc-flooding-protection --force-color-\u001b[0m\u001b[90mprofile\u001b[0m\u001b[90m=\u001b[0m\u001b[90msrgb\u001b[0m\u001b[90m --mute-audio \u001b[0m\n",
       "\u001b[90m--disable-background-timer-throttling --blink-\u001b[0m\u001b[90msettings\u001b[0m\u001b[90m=\u001b[0m\u001b[90mimagesEnabled\u001b[0m\u001b[90m=false --disable-remote-fonts --disable-images \u001b[0m\n",
       "\u001b[90m--disable-javascript \u001b[0m\n"
      ]
     },
     "metadata": {},
     "output_type": "display_data"
    },
    {
     "data": {
      "text/html": [
       "<pre style=\"white-space:pre;overflow-x:auto;line-height:normal;font-family:Menlo,'DejaVu Sans Mono',consolas,'Courier New',monospace\"><span style=\"color: #008080; text-decoration-color: #008080; font-weight: bold\">[</span><span style=\"color: #008080; text-decoration-color: #008080\">INIT</span><span style=\"color: #008080; text-decoration-color: #008080; font-weight: bold\">]</span><span style=\"color: #008080; text-decoration-color: #008080\">.... → Crawl4AI </span><span style=\"color: #008080; text-decoration-color: #008080; font-weight: bold\">0.7</span><span style=\"color: #008080; text-decoration-color: #008080\">.</span><span style=\"color: #008080; text-decoration-color: #008080; font-weight: bold\">4</span><span style=\"color: #008080; text-decoration-color: #008080\"> </span>\n",
       "</pre>\n"
      ],
      "text/plain": [
       "\u001b[1;36m[\u001b[0m\u001b[36mINIT\u001b[0m\u001b[1;36m]\u001b[0m\u001b[36m...\u001b[0m\u001b[36m. → Crawl4AI \u001b[0m\u001b[1;36m0.7\u001b[0m\u001b[36m.\u001b[0m\u001b[1;36m4\u001b[0m\u001b[36m \u001b[0m\n"
      ]
     },
     "metadata": {},
     "output_type": "display_data"
    },
    {
     "data": {
      "text/html": [
       "<pre style=\"white-space:pre;overflow-x:auto;line-height:normal;font-family:Menlo,'DejaVu Sans Mono',consolas,'Courier New',monospace\"><span style=\"color: #008000; text-decoration-color: #008000; font-weight: bold\">[</span><span style=\"color: #008000; text-decoration-color: #008000\">FETCH</span><span style=\"color: #008000; text-decoration-color: #008000; font-weight: bold\">]</span><span style=\"color: #008000; text-decoration-color: #008000\">... ↓ </span><span style=\"color: #008000; text-decoration-color: #008000; text-decoration: underline\">https://kind.krx.co.kr/disclosure/etfisudetail.do?method=searchEtfIsuSummary&amp;strIsurCd=45979</span><span style=\"color: #008000; text-decoration-color: #008000\">         |</span>\n",
       "<span style=\"color: #008000; text-decoration-color: #008000\">✓ | ⏱: </span><span style=\"color: #008000; text-decoration-color: #008000; font-weight: bold\">1.</span><span style=\"color: #008000; text-decoration-color: #008000\">65s </span>\n",
       "</pre>\n"
      ],
      "text/plain": [
       "\u001b[1;32m[\u001b[0m\u001b[32mFETCH\u001b[0m\u001b[1;32m]\u001b[0m\u001b[32m...\u001b[0m\u001b[32m ↓ \u001b[0m\u001b[4;32mhttps://kind.krx.co.kr/disclosure/etfisudetail.do?\u001b[0m\u001b[4;32mmethod\u001b[0m\u001b[4;32m=\u001b[0m\u001b[4;32msearchEtfIsuSummary\u001b[0m\u001b[4;32m&\u001b[0m\u001b[4;32mstrIsurCd\u001b[0m\u001b[4;32m=\u001b[0m\u001b[4;32m45979\u001b[0m\u001b[32m         |\u001b[0m\n",
       "\u001b[32m✓\u001b[0m\u001b[32m | ⏱: \u001b[0m\u001b[1;32m1.\u001b[0m\u001b[32m65s \u001b[0m\n"
      ]
     },
     "metadata": {},
     "output_type": "display_data"
    },
    {
     "data": {
      "text/html": [
       "<pre style=\"white-space:pre;overflow-x:auto;line-height:normal;font-family:Menlo,'DejaVu Sans Mono',consolas,'Courier New',monospace\"><span style=\"color: #008000; text-decoration-color: #008000; font-weight: bold\">[</span><span style=\"color: #008000; text-decoration-color: #008000\">SCRAPE</span><span style=\"color: #008000; text-decoration-color: #008000; font-weight: bold\">]</span><span style=\"color: #008000; text-decoration-color: #008000\">.. ◆ </span><span style=\"color: #008000; text-decoration-color: #008000; text-decoration: underline\">https://kind.krx.co.kr/disclosure/etfisudetail.do?method=searchEtfIsuSummary&amp;strIsurCd=45979</span><span style=\"color: #008000; text-decoration-color: #008000\">         |</span>\n",
       "<span style=\"color: #008000; text-decoration-color: #008000\">✓ | ⏱: </span><span style=\"color: #808000; text-decoration-color: #808000; font-weight: bold\">0.</span><span style=\"color: #808000; text-decoration-color: #808000\">01</span><span style=\"color: #008000; text-decoration-color: #008000\">s </span>\n",
       "</pre>\n"
      ],
      "text/plain": [
       "\u001b[1;32m[\u001b[0m\u001b[32mSCRAPE\u001b[0m\u001b[1;32m]\u001b[0m\u001b[32m.. ◆ \u001b[0m\u001b[4;32mhttps://kind.krx.co.kr/disclosure/etfisudetail.do?\u001b[0m\u001b[4;32mmethod\u001b[0m\u001b[4;32m=\u001b[0m\u001b[4;32msearchEtfIsuSummary\u001b[0m\u001b[4;32m&\u001b[0m\u001b[4;32mstrIsurCd\u001b[0m\u001b[4;32m=\u001b[0m\u001b[4;32m45979\u001b[0m\u001b[32m         |\u001b[0m\n",
       "\u001b[32m✓\u001b[0m\u001b[32m | ⏱: \u001b[0m\u001b[1;33m0.\u001b[0m\u001b[33m01\u001b[0m\u001b[32ms \u001b[0m\n"
      ]
     },
     "metadata": {},
     "output_type": "display_data"
    },
    {
     "data": {
      "text/html": [
       "<pre style=\"white-space:pre;overflow-x:auto;line-height:normal;font-family:Menlo,'DejaVu Sans Mono',consolas,'Courier New',monospace\"><span style=\"color: #008000; text-decoration-color: #008000; font-weight: bold\">[</span><span style=\"color: #008000; text-decoration-color: #008000\">EXTRACT</span><span style=\"color: #008000; text-decoration-color: #008000; font-weight: bold\">]</span><span style=\"color: #008000; text-decoration-color: #008000\">. ■ </span><span style=\"color: #008000; text-decoration-color: #008000; text-decoration: underline\">https://kind.krx.co.kr/disclosure/etfisudetail.do?method=searchEtfIsuSummary&amp;strIsurCd=45979</span><span style=\"color: #008000; text-decoration-color: #008000\">         |</span>\n",
       "<span style=\"color: #008000; text-decoration-color: #008000\">✓ | ⏱: </span><span style=\"color: #008000; text-decoration-color: #008000; font-weight: bold\">0.</span><span style=\"color: #008000; text-decoration-color: #008000\">01s </span>\n",
       "</pre>\n"
      ],
      "text/plain": [
       "\u001b[1;32m[\u001b[0m\u001b[32mEXTRACT\u001b[0m\u001b[1;32m]\u001b[0m\u001b[32m. ■ \u001b[0m\u001b[4;32mhttps://kind.krx.co.kr/disclosure/etfisudetail.do?\u001b[0m\u001b[4;32mmethod\u001b[0m\u001b[4;32m=\u001b[0m\u001b[4;32msearchEtfIsuSummary\u001b[0m\u001b[4;32m&\u001b[0m\u001b[4;32mstrIsurCd\u001b[0m\u001b[4;32m=\u001b[0m\u001b[4;32m45979\u001b[0m\u001b[32m         |\u001b[0m\n",
       "\u001b[32m✓\u001b[0m\u001b[32m | ⏱: \u001b[0m\u001b[1;32m0.\u001b[0m\u001b[32m01s \u001b[0m\n"
      ]
     },
     "metadata": {},
     "output_type": "display_data"
    },
    {
     "data": {
      "text/html": [
       "<pre style=\"white-space:pre;overflow-x:auto;line-height:normal;font-family:Menlo,'DejaVu Sans Mono',consolas,'Courier New',monospace\"><span style=\"color: #008000; text-decoration-color: #008000; font-weight: bold\">[</span><span style=\"color: #008000; text-decoration-color: #008000\">COMPLETE</span><span style=\"color: #008000; text-decoration-color: #008000; font-weight: bold\">]</span><span style=\"color: #008000; text-decoration-color: #008000\"> ● </span><span style=\"color: #008000; text-decoration-color: #008000; text-decoration: underline\">https://kind.krx.co.kr/disclosure/etfisudetail.do?method=searchEtfIsuSummary&amp;strIsurCd=45979</span><span style=\"color: #008000; text-decoration-color: #008000\">         |</span>\n",
       "<span style=\"color: #008000; text-decoration-color: #008000\">✓ | ⏱: </span><span style=\"color: #008000; text-decoration-color: #008000; font-weight: bold\">1.</span><span style=\"color: #008000; text-decoration-color: #008000\">68s </span>\n",
       "</pre>\n"
      ],
      "text/plain": [
       "\u001b[1;32m[\u001b[0m\u001b[32mCOMPLETE\u001b[0m\u001b[1;32m]\u001b[0m\u001b[32m ● \u001b[0m\u001b[4;32mhttps://kind.krx.co.kr/disclosure/etfisudetail.do?\u001b[0m\u001b[4;32mmethod\u001b[0m\u001b[4;32m=\u001b[0m\u001b[4;32msearchEtfIsuSummary\u001b[0m\u001b[4;32m&\u001b[0m\u001b[4;32mstrIsurCd\u001b[0m\u001b[4;32m=\u001b[0m\u001b[4;32m45979\u001b[0m\u001b[32m         |\u001b[0m\n",
       "\u001b[32m✓\u001b[0m\u001b[32m | ⏱: \u001b[0m\u001b[1;32m1.\u001b[0m\u001b[32m68s \u001b[0m\n"
      ]
     },
     "metadata": {},
     "output_type": "display_data"
    },
    {
     "name": "stdout",
     "output_type": "stream",
     "text": [
      "[]\n"
     ]
    }
   ],
   "source": [
    "# CSS 기반 추출 전략\n",
    "from crawl4ai.extraction_strategy import JsonCssExtractionStrategy\n",
    "\n",
    "news_schema = {\n",
    "    \"name\": \"NewsArticles\",\n",
    "    \"baseSelector\": \"div.newsct\",\n",
    "    \"fields\": [\n",
    "        {\n",
    "            \"name\": \"title\",\n",
    "            \"selector\": \"div.media_end_head div.media_end_head_title h2.media_end_head_headline span\",\n",
    "            \"type\": \"text\"\n",
    "        },\n",
    "    ]\n",
    "}\n",
    "\n",
    "extraction_config = CrawlerRunConfig(\n",
    "    extraction_strategy=JsonCssExtractionStrategy(news_schema),\n",
    "    process_iframes=True,\n",
    "    remove_overlay_elements=True\n",
    ")\n",
    "\n",
    "\n",
    "news_url = \"https://n.news.naver.com/article/654/0000103393?cds=news_media_pc&type=breakingnews\"\n",
    "\n",
    "# 크롤링 실행 및 결과 출력\n",
    "# result = asyncio.run(extract_by_url(news_url, base_config, extraction_config))\n",
    "result = loop.run_until_complete(extract_by_url(etf_url, base_config, extraction_config))\n",
    "\n",
    "# 구조화된 데이터 (Optional)\n",
    "if result.extracted_content:\n",
    "    data = json.loads(result.extracted_content)\n",
    "    print(data)"
   ]
  },
  {
   "cell_type": "code",
   "execution_count": 26,
   "metadata": {},
   "outputs": [
    {
     "data": {
      "text/html": [
       "<pre style=\"white-space:pre;overflow-x:auto;line-height:normal;font-family:Menlo,'DejaVu Sans Mono',consolas,'Courier New',monospace\"><span style=\"color: #008080; text-decoration-color: #008080; font-weight: bold\">[</span><span style=\"color: #008080; text-decoration-color: #008080\">INIT</span><span style=\"color: #008080; text-decoration-color: #008080; font-weight: bold\">]</span><span style=\"color: #008080; text-decoration-color: #008080\">.... → Crawl4AI </span><span style=\"color: #008080; text-decoration-color: #008080; font-weight: bold\">0.7</span><span style=\"color: #008080; text-decoration-color: #008080\">.</span><span style=\"color: #008080; text-decoration-color: #008080; font-weight: bold\">4</span><span style=\"color: #008080; text-decoration-color: #008080\"> </span>\n",
       "</pre>\n"
      ],
      "text/plain": [
       "\u001b[1;36m[\u001b[0m\u001b[36mINIT\u001b[0m\u001b[1;36m]\u001b[0m\u001b[36m...\u001b[0m\u001b[36m. → Crawl4AI \u001b[0m\u001b[1;36m0.7\u001b[0m\u001b[36m.\u001b[0m\u001b[1;36m4\u001b[0m\u001b[36m \u001b[0m\n"
      ]
     },
     "metadata": {},
     "output_type": "display_data"
    },
    {
     "data": {
      "text/html": [
       "<pre style=\"white-space:pre;overflow-x:auto;line-height:normal;font-family:Menlo,'DejaVu Sans Mono',consolas,'Courier New',monospace\"><span style=\"color: #008000; text-decoration-color: #008000; font-weight: bold\">[</span><span style=\"color: #008000; text-decoration-color: #008000\">FETCH</span><span style=\"color: #008000; text-decoration-color: #008000; font-weight: bold\">]</span><span style=\"color: #008000; text-decoration-color: #008000\">... ↓ </span><span style=\"color: #008000; text-decoration-color: #008000; text-decoration: underline\">https://n.news.naver.com/article/654/0000103393?cds=news_media_pc&amp;type=breakingnews</span><span style=\"color: #008000; text-decoration-color: #008000\">                  |</span>\n",
       "<span style=\"color: #008000; text-decoration-color: #008000\">✓ | ⏱: </span><span style=\"color: #008000; text-decoration-color: #008000; font-weight: bold\">0.</span><span style=\"color: #008000; text-decoration-color: #008000\">71s </span>\n",
       "</pre>\n"
      ],
      "text/plain": [
       "\u001b[1;32m[\u001b[0m\u001b[32mFETCH\u001b[0m\u001b[1;32m]\u001b[0m\u001b[32m...\u001b[0m\u001b[32m ↓ \u001b[0m\u001b[4;32mhttps://n.news.naver.com/article/654/0000103393?\u001b[0m\u001b[4;32mcds\u001b[0m\u001b[4;32m=\u001b[0m\u001b[4;32mnews_media_pc\u001b[0m\u001b[4;32m&\u001b[0m\u001b[4;32mtype\u001b[0m\u001b[4;32m=\u001b[0m\u001b[4;32mbreakingnews\u001b[0m\u001b[32m                  |\u001b[0m\n",
       "\u001b[32m✓\u001b[0m\u001b[32m | ⏱: \u001b[0m\u001b[1;32m0.\u001b[0m\u001b[32m71s \u001b[0m\n"
      ]
     },
     "metadata": {},
     "output_type": "display_data"
    },
    {
     "data": {
      "text/html": [
       "<pre style=\"white-space:pre;overflow-x:auto;line-height:normal;font-family:Menlo,'DejaVu Sans Mono',consolas,'Courier New',monospace\"><span style=\"color: #008000; text-decoration-color: #008000; font-weight: bold\">[</span><span style=\"color: #008000; text-decoration-color: #008000\">SCRAPE</span><span style=\"color: #008000; text-decoration-color: #008000; font-weight: bold\">]</span><span style=\"color: #008000; text-decoration-color: #008000\">.. ◆ </span><span style=\"color: #008000; text-decoration-color: #008000; text-decoration: underline\">https://n.news.naver.com/article/654/0000103393?cds=news_media_pc&amp;type=breakingnews</span><span style=\"color: #008000; text-decoration-color: #008000\">                  |</span>\n",
       "<span style=\"color: #008000; text-decoration-color: #008000\">✓ | ⏱: </span><span style=\"color: #008000; text-decoration-color: #008000; font-weight: bold\">0.</span><span style=\"color: #008000; text-decoration-color: #008000\">11s </span>\n",
       "</pre>\n"
      ],
      "text/plain": [
       "\u001b[1;32m[\u001b[0m\u001b[32mSCRAPE\u001b[0m\u001b[1;32m]\u001b[0m\u001b[32m.. ◆ \u001b[0m\u001b[4;32mhttps://n.news.naver.com/article/654/0000103393?\u001b[0m\u001b[4;32mcds\u001b[0m\u001b[4;32m=\u001b[0m\u001b[4;32mnews_media_pc\u001b[0m\u001b[4;32m&\u001b[0m\u001b[4;32mtype\u001b[0m\u001b[4;32m=\u001b[0m\u001b[4;32mbreakingnews\u001b[0m\u001b[32m                  |\u001b[0m\n",
       "\u001b[32m✓\u001b[0m\u001b[32m | ⏱: \u001b[0m\u001b[1;32m0.\u001b[0m\u001b[32m11s \u001b[0m\n"
      ]
     },
     "metadata": {},
     "output_type": "display_data"
    },
    {
     "data": {
      "text/html": [
       "<pre style=\"white-space:pre;overflow-x:auto;line-height:normal;font-family:Menlo,'DejaVu Sans Mono',consolas,'Courier New',monospace\"><span style=\"color: #008000; text-decoration-color: #008000; font-weight: bold\">[</span><span style=\"color: #008000; text-decoration-color: #008000\">EXTRACT</span><span style=\"color: #008000; text-decoration-color: #008000; font-weight: bold\">]</span><span style=\"color: #008000; text-decoration-color: #008000\">. ■ </span><span style=\"color: #008000; text-decoration-color: #008000; text-decoration: underline\">https://n.news.naver.com/article/654/0000103393?cds=news_media_pc&amp;type=breakingnews</span><span style=\"color: #008000; text-decoration-color: #008000\">                  |</span>\n",
       "<span style=\"color: #008000; text-decoration-color: #008000\">✓ | ⏱: </span><span style=\"color: #008000; text-decoration-color: #008000; font-weight: bold\">19.</span><span style=\"color: #008000; text-decoration-color: #008000\">32s </span>\n",
       "</pre>\n"
      ],
      "text/plain": [
       "\u001b[1;32m[\u001b[0m\u001b[32mEXTRACT\u001b[0m\u001b[1;32m]\u001b[0m\u001b[32m. ■ \u001b[0m\u001b[4;32mhttps://n.news.naver.com/article/654/0000103393?\u001b[0m\u001b[4;32mcds\u001b[0m\u001b[4;32m=\u001b[0m\u001b[4;32mnews_media_pc\u001b[0m\u001b[4;32m&\u001b[0m\u001b[4;32mtype\u001b[0m\u001b[4;32m=\u001b[0m\u001b[4;32mbreakingnews\u001b[0m\u001b[32m                  |\u001b[0m\n",
       "\u001b[32m✓\u001b[0m\u001b[32m | ⏱: \u001b[0m\u001b[1;32m19.\u001b[0m\u001b[32m32s \u001b[0m\n"
      ]
     },
     "metadata": {},
     "output_type": "display_data"
    },
    {
     "data": {
      "text/html": [
       "<pre style=\"white-space:pre;overflow-x:auto;line-height:normal;font-family:Menlo,'DejaVu Sans Mono',consolas,'Courier New',monospace\"><span style=\"color: #008000; text-decoration-color: #008000; font-weight: bold\">[</span><span style=\"color: #008000; text-decoration-color: #008000\">COMPLETE</span><span style=\"color: #008000; text-decoration-color: #008000; font-weight: bold\">]</span><span style=\"color: #008000; text-decoration-color: #008000\"> ● </span><span style=\"color: #008000; text-decoration-color: #008000; text-decoration: underline\">https://n.news.naver.com/article/654/0000103393?cds=news_media_pc&amp;type=breakingnews</span><span style=\"color: #008000; text-decoration-color: #008000\">                  |</span>\n",
       "<span style=\"color: #008000; text-decoration-color: #008000\">✓ | ⏱: </span><span style=\"color: #008000; text-decoration-color: #008000; font-weight: bold\">20.</span><span style=\"color: #008000; text-decoration-color: #008000\">15s </span>\n",
       "</pre>\n"
      ],
      "text/plain": [
       "\u001b[1;32m[\u001b[0m\u001b[32mCOMPLETE\u001b[0m\u001b[1;32m]\u001b[0m\u001b[32m ● \u001b[0m\u001b[4;32mhttps://n.news.naver.com/article/654/0000103393?\u001b[0m\u001b[4;32mcds\u001b[0m\u001b[4;32m=\u001b[0m\u001b[4;32mnews_media_pc\u001b[0m\u001b[4;32m&\u001b[0m\u001b[4;32mtype\u001b[0m\u001b[4;32m=\u001b[0m\u001b[4;32mbreakingnews\u001b[0m\u001b[32m                  |\u001b[0m\n",
       "\u001b[32m✓\u001b[0m\u001b[32m | ⏱: \u001b[0m\u001b[1;32m20.\u001b[0m\u001b[32m15s \u001b[0m\n"
      ]
     },
     "metadata": {},
     "output_type": "display_data"
    },
    {
     "name": "stdout",
     "output_type": "stream",
     "text": [
      "[\n",
      "    {\n",
      "        \"title\": \"미제…안전 확인 안 되는 한국인 80여 명\",\n",
      "        \"published_date\": \"2025-10-14\",\n",
      "        \"author\": \"강원도민일보\",\n",
      "        \"content\": \"14일 외교부에 따르면 캄보디아에 입국했다가 연락 두절 또는 감금됐다는 신고가 들어온 한국인 숫자는 올해 1~8월 330명, 지난해 220명으로 파악됐다. 이 가운데 올해 인원 260여 명, 지난해 210명은 ‘종결’ 처리됐다. 최근 캄보디아에서 한국인 상대 취업 사기와 납치, 감금·고문·살해 등 강력범죄가 잇따르고 있으며, 충북에서는 올해 실종 신고 대상자 중 3명의 행방이 아직 확인되지 않고 있다. 주한미군 소속 한국인 노동자들이 미국 연방정부 셧다운 여파로 10월 급여를 받지 못하는 상황도 발생했다. 대통령실은 캄보디아에 구금된 한국인 63명에 대해 송환 특별기 투입 등 다각적인 방안을 협의 중이라고 밝혔다. 캄보디아 한인회 김대윤 부회장은 한국인들이 통장과 개인정보를 팔러 와 중국 조직에 납치·감금·사망하는 일이 일상화됐다고 전했다. 한국 정부의 대응이 안일하다는 지적도 나오고 있다.\",\n",
      "        \"error\": false\n",
      "    },\n",
      "    {\n",
      "        \"title\": \"[속보] 전국 곳곳 대설 특보…강원내륙·산지 최대 30㎝ 폭설\",\n",
      "        \"published_date\": \"2025.01.27. 오전 8:57\",\n",
      "        \"author\": \"이채윤 기자\",\n",
      "        \"content\": \"임시공휴일이자 월요일인 27일 전국에 눈·비가 쏟아졌다가 잦아들기를 반복하겠다. 길게는 설날까지 이어질 전망이다. 오전 7시 30분 현재 동해안 일부를 제외한 전국에 눈 또는 비가 내리고 있다. 북쪽에서 찬 공기가 남하해 들어오면서 비가 오는 지역은 남해안 일부로 줄고 대부분 지역에선 눈이 내리고 있다. 제주 한라산엔 오전 7시 기준 최근 24시간 내 10㎝ 넘는 눈이 내려 쌓였다. 강원 철원군 임남면이나 충남 계룡산, 인천 강화군 양도면 등은 24시간 신적설(일정 시간에 새로 내려 쌓인 눈의 양)이 5㎝가 넘는다. 설 전날인 28일까지 강원내륙·산지, 수도권, 서해5도, 전북동부, 제주산지엔 10∼20㎝ 눈이 쌓이겠다. 강원내륙·산지와 전북동부·제주산지엔 30㎝ 이상, 경기남부와 경기북동부엔 25㎝ 이상, 충청엔 최대 20㎝ 이상 눈이 쌓일 수 있다. 광주·전남(동부남해안 제외)·전북서부엔 5∼10㎝(최대 15㎝ 이상), 경북북부내륙·경북북동산지·경남서부내륙엔 3∼10㎝(최대 15㎝ 이상), 제주중산간엔 3∼10㎝, 대구·경북남서내륙·울릉도·독도엔 3∼8㎝ 적설이 예상된다. 나머지 지역에는 1∼5㎝(울산은 1㎝ 미만) 정도 쌓이겠다. 경기남서부와 강원내륙·산지, 충청, 호남, 경북서부·북동내륙, 경남서부내륙, 제주는 29일 들어서도 오후까지 눈·비가 이어질 전망이다. 이들 지역엔 29일에만 3∼8㎝ 또는 1∼5㎝ 눈이 추가로 적설될 것으로 보인다. 중부지방과 전북, 제주산지에는 27일 오후까지 눈이 시간당 3∼5㎝, 전북 외 남부지방에는 시간당 1∼3㎝씩 쏟아질 수 있다. 일부는 1시간 동안 내리는 눈의 양이 5㎝ 안팎에 달할 수 있다. 28일 새벽부터 오후까지에는 전국(수도권·강원내륙·강원산지·호남은 27일 밤부터)에 시간당 1∼3㎝(최대 5㎝ 안팎)의 폭설이 예상된다. 이번 눈은 습기를 머금어 무겁겠고, 추위 속에 내려 잘 녹지도 않겠다. 설맞이 귀성·귀경과 맞물리면서 눈에 의한 피해가 클 수 있다. 특히 도로 곳곳에 살얼음(블랙아이스)이 끼기 좋은 상황이 연휴 이후까지 이어지겠다. 낮 최고기온은 1~8도로 전망된다. 주요 지역 낮 최고기온은 서울 2도, 인천 2도, 수원 2도, 춘천 2도, 강릉 6도, 청주 3도, 대전 3도, 전주 3도, 광주 4도, 대구 4도, 부산 8도, 제주 7도다. 중부지방은 29일 낮에도 영하권에 머물겠다. 27일 오후부터 전국에 강풍이 불어 추위를 배가시키겠다. 해안과 산지는 순간풍속이 시속 70㎞(산지 일부는 90㎞) 안팎에 이를 정도로 바람이 더 거세겠다. 강풍에 전 해상에 풍랑이 거칠게 일겠다. 특히 서해먼바다·남해서부서쪽먼바다·제주서부앞바다·제주남쪽먼바다는 27일 오후부터, 동해먼바다와 남해동부바깥먼바다는 28일부터 물결이 최대 5ｍ 이상으로 높게 치겠다. 바다에 물결이 높게 일며 동해안에 당분간 너울이 유입되겠다. 너울은 해안에 다가오면 급격히 파고가 높아지는 특성이 있다. 갯바위나 방파제를 넘어 물결이 들이칠 수 있으니 해안엔 되도록 가지 말아야 한다.\",\n",
      "        \"error\": false\n",
      "    }\n",
      "]\n",
      "[{'title': '미제…안전 확인 안 되는 한국인 80여 명', 'published_date': '2025-10-14', 'author': '강원도민일보', 'content': '14일 외교부에 따르면 캄보디아에 입국했다가 연락 두절 또는 감금됐다는 신고가 들어온 한국인 숫자는 올해 1~8월 330명, 지난해 220명으로 파악됐다. 이 가운데 올해 인원 260여 명, 지난해 210명은 ‘종결’ 처리됐다. 최근 캄보디아에서 한국인 상대 취업 사기와 납치, 감금·고문·살해 등 강력범죄가 잇따르고 있으며, 충북에서는 올해 실종 신고 대상자 중 3명의 행방이 아직 확인되지 않고 있다. 주한미군 소속 한국인 노동자들이 미국 연방정부 셧다운 여파로 10월 급여를 받지 못하는 상황도 발생했다. 대통령실은 캄보디아에 구금된 한국인 63명에 대해 송환 특별기 투입 등 다각적인 방안을 협의 중이라고 밝혔다. 캄보디아 한인회 김대윤 부회장은 한국인들이 통장과 개인정보를 팔러 와 중국 조직에 납치·감금·사망하는 일이 일상화됐다고 전했다. 한국 정부의 대응이 안일하다는 지적도 나오고 있다.', 'error': False}, {'title': '[속보] 전국 곳곳 대설 특보…강원내륙·산지 최대 30㎝ 폭설', 'published_date': '2025.01.27. 오전 8:57', 'author': '이채윤 기자', 'content': '임시공휴일이자 월요일인 27일 전국에 눈·비가 쏟아졌다가 잦아들기를 반복하겠다. 길게는 설날까지 이어질 전망이다. 오전 7시 30분 현재 동해안 일부를 제외한 전국에 눈 또는 비가 내리고 있다. 북쪽에서 찬 공기가 남하해 들어오면서 비가 오는 지역은 남해안 일부로 줄고 대부분 지역에선 눈이 내리고 있다. 제주 한라산엔 오전 7시 기준 최근 24시간 내 10㎝ 넘는 눈이 내려 쌓였다. 강원 철원군 임남면이나 충남 계룡산, 인천 강화군 양도면 등은 24시간 신적설(일정 시간에 새로 내려 쌓인 눈의 양)이 5㎝가 넘는다. 설 전날인 28일까지 강원내륙·산지, 수도권, 서해5도, 전북동부, 제주산지엔 10∼20㎝ 눈이 쌓이겠다. 강원내륙·산지와 전북동부·제주산지엔 30㎝ 이상, 경기남부와 경기북동부엔 25㎝ 이상, 충청엔 최대 20㎝ 이상 눈이 쌓일 수 있다. 광주·전남(동부남해안 제외)·전북서부엔 5∼10㎝(최대 15㎝ 이상), 경북북부내륙·경북북동산지·경남서부내륙엔 3∼10㎝(최대 15㎝ 이상), 제주중산간엔 3∼10㎝, 대구·경북남서내륙·울릉도·독도엔 3∼8㎝ 적설이 예상된다. 나머지 지역에는 1∼5㎝(울산은 1㎝ 미만) 정도 쌓이겠다. 경기남서부와 강원내륙·산지, 충청, 호남, 경북서부·북동내륙, 경남서부내륙, 제주는 29일 들어서도 오후까지 눈·비가 이어질 전망이다. 이들 지역엔 29일에만 3∼8㎝ 또는 1∼5㎝ 눈이 추가로 적설될 것으로 보인다. 중부지방과 전북, 제주산지에는 27일 오후까지 눈이 시간당 3∼5㎝, 전북 외 남부지방에는 시간당 1∼3㎝씩 쏟아질 수 있다. 일부는 1시간 동안 내리는 눈의 양이 5㎝ 안팎에 달할 수 있다. 28일 새벽부터 오후까지에는 전국(수도권·강원내륙·강원산지·호남은 27일 밤부터)에 시간당 1∼3㎝(최대 5㎝ 안팎)의 폭설이 예상된다. 이번 눈은 습기를 머금어 무겁겠고, 추위 속에 내려 잘 녹지도 않겠다. 설맞이 귀성·귀경과 맞물리면서 눈에 의한 피해가 클 수 있다. 특히 도로 곳곳에 살얼음(블랙아이스)이 끼기 좋은 상황이 연휴 이후까지 이어지겠다. 낮 최고기온은 1~8도로 전망된다. 주요 지역 낮 최고기온은 서울 2도, 인천 2도, 수원 2도, 춘천 2도, 강릉 6도, 청주 3도, 대전 3도, 전주 3도, 광주 4도, 대구 4도, 부산 8도, 제주 7도다. 중부지방은 29일 낮에도 영하권에 머물겠다. 27일 오후부터 전국에 강풍이 불어 추위를 배가시키겠다. 해안과 산지는 순간풍속이 시속 70㎞(산지 일부는 90㎞) 안팎에 이를 정도로 바람이 더 거세겠다. 강풍에 전 해상에 풍랑이 거칠게 일겠다. 특히 서해먼바다·남해서부서쪽먼바다·제주서부앞바다·제주남쪽먼바다는 27일 오후부터, 동해먼바다와 남해동부바깥먼바다는 28일부터 물결이 최대 5ｍ 이상으로 높게 치겠다. 바다에 물결이 높게 일며 동해안에 당분간 너울이 유입되겠다. 너울은 해안에 다가오면 급격히 파고가 높아지는 특성이 있다. 갯바위나 방파제를 넘어 물결이 들이칠 수 있으니 해안엔 되도록 가지 말아야 한다.', 'error': False}]\n"
     ]
    }
   ],
   "source": [
    "import os\n",
    "import json\n",
    "import asyncio\n",
    "from pydantic import BaseModel, Field\n",
    "from crawl4ai import AsyncWebCrawler, CrawlerRunConfig, CacheMode\n",
    "from crawl4ai.async_configs import LLMConfig \n",
    "from crawl4ai.extraction_strategy import LLMExtractionStrategy\n",
    "\n",
    "# 데이터 모델 정의\n",
    "class NaverNewsArticle(BaseModel):\n",
    "    title: str = Field(description=\"기사 제목\")\n",
    "    published_date: str = Field(description=\"발행일\")\n",
    "    author: str = Field(description=\"기자 이름\") \n",
    "    content: str = Field(description=\"기사 본문\")\n",
    "\n",
    "\n",
    "async def extract_naver_news(news_url):\n",
    "    # LLM 추출 전략 설정\n",
    "    strategy = LLMExtractionStrategy(\n",
    "        llm_config=LLMConfig(\n",
    "            provider=\"openai/gpt-4.1-mini\",\n",
    "            api_token=os.getenv(\"OPENAI_API_KEY\"),\n",
    "            ),\n",
    "        schema=NaverNewsArticle.model_json_schema(),\n",
    "        extraction_type=\"schema\",\n",
    "        instruction=\"\"\"\n",
    "        네이버 뉴스 기사에서 다음 정보를 추출하세요:\n",
    "        - title: 기사 제목\n",
    "        - published_date: 발행일시 \n",
    "        - author: 기자 이름\n",
    "        - content: 기사 본문\n",
    "        \"\"\"\n",
    "    )\n",
    "\n",
    "    config = CrawlerRunConfig(\n",
    "        exclude_external_links=True,\n",
    "        extraction_strategy=strategy,\n",
    "        cache_mode=CacheMode.BYPASS\n",
    "    )\n",
    "\n",
    "    async with AsyncWebCrawler() as crawler:\n",
    "        result = await crawler.arun(url=news_url, config=config)\n",
    "\n",
    "        print(result.extracted_content)\n",
    "        \n",
    "        if result.extracted_content:\n",
    "            article = json.loads(result.extracted_content)\n",
    "            return article\n",
    "        return None\n",
    "\n",
    "# 실행\n",
    "news_url = \"https://n.news.naver.com/article/654/0000103393?cds=news_media_pc&type=breakingnews\"\n",
    "# article = asyncio.run(extract_naver_news(news_url)) # loop.run_until_complete() 사용\n",
    "article = loop.run_until_complete(extract_naver_news(news_url))  #  윈도우 기준\n",
    "\n",
    "\n",
    "print(article)"
   ]
  },
  {
   "cell_type": "code",
   "execution_count": 27,
   "metadata": {},
   "outputs": [
    {
     "name": "stdout",
     "output_type": "stream",
     "text": [
      "('14일 외교부에 따르면 캄보디아에 입국했다가 연락 두절 또는 감금됐다는 신고가 들어온 한국인 숫자는 올해 1~8월 330명, 지난해 '\n",
      " '220명으로 파악됐다. 이 가운데 올해 인원 260여 명, 지난해 210명은 ‘종결’ 처리됐다. 최근 캄보디아에서 한국인 상대 취업 '\n",
      " '사기와 납치, 감금·고문·살해 등 강력범죄가 잇따르고 있으며, 충북에서는 올해 실종 신고 대상자 중 3명의 행방이 아직 확인되지 않고 '\n",
      " '있다. 주한미군 소속 한국인 노동자들이 미국 연방정부 셧다운 여파로 10월 급여를 받지 못하는 상황도 발생했다. 대통령실은 캄보디아에 '\n",
      " '구금된 한국인 63명에 대해 송환 특별기 투입 등 다각적인 방안을 협의 중이라고 밝혔다. 캄보디아 한인회 김대윤 부회장은 한국인들이 '\n",
      " '통장과 개인정보를 팔러 와 중국 조직에 납치·감금·사망하는 일이 일상화됐다고 전했다. 한국 정부의 대응이 안일하다는 지적도 나오고 있다.')\n"
     ]
    }
   ],
   "source": [
    "pprint(article[0]['content'])"
   ]
  },
  {
   "cell_type": "code",
   "execution_count": 29,
   "metadata": {},
   "outputs": [
    {
     "name": "stdout",
     "output_type": "stream",
     "text": [
      "수집 대상 ETF 종목코드: ['466400', '491610', '451060', '463290', '479080']\n",
      "\n",
      "======================================================================\n",
      "ETF 상세정보 수집 시작\n",
      "======================================================================\n",
      "\n",
      "크롤링 중: 466400 - https://kind.krx.co.kr/disclosure/etfisudetail.do?method=searchEtfIsuSummary&strIsurCd=466400\n"
     ]
    },
    {
     "data": {
      "text/html": [
       "<pre style=\"white-space:pre;overflow-x:auto;line-height:normal;font-family:Menlo,'DejaVu Sans Mono',consolas,'Courier New',monospace\"><span style=\"color: #008080; text-decoration-color: #008080; font-weight: bold\">[</span><span style=\"color: #008080; text-decoration-color: #008080\">INIT</span><span style=\"color: #008080; text-decoration-color: #008080; font-weight: bold\">]</span><span style=\"color: #008080; text-decoration-color: #008080\">.... → Crawl4AI </span><span style=\"color: #008080; text-decoration-color: #008080; font-weight: bold\">0.7</span><span style=\"color: #008080; text-decoration-color: #008080\">.</span><span style=\"color: #008080; text-decoration-color: #008080; font-weight: bold\">4</span><span style=\"color: #008080; text-decoration-color: #008080\"> </span>\n",
       "</pre>\n"
      ],
      "text/plain": [
       "\u001b[1;36m[\u001b[0m\u001b[36mINIT\u001b[0m\u001b[1;36m]\u001b[0m\u001b[36m...\u001b[0m\u001b[36m. → Crawl4AI \u001b[0m\u001b[1;36m0.7\u001b[0m\u001b[36m.\u001b[0m\u001b[1;36m4\u001b[0m\u001b[36m \u001b[0m\n"
      ]
     },
     "metadata": {},
     "output_type": "display_data"
    },
    {
     "data": {
      "text/html": [
       "<pre style=\"white-space:pre;overflow-x:auto;line-height:normal;font-family:Menlo,'DejaVu Sans Mono',consolas,'Courier New',monospace\"><span style=\"color: #008000; text-decoration-color: #008000; font-weight: bold\">[</span><span style=\"color: #008000; text-decoration-color: #008000\">FETCH</span><span style=\"color: #008000; text-decoration-color: #008000; font-weight: bold\">]</span><span style=\"color: #008000; text-decoration-color: #008000\">... ↓ </span><span style=\"color: #008000; text-decoration-color: #008000; text-decoration: underline\">https://kind.krx.co.kr/disclosure/etfisudetail.do?method=searchEtfIsuSummary&amp;strIsurCd=466400</span><span style=\"color: #008000; text-decoration-color: #008000\">        |</span>\n",
       "<span style=\"color: #008000; text-decoration-color: #008000\">✓ | ⏱: </span><span style=\"color: #008000; text-decoration-color: #008000; font-weight: bold\">13.</span><span style=\"color: #008000; text-decoration-color: #008000\">51s </span>\n",
       "</pre>\n"
      ],
      "text/plain": [
       "\u001b[1;32m[\u001b[0m\u001b[32mFETCH\u001b[0m\u001b[1;32m]\u001b[0m\u001b[32m...\u001b[0m\u001b[32m ↓ \u001b[0m\u001b[4;32mhttps://kind.krx.co.kr/disclosure/etfisudetail.do?\u001b[0m\u001b[4;32mmethod\u001b[0m\u001b[4;32m=\u001b[0m\u001b[4;32msearchEtfIsuSummary\u001b[0m\u001b[4;32m&\u001b[0m\u001b[4;32mstrIsurCd\u001b[0m\u001b[4;32m=\u001b[0m\u001b[4;32m466400\u001b[0m\u001b[32m        |\u001b[0m\n",
       "\u001b[32m✓\u001b[0m\u001b[32m | ⏱: \u001b[0m\u001b[1;32m13.\u001b[0m\u001b[32m51s \u001b[0m\n"
      ]
     },
     "metadata": {},
     "output_type": "display_data"
    },
    {
     "data": {
      "text/html": [
       "<pre style=\"white-space:pre;overflow-x:auto;line-height:normal;font-family:Menlo,'DejaVu Sans Mono',consolas,'Courier New',monospace\"><span style=\"color: #008000; text-decoration-color: #008000; font-weight: bold\">[</span><span style=\"color: #008000; text-decoration-color: #008000\">SCRAPE</span><span style=\"color: #008000; text-decoration-color: #008000; font-weight: bold\">]</span><span style=\"color: #008000; text-decoration-color: #008000\">.. ◆ </span><span style=\"color: #008000; text-decoration-color: #008000; text-decoration: underline\">https://kind.krx.co.kr/disclosure/etfisudetail.do?method=searchEtfIsuSummary&amp;strIsurCd=466400</span><span style=\"color: #008000; text-decoration-color: #008000\">        |</span>\n",
       "<span style=\"color: #008000; text-decoration-color: #008000\">✓ | ⏱: </span><span style=\"color: #008000; text-decoration-color: #008000; font-weight: bold\">0.</span><span style=\"color: #008000; text-decoration-color: #008000\">01s </span>\n",
       "</pre>\n"
      ],
      "text/plain": [
       "\u001b[1;32m[\u001b[0m\u001b[32mSCRAPE\u001b[0m\u001b[1;32m]\u001b[0m\u001b[32m.. ◆ \u001b[0m\u001b[4;32mhttps://kind.krx.co.kr/disclosure/etfisudetail.do?\u001b[0m\u001b[4;32mmethod\u001b[0m\u001b[4;32m=\u001b[0m\u001b[4;32msearchEtfIsuSummary\u001b[0m\u001b[4;32m&\u001b[0m\u001b[4;32mstrIsurCd\u001b[0m\u001b[4;32m=\u001b[0m\u001b[4;32m466400\u001b[0m\u001b[32m        |\u001b[0m\n",
       "\u001b[32m✓\u001b[0m\u001b[32m | ⏱: \u001b[0m\u001b[1;32m0.\u001b[0m\u001b[32m01s \u001b[0m\n"
      ]
     },
     "metadata": {},
     "output_type": "display_data"
    },
    {
     "data": {
      "text/html": [
       "<pre style=\"white-space:pre;overflow-x:auto;line-height:normal;font-family:Menlo,'DejaVu Sans Mono',consolas,'Courier New',monospace\"><span style=\"color: #008000; text-decoration-color: #008000; font-weight: bold\">[</span><span style=\"color: #008000; text-decoration-color: #008000\">COMPLETE</span><span style=\"color: #008000; text-decoration-color: #008000; font-weight: bold\">]</span><span style=\"color: #008000; text-decoration-color: #008000\"> ● </span><span style=\"color: #008000; text-decoration-color: #008000; text-decoration: underline\">https://kind.krx.co.kr/disclosure/etfisudetail.do?method=searchEtfIsuSummary&amp;strIsurCd=466400</span><span style=\"color: #008000; text-decoration-color: #008000\">        |</span>\n",
       "<span style=\"color: #008000; text-decoration-color: #008000\">✓ | ⏱: </span><span style=\"color: #008000; text-decoration-color: #008000; font-weight: bold\">13.</span><span style=\"color: #008000; text-decoration-color: #008000\">52s </span>\n",
       "</pre>\n"
      ],
      "text/plain": [
       "\u001b[1;32m[\u001b[0m\u001b[32mCOMPLETE\u001b[0m\u001b[1;32m]\u001b[0m\u001b[32m ● \u001b[0m\u001b[4;32mhttps://kind.krx.co.kr/disclosure/etfisudetail.do?\u001b[0m\u001b[4;32mmethod\u001b[0m\u001b[4;32m=\u001b[0m\u001b[4;32msearchEtfIsuSummary\u001b[0m\u001b[4;32m&\u001b[0m\u001b[4;32mstrIsurCd\u001b[0m\u001b[4;32m=\u001b[0m\u001b[4;32m466400\u001b[0m\u001b[32m        |\u001b[0m\n",
       "\u001b[32m✓\u001b[0m\u001b[32m | ⏱: \u001b[0m\u001b[1;32m13.\u001b[0m\u001b[32m52s \u001b[0m\n"
      ]
     },
     "metadata": {},
     "output_type": "display_data"
    },
    {
     "name": "stderr",
     "output_type": "stream",
     "text": [
      "C:\\Users\\kaydash\\AppData\\Local\\Temp\\ipykernel_33596\\2214038668.py:48: FutureWarning: Passing literal html to 'read_html' is deprecated and will be removed in a future version. To read from a literal string, wrap it in a 'StringIO' object.\n",
      "  tables = pd.read_html(result.html)\n"
     ]
    },
    {
     "name": "stdout",
     "output_type": "stream",
     "text": [
      "  ❌ 테이블 파싱 오류 (466400): Missing optional dependency 'html5lib'.  Use pip or conda to install html5lib.\n",
      "\n",
      "크롤링 중: 491610 - https://kind.krx.co.kr/disclosure/etfisudetail.do?method=searchEtfIsuSummary&strIsurCd=491610\n"
     ]
    },
    {
     "data": {
      "text/html": [
       "<pre style=\"white-space:pre;overflow-x:auto;line-height:normal;font-family:Menlo,'DejaVu Sans Mono',consolas,'Courier New',monospace\"><span style=\"color: #008080; text-decoration-color: #008080; font-weight: bold\">[</span><span style=\"color: #008080; text-decoration-color: #008080\">INIT</span><span style=\"color: #008080; text-decoration-color: #008080; font-weight: bold\">]</span><span style=\"color: #008080; text-decoration-color: #008080\">.... → Crawl4AI </span><span style=\"color: #008080; text-decoration-color: #008080; font-weight: bold\">0.7</span><span style=\"color: #008080; text-decoration-color: #008080\">.</span><span style=\"color: #008080; text-decoration-color: #008080; font-weight: bold\">4</span><span style=\"color: #008080; text-decoration-color: #008080\"> </span>\n",
       "</pre>\n"
      ],
      "text/plain": [
       "\u001b[1;36m[\u001b[0m\u001b[36mINIT\u001b[0m\u001b[1;36m]\u001b[0m\u001b[36m...\u001b[0m\u001b[36m. → Crawl4AI \u001b[0m\u001b[1;36m0.7\u001b[0m\u001b[36m.\u001b[0m\u001b[1;36m4\u001b[0m\u001b[36m \u001b[0m\n"
      ]
     },
     "metadata": {},
     "output_type": "display_data"
    },
    {
     "data": {
      "text/html": [
       "<pre style=\"white-space:pre;overflow-x:auto;line-height:normal;font-family:Menlo,'DejaVu Sans Mono',consolas,'Courier New',monospace\"><span style=\"color: #008000; text-decoration-color: #008000; font-weight: bold\">[</span><span style=\"color: #008000; text-decoration-color: #008000\">FETCH</span><span style=\"color: #008000; text-decoration-color: #008000; font-weight: bold\">]</span><span style=\"color: #008000; text-decoration-color: #008000\">... ↓ </span><span style=\"color: #008000; text-decoration-color: #008000; text-decoration: underline\">https://kind.krx.co.kr/disclosure/etfisudetail.do?method=searchEtfIsuSummary&amp;strIsurCd=491610</span><span style=\"color: #008000; text-decoration-color: #008000\">        |</span>\n",
       "<span style=\"color: #008000; text-decoration-color: #008000\">✓ | ⏱: </span><span style=\"color: #008000; text-decoration-color: #008000; font-weight: bold\">3.</span><span style=\"color: #008000; text-decoration-color: #008000\">10s </span>\n",
       "</pre>\n"
      ],
      "text/plain": [
       "\u001b[1;32m[\u001b[0m\u001b[32mFETCH\u001b[0m\u001b[1;32m]\u001b[0m\u001b[32m...\u001b[0m\u001b[32m ↓ \u001b[0m\u001b[4;32mhttps://kind.krx.co.kr/disclosure/etfisudetail.do?\u001b[0m\u001b[4;32mmethod\u001b[0m\u001b[4;32m=\u001b[0m\u001b[4;32msearchEtfIsuSummary\u001b[0m\u001b[4;32m&\u001b[0m\u001b[4;32mstrIsurCd\u001b[0m\u001b[4;32m=\u001b[0m\u001b[4;32m491610\u001b[0m\u001b[32m        |\u001b[0m\n",
       "\u001b[32m✓\u001b[0m\u001b[32m | ⏱: \u001b[0m\u001b[1;32m3.\u001b[0m\u001b[32m10s \u001b[0m\n"
      ]
     },
     "metadata": {},
     "output_type": "display_data"
    },
    {
     "data": {
      "text/html": [
       "<pre style=\"white-space:pre;overflow-x:auto;line-height:normal;font-family:Menlo,'DejaVu Sans Mono',consolas,'Courier New',monospace\"><span style=\"color: #008000; text-decoration-color: #008000; font-weight: bold\">[</span><span style=\"color: #008000; text-decoration-color: #008000\">SCRAPE</span><span style=\"color: #008000; text-decoration-color: #008000; font-weight: bold\">]</span><span style=\"color: #008000; text-decoration-color: #008000\">.. ◆ </span><span style=\"color: #008000; text-decoration-color: #008000; text-decoration: underline\">https://kind.krx.co.kr/disclosure/etfisudetail.do?method=searchEtfIsuSummary&amp;strIsurCd=491610</span><span style=\"color: #008000; text-decoration-color: #008000\">        |</span>\n",
       "<span style=\"color: #008000; text-decoration-color: #008000\">✓ | ⏱: </span><span style=\"color: #008000; text-decoration-color: #008000; font-weight: bold\">0.</span><span style=\"color: #008000; text-decoration-color: #008000\">01s </span>\n",
       "</pre>\n"
      ],
      "text/plain": [
       "\u001b[1;32m[\u001b[0m\u001b[32mSCRAPE\u001b[0m\u001b[1;32m]\u001b[0m\u001b[32m.. ◆ \u001b[0m\u001b[4;32mhttps://kind.krx.co.kr/disclosure/etfisudetail.do?\u001b[0m\u001b[4;32mmethod\u001b[0m\u001b[4;32m=\u001b[0m\u001b[4;32msearchEtfIsuSummary\u001b[0m\u001b[4;32m&\u001b[0m\u001b[4;32mstrIsurCd\u001b[0m\u001b[4;32m=\u001b[0m\u001b[4;32m491610\u001b[0m\u001b[32m        |\u001b[0m\n",
       "\u001b[32m✓\u001b[0m\u001b[32m | ⏱: \u001b[0m\u001b[1;32m0.\u001b[0m\u001b[32m01s \u001b[0m\n"
      ]
     },
     "metadata": {},
     "output_type": "display_data"
    },
    {
     "data": {
      "text/html": [
       "<pre style=\"white-space:pre;overflow-x:auto;line-height:normal;font-family:Menlo,'DejaVu Sans Mono',consolas,'Courier New',monospace\"><span style=\"color: #008000; text-decoration-color: #008000; font-weight: bold\">[</span><span style=\"color: #008000; text-decoration-color: #008000\">COMPLETE</span><span style=\"color: #008000; text-decoration-color: #008000; font-weight: bold\">]</span><span style=\"color: #008000; text-decoration-color: #008000\"> ● </span><span style=\"color: #008000; text-decoration-color: #008000; text-decoration: underline\">https://kind.krx.co.kr/disclosure/etfisudetail.do?method=searchEtfIsuSummary&amp;strIsurCd=491610</span><span style=\"color: #008000; text-decoration-color: #008000\">        |</span>\n",
       "<span style=\"color: #008000; text-decoration-color: #008000\">✓ | ⏱: </span><span style=\"color: #008000; text-decoration-color: #008000; font-weight: bold\">3.</span><span style=\"color: #008000; text-decoration-color: #008000\">12s </span>\n",
       "</pre>\n"
      ],
      "text/plain": [
       "\u001b[1;32m[\u001b[0m\u001b[32mCOMPLETE\u001b[0m\u001b[1;32m]\u001b[0m\u001b[32m ● \u001b[0m\u001b[4;32mhttps://kind.krx.co.kr/disclosure/etfisudetail.do?\u001b[0m\u001b[4;32mmethod\u001b[0m\u001b[4;32m=\u001b[0m\u001b[4;32msearchEtfIsuSummary\u001b[0m\u001b[4;32m&\u001b[0m\u001b[4;32mstrIsurCd\u001b[0m\u001b[4;32m=\u001b[0m\u001b[4;32m491610\u001b[0m\u001b[32m        |\u001b[0m\n",
       "\u001b[32m✓\u001b[0m\u001b[32m | ⏱: \u001b[0m\u001b[1;32m3.\u001b[0m\u001b[32m12s \u001b[0m\n"
      ]
     },
     "metadata": {},
     "output_type": "display_data"
    },
    {
     "name": "stdout",
     "output_type": "stream",
     "text": [
      "  테이블 개수: 3\n",
      "  ⚠️ ETF 정보 테이블을 찾을 수 없습니다\n",
      "\n",
      "크롤링 중: 451060 - https://kind.krx.co.kr/disclosure/etfisudetail.do?method=searchEtfIsuSummary&strIsurCd=451060\n"
     ]
    },
    {
     "data": {
      "text/html": [
       "<pre style=\"white-space:pre;overflow-x:auto;line-height:normal;font-family:Menlo,'DejaVu Sans Mono',consolas,'Courier New',monospace\"><span style=\"color: #008080; text-decoration-color: #008080; font-weight: bold\">[</span><span style=\"color: #008080; text-decoration-color: #008080\">INIT</span><span style=\"color: #008080; text-decoration-color: #008080; font-weight: bold\">]</span><span style=\"color: #008080; text-decoration-color: #008080\">.... → Crawl4AI </span><span style=\"color: #008080; text-decoration-color: #008080; font-weight: bold\">0.7</span><span style=\"color: #008080; text-decoration-color: #008080\">.</span><span style=\"color: #008080; text-decoration-color: #008080; font-weight: bold\">4</span><span style=\"color: #008080; text-decoration-color: #008080\"> </span>\n",
       "</pre>\n"
      ],
      "text/plain": [
       "\u001b[1;36m[\u001b[0m\u001b[36mINIT\u001b[0m\u001b[1;36m]\u001b[0m\u001b[36m...\u001b[0m\u001b[36m. → Crawl4AI \u001b[0m\u001b[1;36m0.7\u001b[0m\u001b[36m.\u001b[0m\u001b[1;36m4\u001b[0m\u001b[36m \u001b[0m\n"
      ]
     },
     "metadata": {},
     "output_type": "display_data"
    },
    {
     "data": {
      "text/html": [
       "<pre style=\"white-space:pre;overflow-x:auto;line-height:normal;font-family:Menlo,'DejaVu Sans Mono',consolas,'Courier New',monospace\"><span style=\"color: #008000; text-decoration-color: #008000; font-weight: bold\">[</span><span style=\"color: #008000; text-decoration-color: #008000\">FETCH</span><span style=\"color: #008000; text-decoration-color: #008000; font-weight: bold\">]</span><span style=\"color: #008000; text-decoration-color: #008000\">... ↓ </span><span style=\"color: #008000; text-decoration-color: #008000; text-decoration: underline\">https://kind.krx.co.kr/disclosure/etfisudetail.do?method=searchEtfIsuSummary&amp;strIsurCd=451060</span><span style=\"color: #008000; text-decoration-color: #008000\">        |</span>\n",
       "<span style=\"color: #008000; text-decoration-color: #008000\">✓ | ⏱: </span><span style=\"color: #008000; text-decoration-color: #008000; font-weight: bold\">3.</span><span style=\"color: #008000; text-decoration-color: #008000\">65s </span>\n",
       "</pre>\n"
      ],
      "text/plain": [
       "\u001b[1;32m[\u001b[0m\u001b[32mFETCH\u001b[0m\u001b[1;32m]\u001b[0m\u001b[32m...\u001b[0m\u001b[32m ↓ \u001b[0m\u001b[4;32mhttps://kind.krx.co.kr/disclosure/etfisudetail.do?\u001b[0m\u001b[4;32mmethod\u001b[0m\u001b[4;32m=\u001b[0m\u001b[4;32msearchEtfIsuSummary\u001b[0m\u001b[4;32m&\u001b[0m\u001b[4;32mstrIsurCd\u001b[0m\u001b[4;32m=\u001b[0m\u001b[4;32m451060\u001b[0m\u001b[32m        |\u001b[0m\n",
       "\u001b[32m✓\u001b[0m\u001b[32m | ⏱: \u001b[0m\u001b[1;32m3.\u001b[0m\u001b[32m65s \u001b[0m\n"
      ]
     },
     "metadata": {},
     "output_type": "display_data"
    },
    {
     "data": {
      "text/html": [
       "<pre style=\"white-space:pre;overflow-x:auto;line-height:normal;font-family:Menlo,'DejaVu Sans Mono',consolas,'Courier New',monospace\"><span style=\"color: #008000; text-decoration-color: #008000; font-weight: bold\">[</span><span style=\"color: #008000; text-decoration-color: #008000\">SCRAPE</span><span style=\"color: #008000; text-decoration-color: #008000; font-weight: bold\">]</span><span style=\"color: #008000; text-decoration-color: #008000\">.. ◆ </span><span style=\"color: #008000; text-decoration-color: #008000; text-decoration: underline\">https://kind.krx.co.kr/disclosure/etfisudetail.do?method=searchEtfIsuSummary&amp;strIsurCd=451060</span><span style=\"color: #008000; text-decoration-color: #008000\">        |</span>\n",
       "<span style=\"color: #008000; text-decoration-color: #008000\">✓ | ⏱: </span><span style=\"color: #008000; text-decoration-color: #008000; font-weight: bold\">0.</span><span style=\"color: #008000; text-decoration-color: #008000\">01s </span>\n",
       "</pre>\n"
      ],
      "text/plain": [
       "\u001b[1;32m[\u001b[0m\u001b[32mSCRAPE\u001b[0m\u001b[1;32m]\u001b[0m\u001b[32m.. ◆ \u001b[0m\u001b[4;32mhttps://kind.krx.co.kr/disclosure/etfisudetail.do?\u001b[0m\u001b[4;32mmethod\u001b[0m\u001b[4;32m=\u001b[0m\u001b[4;32msearchEtfIsuSummary\u001b[0m\u001b[4;32m&\u001b[0m\u001b[4;32mstrIsurCd\u001b[0m\u001b[4;32m=\u001b[0m\u001b[4;32m451060\u001b[0m\u001b[32m        |\u001b[0m\n",
       "\u001b[32m✓\u001b[0m\u001b[32m | ⏱: \u001b[0m\u001b[1;32m0.\u001b[0m\u001b[32m01s \u001b[0m\n"
      ]
     },
     "metadata": {},
     "output_type": "display_data"
    },
    {
     "data": {
      "text/html": [
       "<pre style=\"white-space:pre;overflow-x:auto;line-height:normal;font-family:Menlo,'DejaVu Sans Mono',consolas,'Courier New',monospace\"><span style=\"color: #008000; text-decoration-color: #008000; font-weight: bold\">[</span><span style=\"color: #008000; text-decoration-color: #008000\">COMPLETE</span><span style=\"color: #008000; text-decoration-color: #008000; font-weight: bold\">]</span><span style=\"color: #008000; text-decoration-color: #008000\"> ● </span><span style=\"color: #008000; text-decoration-color: #008000; text-decoration: underline\">https://kind.krx.co.kr/disclosure/etfisudetail.do?method=searchEtfIsuSummary&amp;strIsurCd=451060</span><span style=\"color: #008000; text-decoration-color: #008000\">        |</span>\n",
       "<span style=\"color: #008000; text-decoration-color: #008000\">✓ | ⏱: </span><span style=\"color: #008000; text-decoration-color: #008000; font-weight: bold\">3.</span><span style=\"color: #008000; text-decoration-color: #008000\">66s </span>\n",
       "</pre>\n"
      ],
      "text/plain": [
       "\u001b[1;32m[\u001b[0m\u001b[32mCOMPLETE\u001b[0m\u001b[1;32m]\u001b[0m\u001b[32m ● \u001b[0m\u001b[4;32mhttps://kind.krx.co.kr/disclosure/etfisudetail.do?\u001b[0m\u001b[4;32mmethod\u001b[0m\u001b[4;32m=\u001b[0m\u001b[4;32msearchEtfIsuSummary\u001b[0m\u001b[4;32m&\u001b[0m\u001b[4;32mstrIsurCd\u001b[0m\u001b[4;32m=\u001b[0m\u001b[4;32m451060\u001b[0m\u001b[32m        |\u001b[0m\n",
       "\u001b[32m✓\u001b[0m\u001b[32m | ⏱: \u001b[0m\u001b[1;32m3.\u001b[0m\u001b[32m66s \u001b[0m\n"
      ]
     },
     "metadata": {},
     "output_type": "display_data"
    },
    {
     "name": "stderr",
     "output_type": "stream",
     "text": [
      "C:\\Users\\kaydash\\AppData\\Local\\Temp\\ipykernel_33596\\2214038668.py:48: FutureWarning: Passing literal html to 'read_html' is deprecated and will be removed in a future version. To read from a literal string, wrap it in a 'StringIO' object.\n",
      "  tables = pd.read_html(result.html)\n"
     ]
    },
    {
     "name": "stdout",
     "output_type": "stream",
     "text": [
      "  ❌ 테이블 파싱 오류 (451060): Missing optional dependency 'html5lib'.  Use pip or conda to install html5lib.\n",
      "\n",
      "크롤링 중: 463290 - https://kind.krx.co.kr/disclosure/etfisudetail.do?method=searchEtfIsuSummary&strIsurCd=463290\n"
     ]
    },
    {
     "data": {
      "text/html": [
       "<pre style=\"white-space:pre;overflow-x:auto;line-height:normal;font-family:Menlo,'DejaVu Sans Mono',consolas,'Courier New',monospace\"><span style=\"color: #008080; text-decoration-color: #008080; font-weight: bold\">[</span><span style=\"color: #008080; text-decoration-color: #008080\">INIT</span><span style=\"color: #008080; text-decoration-color: #008080; font-weight: bold\">]</span><span style=\"color: #008080; text-decoration-color: #008080\">.... → Crawl4AI </span><span style=\"color: #008080; text-decoration-color: #008080; font-weight: bold\">0.7</span><span style=\"color: #008080; text-decoration-color: #008080\">.</span><span style=\"color: #008080; text-decoration-color: #008080; font-weight: bold\">4</span><span style=\"color: #008080; text-decoration-color: #008080\"> </span>\n",
       "</pre>\n"
      ],
      "text/plain": [
       "\u001b[1;36m[\u001b[0m\u001b[36mINIT\u001b[0m\u001b[1;36m]\u001b[0m\u001b[36m...\u001b[0m\u001b[36m. → Crawl4AI \u001b[0m\u001b[1;36m0.7\u001b[0m\u001b[36m.\u001b[0m\u001b[1;36m4\u001b[0m\u001b[36m \u001b[0m\n"
      ]
     },
     "metadata": {},
     "output_type": "display_data"
    },
    {
     "data": {
      "text/html": [
       "<pre style=\"white-space:pre;overflow-x:auto;line-height:normal;font-family:Menlo,'DejaVu Sans Mono',consolas,'Courier New',monospace\"><span style=\"color: #008000; text-decoration-color: #008000; font-weight: bold\">[</span><span style=\"color: #008000; text-decoration-color: #008000\">FETCH</span><span style=\"color: #008000; text-decoration-color: #008000; font-weight: bold\">]</span><span style=\"color: #008000; text-decoration-color: #008000\">... ↓ </span><span style=\"color: #008000; text-decoration-color: #008000; text-decoration: underline\">https://kind.krx.co.kr/disclosure/etfisudetail.do?method=searchEtfIsuSummary&amp;strIsurCd=463290</span><span style=\"color: #008000; text-decoration-color: #008000\">        |</span>\n",
       "<span style=\"color: #008000; text-decoration-color: #008000\">✓ | ⏱: </span><span style=\"color: #008000; text-decoration-color: #008000; font-weight: bold\">3.</span><span style=\"color: #008000; text-decoration-color: #008000\">08s </span>\n",
       "</pre>\n"
      ],
      "text/plain": [
       "\u001b[1;32m[\u001b[0m\u001b[32mFETCH\u001b[0m\u001b[1;32m]\u001b[0m\u001b[32m...\u001b[0m\u001b[32m ↓ \u001b[0m\u001b[4;32mhttps://kind.krx.co.kr/disclosure/etfisudetail.do?\u001b[0m\u001b[4;32mmethod\u001b[0m\u001b[4;32m=\u001b[0m\u001b[4;32msearchEtfIsuSummary\u001b[0m\u001b[4;32m&\u001b[0m\u001b[4;32mstrIsurCd\u001b[0m\u001b[4;32m=\u001b[0m\u001b[4;32m463290\u001b[0m\u001b[32m        |\u001b[0m\n",
       "\u001b[32m✓\u001b[0m\u001b[32m | ⏱: \u001b[0m\u001b[1;32m3.\u001b[0m\u001b[32m08s \u001b[0m\n"
      ]
     },
     "metadata": {},
     "output_type": "display_data"
    },
    {
     "data": {
      "text/html": [
       "<pre style=\"white-space:pre;overflow-x:auto;line-height:normal;font-family:Menlo,'DejaVu Sans Mono',consolas,'Courier New',monospace\"><span style=\"color: #008000; text-decoration-color: #008000; font-weight: bold\">[</span><span style=\"color: #008000; text-decoration-color: #008000\">SCRAPE</span><span style=\"color: #008000; text-decoration-color: #008000; font-weight: bold\">]</span><span style=\"color: #008000; text-decoration-color: #008000\">.. ◆ </span><span style=\"color: #008000; text-decoration-color: #008000; text-decoration: underline\">https://kind.krx.co.kr/disclosure/etfisudetail.do?method=searchEtfIsuSummary&amp;strIsurCd=463290</span><span style=\"color: #008000; text-decoration-color: #008000\">        |</span>\n",
       "<span style=\"color: #008000; text-decoration-color: #008000\">✓ | ⏱: </span><span style=\"color: #008000; text-decoration-color: #008000; font-weight: bold\">0.</span><span style=\"color: #008000; text-decoration-color: #008000\">01s </span>\n",
       "</pre>\n"
      ],
      "text/plain": [
       "\u001b[1;32m[\u001b[0m\u001b[32mSCRAPE\u001b[0m\u001b[1;32m]\u001b[0m\u001b[32m.. ◆ \u001b[0m\u001b[4;32mhttps://kind.krx.co.kr/disclosure/etfisudetail.do?\u001b[0m\u001b[4;32mmethod\u001b[0m\u001b[4;32m=\u001b[0m\u001b[4;32msearchEtfIsuSummary\u001b[0m\u001b[4;32m&\u001b[0m\u001b[4;32mstrIsurCd\u001b[0m\u001b[4;32m=\u001b[0m\u001b[4;32m463290\u001b[0m\u001b[32m        |\u001b[0m\n",
       "\u001b[32m✓\u001b[0m\u001b[32m | ⏱: \u001b[0m\u001b[1;32m0.\u001b[0m\u001b[32m01s \u001b[0m\n"
      ]
     },
     "metadata": {},
     "output_type": "display_data"
    },
    {
     "data": {
      "text/html": [
       "<pre style=\"white-space:pre;overflow-x:auto;line-height:normal;font-family:Menlo,'DejaVu Sans Mono',consolas,'Courier New',monospace\"><span style=\"color: #008000; text-decoration-color: #008000; font-weight: bold\">[</span><span style=\"color: #008000; text-decoration-color: #008000\">COMPLETE</span><span style=\"color: #008000; text-decoration-color: #008000; font-weight: bold\">]</span><span style=\"color: #008000; text-decoration-color: #008000\"> ● </span><span style=\"color: #008000; text-decoration-color: #008000; text-decoration: underline\">https://kind.krx.co.kr/disclosure/etfisudetail.do?method=searchEtfIsuSummary&amp;strIsurCd=463290</span><span style=\"color: #008000; text-decoration-color: #008000\">        |</span>\n",
       "<span style=\"color: #008000; text-decoration-color: #008000\">✓ | ⏱: </span><span style=\"color: #008000; text-decoration-color: #008000; font-weight: bold\">3.</span><span style=\"color: #008000; text-decoration-color: #008000\">10s </span>\n",
       "</pre>\n"
      ],
      "text/plain": [
       "\u001b[1;32m[\u001b[0m\u001b[32mCOMPLETE\u001b[0m\u001b[1;32m]\u001b[0m\u001b[32m ● \u001b[0m\u001b[4;32mhttps://kind.krx.co.kr/disclosure/etfisudetail.do?\u001b[0m\u001b[4;32mmethod\u001b[0m\u001b[4;32m=\u001b[0m\u001b[4;32msearchEtfIsuSummary\u001b[0m\u001b[4;32m&\u001b[0m\u001b[4;32mstrIsurCd\u001b[0m\u001b[4;32m=\u001b[0m\u001b[4;32m463290\u001b[0m\u001b[32m        |\u001b[0m\n",
       "\u001b[32m✓\u001b[0m\u001b[32m | ⏱: \u001b[0m\u001b[1;32m3.\u001b[0m\u001b[32m10s \u001b[0m\n"
      ]
     },
     "metadata": {},
     "output_type": "display_data"
    },
    {
     "name": "stdout",
     "output_type": "stream",
     "text": [
      "  테이블 개수: 3\n",
      "  ⚠️ ETF 정보 테이블을 찾을 수 없습니다\n",
      "\n",
      "크롤링 중: 479080 - https://kind.krx.co.kr/disclosure/etfisudetail.do?method=searchEtfIsuSummary&strIsurCd=479080\n"
     ]
    },
    {
     "data": {
      "text/html": [
       "<pre style=\"white-space:pre;overflow-x:auto;line-height:normal;font-family:Menlo,'DejaVu Sans Mono',consolas,'Courier New',monospace\"><span style=\"color: #008080; text-decoration-color: #008080; font-weight: bold\">[</span><span style=\"color: #008080; text-decoration-color: #008080\">INIT</span><span style=\"color: #008080; text-decoration-color: #008080; font-weight: bold\">]</span><span style=\"color: #008080; text-decoration-color: #008080\">.... → Crawl4AI </span><span style=\"color: #008080; text-decoration-color: #008080; font-weight: bold\">0.7</span><span style=\"color: #008080; text-decoration-color: #008080\">.</span><span style=\"color: #008080; text-decoration-color: #008080; font-weight: bold\">4</span><span style=\"color: #008080; text-decoration-color: #008080\"> </span>\n",
       "</pre>\n"
      ],
      "text/plain": [
       "\u001b[1;36m[\u001b[0m\u001b[36mINIT\u001b[0m\u001b[1;36m]\u001b[0m\u001b[36m...\u001b[0m\u001b[36m. → Crawl4AI \u001b[0m\u001b[1;36m0.7\u001b[0m\u001b[36m.\u001b[0m\u001b[1;36m4\u001b[0m\u001b[36m \u001b[0m\n"
      ]
     },
     "metadata": {},
     "output_type": "display_data"
    },
    {
     "data": {
      "text/html": [
       "<pre style=\"white-space:pre;overflow-x:auto;line-height:normal;font-family:Menlo,'DejaVu Sans Mono',consolas,'Courier New',monospace\"><span style=\"color: #008000; text-decoration-color: #008000; font-weight: bold\">[</span><span style=\"color: #008000; text-decoration-color: #008000\">FETCH</span><span style=\"color: #008000; text-decoration-color: #008000; font-weight: bold\">]</span><span style=\"color: #008000; text-decoration-color: #008000\">... ↓ </span><span style=\"color: #008000; text-decoration-color: #008000; text-decoration: underline\">https://kind.krx.co.kr/disclosure/etfisudetail.do?method=searchEtfIsuSummary&amp;strIsurCd=479080</span><span style=\"color: #008000; text-decoration-color: #008000\">        |</span>\n",
       "<span style=\"color: #008000; text-decoration-color: #008000\">✓ | ⏱: </span><span style=\"color: #008000; text-decoration-color: #008000; font-weight: bold\">3.</span><span style=\"color: #008000; text-decoration-color: #008000\">42s </span>\n",
       "</pre>\n"
      ],
      "text/plain": [
       "\u001b[1;32m[\u001b[0m\u001b[32mFETCH\u001b[0m\u001b[1;32m]\u001b[0m\u001b[32m...\u001b[0m\u001b[32m ↓ \u001b[0m\u001b[4;32mhttps://kind.krx.co.kr/disclosure/etfisudetail.do?\u001b[0m\u001b[4;32mmethod\u001b[0m\u001b[4;32m=\u001b[0m\u001b[4;32msearchEtfIsuSummary\u001b[0m\u001b[4;32m&\u001b[0m\u001b[4;32mstrIsurCd\u001b[0m\u001b[4;32m=\u001b[0m\u001b[4;32m479080\u001b[0m\u001b[32m        |\u001b[0m\n",
       "\u001b[32m✓\u001b[0m\u001b[32m | ⏱: \u001b[0m\u001b[1;32m3.\u001b[0m\u001b[32m42s \u001b[0m\n"
      ]
     },
     "metadata": {},
     "output_type": "display_data"
    },
    {
     "data": {
      "text/html": [
       "<pre style=\"white-space:pre;overflow-x:auto;line-height:normal;font-family:Menlo,'DejaVu Sans Mono',consolas,'Courier New',monospace\"><span style=\"color: #008000; text-decoration-color: #008000; font-weight: bold\">[</span><span style=\"color: #008000; text-decoration-color: #008000\">SCRAPE</span><span style=\"color: #008000; text-decoration-color: #008000; font-weight: bold\">]</span><span style=\"color: #008000; text-decoration-color: #008000\">.. ◆ </span><span style=\"color: #008000; text-decoration-color: #008000; text-decoration: underline\">https://kind.krx.co.kr/disclosure/etfisudetail.do?method=searchEtfIsuSummary&amp;strIsurCd=479080</span><span style=\"color: #008000; text-decoration-color: #008000\">        |</span>\n",
       "<span style=\"color: #008000; text-decoration-color: #008000\">✓ | ⏱: </span><span style=\"color: #008000; text-decoration-color: #008000; font-weight: bold\">0.</span><span style=\"color: #008000; text-decoration-color: #008000\">01s </span>\n",
       "</pre>\n"
      ],
      "text/plain": [
       "\u001b[1;32m[\u001b[0m\u001b[32mSCRAPE\u001b[0m\u001b[1;32m]\u001b[0m\u001b[32m.. ◆ \u001b[0m\u001b[4;32mhttps://kind.krx.co.kr/disclosure/etfisudetail.do?\u001b[0m\u001b[4;32mmethod\u001b[0m\u001b[4;32m=\u001b[0m\u001b[4;32msearchEtfIsuSummary\u001b[0m\u001b[4;32m&\u001b[0m\u001b[4;32mstrIsurCd\u001b[0m\u001b[4;32m=\u001b[0m\u001b[4;32m479080\u001b[0m\u001b[32m        |\u001b[0m\n",
       "\u001b[32m✓\u001b[0m\u001b[32m | ⏱: \u001b[0m\u001b[1;32m0.\u001b[0m\u001b[32m01s \u001b[0m\n"
      ]
     },
     "metadata": {},
     "output_type": "display_data"
    },
    {
     "data": {
      "text/html": [
       "<pre style=\"white-space:pre;overflow-x:auto;line-height:normal;font-family:Menlo,'DejaVu Sans Mono',consolas,'Courier New',monospace\"><span style=\"color: #008000; text-decoration-color: #008000; font-weight: bold\">[</span><span style=\"color: #008000; text-decoration-color: #008000\">COMPLETE</span><span style=\"color: #008000; text-decoration-color: #008000; font-weight: bold\">]</span><span style=\"color: #008000; text-decoration-color: #008000\"> ● </span><span style=\"color: #008000; text-decoration-color: #008000; text-decoration: underline\">https://kind.krx.co.kr/disclosure/etfisudetail.do?method=searchEtfIsuSummary&amp;strIsurCd=479080</span><span style=\"color: #008000; text-decoration-color: #008000\">        |</span>\n",
       "<span style=\"color: #008000; text-decoration-color: #008000\">✓ | ⏱: </span><span style=\"color: #008000; text-decoration-color: #008000; font-weight: bold\">3.</span><span style=\"color: #008000; text-decoration-color: #008000\">44s </span>\n",
       "</pre>\n"
      ],
      "text/plain": [
       "\u001b[1;32m[\u001b[0m\u001b[32mCOMPLETE\u001b[0m\u001b[1;32m]\u001b[0m\u001b[32m ● \u001b[0m\u001b[4;32mhttps://kind.krx.co.kr/disclosure/etfisudetail.do?\u001b[0m\u001b[4;32mmethod\u001b[0m\u001b[4;32m=\u001b[0m\u001b[4;32msearchEtfIsuSummary\u001b[0m\u001b[4;32m&\u001b[0m\u001b[4;32mstrIsurCd\u001b[0m\u001b[4;32m=\u001b[0m\u001b[4;32m479080\u001b[0m\u001b[32m        |\u001b[0m\n",
       "\u001b[32m✓\u001b[0m\u001b[32m | ⏱: \u001b[0m\u001b[1;32m3.\u001b[0m\u001b[32m44s \u001b[0m\n"
      ]
     },
     "metadata": {},
     "output_type": "display_data"
    },
    {
     "name": "stderr",
     "output_type": "stream",
     "text": [
      "C:\\Users\\kaydash\\AppData\\Local\\Temp\\ipykernel_33596\\2214038668.py:48: FutureWarning: Passing literal html to 'read_html' is deprecated and will be removed in a future version. To read from a literal string, wrap it in a 'StringIO' object.\n",
      "  tables = pd.read_html(result.html)\n"
     ]
    },
    {
     "name": "stdout",
     "output_type": "stream",
     "text": [
      "  테이블 개수: 3\n",
      "  ⚠️ ETF 정보 테이블을 찾을 수 없습니다\n",
      "\n",
      "======================================================================\n",
      "✅ 수집 완료: 3개 ETF\n",
      "======================================================================\n",
      "\n",
      "첫 번째 ETF 정보:\n",
      "  종목코드: 491610\n",
      "  한글명: None\n",
      "  영문명: None\n",
      "  표준코드: None\n",
      "  상장일: None\n",
      "  펀드형태: None\n",
      "  기초지수명: None\n",
      "  추적배수: None\n",
      "  자산운용사: None\n",
      "  지정참가회사(AP): None\n",
      "  총보수(%): None\n",
      "  회계기간: None\n",
      "  과세유형: None\n",
      "  분배금 지급일: None\n",
      "  홈페이지: None\n",
      "  기초 시장: None\n",
      "  기초 자산: None\n",
      "  기본 정보: None\n",
      "  투자유의사항: None\n",
      "\n",
      "수집된 데이터 미리보기:\n",
      "     종목코드   한글명   영문명  표준코드   상장일  펀드형태 기초지수명  추적배수 자산운용사 지정참가회사(AP) 총보수(%)  \\\n",
      "0  491610  None  None  None  None  None  None  None  None       None   None   \n",
      "1  463290  None  None  None  None  None  None  None  None       None   None   \n",
      "2  479080  None  None  None  None  None  None  None  None       None   None   \n",
      "\n",
      "   회계기간  과세유형 분배금 지급일  홈페이지 기초 시장 기초 자산 기본 정보 투자유의사항  \n",
      "0  None  None    None  None  None  None  None   None  \n",
      "1  None  None    None  None  None  None  None   None  \n",
      "2  None  None    None  None  None  None  None   None  \n",
      "\n",
      "💾 CSV 저장 완료: data/etf_details_fixed.csv\n"
     ]
    }
   ],
   "source": [
    "# ================================================================================\n",
    "# [실습 완성] ETF 상세정보 수집 - 수정된 버전\n",
    "# ================================================================================\n",
    "\n",
    "import pandas as pd\n",
    "import asyncio\n",
    "from crawl4ai import AsyncWebCrawler, BrowserConfig, CrawlerRunConfig, CacheMode\n",
    "\n",
    "# 1. ETF 종목코드 5개 선택\n",
    "sample_etf_codes = etf_list['종목코드'].head(5).tolist()\n",
    "print(f\"수집 대상 ETF 종목코드: {sample_etf_codes}\")\n",
    "\n",
    "# 2. ETF 상세정보 추출 함수 (수정됨)\n",
    "async def extract_etf_detail_fixed(etf_code):\n",
    "    \"\"\"\n",
    "    ETF 상세 페이지에서 정보를 추출하는 함수 (수정 버전)\n",
    "    \"\"\"\n",
    "    # 종목코드를 5자리 문자열로 변환\n",
    "    str_isur_cd = str(etf_code).zfill(5)\n",
    "    etf_url = f\"https://kind.krx.co.kr/disclosure/etfisudetail.do?method=searchEtfIsuSummary&strIsurCd={str_isur_cd}\"\n",
    "    \n",
    "    print(f\"\\n크롤링 중: {etf_code} - {etf_url}\")\n",
    "    \n",
    "    # 크롤링 설정\n",
    "    browser_config = BrowserConfig(\n",
    "        browser_type=\"chromium\",\n",
    "        headless=True,\n",
    "        text_mode=False,\n",
    "        viewport_width=1080,\n",
    "        viewport_height=600\n",
    "    )\n",
    "    \n",
    "    run_config = CrawlerRunConfig(\n",
    "        cache_mode=CacheMode.BYPASS,\n",
    "        word_count_threshold=10\n",
    "    )\n",
    "    \n",
    "    # 크롤링 실행\n",
    "    async with AsyncWebCrawler(config=browser_config) as crawler:\n",
    "        result = await crawler.arun(url=etf_url, config=run_config)\n",
    "    \n",
    "    if not result.success:\n",
    "        print(f\"❌ 크롤링 실패: {etf_code}\")\n",
    "        return None\n",
    "    \n",
    "    # pandas.read_html()로 테이블 추출\n",
    "    try:\n",
    "        tables = pd.read_html(result.html)\n",
    "        print(f\"  테이블 개수: {len(tables)}\")\n",
    "        \n",
    "        # ETF 정보를 저장할 딕셔너리 (기본값)\n",
    "        etf_info = {\n",
    "            '종목코드': etf_code,\n",
    "            '한글명': None,\n",
    "            '영문명': None,\n",
    "            '표준코드': None,\n",
    "            '상장일': None,\n",
    "            '펀드형태': None,\n",
    "            '기초지수명': None,\n",
    "            '추적배수': None,\n",
    "            '자산운용사': None,\n",
    "            '지정참가회사(AP)': None,\n",
    "            '총보수(%)': None,\n",
    "            '회계기간': None,\n",
    "            '과세유형': None,\n",
    "            '분배금 지급일': None,\n",
    "            '홈페이지': None,\n",
    "            '기초 시장': None,\n",
    "            '기초 자산': None,\n",
    "            '기본 정보': None,\n",
    "            '투자유의사항': None\n",
    "        }\n",
    "        \n",
    "        # 올바른 테이블 찾기: 2열 형식이고 '한글명' 항목이 있는 테이블\n",
    "        target_table = None\n",
    "        for table in tables:\n",
    "            # 2열 형식 확인\n",
    "            if table.shape[1] == 2:\n",
    "                # 첫 번째 열에 '한글명'이 있는지 확인\n",
    "                if '한글명' in table.iloc[:, 0].values:\n",
    "                    target_table = table\n",
    "                    print(f\"  ✅ ETF 정보 테이블 발견! Shape: {table.shape}\")\n",
    "                    break\n",
    "        \n",
    "        if target_table is None:\n",
    "            print(f\"  ⚠️ ETF 정보 테이블을 찾을 수 없습니다\")\n",
    "            return etf_info\n",
    "        \n",
    "        # 테이블에서 데이터 추출 (정확한 키 매칭)\n",
    "        for idx, row in target_table.iterrows():\n",
    "            key = str(row.iloc[0]).strip()\n",
    "            value = str(row.iloc[1]).strip()\n",
    "            \n",
    "            # 정확한 키 매칭 (existing data structure 기반)\n",
    "            if key == '한글명':\n",
    "                etf_info['한글명'] = value\n",
    "            elif key == '영문명':\n",
    "                etf_info['영문명'] = value\n",
    "            elif key == '표준코드':\n",
    "                etf_info['표준코드'] = value\n",
    "            elif key == '종목코드':\n",
    "                pass  # 이미 설정됨\n",
    "            elif key == '상장일':\n",
    "                etf_info['상장일'] = value\n",
    "            elif key == '펀드형태':\n",
    "                etf_info['펀드형태'] = value\n",
    "            elif key == '기초지수명':\n",
    "                etf_info['기초지수명'] = value\n",
    "            elif key == '추적배수':\n",
    "                etf_info['추적배수'] = value\n",
    "            elif key == '자산운용사':\n",
    "                etf_info['자산운용사'] = value\n",
    "            elif key == '지정참가회사(AP)':\n",
    "                etf_info['지정참가회사(AP)'] = value\n",
    "            elif key == '총보수(%)':\n",
    "                etf_info['총보수(%)'] = value\n",
    "            elif key == '회계기간':\n",
    "                etf_info['회계기간'] = value\n",
    "            elif key == '과세유형':\n",
    "                etf_info['과세유형'] = value\n",
    "            elif key == '분배금 지급일':\n",
    "                etf_info['분배금 지급일'] = value\n",
    "            elif key == '홈페이지':\n",
    "                etf_info['홈페이지'] = value\n",
    "            elif key == '기초 시장':\n",
    "                etf_info['기초 시장'] = value\n",
    "            elif key == '기초 자산':\n",
    "                etf_info['기초 자산'] = value\n",
    "            elif key == '기본 정보':\n",
    "                etf_info['기본 정보'] = value\n",
    "            elif key == '투자유의사항':\n",
    "                etf_info['투자유의사항'] = value\n",
    "        \n",
    "        # 추출 성공 확인\n",
    "        filled_count = sum(1 for v in etf_info.values() if v is not None)\n",
    "        print(f\"  📊 추출된 필드: {filled_count}/19\")\n",
    "        \n",
    "        return etf_info\n",
    "        \n",
    "    except Exception as e:\n",
    "        print(f\"  ❌ 테이블 파싱 오류 ({etf_code}): {e}\")\n",
    "        return None\n",
    "\n",
    "\n",
    "# 3. 5개 ETF에 대해 순차 크롤링\n",
    "async def collect_all_etfs_fixed(etf_codes):\n",
    "    \"\"\"여러 ETF 정보를 순차적으로 수집\"\"\"\n",
    "    results = []\n",
    "    \n",
    "    for code in etf_codes:\n",
    "        etf_data = await extract_etf_detail_fixed(code)\n",
    "        if etf_data:\n",
    "            results.append(etf_data)\n",
    "        # 서버 부하 방지\n",
    "        await asyncio.sleep(1)\n",
    "    \n",
    "    return results\n",
    "\n",
    "\n",
    "# 4. 크롤링 실행\n",
    "print(\"\\n\" + \"=\"*70)\n",
    "print(\"ETF 상세정보 수집 시작\")\n",
    "print(\"=\"*70)\n",
    "\n",
    "etf_details_fixed = loop.run_until_complete(collect_all_etfs_fixed(sample_etf_codes))\n",
    "\n",
    "# 5. 결과 확인\n",
    "print(\"\\n\" + \"=\"*70)\n",
    "print(f\"✅ 수집 완료: {len(etf_details_fixed)}개 ETF\")\n",
    "print(\"=\"*70)\n",
    "\n",
    "if etf_details_fixed:\n",
    "    print(\"\\n첫 번째 ETF 정보:\")\n",
    "    for key, value in etf_details_fixed[0].items():\n",
    "        print(f\"  {key}: {value}\")\n",
    "\n",
    "# 6. DataFrame으로 변환\n",
    "df_etf_details_fixed = pd.DataFrame(etf_details_fixed)\n",
    "print(\"\\n수집된 데이터 미리보기:\")\n",
    "print(df_etf_details_fixed)\n",
    "\n",
    "# 7. CSV 파일로 저장\n",
    "output_path = 'data/etf_details_fixed.csv'\n",
    "df_etf_details_fixed.to_csv(output_path, index=False, encoding='utf-8-sig')\n",
    "print(f\"\\n💾 CSV 저장 완료: {output_path}\")"
   ]
  },
  {
   "cell_type": "markdown",
   "metadata": {},
   "source": [
    "---\n",
    "\n",
    "## [실습] **ETF 상세정보 수집**\n",
    "\n",
    "- 다음 ETF 상세 페이지에서 다음 항목을 수집하는 함수를 작성합니다. \n",
    "- 대상 필드:\n",
    "    - '한글명', '영문명', '종목코드', '상장일', '펀드형태', '기초지수명', '추적배수', '자산운용사',\n",
    "    - '지정참가회사(AP)', '총보수(%)', '회계기간', '과세유형', '분배금 지급일', '홈페이지',\n",
    "    - '기초 시장', '기초 자산', '기본 정보', '투자유의사항'\n",
    "\n",
    "- 모두 5개의 ETF 종목에 대한 정보를 수집하여 csv 파일로 저장합니다. \n",
    "\n",
    "- **Hint**:\n",
    "    - crawl4ai 사용하여 각 ETF 상세 페이지의 HTML 소스코드를 추출 (종목코드: 5자리 숫자에 유의)\n",
    "    - pandas.read_html() 함수를 사용하여 HTML 소스코드에서 테이블 데이터를 추출 "
   ]
  },
  {
   "cell_type": "code",
   "execution_count": 30,
   "metadata": {},
   "outputs": [
    {
     "name": "stdout",
     "output_type": "stream",
     "text": [
      "수집 대상 ETF 종목코드: ['466400', '491610', '451060', '463290', '479080']\n",
      "\n",
      "크롤링 중: 466400 - https://kind.krx.co.kr/disclosure/etfisudetail.do?method=searchEtfIsuSummary&strIsurCd=466400\n"
     ]
    },
    {
     "data": {
      "text/html": [
       "<pre style=\"white-space:pre;overflow-x:auto;line-height:normal;font-family:Menlo,'DejaVu Sans Mono',consolas,'Courier New',monospace\"><span style=\"color: #008080; text-decoration-color: #008080; font-weight: bold\">[</span><span style=\"color: #008080; text-decoration-color: #008080\">INIT</span><span style=\"color: #008080; text-decoration-color: #008080; font-weight: bold\">]</span><span style=\"color: #008080; text-decoration-color: #008080\">.... → Crawl4AI </span><span style=\"color: #008080; text-decoration-color: #008080; font-weight: bold\">0.7</span><span style=\"color: #008080; text-decoration-color: #008080\">.</span><span style=\"color: #008080; text-decoration-color: #008080; font-weight: bold\">4</span><span style=\"color: #008080; text-decoration-color: #008080\"> </span>\n",
       "</pre>\n"
      ],
      "text/plain": [
       "\u001b[1;36m[\u001b[0m\u001b[36mINIT\u001b[0m\u001b[1;36m]\u001b[0m\u001b[36m...\u001b[0m\u001b[36m. → Crawl4AI \u001b[0m\u001b[1;36m0.7\u001b[0m\u001b[36m.\u001b[0m\u001b[1;36m4\u001b[0m\u001b[36m \u001b[0m\n"
      ]
     },
     "metadata": {},
     "output_type": "display_data"
    },
    {
     "data": {
      "text/html": [
       "<pre style=\"white-space:pre;overflow-x:auto;line-height:normal;font-family:Menlo,'DejaVu Sans Mono',consolas,'Courier New',monospace\"><span style=\"color: #008000; text-decoration-color: #008000; font-weight: bold\">[</span><span style=\"color: #008000; text-decoration-color: #008000\">FETCH</span><span style=\"color: #008000; text-decoration-color: #008000; font-weight: bold\">]</span><span style=\"color: #008000; text-decoration-color: #008000\">... ↓ </span><span style=\"color: #008000; text-decoration-color: #008000; text-decoration: underline\">https://kind.krx.co.kr/disclosure/etfisudetail.do?method=searchEtfIsuSummary&amp;strIsurCd=466400</span><span style=\"color: #008000; text-decoration-color: #008000\">        |</span>\n",
       "<span style=\"color: #008000; text-decoration-color: #008000\">✓ | ⏱: </span><span style=\"color: #008000; text-decoration-color: #008000; font-weight: bold\">3.</span><span style=\"color: #008000; text-decoration-color: #008000\">41s </span>\n",
       "</pre>\n"
      ],
      "text/plain": [
       "\u001b[1;32m[\u001b[0m\u001b[32mFETCH\u001b[0m\u001b[1;32m]\u001b[0m\u001b[32m...\u001b[0m\u001b[32m ↓ \u001b[0m\u001b[4;32mhttps://kind.krx.co.kr/disclosure/etfisudetail.do?\u001b[0m\u001b[4;32mmethod\u001b[0m\u001b[4;32m=\u001b[0m\u001b[4;32msearchEtfIsuSummary\u001b[0m\u001b[4;32m&\u001b[0m\u001b[4;32mstrIsurCd\u001b[0m\u001b[4;32m=\u001b[0m\u001b[4;32m466400\u001b[0m\u001b[32m        |\u001b[0m\n",
       "\u001b[32m✓\u001b[0m\u001b[32m | ⏱: \u001b[0m\u001b[1;32m3.\u001b[0m\u001b[32m41s \u001b[0m\n"
      ]
     },
     "metadata": {},
     "output_type": "display_data"
    },
    {
     "data": {
      "text/html": [
       "<pre style=\"white-space:pre;overflow-x:auto;line-height:normal;font-family:Menlo,'DejaVu Sans Mono',consolas,'Courier New',monospace\"><span style=\"color: #008000; text-decoration-color: #008000; font-weight: bold\">[</span><span style=\"color: #008000; text-decoration-color: #008000\">SCRAPE</span><span style=\"color: #008000; text-decoration-color: #008000; font-weight: bold\">]</span><span style=\"color: #008000; text-decoration-color: #008000\">.. ◆ </span><span style=\"color: #008000; text-decoration-color: #008000; text-decoration: underline\">https://kind.krx.co.kr/disclosure/etfisudetail.do?method=searchEtfIsuSummary&amp;strIsurCd=466400</span><span style=\"color: #008000; text-decoration-color: #008000\">        |</span>\n",
       "<span style=\"color: #008000; text-decoration-color: #008000\">✓ | ⏱: </span><span style=\"color: #008000; text-decoration-color: #008000; font-weight: bold\">0.</span><span style=\"color: #008000; text-decoration-color: #008000\">01s </span>\n",
       "</pre>\n"
      ],
      "text/plain": [
       "\u001b[1;32m[\u001b[0m\u001b[32mSCRAPE\u001b[0m\u001b[1;32m]\u001b[0m\u001b[32m.. ◆ \u001b[0m\u001b[4;32mhttps://kind.krx.co.kr/disclosure/etfisudetail.do?\u001b[0m\u001b[4;32mmethod\u001b[0m\u001b[4;32m=\u001b[0m\u001b[4;32msearchEtfIsuSummary\u001b[0m\u001b[4;32m&\u001b[0m\u001b[4;32mstrIsurCd\u001b[0m\u001b[4;32m=\u001b[0m\u001b[4;32m466400\u001b[0m\u001b[32m        |\u001b[0m\n",
       "\u001b[32m✓\u001b[0m\u001b[32m | ⏱: \u001b[0m\u001b[1;32m0.\u001b[0m\u001b[32m01s \u001b[0m\n"
      ]
     },
     "metadata": {},
     "output_type": "display_data"
    },
    {
     "data": {
      "text/html": [
       "<pre style=\"white-space:pre;overflow-x:auto;line-height:normal;font-family:Menlo,'DejaVu Sans Mono',consolas,'Courier New',monospace\"><span style=\"color: #008000; text-decoration-color: #008000; font-weight: bold\">[</span><span style=\"color: #008000; text-decoration-color: #008000\">COMPLETE</span><span style=\"color: #008000; text-decoration-color: #008000; font-weight: bold\">]</span><span style=\"color: #008000; text-decoration-color: #008000\"> ● </span><span style=\"color: #008000; text-decoration-color: #008000; text-decoration: underline\">https://kind.krx.co.kr/disclosure/etfisudetail.do?method=searchEtfIsuSummary&amp;strIsurCd=466400</span><span style=\"color: #008000; text-decoration-color: #008000\">        |</span>\n",
       "<span style=\"color: #008000; text-decoration-color: #008000\">✓ | ⏱: </span><span style=\"color: #008000; text-decoration-color: #008000; font-weight: bold\">3.</span><span style=\"color: #008000; text-decoration-color: #008000\">43s </span>\n",
       "</pre>\n"
      ],
      "text/plain": [
       "\u001b[1;32m[\u001b[0m\u001b[32mCOMPLETE\u001b[0m\u001b[1;32m]\u001b[0m\u001b[32m ● \u001b[0m\u001b[4;32mhttps://kind.krx.co.kr/disclosure/etfisudetail.do?\u001b[0m\u001b[4;32mmethod\u001b[0m\u001b[4;32m=\u001b[0m\u001b[4;32msearchEtfIsuSummary\u001b[0m\u001b[4;32m&\u001b[0m\u001b[4;32mstrIsurCd\u001b[0m\u001b[4;32m=\u001b[0m\u001b[4;32m466400\u001b[0m\u001b[32m        |\u001b[0m\n",
       "\u001b[32m✓\u001b[0m\u001b[32m | ⏱: \u001b[0m\u001b[1;32m3.\u001b[0m\u001b[32m43s \u001b[0m\n"
      ]
     },
     "metadata": {},
     "output_type": "display_data"
    },
    {
     "name": "stderr",
     "output_type": "stream",
     "text": [
      "C:\\Users\\kaydash\\AppData\\Local\\Temp\\ipykernel_33596\\3256852361.py:54: FutureWarning: Passing literal html to 'read_html' is deprecated and will be removed in a future version. To read from a literal string, wrap it in a 'StringIO' object.\n",
      "  tables = pd.read_html(result.html)\n"
     ]
    },
    {
     "name": "stdout",
     "output_type": "stream",
     "text": [
      "테이블 개수: 3\n",
      "\n",
      "크롤링 중: 491610 - https://kind.krx.co.kr/disclosure/etfisudetail.do?method=searchEtfIsuSummary&strIsurCd=491610\n"
     ]
    },
    {
     "data": {
      "text/html": [
       "<pre style=\"white-space:pre;overflow-x:auto;line-height:normal;font-family:Menlo,'DejaVu Sans Mono',consolas,'Courier New',monospace\"><span style=\"color: #008080; text-decoration-color: #008080; font-weight: bold\">[</span><span style=\"color: #008080; text-decoration-color: #008080\">INIT</span><span style=\"color: #008080; text-decoration-color: #008080; font-weight: bold\">]</span><span style=\"color: #008080; text-decoration-color: #008080\">.... → Crawl4AI </span><span style=\"color: #008080; text-decoration-color: #008080; font-weight: bold\">0.7</span><span style=\"color: #008080; text-decoration-color: #008080\">.</span><span style=\"color: #008080; text-decoration-color: #008080; font-weight: bold\">4</span><span style=\"color: #008080; text-decoration-color: #008080\"> </span>\n",
       "</pre>\n"
      ],
      "text/plain": [
       "\u001b[1;36m[\u001b[0m\u001b[36mINIT\u001b[0m\u001b[1;36m]\u001b[0m\u001b[36m...\u001b[0m\u001b[36m. → Crawl4AI \u001b[0m\u001b[1;36m0.7\u001b[0m\u001b[36m.\u001b[0m\u001b[1;36m4\u001b[0m\u001b[36m \u001b[0m\n"
      ]
     },
     "metadata": {},
     "output_type": "display_data"
    },
    {
     "data": {
      "text/html": [
       "<pre style=\"white-space:pre;overflow-x:auto;line-height:normal;font-family:Menlo,'DejaVu Sans Mono',consolas,'Courier New',monospace\"><span style=\"color: #008000; text-decoration-color: #008000; font-weight: bold\">[</span><span style=\"color: #008000; text-decoration-color: #008000\">FETCH</span><span style=\"color: #008000; text-decoration-color: #008000; font-weight: bold\">]</span><span style=\"color: #008000; text-decoration-color: #008000\">... ↓ </span><span style=\"color: #008000; text-decoration-color: #008000; text-decoration: underline\">https://kind.krx.co.kr/disclosure/etfisudetail.do?method=searchEtfIsuSummary&amp;strIsurCd=491610</span><span style=\"color: #008000; text-decoration-color: #008000\">        |</span>\n",
       "<span style=\"color: #008000; text-decoration-color: #008000\">✓ | ⏱: </span><span style=\"color: #008000; text-decoration-color: #008000; font-weight: bold\">3.</span><span style=\"color: #008000; text-decoration-color: #008000\">03s </span>\n",
       "</pre>\n"
      ],
      "text/plain": [
       "\u001b[1;32m[\u001b[0m\u001b[32mFETCH\u001b[0m\u001b[1;32m]\u001b[0m\u001b[32m...\u001b[0m\u001b[32m ↓ \u001b[0m\u001b[4;32mhttps://kind.krx.co.kr/disclosure/etfisudetail.do?\u001b[0m\u001b[4;32mmethod\u001b[0m\u001b[4;32m=\u001b[0m\u001b[4;32msearchEtfIsuSummary\u001b[0m\u001b[4;32m&\u001b[0m\u001b[4;32mstrIsurCd\u001b[0m\u001b[4;32m=\u001b[0m\u001b[4;32m491610\u001b[0m\u001b[32m        |\u001b[0m\n",
       "\u001b[32m✓\u001b[0m\u001b[32m | ⏱: \u001b[0m\u001b[1;32m3.\u001b[0m\u001b[32m03s \u001b[0m\n"
      ]
     },
     "metadata": {},
     "output_type": "display_data"
    },
    {
     "data": {
      "text/html": [
       "<pre style=\"white-space:pre;overflow-x:auto;line-height:normal;font-family:Menlo,'DejaVu Sans Mono',consolas,'Courier New',monospace\"><span style=\"color: #008000; text-decoration-color: #008000; font-weight: bold\">[</span><span style=\"color: #008000; text-decoration-color: #008000\">SCRAPE</span><span style=\"color: #008000; text-decoration-color: #008000; font-weight: bold\">]</span><span style=\"color: #008000; text-decoration-color: #008000\">.. ◆ </span><span style=\"color: #008000; text-decoration-color: #008000; text-decoration: underline\">https://kind.krx.co.kr/disclosure/etfisudetail.do?method=searchEtfIsuSummary&amp;strIsurCd=491610</span><span style=\"color: #008000; text-decoration-color: #008000\">        |</span>\n",
       "<span style=\"color: #008000; text-decoration-color: #008000\">✓ | ⏱: </span><span style=\"color: #808000; text-decoration-color: #808000; font-weight: bold\">0.</span><span style=\"color: #808000; text-decoration-color: #808000\">01</span><span style=\"color: #008000; text-decoration-color: #008000\">s </span>\n",
       "</pre>\n"
      ],
      "text/plain": [
       "\u001b[1;32m[\u001b[0m\u001b[32mSCRAPE\u001b[0m\u001b[1;32m]\u001b[0m\u001b[32m.. ◆ \u001b[0m\u001b[4;32mhttps://kind.krx.co.kr/disclosure/etfisudetail.do?\u001b[0m\u001b[4;32mmethod\u001b[0m\u001b[4;32m=\u001b[0m\u001b[4;32msearchEtfIsuSummary\u001b[0m\u001b[4;32m&\u001b[0m\u001b[4;32mstrIsurCd\u001b[0m\u001b[4;32m=\u001b[0m\u001b[4;32m491610\u001b[0m\u001b[32m        |\u001b[0m\n",
       "\u001b[32m✓\u001b[0m\u001b[32m | ⏱: \u001b[0m\u001b[1;33m0.\u001b[0m\u001b[33m01\u001b[0m\u001b[32ms \u001b[0m\n"
      ]
     },
     "metadata": {},
     "output_type": "display_data"
    },
    {
     "data": {
      "text/html": [
       "<pre style=\"white-space:pre;overflow-x:auto;line-height:normal;font-family:Menlo,'DejaVu Sans Mono',consolas,'Courier New',monospace\"><span style=\"color: #008000; text-decoration-color: #008000; font-weight: bold\">[</span><span style=\"color: #008000; text-decoration-color: #008000\">COMPLETE</span><span style=\"color: #008000; text-decoration-color: #008000; font-weight: bold\">]</span><span style=\"color: #008000; text-decoration-color: #008000\"> ● </span><span style=\"color: #008000; text-decoration-color: #008000; text-decoration: underline\">https://kind.krx.co.kr/disclosure/etfisudetail.do?method=searchEtfIsuSummary&amp;strIsurCd=491610</span><span style=\"color: #008000; text-decoration-color: #008000\">        |</span>\n",
       "<span style=\"color: #008000; text-decoration-color: #008000\">✓ | ⏱: </span><span style=\"color: #008000; text-decoration-color: #008000; font-weight: bold\">3.</span><span style=\"color: #008000; text-decoration-color: #008000\">04s </span>\n",
       "</pre>\n"
      ],
      "text/plain": [
       "\u001b[1;32m[\u001b[0m\u001b[32mCOMPLETE\u001b[0m\u001b[1;32m]\u001b[0m\u001b[32m ● \u001b[0m\u001b[4;32mhttps://kind.krx.co.kr/disclosure/etfisudetail.do?\u001b[0m\u001b[4;32mmethod\u001b[0m\u001b[4;32m=\u001b[0m\u001b[4;32msearchEtfIsuSummary\u001b[0m\u001b[4;32m&\u001b[0m\u001b[4;32mstrIsurCd\u001b[0m\u001b[4;32m=\u001b[0m\u001b[4;32m491610\u001b[0m\u001b[32m        |\u001b[0m\n",
       "\u001b[32m✓\u001b[0m\u001b[32m | ⏱: \u001b[0m\u001b[1;32m3.\u001b[0m\u001b[32m04s \u001b[0m\n"
      ]
     },
     "metadata": {},
     "output_type": "display_data"
    },
    {
     "name": "stderr",
     "output_type": "stream",
     "text": [
      "C:\\Users\\kaydash\\AppData\\Local\\Temp\\ipykernel_33596\\3256852361.py:54: FutureWarning: Passing literal html to 'read_html' is deprecated and will be removed in a future version. To read from a literal string, wrap it in a 'StringIO' object.\n",
      "  tables = pd.read_html(result.html)\n"
     ]
    },
    {
     "name": "stdout",
     "output_type": "stream",
     "text": [
      "테이블 개수: 3\n",
      "\n",
      "크롤링 중: 451060 - https://kind.krx.co.kr/disclosure/etfisudetail.do?method=searchEtfIsuSummary&strIsurCd=451060\n"
     ]
    },
    {
     "data": {
      "text/html": [
       "<pre style=\"white-space:pre;overflow-x:auto;line-height:normal;font-family:Menlo,'DejaVu Sans Mono',consolas,'Courier New',monospace\"><span style=\"color: #008080; text-decoration-color: #008080; font-weight: bold\">[</span><span style=\"color: #008080; text-decoration-color: #008080\">INIT</span><span style=\"color: #008080; text-decoration-color: #008080; font-weight: bold\">]</span><span style=\"color: #008080; text-decoration-color: #008080\">.... → Crawl4AI </span><span style=\"color: #008080; text-decoration-color: #008080; font-weight: bold\">0.7</span><span style=\"color: #008080; text-decoration-color: #008080\">.</span><span style=\"color: #008080; text-decoration-color: #008080; font-weight: bold\">4</span><span style=\"color: #008080; text-decoration-color: #008080\"> </span>\n",
       "</pre>\n"
      ],
      "text/plain": [
       "\u001b[1;36m[\u001b[0m\u001b[36mINIT\u001b[0m\u001b[1;36m]\u001b[0m\u001b[36m...\u001b[0m\u001b[36m. → Crawl4AI \u001b[0m\u001b[1;36m0.7\u001b[0m\u001b[36m.\u001b[0m\u001b[1;36m4\u001b[0m\u001b[36m \u001b[0m\n"
      ]
     },
     "metadata": {},
     "output_type": "display_data"
    },
    {
     "data": {
      "text/html": [
       "<pre style=\"white-space:pre;overflow-x:auto;line-height:normal;font-family:Menlo,'DejaVu Sans Mono',consolas,'Courier New',monospace\"><span style=\"color: #008000; text-decoration-color: #008000; font-weight: bold\">[</span><span style=\"color: #008000; text-decoration-color: #008000\">FETCH</span><span style=\"color: #008000; text-decoration-color: #008000; font-weight: bold\">]</span><span style=\"color: #008000; text-decoration-color: #008000\">... ↓ </span><span style=\"color: #008000; text-decoration-color: #008000; text-decoration: underline\">https://kind.krx.co.kr/disclosure/etfisudetail.do?method=searchEtfIsuSummary&amp;strIsurCd=451060</span><span style=\"color: #008000; text-decoration-color: #008000\">        |</span>\n",
       "<span style=\"color: #008000; text-decoration-color: #008000\">✓ | ⏱: </span><span style=\"color: #008000; text-decoration-color: #008000; font-weight: bold\">2.</span><span style=\"color: #008000; text-decoration-color: #008000\">87s </span>\n",
       "</pre>\n"
      ],
      "text/plain": [
       "\u001b[1;32m[\u001b[0m\u001b[32mFETCH\u001b[0m\u001b[1;32m]\u001b[0m\u001b[32m...\u001b[0m\u001b[32m ↓ \u001b[0m\u001b[4;32mhttps://kind.krx.co.kr/disclosure/etfisudetail.do?\u001b[0m\u001b[4;32mmethod\u001b[0m\u001b[4;32m=\u001b[0m\u001b[4;32msearchEtfIsuSummary\u001b[0m\u001b[4;32m&\u001b[0m\u001b[4;32mstrIsurCd\u001b[0m\u001b[4;32m=\u001b[0m\u001b[4;32m451060\u001b[0m\u001b[32m        |\u001b[0m\n",
       "\u001b[32m✓\u001b[0m\u001b[32m | ⏱: \u001b[0m\u001b[1;32m2.\u001b[0m\u001b[32m87s \u001b[0m\n"
      ]
     },
     "metadata": {},
     "output_type": "display_data"
    },
    {
     "data": {
      "text/html": [
       "<pre style=\"white-space:pre;overflow-x:auto;line-height:normal;font-family:Menlo,'DejaVu Sans Mono',consolas,'Courier New',monospace\"><span style=\"color: #008000; text-decoration-color: #008000; font-weight: bold\">[</span><span style=\"color: #008000; text-decoration-color: #008000\">SCRAPE</span><span style=\"color: #008000; text-decoration-color: #008000; font-weight: bold\">]</span><span style=\"color: #008000; text-decoration-color: #008000\">.. ◆ </span><span style=\"color: #008000; text-decoration-color: #008000; text-decoration: underline\">https://kind.krx.co.kr/disclosure/etfisudetail.do?method=searchEtfIsuSummary&amp;strIsurCd=451060</span><span style=\"color: #008000; text-decoration-color: #008000\">        |</span>\n",
       "<span style=\"color: #008000; text-decoration-color: #008000\">✓ | ⏱: </span><span style=\"color: #008000; text-decoration-color: #008000; font-weight: bold\">0.</span><span style=\"color: #008000; text-decoration-color: #008000\">01s </span>\n",
       "</pre>\n"
      ],
      "text/plain": [
       "\u001b[1;32m[\u001b[0m\u001b[32mSCRAPE\u001b[0m\u001b[1;32m]\u001b[0m\u001b[32m.. ◆ \u001b[0m\u001b[4;32mhttps://kind.krx.co.kr/disclosure/etfisudetail.do?\u001b[0m\u001b[4;32mmethod\u001b[0m\u001b[4;32m=\u001b[0m\u001b[4;32msearchEtfIsuSummary\u001b[0m\u001b[4;32m&\u001b[0m\u001b[4;32mstrIsurCd\u001b[0m\u001b[4;32m=\u001b[0m\u001b[4;32m451060\u001b[0m\u001b[32m        |\u001b[0m\n",
       "\u001b[32m✓\u001b[0m\u001b[32m | ⏱: \u001b[0m\u001b[1;32m0.\u001b[0m\u001b[32m01s \u001b[0m\n"
      ]
     },
     "metadata": {},
     "output_type": "display_data"
    },
    {
     "data": {
      "text/html": [
       "<pre style=\"white-space:pre;overflow-x:auto;line-height:normal;font-family:Menlo,'DejaVu Sans Mono',consolas,'Courier New',monospace\"><span style=\"color: #008000; text-decoration-color: #008000; font-weight: bold\">[</span><span style=\"color: #008000; text-decoration-color: #008000\">COMPLETE</span><span style=\"color: #008000; text-decoration-color: #008000; font-weight: bold\">]</span><span style=\"color: #008000; text-decoration-color: #008000\"> ● </span><span style=\"color: #008000; text-decoration-color: #008000; text-decoration: underline\">https://kind.krx.co.kr/disclosure/etfisudetail.do?method=searchEtfIsuSummary&amp;strIsurCd=451060</span><span style=\"color: #008000; text-decoration-color: #008000\">        |</span>\n",
       "<span style=\"color: #008000; text-decoration-color: #008000\">✓ | ⏱: </span><span style=\"color: #008000; text-decoration-color: #008000; font-weight: bold\">2.</span><span style=\"color: #008000; text-decoration-color: #008000\">88s </span>\n",
       "</pre>\n"
      ],
      "text/plain": [
       "\u001b[1;32m[\u001b[0m\u001b[32mCOMPLETE\u001b[0m\u001b[1;32m]\u001b[0m\u001b[32m ● \u001b[0m\u001b[4;32mhttps://kind.krx.co.kr/disclosure/etfisudetail.do?\u001b[0m\u001b[4;32mmethod\u001b[0m\u001b[4;32m=\u001b[0m\u001b[4;32msearchEtfIsuSummary\u001b[0m\u001b[4;32m&\u001b[0m\u001b[4;32mstrIsurCd\u001b[0m\u001b[4;32m=\u001b[0m\u001b[4;32m451060\u001b[0m\u001b[32m        |\u001b[0m\n",
       "\u001b[32m✓\u001b[0m\u001b[32m | ⏱: \u001b[0m\u001b[1;32m2.\u001b[0m\u001b[32m88s \u001b[0m\n"
      ]
     },
     "metadata": {},
     "output_type": "display_data"
    },
    {
     "name": "stderr",
     "output_type": "stream",
     "text": [
      "C:\\Users\\kaydash\\AppData\\Local\\Temp\\ipykernel_33596\\3256852361.py:54: FutureWarning: Passing literal html to 'read_html' is deprecated and will be removed in a future version. To read from a literal string, wrap it in a 'StringIO' object.\n",
      "  tables = pd.read_html(result.html)\n"
     ]
    },
    {
     "name": "stdout",
     "output_type": "stream",
     "text": [
      "테이블 파싱 오류 (451060): Missing optional dependency 'html5lib'.  Use pip or conda to install html5lib.\n",
      "\n",
      "크롤링 중: 463290 - https://kind.krx.co.kr/disclosure/etfisudetail.do?method=searchEtfIsuSummary&strIsurCd=463290\n"
     ]
    },
    {
     "data": {
      "text/html": [
       "<pre style=\"white-space:pre;overflow-x:auto;line-height:normal;font-family:Menlo,'DejaVu Sans Mono',consolas,'Courier New',monospace\"><span style=\"color: #008080; text-decoration-color: #008080; font-weight: bold\">[</span><span style=\"color: #008080; text-decoration-color: #008080\">INIT</span><span style=\"color: #008080; text-decoration-color: #008080; font-weight: bold\">]</span><span style=\"color: #008080; text-decoration-color: #008080\">.... → Crawl4AI </span><span style=\"color: #008080; text-decoration-color: #008080; font-weight: bold\">0.7</span><span style=\"color: #008080; text-decoration-color: #008080\">.</span><span style=\"color: #008080; text-decoration-color: #008080; font-weight: bold\">4</span><span style=\"color: #008080; text-decoration-color: #008080\"> </span>\n",
       "</pre>\n"
      ],
      "text/plain": [
       "\u001b[1;36m[\u001b[0m\u001b[36mINIT\u001b[0m\u001b[1;36m]\u001b[0m\u001b[36m...\u001b[0m\u001b[36m. → Crawl4AI \u001b[0m\u001b[1;36m0.7\u001b[0m\u001b[36m.\u001b[0m\u001b[1;36m4\u001b[0m\u001b[36m \u001b[0m\n"
      ]
     },
     "metadata": {},
     "output_type": "display_data"
    },
    {
     "data": {
      "text/html": [
       "<pre style=\"white-space:pre;overflow-x:auto;line-height:normal;font-family:Menlo,'DejaVu Sans Mono',consolas,'Courier New',monospace\"><span style=\"color: #008000; text-decoration-color: #008000; font-weight: bold\">[</span><span style=\"color: #008000; text-decoration-color: #008000\">FETCH</span><span style=\"color: #008000; text-decoration-color: #008000; font-weight: bold\">]</span><span style=\"color: #008000; text-decoration-color: #008000\">... ↓ </span><span style=\"color: #008000; text-decoration-color: #008000; text-decoration: underline\">https://kind.krx.co.kr/disclosure/etfisudetail.do?method=searchEtfIsuSummary&amp;strIsurCd=463290</span><span style=\"color: #008000; text-decoration-color: #008000\">        |</span>\n",
       "<span style=\"color: #008000; text-decoration-color: #008000\">✓ | ⏱: </span><span style=\"color: #008000; text-decoration-color: #008000; font-weight: bold\">2.</span><span style=\"color: #008000; text-decoration-color: #008000\">77s </span>\n",
       "</pre>\n"
      ],
      "text/plain": [
       "\u001b[1;32m[\u001b[0m\u001b[32mFETCH\u001b[0m\u001b[1;32m]\u001b[0m\u001b[32m...\u001b[0m\u001b[32m ↓ \u001b[0m\u001b[4;32mhttps://kind.krx.co.kr/disclosure/etfisudetail.do?\u001b[0m\u001b[4;32mmethod\u001b[0m\u001b[4;32m=\u001b[0m\u001b[4;32msearchEtfIsuSummary\u001b[0m\u001b[4;32m&\u001b[0m\u001b[4;32mstrIsurCd\u001b[0m\u001b[4;32m=\u001b[0m\u001b[4;32m463290\u001b[0m\u001b[32m        |\u001b[0m\n",
       "\u001b[32m✓\u001b[0m\u001b[32m | ⏱: \u001b[0m\u001b[1;32m2.\u001b[0m\u001b[32m77s \u001b[0m\n"
      ]
     },
     "metadata": {},
     "output_type": "display_data"
    },
    {
     "data": {
      "text/html": [
       "<pre style=\"white-space:pre;overflow-x:auto;line-height:normal;font-family:Menlo,'DejaVu Sans Mono',consolas,'Courier New',monospace\"><span style=\"color: #008000; text-decoration-color: #008000; font-weight: bold\">[</span><span style=\"color: #008000; text-decoration-color: #008000\">SCRAPE</span><span style=\"color: #008000; text-decoration-color: #008000; font-weight: bold\">]</span><span style=\"color: #008000; text-decoration-color: #008000\">.. ◆ </span><span style=\"color: #008000; text-decoration-color: #008000; text-decoration: underline\">https://kind.krx.co.kr/disclosure/etfisudetail.do?method=searchEtfIsuSummary&amp;strIsurCd=463290</span><span style=\"color: #008000; text-decoration-color: #008000\">        |</span>\n",
       "<span style=\"color: #008000; text-decoration-color: #008000\">✓ | ⏱: </span><span style=\"color: #008000; text-decoration-color: #008000; font-weight: bold\">0.</span><span style=\"color: #008000; text-decoration-color: #008000\">01s </span>\n",
       "</pre>\n"
      ],
      "text/plain": [
       "\u001b[1;32m[\u001b[0m\u001b[32mSCRAPE\u001b[0m\u001b[1;32m]\u001b[0m\u001b[32m.. ◆ \u001b[0m\u001b[4;32mhttps://kind.krx.co.kr/disclosure/etfisudetail.do?\u001b[0m\u001b[4;32mmethod\u001b[0m\u001b[4;32m=\u001b[0m\u001b[4;32msearchEtfIsuSummary\u001b[0m\u001b[4;32m&\u001b[0m\u001b[4;32mstrIsurCd\u001b[0m\u001b[4;32m=\u001b[0m\u001b[4;32m463290\u001b[0m\u001b[32m        |\u001b[0m\n",
       "\u001b[32m✓\u001b[0m\u001b[32m | ⏱: \u001b[0m\u001b[1;32m0.\u001b[0m\u001b[32m01s \u001b[0m\n"
      ]
     },
     "metadata": {},
     "output_type": "display_data"
    },
    {
     "data": {
      "text/html": [
       "<pre style=\"white-space:pre;overflow-x:auto;line-height:normal;font-family:Menlo,'DejaVu Sans Mono',consolas,'Courier New',monospace\"><span style=\"color: #008000; text-decoration-color: #008000; font-weight: bold\">[</span><span style=\"color: #008000; text-decoration-color: #008000\">COMPLETE</span><span style=\"color: #008000; text-decoration-color: #008000; font-weight: bold\">]</span><span style=\"color: #008000; text-decoration-color: #008000\"> ● </span><span style=\"color: #008000; text-decoration-color: #008000; text-decoration: underline\">https://kind.krx.co.kr/disclosure/etfisudetail.do?method=searchEtfIsuSummary&amp;strIsurCd=463290</span><span style=\"color: #008000; text-decoration-color: #008000\">        |</span>\n",
       "<span style=\"color: #008000; text-decoration-color: #008000\">✓ | ⏱: </span><span style=\"color: #008000; text-decoration-color: #008000; font-weight: bold\">2.</span><span style=\"color: #008000; text-decoration-color: #008000\">78s </span>\n",
       "</pre>\n"
      ],
      "text/plain": [
       "\u001b[1;32m[\u001b[0m\u001b[32mCOMPLETE\u001b[0m\u001b[1;32m]\u001b[0m\u001b[32m ● \u001b[0m\u001b[4;32mhttps://kind.krx.co.kr/disclosure/etfisudetail.do?\u001b[0m\u001b[4;32mmethod\u001b[0m\u001b[4;32m=\u001b[0m\u001b[4;32msearchEtfIsuSummary\u001b[0m\u001b[4;32m&\u001b[0m\u001b[4;32mstrIsurCd\u001b[0m\u001b[4;32m=\u001b[0m\u001b[4;32m463290\u001b[0m\u001b[32m        |\u001b[0m\n",
       "\u001b[32m✓\u001b[0m\u001b[32m | ⏱: \u001b[0m\u001b[1;32m2.\u001b[0m\u001b[32m78s \u001b[0m\n"
      ]
     },
     "metadata": {},
     "output_type": "display_data"
    },
    {
     "name": "stdout",
     "output_type": "stream",
     "text": [
      "테이블 개수: 3\n",
      "\n",
      "크롤링 중: 479080 - https://kind.krx.co.kr/disclosure/etfisudetail.do?method=searchEtfIsuSummary&strIsurCd=479080\n"
     ]
    },
    {
     "data": {
      "text/html": [
       "<pre style=\"white-space:pre;overflow-x:auto;line-height:normal;font-family:Menlo,'DejaVu Sans Mono',consolas,'Courier New',monospace\"><span style=\"color: #008080; text-decoration-color: #008080; font-weight: bold\">[</span><span style=\"color: #008080; text-decoration-color: #008080\">INIT</span><span style=\"color: #008080; text-decoration-color: #008080; font-weight: bold\">]</span><span style=\"color: #008080; text-decoration-color: #008080\">.... → Crawl4AI </span><span style=\"color: #008080; text-decoration-color: #008080; font-weight: bold\">0.7</span><span style=\"color: #008080; text-decoration-color: #008080\">.</span><span style=\"color: #008080; text-decoration-color: #008080; font-weight: bold\">4</span><span style=\"color: #008080; text-decoration-color: #008080\"> </span>\n",
       "</pre>\n"
      ],
      "text/plain": [
       "\u001b[1;36m[\u001b[0m\u001b[36mINIT\u001b[0m\u001b[1;36m]\u001b[0m\u001b[36m...\u001b[0m\u001b[36m. → Crawl4AI \u001b[0m\u001b[1;36m0.7\u001b[0m\u001b[36m.\u001b[0m\u001b[1;36m4\u001b[0m\u001b[36m \u001b[0m\n"
      ]
     },
     "metadata": {},
     "output_type": "display_data"
    },
    {
     "data": {
      "text/html": [
       "<pre style=\"white-space:pre;overflow-x:auto;line-height:normal;font-family:Menlo,'DejaVu Sans Mono',consolas,'Courier New',monospace\"><span style=\"color: #008000; text-decoration-color: #008000; font-weight: bold\">[</span><span style=\"color: #008000; text-decoration-color: #008000\">FETCH</span><span style=\"color: #008000; text-decoration-color: #008000; font-weight: bold\">]</span><span style=\"color: #008000; text-decoration-color: #008000\">... ↓ </span><span style=\"color: #008000; text-decoration-color: #008000; text-decoration: underline\">https://kind.krx.co.kr/disclosure/etfisudetail.do?method=searchEtfIsuSummary&amp;strIsurCd=479080</span><span style=\"color: #008000; text-decoration-color: #008000\">        |</span>\n",
       "<span style=\"color: #008000; text-decoration-color: #008000\">✓ | ⏱: </span><span style=\"color: #008000; text-decoration-color: #008000; font-weight: bold\">2.</span><span style=\"color: #008000; text-decoration-color: #008000\">75s </span>\n",
       "</pre>\n"
      ],
      "text/plain": [
       "\u001b[1;32m[\u001b[0m\u001b[32mFETCH\u001b[0m\u001b[1;32m]\u001b[0m\u001b[32m...\u001b[0m\u001b[32m ↓ \u001b[0m\u001b[4;32mhttps://kind.krx.co.kr/disclosure/etfisudetail.do?\u001b[0m\u001b[4;32mmethod\u001b[0m\u001b[4;32m=\u001b[0m\u001b[4;32msearchEtfIsuSummary\u001b[0m\u001b[4;32m&\u001b[0m\u001b[4;32mstrIsurCd\u001b[0m\u001b[4;32m=\u001b[0m\u001b[4;32m479080\u001b[0m\u001b[32m        |\u001b[0m\n",
       "\u001b[32m✓\u001b[0m\u001b[32m | ⏱: \u001b[0m\u001b[1;32m2.\u001b[0m\u001b[32m75s \u001b[0m\n"
      ]
     },
     "metadata": {},
     "output_type": "display_data"
    },
    {
     "data": {
      "text/html": [
       "<pre style=\"white-space:pre;overflow-x:auto;line-height:normal;font-family:Menlo,'DejaVu Sans Mono',consolas,'Courier New',monospace\"><span style=\"color: #008000; text-decoration-color: #008000; font-weight: bold\">[</span><span style=\"color: #008000; text-decoration-color: #008000\">SCRAPE</span><span style=\"color: #008000; text-decoration-color: #008000; font-weight: bold\">]</span><span style=\"color: #008000; text-decoration-color: #008000\">.. ◆ </span><span style=\"color: #008000; text-decoration-color: #008000; text-decoration: underline\">https://kind.krx.co.kr/disclosure/etfisudetail.do?method=searchEtfIsuSummary&amp;strIsurCd=479080</span><span style=\"color: #008000; text-decoration-color: #008000\">        |</span>\n",
       "<span style=\"color: #008000; text-decoration-color: #008000\">✓ | ⏱: </span><span style=\"color: #008000; text-decoration-color: #008000; font-weight: bold\">0.</span><span style=\"color: #008000; text-decoration-color: #008000\">01s </span>\n",
       "</pre>\n"
      ],
      "text/plain": [
       "\u001b[1;32m[\u001b[0m\u001b[32mSCRAPE\u001b[0m\u001b[1;32m]\u001b[0m\u001b[32m.. ◆ \u001b[0m\u001b[4;32mhttps://kind.krx.co.kr/disclosure/etfisudetail.do?\u001b[0m\u001b[4;32mmethod\u001b[0m\u001b[4;32m=\u001b[0m\u001b[4;32msearchEtfIsuSummary\u001b[0m\u001b[4;32m&\u001b[0m\u001b[4;32mstrIsurCd\u001b[0m\u001b[4;32m=\u001b[0m\u001b[4;32m479080\u001b[0m\u001b[32m        |\u001b[0m\n",
       "\u001b[32m✓\u001b[0m\u001b[32m | ⏱: \u001b[0m\u001b[1;32m0.\u001b[0m\u001b[32m01s \u001b[0m\n"
      ]
     },
     "metadata": {},
     "output_type": "display_data"
    },
    {
     "data": {
      "text/html": [
       "<pre style=\"white-space:pre;overflow-x:auto;line-height:normal;font-family:Menlo,'DejaVu Sans Mono',consolas,'Courier New',monospace\"><span style=\"color: #008000; text-decoration-color: #008000; font-weight: bold\">[</span><span style=\"color: #008000; text-decoration-color: #008000\">COMPLETE</span><span style=\"color: #008000; text-decoration-color: #008000; font-weight: bold\">]</span><span style=\"color: #008000; text-decoration-color: #008000\"> ● </span><span style=\"color: #008000; text-decoration-color: #008000; text-decoration: underline\">https://kind.krx.co.kr/disclosure/etfisudetail.do?method=searchEtfIsuSummary&amp;strIsurCd=479080</span><span style=\"color: #008000; text-decoration-color: #008000\">        |</span>\n",
       "<span style=\"color: #008000; text-decoration-color: #008000\">✓ | ⏱: </span><span style=\"color: #008000; text-decoration-color: #008000; font-weight: bold\">2.</span><span style=\"color: #008000; text-decoration-color: #008000\">76s </span>\n",
       "</pre>\n"
      ],
      "text/plain": [
       "\u001b[1;32m[\u001b[0m\u001b[32mCOMPLETE\u001b[0m\u001b[1;32m]\u001b[0m\u001b[32m ● \u001b[0m\u001b[4;32mhttps://kind.krx.co.kr/disclosure/etfisudetail.do?\u001b[0m\u001b[4;32mmethod\u001b[0m\u001b[4;32m=\u001b[0m\u001b[4;32msearchEtfIsuSummary\u001b[0m\u001b[4;32m&\u001b[0m\u001b[4;32mstrIsurCd\u001b[0m\u001b[4;32m=\u001b[0m\u001b[4;32m479080\u001b[0m\u001b[32m        |\u001b[0m\n",
       "\u001b[32m✓\u001b[0m\u001b[32m | ⏱: \u001b[0m\u001b[1;32m2.\u001b[0m\u001b[32m76s \u001b[0m\n"
      ]
     },
     "metadata": {},
     "output_type": "display_data"
    },
    {
     "name": "stderr",
     "output_type": "stream",
     "text": [
      "C:\\Users\\kaydash\\AppData\\Local\\Temp\\ipykernel_33596\\3256852361.py:54: FutureWarning: Passing literal html to 'read_html' is deprecated and will be removed in a future version. To read from a literal string, wrap it in a 'StringIO' object.\n",
      "  tables = pd.read_html(result.html)\n"
     ]
    },
    {
     "name": "stdout",
     "output_type": "stream",
     "text": [
      "테이블 파싱 오류 (479080): Missing optional dependency 'html5lib'.  Use pip or conda to install html5lib.\n",
      "\n",
      "수집된 ETF 개수: 3\n",
      "\n",
      "첫 번째 ETF 정보:\n",
      "{'종목코드': '466400', '한글명': 'nan', '영문명': None, '상장일': 'nan', '펀드형태': None, '기초지수명': 'nan', '추적배수': None, '자산운용사': 'nan', '지정참가회사(AP)': None, '총보수(%)': 'nan', '회계기간': None, '과세유형': 'nan', '분배금 지급일': None, '홈페이지': 'nan', '기초 시장': '-', '기초 자산': None, '기본 정보': 'nan', '투자유의사항': 'nan'}\n",
      "\n",
      "수집된 데이터:\n",
      "     종목코드  한글명   영문명  상장일  펀드형태 기초지수명  추적배수 자산운용사 지정참가회사(AP) 총보수(%)  회계기간  \\\n",
      "0  466400  nan  None  nan  None   nan  None   nan       None    nan  None   \n",
      "1  491610  nan  None  nan  None   nan  None   nan       None    nan  None   \n",
      "2  463290  nan  None  nan  None   nan  None   nan       None    nan  None   \n",
      "\n",
      "  과세유형 분배금 지급일 홈페이지 기초 시장 기초 자산 기본 정보 투자유의사항  \n",
      "0  nan    None  nan     -  None   nan    nan  \n",
      "1  nan    None  nan     -  None   nan    nan  \n",
      "2  nan    None  nan     -  None   nan    nan  \n",
      "\n",
      "✅ CSV 저장 완료: data/etf_details.csv\n"
     ]
    }
   ],
   "source": [
    "# ================================================================================\n",
    "# [실습] ETF 상세정보 수집 - 완성 코드\n",
    "# ================================================================================\n",
    "\n",
    "import pandas as pd\n",
    "import asyncio\n",
    "from crawl4ai import AsyncWebCrawler, BrowserConfig, CrawlerRunConfig, CacheMode\n",
    "\n",
    "# 1. ETF 종목코드 5개 선택 (etf_list에서 샘플링)\n",
    "sample_etf_codes = etf_list['종목코드'].head(5).tolist()\n",
    "print(f\"수집 대상 ETF 종목코드: {sample_etf_codes}\")\n",
    "\n",
    "# 2. ETF 상세정보 추출 함수\n",
    "async def extract_etf_detail(etf_code):\n",
    "    \"\"\"\n",
    "    ETF 상세 페이지에서 정보를 추출하는 함수\n",
    "    \n",
    "    Args:\n",
    "        etf_code: 5자리 ETF 종목코드 (예: 466400)\n",
    "    \n",
    "    Returns:\n",
    "        dict: 추출된 ETF 상세정보\n",
    "    \"\"\"\n",
    "    # 종목코드를 5자리 문자열로 변환 (앞자리가 0인 경우 대비)\n",
    "    str_isur_cd = str(etf_code).zfill(5)\n",
    "    etf_url = f\"https://kind.krx.co.kr/disclosure/etfisudetail.do?method=searchEtfIsuSummary&strIsurCd={str_isur_cd}\"\n",
    "\n",
    "    print(f\"\\n크롤링 중: {etf_code} - {etf_url}\")\n",
    "\n",
    "    # 크롤링 설정\n",
    "    browser_config = BrowserConfig(\n",
    "        browser_type=\"chromium\",\n",
    "        headless=True,\n",
    "        text_mode=False,  # 테이블 추출을 위해 False\n",
    "        viewport_width=1080,\n",
    "        viewport_height=600\n",
    "    )\n",
    "\n",
    "    run_config = CrawlerRunConfig(\n",
    "        cache_mode=CacheMode.BYPASS,  # 항상 최신 데이터\n",
    "        word_count_threshold=10\n",
    "    )\n",
    "\n",
    "    # 크롤링 실행\n",
    "    async with AsyncWebCrawler(config=browser_config) as crawler:\n",
    "        result = await crawler.arun(url=etf_url, config=run_config)\n",
    "\n",
    "    if not result.success:\n",
    "        print(f\"크롤링 실패: {etf_code}\")\n",
    "        return None\n",
    "\n",
    "    # pandas.read_html()로 테이블 추출\n",
    "    try:\n",
    "        tables = pd.read_html(result.html)\n",
    "        print(f\"테이블 개수: {len(tables)}\")\n",
    "\n",
    "        # 추출된 데이터를 저장할 딕셔너리\n",
    "        etf_info = {\n",
    "            '종목코드': etf_code,\n",
    "            '한글명': None,\n",
    "            '영문명': None,\n",
    "            '상장일': None,\n",
    "            '펀드형태': None,\n",
    "            '기초지수명': None,\n",
    "            '추적배수': None,\n",
    "            '자산운용사': None,\n",
    "            '지정참가회사(AP)': None,\n",
    "            '총보수(%)': None,\n",
    "            '회계기간': None,\n",
    "            '과세유형': None,\n",
    "            '분배금 지급일': None,\n",
    "            '홈페이지': None,\n",
    "            '기초 시장': None,\n",
    "            '기초 자산': None,\n",
    "            '기본 정보': None,\n",
    "            '투자유의사항': None\n",
    "        }\n",
    "\n",
    "        # 테이블에서 필드 매핑 (테이블 구조에 따라 조정 필요)\n",
    "        # 일반적으로 첫 번째 또는 두 번째 테이블에 기본 정보가 있음\n",
    "        for table in tables:\n",
    "            # 테이블이 2열 형식 (항목명, 값)인 경우\n",
    "            if table.shape[1] >= 2:\n",
    "                for idx, row in table.iterrows():\n",
    "                    key = str(row[0]).strip()\n",
    "                    value = str(row[1]).strip()\n",
    "\n",
    "                    # 필드 매핑\n",
    "                    if '한글명' in key or '종목명' in key:\n",
    "                        etf_info['한글명'] = value\n",
    "                    elif '영문명' in key:\n",
    "                        etf_info['영문명'] = value\n",
    "                    elif '상장일' in key:\n",
    "                        etf_info['상장일'] = value\n",
    "                    elif '펀드형태' in key or '형태' in key:\n",
    "                        etf_info['펀드형태'] = value\n",
    "                    elif '기초지수' in key:\n",
    "                        etf_info['기초지수명'] = value\n",
    "                    elif '추적배수' in key or '레버리지' in key:\n",
    "                        etf_info['추적배수'] = value\n",
    "                    elif '자산운용사' in key or '운용사' in key:\n",
    "                        etf_info['자산운용사'] = value\n",
    "                    elif '지정참가회사' in key or 'AP' in key:\n",
    "                        etf_info['지정참가회사(AP)'] = value\n",
    "                    elif '총보수' in key:\n",
    "                        etf_info['총보수(%)'] = value\n",
    "                    elif '회계기간' in key:\n",
    "                        etf_info['회계기간'] = value\n",
    "                    elif '과세유형' in key:\n",
    "                        etf_info['과세유형'] = value\n",
    "                    elif '분배금' in key:\n",
    "                        etf_info['분배금 지급일'] = value\n",
    "                    elif '홈페이지' in key:\n",
    "                        etf_info['홈페이지'] = value\n",
    "                    elif '기초 시장' in key or '시장' in key:\n",
    "                        etf_info['기초 시장'] = value\n",
    "                    elif '기초 자산' in key or '자산' in key:\n",
    "                        etf_info['기초 자산'] = value\n",
    "                    elif '기본 정보' in key:\n",
    "                        etf_info['기본 정보'] = value\n",
    "                    elif '투자유의사항' in key or '유의사항' in key:\n",
    "                        etf_info['투자유의사항'] = value\n",
    "\n",
    "        return etf_info\n",
    "\n",
    "    except Exception as e:\n",
    "        print(f\"테이블 파싱 오류 ({etf_code}): {e}\")\n",
    "        return None\n",
    "\n",
    "\n",
    "# 3. 5개 ETF에 대해 순차 크롤링 (Windows 환경)\n",
    "async def collect_all_etfs(etf_codes):\n",
    "    \"\"\"여러 ETF 정보를 순차적으로 수집\"\"\"\n",
    "    results = []\n",
    "\n",
    "    for code in etf_codes:\n",
    "        etf_data = await extract_etf_detail(code)\n",
    "        if etf_data:\n",
    "            results.append(etf_data)\n",
    "        # 서버 부하 방지를 위한 딜레이\n",
    "        await asyncio.sleep(1)\n",
    "\n",
    "    return results\n",
    "\n",
    "\n",
    "# 4. 크롤링 실행 (Windows - loop.run_until_complete 사용)\n",
    "etf_details = loop.run_until_complete(collect_all_etfs(sample_etf_codes))\n",
    "\n",
    "# 5. 결과 확인\n",
    "print(f\"\\n수집된 ETF 개수: {len(etf_details)}\")\n",
    "if etf_details:\n",
    "    print(\"\\n첫 번째 ETF 정보:\")\n",
    "    print(etf_details[0])\n",
    "\n",
    "# 6. DataFrame으로 변환\n",
    "df_etf_details = pd.DataFrame(etf_details)\n",
    "print(\"\\n수집된 데이터:\")\n",
    "print(df_etf_details)\n",
    "\n",
    "# 7. CSV 파일로 저장\n",
    "output_path = 'data/etf_details.csv'\n",
    "df_etf_details.to_csv(output_path, index=False, encoding='utf-8-sig')\n",
    "print(f\"\\n✅ CSV 저장 완료: {output_path}\")\n"
   ]
  }
 ],
 "metadata": {
  "kernelspec": {
   "display_name": "modu2",
   "language": "python",
   "name": "python3"
  },
  "language_info": {
   "codemirror_mode": {
    "name": "ipython",
    "version": 3
   },
   "file_extension": ".py",
   "mimetype": "text/x-python",
   "name": "python",
   "nbconvert_exporter": "python",
   "pygments_lexer": "ipython3",
   "version": "3.12.11"
  }
 },
 "nbformat": 4,
 "nbformat_minor": 2
}
