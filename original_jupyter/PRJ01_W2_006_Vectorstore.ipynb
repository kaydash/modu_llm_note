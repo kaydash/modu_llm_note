{
  "cells": [
    {
      "cell_type": "markdown",
      "id": "8f8cc61b",
      "metadata": {},
      "source": [
        "#  LangChain의 RAG 콤포넌트 \n",
        "- 벡터 저장소(Vector Store) \n",
        "\n",
        "### **학습 목표:**  임베딩 모델과 벡터 데이터베이스를 효과적으로 연동할 수 있다\n",
        "\n",
        "### **실습 자료**: 해당 없음\n",
        "\n",
        "---"
      ]
    },
    {
      "cell_type": "markdown",
      "id": "34bacc4a",
      "metadata": {},
      "source": [
        "# 환경 설정 및 준비"
      ]
    },
    {
      "cell_type": "markdown",
      "id": "6b8776e0",
      "metadata": {},
      "source": [
        "`(1) Env 환경변수`"
      ]
    },
    {
      "cell_type": "code",
      "execution_count": 1,
      "id": "0bf192c1",
      "metadata": {},
      "outputs": [
        {
          "data": {
            "text/plain": [
              "True"
            ]
          },
          "execution_count": 1,
          "metadata": {},
          "output_type": "execute_result"
        }
      ],
      "source": [
        "from dotenv import load_dotenv\n",
        "load_dotenv()"
      ]
    },
    {
      "cell_type": "markdown",
      "id": "03ffe991",
      "metadata": {},
      "source": [
        "`(2) 기본 라이브러리`"
      ]
    },
    {
      "cell_type": "code",
      "execution_count": 2,
      "id": "368e1eb1",
      "metadata": {},
      "outputs": [],
      "source": [
        "import os\n",
        "from glob import glob\n",
        "\n",
        "from pprint import pprint\n",
        "import json"
      ]
    },
    {
      "cell_type": "markdown",
      "id": "3873707b",
      "metadata": {},
      "source": [
        "# 벡터 저장소 (Vector Store)\n",
        "\n",
        "- 개념:\n",
        "    - 벡터화된 데이터를 효율적으로 저장하고 검색하기 위한 특수 데이터베이스 시스템\n",
        "    - 텍스트나 이미지 등의 비정형 데이터를 고차원 벡터 공간에 매핑하여 저장\n",
        "    - 유사도 기반 검색을 통해 의미적으로 가까운 데이터를 빠르게 검색 가능 \n",
        "\n",
        "- LangChain의 벡터 저장소 종류:\n",
        "    - **Chroma**: 경량화된 임베딩 데이터베이스로 로컬 개발에 적합\n",
        "    - **FAISS**: Facebook AI가 개발한 고성능 유사도 검색 라이브러리\n",
        "    - **Pinecone**: 완전 관리형 벡터 데이터베이스 서비스\n",
        "    - Milvus: 분산 벡터 데이터베이스로 대규모 데이터 처리에 적합\n",
        "    - PostgreSQL: pgvector 확장을 통해 벡터 저장 및 검색 기능을 제공\n",
        "\n",
        "- 주요 기능:\n",
        "    - 벡터 색인화: 효율적인 검색을 위한 데이터 구조화를 수행\n",
        "    - 근접 이웃 검색: 주어진 쿼리와 가장 유사한 벡터들을 검색 \n",
        "    - 메타데이터 관리: 벡터와 관련된 부가 정보를 함께 저장하고 검색\n",
        "\n",
        "- 사용 사례:\n",
        "    - 시맨틱 문서 검색: 문서의 의미를 이해하여 검색\n",
        "    - 추천 시스템: 유사한 아이템을 추천\n",
        "    - 중복 데이터 감지: 유사한 콘텐츠를 검색 \n",
        "    - 질의응답 시스템: 관련 문서에서 답변을 생성하는데 필요한 근거를 검색 "
      ]
    },
    {
      "cell_type": "markdown",
      "id": "90a4cc54",
      "metadata": {},
      "source": [
        "### 1. **Chroma**\n",
        "\n",
        "- 사용자 편의성이 우수한 오픈소스 벡터 저장소\n",
        "- `langchain-chroma` 패키지 설치"
      ]
    },
    {
      "cell_type": "markdown",
      "id": "28eee632",
      "metadata": {},
      "source": [
        "`(1) 벡터 저장소 초기화`"
      ]
    },
    {
      "cell_type": "code",
      "execution_count": 3,
      "id": "ef5c3344",
      "metadata": {},
      "outputs": [],
      "source": [
        "# 벡터 저장소에 문서를 저장할 때 적용할 임베딩 모델\n",
        "from langchain_huggingface.embeddings import HuggingFaceEmbeddings\n",
        "embeddings_model = HuggingFaceEmbeddings(model_name=\"BAAI/bge-m3\")"
      ]
    },
    {
      "cell_type": "code",
      "execution_count": 4,
      "id": "1937577a",
      "metadata": {},
      "outputs": [],
      "source": [
        "# 벡터 저장소 생성\n",
        "from langchain_chroma import Chroma\n",
        "\n",
        "chroma_db = Chroma(\n",
        "    collection_name=\"ai_smaple_collection\",\n",
        "    embedding_function=embeddings_model,\n",
        "    persist_directory=\"./chroma_db\",\n",
        ")"
      ]
    },
    {
      "cell_type": "code",
      "execution_count": 5,
      "id": "0c20099d",
      "metadata": {},
      "outputs": [
        {
          "data": {
            "text/plain": [
              "{'ids': [],\n",
              " 'embeddings': None,\n",
              " 'documents': [],\n",
              " 'uris': None,\n",
              " 'included': ['metadatas', 'documents'],\n",
              " 'data': None,\n",
              " 'metadatas': []}"
            ]
          },
          "execution_count": 5,
          "metadata": {},
          "output_type": "execute_result"
        }
      ],
      "source": [
        "# 현재 저장된 컬렉션 데이터 확인\n",
        "chroma_db.get()"
      ]
    },
    {
      "cell_type": "markdown",
      "id": "56c362a0",
      "metadata": {},
      "source": [
        "`(2) 벡터 저장소 관리`  "
      ]
    },
    {
      "cell_type": "markdown",
      "id": "5b8c8fe3",
      "metadata": {},
      "source": [
        "- 문서 추가: `vector_store.add_documents(documents, ids)`"
      ]
    },
    {
      "cell_type": "code",
      "execution_count": 6,
      "id": "2c4567fc",
      "metadata": {},
      "outputs": [
        {
          "name": "stdout",
          "output_type": "stream",
          "text": [
            "5개의 문서가 성공적으로 벡터 저장소에 추가되었습니다.\n",
            "['DOC_1', 'DOC_2', 'DOC_3', 'DOC_4', 'DOC_5']\n"
          ]
        }
      ],
      "source": [
        "from langchain_core.documents import Document\n",
        "\n",
        "# 문서 데이터 - (텍스트, 소스)\n",
        "documents = [\n",
        "    (\"인공지능은 컴퓨터 과학의 한 분야입니다.\", \"AI 개론\"),\n",
        "    (\"머신러닝은 인공지능의 하위 분야입니다.\", \"AI 개론\"),\n",
        "    (\"딥러닝은 머신러닝의 한 종류입니다.\", \"딥러닝 입문\"),\n",
        "    (\"자연어 처리는 컴퓨터가 인간의 언어를 이해하고 생성하는 기술입니다.\", \"AI 개론\"),\n",
        "    (\"컴퓨터 비전은 컴퓨터가 디지털 이미지나 비디오를 이해하는 방법을 연구합니다.\", \"딥러닝 입문\")\n",
        "]\n",
        "\n",
        "# Document 객체 생성\n",
        "doc_objects = []\n",
        "for content, source in documents:\n",
        "    doc = Document(\n",
        "        page_content=content,\n",
        "        metadata={\"source\": source},\n",
        "    )\n",
        "    doc_objects.append(doc)\n",
        "\n",
        "\n",
        "# 순차적 ID 리스트 생성\n",
        "doc_ids = [f\"DOC_{i}\" for i in range(1, len(doc_objects) + 1)]\n",
        "\n",
        "# 문서를 벡터 저장소에 저장\n",
        "added_doc_ids = chroma_db.add_documents(documents=doc_objects, ids=doc_ids)\n",
        "\n",
        "# 벡터 저장소에 저장된 문서를 확인\n",
        "print(f\"{len(added_doc_ids)}개의 문서가 성공적으로 벡터 저장소에 추가되었습니다.\")\n",
        "print(added_doc_ids)"
      ]
    },
    {
      "cell_type": "code",
      "execution_count": 7,
      "id": "8d28387c",
      "metadata": {},
      "outputs": [
        {
          "name": "stdout",
          "output_type": "stream",
          "text": [
            "\n",
            "쿼리: 인공지능과 머신러닝의 관계는?\n",
            "가장 유사한 문서:\n",
            "- 머신러닝은 인공지능의 하위 분야입니다. [출처: AI 개론]\n",
            "- 딥러닝은 머신러닝의 한 종류입니다. [출처: 딥러닝 입문]\n"
          ]
        }
      ],
      "source": [
        "# 저장된 문서 검색\n",
        "query = \"인공지능과 머신러닝의 관계는?\"\n",
        "results = chroma_db.similarity_search(query, k=2)\n",
        "\n",
        "print(f\"\\n쿼리: {query}\")\n",
        "print(\"가장 유사한 문서:\")\n",
        "for doc in results:\n",
        "    print(f\"- {doc.page_content} [출처: {doc.metadata['source']}]\")"
      ]
    },
    {
      "cell_type": "code",
      "execution_count": 8,
      "id": "c1671f31",
      "metadata": {},
      "outputs": [
        {
          "data": {
            "text/plain": [
              "{'ids': ['DOC_1', 'DOC_2', 'DOC_3', 'DOC_4', 'DOC_5'],\n",
              " 'embeddings': None,\n",
              " 'documents': ['인공지능은 컴퓨터 과학의 한 분야입니다.',\n",
              "  '머신러닝은 인공지능의 하위 분야입니다.',\n",
              "  '딥러닝은 머신러닝의 한 종류입니다.',\n",
              "  '자연어 처리는 컴퓨터가 인간의 언어를 이해하고 생성하는 기술입니다.',\n",
              "  '컴퓨터 비전은 컴퓨터가 디지털 이미지나 비디오를 이해하는 방법을 연구합니다.'],\n",
              " 'uris': None,\n",
              " 'included': ['metadatas', 'documents'],\n",
              " 'data': None,\n",
              " 'metadatas': [{'source': 'AI 개론'},\n",
              "  {'source': 'AI 개론'},\n",
              "  {'source': '딥러닝 입문'},\n",
              "  {'source': 'AI 개론'},\n",
              "  {'source': '딥러닝 입문'}]}"
            ]
          },
          "execution_count": 8,
          "metadata": {},
          "output_type": "execute_result"
        }
      ],
      "source": [
        "# 현재 저장된 컬렉션 데이터 확인\n",
        "chroma_db.get()"
      ]
    },
    {
      "cell_type": "markdown",
      "id": "b7afc913",
      "metadata": {},
      "source": [
        "- 문서 수정: `vector_store.update_document(document_id, document)`"
      ]
    },
    {
      "cell_type": "code",
      "execution_count": 9,
      "id": "6690acc8",
      "metadata": {},
      "outputs": [
        {
          "name": "stdout",
          "output_type": "stream",
          "text": [
            "문서 업데이트 완료\n"
          ]
        }
      ],
      "source": [
        "# 업데이트할 문서 생성\n",
        "updated_document_1 = Document(\n",
        "    page_content=\"인공지능은 컴퓨터 과학의 핵심 분야 중 하나로, 기계학습과 딥러닝을 포함합니다.\",\n",
        "    metadata={\"source\": \"AI 개론\"},\n",
        ")\n",
        "\n",
        "updated_document_2 = Document(\n",
        "    page_content=\"머신러닝은 데이터로부터 학습하여 예측과 결정을 내리는 인공지능의 하위 분야입니다.\",\n",
        "    metadata={\"source\": \"AI 개론\"},\n",
        ")\n",
        "\n",
        "updated_document_3 = Document(\n",
        "    page_content=\"딥러닝은 머신러닝의 한 종류로, 심층 신경망을 사용하여 학습합니다.\",\n",
        "    metadata={\"source\": \"딥러닝 입문\"},\n",
        ")\n",
        "\n",
        "\n",
        "# 단일 문서 업데이트\n",
        "chroma_db.update_document(document_id=\"DOC_1\", document=updated_document_1)\n",
        "\n",
        "# 여러 문서 한 번에 업데이트\n",
        "chroma_db.update_documents(\n",
        "    ids=[\"DOC_2\", \"DOC_3\"],\n",
        "    documents=[updated_document_2, updated_document_3]\n",
        ")\n",
        "\n",
        "print(\"문서 업데이트 완료\")"
      ]
    },
    {
      "cell_type": "code",
      "execution_count": 10,
      "id": "783c5317",
      "metadata": {},
      "outputs": [
        {
          "name": "stdout",
          "output_type": "stream",
          "text": [
            "\n",
            "쿼리: 인공지능과 머신러닝의 관계는?\n",
            "가장 유사한 문서:\n",
            "- 머신러닝은 데이터로부터 학습하여 예측과 결정을 내리는 인공지능의 하위 분야입니다. [출처: AI 개론]\n",
            "- 인공지능은 컴퓨터 과학의 핵심 분야 중 하나로, 기계학습과 딥러닝을 포함합니다. [출처: AI 개론]\n"
          ]
        }
      ],
      "source": [
        "# 저장된 문서 검색 예시\n",
        "query = \"인공지능과 머신러닝의 관계는?\"\n",
        "results = chroma_db.similarity_search(query, k=2)\n",
        "\n",
        "print(f\"\\n쿼리: {query}\")\n",
        "print(\"가장 유사한 문서:\")\n",
        "for doc in results:\n",
        "    print(f\"- {doc.page_content} [출처: {doc.metadata['source']}]\")"
      ]
    },
    {
      "cell_type": "markdown",
      "id": "36e86775",
      "metadata": {},
      "source": [
        "- 문서 삭제: `vector_store.delete(ids)`"
      ]
    },
    {
      "cell_type": "code",
      "execution_count": 11,
      "id": "e7f006dc",
      "metadata": {},
      "outputs": [],
      "source": [
        "# 문서 id를 지정하여 삭제\n",
        "chroma_db.delete(ids=[\"DOC_5\"])"
      ]
    },
    {
      "cell_type": "code",
      "execution_count": 12,
      "id": "532fa81d",
      "metadata": {},
      "outputs": [
        {
          "data": {
            "text/plain": [
              "{'ids': ['DOC_1', 'DOC_2', 'DOC_3', 'DOC_4'],\n",
              " 'embeddings': None,\n",
              " 'documents': ['인공지능은 컴퓨터 과학의 핵심 분야 중 하나로, 기계학습과 딥러닝을 포함합니다.',\n",
              "  '머신러닝은 데이터로부터 학습하여 예측과 결정을 내리는 인공지능의 하위 분야입니다.',\n",
              "  '딥러닝은 머신러닝의 한 종류로, 심층 신경망을 사용하여 학습합니다.',\n",
              "  '자연어 처리는 컴퓨터가 인간의 언어를 이해하고 생성하는 기술입니다.'],\n",
              " 'uris': None,\n",
              " 'included': ['metadatas', 'documents'],\n",
              " 'data': None,\n",
              " 'metadatas': [{'source': 'AI 개론'},\n",
              "  {'source': 'AI 개론'},\n",
              "  {'source': '딥러닝 입문'},\n",
              "  {'source': 'AI 개론'}]}"
            ]
          },
          "execution_count": 12,
          "metadata": {},
          "output_type": "execute_result"
        }
      ],
      "source": [
        "# 컬렉션 확인\n",
        "chroma_db.get()"
      ]
    },
    {
      "cell_type": "markdown",
      "id": "32c52c55",
      "metadata": {},
      "source": [
        "`(3) 문서 검색`  "
      ]
    },
    {
      "cell_type": "markdown",
      "id": "f057e97b",
      "metadata": {},
      "source": [
        "- 유사도 검색\n",
        "    - 주어진 쿼리와 가장 유사한 문서를 반환\n",
        "    -  k=2는 상위 2개의 결과를 반환하도록 지정\n",
        "    - filter를 사용하여 특정 출처의 문서만 검색 가능"
      ]
    },
    {
      "cell_type": "code",
      "execution_count": 13,
      "id": "f1705538",
      "metadata": {},
      "outputs": [
        {
          "name": "stdout",
          "output_type": "stream",
          "text": [
            "유사도 검색 결과:\n",
            "- 머신러닝은 데이터로부터 학습하여 예측과 결정을 내리는 인공지능의 하위 분야입니다. [출처: AI 개론]\n",
            "- 인공지능은 컴퓨터 과학의 핵심 분야 중 하나로, 기계학습과 딥러닝을 포함합니다. [출처: AI 개론]\n"
          ]
        }
      ],
      "source": [
        "query = \"인공지능과 머신러닝의 차이점은 무엇인가요?\"\n",
        "results = chroma_db.similarity_search(\n",
        "    query,\n",
        "    k=2,\n",
        "    filter={\"source\": \"AI 개론\"}\n",
        ")\n",
        "\n",
        "print(\"유사도 검색 결과:\")\n",
        "for doc in results:\n",
        "    print(f\"- {doc.page_content} [출처: {doc.metadata['source']}]\")"
      ]
    },
    {
      "cell_type": "markdown",
      "id": "aadac15f",
      "metadata": {},
      "source": [
        "- 유사도 점수가 포함된 검색\n",
        "    - 유사도 점수를 함께 반환\n",
        "    - 점수가 낮을수록 더 유사한 것을 의미 (거리 기준으로 점수가 산정되기 때문)"
      ]
    },
    {
      "cell_type": "code",
      "execution_count": 14,
      "id": "f5862d62",
      "metadata": {},
      "outputs": [
        {
          "name": "stdout",
          "output_type": "stream",
          "text": [
            "점수가 포함된 유사도 검색 결과:\n",
            "\n",
            "- 점수: 0.7292\n",
            "  내용: 인공지능은 컴퓨터 과학의 핵심 분야 중 하나로, 기계학습과 딥러닝을 포함합니다.\n",
            "  [출처: AI 개론]\n",
            "\n",
            "- 점수: 0.8394\n",
            "  내용: 머신러닝은 데이터로부터 학습하여 예측과 결정을 내리는 인공지능의 하위 분야입니다.\n",
            "  [출처: AI 개론]\n",
            "\n"
          ]
        }
      ],
      "source": [
        "query = \"딥러닝은 어떤 분야에서 사용되나요?\"\n",
        "results = chroma_db.similarity_search_with_score(\n",
        "    query,\n",
        "    k=2,\n",
        "    filter={\"source\": \"AI 개론\"}\n",
        ")\n",
        "\n",
        "print(\"점수가 포함된 유사도 검색 결과:\\n\")\n",
        "for doc, score in results:\n",
        "    print(f\"- 점수: {score:.4f}\")\n",
        "    print(f\"  내용: {doc.page_content}\")\n",
        "    print(f\"  [출처: {doc.metadata['source']}]\")\n",
        "    print()"
      ]
    },
    {
      "cell_type": "markdown",
      "id": "5564e3cb",
      "metadata": {},
      "source": [
        "- 관련성 점수가 포함된 검색\n",
        "    - 문서와 함께 0에서 1 사이의 관련성 점수를 반환\n",
        "    - 0은 가장 관련성이 낮고, 1은 가장 관련성이 높음을 의미"
      ]
    },
    {
      "cell_type": "code",
      "execution_count": 15,
      "id": "85309681",
      "metadata": {},
      "outputs": [
        {
          "name": "stdout",
          "output_type": "stream",
          "text": [
            "쿼리: 딥러닝은 어떤 분야에서 사용되나요?\n",
            "\n",
            "검색 결과 (관련성 점수 포함):\n",
            "- 관련성 점수: 0.4844\n",
            "  내용: 인공지능은 컴퓨터 과학의 핵심 분야 중 하나로, 기계학습과 딥러닝을 포함합니다.\n",
            "  [출처: AI 개론]\n",
            "\n",
            "- 관련성 점수: 0.4065\n",
            "  내용: 머신러닝은 데이터로부터 학습하여 예측과 결정을 내리는 인공지능의 하위 분야입니다.\n",
            "  [출처: AI 개론]\n",
            "\n"
          ]
        }
      ],
      "source": [
        "query = \"딥러닝은 어떤 분야에서 사용되나요?\"\n",
        "results = chroma_db.similarity_search_with_relevance_scores(\n",
        "    query,\n",
        "    k=2,\n",
        "    filter={\"source\": \"AI 개론\"}\n",
        ")\n",
        "\n",
        "print(f\"쿼리: {query}\")\n",
        "print(\"\\n검색 결과 (관련성 점수 포함):\")\n",
        "for doc, score in results:\n",
        "    print(f\"- 관련성 점수: {score:.4f}\")\n",
        "    print(f\"  내용: {doc.page_content}\")\n",
        "    print(f\"  [출처: {doc.metadata['source']}]\")\n",
        "    print()"
      ]
    },
    {
      "cell_type": "markdown",
      "id": "f21c61a6",
      "metadata": {},
      "source": [
        "`(4) 벡터 저장소 로드`  "
      ]
    },
    {
      "cell_type": "code",
      "execution_count": 16,
      "id": "2d89ec8c",
      "metadata": {},
      "outputs": [],
      "source": [
        "chroma_db2 = Chroma(\n",
        "    collection_name=\"ai_smaple_collection\",\n",
        "    embedding_function=embeddings_model,\n",
        "    persist_directory=\"./chroma_db\",\n",
        ")"
      ]
    },
    {
      "cell_type": "code",
      "execution_count": 17,
      "id": "fba19e70",
      "metadata": {},
      "outputs": [
        {
          "name": "stdout",
          "output_type": "stream",
          "text": [
            "쿼리: 딥러닝은 어떤 분야에서 사용되나요?\n",
            "\n",
            "검색 결과 (관련성 점수 포함):\n",
            "- 관련성 점수: 0.5919\n",
            "  내용: 딥러닝은 머신러닝의 한 종류로, 심층 신경망을 사용하여 학습합니다.\n",
            "  [출처: 딥러닝 입문]\n",
            "\n"
          ]
        }
      ],
      "source": [
        "# 미리 임베딩된 쿼리 벡터를 사용하여 검색\n",
        "query = \"딥러닝은 어떤 분야에서 사용되나요?\"\n",
        "results = chroma_db2.similarity_search_with_relevance_scores(\n",
        "    query,\n",
        "    k=2,\n",
        "    filter={\"source\": \"딥러닝 입문\"}\n",
        ")\n",
        "\n",
        "print(f\"쿼리: {query}\")\n",
        "print(\"\\n검색 결과 (관련성 점수 포함):\")\n",
        "for doc, score in results:\n",
        "    print(f\"- 관련성 점수: {score:.4f}\")\n",
        "    print(f\"  내용: {doc.page_content}\")\n",
        "    print(f\"  [출처: {doc.metadata['source']}]\")\n",
        "    print()"
      ]
    },
    {
      "cell_type": "markdown",
      "id": "80551893",
      "metadata": {},
      "source": [
        "### **2 FAISS(Facebook AI Similarity Search)**\n",
        "\n",
        "- 효율적인 벡터 유사도 검색 및 클러스터링을 위한 오픈소스 벡터 저장소 \n",
        "- `faiss-cpu` 패키지 설치"
      ]
    },
    {
      "cell_type": "markdown",
      "id": "f35ecb88",
      "metadata": {},
      "source": [
        "`(1) 벡터 저장소 초기화`"
      ]
    },
    {
      "cell_type": "code",
      "execution_count": 18,
      "id": "392cd940",
      "metadata": {},
      "outputs": [
        {
          "name": "stdout",
          "output_type": "stream",
          "text": [
            "FAISS 인덱스 초기화 완료\n"
          ]
        }
      ],
      "source": [
        "# 벡터 저장소 생성\n",
        "import faiss \n",
        "from langchain_community.docstore.in_memory import InMemoryDocstore\n",
        "from langchain_community.vectorstores import FAISS\n",
        "\n",
        "# FAISS 인덱스 초기화 (유클리드 거리 사용)\n",
        "faiss_index = faiss.IndexFlatL2(len(embeddings_model.embed_query(\"hello world\")))\n",
        "print(\"FAISS 인덱스 초기화 완료\")"
      ]
    },
    {
      "cell_type": "code",
      "execution_count": null,
      "id": "cc3e9a30",
      "metadata": {},
      "outputs": [],
      "source": [
        "# FAISS 벡터 저장소의 벡터 차원 수 (임베딩 차원 수)\n",
        "faiss_index.d"
      ]
    },
    {
      "cell_type": "code",
      "execution_count": 19,
      "id": "2ed65547",
      "metadata": {},
      "outputs": [
        {
          "data": {
            "text/plain": [
              "0"
            ]
          },
          "execution_count": 19,
          "metadata": {},
          "output_type": "execute_result"
        }
      ],
      "source": [
        "# FAISS 벡터 저장소 생성\n",
        "faiss_db = FAISS(\n",
        "    embedding_function=embeddings_model,\n",
        "    index=faiss_index,           # 벡터 검색을 위한 데이터 구조를 정의\n",
        "    docstore=InMemoryDocstore(), # 문서 저장소 객체를 지정 - 문서의 원본 내용과 메타데이터를 보관\n",
        "    index_to_docstore_id={},     # 인덱스와 문서 간의 연결을 관리 (매핑 딕셔너리)\n",
        ")\n",
        "# 저장된 문서의 갯수 확인\n",
        "faiss_db.index.ntotal"
      ]
    },
    {
      "cell_type": "markdown",
      "id": "fc1690c0",
      "metadata": {},
      "source": [
        "`(2) 벡터 저장소 관리`  "
      ]
    },
    {
      "cell_type": "markdown",
      "id": "0bf59cf4",
      "metadata": {},
      "source": [
        "- 문서 추가: `vector_store.add_documents(documents, ids)`"
      ]
    },
    {
      "cell_type": "code",
      "execution_count": 20,
      "id": "3ce50ab8",
      "metadata": {},
      "outputs": [
        {
          "name": "stdout",
          "output_type": "stream",
          "text": [
            "5개의 문서가 성공적으로 벡터 저장소에 추가되었습니다.\n",
            "['DOC_1', 'DOC_2', 'DOC_3', 'DOC_4', 'DOC_5']\n"
          ]
        }
      ],
      "source": [
        "from langchain_core.documents import Document\n",
        "\n",
        "# 문서 데이터 - (텍스트, 소스)\n",
        "documents = [\n",
        "    (\"인공지능은 컴퓨터 과학의 한 분야입니다.\", \"AI 개론\"),\n",
        "    (\"머신러닝은 인공지능의 하위 분야입니다.\", \"AI 개론\"),\n",
        "    (\"딥러닝은 머신러닝의 한 종류입니다.\", \"딥러닝 입문\"),\n",
        "    (\"자연어 처리는 컴퓨터가 인간의 언어를 이해하고 생성하는 기술입니다.\", \"AI 개론\"),\n",
        "    (\"컴퓨터 비전은 컴퓨터가 디지털 이미지나 비디오를 이해하는 방법을 연구합니다.\", \"딥러닝 입문\")\n",
        "]\n",
        "\n",
        "# Document 객체 생성\n",
        "doc_objects = []\n",
        "for content, source in documents:\n",
        "    doc = Document(\n",
        "        page_content=content,\n",
        "        metadata={\"source\": source},\n",
        "    )\n",
        "    doc_objects.append(doc)\n",
        "\n",
        "\n",
        "# 순차적 ID 리스트 생성\n",
        "doc_ids = [f\"DOC_{i}\" for i in range(1, len(doc_objects) + 1)]\n",
        "\n",
        "# 문서를 벡터 저장소에 저장\n",
        "added_doc_ids = faiss_db.add_documents(documents=doc_objects, ids=doc_ids)\n",
        "\n",
        "# 벡터 저장소에 저장된 문서를 확인\n",
        "print(f\"{len(added_doc_ids)}개의 문서가 성공적으로 벡터 저장소에 추가되었습니다.\")\n",
        "print(added_doc_ids)"
      ]
    },
    {
      "cell_type": "code",
      "execution_count": 21,
      "id": "c16ef7aa",
      "metadata": {},
      "outputs": [
        {
          "data": {
            "text/plain": [
              "5"
            ]
          },
          "execution_count": 21,
          "metadata": {},
          "output_type": "execute_result"
        }
      ],
      "source": [
        "# 저장된 문서의 갯수 확인\n",
        "faiss_db.index.ntotal"
      ]
    },
    {
      "cell_type": "code",
      "execution_count": 22,
      "id": "181960bf",
      "metadata": {},
      "outputs": [
        {
          "data": {
            "text/plain": [
              "{0: 'DOC_1', 1: 'DOC_2', 2: 'DOC_3', 3: 'DOC_4', 4: 'DOC_5'}"
            ]
          },
          "execution_count": 22,
          "metadata": {},
          "output_type": "execute_result"
        }
      ],
      "source": [
        "# 저장된 인덱스 확인\n",
        "faiss_db.index_to_docstore_id"
      ]
    },
    {
      "cell_type": "code",
      "execution_count": 23,
      "id": "6419d87b",
      "metadata": {},
      "outputs": [
        {
          "data": {
            "text/plain": [
              "Document(id='DOC_1', metadata={'source': 'AI 개론'}, page_content='인공지능은 컴퓨터 과학의 한 분야입니다.')"
            ]
          },
          "execution_count": 23,
          "metadata": {},
          "output_type": "execute_result"
        }
      ],
      "source": [
        "# 저장된 문서 검색\n",
        "faiss_db.docstore.search('DOC_1')"
      ]
    },
    {
      "cell_type": "markdown",
      "id": "a5f41f02",
      "metadata": {},
      "source": [
        "- 문서 삭제: `vector_store.delete(ids)`"
      ]
    },
    {
      "cell_type": "code",
      "execution_count": 24,
      "id": "572dd45b",
      "metadata": {},
      "outputs": [
        {
          "data": {
            "text/plain": [
              "True"
            ]
          },
          "execution_count": 24,
          "metadata": {},
          "output_type": "execute_result"
        }
      ],
      "source": [
        "# 문서 id를 지정하여 삭제\n",
        "faiss_db.delete(ids=[\"DOC_5\"])"
      ]
    },
    {
      "cell_type": "code",
      "execution_count": 25,
      "id": "de547f29",
      "metadata": {},
      "outputs": [
        {
          "data": {
            "text/plain": [
              "4"
            ]
          },
          "execution_count": 25,
          "metadata": {},
          "output_type": "execute_result"
        }
      ],
      "source": [
        "# 컬렉션 확인\n",
        "faiss_db.index.ntotal"
      ]
    },
    {
      "cell_type": "code",
      "execution_count": 26,
      "id": "cbde36e3",
      "metadata": {},
      "outputs": [
        {
          "data": {
            "text/plain": [
              "{0: 'DOC_1', 1: 'DOC_2', 2: 'DOC_3', 3: 'DOC_4'}"
            ]
          },
          "execution_count": 26,
          "metadata": {},
          "output_type": "execute_result"
        }
      ],
      "source": [
        "# 저장된 인덱스 확인\n",
        "faiss_db.index_to_docstore_id"
      ]
    },
    {
      "cell_type": "code",
      "execution_count": 27,
      "id": "9fbc42b4",
      "metadata": {},
      "outputs": [
        {
          "data": {
            "text/plain": [
              "{'DOC_1': Document(id='DOC_1', metadata={'source': 'AI 개론'}, page_content='인공지능은 컴퓨터 과학의 한 분야입니다.'),\n",
              " 'DOC_2': Document(id='DOC_2', metadata={'source': 'AI 개론'}, page_content='머신러닝은 인공지능의 하위 분야입니다.'),\n",
              " 'DOC_3': Document(id='DOC_3', metadata={'source': '딥러닝 입문'}, page_content='딥러닝은 머신러닝의 한 종류입니다.'),\n",
              " 'DOC_4': Document(id='DOC_4', metadata={'source': 'AI 개론'}, page_content='자연어 처리는 컴퓨터가 인간의 언어를 이해하고 생성하는 기술입니다.')}"
            ]
          },
          "execution_count": 27,
          "metadata": {},
          "output_type": "execute_result"
        }
      ],
      "source": [
        "# 저장된 문서 객체를 확인\n",
        "faiss_db.docstore._dict"
      ]
    },
    {
      "cell_type": "markdown",
      "id": "6187ee82",
      "metadata": {},
      "source": [
        "`(3) 문서 검색`  "
      ]
    },
    {
      "cell_type": "markdown",
      "id": "fb24f7fb",
      "metadata": {},
      "source": [
        "- 유사도 검색\n",
        "    - 주어진 쿼리와 가장 유사한 문서를 반환\n",
        "    - k=2는 상위 2개의 결과를 반환하도록 지정\n",
        "    - filter를 사용하여 특정 출처의 문서만 검색 가능"
      ]
    },
    {
      "cell_type": "code",
      "execution_count": 28,
      "id": "b3c30909",
      "metadata": {},
      "outputs": [
        {
          "name": "stdout",
          "output_type": "stream",
          "text": [
            "유사도 검색 결과:\n",
            "- 머신러닝은 인공지능의 하위 분야입니다. [출처: AI 개론]\n",
            "- 인공지능은 컴퓨터 과학의 한 분야입니다. [출처: AI 개론]\n"
          ]
        }
      ],
      "source": [
        "query = \"인공지능과 머신러닝의 차이점은 무엇인가요?\"\n",
        "results = faiss_db.similarity_search(\n",
        "    query,\n",
        "    k=2,\n",
        "    filter={\"source\": \"AI 개론\"}\n",
        ")\n",
        "\n",
        "print(\"유사도 검색 결과:\")\n",
        "for doc in results:\n",
        "    print(f\"- {doc.page_content} [출처: {doc.metadata['source']}]\")"
      ]
    },
    {
      "cell_type": "markdown",
      "id": "ab435b13",
      "metadata": {},
      "source": [
        "- 유사도 점수가 포함된 검색\n",
        "    - 유사도 점수를 함께 반환\n",
        "    - 점수가 낮을수록 더 유사한 것을 의미"
      ]
    },
    {
      "cell_type": "code",
      "execution_count": 29,
      "id": "6d4f9a64",
      "metadata": {},
      "outputs": [
        {
          "name": "stdout",
          "output_type": "stream",
          "text": [
            "점수가 포함된 유사도 검색 결과:\n",
            "\n",
            "- 점수: 0.8442\n",
            "  내용: 머신러닝은 인공지능의 하위 분야입니다.\n",
            "  [출처: AI 개론]\n",
            "\n",
            "- 점수: 0.9845\n",
            "  내용: 인공지능은 컴퓨터 과학의 한 분야입니다.\n",
            "  [출처: AI 개론]\n",
            "\n"
          ]
        }
      ],
      "source": [
        "query = \"딥러닝은 어떤 분야에서 사용되나요?\"\n",
        "results = faiss_db.similarity_search_with_score(\n",
        "    query,\n",
        "    k=2,\n",
        "    filter={\"source\": \"AI 개론\"}\n",
        ")\n",
        "\n",
        "print(\"점수가 포함된 유사도 검색 결과:\\n\")\n",
        "for doc, score in results:\n",
        "    print(f\"- 점수: {score:.4f}\")\n",
        "    print(f\"  내용: {doc.page_content}\")\n",
        "    print(f\"  [출처: {doc.metadata['source']}]\")\n",
        "    print()"
      ]
    },
    {
      "cell_type": "markdown",
      "id": "90dc4a46",
      "metadata": {},
      "source": [
        "- 관련성 점수가 포함된 검색\n",
        "    - 문서와 함께 0에서 1 사이의 관련성 점수를 반환\n",
        "    - 0은 가장 관련성이 낮고, 1은 가장 관련성이 높음을 의미"
      ]
    },
    {
      "cell_type": "code",
      "execution_count": 30,
      "id": "3e35b303",
      "metadata": {},
      "outputs": [
        {
          "name": "stdout",
          "output_type": "stream",
          "text": [
            "쿼리: 딥러닝은 어떤 분야에서 사용되나요?\n",
            "\n",
            "검색 결과 (관련성 점수 포함):\n",
            "- 관련성 점수: 0.4031\n",
            "  내용: 머신러닝은 인공지능의 하위 분야입니다.\n",
            "  [출처: AI 개론]\n",
            "\n",
            "- 관련성 점수: 0.3038\n",
            "  내용: 인공지능은 컴퓨터 과학의 한 분야입니다.\n",
            "  [출처: AI 개론]\n",
            "\n"
          ]
        }
      ],
      "source": [
        "query = \"딥러닝은 어떤 분야에서 사용되나요?\"\n",
        "results = faiss_db.similarity_search_with_relevance_scores(\n",
        "    query,\n",
        "    k=2,\n",
        "    filter={\"source\": \"AI 개론\"}\n",
        ")\n",
        "\n",
        "print(f\"쿼리: {query}\")\n",
        "print(\"\\n검색 결과 (관련성 점수 포함):\")\n",
        "for doc, score in results:\n",
        "    print(f\"- 관련성 점수: {score:.4f}\")\n",
        "    print(f\"  내용: {doc.page_content}\")\n",
        "    print(f\"  [출처: {doc.metadata['source']}]\")\n",
        "    print()"
      ]
    },
    {
      "cell_type": "markdown",
      "id": "8f13e6f6",
      "metadata": {},
      "source": [
        "`(4) 로컬에 저장 및 로드`  "
      ]
    },
    {
      "cell_type": "code",
      "execution_count": 31,
      "id": "a781dfe0",
      "metadata": {},
      "outputs": [],
      "source": [
        "# 로컬에 저장\n",
        "faiss_db.save_local(\"faiss_ai_smaple_index\")"
      ]
    },
    {
      "cell_type": "code",
      "execution_count": 32,
      "id": "785ef1da",
      "metadata": {},
      "outputs": [],
      "source": [
        "# 로컬에 저장된 FAISS 벡터 저장소 불러오기\n",
        "faiss_db2 = FAISS.load_local(\n",
        "    \"faiss_ai_smaple_index\", embeddings_model, allow_dangerous_deserialization=True\n",
        ")"
      ]
    },
    {
      "cell_type": "code",
      "execution_count": 33,
      "id": "985146b9",
      "metadata": {},
      "outputs": [
        {
          "name": "stdout",
          "output_type": "stream",
          "text": [
            "쿼리: 딥러닝은 어떤 분야에서 사용되나요?\n",
            "\n",
            "검색 결과 (관련성 점수 포함):\n",
            "- 관련성 점수: 0.5392\n",
            "  내용: 딥러닝은 머신러닝의 한 종류입니다.\n",
            "  [출처: 딥러닝 입문]\n",
            "\n"
          ]
        }
      ],
      "source": [
        "query = \"딥러닝은 어떤 분야에서 사용되나요?\"\n",
        "results = faiss_db2.similarity_search_with_relevance_scores(\n",
        "    query,\n",
        "    k=2,\n",
        "    filter={\"source\": \"딥러닝 입문\"}\n",
        ")\n",
        "\n",
        "print(f\"쿼리: {query}\")\n",
        "print(\"\\n검색 결과 (관련성 점수 포함):\")\n",
        "for doc, score in results:\n",
        "    print(f\"- 관련성 점수: {score:.4f}\")\n",
        "    print(f\"  내용: {doc.page_content}\")\n",
        "    print(f\"  [출처: {doc.metadata['source']}]\")\n",
        "    print()"
      ]
    },
    {
      "cell_type": "markdown",
      "id": "c9191420",
      "metadata": {},
      "source": [
        "### 3. **Pinecone**\n",
        "\n",
        "- 상용 클라우드 기반의 벡터 데이터베이스 서비스 (SaaS)\n",
        "- 실시간 고성능 벡터 검색 제공\n",
        "- 회원가입 및 API 인증키 발급 (.env 파일에 `PINECONE_API_KEY` 등록)\n",
        "- `langchain-pinecone pinecone-notebooks` 패키지 설치"
      ]
    },
    {
      "cell_type": "markdown",
      "id": "43b0bafe",
      "metadata": {},
      "source": [
        "`(1) 환경 설정`"
      ]
    },
    {
      "cell_type": "code",
      "execution_count": 42,
      "id": "bf678797",
      "metadata": {},
      "outputs": [
        {
          "data": {
            "text/plain": [
              "True"
            ]
          },
          "execution_count": 42,
          "metadata": {},
          "output_type": "execute_result"
        }
      ],
      "source": [
        "# PINECONE_API_KEY 환경 변수 설정 후에 실행\n",
        "from dotenv import load_dotenv\n",
        "load_dotenv()"
      ]
    },
    {
      "cell_type": "code",
      "execution_count": 44,
      "id": "7dc7d0de",
      "metadata": {},
      "outputs": [],
      "source": [
        "# 인증 설정\n",
        "import os\n",
        "from pinecone import Pinecone, ServerlessSpec \n",
        "pinecone_api_key = os.environ.get(\"PINECONE_API_KEY\",\"pcsk_5gmQZZ_TqHS12RFTYs6T18GEzAVdoukwk58svhgWaaSJCrTqJzaumZtjP8Z6WWVk7bSots\")\n",
        "pc = Pinecone(api_key=\"pcsk_5gmQZZ_TqHS12RFTYs6T18GEzAVdoukwk58svhgWaaSJCrTqJzaumZtjP8Z6WWVk7bSots\")"
      ]
    },
    {
      "cell_type": "code",
      "execution_count": 45,
      "id": "6babbe93",
      "metadata": {},
      "outputs": [
        {
          "name": "stdout",
          "output_type": "stream",
          "text": [
            "기존 인덱스: []\n"
          ]
        }
      ],
      "source": [
        "# 기존 인덱스 리스트 확인\n",
        "existing_indexes = [index_info[\"name\"] for index_info in pc.list_indexes()]\n",
        "print(f\"기존 인덱스: {existing_indexes}\")"
      ]
    },
    {
      "cell_type": "markdown",
      "id": "6da5c49b",
      "metadata": {},
      "source": [
        "`(2) 벡터 저장소 초기화`"
      ]
    },
    {
      "cell_type": "code",
      "execution_count": 46,
      "id": "f13a3ce6",
      "metadata": {},
      "outputs": [],
      "source": [
        "import time \n",
        "\n",
        "# 인데스 이름 설정\n",
        "index_name = \"ai-smaple-index\"\n",
        "\n",
        "# 인덱스가 없으면 생성\n",
        "if index_name not in existing_indexes:\n",
        "    pc.create_index(\n",
        "        name=index_name,\n",
        "        dimension=1024,\n",
        "        metric=\"euclidean\",  # 유사도 측정 방법 - euclidean, cosine, dotproduct\n",
        "        spec=ServerlessSpec(cloud=\"aws\", region=\"us-east-1\"),\n",
        "    )\n",
        "    while not pc.describe_index(index_name).status[\"ready\"]:\n",
        "        time.sleep(1)\n",
        "\n",
        "# 인덱스 이름을 사용하여 인덱스 객체 생성\n",
        "index = pc.Index(index_name)"
      ]
    },
    {
      "cell_type": "code",
      "execution_count": 47,
      "id": "05a44165",
      "metadata": {},
      "outputs": [
        {
          "data": {
            "text/plain": [
              "{\n",
              "    \"name\": \"ai-smaple-index\",\n",
              "    \"metric\": \"euclidean\",\n",
              "    \"host\": \"ai-smaple-index-mtxbeyj.svc.aped-4627-b74a.pinecone.io\",\n",
              "    \"spec\": {\n",
              "        \"serverless\": {\n",
              "            \"cloud\": \"aws\",\n",
              "            \"region\": \"us-east-1\"\n",
              "        }\n",
              "    },\n",
              "    \"status\": {\n",
              "        \"ready\": true,\n",
              "        \"state\": \"Ready\"\n",
              "    },\n",
              "    \"vector_type\": \"dense\",\n",
              "    \"dimension\": 1024,\n",
              "    \"deletion_protection\": \"disabled\",\n",
              "    \"tags\": null\n",
              "}"
            ]
          },
          "execution_count": 47,
          "metadata": {},
          "output_type": "execute_result"
        }
      ],
      "source": [
        "# 인덱스 정보 확인\n",
        "index_name = \"ai-smaple-index\"\n",
        "\n",
        "index_info = pc.describe_index(index_name)\n",
        "index_info"
      ]
    },
    {
      "cell_type": "code",
      "execution_count": 48,
      "id": "85119da9",
      "metadata": {},
      "outputs": [
        {
          "name": "stderr",
          "output_type": "stream",
          "text": [
            "h:\\miniconda3\\envs\\modu\\Lib\\site-packages\\langchain_pinecone\\__init__.py:3: LangChainDeprecationWarning: As of langchain-core 0.3.0, LangChain uses pydantic v2 internally. The langchain_core.pydantic_v1 module was a compatibility shim for pydantic v1, and should no longer be used. Please update the code to import from Pydantic directly.\n",
            "\n",
            "For example, replace imports like: `from langchain_core.pydantic_v1 import BaseModel`\n",
            "with: `from pydantic import BaseModel`\n",
            "or the v1 compatibility namespace if you are working in a code base that has not been fully upgraded to pydantic 2 yet. \tfrom pydantic.v1 import BaseModel\n",
            "\n",
            "  from langchain_pinecone.vectorstores import Pinecone, PineconeVectorStore\n"
          ]
        },
        {
          "data": {
            "text/plain": [
              "<langchain_pinecone.vectorstores.PineconeVectorStore at 0x2098e185880>"
            ]
          },
          "execution_count": 48,
          "metadata": {},
          "output_type": "execute_result"
        }
      ],
      "source": [
        "from langchain_pinecone import PineconeVectorStore  \n",
        "\n",
        "# PINECONE 벡터 저장소 생성\n",
        "pinecone_db = PineconeVectorStore(index=index, embedding=embeddings_model)\n",
        "\n",
        "# 벡터 저장소 객체 확인 \n",
        "pinecone_db"
      ]
    },
    {
      "cell_type": "code",
      "execution_count": 49,
      "id": "02d710b4",
      "metadata": {},
      "outputs": [
        {
          "data": {
            "text/plain": [
              "{'dimension': 1024,\n",
              " 'index_fullness': 0.0,\n",
              " 'metric': 'euclidean',\n",
              " 'namespaces': {},\n",
              " 'total_vector_count': 0,\n",
              " 'vector_type': 'dense'}"
            ]
          },
          "execution_count": 49,
          "metadata": {},
          "output_type": "execute_result"
        }
      ],
      "source": [
        "# 저장된 문서의 갯수 확인\n",
        "pinecone_db._index.describe_index_stats()"
      ]
    },
    {
      "cell_type": "markdown",
      "id": "bdf704f6",
      "metadata": {},
      "source": [
        "`(2) 벡터 저장소 관리`  "
      ]
    },
    {
      "cell_type": "markdown",
      "id": "3ddebe23",
      "metadata": {},
      "source": [
        "- 문서 추가: `vector_store.add_documents(documents, ids)`"
      ]
    },
    {
      "cell_type": "code",
      "execution_count": 50,
      "id": "645e325f",
      "metadata": {},
      "outputs": [
        {
          "name": "stdout",
          "output_type": "stream",
          "text": [
            "5개의 문서가 성공적으로 벡터 저장소에 추가되었습니다.\n",
            "['DOC_1', 'DOC_2', 'DOC_3', 'DOC_4', 'DOC_5']\n"
          ]
        }
      ],
      "source": [
        "from langchain_core.documents import Document\n",
        "\n",
        "# 문서 데이터 - (텍스트, 소스)\n",
        "documents = [\n",
        "    (\"인공지능은 컴퓨터 과학의 한 분야입니다.\", \"AI 개론\"),\n",
        "    (\"머신러닝은 인공지능의 하위 분야입니다.\", \"AI 개론\"),\n",
        "    (\"딥러닝은 머신러닝의 한 종류입니다.\", \"딥러닝 입문\"),\n",
        "    (\"자연어 처리는 컴퓨터가 인간의 언어를 이해하고 생성하는 기술입니다.\", \"AI 개론\"),\n",
        "    (\"컴퓨터 비전은 컴퓨터가 디지털 이미지나 비디오를 이해하는 방법을 연구합니다.\", \"딥러닝 입문\")\n",
        "]\n",
        "\n",
        "# Document 객체 생성\n",
        "doc_objects = []\n",
        "for content, source in documents:\n",
        "    doc = Document(\n",
        "        page_content=content,\n",
        "        metadata={\"source\": source},\n",
        "    )\n",
        "    doc_objects.append(doc)\n",
        "\n",
        "\n",
        "# 순차적 ID 리스트 생성\n",
        "doc_ids = [f\"DOC_{i}\" for i in range(1, len(doc_objects) + 1)]\n",
        "\n",
        "# 문서를 벡터 저장소에 저장\n",
        "added_doc_ids = pinecone_db.add_documents(documents=doc_objects, ids=doc_ids)\n",
        "\n",
        "# 벡터 저장소에 저장된 문서를 확인\n",
        "print(f\"{len(added_doc_ids)}개의 문서가 성공적으로 벡터 저장소에 추가되었습니다.\")\n",
        "print(added_doc_ids)"
      ]
    },
    {
      "cell_type": "code",
      "execution_count": 51,
      "id": "cce4653e",
      "metadata": {},
      "outputs": [
        {
          "data": {
            "text/plain": [
              "{'dimension': 1024,\n",
              " 'index_fullness': 0.0,\n",
              " 'metric': 'euclidean',\n",
              " 'namespaces': {},\n",
              " 'total_vector_count': 0,\n",
              " 'vector_type': 'dense'}"
            ]
          },
          "execution_count": 51,
          "metadata": {},
          "output_type": "execute_result"
        }
      ],
      "source": [
        "# 저장된 문서의 갯수 확인 - 동기화에 시간이 걸릴 수 있음\n",
        "pinecone_db._index.describe_index_stats()"
      ]
    },
    {
      "cell_type": "code",
      "execution_count": 52,
      "id": "cdab0379",
      "metadata": {},
      "outputs": [
        {
          "name": "stdout",
          "output_type": "stream",
          "text": [
            "\n",
            "쿼리: 인공지능과 머신러닝의 관계는?\n",
            "가장 유사한 문서:\n"
          ]
        }
      ],
      "source": [
        "# 저장된 문서 검색\n",
        "query = \"인공지능과 머신러닝의 관계는?\"\n",
        "results = pinecone_db.similarity_search(query, k=2)\n",
        "\n",
        "print(f\"\\n쿼리: {query}\")\n",
        "print(\"가장 유사한 문서:\")\n",
        "for doc in results:\n",
        "    print(f\"- {doc.page_content} [출처: {doc.metadata['source']}]\")"
      ]
    },
    {
      "cell_type": "markdown",
      "id": "8e9bc3f4",
      "metadata": {},
      "source": [
        "- 문서 삭제: `vector_store.delete(ids)`"
      ]
    },
    {
      "cell_type": "code",
      "execution_count": 53,
      "id": "5256dc41",
      "metadata": {},
      "outputs": [],
      "source": [
        "# 문서 id를 지정하여 삭제\n",
        "pinecone_db.delete(ids=[\"DOC_5\"])"
      ]
    },
    {
      "cell_type": "code",
      "execution_count": 54,
      "id": "f6456331",
      "metadata": {},
      "outputs": [
        {
          "data": {
            "text/plain": [
              "{'dimension': 1024,\n",
              " 'index_fullness': 0.0,\n",
              " 'metric': 'euclidean',\n",
              " 'namespaces': {},\n",
              " 'total_vector_count': 0,\n",
              " 'vector_type': 'dense'}"
            ]
          },
          "execution_count": 54,
          "metadata": {},
          "output_type": "execute_result"
        }
      ],
      "source": [
        "# 컬렉션 확인\n",
        "pinecone_db._index.describe_index_stats()"
      ]
    },
    {
      "cell_type": "markdown",
      "id": "a38629b4",
      "metadata": {},
      "source": [
        "`(3) 문서 검색`  "
      ]
    },
    {
      "cell_type": "markdown",
      "id": "bb19a304",
      "metadata": {},
      "source": [
        "- 유사도 검색\n",
        "    - 주어진 쿼리와 가장 유사한 문서를 반환\n",
        "    -  k=2는 상위 2개의 결과를 반환하도록 지정\n",
        "    - filter를 사용하여 특정 출처의 문서만 검색 가능"
      ]
    },
    {
      "cell_type": "code",
      "execution_count": 55,
      "id": "31588f4d",
      "metadata": {},
      "outputs": [
        {
          "name": "stdout",
          "output_type": "stream",
          "text": [
            "유사도 검색 결과:\n"
          ]
        }
      ],
      "source": [
        "query = \"인공지능과 머신러닝의 차이점은 무엇인가요?\"\n",
        "results = pinecone_db.similarity_search(\n",
        "    query,\n",
        "    k=2,\n",
        "    filter={\"source\": \"AI 개론\"}\n",
        ")\n",
        "\n",
        "print(\"유사도 검색 결과:\")\n",
        "for doc in results:\n",
        "    print(f\"- {doc.page_content} [출처: {doc.metadata['source']}]\")"
      ]
    },
    {
      "cell_type": "markdown",
      "id": "4294e943",
      "metadata": {},
      "source": [
        "- 유사도 점수가 포함된 검색\n",
        "    - 유사도 점수를 함께 반환\n",
        "    - 점수가 낮을수록 더 유사한 것을 의미 (거리 기준으로 점수가 산정되기 때문)"
      ]
    },
    {
      "cell_type": "code",
      "execution_count": 56,
      "id": "d69d06fc",
      "metadata": {},
      "outputs": [
        {
          "name": "stdout",
          "output_type": "stream",
          "text": [
            "점수가 포함된 유사도 검색 결과:\n",
            "\n"
          ]
        }
      ],
      "source": [
        "query = \"딥러닝은 어떤 분야에서 사용되나요?\"\n",
        "results = pinecone_db.similarity_search_with_score(\n",
        "    query,\n",
        "    k=2,\n",
        "    filter={\"source\": \"AI 개론\"}\n",
        ")\n",
        "\n",
        "print(\"점수가 포함된 유사도 검색 결과:\\n\")\n",
        "for doc, score in results:\n",
        "    print(f\"- 점수: {score:.4f}\")\n",
        "    print(f\"  내용: {doc.page_content}\")\n",
        "    print(f\"  [출처: {doc.metadata['source']}]\")\n",
        "    print()"
      ]
    },
    {
      "cell_type": "markdown",
      "id": "2df5af70",
      "metadata": {},
      "source": [
        "- 관련성 점수가 포함된 검색\n",
        "    - 문서와 함께 0에서 1 사이의 관련성 점수를 반환\n",
        "    - 0은 가장 관련성이 낮고, 1은 가장 관련성이 높음을 의미"
      ]
    },
    {
      "cell_type": "code",
      "execution_count": 57,
      "id": "67e74a1b",
      "metadata": {},
      "outputs": [
        {
          "name": "stdout",
          "output_type": "stream",
          "text": [
            "쿼리: 딥러닝은 어떤 분야에서 사용되나요?\n",
            "\n",
            "검색 결과 (관련성 점수 포함):\n"
          ]
        }
      ],
      "source": [
        "query = \"딥러닝은 어떤 분야에서 사용되나요?\"\n",
        "results = pinecone_db.similarity_search_with_relevance_scores(\n",
        "    query,\n",
        "    k=2,\n",
        "    filter={\"source\": \"AI 개론\"}\n",
        ")\n",
        "\n",
        "print(f\"쿼리: {query}\")\n",
        "print(\"\\n검색 결과 (관련성 점수 포함):\")\n",
        "for doc, score in results:\n",
        "    print(f\"- 관련성 점수: {score:.4f}\")\n",
        "    print(f\"  내용: {doc.page_content}\")\n",
        "    print(f\"  [출처: {doc.metadata['source']}]\")\n",
        "    print()"
      ]
    },
    {
      "cell_type": "markdown",
      "id": "1a43ad4b",
      "metadata": {},
      "source": [
        "`(4) 벡터 저장소 로드`  "
      ]
    },
    {
      "cell_type": "code",
      "execution_count": 58,
      "id": "5e47f34f",
      "metadata": {},
      "outputs": [
        {
          "data": {
            "text/plain": [
              "{'dimension': 1024,\n",
              " 'index_fullness': 0.0,\n",
              " 'metric': 'euclidean',\n",
              " 'namespaces': {},\n",
              " 'total_vector_count': 0,\n",
              " 'vector_type': 'dense'}"
            ]
          },
          "execution_count": 58,
          "metadata": {},
          "output_type": "execute_result"
        }
      ],
      "source": [
        "# 저장된 인덱스 확인해서 초기화 \n",
        "index_name = \"ai-smaple-index\"\n",
        "index = pc.Index(index_name)\n",
        "pinecone_db2 = PineconeVectorStore(index=index, embedding=embeddings_model)\n",
        "\n",
        "# 저장된 문서 정보를 확인\n",
        "pinecone_db2._index.describe_index_stats()"
      ]
    },
    {
      "cell_type": "code",
      "execution_count": 59,
      "id": "21c7155e",
      "metadata": {},
      "outputs": [
        {
          "name": "stdout",
          "output_type": "stream",
          "text": [
            "쿼리: 딥러닝은 어떤 분야에서 사용되나요?\n",
            "\n",
            "검색 결과 (관련성 점수 포함):\n"
          ]
        }
      ],
      "source": [
        "# 미리 임베딩된 쿼리 벡터를 사용하여 검색\n",
        "query = \"딥러닝은 어떤 분야에서 사용되나요?\"\n",
        "results = pinecone_db2.similarity_search_with_relevance_scores(\n",
        "    query,\n",
        "    k=2,\n",
        "    filter={\"source\": \"AI 개론\"}\n",
        ")\n",
        "\n",
        "print(f\"쿼리: {query}\")\n",
        "print(\"\\n검색 결과 (관련성 점수 포함):\")\n",
        "for doc, score in results:\n",
        "    print(f\"- 관련성 점수: {score:.4f}\")\n",
        "    print(f\"  내용: {doc.page_content}\")\n",
        "    print(f\"  [출처: {doc.metadata['source']}]\")\n",
        "    print()"
      ]
    },
    {
      "cell_type": "markdown",
      "id": "e7b5c4c5",
      "metadata": {},
      "source": [
        "# [실습 프로젝트]\n",
        "\n",
        "1. 아래 샘플 문서들을 벡터 저장소에 저장하는 코드를 작성합니다. \n",
        "   - 적절한 벡터 저장소 선택 \n",
        "   - 임베딩 모델 설정\n",
        "   - 문서 구조 설계 (metadata 정의)\n",
        "\n",
        "2. 벡터 저장소를 사용하여 다음 기능을 구현합니다. \n",
        "   - 새로운 문서 추가\n",
        "   - 문서 삭제\n",
        "   - 문서 검색: 유사도 점수 계산, 메타데이터 기반 필터링 등 "
      ]
    },
    {
      "cell_type": "code",
      "execution_count": 60,
      "id": "1d11e893",
      "metadata": {},
      "outputs": [],
      "source": [
        "# 샘플 문서 데이터 \n",
        "documents = [\n",
        "    {\"content\": \"인공지능 기술의 발전과 미래\", \"type\": \"article\", \"author\": \"김철수\"},\n",
        "    {\"content\": \"데이터 분석 입문 가이드\", \"type\": \"tutorial\", \"author\": \"이영희\"},\n",
        "    {\"content\": \"머신러닝 모델 성능 개선 방법\", \"type\": \"research\", \"author\": \"박지성\"},\n",
        "    {\"content\": \"블록체인 기술과 금융 혁신\", \"type\": \"article\", \"author\": \"정민우\"},\n",
        "    {\"content\": \"클라우드 컴퓨팅 아키텍처 설계\", \"type\": \"tutorial\", \"author\": \"강다은\"},\n",
        "    {\"content\": \"사이버 보안 위협 대응 전략\", \"type\": \"research\", \"author\": \"홍길동\"},\n",
        "    {\"content\": \"빅데이터 처리 시스템 구축 사례\", \"type\": \"article\", \"author\": \"송지원\"},\n",
        "    {\"content\": \"웹 개발자를 위한 REST API 가이드\", \"type\": \"tutorial\", \"author\": \"임성준\"},\n",
        "    {\"content\": \"자연어 처리 알고리즘 비교 연구\", \"type\": \"research\", \"author\": \"최유진\"},\n",
        "    {\"content\": \"디지털 트랜스포메이션 성공 전략\", \"type\": \"article\", \"author\": \"백승호\"},\n",
        "    {\"content\": \"파이썬으로 시작하는 데이터 시각화\", \"type\": \"tutorial\", \"author\": \"유미란\"},\n",
        "    {\"content\": \"강화학습을 활용한 게임 AI 개발\", \"type\": \"research\", \"author\": \"조현우\"},\n",
        "    {\"content\": \"5G 네트워크 기술 동향\", \"type\": \"article\", \"author\": \"윤서연\"},\n",
        "    {\"content\": \"도커 컨테이너 실전 가이드\", \"type\": \"tutorial\", \"author\": \"장민석\"},\n",
        "    {\"content\": \"추천 시스템 최적화 연구\", \"type\": \"research\", \"author\": \"신영수\"},\n",
        "    {\"content\": \"스마트 시티 구현 기술\", \"type\": \"article\", \"author\": \"권태영\"},\n",
        "    {\"content\": \"깃허브 활용 협업 가이드\", \"type\": \"tutorial\", \"author\": \"오지훈\"},\n",
        "    {\"content\": \"컴퓨터 비전 응용 사례 연구\", \"type\": \"research\", \"author\": \"남궁민\"},\n",
        "    {\"content\": \"양자 컴퓨팅의 현재와 미래\", \"type\": \"article\", \"author\": \"하은주\"},\n",
        "    {\"content\": \"리액트 네이티브 앱 개발 입문\", \"type\": \"tutorial\", \"author\": \"문동현\"},\n",
        "    {\"content\": \"음성인식 시스템 성능 평가\", \"type\": \"research\", \"author\": \"심준호\"},\n",
        "    {\"content\": \"메타버스 플랫폼 개발 동향\", \"type\": \"article\", \"author\": \"류아린\"},\n",
        "    {\"content\": \"NoSQL 데이터베이스 설계 패턴\", \"type\": \"tutorial\", \"author\": \"반승현\"},\n",
        "    {\"content\": \"엣지 컴퓨팅 적용 사례 연구\", \"type\": \"research\", \"author\": \"주민정\"},\n",
        "    {\"content\": \"디지털 헬스케어 기술 혁신\", \"type\": \"article\", \"author\": \"구본우\"},\n",
        "    {\"content\": \"마이크로서비스 아키텍처 구현\", \"type\": \"tutorial\", \"author\": \"염지현\"},\n",
        "    {\"content\": \"강화학습 기반 로봇 제어 연구\", \"type\": \"research\", \"author\": \"탁현우\"},\n",
        "    {\"content\": \"친환경 IT 인프라 구축 방안\", \"type\": \"article\", \"author\": \"방승미\"},\n",
        "    {\"content\": \"프론트엔드 성능 최적화 기법\", \"type\": \"tutorial\", \"author\": \"곽준영\"},\n",
        "    {\"content\": \"시계열 데이터 예측 모델 연구\", \"type\": \"research\", \"author\": \"추민서\"}\n",
        "]"
      ]
    },
    {
      "cell_type": "code",
      "execution_count": 61,
      "id": "6a79cb00",
      "metadata": {},
      "outputs": [],
      "source": [
        "# Document 객체 생성\n",
        "from langchain_core.documents import Document\n",
        "\n",
        "doc_objects = []\n",
        "\n",
        "for i, doc in enumerate(documents): \n",
        "    doc_obj = Document(\n",
        "        page_content=doc[\"content\"],\n",
        "        metadata={\"type\": doc[\"type\"], \"author\": doc[\"author\"]},\n",
        "    )\n",
        "    doc_objects.append(doc_obj)\n",
        "\n",
        "# uuid 생성\n",
        "import uuid\n",
        "\n",
        "doc_ids = [str(uuid.uuid4()) for _ in range(len(doc_objects))]\n",
        "\n",
        "### 여기에 나머지 코드를 작성하세요 ###\n",
        "\n"
      ]
    },
    {
      "cell_type": "code",
      "execution_count": 63,
      "id": "52e0575b",
      "metadata": {},
      "outputs": [
        {
          "ename": "AttributeError",
          "evalue": "'Chroma' object has no attribute 'collection_name'",
          "output_type": "error",
          "traceback": [
            "\u001b[31m---------------------------------------------------------------------------\u001b[39m",
            "\u001b[31mAttributeError\u001b[39m                            Traceback (most recent call last)",
            "\u001b[36mCell\u001b[39m\u001b[36m \u001b[39m\u001b[32mIn[63]\u001b[39m\u001b[32m, line 21\u001b[39m\n\u001b[32m     19\u001b[39m \u001b[38;5;66;03m# 문서 추가 (초기 일괄 추가)\u001b[39;00m\n\u001b[32m     20\u001b[39m added_ids = chroma_db.add_documents(documents=doc_objects, ids=doc_ids)\n\u001b[32m---> \u001b[39m\u001b[32m21\u001b[39m \u001b[38;5;28mprint\u001b[39m(\u001b[33mf\u001b[39m\u001b[33m\"\u001b[39m\u001b[38;5;132;01m{\u001b[39;00m\u001b[38;5;28mlen\u001b[39m(added_ids)\u001b[38;5;132;01m}\u001b[39;00m\u001b[33m documents added to Chroma (collection=\u001b[39m\u001b[38;5;132;01m{\u001b[39;00m\u001b[43mchroma_db\u001b[49m\u001b[43m.\u001b[49m\u001b[43mcollection_name\u001b[49m\u001b[38;5;132;01m}\u001b[39;00m\u001b[33m)\u001b[39m\u001b[33m\"\u001b[39m)\n\u001b[32m     23\u001b[39m \u001b[38;5;66;03m# 유틸리티 함수들: 추가, 삭제, 검색\u001b[39;00m\n\u001b[32m     24\u001b[39m \u001b[38;5;28;01mfrom\u001b[39;00m\u001b[38;5;250m \u001b[39m\u001b[34;01mtyping\u001b[39;00m\u001b[38;5;250m \u001b[39m\u001b[38;5;28;01mimport\u001b[39;00m List, Optional, Tuple\n",
            "\u001b[31mAttributeError\u001b[39m: 'Chroma' object has no attribute 'collection_name'"
          ]
        }
      ],
      "source": [
        "# ...existing code...\n",
        "\n",
        "# 벡터 저장소에 문서 저장 및 관리 기능 구현 (Chroma 사용)\n",
        "try:\n",
        "    chroma_db  # reuse if already defined in notebook\n",
        "except NameError:\n",
        "    from langchain_chroma import Chroma\n",
        "    try:\n",
        "        embeddings_model  # reuse if already defined\n",
        "    except NameError:\n",
        "        from langchain_huggingface.embeddings import HuggingFaceEmbeddings\n",
        "        embeddings_model = HuggingFaceEmbeddings(model_name=\"BAAI/bge-m3\")\n",
        "    chroma_db = Chroma(\n",
        "        collection_name=\"project_documents_collection\",\n",
        "        embedding_function=embeddings_model,\n",
        "        persist_directory=\"./chroma_db_project\",\n",
        "    )\n",
        "\n",
        "# 문서 추가 (초기 일괄 추가)\n",
        "added_ids = chroma_db.add_documents(documents=doc_objects, ids=doc_ids)\n",
        "print(f\"{len(added_ids)} documents added to Chroma (collection={chroma_db.collection_name})\")\n",
        "\n",
        "# 유틸리티 함수들: 추가, 삭제, 검색\n",
        "from typing import List, Optional, Tuple\n",
        "import uuid\n",
        "\n",
        "def add_new_document(content: str, doc_type: str, author: str) -> str:\n",
        "    \"\"\"새 문서를 벡터 저장소에 추가하고 생성된 id 반환\"\"\"\n",
        "    new_doc = Document(page_content=content, metadata={\"type\": doc_type, \"author\": author})\n",
        "    new_id = str(uuid.uuid4())\n",
        "    chroma_db.add_documents(documents=[new_doc], ids=[new_id])\n",
        "    print(f\"Added document id={new_id}\")\n",
        "    return new_id\n",
        "\n",
        "def delete_documents_by_ids(ids: List[str]) -> None:\n",
        "    \"\"\"지정한 id 리스트를 벡터 저장소에서 삭제\"\"\"\n",
        "    chroma_db.delete(ids=ids)\n",
        "    print(f\"Deleted ids: {ids}\")\n",
        "\n",
        "def search_documents(query: str, k: int = 3, filter: Optional[dict] = None, with_score: bool = False) -> List:\n",
        "    \"\"\"\n",
        "    검색 함수.\n",
        "    - with_score=False: Document 리스트 반환\n",
        "    - with_score=True: List of (Document, score) 반환 (score: 거리 or 유사도 depending on backend)\n",
        "    \"\"\"\n",
        "    if with_score:\n",
        "        results = chroma_db.similarity_search_with_score(query, k=k, filter=filter)\n",
        "    else:\n",
        "        results = chroma_db.similarity_search(query, k=k, filter=filter)\n",
        "    return results\n",
        "\n",
        "# 사용 예시\n",
        "# 1) 새로운 문서 추가\n",
        "new_id = add_new_document(\"AI 기반 추천 시스템 설계 사례\", \"research\", \"테스트저자\")\n",
        "\n",
        "# 2) 검색 - 메타데이터 필터링 (type이 article인 문서 중에서)\n",
        "query = \"인공지능 기술\"\n",
        "results_filtered = search_documents(query, k=5, filter={\"type\": \"article\"}, with_score=False)\n",
        "print(f\"\\nSearch results (filtered by type=article) for '{query}':\")\n",
        "for doc in results_filtered:\n",
        "    print(f\"- id: {getattr(doc, 'metadata', {}).get('id', 'N/A')}, content: {doc.page_content[:80]} , metadata: {doc.metadata}\")\n",
        "\n",
        "# 3) 검색 - 점수 포함 (상위 3개)\n",
        "results_with_score = search_documents(\"추천 시스템\", k=3, with_score=True)\n",
        "print(f\"\\nSearch results with scores for '추천 시스템':\")\n",
        "for doc, score in results_with_score:\n",
        "    print(f\"- score: {score:.4f}, content: {doc.page_content[:80]}, metadata: {doc.metadata}\")\n",
        "\n",
        "# 4) 문서 삭제 (예시: 방금 추가한 문서 삭제)\n",
        "delete_documents_by_ids([new_id])\n",
        "\n",
        "# 영구 저장 (Chroma에 persist가 동작하는 경우)\n",
        "try:\n",
        "    chroma_db.persist()\n",
        "    print(\"Chroma DB persisted to disk.\")\n",
        "except Exception:\n",
        "    # 일부 langchain_chroma 버전은 persist()를 지원하지 않음\n",
        "    pass"
      ]
    }
  ],
  "metadata": {
    "kernelspec": {
      "display_name": "modu",
      "language": "python",
      "name": "python3"
    },
    "language_info": {
      "codemirror_mode": {
        "name": "ipython",
        "version": 3
      },
      "file_extension": ".py",
      "mimetype": "text/x-python",
      "name": "python",
      "nbconvert_exporter": "python",
      "pygments_lexer": "ipython3",
      "version": "3.12.11"
    }
  },
  "nbformat": 4,
  "nbformat_minor": 5
}
