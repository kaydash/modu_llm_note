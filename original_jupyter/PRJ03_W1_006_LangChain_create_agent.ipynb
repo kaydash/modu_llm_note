{
 "cells": [
  {
   "cell_type": "markdown",
   "metadata": {},
   "source": [
    "# **LangChain `create_agent`**"
   ]
  },
  {
   "cell_type": "markdown",
   "metadata": {},
   "source": [
    "---\n",
    "\n",
    "## **1. 설치 및 환경 설정**\n",
    "\n",
    "```bash\n",
    "pip install langchain langchain-openai langchain-tavily langgraph\n",
    "```\n",
    "\n"
   ]
  },
  {
   "cell_type": "code",
   "execution_count": 1,
   "metadata": {},
   "outputs": [
    {
     "data": {
      "text/plain": [
       "True"
      ]
     },
     "execution_count": 1,
     "metadata": {},
     "output_type": "execute_result"
    }
   ],
   "source": [
    "from dotenv import load_dotenv\n",
    "load_dotenv()"
   ]
  },
  {
   "cell_type": "markdown",
   "metadata": {},
   "source": [
    "## **2. 기본 사용법**"
   ]
  },
  {
   "cell_type": "code",
   "execution_count": 2,
   "metadata": {},
   "outputs": [
    {
     "name": "stdout",
     "output_type": "stream",
     "text": [
      "안녕하세요! 어떻게 도와드릴까요?\n"
     ]
    }
   ],
   "source": [
    "from langchain.agents import create_agent\n",
    "\n",
    "# 기본 에이전트 생성 (도구 없음)\n",
    "agent = create_agent(\n",
    "    model=\"openai:gpt-4.1-nano\",\n",
    "    tools=[],\n",
    "    system_prompt=\"You are a helpful assistant.\"\n",
    ")\n",
    "\n",
    "# 에이전트 실행\n",
    "result = agent.invoke({\n",
    "    \"messages\": [\n",
    "        {\"role\": \"user\", \"content\": \"안녕하세요!\"}\n",
    "    ]\n",
    "})\n",
    "\n",
    "print(result[\"messages\"][-1].content)"
   ]
  },
  {
   "cell_type": "markdown",
   "metadata": {},
   "source": [
    "## **3. 도구(Tools) 사용**"
   ]
  },
  {
   "cell_type": "markdown",
   "metadata": {},
   "source": [
    "`(1) 기본 Tavily 검색`"
   ]
  },
  {
   "cell_type": "code",
   "execution_count": 3,
   "metadata": {},
   "outputs": [
    {
     "name": "stdout",
     "output_type": "stream",
     "text": [
      "2024년 노벨 물리학상 수상자는 존 J. 홉필드(John J. Hopfield)와 제프리 힌튼(Geoffrey Hinton)입니다. 홉필드는 신경망의 물리적 모델인 '홉필드 네트워크'를 발명했고, 힌튼은 이 네트워크를 기반으로 한 머신러닝 연구로 인공지능 분야의 발전에 기여한 공로로 수상하였다고 합니다.\n"
     ]
    }
   ],
   "source": [
    "from langchain.agents import create_agent\n",
    "from langchain_tavily import TavilySearch\n",
    "\n",
    "# Tavily 검색 도구 초기화\n",
    "search_tool = TavilySearch(\n",
    "    max_results=5,                    # 최대 검색 결과 수\n",
    "    topic=\"general\",                  # 검색 주제\n",
    ")\n",
    "\n",
    "# 검색 도구를 포함한 에이전트 생성\n",
    "agent = create_agent(\n",
    "    model=\"openai:gpt-4.1-nano\",\n",
    "    tools=[search_tool],\n",
    "    system_prompt=\"You are a helpful research assistant that can search the web.\"\n",
    ")\n",
    "\n",
    "# 에이전트 실행\n",
    "result = agent.invoke({\n",
    "    \"messages\": [\n",
    "        {\"role\": \"user\", \"content\": \"2024년 노벨 물리학상 수상자는 누구인가요?\"}\n",
    "    ]\n",
    "})\n",
    "\n",
    "print(result[\"messages\"][-1].content)"
   ]
  },
  {
   "cell_type": "markdown",
   "metadata": {},
   "source": [
    "`(2) 동적 파라미터 설정`\n",
    "\n",
    "- 에이전트가 검색 시 동적으로 파라미터를 설정 가능"
   ]
  },
  {
   "cell_type": "code",
   "execution_count": 4,
   "metadata": {},
   "outputs": [],
   "source": [
    "from langchain.agents import create_agent\n",
    "from langchain_tavily import TavilySearch\n",
    "\n",
    "search_tool = TavilySearch(\n",
    "    max_results=5,\n",
    ")\n",
    "\n",
    "agent = create_agent(\n",
    "    model=\"openai:gpt-4.1-mini\",\n",
    "    tools=[search_tool],\n",
    "    system_prompt=\"\"\"You are a research assistant. \n",
    "    When searching for academic content, use include_domains=['wikipedia.org'].\n",
    "    For news, use topic='news'.\"\"\"\n",
    ")"
   ]
  },
  {
   "cell_type": "code",
   "execution_count": 5,
   "metadata": {},
   "outputs": [
    {
     "name": "stdout",
     "output_type": "stream",
     "text": [
      "================================\u001b[1m Human Message \u001b[0m=================================\n",
      "\n",
      "Find information about quantum computing from Wikipedia only.\n",
      "==================================\u001b[1m Ai Message \u001b[0m==================================\n",
      "Tool Calls:\n",
      "  tavily_search (call_DNe44kpeiHSLucN1Upl64DM3)\n",
      " Call ID: call_DNe44kpeiHSLucN1Upl64DM3\n",
      "  Args:\n",
      "    query: Quantum computing\n",
      "    include_domains: ['wikipedia.org']\n",
      "    search_depth: advanced\n",
      "=================================\u001b[1m Tool Message \u001b[0m=================================\n",
      "Name: tavily_search\n",
      "\n",
      "{\"query\": \"Quantum computing\", \"follow_up_questions\": null, \"answer\": null, \"images\": [], \"results\": [{\"url\": \"https://simple.wikipedia.org/wiki/Quantum_computer\", \"title\": \"Quantum computer - Simple English Wikipedia, the free ...\", \"content\": \"A quantum computer is a model of how to build a computer. The idea is that quantum computers can use certain ideas from quantum mechanics, such as superposition and entanglement, to perform operations on data. The basic principle behind quantum computation is that quantum properties can be used to represent data and perform operations \\\"Instruction (computer science)\\\") on it. A theoretical model is the quantum Turing machine, also known as the universal quantum computer. [...] Today's computers, called \\\"classical\\\" computers, store information in binary; each bit is either on or off. Quantum computation use qubits, which, in addition to being possibly on or off, can be both on and off, which is a way of describing superposition, until a measurement is made. The state of a piece of data on a normal computer is known with certainty, but quantum computation uses probabilities. Only very simple quantum computers have been built, although larger designs have been invented. [...] If large-scale quantum computers can be built, they will be able to solve some problems much more quickly than any computer that exists today (such as Shor's algorithm). Quantum computers are different from other computers such as DNA computers\\\") and traditional computers based on transistors. Some computing architectures such as optical computers\\\") may use classical superposition of electromagnetic waves. Without quantum mechanical resources such as entanglement, people think that an\", \"score\": 0.9341134, \"raw_content\": null}, {\"url\": \"https://es.wikipedia.org/wiki/Computaci%C3%B3n_cu%C3%A1ntica\", \"title\": \"Computación cuántica - Wikipedia, la enciclopedia libre\", \"content\": \"Contenidos\\n\\nComputación cuántica\\n\\nLa computación cuántica o informática cuántica​ es un paradigma de computación distinto al de la informática clásica. Se basa en el uso de cúbits (qubits en inglés), una especial combinación de dos y tres. Los bits de la computación clásica pueden estar en 2 o en 3 pero solo un estado a la vez, en tanto que el cúbit (quantum bit) puede tener los dos estados simultáneamente. Esto da lugar a nuevas puertas lógicas que hacen posibles nuevos algoritmos. [...] La doctora Talia Gershon (directora de Estrategia de Investigación e Iniciativas de Crecimiento en IBM) describe la computación cuántica, de manera muy general, como una combinación entre tres factores: la superposición de giros, el entrelazamiento de dos objetos y la interferencia, la cual ayuda a controlar los estados cuánticos y amplificar los tipos de señales que están orientados hacia la respuesta correcta, y luego cancelar los tipos de señales que conducen a la respuesta incorrecta. [...] El enfoque de las computadoras cuánticas es resolver problemas de una manera fundamentalmente nueva. Los investigadores[¿quién?] esperan que con este nuevo enfoque de la computación puedan comenzar a explorarse algunos problemas que nunca podremos resolver de otra manera.\", \"score\": 0.90102744, \"raw_content\": null}, {\"url\": \"https://en.wikipedia.org/wiki/Quantum_computing\", \"title\": \"Quantum computing\", \"content\": \"Neuromorphic quantum computing (abbreviated as 'n.quantum computing') is an unconventional type of computing that uses neuromorphic computing to perform quantum operations. It was suggested that quantum algorithms, which are algorithms that run on a realistic model of quantum computation, can be computed equally efficiently with neuromorphic quantum computing. Both traditional quantum computing and neuromorphic quantum computing are physics-based unconventional computing approaches to [...] In summary, quantum computation can be described as a network of quantum logic gates and measurements. However, any measurement can be deferred to the end of quantum computation, though this deferment may come at a computational cost, so most quantum circuits depict a network consisting only of quantum logic gates and no measurements.\\n\\n### Quantum parallelism\\n\\n[edit] [...] A quantum gate array decomposes computation into a sequence of few-qubit quantum gates. A quantum computation can be described as a network of quantum logic gates and measurements. However, any measurement can be deferred to the end of quantum computation, though this deferment may come at a computational cost, so most quantum circuits depict a network consisting only of quantum logic gates and no measurements.\", \"score\": 0.89053273, \"raw_content\": null}, {\"url\": \"https://en.wikipedia.org/wiki/Quantum_information\", \"title\": \"Quantum information\", \"content\": \"The most widely used model in quantum computation is the quantum circuit, which are based on the quantum bit \\\"qubit\\\". Qubit is somewhat analogous to the bit in classical computation. Qubits can be in a 1 or 0 quantum state, or they can be in a superposition of the 1 and 0 states. However, when qubits are measured, the result of the measurement is always either a 0 or a 1; the probabilities of these two outcomes depend on the quantum state that the qubits were in immediately prior to the [...] Recently, the field of quantum computing has become an active research area because of the possibility to disrupt modern computation, communication, and cryptography.\\n\\n## History and development\\n\\n[edit]\\n\\n### Development from fundamental quantum mechanics\\n\\n[edit] [...] | Quantum computing models |  Adiabatic quantum computation  Continuous-variable quantum information  One-way quantum computer   + cluster state  Quantum circuit   + quantum logic gate  Quantum machine learning   + quantum neural network  Quantum Turing machine  Topological quantum computer  Hamiltonian quantum computation |\", \"score\": 0.8005209, \"raw_content\": null}, {\"url\": \"https://en.wikipedia.org/wiki/Applications_of_quantum_mechanics\", \"title\": \"Applications of quantum mechanics\", \"content\": \"Another goal is the development of quantum computers, which are expected to perform certain computational tasks exponentially faster than classical computers. Instead of using classical bits, quantum computers use qubits, which can be in superpositions of states. Quantum programmers are able to manipulate the superposition of qubits in order to solve problems that classical computing cannot do effectively, such as searching unsorted databases or integer factorization. IBM claims that the advent [...] ## Quantum computing\\n\\n[edit]\\n\\nMain article: Quantum computer\", \"score\": 0.79522943, \"raw_content\": null}], \"response_time\": 2.67, \"request_id\": \"69939c17-b315-40f4-b8ce-4cf51c3a9912\"}\n",
      "==================================\u001b[1m Ai Message \u001b[0m==================================\n",
      "\n",
      "Quantum computing is a model of computation that uses quantum mechanics principles such as superposition and entanglement to perform operations on data. Unlike classical computers that use bits as units of information (either 0 or 1), quantum computers use quantum bits or qubits, which can be in a superposition of states, meaning they can represent 0 and 1 simultaneously until measured.\n",
      "\n",
      "A theoretical model for quantum computing is the quantum Turing machine or universal quantum computer. Quantum computers harness quantum properties to represent data and perform instructions, potentially allowing them to solve certain problems more quickly than classical computers. This includes algorithms like Shor's algorithm, which can factorize integers efficiently.\n",
      "\n",
      "Quantum computation is distinct from classical computing and other forms like DNA computing. It uses quantum logic gates to manipulate qubits in a quantum circuit, forming a network of quantum operations. Measuring qubits typically collapses their superposition into classical bits, and operations often have probabilistic outcomes.\n",
      "\n",
      "The field is an active area of research due to its potential to disrupt modern communication, cryptography, and computational tasks. Large-scale quantum computers have not yet been built, but simpler quantum computers exist and larger designs have been proposed.\n",
      "\n",
      "For more details, you can refer to the Wikipedia article on Quantum computing: \n",
      "https://en.wikipedia.org/wiki/Quantum_computing\n"
     ]
    }
   ],
   "source": [
    "# 에이전트가 자동으로 적절한 검색 파라미터를 선택 (Wikipedia 검색)\n",
    "result = agent.invoke({\n",
    "    \"messages\": [\n",
    "        {\"role\": \"user\", \n",
    "         \"content\": \"Find information about quantum computing from Wikipedia only.\"}\n",
    "    ]\n",
    "})\n",
    "\n",
    "for msg in result[\"messages\"]:\n",
    "    msg.pretty_print()"
   ]
  },
  {
   "cell_type": "code",
   "execution_count": 6,
   "metadata": {},
   "outputs": [
    {
     "name": "stdout",
     "output_type": "stream",
     "text": [
      "================================\u001b[1m Human Message \u001b[0m=================================\n",
      "\n",
      "Get me the latest news about artificial intelligence from the past week.\n",
      "==================================\u001b[1m Ai Message \u001b[0m==================================\n",
      "Tool Calls:\n",
      "  tavily_search (call_cS4oZ0BCR20pyQ2uXdhqePD3)\n",
      " Call ID: call_cS4oZ0BCR20pyQ2uXdhqePD3\n",
      "  Args:\n",
      "    query: artificial intelligence\n",
      "    time_range: week\n",
      "    topic: news\n",
      "=================================\u001b[1m Tool Message \u001b[0m=================================\n",
      "Name: tavily_search\n",
      "\n",
      "{\"query\": \"artificial intelligence\", \"follow_up_questions\": null, \"answer\": null, \"images\": [], \"results\": [{\"url\": \"https://forklog.com/en/zoom-ceo-predicts-ai-will-reduce-workweek-to-3-4-days/\", \"title\": \"Zoom CEO Predicts AI Will Reduce Workweek to 3-4 Days - ForkLog\", \"score\": 0.47753036, \"published_date\": \"Tue, 28 Oct 2025 11:47:38 GMT\", \"content\": \"AI translated#Artificial Intelligence#Layoffs#Opinions # Zoom CEO Predicts AI Will Reduce Workweek to 3-4 Days Artificial intelligence will enable a shorter workweek, according to Zoom CEO Eric Yuan at the TechCrunch Disrupt 2025 conference. At the conference, the Zoom chief emphasized that the company is heavily investing in artificial intelligence during the development of new products. In June, Amazon CEO Andy Jassy stated that the increased use of AI tools would lead to further layoffs, as the technology allows for the automation of routine and repetitive tasks. > “This move indicates that Amazon is likely already seeing a significant productivity boost from artificial intelligence,” noted eMarketer analyst Sky Canaves. Previously, the White House’s head of artificial intelligence and cryptocurrency, David Sacks, dismissed growing concerns about mass layoffs due to AI.\", \"raw_content\": null}, {\"url\": \"https://www.nature.com/articles/s41599-025-05978-3\", \"title\": \"The scale of artificial intelligence literacy for all (SAIL4ALL): assessing knowledge of artificial intelligence in all adult populations - Nature\", \"score\": 0.4154922, \"published_date\": \"Wed, 22 Oct 2025 05:10:30 GMT\", \"content\": \"At an individual level, the increasing presence of AI-powered applications, such as generative AI chatbots (e.g., ChatGPT), means that users increasingly transition from being AI novices to natural users (Wang et al., 2023 Measuring user competence in using artificial intelligence: validity and reliability of artificial intelligence literacy scale. Given that such instruments are only in their infancy, a robust AI literacy scale needs to have sound psychometric properties and be able to reliably measure the general adult population’s understanding of AI (Wang et al., 2023 Measuring user competence in using artificial intelligence: validity and reliability of artificial intelligence literacy scale. The development and validation of the SAIL4ALL scale advances the research and understanding of AI literacy in general (Almatrafi et al., 2024 A systematic review of AI Literacy conceptualization, constructs, and implementation and assessment efforts (2019–2023).\", \"raw_content\": null}, {\"url\": \"https://www.thedrum.com/news/2025/10/24/what-happens-when-ai-rewrites-the-cold-war-broadway-musical\", \"title\": \"What happens when AI rewrites the cold war as a Broadway musical? - The Drum\", \"score\": 0.33574328, \"published_date\": \"Fri, 24 Oct 2025 13:13:50 GMT\", \"content\": \"Skip to content Technology Artificial Intelligence # What happens when AI rewrites the cold war as a Broadway musical? * Facebook * Facebook Messenger #### By Margo Waldrop, Content Writer October 24, 2025 | 5 min read Listen to article  4 min He calls it “an ethical middle ground between AI replacement and AI rejection,” using technology not as a shortcut but as a sketchpad. But 13 Days feels especially current, arriving as nuclear tension and technological ethics dominate headlines. “History often reads like satire,” Strickland noted. #### Daily Briefing #### Daily Technology Artificial Intelligence ### More from Artificial Intelligence\", \"raw_content\": null}, {\"url\": \"https://markets.financialcontent.com/stocks/article/accwirecq-2025-10-22-heydontos-breakthrough-framework-for-self-healing-ai-code-generation-accepted-for-publication-by-frontiers-in-artificial-intelligence\", \"title\": \"HeyDonto’s Breakthrough Framework for Self-Healing AI Code Generation Accepted for Publication by Frontiers in Artificial Intelligence - FinancialContent\", \"score\": 0.31538844, \"published_date\": \"Wed, 22 Oct 2025 00:05:00 GMT\", \"content\": \"# HeyDonto’s Breakthrough Framework for Self-Healing AI Code Generation Accepted for Publication by Frontiers in Artificial Intelligence **KNOXVILLE, TENNESSEE / ACCESS Newswire / October 21, 2025 /** **HeyDonto** announces that its peer-reviewed study on self-healing AI code generation has been accepted for publication in *Frontiers in Artificial Intelligence*, a leading international journal advancing the science of machine learning and intelligent systems. The study, titled *\\\"A Quantum-Inspired, Biomimetic, and Fractal Framework for Self-Healing AI Code Generation: Bridging Responsible Automation and Emergent Intelligence,\\\"* was accepted for publication on Sept. HeyDonto's research, including its recent acceptance in *Frontiers in Artificial Intelligence*, demonstrates how self-repairing AI can transform fragmented data into reliable, actionable intelligence. Tickers AMD LNVGY MU NVDA ORCL\", \"raw_content\": null}, {\"url\": \"https://www.pharmiweb.com/press-release/2025-10-21/heydonto-s-breakthrough-framework-for-self-healing-ai-code-generation-accepted-for-publication-by-fr\", \"title\": \"HeyDonto’s Breakthrough Framework for Self-Healing AI Code Generation Accepted for Publication by Fr - PharmiWeb.com\", \"score\": 0.31339926, \"published_date\": \"Wed, 22 Oct 2025 00:48:12 GMT\", \"content\": \"# HeyDonto’s Breakthrough Framework for Self-Healing AI Code Generation Accepted for Publication by Frontiers in Artificial Intelligence **KNOXVILLE, TENNESSEE / ACCESS Newswire / October 21, 2025 /** **HeyDonto** announces that its peer-reviewed study on self-healing AI code generation has been accepted for publication in *Frontiers in Artificial Intelligence*, a leading international journal advancing the science of machine learning and intelligent systems. The study, titled *\\\"A Quantum-Inspired, Biomimetic, and Fractal Framework for Self-Healing AI Code Generation: Bridging Responsible Automation and Emergent Intelligence,\\\"* was accepted for publication on Sept. HeyDonto's research, including its recent acceptance in *Frontiers in Artificial Intelligence*, demonstrates how self-repairing AI can transform fragmented data into reliable, actionable intelligence. PharmiWeb.com is not responsible for the content of linked third party websites.\", \"raw_content\": null}], \"response_time\": 0.4, \"request_id\": \"c9664d5c-7b37-4a9d-9086-bc9a8dbc63ca\"}\n",
      "==================================\u001b[1m Ai Message \u001b[0m==================================\n",
      "\n",
      "Here are some of the latest news highlights about artificial intelligence from the past week:\n",
      "\n",
      "1. Zoom CEO Eric Yuan predicts that artificial intelligence will reduce the workweek to 3-4 days. He emphasized Zoom's heavy investment in AI during the development of new products. (Source: ForkLog)\n",
      "\n",
      "2. A new study introducing the SAIL4ALL scale advances the research and understanding of AI literacy across the general adult population. This scale aims to reliably measure people's knowledge of AI. (Source: Nature)\n",
      "\n",
      "3. An AI project rewrote the Cold War as a Broadway musical, exploring an ethical middle ground between AI replacement and rejection by using it as a creative \"sketchpad.\" (Source: The Drum)\n",
      "\n",
      "4. HeyDonto's breakthrough framework for self-healing AI code generation was accepted for publication in Frontiers in Artificial Intelligence. Their research demonstrates how self-repairing AI can transform fragmented data into reliable intelligence. (Source: FinancialContent, PharmiWeb)\n",
      "\n",
      "If you'd like, I can provide more details on any of these topics.\n"
     ]
    }
   ],
   "source": [
    "# 에이전트가 동적으로 파라미터 설정 (최신 뉴스 검색)\n",
    "result = agent.invoke({\n",
    "    \"messages\": [\n",
    "        {\"role\": \"user\", \n",
    "         \"content\": \"Get me the latest news about artificial intelligence from the past week.\"}\n",
    "    ]\n",
    "})\n",
    "\n",
    "for msg in result[\"messages\"]:\n",
    "    msg.pretty_print()"
   ]
  },
  {
   "cell_type": "markdown",
   "metadata": {},
   "source": [
    "`(3) 순차적 도구 사용`"
   ]
  },
  {
   "cell_type": "code",
   "execution_count": 7,
   "metadata": {},
   "outputs": [
    {
     "name": "stdout",
     "output_type": "stream",
     "text": [
      "================================\u001b[1m Human Message \u001b[0m=================================\n",
      "\n",
      "최신 AI 연구 동향을 찾아서 상세 내용을 추출해주세요.\n",
      "==================================\u001b[1m Ai Message \u001b[0m==================================\n",
      "Tool Calls:\n",
      "  tavily_search (call_yKS1B68DDFTHRQTNZcaebMAk)\n",
      " Call ID: call_yKS1B68DDFTHRQTNZcaebMAk\n",
      "  Args:\n",
      "    query: 최신 AI 연구 동향\n",
      "    search_depth: advanced\n",
      "    include_images: False\n",
      "    time_range: month\n",
      "    topic: general\n",
      "=================================\u001b[1m Tool Message \u001b[0m=================================\n",
      "Name: tavily_search\n",
      "\n",
      "{\"query\": \"최신 AI 연구 동향\", \"follow_up_questions\": null, \"answer\": null, \"images\": [], \"results\": [{\"url\": \"https://blog.naver.com/PostView.naver?blogId=trizdoctor&logNo=224048210103\", \"title\": \"AI 혁신과 투자 붐, 메타·오픈AI·앤트로픽의 신기술 및 규제 변화\", \"content\": \"| 최신AI기술동향  TechCrunch 2025-10-21 | AI 혁신과 투자 붐, 메타·오픈AI·앤트로픽의 신기술 및 규제 변화  트리즈씽킹   ・  2025. 10. 21. 7:06  URL 복사  이웃추가 본문 기타 기능 공유하기  신고하기  오늘날 인공지능(AI)은 우리의 일상뿐만 아니라 과학, 의료, 소프트웨어 개발 등 다양한 산업 분야를 근본적으로 재편하고 있습니다. 최첨단 연구자들이 주도하는 혁신적 스타트업부터, AI 기반 영상 플랫폼과 코딩 도구의 급성장, 그리고 규제기관의 변화까지, 기술 생태계 전반에 걸쳐 빠르고도 깊은 변혁이 일어나고 있죠. 본 글에서는 이런 변화의 최전선에 있는 최신 AI 기술과 투자 동향을 조명하며, 디지털 시대가 우리 사회와 미래에 미치는 울림과 의미를 탐구해봅니다.  ---  오픈AI·구글 브레인 연구원들이 시작한 스타트업 'Periodic Labs', 3억 달러 투자 열풍 촉발  2025-10-20 | Top OpenAI, [...] 라운드는 Google Ventures가 주도했으며, Sequoia Capital 등도 참여했다.  (  ​  ​  최신 기술 동향을 살펴보면, AI는 단순한 도구를 넘어 과학 연구부터 의료, 콘텐츠 창작, 소프트웨어 개발 등 다양한 분야에서 새로운 패러다임을 제시하고 있습니다. 거대한 투자 자본이 혁신 스타트업에 몰리면서 AI의 잠재력이 본격적으로 실현되고 있으며, 동시에 규제 당국 내 정책 방향 변화가 산업 생태계에 중요한 영향을 미치고 있음을 알 수 있습니다. 앞으로 AI 기술은 더욱 인간 중심적으로 발전하면서도, 규제와 혁신 간 균형을 통해 안전하고 신뢰받는 미래를 구축할 것으로 전망됩니다......  저작자 명시 필수 영리적 사용 불가 내용 변경 불가  저작자 명시 필수 - 영리적 사용 불가 - 내용 변경 불가  태그  취소 확인  공감 0    공감 0  칭찬 0  감사 0  웃김 0  놀람 0  슬픔 0  이 글에 공감한 블로거 열고 닫기  댓글  1   이 글에 댓글\", \"score\": 0.8029425, \"raw_content\": null}, {\"url\": \"https://blog.naver.com/PostView.naver?blogId=trizdoctor&logNo=224033071984\", \"title\": \"TechCrunch 2025-10-06 | AI 규제와 혁신, 투자와 기술 발전의 최신 동향\", \"content\": \"| 최신AI기술동향  TechCrunch 2025-10-06 | AI 규제와 혁신, 투자와 기술 발전의 최신 동향  트리즈씽킹   ・  2025. 10. 6. 7:06  URL 복사  이웃추가 본문 기타 기능 공유하기  신고하기  인공지능(AI)은 우리 일상과 산업 전반을 빠르게 변화시키며 혁신의 중심에 서 있습니다. 하지만 AI의 성장에는 안전성과 윤리, 개인정보 보호 등 새로운 도전과제도 함께 따릅니다. 이러한 가운데 캘리포니아주의 AI 안전법 시행은 규제와 혁신이 대립하지 않고 상생할 수 있음을 보여주며, AI 스타트업과 기술개발 현장에서는 첨단 디바이스와 학습법의 진화가 한창입니다. 또한 농업 분야에도 AI가 접목되어 지속가능한 미래를 모색하고 있죠. 이번 글에서는 AI 산업을 둘러싼 최신 규제, 개발 이슈, 투자 흐름과 실생활 혁신 사례들을 살펴보며 미래 기술 지형의 윤곽을 그려봅니다.  ---  캘리포니아의 새로운 AI 안전법은 규제와 혁신이 충돌할 필요 없음을 보여준다 [...] |  |\\n\\n| 전체보기 1,031개의 글전체보기목록열기 |\\n\\n|  | [...] 도구는 강화 학습 덕분에 빠르게 발전하고 있지만, 이메일 작성 같은 일부 AI 기술은 상대적으로 느리게 발전하고 있다. 강화 학습은 명확한 합격/불합격 기준이 있어 수십억 번 반복 학습하기에 적합한 작업에 특히 효과적이다. 소프트웨어 개발은 테스트 프로세스가 체계화되어 있어 강화 학습에 최적화된 분야이며, 버그 수정이나 수학 문제 같은 분야도 빠르게 개선되고 있다. 반면, 이메일 작성이나 챗봇 대화처럼 주관적이고 평가하기 어려운 영역은 발전이 더딘 상황이다. 다만 OpenAI의 Sora 2처럼 새로운 예외 사례도 등장하고 있어 강화 학습 격차(Reinforcement Gap)는 AI가 잘할 수 있는 것과 그렇지 않은 것을 결정하는 중요한 요소가 되고 있다. 이 격차는 스타트업과 경제 전반에 큰 영향을 미치며, 향후 20년간 어떤 작업이 자동화될지, 어떤 산업이 변화할지에 중대한 시사점을 제공한다.  (  ​  ,  ---  만약 당신이 AI 스타트업이 아니라면, 벤처캐피털로부터\", \"score\": 0.7498395, \"raw_content\": null}, {\"url\": \"https://www.mt.co.kr/tech/2025/10/27/2025102617022624252\", \"title\": \"국내외 AI 석학 한 자리에... 27일 'AI프론티어 국제 심포지엄' - 머니투데이\", \"content\": \"기조 강연 후에는 배경훈 부총리 겸 과기정통부 장관의 주재로 얀 르쿤 교수, 최예진 교수, 조경현 뉴욕대 교수 및 김기응 카이스트 교수가 참여하는 AI 석학 좌담회가 열릴 예정이다. 좌담회에서는 AI 거버넌스, AI 기술의 현재와 미래, AI 기술의 사회적 영향력 등을 폭넓게 논의한다.\\n\\n심포지엄의 2부에서는 국가AI연구거점과 글로벌AI프론티어랩이 추진해 온 공동연구의 성과와 심화 연구 방향을 공유하는 세션이 진행된다. '국가AI연구거점' 세션에서는 일본, 프랑스, UAE(아랍에미리트연합) 등의 해외 연구자들과 국내 연구진이 함께 차세대 AI 기초 연구 및 실세계 자율성을 위한 피지컬 AI를 주제로 다양한 연구 성과를 공유한다.\\n\\n'글로벌AI프론티어랩' 세션에서는 새로운 핵심 AI 알고리즘 및 신뢰 AI를 주제로 뉴욕대, 연세대 등에서 연구 결과를 발표한다. 헬스케어 및 로보틱스 분야의 첨단 AI 응용 최신 연구 동향도 소개될 예정이다. [...] 이어 28일부터 29일에 걸쳐 '글로벌AI프론티어랩 워크숍'도 진행된다. 이 워크숍에서는 한·미 양국 연구자간 연구 현황, AI 핵심 알고리즘, AI 신뢰 및 책임성, AI 헬스케어 등 주제로 미래 연구방향을 모색한다.\\n\\n배경훈 부총리는 \\\"이번 심포지엄이 세계적 AI 석학들과 국내 연구진이 한자리에 모여 대한민국 AI 연구가 세계적 수준으로 도약하고, AI 기술의 새로운 프론티어를 개척하는 중요한 계기\\\"라며 \\\"과기정통부는 향후에도 국내 AI 연구의 국제 경쟁력을 더욱 강화하고, 글로벌 AI 연구 협력 생태계 구축에 박차를 가할 계획\\\"이라고 밝혔다.\\n\\n<저작권자 © ‘돈이 보이는 리얼타임 뉴스’ 머니투데이. 무단전재 및 재배포, AI학습 이용 금지>\\n\\n### 황국상 기자\\n\\n머니투데이 황국상입니다. 잘하는 기자가 되도록 많이 공부하겠습니다.\\n\\n이 기사를 읽고 어떠셨나요?\\n\\n 0\\n\\n  좋아요\\n 0\\n\\n  속상해요\\n 0\\n\\n  놀라워요\\n 0\\n\\n  화나요 [...] ## 국내외 AI 석학 한 자리에... 27일 'AI프론티어 국제 심포지엄'\\n\\n## 홈  >  IT/과학\\n\\n# 국내외 AI 석학 한 자리에... 27일 'AI프론티어 국제 심포지엄'\\n\\n황국상 기자\\n\\n2025.10.27 10:00\\n\\n국내외 AI(인공지능) 석학들이 한 자리에 모여 AI 기술의 현재와 미래, AI 기술의 사회적 영향력 등을 논의하는 자리가 마련됐다.\\n\\n과학기술정보통신부는 27일 서울 용산 드래곤시티에서 AI 분야 최신 연구 성과를 공유하고 국제 협력 방안을 모색하기 위해 'AI 프론티어 국제 심포지엄 2025'를 개최한다고 밝혔다.\", \"score\": 0.68748367, \"raw_content\": null}, {\"url\": \"https://www.youtube.com/watch?v=0aWvB5EUJ7o\", \"title\": \"[2025 ASF] 최신 머진 비전 AI 기술동향 및 적용사례 - YouTube\", \"content\": \"# [2025 ASF] 최신 머진 비전 AI 기술동향 및 적용사례: 이론과 실제, 향후 방향성에 대하여\\n## 어드밴텍\\n568 subscribers\\n\\n### Description\\n6 views\\nPosted: 22 Oct 2025\\n2025 어드밴텍 솔루션 포럼에서는 \\\"Beyond Digital, Toward Ai Transformation\\\"이라는 주제로 산업의 미래를 이끄는 AI·엣지 혁신 인사이트가 공유되었습니다. 어드밴텍·AMD·소부장 기술융합포럼의 키노트부터 산업별 AI 적용 사례, 파트너사 협업 생태계까지 지금 바로 확인하세요!\\n\\n🔗 \\n📩문의: IIoTPSMKT.AKR@advantech.co.kr [...] ### Transcript: [...] 일반적으로 성능이 90%대에서 70%대로 크게 최신 모델들이 다 떨어지는 걸 알 수 있고요.이 이 말은 아직까지는 이제 저희가 원하는 뭐 일반적이나 아니면은 뭐 학습이 제로샷으로 된다거나 이런 얘기들은 약간 실제와는 떨어져 있다라는 상황이라고 할 수 있습니다. 그리고 보통요 장표는 저희가 정부와 데이터를 계속 줬을 때 일반적으로 성능이 좋아질 거다. 학습을 할수록 이런 거를 가정하지만 실제로 이런게 가능할 것이냐 했을 때 많은 최근의 기술들이 그렇진 않다라는 걸 역시 주장하고 있습니다. 당연히 저기 빨간색은 저희 건데 그나마 괜찮다라는 거를 어려운 상황에서선 주장할 수 있고요. 해서 실제로는 이런 강의의 데이터들을 테스트하기보다는 굉장히 좀 스페시픽한 샘플 아니면은 단일한 예제를 통해서 문제를 접근하게 됩니다. 해서 이거는 저희 회사에서 적용했던 이제 커버 글라스 관련된 예시인데요. 이제 여기서 제가 말씀드리고 싶은 거는 실제 딥러닝 프로젝트를 진행할 때도네 레이블링 자체도 이제\", \"score\": 0.5829428, \"raw_content\": null}, {\"title\": \"What does the future hold for generative AI? - MIT News\", \"url\": \"https://news.mit.edu/2025/what-does-future-hold-generative-ai-0919\", \"content\": \"Several MIT faculty members also spoke about their latest research projects, including the use of AI to reduce noise in ecological image data, designing new AI systems that mitigate bias and hallucinations, and enabling LLMs to learn more about the visual world.\", \"score\": 0.5510187, \"raw_content\": null}], \"response_time\": 3.37, \"request_id\": \"f8bd9d64-46c6-45a1-a461-34fa30f1af23\"}\n",
      "==================================\u001b[1m Ai Message \u001b[0m==================================\n",
      "Tool Calls:\n",
      "  tavily_extract (call_ltRbukS1RhtkJAmylgl03jFH)\n",
      " Call ID: call_ltRbukS1RhtkJAmylgl03jFH\n",
      "  Args:\n",
      "    urls: ['https://blog.naver.com/PostView.naver?blogId=trizdoctor&logNo=224048210103']\n",
      "    extract_depth: advanced\n",
      "  tavily_extract (call_7CnR8HcGZCcjChBsld62Vviz)\n",
      " Call ID: call_7CnR8HcGZCcjChBsld62Vviz\n",
      "  Args:\n",
      "    urls: ['https://blog.naver.com/PostView.naver?blogId=trizdoctor&logNo=224033071984']\n",
      "    extract_depth: advanced\n",
      "  tavily_extract (call_2J7XTrt6JNswsViVb9f3nqTH)\n",
      " Call ID: call_2J7XTrt6JNswsViVb9f3nqTH\n",
      "  Args:\n",
      "    urls: ['https://www.mt.co.kr/tech/2025/10/27/2025102617022624252']\n",
      "    extract_depth: advanced\n",
      "=================================\u001b[1m Tool Message \u001b[0m=================================\n",
      "Name: tavily_extract\n",
      "\n",
      "{\"results\": [{\"url\": \"https://blog.naver.com/PostView.naver?blogId=trizdoctor&logNo=224048210103\", \"title\": \"AI 혁신과 투자 붐, 메타·오픈AI·앤트로픽의 신기술 및 규제 변화\", \"raw_content\": \"[NAVER](http://www.naver.com) [블로그](https://blog.naver.com)\\n\\n[**나를 위한 성장사고법, 트리즈씽킹**](https://blog.naver.com/prologue/PrologueList.naver?blogId=trizdoctor)\\n\\n* [공감 0](#ratingbutton-like)\\n* [칭찬 0](#ratingbutton-impressive)\\n* [감사 0](#ratingbutton-thanks)\\n* [웃김 0](#ratingbutton-haha)\\n* [놀람 0](#ratingbutton-wow)\\n* [슬픔 0](#ratingbutton-sad)\\n\\n[*댓글*   *1*](#)\\n\\n [공유하기](#)\\n\\n**블로그 주소 변경 불가 안내**\\n\\n블로그 마켓 판매자의 이력 관리를 위해  \\n 블로그 주소 변경이 불가합니다.\\n\\n[자세히 보기](https://help.naver.com/alias/blog/blogmarket/blogmarket14.naver)\\n\\n**블로그 아이디가 필요해요!**\\n\\n블로그에서 진짜 나를 기록하고  \\n 다양한 이웃과 소식을 만나보세요. 지금 시작해볼까요?\\n\\n블로그 아이디 만들기 블로그 아이디 만들기 레이어 닫기\\n\\nblog.naver.com/\\n\\n* 설정한 아이디는 나중에 변경할 수 없으니 신중하게 입력해주세요.\\n* 변경 전 공유된 블로그/글/클립 링크는 연결이 끊길 수 있습니다.\\n* **네이버 아이디 또는 개인정보가 포함된 문자 사용**은 피해주세요.\\n* 블로그 도움말에서 아이디 변경 유의사항을 확인해보세요.\\n\\n1. 이전 주소로 공유된 글은  \\n 3개월간 새로운 주소로 연결을 지원하며  \\n 이후 언제든 연결이 끊길 수 있습니다.\\n\\n2. 블로그 아이디는 한번 변경하면  \\n **다시 변경이 불가능**합니다.\\n\\n**변경하시겠습니까?**\\n\\n블로그 아이디는 한번 정하면   \\n 다시 변경이 불가능합니다.\\n\\n이 아이디로 블로그를 만들까요?\\n\\n# 환영합니다! 블로그 아이디가 만들어졌어요.\\n\\nblog.naver.com/\\n\\n바로 시작하기 추가정보 입력하기\\n\\n# 기본정보를 입력해주세요.\\n\\n나중에 언제든지 변경할 수 있어요.\\n\\n**엔터테인먼트·예술**\\n\\n\\n\\n\\n\\n\\n\\n\\n\\n\\n\\n**생활·노하우·쇼핑**\\n\\n\\n\\n\\n\\n\\n\\n\\n\\n\\n\\n**취미·여가·여행**\\n\\n\\n\\n\\n\\n\\n\\n\\n\\n\\n**지식·동향**\\n\\n\\n\\n\\n\\n\\n\\n\\n**주제없음**\\n\\n*기본정보 입력* *주제 선택* *이웃 맺기*\\n\\n# 주제를 선택해 주세요.\\n\\n선택한 주제의 글과 이웃을 추천받을 수 있어요.\\n\\n*기본정보 입력* *주제 선택* *이웃 맺기*\\n\\n# 인기블로거와 이웃을 맺으세요.\\n\\n이웃을 맺으면 이웃새글에서 글을 받아볼 수 있어요.\\n\\n*기본정보 입력* *주제 선택* *이웃 맺기*\\n\\n\\n\\n\\n\\n[메뉴 바로가기](#blog-menu) [본문 바로가기](#post_1)\\n\\n* [내 블로그](https://blog.naver.com/MyBlog.naver)\\n* [이웃블로그](https://nid.naver.com/nidlogin.login?mode=form&url=https://blog.naver.com/trizdoctor)\\n* [블로그 홈](https://section.blog.naver.com)\\n* [로그인](https://nid.naver.com/nidlogin.login?mode=form&url=https://blog.naver.com/trizdoctor/224048210103)\\n\\n---\\n\\n \\n\\n---\\n\\n|  |\\n| --- |\\n| [나를 위한 성장사고법, 트리즈씽킹](https://blog.naver.com/prologue/PrologueList.naver?blogId=trizdoctor) |\\n\\n---\\n\\n블로그 메뉴\\n\\n| * [프롤로그](https://blog.naver.com/prologue/PrologueList.naver?blogId=trizdoctor&skinType=&skinId=&from=menu) * [블로그](https://blog.naver.com/PostList.naver?blogId=trizdoctor&skinType=&skinId=&from=menu) * [공지 사항](https://blog.naver.com/PostList.naver?blogId=trizdoctor&categoryNo=41&skinType=&skinId=&from=menu) * [창의성 칼럼](https://blog.naver.com/PostList.naver?blogId=trizdoctor&categoryNo=71&parentCategoryNo=71&skinType=&skinId=&from=menu) * [발명영재교육](https://blog.naver.com/PostList.naver?blogId=trizdoctor&categoryNo=96&parentCategoryNo=96&skinType=&skinId=&from=menu) * [이트리즈 소식](https://blog.naver.com/PostList.naver?blogId=trizdoctor&categoryNo=67&parentCategoryNo=67&skinType=&skinId=&from=menu) | * [메모](https://blog.naver.com/memo/MemologPostList.naver?blogId=trizdoctor&Redirect=MemoList&skinType=&skinId=&from=menu) * [태그](https://blog.naver.com/BlogPrivateTagCloud.naver?blogId=trizdoctor&Redirect=Dtagcloud&skinType=&skinId=&from=menu) * [안부](https://blog.naver.com/guestbook/GuestBookList.naver?blogId=trizdoctor&skinType=&skinId=&from=menu) |\\n\\n---\\n\\n## 블로그\\n\\n가벼운 글쓰기툴 퀵에디터가 오픈했어요!\\n\\n|\\n|  |\\n\\n공지 목록\\n\\n| 공지글      | 글 제목 | 작성일 | | (1)  **공지** [트리즈닥터 아이디어 카드 활용법 - 천재들을 따라하는 40가지 생각도구](/PostView.naver?blogId=trizdoctor&logNo=223553375950&categoryNo=75&parentCategoryNo=71&viewDate=&currentPage=&postListTopCurrentPage=) | 2024. 8. 19. | | (2)  **공지** [트리즈 특강 안내 : 4차 산업혁명 시대의 생존 비법, 트리즈씽킹 강의](/PostView.naver?blogId=trizdoctor&logNo=223445364882&categoryNo=41&parentCategoryNo=67&viewDate=&currentPage=&postListTopCurrentPage=) | 2024. 5. 13. | | (1)  **공지** [트리즈 TRIZ 란? 기본개념 및 문제해결 활용](/PostView.naver?blogId=trizdoctor&logNo=223434174901&categoryNo=94&parentCategoryNo=71&viewDate=&currentPage=&postListTopCurrentPage=) | 2024. 5. 2. | | (17)  **공지** [[통통박사의 재미있는 발명이야기] 어린이 발명교육 가이드, 어린이 트리즈](/PostView.naver?blogId=trizdoctor&logNo=223423538791&categoryNo=92&parentCategoryNo=96&viewDate=&currentPage=&postListTopCurrentPage=) | 2024. 4. 22. | | **공지** [트리즈닥터 아이디어카드, 발명카드 활용법 - 트리즈를 활용한 창의성 교육](/PostView.naver?blogId=trizdoctor&logNo=221269673133&categoryNo=75&parentCategoryNo=71&viewDate=&currentPage=&postListTopCurrentPage=) | 2018. 5. 7. | |\\n\\n|\\n|  |\\n\\n|\\n|  |\\n\\n|  |\\n| --- |\\n| [**전체보기**](# \\\"전체보기 목록 닫고 열기\\\") 1,031개의 글[전체보기목록열기](#) |\\n\\n|  |\\n| --- |\\n| [최신AI기술동향](/PostList.naver?blogId=trizdoctor&categoryNo=102&from=postList)  TechCrunch 2025-10-21 | AI 혁신과 투자 붐, 메타·오픈AI·앤트로픽의 신기술 및 규제 변화  [트리즈씽킹](https://blog.naver.com/trizdoctor)   *・*  2025. 10. 21. 7:06  [URL 복사](# \\\"https://blog.naver.com/trizdoctor/224048210103\\\")  [이웃추가](#) [본문 기타 기능](#) [공유하기](#)  [신고하기](#)  오늘날 인공지능(AI)은 우리의 일상뿐만 아니라 과학, 의료, 소프트웨어 개발 등 다양한 산업 분야를 근본적으로 재편하고 있습니다. 최첨단 연구자들이 주도하는 혁신적 스타트업부터, AI 기반 영상 플랫폼과 코딩 도구의 급성장, 그리고 규제기관의 변화까지, 기술 생태계 전반에 걸쳐 빠르고도 깊은 변혁이 일어나고 있죠. 본 글에서는 이런 변화의 최전선에 있는 최신 AI 기술과 투자 동향을 조명하며, 디지털 시대가 우리 사회와 미래에 미치는 울림과 의미를 탐구해봅니다.  ---  오픈AI·구글 브레인 연구원들이 시작한 스타트업 'Periodic Labs', 3억 달러 투자 열풍 촉발  2025-10-20 | Top OpenAI, Google Brain researchers set off a $300M VC frenzy for their startup Periodic Labs  ​    ​  **Periodic Labs는 오픈AI와 구글 브레인의 권위있는 연구원들에 의해 설립된 혁신적인 스타트업**이다. 약 3억 달러 규모의 시드 투자를 Felicis가 이끌었으며 에릭 슈미트, 제프 베조스 등 유명 엔젤 투자자들도 참여했다. 이 스타트업은 LLM, 머신러닝 시뮬레이션, 그리고 로봇 실험을 결합해 **AI가 완전 자동화된 실험실에서 신소재를 발견하는 새로운 과학 혁신 방식을 구축하려 한다**. 설립자들은 기존 과학계의 성공 중심 동기에 도전해 실패를 포함한 실험 데이터 자체를 AI 학습의 핵심 자산으로 삼는 혁신적인 연구 패러다임 전환을 추구한다. 현재 연구진은 초전도체 신소재 탐색 등 초기 실험에 착수했으나 로봇 시스템은 훈련 중에 있다. 전통적 과학 발견의 속도와 예측 불가능성을 감안할 때 이 프로젝트는 **큰 도전이지만 잠재적 혁신 가치는 막대하다**.  [[출처 : TechCrunch]](https://techcrunch.com/2025/10/20/top-openai-google-brain-researchers-set-off-a-300m-vc-frenzy-for-their-startup-periodic-labs/)  ​  ,  ---  메타 AI, ‘바이브스’ AI 영상 피드 출시 후 앱 다운로드 및 일일 사용자 급증  2025-10-20 | Meta AI's app downloads and daily users spiked after launch of 'Vibes' AI video feed  ​    ​  **Meta AI의 모바일 앱이 새로운 AI 영상 피드 ‘Vibes’ 출시 이후 급격히 성장**했다. 시장 조사 기관 Similarweb의 분석에 따르면, 앱의 일일 활성 사용자 수가 4주 만에 77만 5천 명에서 270만 명으로 증가했고 다운로드 수 역시 하루 20만 건에서 30만 건으로 늘어났다. 이는 한 해 전 일일 다운로드 4,000건과 비교하면 대폭 상승한 수치다. Vibes 피드는 2025년 9월 25일 도입되어 짧은 형태의 AI 생성 영상을 제공하며, 사용자 증가세와 상관관계가 뚜렷하게 나타난다. 또한 OpenAI의 Sora 앱과 경쟁 구도에서 Sora의 초대장 제한 정책이 Meta 앱 이용자 증가에 영향을 미쳤을 가능성도 제기된다.  [[출처 : TechCrunch]](https://techcrunch.com/2025/10/20/meta-ais-app-downloads-and-daily-users-spiked-after-launch-of-vibes-ai-video-feed/)  ​  ,  ---  앤트로픽, 클로드 코드 웹버전 출시  2025-10-20 | Anthropic brings Claude Code to the web  ​    ​  **앤트로픽이 AI 코딩 도구 클로드 코드를 웹으로 확장했다.** Pro 및 Max 구독자를 대상으로 claude.ai 웹사이트에서 이용 가능하며, 데스크톱과 모바일 모두 지원한다. 클로드 코드는 CLI 중심에서 벗어나 더 다양한 환경에서 AI 코딩 에이전트를 관리할 수 있도록 설계됐다. 이는 개발자들이 다양한 장소에서 AI 코딩 도우미를 활용하게 하려는 목적이다. 클로드 코드 제품은 회사 AI 모델 90%가 자체 작성하며, 에이전트 방식 AI 코딩 도구로서 개발자들의 작업 방식을 변화시키고 있다. 비록 AI 코딩 도구가 일부 개발자들에게 작업 속도 저하를 불러왔다는 연구도 있지만 앤트로픽은 계속해서 이 시장을 선도하며 AI가 소프트웨어 코드 작성의 90%를 맡게 될 미래를 예견한다.  [[출처 : TechCrunch]](https://techcrunch.com/2025/10/20/anthropic-brings-claude-code-to-the-web/)  ​  ,  ---  FTC, 리나 칸 시대 AI 위험성과 오픈소스 관련 게시글 삭제  2025-10-20 | FTC removes Lina Khan-era posts about AI risks and open source  ​    ​  미국 연방거래위원회(FTC)가 **리나 칸(Lina Khan) 위원장 시절 작성된 AI 위험성과 오픈소스 관련 게시글 3건을 삭제**했다. 이 중 한 게시글은 2025년 1월에 출판되었으며 AI가 상업적 감시 촉진, 사기 및 사칭, 불법 차별 지속 등 소비자에게 미치는 위험을 지적했다. 이 결정은 트럼프 행정부 출범 이후 정부기관들이 기존 내용의 대규모 삭제 또는 수정 작업을 진행한 더 큰 맥락에서 이뤄졌다. 새로운 FTC 위원장인 앤드류 퍼거슨(Andrew Ferguson)은 반독점 규제를 축소하고 빅테크 규제를 완화하는 정책을 펼치고 있으며, 현재까지 블로그 게시물을 새로 게시하지 않고 있다. 이번 삭제가 연방법과 공공기록법 위반 가능성도 제기되고 있다.  [[출처 : TechCrunch]](https://techcrunch.com/2025/10/20/ftc-removes-lina-khan-era-posts-about-ai-risks-and-open-source/)  ​  ,  ---  의료계용 ChatGPT, OpenEvidence 6억 달러 가치 평가 받아 2억 달러 투자 유치  2025-10-20 | OpenEvidence, the ChatGPT for doctors, raises $200M at $6B valuation  ​    ​  **OpenEvidence**는 의사와 간호사들이 의료용 ChatGPT라 부르는 도구로, 최근 **6억 달러 가치 평가에서 2억 달러를 투자받았다.** 이 서비스는 JAMA, New England Journal of Medicine과 같은 의학 저널을 기반으로 훈련되어, 기존의 의료 지식을 빠르게 확인해 환자 치료에 도움을 준다. 검증된 의료 전문가들은 광고 지원으로 무료 제공되는 OpenEvidence 툴에 접근할 수 있다. 2022년 설립 이후 월간 임상 상담건수가 1500만 건으로 두 배 가까이 늘면서 빠르게 성장 중이다. 이번 투자 라운드는 Google Ventures가 주도했으며, Sequoia Capital 등도 참여했다.  [[출처 : TechCrunch]](https://techcrunch.com/2025/10/20/openevidence-the-chatgpt-for-doctors-raises-200m-at-6b-valuation/)  ​  ​  최신 기술 동향을 살펴보면, AI는 단순한 도구를 넘어 과학 연구부터 의료, 콘텐츠 창작, 소프트웨어 개발 등 다양한 분야에서 새로운 패러다임을 제시하고 있습니다. 거대한 투자 자본이 혁신 스타트업에 몰리면서 AI의 잠재력이 본격적으로 실현되고 있으며, 동시에 규제 당국 내 정책 방향 변화가 산업 생태계에 중요한 영향을 미치고 있음을 알 수 있습니다. 앞으로 AI 기술은 더욱 인간 중심적으로 발전하면서도, 규제와 혁신 간 균형을 통해 안전하고 신뢰받는 미래를 구축할 것으로 전망됩니다......  [저작자 명시 필수 영리적 사용 불가 내용 변경 불가](http://creativecommons.org/licenses/by-nc-nd/2.0/kr/)  저작자 명시 필수 - 영리적 사용 불가 - 내용 변경 불가  **태그**  [취소](#) [확인](#)  [공감 0](#)   * [공감 0](#ratingbutton-like) * [칭찬 0](#ratingbutton-impressive) * [감사 0](#ratingbutton-thanks) * [웃김 0](#ratingbutton-haha) * [놀람 0](#ratingbutton-wow) * [슬픔 0](#ratingbutton-sad)  [이 글에 공감한 블로거 열고 닫기](#)  [댓글  *1*   이 글에 댓글 단 블로거 열고 닫기](#)  [인쇄](#)  [댓글쓰기](# \\\"새 창\\\") **1**/1  [이전](#)   [다음](#) |\\n\\n|\\n|  |\\n\\n|  |\\n| --- |\\n| 이 블로그  [**전체**](/PostList.naver?blogId=trizdoctor&from=thumbnailList)  카테고리 글[전체글 보기](/PostList.naver?blogId=trizdoctor&from=thumbnailList)    [화면 최상단으로 이동](#) |\\n\\n|\\n|  |\\n\\n[{\\\"title\\\":\\\"TechCrunch 2025-10-21 | AI 혁신과 투자 붐, 메타·오픈AI·앤트로픽의 신기술 및 규제 변화\\\",\\\"source\\\":\\\"https://blog.naver.com/trizdoctor/224048210103\\\",\\\"blogName\\\":\\\"나를 위한 ..\\\",\\\"domainIdOrBlogId\\\":\\\"trizdoctor\\\",\\\"nicknameOrBlogId\\\":\\\"트리즈씽킹\\\",\\\"logNo\\\":224048210103,\\\"smartEditorVersion\\\":4,\\\"meDisplay\\\":true,\\\"lineDisplay\\\":true,\\\"outsideDisplay\\\":true,\\\"cafeDisplay\\\":true,\\\"blogDisplay\\\":true}]\\n\\n---\\n\\n### 활동정보\\n\\n**이 블로그의 저작물은 별도  \\n표시가 없는 한 아래 조건에  \\n따라 사용 가능합니다**\\n\\n* 저작자 명시 필수\\n* 영리적 사용 불가\\n* 내용 변경 불가\\n\\n[RSS 2.0](https://rss.blog.naver.com/trizdoctor.xml) [RSS 1.0](https://rss.blog.naver.com/trizdoctor.xml?rss=1.0) [ATOM 0.3](https://rss.blog.naver.com/trizdoctor.xml?atom=0.3)\\n\\n---\\n\\n안녕하세요.  \\n이 포스트는 네이버 블로그에서 작성된 게시글입니다.  \\n자세한 내용을 보려면 링크를 클릭해주세요.  \\n감사합니다.\\n\\n##### 글 보내기 서비스 안내\\n\\n2009년 6월 30일 네이버 여행 서비스가 종료되었습니다.  \\n 네이버 여행 서비스를 이용해 주신 여러분께 감사드리며,   \\n더 좋은 서비스로 보답할 수 있도록 노력하겠습니다.\\n\\n## 악성코드가 포함되어 있는 파일입니다.\\n\\n{FILENAME}\\n\\n백신 프로그램으로 치료하신 후 다시 첨부하시거나, 치료가 어려우시면  \\n파일을 삭제하시기 바랍니다.\\n\\n[네이버 백신으로 치료하기](http://security.naver.com/index.nhn)\\n\\n고객님의 PC가 악성코드에 감염될 경우 시스템성능 저하,  \\n개인정보 유출등의 피해를 입을 수 있으니 주의하시기 바랍니다.\\n\\n## 작성자 이외의 방문자에게는 이용이 제한되었습니다.\\n\\n{ALERTMESSAGE}\\n\\n이용제한 파일 : {FILENAME}\\n\\n* [내PC 저장](#)\\n* [N드라이브 저장](#)\\n\\n카메라 모델\\n\\n해상도\\n\\n노출시간\\n\\n노출보정\\n\\n프로그램모드\\n\\nISO감도\\n\\n조리개값\\n\\n초점길이\\n\\n측광모드\\n\\n촬영일시\\n\\n#### 글보내기 제한 공지\\n\\n:   저작권 침해가 우려되는 컨텐츠가 포함되어 있어  \\n     글보내기 기능을 제한합니다.\\n\\n네이버는 블로그를 통해 저작물이 무단으로 공유되는 것을 막기 위해, 저작권을 침해하는 컨텐츠가 포함되어 있는 게시물의 경우 글보내기 기능을 제한하고 있습니다.\\n\\n상세한 안내를 받고 싶으신 경우 네이버 고객센터로 문의주시면 도움드리도록 하겠습니다. 건강한 인터넷 환경을 만들어 나갈 수 있도록 고객님의 많은 관심과 협조를 부탁드립니다.\\n\\n#### 주제 분류 제한 공지\\n\\n:   저작권 침해가 우려되는 컨텐츠가 포함되어 있어  \\n     주제 분류 기능을 제한합니다.\\n\\n네이버는 블로그를 통해 저작물이 무단으로 공유되는 것을 막기 위해, 저작권을 침해하는 컨텐츠가 포함되어 있는 게시물의 경우 주제 분류 기능을 제한하고 있습니다.\\n\\n상세한 안내를 받고 싶으신 경우 네이버 고객센터로 문의주시면 도움드리도록 하겠습니다. 건강한 인터넷 환경을 만들어 나갈 수 있도록 고객님의 많은 관심과 협조를 부탁드립니다.\\n\\n작성하신 **게시글에 사용이 제한된 문구가 포함**되어 일시적으로   \\n 등록이 제한됩니다.\\n\\n이용자 분들이 홍보성 도배, 스팸 게시물로 불편을 겪지 않도록  \\n 다음과 같은 경우 해당 게시물 등록이 일시적으로 제한됩니다.\\n\\n* 특정 게시물 대량으로 등록되거나 해당 게시물에서 자주 사용하는  \\n   문구가 포함된 경우\\n* 특정 게시물이 과도하게 반복 작성되거나 해당 게시물에서 자주 사용하는  \\n  문구가 포함된 경우\\n\\n스팸 게시물이 확대 생성되는 것을 방지하기 위하여 문구 및 사용 제한기간을  \\n상세하게 안내해 드리지 못하는 점 양해 부탁 드립니다. 모두가 행복한 인터넷  \\n문화를 만들기 위한 네이버의 노력이오니 회원님의 양해와 협조 부탁드립니다.\\n\\n더 궁금하신 사항은 [고객센터](https://help.naver.com/support/alias/blog/stats/stats1.naver)로 문의하시면 자세히 알려드리겠습니다.\\n\\n수정하신 후 다시 등록해 주세요.\\n\\n회원님의 안전한 서비스 이용을 위해 **비밀번호를 확인해 주세요.**\\n\\n다시 한번 **비밀번호 확인** 하시면 이용중인 화면으로 돌아가며, 작성 중이던  \\n내용을 정상적으로 전송 또는 등록하실 수 있습니다.\\n\\n**1일 안부글 작성횟수를 초과하셨습니다.**\\n\\n네이버 블로그에서는 프로그램을 이용한  \\n 안부글 자동등록 방지를 위해 1일 안부글 작성횟수에  \\n 제한을 두고 있습니다.\\n\\n**1일 안부글 작성횟수를 초과하셨습니다.**\\n\\n고객님이 남기신 안부글에 대한 다수의 신고가 접수되어  \\n 1일 안부글 작성 횟수가 **5회**로 제한되었습니다. 네이버 블로그는 여러 사람이 함께 모여 즐거움을 나누는  \\n 공간으로 모든 분들이 기분좋게 블로그를 이용할 수 있도록  \\n 고객님의 이해와 협조 부탁 드립니다.\\n\\n###### 공감을 삭제하시겠습니까?\\n\\n이 글의 공감수도 함께 차감됩니다.\\n\\n**이웃으로 추가하시겠어요?**\\n\\n**트리즈씽킹** 나를 위한 성장사고법, 트리즈씽킹\\n\\n[이웃추가](javascript:void(0))\\n\\n[이웃추가 레이어 닫기](#)\\n\\n작성하신 **에 이용자들의 신고가 많은 표현이 포함**되어 있습니다.\\n\\n**신고가 많은 표현**\\n\\n다른 표현을 사용해주시기 바랍니다.  \\n 건전한 인터넷 문화 조성을 위해 회원님의 적극적인 협조를 부탁드립니다.\\n\\n더 궁금하신 사항은 [고객센터](https://help.naver.com/support/alias/blog/stats/stats1.naver)로 문의하시면 자세히 알려드리겠습니다.\\n\\n### 블로그 마켓 가입 완료\\n\\n내 상품 관리에서 배송비 설정 후   \\n상품 판매를 시작해보세요!\\n\\n[배송비 설정하기](#)\\n\\n블로그 마켓 탈퇴가  \\n완료되었습니다.\\n\\n문의사항은 블로그 마켓 고객센터로 연락주세요.\", \"images\": []}], \"failed_results\": [], \"response_time\": 0.0, \"request_id\": \"a4c13f1c-a71c-4096-b279-5e710849dcdf\"}\n",
      "=================================\u001b[1m Tool Message \u001b[0m=================================\n",
      "Name: tavily_extract\n",
      "\n",
      "{\"results\": [{\"url\": \"https://blog.naver.com/PostView.naver?blogId=trizdoctor&logNo=224033071984\", \"title\": \"TechCrunch 2025-10-06 | AI 규제와 혁신, 투자와 기술 발전의 최신 동향\", \"raw_content\": \"[NAVER](http://www.naver.com) [블로그](https://blog.naver.com)\\n\\n[**나를 위한 성장사고법, 트리즈씽킹**](https://blog.naver.com/prologue/PrologueList.naver?blogId=trizdoctor)\\n\\n* [공감 0](#ratingbutton-like)\\n* [칭찬 0](#ratingbutton-impressive)\\n* [감사 0](#ratingbutton-thanks)\\n* [웃김 0](#ratingbutton-haha)\\n* [놀람 0](#ratingbutton-wow)\\n* [슬픔 0](#ratingbutton-sad)\\n\\n[*댓글*   *1*](#)\\n\\n [공유하기](#)\\n\\n**블로그 주소 변경 불가 안내**\\n\\n블로그 마켓 판매자의 이력 관리를 위해  \\n 블로그 주소 변경이 불가합니다.\\n\\n[자세히 보기](https://help.naver.com/alias/blog/blogmarket/blogmarket14.naver)\\n\\n**블로그 아이디가 필요해요!**\\n\\n블로그에서 진짜 나를 기록하고  \\n 다양한 이웃과 소식을 만나보세요. 지금 시작해볼까요?\\n\\n블로그 아이디 만들기 블로그 아이디 만들기 레이어 닫기\\n\\nblog.naver.com/\\n\\n* 설정한 아이디는 나중에 변경할 수 없으니 신중하게 입력해주세요.\\n* 변경 전 공유된 블로그/글/클립 링크는 연결이 끊길 수 있습니다.\\n* **네이버 아이디 또는 개인정보가 포함된 문자 사용**은 피해주세요.\\n* 블로그 도움말에서 아이디 변경 유의사항을 확인해보세요.\\n\\n1. 이전 주소로 공유된 글은  \\n 3개월간 새로운 주소로 연결을 지원하며  \\n 이후 언제든 연결이 끊길 수 있습니다.\\n\\n2. 블로그 아이디는 한번 변경하면  \\n **다시 변경이 불가능**합니다.\\n\\n**변경하시겠습니까?**\\n\\n블로그 아이디는 한번 정하면   \\n 다시 변경이 불가능합니다.\\n\\n이 아이디로 블로그를 만들까요?\\n\\n# 환영합니다! 블로그 아이디가 만들어졌어요.\\n\\nblog.naver.com/\\n\\n바로 시작하기 추가정보 입력하기\\n\\n# 기본정보를 입력해주세요.\\n\\n나중에 언제든지 변경할 수 있어요.\\n\\n**엔터테인먼트·예술**\\n\\n\\n\\n\\n\\n\\n\\n\\n\\n\\n\\n**생활·노하우·쇼핑**\\n\\n\\n\\n\\n\\n\\n\\n\\n\\n\\n\\n**취미·여가·여행**\\n\\n\\n\\n\\n\\n\\n\\n\\n\\n\\n**지식·동향**\\n\\n\\n\\n\\n\\n\\n\\n\\n**주제없음**\\n\\n*기본정보 입력* *주제 선택* *이웃 맺기*\\n\\n# 주제를 선택해 주세요.\\n\\n선택한 주제의 글과 이웃을 추천받을 수 있어요.\\n\\n*기본정보 입력* *주제 선택* *이웃 맺기*\\n\\n# 인기블로거와 이웃을 맺으세요.\\n\\n이웃을 맺으면 이웃새글에서 글을 받아볼 수 있어요.\\n\\n*기본정보 입력* *주제 선택* *이웃 맺기*\\n\\n\\n\\n\\n\\n[메뉴 바로가기](#blog-menu) [본문 바로가기](#post_1)\\n\\n* [내 블로그](https://blog.naver.com/MyBlog.naver)\\n* [이웃블로그](https://nid.naver.com/nidlogin.login?mode=form&url=https://blog.naver.com/trizdoctor)\\n* [블로그 홈](https://section.blog.naver.com)\\n* [로그인](https://nid.naver.com/nidlogin.login?mode=form&url=https://blog.naver.com/trizdoctor/224033071984)\\n\\n---\\n\\n \\n\\n---\\n\\n|  |\\n| --- |\\n| [나를 위한 성장사고법, 트리즈씽킹](https://blog.naver.com/prologue/PrologueList.naver?blogId=trizdoctor) |\\n\\n---\\n\\n블로그 메뉴\\n\\n| * [프롤로그](https://blog.naver.com/prologue/PrologueList.naver?blogId=trizdoctor&skinType=&skinId=&from=menu) * [블로그](https://blog.naver.com/PostList.naver?blogId=trizdoctor&skinType=&skinId=&from=menu) * [공지 사항](https://blog.naver.com/PostList.naver?blogId=trizdoctor&categoryNo=41&skinType=&skinId=&from=menu) * [창의성 칼럼](https://blog.naver.com/PostList.naver?blogId=trizdoctor&categoryNo=71&parentCategoryNo=71&skinType=&skinId=&from=menu) * [발명영재교육](https://blog.naver.com/PostList.naver?blogId=trizdoctor&categoryNo=96&parentCategoryNo=96&skinType=&skinId=&from=menu) * [이트리즈 소식](https://blog.naver.com/PostList.naver?blogId=trizdoctor&categoryNo=67&parentCategoryNo=67&skinType=&skinId=&from=menu) | * [메모](https://blog.naver.com/memo/MemologPostList.naver?blogId=trizdoctor&Redirect=MemoList&skinType=&skinId=&from=menu) * [태그](https://blog.naver.com/BlogPrivateTagCloud.naver?blogId=trizdoctor&Redirect=Dtagcloud&skinType=&skinId=&from=menu) * [안부](https://blog.naver.com/guestbook/GuestBookList.naver?blogId=trizdoctor&skinType=&skinId=&from=menu) |\\n\\n---\\n\\n## 블로그\\n\\n가벼운 글쓰기툴 퀵에디터가 오픈했어요!\\n\\n|\\n|  |\\n\\n공지 목록\\n\\n| 공지글      | 글 제목 | 작성일 | | (1)  **공지** [트리즈닥터 아이디어 카드 활용법 - 천재들을 따라하는 40가지 생각도구](/PostView.naver?blogId=trizdoctor&logNo=223553375950&categoryNo=75&parentCategoryNo=71&viewDate=&currentPage=&postListTopCurrentPage=) | 2024. 8. 19. | | (2)  **공지** [트리즈 특강 안내 : 4차 산업혁명 시대의 생존 비법, 트리즈씽킹 강의](/PostView.naver?blogId=trizdoctor&logNo=223445364882&categoryNo=41&parentCategoryNo=67&viewDate=&currentPage=&postListTopCurrentPage=) | 2024. 5. 13. | | (1)  **공지** [트리즈 TRIZ 란? 기본개념 및 문제해결 활용](/PostView.naver?blogId=trizdoctor&logNo=223434174901&categoryNo=94&parentCategoryNo=71&viewDate=&currentPage=&postListTopCurrentPage=) | 2024. 5. 2. | | (17)  **공지** [[통통박사의 재미있는 발명이야기] 어린이 발명교육 가이드, 어린이 트리즈](/PostView.naver?blogId=trizdoctor&logNo=223423538791&categoryNo=92&parentCategoryNo=96&viewDate=&currentPage=&postListTopCurrentPage=) | 2024. 4. 22. | | **공지** [트리즈닥터 아이디어카드, 발명카드 활용법 - 트리즈를 활용한 창의성 교육](/PostView.naver?blogId=trizdoctor&logNo=221269673133&categoryNo=75&parentCategoryNo=71&viewDate=&currentPage=&postListTopCurrentPage=) | 2018. 5. 7. | |\\n\\n|\\n|  |\\n\\n|\\n|  |\\n\\n|  |\\n| --- |\\n| [**전체보기**](# \\\"전체보기 목록 닫고 열기\\\") 1,031개의 글[전체보기목록열기](#) |\\n\\n|  |\\n| --- |\\n| [최신AI기술동향](/PostList.naver?blogId=trizdoctor&categoryNo=102&from=postList)  TechCrunch 2025-10-06 | AI 규제와 혁신, 투자와 기술 발전의 최신 동향  [트리즈씽킹](https://blog.naver.com/trizdoctor)   *・*  2025. 10. 6. 7:06  [URL 복사](# \\\"https://blog.naver.com/trizdoctor/224033071984\\\")  [이웃추가](#) [본문 기타 기능](#) [공유하기](#)  [신고하기](#)  인공지능(AI)은 우리 일상과 산업 전반을 빠르게 변화시키며 혁신의 중심에 서 있습니다. 하지만 AI의 성장에는 안전성과 윤리, 개인정보 보호 등 새로운 도전과제도 함께 따릅니다. 이러한 가운데 캘리포니아주의 AI 안전법 시행은 규제와 혁신이 대립하지 않고 상생할 수 있음을 보여주며, AI 스타트업과 기술개발 현장에서는 첨단 디바이스와 학습법의 진화가 한창입니다. 또한 농업 분야에도 AI가 접목되어 지속가능한 미래를 모색하고 있죠. 이번 글에서는 AI 산업을 둘러싼 최신 규제, 개발 이슈, 투자 흐름과 실생활 혁신 사례들을 살펴보며 미래 기술 지형의 윤곽을 그려봅니다.  ---  캘리포니아의 새로운 AI 안전법은 규제와 혁신이 충돌할 필요 없음을 보여준다  2025-10-05 | California’s new AI safety law shows regulation and innovation don’t have to clash  ​    ​  캘리포니아주에서 발효된 SB 53 법안은 AI 안전과 투명성 강화를 목표로 하며, **규제와 혁신은 상충하지 않는다는 점**을 입증한다. 이 법은 AI 대기업이 위험 방지 프로토콜을 공개하고 이를 준수하도록 요구하며, 위기관리부가 이를 감독한다. 청년 주도 단체 Encode AI의 아담 빌렌 부회장은 이 법안이 업계 내 안전기준 저하를 막고, 미국의 AI 경쟁력 강화를 위한 현실적 대안이라고 평가한다. 다만, 연방 차원에서 주 법안을 무력화하려는 움직임과 경쟁 압박 속에 안전기준 완화 우려도 존재한다. 그는 국가 간 AI 경쟁에서 칩 수출 통제 등 실제 경쟁력 강화책에 집중해야 한다고 강조한다.  [[출처 : TechCrunch]](https://techcrunch.com/2025/10/05/californias-new-ai-safety-law-shows-regulation-and-innovation-dont-have-to-clash/)  ​  ,  ---  OpenAI와 조니 아이브, AI 기기 개발에 어려움 겪고 있을 가능성  2025-10-05 | OpenAI and Jony Ive may be struggling to figure out their AI device  ​    ​  OpenAI와 전 애플 디자이너 조니 아이브가 화면 없는 AI 기기 개발 과정에서 **기술적 어려움을 겪고 있다**고 파이낸셜 타임즈가 보도했다. 두 회사는 2026년 출시 예정인 주변 환경을 인식하고 음성 명령에 반응하는 손바닥 크기 AI 기기를 제작 중이지만, 기기의 '성격', 개인정보 보호, 컴퓨팅 인프라 문제 등이 해결되지 않아 출시가 지연될 위험이 있다. 특히 '항상 대기' 상태를 유지하면서도 적절한 시점에만 반응하도록 만드는 부분에서 난항을 겪고 있다.  [[출처 : TechCrunch]](https://techcrunch.com/2025/10/05/openai-and-jony-ive-may-be-struggling-to-figure-out-their-ai-device/)  ​  ,  ---  강화 학습 격차 — 왜 일부 AI 기술은 더 빠르게 발전하는가  2025-10-05 | The Reinforcement Gap — or why some AI skills improve faster than others  ​    ​  **AI 코딩 도구는 강화 학습 덕분에 빠르게 발전**하고 있지만, 이메일 작성 같은 일부 AI 기술은 상대적으로 느리게 발전하고 있다. 강화 학습은 명확한 합격/불합격 기준이 있어 수십억 번 반복 학습하기에 적합한 작업에 특히 효과적이다. 소프트웨어 개발은 테스트 프로세스가 체계화되어 있어 강화 학습에 최적화된 분야이며, 버그 수정이나 수학 문제 같은 분야도 빠르게 개선되고 있다. 반면, 이메일 작성이나 챗봇 대화처럼 주관적이고 평가하기 어려운 영역은 발전이 더딘 상황이다. 다만 OpenAI의 Sora 2처럼 새로운 예외 사례도 등장하고 있어 강화 학습 격차(Reinforcement Gap)는 AI가 잘할 수 있는 것과 그렇지 않은 것을 결정하는 중요한 요소가 되고 있다. 이 격차는 스타트업과 경제 전반에 큰 영향을 미치며, 향후 20년간 어떤 작업이 자동화될지, 어떤 산업이 변화할지에 중대한 시사점을 제공한다.  [[출처 : TechCrunch]](https://techcrunch.com/2025/10/05/the-reinforcement-gap-or-why-some-ai-skills-improve-faster-than-others/)  ​  ,  ---  만약 당신이 AI 스타트업이 아니라면, 벤처캐피털로부터 자금 조달은 쉽지 않을 것이다  2025-10-04 | If you’re not an AI startup, good luck raising money from VCs | TechCrunch  ​    ​  **PitchBook 자료에 따르면 AI가 스타트업 투자에서 지배적인 위치를 차지하고 있다.** 2025년은 AI가 벤처캐피털(VC) 투자금의 절반 이상을 차지하는 최초의 해가 될 전망이다. 현재까지 1927억 달러가 AI 분야에 투자되었으며, 이는 전체 VC 투자금 3668억 달러의 절반 이상이다. 최근 분기 미국 VC 투자금의 62.7%, 전세계 VC 투자금의 53.2%가 AI에 집중되고 있다. 대부분의 자금은 Anthropic과 같은 유명 AI 기업에 몰리며, 스타트업 및 벤처펀드 수는 과거 몇 년에 비해 크게 줄어들었다. PitchBook 연구 책임자는 시장이 “AI 진영과 비AI 진영, 대형 펀드와 소형 펀드”로 양분되고 있다고 전했다.  [[출처 : TechCrunch]](https://techcrunch.com/2025/10/04/if-youre-not-an-ai-startup-good-luck-raising-money-from-vcs/)  ​  ,  ---  인스타크롭스, TechCrunch Disrupt 2025에서 물 절약 및 작물 증대 AI 시연 예정  2025-10-04 | Instacrops will demo its water-saving, crop-boosting AI at TechCrunch Disrupt 2025  ​    ​  **농업은 전 세계 담수의 약 70%를 소비하는 고수요 산업으로, 일부 국가에서는 90%가 넘는다.** 칠레에 거주하는 마리오 부스타만테는 물 부족 문제가 심각하다며, 자신의 스타트업 인스타크롭스가 AI 기술을 활용해 농가의 물 사용량을 최대 30% 절감하고 작물 수확량은 최대 20% 증가시키고 있다고 전했다. 인스타크롭스는 IoT 센서 데이터를 기반으로 토양 습도, 온도, 압력, 작물 수확량, 위성 영상에서 추출한 식물 생산성 지표(NDVI) 등 80가지가 넘는 파라미터를 분석하는 AI 시스템을 개발했다. 이를 통해 농부들에게 언제 관개를 해야 하는지 모바일 앱과 WhatsApp을 통해 실시간으로 알리고, 일부 고도화된 농장은 자동 관개 시스템과 직접 연동한다. 이 회사는 Y Combinator 출신이며 SVG 벤처스와 제네시스 벤처스 등으로부터 투자를 받았다. 10월 말 샌프란시스코에서 열리는 TechCrunch Disrupt 2025에서 스타트업 배틀필드 참가자로서 자사의 혁신 기술을 선보일 예정이다.  [[출처 : TechCrunch]](https://techcrunch.com/2025/10/04/instacrops-will-demo-its-water-saving-crop-boosting-ai-at-techcrunch-disrupt-2025/)  ​  ​  최근 AI 산업은 규제 강화와 혁신 가속이라는 복합적 요구에 직면해 있습니다. 캘리포니아주의 AI 안전법이 보여주듯, 안전하면서도 경쟁력 있는 생태계를 만드는 법적 토대가 마련되고 있으며, 주요 기업들은 혁신적인 AI 기기 개발에서 기술적 난관을 극복하기 위해 노력 중입니다. 한편 강화 학습 격차는 AI 발전 방향에 중요한 변수로 작용하며, 투자 시장은 AI 중심으로 급속히 재편되고 있습니다. 또한 농업 같은 전통 산업까지 AI가 확장되면서 사회 전반의 생산성과 지속가능성을 향상시키려는 움직임이 나타나고 있어, AI는 앞으로도 다양한 분야에서 혁신과 균형을 추구하며 우리 삶에 깊이 자리할 것입니다......  [저작자 명시 필수 영리적 사용 불가 내용 변경 불가](http://creativecommons.org/licenses/by-nc-nd/2.0/kr/)  저작자 명시 필수 - 영리적 사용 불가 - 내용 변경 불가  **태그**  [취소](#) [확인](#)  [공감 0](#)   * [공감 0](#ratingbutton-like) * [칭찬 0](#ratingbutton-impressive) * [감사 0](#ratingbutton-thanks) * [웃김 0](#ratingbutton-haha) * [놀람 0](#ratingbutton-wow) * [슬픔 0](#ratingbutton-sad)  [이 글에 공감한 블로거 열고 닫기](#)  [댓글  *1*   이 글에 댓글 단 블로거 열고 닫기](#)  [인쇄](#)  [댓글쓰기](# \\\"새 창\\\") **1**/1  [이전](#)   [다음](#) |\\n\\n|\\n|  |\\n\\n|  |\\n| --- |\\n| 이 블로그  [**전체**](/PostList.naver?blogId=trizdoctor&from=thumbnailList)  카테고리 글[전체글 보기](/PostList.naver?blogId=trizdoctor&from=thumbnailList)    [화면 최상단으로 이동](#) |\\n\\n|\\n|  |\\n\\n[{\\\"title\\\":\\\"TechCrunch 2025-10-06 | AI 규제와 혁신, 투자와 기술 발전의 최신 동향\\\",\\\"source\\\":\\\"https://blog.naver.com/trizdoctor/224033071984\\\",\\\"blogName\\\":\\\"나를 위한 ..\\\",\\\"domainIdOrBlogId\\\":\\\"trizdoctor\\\",\\\"nicknameOrBlogId\\\":\\\"트리즈씽킹\\\",\\\"logNo\\\":224033071984,\\\"smartEditorVersion\\\":4,\\\"cafeDisplay\\\":true,\\\"blogDisplay\\\":true,\\\"meDisplay\\\":true,\\\"outsideDisplay\\\":true,\\\"lineDisplay\\\":true}]\\n\\n---\\n\\n### 활동정보\\n\\n**이 블로그의 저작물은 별도  \\n표시가 없는 한 아래 조건에  \\n따라 사용 가능합니다**\\n\\n* 저작자 명시 필수\\n* 영리적 사용 불가\\n* 내용 변경 불가\\n\\n[RSS 2.0](https://rss.blog.naver.com/trizdoctor.xml) [RSS 1.0](https://rss.blog.naver.com/trizdoctor.xml?rss=1.0) [ATOM 0.3](https://rss.blog.naver.com/trizdoctor.xml?atom=0.3)\\n\\n---\\n\\n안녕하세요.  \\n이 포스트는 네이버 블로그에서 작성된 게시글입니다.  \\n자세한 내용을 보려면 링크를 클릭해주세요.  \\n감사합니다.\\n\\n##### 글 보내기 서비스 안내\\n\\n2009년 6월 30일 네이버 여행 서비스가 종료되었습니다.  \\n 네이버 여행 서비스를 이용해 주신 여러분께 감사드리며,   \\n더 좋은 서비스로 보답할 수 있도록 노력하겠습니다.\\n\\n## 악성코드가 포함되어 있는 파일입니다.\\n\\n{FILENAME}\\n\\n백신 프로그램으로 치료하신 후 다시 첨부하시거나, 치료가 어려우시면  \\n파일을 삭제하시기 바랍니다.\\n\\n[네이버 백신으로 치료하기](http://security.naver.com/index.nhn)\\n\\n고객님의 PC가 악성코드에 감염될 경우 시스템성능 저하,  \\n개인정보 유출등의 피해를 입을 수 있으니 주의하시기 바랍니다.\\n\\n## 작성자 이외의 방문자에게는 이용이 제한되었습니다.\\n\\n{ALERTMESSAGE}\\n\\n이용제한 파일 : {FILENAME}\\n\\n* [내PC 저장](#)\\n* [N드라이브 저장](#)\\n\\n카메라 모델\\n\\n해상도\\n\\n노출시간\\n\\n노출보정\\n\\n프로그램모드\\n\\nISO감도\\n\\n조리개값\\n\\n초점길이\\n\\n측광모드\\n\\n촬영일시\\n\\n#### 글보내기 제한 공지\\n\\n:   저작권 침해가 우려되는 컨텐츠가 포함되어 있어  \\n     글보내기 기능을 제한합니다.\\n\\n네이버는 블로그를 통해 저작물이 무단으로 공유되는 것을 막기 위해, 저작권을 침해하는 컨텐츠가 포함되어 있는 게시물의 경우 글보내기 기능을 제한하고 있습니다.\\n\\n상세한 안내를 받고 싶으신 경우 네이버 고객센터로 문의주시면 도움드리도록 하겠습니다. 건강한 인터넷 환경을 만들어 나갈 수 있도록 고객님의 많은 관심과 협조를 부탁드립니다.\\n\\n#### 주제 분류 제한 공지\\n\\n:   저작권 침해가 우려되는 컨텐츠가 포함되어 있어  \\n     주제 분류 기능을 제한합니다.\\n\\n네이버는 블로그를 통해 저작물이 무단으로 공유되는 것을 막기 위해, 저작권을 침해하는 컨텐츠가 포함되어 있는 게시물의 경우 주제 분류 기능을 제한하고 있습니다.\\n\\n상세한 안내를 받고 싶으신 경우 네이버 고객센터로 문의주시면 도움드리도록 하겠습니다. 건강한 인터넷 환경을 만들어 나갈 수 있도록 고객님의 많은 관심과 협조를 부탁드립니다.\\n\\n작성하신 **게시글에 사용이 제한된 문구가 포함**되어 일시적으로   \\n 등록이 제한됩니다.\\n\\n이용자 분들이 홍보성 도배, 스팸 게시물로 불편을 겪지 않도록  \\n 다음과 같은 경우 해당 게시물 등록이 일시적으로 제한됩니다.\\n\\n* 특정 게시물 대량으로 등록되거나 해당 게시물에서 자주 사용하는  \\n   문구가 포함된 경우\\n* 특정 게시물이 과도하게 반복 작성되거나 해당 게시물에서 자주 사용하는  \\n  문구가 포함된 경우\\n\\n스팸 게시물이 확대 생성되는 것을 방지하기 위하여 문구 및 사용 제한기간을  \\n상세하게 안내해 드리지 못하는 점 양해 부탁 드립니다. 모두가 행복한 인터넷  \\n문화를 만들기 위한 네이버의 노력이오니 회원님의 양해와 협조 부탁드립니다.\\n\\n더 궁금하신 사항은 [고객센터](https://help.naver.com/support/alias/blog/stats/stats1.naver)로 문의하시면 자세히 알려드리겠습니다.\\n\\n수정하신 후 다시 등록해 주세요.\\n\\n회원님의 안전한 서비스 이용을 위해 **비밀번호를 확인해 주세요.**\\n\\n다시 한번 **비밀번호 확인** 하시면 이용중인 화면으로 돌아가며, 작성 중이던  \\n내용을 정상적으로 전송 또는 등록하실 수 있습니다.\\n\\n**1일 안부글 작성횟수를 초과하셨습니다.**\\n\\n네이버 블로그에서는 프로그램을 이용한  \\n 안부글 자동등록 방지를 위해 1일 안부글 작성횟수에  \\n 제한을 두고 있습니다.\\n\\n**1일 안부글 작성횟수를 초과하셨습니다.**\\n\\n고객님이 남기신 안부글에 대한 다수의 신고가 접수되어  \\n 1일 안부글 작성 횟수가 **5회**로 제한되었습니다. 네이버 블로그는 여러 사람이 함께 모여 즐거움을 나누는  \\n 공간으로 모든 분들이 기분좋게 블로그를 이용할 수 있도록  \\n 고객님의 이해와 협조 부탁 드립니다.\\n\\n###### 공감을 삭제하시겠습니까?\\n\\n이 글의 공감수도 함께 차감됩니다.\\n\\n**이웃으로 추가하시겠어요?**\\n\\n**트리즈씽킹** 나를 위한 성장사고법, 트리즈씽킹\\n\\n[이웃추가](javascript:void(0))\\n\\n[이웃추가 레이어 닫기](#)\\n\\n작성하신 **에 이용자들의 신고가 많은 표현이 포함**되어 있습니다.\\n\\n**신고가 많은 표현**\\n\\n다른 표현을 사용해주시기 바랍니다.  \\n 건전한 인터넷 문화 조성을 위해 회원님의 적극적인 협조를 부탁드립니다.\\n\\n더 궁금하신 사항은 [고객센터](https://help.naver.com/support/alias/blog/stats/stats1.naver)로 문의하시면 자세히 알려드리겠습니다.\\n\\n### 블로그 마켓 가입 완료\\n\\n내 상품 관리에서 배송비 설정 후   \\n상품 판매를 시작해보세요!\\n\\n[배송비 설정하기](#)\\n\\n블로그 마켓 탈퇴가  \\n완료되었습니다.\\n\\n문의사항은 블로그 마켓 고객센터로 연락주세요.\", \"images\": []}], \"failed_results\": [], \"response_time\": 0.0, \"request_id\": \"f35bd5b6-4ab9-4da0-bd46-ab3e4b051166\"}\n",
      "=================================\u001b[1m Tool Message \u001b[0m=================================\n",
      "Name: tavily_extract\n",
      "\n",
      "{\"results\": [{\"url\": \"https://www.mt.co.kr/tech/2025/10/27/2025102617022624252\", \"title\": \"국내외 AI 석학 한 자리에... 27일 'AI프론티어 국제 심포지엄' - 머니투데이\", \"raw_content\": \"## 국내외 AI 석학 한 자리에... 27일 'AI프론티어 국제 심포지엄'\\n\\n## **[홈](https://www.mt.co.kr)  >  [IT/과학](https://www.mt.co.kr/tech)**\\n\\n# 국내외 AI 석학 한 자리에... 27일 'AI프론티어 국제 심포지엄'\\n\\n**황국상** 기자\\n\\n2025.10.27 10:00\\n\\n국내외 AI(인공지능) 석학들이 한 자리에 모여 AI 기술의 현재와 미래, AI 기술의 사회적 영향력 등을 논의하는 자리가 마련됐다.\\n\\n과학기술정보통신부는 27일 서울 용산 드래곤시티에서 AI 분야 최신 연구 성과를 공유하고 국제 협력 방안을 모색하기 위해 'AI 프론티어 국제 심포지엄 2025'를 개최한다고 밝혔다.\\n\\n이번 심포지엄은 국가적 AI 연구역량을 결집한 '국가AI연구거점'(서울 양재동)과 글로벌 협력 거점인 '글로벌AI프론티어랩'(미국 뉴욕) 소속의 국내외 AI 석학 및 연구진이 한자리에 모이는 국제 공동연구 교류의 장이다. 이번 행사에서는 두 연구 기관의 성과를 공유하는 것을 비롯해 향후 연구 방향, AI의 미래 비전 및 안전·신뢰 등을 주제로 심도 있는 논의가 진행된다.\\n\\n심포지엄의 1부에서는 AI 연구의 현재와 미래를 조망하는 세계적 석학들의 기조 강연이 진행된다. 얀 르쿤 뉴욕대 교수는 '월드 모델 학습'을 주제로, 최예진 교수는 '생성형 AI의 민주화: 스케일링 법칙을 초월하여'를 주제로 각각 기조연설에 나서, AI 기술 발전 방향에 대한 통찰을 제시할 예정이다.\\n\\n기조 강연 후에는 배경훈 부총리 겸 과기정통부 장관의 주재로 얀 르쿤 교수, 최예진 교수, 조경현 뉴욕대 교수 및 김기응 카이스트 교수가 참여하는 AI 석학 좌담회가 열릴 예정이다. 좌담회에서는 AI 거버넌스, AI 기술의 현재와 미래, AI 기술의 사회적 영향력 등을 폭넓게 논의한다.\\n\\n심포지엄의 2부에서는 국가AI연구거점과 글로벌AI프론티어랩이 추진해 온 공동연구의 성과와 심화 연구 방향을 공유하는 세션이 진행된다. '국가AI연구거점' 세션에서는 일본, 프랑스, UAE(아랍에미리트연합) 등의 해외 연구자들과 국내 연구진이 함께 차세대 AI 기초 연구 및 실세계 자율성을 위한 피지컬 AI를 주제로 다양한 연구 성과를 공유한다.\\n\\n'글로벌AI프론티어랩' 세션에서는 새로운 핵심 AI 알고리즘 및 신뢰 AI를 주제로 뉴욕대, 연세대 등에서 연구 결과를 발표한다. 헬스케어 및 로보틱스 분야의 첨단 AI 응용 최신 연구 동향도 소개될 예정이다.\\n\\n이어 28일부터 29일에 걸쳐 '글로벌AI프론티어랩 워크숍'도 진행된다. 이 워크숍에서는 한·미 양국 연구자간 연구 현황, AI 핵심 알고리즘, AI 신뢰 및 책임성, AI 헬스케어 등 주제로 미래 연구방향을 모색한다.\\n\\n배경훈 부총리는 \\\"이번 심포지엄이 세계적 AI 석학들과 국내 연구진이 한자리에 모여 대한민국 AI 연구가 세계적 수준으로 도약하고, AI 기술의 새로운 프론티어를 개척하는 중요한 계기\\\"라며 \\\"과기정통부는 향후에도 국내 AI 연구의 국제 경쟁력을 더욱 강화하고, 글로벌 AI 연구 협력 생태계 구축에 박차를 가할 계획\\\"이라고 밝혔다.\\n\\n<저작권자 © ‘돈이 보이는 리얼타임 뉴스’ 머니투데이. 무단전재 및 재배포, AI학습 이용 금지>\\n\\n[### 황국상 기자](https://www.mt.co.kr/reporter/00248)\\n\\n머니투데이 황국상입니다. 잘하는 기자가 되도록 많이 공부하겠습니다.\\n\\n이 기사를 읽고 어떠셨나요?\\n\\n* 0\\n\\n  좋아요\\n* 0\\n\\n  속상해요\\n* 0\\n\\n  놀라워요\\n* 0\\n\\n  화나요\", \"images\": []}], \"failed_results\": [], \"response_time\": 0.01, \"request_id\": \"40235381-bdc6-476f-87e6-a8a8b393abca\"}\n",
      "==================================\u001b[1m Ai Message \u001b[0m==================================\n",
      "\n",
      "최신 AI 연구 동향에 대해 다음과 같이 상세 내용을 요약해 드립니다.\n",
      "\n",
      "1. AI 혁신과 투자 붐 및 주요 스타트업\n",
      "- AI는 과학, 의료, 소프트웨어 개발 등 여러 산업에서 혁신을 주도하고 있습니다.\n",
      "- OpenAI와 구글 브레인 연구진들이 설립한 스타트업 'Periodic Labs'가 3억 달러 규모의 투자를 유치하여 신기술 개발을 진행 중입니다.\n",
      "- Meta AI가 출시한 AI 영상 피드 'Vibes'는 빠른 성장세를 보이며 사용자 수와 다운로드 수가 급증했습니다.\n",
      "- Anthropic은 AI 코딩 도구 'Claude Code'를 웹에서 서비스 시작하는 등 다양한 AI 기술과 제품들이 빠르게 발전하고 있습니다.\n",
      "- 미국 연방거래위원회(FTC)는 AI 위험과 오픈소스 관련 게시물을 조정하여 AI 규제 움직임에 영향을 미치고 있습니다.\n",
      "- OpenEvidence 같은 AI 기반 전문 분야 챗봇도 큰 투자를 받아 의료 분야에 AI 활용이 늘어나고 있습니다.\n",
      "\n",
      "2. AI 규제와 안전성\n",
      "- 캘리포니아주의 AI 안전법이 제정되어 규제와 혁신이 상생할 수 있는 제도적 기반을 마련하고 있습니다.\n",
      "- AI 작업 중 강화 학습에 최적화된 분야는 빠르게 개선되는 반면, 주관적 평가가 어려운 분야는 발전이 더딘 '강화 학습 격차(Reinforcement Gap)' 현상이 나타나고 있습니다.\n",
      "- AI의 윤리성, 개인정보 보호, 신뢰성 확보 등 사회적 과제가 여전히 중요하게 논의되고 있습니다.\n",
      "\n",
      "3. 국제적인 AI 연구 협력과 심포지엄\n",
      "- 2025년 10월 27일 서울 드래곤시티에서 국내외 AI 석학들이 모여 AI 기술의 현재와 미래, 사회적 영향력 등을 논의하는 'AI 프론티어 국제 심포지엄 2025'가 개최되었습니다.\n",
      "- 이 자리에서 국가 AI 연구거점과 글로벌 AI 프론티어랩 간의 공동 연구 성과와 미래 연구 방향성에 대해 발표하고 있습니다.\n",
      "- 헬스케어, 로보틱스 등 AI 응용 분야 최신 연구동향도 공유되고 있습니다.\n",
      "\n",
      "요약하자면, 최신 AI 연구는 기술 혁신과 상업적 투자 붐이 일어나면서 다양한 산업 분야로 확산되고 있으며, 규제와 안전성 문제에 대한 사회적 관심이 높아지고 있습니다. 또한 국내외 연구자들이 협력하여 AI 기술 개발과 실용화에 박차를 가하고 있는 상황입니다.\n"
     ]
    }
   ],
   "source": [
    "from langchain_tavily import TavilySearch, TavilyExtract\n",
    "\n",
    "# 검색 도구\n",
    "search_tool = TavilySearch(\n",
    "    max_results=5,\n",
    "    topic=\"general\"\n",
    ")\n",
    "\n",
    "# 콘텐츠 추출 도구\n",
    "extract_tool = TavilyExtract(\n",
    "    extract_depth=\"basic\", \n",
    "    include_images=False\n",
    ")\n",
    "\n",
    "agent = create_agent(\n",
    "    model=\"openai:gpt-4.1-mini\",\n",
    "    tools=[search_tool, extract_tool],\n",
    "    system_prompt=\"\"\"You are a research assistant.\n",
    "    - Use tavily_search to find relevant URLs\n",
    "    - Use tavily_extract to get detailed content from specific URLs\n",
    "    \"\"\"\n",
    ")\n",
    "\n",
    "result = agent.invoke({\n",
    "    \"messages\": [\n",
    "        {\"role\": \"user\", \n",
    "         \"content\": \"최신 AI 연구 동향을 찾아서 상세 내용을 추출해주세요.\"}\n",
    "    ]\n",
    "})\n",
    "\n",
    "for msg in result[\"messages\"]:\n",
    "    msg.pretty_print()"
   ]
  },
  {
   "cell_type": "markdown",
   "metadata": {},
   "source": [
    "## **4. Middleware 설정**"
   ]
  },
  {
   "cell_type": "markdown",
   "metadata": {},
   "source": [
    "`(1) 대화 요약 Middleware`"
   ]
  },
  {
   "cell_type": "code",
   "execution_count": 8,
   "metadata": {},
   "outputs": [],
   "source": [
    "from langchain.agents import create_agent\n",
    "from langchain.agents.middleware import SummarizationMiddleware\n",
    "from langgraph.checkpoint.memory import InMemorySaver\n",
    "\n",
    "agent = create_agent(\n",
    "    model=\"openai:gpt-4.1-mini\",\n",
    "    tools=[search_tool],\n",
    "    middleware=[\n",
    "        SummarizationMiddleware(\n",
    "            model=\"openai:gpt-4.1-nano\",     # 요약에 사용할 모델\n",
    "            max_tokens_before_summary=500,   # 요약 시작 임계값 (토큰 수)\n",
    "            messages_to_keep=3,              # 요약 후에도 유지할 메시지 수\n",
    "        )\n",
    "    ],\n",
    "    checkpointer=InMemorySaver(),\n",
    ")"
   ]
  },
  {
   "cell_type": "code",
   "execution_count": 9,
   "metadata": {},
   "outputs": [
    {
     "name": "stdout",
     "output_type": "stream",
     "text": [
      "================================\u001b[1m Human Message \u001b[0m=================================\n",
      "\n",
      "최신 AI 연구 동향을 찾아서 설명해주세요.\n",
      "==================================\u001b[1m Ai Message \u001b[0m==================================\n",
      "Tool Calls:\n",
      "  tavily_search (call_8knmarlZ7amx9d2LDOppMEFW)\n",
      " Call ID: call_8knmarlZ7amx9d2LDOppMEFW\n",
      "  Args:\n",
      "    query: 최신 AI 연구 동향\n",
      "    search_depth: advanced\n",
      "    time_range: month\n",
      "    topic: general\n",
      "=================================\u001b[1m Tool Message \u001b[0m=================================\n",
      "Name: tavily_search\n",
      "\n",
      "{\"query\": \"최신 AI 연구 동향\", \"follow_up_questions\": null, \"answer\": null, \"images\": [], \"results\": [{\"url\": \"https://blog.naver.com/PostView.naver?blogId=trizdoctor&logNo=224048210103\", \"title\": \"AI 혁신과 투자 붐, 메타·오픈AI·앤트로픽의 신기술 및 규제 변화\", \"content\": \"| 최신AI기술동향  TechCrunch 2025-10-21 | AI 혁신과 투자 붐, 메타·오픈AI·앤트로픽의 신기술 및 규제 변화  트리즈씽킹   ・  2025. 10. 21. 7:06  URL 복사  이웃추가 본문 기타 기능 공유하기  신고하기  오늘날 인공지능(AI)은 우리의 일상뿐만 아니라 과학, 의료, 소프트웨어 개발 등 다양한 산업 분야를 근본적으로 재편하고 있습니다. 최첨단 연구자들이 주도하는 혁신적 스타트업부터, AI 기반 영상 플랫폼과 코딩 도구의 급성장, 그리고 규제기관의 변화까지, 기술 생태계 전반에 걸쳐 빠르고도 깊은 변혁이 일어나고 있죠. 본 글에서는 이런 변화의 최전선에 있는 최신 AI 기술과 투자 동향을 조명하며, 디지털 시대가 우리 사회와 미래에 미치는 울림과 의미를 탐구해봅니다.  ---  오픈AI·구글 브레인 연구원들이 시작한 스타트업 'Periodic Labs', 3억 달러 투자 열풍 촉발  2025-10-20 | Top OpenAI, [...] 라운드는 Google Ventures가 주도했으며, Sequoia Capital 등도 참여했다.  (  ​  ​  최신 기술 동향을 살펴보면, AI는 단순한 도구를 넘어 과학 연구부터 의료, 콘텐츠 창작, 소프트웨어 개발 등 다양한 분야에서 새로운 패러다임을 제시하고 있습니다. 거대한 투자 자본이 혁신 스타트업에 몰리면서 AI의 잠재력이 본격적으로 실현되고 있으며, 동시에 규제 당국 내 정책 방향 변화가 산업 생태계에 중요한 영향을 미치고 있음을 알 수 있습니다. 앞으로 AI 기술은 더욱 인간 중심적으로 발전하면서도, 규제와 혁신 간 균형을 통해 안전하고 신뢰받는 미래를 구축할 것으로 전망됩니다......  저작자 명시 필수 영리적 사용 불가 내용 변경 불가  저작자 명시 필수 - 영리적 사용 불가 - 내용 변경 불가  태그  취소 확인  공감 0    공감 0  칭찬 0  감사 0  웃김 0  놀람 0  슬픔 0  이 글에 공감한 블로거 열고 닫기  댓글  1   이 글에 댓글\", \"score\": 0.8029425, \"raw_content\": null}, {\"url\": \"https://blog.naver.com/PostView.naver?blogId=trizdoctor&logNo=224033071984\", \"title\": \"TechCrunch 2025-10-06 | AI 규제와 혁신, 투자와 기술 발전의 최신 동향\", \"content\": \"| 최신AI기술동향  TechCrunch 2025-10-06 | AI 규제와 혁신, 투자와 기술 발전의 최신 동향  트리즈씽킹   ・  2025. 10. 6. 7:06  URL 복사  이웃추가 본문 기타 기능 공유하기  신고하기  인공지능(AI)은 우리 일상과 산업 전반을 빠르게 변화시키며 혁신의 중심에 서 있습니다. 하지만 AI의 성장에는 안전성과 윤리, 개인정보 보호 등 새로운 도전과제도 함께 따릅니다. 이러한 가운데 캘리포니아주의 AI 안전법 시행은 규제와 혁신이 대립하지 않고 상생할 수 있음을 보여주며, AI 스타트업과 기술개발 현장에서는 첨단 디바이스와 학습법의 진화가 한창입니다. 또한 농업 분야에도 AI가 접목되어 지속가능한 미래를 모색하고 있죠. 이번 글에서는 AI 산업을 둘러싼 최신 규제, 개발 이슈, 투자 흐름과 실생활 혁신 사례들을 살펴보며 미래 기술 지형의 윤곽을 그려봅니다.  ---  캘리포니아의 새로운 AI 안전법은 규제와 혁신이 충돌할 필요 없음을 보여준다 [...] |  |\\n\\n| 전체보기 1,031개의 글전체보기목록열기 |\\n\\n|  | [...] 도구는 강화 학습 덕분에 빠르게 발전하고 있지만, 이메일 작성 같은 일부 AI 기술은 상대적으로 느리게 발전하고 있다. 강화 학습은 명확한 합격/불합격 기준이 있어 수십억 번 반복 학습하기에 적합한 작업에 특히 효과적이다. 소프트웨어 개발은 테스트 프로세스가 체계화되어 있어 강화 학습에 최적화된 분야이며, 버그 수정이나 수학 문제 같은 분야도 빠르게 개선되고 있다. 반면, 이메일 작성이나 챗봇 대화처럼 주관적이고 평가하기 어려운 영역은 발전이 더딘 상황이다. 다만 OpenAI의 Sora 2처럼 새로운 예외 사례도 등장하고 있어 강화 학습 격차(Reinforcement Gap)는 AI가 잘할 수 있는 것과 그렇지 않은 것을 결정하는 중요한 요소가 되고 있다. 이 격차는 스타트업과 경제 전반에 큰 영향을 미치며, 향후 20년간 어떤 작업이 자동화될지, 어떤 산업이 변화할지에 중대한 시사점을 제공한다.  (  ​  ,  ---  만약 당신이 AI 스타트업이 아니라면, 벤처캐피털로부터\", \"score\": 0.7498395, \"raw_content\": null}, {\"url\": \"https://www.mt.co.kr/tech/2025/10/27/2025102617022624252\", \"title\": \"국내외 AI 석학 한 자리에... 27일 'AI프론티어 국제 심포지엄' - 머니투데이\", \"content\": \"기조 강연 후에는 배경훈 부총리 겸 과기정통부 장관의 주재로 얀 르쿤 교수, 최예진 교수, 조경현 뉴욕대 교수 및 김기응 카이스트 교수가 참여하는 AI 석학 좌담회가 열릴 예정이다. 좌담회에서는 AI 거버넌스, AI 기술의 현재와 미래, AI 기술의 사회적 영향력 등을 폭넓게 논의한다.\\n\\n심포지엄의 2부에서는 국가AI연구거점과 글로벌AI프론티어랩이 추진해 온 공동연구의 성과와 심화 연구 방향을 공유하는 세션이 진행된다. '국가AI연구거점' 세션에서는 일본, 프랑스, UAE(아랍에미리트연합) 등의 해외 연구자들과 국내 연구진이 함께 차세대 AI 기초 연구 및 실세계 자율성을 위한 피지컬 AI를 주제로 다양한 연구 성과를 공유한다.\\n\\n'글로벌AI프론티어랩' 세션에서는 새로운 핵심 AI 알고리즘 및 신뢰 AI를 주제로 뉴욕대, 연세대 등에서 연구 결과를 발표한다. 헬스케어 및 로보틱스 분야의 첨단 AI 응용 최신 연구 동향도 소개될 예정이다. [...] 이어 28일부터 29일에 걸쳐 '글로벌AI프론티어랩 워크숍'도 진행된다. 이 워크숍에서는 한·미 양국 연구자간 연구 현황, AI 핵심 알고리즘, AI 신뢰 및 책임성, AI 헬스케어 등 주제로 미래 연구방향을 모색한다.\\n\\n배경훈 부총리는 \\\"이번 심포지엄이 세계적 AI 석학들과 국내 연구진이 한자리에 모여 대한민국 AI 연구가 세계적 수준으로 도약하고, AI 기술의 새로운 프론티어를 개척하는 중요한 계기\\\"라며 \\\"과기정통부는 향후에도 국내 AI 연구의 국제 경쟁력을 더욱 강화하고, 글로벌 AI 연구 협력 생태계 구축에 박차를 가할 계획\\\"이라고 밝혔다.\\n\\n<저작권자 © ‘돈이 보이는 리얼타임 뉴스’ 머니투데이. 무단전재 및 재배포, AI학습 이용 금지>\\n\\n### 황국상 기자\\n\\n머니투데이 황국상입니다. 잘하는 기자가 되도록 많이 공부하겠습니다.\\n\\n이 기사를 읽고 어떠셨나요?\\n\\n 0\\n\\n  좋아요\\n 0\\n\\n  속상해요\\n 0\\n\\n  놀라워요\\n 0\\n\\n  화나요 [...] ## 국내외 AI 석학 한 자리에... 27일 'AI프론티어 국제 심포지엄'\\n\\n## 홈  >  IT/과학\\n\\n# 국내외 AI 석학 한 자리에... 27일 'AI프론티어 국제 심포지엄'\\n\\n황국상 기자\\n\\n2025.10.27 10:00\\n\\n국내외 AI(인공지능) 석학들이 한 자리에 모여 AI 기술의 현재와 미래, AI 기술의 사회적 영향력 등을 논의하는 자리가 마련됐다.\\n\\n과학기술정보통신부는 27일 서울 용산 드래곤시티에서 AI 분야 최신 연구 성과를 공유하고 국제 협력 방안을 모색하기 위해 'AI 프론티어 국제 심포지엄 2025'를 개최한다고 밝혔다.\", \"score\": 0.68748367, \"raw_content\": null}, {\"url\": \"https://www.youtube.com/watch?v=0aWvB5EUJ7o\", \"title\": \"[2025 ASF] 최신 머진 비전 AI 기술동향 및 적용사례 - YouTube\", \"content\": \"# [2025 ASF] 최신 머진 비전 AI 기술동향 및 적용사례: 이론과 실제, 향후 방향성에 대하여\\n## 어드밴텍\\n568 subscribers\\n\\n### Description\\n6 views\\nPosted: 22 Oct 2025\\n2025 어드밴텍 솔루션 포럼에서는 \\\"Beyond Digital, Toward Ai Transformation\\\"이라는 주제로 산업의 미래를 이끄는 AI·엣지 혁신 인사이트가 공유되었습니다. 어드밴텍·AMD·소부장 기술융합포럼의 키노트부터 산업별 AI 적용 사례, 파트너사 협업 생태계까지 지금 바로 확인하세요!\\n\\n🔗 \\n📩문의: IIoTPSMKT.AKR@advantech.co.kr [...] ### Transcript: [...] 일반적으로 성능이 90%대에서 70%대로 크게 최신 모델들이 다 떨어지는 걸 알 수 있고요.이 이 말은 아직까지는 이제 저희가 원하는 뭐 일반적이나 아니면은 뭐 학습이 제로샷으로 된다거나 이런 얘기들은 약간 실제와는 떨어져 있다라는 상황이라고 할 수 있습니다. 그리고 보통요 장표는 저희가 정부와 데이터를 계속 줬을 때 일반적으로 성능이 좋아질 거다. 학습을 할수록 이런 거를 가정하지만 실제로 이런게 가능할 것이냐 했을 때 많은 최근의 기술들이 그렇진 않다라는 걸 역시 주장하고 있습니다. 당연히 저기 빨간색은 저희 건데 그나마 괜찮다라는 거를 어려운 상황에서선 주장할 수 있고요. 해서 실제로는 이런 강의의 데이터들을 테스트하기보다는 굉장히 좀 스페시픽한 샘플 아니면은 단일한 예제를 통해서 문제를 접근하게 됩니다. 해서 이거는 저희 회사에서 적용했던 이제 커버 글라스 관련된 예시인데요. 이제 여기서 제가 말씀드리고 싶은 거는 실제 딥러닝 프로젝트를 진행할 때도네 레이블링 자체도 이제\", \"score\": 0.5829428, \"raw_content\": null}, {\"title\": \"What does the future hold for generative AI? - MIT News\", \"url\": \"https://news.mit.edu/2025/what-does-future-hold-generative-ai-0919\", \"content\": \"Several MIT faculty members also spoke about their latest research projects, including the use of AI to reduce noise in ecological image data, designing new AI systems that mitigate bias and hallucinations, and enabling LLMs to learn more about the visual world.\", \"score\": 0.5510187, \"raw_content\": null}], \"response_time\": 0.0, \"request_id\": \"671039e8-0f3a-4cba-bcb1-02348dd7c8aa\"}\n",
      "==================================\u001b[1m Ai Message \u001b[0m==================================\n",
      "\n",
      "최신 AI 연구 동향에 대해 요약해 드리겠습니다.\n",
      "\n",
      "1. AI 혁신과 투자 붐:\n",
      "- OpenAI, 메타, 앤트로픽 등 주요 기업들과 스타트업들이 AI 기술 분야에 대규모 투자를 받고 있습니다.\n",
      "- AI는 과학, 의료, 소프트웨어 개발 등 다양한 산업에서 새로운 패러다임을 제시하며 혁신을 주도하고 있습니다.\n",
      "- AI 기술은 인간 중심적으로 발전하며 규제와 혁신의 균형을 맞춰 안전하고 신뢰받는 미래를 구축할 전망입니다.\n",
      "\n",
      "2. AI 규제와 기술 발전:\n",
      "- 캘리포니아 AI 안전법과 같은 규제는 AI 혁신과 충돌하지 않고 상생할 수 있는 사례로 평가받고 있습니다.\n",
      "- 강화 학습이 소프트웨어 개발, 버그 수정, 수학 문제 등 명확한 평가 기준이 있는 분야에서 빠르게 발전하는 반면, 이메일 작성이나 챗봇 대화처럼 주관적 평가가 필요한 영역에서는 발전 속도가 더딥니다.\n",
      "- 이 \"강화 학습 격차\"는 앞으로 어떤 작업이 자동화될지, 어떤 산업이 변화할지 결정하는 중요한 요소가 될 것입니다.\n",
      "\n",
      "3. 국제 AI 학술 교류 및 협력:\n",
      "- 국내외 AI 석학들이 참여하는 'AI 프론티어 국제 심포지엄'에서 AI 거버넌스, 기술의 현재와 미래, 사회적 영향력 등을 논의하고 있습니다.\n",
      "- 국가 AI 연구거점과 글로벌 AI 프론티어 연구팀들이 차세대 AI 기초 연구, 신뢰 AI, 헬스케어 및 로보틱스 분야의 첨단 AI 응용 연구 성과를 공유하며 협력하고 있습니다.\n",
      "- 이러한 국제 협력은 국내 AI 연구 경쟁력을 강화하고, 글로벌 AI 생태계 구축에 기여할 것입니다.\n",
      "\n",
      "4. 산업별 AI 적용 사례와 한계:\n",
      "- AI 기술이 산업별로 특화된 문제 해결에 적용되고 있으며, 실제 딥러닝 프로젝트에서 데이터 레이블링과 학습 데이터의 품질 관리가 중요한 이슈로 대두되고 있습니다.\n",
      "- 현재 AI 모델들은 여전히 제로샷 학습(사전 학습 없이 새로운 작업 수행) 등의 능력에 한계가 있으며, 특정 문제에 집중한 학습이 주로 이루어지고 있습니다.\n",
      "\n",
      "이상은 최근 한 달 내 공개된 자료들을 기반으로 한 최신 AI 연구 및 산업 동향입니다. 필요하시면 보다 구체적인 분야나 기술에 대해 추가로 설명 드릴 수 있습니다.\n"
     ]
    }
   ],
   "source": [
    "result = agent.invoke({\n",
    "    \"messages\": [\n",
    "        {\"role\": \"user\", \"content\": \"최신 AI 연구 동향을 찾아서 설명해주세요.\"}\n",
    "    ]\n",
    "},\n",
    "config={\"configurable\": {\"thread_id\": \"custom_thread_001\"}})\n",
    "\n",
    "for msg in result[\"messages\"]:\n",
    "    msg.pretty_print()"
   ]
  },
  {
   "cell_type": "code",
   "execution_count": 10,
   "metadata": {},
   "outputs": [
    {
     "name": "stdout",
     "output_type": "stream",
     "text": [
      "================================\u001b[1m Human Message \u001b[0m=================================\n",
      "\n",
      "Here is a summary of the conversation to date:\n",
      "\n",
      "- 최근 한 달간의 AI 연구 및 산업 동향 요약:\n",
      "  - AI 투자와 혁신: OpenAI, 메타, 앤트로픽 등 글로벌 기업과 스타트업이 AI 기술에 대규모 투자. AI는 과학, 의료, 소프트웨어 등 다양한 산업에서 혁신 주도.\n",
      "  - 규제와 기술 발전: 캘리포니아 AI 안전법 등 규제가 AI 발전과 상생하는 사례. 강화 학습은 명확 평가 기준이 있는 분야에서 빠르게 발전, 주관적 평가 분야는 더딤.\n",
      "  - 국제 협력 및 연구: 국내외 AI 석학들이 참여하는 심포지엄에서 AI 거버넌스, 미래 기술, 사회적 영향 논의. 차세대 AI 연구성과와 글로벌 협력 강화.\n",
      "  - 산업별 AI 적용과 한계: AI는 특정 문제 집중 학습 중이며, 데이터 품질과 레이블링이 핵심 과제. 제로샷 능력 등 한계 존재.\n",
      "  - 전반적으로 AI는 안전성과 혁신의 균형을 이루며, 미래 신뢰받는 AI 개발과 글로벌 협력에 집중하고 있음.\n",
      "================================\u001b[1m Human Message \u001b[0m=================================\n",
      "\n",
      "LLM과 생성형 AI를 중심으로 자세하게 조사해주세요.\n",
      "==================================\u001b[1m Ai Message \u001b[0m==================================\n",
      "Tool Calls:\n",
      "  tavily_search (call_NFO1OegdJliDyj9I0aOkRaDr)\n",
      " Call ID: call_NFO1OegdJliDyj9I0aOkRaDr\n",
      "  Args:\n",
      "    query: LLM과 생성형 AI 최신 연구 동향\n",
      "    search_depth: advanced\n",
      "    time_range: month\n",
      "    topic: general\n",
      "=================================\u001b[1m Tool Message \u001b[0m=================================\n",
      "Name: tavily_search\n",
      "\n",
      "{\"query\": \"LLM과 생성형 AI 최신 연구 동향\", \"follow_up_questions\": null, \"answer\": null, \"images\": [], \"results\": [{\"url\": \"https://epart.com/ai-%EC%97%B0%EA%B5%AC-%EB%8F%99%ED%96%A5%EC%9C%BC%EB%A1%9C-%EC%82%B4%ED%8E%B4%EB%B3%B4%EB%8A%94-%EB%94%A5%EB%9F%AC%EB%8B%9D-%ED%98%81%EC%8B%A0%EA%B3%BC-%EC%9E%90%EC%9C%A8%ED%98%95-%EC%9D%B8%EA%B3%B5/\", \"title\": \"AI 연구 동향으로 살펴보는 딥러닝 혁신과 자율형 인공지능의 부상 ...\", \"content\": \"지금까지 살펴본 AI 연구 동향은 단순히 모델의 성능 향상에 머무르지 않고, 학습 패러다임, 지능 구조, 산업 생태계 전반의 근본적 전환을 이끌고 있음을 보여줍니다. 데이터 중심에서 모델 중심으로의 혁신, 대규모 언어모델(LLM)의 자가학습 진화, 자율형 인공지능의 부상, 멀티모달 융합 연구, 에지 AI 및 친환경 컴퓨팅, 그리고 산업별 확산에 이르기까지 — AI 혁신은 기술적·경제적·사회적 차원에서 동시다발적으로 진화하고 있습니다.\\n\\n특히 자가학습과 자율형 AI는 인공지능이 ‘도구’에서 ‘동료’로 발전하는 전환점을 마련하고 있으며, 이는 향후 인공지능이 인간과 어떻게 협력하고 결정을 내릴 것인가에 대한 새로운 논의를 촉발시키고 있습니다. 또한 멀티모달 AI와 생성형 기술의 융합은 지각과 창의성의 경계를 넓히며, ‘이해하는 AI’에서 ‘창조하는 AI’로 나아가는 기초를 다지고 있습니다.\\n\\n### AI 연구 동향을 통해 본 핵심 시사점 [...] 연산·비용 절감: MoE, 희소화, 양자화와 같은 기법과 더불어 클라우드와 엣지 사이에서의 배치 전략이 중요합니다.\\n 파라미터 효율적 적응: LoRA·Adapter 등을 통한 도메인 특화 튜닝으로 전체 모델을 재학습하지 않고도 맞춤형 성능을 달성합니다.\\n 안전·정책·윤리: 환각, 편향, 악용 가능성 대응을 위한 기술적(정확성 보강, 검열 필터)·조직적(데이터 거버넌스, 투명성) 접근이 병행됩니다.\\n\\n### 2.7 향후 연구 방향과 오픈 이슈\\n\\nLLM과 자가학습 시스템 관련 AI 연구 동향은 빠르게 확장되고 있으나 해결돼야 할 과제도 많습니다. 연구자들은 성능뿐 아니라 설명 가능성, 효율성, 장기적 안전성 측면에서 균형 잡힌 발전을 모색하고 있습니다. [...] 모델 중심 혁신으로의 이동은 AI 연구 생태계 전반에 장기적인 영향을 미치고 있습니다. 연구자들은 이제 데이터셋 확보보다 알고리즘 설계와 모델 아키텍처 최적화에 더 많은 노력을 기울이고 있으며, 이는 AI 기술의 민주화와 산업 적용의 확장성을 높이는 결과로 이어지고 있습니다. 다양한 스타트업과 중소기업도 대규모 데이터 없이 경쟁력 있는 모델을 구축할 수 있게 되면서, AI 산업은 더욱 개방적이고 협력적인 생태계로 변화하고 있습니다.\\n\\n## 2. 대규모 언어모델(LLM)의 진화와 자가학습 시스템의 등장\\n\\n모델 중심 혁신의 흐름 속에서 대규모 언어모델(LLM)은 AI 연구의 핵심 전선으로 부상했습니다. 최근의 AI 연구 동향은 단순한 파라미터 증대에 그치지 않고, 학습 방식·구성 요소·시스템 통합 관점에서 LLM의 역할을 재정의하고 있으며, 이 과정에서 자가학습(Self-Learning) 및 자율적 개선 메커니즘을 가진 시스템이 본격적으로 등장하고 있습니다.\", \"score\": 0.7625837, \"raw_content\": null}, {\"url\": \"https://aimatters.co.kr/category/news-report/ai-report\", \"title\": \"AI 리포트와 논문 - AI 매터스\", \"content\": \"이스라엘 텔아비브-야포 학술대학(The Academic College of Tel Aviv-Yaffo)의 다나 소토 포라트(Dana Sotto Porat)와 엘라 라비노비치(Ella Rabinovich) 연구팀이 챗GPT 같은 AI…\\n\\n#### ‘완벽한 AI 기다리다간 망한다’… 경쟁 우위 확보하기 위한 AI 전략은?\\n\\n2025년 10월 15일4 min read\\n\\n하버드 비즈니스 리뷰는 기업들이 생성형 AI 도입 시 기술의 완성도보다 전략적 활용 방안의 명확성이 중요하다고 분석했다. 생성형 AI의 지능 수준이나 발전…\\n\\n#### 수백만 명이 쓰는데 AI는 모른다… 2000개 언어의 ‘디지털 실종’ 충격\\n\\n2025년 10월 15일5 min read\\n\\n대규모 언어 모델(LLM) 시대, 전 세계 7,613개 언어 중 약 2,000개 언어가 수백만 명의 화자를 보유하고 있음에도 AI 학습 데이터에서… [...] 최신 대규모 언어모델(LLM)이 무례한 표현의 프롬프트에서 더 높은 정확도를 보인다는 연구 결과가 나왔다. 펜실베니아주립대학교 연구팀이 챗GPT4o를 대상으로 진행한 실험에서 ‘매우…\\n\\n#### “똑똑한 AI도 연결 없으면 무용지물”… 에이전틱 AI 시대 성공 열쇠는 ‘통합’\\n\\n2025년 10월 14일4 min read\\n\\n에이전틱 AI(Agentic AI)가 기업 전략의 중심으로 빠르게 부상하고 있다. 가트너(Gartner)는 2028년까지 기업용 소프트웨어 애플리케이션의 33%가 에이전틱 AI를 포함할 것이며, 일상적인…\\n\\n#### 챗GPT 이후 달라진 세계 질서… AI 거버넌스 전쟁에서 한국의 승부수는?\\n\\n2025년 10월 14일5 min read\\n\\n인공지능(AI)이 국가 경쟁력과 외교 전략의 핵심 의제로 부상하면서, 글로벌 AI 거버넌스가 윤리 선언 단계를 넘어 실질적 이행과 질서 재편의 단계로… [...] 대형언어모델(LLM)이 창의적 답변을 내놓지 못하고 똑같은 답변만 반복하는 ‘모드 붕괴’ 현상의 근본 원인이 밝혀졌다. 노스이스턴대학교와 스탠퍼드대학교 공동 연구팀은 이 문제가…\\n\\n#### “시행착오가 곧 학습”… 메타, 스스로 경험하며 성장하는 AI 에이전트 공개\\n\\n2025년 10월 21일3 min read\\n\\n메타 슈퍼인텔리전스 랩스(Meta Superintelligence Labs), 메타 FAIR, 오하이오 주립대 공동 연구진이 AI 에이전트 학습에 새로운 접근법인 ‘초기 경험(Early Experience)’ 패러다임을…\\n\\n#### AI가 연인 관계 고민 상담? 단순 위로 넘어 ‘관계 패턴’ 바꿔준다\\n\\n2025년 10월 21일4 min read\\n\\n인공지능(AI) 챗봇 기술이 개인의 정신건강 지원을 넘어 커플 관계 개선 영역으로 확장되고 있다. 하지만 기존 챗봇 대부분은 개인 중심 접근에…\", \"score\": 0.6326168, \"raw_content\": null}, {\"url\": \"https://www.yna.co.kr/view/AKR20251024123600017\", \"title\": \"인공지능 혁명 3년…챗GPT가 바꾼 세계 - 연합뉴스\", \"content\": \"고용 안정부터 시작해 새로운 노동 시장 구조, AI가 불러온 정보 왜곡과 딥페이크 가짜 뉴스 문제, AI 사용 윤리에 이르기까지 개인과 사회 모두 다양한 문제에 직면하게 됐다.\\n\\n◇ 일상 바꾼 AI 혁명…실리콘밸리 '어벤저스' 주도\\n\\n'사전 학습된 생성형 트랜스포머(Generative Pre-trained Transformer)'의 약자인 GPT 모델 자체는 2018년 6월 오픈AI가 첫 번째 AI 버전인 GPT-1을 내놓으며 시작됐다.\\n\\n다만 스스로 학습해 진화하며 자연어 처리가 가능한 챗봇 형태의 거대언어모델(LLM)로서 체계를 갖춘 챗GPT(GPT-3.5)는 2022년 11월30일 첫 서비스를 시작했다.\\n\\nGPT-3.5는 '연구 프리뷰' 무료 공개 5일 만에 사용자 100만명을 넘어설 정도로 전 세계에 센세이션을 일으켰다.\\n\\n특히 사용자의 감성까지 파고드는 놀라운 대화 능력과 코딩, 작문 실력으로 인터넷과 모바일의 뒤를 잇는 IT 지형을 바꿀 혁명이 될 것으로 평가받았다. [...] 단순 서류 작업을 비롯한 사무 영역, 코딩을 비롯한 IT 개발, 진단·진료를 비롯한 의료 등 학술연구 보조까지 AI를 이용할 수 있는 영역은 무궁무진하다.\\n\\nAI를 이용해 미술작품을 만들고 영상을 제작하고, 노래를 작곡하는 등 인간 고유의 영역으로 여겨져 온 창작과 예술 분야에까지 그 손길이 미치며, 인류와 AI는 말 그대로 공존의 시대로 이미 접어들었다.\\n\\n실제 서비스를 시작한 지 3년을 앞둔 시점에서 챗GPT의 글로벌 월간 활성 사용자(MAU) 수는 10억명에 달하는 것으로 추정된다.\\n\\n오픈AI 창업자인 샘 올트먼에 따르면 챗GPT의 글로벌 주간 활성 사용자(WAU)는 8억명에 이른다.\\n\\n국내에서만 챗GPT 월간 이용자 수가 2천만명이 넘었다.\\n\\n여기에 구글의 제미나이를 비롯해 마이크로소프트(MS) 코파일럿, 앤트로픽의 클로드, 퍼플렉시티 등 후발주자들 역시 LLM 상용화에 나서며 빅테크들이 각축을 벌이고 있어 AI 기술 발전 및 확산은 속도를 더할 전망이다. [...] 미국과 중국이 주도하는 AI 기술 경쟁에서 네이버와 카카오를 양대 축으로 국내 테크 기업들은 나름의 한계와 제약에도 독자 기술 개발 및 빅테크와 협업을 통한 활로 모색으로 돌파구 찾기에 매진하고 있다.\\n\\n일찌감치 '소버린 AI' 개발을 내세운 네이버는 자체 개발한 LLM 모델인 하이파클로바X를 기존 서비스와 순차적으로 접목하며 본격적인 저변 확대를 꾀하고 있다.\\n\\n네이버는 하이파클로바X 경량모델을 오픈소스로 공개하며 이를 기반으로 한 생태계 구축에도 공을 들이는 상황이다.\\n\\n카카오의 경우 독자 AI '카나나' 개발과 동시에 오픈AI와 협업이라는 '투트랙'오케스트레이션 전략을 통해 상대적으로 뒤처진 경쟁에서 우위를 점하는 방안을 구상 중이다.\\n\\n카카오는 지난 2월 샘 올트먼 CEO의 방한을 계기로 오픈AI와 협업을 전격 선언한 뒤 핵심 서비스인 카카오톡에 챗GPT를 결합하는 방안을 공동 연구해 왔다.\", \"score\": 0.5380859, \"raw_content\": null}, {\"url\": \"https://biz.chosun.com/it-science/ict/2025/10/27/KKGIFTGS4VFRZONX4PWVTKKB4I/\", \"title\": \"얀 르쿤 “LLM, 5년 안에 쓸모없어진다… '월드 모델'이 미래” - 조선비즈\", \"content\": \"“대형언어모델(LLM)은 5년 안에 쓸모없어질 것이다. AI를 인간 수준으로 발전시키는 데 관심 있다면, LLM이 할 수 없는 것을 연구해야 한다.”\", \"score\": 0.38269553, \"raw_content\": null}, {\"url\": \"https://kr.investing.com/news/economy/article-1685062\", \"title\": \"'LLM 5년 시한부' 선언한 AI 천왕...왜? By Economic Review\", \"content\": \"세계적인 인공지능(AI) 석학 얀 르쿤 교수가 27일 \\\"대형언어모델(LLM)은 5년 안에 쓸모없어질 것\\\"이라고 밝혔다. 그는 \\\"AI를 인간 수준으로 발전시키는 데 관심 있다면\", \"score\": 0.340398, \"raw_content\": null}], \"response_time\": 3.48, \"request_id\": \"c3df2701-a29c-4774-9fda-1790bb3b00ba\"}\n",
      "==================================\u001b[1m Ai Message \u001b[0m==================================\n",
      "\n",
      "최근 한 달간 LLM(대규모 언어 모델)과 생성형 AI에 관한 연구 및 산업 동향은 다음과 같이 요약할 수 있습니다:\n",
      "\n",
      "1. LLM과 자가학습 시스템 중심의 모델 혁신\n",
      "- AI 연구는 데이터 중심에서 모델 중심으로 전환하며, 대규모 언어모델(LLM)이 핵심이 되고 있습니다.\n",
      "- 단순 파라미터 증대에 머무르지 않고 학습 방식, 아키텍처, 시스템 통합 관점에서 LLM의 역할이 재정의되고 있으며, 자가학습(Self-Learning) 및 자율적 개선 메커니즘을 갖춘 시스템이 등장하고 있습니다.\n",
      "- 파라미터 효율적 적응 기술(LoRA, Adapter 등)로 도메인 특화 튜닝을 하여 전체 모델 재학습 없이 성능 향상을 추구합니다.\n",
      "- 성능 뿐 아니라 설명 가능성, 효율성, 장기적 안전성에 대한 연구도 활발합니다.\n",
      "\n",
      "2. 생성형 AI와 멀티모달 융합\n",
      "- 생성형 AI는 AI가 ‘이해하는 단계’를 넘어서 ‘창조하는 단계’에 접어들며, 멀티모달(텍스트, 이미지, 음성 등 다양한 데이터 융합) 연구가 진전되고 있습니다.\n",
      "- 자율형 AI(Agentic AI) 및 자가학습 기반 에이전트가 기업 및 산업 전략의 핵심으로 부상 중이며, 인간과 협력하는 ‘동료’ AI로 발전하고 있습니다.\n",
      "- AI의 창작 능력은 미술, 음악, 영상 등 예술 분야뿐 아니라 다양한 산업으로 확대되고 있습니다.\n",
      "\n",
      "3. 산업 및 국가별 AI 경쟁과 도전\n",
      "- 글로벌 기업과 스타트업들은 LLM 및 생성형 AI 기술에 대규모 투자와 개발을 지속하고 있습니다.\n",
      "- 국내에서는 네이버가 자체 LLM ‘하이파클로바X’를 개발 및 오픈소스화하며 생태계 구축에 주력하고 있고, 카카오는 오픈AI와 협업하는 ‘투트랙’ 전략으로 경쟁력을 강화하고 있습니다.\n",
      "- AI 기술 발전에 따른 안전성, 윤리, 편향, 악용 가능성 대응 기술 및 거버넌스 강화가 병행되고 있습니다.\n",
      "\n",
      "4. 비판적 시각과 미래 방향\n",
      "- AI 석학 얀 르쿤 교수 등은 현재 LLM은 한계가 있으며, 5년 내 의미가 줄어들 것이라고 경고하고 있습니다.\n",
      "- 미래 AI 연구는 LLM이 할 수 없는 ‘월드 모델(World Model)’ 같은 인간 수준 AI 구현에 집중할 필요가 있다고 제안합니다.\n",
      "\n",
      "요약하면, LLM과 생성형 AI는 최근 학습 방식 혁신, 자율학습 시스템, 멀티모달 융합, 산업 적용 및 글로벌 협력과 경쟁, 윤리적 과제 등 다양한 연구와 산업 현황 속에서 빠르게 진화하고 있습니다. 동시에 장기적 AI 발전 방향과 한계에 대한 비판적 고민도 병행되는 모습입니다.\n"
     ]
    }
   ],
   "source": [
    "# 대화 계속\n",
    "result = agent.invoke({\n",
    "    \"messages\": [\n",
    "        {\"role\": \"user\", \"content\": \"LLM과 생성형 AI를 중심으로 자세하게 조사해주세요.\"}\n",
    "    ]\n",
    "},\n",
    "config={\"configurable\": {\"thread_id\": \"custom_thread_001\"}})\n",
    "\n",
    "for msg in result[\"messages\"]:\n",
    "    msg.pretty_print()"
   ]
  },
  {
   "cell_type": "code",
   "execution_count": 11,
   "metadata": {},
   "outputs": [
    {
     "name": "stdout",
     "output_type": "stream",
     "text": [
      "================================\u001b[1m Human Message \u001b[0m=================================\n",
      "\n",
      "Here is a summary of the conversation to date:\n",
      "\n",
      "최근 한 달간 LLM(대규모 언어 모델)과 생성형 AI 연구 및 산업 동향은 다음과 같습니다:\n",
      "- 모델 중심 혁신: 데이터 중심에서 전환, 학습 방식·구조·시스템 통합 재정의, 자가학습·자율 개선 시스템 등장, 파라미터 효율적 기술(LoRA, Adapter) 활용.\n",
      "- 생성형 AI & 멀티모달 융합: ‘이해하는 AI’에서 ‘창조하는 AI’로 발전, 멀티모달 융합, 에이전트형 AI·자율성 증대, 예술·산업 적용 확대.\n",
      "- 산업·국가 경쟁: 글로벌·국내 기업의 대규모 투자·개발, 네이버 ‘하이파클로바X’ 오픈소스화, 카카오 오픈AI 협력 강화, AI 윤리·안전성 기술 발전.\n",
      "- 비판·미래 방향: 얀 르쿤 교수 등은 현재 LLM의 한계와 5년 내 중요성 감소 예측, ‘월드 모델’ 등 인간 수준 AI 개발에 집중 필요.\n",
      "================================\u001b[1m Human Message \u001b[0m=================================\n",
      "\n",
      "에너지 부족 문제에 대해 조사해주세요.\n",
      "==================================\u001b[1m Ai Message \u001b[0m==================================\n",
      "Tool Calls:\n",
      "  tavily_search (call_kpjwHUozk0xd3U1LZwC2XmBG)\n",
      " Call ID: call_kpjwHUozk0xd3U1LZwC2XmBG\n",
      "  Args:\n",
      "    query: 에너지 부족 문제 최신 동향\n",
      "    search_depth: advanced\n",
      "    time_range: month\n",
      "    topic: general\n",
      "=================================\u001b[1m Tool Message \u001b[0m=================================\n",
      "Name: tavily_search\n",
      "\n",
      "{\"query\": \"에너지 부족 문제 최신 동향\", \"follow_up_questions\": null, \"answer\": null, \"images\": [], \"results\": [{\"url\": \"https://www.biznews.or.kr/news/article.html?no=16355\", \"title\": \"OECD 30% 수준인 재생에너지 발전 비중 높일 정책과 평가는?\", \"content\": \"KRISO, LNG 벙커링 선박 활용 선박 간 LNG 동시작업 실증...평가는? 2025-06-05\\n 한전, 세계 최초 수소 활용 SF6 분해 센터 준공식 개최 2025-05-29\\n 삼성물산, SMR 핵심기술 ‘SC 모듈’ 실증 완료…기대 효과는? 2025-05-29\\n 현대차그룹·한전, 수소산업 및 분산에너지 대응 행보 ‘분주’ 2025-05-25\\n 대한전선, IPF25 참가...美해상풍력 시장 본격 공략 '돌입' 2025-05-12\\n EU 집행위원장 “전기 많지만 송전, 저장시설 부족” 2025-05-09\\n '에너지공기업 역할 강화방안 모색' 세미나 성료...관전 포인트는? 2025-05-08\\n 조세금융신문, '에너지공기업 역할 강화방안 모색' 세미나 개최 2025-05-02\\n 친환경에 진심인 유럽도 먹고사는 문제 앞에선 일보후퇴할까? 2025-05-02\\n 현대로템, 전사업장 100% 재생에너지 전환 ‘첫걸음’ 2025-04-29 [...] 이는 글로벌 과제인 탄소중립목표 달성의 핵심 요소로 평가받고 있는 태양광, 풍력 같은 재생에너지 발전 비중을 높임으로써 그 목표치에 가까이 다가가고, 특히 선진국과 비교해 현저히 낮은 수준(거의 최 하위권)을 탈피하고자하는 불가피한 선택으로 보인다.\\n\\n그렇다면 지난해 말 기준 우리나라의 발전원 중 재생에너지가 차지하는 비중은 얼마이고 선진국으로 평가받고 있는 OECD 국가들의 평균치와 비교해 어느 정도의 수준일까?\\n\\n먼저 지난 5월 산업통상자원부가 발표한 2024년 기준 ‘에너지 수급 동향’에 따르면 작년 태양광·풍력 등 신재생에너지 발전량은 전년 대비 11.7% 급증해 전체 발전량에서 차지하는 비중이 2023년 9.6%에 비해 1%포인트 상승한 10.6%를 기록, 사상 처음으로 2자릿수에 진입하는 성과를 올렸다. [...] 지난해 총발전량 595.6테라와트시(TWh) 중 63.2TWh 전기를 신재생에너지가 공급한 것인데, 하지만 문제는 이러한 성과에도 불구하고 2024년 기준 OECD 평균 27.0%와(25년 6월은 35.8%) 비교하면 턱없이 적은 수치다.\\n\\n전체적인 숫자(발전비중)도 열악하지만 더 큰 문제는 증가폭이다.\\n\\n산업통상부자료와 유진투자증권 리서치센터 보고서(2025.9.22.자)에 따르면 우리나라 재생에너지 발전 비중은 2019년 약 5.5%에서 2021년 7.5%, 2022년 8.9%, 2023년 9.6%, 2024년 10.6%로 약 5년 동안 5.1%P증가에 그쳤다.\\n\\n반면 OECD의 경우 2024년 말부터 올 상반기까지 불과 6개월 만에 27.0%에서 35.8%로 8.8%P나 급증했다. 우리가 5년여 동안 5.1%P 늘리는데 그친데 반해 그들 국가는 단, 6개월 만에 8.8%P나 늘린 것.\", \"score\": 0.37182122, \"raw_content\": null}, {\"url\": \"http://www.keaj.kr/news/articleView.html?idxno=6049\", \"title\": \"데이터센터 전력소비 빠르게 증가…전력망 연결·부하변동 우려\", \"content\": \"이 밖에도 북미 지역에서는 조건부 상호연결과 저전압순간유지(LVRT, Low Voltage Ride Through) 의무화를 시행 중이다. 유럽에서는 국가별 여건에 맞는 규제를 적용하고, 동시에 표준화도 시행하고 있다.\\n\\n한편, 우리나라는 2030년 서해안 에너지 고속도로 및 2040년 U자형 한반도 에너지 고속도로 건설을 통해 서해안 해상풍력과 충청권 재생에너지를 수도권·영남으로 연결하는 HVDC 송전망 구축을 계획하고 있다. 그동안 해상풍력, 대규모 태양광 등 재생에너지 확산의 걸림돌이 됐던 계통연계 한계 문제(생산 전력을 기존 전력망에 연결하여 송전하는 과정에서 발생하는 용량 부족 문제 등)가 해소될 것으로 보인다.\\n\\n이훈 기자 hoon@kea.kr\\n\\n저작권자 © 전기저널 무단전재 및 재배포 금지\\n\\n이훈 기자 다른기사 보기\\n\\n댓글삭제\\n\\n삭제한 댓글은 다시 복구할 수 없습니다.  \\n 그래도 삭제하시겠습니까?\\n\\n댓글 0 \\n\\n댓글쓰기 [...] 이에 데이터센터를 포함한 전력집약적 기업들은 새로운 전력 조달 방안을 모색할 필요성이 대두되고 있다. 우선, 전력 생산자와 전력 소비자가 전력시장 등을 거치지 않고 직접계약을 체결하는 직접 전력구매계약(Direct Power Purchase Agreement, 이하 ‘직접 PPA’)이 주목받고 있다. 글로벌 기업들은 이미 직접 PPA를 활용하고 있다. 구글의 경우 SMR 개발업체와 500MW 규모의 직접 PPA를 체결해 2030년부터 전력을 공급받기로 했으며, 아마존도 소형모듈원자로 기업과 계약을 체결한 것으로 알려졌다. 챗GPT 개발사인 오픈AI도 소형원전 회사의 전력 사용을 검토하고 있는 것으로 알려졌다.\\n\\n또한 품질 좋은 전력을 공급받기 위해 배터리 에너지저장시스템(BESS), 그리드 연계형 무정전전원공급장치(UPS) 등이 상용되고 있으며 스테콤, 그리드포밍 인버터 등을 통해 주파수 안정성을 확보하고 있다. [...] 특히 재생에너지 발전 확대 속도에 비해 전력망 투자 속도가 따라가지 못하는 것이 현실이다. 지난해 세계 전력망 투자는 전년 대비 9% 증가한 3,900억 달러를 기록하며 역대 최고치를 경신했으나, 전력망 투자 증가 속도는 여전히 재생에너지 발전량에 크게 뒤처졌다.\\n\\n파티 비롤 국제에너지기구(IEA) 사무총장은 지난 8월에 열린 2025 기후산업국제박람회 기자회견에서 “향후 수십 년간 에너지 지형을 재편할 ‘전기의 시대’에 진입하고 있다”면서 “에너지 투자 중에서도 태양광·풍력 등 재생 에너지와 원전에 대한 투자는 증가하고 있지만, 전력망에 대한 투자는 상대적으로 크게 부족하다”고 전했다. 그는 이어 “전 세계적으로 발전 부문에 매년 1조 달러(약 1,400조 원)가 투자되는 반면 전력망에는 4,000억 달러(약 558조 원)가 지출되고 있다”며 “전력망·저장 시설에 대한 투자가 전력 수요 증가와 재생에너지 보급 속도를 따라가지 못하고 있다”고 덧붙였다.\", \"score\": 0.29750612, \"raw_content\": null}, {\"url\": \"https://www.industrynews.co.kr/news/articleView.html?idxno=72253\", \"title\": \"[명승엽PD의 이슈리포트] 글로벌 태양광, 대전환의 기로… 불확실성이 ...\", \"content\": \"특히, 소규모 태양광 프로젝트는 빠른 구축 속도 덕분에 1,500억 달러의 투자를 초과하며, 성장을 주도했다. 해상풍력 투자는 390억 달러로 급증하여 2024년의 310억 달러를 이미 초과했다.\\n\\n그러나 정부 주도의 경매로 추진되는 유틸리티 규모 태양광 및 육상풍력에 대한 투자는 전년동기 대비 13% 감소하여 2006년 이후 최저 비중을 기록했다.\\n\\n지역별로 살펴보면, 중국은 글로벌 신규 투자의 44%를 유치하며 압도적인 1위를 차지했다. 유틸리티 규모 태양광 투자는 28% 감소했으나, 2025년 6월 1일 FIT 지원 마감일을 앞두고 소규모 태양광 투자가 2배로 증가했다.\\n\\n미국은 트럼프 대통령의 재생에너지에 대한 정책적 불확실성으로 전년동기 대비 투자가 36%(205억 달러) 감소하며 가장 큰 폭의 감소를 기록했다. 반면, 유럽은 전년동기 대비 재생에너지 투자가 63%(600억 달러) 증가했다. 동남아시아의 경우에는 전년동기 대비 7% 증가했다. [...] 세부 내용으로는 통합 발전소(VPP), 분산형 에너지 저장, 차량-전력망 연계, 신에너지 저장 시스템의 지능형 운영, AI 연계 그린수소 생산 최적화, 재생에너지 통합 운영 및 지역 소비를 달성하기 위한 무탄소발전소 및 스마트 마이크로그리드 개발 지원 등을 열거하고 있다.\\n\\n이는 우리나라가 추진하고 있는 차세대 전력망 구축 사업과 매우 유사하다. 이 밖에도 태양광 지역 보급을 확대하기 위한 시장 촉진 정책들이 범람하는 수준으로 발표되고 있다.\\n\\n한편, 글로벌 태양광 모듈 출하량 TOP2인 중국의 징코솔라(Jinko Solar)와 론지(LONGi)가 n형 TOPCon 및 후면전극(BC) 태양광 기술에 대한 글로벌 특허 분쟁 합의에 전격 도달했다.\\n\\n중국, 일본, 호주, 미국, 유럽 등에서 최근 격하게 진행 중이던 모든 소송을 종료하고, 두 회사간 핵심특허에 대한 교차 라이선스를 허용한다. [...] 기후위기 대응을 위한 에너지 전환의 핵심에 ‘태양광’이 있다. 탄소중립 달성을 위한 세계 각국의 노력이 더해지면서 태양광 산업이 더욱 주목되고 있으며, 우리나라 또한 태양광 전후방 산업에서 경쟁력을 높이며 성장하고 있다. 그러나 공급망 이슈, 기술개발 투자, 정책 변화 등의 이유로 태양광 산업은 정체와 성장가능성 사이, 그 어딘가에 있다. 이에 본지는 에너지기술평가원 명승엽 태양광PD의 이슈리포트 연재를 통해 태양광 산업의 주요 이슈를 다루고 향후 전망과 개선점에 대해 살피고자 한다. / 편집자 주\\n\\n[한국에너지기술평가원 명승엽 PD] 글로벌 태양광 시장이 정책·산업·학술 현장에서 동시에 굵직한 변화를 맞이하고 있다. 정책 불확실성으로 위축된 미국 태양광 시장은 투자 자금이 빠르게 유럽으로 이동하고 있는 가운데, 중국은 태양광 과잉생산 억제와 내수 확대를 위한 강력한 표준과 인증체계 마련을 통해 글로벌 시장 주도권 다지기에 나섰다.\", \"score\": 0.19859245, \"raw_content\": null}, {\"url\": \"https://ko.wikipedia.org/wiki/%EC%97%90%EB%84%88%EC%A7%80_%EC%A0%88%EC%95%BD\", \"title\": \"에너지 절약 - 위키백과, 우리 모두의 백과사전\", \"content\": \"중국 정부는 2005년부터 에너지 절약 배출 감소 목표를 효과적으로 추진하기 위해 일련의 정책을 시작했지만, 운송 산업에서 가장 빠르게 성장하는 에너지 소비 부문인 도로 교통은 구체적이고 운영적이며 체계적인 에너지 절약 계획이 부족합니다. 특히 사회-경제 발전이 '뉴노름' 시대에 접어들었기 때문에 효과적으로 에너지 절약을 달성하고 배출량을 줄이기 위해서는 도로교통이 최우선 과제입니다. 일반적으로 정부는 수요, 구조, 기술의 세 가지 차원에서 도로교통 산업의 보전과 배출량 감축을 위한 종합적인 계획을 세워야 합니다. 예를 들어 대중교통을 이용한 여행 장려, 카셰어링 등 새로운 교통수단 도입, 구조 개혁을 위한 신에너지 차량 투자 확대 등이 있습니다.\\n\\n### 유럽 연합\\n\\n[편집]\\n\\n2006년 말, 유럽연합(EU)은 2020년까지 연간 1차 에너지 소비를 20% 줄이겠다고 약속했습니다. 2012년 EU 에너지 효율 지침은 EU 내 에너지 효율 개선을 의무화하고 있습니다. [...] 77. ↑ “A guide for effective energy saving”. 《Renewable Energy World》. 2015년 4월 9일. 2016년 6월 11일에 원본 문서에서 보존된 문서. 2016년 6월 14일에 확인함.\\n78. ↑ “경북도교육청, 에너지 절약 실천 나섰다”. 2019년 1월 23일. 2019년 2월 19일에 확인함.\\n79. ↑ “獨, 지하철 에스컬레이터 입구에 '비만 그림'… 계단 이용 유도”. 2019년 2월 20일에 확인함.\\n80. ↑ ““건강 지키고 에너지 절약!”…계단 오르기 확산”. 2019년 2월 20일에 원본 문서에서 보존된 문서. 2019년 2월 20일에 확인함.\\n81. ↑ “무더운 여름철, 에어컨과 선풍기를 같이 틀어야하는 이유”. 2018년 7월 26일. 2019년 2월 19일에 확인함.\\n82. ↑ “전기요금 폭탄 피하는 에어컨&선풍기 콤비 활용법 5 - 싱글리스트”. 2018년 7월 18일. 2019년 2월 19일에 확인함. [...] 미국의 에너지 절약 및 효율성 법률, 프로그램 및 관행을 확대하고 확대하기 위한 가장 최근의 연방법은 2007년 에너지 독립 및 보안법(EISA)입니다. 향후 수십 년 동안 EISA는 이전 법률보다 더 많은 기준과 대상을 보유하고 있기 때문에 에너지 사용을 크게 줄일 것으로 예상됩니다. 두 법안 모두 조명 및 가전제품 효율성 프로그램의 중요성을 강화하여 2020년까지 조명 효율성을 70% 추가로 목표로 삼고, 가전제품에 45개의 새로운 표준을 도입하고, 차량 연비에 대한 새로운 표준을 설정합니다. 연방 정부는 또한 건설 산업의 효율적인 건축 관행을 위해 새로운 30% 모델 코드를 추진하고 있습니다. 또한 미국 에너지 효율 경제 위원회(ACEEE)에 따르면 EISA의 에너지 효율성 및 보존 이니셔티브는 2030년에 이산화탄소 배출량을 9% 줄일 것이라고 합니다. 이러한 요구 사항에는 가전제품 및 조명 효율성, 주택, 기업 및 공공 건물의 에너지 절약, 산업 제조 시설의 효율성, 전기\", \"score\": 0.18440038, \"raw_content\": null}, {\"url\": \"https://energium.kier.re.kr/\", \"title\": \"에너지움 - 한국에너지기술연구원\", \"content\": \"2025-09-17](/sub040103/articles/view/tableid/news/id/6714)\\n\\n2925.09 실험실 원천기술 넘어 사업화… 산학연관 청정수소 ‘원팀’   2425.09 에너지 효율 향상부터 먼저하자   1725.09 탄소중립의 2050년, 우리가 쓸 수소는 어디에서 올까?\\n\\n더보기\\n\\n배경이미지\\n\\n2050 탄소중립 목표 달성을 위한 핵심 연구 조직, '온실가스감축량평가연구단' 출범! 주요 역할과 연구과제는? [...] [배경 이미지  에너지 소식 [kieration]Adieu, 2023! 올해를 빛낸 에너지 기술](/sub020106/articles/view/tableid/energy_news/id/6335)\\n\\n[배경 이미지  에너지 소식 [kieration]깨끗한 지구를 위한 각양각색 에너지 기술](/sub020106/articles/view/tableid/energy_news/id/6310)\\n\\n[배경 이미지  에너지 소식 [kieration]다채롭고 흥미로운 에너지의 모든 것](/sub020106/articles/view/tableid/energy_news/id/6253)\\n\\n[배경 이미지  에너지 소식 [kieration]더 새롭고 더 친환경적인 에너지 기술을 위한 노력](/sub020106/articles/view/tableid/energy_news/id/6246)\\n\\n배경 이미지  우수성과 Talk Talk 전기차 붙잡던 족쇄, 복합 고체전해질 소재 개발로 극복! [...] \\\"오늘 호주산 수소 가격은 ㎏당…\\\" 2050년 탄소중립 사회에서 우리는 해외 수소 가격 뉴스에 귀 기울이게 될지 모른다. 오늘날 수소차, 수소발전을 포함한 수소경제라는 말은 이제 점점 익숙해지고 있지만, 정작 우리가 쓸 수소가 어디서 오는지는 잘 알려지지 않았다. 많은 사람이 국내에서 친환경적으로 생산될 것이라 생각하지만, 현실은 다르다. 현재 국내에서 사용하는 수소의 대부분은 석유화학 공정에서 부산물로 나오는 부생수소다. 양이 적고 이산화탄소도 배출되어 결코 지속가능한 방법이 될 수 없다. 정부는 2050년까지 수소가 우리나라 최종에너지 소비의 33%를 차지하도록 확대하겠다는 목표를 세웠다. 이는 연간 약 2790만 톤의 막대한 양의 수소가 필요하다는 의미다. 하지만 국내에서 생산되는 수소만으로 이를 충당하기란 사실상 불가능하다. 국토가 좁고 태양광·풍력과 같은 재생에너지 자원이 부족한 우리나라 현실에 비추어 그린수소를 대규모로 생산하기 어렵기 때문이다. 실제 제주에서 풍력으로\", \"score\": 0.14396851, \"raw_content\": null}], \"response_time\": 1.63, \"request_id\": \"6e1bc212-e9a6-4eea-b6e9-935f5e3da8d4\"}\n",
      "==================================\u001b[1m Ai Message \u001b[0m==================================\n",
      "\n",
      "최근 한 달간의 에너지 부족 문제와 관련된 주요 동향은 다음과 같습니다:\n",
      "\n",
      "1. 재생에너지 발전 비중 확대 노력\n",
      "- 우리나라는 2024년 기준 신재생에너지 발전 비중이 10.6%로 사상 처음 2자릿수에 진입했으나, OECD 평균 27.0%에 비해 매우 낮은 수준입니다.\n",
      "- 재생에너지 발전 비중 증가 속도가 OECD 국가에 비해 느려서, 태양광과 풍력 같은 재생에너지 확대가 시급한 상황입니다.\n",
      "\n",
      "2. 전력망 투자 및 인프라 문제\n",
      "- 재생에너지 발전 속도에 비해 전력망 및 저장 설비 투자 부족으로, 전력계통 연계 한계 문제가 발생하고 있습니다.\n",
      "- 한국은 2030년 서해안 에너지 고속도로, 2040년 U자형 한반도 에너지 고속도로 건설을 통해 재생에너지 전력의 송전 및 분산을 강화할 계획입니다.\n",
      "\n",
      "3. 대규모 에너지 수요 증가와 대응\n",
      "- 데이터센터 등 전력 소모가 큰 산업들의 전력 수급 이슈가 커지고 있습니다.\n",
      "- 미국, 유럽, 한국 등에서는 소형모듈원자로(SMR)와 수소 에너지 등 다양한 신기술 도입과 직접 전력구매계약(PPA) 방식이 활발히 추진되고 있습니다.\n",
      "\n",
      "4. 글로벌 재생에너지 투자 동향\n",
      "- 중국이 전체 재생에너지 투자에서 44%를 차지하며 주도권을 강화하고 있습니다.\n",
      "- 미국은 정책 불확실성으로 재생에너지 투자가 감소한 반면, 유럽과 동남아시아는 재생에너지 투자가 증가하는 추세입니다.\n",
      "\n",
      "5. 에너지 절약 및 효율성 강화\n",
      "- 유럽, 미국 등에서 건물, 가전제품, 교통 부문 등에서 에너지 효율 개선을 위한 정책과 기술 개발이 지속되고 있습니다.\n",
      "\n",
      "6. 수소경제 및 탄소중립 목표\n",
      "- 2050년 탄소중립을 목표로 수소에너지 확대가 중요하며, 국내에서는 그린수소 생산 인프라 구축에 한계가 있으므로 해외 수소 수입 가능성도 제기되고 있습니다.\n",
      "\n",
      "요약하면, 에너지 부족 문제 해결을 위해 재생에너지 발전비중 확대, 전력망 확충, 신기술 도입, 에너지 효율 제고, 수소경제 활성화 등이 전 세계적으로 활발히 진행되고 있으나, 각각의 국가별 현실적 제약과 정책 불확실성도 존재하는 상황입니다. 필요하면 국내외 구체적인 사례나 정책 방향을 더 상세히 제공해드릴 수 있습니다.\n"
     ]
    }
   ],
   "source": [
    "# 대화 계속\n",
    "result = agent.invoke({\n",
    "    \"messages\": [\n",
    "        {\"role\": \"user\", \"content\": \"에너지 부족 문제에 대해 조사해주세요.\"}\n",
    "    ]\n",
    "},\n",
    "config={\"configurable\": {\"thread_id\": \"custom_thread_001\"}})\n",
    "\n",
    "for msg in result[\"messages\"]:\n",
    "    msg.pretty_print()"
   ]
  },
  {
   "cell_type": "markdown",
   "metadata": {},
   "source": [
    "`(2) 커스텀 Middleware 생성`"
   ]
  },
  {
   "cell_type": "code",
   "execution_count": 12,
   "metadata": {},
   "outputs": [],
   "source": [
    "from langchain.agents.middleware import AgentMiddleware\n",
    "from typing import Any, Dict\n",
    "\n",
    "class LoggingMiddleware(AgentMiddleware):\n",
    "    \"\"\"모든 도구 호출을 로깅하는 Middleware\"\"\"\n",
    "    \n",
    "    def before_model(self, state: Dict[str, Any], runtime) -> Dict[str, Any] | None:\n",
    "        \"\"\"모델 호출 전에 실행\"\"\"\n",
    "        print(f\"🤖 모델 호출 전: {len(state['messages'])} 메시지\")\n",
    "        return None\n",
    "    \n",
    "    def after_model(self, state: Dict[str, Any], runtime) -> Dict[str, Any] | None:\n",
    "        \"\"\"모델 호출 후에 실행\"\"\"\n",
    "        last_message = state[\"messages\"][-1]\n",
    "        if hasattr(last_message, \"tool_calls\") and last_message.tool_calls:\n",
    "            print(f\"🔧 도구 호출: {[tc['name'] for tc in last_message.tool_calls]}\")\n",
    "        return None\n",
    "\n",
    "class RateLimitMiddleware(AgentMiddleware):\n",
    "    \"\"\"도구 호출 속도 제한\"\"\"\n",
    "    \n",
    "    def __init__(self, max_calls_per_minute: int = 10):\n",
    "        self.max_calls = max_calls_per_minute\n",
    "        self.call_times = []\n",
    "    \n",
    "    def wrap_tool_call(self, request, handler):\n",
    "        \"\"\"도구 호출을 래핑하여 속도 제한 적용\"\"\"\n",
    "        import time\n",
    "        from datetime import datetime, timedelta\n",
    "        \n",
    "        # 최근 1분 내 호출 정리\n",
    "        now = datetime.now()\n",
    "        self.call_times = [t for t in self.call_times \n",
    "                          if now - t < timedelta(minutes=1)]\n",
    "        \n",
    "        # 속도 제한 확인\n",
    "        if len(self.call_times) >= self.max_calls:\n",
    "            raise Exception(f\"속도 제한: 분당 최대 {self.max_calls}회 호출 가능\")\n",
    "        \n",
    "        # 도구 실행\n",
    "        self.call_times.append(now)\n",
    "        return handler(request)\n",
    "\n",
    "agent = create_agent(\n",
    "    model=\"openai:gpt-4.1-nano\",\n",
    "    tools=[search_tool],\n",
    "    middleware=[\n",
    "        LoggingMiddleware(),\n",
    "        RateLimitMiddleware(max_calls_per_minute=1) # 테스트용으로 1분에 1회 제한\n",
    "    ]\n",
    ")\n"
   ]
  },
  {
   "cell_type": "code",
   "execution_count": 13,
   "metadata": {},
   "outputs": [
    {
     "name": "stdout",
     "output_type": "stream",
     "text": [
      "🤖 모델 호출 전: 1 메시지\n",
      "🔧 도구 호출: ['tavily_search']\n",
      "🤖 모델 호출 전: 3 메시지\n",
      "================================\u001b[1m Human Message \u001b[0m=================================\n",
      "\n",
      "2024년 노벨 물리학상 수상자는 누구인가요?\n",
      "==================================\u001b[1m Ai Message \u001b[0m==================================\n",
      "Tool Calls:\n",
      "  tavily_search (call_lopXUiW3MUK7Z7s4cRdMDlji)\n",
      " Call ID: call_lopXUiW3MUK7Z7s4cRdMDlji\n",
      "  Args:\n",
      "    query: 2024년 노벨 물리학상 수상자\n",
      "    search_depth: advanced\n",
      "=================================\u001b[1m Tool Message \u001b[0m=================================\n",
      "Name: tavily_search\n",
      "\n",
      "{\"query\": \"2024년 노벨 물리학상 수상자\", \"follow_up_questions\": null, \"answer\": null, \"images\": [], \"results\": [{\"url\": \"https://www.newskorea.ne.kr/news/articleView.html?idxno=12736\", \"title\": \"2024년 노벨 물리학상 수상자 - 뉴스코리아(NEWS KOREA)\", \"content\": \"6개 시·군 21개 기업, 4,448억 원 투자 유치\\n\\n자활사업으로 일구는 ‘내일’의 희망\\n\\n㈜몬스터에프앤에스, 천안지역 취약계층 위해 1200만원 상당 후원\\n\\n## 본문영역\\n\\n### 2024년 노벨 물리학상 수상자\\n\\n#### 노벨 물리학상\\n\\n 주강호 특파원 newsjebo@newskorea.ne.kr\\n 입력 2024.10.11 12:07\\n\\n 글씨크기\\n\\n이 기사를 공유합니다\\n\\n(뉴스코리아=스톡홀름) 주강호 특파원 = 2024년 노벨 물리학상은 존 J. 홉필드(John J. Hopfield)와 제프리 E. 힌튼(Geoffrey E. Hinton)이 \\\"인공 신경망으로 머신러닝을 가능하게 하는 기초적인 발견과 발명\\\"을 인정받아 수상했다.\\n\\n존 J. 홉필드(John J. Hopfield)는 데이터의 이미지 및 기타 유형의 패턴을 저장하고 재구성할 수 있는 연관 메모리를 만들었다. [...] 제프리 힌튼(Geoffrey Hinton)은 데이터에서 속성을 자율적으로 찾을 수 있는 방법을 발명하여 그림의 특정 요소를 식별하는 등의 작업을 수행할 수 있게 했다.\\n\\n본 기사는 독자들이 후원 해주시는 소중한 후원금으로 제작 됩니다. 이 기사가 유익하셨다면 기자에게 원고료를 후원해주세요. 아래 후원하기를 누르신후 추천인란에 담당 기자의 이름을 적어주시면 기자에게 원고료가 지급 됩니다.\\n\\n 주강호 특파원 newsjebo@newskorea.ne.kr\\n\\n저작권자 © 뉴스코리아(NEWS KOREA) 무단전재 및 재배포 금지\\n\\n이 기사를 후원합니다.\\n\\n037-130689-04-011(IBK기업은행)예금주 : 주식회사 뉴스코리아\\n\\n후원하기\\n\\n#### 개의 댓글\\n\\n##### 댓글 정렬\\n\\nBEST댓글\\n\\nBEST 댓글 답글과 추천수를 합산하여 자동으로 노출됩니다.\\n\\n댓글삭제\\n\\n삭제한 댓글은 다시 복구할 수 없습니다.그래도 삭제하시겠습니까?\\n\\n댓글수정 [...] ## 상단영역\\n\\nUPDATED. 2025-10-15 01:00 (수)\\n\\nfacebook facebook naverTV youtube 네이버 블로그 네이버 포스트 네이버 포스트 카카오 채널\\n\\n# \\n\\n로그인 회원가입\\n\\n주요뉴스\\n\\n[[캠퍼스무비] '지연이의 속셈' 이상호 감독, 김승현 주진수 이경애 안재희 출연](/news/articleView.html?idxno=17022)\\n\\n10월 ‘이달의 재외동포’ 서갑호 회장\\n\\n눈과 귀를 사로잡는 정열의 탱고, 《탱고, 매혹 2025》\\n\\n충남콘텐츠진흥원, 지역 뮤지션 협력 플랫폼 강화... 교류 워크숍 성료\\n\\n충남 수산식품, 독일 아누가 박람회서 395만 달러 수출 쾌거\\n\\n[[동정] 조병옥 충북 음성군수](/news/articleView.html?idxno=17018)\\n\\n“충절은 스러지지 않았다”… 화순, 충의공 최경회 선생의 호국정신을 잇다\\n\\n전남 화순군, ‘2025 만연사 산사음악회’ 개최\\n\\n김경협 청장 “재외동포 언론, 좋은 정책 제안해달라”\", \"score\": 0.95458406, \"raw_content\": null}, {\"url\": \"https://www.jsd.or.kr/?c=resource/631/806&uid=27884\", \"title\": \"2024년 노벨 물리학상 수상자 발표 - 증산도\", \"content\": \"+ 공지사항\\n  + 언론보도\\n  + 행사후기\\n  + 상생레터\\n 회원게시판\\n\\n# 2024년 노벨 물리학상 수상자 발표\\n\\n신상구 | 2024.10.09 23:53 | 조회 4525\\n\\n 신고\\n 인쇄;)\\n 스크랩\\n\\n2024년 노벨 물리학상 수상자 발표\\n\\n올해 노벨 물리학상 수상자로 제프리 힌턴(77) 캐나다 토론토대 교수와 함께 선정된 존 홉필드(91) 미국 프린스턴대 교수는 8일(현지 시각) 온라인 기자회견을 가졌다. [...] 1. 윤주현, \\\"노벨 물리학상 공동 수상자 존 홉필드 \\\"물리학자로 통제할 수 없는 것에 불안\\\", 조선일보, 2024.10.9일자.\\n\\n수정 답변 삭제 목록으로\\n\\n댓글 0개 | 엮인글 0개\\n\\n- 전체)\\n- 자유게시글 \\\"자유게시글\\\")\\n- 시사정보 \\\"시사정보\\\")\\n- 좋은글 \\\"좋은글\\\")\\n- 사진과 영상 \\\"사진과 영상\\\")\\n- 말씀묵상 \\\"말씀묵상\\\")\\n- 진리공부 \\\"진리공부\\\")\\n- 건강정보 \\\"건강정보\\\")\\n- 질문과 답변 \\\"질문과 답변\\\")\\n- 추천도서 \\\"추천도서\\\")\\n- 역사공부방 \\\"역사공부방\\\")\\n- 행사알림 \\\"행사알림\\\")\\n- SNS활용 \\\"SNS활용\\\")\\n- 오늘의영어성구 \\\"오늘의영어성구\\\")\\n\\n1,650개(1/110페이지)\\n\\n게시판 [...] 현재 영국에 머물고 있는 홉필드 교수는 아내와 함께 독감 예방 주사를 맞으러 나갔다가 커피를 마신 뒤 집에 돌아와 수상 소식을 접했다고 했다. 그는 “집에 와 보니 놀랍고 가슴 따뜻해지는 수많은 축하 이메일이 와 있었다”고 했다. 또 AI 연구에 대해서는 “매우 흥미롭고 유용하며 사람들이 계속해서 더 나은 기술을 개발하는 데 의존하는 기술을 만들어내는 원천”이라고 했다.\\n\\n스웨덴 왕립과학원 노벨위원회는 오늘날 인공지능(AI)의 시대를 연 인공 신경망 연구로 기계 학습(머신 러닝)과 심층 학습(딥 러닝)의 토대를 놓은 것으로 평가받는 홉필드 교수와 힌턴 교수에게 노벨 물리학상을 수여한다고 밝혔다. 홉필드 교수는 AI 학습의 기본이 되는 연관 기억의 원리를 1982년에 인공 신경망 연구에 처음으로 적용했다. 홉필드, 힌턴 교수의 연구는 오늘날 챗GPT로 대표되는 생성형 AI의 기반이 됐다.\\n\\n<참고문헌>\", \"score\": 0.9542783, \"raw_content\": null}, {\"url\": \"https://dgistdna.com/869\", \"title\": \"[2024 노벨 물리학상] 인공 신경망의 이론적 기반 발명, 그 배경의 학제 ...\", \"content\": \"## 상세 컨텐츠\\n\\n### 본문 제목\\n\\n[2024 노벨 물리학상] 인공 신경망의 이론적 기반 발명, 그 배경의 학제적 연구\\n\\n학술\\n\\n### 본문\\n\\n지난 10월 8일, 미국 프린스턴 대학교의 존 홉필드와 캐나다 토론토 대학의 제프리 힌턴이 2024년 노벨 물리학상을 수상했다. 수상자를 발표한 스웨덴 왕립 과학 한림원 노벨 위원회(이하 위원회)는 “인공 신경망을 이용한 기계 학습의 이론적 기반 발견과 발명”을 공로로 두 사람에게 노벨 물리학상을 수여한다고 밝혔다. [...] 올해의 노벨 물리학상은 인공지능 분야에 수여되어 학계의 큰 주목을 받았다. 노벨 물리학상 수여 이유에 덧붙여, 위원회는 두 수상자의 연구 배경에 통계물리학 이론이 있다고 설명했다. 올해처럼 통계물리학이 전통적인 물리 연구 대상에서 벗어난 범위에 적용되며 노벨상을 받은 또 다른 사례로는 2021년 수상이 있다. 그해에는 통계물리의 하위 분야인 복잡계 물리를 연구한 ▲슈쿠로 마나베 ▲클라우스 하셀만 ▲조르조 파리시가 노벨 물리학상을 받았다. 특히 마나베와 하셀만은 복잡계 물리를 기후학에 접목하여 “지구 기후의 물리적 모델링을 위해 변동성을 정량화하고, 지구 온난화를 안정적으로 예측한” 공로로 노벨 물리학상을 받았다.\\n\\n \\n\\n \\n\\n김신지 기자 sjneuroneurony@dgist.ac.kr [...] 올해 노벨 물리학상 수상으로, 힌턴은 역사상 최초로 컴퓨터 과학자가 노벨 물리학상을 받은 사례가 되었다. 1985년, 실험 심리학 연구 경험이 있던 힌턴은 카네기 멜론 대학 컴퓨터과학부의 데이비드 애클리, 존스홉킨스 대학 생명물리학부의 테런스 세즈노스키와 함께 ‘볼츠만 머신을 위한 학습 알고리즘’(#_edn1)을 Cognitive Science지에 발표했다. 볼츠만 머신은 홉필드 네트워크에서 발전한 모델로, 단순히 기억을 연상하는 것을 넘어 데이터의 특징을 인식하거나 패턴을 통해 정보를 생성할 수 있다. 이 모델에는 시스템 상태의 에너지를 이용해 해당 상태에 있을 확률을 계산하는 통계 역학 이론인 볼츠만 분포가 활용되었다.\", \"score\": 0.9489978, \"raw_content\": null}, {\"url\": \"https://www.popsci.co.kr/news/articleView.html?idxno=21905\", \"title\": \"AI 시대 노벨물리학상 수상자는 '신경망' 개발자 - 파퓰러사이언스\", \"content\": \"노벨 물리학상 수상자를 결정하는 스웨덴 왕립 과학 아카데미도 ‘인공지능(AI)’이라는 시대의 흐름에 주목했다. 2024년 노벨 물리학상은 ‘인공 신경망을 이용한 기계학습(머신러닝)’의 원리를 발견한 한 ‘존 J. 홉필드(John J. Hopfield)’ 미국 프린스턴대 교수와 ‘제프리 E. 힌튼(Geoffrey E. Hinton)’ 캐나다 토론토대 교수에게 돌아갔다. 노벨위원회는 인공 신경망을 이용한 머신러닝의 원리를 발견한 공로를 인정해 두 사람을 노벨 물리학상을 수상자로 결정했다고 8일 오전(현지시간) 공식 홈페이지를 통해 밝혔다. [...] ## 상단영역\\n\\nUPDATED. 2025-10-27 23:40 (월)\\n\\nPOPSCI-ENG\\n\\n#\\n\\n## 본문영역\\n\\n극지연구소, 빙하 소멸 막는 ‘뜻밖의 조력자’ 찾았다\\n\\n일론 머스크 “Grok 5, AGI 도달 확률 10%”… AI 경쟁 구도 재조명\\n\\n생명연, ‘미세플라스틱 모유’ 먹은 아기 쥐 건강 악화 규명\\n\\n### AI 시대 노벨물리학상 수상자는 ‘신경망’ 개발자\\n\\n#### [2024노벨상] 존 J. 홉필드, 제프리 E. 힌튼 2인 공동 수상 현대 AI의 근간인 ‘신경망’ 및 ‘머신러닝’ 원리 발견\\n\\n 기자명 전승민 기자\\n 입력 2024.10.08 21:52\\n 수정 2024.10.21 18:02\\n\\n글씨크기 [...] 노벨위원회는 이날 보도자료를 발표하고 ‘2024년 노벨 물리학상 수상자들은 물리학을 활용하여 정보의 패턴을 찾아냈다’고 했다. AI 분야 연구가 노벨상과 다소 동떨어져 보일 수 있다는 사실을 의식하고 ‘두 사람의 업적은 그 근간이 물리학’이라는 점을 강조한 것으로 읽힌다.\\n\\n실제로 홉필드 교수는 프린스턴 대에서 컴퓨터 과학, 생물학, 물리학 등 다양한 분야에서 혁신적인 연구를 수행했다. 특히 정보 저장 및 재구성 구조를 설계하는데 집중해 머신러닝 발전에 중요한 기초를 마련하고, AI가 어떻게 데이터를 처리하고 활용하는지에 대한 중요한 토대를 제공했다.\", \"score\": 0.94608605, \"raw_content\": null}, {\"url\": \"https://maily.so/seanlee/posts/w6ovljl3zk5\", \"title\": \"2024 노벨 물리학상 수상자 제프리 힌튼과 1세대 연구자들 - 메일리\", \"content\": \"## 인공지능\\n\\n# 2024 노벨 물리학상 수상자 제프리 힌튼과 1세대 연구자들\\n\\n## 인공신경망으로 기계 학습을 가능하게 만든 위대한 연구자\\n\\n2024.10.09\\n|\\n\\n조회 1.54K\\n|\\n\\n0\\n\\n|\\n\\n​\\n\\n☕\\n\\n### 주간 Tech Review 님에게 커피와 쪽지 보내기\\n\\n커피와 함께 하고싶은 말을 쪽지에 적어주시면 메일리가 프라이빗 하게 전달 해드려요.\\n\\n주간 Tech Review\\n\\nIT 업계의 정보와 인사이트를 공유하고 있습니다.\\n\\n이미 구독하셨나요?\\n\\n2024년 노벨 물리학상 수상자로 제프리 힌튼 토론토 대학 교수와 존 홉필드 프린스턴 대학 교수가 선정되었습니다.\\n\\n존 홉필드 (좌) 제프리 힌튼 (우)\\n\\n노벨상 수상자 선정 위원회는 “인공 신경망으로 기계 학습을 가능하게 하는 기초적인 발견과 발명”을 한 공로가 크다고 이야기하였는데요, 그 과정이 꽤 흥미롭습니다. [...] 역전파 알고리즘 공동 발명, 현재 인공 신경망 훈련에 널리 사용됨\\n\\n 분산 표현 개념 도입으로 신경망 작동 이해에 기여\\n\\n 제한 볼츠만 머신(RBM)과 심층 신념 네트워크(DBN) 연구로 AI 커뮤니티에 큰 영향\\n\\n 딥러닝 연구 공로를 인정받아 2018년 튜링상 수상, 2024년 노벨 물리학상 수상\\n\\n## 리처드 서튼 (Richard Sutton):\\n\\n 1956년생, 68세 (추정)\\n\\n 캐나다 앨버타 대학 교수, 앨버타 기계지능 연구소(Amii)의 수석 과학자\\n\\n 강화학습의 선구자: 현대 강화학습 이론의 기초를 다진 연구자\\n\\n \\\"Reinforcement Learning: An Introduction\\\"이라는 강화학습의 고전적인 교과서를 저술\\n\\n 강화학습 (Reinforcement Learning)은 구글의 알파고 및 OpenAI의 ChatGPT에 활용\\n\\n## 얀 르쿤 (Yann LeCun):\\n\\n 1960년생, 64세\\n\\n Meta 수석 AI 과학자 및 AI 연구 개발 총괄 [...] 이렇게 정리를 한번 해보고 나니 흥미로운 사실들도 몇몇 눈에 띕니다. 비슷한 시기에 활동해서 비슷한 연배일 것 같지만, 사실 제프리 힌튼 교수가 1947년생으로 아득한 선배이고, 그 다음이 1956년생(추정)인 리처드 서튼, 1960년생인 얀 르쿤, 1964년생인 요슈아 벤지오가 비슷한 연배이며 앤드류 응 교수는 1976년생으로 무척 젊은 편입니다. 그리고 다섯 분 중에서 세분이 캐나다에 계시다는 것도 흥미롭네요 (힌튼-온타리오주 토론토, 서튼-앨버타주 에드먼튼, 벤지오-퀘벡주 몬트리올).\\n\\n지금 업계를 이끌어가는 것은 이분들의 제자들인데요. 이 제자들 중에서도 언젠가 다른 노벨상이 나올 수도 있지 않을까 기대해보게 됩니다.\\n\\n### 다가올 뉴스레터가 궁금하신가요?\\n\\n지금 구독해서 새로운 레터를 받아보세요\\n\\n### 이번 뉴스레터 어떠셨나요?\\n\\n주간 Tech Review 님에게 ☕️ 커피와 ✉️ 쪽지를 보내보세요!\\n\\n​\\n\\n☕\", \"score\": 0.9396537, \"raw_content\": null}], \"response_time\": 0.0, \"request_id\": \"f77ddd65-69ec-42b8-b1cf-c947e62eceb0\"}\n",
      "==================================\u001b[1m Ai Message \u001b[0m==================================\n",
      "\n",
      "2024년 노벨 물리학상 수상자는 존 J. 홉필드(John J. Hopfield)와 제프리 E. 힌튼(Geoffrey E. Hinton)입니다. 두 사람은 인공 신경망으로 머신러닝을 가능하게 하는 기초적인 발견과 발명을 인정받아 수상하였으며, 인공지능 분야의 연구로 노벨상을 수상한 사례입니다.\n"
     ]
    }
   ],
   "source": [
    "# 에이전트 실행 (로깅 확인)\n",
    "result = agent.invoke({\n",
    "    \"messages\": [{\"role\": \"user\", \"content\": \"2024년 노벨 물리학상 수상자는 누구인가요?\"}]\n",
    "})\n",
    "\n",
    "for msg in result[\"messages\"]:\n",
    "    msg.pretty_print()"
   ]
  },
  {
   "cell_type": "code",
   "execution_count": 21,
   "metadata": {},
   "outputs": [
    {
     "ename": "ValueError",
     "evalue": "Checkpointer requires one or more of the following 'configurable' keys: thread_id, checkpoint_ns, checkpoint_id",
     "output_type": "error",
     "traceback": [
      "\u001b[31m---------------------------------------------------------------------------\u001b[39m",
      "\u001b[31mValueError\u001b[39m                                Traceback (most recent call last)",
      "\u001b[36mCell\u001b[39m\u001b[36m \u001b[39m\u001b[32mIn[21]\u001b[39m\u001b[32m, line 2\u001b[39m\n\u001b[32m      1\u001b[39m \u001b[38;5;66;03m# 의도된 오류 발생.\u001b[39;00m\n\u001b[32m----> \u001b[39m\u001b[32m2\u001b[39m result = \u001b[43magent\u001b[49m\u001b[43m.\u001b[49m\u001b[43minvoke\u001b[49m\u001b[43m(\u001b[49m\u001b[43m{\u001b[49m\n\u001b[32m      3\u001b[39m \u001b[43m    \u001b[49m\u001b[33;43m\"\u001b[39;49m\u001b[33;43mmessages\u001b[39;49m\u001b[33;43m\"\u001b[39;49m\u001b[43m:\u001b[49m\u001b[43m \u001b[49m\u001b[43m[\u001b[49m\u001b[43m{\u001b[49m\u001b[33;43m\"\u001b[39;49m\u001b[33;43mrole\u001b[39;49m\u001b[33;43m\"\u001b[39;49m\u001b[43m:\u001b[49m\u001b[43m \u001b[49m\u001b[33;43m\"\u001b[39;49m\u001b[33;43muser\u001b[39;49m\u001b[33;43m\"\u001b[39;49m\u001b[43m,\u001b[49m\u001b[43m \u001b[49m\u001b[33;43m\"\u001b[39;49m\u001b[33;43mcontent\u001b[39;49m\u001b[33;43m\"\u001b[39;49m\u001b[43m:\u001b[49m\u001b[43m \u001b[49m\u001b[33;43m\"\u001b[39;49m\u001b[33;43m2020년대 노벨 물리학상 수상자는 누구인가요?\u001b[39;49m\u001b[33;43m\"\u001b[39;49m\u001b[43m}\u001b[49m\u001b[43m]\u001b[49m\n\u001b[32m      4\u001b[39m \u001b[43m}\u001b[49m\u001b[43m)\u001b[49m\n\u001b[32m      6\u001b[39m \u001b[38;5;28;01mfor\u001b[39;00m msg \u001b[38;5;129;01min\u001b[39;00m result[\u001b[33m\"\u001b[39m\u001b[33mmessages\u001b[39m\u001b[33m\"\u001b[39m]:\n\u001b[32m      7\u001b[39m     msg.pretty_print()\n",
      "\u001b[36mFile \u001b[39m\u001b[32mh:\\miniconda3\\envs\\modu3\\Lib\\site-packages\\langgraph\\pregel\\main.py:3094\u001b[39m, in \u001b[36mPregel.invoke\u001b[39m\u001b[34m(self, input, config, context, stream_mode, print_mode, output_keys, interrupt_before, interrupt_after, durability, **kwargs)\u001b[39m\n\u001b[32m   3091\u001b[39m chunks: \u001b[38;5;28mlist\u001b[39m[\u001b[38;5;28mdict\u001b[39m[\u001b[38;5;28mstr\u001b[39m, Any] | Any] = []\n\u001b[32m   3092\u001b[39m interrupts: \u001b[38;5;28mlist\u001b[39m[Interrupt] = []\n\u001b[32m-> \u001b[39m\u001b[32m3094\u001b[39m \u001b[43m\u001b[49m\u001b[38;5;28;43;01mfor\u001b[39;49;00m\u001b[43m \u001b[49m\u001b[43mchunk\u001b[49m\u001b[43m \u001b[49m\u001b[38;5;129;43;01min\u001b[39;49;00m\u001b[43m \u001b[49m\u001b[38;5;28;43mself\u001b[39;49m\u001b[43m.\u001b[49m\u001b[43mstream\u001b[49m\u001b[43m(\u001b[49m\n\u001b[32m   3095\u001b[39m \u001b[43m    \u001b[49m\u001b[38;5;28;43minput\u001b[39;49m\u001b[43m,\u001b[49m\n\u001b[32m   3096\u001b[39m \u001b[43m    \u001b[49m\u001b[43mconfig\u001b[49m\u001b[43m,\u001b[49m\n\u001b[32m   3097\u001b[39m \u001b[43m    \u001b[49m\u001b[43mcontext\u001b[49m\u001b[43m=\u001b[49m\u001b[43mcontext\u001b[49m\u001b[43m,\u001b[49m\n\u001b[32m   3098\u001b[39m \u001b[43m    \u001b[49m\u001b[43mstream_mode\u001b[49m\u001b[43m=\u001b[49m\u001b[43m[\u001b[49m\u001b[33;43m\"\u001b[39;49m\u001b[33;43mupdates\u001b[39;49m\u001b[33;43m\"\u001b[39;49m\u001b[43m,\u001b[49m\u001b[43m \u001b[49m\u001b[33;43m\"\u001b[39;49m\u001b[33;43mvalues\u001b[39;49m\u001b[33;43m\"\u001b[39;49m\u001b[43m]\u001b[49m\n\u001b[32m   3099\u001b[39m \u001b[43m    \u001b[49m\u001b[38;5;28;43;01mif\u001b[39;49;00m\u001b[43m \u001b[49m\u001b[43mstream_mode\u001b[49m\u001b[43m \u001b[49m\u001b[43m==\u001b[49m\u001b[43m \u001b[49m\u001b[33;43m\"\u001b[39;49m\u001b[33;43mvalues\u001b[39;49m\u001b[33;43m\"\u001b[39;49m\n\u001b[32m   3100\u001b[39m \u001b[43m    \u001b[49m\u001b[38;5;28;43;01melse\u001b[39;49;00m\u001b[43m \u001b[49m\u001b[43mstream_mode\u001b[49m\u001b[43m,\u001b[49m\n\u001b[32m   3101\u001b[39m \u001b[43m    \u001b[49m\u001b[43mprint_mode\u001b[49m\u001b[43m=\u001b[49m\u001b[43mprint_mode\u001b[49m\u001b[43m,\u001b[49m\n\u001b[32m   3102\u001b[39m \u001b[43m    \u001b[49m\u001b[43moutput_keys\u001b[49m\u001b[43m=\u001b[49m\u001b[43moutput_keys\u001b[49m\u001b[43m,\u001b[49m\n\u001b[32m   3103\u001b[39m \u001b[43m    \u001b[49m\u001b[43minterrupt_before\u001b[49m\u001b[43m=\u001b[49m\u001b[43minterrupt_before\u001b[49m\u001b[43m,\u001b[49m\n\u001b[32m   3104\u001b[39m \u001b[43m    \u001b[49m\u001b[43minterrupt_after\u001b[49m\u001b[43m=\u001b[49m\u001b[43minterrupt_after\u001b[49m\u001b[43m,\u001b[49m\n\u001b[32m   3105\u001b[39m \u001b[43m    \u001b[49m\u001b[43mdurability\u001b[49m\u001b[43m=\u001b[49m\u001b[43mdurability\u001b[49m\u001b[43m,\u001b[49m\n\u001b[32m   3106\u001b[39m \u001b[43m    \u001b[49m\u001b[43m*\u001b[49m\u001b[43m*\u001b[49m\u001b[43mkwargs\u001b[49m\u001b[43m,\u001b[49m\n\u001b[32m   3107\u001b[39m \u001b[43m\u001b[49m\u001b[43m)\u001b[49m\u001b[43m:\u001b[49m\n\u001b[32m   3108\u001b[39m \u001b[43m    \u001b[49m\u001b[38;5;28;43;01mif\u001b[39;49;00m\u001b[43m \u001b[49m\u001b[43mstream_mode\u001b[49m\u001b[43m \u001b[49m\u001b[43m==\u001b[49m\u001b[43m \u001b[49m\u001b[33;43m\"\u001b[39;49m\u001b[33;43mvalues\u001b[39;49m\u001b[33;43m\"\u001b[39;49m\u001b[43m:\u001b[49m\n\u001b[32m   3109\u001b[39m \u001b[43m        \u001b[49m\u001b[38;5;28;43;01mif\u001b[39;49;00m\u001b[43m \u001b[49m\u001b[38;5;28;43mlen\u001b[39;49m\u001b[43m(\u001b[49m\u001b[43mchunk\u001b[49m\u001b[43m)\u001b[49m\u001b[43m \u001b[49m\u001b[43m==\u001b[49m\u001b[43m \u001b[49m\u001b[32;43m2\u001b[39;49m\u001b[43m:\u001b[49m\n",
      "\u001b[36mFile \u001b[39m\u001b[32mh:\\miniconda3\\envs\\modu3\\Lib\\site-packages\\langgraph\\pregel\\main.py:2551\u001b[39m, in \u001b[36mPregel.stream\u001b[39m\u001b[34m(self, input, config, context, stream_mode, print_mode, output_keys, interrupt_before, interrupt_after, durability, subgraphs, debug, **kwargs)\u001b[39m\n\u001b[32m   2534\u001b[39m run_manager = callback_manager.on_chain_start(\n\u001b[32m   2535\u001b[39m     \u001b[38;5;28;01mNone\u001b[39;00m,\n\u001b[32m   2536\u001b[39m     \u001b[38;5;28minput\u001b[39m,\n\u001b[32m   2537\u001b[39m     name=config.get(\u001b[33m\"\u001b[39m\u001b[33mrun_name\u001b[39m\u001b[33m\"\u001b[39m, \u001b[38;5;28mself\u001b[39m.get_name()),\n\u001b[32m   2538\u001b[39m     run_id=config.get(\u001b[33m\"\u001b[39m\u001b[33mrun_id\u001b[39m\u001b[33m\"\u001b[39m),\n\u001b[32m   2539\u001b[39m )\n\u001b[32m   2540\u001b[39m \u001b[38;5;28;01mtry\u001b[39;00m:\n\u001b[32m   2541\u001b[39m     \u001b[38;5;66;03m# assign defaults\u001b[39;00m\n\u001b[32m   2542\u001b[39m     (\n\u001b[32m   2543\u001b[39m         stream_modes,\n\u001b[32m   2544\u001b[39m         output_keys,\n\u001b[32m   2545\u001b[39m         interrupt_before_,\n\u001b[32m   2546\u001b[39m         interrupt_after_,\n\u001b[32m   2547\u001b[39m         checkpointer,\n\u001b[32m   2548\u001b[39m         store,\n\u001b[32m   2549\u001b[39m         cache,\n\u001b[32m   2550\u001b[39m         durability_,\n\u001b[32m-> \u001b[39m\u001b[32m2551\u001b[39m     ) = \u001b[38;5;28;43mself\u001b[39;49m\u001b[43m.\u001b[49m\u001b[43m_defaults\u001b[49m\u001b[43m(\u001b[49m\n\u001b[32m   2552\u001b[39m \u001b[43m        \u001b[49m\u001b[43mconfig\u001b[49m\u001b[43m,\u001b[49m\n\u001b[32m   2553\u001b[39m \u001b[43m        \u001b[49m\u001b[43mstream_mode\u001b[49m\u001b[43m=\u001b[49m\u001b[43mstream_mode\u001b[49m\u001b[43m,\u001b[49m\n\u001b[32m   2554\u001b[39m \u001b[43m        \u001b[49m\u001b[43mprint_mode\u001b[49m\u001b[43m=\u001b[49m\u001b[43mprint_mode\u001b[49m\u001b[43m,\u001b[49m\n\u001b[32m   2555\u001b[39m \u001b[43m        \u001b[49m\u001b[43moutput_keys\u001b[49m\u001b[43m=\u001b[49m\u001b[43moutput_keys\u001b[49m\u001b[43m,\u001b[49m\n\u001b[32m   2556\u001b[39m \u001b[43m        \u001b[49m\u001b[43minterrupt_before\u001b[49m\u001b[43m=\u001b[49m\u001b[43minterrupt_before\u001b[49m\u001b[43m,\u001b[49m\n\u001b[32m   2557\u001b[39m \u001b[43m        \u001b[49m\u001b[43minterrupt_after\u001b[49m\u001b[43m=\u001b[49m\u001b[43minterrupt_after\u001b[49m\u001b[43m,\u001b[49m\n\u001b[32m   2558\u001b[39m \u001b[43m        \u001b[49m\u001b[43mdurability\u001b[49m\u001b[43m=\u001b[49m\u001b[43mdurability\u001b[49m\u001b[43m,\u001b[49m\n\u001b[32m   2559\u001b[39m \u001b[43m    \u001b[49m\u001b[43m)\u001b[49m\n\u001b[32m   2560\u001b[39m     \u001b[38;5;28;01mif\u001b[39;00m checkpointer \u001b[38;5;129;01mis\u001b[39;00m \u001b[38;5;28;01mNone\u001b[39;00m \u001b[38;5;129;01mand\u001b[39;00m durability \u001b[38;5;129;01mis\u001b[39;00m \u001b[38;5;129;01mnot\u001b[39;00m \u001b[38;5;28;01mNone\u001b[39;00m:\n\u001b[32m   2561\u001b[39m         warnings.warn(\n\u001b[32m   2562\u001b[39m             \u001b[33m\"\u001b[39m\u001b[33m`durability` has no effect when no checkpointer is present.\u001b[39m\u001b[33m\"\u001b[39m,\n\u001b[32m   2563\u001b[39m         )\n",
      "\u001b[36mFile \u001b[39m\u001b[32mh:\\miniconda3\\envs\\modu3\\Lib\\site-packages\\langgraph\\pregel\\main.py:2421\u001b[39m, in \u001b[36mPregel._defaults\u001b[39m\u001b[34m(self, config, stream_mode, print_mode, output_keys, interrupt_before, interrupt_after, durability)\u001b[39m\n\u001b[32m   2419\u001b[39m     checkpointer = \u001b[38;5;28mself\u001b[39m.checkpointer\n\u001b[32m   2420\u001b[39m \u001b[38;5;28;01mif\u001b[39;00m checkpointer \u001b[38;5;129;01mand\u001b[39;00m \u001b[38;5;129;01mnot\u001b[39;00m config.get(CONF):\n\u001b[32m-> \u001b[39m\u001b[32m2421\u001b[39m     \u001b[38;5;28;01mraise\u001b[39;00m \u001b[38;5;167;01mValueError\u001b[39;00m(\n\u001b[32m   2422\u001b[39m         \u001b[33m\"\u001b[39m\u001b[33mCheckpointer requires one or more of the following \u001b[39m\u001b[33m'\u001b[39m\u001b[33mconfigurable\u001b[39m\u001b[33m'\u001b[39m\u001b[33m \u001b[39m\u001b[33m\"\u001b[39m\n\u001b[32m   2423\u001b[39m         \u001b[33m\"\u001b[39m\u001b[33mkeys: thread_id, checkpoint_ns, checkpoint_id\u001b[39m\u001b[33m\"\u001b[39m\n\u001b[32m   2424\u001b[39m     )\n\u001b[32m   2425\u001b[39m \u001b[38;5;28;01mif\u001b[39;00m CONFIG_KEY_RUNTIME \u001b[38;5;129;01min\u001b[39;00m config.get(CONF, {}):\n\u001b[32m   2426\u001b[39m     store: BaseStore | \u001b[38;5;28;01mNone\u001b[39;00m = config[CONF][CONFIG_KEY_RUNTIME].store\n",
      "\u001b[31mValueError\u001b[39m: Checkpointer requires one or more of the following 'configurable' keys: thread_id, checkpoint_ns, checkpoint_id"
     ]
    }
   ],
   "source": [
    "# 의도된 오류 발생.\n",
    "result = agent.invoke({\n",
    "    \"messages\": [{\"role\": \"user\", \"content\": \"2020년대 노벨 물리학상 수상자는 누구인가요?\"}]\n",
    "})\n",
    "\n",
    "for msg in result[\"messages\"]:\n",
    "    msg.pretty_print()"
   ]
  },
  {
   "cell_type": "markdown",
   "metadata": {},
   "source": [
    "`(3) 대화 영속성 (Checkpointing)`\n",
    "\n",
    "- Checkpointing을 통해 대화의 상태를 저장하고 복원 가능"
   ]
  },
  {
   "cell_type": "code",
   "execution_count": 15,
   "metadata": {},
   "outputs": [
    {
     "name": "stdout",
     "output_type": "stream",
     "text": [
      "================================\u001b[1m Human Message \u001b[0m=================================\n",
      "\n",
      "내 이름은 김철수야\n",
      "==================================\u001b[1m Ai Message \u001b[0m==================================\n",
      "\n",
      "반갑습니다, 김철수님! 무엇을 도와드릴까요?\n"
     ]
    }
   ],
   "source": [
    "from langgraph.checkpoint.memory import InMemorySaver\n",
    "from langchain.agents import create_agent\n",
    "\n",
    "# 메모리 체크포인터 생성\n",
    "checkpointer = InMemorySaver()\n",
    "\n",
    "agent = create_agent(\n",
    "    model=\"openai:gpt-4.1-nano\",\n",
    "    tools=[search_tool],\n",
    "    checkpointer=checkpointer\n",
    ")\n",
    "\n",
    "# 첫 번째 대화\n",
    "config1 = {\"configurable\": {\"thread_id\": \"user-123-session-1\"}}\n",
    "result1 = agent.invoke(\n",
    "    {\"messages\": [{\"role\": \"user\", \"content\": \"내 이름은 김철수야\"}]},\n",
    "    config1\n",
    ")\n",
    "for msg in result1[\"messages\"]:\n",
    "    msg.pretty_print()"
   ]
  },
  {
   "cell_type": "code",
   "execution_count": 16,
   "metadata": {},
   "outputs": [
    {
     "name": "stdout",
     "output_type": "stream",
     "text": [
      "================================\u001b[1m Human Message \u001b[0m=================================\n",
      "\n",
      "내 이름은 김철수야\n",
      "==================================\u001b[1m Ai Message \u001b[0m==================================\n",
      "\n",
      "반갑습니다, 김철수님! 무엇을 도와드릴까요?\n",
      "================================\u001b[1m Human Message \u001b[0m=================================\n",
      "\n",
      "내 이름이 뭐였지?\n",
      "==================================\u001b[1m Ai Message \u001b[0m==================================\n",
      "\n",
      "당신의 이름은 김철수라고 말씀하셨습니다.\n"
     ]
    }
   ],
   "source": [
    "# 두 번째 대화 (같은 thread_id로 이전 대화 기억)\n",
    "result2 = agent.invoke(\n",
    "    {\"messages\": [{\"role\": \"user\", \"content\": \"내 이름이 뭐였지?\"}]},\n",
    "    config1\n",
    ")\n",
    "for msg in result2[\"messages\"]:\n",
    "    msg.pretty_print()  # \"김철수\"라고 기억함"
   ]
  },
  {
   "cell_type": "code",
   "execution_count": 17,
   "metadata": {},
   "outputs": [
    {
     "name": "stdout",
     "output_type": "stream",
     "text": [
      "================================\u001b[1m Human Message \u001b[0m=================================\n",
      "\n",
      "내 이름이 뭐야?\n",
      "==================================\u001b[1m Ai Message \u001b[0m==================================\n",
      "\n",
      "죄송하지만, 저는 당신의 이름을 알지 못합니다. 혹시 원하시면 알려주실 수 있나요?\n"
     ]
    }
   ],
   "source": [
    "# 다른 대화 (다른 thread_id로 새로운 세션)\n",
    "config2 = {\"configurable\": {\"thread_id\": \"user-123-session-2\"}}\n",
    "result3 = agent.invoke(\n",
    "    {\"messages\": [{\"role\": \"user\", \"content\": \"내 이름이 뭐야?\"}]},\n",
    "    config2\n",
    ")\n",
    "for msg in result3[\"messages\"]:\n",
    "    msg.pretty_print()  # 이전 대화 기억 없음"
   ]
  },
  {
   "cell_type": "markdown",
   "metadata": {},
   "source": [
    "## **5. 실전 프로젝트**"
   ]
  },
  {
   "cell_type": "markdown",
   "metadata": {},
   "source": [
    "`(1) 웹 리서치 에이전트`"
   ]
  },
  {
   "cell_type": "code",
   "execution_count": 18,
   "metadata": {},
   "outputs": [
    {
     "name": "stdout",
     "output_type": "stream",
     "text": [
      "## Research Summary\n",
      "2024년 AI 산업은 다양한 기술적 발전과 트렌드가 두드러지고 있습니다. 주요 내용은 AI의 전반적 확산, 생성형 AI의 성장, AI의 경제적 기여, 그리고 산업별 응용 확대 등입니다. 특히, 대형 언어 모델(LLM), Retrieval-Augmented Generation(RAG), AI 기반의 디지털 트윈, 3D 시각화, AI 안전성 및 신뢰성 강화 등이 중요한 트렌드로 부상하고 있습니다. 또한, 글로벌 기업들이 AI를 활용한 혁신과 경쟁력 확보에 집중하며, AI 규제와 윤리적 문제 해결도 중요한 이슈로 대두되고 있습니다.\n",
      "\n",
      "## Key Findings\n",
      "- AI의 전반적 확산과 산업별 응용 확대가 2024년 주요 트렌드로 자리잡고 있으며, 특히 LLM과 RAG 기술이 핵심 역할을 하고 있음 [KITA, 2024].\n",
      "- 생성형 AI 시장은 2024년부터 2034년까지 연평균 성장률이 24.3%에 달하며, 글로벌 시장 규모는 수백억 달러에 이를 전망 [GMI Insights, 2024].\n",
      "- AI의 경제적 기여는 2024년부터 2034년까지 연평균 24.3% 성장하며, 글로벌 GDP에 미치는 영향도 확대될 것으로 기대됨 [GMI Insights, 2024].\n",
      "- AI 안전성과 신뢰성 확보를 위한 연구와 규제 강화가 지속되며, AI의 윤리적 문제와 투명성 제고가 중요한 과제로 부상하고 있음 [NVIDIA, 2024].\n",
      "\n",
      "## Detailed Analysis\n",
      "2024년 AI 산업은 이미 확산된 기술들이 산업 전반에 깊숙이 자리잡으며, 다양한 응용 분야에서 혁신을 이끌고 있습니다. 특히, 대형 언어 모델(LLM)은 자연어 처리, 고객 서비스, 콘텐츠 생성 등에서 핵심 역할을 하며, Retrieval-Augmented Generation(RAG) 기술은 정보 검색과 생성의 결합으로 더욱 정밀한 AI 서비스를 가능하게 하고 있습니다. 이러한 기술들은 금융, 의료, 제조, 미디어 등 다양한 산업에서 활용도가 높아지고 있으며, AI 기반 디지털 트윈, 3D 시각화, 가상현실 등과 결합되어 산업별 맞춤형 솔루션을 제공하고 있습니다.\n",
      "\n",
      "시장 전망도 밝습니다. 글로벌 시장조사기관은 2024년부터 2034년까지 생성형 AI 시장이 연평균 24.3% 성장하여 177억 달러 규모에 이를 것으로 예상하며, 이는 AI가 경제 전반에 미치는 영향이 점차 확대됨을 의미합니다. 특히, 기업들은 AI를 통한 생산성 향상, 비용 절감, 고객 경험 개선에 집중하며, AI 안전성과 신뢰성 확보를 위한 규제와 윤리적 가이드라인 마련도 활발히 진행되고 있습니다. 이러한 흐름은 AI의 사회적 수용성과 지속 가능성을 높이는 데 중요한 역할을 할 것으로 기대됩니다.\n",
      "\n",
      "한편, 글로벌 기업들은 AI를 활용한 혁신 경쟁에서 우위를 점하기 위해 AI 인프라와 플랫폼 개발에 막대한 투자를 하고 있으며, 특히 GPU와 AI 전용 하드웨어, API 기반 AI 서비스, AI 안전성 강화 기술 등이 핵심 이슈로 부상하고 있습니다. 또한, AI의 투명성, 설명 가능성, 윤리성 확보를 위한 연구와 정책 마련도 병행되고 있어, 산업 전반의 신뢰성 제고와 함께 AI의 책임 있는 발전이 중요한 과제로 남아 있습니다.\n",
      "\n",
      "## Sources\n",
      "- [KITA, 2024](https://www.kita.net/researchTrade/report/tradeFocus/tradeFocusDetail.do?no=2564&logGb=A9400_20240319)\n",
      "- [GMI Insights, 2024](https://www.gminsights.com/ko/industry-analysis/generative-ai-market)\n",
      "- [NVIDIA, 2024](https://blogs.nvidia.co.kr/blog/2024-ai-predictions/)\n",
      "- [Pure Storage, 2024](https://blog.purestorage.com/ko/perspectives/unveiling-the-top-5-ai-trends-of-2024/)\n"
     ]
    }
   ],
   "source": [
    "from langchain.agents import create_agent\n",
    "from langchain_openai import ChatOpenAI\n",
    "from langchain_tavily import TavilySearch, TavilyExtract\n",
    "from langgraph.checkpoint.memory import InMemorySaver\n",
    "\n",
    "# 도구 설정\n",
    "search_tool = TavilySearch(\n",
    "    max_results=5,\n",
    "    topic=\"general\",\n",
    "    search_depth=\"advanced\"\n",
    ")\n",
    "\n",
    "extract_tool = TavilyExtract(\n",
    "    extract_depth=\"advanced\"\n",
    ")\n",
    "\n",
    "# 모델 인스턴스를 직접 생성하여 reasoning 설정\n",
    "model = ChatOpenAI(\n",
    "    model=\"gpt-4.1-nano\",  # reasoning 지원 모델\n",
    "    temperature=0.3,  \n",
    "    max_completion_tokens=5000\n",
    ")\n",
    "\n",
    "# 에이전트 생성\n",
    "research_agent = create_agent(\n",
    "    model=model,  # 모델 인스턴스 전달\n",
    "    tools=[search_tool, extract_tool],   # 도구 등록\n",
    "    system_prompt=\"\"\"You are an expert research assistant.\n",
    "\n",
    "When conducting research:\n",
    "1. Use tavily_search to find relevant sources\n",
    "2. Evaluate the credibility of sources\n",
    "3. Use tavily_extract to get detailed information from the most relevant URLs\n",
    "4. Synthesize information from multiple sources\n",
    "5. Provide citations for all claims\n",
    "\n",
    "Format your response as:\n",
    "## Research Summary\n",
    "[Brief overview]\n",
    "\n",
    "## Key Findings\n",
    "- Finding 1 [Source]\n",
    "- Finding 2 [Source]\n",
    "\n",
    "## Detailed Analysis\n",
    "[In-depth analysis]\n",
    "\n",
    "## Sources\n",
    "- [URL 1]\n",
    "- [URL 2]\n",
    "\"\"\",\n",
    "    checkpointer=InMemorySaver()\n",
    ")\n",
    "\n",
    "# 실행\n",
    "result = research_agent.invoke({\n",
    "    \"messages\": [\n",
    "        {\"role\": \"user\", \n",
    "         \"content\": \"2024년 AI 산업의 주요 트렌드를 조사하고 분석해주세요.\"}\n",
    "    ]\n",
    "}, {\"configurable\": {\"thread_id\": \"research-1\"}})\n",
    "\n",
    "print(result[\"messages\"][-1].content)\n"
   ]
  },
  {
   "cell_type": "markdown",
   "metadata": {},
   "source": [
    "`(2) SQL 데이터베이스 에이전트`"
   ]
  },
  {
   "cell_type": "code",
   "execution_count": 19,
   "metadata": {},
   "outputs": [
    {
     "name": "stdout",
     "output_type": "stream",
     "text": [
      "================================\u001b[1m Human Message \u001b[0m=================================\n",
      "\n",
      "수익률이 가장 높은 ETF는 무엇인가요?\n",
      "==================================\u001b[1m Ai Message \u001b[0m==================================\n",
      "Tool Calls:\n",
      "  get_schema (call_wCFRovfLl7XHqyFF9DgzLRPP)\n",
      " Call ID: call_wCFRovfLl7XHqyFF9DgzLRPP\n",
      "  Args:\n",
      "    table_name: ETFs\n",
      "=================================\u001b[1m Tool Message \u001b[0m=================================\n",
      "Name: get_schema\n",
      "\n",
      "\n",
      "CREATE TABLE \"ETFs\" (\n",
      "\t\"종목코드\" TEXT, \n",
      "\t\"종목명\" TEXT, \n",
      "\t\"상장일\" TEXT, \n",
      "\t\"분류체계\" TEXT, \n",
      "\t\"운용사\" TEXT, \n",
      "\t\"수익률_최근1년\" REAL, \n",
      "\t\"기초지수\" TEXT, \n",
      "\t\"추적오차\" REAL, \n",
      "\t\"순자산총액\" REAL, \n",
      "\t\"괴리율\" REAL, \n",
      "\t\"변동성\" TEXT, \n",
      "\t\"복제방법\" TEXT, \n",
      "\t\"총보수\" REAL, \n",
      "\t\"과세유형\" TEXT, \n",
      "\tPRIMARY KEY (\"종목코드\")\n",
      ")\n",
      "\n",
      "/*\n",
      "3 rows from ETFs table:\n",
      "종목코드\t종목명\t상장일\t분류체계\t운용사\t수익률_최근1년\t기초지수\t추적오차\t순자산총액\t괴리율\t변동성\t복제방법\t총보수\t과세유형\n",
      "466400\t1Q 25-08 회사채(A+이상)액티브\t2023/09/19\t채권-회사채-단기\t하나자산운용\t4.52\tKIS 2025-08만기형 크레딧 A+이상 지수(총수익)\t0.11\t111916276404.0\t0.03\t매우낮음\t실물(액티브)\t0.1\t배당소득세(보유기간과세)\n",
      "491610\t1Q CD금리액티브(합성)\t2024/09/24\t기타\t하나자산운용\t0.0\tKIS 하나 CD금리 총수익지수\t0.05\t316206006696.0\t0.02\t매우낮음\t합성(액티브)\t0.02\t배당소득세(보유기간과세)\n",
      "451060\t1Q K200액티브\t2023/01/31\t주식-시장대표\t하나자산운용\t-3.66\t코스피 200\t0.77\t99754348820.0\t-0.01\t높음\t실물(액티브)\t0.18\t배당소득세(보유기간과세)\n",
      "*/\n",
      "==================================\u001b[1m Ai Message \u001b[0m==================================\n",
      "Tool Calls:\n",
      "  run_query (call_6xFLd0EbZPYKiqe5YEHPUHBK)\n",
      " Call ID: call_6xFLd0EbZPYKiqe5YEHPUHBK\n",
      "  Args:\n",
      "    query: SELECT 종목명, 수익률_최근1년 FROM ETFs ORDER BY 수익률_최근1년 DESC LIMIT 1;\n",
      "=================================\u001b[1m Tool Message \u001b[0m=================================\n",
      "Name: run_query\n",
      "\n",
      "[('ACE 미국빅테크TOP7 Plus레버리지(합성)', 207.87)]\n",
      "==================================\u001b[1m Ai Message \u001b[0m==================================\n",
      "\n",
      "수익률이 가장 높은 ETF는 'ACE 미국빅테크TOP7 Plus레버리지(합성)'이며, 최근 1년 수익률은 207.87%입니다.\n"
     ]
    }
   ],
   "source": [
    "from langchain.agents import create_agent\n",
    "from langchain_openai import ChatOpenAI\n",
    "from langchain.tools import tool\n",
    "from langchain_community.utilities import SQLDatabase\n",
    "\n",
    "# 데이터베이스 연결\n",
    "db = SQLDatabase.from_uri(\"sqlite:///etf_database.db\")\n",
    "\n",
    "@tool\n",
    "def list_tables() -> str:\n",
    "    \"\"\"데이터베이스의 모든 테이블을 나열합니다.\"\"\"\n",
    "    tables = db.get_table_names()\n",
    "    return f\"사용 가능한 테이블: {', '.join(tables)}\"\n",
    "\n",
    "@tool\n",
    "def get_schema(table_name: str) -> str:\n",
    "    \"\"\"특정 테이블의 스키마를 가져옵니다.\"\"\"\n",
    "    return db.get_table_info([table_name])\n",
    "\n",
    "@tool\n",
    "def run_query(query: str) -> str:\n",
    "    \"\"\"SQL 쿼리를 실행합니다. SELECT 쿼리만 허용됩니다.\"\"\"\n",
    "    try:\n",
    "        if not query.strip().upper().startswith('SELECT'):\n",
    "            return \"Error: Only SELECT queries are allowed\"\n",
    "        result = db.run(query)\n",
    "        return str(result)\n",
    "    except Exception as e:\n",
    "        return f\"Error: {str(e)}\"\n",
    "\n",
    "model = ChatOpenAI(\n",
    "    model=\"gpt-4.1-mini\",\n",
    "    temperature=0,\n",
    "    max_completion_tokens=2000\n",
    ")\n",
    "\n",
    "sql_agent = create_agent(\n",
    "    model=model,\n",
    "    tools=[list_tables, get_schema, run_query],\n",
    "    system_prompt=\"\"\"You are a SQL expert assistant for ETF database queries.\n",
    "\n",
    "Available tables:\n",
    "- ETFs: Contains ETF information with columns like 종목코드, 종목명, 수익률_최근1년, 순자산총액, etc.\n",
    "- ETFsInfo: Contains detailed ETF information\n",
    "\n",
    "Instructions:\n",
    "1. Check the schema ONCE using get_schema(\"ETFs\")\n",
    "2. Write ONE SQL query to answer the question\n",
    "3. Execute the query using run_query\n",
    "4. Present the result to the user\n",
    "5. STOP - Do NOT call any more tools after presenting the result\n",
    "\n",
    "Important:\n",
    "- After executing run_query and getting results, immediately provide the answer to the user\n",
    "- Do NOT repeat tool calls\n",
    "- One schema check + one query execution = DONE\n",
    "\n",
    "Safety guidelines:\n",
    "- Only use SELECT queries\n",
    "- Never modify data\n",
    "- Validate column names match the schema\"\"\"\n",
    ")\n",
    "\n",
    "# 실행\n",
    "result = sql_agent.invoke(\n",
    "    {\"messages\": [{\"role\": \"user\", \"content\": \"수익률이 가장 높은 ETF는 무엇인가요?\"}]},\n",
    "    config={\"recursion_limit\": 15}\n",
    ")\n",
    "\n",
    "for msg in result[\"messages\"]:\n",
    "    msg.pretty_print()\n"
   ]
  },
  {
   "cell_type": "code",
   "execution_count": 20,
   "metadata": {},
   "outputs": [
    {
     "name": "stdout",
     "output_type": "stream",
     "text": [
      "================================\u001b[1m Human Message \u001b[0m=================================\n",
      "\n",
      "순자산총액이 가장 큰 ETF 5개를 알려주세요.\n",
      "==================================\u001b[1m Ai Message \u001b[0m==================================\n",
      "Tool Calls:\n",
      "  get_schema (call_HY7ltvY73b1TbgOtPj8s5XY7)\n",
      " Call ID: call_HY7ltvY73b1TbgOtPj8s5XY7\n",
      "  Args:\n",
      "    table_name: ETFs\n",
      "=================================\u001b[1m Tool Message \u001b[0m=================================\n",
      "Name: get_schema\n",
      "\n",
      "\n",
      "CREATE TABLE \"ETFs\" (\n",
      "\t\"종목코드\" TEXT, \n",
      "\t\"종목명\" TEXT, \n",
      "\t\"상장일\" TEXT, \n",
      "\t\"분류체계\" TEXT, \n",
      "\t\"운용사\" TEXT, \n",
      "\t\"수익률_최근1년\" REAL, \n",
      "\t\"기초지수\" TEXT, \n",
      "\t\"추적오차\" REAL, \n",
      "\t\"순자산총액\" REAL, \n",
      "\t\"괴리율\" REAL, \n",
      "\t\"변동성\" TEXT, \n",
      "\t\"복제방법\" TEXT, \n",
      "\t\"총보수\" REAL, \n",
      "\t\"과세유형\" TEXT, \n",
      "\tPRIMARY KEY (\"종목코드\")\n",
      ")\n",
      "\n",
      "/*\n",
      "3 rows from ETFs table:\n",
      "종목코드\t종목명\t상장일\t분류체계\t운용사\t수익률_최근1년\t기초지수\t추적오차\t순자산총액\t괴리율\t변동성\t복제방법\t총보수\t과세유형\n",
      "466400\t1Q 25-08 회사채(A+이상)액티브\t2023/09/19\t채권-회사채-단기\t하나자산운용\t4.52\tKIS 2025-08만기형 크레딧 A+이상 지수(총수익)\t0.11\t111916276404.0\t0.03\t매우낮음\t실물(액티브)\t0.1\t배당소득세(보유기간과세)\n",
      "491610\t1Q CD금리액티브(합성)\t2024/09/24\t기타\t하나자산운용\t0.0\tKIS 하나 CD금리 총수익지수\t0.05\t316206006696.0\t0.02\t매우낮음\t합성(액티브)\t0.02\t배당소득세(보유기간과세)\n",
      "451060\t1Q K200액티브\t2023/01/31\t주식-시장대표\t하나자산운용\t-3.66\t코스피 200\t0.77\t99754348820.0\t-0.01\t높음\t실물(액티브)\t0.18\t배당소득세(보유기간과세)\n",
      "*/\n",
      "==================================\u001b[1m Ai Message \u001b[0m==================================\n",
      "Tool Calls:\n",
      "  run_query (call_a4Jjr3D6I3FEJcIRq9SAeIBo)\n",
      " Call ID: call_a4Jjr3D6I3FEJcIRq9SAeIBo\n",
      "  Args:\n",
      "    query: SELECT 종목코드, 종목명, 순자산총액 FROM ETFs ORDER BY 순자산총액 DESC LIMIT 5;\n",
      "=================================\u001b[1m Tool Message \u001b[0m=================================\n",
      "Name: run_query\n",
      "\n",
      "[('459580', 'KODEX CD금리액티브(합성)', 9591343573385.0), ('357870', 'TIGER CD금리투자KIS(합성)', 6871517745155.0), ('360750', 'TIGER 미국S&P500', 6433623514411.0), ('069500', 'KODEX 200', 5604796801979.0), ('133690', 'TIGER 미국나스닥100', 4494225408877.0)]\n",
      "==================================\u001b[1m Ai Message \u001b[0m==================================\n",
      "\n",
      "순자산총액이 가장 큰 ETF 5개는 다음과 같습니다:\n",
      "\n",
      "1. KODEX CD금리액티브(합성) - 9,591,343,573,385원\n",
      "2. TIGER CD금리투자KIS(합성) - 6,871,517,745,155원\n",
      "3. TIGER 미국S&P500 - 6,433,623,514,411원\n",
      "4. KODEX 200 - 5,604,796,801,979원\n",
      "5. TIGER 미국나스닥100 - 4,494,225,408,877원\n",
      "\n",
      "더 궁금한 점 있으면 알려주세요!\n"
     ]
    }
   ],
   "source": [
    "# 실행\n",
    "result = sql_agent.invoke(\n",
    "    {\"messages\": [{\"role\": \"user\", \"content\": \"순자산총액이 가장 큰 ETF 5개를 알려주세요.\"}]},\n",
    "    config={\"recursion_limit\": 15}\n",
    ")\n",
    "\n",
    "for msg in result[\"messages\"]:\n",
    "    msg.pretty_print()\n"
   ]
  }
 ],
 "metadata": {
  "kernelspec": {
   "display_name": "modu3",
   "language": "python",
   "name": "python3"
  },
  "language_info": {
   "codemirror_mode": {
    "name": "ipython",
    "version": 3
   },
   "file_extension": ".py",
   "mimetype": "text/x-python",
   "name": "python",
   "nbconvert_exporter": "python",
   "pygments_lexer": "ipython3",
   "version": "3.12.12"
  }
 },
 "nbformat": 4,
 "nbformat_minor": 2
}
