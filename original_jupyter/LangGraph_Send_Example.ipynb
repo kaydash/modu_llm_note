{
 "cells": [
  {
   "cell_type": "markdown",
   "metadata": {},
   "source": [
    "## 환경 설정 및 준비"
   ]
  },
  {
   "cell_type": "markdown",
   "metadata": {},
   "source": [
    "`(1) Env 환경변수`"
   ]
  },
  {
   "cell_type": "code",
   "execution_count": 1,
   "metadata": {},
   "outputs": [
    {
     "data": {
      "text/plain": [
       "True"
      ]
     },
     "execution_count": 1,
     "metadata": {},
     "output_type": "execute_result"
    }
   ],
   "source": [
    "from dotenv import load_dotenv\n",
    "load_dotenv()"
   ]
  },
  {
   "cell_type": "markdown",
   "metadata": {},
   "source": [
    "`(2) 기본 라이브러리`"
   ]
  },
  {
   "cell_type": "code",
   "execution_count": 2,
   "metadata": {},
   "outputs": [],
   "source": [
    "import os\n",
    "from glob import glob\n",
    "\n",
    "from pprint import pprint\n",
    "import json"
   ]
  },
  {
   "cell_type": "markdown",
   "metadata": {},
   "source": [
    "### **`Send` 객체의 사용 예시**\n",
    "\n",
    "- 문서 요약 시스템 (대용량 텍스트 처리)\n",
    "- 긴 문서를 여러 부분으로 나누어 병렬로 요약한 후 통합하는 시스템"
   ]
  },
  {
   "cell_type": "code",
   "execution_count": 3,
   "metadata": {},
   "outputs": [
    {
     "data": {
      "image/png": "[encoded data removed]",
      "text/plain": [
       "<IPython.core.display.Image object>"
      ]
     },
     "metadata": {},
     "output_type": "display_data"
    }
   ],
   "source": [
    "import operator\n",
    "from typing import Annotated, List, Dict, Tuple, Any\n",
    "from typing_extensions import TypedDict\n",
    "from langchain_core.documents import Document\n",
    "from langgraph.types import Send\n",
    "from langgraph.graph import END, START, StateGraph\n",
    "from langchain_openai import ChatOpenAI  \n",
    "from IPython.display import Image, display\n",
    "\n",
    "# LLM 모델 초기화\n",
    "model = ChatOpenAI(model=\"gpt-4o-mini\", temperature=0)\n",
    "\n",
    "class SummarizationState(TypedDict):\n",
    "    contents: List[Document]  # 초기 Document 객체 리스트\n",
    "    chunks: List[Dict[str, Any]]  # 청크 리스트 (인덱스, 내용, 메타데이터 포함)\n",
    "    summaries: Annotated[List[Tuple[int, str]], operator.add]  # (인덱스, 요약) 튜플 리스트\n",
    "    final_summary: str\n",
    "\n",
    "class DocumentState(TypedDict):\n",
    "    content: str\n",
    "    index: int  # 청크의 순서를 나타내는 인덱스\n",
    "\n",
    "def split_documents(state: SummarizationState):\n",
    "    \"\"\"각 Document를 순서를 유지하며 청크로 분할\"\"\"\n",
    "    chunks = []\n",
    "    chunk_size = 1000\n",
    "    global_chunk_index = 0\n",
    "    \n",
    "    # 각 Document를 순차적으로 처리\n",
    "    for doc_index, document in enumerate(state[\"contents\"]):\n",
    "        content = document.page_content\n",
    "        \n",
    "        # 해당 문서를 청크로 분할\n",
    "        for i in range(0, len(content), chunk_size):\n",
    "            chunk_content = content[i:i + chunk_size]\n",
    "            \n",
    "            # 빈 청크는 스킵\n",
    "            if chunk_content.strip():\n",
    "                chunks.append({\n",
    "                    \"index\": global_chunk_index,\n",
    "                    \"content\": chunk_content,\n",
    "                    \"source_document\": doc_index,\n",
    "                    \"source_metadata\": document.metadata\n",
    "                })\n",
    "                global_chunk_index += 1\n",
    "    \n",
    "    return {\"chunks\": chunks}\n",
    "\n",
    "def summarize_document(state: DocumentState):\n",
    "    \"\"\"개별 문서 청크를 요약\"\"\"\n",
    "    prompt = f\"\"\"다음 텍스트를 2-3문장으로 간결하게 요약해주세요:\n",
    "    \n",
    "    {state['content']}\n",
    "    \"\"\"\n",
    "    \n",
    "    try:\n",
    "        response = model.invoke(prompt)\n",
    "        summary = response.content\n",
    "    except Exception as e:\n",
    "        summary = f\"요약 생성 중 오류 발생: {str(e)}\"\n",
    "    \n",
    "    # 순서 정보와 함께 요약 반환\n",
    "    return {\"summaries\": [(state[\"index\"], summary)]}\n",
    "\n",
    "def continue_to_summarization(state: SummarizationState):\n",
    "    \"\"\"각 청크를 병렬로 요약하도록 Send 작업 생성\"\"\"\n",
    "    return [\n",
    "        Send(\"summarize_document\", {\n",
    "            \"content\": chunk[\"content\"],\n",
    "            \"index\": chunk[\"index\"]\n",
    "        }) \n",
    "        for chunk in state[\"chunks\"]\n",
    "    ]\n",
    "\n",
    "def create_final_summary(state: SummarizationState):\n",
    "    \"\"\"순서를 유지하며 최종 요약 생성\"\"\"\n",
    "    # 인덱스별로 요약을 정렬\n",
    "    sorted_summaries = sorted(state[\"summaries\"], key=lambda x: x[0])\n",
    "    \n",
    "    # 순서대로 요약들을 결합\n",
    "    ordered_summaries = [summary for _, summary in sorted_summaries]\n",
    "    combined_summaries = \"\\n\\n\".join(ordered_summaries)\n",
    "    \n",
    "    prompt = f\"\"\"다음은 문서를 청크별로 요약한 내용들입니다. \n",
    "    이들을 종합하여 하나의 포괄적이고 일관성 있는 최종 요약을 작성해주세요.\n",
    "    원본 문서의 순서와 흐름을 유지하면서 핵심 내용을 간결하게 정리해주세요:\n",
    "    \n",
    "    {combined_summaries}\n",
    "    \n",
    "    최종 요약:\n",
    "    \"\"\"\n",
    "    \n",
    "    try:\n",
    "        response = model.invoke(prompt)\n",
    "        final_summary = response.content\n",
    "    except Exception as e:\n",
    "        final_summary = f\"최종 요약 생성 중 오류 발생: {str(e)}\"\n",
    "    \n",
    "    return {\"final_summary\": final_summary}\n",
    "\n",
    "# 그래프 구성\n",
    "builder = StateGraph(SummarizationState)\n",
    "builder.add_node(\"split_documents\", split_documents)\n",
    "builder.add_node(\"summarize_document\", summarize_document)\n",
    "builder.add_node(\"create_final_summary\", create_final_summary)\n",
    "\n",
    "# 엣지 연결\n",
    "builder.add_edge(START, \"split_documents\")\n",
    "builder.add_conditional_edges(\"split_documents\", continue_to_summarization, [\"summarize_document\"])\n",
    "builder.add_edge(\"summarize_document\", \"create_final_summary\")\n",
    "builder.add_edge(\"create_final_summary\", END)\n",
    "\n",
    "# 그래프 컴파일\n",
    "graph = builder.compile()\n",
    "\n",
    "# 그래프 시각화\n",
    "display(Image(graph.get_graph().draw_mermaid_png()))"
   ]
  },
  {
   "cell_type": "code",
   "execution_count": 4,
   "metadata": {},
   "outputs": [
    {
     "name": "stdout",
     "output_type": "stream",
     "text": [
      "로드된 페이지 수: 3\n",
      "첫 번째 문서 길이: 1096 문자\n"
     ]
    }
   ],
   "source": [
    "# 테스트용 문서 생성 (PDF가 없는 경우를 대비)\n",
    "# PDF 파일이 있다면 아래 주석을 해제하고 사용하세요:\n",
    "# from langchain_community.document_loaders import PyPDFLoader\n",
    "# loader = PyPDFLoader(\"data/labor_law.pdf\")\n",
    "# documents = loader.load()\n",
    "\n",
    "# 테스트용 긴 텍스트 문서 생성\n",
    "from langchain_core.documents import Document\n",
    "\n",
    "# 긴 텍스트 생성 (여러 청크로 분할될 수 있도록)\n",
    "test_text = \"\"\"\n",
    "LangGraph는 LangChain의 고급 워크플로우 관리 도구입니다. \n",
    "이 도구를 사용하면 복잡한 다단계 작업을 효율적으로 구성하고 실행할 수 있습니다.\n",
    "특히 Send 객체를 활용하면 병렬 처리가 가능하여 대용량 문서 처리에 유용합니다.\n",
    "\n",
    "LangGraph의 주요 기능 중 하나는 StateGraph입니다.\n",
    "StateGraph를 통해 상태 기반의 워크플로우를 정의할 수 있으며,\n",
    "각 노드는 특정 작업을 수행하고 상태를 업데이트합니다.\n",
    "노드 간의 연결은 엣지로 표현되며, 조건부 엣지를 통해 동적인 워크플로우 구성이 가능합니다.\n",
    "\n",
    "Send 객체는 특히 강력한 기능입니다.\n",
    "이를 통해 하나의 노드에서 여러 개의 병렬 작업을 생성할 수 있습니다.\n",
    "예를 들어, 긴 문서를 여러 청크로 나눈 후 각 청크를 병렬로 처리할 수 있습니다.\n",
    "이는 처리 시간을 크게 단축시키고 효율성을 높입니다.\n",
    "\n",
    "문서 요약 작업의 경우, Send를 활용한 병렬 처리가 매우 효과적입니다.\n",
    "먼저 문서를 적절한 크기의 청크로 분할한 후,\n",
    "각 청크를 독립적으로 요약하고,\n",
    "마지막으로 모든 요약을 통합하여 최종 요약을 생성합니다.\n",
    "\n",
    "이러한 접근 방식은 대용량 문서를 처리할 때 특히 유용합니다.\n",
    "각 청크가 독립적으로 처리되므로 병렬성이 높고,\n",
    "결과적으로 전체 처리 시간이 크게 감소합니다.\n",
    "또한 메모리 사용도 효율적으로 관리할 수 있습니다.\n",
    "\n",
    "LangGraph는 다양한 체크포인트 기능도 제공합니다.\n",
    "MemorySaver를 통해 세션 간 상태를 유지할 수 있으며,\n",
    "InMemoryStore를 활용하면 장기 메모리 구현도 가능합니다.\n",
    "이러한 기능들을 조합하면 복잡한 대화형 AI 시스템을 구축할 수 있습니다.\n",
    "\n",
    "실제 프로덕션 환경에서는 다양한 고려사항이 있습니다.\n",
    "에러 핸들링, 재시도 로직, 타임아웃 관리 등이 중요합니다.\n",
    "LangGraph는 이러한 요구사항을 충족할 수 있는 유연성을 제공합니다.\n",
    "개발자는 자신의 요구에 맞게 워크플로우를 커스터마이징할 수 있습니다.\n",
    "\n",
    "결론적으로 LangGraph는 현대적인 LLM 애플리케이션 개발에 필수적인 도구입니다.\n",
    "복잡한 워크플로우를 간단하게 관리하고,\n",
    "병렬 처리를 통해 성능을 최적화하며,\n",
    "상태 관리를 통해 안정적인 시스템을 구축할 수 있습니다.\n",
    "\"\"\"\n",
    "\n",
    "# 여러 페이지를 시뮬레이션하기 위해 3개의 Document 생성\n",
    "documents = [\n",
    "    Document(\n",
    "        page_content=test_text,\n",
    "        metadata={\"page\": 1, \"source\": \"test_document_1\"}\n",
    "    ),\n",
    "    Document(\n",
    "        page_content=test_text + \"\\n\\n추가 내용: 이 문서는 테스트를 위한 두 번째 페이지입니다.\",\n",
    "        metadata={\"page\": 2, \"source\": \"test_document_2\"}\n",
    "    ),\n",
    "    Document(\n",
    "        page_content=\"마지막 페이지의 내용입니다. LangGraph를 활용하면 효율적인 문서 처리 시스템을 구축할 수 있습니다.\",\n",
    "        metadata={\"page\": 3, \"source\": \"test_document_3\"}\n",
    "    )\n",
    "]\n",
    "\n",
    "print(f\"로드된 페이지 수: {len(documents)}\")\n",
    "print(f\"첫 번째 문서 길이: {len(documents[0].page_content)} 문자\")"
   ]
  },
  {
   "cell_type": "code",
   "execution_count": 5,
   "metadata": {},
   "outputs": [
    {
     "name": "stdout",
     "output_type": "stream",
     "text": [
      "현재까지 생성된 요약 수: 0\n",
      "----------------------------------------------------------------------------------------------------\n",
      "처리 중인 청크 수: 5\n",
      "현재까지 생성된 요약 수: 0\n",
      "----------------------------------------------------------------------------------------------------\n",
      "처리 중인 청크 수: 5\n",
      "현재까지 생성된 요약 수: 5\n",
      "----------------------------------------------------------------------------------------------------\n",
      "처리 중인 청크 수: 5\n",
      "현재까지 생성된 요약 수: 5\n",
      "최종 요약 생성 중...\n",
      "LangGraph는 LangChain의 고급 워크플로우 관리 도구로, 복잡한 다단계 작업을 효율적으로 구성하고 실행할 수 있도록 지원합니다. 이 도구는 Send 객체를 활용한 병렬 처리 기능을 통해 대용량 문서 처리를 용이하게 하며, StateGraph를 통해 상태 기반의 동적인 워크플로우를 정의할 수 있습니다. 또한, 다양한 체크포인트 기능과 유연한 커스터마이징 옵션을 제공하여 복잡한 대화형 AI 시스템 구축에 적합합니다. LangGraph는 복잡한 워크플로우를 간단하게 관리하고 성능을 최적화하며 안정적인 시스템을 구축하는 데 필수적인 도구입니다. 이를 통해 효율적인 문서 처리 시스템을 구축할 수 있습니다.\n",
      "----------------------------------------------------------------------------------------------------\n"
     ]
    }
   ],
   "source": [
    "# PDF 문서 요약 실행\n",
    "initial_state = {\n",
    "    \"contents\": documents,\n",
    "}\n",
    "    \n",
    "for step in graph.stream(initial_state, stream_mode=\"values\"):\n",
    "    if \"chunks\" in step:\n",
    "        print(f\"처리 중인 청크 수: {len(step['chunks'])}\")\n",
    "    if \"summaries\" in step:\n",
    "        print(f\"현재까지 생성된 요약 수: {len(step['summaries'])}\")\n",
    "    if \"final_summary\" in step:\n",
    "        print(\"최종 요약 생성 중...\")\n",
    "        print(step[\"final_summary\"])  # 최종 요약 출력\n",
    "    print(\"-\"*100)"
   ]
  },
  {
   "cell_type": "code",
   "execution_count": 6,
   "metadata": {},
   "outputs": [
    {
     "name": "stdout",
     "output_type": "stream",
     "text": [
      "최종 상태:\n",
      "최종 요약: LangGraph는 LangChain의 고급 워크플로우 관리 도구로, 복잡한 다단계 작업을 효율적으로 구성하고 실행할 수 있도록 지원합니다. 이 도구는 Send 객체를 활용한 병렬 처리 기능을 통해 대용량 문서 처리를 용이하게 하며, StateGraph를 통해 상태 기반의 동적인 워크플로우를 정의할 수 있습니다. 또한, 다양한 체크포인트 기능과 유연한 커스터마이징 옵션을 제공하여 복잡한 대화형 AI 시스템 구축에 적합합니다. LangGraph는 복잡한 워크플로우를 간단하게 관리하고 성능을 최적화하며 안정적인 시스템을 구축하는 데 필수적인 도구입니다. 이를 통해 효율적인 문서 처리 시스템을 구축할 수 있습니다.\n",
      "전체 청크 수: 5\n",
      "전체 요약 수: 5\n",
      "전체 문서 수: 3\n"
     ]
    }
   ],
   "source": [
    "# 최종 상태 출려\n",
    "print(\"최종 상태:\")\n",
    "print(\"최종 요약:\", step.get(\"final_summary\", \"요약이 생성되지 않았습니다.\"))\n",
    "print(\"전체 청크 수:\", len(step.get(\"chunks\", [])))\n",
    "print(\"전체 요약 수:\", len(step.get(\"summaries\", [])))\n",
    "print(\"전체 문서 수:\", len(step.get(\"contents\", [])))"
   ]
  }
 ],
 "metadata": {
  "kernelspec": {
   "display_name": "modu3",
   "language": "python",
   "name": "python3"
  },
  "language_info": {
   "codemirror_mode": {
    "name": "ipython",
    "version": 3
   },
   "file_extension": ".py",
   "mimetype": "text/x-python",
   "name": "python",
   "nbconvert_exporter": "python",
   "pygments_lexer": "ipython3",
   "version": "3.12.12"
  }
 },
 "nbformat": 4,
 "nbformat_minor": 2
}
