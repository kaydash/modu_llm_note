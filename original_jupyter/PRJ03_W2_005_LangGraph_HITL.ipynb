{
 "cells": [
  {
   "cell_type": "markdown",
   "metadata": {},
   "source": [
    "# LangGraph HITL (Human-in-the-Loop) 활용\n",
    "\n",
    "---"
   ]
  },
  {
   "cell_type": "markdown",
   "metadata": {},
   "source": [
    "## 환경 설정 및 준비"
   ]
  },
  {
   "cell_type": "markdown",
   "metadata": {},
   "source": [
    "`(1) Env 환경변수`"
   ]
  },
  {
   "cell_type": "code",
   "execution_count": 1,
   "metadata": {},
   "outputs": [
    {
     "data": {
      "text/plain": [
       "True"
      ]
     },
     "execution_count": 1,
     "metadata": {},
     "output_type": "execute_result"
    }
   ],
   "source": [
    "from dotenv import load_dotenv\n",
    "load_dotenv()"
   ]
  },
  {
   "cell_type": "markdown",
   "metadata": {},
   "source": [
    "`(2) 기본 라이브러리`"
   ]
  },
  {
   "cell_type": "code",
   "execution_count": 2,
   "metadata": {},
   "outputs": [],
   "source": [
    "import os\n",
    "from glob import glob\n",
    "from pprint import pprint\n",
    "import json\n",
    "from datetime import datetime"
   ]
  },
  {
   "cell_type": "markdown",
   "metadata": {},
   "source": [
    "---\n",
    "\n",
    "## **Human-in-the-Loop (사용자 개입)**\n",
    "\n",
    "- **HITL 핵심 개념**\n",
    "\n",
    "    - **HITL**는 AI 시스템에 인간의 판단과 전문성을 통합하는 패턴\n",
    "    - **Breakpoints**로 특정 단계에서 실행 중지 가능\n",
    "    - **Checkpointer**를 통해 그래프 상태를 저장하고 재개 가능\n",
    "\n",
    "- **HITL 활용**\n",
    "\n",
    "    - 사용자의 **입력**이나 **승인**을 기다리는 패턴으로 작동\n",
    "    - 시스템 결정에 대한 **인간의 통제**와 **검증** 보장"
   ]
  },
  {
   "cell_type": "markdown",
   "metadata": {},
   "source": [
    "### LangGraph의 **두 가지 Breakpoint** 설정 방법\n",
    "\n",
    "\n",
    "1. **정적 브레이크포인트 (Static Breakpoints)**\n",
    "\n",
    "- 특정 노드 전후에 자동으로 실행을 중단하는 방식\n",
    "\n",
    "- **컴파일 시점 설정:**\n",
    "\n",
    "    ```python\n",
    "    # 컴파일 시 브레이크포인트 설정\n",
    "    graph = builder.compile(\n",
    "        checkpointer=checkpointer,\n",
    "        interrupt_before=[\"node_a\"],  # 노드 실행 전 중단\n",
    "        interrupt_after=[\"node_b\", \"node_c\"],  # 노드 실행 후 중단\n",
    "    )\n",
    "    ```\n",
    "\n",
    "- **런타임 설정:**\n",
    "\n",
    "    ```python\n",
    "    # 실행 시 브레이크포인트 설정 (서브그래프에는 미지원)\n",
    "    graph.invoke(\n",
    "        inputs,\n",
    "        interrupt_before=[\"node_a\"],\n",
    "        interrupt_after=[\"node_b\", \"node_c\"],\n",
    "        config={\"configurable\": {\"thread_id\": \"some_thread\"}},\n",
    "    )\n",
    "    ```\n",
    "\n",
    "2. **동적 브레이크포인트 (Dynamic Breakpoints) - interrupt 함수**\n",
    "\n",
    "- 노드 내부에서 `interrupt()` 함수를 호출하여 조건부로 실행을 중단\n",
    "\n",
    "    ```python\n",
    "    from langgraph.types import interrupt, Command\n",
    "\n",
    "    def human_review_node(state: State) -> State:\n",
    "        # 조건부로 사용자 개입 요청\n",
    "        if state.get(\"requires_review\"):\n",
    "            user_input = interrupt({\n",
    "                \"question\": \"이 작업을 승인하시겠습니까?\",\n",
    "                \"context\": state[\"data\"]\n",
    "            })\n",
    "            return {\"approval\": user_input}\n",
    "        return state\n",
    "    ```\n",
    "\n",
    "- **Breakpoint 비교표**\n",
    "\n",
    "    | 특성 | 정적 브레이크포인트 | 동적 브레이크포인트 (interrupt) |\n",
    "    |-----|------------------|---------------------------|\n",
    "    | **설정 방법** | `compile()` 또는 `invoke()` 시 | 노드 내부에서 `interrupt()` 호출 |\n",
    "    | **중단 시점** | 노드 전/후 자동 | 조건부/필요시 |\n",
    "    | **유연성** | 낮음 (미리 정의) | 높음 (동적 결정) |\n",
    "    | **사용 사례** | 디버깅, 정해진 검토 지점 | 조건부 승인, 동적 사용자 입력 |\n",
    "    | **데이터 전달** | 상태 전체 접근 | 커스텀 페이로드 전달 가능 |\n"
   ]
  },
  {
   "cell_type": "markdown",
   "metadata": {},
   "source": [
    "### (1) 정적 브레이크포인트 예제"
   ]
  },
  {
   "cell_type": "code",
   "execution_count": 3,
   "metadata": {},
   "outputs": [
    {
     "data": {
      "image/png": "[encoded data removed]",
      "text/plain": [
       "<IPython.core.display.Image object>"
      ]
     },
     "metadata": {},
     "output_type": "display_data"
    }
   ],
   "source": [
    "from typing_extensions import TypedDict\n",
    "from langgraph.checkpoint.memory import InMemorySaver\n",
    "from langgraph.graph import StateGraph, START, END\n",
    "from IPython.display import Image, display\n",
    "\n",
    "class SimpleState(TypedDict):\n",
    "    input: str\n",
    "\n",
    "def step_1(state):\n",
    "    print(\"---Step 1 실행---\")\n",
    "    return {\"input\": state.get(\"input\", \"\") + \" (1)\"}\n",
    "\n",
    "def step_2(state):\n",
    "    print(\"---Step 2 실행---\")\n",
    "    return {\"input\": state.get(\"input\", \"\") + \" (2)\"}\n",
    "\n",
    "def step_3(state):\n",
    "    print(\"---Step 3 실행---\")\n",
    "    return {\"input\": state.get(\"input\", \"\") + \" (3)\"}\n",
    "\n",
    "# 그래프 구성\n",
    "builder = StateGraph(SimpleState)\n",
    "builder.add_node(\"step_1\", step_1)\n",
    "builder.add_node(\"step_2\", step_2)\n",
    "builder.add_node(\"step_3\", step_3)\n",
    "\n",
    "builder.add_edge(START, \"step_1\")\n",
    "builder.add_edge(\"step_1\", \"step_2\")\n",
    "builder.add_edge(\"step_2\", \"step_3\")\n",
    "builder.add_edge(\"step_3\", END)\n",
    "\n",
    "# 체크포인터 설정\n",
    "checkpointer = InMemorySaver()\n",
    "\n",
    "# 컴파일 시 정적 브레이크포인트 설정\n",
    "graph = builder.compile(\n",
    "    checkpointer=checkpointer,\n",
    "    interrupt_before=[\"step_3\"]  # step_3 실행 전 중단\n",
    ")\n",
    "\n",
    "# 시각화\n",
    "display(Image(graph.get_graph().draw_mermaid_png()))"
   ]
  },
  {
   "cell_type": "code",
   "execution_count": 4,
   "metadata": {},
   "outputs": [
    {
     "name": "stdout",
     "output_type": "stream",
     "text": [
      "=== 첫 번째 실행 ===\n",
      "{'input': 'hello world'}\n",
      "---Step 1 실행---\n",
      "{'input': 'hello world (1)'}\n",
      "---Step 2 실행---\n",
      "{'input': 'hello world (1) (2)'}\n"
     ]
    }
   ],
   "source": [
    "# 실행\n",
    "initial_input = {\"input\": \"hello world\"}\n",
    "thread = {\"configurable\": {\"thread_id\": \"1\"}}\n",
    "\n",
    "# 첫 번째 실행 - 브레이크포인트에서 중단\n",
    "print(\"=== 첫 번째 실행 ===\")\n",
    "for event in graph.stream(initial_input, thread, stream_mode=\"values\"):\n",
    "    print(event)"
   ]
  },
  {
   "cell_type": "code",
   "execution_count": 5,
   "metadata": {},
   "outputs": [
    {
     "name": "stdout",
     "output_type": "stream",
     "text": [
      "\n",
      "현재 상태: {'input': 'hello world (1) (2)'}\n",
      "다음 노드: ('step_3',)\n"
     ]
    }
   ],
   "source": [
    "# 상태 확인\n",
    "state = graph.get_state(thread)\n",
    "print(f\"\\n현재 상태: {state.values}\")\n",
    "print(f\"다음 노드: {state.next}\")"
   ]
  },
  {
   "cell_type": "code",
   "execution_count": 6,
   "metadata": {},
   "outputs": [
    {
     "name": "stdout",
     "output_type": "stream",
     "text": [
      "\n",
      "=== 실행 재개 ===\n",
      "{'input': 'hello world (1) (2)'}\n",
      "---Step 3 실행---\n",
      "{'input': 'hello world (1) (2) (3)'}\n"
     ]
    }
   ],
   "source": [
    "# 재개 - None을 입력으로 전달\n",
    "print(\"\\n=== 실행 재개 ===\")\n",
    "for event in graph.stream(None, thread, stream_mode=\"values\"):\n",
    "    print(event)"
   ]
  },
  {
   "cell_type": "markdown",
   "metadata": {},
   "source": [
    "### (3) 동적 브레이크포인트 예제 - interrupt 함수 사용"
   ]
  },
  {
   "cell_type": "code",
   "execution_count": 7,
   "metadata": {},
   "outputs": [
    {
     "data": {
      "image/png": "[encoded data removed]",
      "text/plain": [
       "<IPython.core.display.Image object>"
      ]
     },
     "metadata": {},
     "output_type": "display_data"
    }
   ],
   "source": [
    "from typing_extensions import TypedDict\n",
    "from langgraph.checkpoint.memory import InMemorySaver\n",
    "from langgraph.graph import StateGraph, START, END\n",
    "from langgraph.types import interrupt, Command\n",
    "from IPython.display import Image, display\n",
    "import uuid\n",
    "\n",
    "class SimpleState(TypedDict):\n",
    "    input: str\n",
    "    user_decision: str\n",
    "\n",
    "def step_1(state):\n",
    "    print(\"---Step 1 실행---\")\n",
    "    return {\"input\": state.get(\"input\", \"\") + \" (1)\"}\n",
    "\n",
    "def step_2(state):\n",
    "    print(\"---Step 2 실행---\")\n",
    "    return {\"input\": state.get(\"input\", \"\") + \" (2)\"}\n",
    "\n",
    "def step_3_with_interrupt(state):\n",
    "    print(\"---Step 3 시작 (동적 브레이크포인트)---\")\n",
    "    \n",
    "    # 동적 브레이크포인트: interrupt() 함수 사용\n",
    "    user_decision = interrupt({\n",
    "        \"message\": \"Step 3를 실행하시겠습니까?\",\n",
    "        \"current_state\": state.get(\"input\", \"\"),\n",
    "        \"options\": [\"proceed\", \"skip\", \"modify\"]\n",
    "    })\n",
    "    \n",
    "    if user_decision == \"proceed\":\n",
    "        print(\"---Step 3 실행 (사용자 승인됨)---\")\n",
    "        return {\"input\": state.get(\"input\", \"\") + \" (3)\", \"user_decision\": user_decision}\n",
    "    elif user_decision == \"skip\":\n",
    "        print(\"---Step 3 건너뜀 (사용자 요청)---\")\n",
    "        return {\"input\": state.get(\"input\", \"\") + \" (skipped)\", \"user_decision\": user_decision}\n",
    "    else:  # modify\n",
    "        print(\"---Step 3 수정됨 (사용자 요청)---\")\n",
    "        return {\"input\": state.get(\"input\", \"\") + \" (modified)\", \"user_decision\": user_decision}\n",
    "\n",
    "# 그래프 구성\n",
    "builder = StateGraph(SimpleState)\n",
    "builder.add_node(\"step_1\", step_1)\n",
    "builder.add_node(\"step_2\", step_2)\n",
    "builder.add_node(\"step_3\", step_3_with_interrupt)\n",
    "\n",
    "builder.add_edge(START, \"step_1\")\n",
    "builder.add_edge(\"step_1\", \"step_2\")\n",
    "builder.add_edge(\"step_2\", \"step_3\")\n",
    "builder.add_edge(\"step_3\", END)\n",
    "\n",
    "# 체크포인터 설정 (interrupt 사용을 위해 필수)\n",
    "checkpointer = InMemorySaver()\n",
    "\n",
    "# 컴파일 (동적 브레이크포인트는 코드 내에서 interrupt() 함수로 설정)\n",
    "graph = builder.compile(checkpointer=checkpointer)\n",
    "\n",
    "# 시각화\n",
    "display(Image(graph.get_graph().draw_mermaid_png()))"
   ]
  },
  {
   "cell_type": "code",
   "execution_count": 8,
   "metadata": {},
   "outputs": [
    {
     "name": "stdout",
     "output_type": "stream",
     "text": [
      "---Step 1 실행---\n",
      "---Step 2 실행---\n",
      "---Step 3 시작 (동적 브레이크포인트)---\n"
     ]
    }
   ],
   "source": [
    "# 설정\n",
    "initial_input = {\"input\": \"hello world\"}\n",
    "thread_config = {\"configurable\": {\"thread_id\": str(uuid.uuid4())}}\n",
    "\n",
    "# 첫 번째 실행 - interrupt에서 중단\n",
    "result = graph.invoke(initial_input, config=thread_config)"
   ]
  },
  {
   "cell_type": "code",
   "execution_count": 9,
   "metadata": {},
   "outputs": [
    {
     "name": "stdout",
     "output_type": "stream",
     "text": [
      "Interrupt 내용: [Interrupt(value={'message': 'Step 3를 실행하시겠습니까?', 'current_state': 'hello world (1) (2)', 'options': ['proceed', 'skip', 'modify']}, id='8c4bf2d8c274ad367516db7c75491275')]\n"
     ]
    }
   ],
   "source": [
    "# interrupt 정보 확인\n",
    "print(f\"Interrupt 내용: {result.get('__interrupt__')}\")"
   ]
  },
  {
   "cell_type": "code",
   "execution_count": 10,
   "metadata": {},
   "outputs": [
    {
     "name": "stdout",
     "output_type": "stream",
     "text": [
      "\n",
      "현재 상태: {'input': 'hello world (1) (2)'}\n",
      "다음 노드: ('step_3',)\n",
      "Interrupt 정보: (Interrupt(value={'message': 'Step 3를 실행하시겠습니까?', 'current_state': 'hello world (1) (2)', 'options': ['proceed', 'skip', 'modify']}, id='8c4bf2d8c274ad367516db7c75491275'),)\n"
     ]
    }
   ],
   "source": [
    "# 현재 상태 확인\n",
    "state = graph.get_state(thread_config)\n",
    "print(f\"\\n현재 상태: {state.values}\")\n",
    "print(f\"다음 노드: {state.next}\")\n",
    "print(f\"Interrupt 정보: {state.interrupts}\")"
   ]
  },
  {
   "cell_type": "code",
   "execution_count": 11,
   "metadata": {},
   "outputs": [
    {
     "name": "stdout",
     "output_type": "stream",
     "text": [
      "---Step 3 시작 (동적 브레이크포인트)---\n",
      "---Step 3 실행 (사용자 승인됨)---\n"
     ]
    }
   ],
   "source": [
    "# Command를 사용하여 실행 재개\n",
    "\n",
    "# \"proceed\" 옵션으로 재개\n",
    "final_result = graph.invoke(Command(resume=\"proceed\"), config=thread_config)"
   ]
  },
  {
   "cell_type": "code",
   "execution_count": 12,
   "metadata": {},
   "outputs": [
    {
     "name": "stdout",
     "output_type": "stream",
     "text": [
      "최종 결과: {'input': 'hello world (1) (2) (3)', 'user_decision': 'proceed'}\n"
     ]
    }
   ],
   "source": [
    "print(f\"최종 결과: {final_result}\")"
   ]
  },
  {
   "cell_type": "code",
   "execution_count": 13,
   "metadata": {},
   "outputs": [
    {
     "name": "stdout",
     "output_type": "stream",
     "text": [
      "---Step 1 실행---\n",
      "---Step 2 실행---\n",
      "---Step 3 시작 (동적 브레이크포인트)---\n"
     ]
    }
   ],
   "source": [
    "# 새로운 스레드로 다른 옵션 테스트\n",
    "thread_config_2 = {\"configurable\": {\"thread_id\": str(uuid.uuid4())}}\n",
    "\n",
    "result_2 = graph.invoke(initial_input, config=thread_config_2)"
   ]
  },
  {
   "cell_type": "code",
   "execution_count": 14,
   "metadata": {},
   "outputs": [
    {
     "name": "stdout",
     "output_type": "stream",
     "text": [
      "\n",
      "현재 상태: {'input': 'hello world (1) (2)'}\n",
      "다음 노드: ('step_3',)\n",
      "Interrupt 정보: (Interrupt(value={'message': 'Step 3를 실행하시겠습니까?', 'current_state': 'hello world (1) (2)', 'options': ['proceed', 'skip', 'modify']}, id='12fce7d181d067df9c124004b85f52ef'),)\n"
     ]
    }
   ],
   "source": [
    "# 현재 상태 확인\n",
    "state = graph.get_state(thread_config_2)\n",
    "print(f\"\\n현재 상태: {state.values}\")\n",
    "print(f\"다음 노드: {state.next}\")\n",
    "print(f\"Interrupt 정보: {state.interrupts}\")"
   ]
  },
  {
   "cell_type": "code",
   "execution_count": 15,
   "metadata": {},
   "outputs": [
    {
     "name": "stdout",
     "output_type": "stream",
     "text": [
      "---Step 3 시작 (동적 브레이크포인트)---\n",
      "---Step 3 건너뜀 (사용자 요청)---\n",
      "Skip 결과: {'input': 'hello world (1) (2) (skipped)', 'user_decision': 'skip'}\n"
     ]
    }
   ],
   "source": [
    "# 사용자가 Skip 선택으로 재개\n",
    "final_result_2 = graph.invoke(Command(resume=\"skip\"), config=thread_config_2)\n",
    "print(f\"Skip 결과: {final_result_2}\")"
   ]
  },
  {
   "cell_type": "markdown",
   "metadata": {},
   "source": [
    "### 핵심 포인트 정리\n",
    "\n",
    "1. **Checkpointer는 필수**\n",
    "   - HITL 기능을 사용하려면 반드시 checkpointer 설정 필요\n",
    "   - `InMemorySaver()` (개발), `SqliteSaver()` (프로덕션) 등 선택\n",
    "\n",
    "2. **Breakpoint 선택 가이드**\n",
    "   - **정적**: 디버깅, 고정된 검토 지점\n",
    "   - **동적(interrupt)**: 조건부 개입, 사용자 입력 필요\n",
    "\n",
    "3. **상태 관리**\n",
    "   - `graph.get_state(config)`: 현재 상태 확인\n",
    "   - `Command(resume=value)`: 실행 재개 및 값 전달\n",
    "   - `Command(goto=node)`: 특정 노드로 이동"
   ]
  },
  {
   "cell_type": "markdown",
   "metadata": {},
   "source": [
    "---\n",
    "\n",
    "### **웹 검색 기반 리서치 시스템 구현**\n",
    "\n",
    "- **주제 분석**: 사용자가 제공한 주제를 분석하여 검색 키워드 생성 (사용자가 직접 검토 및 수정 가능)\n",
    "- **웹 검색**: 다양한 소스에서 관련 정보 수집\n",
    "- **보고서 작성**: AI가 종합적인 리서치 보고서 초안 생성\n",
    "- **사용자 검토**: 사용자가 보고서 내용을 검토하고 수정 요청\n",
    "- **최종 완성**: 피드백을 반영한 최종 보고서 생성"
   ]
  },
  {
   "cell_type": "markdown",
   "metadata": {},
   "source": [
    "### (1) 상태 정의 및 도구 설정"
   ]
  },
  {
   "cell_type": "code",
   "execution_count": 16,
   "metadata": {},
   "outputs": [],
   "source": [
    "from typing import List, Dict, Annotated, Optional\n",
    "from pydantic import BaseModel, Field\n",
    "from langgraph.graph import StateGraph, START, END, MessagesState\n",
    "from langgraph.checkpoint.memory import InMemorySaver\n",
    "from langgraph.types import interrupt, Command, Send\n",
    "from langchain_openai import ChatOpenAI\n",
    "from langchain_tavily import TavilySearch\n",
    "from langchain_core.messages import BaseMessage, AIMessage, HumanMessage\n",
    "from langchain_core.prompts import ChatPromptTemplate\n",
    "from IPython.display import Image, display\n",
    "import operator\n",
    "\n",
    "# ========================================\n",
    "# State 정의 (Reducer 포함)\n",
    "# ========================================\n",
    "\n",
    "class ResearchState(MessagesState):\n",
    "    topic: str                  # 연구 주제\n",
    "    keywords: List[str]         # 검색 키워드\n",
    "\n",
    "    ready_for_search: bool      # 검색 준비 완료 여부\n",
    "    search_results: Annotated[List[Dict], operator.add]  # Reducer로 Send 결과 자동 병합\n",
    "    report: str                 # 최종 보고서\n",
    "\n",
    "    feedback: str               # 피드백\n",
    "\n",
    "# ========================================\n",
    "# LLM, 도구 설정\n",
    "# ========================================\n",
    "\n",
    "llm = ChatOpenAI(model=\"gpt-4.1-mini\", temperature=0.7)\n",
    "search_tool = TavilySearch(max_results=3)"
   ]
  },
  {
   "cell_type": "markdown",
   "metadata": {},
   "source": [
    "### (2) 그래프 노드 정의 및 연결"
   ]
  },
  {
   "cell_type": "markdown",
   "metadata": {},
   "source": [
    "- **주제 분석**: 사용자가 제공한 주제를 분석하여 검색 키워드 생성"
   ]
  },
  {
   "cell_type": "code",
   "execution_count": 17,
   "metadata": {},
   "outputs": [],
   "source": [
    "# pydantic 모델 (구조화된 출력용)\n",
    "class Keywords(BaseModel):\n",
    "    \"\"\"키워드 생성 결과\"\"\"\n",
    "    keywords: List[str] = Field(description=\"생성된 키워드 목록\")\n",
    "    confidence: float = Field(description=\"키워드 신뢰도\")\n",
    "\n",
    "\n",
    "def generate_keywords(state: ResearchState) -> ResearchState:\n",
    "    \"\"\"Pydantic으로 구조화된 키워드 생성\"\"\"\n",
    "    prompt = ChatPromptTemplate.from_messages([\n",
    "        (\"system\", \"전문 리서치 분석가로서 효과적인 검색 키워드를 생성하세요.\"),\n",
    "        (\"human\", \"주제: {topic}\\n3-7개 키워드와 신뢰도(0-1)를 생성하세요.\")\n",
    "    ])\n",
    "    # 구조화된 출력\n",
    "    chain = prompt | llm.with_structured_output(Keywords)\n",
    "    result = chain.invoke({\"topic\": state[\"topic\"]})\n",
    "    \n",
    "    if result.keywords is None or len(result.keywords) == 0:\n",
    "        return {\n",
    "            \"keywords\": [],\n",
    "            \"messages\": [AIMessage(\"키워드 생성에 실패했습니다.\")]\n",
    "        } # type: ignore\n",
    "    \n",
    "    return {\n",
    "        \"keywords\": result.keywords,\n",
    "        \"messages\": [AIMessage(f\"키워드 {len(result.keywords)}개 생성 (신뢰도: {result.confidence:.0%})\")]\n",
    "    } # type: ignore\n",
    "\n",
    "def review_keywords(state: ResearchState) -> ResearchState:\n",
    "    \"\"\"Human-in-the-loop: 키워드 검토\"\"\"\n",
    "    keywords_list = \"\\n\".join([f\"{i+1}. {k}\" for i, k in enumerate(state[\"keywords\"])])\n",
    "\n",
    "    # interrupt 사용자 입력 대기 (HITL) -> 사용자에게 요청 (사용자가 입력한 내용은 user_input에 저장)\n",
    "    user_input = interrupt({\n",
    "        \"keywords\": state[\"keywords\"],\n",
    "        \"question\": f\"키워드 검토:\\n{keywords_list}\\n\\n옵션:\\n- '승인': 현재 키워드 사용\\n- '재생성': 새 키워드 생성\\n- '수정: 키워드1,키워드2,...': 직접 수정\"\n",
    "    })\n",
    "\n",
    "    # 사용자가 입력한 피드백 저장\n",
    "    return {\"feedback\": user_input}\n",
    "\n",
    "def process_keyword_feedback(state: ResearchState) -> ResearchState:\n",
    "    \"\"\"키워드 피드백 처리 - 키워드 직접 수정\"\"\"\n",
    "    feedback = state.get(\"feedback\", \"\").strip()\n",
    "    \n",
    "    if not feedback or \"승인\" in feedback.lower():\n",
    "        # 승인된 경우\n",
    "        return {\n",
    "            \"keywords\": state[\"keywords\"], \n",
    "            \"messages\": [AIMessage(\"키워드가 승인되었습니다.\")]\n",
    "        }  # type: ignore\n",
    "\n",
    "    elif \"수정:\" in feedback:\n",
    "        # 직접 수정된 키워드 추출\n",
    "        try:\n",
    "            new_keywords_str = feedback.split(\"수정:\", 1)[1].strip()\n",
    "            new_keywords = [kw.strip() for kw in new_keywords_str.split(\",\") if kw.strip()]\n",
    "            return {\n",
    "                \"keywords\": new_keywords,\n",
    "                \"messages\": [AIMessage(f\"키워드가 수정되었습니다: {', '.join(new_keywords)}\")]\n",
    "            }  # type: ignore\n",
    "        except:\n",
    "            return {\n",
    "                \"keywords\": [],\n",
    "                \"messages\": [AIMessage(\"키워드 형식이 올바르지 않습니다. 재생성합니다.\")]\n",
    "            }  # type: ignore\n",
    "\n",
    "    else:\n",
    "        # 재생성 또는 기타 경우\n",
    "        return {\n",
    "            \"keywords\": [],\n",
    "            \"messages\": [AIMessage(\"키워드를 재생성합니다.\")]\n",
    "        }  # type: ignore"
   ]
  },
  {
   "cell_type": "markdown",
   "metadata": {},
   "source": [
    "`(1) 주제 분석 테스트를 위한 워크플로우 정의`"
   ]
  },
  {
   "cell_type": "code",
   "execution_count": 18,
   "metadata": {},
   "outputs": [
    {
     "data": {
      "image/png": "[encoded data removed]",
      "text/plain": [
       "<IPython.core.display.Image object>"
      ]
     },
     "metadata": {},
     "output_type": "display_data"
    }
   ],
   "source": [
    "# ===== 워크플로우 그래프 구성 =====\n",
    "def should_continue_after_review(state: ResearchState) -> str:\n",
    "    \"\"\"검토 후 다음 단계 결정\"\"\"\n",
    "    feedback = state.get(\"feedback\", \"\").strip().lower()\n",
    "\n",
    "    # 피드백 유형에 따른 다음 단계 결정\n",
    "    if not feedback or \"승인\" in feedback:\n",
    "        return \"approved\"    # 승인된 경우\n",
    "\n",
    "    elif \"수정:\" in feedback:\n",
    "        return \"process_feedback\"    # 직접 수정된 키워드 처리\n",
    "\n",
    "    else:\n",
    "        return \"regenerate\"  # 재생성\n",
    "\n",
    "# StateGraph 생성\n",
    "workflow = StateGraph(ResearchState)\n",
    "\n",
    "# 노드 추가\n",
    "workflow.add_node(\"analyze_topic\", generate_keywords)\n",
    "workflow.add_node(\"review_keywords\", review_keywords)\n",
    "workflow.add_node(\"process_feedback\", process_keyword_feedback)\n",
    "\n",
    "# 엣지 연결\n",
    "workflow.add_edge(START, \"analyze_topic\")\n",
    "workflow.add_edge(\"analyze_topic\", \"review_keywords\")\n",
    "\n",
    "# 조건부 엣지\n",
    "workflow.add_conditional_edges(\n",
    "    \"review_keywords\",\n",
    "    should_continue_after_review,\n",
    "    {\n",
    "        \"process_feedback\": \"process_feedback\",\n",
    "        \"regenerate\": \"analyze_topic\",  # 재생성시 다시 키워드 생성으로\n",
    "        \"approved\": END\n",
    "    }\n",
    ")\n",
    "\n",
    "# 피드백 처리 후 종료\n",
    "workflow.add_edge(\"process_feedback\", END)\n",
    "\n",
    "# 그래프 컴파일\n",
    "graph = workflow.compile(checkpointer=InMemorySaver())\n",
    "\n",
    "# 상태 그래프 시각화\n",
    "display(Image(graph.get_graph().draw_mermaid_png()))"
   ]
  },
  {
   "cell_type": "markdown",
   "metadata": {},
   "source": [
    "`(2) 워크플로우 시작`\n",
    "\n",
    "- **interrupt**까지 실행"
   ]
  },
  {
   "cell_type": "code",
   "execution_count": 19,
   "metadata": {},
   "outputs": [
    {
     "name": "stdout",
     "output_type": "stream",
     "text": [
      "Event: {'analyze_topic': {'keywords': ['인공지능', '머신러닝', '딥러닝', '자연어 처리', '컴퓨터 비전', '강화 학습', 'AI 윤리'], 'messages': [AIMessage(content='키워드 7개 생성 (신뢰도: 95%)', additional_kwargs={}, response_metadata={}, id='de45f6ec-0e43-444d-bc48-8210fc2b97a7')]}}\n",
      "Event: {'__interrupt__': (Interrupt(value={'keywords': ['인공지능', '머신러닝', '딥러닝', '자연어 처리', '컴퓨터 비전', '강화 학습', 'AI 윤리'], 'question': \"키워드 검토:\\n1. 인공지능\\n2. 머신러닝\\n3. 딥러닝\\n4. 자연어 처리\\n5. 컴퓨터 비전\\n6. 강화 학습\\n7. AI 윤리\\n\\n옵션:\\n- '승인': 현재 키워드 사용\\n- '재생성': 새 키워드 생성\\n- '수정: 키워드1,키워드2,...': 직접 수정\"}, id='521453fb7609612c3bf319aa2f36e27f'),)}\n"
     ]
    }
   ],
   "source": [
    "# 초기 상태 설정\n",
    "initial_state = {\n",
    "    \"topic\": \"인공지능 기술 발전\"\n",
    "}\n",
    "\n",
    "# 스레드 설정\n",
    "config = {\"configurable\": {\"thread_id\": f\"test_thread_1\"}}\n",
    "\n",
    "\n",
    "# 워크플로우 실행\n",
    "# 첫 번째 실행 - 중단점에서 실행을 멈춤\n",
    "for event in graph.stream(initial_state, config=config):\n",
    "    print(f\"Event: {event}\")"
   ]
  },
  {
   "cell_type": "markdown",
   "metadata": {},
   "source": [
    "`(3) 현재 상태 확인`\n",
    "\n",
    "- **get_state** 함수로 현재 상태 확인 가능\n"
   ]
  },
  {
   "cell_type": "code",
   "execution_count": 20,
   "metadata": {},
   "outputs": [
    {
     "name": "stdout",
     "output_type": "stream",
     "text": [
      "\n",
      "현재 상태: {'messages': [AIMessage(content='키워드 7개 생성 (신뢰도: 95%)', additional_kwargs={}, response_metadata={}, id='de45f6ec-0e43-444d-bc48-8210fc2b97a7')], 'topic': '인공지능 기술 발전', 'keywords': ['인공지능', '머신러닝', '딥러닝', '자연어 처리', '컴퓨터 비전', '강화 학습', 'AI 윤리'], 'search_results': []}\n",
      "대기 중인 interrupt: (PregelTask(id='c52b674b-3ea1-5ee5-e6d3-722022f9f89a', name='review_keywords', path=('__pregel_pull', 'review_keywords'), error=None, interrupts=(Interrupt(value={'keywords': ['인공지능', '머신러닝', '딥러닝', '자연어 처리', '컴퓨터 비전', '강화 학습', 'AI 윤리'], 'question': \"키워드 검토:\\n1. 인공지능\\n2. 머신러닝\\n3. 딥러닝\\n4. 자연어 처리\\n5. 컴퓨터 비전\\n6. 강화 학습\\n7. AI 윤리\\n\\n옵션:\\n- '승인': 현재 키워드 사용\\n- '재생성': 새 키워드 생성\\n- '수정: 키워드1,키워드2,...': 직접 수정\"}, id='521453fb7609612c3bf319aa2f36e27f'),), state=None, result=None),)\n"
     ]
    }
   ],
   "source": [
    "# 현재 상태 - 그래프 체크포인트 확인\n",
    "current_state = graph.get_state(config)\n",
    "\n",
    "print(f\"\\n현재 상태: {current_state.values}\")\n",
    "print(f\"대기 중인 interrupt: {current_state.tasks}\")"
   ]
  },
  {
   "cell_type": "code",
   "execution_count": 21,
   "metadata": {},
   "outputs": [
    {
     "data": {
      "text/plain": [
       "('review_keywords',)"
      ]
     },
     "execution_count": 21,
     "metadata": {},
     "output_type": "execute_result"
    }
   ],
   "source": [
    "# 다음에 실행될 노드를 확인 \n",
    "current_state.next"
   ]
  },
  {
   "cell_type": "code",
   "execution_count": 22,
   "metadata": {},
   "outputs": [
    {
     "name": "stdout",
     "output_type": "stream",
     "text": [
      "c52b674b-3ea1-5ee5-e6d3-722022f9f89a\n",
      "review_keywords\n",
      "{'keywords': ['인공지능', '머신러닝', '딥러닝', '자연어 처리', '컴퓨터 비전', '강화 학습', 'AI 윤리'],\n",
      " 'question': '키워드 검토:\\n'\n",
      "             '1. 인공지능\\n'\n",
      "             '2. 머신러닝\\n'\n",
      "             '3. 딥러닝\\n'\n",
      "             '4. 자연어 처리\\n'\n",
      "             '5. 컴퓨터 비전\\n'\n",
      "             '6. 강화 학습\\n'\n",
      "             '7. AI 윤리\\n'\n",
      "             '\\n'\n",
      "             '옵션:\\n'\n",
      "             \"- '승인': 현재 키워드 사용\\n\"\n",
      "             \"- '재생성': 새 키워드 생성\\n\"\n",
      "             \"- '수정: 키워드1,키워드2,...': 직접 수정\"}\n"
     ]
    }
   ],
   "source": [
    "# 대기 중인 interrupt 확인\n",
    "task = current_state.tasks[0]\n",
    "print(task.id)\n",
    "print(task.name)\n",
    "pprint(task.interrupts[0].value)"
   ]
  },
  {
   "cell_type": "markdown",
   "metadata": {},
   "source": [
    "`(4) 사용자 개입 (HITL): 거부`\n",
    "\n",
    "- 사용자가 승인을 해주지 않는 경우, 피드백을 통해 다시 생성\n",
    "- **Command** 함수로 사용자 피드백 전달"
   ]
  },
  {
   "cell_type": "code",
   "execution_count": 23,
   "metadata": {},
   "outputs": [
    {
     "name": "stdout",
     "output_type": "stream",
     "text": [
      "config:  {'configurable': {'thread_id': 'test_thread_1'}}\n",
      "Event: {'review_keywords': {'feedback': '재생성'}}\n",
      "Event: {'analyze_topic': {'keywords': ['인공지능', '머신러닝', '딥러닝', '자연어 처리', '컴퓨터 비전', '강화학습', 'AI 윤리'], 'messages': [AIMessage(content='키워드 7개 생성 (신뢰도: 95%)', additional_kwargs={}, response_metadata={}, id='cabea217-06a4-4334-a461-8bd213026c6e')]}}\n",
      "Event: {'__interrupt__': (Interrupt(value={'keywords': ['인공지능', '머신러닝', '딥러닝', '자연어 처리', '컴퓨터 비전', '강화학습', 'AI 윤리'], 'question': \"키워드 검토:\\n1. 인공지능\\n2. 머신러닝\\n3. 딥러닝\\n4. 자연어 처리\\n5. 컴퓨터 비전\\n6. 강화학습\\n7. AI 윤리\\n\\n옵션:\\n- '승인': 현재 키워드 사용\\n- '재생성': 새 키워드 생성\\n- '수정: 키워드1,키워드2,...': 직접 수정\"}, id='c2809c22a86d8a5fbc377fd3d541cc11'),)}\n"
     ]
    }
   ],
   "source": [
    "from langgraph.types import Command\n",
    "\n",
    "# 사용자 피드백 제공 (거부: 재생성 요청)\n",
    "human_feedback = \"재생성\"\n",
    "\n",
    "print(f\"config: \", config)\n",
    "\n",
    "# 사용자 입력으로 그래프 재개 (Command 사용)\n",
    "for event in graph.stream(Command(resume=human_feedback), config=config):\n",
    "    print(f\"Event: {event}\")"
   ]
  },
  {
   "cell_type": "code",
   "execution_count": 24,
   "metadata": {},
   "outputs": [
    {
     "name": "stdout",
     "output_type": "stream",
     "text": [
      "\n",
      "현재 상태: {'messages': [AIMessage(content='키워드 7개 생성 (신뢰도: 95%)', additional_kwargs={}, response_metadata={}, id='de45f6ec-0e43-444d-bc48-8210fc2b97a7'), AIMessage(content='키워드 7개 생성 (신뢰도: 95%)', additional_kwargs={}, response_metadata={}, id='cabea217-06a4-4334-a461-8bd213026c6e')], 'topic': '인공지능 기술 발전', 'keywords': ['인공지능', '머신러닝', '딥러닝', '자연어 처리', '컴퓨터 비전', '강화학습', 'AI 윤리'], 'search_results': [], 'feedback': '재생성'}\n",
      "대기 중인 interrupt: (PregelTask(id='be3e3976-9d5b-4494-78fa-633360e5811a', name='review_keywords', path=('__pregel_pull', 'review_keywords'), error=None, interrupts=(Interrupt(value={'keywords': ['인공지능', '머신러닝', '딥러닝', '자연어 처리', '컴퓨터 비전', '강화학습', 'AI 윤리'], 'question': \"키워드 검토:\\n1. 인공지능\\n2. 머신러닝\\n3. 딥러닝\\n4. 자연어 처리\\n5. 컴퓨터 비전\\n6. 강화학습\\n7. AI 윤리\\n\\n옵션:\\n- '승인': 현재 키워드 사용\\n- '재생성': 새 키워드 생성\\n- '수정: 키워드1,키워드2,...': 직접 수정\"}, id='c2809c22a86d8a5fbc377fd3d541cc11'),), state=None, result=None),)\n"
     ]
    }
   ],
   "source": [
    "# 현재 상태 - 그래프 체크포인트 확인\n",
    "current_state = graph.get_state(config)\n",
    "\n",
    "print(f\"\\n현재 상태: {current_state.values}\")\n",
    "print(f\"대기 중인 interrupt: {current_state.tasks}\")"
   ]
  },
  {
   "cell_type": "code",
   "execution_count": 25,
   "metadata": {},
   "outputs": [
    {
     "data": {
      "text/plain": [
       "('review_keywords',)"
      ]
     },
     "execution_count": 25,
     "metadata": {},
     "output_type": "execute_result"
    }
   ],
   "source": [
    "# 다음에 실행될 노드를 확인 \n",
    "current_state.next"
   ]
  },
  {
   "cell_type": "code",
   "execution_count": 26,
   "metadata": {},
   "outputs": [
    {
     "name": "stdout",
     "output_type": "stream",
     "text": [
      "be3e3976-9d5b-4494-78fa-633360e5811a\n",
      "review_keywords\n",
      "{'keywords': ['인공지능', '머신러닝', '딥러닝', '자연어 처리', '컴퓨터 비전', '강화학습', 'AI 윤리'],\n",
      " 'question': '키워드 검토:\\n'\n",
      "             '1. 인공지능\\n'\n",
      "             '2. 머신러닝\\n'\n",
      "             '3. 딥러닝\\n'\n",
      "             '4. 자연어 처리\\n'\n",
      "             '5. 컴퓨터 비전\\n'\n",
      "             '6. 강화학습\\n'\n",
      "             '7. AI 윤리\\n'\n",
      "             '\\n'\n",
      "             '옵션:\\n'\n",
      "             \"- '승인': 현재 키워드 사용\\n\"\n",
      "             \"- '재생성': 새 키워드 생성\\n\"\n",
      "             \"- '수정: 키워드1,키워드2,...': 직접 수정\"}\n"
     ]
    }
   ],
   "source": [
    "# 대기 중인 interrupt 확인\n",
    "task = current_state.tasks[0]\n",
    "print(task.id)\n",
    "print(task.name)\n",
    "pprint(task.interrupts[0].value)"
   ]
  },
  {
   "cell_type": "markdown",
   "metadata": {},
   "source": [
    "`(5) 사용자 개입 (HITL): 수정`\n",
    "\n",
    "- 사용자가 승인을 해주지 않는 경우, 피드백을 통해 다시 생성\n",
    "- **Command** 함수로 사용자 피드백 전달"
   ]
  },
  {
   "cell_type": "code",
   "execution_count": 27,
   "metadata": {},
   "outputs": [
    {
     "name": "stdout",
     "output_type": "stream",
     "text": [
      "config:  {'configurable': {'thread_id': 'test_thread_1'}}\n",
      "Event: {'review_keywords': {'feedback': '수정: 생성형 AI, LLM 발전'}}\n",
      "Event: {'process_feedback': {'keywords': ['생성형 AI', 'LLM 발전'], 'messages': [AIMessage(content='키워드가 수정되었습니다: 생성형 AI, LLM 발전', additional_kwargs={}, response_metadata={}, id='ab7697f2-feaa-42e0-b447-7f34baaf9b4e')]}}\n"
     ]
    }
   ],
   "source": [
    "from langgraph.types import Command\n",
    "\n",
    "# 사용자 피드백 제공 (거부: 직접 키워드 수정)\n",
    "human_feedback = \"수정: 생성형 AI, LLM 발전\"\n",
    "\n",
    "print(f\"config: \", config)\n",
    "\n",
    "# 사용자 입력으로 그래프 재개 (Command 사용)\n",
    "for event in graph.stream(Command(resume=human_feedback), config=config):\n",
    "    print(f\"Event: {event}\")"
   ]
  },
  {
   "cell_type": "code",
   "execution_count": 28,
   "metadata": {},
   "outputs": [
    {
     "name": "stdout",
     "output_type": "stream",
     "text": [
      "\n",
      "현재 상태: {'messages': [AIMessage(content='키워드 7개 생성 (신뢰도: 95%)', additional_kwargs={}, response_metadata={}, id='de45f6ec-0e43-444d-bc48-8210fc2b97a7'), AIMessage(content='키워드 7개 생성 (신뢰도: 95%)', additional_kwargs={}, response_metadata={}, id='cabea217-06a4-4334-a461-8bd213026c6e'), AIMessage(content='키워드가 수정되었습니다: 생성형 AI, LLM 발전', additional_kwargs={}, response_metadata={}, id='ab7697f2-feaa-42e0-b447-7f34baaf9b4e')], 'topic': '인공지능 기술 발전', 'keywords': ['생성형 AI', 'LLM 발전'], 'search_results': [], 'feedback': '수정: 생성형 AI, LLM 발전'}\n",
      "대기 중인 interrupt: ()\n"
     ]
    }
   ],
   "source": [
    "# 현재 상태 - 그래프 체크포인트 확인\n",
    "current_state = graph.get_state(config)\n",
    "\n",
    "print(f\"\\n현재 상태: {current_state.values}\")\n",
    "print(f\"대기 중인 interrupt: {current_state.tasks}\")"
   ]
  },
  {
   "cell_type": "code",
   "execution_count": 29,
   "metadata": {},
   "outputs": [
    {
     "data": {
      "text/plain": [
       "()"
      ]
     },
     "execution_count": 29,
     "metadata": {},
     "output_type": "execute_result"
    }
   ],
   "source": [
    "# 다음에 실행될 노드를 확인 \n",
    "current_state.next"
   ]
  },
  {
   "cell_type": "markdown",
   "metadata": {},
   "source": [
    "`(5) 사용자 개입 (HITL): 승인`\n",
    "\n",
    "- 사용자가 '승인'을 해서 최종 답변을 생성하고 종료"
   ]
  },
  {
   "cell_type": "code",
   "execution_count": 30,
   "metadata": {},
   "outputs": [
    {
     "name": "stdout",
     "output_type": "stream",
     "text": [
      "Event: {'analyze_topic': {'keywords': ['기후변화', '지구온난화', '탄소배출', '재생에너지', '기후위기', '온실가스', '환경보호'], 'messages': [AIMessage(content='키워드 7개 생성 (신뢰도: 95%)', additional_kwargs={}, response_metadata={}, id='db896881-49b4-4fea-9c0d-be2e27d40468')]}}\n",
      "Event: {'__interrupt__': (Interrupt(value={'keywords': ['기후변화', '지구온난화', '탄소배출', '재생에너지', '기후위기', '온실가스', '환경보호'], 'question': \"키워드 검토:\\n1. 기후변화\\n2. 지구온난화\\n3. 탄소배출\\n4. 재생에너지\\n5. 기후위기\\n6. 온실가스\\n7. 환경보호\\n\\n옵션:\\n- '승인': 현재 키워드 사용\\n- '재생성': 새 키워드 생성\\n- '수정: 키워드1,키워드2,...': 직접 수정\"}, id='49775210becc76a5a8d3f0b991ebdf54'),)}\n"
     ]
    }
   ],
   "source": [
    "# 초기 상태 설정\n",
    "initial_state = {\n",
    "    \"topic\": \"기후변화 위기\"\n",
    "}\n",
    "\n",
    "# 스레드 설정\n",
    "config = {\"configurable\": {\"thread_id\": f\"test_thread_2\"}}\n",
    "\n",
    "\n",
    "# 워크플로우 실행\n",
    "# 첫 번째 실행 - 중단점에서 실행을 멈춤\n",
    "for event in graph.stream(initial_state, config=config):\n",
    "    print(f\"Event: {event}\")"
   ]
  },
  {
   "cell_type": "code",
   "execution_count": 31,
   "metadata": {},
   "outputs": [
    {
     "name": "stdout",
     "output_type": "stream",
     "text": [
      "\n",
      "현재 상태: {'messages': [AIMessage(content='키워드 7개 생성 (신뢰도: 95%)', additional_kwargs={}, response_metadata={}, id='db896881-49b4-4fea-9c0d-be2e27d40468')], 'topic': '기후변화 위기', 'keywords': ['기후변화', '지구온난화', '탄소배출', '재생에너지', '기후위기', '온실가스', '환경보호'], 'search_results': []}\n",
      "대기 중인 interrupt: (PregelTask(id='4fba22ad-417e-e5b8-e7be-f4e16e3a399e', name='review_keywords', path=('__pregel_pull', 'review_keywords'), error=None, interrupts=(Interrupt(value={'keywords': ['기후변화', '지구온난화', '탄소배출', '재생에너지', '기후위기', '온실가스', '환경보호'], 'question': \"키워드 검토:\\n1. 기후변화\\n2. 지구온난화\\n3. 탄소배출\\n4. 재생에너지\\n5. 기후위기\\n6. 온실가스\\n7. 환경보호\\n\\n옵션:\\n- '승인': 현재 키워드 사용\\n- '재생성': 새 키워드 생성\\n- '수정: 키워드1,키워드2,...': 직접 수정\"}, id='49775210becc76a5a8d3f0b991ebdf54'),), state=None, result=None),)\n"
     ]
    }
   ],
   "source": [
    "# 현재 상태 - 그래프 체크포인트 확인\n",
    "current_state = graph.get_state(config)\n",
    "\n",
    "print(f\"\\n현재 상태: {current_state.values}\")\n",
    "print(f\"대기 중인 interrupt: {current_state.tasks}\")"
   ]
  },
  {
   "cell_type": "code",
   "execution_count": 32,
   "metadata": {},
   "outputs": [
    {
     "name": "stdout",
     "output_type": "stream",
     "text": [
      "키워드 검토:\n",
      "1. 기후변화\n",
      "2. 지구온난화\n",
      "3. 탄소배출\n",
      "4. 재생에너지\n",
      "5. 기후위기\n",
      "6. 온실가스\n",
      "7. 환경보호\n",
      "\n",
      "옵션:\n",
      "- '승인': 현재 키워드 사용\n",
      "- '재생성': 새 키워드 생성\n",
      "- '수정: 키워드1,키워드2,...': 직접 수정\n"
     ]
    }
   ],
   "source": [
    "# 피드백 요청 메시지 출력\n",
    "print(current_state.tasks[0].interrupts[0].value.get(\"question\"))"
   ]
  },
  {
   "cell_type": "code",
   "execution_count": 33,
   "metadata": {},
   "outputs": [
    {
     "name": "stdout",
     "output_type": "stream",
     "text": [
      "Event: {'review_keywords': {'feedback': '승인'}}\n"
     ]
    }
   ],
   "source": [
    "from langgraph.types import Command\n",
    "\n",
    "# 사용자 피드백 제공 (승인 문자열을 사용)\n",
    "human_feedback = \"승인\"\n",
    "\n",
    "# 사용자 입력으로 그래프 재개\n",
    "for event in graph.stream(Command(resume=human_feedback), config=config):\n",
    "    print(f\"Event: {event}\")"
   ]
  },
  {
   "cell_type": "code",
   "execution_count": 34,
   "metadata": {},
   "outputs": [
    {
     "name": "stdout",
     "output_type": "stream",
     "text": [
      "\n",
      "현재 상태: {'messages': [AIMessage(content='키워드 7개 생성 (신뢰도: 95%)', additional_kwargs={}, response_metadata={}, id='db896881-49b4-4fea-9c0d-be2e27d40468')], 'topic': '기후변화 위기', 'keywords': ['기후변화', '지구온난화', '탄소배출', '재생에너지', '기후위기', '온실가스', '환경보호'], 'search_results': [], 'feedback': '승인'}\n",
      "대기 중인 interrupt: ()\n"
     ]
    }
   ],
   "source": [
    "# 현재 상태 - 그래프 체크포인트 확인\n",
    "current_state = graph.get_state(config)\n",
    "\n",
    "print(f\"\\n현재 상태: {current_state.values}\")\n",
    "print(f\"대기 중인 interrupt: {current_state.tasks}\")"
   ]
  },
  {
   "cell_type": "code",
   "execution_count": 35,
   "metadata": {},
   "outputs": [
    {
     "data": {
      "text/plain": [
       "()"
      ]
     },
     "execution_count": 35,
     "metadata": {},
     "output_type": "execute_result"
    }
   ],
   "source": [
    "# 다음 노드 확인\n",
    "current_state.next"
   ]
  },
  {
   "cell_type": "code",
   "execution_count": 36,
   "metadata": {},
   "outputs": [
    {
     "name": "stdout",
     "output_type": "stream",
     "text": [
      "{'feedback': '승인',\n",
      " 'keywords': ['기후변화', '지구온난화', '탄소배출', '재생에너지', '기후위기', '온실가스', '환경보호'],\n",
      " 'messages': [AIMessage(content='키워드 7개 생성 (신뢰도: 95%)', additional_kwargs={}, response_metadata={}, id='db896881-49b4-4fea-9c0d-be2e27d40468')],\n",
      " 'search_results': [],\n",
      " 'topic': '기후변화 위기'}\n"
     ]
    }
   ],
   "source": [
    "# 현재 상태 출력\n",
    "pprint(current_state.values)"
   ]
  },
  {
   "cell_type": "markdown",
   "metadata": {},
   "source": [
    "- **웹 검색**: 다양한 소스에서 관련 정보 수집\n",
    "\n",
    "    - 맵-리듀스 패턴으로 병렬 검색 수행\n",
    "    - `Send` 사용"
   ]
  },
  {
   "cell_type": "code",
   "execution_count": 37,
   "metadata": {},
   "outputs": [
    {
     "data": {
      "text/plain": [
       "{'query': '기후변화',\n",
       " 'follow_up_questions': None,\n",
       " 'answer': None,\n",
       " 'images': [],\n",
       " 'results': [{'url': 'https://ko.wikipedia.org/wiki/%EA%B8%B0%ED%9B%84%EB%B3%80%ED%99%94',\n",
       "   'title': '기후변화 - 위키백과, 우리 모두의 백과사전',\n",
       "   'content': '기후변화(氣候變化, climate change)는 지구의 평균 기온이 점진적으로 상승하면서 전지구적 기후 패턴이 급격하게 변화하는 현상이다. 과거에는 지구 온난화(地球溫暖',\n",
       "   'score': 0.8934678,\n",
       "   'raw_content': None},\n",
       "  {'url': 'https://www.gihoo.or.kr/menu.es?mid=a30109000000',\n",
       "   'title': '기후변화란? - 탄소중립포털',\n",
       "   'content': '반면 기후는 다년간 관측된 정보를 기반으로 평균기상(Average Weather)을 예측하기에 대기 조성이나 기타 인자들의 변화로 인한 기후변화(즉, 장기적 평균 기상)를 전망해볼 수 있습니다. 오랜 기간(수십 년 또는 그 이상) 동안 지속되면서 기후의 평균 상태나 그 변동 속에서 통계적으로 의미 있는 변동으로 ‘인간 활동에 의한 것’이든 ‘자연적인 변동’이든 시간 경과에 따른 기후의 변화를 포괄함 * **UNFCCC 정의** United Nations Framework Convention on Climate Change 전 지구 대기의 조성을 변화시키는 인간의 활동이 직접적 또는 간접적인 요인으로 일어나고, 장기간에 걸쳐 관측된 자연적인 기후변동성에 추가하여 일어나는 기후의 변화로 정의. 기후위기에 대응하기 위한 방안은 온실가스 감축과 기후위기 적응 2가지로 나눌 수 있습니다. 기후변화를\\xa0완화 또는 지연시키기 위하여 대기\\xa0중 온실가스 농도가 인간활동에 의해 더 증가되지 않도록 온실가스 배출량을 줄이거나\\xa0흡수원을 보호하고 강화하여 온실가스 배출량과 전 지구적 흡수량이 균형을\\xa0이룰 수 있도록 수행하는 모든 활동',\n",
       "   'score': 0.80014634,\n",
       "   'raw_content': None},\n",
       "  {'url': 'http://www.nims.go.kr/?sub_num=830',\n",
       "   'title': '기후변동, 기후변화, 지구온난화 - 국립기상과학원',\n",
       "   'content': '**바로가기 메뉴** :   본문 바로가기 + 국립기상과학원 소개 - 비전 및 목표 - 국립기상과학원 MI - 소개 + 알기쉬운 기후변화 * 알기쉬운 기후변화 * 알기쉬운 기후변화 * 긴 시간동안의 평균값에서 약간의 변화를 보이지만 평균값을 크게 벗어나지 않는 자연적인 기후의 움직임을 “기후변동”이라고 한다. 그러나 이와 같은 자연적 기후변동의 범위를 벗어나 더 이상 평균적인 상태로 돌아오지 않는 평균 기후계의 변화를 “기후변화”라고 한다. 기존의 자연적인 기후변동의 범위를 벗어나서 인간 활동으로 인해 발생하는 기후변화는 화석연료를 태워 열을 가두는 온실가스 배출이 가장 큰 역할을 한다. “지구온난화”는 지구의 장기적인 온도상승을 의미하며, “기후변화”는 “지구온난화”를 포함하면서, 온난화에 의해 발생하는 광범위한 결과들도 포함한다. ## 관련기관 바로가기 링크 |  | 대표메일: nimskma@korea.kr\\u2003\\u2003대표전화: 064-780-6500\\u2003\\u2003팩스: 064-738-9071  (63568) 제주특별자치도 서귀포시 서호북로 33 국립기상과학원  COPYRIGHT ⓒ 2017 NATIONAL INSTITUTE OF METEOROLOGICAL SCIENCES.',\n",
       "   'score': 0.7197191,\n",
       "   'raw_content': None}],\n",
       " 'response_time': 0.0,\n",
       " 'request_id': '8f4af17a-3823-4e59-8d09-5bfbbc30dca7'}"
      ]
     },
     "execution_count": 37,
     "metadata": {},
     "output_type": "execute_result"
    }
   ],
   "source": [
    "results = search_tool.invoke(\"기후변화\")\n",
    "results"
   ]
  },
  {
   "cell_type": "code",
   "execution_count": 38,
   "metadata": {},
   "outputs": [],
   "source": [
    "# ===== 검색 노드 =====\n",
    "def ready_to_search(state: ResearchState) -> ResearchState:\n",
    "    \"\"\"검색 준비\"\"\"\n",
    "    return {\"ready_for_search\": True}\n",
    "\n",
    "def dispatch_searches(state: ResearchState) -> List[Send]:\n",
    "    \"\"\"병렬 검색 디스패치\"\"\"\n",
    "    return [Send(\"search_one\", {\"keyword\": kw}) for kw in state[\"keywords\"]]\n",
    "\n",
    "def search_one(state: Dict) -> ResearchState:\n",
    "    \"\"\"개별 검색 실행\"\"\"\n",
    "    keyword = state[\"keyword\"]\n",
    "    try:\n",
    "        results = search_tool.invoke(keyword)\n",
    "        data = results.get(\"results\", results) if isinstance(results, dict) else results\n",
    "        return {\n",
    "            \"search_results\": [{\n",
    "                \"keyword\": keyword,\n",
    "                \"data\": data if isinstance(data, list) else [],\n",
    "                \"success\": True\n",
    "            }]\n",
    "        }  # type: ignore\n",
    "    except Exception as e:\n",
    "        return {\n",
    "            \"search_results\": [{\n",
    "                \"keyword\": keyword,\n",
    "                \"error\": str(e),\n",
    "                \"success\": False\n",
    "            }]\n",
    "        } # type: ignore\n",
    "\n",
    "\n",
    "# ===== 보고서 생성  =====\n",
    "class Report(BaseModel):\n",
    "    \"\"\"보고서 모델\"\"\"\n",
    "    summary: str = Field(description=\"주제 요약\")\n",
    "    findings: List[str] = Field(description=\"주요 발견사항 리스트 (출처명, 링크 등을 포함)\")\n",
    "    recommendations: List[str] = Field(description=\"제언 리스트\")\n",
    "\n",
    "def generate_report(state: ResearchState) -> ResearchState:\n",
    "    \"\"\"LLM을 사용한 보고서 생성\"\"\"\n",
    "\n",
    "    results = state.get(\"search_results\", [])\n",
    "\n",
    "    if not results:\n",
    "        return {\"report\": f\"# {state['topic']}\\n\\n❌ 검색 결과가 없습니다.\"}\n",
    "\n",
    "    prompt = ChatPromptTemplate.from_messages([\n",
    "        (\"system\", \"당신은 리서치 전문가입니다. 검색 결과를 분석해 간결한 보고서를 작성하세요. 반드시 출처명과 링크를 명확히 표기하고, 신뢰할 수 없는 정보는 포함하지 마세요.\"),\n",
    "        (\"human\", \"주제: {topic}\\n\\n검색 결과:\\n{content}\")\n",
    "    ])\n",
    "    \n",
    "    try:\n",
    "        chain = prompt | llm.with_structured_output(Report)\n",
    "        report = chain.invoke({\n",
    "            \"topic\": state[\"topic\"],\n",
    "            \"content\": str(results)[:12000]  # 토큰 제한\n",
    "        })\n",
    "        \n",
    "        # 인라인 마크다운 생성\n",
    "        markdown = f\"\"\"# {state[\"topic\"]}\n",
    "\n",
    "## 📌 요약\n",
    "{report.summary}\n",
    "\n",
    "## 🔍 주요 발견사항\n",
    "{chr(10).join(f\"{i}. {finding}\" for i, finding in enumerate(report.findings, 1))}\n",
    "\n",
    "## 💡 제언\n",
    "{chr(10).join(f\"{i}. {rec}\" for i, rec in enumerate(report.recommendations, 1))}\n",
    "\n",
    "---\n",
    "*생성: {datetime.now().strftime('%Y-%m-%d %H:%M')}*\n",
    "*검색: {sum(1 for r in state['search_results'] if r.get('success'))}개 성공*\"\"\"\n",
    "        \n",
    "        return {\"report\": markdown}\n",
    "        \n",
    "    except Exception as e:\n",
    "        return {\"report\": f\"# {state['topic']}\\n\\n⚠️ 보고서 생성에 실패했습니다: {str(e)}\"}"
   ]
  },
  {
   "cell_type": "code",
   "execution_count": 39,
   "metadata": {},
   "outputs": [
    {
     "data": {
      "image/png": "[encoded data removed]",
      "text/plain": [
       "<IPython.core.display.Image object>"
      ]
     },
     "metadata": {},
     "output_type": "display_data"
    }
   ],
   "source": [
    "# ===== 워크플로우 구성 =====\n",
    "# 1. ready_to_search (검색 준비)\n",
    "# 2. dispatch_searches (병렬 검색 시작)\n",
    "# 3. search_one (개별 검색 - 병렬)\n",
    "# 4. generate_report (검색 결과 취합/리듀스) \n",
    "\n",
    "workflow = StateGraph(ResearchState)\n",
    "\n",
    "# 노드 추가\n",
    "workflow.add_node(\"analyze_topic\", generate_keywords)\n",
    "workflow.add_node(\"review_keywords\", review_keywords)\n",
    "workflow.add_node(\"process_feedback\", process_keyword_feedback)\n",
    "\n",
    "workflow.add_node(\"ready_to_search\", ready_to_search)\n",
    "workflow.add_node(\"search_one\", search_one)  # Send의 타겟 노드\n",
    "workflow.add_node(\"generate_report\", generate_report)\n",
    "\n",
    "# 엣지 연결\n",
    "workflow.add_edge(START, \"analyze_topic\")\n",
    "workflow.add_edge(\"analyze_topic\", \"review_keywords\")\n",
    "\n",
    "# 키워드 검토 후 조건부 라우팅\n",
    "workflow.add_conditional_edges(\n",
    "    \"review_keywords\",\n",
    "    should_continue_after_review,\n",
    "    {\n",
    "        \"process_feedback\": \"process_feedback\",\n",
    "        \"regenerate\": \"analyze_topic\",\n",
    "        \"approved\": \"ready_to_search\"\n",
    "    }\n",
    ")\n",
    "\n",
    "# 피드백 처리 후 검색\n",
    "workflow.add_edge(\"process_feedback\", \"ready_to_search\")\n",
    "\n",
    "# Send 맵-리듀스 연결\n",
    "workflow.add_conditional_edges(\n",
    "    \"ready_to_search\",\n",
    "    dispatch_searches,\n",
    "    [\"search_one\"]\n",
    ")\n",
    "workflow.add_edge(\"search_one\", \"generate_report\")\n",
    "\n",
    "# 분석 완료 후 종료\n",
    "workflow.add_edge(\"generate_report\", END)\n",
    "\n",
    "# 컴파일\n",
    "graph = workflow.compile(checkpointer=InMemorySaver())\n",
    "\n",
    "# 시각화\n",
    "display(Image(graph.get_graph().draw_mermaid_png()))"
   ]
  },
  {
   "cell_type": "code",
   "execution_count": 40,
   "metadata": {},
   "outputs": [
    {
     "name": "stdout",
     "output_type": "stream",
     "text": [
      "Event: {'analyze_topic': {'keywords': ['한국 AI 산업', '2025 AI 전망', '인공지능 기술 발전', 'AI 스타트업 한국', '한국 AI 정책', '머신러닝 한국', 'AI 인재 양성'], 'messages': [AIMessage(content='키워드 7개 생성 (신뢰도: 95%)', additional_kwargs={}, response_metadata={}, id='7c3cc15f-2967-4329-b967-c56cb914657f')]}}\n",
      "Event: {'__interrupt__': (Interrupt(value={'keywords': ['한국 AI 산업', '2025 AI 전망', '인공지능 기술 발전', 'AI 스타트업 한국', '한국 AI 정책', '머신러닝 한국', 'AI 인재 양성'], 'question': \"키워드 검토:\\n1. 한국 AI 산업\\n2. 2025 AI 전망\\n3. 인공지능 기술 발전\\n4. AI 스타트업 한국\\n5. 한국 AI 정책\\n6. 머신러닝 한국\\n7. AI 인재 양성\\n\\n옵션:\\n- '승인': 현재 키워드 사용\\n- '재생성': 새 키워드 생성\\n- '수정: 키워드1,키워드2,...': 직접 수정\"}, id='88652d42eb6aecda88a7bf3d36aa00c3'),)}\n"
     ]
    }
   ],
   "source": [
    "# 초기 상태 설정\n",
    "initial_state = {\n",
    "    \"topic\": \"2025 한국의 AI 산업\"\n",
    "}\n",
    "\n",
    "# 스레드 설정\n",
    "config = {\"configurable\": {\"thread_id\": f\"test_thread_1\"}}\n",
    "\n",
    "\n",
    "# 워크플로우 실행\n",
    "# 첫 번째 실행 - 중단점에서 실행을 멈춤\n",
    "for event in graph.stream(initial_state, config=config):\n",
    "    print(f\"Event: {event}\")"
   ]
  },
  {
   "cell_type": "code",
   "execution_count": 41,
   "metadata": {},
   "outputs": [
    {
     "name": "stdout",
     "output_type": "stream",
     "text": [
      "Event: {'review_keywords': {'feedback': '승인'}}\n",
      "Event: {'ready_to_search': {'ready_for_search': True}}\n",
      "Event: {'search_one': {'search_results': [{'keyword': 'AI 인재 양성', 'data': [{'url': 'https://www.chosun.com/economy/industry-company/2025/06/25/3ZLN63SA2VBKRAGISEV2MHVV2Q/', 'title': \"삼성, 매년 청년 AI 인재 2000명 육성… '인공지능 강국' 힘 보탠다\", 'content': \"# 삼성, 매년 청년 AI 인재 2000명 육성… '인공지능 강국' 힘 보탠다 국내 최대 기업인 삼성이 매년 2000명의 ‘인공지능(AI) 실무 인재’를 대규모로 육성한다. 최근 6년여간 사회 공헌 차원에서 미취업 청년을 매년 수백 명씩 교육해 ‘1만(萬) 소프트웨어 인재’를 키워 낸 삼성이 이제 ‘AI 인재’ 육성에 나서기로 한 것이다. 이로써 지난 2018년 말부터 삼성이 SW 인재 육성을 위해 운영해 온 사회공헌 프로그램 ‘SSAFY’의 누적 수료생은 총 1만명을 돌파(1만125명)했다. 이날 삼성은 그간 SW 중심으로 운영해 왔던 교육을, AI 중심으로 전면 개편하고 프로그램명도 ‘삼성 청년 SW·AI 아카데미(SSAFY 2.0)’로 바꾼다고 밝혔다. 삼성이 ‘독한 교육’을 예고한 만큼, 새 프로그램이 AI 인재 양성에 도움이 될 것이란 기대가 나온다. 교육의 중심이 SW에서 AI로 바뀌면서 이제는 ‘삼성 청년 SW·AI 아카데미(Samsung Software AI academy For Youth)’란 뜻이 됐다.\", 'score': 0.7738498, 'raw_content': None}, {'url': 'https://blog.naver.com/moeblog/223990820976?fromRss=true&trackingCode=rss', 'title': '첨단산업 인재양성 부트캠프를 통해 맞춤형 AI 실무인재를 양성합니다', 'content': \"'첨단산업 인재 양성 부트캠프'는 첨단산업에 필요한 인재를 신속하게 양성하기 위해 대학이 기업과 공동으로 단기 집중 교육과정을 개발하여 대학생들\", 'score': 0.7539928, 'raw_content': None}, {'url': 'https://www.iitp.kr/kr/1/business/ctgrKAB.it', 'title': '주요사업 > 사업분류 > 인재양성 > 생성AI선도인재양성 | IITP', 'content': '생성AI 기업과 국내 대학(원)의 공동 및 파견연구 지원을 통해 생성AI 초격차 기술 확보를 주도할 핵심 고급 인재양성 - (대상) 생성AI기업·대학 컨소시엄', 'score': 0.72418857, 'raw_content': None}], 'success': True}]}}\n",
      "Event: {'search_one': {'search_results': [{'keyword': '2025 AI 전망', 'data': [{'url': 'https://zdnet.co.kr/view/?no=20251014215942', 'title': '딜로이트가 분석한 2025년 AI 10대 핵심 트렌드 - 지디넷코리아', 'content': '# 딜로이트가 분석한 2025년 AI 10대 핵심 트렌드 엔비디아 젠슨 황 CEO가 CES 2025에서 예측한 \"AI의 종착점은 휴머노이드 로봇\"이라는 전망이 현실화되고 있으며, 기업들은 AI 도입을 통해 생산성 향상과 비용 절감이라는 두 마리 토끼를 동시에 잡고 있다. **트렌드 1: 물리적 AI - 휴머노이드 로봇 시대의 본격 개막** **트렌드 2: 에이전틱 AI - 인간과 AI의 상호작용 극대화** **트렌드 5: AI 거버넌스 - 신뢰 구축이 경쟁력의 핵심** **트렌드 6: AI 시티 - 도시 서비스 혁신의 핵심 동력** **트렌드 9: AI 데이터센터 - 전력 수요 폭증과 인프라 도전** 미국의 경우 AI 데이터센터 전력 수요가 2024년 4기가와트에서 2035년 123기가와트로 31배 증가할 전망이다. AI 10대 트렌드 중 기업이 가장 먼저 주목해야 할 트렌드는 무엇인가요?** 미국의 AI 데이터센터 전력 수요는 2024년 4기가와트에서 2035년 123기가와트로 31배 증가할 전망이다. AI 에디터', 'score': 0.9035075, 'raw_content': None}, {'url': 'https://www.deloitte.com/kr/ko/issues/generative-ai/ai-trend-2025.html', 'title': '2025 AI 10대 핵심 트렌드 | Deloitte Korea', 'content': '링크가 새 탭에서 열립니다. 새 창에서 열기 주요 콘텐츠 바로가기 바로가기: 온디바이스 AI 딜로이트는 2024년 말 발간한 기술 트렌드 리포트(Tech Trend 2025)에서,\\xa0AI가 인간과의 상호작용을 극대화하는 에이전틱 AI(agentic AI)로 진화할 것을 예측했습니다. ##### Tech Trends 2025: 미래 IT기술 환경을 조성하는 주요 동인과 향후 전망 온디바이스\\xa0AI Deloitte, ServiceNow, Nvidia, ThoughtLab가 공동으로 수행한 글로벌 연구에 따르면, 전 세계 250개 도시 중 AI 기술을 선도적으로 도입한 도시들은 생성형AI와 에이전틱 AI 등을 활용해 환경오염, 에너지 수요, 기후 변화 등 복잡한 도시 문제를 효과적으로 해결하고 있습니다. 딜로이트가 전 세계 리더들을 대상으로 진행한 서베이 결과에서도 많은 리더들이 이러지도 저러지도 못하는 덫에 갇혀 관망만 하고 있다는 것을 확인할 수 있습니다. 글로벌 완성차 OEM 기업들은 이제 AI를 중심에 두고 제조 혁신을 본격적으로 선도하고 있습니다.', 'score': 0.86331123, 'raw_content': None}, {'url': 'https://botpress.com/ko/blog/top-artificial-intelligence-trends', 'title': '2025년에 주목해야 할 10가지 인공지능 트렌드 - Botpress', 'content': '맞춤형 AI 에이전트, 개인화된 영업 접근, 개인 AI 쇼핑 도우미 등 기업들은 다양한 방식으로 개별 고객의 니즈를 충족시키고 있습니다. ROI 측정은 모든 기술 투자에서 당연히 고려되어야 하지만, 여전히 많은 기업들이 AI 프로젝트의 성과를 제대로 모니터링하지 않고 있습니다. 고도화된 위협 탐지부터 실시간 대응 시스템까지, 생성형 AI는 AI 기반 공격에 맞서는 핵심 무기가 되고 있습니다. 대화형 AI는 이미 고객 지원 챗봇, AI 리드 생성, 전자상거래 등에서 널리 활용되고 있습니다. * **Deloitte**는 지능형 자동화 기술의 확대되는 도입을 강조하며, 2025년까지 더 많은 기업들이 AI 기반 자동화를 적극적으로 활용할 것으로 전망합니다. * **유럽연합 집행위원회**의 AI 전략에는 시민들에게 AI의 이점과 위험성을 교육하여 더 잘 알고 있는 대중을 양성하는 계획이 포함되어 있습니다. AI는 API, Zapier 같은 미들웨어 플랫폼, 또는 최신 AI 벤더가 제공하는 사전 구축 커넥터를 통해 레거시 시스템이나 CRM/ERP와 통합할 수 있습니다.', 'score': 0.8524574, 'raw_content': None}], 'success': True}]}}\n",
      "Event: {'search_one': {'search_results': [{'keyword': 'AI 스타트업 한국', 'data': [{'url': 'https://www.mt.co.kr/future/2024/12/21/2024121815152811264', 'title': \"세계가 주목하는 '한국 AI 스타트업 7개사' 어디? - 머니투데이\", 'content': \"전세계가 AI(인공지능) 기술의 고도화를 놓고 총성 없는 전쟁을 벌이는 가운데, 한국은 AI 전쟁의 시발점이라고 할 수 있는 구글 알파고의 첫 격전지였음에도 불구하고 글로벌 AI 점수는 아직 중상위 수준에 머물고 있다. 국내 기업 중에선 네이버(NAVER(253,000원 ▼1,500 -0.59%))와 카카오(59,600원 ▼400 -0.67%)가 전반적인 AI 산업을 이끌고 있으나 글로벌 빅테크들과 비교하면 2~3년 뒤떨어진다는 평가를 받는다. 업스테이지는 2021년 9월 시리즈A 투자 라운드에서 316억원의 대규모 투자를 유치한데 이어 올해 4월 시리즈B 때는 1000억원을 조달하며, 국내 AI 기업이 근래 유치한 투자액 중 역대 최대 규모를 기록했다. 생성형 AI 분야 스타트업 중에선 '뤼튼테크놀로지스'가 가장 선두를 달린다. 영상 분야 초거대 AI 모델을 개발하는 '트웰브랩스', 산업에 특화된 AI 솔루션을 운영하는 '마키나락스'는 글로벌 시장조사기관 CB인사이트가 선정한 '세계 100대 AI 기업'에 이름을 올린 바 있다. 라이너는 440억원의 누적 투자금을 유치했으며, 신뢰할 수 있는 답변과 출처를 제공하는 'AI 검색 서비스'를 운영한다.\", 'score': 0.87218446, 'raw_content': None}, {'url': 'https://carat.im/blog/korea-ai-startup-ranking-top-10', 'title': '국내 AI 스타트업 순위 TOP 10 (2025년 총정리) - 캐럿', 'content': '![Image 2: 국내 AI 스타트업 순위 TOP 10 (2025년 총정리)](https://image.inblog.dev/?url=https%3A%2F%2Fsource.inblog.dev%2Ffeatured_image%2F2025-06-25T09%3A53%3A35.430Z-e3aec60a-224a-44f5-94c3-0d674320bb4f&w=2048&q=75) [2025년을 이끄는 AI 스타트업](https://carat.im/blog/korea-ai-startup-ranking-top-10#2025%EB%85%84%EC%9D%84-%EC%9D%B4%EB%81%84%EB%8A%94-ai-%EC%8A%A4%ED%83%80%ED%8A%B8%EC%97%85-0)[높은 사용자 수 확보 기업](https://carat.im/blog/korea-ai-startup-ranking-top-10#%EB%86%92%EC%9D%80-%EC%82%AC%EC%9A%A9%EC%9E%90-%EC%88%98-%ED%99%95%EB%B3%B4-%EA%B8%B0%EC%97%85-1)[대규모 투자 유치 기업](https://carat.im/blog/korea-ai-startup-ranking-top-10#%EB%8C%80%EA%B7%9C%EB%AA%A8-%ED%88%AC%EC%9E%90-%EC%9C%A0%EC%B9%98-%EA%B8%B0%EC%97%85-2)[글로벌 기술력 인정 기업](https://carat.im/blog/korea-ai-startup-ranking-top-10#%EA%B8%80%EB%A1%9C%EB%B2%8C-%EA%B8%B0%EC%88%A0%EB%A0%A5-%EC%9D%B8%EC%A0%95-%EA%B8%B0%EC%97%85-3)[분야별 주요 AI 스타트업 리스트](https://carat.im/blog/korea-ai-startup-ranking-top-10#%EB%B6%84%EC%95%BC%EB%B3%84-%EC%A3%BC%EC%9A%94-ai-%EC%8A%A4%ED%83%80%ED%8A%B8%EC%97%85-%EB%A6%AC%EC%8A%A4%ED%8A%B8-4)[대한민국 AI 스타트업의 미래](https://carat.im/blog/korea-ai-startup-ranking-top-10#%EB%8C%80%ED%95%9C%EB%AF%BC%EA%B5%AD-ai-%EC%8A%A4%ED%83%80%ED%8A%B8%EC%97%85%EC%9D%98-%EB%AF%B8%EB%9E%98-5) 대규모 투자 유치 기업(업스테이지, 트웰브랩스, 퓨리오사AI, 리벨리온), 높은 사용자 수 확보 기업(라이너, 뤼튼, 캐럿), 글로벌 기술력 인정 기업(업스테이지, 트웰브랩스, 노타AI, 디노티시아)의 로고가 각 카테고리별로 정리되어 있음](https://image.inblog.dev/?url=https%3A%2F%2Fsource.inblog.dev%2Fpost_image%2F2025-06-25T09%3A52%3A33.525Z-6a767a68-ce9d-46f7-b1af-4f2482764eca&w=1920&q=75) ![Image 4: 캐럿 AI 에이전트의 콘텐츠 제작 과정: 사용자의 목표에 맞춰 계획, 생성, 완성을 자율적으로 수행하는 흐름도](https://image.inblog.dev/?url=https%3A%2F%2Fsource.inblog.dev%2Fpost_image%2F2025-06-20T06%3A58%3A06.955Z-5dda300f-9409-4139-b34b-fc3ff1170404&w=1920&q=75) *   [생성형 AI ‘캐럿’, 무료 영상 제작 기능 추가한 대규모 업데이트](https://carat.im/blog/generative-ai-update-video-feature) *   [캐럿, LG유플러스에 기업용 AI 영상 제작 서비스 ‘캐럿 Biz’ 공급](https://carat.im/blog/carat-ai-video-production) 사용법, 무료 유료 가격, 쉽게 쓰는 법 총정리 (Fast 모델 포함)](https://image.inblog.dev/?url=https%3A%2F%2Fsource.inblog.dev%2Ffeatured_image%2F2025-10-15T11%3A02%3A17.563Z-5cba690d-cb91-4b30-92a7-8b5ee8cbed85&w=750&q=75)](https://carat.im/blog/google-veo3-31-release-guide) October 1, 2025 ![Image 7: AI 영상 제작 사이트 TOP 5 완벽 비교 분석 (2025년 최신)](https://image.inblog.dev/?url=https%3A%2F%2Fsource.inblog.dev%2Ffeatured_image%2F2025-10-01T10%3A12%3A47.068Z-1d22c164-1679-454d-95b4-ba5949a3366e&w=750&q=75)](https://carat.im/blog/ai-video-production-comparison)', 'score': 0.86441374, 'raw_content': None}, {'url': 'https://hitek.com.vn/ko/blog-ko/domestic-ai-company-rankings/', 'title': \"세계가 주목하는 '한국 AI 스타트업 10개사' 어디? - Hitek Software\", 'content': '한국은 최근 몇 년간 인공지능(AI) 분야에서 두각을 나타내며 글로벌 시장에서 주목받고 있다. 🔹 **대표 기술**: LLM(대형 언어 모델) 기반 AI 솔루션   🔹 **주요 성과**: 한국형 ChatGPT로 불리는 **‘Upstage Solar AI’** 개발, 1,000억 원 규모 투자 유치 🔹 **대표 기술**: AI 기반 음성 및 영상 분석   🔹 **대표 기술**: 경량화 AI 모델 (TinyML)   🔹 **주요 성과**: 미국 국방부와 협력, 모바일 최적화 AI 솔루션 제공 🔹 **대표 기술**: AI 튜터 (교육용 생성형 AI)   🔹 **대표 기술**: AI 의료 영상 분석   🔹 **대표 기술**: 생성형 AI 콘텐츠 플랫폼   🔹 **대표 기술**: AI 반도체 (NPU)   🔹 **주요 성과**: SK텔레콤 지원, 초저전력 AI 칩 개발 🔹 **대표 기술**: AI 헬스케어 로봇   🔹 **대표 기술**: AI 보안 솔루션   Khoi Tran is the Owner of Hitek Software.', 'score': 0.8399576, 'raw_content': None}], 'success': True}]}}\n",
      "Event: {'search_one': {'search_results': [{'keyword': '한국 AI 산업', 'data': [{'url': 'https://www.investkorea.org/ik-kr/bbs/i-112/detail.do?ntt_sn=491224&clickArea=krmain00019', 'title': '산업포커스 - 상세보기 | 최신 산업정보 | 인베스트코리아 - Invest Korea', 'content': '2025년, 한국의 AI 시장 규모는 전년 대비 12.1% 성장한 3조 4,385억원에 이를 것으로 추산되고 있으며, 연평균 성장률 14.3%를 기록하며 2027년 4조 4636', 'score': 0.7978881, 'raw_content': None}, {'url': 'http://www.itdaily.kr/news/articleView.html?idxno=233950', 'title': \"[동향] 2024년 국내 AI 산업 6조 3천억원…구조적 불균형 '경고등'\", 'content': 'AI가 가장 활발히 도입되는 정보통신업(46.0%), 제조업(35.7%), 공공·행정(24.8%) 등에서도 주로 챗봇, 자동화, 영상 분석 등 응용 서비스 중심의 도입이', 'score': 0.7927375, 'raw_content': None}, {'url': 'https://www.kita.net/researchTrade/report/tradeFocus/tradeFocusDetail.do;JSESSIONID_KITA=16D0A14795C6C74296785555BAB3801C.Hyper?no=2807', 'title': 'AI 시대가 이끄는 한국 주력 수출 산업 변화 - 한국무역협회', 'content': 'ì\\x82¬ì\\x97\\x85ì\\xa0\\x84ë\\x9eµ/ì¶\\x94ì§\\x84ê³¼ì\\xa0\\x9c;) ê¸°ì\\x97\\x85ì\\xa0\\x95ë³´ê´\\x80ë¦¬;) ì\\x82¬ì\\x97\\x85ì\\xa0\\x84ë\\x9eµ/ì¶\\x94ì§\\x84ê³¼ì\\xa0\\x9c;) ê¸°ì\\x97\\x85ì\\xa0\\x95ë³´ê´\\x80ë¦¬;) ì¡°ì\\x84\\xa0·í\\x95´ì\\x9a´ ì\\x82°ì\\x97\\x85ì\\x97\\x90ì\\x84\\x9cë\\x8a\\x94 ì\\x9e\\x90ì\\x9c¨ì\\x9a´í\\x95\\xad ì\\x84\\xa0ë°\\x95 ê¸°ì\\x88\\xa0ì\\x9d´ ë¶\\x80ì\\x83\\x81í\\x95\\x98ë©´ì\\x84\\x9c í\\x95\\xadë§\\x8c·ë¬¼ë¥\\x98 ì\\x8b\\x9cì\\x8a¤í\\x85\\x9c ì\\xa0\\x84ë°\\x98ê³¼ì\\x9d\\x98 ì\\x97°ê²°ì\\x84±ì\\x9d´ ì¤\\x91ì\\x9a\\x94í\\x95´ì¡\\x8cê³\\xa0 AI ê¸°ë°\\x98 ì\\x8a¤ë§\\x88í\\x8a¸ ì¡°ì\\x84\\xa0ì\\x86\\x8cê°\\x80 ë¦¬ë\\x93\\x9cí\\x83\\x80ì\\x9e\\x84ì\\x9d\\x84 ë\\x8b¨ì¶\\x95í\\x95\\x98ë©´ì\\x84\\x9c ì\\x88\\x98ì£¼ ê²½ì\\x9f\\x81ë\\xa0¥ì\\x9d´ ë\\x86\\x92ì\\x95\\x84ì§\\x80ê³\\xa0 ì\\x9e\\x88ë\\x8b¤. ë§\\x8eì\\x9d\\x80 ê¸\\x80ë¡\\x9cë²\\x8c ê¸°ì\\x88\\xa0 ë¦¬ë\\x8d\\x94ë\\x93¤ì\\x9d´ ë¯¸ë\\x9e\\x98 AI ê¸°ì\\x88\\xa0ë¡\\x9c \\x80\\x98ë¬¼ë¦¬ì\\xa0\\x81(Physical) AI\\x80\\x99ë¥¼ ê¼½ì\\x9c¼ë©° í\\x96¥í\\x9b\\x84 ì\\xa0\\x9cì¡°ì\\x97\\x85ì\\x9d\\x84 ê¸°ë°\\x98ì\\x9c¼ë¡\\x9c í\\x95\\x9c ì\\x82°ì\\x97\\x85ì\\x97\\x90ì\\x84\\x9c ë§\\x8eì\\x9d\\x80 ê°\\x80ì¹\\x98ê°\\x80 ë§\\x8cë\\x93¤ì\\x96´ì§\\x88 ê²\\x83ì\\x9c¼ë¡\\x9c ê¸°ë\\x8c\\x80í\\x95\\x98ê³\\xa0 ì\\x9e\\x88ë\\x8b¤. ì\\x9a°ë¦¬ë\\x82\\x98ë\\x9d¼ë\\x8a\\x94 ì\\xa0\\x9cì¡° í\\x98\\x84ì\\x9e¥ì\\x97\\x90ì\\x84\\x9c ë\\x8d°ì\\x9d´í\\x84°ê°\\x80 ë\\x8b¤ë\\x9f\\x89 ì\\x83\\x9dì\\x84±ë\\x90\\x98ê³\\xa0 ì\\x9e\\x88ì§\\x80ë§\\x8c ì\\x95\\x84ì§\\x81 AI ì\\xa0\\x81ì\\x9a©ì\\x97\\x90 í\\x95\\x84ì\\x9a\\x94í\\x95\\x9c ì\\x88\\x98ì¤\\x80ì\\x9d\\x98 í\\x92\\x88ì§\\x88ê´\\x80ë¦¬ê°\\x80 ì¶©ë¶\\x84í\\x9e\\x88 ì\\x9d´ë¤\\x84ì§\\x80ì§\\x80 ì\\x95\\x8aì\\x95\\x84 ì\\x8b¤ì§\\x88ì\\xa0\\x81 ì\\x82°ì\\x97\\x85 AI êµ¬í\\x98\\x84ì\\x97\\x90 í\\x95\\x9cê³\\x84ê°\\x80 ì\\x9e\\x88ë\\x8b¤. ê¸°ì\\x97\\x85ì\\x9d\\x80 ê³µê³µ ë°\\x8f ë¯¼ê°\\x84ì\\x9d\\x98 ë\\x8b¤ì\\x96\\x91í\\x95\\x9c ì\\x84\\x9cë¹\\x84ì\\x8a¤ë¥¼ í\\x99\\x9cì\\x9a©í\\x95\\x98ì\\x97¬ ë\\x8d°ì\\x9d´í\\x84° ì\\xa0\\x95ì\\xa0\\x9c, AI ì\\x86\\x94ë£¨ì\\x85\\x98 ì\\xa0\\x81ì\\x9a© ë\\x93± ë\\x8a¥ë\\x8f\\x99ì\\xa0\\x81ì\\x9c¼ë¡\\x9c ì\\x82°ì\\x97\\x85 AI ë\\x8f\\x84ì\\x9e\\x85 ê¸°ë°\\x98ì\\x9d\\x84 êµ¬ì¶\\x95í\\x95´ì\\x95¼ í\\x95\\x9cë\\x8b¤.', 'score': 0.7552947, 'raw_content': None}], 'success': True}]}}\n",
      "Event: {'search_one': {'search_results': [{'keyword': '인공지능 기술 발전', 'data': [{'url': 'https://www.samsungsds.com/kr/insights/091517_cx_cvp3.html', 'title': '인공지능은 어떻게 발달해왔는가, 인공지능의 역사 | 인사이트리포트', 'content': '한동안 잠잠했던 인공지능 연구는 1980년대 산업계에 전문가 시스템이 도입되며 본격적으로 확산하게 됩니다. 이를 기점으로 전문가들 사이에서 신경망 기반 인공지능(딥러닝) 기술이 재조명되게 됩니다. ‘17년 2.0(비지도학습 소량데이터 기반 자가학습)으로 커제 및 탑클라스 바둑기사들에게 승리하면서, 인공지능(AI)기술이 일반인들에게도 확실히 인식되고, 완전히 재조명되는 계기가 되었습니다. 현재까지 실증화된 인공지능(AI)기술은 CNN, RNN(Recurrent Neural Network : 음성과 문자분야에 강한 신경망)입니다. 최근에는 ‘17년 이안 굿펠로우의 GAN(Generative Adversarial Nets: Image를 만들어내는 모델과 다양한 모델간에 서로 대립(Adversarial)하며 성능 개선하는 학습개념(낮은 수준의 사람처럼 글쓰기,노래하기 등이 가능)이 현재 인공지능(AI)를 이끌고 있습니다. 이처럼 딥러닝의 등장 이후 인공지능은(AI) 빠른 발전을 보이고 있습니다만 2018년 어떤 기술이 화두가 될지 전혀 예측할 수가 없을 정도로 급격하게 변화하고 있습니다. 결국 데이터 싸움인 인공지능(AI)시대에서 제조업이 강한 대한민국의 유리한 전쟁터는 “AI Technology in Smart Factory” 라고 생각해보는 것도 어떨까 합니다.', 'score': 0.79637206, 'raw_content': None}, {'url': 'https://www.dginclusion.com/news/articleView.html?idxno=612', 'title': '[인공지능 역사] ① 생성형 AI로 발전하기까지의 인공지능 발전 5대 사건', 'content': '## 1) 다트머스 컨퍼런스, 2) 신경망, 3) 딥러닝, 4) 알파고 바둑 우승, 5) 생성형 AI 등장 다트머스 컨퍼런스를 통해 AI 개념이 정립되었고, 퍼셉트론은 신경망 연구를 시작하게 했으며, 알렉스넷은 딥러닝 시대를 열었다. 알파고와 생성형 AI는 각각 전략적 문제 해결과 자연어 처리 분야에서 AI 기술의 잠재력을 입증하며, 오늘날 AI가 다양한 산업 및 일상생활에서 활용되는 기반을 마련했다. 심리학, 컴퓨터 과학, 수학 등 다양한 학문이 결합된 이 컨퍼런스를 통해 AI는 독립된 연구 분야로 자리 잡았으며, 이후 모든 AI 연구의 기초를 마련했다. 이 작은 시작은 이후 딥러닝 기술의 탄생을 가능하게 했으며, 현재 우리가 사용하는 수많은 AI 응용 프로그램의 기반이 되었다. Chat GPT는 고객 서비스, 교육, 창작 등 다양한 분야에서 활용되며 AI 기술이 실질적인 가치를 제공할 수 있음을 보여줬다.', 'score': 0.7511561, 'raw_content': None}, {'url': 'https://blog.kakaocloud.com/148', 'title': '<지식 사전> 인공지능(AI)의 발전 역사 ① - 규칙 기반 AI의 시대 (1950 ...', 'content': '* agentic ai # <지식 사전> 인공지능(AI)의 발전 역사 ① - 규칙 기반 AI의 시대 (1950~1990) 첫 회에서는 인류가 최초로 \\'생각하는 기계\\'를 만들고자 했던 1950년대부터 1990년대 초반까지 규칙 기반 AI(Rule Based AI)의 시대를 살펴보겠습니다. 초기 AI 연구자들은 인간의 지능을 \"주변 환경이나 사건에서 상황을 파악하고 문제해결에 적합한 대응을 할 수 있는 판단 능력\"으로 정의했습니다. 1970년대부터 1980년대 중반까지는 전문가 시스템(Expert Systems)이 AI의 주류를 이루었습니다. 규칙 기반 AI의 한계와 AI 겨울의 도래 규칙 기반 AI의 시대는 오늘날 AI 발전에 중요한 교훈을 남겼습니다. 다음 편에서는 1990년대 이후 등장한 데이터 기반 AI의 발전 과정을 살펴보겠습니다. AI, cloud, kakaocloud, rule, 발전, 역사, 인공지능, 카카오, 카카오클라우드, 클라우드 + <지식 사전> 인공지능(AI)의 발전 역사 ③ - 딥러닝의 시대 (2010~2019) + <지식 사전> 인공지능(AI)의 발전 역사 ② - 기계학습의 시대 (1990~2010)', 'score': 0.73505294, 'raw_content': None}], 'success': True}]}}\n",
      "Event: {'search_one': {'search_results': [{'keyword': '머신러닝 한국', 'data': [{'url': 'https://www.facebook.com/groups/mlekorea/', 'title': '한국 머신러닝&딥러닝 엔지니어 모임 (MLE & DLE & MLOps Korean ...', 'content': '머신러닝엔지니어, 딥러닝엔지니어, AI엔지니어, MLOps로 일하는 한국인 커뮤니티 입니다. Profile photo of Kelly. Kelly Seo. 10w · Public · 지금 안', 'score': 0.71948266, 'raw_content': None}, {'url': 'https://www.chosun.com/economy/tech_it/2023/04/05/56QCQLEPKJFAVMYGLMVHKQCS4I/', 'title': \"AI 핵심 '머신 러닝' 개발… 작년 미국 16건, 한국은 한 건도 없었다\", 'content': \"한국에서는 지난해 전 세계적으로 인정받을 만한 '중요(significant)' 머신 러닝(기계 학습) 개발이 한 건도 없었다는 보고서가 나왔다. 머신 러닝은 인공\", 'score': 0.709684, 'raw_content': None}, {'url': 'https://m.blog.naver.com/koreafintech/221228474611', 'title': '[핀테크 뉴스] 꿈틀대는 머신러닝 시장, 한국은 어디쯤 왔나', 'content': '머신러닝은 인공지능을 구현하는 기술 중 하나입니다. 일반인들에겐 여전히 익숙지 않은 개념이지만 머신러닝은 사이버 위협이 지능화하는 때 주요 보안', 'score': 0.7018975, 'raw_content': None}], 'success': True}]}}\n",
      "Event: {'search_one': {'search_results': [{'keyword': '한국 AI 정책', 'data': [{'url': 'https://www.korea.kr/special/policyCurationView.do?newsId=148868542', 'title': '인공지능(AI) - 대한민국 정책브리핑', 'content': '**2) 안전한 인공지능 활용을 위한 기반 마련**① 학습용 데이터 신뢰성 제고- 민·관이 인공지능 학습용 데이터 제작공정에서 공통적으로 준수해야할 신뢰 확보 검증지표 등의 표준 기준을 민간과 함께 마련·확산- ‘데이터 댐’ 사업에서는 구축 전 과정에서 저작권, 개인정보보호와 같은 법·제도 준수 여부 등의 신뢰성 확보 고려사항을 선제적으로 적용하여 품질을 향상② 고위험 인공지능에 대한 신뢰 확보- 국민의 안전이나 기본권에 잠재적 위험을 미칠 수 있는 고위험 인공지능의 범주를 설정하고, 서비스 제공 전에 해당 인공지능의 활용 여부를 이용자에게 ‘고지’하도록 할 계획③ 인공지능 영향평가 실시- 인공지능이 국민생활 전반에 미치는 영향을 종합·체계적으로 분석하고 대응하기 위해 사회적 영향평가 도입④ 인공지능 신뢰 강화를 위한 제도 개선- 지난해 「인공지능 법·제도·규제 정비 로드맵」(’20.12.)을 통해 발굴된 과제 중 인공지능에 대한 신뢰 확보, 이용자의 생명·신체보호 등과 관련된 과제의 차질 없는 이행 추진\\\\* ①업계 자율적 알고리즘 관리·감독환경 조성, ②플랫폼 알고리즘 공정성·투명성 확보, ③영업비밀 보장을 위한 알고리즘 공개기준 마련, ④고위험 기술기준 마련 등', 'score': 0.75723875, 'raw_content': None}, {'url': 'https://www.lawtimes.co.kr/LawFirm-NewsLetter/208784', 'title': '새정부의 AI 정책 로드맵 - 법률신문', 'content': \"이를 위해 AI 데이터센터를 '국가전략기술사업화시설'로 지정하고, 행정절차 간소화 및 인허가 타임아웃제 도입 등을 통해 AI 데이터센터 건설을 촉진하겠다는 구체적인 지원 방안도 제시하였습니다. 차세대 AI 기술 개발 및 인프라 지원**   AI 시대의 핵심 인프라 기술 지원을 강화하여 2030년 AI 중심 차세대 네트워크(6G) 상용화를 추진하고(2028년 시범서비스), AI 네트워크(6G) 핵심기술 확보로 글로벌 장비 단말기 시장 선점 기반을 마련하겠다고 밝혔습니다. 미국과 EU를 비롯한 선진국들이 AI 분야 경쟁력 강화에 박차를 가하고 있는 상황에서, 우리나라 역시 국제적 정책 동향에 부합하는 신속하고 유연한 대응이 필요하며, 기업들은 AI 관련 사업 영역을 전면 검토하고 사내 AI 전담 조직 구성, 최고기술책임자(CTO) 및 최고AI책임자(CAIO)를 중심으로 한 AI 관리 체계 정비를 통해 변화하는 AI 생태계에 능동적으로 대응해야 할 시점입니다. **이광욱 파트너변호사(kwlee@hwawoo.com)   이근우 파트너변호사(klee@hwawoo.com)   이수경 파트너변호사(sgyi@hwawoo.com)   정호선 변호사(junghs@yoonyang.com)   유현상 변호사(hsryu@hwawoo.com)   강석준 변호사(kangsj@yoonyang.com)**\", 'score': 0.6867278, 'raw_content': None}, {'url': 'https://blog.naver.com/simula/224000877832?fromRss=true&trackingCode=rss', 'title': '대한민국 정부가 선포한 인공지능(AI) 3대 강국 비전 : 네이버 블로그', 'content': '대한민국 정부가 선포한 인공지능(AI) 3대 강국 비전은 단순한 산업 육성책을 넘어, 21세기 기술 패권 시대에 국가의 명운을 건 생존 전략으로 자리', 'score': 0.6369636, 'raw_content': None}], 'success': True}]}}\n",
      "Event: {'generate_report': {'report': '# 2025 한국의 AI 산업\\n\\n## 📌 요약\\n2025년 한국의 AI 산업은 연평균 성장률 14.3%로 빠르게 성장 중이며, 2025년 시장 규모는 약 3조 4,385억원으로 전망된다. 정보통신업, 제조업, 공공·행정 분야에서 AI 도입이 활발하며, 특히 챗봇, 자동화, 영상 분석 등 응용 서비스 중심의 활용이 증가하고 있다. AI 스타트업도 활발히 성장하여 업스테이지, 트웰브랩스, 뤼튼테크놀로지스 등 글로벌 경쟁력을 갖춘 기업들이 두각을 나타내고 있다. 딜로이트 보고서에 따르면 2025년 AI는 휴머노이드 로봇 시대의 본격 개막, 인간과 AI의 상호작용 극대화, AI 거버넌스 강화 등을 핵심 트렌드로 하며, 도시 서비스 혁신과 자동화가 확대될 전망이다. 또한 정부는 AI 신뢰성 확보와 고위험 AI 규제 등 정책적 기반 마련에 적극적으로 나서고 있다.\\n\\n## 🔍 주요 발견사항\\n1. 한국의 AI 시장 규모는 2025년 약 3조 4,385억원으로, 연평균 14.3% 성장세를 보인다. (출처: 인베스트코리아 https://www.investkorea.org/ik-kr/bbs/i-112/detail.do?ntt_sn=491224&clickArea=krmain00019)\\n2. 정보통신업(46%), 제조업(35.7%), 공공·행정(24.8%) 분야에서 AI 도입이 활발하며, 챗봇, 자동화, 영상 분석 등이 주요 응용 서비스로 활용되고 있다. (출처: ITDaily http://www.itdaily.kr/news/articleView.html?idxno=233950)\\n3. 한국 AI 스타트업은 업스테이지, 트웰브랩스, 뤼튼테크놀로지스 등이 글로벌 시장에서 주목받고 있으며, 대규모 투자 유치와 기술력 확보로 성장 중이다. (출처: 머니투데이 https://www.mt.co.kr/future/2024/12/21/2024121815152811264)\\n4. 딜로이트는 2025년 AI 핵심 트렌드로 휴머노이드 로봇, 에이전틱 AI, AI 거버넌스, AI 시티 등을 제시하며, 기업과 도시의 AI 활용 확대를 전망했다. (출처: 딜로이트 코리아 https://www.deloitte.com/kr/ko/issues/generative-ai/ai-trend-2025.html)\\n5. 정부는 AI 학습용 데이터 신뢰성 제고, 고위험 AI 규제, AI 영향평가 등 안전한 AI 활용을 위한 정책 기반을 마련 중이다. (출처: 대한민국 정책브리핑 https://www.korea.kr/special/policyCurationView.do?newsId=148868542)\\n\\n## 💡 제언\\n1. 한국 AI 산업은 제조업 등 기존 강점을 살려 스마트팩토리 등 AI 융합 분야에 집중 투자할 필요가 있다.\\n2. AI 스타트업에 대한 투자와 글로벌 진출 지원을 확대하여 기술 경쟁력을 강화해야 한다.\\n3. AI의 신뢰성과 안전성 확보를 위한 정책과 규제 체계를 지속적으로 발전시켜야 한다.\\n4. 딜로이트가 제시한 AI 트렌드를 참고하여 휴머노이드 로봇, 에이전틱 AI 등 신기술 분야에 대한 연구개발을 촉진할 필요가 있다.\\n5. 도시 문제 해결을 위한 AI 시티 프로젝트 등 공공 분야에서 AI 활용 확대를 추진하는 것이 중요하다.\\n\\n---\\n*생성: 2025-10-31 19:41*\\n*검색: 7개 성공*'}}\n"
     ]
    }
   ],
   "source": [
    "from langgraph.types import Command\n",
    "\n",
    "# 사용자 피드백 제공 (승인 문자열을 사용)\n",
    "human_feedback = \"승인\"\n",
    "\n",
    "# 사용자 입력으로 그래프 재개\n",
    "for event in graph.stream(Command(resume=human_feedback), config=config): \n",
    "    print(f\"Event: {event}\")"
   ]
  },
  {
   "cell_type": "code",
   "execution_count": 42,
   "metadata": {},
   "outputs": [
    {
     "data": {
      "text/plain": [
       "{'messages': [AIMessage(content='키워드 7개 생성 (신뢰도: 95%)', additional_kwargs={}, response_metadata={}, id='7c3cc15f-2967-4329-b967-c56cb914657f')],\n",
       " 'topic': '2025 한국의 AI 산업',\n",
       " 'keywords': ['한국 AI 산업',\n",
       "  '2025 AI 전망',\n",
       "  '인공지능 기술 발전',\n",
       "  'AI 스타트업 한국',\n",
       "  '한국 AI 정책',\n",
       "  '머신러닝 한국',\n",
       "  'AI 인재 양성'],\n",
       " 'ready_for_search': True,\n",
       " 'search_results': [{'keyword': '한국 AI 산업',\n",
       "   'data': [{'url': 'https://www.investkorea.org/ik-kr/bbs/i-112/detail.do?ntt_sn=491224&clickArea=krmain00019',\n",
       "     'title': '산업포커스 - 상세보기 | 최신 산업정보 | 인베스트코리아 - Invest Korea',\n",
       "     'content': '2025년, 한국의 AI 시장 규모는 전년 대비 12.1% 성장한 3조 4,385억원에 이를 것으로 추산되고 있으며, 연평균 성장률 14.3%를 기록하며 2027년 4조 4636',\n",
       "     'score': 0.7978881,\n",
       "     'raw_content': None},\n",
       "    {'url': 'http://www.itdaily.kr/news/articleView.html?idxno=233950',\n",
       "     'title': \"[동향] 2024년 국내 AI 산업 6조 3천억원…구조적 불균형 '경고등'\",\n",
       "     'content': 'AI가 가장 활발히 도입되는 정보통신업(46.0%), 제조업(35.7%), 공공·행정(24.8%) 등에서도 주로 챗봇, 자동화, 영상 분석 등 응용 서비스 중심의 도입이',\n",
       "     'score': 0.7927375,\n",
       "     'raw_content': None},\n",
       "    {'url': 'https://www.kita.net/researchTrade/report/tradeFocus/tradeFocusDetail.do;JSESSIONID_KITA=16D0A14795C6C74296785555BAB3801C.Hyper?no=2807',\n",
       "     'title': 'AI 시대가 이끄는 한국 주력 수출 산업 변화 - 한국무역협회',\n",
       "     'content': 'ì\\x82¬ì\\x97\\x85ì\\xa0\\x84ë\\x9eµ/ì¶\\x94ì§\\x84ê³¼ì\\xa0\\x9c;) ê¸°ì\\x97\\x85ì\\xa0\\x95ë³´ê´\\x80ë¦¬;) ì\\x82¬ì\\x97\\x85ì\\xa0\\x84ë\\x9eµ/ì¶\\x94ì§\\x84ê³¼ì\\xa0\\x9c;) ê¸°ì\\x97\\x85ì\\xa0\\x95ë³´ê´\\x80ë¦¬;) ì¡°ì\\x84\\xa0·í\\x95´ì\\x9a´ ì\\x82°ì\\x97\\x85ì\\x97\\x90ì\\x84\\x9cë\\x8a\\x94 ì\\x9e\\x90ì\\x9c¨ì\\x9a´í\\x95\\xad ì\\x84\\xa0ë°\\x95 ê¸°ì\\x88\\xa0ì\\x9d´ ë¶\\x80ì\\x83\\x81í\\x95\\x98ë©´ì\\x84\\x9c í\\x95\\xadë§\\x8c·ë¬¼ë¥\\x98 ì\\x8b\\x9cì\\x8a¤í\\x85\\x9c ì\\xa0\\x84ë°\\x98ê³¼ì\\x9d\\x98 ì\\x97°ê²°ì\\x84±ì\\x9d´ ì¤\\x91ì\\x9a\\x94í\\x95´ì¡\\x8cê³\\xa0 AI ê¸°ë°\\x98 ì\\x8a¤ë§\\x88í\\x8a¸ ì¡°ì\\x84\\xa0ì\\x86\\x8cê°\\x80 ë¦¬ë\\x93\\x9cí\\x83\\x80ì\\x9e\\x84ì\\x9d\\x84 ë\\x8b¨ì¶\\x95í\\x95\\x98ë©´ì\\x84\\x9c ì\\x88\\x98ì£¼ ê²½ì\\x9f\\x81ë\\xa0¥ì\\x9d´ ë\\x86\\x92ì\\x95\\x84ì§\\x80ê³\\xa0 ì\\x9e\\x88ë\\x8b¤. ë§\\x8eì\\x9d\\x80 ê¸\\x80ë¡\\x9cë²\\x8c ê¸°ì\\x88\\xa0 ë¦¬ë\\x8d\\x94ë\\x93¤ì\\x9d´ ë¯¸ë\\x9e\\x98 AI ê¸°ì\\x88\\xa0ë¡\\x9c \\x80\\x98ë¬¼ë¦¬ì\\xa0\\x81(Physical) AI\\x80\\x99ë¥¼ ê¼½ì\\x9c¼ë©° í\\x96¥í\\x9b\\x84 ì\\xa0\\x9cì¡°ì\\x97\\x85ì\\x9d\\x84 ê¸°ë°\\x98ì\\x9c¼ë¡\\x9c í\\x95\\x9c ì\\x82°ì\\x97\\x85ì\\x97\\x90ì\\x84\\x9c ë§\\x8eì\\x9d\\x80 ê°\\x80ì¹\\x98ê°\\x80 ë§\\x8cë\\x93¤ì\\x96´ì§\\x88 ê²\\x83ì\\x9c¼ë¡\\x9c ê¸°ë\\x8c\\x80í\\x95\\x98ê³\\xa0 ì\\x9e\\x88ë\\x8b¤. ì\\x9a°ë¦¬ë\\x82\\x98ë\\x9d¼ë\\x8a\\x94 ì\\xa0\\x9cì¡° í\\x98\\x84ì\\x9e¥ì\\x97\\x90ì\\x84\\x9c ë\\x8d°ì\\x9d´í\\x84°ê°\\x80 ë\\x8b¤ë\\x9f\\x89 ì\\x83\\x9dì\\x84±ë\\x90\\x98ê³\\xa0 ì\\x9e\\x88ì§\\x80ë§\\x8c ì\\x95\\x84ì§\\x81 AI ì\\xa0\\x81ì\\x9a©ì\\x97\\x90 í\\x95\\x84ì\\x9a\\x94í\\x95\\x9c ì\\x88\\x98ì¤\\x80ì\\x9d\\x98 í\\x92\\x88ì§\\x88ê´\\x80ë¦¬ê°\\x80 ì¶©ë¶\\x84í\\x9e\\x88 ì\\x9d´ë¤\\x84ì§\\x80ì§\\x80 ì\\x95\\x8aì\\x95\\x84 ì\\x8b¤ì§\\x88ì\\xa0\\x81 ì\\x82°ì\\x97\\x85 AI êµ¬í\\x98\\x84ì\\x97\\x90 í\\x95\\x9cê³\\x84ê°\\x80 ì\\x9e\\x88ë\\x8b¤. ê¸°ì\\x97\\x85ì\\x9d\\x80 ê³µê³µ ë°\\x8f ë¯¼ê°\\x84ì\\x9d\\x98 ë\\x8b¤ì\\x96\\x91í\\x95\\x9c ì\\x84\\x9cë¹\\x84ì\\x8a¤ë¥¼ í\\x99\\x9cì\\x9a©í\\x95\\x98ì\\x97¬ ë\\x8d°ì\\x9d´í\\x84° ì\\xa0\\x95ì\\xa0\\x9c, AI ì\\x86\\x94ë£¨ì\\x85\\x98 ì\\xa0\\x81ì\\x9a© ë\\x93± ë\\x8a¥ë\\x8f\\x99ì\\xa0\\x81ì\\x9c¼ë¡\\x9c ì\\x82°ì\\x97\\x85 AI ë\\x8f\\x84ì\\x9e\\x85 ê¸°ë°\\x98ì\\x9d\\x84 êµ¬ì¶\\x95í\\x95´ì\\x95¼ í\\x95\\x9cë\\x8b¤.',\n",
       "     'score': 0.7552947,\n",
       "     'raw_content': None}],\n",
       "   'success': True},\n",
       "  {'keyword': '2025 AI 전망',\n",
       "   'data': [{'url': 'https://zdnet.co.kr/view/?no=20251014215942',\n",
       "     'title': '딜로이트가 분석한 2025년 AI 10대 핵심 트렌드 - 지디넷코리아',\n",
       "     'content': '# 딜로이트가 분석한 2025년 AI 10대 핵심 트렌드 엔비디아 젠슨 황 CEO가 CES 2025에서 예측한 \"AI의 종착점은 휴머노이드 로봇\"이라는 전망이 현실화되고 있으며, 기업들은 AI 도입을 통해 생산성 향상과 비용 절감이라는 두 마리 토끼를 동시에 잡고 있다. **트렌드 1: 물리적 AI - 휴머노이드 로봇 시대의 본격 개막** **트렌드 2: 에이전틱 AI - 인간과 AI의 상호작용 극대화** **트렌드 5: AI 거버넌스 - 신뢰 구축이 경쟁력의 핵심** **트렌드 6: AI 시티 - 도시 서비스 혁신의 핵심 동력** **트렌드 9: AI 데이터센터 - 전력 수요 폭증과 인프라 도전** 미국의 경우 AI 데이터센터 전력 수요가 2024년 4기가와트에서 2035년 123기가와트로 31배 증가할 전망이다. AI 10대 트렌드 중 기업이 가장 먼저 주목해야 할 트렌드는 무엇인가요?** 미국의 AI 데이터센터 전력 수요는 2024년 4기가와트에서 2035년 123기가와트로 31배 증가할 전망이다. AI 에디터',\n",
       "     'score': 0.9035075,\n",
       "     'raw_content': None},\n",
       "    {'url': 'https://www.deloitte.com/kr/ko/issues/generative-ai/ai-trend-2025.html',\n",
       "     'title': '2025 AI 10대 핵심 트렌드 | Deloitte Korea',\n",
       "     'content': '링크가 새 탭에서 열립니다. 새 창에서 열기 주요 콘텐츠 바로가기 바로가기: 온디바이스 AI 딜로이트는 2024년 말 발간한 기술 트렌드 리포트(Tech Trend 2025)에서,\\xa0AI가 인간과의 상호작용을 극대화하는 에이전틱 AI(agentic AI)로 진화할 것을 예측했습니다. ##### Tech Trends 2025: 미래 IT기술 환경을 조성하는 주요 동인과 향후 전망 온디바이스\\xa0AI Deloitte, ServiceNow, Nvidia, ThoughtLab가 공동으로 수행한 글로벌 연구에 따르면, 전 세계 250개 도시 중 AI 기술을 선도적으로 도입한 도시들은 생성형AI와 에이전틱 AI 등을 활용해 환경오염, 에너지 수요, 기후 변화 등 복잡한 도시 문제를 효과적으로 해결하고 있습니다. 딜로이트가 전 세계 리더들을 대상으로 진행한 서베이 결과에서도 많은 리더들이 이러지도 저러지도 못하는 덫에 갇혀 관망만 하고 있다는 것을 확인할 수 있습니다. 글로벌 완성차 OEM 기업들은 이제 AI를 중심에 두고 제조 혁신을 본격적으로 선도하고 있습니다.',\n",
       "     'score': 0.86331123,\n",
       "     'raw_content': None},\n",
       "    {'url': 'https://botpress.com/ko/blog/top-artificial-intelligence-trends',\n",
       "     'title': '2025년에 주목해야 할 10가지 인공지능 트렌드 - Botpress',\n",
       "     'content': '맞춤형 AI 에이전트, 개인화된 영업 접근, 개인 AI 쇼핑 도우미 등 기업들은 다양한 방식으로 개별 고객의 니즈를 충족시키고 있습니다. ROI 측정은 모든 기술 투자에서 당연히 고려되어야 하지만, 여전히 많은 기업들이 AI 프로젝트의 성과를 제대로 모니터링하지 않고 있습니다. 고도화된 위협 탐지부터 실시간 대응 시스템까지, 생성형 AI는 AI 기반 공격에 맞서는 핵심 무기가 되고 있습니다. 대화형 AI는 이미 고객 지원 챗봇, AI 리드 생성, 전자상거래 등에서 널리 활용되고 있습니다. * **Deloitte**는 지능형 자동화 기술의 확대되는 도입을 강조하며, 2025년까지 더 많은 기업들이 AI 기반 자동화를 적극적으로 활용할 것으로 전망합니다. * **유럽연합 집행위원회**의 AI 전략에는 시민들에게 AI의 이점과 위험성을 교육하여 더 잘 알고 있는 대중을 양성하는 계획이 포함되어 있습니다. AI는 API, Zapier 같은 미들웨어 플랫폼, 또는 최신 AI 벤더가 제공하는 사전 구축 커넥터를 통해 레거시 시스템이나 CRM/ERP와 통합할 수 있습니다.',\n",
       "     'score': 0.8524574,\n",
       "     'raw_content': None}],\n",
       "   'success': True},\n",
       "  {'keyword': '인공지능 기술 발전',\n",
       "   'data': [{'url': 'https://www.samsungsds.com/kr/insights/091517_cx_cvp3.html',\n",
       "     'title': '인공지능은 어떻게 발달해왔는가, 인공지능의 역사 | 인사이트리포트',\n",
       "     'content': '한동안 잠잠했던 인공지능 연구는 1980년대 산업계에 전문가 시스템이 도입되며 본격적으로 확산하게 됩니다. 이를 기점으로 전문가들 사이에서 신경망 기반 인공지능(딥러닝) 기술이 재조명되게 됩니다. ‘17년 2.0(비지도학습 소량데이터 기반 자가학습)으로 커제 및 탑클라스 바둑기사들에게 승리하면서, 인공지능(AI)기술이 일반인들에게도 확실히 인식되고, 완전히 재조명되는 계기가 되었습니다. 현재까지 실증화된 인공지능(AI)기술은 CNN, RNN(Recurrent Neural Network : 음성과 문자분야에 강한 신경망)입니다. 최근에는 ‘17년 이안 굿펠로우의 GAN(Generative Adversarial Nets: Image를 만들어내는 모델과 다양한 모델간에 서로 대립(Adversarial)하며 성능 개선하는 학습개념(낮은 수준의 사람처럼 글쓰기,노래하기 등이 가능)이 현재 인공지능(AI)를 이끌고 있습니다. 이처럼 딥러닝의 등장 이후 인공지능은(AI) 빠른 발전을 보이고 있습니다만 2018년 어떤 기술이 화두가 될지 전혀 예측할 수가 없을 정도로 급격하게 변화하고 있습니다. 결국 데이터 싸움인 인공지능(AI)시대에서 제조업이 강한 대한민국의 유리한 전쟁터는 “AI Technology in Smart Factory” 라고 생각해보는 것도 어떨까 합니다.',\n",
       "     'score': 0.79637206,\n",
       "     'raw_content': None},\n",
       "    {'url': 'https://www.dginclusion.com/news/articleView.html?idxno=612',\n",
       "     'title': '[인공지능 역사] ① 생성형 AI로 발전하기까지의 인공지능 발전 5대 사건',\n",
       "     'content': '## 1) 다트머스 컨퍼런스, 2) 신경망, 3) 딥러닝, 4) 알파고 바둑 우승, 5) 생성형 AI 등장 다트머스 컨퍼런스를 통해 AI 개념이 정립되었고, 퍼셉트론은 신경망 연구를 시작하게 했으며, 알렉스넷은 딥러닝 시대를 열었다. 알파고와 생성형 AI는 각각 전략적 문제 해결과 자연어 처리 분야에서 AI 기술의 잠재력을 입증하며, 오늘날 AI가 다양한 산업 및 일상생활에서 활용되는 기반을 마련했다. 심리학, 컴퓨터 과학, 수학 등 다양한 학문이 결합된 이 컨퍼런스를 통해 AI는 독립된 연구 분야로 자리 잡았으며, 이후 모든 AI 연구의 기초를 마련했다. 이 작은 시작은 이후 딥러닝 기술의 탄생을 가능하게 했으며, 현재 우리가 사용하는 수많은 AI 응용 프로그램의 기반이 되었다. Chat GPT는 고객 서비스, 교육, 창작 등 다양한 분야에서 활용되며 AI 기술이 실질적인 가치를 제공할 수 있음을 보여줬다.',\n",
       "     'score': 0.7511561,\n",
       "     'raw_content': None},\n",
       "    {'url': 'https://blog.kakaocloud.com/148',\n",
       "     'title': '<지식 사전> 인공지능(AI)의 발전 역사 ① - 규칙 기반 AI의 시대 (1950 ...',\n",
       "     'content': '* agentic ai # <지식 사전> 인공지능(AI)의 발전 역사 ① - 규칙 기반 AI의 시대 (1950~1990) 첫 회에서는 인류가 최초로 \\'생각하는 기계\\'를 만들고자 했던 1950년대부터 1990년대 초반까지 규칙 기반 AI(Rule Based AI)의 시대를 살펴보겠습니다. 초기 AI 연구자들은 인간의 지능을 \"주변 환경이나 사건에서 상황을 파악하고 문제해결에 적합한 대응을 할 수 있는 판단 능력\"으로 정의했습니다. 1970년대부터 1980년대 중반까지는 전문가 시스템(Expert Systems)이 AI의 주류를 이루었습니다. 규칙 기반 AI의 한계와 AI 겨울의 도래 규칙 기반 AI의 시대는 오늘날 AI 발전에 중요한 교훈을 남겼습니다. 다음 편에서는 1990년대 이후 등장한 데이터 기반 AI의 발전 과정을 살펴보겠습니다. AI, cloud, kakaocloud, rule, 발전, 역사, 인공지능, 카카오, 카카오클라우드, 클라우드 + <지식 사전> 인공지능(AI)의 발전 역사 ③ - 딥러닝의 시대 (2010~2019) + <지식 사전> 인공지능(AI)의 발전 역사 ② - 기계학습의 시대 (1990~2010)',\n",
       "     'score': 0.73505294,\n",
       "     'raw_content': None}],\n",
       "   'success': True},\n",
       "  {'keyword': 'AI 스타트업 한국',\n",
       "   'data': [{'url': 'https://www.mt.co.kr/future/2024/12/21/2024121815152811264',\n",
       "     'title': \"세계가 주목하는 '한국 AI 스타트업 7개사' 어디? - 머니투데이\",\n",
       "     'content': \"전세계가 AI(인공지능) 기술의 고도화를 놓고 총성 없는 전쟁을 벌이는 가운데, 한국은 AI 전쟁의 시발점이라고 할 수 있는 구글 알파고의 첫 격전지였음에도 불구하고 글로벌 AI 점수는 아직 중상위 수준에 머물고 있다. 국내 기업 중에선 네이버(NAVER(253,000원 ▼1,500 -0.59%))와 카카오(59,600원 ▼400 -0.67%)가 전반적인 AI 산업을 이끌고 있으나 글로벌 빅테크들과 비교하면 2~3년 뒤떨어진다는 평가를 받는다. 업스테이지는 2021년 9월 시리즈A 투자 라운드에서 316억원의 대규모 투자를 유치한데 이어 올해 4월 시리즈B 때는 1000억원을 조달하며, 국내 AI 기업이 근래 유치한 투자액 중 역대 최대 규모를 기록했다. 생성형 AI 분야 스타트업 중에선 '뤼튼테크놀로지스'가 가장 선두를 달린다. 영상 분야 초거대 AI 모델을 개발하는 '트웰브랩스', 산업에 특화된 AI 솔루션을 운영하는 '마키나락스'는 글로벌 시장조사기관 CB인사이트가 선정한 '세계 100대 AI 기업'에 이름을 올린 바 있다. 라이너는 440억원의 누적 투자금을 유치했으며, 신뢰할 수 있는 답변과 출처를 제공하는 'AI 검색 서비스'를 운영한다.\",\n",
       "     'score': 0.87218446,\n",
       "     'raw_content': None},\n",
       "    {'url': 'https://carat.im/blog/korea-ai-startup-ranking-top-10',\n",
       "     'title': '국내 AI 스타트업 순위 TOP 10 (2025년 총정리) - 캐럿',\n",
       "     'content': '![Image 2: 국내 AI 스타트업 순위 TOP 10 (2025년 총정리)](https://image.inblog.dev/?url=https%3A%2F%2Fsource.inblog.dev%2Ffeatured_image%2F2025-06-25T09%3A53%3A35.430Z-e3aec60a-224a-44f5-94c3-0d674320bb4f&w=2048&q=75) [2025년을 이끄는 AI 스타트업](https://carat.im/blog/korea-ai-startup-ranking-top-10#2025%EB%85%84%EC%9D%84-%EC%9D%B4%EB%81%84%EB%8A%94-ai-%EC%8A%A4%ED%83%80%ED%8A%B8%EC%97%85-0)[높은 사용자 수 확보 기업](https://carat.im/blog/korea-ai-startup-ranking-top-10#%EB%86%92%EC%9D%80-%EC%82%AC%EC%9A%A9%EC%9E%90-%EC%88%98-%ED%99%95%EB%B3%B4-%EA%B8%B0%EC%97%85-1)[대규모 투자 유치 기업](https://carat.im/blog/korea-ai-startup-ranking-top-10#%EB%8C%80%EA%B7%9C%EB%AA%A8-%ED%88%AC%EC%9E%90-%EC%9C%A0%EC%B9%98-%EA%B8%B0%EC%97%85-2)[글로벌 기술력 인정 기업](https://carat.im/blog/korea-ai-startup-ranking-top-10#%EA%B8%80%EB%A1%9C%EB%B2%8C-%EA%B8%B0%EC%88%A0%EB%A0%A5-%EC%9D%B8%EC%A0%95-%EA%B8%B0%EC%97%85-3)[분야별 주요 AI 스타트업 리스트](https://carat.im/blog/korea-ai-startup-ranking-top-10#%EB%B6%84%EC%95%BC%EB%B3%84-%EC%A3%BC%EC%9A%94-ai-%EC%8A%A4%ED%83%80%ED%8A%B8%EC%97%85-%EB%A6%AC%EC%8A%A4%ED%8A%B8-4)[대한민국 AI 스타트업의 미래](https://carat.im/blog/korea-ai-startup-ranking-top-10#%EB%8C%80%ED%95%9C%EB%AF%BC%EA%B5%AD-ai-%EC%8A%A4%ED%83%80%ED%8A%B8%EC%97%85%EC%9D%98-%EB%AF%B8%EB%9E%98-5) 대규모 투자 유치 기업(업스테이지, 트웰브랩스, 퓨리오사AI, 리벨리온), 높은 사용자 수 확보 기업(라이너, 뤼튼, 캐럿), 글로벌 기술력 인정 기업(업스테이지, 트웰브랩스, 노타AI, 디노티시아)의 로고가 각 카테고리별로 정리되어 있음](https://image.inblog.dev/?url=https%3A%2F%2Fsource.inblog.dev%2Fpost_image%2F2025-06-25T09%3A52%3A33.525Z-6a767a68-ce9d-46f7-b1af-4f2482764eca&w=1920&q=75) ![Image 4: 캐럿 AI 에이전트의 콘텐츠 제작 과정: 사용자의 목표에 맞춰 계획, 생성, 완성을 자율적으로 수행하는 흐름도](https://image.inblog.dev/?url=https%3A%2F%2Fsource.inblog.dev%2Fpost_image%2F2025-06-20T06%3A58%3A06.955Z-5dda300f-9409-4139-b34b-fc3ff1170404&w=1920&q=75) *   [생성형 AI ‘캐럿’, 무료 영상 제작 기능 추가한 대규모 업데이트](https://carat.im/blog/generative-ai-update-video-feature) *   [캐럿, LG유플러스에 기업용 AI 영상 제작 서비스 ‘캐럿 Biz’ 공급](https://carat.im/blog/carat-ai-video-production) 사용법, 무료 유료 가격, 쉽게 쓰는 법 총정리 (Fast 모델 포함)](https://image.inblog.dev/?url=https%3A%2F%2Fsource.inblog.dev%2Ffeatured_image%2F2025-10-15T11%3A02%3A17.563Z-5cba690d-cb91-4b30-92a7-8b5ee8cbed85&w=750&q=75)](https://carat.im/blog/google-veo3-31-release-guide) October 1, 2025 ![Image 7: AI 영상 제작 사이트 TOP 5 완벽 비교 분석 (2025년 최신)](https://image.inblog.dev/?url=https%3A%2F%2Fsource.inblog.dev%2Ffeatured_image%2F2025-10-01T10%3A12%3A47.068Z-1d22c164-1679-454d-95b4-ba5949a3366e&w=750&q=75)](https://carat.im/blog/ai-video-production-comparison)',\n",
       "     'score': 0.86441374,\n",
       "     'raw_content': None},\n",
       "    {'url': 'https://hitek.com.vn/ko/blog-ko/domestic-ai-company-rankings/',\n",
       "     'title': \"세계가 주목하는 '한국 AI 스타트업 10개사' 어디? - Hitek Software\",\n",
       "     'content': '한국은 최근 몇 년간 인공지능(AI) 분야에서 두각을 나타내며 글로벌 시장에서 주목받고 있다. 🔹 **대표 기술**: LLM(대형 언어 모델) 기반 AI 솔루션   🔹 **주요 성과**: 한국형 ChatGPT로 불리는 **‘Upstage Solar AI’** 개발, 1,000억 원 규모 투자 유치 🔹 **대표 기술**: AI 기반 음성 및 영상 분석   🔹 **대표 기술**: 경량화 AI 모델 (TinyML)   🔹 **주요 성과**: 미국 국방부와 협력, 모바일 최적화 AI 솔루션 제공 🔹 **대표 기술**: AI 튜터 (교육용 생성형 AI)   🔹 **대표 기술**: AI 의료 영상 분석   🔹 **대표 기술**: 생성형 AI 콘텐츠 플랫폼   🔹 **대표 기술**: AI 반도체 (NPU)   🔹 **주요 성과**: SK텔레콤 지원, 초저전력 AI 칩 개발 🔹 **대표 기술**: AI 헬스케어 로봇   🔹 **대표 기술**: AI 보안 솔루션   Khoi Tran is the Owner of Hitek Software.',\n",
       "     'score': 0.8399576,\n",
       "     'raw_content': None}],\n",
       "   'success': True},\n",
       "  {'keyword': '한국 AI 정책',\n",
       "   'data': [{'url': 'https://www.korea.kr/special/policyCurationView.do?newsId=148868542',\n",
       "     'title': '인공지능(AI) - 대한민국 정책브리핑',\n",
       "     'content': '**2) 안전한 인공지능 활용을 위한 기반 마련**① 학습용 데이터 신뢰성 제고- 민·관이 인공지능 학습용 데이터 제작공정에서 공통적으로 준수해야할 신뢰 확보 검증지표 등의 표준 기준을 민간과 함께 마련·확산- ‘데이터 댐’ 사업에서는 구축 전 과정에서 저작권, 개인정보보호와 같은 법·제도 준수 여부 등의 신뢰성 확보 고려사항을 선제적으로 적용하여 품질을 향상② 고위험 인공지능에 대한 신뢰 확보- 국민의 안전이나 기본권에 잠재적 위험을 미칠 수 있는 고위험 인공지능의 범주를 설정하고, 서비스 제공 전에 해당 인공지능의 활용 여부를 이용자에게 ‘고지’하도록 할 계획③ 인공지능 영향평가 실시- 인공지능이 국민생활 전반에 미치는 영향을 종합·체계적으로 분석하고 대응하기 위해 사회적 영향평가 도입④ 인공지능 신뢰 강화를 위한 제도 개선- 지난해 「인공지능 법·제도·규제 정비 로드맵」(’20.12.)을 통해 발굴된 과제 중 인공지능에 대한 신뢰 확보, 이용자의 생명·신체보호 등과 관련된 과제의 차질 없는 이행 추진\\\\* ①업계 자율적 알고리즘 관리·감독환경 조성, ②플랫폼 알고리즘 공정성·투명성 확보, ③영업비밀 보장을 위한 알고리즘 공개기준 마련, ④고위험 기술기준 마련 등',\n",
       "     'score': 0.75723875,\n",
       "     'raw_content': None},\n",
       "    {'url': 'https://www.lawtimes.co.kr/LawFirm-NewsLetter/208784',\n",
       "     'title': '새정부의 AI 정책 로드맵 - 법률신문',\n",
       "     'content': \"이를 위해 AI 데이터센터를 '국가전략기술사업화시설'로 지정하고, 행정절차 간소화 및 인허가 타임아웃제 도입 등을 통해 AI 데이터센터 건설을 촉진하겠다는 구체적인 지원 방안도 제시하였습니다. 차세대 AI 기술 개발 및 인프라 지원**   AI 시대의 핵심 인프라 기술 지원을 강화하여 2030년 AI 중심 차세대 네트워크(6G) 상용화를 추진하고(2028년 시범서비스), AI 네트워크(6G) 핵심기술 확보로 글로벌 장비 단말기 시장 선점 기반을 마련하겠다고 밝혔습니다. 미국과 EU를 비롯한 선진국들이 AI 분야 경쟁력 강화에 박차를 가하고 있는 상황에서, 우리나라 역시 국제적 정책 동향에 부합하는 신속하고 유연한 대응이 필요하며, 기업들은 AI 관련 사업 영역을 전면 검토하고 사내 AI 전담 조직 구성, 최고기술책임자(CTO) 및 최고AI책임자(CAIO)를 중심으로 한 AI 관리 체계 정비를 통해 변화하는 AI 생태계에 능동적으로 대응해야 할 시점입니다. **이광욱 파트너변호사(kwlee@hwawoo.com)   이근우 파트너변호사(klee@hwawoo.com)   이수경 파트너변호사(sgyi@hwawoo.com)   정호선 변호사(junghs@yoonyang.com)   유현상 변호사(hsryu@hwawoo.com)   강석준 변호사(kangsj@yoonyang.com)**\",\n",
       "     'score': 0.6867278,\n",
       "     'raw_content': None},\n",
       "    {'url': 'https://blog.naver.com/simula/224000877832?fromRss=true&trackingCode=rss',\n",
       "     'title': '대한민국 정부가 선포한 인공지능(AI) 3대 강국 비전 : 네이버 블로그',\n",
       "     'content': '대한민국 정부가 선포한 인공지능(AI) 3대 강국 비전은 단순한 산업 육성책을 넘어, 21세기 기술 패권 시대에 국가의 명운을 건 생존 전략으로 자리',\n",
       "     'score': 0.6369636,\n",
       "     'raw_content': None}],\n",
       "   'success': True},\n",
       "  {'keyword': '머신러닝 한국',\n",
       "   'data': [{'url': 'https://www.facebook.com/groups/mlekorea/',\n",
       "     'title': '한국 머신러닝&딥러닝 엔지니어 모임 (MLE & DLE & MLOps Korean ...',\n",
       "     'content': '머신러닝엔지니어, 딥러닝엔지니어, AI엔지니어, MLOps로 일하는 한국인 커뮤니티 입니다. Profile photo of Kelly. Kelly Seo. 10w · Public · 지금 안',\n",
       "     'score': 0.71948266,\n",
       "     'raw_content': None},\n",
       "    {'url': 'https://www.chosun.com/economy/tech_it/2023/04/05/56QCQLEPKJFAVMYGLMVHKQCS4I/',\n",
       "     'title': \"AI 핵심 '머신 러닝' 개발… 작년 미국 16건, 한국은 한 건도 없었다\",\n",
       "     'content': \"한국에서는 지난해 전 세계적으로 인정받을 만한 '중요(significant)' 머신 러닝(기계 학습) 개발이 한 건도 없었다는 보고서가 나왔다. 머신 러닝은 인공\",\n",
       "     'score': 0.709684,\n",
       "     'raw_content': None},\n",
       "    {'url': 'https://m.blog.naver.com/koreafintech/221228474611',\n",
       "     'title': '[핀테크 뉴스] 꿈틀대는 머신러닝 시장, 한국은 어디쯤 왔나',\n",
       "     'content': '머신러닝은 인공지능을 구현하는 기술 중 하나입니다. 일반인들에겐 여전히 익숙지 않은 개념이지만 머신러닝은 사이버 위협이 지능화하는 때 주요 보안',\n",
       "     'score': 0.7018975,\n",
       "     'raw_content': None}],\n",
       "   'success': True},\n",
       "  {'keyword': 'AI 인재 양성',\n",
       "   'data': [{'url': 'https://www.chosun.com/economy/industry-company/2025/06/25/3ZLN63SA2VBKRAGISEV2MHVV2Q/',\n",
       "     'title': \"삼성, 매년 청년 AI 인재 2000명 육성… '인공지능 강국' 힘 보탠다\",\n",
       "     'content': \"# 삼성, 매년 청년 AI 인재 2000명 육성… '인공지능 강국' 힘 보탠다 국내 최대 기업인 삼성이 매년 2000명의 ‘인공지능(AI) 실무 인재’를 대규모로 육성한다. 최근 6년여간 사회 공헌 차원에서 미취업 청년을 매년 수백 명씩 교육해 ‘1만(萬) 소프트웨어 인재’를 키워 낸 삼성이 이제 ‘AI 인재’ 육성에 나서기로 한 것이다. 이로써 지난 2018년 말부터 삼성이 SW 인재 육성을 위해 운영해 온 사회공헌 프로그램 ‘SSAFY’의 누적 수료생은 총 1만명을 돌파(1만125명)했다. 이날 삼성은 그간 SW 중심으로 운영해 왔던 교육을, AI 중심으로 전면 개편하고 프로그램명도 ‘삼성 청년 SW·AI 아카데미(SSAFY 2.0)’로 바꾼다고 밝혔다. 삼성이 ‘독한 교육’을 예고한 만큼, 새 프로그램이 AI 인재 양성에 도움이 될 것이란 기대가 나온다. 교육의 중심이 SW에서 AI로 바뀌면서 이제는 ‘삼성 청년 SW·AI 아카데미(Samsung Software AI academy For Youth)’란 뜻이 됐다.\",\n",
       "     'score': 0.7738498,\n",
       "     'raw_content': None},\n",
       "    {'url': 'https://blog.naver.com/moeblog/223990820976?fromRss=true&trackingCode=rss',\n",
       "     'title': '첨단산업 인재양성 부트캠프를 통해 맞춤형 AI 실무인재를 양성합니다',\n",
       "     'content': \"'첨단산업 인재 양성 부트캠프'는 첨단산업에 필요한 인재를 신속하게 양성하기 위해 대학이 기업과 공동으로 단기 집중 교육과정을 개발하여 대학생들\",\n",
       "     'score': 0.7539928,\n",
       "     'raw_content': None},\n",
       "    {'url': 'https://www.iitp.kr/kr/1/business/ctgrKAB.it',\n",
       "     'title': '주요사업 > 사업분류 > 인재양성 > 생성AI선도인재양성 | IITP',\n",
       "     'content': '생성AI 기업과 국내 대학(원)의 공동 및 파견연구 지원을 통해 생성AI 초격차 기술 확보를 주도할 핵심 고급 인재양성 - (대상) 생성AI기업·대학 컨소시엄',\n",
       "     'score': 0.72418857,\n",
       "     'raw_content': None}],\n",
       "   'success': True}],\n",
       " 'report': '# 2025 한국의 AI 산업\\n\\n## 📌 요약\\n2025년 한국의 AI 산업은 연평균 성장률 14.3%로 빠르게 성장 중이며, 2025년 시장 규모는 약 3조 4,385억원으로 전망된다. 정보통신업, 제조업, 공공·행정 분야에서 AI 도입이 활발하며, 특히 챗봇, 자동화, 영상 분석 등 응용 서비스 중심의 활용이 증가하고 있다. AI 스타트업도 활발히 성장하여 업스테이지, 트웰브랩스, 뤼튼테크놀로지스 등 글로벌 경쟁력을 갖춘 기업들이 두각을 나타내고 있다. 딜로이트 보고서에 따르면 2025년 AI는 휴머노이드 로봇 시대의 본격 개막, 인간과 AI의 상호작용 극대화, AI 거버넌스 강화 등을 핵심 트렌드로 하며, 도시 서비스 혁신과 자동화가 확대될 전망이다. 또한 정부는 AI 신뢰성 확보와 고위험 AI 규제 등 정책적 기반 마련에 적극적으로 나서고 있다.\\n\\n## 🔍 주요 발견사항\\n1. 한국의 AI 시장 규모는 2025년 약 3조 4,385억원으로, 연평균 14.3% 성장세를 보인다. (출처: 인베스트코리아 https://www.investkorea.org/ik-kr/bbs/i-112/detail.do?ntt_sn=491224&clickArea=krmain00019)\\n2. 정보통신업(46%), 제조업(35.7%), 공공·행정(24.8%) 분야에서 AI 도입이 활발하며, 챗봇, 자동화, 영상 분석 등이 주요 응용 서비스로 활용되고 있다. (출처: ITDaily http://www.itdaily.kr/news/articleView.html?idxno=233950)\\n3. 한국 AI 스타트업은 업스테이지, 트웰브랩스, 뤼튼테크놀로지스 등이 글로벌 시장에서 주목받고 있으며, 대규모 투자 유치와 기술력 확보로 성장 중이다. (출처: 머니투데이 https://www.mt.co.kr/future/2024/12/21/2024121815152811264)\\n4. 딜로이트는 2025년 AI 핵심 트렌드로 휴머노이드 로봇, 에이전틱 AI, AI 거버넌스, AI 시티 등을 제시하며, 기업과 도시의 AI 활용 확대를 전망했다. (출처: 딜로이트 코리아 https://www.deloitte.com/kr/ko/issues/generative-ai/ai-trend-2025.html)\\n5. 정부는 AI 학습용 데이터 신뢰성 제고, 고위험 AI 규제, AI 영향평가 등 안전한 AI 활용을 위한 정책 기반을 마련 중이다. (출처: 대한민국 정책브리핑 https://www.korea.kr/special/policyCurationView.do?newsId=148868542)\\n\\n## 💡 제언\\n1. 한국 AI 산업은 제조업 등 기존 강점을 살려 스마트팩토리 등 AI 융합 분야에 집중 투자할 필요가 있다.\\n2. AI 스타트업에 대한 투자와 글로벌 진출 지원을 확대하여 기술 경쟁력을 강화해야 한다.\\n3. AI의 신뢰성과 안전성 확보를 위한 정책과 규제 체계를 지속적으로 발전시켜야 한다.\\n4. 딜로이트가 제시한 AI 트렌드를 참고하여 휴머노이드 로봇, 에이전틱 AI 등 신기술 분야에 대한 연구개발을 촉진할 필요가 있다.\\n5. 도시 문제 해결을 위한 AI 시티 프로젝트 등 공공 분야에서 AI 활용 확대를 추진하는 것이 중요하다.\\n\\n---\\n*생성: 2025-10-31 19:41*\\n*검색: 7개 성공*',\n",
       " 'feedback': '승인'}"
      ]
     },
     "execution_count": 42,
     "metadata": {},
     "output_type": "execute_result"
    }
   ],
   "source": [
    "# 마지막 상태 출력\n",
    "final_state = graph.get_state(config)\n",
    "\n",
    "final_state.values"
   ]
  },
  {
   "cell_type": "code",
   "execution_count": 43,
   "metadata": {},
   "outputs": [
    {
     "name": "stdout",
     "output_type": "stream",
     "text": [
      "# 2025 한국의 AI 산업\n",
      "\n",
      "## 📌 요약\n",
      "2025년 한국의 AI 산업은 연평균 성장률 14.3%로 빠르게 성장 중이며, 2025년 시장 규모는 약 3조 4,385억원으로 전망된다. 정보통신업, 제조업, 공공·행정 분야에서 AI 도입이 활발하며, 특히 챗봇, 자동화, 영상 분석 등 응용 서비스 중심의 활용이 증가하고 있다. AI 스타트업도 활발히 성장하여 업스테이지, 트웰브랩스, 뤼튼테크놀로지스 등 글로벌 경쟁력을 갖춘 기업들이 두각을 나타내고 있다. 딜로이트 보고서에 따르면 2025년 AI는 휴머노이드 로봇 시대의 본격 개막, 인간과 AI의 상호작용 극대화, AI 거버넌스 강화 등을 핵심 트렌드로 하며, 도시 서비스 혁신과 자동화가 확대될 전망이다. 또한 정부는 AI 신뢰성 확보와 고위험 AI 규제 등 정책적 기반 마련에 적극적으로 나서고 있다.\n",
      "\n",
      "## 🔍 주요 발견사항\n",
      "1. 한국의 AI 시장 규모는 2025년 약 3조 4,385억원으로, 연평균 14.3% 성장세를 보인다. (출처: 인베스트코리아 https://www.investkorea.org/ik-kr/bbs/i-112/detail.do?ntt_sn=491224&clickArea=krmain00019)\n",
      "2. 정보통신업(46%), 제조업(35.7%), 공공·행정(24.8%) 분야에서 AI 도입이 활발하며, 챗봇, 자동화, 영상 분석 등이 주요 응용 서비스로 활용되고 있다. (출처: ITDaily http://www.itdaily.kr/news/articleView.html?idxno=233950)\n",
      "3. 한국 AI 스타트업은 업스테이지, 트웰브랩스, 뤼튼테크놀로지스 등이 글로벌 시장에서 주목받고 있으며, 대규모 투자 유치와 기술력 확보로 성장 중이다. (출처: 머니투데이 https://www.mt.co.kr/future/2024/12/21/2024121815152811264)\n",
      "4. 딜로이트는 2025년 AI 핵심 트렌드로 휴머노이드 로봇, 에이전틱 AI, AI 거버넌스, AI 시티 등을 제시하며, 기업과 도시의 AI 활용 확대를 전망했다. (출처: 딜로이트 코리아 https://www.deloitte.com/kr/ko/issues/generative-ai/ai-trend-2025.html)\n",
      "5. 정부는 AI 학습용 데이터 신뢰성 제고, 고위험 AI 규제, AI 영향평가 등 안전한 AI 활용을 위한 정책 기반을 마련 중이다. (출처: 대한민국 정책브리핑 https://www.korea.kr/special/policyCurationView.do?newsId=148868542)\n",
      "\n",
      "## 💡 제언\n",
      "1. 한국 AI 산업은 제조업 등 기존 강점을 살려 스마트팩토리 등 AI 융합 분야에 집중 투자할 필요가 있다.\n",
      "2. AI 스타트업에 대한 투자와 글로벌 진출 지원을 확대하여 기술 경쟁력을 강화해야 한다.\n",
      "3. AI의 신뢰성과 안전성 확보를 위한 정책과 규제 체계를 지속적으로 발전시켜야 한다.\n",
      "4. 딜로이트가 제시한 AI 트렌드를 참고하여 휴머노이드 로봇, 에이전틱 AI 등 신기술 분야에 대한 연구개발을 촉진할 필요가 있다.\n",
      "5. 도시 문제 해결을 위한 AI 시티 프로젝트 등 공공 분야에서 AI 활용 확대를 추진하는 것이 중요하다.\n",
      "\n",
      "---\n",
      "*생성: 2025-10-31 19:41*\n",
      "*검색: 7개 성공*\n"
     ]
    }
   ],
   "source": [
    "# 최종 검색 결과 출력\n",
    "print(final_state.values.get(\"report\", []))"
   ]
  },
  {
   "cell_type": "markdown",
   "metadata": {},
   "source": [
    "- **사용자 검토**: 사용자가 보고서 내용을 검토하고 수정 요청"
   ]
  },
  {
   "cell_type": "code",
   "execution_count": 44,
   "metadata": {},
   "outputs": [],
   "source": [
    "# ===== 보고서 검토 노드 (Human-in-the-loop) =====\n",
    "\n",
    "def review_report(state: ResearchState) -> ResearchState:\n",
    "    \"\"\"Human-in-the-loop: 보고서 검토\"\"\"\n",
    "    \n",
    "    # 보고서 미리보기 (500자로 제한)\n",
    "    preview = state[\"report\"][:500] + \"...\" if len(state[\"report\"]) > 500 else state[\"report\"]\n",
    "    \n",
    "    # 사용자 입력 대기\n",
    "    user_input = interrupt({\n",
    "        \"report_preview\": preview,\n",
    "        \"instruction\": \"보고서를 검토하세요. '승인' 또는 구체적인 수정 요청을 입력하세요:\"\n",
    "    })\n",
    "    \n",
    "    return Command(\n",
    "        goto=END if \"승인\" in user_input else \"revise_report\",\n",
    "        update={\"feedback\": user_input}\n",
    "    )  # type: ignore"
   ]
  },
  {
   "cell_type": "markdown",
   "metadata": {},
   "source": [
    "- **최종 완성**: 피드백을 반영한 최종 보고서 생성"
   ]
  },
  {
   "cell_type": "code",
   "execution_count": 45,
   "metadata": {},
   "outputs": [],
   "source": [
    "# ===== 보고서 수정 노드 =====\n",
    "def revise_report(state: ResearchState) -> ResearchState:\n",
    "    \"\"\"피드백 처리 및 보고서 수정\"\"\"\n",
    "    \n",
    "    feedback = state.get(\"feedback\", \"\").strip()\n",
    "    \n",
    "    # 승인인 경우 바로 완료\n",
    "    if \"승인\" in feedback.lower() or \"approve\" in feedback.lower():\n",
    "        return {\n",
    "            \"messages\": [AIMessage(\"✅ 보고서가 승인되었습니다!\")]\n",
    "        }  # type: ignore\n",
    "\n",
    "    # 수정 요청 처리\n",
    "    if feedback:\n",
    "\n",
    "        # 구조화된 프롬프트 템플릿\n",
    "        revision_prompt = ChatPromptTemplate.from_messages([\n",
    "            (\"system\", \"\"\"당신은 전문적인 보고서 편집자입니다.\n",
    "    사용자의 피드백을 반영하여 보고서를 수정하세요.\n",
    "\n",
    "    \n",
    "    ## 수정 원칙:\n",
    "    1. 원본 보고서의 구조와 형식 유지\n",
    "    2. 사용자 요청사항을 정확히 반영\n",
    "    3. 전문적이고 명확한 문체 유지\n",
    "    4. 마크다운 형식 준수\"\"\"),\n",
    "            (\"human\", \"\"\"## 현재 보고서:\n",
    "    {report}\n",
    "\n",
    "    ## 수정 요청사항:\n",
    "    {feedback}\n",
    "\n",
    "    위 요청사항을 반영하여 보고서를 수정해주세요.\"\"\")\n",
    "        ])\n",
    "        \n",
    "        try:\n",
    "            # LLM 체인 실행\n",
    "            chain = revision_prompt | llm\n",
    "            response = chain.invoke({\n",
    "                \"report\": state[\"report\"],\n",
    "                \"feedback\": feedback\n",
    "            })\n",
    "            \n",
    "            # 수정된 보고서 반환\n",
    "            return {\n",
    "                \"report\": response.content,\n",
    "                \"feedback\": \"\",  # 피드백 초기화\n",
    "                \"messages\": [AIMessage(f\"📝 보고서가 수정되었습니다: {feedback[:50]}...\")]\n",
    "            }  # type: ignore\n",
    "\n",
    "        except Exception as e:\n",
    "            return {\n",
    "                \"messages\": [AIMessage(f\"❌ 수정 중 오류 발생: {str(e)[:100]}\")]\n",
    "            }  # type: ignore\n",
    "    \n",
    "    # 피드백이 없는 경우\n",
    "    return {\n",
    "        \"messages\": [AIMessage(\"⚠️ 피드백이 없어 보고서를 그대로 유지합니다.\")]\n",
    "    }  # type: ignore"
   ]
  },
  {
   "cell_type": "code",
   "execution_count": 46,
   "metadata": {},
   "outputs": [
    {
     "data": {
      "image/png": "[encoded data removed]",
      "text/plain": [
       "<IPython.core.display.Image object>"
      ]
     },
     "metadata": {},
     "output_type": "display_data"
    }
   ],
   "source": [
    "# ===== 워크플로우 구성 =====\n",
    "# 1. ready_to_search (검색 준비)\n",
    "# 2. dispatch_searches (병렬 검색 시작)\n",
    "# 3. search_one (개별 검색 - 병렬)\n",
    "# 4. generate_report (검색 결과 취합/리듀스) \n",
    "# 5. review_report (보고서 검토)\n",
    "# 6. revise_report (보고서 수정)\n",
    "\n",
    "workflow = StateGraph(ResearchState)\n",
    "\n",
    "# 노드 추가\n",
    "workflow.add_node(\"analyze_topic\", generate_keywords)\n",
    "workflow.add_node(\"review_keywords\", review_keywords)\n",
    "workflow.add_node(\"process_feedback\", process_keyword_feedback)\n",
    "\n",
    "workflow.add_node(\"ready_to_search\", ready_to_search)\n",
    "workflow.add_node(\"search_one\", search_one)  # Send의 타겟 노드\n",
    "workflow.add_node(\"generate_report\", generate_report)\n",
    "\n",
    "workflow.add_node(\"review_report\", review_report)\n",
    "workflow.add_node(\"revise_report\", revise_report)\n",
    "\n",
    "# 엣지 연결\n",
    "workflow.add_edge(START, \"analyze_topic\")\n",
    "workflow.add_edge(\"analyze_topic\", \"review_keywords\")\n",
    "\n",
    "# 키워드 검토 후 조건부 라우팅\n",
    "workflow.add_conditional_edges(\n",
    "    \"review_keywords\",\n",
    "    should_continue_after_review,\n",
    "    {\n",
    "        \"process_feedback\": \"process_feedback\",\n",
    "        \"regenerate\": \"analyze_topic\",\n",
    "        \"approved\": \"ready_to_search\"\n",
    "    }\n",
    ")\n",
    "\n",
    "# 피드백 처리 후 검색\n",
    "workflow.add_edge(\"process_feedback\", \"ready_to_search\")\n",
    "\n",
    "# Send 맵-리듀스 연결\n",
    "workflow.add_conditional_edges(\n",
    "    \"ready_to_search\",\n",
    "    dispatch_searches,\n",
    "    [\"search_one\"]\n",
    ")\n",
    "workflow.add_edge(\"search_one\", \"generate_report\")\n",
    "\n",
    "\n",
    "# 보고서 생성 후 검토\n",
    "workflow.add_edge(\"generate_report\", \"review_report\")\n",
    "workflow.add_edge(\"revise_report\", \"review_report\")\n",
    "\n",
    "# 컴파일\n",
    "graph = workflow.compile(checkpointer=InMemorySaver())\n",
    "\n",
    "# 시각화\n",
    "display(Image(graph.get_graph().draw_mermaid_png()))"
   ]
  },
  {
   "cell_type": "code",
   "execution_count": 47,
   "metadata": {},
   "outputs": [
    {
     "name": "stdout",
     "output_type": "stream",
     "text": [
      "Event: {'analyze_topic': {'keywords': ['LangGraph', 'LlamaIndex', '지식 그래프', '언어 모델 인덱싱', '데이터 통합', '자연어 처리', '정보 검색'], 'messages': [AIMessage(content='키워드 7개 생성 (신뢰도: 90%)', additional_kwargs={}, response_metadata={}, id='b92f888b-9c3b-49f7-b288-18efb502f90a')]}}\n",
      "Event: {'__interrupt__': (Interrupt(value={'keywords': ['LangGraph', 'LlamaIndex', '지식 그래프', '언어 모델 인덱싱', '데이터 통합', '자연어 처리', '정보 검색'], 'question': \"키워드 검토:\\n1. LangGraph\\n2. LlamaIndex\\n3. 지식 그래프\\n4. 언어 모델 인덱싱\\n5. 데이터 통합\\n6. 자연어 처리\\n7. 정보 검색\\n\\n옵션:\\n- '승인': 현재 키워드 사용\\n- '재생성': 새 키워드 생성\\n- '수정: 키워드1,키워드2,...': 직접 수정\"}, id='ab8079e1244415028202d1bec706dc28'),)}\n"
     ]
    }
   ],
   "source": [
    "# 초기 상태 설정\n",
    "initial_state = {\n",
    "    \"topic\": \"LangGraph와 LlamaIndex 비교\"\n",
    "}\n",
    "    \n",
    "# 스레드 설정\n",
    "config = {\"configurable\": {\"thread_id\": f\"test_thread_1\"}}\n",
    "\n",
    "\n",
    "# 워크플로우 실행\n",
    "# 첫 번째 실행 - 중단점에서 실행을 멈춤\n",
    "for event in graph.stream(initial_state, config=config):\n",
    "    print(f\"Event: {event}\")"
   ]
  },
  {
   "cell_type": "code",
   "execution_count": 48,
   "metadata": {},
   "outputs": [
    {
     "name": "stdout",
     "output_type": "stream",
     "text": [
      "Event: {'review_keywords': {'feedback': '승인'}}\n",
      "Event: {'ready_to_search': {'ready_for_search': True}}\n",
      "Event: {'search_one': {'search_results': [{'keyword': 'LlamaIndex', 'data': [{'url': 'https://www.ibm.com/think/topics/llamaindex', 'title': 'What is LlamaIndex ? | IBM', 'content': 'LlamaIndex is an open source data orchestration framework for building large language model (LLM) applications. LlamaIndex is available in Python and TypeScript and leverages a combination of tools and capabilities that simplify the process of context augmentation for generative AI (gen AI) use cases through a Retrieval-Augmented (RAG) pipeline. Data agents are LLM-driven AI agents capable of performing a range of tasks on data, including both reading and writing functions.10LlamaIndex data agents are LLM-powered knowledge works that can perform the following: LlamaIndex provides tool abstractions that wrap around the existing data query engines and abstractions for functions that can be used by the tool spec class. LlamaIndex has a tutorial on how to build a chatbot that uses a Data Agent.', 'score': 0.9237645, 'raw_content': None}, {'url': 'https://www.linkedin.com/company/llamaindex', 'title': 'LlamaIndex - LinkedIn', 'content': 'Overview:\\nLlamaIndex empowers developers to build agents that extract insights and take action on complex enterprise documents. It combines industry-leading document parsing and extraction with a trusted framework for building intelligent agents that reason over documents, adapt to business logic, and scale to production. LlamaIndex is loved by developers and trusted by enterprises. Its open source framework is downloaded more than 4M+ every month and has processed more than 200 million documents on LlamaCloud.\\n\\nWebsite: https://www.llamaindex.ai/\\nCrunchbase Url: https://www.crunchbase.com/organization/llamaindex?utm_source=linkedin&utm_medium=referral&utm_campaign=linkedin_companies&utm_content=profile_cta_anon&trk=funding_crunchbase\\nLinkedin Url: https://www.linkedin.com/company/llamaindex\\n\\nIndustry:\\nTechnology, Information and Internet\\n\\nCompany size:\\n11-50 employees\\n73 associated members (LinkedIn members who’ve listed LlamaIndex as their current workplace on their profile)\\n\\nFounded:\\nN/A\\n\\nFunding:\\nLast Round Date: 2025-06-01T00:00:00.000Z\\nLast Round Type: Series unknown\\nTotal Rounds: 4\\nLast Round Raised: N/A\\n\\nInvestors:\\nKPMG ventures, Databricks Ventures', 'score': 0.86632514, 'raw_content': None}, {'url': 'https://www.llamaindex.ai/', 'title': 'LlamaIndex - Redefine Document Workflows with AI Agents', 'content': \"Core building blocks for AI agents](/llamaindex) [Workflows # Redefine document workflows with AI agents From high-accuracy parsing to a fully open agent framework — LlamaIndex gives you fully modular components to build document agents tailored to your data, your workflows, and your infrastructure. LlamaCloud powers enterprise-grade document automation with industry-best parsing, extraction, indexing, and retrieval — optimized for accuracy, configurability, and scalability. Workflows is an event-driven, async-first workflow engine that orchestrates multi-step AI processes, agents, and document pipelines with precision and control. > As an Applied AI Data Scientist at one of the world's largest Private Equity Funds, I can attest that LlamaIndex's LlamaParse stands out as the premier solution for parsing complex documents in Enterprise RAG pipelines.\", 'score': 0.796562, 'raw_content': None}], 'success': True}]}}\n",
      "Event: {'search_one': {'search_results': [{'keyword': '지식 그래프', 'data': [{'url': 'https://ko.wikipedia.org/wiki/%EC%A7%80%EC%8B%9D_%EA%B7%B8%EB%9E%98%ED%94%84', 'title': '지식 그래프 - 위키백과, 우리 모두의 백과사전', 'content': '지식 그래프는 개체, 이벤트, 상황 또는 추상적 개념과 같은 개체의 상호 연결된 설명을 저장하는 동시에 사용된 용어의 기본 의미 체계를 인코딩하는 데 자주 사용된다.', 'score': 0.9123193, 'raw_content': None}, {'url': 'https://blog.naver.com/thesedays_ai/223321209761', 'title': '벡터 DB의 한계를 보완할 Knowledge Graph(지식 그래프)', 'content': \"지식 그래프는 데이터 간의 직접적인 '관계성'으로 데이터를 매핑해 저장하기 때문에 고맥락이거나 포괄적인 질문에 대해 기존의 벡터 DB 방식보다 더욱\", 'score': 0.8732259, 'raw_content': None}, {'url': 'https://blog.altair.co.kr/an-introduction-to-knowledge-graphs/', 'title': '지식 그래프란? | 지식 그래프(Knowledge Graph)를 소개합니다.', 'content': '조직은 지식 그래프를 사용하여 데이터의 실제 의미를 파악하고 모든 사람이 데이터에 액세스하고 활용할 수 있도록 할 수 있습니다. 지식 그래프는 데이터 사일로를 제거하고 AI 애플리케이션의 정확성과 정교함을 높이는 데 핵심 역할을 합니다. 오늘날의 데이터 분석 도구는 초보자도 쉽게 지식 그래프를 구축할 수 있도록 지원해 모든 기술 수준의 사용자가 지식 그래프를 쉽게 만들 수 있게 해줍니다. 이 데이터 패브릭은 다른 데이터 과학 및 AI 플랫폼에서 더 잘 활용할 수 있는 것입니다. 코딩이 필요 없는 **Altair® Graph Studio™**는 초보자부터 전문가까지 누구나 조직의 전체 데이터 풀에서 지식 그래프를 구축할 수 있도록 지원합니다. Altair Graphic Studio는 초보자와 전문가 사용자 모두 조직의 전체 엔터프라이즈 데이터 풀에서 지식 그래프를 구축할 수 있습니다. * #### 지식 그래프 도입 가이드: 생성형 AI 기반 데이터 전략을 위한 10가지 질문', 'score': 0.8729662, 'raw_content': None}], 'success': True}]}}\n",
      "Event: {'search_one': {'search_results': [{'keyword': 'LangGraph', 'data': [{'url': 'https://www.ibm.com/think/topics/langgraph', 'title': 'What is LangGraph? - IBM', 'content': '*   [Overview](https://www.ibm.com/think/topics/ai-agents#7281535) *   [Overview](https://www.ibm.com/think/topics/components-of-ai-agents#498277090) *   [Learning](https://www.ibm.com/think/topics/ai-agent-learning#498277087) *   [Tutorial: LangGraph ReAct agent](https://www.ibm.com/think/tutorials/deploy-langgraph-react-agent-manage-it-support-tickets-watsonx-ai#1287801557) *   [Overview](https://www.ibm.com/think/topics/ai-agent-protocols#1509394340) *   [Tutorial: LangGraph ReAct agent](https://www.ibm.com/think/tutorials/deploy-langgraph-react-agent-manage-it-support-tickets-watsonx-ai#80364620) *   [Overview](https://www.ibm.com/think/insights/ai-agent-governance#1268897081) *   [Overview](https://www.ibm.com/think/topics/ai-agent-use-cases#257779831) *   [Human resources](https://www.ibm.com/think/topics/ai-agents-in-human-resources#257779835) LangGraph, created by [LangChain](https://www.ibm.com/think/topics/langchain), is an open source AI agent framework designed to build, deploy and manage complex generative AI agent workflows. At its core, LangGraph uses the power of graph-based architectures to model and manage the intricate relationships between various components of an [AI agent workflow](https://www.ibm.com/think/topics/ai-agents). LangGraph is also built on several key technologies, including [LangChain,](https://www.ibm.com/think/topics/langchain) a Python framework for building AI applications. By combining these technologies with a set of APIs and tools, LangGraph provides users with a versatile platform for developing AI solutions and workflows including [chatbots](https://www.ibm.com/think/topics/chatbots), state graphs and [other agent-based systems](https://www.ibm.com/think/topics/multiagent-system).', 'score': 0.93425745, 'raw_content': None}, {'url': 'https://github.com/langchain-ai/langgraph', 'title': 'langchain-ai/langgraph: Build resilient language agents as graphs.', 'content': '[Skip to content](https://github.com/langchain-ai/langgraph#start-of-content) [Reload](https://github.com/langchain-ai/langgraph) to refresh your session.You signed out in another tab or window. [Please reload this page](https://github.com/langchain-ai/langgraph). [MIT license](https://github.com/langchain-ai/langgraph/blob/main/LICENSE) [Please reload this page](https://github.com/langchain-ai/langgraph). *   [Code](https://github.com/langchain-ai/langgraph) *   [Issues 149](https://github.com/langchain-ai/langgraph/issues) *   [Pull requests 44](https://github.com/langchain-ai/langgraph/pulls) *   [Discussions](https://github.com/langchain-ai/langgraph/discussions) *   [Actions](https://github.com/langchain-ai/langgraph/actions) *   [Projects 0](https://github.com/langchain-ai/langgraph/projects) [There was an error while loading.](https://github.com/langchain-ai/langgraph/security)[Please reload this page](https://github.com/langchain-ai/langgraph). *   [Insights](https://github.com/langchain-ai/langgraph/pulse) *   [Code](https://github.com/langchain-ai/langgraph) *   [Issues](https://github.com/langchain-ai/langgraph/issues) *   [Pull requests](https://github.com/langchain-ai/langgraph/pulls) *   [Discussions](https://github.com/langchain-ai/langgraph/discussions) *   [Actions](https://github.com/langchain-ai/langgraph/actions) *   [Projects](https://github.com/langchain-ai/langgraph/projects) *   [Security](https://github.com/langchain-ai/langgraph/security) *   [Insights](https://github.com/langchain-ai/langgraph/pulse) *   [README](https://github.com/langchain-ai/langgraph#) *   [Contributing](https://github.com/langchain-ai/langgraph#) *   [MIT license](https://github.com/langchain-ai/langgraph#) *   [Security](https://github.com/langchain-ai/langgraph#) [](https://github.com/langchain-ai/langgraph#get-started) [](https://github.com/langchain-ai/langgraph#core-benefits) [](https://github.com/langchain-ai/langgraph#langgraphs-ecosystem) [](https://github.com/langchain-ai/langgraph#additional-resources) [](https://github.com/langchain-ai/langgraph#acknowledgements) [Readme](https://github.com/langchain-ai/langgraph#readme-ov-file) [MIT license](https://github.com/langchain-ai/langgraph#MIT-1-ov-file) [Contributing](https://github.com/langchain-ai/langgraph#contributing-ov-file) [Security policy](https://github.com/langchain-ai/langgraph#security-ov-file) [Please reload this page](https://github.com/langchain-ai/langgraph). [Activity](https://github.com/langchain-ai/langgraph/activity) [Custom properties](https://github.com/langchain-ai/langgraph/custom-properties) [**20.3k** stars](https://github.com/langchain-ai/langgraph/stargazers) [**121** watching](https://github.com/langchain-ai/langgraph/watchers) [**3.6k** forks](https://github.com/langchain-ai/langgraph/forks) [Releases 421](https://github.com/langchain-ai/langgraph/releases) [+ 420 releases](https://github.com/langchain-ai/langgraph/releases) [Used by 33.3k](https://github.com/langchain-ai/langgraph/network/dependents) [Contributors 269](https://github.com/langchain-ai/langgraph/graphs/contributors) [+ 255 contributors](https://github.com/langchain-ai/langgraph/graphs/contributors) *   [Python 99.3%](https://github.com/langchain-ai/langgraph/search?l=python)', 'score': 0.6907474, 'raw_content': None}, {'url': 'https://www.langchain.com/langgraph', 'title': 'LangGraph - LangChain', 'content': '[![Image 3](https://cdn.prod.website-files.com/65b8cd72835ceeacd4449a53/68e8e27023585643370a6471_icons.svg) LangChain Quick start agents with any model provider](https://www.langchain.com/langchain)[![Image 4](https://cdn.prod.website-files.com/65b8cd72835ceeacd4449a53/68e8e270417338c7f027082d_d035ce400e48f9bc4dd0578d0e3e3211_icons-1.svg) LangGraph Build custom agents with low-level control](https://www.langchain.com/langgraph)[![Image 5](https://cdn.prod.website-files.com/65b8cd72835ceeacd4449a53/68f20863b71dbae1af829979_DeepAgents.svg) Deep Agents New Use planning, memory, and sub-agents for complex, long-running tasks](https://github.com/langchain-ai/deepagents) [![Image 6](https://cdn.prod.website-files.com/65b8cd72835ceeacd4449a53/68e8e270df09334914882b88_Frame%209.svg) Observability Debug and monitor in-depth traces](https://www.langchain.com/langsmith/observability)[![Image 7](https://cdn.prod.website-files.com/65b8cd72835ceeacd4449a53/68e8e270f9e8de1d368764a8_Frame%20206.svg) Evaluation Iterate on prompts and models](https://www.langchain.com/langsmith/evaluation)[![Image 8](https://cdn.prod.website-files.com/65b8cd72835ceeacd4449a53/68e8e2709eef27fc61465416_Frame%20100039.svg) Deployment Ship and scale agents in production](https://www.langchain.com/langsmith/deployment) [See LangGraph use cases in production](https://www.langchain.com/built-with-langgraph) ![Image 11](https://cdn.prod.website-files.com/65c81e88c254bb0f97633a71/6811d1d39b2c6c806093f171_GitLab_logo_(2)%201.svg) ![Image 12](https://cdn.prod.website-files.com/65c81e88c254bb0f97633a71/6811d1c1c55df212370b53fd_logo_Elastic.svg) ![Image 17](https://cdn.prod.website-files.com/65c81e88c254bb0f97633a71/6811d1e509525a5b39a81208_unify%20logo%20-%20black%201.svg) ![Image 21](https://cdn.prod.website-files.com/65c81e88c254bb0f97633a71/6811d1d39b2c6c806093f171_GitLab_logo_(2)%201.svg) ![Image 22](https://cdn.prod.website-files.com/65c81e88c254bb0f97633a71/6811d1c1c55df212370b53fd_logo_Elastic.svg) ![Image 27](https://cdn.prod.website-files.com/65c81e88c254bb0f97633a71/6811d1e509525a5b39a81208_unify%20logo%20-%20black%201.svg) ![Image 31](https://cdn.prod.website-files.com/65c81e88c254bb0f97633a71/6811d1d39b2c6c806093f171_GitLab_logo_(2)%201.svg) ![Image 32](https://cdn.prod.website-files.com/65c81e88c254bb0f97633a71/6811d1c1c55df212370b53fd_logo_Elastic.svg) ![Image 37](https://cdn.prod.website-files.com/65c81e88c254bb0f97633a71/6811d1e509525a5b39a81208_unify%20logo%20-%20black%201.svg) ![Image 42](https://cdn.prod.website-files.com/65c81e88c254bb0f97633a71/6811d1c1c55df212370b53fd_logo_Elastic.svg) ![Image 47](https://cdn.prod.website-files.com/65c81e88c254bb0f97633a71/6811d1e509525a5b39a81208_unify%20logo%20-%20black%201.svg) ![Image 50](https://cdn.prod.website-files.com/65b8cd72835ceeacd4449a53/667b080e4b3ca12dc5d5d439_Langgraph%20UI-2.webp) ![Image 52](https://cdn.prod.website-files.com/65b8cd72835ceeacd4449a53/68663ca715b9bd5d707bee71_Modified-Human-in-the-loop_white.gif) ![Image 53](https://cdn.prod.website-files.com/65b8cd72835ceeacd4449a53/6865b895f061b6f892568ff6_Modified-Customizable-Agent-Architectures_white.gif) [See different agent architectures](https://docs.langchain.com/oss/python/langgraph/workflows-agents) [Learn about agent memory](https://docs.langchain.com/oss/python/langgraph/add-memory) ![Image 55](https://cdn.prod.website-files.com/65b8cd72835ceeacd4449a53/6865b8b7df5aea00af3a4554_Modified-Streaming-intermediate-steps_white.gif) [See how to use streaming](https://docs.langchain.com/oss/python/langgraph/streaming) [![Image 58](https://cdn.prod.website-files.com/65b8cd72835ceeacd4449a53/678e35d6c553c4fb20f9b753_Frame%2099644.webp)![Image 59](https://cdn.prod.website-files.com/65b8cd72835ceeacd4449a53/6787ae0bce5c99dd808545ce_card%202.webp)](https://academy.langchain.com/courses/intro-to-langgraph) ![Image 61](https://cdn.prod.website-files.com/65b8cd72835ceeacd4449a53/667b26a1b4576291d6a9335b_garrett%20spong%201.webp) ![Image 63](https://cdn.prod.website-files.com/65b8cd72835ceeacd4449a53/667b265bed5f5a9d26d6b7d6_andres%20torres%201.webp) ![Image 65](https://cdn.prod.website-files.com/65b8cd72835ceeacd4449a53/6679e2d31352c6bd56c84280_ally.png) ![Image 67](https://cdn.prod.website-files.com/65b8cd72835ceeacd4449a53/667b26a1b4576291d6a9335b_garrett%20spong%201.webp) ![Image 69](https://cdn.prod.website-files.com/65b8cd72835ceeacd4449a53/667b265bed5f5a9d26d6b7d6_andres%20torres%201.webp) ![Image 71](https://cdn.prod.website-files.com/65b8cd72835ceeacd4449a53/6679e2d31352c6bd56c84280_ally.png) ![Image 72](https://cdn.prod.website-files.com/65b8cd72835ceeacd4449a53/65c6a38f9c53ec71f5fc73de_langchain-word.svg)', 'score': 0.68090034, 'raw_content': None}], 'success': True}]}}\n",
      "Event: {'search_one': {'search_results': [{'keyword': '자연어 처리', 'data': [{'url': 'https://blog-ko.superb-ai.com/why-nlp-is-hard/', 'title': '자연어 처리(NLP)는 왜 어려울까?', 'content': '언제부터, 왜, 무엇을 계기로 인류가 언어를 쓰기 시작했는지 명확하지는 않지만 이러한 언어를 자연적으로 발생했다고 하여 자연어(Natural Language)라고 부른다. 자연어 처리(NLP, Natural Language Processing)란 자연적으로 발생한 인간의 언어를 컴퓨터가 보다 자연스럽게 이해하고 생성해 낼 수 있도록 하는 인공지능의 한 가지 분야다. 자연어 처리(NLP)는 또다시 자연어 이해(Natural Language Understanding, NLU)와 자연어 생성(Natural Language Generation, NLG)로 나뉘는데, 이를 위해 다양한 테크닉과 방법론에 관한 다양한 논문들이 지금 이 순간도 끊임없이 쏟아져 나오고 있다. 물론 최근에는 챗GPT 등 초거대언어모델(LLM)은 방대한 양의 텍스트로 된 학습 데이터와 편향(Bias)와 가중치(Weight)를 이용한 랜덤성 부여를 통해 이러한 문제를 해결하고자 했으나 인간의 언어를 컴퓨터가 구사하도록 하는 일은 여전히 어려운 일이다. 이러한 문제들을 해결하기 위해, 연구자들은 기계 학습 모델을 지속적으로 발전시키고 있으며, 더욱 진보된 알고리즘을 개발하여 컴퓨터가 인간의 언어를 더욱 정교하게 이해할 수 있도록 노력하고 있다.', 'score': 0.89545894, 'raw_content': None}, {'url': 'https://aws.amazon.com/ko/what-is/nlp/', 'title': '자연어 처리(NLP)란 무엇인가요? - Amazon AWS', 'content': '자연어 처리(NLP)는 컴퓨터가 인간의 언어를 해석, 조작 및 이해할 수 있도록 하는 기술입니다. NLP를 사용하여 조직은 이메일, 고객 피드백, 지원 티켓 및 소셜 미디어 게시물에 숨겨진 인사이트를 발굴할 수 있습니다. 기업은 자연어 처리(NLP) 소프트웨어 및 도구를 사용하여, 업무를 효율적이고 정확하게 단순화, 자동화 및 능률화합니다. 예를 들어, Chisel AI를 사용하면 보험사가 Amazon Comprehend를 사용하여 비정형 문서에서 보험 증권 번호, 만료 날짜 및 기타 개인 고객 속성을 추출할 수 있습니다 . NLP 기술을 사용하면, 채팅 및 음성 봇은 인간과 더 비슷한 방식으로 고객과 대화할 수 있습니다. 마케팅 담당자는 Amazon Comprehend 및 Amazon Lex와 같은 NLP 도구를 사용하여, 고객이 회사의 제품 또는 서비스에 대해 느끼는 감정에 대해 정보에 입각한 인식을 얻습니다. 자연어 처리(NLP)는 인간의 언어를 처리하기 위해 전산 언어학, 예측형 인공 지능 및 딥 러닝 모델을 결합합니다.', 'score': 0.87807417, 'raw_content': None}, {'url': 'https://www.oracle.com/kr/artificial-intelligence/natural-language-processing/', 'title': '자연어 처리(NLP)란? | Oracle 대한민국', 'content': \"자연어 처리(NLP)는 컴퓨터가 인간의 언어를 이해, 생성, 조작할 수 있도록 해주는 인공 지능(AI)의 한 분야입니다. **검색 효율 향상:** NLP는 문맥에 기반하여 단어 의미를 명확히 하고(예: '캐리어'는 생체의학과 산업 분야의 문맥에서 다른 의미를 가짐), 동의어를 매칭시키고(예: 'automobile' 검색 시 'car'가 언급된 문서 검색), 형태학적 변형을 고려(영어가 아닌 언어 질의와 관련하여 중요함)하여 문서에 대한 키워드 일치 검색 및 FAQ 검색 효율을 개선할 수 있습니다. 금융 분야의 거래자는 NLP 기술을 사용하여 기업 문서 및 보도 자료에서 정보를 자동으로 마이닝하여 포트폴리오 및 거래 결정과 관련된 정보를 추출할 수 있습니다. 토큰은 일반적으로 이후의 처리 과정에서 원자 단위로 처리되는 반복 텍스트 시퀀스로 단어, 형태소(예: 영어의 'un-'과 같은 접두사 또는 '-ing'과 같은 접미사)라고 하는 하위 단어 또는 개별 문자일 수 있습니다. **스페이시 NLP(SpaCy NLP):** SpaCy는 Python의 고급 NLP를 위한 무료 오픈 소스 라이브러리이로 대량의 텍스트를 처리 및 이해할 수 있는 애플리케이션의 구축에 도움을 줄 수 있도록 특별히 설계되었습니다.\", 'score': 0.8703443, 'raw_content': None}], 'success': True}]}}\n",
      "Event: {'search_one': {'search_results': [{'keyword': '정보 검색', 'data': [{'url': 'https://ko.wikipedia.org/wiki/%EC%A0%95%EB%B3%B4_%EA%B2%80%EC%83%89', 'title': '정보 검색 - 위키백과, 우리 모두의 백과사전', 'content': '# 정보 검색 링크 편집 **정보 검색**(情報檢索, information retrieval)은 집합적인 정보로부터 원하는 내용과 관련이 있는 부분을 얻어 내는 행위를 말한다. 자동화된 정보 검색 시스템은 소위 ‘정보 과부하’라 불리는 상태를 완화시키기 위해 사용된다. 많은 대학 및 공공 도서관들이 보유 서적 및 저널, 각종 문서들에 대한 접근성을 제공하기 위해 정보 검색 시스템을 구축한다. 웹 검색 엔진은 일상적으로 가장 쉽게 접할 수 있는 정보 검색 시스템 중 하나이다. 최초의 자동화 정보 검색 시스템은 1950~1960년대에 도입되었다. 이 프로그램의 목적은 대규모 텍스트를 위한 텍스트 검색 방법론의 성능 측정에 필요한 제반 시설을 지원함으로써 정보 검색 관련 학계를 후원하는 것이었다. ## 정보 검색 요소 ## 정보 검색 모델 정보 검색 모델에는 불리안 모델(boolean model), 벡터 모델(vector model) 등이 있다. * 정보 검색', 'score': 0.91362286, 'raw_content': None}, {'url': 'https://happydhkim.tistory.com/entry/%EC%A0%95%EB%B3%B4-%EA%B2%80%EC%83%89Information-Retrieval-IR%EC%9D%B4%EB%9E%80', 'title': '정보 검색(Information Retrieval, IR)이란? - 재미있는 개발 이야기.', 'content': '* 정보 검색(Information Retrieval, IR)이란? 정보 검색(Information Retrieval, IR)은 사용자가 필요로 하는 정보를 문서나 데이터베이스, 웹 등에서 찾아내는 기술과 연구 분야를 말합니다. 1. **문서 집합(Collection)**: 정보 검색 시스템은 검색 대상이 되는 문서 집합을 관리합니다. 3. **검색 엔진**: 문서 집합에서 쿼리와 관련된 문서를 찾아내는 소프트웨어입니다. 검색 엔진은 색인 생성, 쿼리 처리, 문서 순위 매기기 등의 과정을 포함합니다. + **자연어 처리(Natural Language Processing)**: 쿼리와 문서의 의미를 이해하고, 의미적 매칭을 수행하여 보다 정확한 검색 결과를 도출합니다. 검색 알고리즘은 문서 집합에서 사용자의 쿼리와 가장 관련 있는 문서를 찾아내는 기술입니다. + **기업 내 문서 검색**: 기업의 내부 문서를 효율적으로 관리하고 접근할 수 있도록 돕습니다. 효과적인 정보 검색 시스템은 사용자가 필요한 정보를 빠르고 정확하게 찾을 수 있도록 도와, 시간과 노력을 절약하며 보다 효율적인 의사결정을 가능하게 합니다.', 'score': 0.9014448, 'raw_content': None}, {'url': 'https://www.flowhunt.io/ko/%EC%9A%A9%EC%96%B4%EC%A7%91/information-retrieval/', 'title': '정보 검색 - FlowHunt', 'content': '정보 검색(IR)은 AI, NLP, 기계 학습을 활용하여 대용량 데이터셋에서 사용자의 정보 요구를 효율적이고 정확하게 충족하는 관련 정보를 얻는 과정입니다.', 'score': 0.885404, 'raw_content': None}], 'success': True}]}}\n",
      "Event: {'search_one': {'search_results': [{'keyword': '데이터 통합', 'data': [{'url': 'https://ko.wikipedia.org/wiki/%EB%8D%B0%EC%9D%B4%ED%84%B0_%ED%86%B5%ED%95%A9', 'title': '데이터 통합 - 위키백과, 우리 모두의 백과사전', 'content': '데이터 통합은 여러 출처의 데이터를 결합, 공유 또는 동기화하여 사용자에게 통합된 시각을 제공하는 과정이다. 데이터 통합은 상업적(예: 기업이 여러 데이터베이스', 'score': 0.9305657, 'raw_content': None}, {'url': 'https://www.servicenow.com/kr/workflows/creator-workflows/what-is-data-integration.html', 'title': '데이터 통합이란? - ServiceNow', 'content': '데이터 통합은 가용성을 높이고 더 쉽게 처리할 수 있도록 서로 다른 소스의 데이터를 통합하는 프로세스입니다. 앱 엔진 데모. ServiceNow AI Platform 대시보드.', 'score': 0.90849644, 'raw_content': None}, {'url': 'https://cloud.google.com/learn/what-is-data-integration?hl=ko', 'title': '데이터 통합이란? - Google Cloud', 'content': '데이터 통합은 출처가 다양한 데이터를 단일화되고 보다 가치 있는 데이터 뷰로 통합하여 기업에서 보다 빠르게 현명한 결정을 내릴 수 있도록 하는 프로세스입니다.', 'score': 0.9049283, 'raw_content': None}], 'success': True}]}}\n",
      "Event: {'search_one': {'search_results': [{'keyword': '언어 모델 인덱싱', 'data': [{'url': 'https://m.blog.naver.com/buksamfight/223388544425', 'title': '대규모 언어모델(LLM)의 환각현상을 줄이는 RAG(검색증강생성) 모델 ...', 'content': '... 인덱싱(Indexing) : 데이터 소스에서 데이터를 얻고 인덱스를 생성하는 과정(데이터 정제, 청크 분할, 벡터 인코딩 및 인덱스를 포함). 검색 모델', 'score': 0.8232293, 'raw_content': None}, {'url': 'https://www.ibm.com/kr-ko/think/topics/llamaindex', 'title': 'LlamaIndex란 무엇인가요? - IBM', 'content': 'LlamaIndex는 대규모 언어 모델(LLM) 애플리케이션을 구축하기 위한 오픈 소스 데이터 오케스트레이션 프레임워크입니다. LlamaIndex는 Python과 TypeScript로 제공', 'score': 0.64047897, 'raw_content': None}, {'url': 'https://dodghek.tistory.com/94', 'title': '생성형 AI 구축에 필요한 개념', 'content': 'LM (언어 모델, Language Model) 인간의 언어를 이해하고 생성하도록 ... 검색, 인덱싱 2개의 주요 컴포넌트로 구성; 파시스는 벡터 간 유사성을', 'score': 0.6002124, 'raw_content': None}], 'success': True}]}}\n",
      "Event: {'generate_report': {'report': '# LangGraph와 LlamaIndex 비교\\n\\n## 📌 요약\\nLangGraph와 LlamaIndex는 각각 AI 에이전트 및 대규모 언어 모델 애플리케이션을 위한 오픈소스 프레임워크로, LangGraph는 그래프 기반 구조를 활용하여 복잡한 생성 AI 워크플로우를 구축 및 관리하는 데 중점을 두고 있고, LlamaIndex는 데이터 오케스트레이션과 검색 기반 증강을 통해 문서 중심 AI 에이전트를 개발하는 데 특화되어 있다.\\n\\n## 🔍 주요 발견사항\\n1. LangGraph는 LangChain에서 개발된 오픈소스 AI 에이전트 프레임워크로, 그래프 기반 아키텍처를 활용하여 AI 에이전트 워크플로우 내 다양한 구성 요소 간의 복잡한 관계를 모델링하고 관리한다. (출처: IBM, https://www.ibm.com/think/topics/langgraph, GitHub https://github.com/langchain-ai/langgraph)\\n2. LangGraph는 Python 기반이며, 챗봇, 상태 그래프, 다중 에이전트 시스템 등 다양한 AI 솔루션 개발에 사용된다. (출처: LangChain 공식 https://www.langchain.com/langgraph)\\n3. LlamaIndex는 대규모 언어 모델(LLM) 애플리케이션 구축을 위한 데이터 오케스트레이션 프레임워크로, Retrieval-Augmented Generation(RAG) 파이프라인을 통해 문맥 보강을 단순화한다. (출처: IBM, https://www.ibm.com/think/topics/llamaindex)\\n4. LlamaIndex는 Python과 TypeScript에서 사용 가능하며, 문서 파싱 및 추출, 복잡한 문서에 대한 추론 및 비즈니스 로직 적응이 가능한 지능형 에이전트 구축을 지원한다. (출처: LinkedIn https://www.linkedin.com/company/llamaindex)\\n\\n## 💡 제언\\n1. 복잡한 AI 에이전트 워크플로우 및 그래프 기반 모델링이 필요한 경우 LangGraph 활용을 권장한다.\\n2. 문서 중심 데이터 처리 및 검색 기반 증강이 필요한 LLM 애플리케이션 개발에는 LlamaIndex가 적합하다.\\n3. 두 프레임워크 모두 오픈소스이며 활발한 커뮤니티와 문서 지원을 제공하므로, 목적에 맞게 선택하여 개발하면 효율적이다.\\n\\n---\\n*생성: 2025-10-31 19:41*\\n*검색: 7개 성공*'}}\n",
      "Event: {'__interrupt__': (Interrupt(value={'report_preview': '# LangGraph와 LlamaIndex 비교\\n\\n## 📌 요약\\nLangGraph와 LlamaIndex는 각각 AI 에이전트 및 대규모 언어 모델 애플리케이션을 위한 오픈소스 프레임워크로, LangGraph는 그래프 기반 구조를 활용하여 복잡한 생성 AI 워크플로우를 구축 및 관리하는 데 중점을 두고 있고, LlamaIndex는 데이터 오케스트레이션과 검색 기반 증강을 통해 문서 중심 AI 에이전트를 개발하는 데 특화되어 있다.\\n\\n## 🔍 주요 발견사항\\n1. LangGraph는 LangChain에서 개발된 오픈소스 AI 에이전트 프레임워크로, 그래프 기반 아키텍처를 활용하여 AI 에이전트 워크플로우 내 다양한 구성 요소 간의 복잡한 관계를 모델링하고 관리한다. (출처: IBM, https://www.ibm.com/think/topics/langgraph, GitHub https://github.com/langchain-ai/langgraph)\\n2. LangGraph는 Python 기...', 'instruction': \"보고서를 검토하세요. '승인' 또는 구체적인 수정 요청을 입력하세요:\"}, id='4fe62c6073a0b0bf5d6ef2a381cdbc99'),)}\n"
     ]
    }
   ],
   "source": [
    "from langgraph.types import Command\n",
    "\n",
    "# 사용자 피드백 제공 (승인 문자열을 사용)\n",
    "human_feedback = \"승인\"\n",
    "\n",
    "# 사용자 입력으로 그래프 재개\n",
    "for event in graph.stream(Command(resume=human_feedback), config=config): \n",
    "    print(f\"Event: {event}\")"
   ]
  },
  {
   "cell_type": "code",
   "execution_count": 49,
   "metadata": {},
   "outputs": [
    {
     "data": {
      "text/plain": [
       "{'messages': [AIMessage(content='키워드 7개 생성 (신뢰도: 90%)', additional_kwargs={}, response_metadata={}, id='b92f888b-9c3b-49f7-b288-18efb502f90a')],\n",
       " 'topic': 'LangGraph와 LlamaIndex 비교',\n",
       " 'keywords': ['LangGraph',\n",
       "  'LlamaIndex',\n",
       "  '지식 그래프',\n",
       "  '언어 모델 인덱싱',\n",
       "  '데이터 통합',\n",
       "  '자연어 처리',\n",
       "  '정보 검색'],\n",
       " 'ready_for_search': True,\n",
       " 'search_results': [{'keyword': 'LangGraph',\n",
       "   'data': [{'url': 'https://www.ibm.com/think/topics/langgraph',\n",
       "     'title': 'What is LangGraph? - IBM',\n",
       "     'content': '*   [Overview](https://www.ibm.com/think/topics/ai-agents#7281535) *   [Overview](https://www.ibm.com/think/topics/components-of-ai-agents#498277090) *   [Learning](https://www.ibm.com/think/topics/ai-agent-learning#498277087) *   [Tutorial: LangGraph ReAct agent](https://www.ibm.com/think/tutorials/deploy-langgraph-react-agent-manage-it-support-tickets-watsonx-ai#1287801557) *   [Overview](https://www.ibm.com/think/topics/ai-agent-protocols#1509394340) *   [Tutorial: LangGraph ReAct agent](https://www.ibm.com/think/tutorials/deploy-langgraph-react-agent-manage-it-support-tickets-watsonx-ai#80364620) *   [Overview](https://www.ibm.com/think/insights/ai-agent-governance#1268897081) *   [Overview](https://www.ibm.com/think/topics/ai-agent-use-cases#257779831) *   [Human resources](https://www.ibm.com/think/topics/ai-agents-in-human-resources#257779835) LangGraph, created by [LangChain](https://www.ibm.com/think/topics/langchain), is an open source AI agent framework designed to build, deploy and manage complex generative AI agent workflows. At its core, LangGraph uses the power of graph-based architectures to model and manage the intricate relationships between various components of an [AI agent workflow](https://www.ibm.com/think/topics/ai-agents). LangGraph is also built on several key technologies, including [LangChain,](https://www.ibm.com/think/topics/langchain) a Python framework for building AI applications. By combining these technologies with a set of APIs and tools, LangGraph provides users with a versatile platform for developing AI solutions and workflows including [chatbots](https://www.ibm.com/think/topics/chatbots), state graphs and [other agent-based systems](https://www.ibm.com/think/topics/multiagent-system).',\n",
       "     'score': 0.93425745,\n",
       "     'raw_content': None},\n",
       "    {'url': 'https://github.com/langchain-ai/langgraph',\n",
       "     'title': 'langchain-ai/langgraph: Build resilient language agents as graphs.',\n",
       "     'content': '[Skip to content](https://github.com/langchain-ai/langgraph#start-of-content) [Reload](https://github.com/langchain-ai/langgraph) to refresh your session.You signed out in another tab or window. [Please reload this page](https://github.com/langchain-ai/langgraph). [MIT license](https://github.com/langchain-ai/langgraph/blob/main/LICENSE) [Please reload this page](https://github.com/langchain-ai/langgraph). *   [Code](https://github.com/langchain-ai/langgraph) *   [Issues 149](https://github.com/langchain-ai/langgraph/issues) *   [Pull requests 44](https://github.com/langchain-ai/langgraph/pulls) *   [Discussions](https://github.com/langchain-ai/langgraph/discussions) *   [Actions](https://github.com/langchain-ai/langgraph/actions) *   [Projects 0](https://github.com/langchain-ai/langgraph/projects) [There was an error while loading.](https://github.com/langchain-ai/langgraph/security)[Please reload this page](https://github.com/langchain-ai/langgraph). *   [Insights](https://github.com/langchain-ai/langgraph/pulse) *   [Code](https://github.com/langchain-ai/langgraph) *   [Issues](https://github.com/langchain-ai/langgraph/issues) *   [Pull requests](https://github.com/langchain-ai/langgraph/pulls) *   [Discussions](https://github.com/langchain-ai/langgraph/discussions) *   [Actions](https://github.com/langchain-ai/langgraph/actions) *   [Projects](https://github.com/langchain-ai/langgraph/projects) *   [Security](https://github.com/langchain-ai/langgraph/security) *   [Insights](https://github.com/langchain-ai/langgraph/pulse) *   [README](https://github.com/langchain-ai/langgraph#) *   [Contributing](https://github.com/langchain-ai/langgraph#) *   [MIT license](https://github.com/langchain-ai/langgraph#) *   [Security](https://github.com/langchain-ai/langgraph#) [](https://github.com/langchain-ai/langgraph#get-started) [](https://github.com/langchain-ai/langgraph#core-benefits) [](https://github.com/langchain-ai/langgraph#langgraphs-ecosystem) [](https://github.com/langchain-ai/langgraph#additional-resources) [](https://github.com/langchain-ai/langgraph#acknowledgements) [Readme](https://github.com/langchain-ai/langgraph#readme-ov-file) [MIT license](https://github.com/langchain-ai/langgraph#MIT-1-ov-file) [Contributing](https://github.com/langchain-ai/langgraph#contributing-ov-file) [Security policy](https://github.com/langchain-ai/langgraph#security-ov-file) [Please reload this page](https://github.com/langchain-ai/langgraph). [Activity](https://github.com/langchain-ai/langgraph/activity) [Custom properties](https://github.com/langchain-ai/langgraph/custom-properties) [**20.3k** stars](https://github.com/langchain-ai/langgraph/stargazers) [**121** watching](https://github.com/langchain-ai/langgraph/watchers) [**3.6k** forks](https://github.com/langchain-ai/langgraph/forks) [Releases 421](https://github.com/langchain-ai/langgraph/releases) [+ 420 releases](https://github.com/langchain-ai/langgraph/releases) [Used by 33.3k](https://github.com/langchain-ai/langgraph/network/dependents) [Contributors 269](https://github.com/langchain-ai/langgraph/graphs/contributors) [+ 255 contributors](https://github.com/langchain-ai/langgraph/graphs/contributors) *   [Python 99.3%](https://github.com/langchain-ai/langgraph/search?l=python)',\n",
       "     'score': 0.6907474,\n",
       "     'raw_content': None},\n",
       "    {'url': 'https://www.langchain.com/langgraph',\n",
       "     'title': 'LangGraph - LangChain',\n",
       "     'content': '[![Image 3](https://cdn.prod.website-files.com/65b8cd72835ceeacd4449a53/68e8e27023585643370a6471_icons.svg) LangChain Quick start agents with any model provider](https://www.langchain.com/langchain)[![Image 4](https://cdn.prod.website-files.com/65b8cd72835ceeacd4449a53/68e8e270417338c7f027082d_d035ce400e48f9bc4dd0578d0e3e3211_icons-1.svg) LangGraph Build custom agents with low-level control](https://www.langchain.com/langgraph)[![Image 5](https://cdn.prod.website-files.com/65b8cd72835ceeacd4449a53/68f20863b71dbae1af829979_DeepAgents.svg) Deep Agents New Use planning, memory, and sub-agents for complex, long-running tasks](https://github.com/langchain-ai/deepagents) [![Image 6](https://cdn.prod.website-files.com/65b8cd72835ceeacd4449a53/68e8e270df09334914882b88_Frame%209.svg) Observability Debug and monitor in-depth traces](https://www.langchain.com/langsmith/observability)[![Image 7](https://cdn.prod.website-files.com/65b8cd72835ceeacd4449a53/68e8e270f9e8de1d368764a8_Frame%20206.svg) Evaluation Iterate on prompts and models](https://www.langchain.com/langsmith/evaluation)[![Image 8](https://cdn.prod.website-files.com/65b8cd72835ceeacd4449a53/68e8e2709eef27fc61465416_Frame%20100039.svg) Deployment Ship and scale agents in production](https://www.langchain.com/langsmith/deployment) [See LangGraph use cases in production](https://www.langchain.com/built-with-langgraph) ![Image 11](https://cdn.prod.website-files.com/65c81e88c254bb0f97633a71/6811d1d39b2c6c806093f171_GitLab_logo_(2)%201.svg) ![Image 12](https://cdn.prod.website-files.com/65c81e88c254bb0f97633a71/6811d1c1c55df212370b53fd_logo_Elastic.svg) ![Image 17](https://cdn.prod.website-files.com/65c81e88c254bb0f97633a71/6811d1e509525a5b39a81208_unify%20logo%20-%20black%201.svg) ![Image 21](https://cdn.prod.website-files.com/65c81e88c254bb0f97633a71/6811d1d39b2c6c806093f171_GitLab_logo_(2)%201.svg) ![Image 22](https://cdn.prod.website-files.com/65c81e88c254bb0f97633a71/6811d1c1c55df212370b53fd_logo_Elastic.svg) ![Image 27](https://cdn.prod.website-files.com/65c81e88c254bb0f97633a71/6811d1e509525a5b39a81208_unify%20logo%20-%20black%201.svg) ![Image 31](https://cdn.prod.website-files.com/65c81e88c254bb0f97633a71/6811d1d39b2c6c806093f171_GitLab_logo_(2)%201.svg) ![Image 32](https://cdn.prod.website-files.com/65c81e88c254bb0f97633a71/6811d1c1c55df212370b53fd_logo_Elastic.svg) ![Image 37](https://cdn.prod.website-files.com/65c81e88c254bb0f97633a71/6811d1e509525a5b39a81208_unify%20logo%20-%20black%201.svg) ![Image 42](https://cdn.prod.website-files.com/65c81e88c254bb0f97633a71/6811d1c1c55df212370b53fd_logo_Elastic.svg) ![Image 47](https://cdn.prod.website-files.com/65c81e88c254bb0f97633a71/6811d1e509525a5b39a81208_unify%20logo%20-%20black%201.svg) ![Image 50](https://cdn.prod.website-files.com/65b8cd72835ceeacd4449a53/667b080e4b3ca12dc5d5d439_Langgraph%20UI-2.webp) ![Image 52](https://cdn.prod.website-files.com/65b8cd72835ceeacd4449a53/68663ca715b9bd5d707bee71_Modified-Human-in-the-loop_white.gif) ![Image 53](https://cdn.prod.website-files.com/65b8cd72835ceeacd4449a53/6865b895f061b6f892568ff6_Modified-Customizable-Agent-Architectures_white.gif) [See different agent architectures](https://docs.langchain.com/oss/python/langgraph/workflows-agents) [Learn about agent memory](https://docs.langchain.com/oss/python/langgraph/add-memory) ![Image 55](https://cdn.prod.website-files.com/65b8cd72835ceeacd4449a53/6865b8b7df5aea00af3a4554_Modified-Streaming-intermediate-steps_white.gif) [See how to use streaming](https://docs.langchain.com/oss/python/langgraph/streaming) [![Image 58](https://cdn.prod.website-files.com/65b8cd72835ceeacd4449a53/678e35d6c553c4fb20f9b753_Frame%2099644.webp)![Image 59](https://cdn.prod.website-files.com/65b8cd72835ceeacd4449a53/6787ae0bce5c99dd808545ce_card%202.webp)](https://academy.langchain.com/courses/intro-to-langgraph) ![Image 61](https://cdn.prod.website-files.com/65b8cd72835ceeacd4449a53/667b26a1b4576291d6a9335b_garrett%20spong%201.webp) ![Image 63](https://cdn.prod.website-files.com/65b8cd72835ceeacd4449a53/667b265bed5f5a9d26d6b7d6_andres%20torres%201.webp) ![Image 65](https://cdn.prod.website-files.com/65b8cd72835ceeacd4449a53/6679e2d31352c6bd56c84280_ally.png) ![Image 67](https://cdn.prod.website-files.com/65b8cd72835ceeacd4449a53/667b26a1b4576291d6a9335b_garrett%20spong%201.webp) ![Image 69](https://cdn.prod.website-files.com/65b8cd72835ceeacd4449a53/667b265bed5f5a9d26d6b7d6_andres%20torres%201.webp) ![Image 71](https://cdn.prod.website-files.com/65b8cd72835ceeacd4449a53/6679e2d31352c6bd56c84280_ally.png) ![Image 72](https://cdn.prod.website-files.com/65b8cd72835ceeacd4449a53/65c6a38f9c53ec71f5fc73de_langchain-word.svg)',\n",
       "     'score': 0.68090034,\n",
       "     'raw_content': None}],\n",
       "   'success': True},\n",
       "  {'keyword': 'LlamaIndex',\n",
       "   'data': [{'url': 'https://www.ibm.com/think/topics/llamaindex',\n",
       "     'title': 'What is LlamaIndex ? | IBM',\n",
       "     'content': 'LlamaIndex is an open source data orchestration framework for building large language model (LLM) applications. LlamaIndex is available in Python and TypeScript and leverages a combination of tools and capabilities that simplify the process of context augmentation for generative AI (gen AI) use cases through a Retrieval-Augmented (RAG) pipeline. Data agents are LLM-driven AI agents capable of performing a range of tasks on data, including both reading and writing functions.10LlamaIndex data agents are LLM-powered knowledge works that can perform the following: LlamaIndex provides tool abstractions that wrap around the existing data query engines and abstractions for functions that can be used by the tool spec class. LlamaIndex has a tutorial on how to build a chatbot that uses a Data Agent.',\n",
       "     'score': 0.9237645,\n",
       "     'raw_content': None},\n",
       "    {'url': 'https://www.linkedin.com/company/llamaindex',\n",
       "     'title': 'LlamaIndex - LinkedIn',\n",
       "     'content': 'Overview:\\nLlamaIndex empowers developers to build agents that extract insights and take action on complex enterprise documents. It combines industry-leading document parsing and extraction with a trusted framework for building intelligent agents that reason over documents, adapt to business logic, and scale to production. LlamaIndex is loved by developers and trusted by enterprises. Its open source framework is downloaded more than 4M+ every month and has processed more than 200 million documents on LlamaCloud.\\n\\nWebsite: https://www.llamaindex.ai/\\nCrunchbase Url: https://www.crunchbase.com/organization/llamaindex?utm_source=linkedin&utm_medium=referral&utm_campaign=linkedin_companies&utm_content=profile_cta_anon&trk=funding_crunchbase\\nLinkedin Url: https://www.linkedin.com/company/llamaindex\\n\\nIndustry:\\nTechnology, Information and Internet\\n\\nCompany size:\\n11-50 employees\\n73 associated members (LinkedIn members who’ve listed LlamaIndex as their current workplace on their profile)\\n\\nFounded:\\nN/A\\n\\nFunding:\\nLast Round Date: 2025-06-01T00:00:00.000Z\\nLast Round Type: Series unknown\\nTotal Rounds: 4\\nLast Round Raised: N/A\\n\\nInvestors:\\nKPMG ventures, Databricks Ventures',\n",
       "     'score': 0.86632514,\n",
       "     'raw_content': None},\n",
       "    {'url': 'https://www.llamaindex.ai/',\n",
       "     'title': 'LlamaIndex - Redefine Document Workflows with AI Agents',\n",
       "     'content': \"Core building blocks for AI agents](/llamaindex) [Workflows # Redefine document workflows with AI agents From high-accuracy parsing to a fully open agent framework — LlamaIndex gives you fully modular components to build document agents tailored to your data, your workflows, and your infrastructure. LlamaCloud powers enterprise-grade document automation with industry-best parsing, extraction, indexing, and retrieval — optimized for accuracy, configurability, and scalability. Workflows is an event-driven, async-first workflow engine that orchestrates multi-step AI processes, agents, and document pipelines with precision and control. > As an Applied AI Data Scientist at one of the world's largest Private Equity Funds, I can attest that LlamaIndex's LlamaParse stands out as the premier solution for parsing complex documents in Enterprise RAG pipelines.\",\n",
       "     'score': 0.796562,\n",
       "     'raw_content': None}],\n",
       "   'success': True},\n",
       "  {'keyword': '지식 그래프',\n",
       "   'data': [{'url': 'https://ko.wikipedia.org/wiki/%EC%A7%80%EC%8B%9D_%EA%B7%B8%EB%9E%98%ED%94%84',\n",
       "     'title': '지식 그래프 - 위키백과, 우리 모두의 백과사전',\n",
       "     'content': '지식 그래프는 개체, 이벤트, 상황 또는 추상적 개념과 같은 개체의 상호 연결된 설명을 저장하는 동시에 사용된 용어의 기본 의미 체계를 인코딩하는 데 자주 사용된다.',\n",
       "     'score': 0.9123193,\n",
       "     'raw_content': None},\n",
       "    {'url': 'https://blog.naver.com/thesedays_ai/223321209761',\n",
       "     'title': '벡터 DB의 한계를 보완할 Knowledge Graph(지식 그래프)',\n",
       "     'content': \"지식 그래프는 데이터 간의 직접적인 '관계성'으로 데이터를 매핑해 저장하기 때문에 고맥락이거나 포괄적인 질문에 대해 기존의 벡터 DB 방식보다 더욱\",\n",
       "     'score': 0.8732259,\n",
       "     'raw_content': None},\n",
       "    {'url': 'https://blog.altair.co.kr/an-introduction-to-knowledge-graphs/',\n",
       "     'title': '지식 그래프란? | 지식 그래프(Knowledge Graph)를 소개합니다.',\n",
       "     'content': '조직은 지식 그래프를 사용하여 데이터의 실제 의미를 파악하고 모든 사람이 데이터에 액세스하고 활용할 수 있도록 할 수 있습니다. 지식 그래프는 데이터 사일로를 제거하고 AI 애플리케이션의 정확성과 정교함을 높이는 데 핵심 역할을 합니다. 오늘날의 데이터 분석 도구는 초보자도 쉽게 지식 그래프를 구축할 수 있도록 지원해 모든 기술 수준의 사용자가 지식 그래프를 쉽게 만들 수 있게 해줍니다. 이 데이터 패브릭은 다른 데이터 과학 및 AI 플랫폼에서 더 잘 활용할 수 있는 것입니다. 코딩이 필요 없는 **Altair® Graph Studio™**는 초보자부터 전문가까지 누구나 조직의 전체 데이터 풀에서 지식 그래프를 구축할 수 있도록 지원합니다. Altair Graphic Studio는 초보자와 전문가 사용자 모두 조직의 전체 엔터프라이즈 데이터 풀에서 지식 그래프를 구축할 수 있습니다. * #### 지식 그래프 도입 가이드: 생성형 AI 기반 데이터 전략을 위한 10가지 질문',\n",
       "     'score': 0.8729662,\n",
       "     'raw_content': None}],\n",
       "   'success': True},\n",
       "  {'keyword': '언어 모델 인덱싱',\n",
       "   'data': [{'url': 'https://m.blog.naver.com/buksamfight/223388544425',\n",
       "     'title': '대규모 언어모델(LLM)의 환각현상을 줄이는 RAG(검색증강생성) 모델 ...',\n",
       "     'content': '... 인덱싱(Indexing) : 데이터 소스에서 데이터를 얻고 인덱스를 생성하는 과정(데이터 정제, 청크 분할, 벡터 인코딩 및 인덱스를 포함). 검색 모델',\n",
       "     'score': 0.8232293,\n",
       "     'raw_content': None},\n",
       "    {'url': 'https://www.ibm.com/kr-ko/think/topics/llamaindex',\n",
       "     'title': 'LlamaIndex란 무엇인가요? - IBM',\n",
       "     'content': 'LlamaIndex는 대규모 언어 모델(LLM) 애플리케이션을 구축하기 위한 오픈 소스 데이터 오케스트레이션 프레임워크입니다. LlamaIndex는 Python과 TypeScript로 제공',\n",
       "     'score': 0.64047897,\n",
       "     'raw_content': None},\n",
       "    {'url': 'https://dodghek.tistory.com/94',\n",
       "     'title': '생성형 AI 구축에 필요한 개념',\n",
       "     'content': 'LM (언어 모델, Language Model) 인간의 언어를 이해하고 생성하도록 ... 검색, 인덱싱 2개의 주요 컴포넌트로 구성; 파시스는 벡터 간 유사성을',\n",
       "     'score': 0.6002124,\n",
       "     'raw_content': None}],\n",
       "   'success': True},\n",
       "  {'keyword': '데이터 통합',\n",
       "   'data': [{'url': 'https://ko.wikipedia.org/wiki/%EB%8D%B0%EC%9D%B4%ED%84%B0_%ED%86%B5%ED%95%A9',\n",
       "     'title': '데이터 통합 - 위키백과, 우리 모두의 백과사전',\n",
       "     'content': '데이터 통합은 여러 출처의 데이터를 결합, 공유 또는 동기화하여 사용자에게 통합된 시각을 제공하는 과정이다. 데이터 통합은 상업적(예: 기업이 여러 데이터베이스',\n",
       "     'score': 0.9305657,\n",
       "     'raw_content': None},\n",
       "    {'url': 'https://www.servicenow.com/kr/workflows/creator-workflows/what-is-data-integration.html',\n",
       "     'title': '데이터 통합이란? - ServiceNow',\n",
       "     'content': '데이터 통합은 가용성을 높이고 더 쉽게 처리할 수 있도록 서로 다른 소스의 데이터를 통합하는 프로세스입니다. 앱 엔진 데모. ServiceNow AI Platform 대시보드.',\n",
       "     'score': 0.90849644,\n",
       "     'raw_content': None},\n",
       "    {'url': 'https://cloud.google.com/learn/what-is-data-integration?hl=ko',\n",
       "     'title': '데이터 통합이란? - Google Cloud',\n",
       "     'content': '데이터 통합은 출처가 다양한 데이터를 단일화되고 보다 가치 있는 데이터 뷰로 통합하여 기업에서 보다 빠르게 현명한 결정을 내릴 수 있도록 하는 프로세스입니다.',\n",
       "     'score': 0.9049283,\n",
       "     'raw_content': None}],\n",
       "   'success': True},\n",
       "  {'keyword': '자연어 처리',\n",
       "   'data': [{'url': 'https://blog-ko.superb-ai.com/why-nlp-is-hard/',\n",
       "     'title': '자연어 처리(NLP)는 왜 어려울까?',\n",
       "     'content': '언제부터, 왜, 무엇을 계기로 인류가 언어를 쓰기 시작했는지 명확하지는 않지만 이러한 언어를 자연적으로 발생했다고 하여 자연어(Natural Language)라고 부른다. 자연어 처리(NLP, Natural Language Processing)란 자연적으로 발생한 인간의 언어를 컴퓨터가 보다 자연스럽게 이해하고 생성해 낼 수 있도록 하는 인공지능의 한 가지 분야다. 자연어 처리(NLP)는 또다시 자연어 이해(Natural Language Understanding, NLU)와 자연어 생성(Natural Language Generation, NLG)로 나뉘는데, 이를 위해 다양한 테크닉과 방법론에 관한 다양한 논문들이 지금 이 순간도 끊임없이 쏟아져 나오고 있다. 물론 최근에는 챗GPT 등 초거대언어모델(LLM)은 방대한 양의 텍스트로 된 학습 데이터와 편향(Bias)와 가중치(Weight)를 이용한 랜덤성 부여를 통해 이러한 문제를 해결하고자 했으나 인간의 언어를 컴퓨터가 구사하도록 하는 일은 여전히 어려운 일이다. 이러한 문제들을 해결하기 위해, 연구자들은 기계 학습 모델을 지속적으로 발전시키고 있으며, 더욱 진보된 알고리즘을 개발하여 컴퓨터가 인간의 언어를 더욱 정교하게 이해할 수 있도록 노력하고 있다.',\n",
       "     'score': 0.89545894,\n",
       "     'raw_content': None},\n",
       "    {'url': 'https://aws.amazon.com/ko/what-is/nlp/',\n",
       "     'title': '자연어 처리(NLP)란 무엇인가요? - Amazon AWS',\n",
       "     'content': '자연어 처리(NLP)는 컴퓨터가 인간의 언어를 해석, 조작 및 이해할 수 있도록 하는 기술입니다. NLP를 사용하여 조직은 이메일, 고객 피드백, 지원 티켓 및 소셜 미디어 게시물에 숨겨진 인사이트를 발굴할 수 있습니다. 기업은 자연어 처리(NLP) 소프트웨어 및 도구를 사용하여, 업무를 효율적이고 정확하게 단순화, 자동화 및 능률화합니다. 예를 들어, Chisel AI를 사용하면 보험사가 Amazon Comprehend를 사용하여 비정형 문서에서 보험 증권 번호, 만료 날짜 및 기타 개인 고객 속성을 추출할 수 있습니다 . NLP 기술을 사용하면, 채팅 및 음성 봇은 인간과 더 비슷한 방식으로 고객과 대화할 수 있습니다. 마케팅 담당자는 Amazon Comprehend 및 Amazon Lex와 같은 NLP 도구를 사용하여, 고객이 회사의 제품 또는 서비스에 대해 느끼는 감정에 대해 정보에 입각한 인식을 얻습니다. 자연어 처리(NLP)는 인간의 언어를 처리하기 위해 전산 언어학, 예측형 인공 지능 및 딥 러닝 모델을 결합합니다.',\n",
       "     'score': 0.87807417,\n",
       "     'raw_content': None},\n",
       "    {'url': 'https://www.oracle.com/kr/artificial-intelligence/natural-language-processing/',\n",
       "     'title': '자연어 처리(NLP)란? | Oracle 대한민국',\n",
       "     'content': \"자연어 처리(NLP)는 컴퓨터가 인간의 언어를 이해, 생성, 조작할 수 있도록 해주는 인공 지능(AI)의 한 분야입니다. **검색 효율 향상:** NLP는 문맥에 기반하여 단어 의미를 명확히 하고(예: '캐리어'는 생체의학과 산업 분야의 문맥에서 다른 의미를 가짐), 동의어를 매칭시키고(예: 'automobile' 검색 시 'car'가 언급된 문서 검색), 형태학적 변형을 고려(영어가 아닌 언어 질의와 관련하여 중요함)하여 문서에 대한 키워드 일치 검색 및 FAQ 검색 효율을 개선할 수 있습니다. 금융 분야의 거래자는 NLP 기술을 사용하여 기업 문서 및 보도 자료에서 정보를 자동으로 마이닝하여 포트폴리오 및 거래 결정과 관련된 정보를 추출할 수 있습니다. 토큰은 일반적으로 이후의 처리 과정에서 원자 단위로 처리되는 반복 텍스트 시퀀스로 단어, 형태소(예: 영어의 'un-'과 같은 접두사 또는 '-ing'과 같은 접미사)라고 하는 하위 단어 또는 개별 문자일 수 있습니다. **스페이시 NLP(SpaCy NLP):** SpaCy는 Python의 고급 NLP를 위한 무료 오픈 소스 라이브러리이로 대량의 텍스트를 처리 및 이해할 수 있는 애플리케이션의 구축에 도움을 줄 수 있도록 특별히 설계되었습니다.\",\n",
       "     'score': 0.8703443,\n",
       "     'raw_content': None}],\n",
       "   'success': True},\n",
       "  {'keyword': '정보 검색',\n",
       "   'data': [{'url': 'https://ko.wikipedia.org/wiki/%EC%A0%95%EB%B3%B4_%EA%B2%80%EC%83%89',\n",
       "     'title': '정보 검색 - 위키백과, 우리 모두의 백과사전',\n",
       "     'content': '# 정보 검색 링크 편집 **정보 검색**(情報檢索, information retrieval)은 집합적인 정보로부터 원하는 내용과 관련이 있는 부분을 얻어 내는 행위를 말한다. 자동화된 정보 검색 시스템은 소위 ‘정보 과부하’라 불리는 상태를 완화시키기 위해 사용된다. 많은 대학 및 공공 도서관들이 보유 서적 및 저널, 각종 문서들에 대한 접근성을 제공하기 위해 정보 검색 시스템을 구축한다. 웹 검색 엔진은 일상적으로 가장 쉽게 접할 수 있는 정보 검색 시스템 중 하나이다. 최초의 자동화 정보 검색 시스템은 1950~1960년대에 도입되었다. 이 프로그램의 목적은 대규모 텍스트를 위한 텍스트 검색 방법론의 성능 측정에 필요한 제반 시설을 지원함으로써 정보 검색 관련 학계를 후원하는 것이었다. ## 정보 검색 요소 ## 정보 검색 모델 정보 검색 모델에는 불리안 모델(boolean model), 벡터 모델(vector model) 등이 있다. * 정보 검색',\n",
       "     'score': 0.91362286,\n",
       "     'raw_content': None},\n",
       "    {'url': 'https://happydhkim.tistory.com/entry/%EC%A0%95%EB%B3%B4-%EA%B2%80%EC%83%89Information-Retrieval-IR%EC%9D%B4%EB%9E%80',\n",
       "     'title': '정보 검색(Information Retrieval, IR)이란? - 재미있는 개발 이야기.',\n",
       "     'content': '* 정보 검색(Information Retrieval, IR)이란? 정보 검색(Information Retrieval, IR)은 사용자가 필요로 하는 정보를 문서나 데이터베이스, 웹 등에서 찾아내는 기술과 연구 분야를 말합니다. 1. **문서 집합(Collection)**: 정보 검색 시스템은 검색 대상이 되는 문서 집합을 관리합니다. 3. **검색 엔진**: 문서 집합에서 쿼리와 관련된 문서를 찾아내는 소프트웨어입니다. 검색 엔진은 색인 생성, 쿼리 처리, 문서 순위 매기기 등의 과정을 포함합니다. + **자연어 처리(Natural Language Processing)**: 쿼리와 문서의 의미를 이해하고, 의미적 매칭을 수행하여 보다 정확한 검색 결과를 도출합니다. 검색 알고리즘은 문서 집합에서 사용자의 쿼리와 가장 관련 있는 문서를 찾아내는 기술입니다. + **기업 내 문서 검색**: 기업의 내부 문서를 효율적으로 관리하고 접근할 수 있도록 돕습니다. 효과적인 정보 검색 시스템은 사용자가 필요한 정보를 빠르고 정확하게 찾을 수 있도록 도와, 시간과 노력을 절약하며 보다 효율적인 의사결정을 가능하게 합니다.',\n",
       "     'score': 0.9014448,\n",
       "     'raw_content': None},\n",
       "    {'url': 'https://www.flowhunt.io/ko/%EC%9A%A9%EC%96%B4%EC%A7%91/information-retrieval/',\n",
       "     'title': '정보 검색 - FlowHunt',\n",
       "     'content': '정보 검색(IR)은 AI, NLP, 기계 학습을 활용하여 대용량 데이터셋에서 사용자의 정보 요구를 효율적이고 정확하게 충족하는 관련 정보를 얻는 과정입니다.',\n",
       "     'score': 0.885404,\n",
       "     'raw_content': None}],\n",
       "   'success': True}],\n",
       " 'report': '# LangGraph와 LlamaIndex 비교\\n\\n## 📌 요약\\nLangGraph와 LlamaIndex는 각각 AI 에이전트 및 대규모 언어 모델 애플리케이션을 위한 오픈소스 프레임워크로, LangGraph는 그래프 기반 구조를 활용하여 복잡한 생성 AI 워크플로우를 구축 및 관리하는 데 중점을 두고 있고, LlamaIndex는 데이터 오케스트레이션과 검색 기반 증강을 통해 문서 중심 AI 에이전트를 개발하는 데 특화되어 있다.\\n\\n## 🔍 주요 발견사항\\n1. LangGraph는 LangChain에서 개발된 오픈소스 AI 에이전트 프레임워크로, 그래프 기반 아키텍처를 활용하여 AI 에이전트 워크플로우 내 다양한 구성 요소 간의 복잡한 관계를 모델링하고 관리한다. (출처: IBM, https://www.ibm.com/think/topics/langgraph, GitHub https://github.com/langchain-ai/langgraph)\\n2. LangGraph는 Python 기반이며, 챗봇, 상태 그래프, 다중 에이전트 시스템 등 다양한 AI 솔루션 개발에 사용된다. (출처: LangChain 공식 https://www.langchain.com/langgraph)\\n3. LlamaIndex는 대규모 언어 모델(LLM) 애플리케이션 구축을 위한 데이터 오케스트레이션 프레임워크로, Retrieval-Augmented Generation(RAG) 파이프라인을 통해 문맥 보강을 단순화한다. (출처: IBM, https://www.ibm.com/think/topics/llamaindex)\\n4. LlamaIndex는 Python과 TypeScript에서 사용 가능하며, 문서 파싱 및 추출, 복잡한 문서에 대한 추론 및 비즈니스 로직 적응이 가능한 지능형 에이전트 구축을 지원한다. (출처: LinkedIn https://www.linkedin.com/company/llamaindex)\\n\\n## 💡 제언\\n1. 복잡한 AI 에이전트 워크플로우 및 그래프 기반 모델링이 필요한 경우 LangGraph 활용을 권장한다.\\n2. 문서 중심 데이터 처리 및 검색 기반 증강이 필요한 LLM 애플리케이션 개발에는 LlamaIndex가 적합하다.\\n3. 두 프레임워크 모두 오픈소스이며 활발한 커뮤니티와 문서 지원을 제공하므로, 목적에 맞게 선택하여 개발하면 효율적이다.\\n\\n---\\n*생성: 2025-10-31 19:41*\\n*검색: 7개 성공*',\n",
       " 'feedback': '승인'}"
      ]
     },
     "execution_count": 49,
     "metadata": {},
     "output_type": "execute_result"
    }
   ],
   "source": [
    "# 상태 출력\n",
    "current_state = graph.get_state(config)\n",
    "\n",
    "current_state.values"
   ]
  },
  {
   "cell_type": "code",
   "execution_count": 50,
   "metadata": {},
   "outputs": [
    {
     "data": {
      "text/plain": [
       "('review_report',)"
      ]
     },
     "execution_count": 50,
     "metadata": {},
     "output_type": "execute_result"
    }
   ],
   "source": [
    "# 다음 노드 출력\n",
    "current_state.next"
   ]
  },
  {
   "cell_type": "code",
   "execution_count": 51,
   "metadata": {},
   "outputs": [
    {
     "name": "stdout",
     "output_type": "stream",
     "text": [
      "Event: {'review_report': {'feedback': '비교표를 만들어서 추가하세요.'}}\n",
      "Event: {'revise_report': {'report': '# LangGraph와 LlamaIndex 비교\\n\\n## 📌 요약\\nLangGraph와 LlamaIndex는 각각 AI 에이전트 및 대규모 언어 모델 애플리케이션을 위한 오픈소스 프레임워크로, LangGraph는 그래프 기반 구조를 활용하여 복잡한 생성 AI 워크플로우를 구축 및 관리하는 데 중점을 두고 있고, LlamaIndex는 데이터 오케스트레이션과 검색 기반 증강을 통해 문서 중심 AI 에이전트를 개발하는 데 특화되어 있다.\\n\\n## 🔍 주요 발견사항\\n1. LangGraph는 LangChain에서 개발된 오픈소스 AI 에이전트 프레임워크로, 그래프 기반 아키텍처를 활용하여 AI 에이전트 워크플로우 내 다양한 구성 요소 간의 복잡한 관계를 모델링하고 관리한다. (출처: IBM, https://www.ibm.com/think/topics/langgraph, GitHub https://github.com/langchain-ai/langgraph)  \\n2. LangGraph는 Python 기반이며, 챗봇, 상태 그래프, 다중 에이전트 시스템 등 다양한 AI 솔루션 개발에 사용된다. (출처: LangChain 공식 https://www.langchain.com/langgraph)  \\n3. LlamaIndex는 대규모 언어 모델(LLM) 애플리케이션 구축을 위한 데이터 오케스트레이션 프레임워크로, Retrieval-Augmented Generation(RAG) 파이프라인을 통해 문맥 보강을 단순화한다. (출처: IBM, https://www.ibm.com/think/topics/llamaindex)  \\n4. LlamaIndex는 Python과 TypeScript에서 사용 가능하며, 문서 파싱 및 추출, 복잡한 문서에 대한 추론 및 비즈니스 로직 적응이 가능한 지능형 에이전트 구축을 지원한다. (출처: LinkedIn https://www.linkedin.com/company/llamaindex)\\n\\n## 📊 LangGraph와 LlamaIndex 비교표\\n\\n| 항목                | LangGraph                                      | LlamaIndex                                  |\\n|---------------------|-----------------------------------------------|---------------------------------------------|\\n| **개발사/출처**       | LangChain (IBM 등)                             | LlamaIndex (IBM 등)                         |\\n| **주요 목적**         | 그래프 기반 AI 에이전트 워크플로우 관리      | 데이터 오케스트레이션 및 문서 중심 LLM 애플리케이션 개발 |\\n| **구조**             | 그래프 기반 아키텍처                           | Retrieval-Augmented Generation(RAG) 파이프라인 |\\n| **지원 언어**         | Python                                        | Python, TypeScript                          |\\n| **주요 기능**         | - 복잡한 에이전트 관계 모델링 및 관리<br>- 챗봇, 상태 그래프, 다중 에이전트 시스템 지원 | - 문서 파싱 및 추출<br>- 문서 기반 추론 및 비즈니스 로직 적응<br>- 검색 기반 증강 |\\n| **적합한 활용 분야**   | 복잡한 AI 에이전트 워크플로우 및 그래프 모델링 | 문서 중심 데이터 처리 및 검색 기반 증강 LLM 애플리케이션 |\\n| **오픈소스 및 커뮤니티** | 활발한 커뮤니티 및 문서 지원                  | 활발한 커뮤니티 및 문서 지원                |\\n\\n## 💡 제언\\n1. 복잡한 AI 에이전트 워크플로우 및 그래프 기반 모델링이 필요한 경우 LangGraph 활용을 권장한다.  \\n2. 문서 중심 데이터 처리 및 검색 기반 증강이 필요한 LLM 애플리케이션 개발에는 LlamaIndex가 적합하다.  \\n3. 두 프레임워크 모두 오픈소스이며 활발한 커뮤니티와 문서 지원을 제공하므로, 목적에 맞게 선택하여 개발하면 효율적이다.\\n\\n---\\n*생성: 2025-10-31 19:41*  \\n*검색: 7개 성공*', 'feedback': '', 'messages': [AIMessage(content='📝 보고서가 수정되었습니다: 비교표를 만들어서 추가하세요....', additional_kwargs={}, response_metadata={}, id='3a71ee22-8a65-4a05-a62d-3ed4796abc58')]}}\n",
      "Event: {'__interrupt__': (Interrupt(value={'report_preview': '# LangGraph와 LlamaIndex 비교\\n\\n## 📌 요약\\nLangGraph와 LlamaIndex는 각각 AI 에이전트 및 대규모 언어 모델 애플리케이션을 위한 오픈소스 프레임워크로, LangGraph는 그래프 기반 구조를 활용하여 복잡한 생성 AI 워크플로우를 구축 및 관리하는 데 중점을 두고 있고, LlamaIndex는 데이터 오케스트레이션과 검색 기반 증강을 통해 문서 중심 AI 에이전트를 개발하는 데 특화되어 있다.\\n\\n## 🔍 주요 발견사항\\n1. LangGraph는 LangChain에서 개발된 오픈소스 AI 에이전트 프레임워크로, 그래프 기반 아키텍처를 활용하여 AI 에이전트 워크플로우 내 다양한 구성 요소 간의 복잡한 관계를 모델링하고 관리한다. (출처: IBM, https://www.ibm.com/think/topics/langgraph, GitHub https://github.com/langchain-ai/langgraph)  \\n2. LangGraph는 Python...', 'instruction': \"보고서를 검토하세요. '승인' 또는 구체적인 수정 요청을 입력하세요:\"}, id='3e91a0f3525873cde97a4a69bd037aac'),)}\n"
     ]
    }
   ],
   "source": [
    "from langgraph.types import Command\n",
    "\n",
    "# 사용자 피드백 제공 \n",
    "human_feedback = \"비교표를 만들어서 추가하세요.\"\n",
    "\n",
    "# 사용자 입력으로 그래프 재개\n",
    "for event in graph.stream(Command(resume=human_feedback), config=config): \n",
    "    print(f\"Event: {event}\")"
   ]
  },
  {
   "cell_type": "code",
   "execution_count": 52,
   "metadata": {},
   "outputs": [
    {
     "name": "stdout",
     "output_type": "stream",
     "text": [
      "# LangGraph와 LlamaIndex 비교\n",
      "\n",
      "## 📌 요약\n",
      "LangGraph와 LlamaIndex는 각각 AI 에이전트 및 대규모 언어 모델 애플리케이션을 위한 오픈소스 프레임워크로, LangGraph는 그래프 기반 구조를 활용하여 복잡한 생성 AI 워크플로우를 구축 및 관리하는 데 중점을 두고 있고, LlamaIndex는 데이터 오케스트레이션과 검색 기반 증강을 통해 문서 중심 AI 에이전트를 개발하는 데 특화되어 있다.\n",
      "\n",
      "## 🔍 주요 발견사항\n",
      "1. LangGraph는 LangChain에서 개발된 오픈소스 AI 에이전트 프레임워크로, 그래프 기반 아키텍처를 활용하여 AI 에이전트 워크플로우 내 다양한 구성 요소 간의 복잡한 관계를 모델링하고 관리한다. (출처: IBM, https://www.ibm.com/think/topics/langgraph, GitHub https://github.com/langchain-ai/langgraph)  \n",
      "2. LangGraph는 Python 기반이며, 챗봇, 상태 그래프, 다중 에이전트 시스템 등 다양한 AI 솔루션 개발에 사용된다. (출처: LangChain 공식 https://www.langchain.com/langgraph)  \n",
      "3. LlamaIndex는 대규모 언어 모델(LLM) 애플리케이션 구축을 위한 데이터 오케스트레이션 프레임워크로, Retrieval-Augmented Generation(RAG) 파이프라인을 통해 문맥 보강을 단순화한다. (출처: IBM, https://www.ibm.com/think/topics/llamaindex)  \n",
      "4. LlamaIndex는 Python과 TypeScript에서 사용 가능하며, 문서 파싱 및 추출, 복잡한 문서에 대한 추론 및 비즈니스 로직 적응이 가능한 지능형 에이전트 구축을 지원한다. (출처: LinkedIn https://www.linkedin.com/company/llamaindex)\n",
      "\n",
      "## 📊 LangGraph와 LlamaIndex 비교표\n",
      "\n",
      "| 항목                | LangGraph                                      | LlamaIndex                                  |\n",
      "|---------------------|-----------------------------------------------|---------------------------------------------|\n",
      "| **개발사/출처**       | LangChain (IBM 등)                             | LlamaIndex (IBM 등)                         |\n",
      "| **주요 목적**         | 그래프 기반 AI 에이전트 워크플로우 관리      | 데이터 오케스트레이션 및 문서 중심 LLM 애플리케이션 개발 |\n",
      "| **구조**             | 그래프 기반 아키텍처                           | Retrieval-Augmented Generation(RAG) 파이프라인 |\n",
      "| **지원 언어**         | Python                                        | Python, TypeScript                          |\n",
      "| **주요 기능**         | - 복잡한 에이전트 관계 모델링 및 관리<br>- 챗봇, 상태 그래프, 다중 에이전트 시스템 지원 | - 문서 파싱 및 추출<br>- 문서 기반 추론 및 비즈니스 로직 적응<br>- 검색 기반 증강 |\n",
      "| **적합한 활용 분야**   | 복잡한 AI 에이전트 워크플로우 및 그래프 모델링 | 문서 중심 데이터 처리 및 검색 기반 증강 LLM 애플리케이션 |\n",
      "| **오픈소스 및 커뮤니티** | 활발한 커뮤니티 및 문서 지원                  | 활발한 커뮤니티 및 문서 지원                |\n",
      "\n",
      "## 💡 제언\n",
      "1. 복잡한 AI 에이전트 워크플로우 및 그래프 기반 모델링이 필요한 경우 LangGraph 활용을 권장한다.  \n",
      "2. 문서 중심 데이터 처리 및 검색 기반 증강이 필요한 LLM 애플리케이션 개발에는 LlamaIndex가 적합하다.  \n",
      "3. 두 프레임워크 모두 오픈소스이며 활발한 커뮤니티와 문서 지원을 제공하므로, 목적에 맞게 선택하여 개발하면 효율적이다.\n",
      "\n",
      "---\n",
      "*생성: 2025-10-31 19:41*  \n",
      "*검색: 7개 성공*\n"
     ]
    }
   ],
   "source": [
    "# 상태 출력\n",
    "current_state = graph.get_state(config)\n",
    "print(current_state.values.get(\"report\", []))"
   ]
  },
  {
   "cell_type": "code",
   "execution_count": 53,
   "metadata": {},
   "outputs": [
    {
     "name": "stdout",
     "output_type": "stream",
     "text": [
      "Event: {'review_report': {'feedback': '승인'}}\n"
     ]
    }
   ],
   "source": [
    "from langgraph.types import Command\n",
    "\n",
    "# 사용자 피드백 제공 (승인 문자열을 사용)\n",
    "human_feedback = \"승인\"\n",
    "\n",
    "# 사용자 입력으로 그래프 재개\n",
    "for event in graph.stream(Command(resume=human_feedback), config=config): \n",
    "    print(f\"Event: {event}\")"
   ]
  },
  {
   "cell_type": "code",
   "execution_count": 54,
   "metadata": {},
   "outputs": [
    {
     "name": "stdout",
     "output_type": "stream",
     "text": [
      "# LangGraph와 LlamaIndex 비교\n",
      "\n",
      "## 📌 요약\n",
      "LangGraph와 LlamaIndex는 각각 AI 에이전트 및 대규모 언어 모델 애플리케이션을 위한 오픈소스 프레임워크로, LangGraph는 그래프 기반 구조를 활용하여 복잡한 생성 AI 워크플로우를 구축 및 관리하는 데 중점을 두고 있고, LlamaIndex는 데이터 오케스트레이션과 검색 기반 증강을 통해 문서 중심 AI 에이전트를 개발하는 데 특화되어 있다.\n",
      "\n",
      "## 🔍 주요 발견사항\n",
      "1. LangGraph는 LangChain에서 개발된 오픈소스 AI 에이전트 프레임워크로, 그래프 기반 아키텍처를 활용하여 AI 에이전트 워크플로우 내 다양한 구성 요소 간의 복잡한 관계를 모델링하고 관리한다. (출처: IBM, https://www.ibm.com/think/topics/langgraph, GitHub https://github.com/langchain-ai/langgraph)  \n",
      "2. LangGraph는 Python 기반이며, 챗봇, 상태 그래프, 다중 에이전트 시스템 등 다양한 AI 솔루션 개발에 사용된다. (출처: LangChain 공식 https://www.langchain.com/langgraph)  \n",
      "3. LlamaIndex는 대규모 언어 모델(LLM) 애플리케이션 구축을 위한 데이터 오케스트레이션 프레임워크로, Retrieval-Augmented Generation(RAG) 파이프라인을 통해 문맥 보강을 단순화한다. (출처: IBM, https://www.ibm.com/think/topics/llamaindex)  \n",
      "4. LlamaIndex는 Python과 TypeScript에서 사용 가능하며, 문서 파싱 및 추출, 복잡한 문서에 대한 추론 및 비즈니스 로직 적응이 가능한 지능형 에이전트 구축을 지원한다. (출처: LinkedIn https://www.linkedin.com/company/llamaindex)\n",
      "\n",
      "## 📊 LangGraph와 LlamaIndex 비교표\n",
      "\n",
      "| 항목                | LangGraph                                      | LlamaIndex                                  |\n",
      "|---------------------|-----------------------------------------------|---------------------------------------------|\n",
      "| **개발사/출처**       | LangChain (IBM 등)                             | LlamaIndex (IBM 등)                         |\n",
      "| **주요 목적**         | 그래프 기반 AI 에이전트 워크플로우 관리      | 데이터 오케스트레이션 및 문서 중심 LLM 애플리케이션 개발 |\n",
      "| **구조**             | 그래프 기반 아키텍처                           | Retrieval-Augmented Generation(RAG) 파이프라인 |\n",
      "| **지원 언어**         | Python                                        | Python, TypeScript                          |\n",
      "| **주요 기능**         | - 복잡한 에이전트 관계 모델링 및 관리<br>- 챗봇, 상태 그래프, 다중 에이전트 시스템 지원 | - 문서 파싱 및 추출<br>- 문서 기반 추론 및 비즈니스 로직 적응<br>- 검색 기반 증강 |\n",
      "| **적합한 활용 분야**   | 복잡한 AI 에이전트 워크플로우 및 그래프 모델링 | 문서 중심 데이터 처리 및 검색 기반 증강 LLM 애플리케이션 |\n",
      "| **오픈소스 및 커뮤니티** | 활발한 커뮤니티 및 문서 지원                  | 활발한 커뮤니티 및 문서 지원                |\n",
      "\n",
      "## 💡 제언\n",
      "1. 복잡한 AI 에이전트 워크플로우 및 그래프 기반 모델링이 필요한 경우 LangGraph 활용을 권장한다.  \n",
      "2. 문서 중심 데이터 처리 및 검색 기반 증강이 필요한 LLM 애플리케이션 개발에는 LlamaIndex가 적합하다.  \n",
      "3. 두 프레임워크 모두 오픈소스이며 활발한 커뮤니티와 문서 지원을 제공하므로, 목적에 맞게 선택하여 개발하면 효율적이다.\n",
      "\n",
      "---\n",
      "*생성: 2025-10-31 19:41*  \n",
      "*검색: 7개 성공*\n"
     ]
    }
   ],
   "source": [
    "# 마지막 상태 출력\n",
    "final_state = graph.get_state(config)\n",
    "\n",
    "# 최종 검색 결과 출력\n",
    "print(final_state.values.get(\"report\", []))"
   ]
  },
  {
   "cell_type": "code",
   "execution_count": 55,
   "metadata": {},
   "outputs": [
    {
     "data": {
      "text/plain": [
       "()"
      ]
     },
     "execution_count": 55,
     "metadata": {},
     "output_type": "execute_result"
    }
   ],
   "source": [
    "# 다음 노드 출력\n",
    "final_state.next"
   ]
  },
  {
   "cell_type": "markdown",
   "metadata": {},
   "source": [
    "---\n",
    "\n",
    "## **[실습]** 웹 검색 기반 리서치 시스템 구현 \n",
    "\n",
    "- HITL 활용 방법을 이해하고, \n",
    "- 웹 검색 기반 리서치 시스템을 개선합니다."
   ]
  },
  {
   "cell_type": "code",
   "execution_count": 56,
   "metadata": {},
   "outputs": [
    {
     "name": "stdout",
     "output_type": "stream",
     "text": [
      "============================================================\n",
      "실습 1: 새로운 주제로 리서치 시스템 실행\n",
      "============================================================\n",
      "\n",
      "[단계 1] 주제 분석 및 키워드 생성 시작...\n",
      "  → 키워드 생성 완료\n",
      "\n",
      "[상태 확인] 다음 노드: ('review_keywords',)\n",
      "\n",
      "[키워드 검토 요청]\n",
      "키워드 검토:\n",
      "1. 양자 컴퓨팅\n",
      "2. 양자 알고리즘\n",
      "3. 양자 우위\n",
      "4. 양자 하드웨어\n",
      "5. 퀀텀 소프트웨어\n",
      "6. 양자 암호화\n",
      "7. 양자 네트워크\n",
      "\n",
      "옵션:\n",
      "- '승인': 현재 키워드 사용\n",
      "- '재생성': 새 키워드 생성\n",
      "- '수정: 키워드1,키워드2,...': 직접 수정\n",
      "\n",
      "생성된 키워드: ['양자 컴퓨팅', '양자 알고리즘', '양자 우위', '양자 하드웨어', '퀀텀 소프트웨어', '양자 암호화', '양자 네트워크']\n",
      "\n",
      "============================================================\n",
      "실습 2: 키워드 승인 및 웹 검색 실행\n",
      "============================================================\n",
      "\n",
      "[사용자 피드백] 승인\n",
      "\n",
      "[단계 2] 웹 검색 및 보고서 생성 시작...\n",
      "  → 검색 준비 완료\n",
      "  → 웹 검색 진행 중...\n",
      "  → 웹 검색 진행 중...\n",
      "  → 웹 검색 진행 중...\n",
      "  → 웹 검색 진행 중...\n",
      "  → 웹 검색 진행 중...\n",
      "  → 웹 검색 진행 중...\n",
      "  → 웹 검색 진행 중...\n",
      "  → 보고서 생성 완료\n",
      "\n",
      "[상태 확인] 다음 노드: ('review_report',)\n",
      "\n",
      "[보고서 검토 요청]\n",
      "보고서를 검토하세요. '승인' 또는 구체적인 수정 요청을 입력하세요:\n",
      "\n",
      "보고서 미리보기:\n",
      "# 양자 컴퓨팅의 최신 동향\n",
      "\n",
      "## 📌 요약\n",
      "양자 컴퓨팅은 양자 역학의 원리를 활용하여 기존 컴퓨터로는 해결하기 어려운 문제를 빠르게 처리하는 혁신적인 기술로, 중첩과 양자 간섭 등의 현상을 이용한다. 최근 양자 컴퓨팅의 주요 동향으로는 하드웨어 기술 발전(초전도 큐비트, 이온트랩 큐비트), 양자 알고리즘 개발, 소프트웨어 플랫폼 강화, 양자 암호화 기술 및 양자 네트워크 구축이 활발히 진행되고 있다.\n",
      "\n",
      "## 🔍 주요 발견사항\n",
      "1. IBM, Amazon AWS, Microsoft 등 주요 IT 기업들이 양자 컴퓨팅의 원리와 응용 분야(기계 학습, 최적화, 물리 시스템 시뮬레이션 등)를 적극적으로 연구 및 소개 중이다.\n",
      "2. 양자 알고리즘은 양자역학 원리를 이용해 정확도를 높이고 오류 확률을 줄이는 방향으로 개발되고 있으며, Quantum Annealing 같은 조합 최적화 문제 해결법이 주목받고 있다.\n",
      "3. 양자 하드웨어 구현은 초전도 큐비트와 이온트랩 큐비트 방식이 대표적이며, I...\n",
      "\n",
      "============================================================\n",
      "실습 3: 보고서 수정 요청\n",
      "============================================================\n",
      "\n",
      "[사용자 피드백] 각 키워드별로 핵심 내용을 요약해서 추가해주세요.\n",
      "\n",
      "[단계 3] 보고서 수정 중...\n",
      "  → 수정된 보고서 검토 대기 중...\n",
      "  → 보고서 수정 완료\n",
      "\n",
      "[수정된 보고서 미리보기]\n",
      "# 양자 컴퓨팅의 최신 동향\n",
      "\n",
      "## 📌 요약\n",
      "양자 컴퓨팅은 양자 역학의 원리를 활용하여 기존 컴퓨터로는 해결하기 어려운 문제를 빠르게 처리하는 혁신적인 기술로, 중첩과 양자 간섭 등의 현상을 이용한다. 최근 양자 컴퓨팅의 주요 동향으로는 하드웨어 기술 발전(초전도 큐비트, 이온트랩 큐비트), 양자 알고리즘 개발, 소프트웨어 플랫폼 강화, 양자 암호화 기술 및 양자 네트워크 구축이 활발히 진행되고 있다.\n",
      "\n",
      "## 🔍 주요 발견사항\n",
      "1. IBM, Amazon AWS, Microsoft 등 주요 IT 기업들이 양자 컴퓨팅의 원리와 응용 분야(기계 학습, 최적화, 물리 시스템 시뮬레이션 등)를 적극적으로 연구 및 소개 중이다.\n",
      "2. 양자 알고리즘은 양자역학 원리를 이용해 정확도를 높이고 오류 확률을 줄이는 방향으로 개발되고 있으며, Quantum Annealing 같은 조합 최적화 문제 해결법이 주목받고 있다.\n",
      "3. 양자 하드웨어 구현은 초전도 큐비트와 이온트랩 큐비트 방식이 대표적이며, I...\n",
      "\n",
      "============================================================\n",
      "실습 4: 최종 승인 및 완료\n",
      "============================================================\n",
      "\n",
      "[사용자 피드백] 승인\n",
      "\n",
      "[단계 4] 워크플로우 완료...\n",
      "\n",
      "[완료] 워크플로우 상태: ()\n",
      "\n",
      "============================================================\n",
      "최종 보고서\n",
      "============================================================\n",
      "# 양자 컴퓨팅의 최신 동향\n",
      "\n",
      "## 📌 요약\n",
      "양자 컴퓨팅은 양자 역학의 원리를 활용하여 기존 컴퓨터로는 해결하기 어려운 문제를 빠르게 처리하는 혁신적인 기술로, 중첩과 양자 간섭 등의 현상을 이용한다. 최근 양자 컴퓨팅의 주요 동향으로는 하드웨어 기술 발전(초전도 큐비트, 이온트랩 큐비트), 양자 알고리즘 개발, 소프트웨어 플랫폼 강화, 양자 암호화 기술 및 양자 네트워크 구축이 활발히 진행되고 있다.\n",
      "\n",
      "## 🔍 주요 발견사항\n",
      "1. IBM, Amazon AWS, Microsoft 등 주요 IT 기업들이 양자 컴퓨팅의 원리와 응용 분야(기계 학습, 최적화, 물리 시스템 시뮬레이션 등)를 적극적으로 연구 및 소개 중이다.\n",
      "2. 양자 알고리즘은 양자역학 원리를 이용해 정확도를 높이고 오류 확률을 줄이는 방향으로 개발되고 있으며, Quantum Annealing 같은 조합 최적화 문제 해결법이 주목받고 있다.\n",
      "3. 양자 하드웨어 구현은 초전도 큐비트와 이온트랩 큐비트 방식이 대표적이며, IBM 등에서 양자 프로세서 및 양자 칩 개발이 진행 중이다.\n",
      "4. 양자 소프트웨어는 프로그래밍 언어, 컴파일러, 시뮬레이션, 디버깅 도구 등으로 구성되며, IBM Quantum, Amazon Braket 등 클라우드 기반 플랫폼들이 사용자 접근성을 높이고 있다.\n",
      "5. 양자 암호화는 양자역학 법칙에 기반해 보안성을 극대화하며, IBM과 DigiCert 등에서 관련 기술과 포스트 양자 암호화 연구가 활발하다.\n",
      "6. 양자 네트워크는 양자 프로세서 간 큐비트 전송 등을 가능케 하여 양자 컴퓨팅과 암호화의 기반이 되며, 위키백과와 한국양자정보학회 등에서 이론과 실제 구현 사례를 소개한다.\n",
      "\n",
      "## 🔑 핵심 키워드 요약\n",
      "- **양자 컴퓨팅**: 양자 중첩과 간섭 현상을 이용해 기존 컴퓨터로는 어려운 문제를 빠르게 해결하는 혁신 기술.\n",
      "- **하드웨어**: 초전도 큐비트와 이온트랩 큐비트가 주요 구현 방식이며, IBM 등에서 양자 칩 개발을 선도.\n",
      "- **양자 알고리즘**: 오류율 감소와 정확도 향상에 초점을 맞추며, Quantum Annealing 방식이 조합 최적화에 주목받음.\n",
      "- **소프트웨어 플랫폼**: 프로그래밍 언어, 컴파일러, 시뮬레이션, 디버깅 도구 포함, IBM Quantum과 Amazon Braket 같은 클라우드 플랫폼이 접근성 강화.\n",
      "- **양자 암호화**: 양자역학 원리 기반 보안 기술로, 포스트 양자 암호화 연구가 활발히 진행 중.\n",
      "- **양자 네트워크**: 큐비트 전송 기반으로 양자 컴퓨팅 및 암호화의 핵심 인프라 역할 수행, 표준화 및 실제 구현 연구가 활발.\n",
      "\n",
      "## 💡 제언\n",
      "1. 기업 및 연구기관은 초전도 및 이온트랩 큐비트 기술을 중심으로 하드웨어 성능 개선에 집중해야 한다.\n",
      "2. 양자 알고리즘 개발과 최적화 문제 해결에 대한 연구 투자를 확대해 실용적 응용 가능성을 높여야 한다.\n",
      "3. 클라우드 기반 양자 소프트웨어 플랫폼을 활용해 접근성을 향상시키고, 개발자 교육과 지원을 강화해야 한다.\n",
      "4. 양자 암호화 기술을 조기에 도입하여 보안 경쟁력 확보에 나서야 하며, 포스트 양자 암호화 연구에도 적극 참여해야 한다.\n",
      "5. 양자 네트워크 구축 및 표준화 작업을 지원하여 양자 컴퓨팅 생태계 확장에 기여해야 한다.\n",
      "\n",
      "---\n",
      "*생성: 2025-10-31 19:42*  \n",
      "*검색: 7개 성공*\n",
      "\n",
      "\n",
      "============================================================\n",
      "실습 완료!\n",
      "============================================================\n",
      "\n",
      "💡 학습 포인트:\n",
      "1. interrupt()를 활용한 동적 브레이크포인트 구현\n",
      "2. Command(resume=value)를 통한 사용자 피드백 전달\n",
      "3. get_state()를 통한 현재 상태 및 interrupt 정보 확인\n",
      "4. 다중 HITL 지점이 있는 복잡한 워크플로우 구현\n",
      "\n",
      "🎯 추가 실습 아이디어:\n",
      "- 다른 주제로 테스트 (initial_state의 'topic' 변경)\n",
      "- 키워드 재생성 또는 직접 수정 테스트\n",
      "- 보고서 다양한 수정 요청 테스트\n",
      "- 에러 처리 로직 추가\n",
      "\n"
     ]
    }
   ],
   "source": [
    "# ===== [실습] 웹 검색 기반 리서치 시스템 개선 =====\n",
    "\n",
    "# 이 실습에서는 앞에서 학습한 HITL 기능을 활용하여\n",
    "# 웹 검색 기반 리서치 시스템을 테스트합니다.\n",
    "\n",
    "# 실습 1: 새로운 주제로 전체 워크플로우 실행\n",
    "print(\"=\" * 60)\n",
    "print(\"실습 1: 새로운 주제로 리서치 시스템 실행\")\n",
    "print(\"=\" * 60)\n",
    "\n",
    "# 초기 상태 설정 - 관심있는 주제로 변경 가능\n",
    "initial_state = {\n",
    "    \"topic\": \"양자 컴퓨팅의 최신 동향\"  # 원하는 주제로 수정하세요\n",
    "}\n",
    "\n",
    "# 스레드 설정\n",
    "config = {\"configurable\": {\"thread_id\": \"practice_thread_1\"}}\n",
    "\n",
    "# 워크플로우 실행 - interrupt까지 실행\n",
    "print(\"\\n[단계 1] 주제 분석 및 키워드 생성 시작...\")\n",
    "for event in graph.stream(initial_state, config=config):\n",
    "    if \"analyze_topic\" in event:\n",
    "        print(f\"  → 키워드 생성 완료\")\n",
    "    if \"review_keywords\" in event:\n",
    "        print(f\"  → 키워드 검토 대기 중...\")\n",
    "\n",
    "# 현재 상태 확인\n",
    "current_state = graph.get_state(config)\n",
    "print(f\"\\n[상태 확인] 다음 노드: {current_state.next}\")\n",
    "\n",
    "# interrupt 정보 확인\n",
    "if current_state.tasks:\n",
    "    task = current_state.tasks[0]\n",
    "    interrupt_info = task.interrupts[0].value\n",
    "    print(f\"\\n[키워드 검토 요청]\")\n",
    "    print(interrupt_info.get(\"question\", \"\"))\n",
    "    print(f\"\\n생성된 키워드: {interrupt_info.get('keywords', [])}\")\n",
    "\n",
    "# 실습 2: 키워드 승인 및 검색 진행\n",
    "print(\"\\n\" + \"=\" * 60)\n",
    "print(\"실습 2: 키워드 승인 및 웹 검색 실행\")\n",
    "print(\"=\" * 60)\n",
    "\n",
    "from langgraph.types import Command\n",
    "\n",
    "# 키워드 승인 (다른 옵션: \"재생성\" 또는 \"수정: 키워드1, 키워드2\")\n",
    "human_feedback = \"승인\"\n",
    "print(f\"\\n[사용자 피드백] {human_feedback}\")\n",
    "\n",
    "# 워크플로우 재개 - 웹 검색 및 보고서 생성\n",
    "print(\"\\n[단계 2] 웹 검색 및 보고서 생성 시작...\")\n",
    "for event in graph.stream(Command(resume=human_feedback), config=config):\n",
    "    if \"ready_to_search\" in event:\n",
    "        print(\"  → 검색 준비 완료\")\n",
    "    if \"search_one\" in event:\n",
    "        print(\"  → 웹 검색 진행 중...\")\n",
    "    if \"generate_report\" in event:\n",
    "        print(\"  → 보고서 생성 완료\")\n",
    "    if \"review_report\" in event:\n",
    "        print(\"  → 보고서 검토 대기 중...\")\n",
    "\n",
    "# 보고서 검토 상태 확인\n",
    "current_state = graph.get_state(config)\n",
    "if current_state.tasks:\n",
    "    print(f\"\\n[상태 확인] 다음 노드: {current_state.next}\")\n",
    "    task = current_state.tasks[0]\n",
    "    interrupt_info = task.interrupts[0].value\n",
    "    print(f\"\\n[보고서 검토 요청]\")\n",
    "    print(interrupt_info.get(\"instruction\", \"\"))\n",
    "    print(f\"\\n보고서 미리보기:\")\n",
    "    print(interrupt_info.get(\"report_preview\", \"\"))\n",
    "\n",
    "# 실습 3: 보고서 수정 요청 테스트\n",
    "print(\"\\n\" + \"=\" * 60)\n",
    "print(\"실습 3: 보고서 수정 요청\")\n",
    "print(\"=\" * 60)\n",
    "\n",
    "# 보고서 수정 요청 (예: 더 구체적인 내용 추가 요청)\n",
    "report_feedback = \"각 키워드별로 핵심 내용을 요약해서 추가해주세요.\"\n",
    "print(f\"\\n[사용자 피드백] {report_feedback}\")\n",
    "\n",
    "# 보고서 수정 진행\n",
    "print(\"\\n[단계 3] 보고서 수정 중...\")\n",
    "for event in graph.stream(Command(resume=report_feedback), config=config):\n",
    "    if \"revise_report\" in event:\n",
    "        print(\"  → 보고서 수정 완료\")\n",
    "    if \"review_report\" in event:\n",
    "        print(\"  → 수정된 보고서 검토 대기 중...\")\n",
    "\n",
    "# 수정된 보고서 확인\n",
    "current_state = graph.get_state(config)\n",
    "if current_state.tasks:\n",
    "    task = current_state.tasks[0]\n",
    "    interrupt_info = task.interrupts[0].value\n",
    "    print(f\"\\n[수정된 보고서 미리보기]\")\n",
    "    print(interrupt_info.get(\"report_preview\", \"\"))\n",
    "\n",
    "# 실습 4: 최종 승인 및 완료\n",
    "print(\"\\n\" + \"=\" * 60)\n",
    "print(\"실습 4: 최종 승인 및 완료\")\n",
    "print(\"=\" * 60)\n",
    "\n",
    "# 최종 승인\n",
    "final_feedback = \"승인\"\n",
    "print(f\"\\n[사용자 피드백] {final_feedback}\")\n",
    "\n",
    "# 워크플로우 완료\n",
    "print(\"\\n[단계 4] 워크플로우 완료...\")\n",
    "for event in graph.stream(Command(resume=final_feedback), config=config):\n",
    "    pass\n",
    "\n",
    "# 최종 결과 출력\n",
    "final_state = graph.get_state(config)\n",
    "print(f\"\\n[완료] 워크플로우 상태: {final_state.next}\")\n",
    "\n",
    "print(\"\\n\" + \"=\" * 60)\n",
    "print(\"최종 보고서\")\n",
    "print(\"=\" * 60)\n",
    "print(final_state.values.get(\"report\", \"\"))\n",
    "\n",
    "print(\"\\n\\n\" + \"=\" * 60)\n",
    "print(\"실습 완료!\")\n",
    "print(\"=\" * 60)\n",
    "print(\"\"\"\n",
    "💡 학습 포인트:\n",
    "1. interrupt()를 활용한 동적 브레이크포인트 구현\n",
    "2. Command(resume=value)를 통한 사용자 피드백 전달\n",
    "3. get_state()를 통한 현재 상태 및 interrupt 정보 확인\n",
    "4. 다중 HITL 지점이 있는 복잡한 워크플로우 구현\n",
    "\n",
    "🎯 추가 실습 아이디어:\n",
    "- 다른 주제로 테스트 (initial_state의 'topic' 변경)\n",
    "- 키워드 재생성 또는 직접 수정 테스트\n",
    "- 보고서 다양한 수정 요청 테스트\n",
    "- 에러 처리 로직 추가\n",
    "\"\"\")"
   ]
  }
 ],
 "metadata": {
  "kernelspec": {
   "display_name": "modu3",
   "language": "python",
   "name": "python3"
  },
  "language_info": {
   "codemirror_mode": {
    "name": "ipython",
    "version": 3
   },
   "file_extension": ".py",
   "mimetype": "text/x-python",
   "name": "python",
   "nbconvert_exporter": "python",
   "pygments_lexer": "ipython3",
   "version": "3.12.12"
  }
 },
 "nbformat": 4,
 "nbformat_minor": 2
}
