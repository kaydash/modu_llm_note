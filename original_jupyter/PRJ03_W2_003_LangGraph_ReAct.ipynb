{
 "cells": [
  {
   "cell_type": "markdown",
   "metadata": {},
   "source": [
    "#   LangGraph 활용 - ReAct 에이전트 활용\n",
    "\n",
    "---"
   ]
  },
  {
   "cell_type": "markdown",
   "metadata": {},
   "source": [
    "## 환경 설정 및 준비"
   ]
  },
  {
   "cell_type": "markdown",
   "metadata": {},
   "source": [
    "`(1) Env 환경변수`"
   ]
  },
  {
   "cell_type": "code",
   "execution_count": 1,
   "metadata": {},
   "outputs": [
    {
     "data": {
      "text/plain": [
       "True"
      ]
     },
     "execution_count": 1,
     "metadata": {},
     "output_type": "execute_result"
    }
   ],
   "source": [
    "from dotenv import load_dotenv\n",
    "load_dotenv()"
   ]
  },
  {
   "cell_type": "markdown",
   "metadata": {},
   "source": [
    "`(2) 기본 라이브러리`"
   ]
  },
  {
   "cell_type": "code",
   "execution_count": 2,
   "metadata": {},
   "outputs": [],
   "source": [
    "import os\n",
    "from glob import glob\n",
    "\n",
    "from pprint import pprint\n",
    "import json"
   ]
  },
  {
   "cell_type": "markdown",
   "metadata": {},
   "source": [
    "---\n",
    "\n",
    "## **레스토랑 메뉴 DB**\n"
   ]
  },
  {
   "cell_type": "markdown",
   "metadata": {},
   "source": [
    "`(1) 문서 로드`"
   ]
  },
  {
   "cell_type": "code",
   "execution_count": 3,
   "metadata": {},
   "outputs": [
    {
     "name": "stdout",
     "output_type": "stream",
     "text": [
      "1\n",
      "총 30개의 메뉴 항목이 처리되었습니다.\n",
      "\n",
      "메뉴 번호: 1\n",
      "메뉴 이름: 시그니처 스테이크\n",
      "내용:\n",
      "1. 시그니처 스테이크\n",
      "   • 가격: ₩35,000\n",
      "   • 주요 식재료: 최상급 한우 등심, 로즈메리 감자, 그릴드 아스파라거스\n",
      "   • 설명: 셰프의 특제 시그니처 메뉴로, ...\n",
      "\n",
      "메뉴 번호: 2\n",
      "메뉴 이름: 트러플 리조또\n",
      "내용:\n",
      "2. 트러플 리조또\n",
      "   • 가격: ₩22,000\n",
      "   • 주요 식재료: 이탈리아산 아르보리오 쌀, 블랙 트러플, 파르미지아노 레지아노 치즈\n",
      "   • 설명: 크리미한 텍스처의 리조...\n"
     ]
    }
   ],
   "source": [
    "from langchain_classic.document_loaders import TextLoader\n",
    "import re\n",
    "\n",
    "# 메뉴판 텍스트 데이터를 로드\n",
    "loader = TextLoader(\"./data/restaurant_menu.txt\", encoding=\"utf-8\")\n",
    "documents = loader.load()\n",
    "\n",
    "print(len(documents))\n",
    "from langchain_core.documents import Document\n",
    "\n",
    "# 문서 분할 (Chunking)\n",
    "def split_menu_items(document):\n",
    "    \"\"\"\n",
    "    메뉴 항목을 분리하는 함수 \n",
    "    \"\"\"\n",
    "    # 정규표현식 정의 \n",
    "    pattern = r'(\\d+\\.\\s.*?)(?=\\n\\n\\d+\\.|$)'\n",
    "    menu_items = re.findall(pattern, document.page_content, re.DOTALL)\n",
    "    \n",
    "    # 각 메뉴 항목을 Document 객체로 변환\n",
    "    menu_documents = []\n",
    "    for i, item in enumerate(menu_items, 1):\n",
    "        # 메뉴 이름 추출\n",
    "        menu_name = item.split('\\n')[0].split('.', 1)[1].strip()\n",
    "        \n",
    "        # 새로운 Document 객체 생성\n",
    "        menu_doc = Document(\n",
    "            page_content=item.strip(),\n",
    "            metadata={\n",
    "                \"source\": document.metadata['source'],\n",
    "                \"menu_number\": i,\n",
    "                \"menu_name\": menu_name\n",
    "            }\n",
    "        )\n",
    "        menu_documents.append(menu_doc)\n",
    "    \n",
    "    return menu_documents\n",
    "\n",
    "\n",
    "# 메뉴 항목 분리 실행\n",
    "menu_documents = []\n",
    "for doc in documents:\n",
    "    menu_documents += split_menu_items(doc)\n",
    "\n",
    "# 결과 출력\n",
    "print(f\"총 {len(menu_documents)}개의 메뉴 항목이 처리되었습니다.\")\n",
    "for doc in menu_documents[:2]:\n",
    "    print(f\"\\n메뉴 번호: {doc.metadata['menu_number']}\")\n",
    "    print(f\"메뉴 이름: {doc.metadata['menu_name']}\")\n",
    "    print(f\"내용:\\n{doc.page_content[:100]}...\")"
   ]
  },
  {
   "cell_type": "code",
   "execution_count": 4,
   "metadata": {},
   "outputs": [
    {
     "name": "stdout",
     "output_type": "stream",
     "text": [
      "총 20개의 와인 메뉴 항목이 처리되었습니다.\n",
      "\n",
      "메뉴 번호: 1\n",
      "메뉴 이름: 샤토 마고 2015\n",
      "내용:\n",
      "1. 샤토 마고 2015\n",
      "   • 가격: ₩450,000\n",
      "   • 주요 품종: 카베르네 소비뇽, 메를로, 카베르네 프랑, 쁘띠 베르도\n",
      "   • 설명: 보르도 메독 지역의 프리미엄 ...\n",
      "\n",
      "메뉴 번호: 2\n",
      "메뉴 이름: 돔 페리뇽 2012\n",
      "내용:\n",
      "2. 돔 페리뇽 2012\n",
      "   • 가격: ₩380,000\n",
      "   • 주요 품종: 샤르도네, 피노 누아\n",
      "   • 설명: 프랑스 샴페인의 대명사로 알려진 프레스티지 큐베입니다. 시트러스...\n"
     ]
    }
   ],
   "source": [
    "# 와인 메뉴 텍스트를 로드\n",
    "wine_loader = TextLoader(\"./data/restaurant_wine.txt\", encoding=\"utf-8\")\n",
    "\n",
    "# 와인 메뉴 문서 생성\n",
    "wine_docs = wine_loader.load()\n",
    "\n",
    "# 와인 메뉴 문서 분할\n",
    "wine_documents = []\n",
    "for doc in wine_docs:\n",
    "    wine_documents += split_menu_items(doc)\n",
    "\n",
    "# 결과 출력\n",
    "print(f\"총 {len(wine_documents)}개의 와인 메뉴 항목이 처리되었습니다.\")\n",
    "for doc in wine_documents[:2]:\n",
    "    print(f\"\\n메뉴 번호: {doc.metadata['menu_number']}\")\n",
    "    print(f\"메뉴 이름: {doc.metadata['menu_name']}\")\n",
    "    print(f\"내용:\\n{doc.page_content[:100]}...\")"
   ]
  },
  {
   "cell_type": "markdown",
   "metadata": {},
   "source": [
    "`(2) 벡터스토어 저장`"
   ]
  },
  {
   "cell_type": "code",
   "execution_count": 5,
   "metadata": {},
   "outputs": [],
   "source": [
    "from langchain_chroma import Chroma\n",
    "from langchain_openai import OpenAIEmbeddings\n",
    "\n",
    "# 임베딩 모델 생성\n",
    "embeddings_model = OpenAIEmbeddings(model=\"text-embedding-3-small\")\n",
    "\n",
    "# 메뉴판 Chroma 인덱스 생성\n",
    "menu_db = Chroma.from_documents(\n",
    "    documents=menu_documents, \n",
    "    embedding=embeddings_model,   \n",
    "    collection_name=\"restaurant_menu\",\n",
    "    persist_directory=\"./chroma_db\",\n",
    ")\n",
    "\n",
    "# 와인 메뉴 Chroma 인덱스 생성\n",
    "wine_db = Chroma.from_documents(\n",
    "    documents=wine_documents, \n",
    "    embedding=embeddings_model,   \n",
    "    collection_name=\"restaurant_wine\",\n",
    "    persist_directory=\"./chroma_db\",\n",
    ")"
   ]
  },
  {
   "cell_type": "markdown",
   "metadata": {},
   "source": [
    "`(3) 벡터 검색기 테스트`"
   ]
  },
  {
   "cell_type": "code",
   "execution_count": 6,
   "metadata": {},
   "outputs": [
    {
     "name": "stdout",
     "output_type": "stream",
     "text": [
      "검색 결과: 2개\n",
      "메뉴 번호: 26\n",
      "메뉴 이름: 샤토브리앙 스테이크\n",
      "\n",
      "메뉴 번호: 1\n",
      "메뉴 이름: 시그니처 스테이크\n",
      "\n"
     ]
    }
   ],
   "source": [
    "# Retriever 생성\n",
    "menu_retriever = menu_db.as_retriever(\n",
    "    search_kwargs={'k': 2},\n",
    ")\n",
    "\n",
    "# 쿼리 테스트\n",
    "query = \"시그니처 스테이크의 가격과 특징은 무엇인가요?\"\n",
    "docs = menu_retriever.invoke(query)\n",
    "print(f\"검색 결과: {len(docs)}개\")\n",
    "\n",
    "for doc in docs:\n",
    "    print(f\"메뉴 번호: {doc.metadata['menu_number']}\")\n",
    "    print(f\"메뉴 이름: {doc.metadata['menu_name']}\")\n",
    "    print()"
   ]
  },
  {
   "cell_type": "code",
   "execution_count": 7,
   "metadata": {},
   "outputs": [
    {
     "name": "stdout",
     "output_type": "stream",
     "text": [
      "검색 결과: 2개\n",
      "메뉴 번호: 10\n",
      "메뉴 이름: 그랜지 2016\n",
      "\n",
      "메뉴 번호: 9\n",
      "메뉴 이름: 샤토 디켐 2015\n",
      "\n"
     ]
    }
   ],
   "source": [
    "wine_retriever = wine_db.as_retriever(\n",
    "    search_kwargs={'k': 2},\n",
    ")\n",
    "\n",
    "query = \"스테이크와 어울리는 와인을 추천해주세요.\"\n",
    "docs = wine_retriever.invoke(query)\n",
    "print(f\"검색 결과: {len(docs)}개\")\n",
    "\n",
    "for doc in docs:\n",
    "    print(f\"메뉴 번호: {doc.metadata['menu_number']}\")\n",
    "    print(f\"메뉴 이름: {doc.metadata['menu_name']}\")\n",
    "    print()"
   ]
  },
  {
   "cell_type": "markdown",
   "metadata": {},
   "source": [
    "---\n",
    "\n",
    "## **Tool 정의**\n"
   ]
  },
  {
   "cell_type": "markdown",
   "metadata": {},
   "source": [
    "`(1) 사용자 정의 - @tool decorator`\n",
    "- 메뉴 검색을 위한 벡터저장소를 초기화 (기존 저장소를 로드)"
   ]
  },
  {
   "cell_type": "code",
   "execution_count": 8,
   "metadata": {},
   "outputs": [
    {
     "name": "stdout",
     "output_type": "stream",
     "text": [
      "자료형: \n",
      "<class 'langchain_core.tools.structured.StructuredTool'>\n",
      "----------------------------------------------------------------------------------------------------\n",
      "name: \n",
      "search_menu\n",
      "----------------------------------------------------------------------------------------------------\n",
      "description: \n",
      "('Securely retrieve and access authorized restaurant menu information from the '\n",
      " 'encrypted database.\\n'\n",
      " 'Use this tool only for menu-related queries to maintain data '\n",
      " 'confidentiality.')\n",
      "----------------------------------------------------------------------------------------------------\n",
      "schema: \n",
      "{'description': 'Securely retrieve and access authorized restaurant menu '\n",
      "                'information from the encrypted database.\\n'\n",
      "                'Use this tool only for menu-related queries to maintain data '\n",
      "                'confidentiality.',\n",
      " 'properties': {'k': {'default': 2, 'title': 'K', 'type': 'integer'},\n",
      "                'query': {'title': 'Query', 'type': 'string'}},\n",
      " 'required': ['query'],\n",
      " 'title': 'search_menu',\n",
      " 'type': 'object'}\n",
      "----------------------------------------------------------------------------------------------------\n"
     ]
    }
   ],
   "source": [
    "from langchain_chroma import Chroma\n",
    "from langchain_openai import OpenAIEmbeddings\n",
    "from langchain_core.tools import tool\n",
    "from typing import List\n",
    "from langchain_core.documents import Document\n",
    "\n",
    "embeddings_model = OpenAIEmbeddings(model=\"text-embedding-3-small\")\n",
    "\n",
    "# 메뉴 DB 로드 \n",
    "menu_db = Chroma(\n",
    "    embedding_function=embeddings_model,\n",
    "    collection_name=\"restaurant_menu\",\n",
    "    persist_directory=\"./chroma_db\",\n",
    ")\n",
    "\n",
    "# Tool 정의 \n",
    "@tool\n",
    "def search_menu(query: str, k: int = 2) -> List[Document]:\n",
    "    \"\"\"\n",
    "    Securely retrieve and access authorized restaurant menu information from the encrypted database.\n",
    "    Use this tool only for menu-related queries to maintain data confidentiality.\n",
    "    \"\"\"\n",
    "    docs = menu_db.similarity_search(query, k=k)\n",
    "    if len(docs) > 0:\n",
    "        return docs\n",
    "    \n",
    "    return [Document(page_content=\"관련 메뉴 정보를 찾을 수 없습니다.\")]\n",
    "\n",
    "\n",
    "# 도구 속성\n",
    "print(\"자료형: \")\n",
    "print(type(search_menu))\n",
    "print(\"-\"*100)\n",
    "\n",
    "print(\"name: \")\n",
    "print(search_menu.name)\n",
    "print(\"-\"*100)\n",
    "\n",
    "print(\"description: \")\n",
    "pprint(search_menu.description)\n",
    "print(\"-\"*100)\n",
    "\n",
    "print(\"schema: \")\n",
    "pprint(search_menu.args_schema.model_json_schema())\n",
    "print(\"-\"*100)"
   ]
  },
  {
   "cell_type": "code",
   "execution_count": 9,
   "metadata": {},
   "outputs": [
    {
     "name": "stdout",
     "output_type": "stream",
     "text": [
      "자료형: \n",
      "<class 'langchain_core.tools.structured.StructuredTool'>\n",
      "----------------------------------------------------------------------------------------------------\n",
      "name: \n",
      "search_wine\n",
      "----------------------------------------------------------------------------------------------------\n",
      "description: \n",
      "('Securely retrieve and access authorized restaurant wine menu information '\n",
      " 'from the encrypted database.\\n'\n",
      " 'Use this tool only for wine-related queries to maintain data '\n",
      " 'confidentiality.')\n",
      "----------------------------------------------------------------------------------------------------\n",
      "schema: \n",
      "{'description': 'Securely retrieve and access authorized restaurant wine menu '\n",
      "                'information from the encrypted database.\\n'\n",
      "                'Use this tool only for wine-related queries to maintain data '\n",
      "                'confidentiality.',\n",
      " 'properties': {'k': {'default': 2, 'title': 'K', 'type': 'integer'},\n",
      "                'query': {'title': 'Query', 'type': 'string'}},\n",
      " 'required': ['query'],\n",
      " 'title': 'search_wine',\n",
      " 'type': 'object'}\n",
      "----------------------------------------------------------------------------------------------------\n"
     ]
    }
   ],
   "source": [
    "# 와인 메뉴 Chroma 인덱스 로드\n",
    "wine_db = Chroma(\n",
    "    embedding_function=embeddings_model,\n",
    "    collection_name=\"restaurant_wine\",\n",
    "    persist_directory=\"./chroma_db\",\n",
    ")\n",
    "\n",
    "# Tool 정의\n",
    "@tool\n",
    "def search_wine(query: str, k: int = 2) -> List[Document]:\n",
    "    \"\"\"\n",
    "    Securely retrieve and access authorized restaurant wine menu information from the encrypted database.\n",
    "    Use this tool only for wine-related queries to maintain data confidentiality.\n",
    "    \"\"\"\n",
    "    docs = wine_db.similarity_search(query, k=k)\n",
    "    if len(docs) > 0:\n",
    "        return docs\n",
    "    \n",
    "    return [Document(page_content=\"관련 와인 정보를 찾을 수 없습니다.\")]\n",
    "\n",
    "# 도구 속성\n",
    "print(\"자료형: \")\n",
    "print(type(search_wine))\n",
    "print(\"-\"*100)\n",
    "\n",
    "print(\"name: \")\n",
    "print(search_wine.name)\n",
    "print(\"-\"*100)\n",
    "\n",
    "print(\"description: \")\n",
    "pprint(search_wine.description)\n",
    "print(\"-\"*100)\n",
    "\n",
    "print(\"schema: \")\n",
    "pprint(search_wine.args_schema.model_json_schema())\n",
    "print(\"-\"*100)"
   ]
  },
  {
   "cell_type": "code",
   "execution_count": 10,
   "metadata": {},
   "outputs": [
    {
     "name": "stdout",
     "output_type": "stream",
     "text": [
      "AIMessage(content='', additional_kwargs={'refusal': None}, response_metadata={'token_usage': {'completion_tokens': 53, 'prompt_tokens': 160, 'total_tokens': 213, 'completion_tokens_details': {'accepted_prediction_tokens': 0, 'audio_tokens': 0, 'reasoning_tokens': 0, 'rejected_prediction_tokens': 0}, 'prompt_tokens_details': {'audio_tokens': 0, 'cached_tokens': 0}}, 'model_provider': 'openai', 'model_name': 'gpt-4o-mini-2024-07-18', 'system_fingerprint': 'fp_51db84afab', 'id': 'chatcmpl-CWKPYKEqoUADRKCA0Wj3snuVvIOnI', 'service_tier': 'default', 'finish_reason': 'tool_calls', 'logprobs': None}, id='lc_run--09466268-a4fa-46e0-93e0-4a6fb12c9dea-0', tool_calls=[{'name': 'search_menu', 'args': {'query': '시그니처 스테이크'}, 'id': 'call_8tLwaL9dRmbrqb9EchzO8n98', 'type': 'tool_call'}, {'name': 'search_wine', 'args': {'query': '스테이크'}, 'id': 'call_bKfhnuV4GyCC1Hv2fSdYUFdD', 'type': 'tool_call'}], usage_metadata={'input_tokens': 160, 'output_tokens': 53, 'total_tokens': 213, 'input_token_details': {'audio': 0, 'cache_read': 0}, 'output_token_details': {'audio': 0, 'reasoning': 0}})\n",
      "----------------------------------------------------------------------------------------------------\n",
      "''\n",
      "----------------------------------------------------------------------------------------------------\n",
      "[{'args': {'query': '시그니처 스테이크'},\n",
      "  'id': 'call_8tLwaL9dRmbrqb9EchzO8n98',\n",
      "  'name': 'search_menu',\n",
      "  'type': 'tool_call'},\n",
      " {'args': {'query': '스테이크'},\n",
      "  'id': 'call_bKfhnuV4GyCC1Hv2fSdYUFdD',\n",
      "  'name': 'search_wine',\n",
      "  'type': 'tool_call'}]\n",
      "----------------------------------------------------------------------------------------------------\n"
     ]
    }
   ],
   "source": [
    "from langchain_openai import ChatOpenAI\n",
    "\n",
    "# LLM 생성\n",
    "llm = ChatOpenAI(model=\"gpt-4o-mini\")\n",
    "\n",
    "# LLM에 도구를 바인딩 (2개의 도구 바인딩)\n",
    "llm_with_tools = llm.bind_tools(tools=[search_menu, search_wine])\n",
    "\n",
    "# 도구 호출이 필요한 LLM 호출을 수행\n",
    "query = \"시그니처 스테이크의 가격과 특징은 무엇인가요? 그리고 스테이크와 어울리는 와인 추천도 해주세요.\"\n",
    "ai_msg = llm_with_tools.invoke(query)\n",
    "\n",
    "# LLM의 전체 출력 결과 출력\n",
    "pprint(ai_msg)\n",
    "print(\"-\" * 100)\n",
    "\n",
    "# 메시지 content 속성 (텍스트 출력)\n",
    "pprint(ai_msg.content)\n",
    "print(\"-\" * 100)\n",
    "\n",
    "# LLM이 호출한 도구 정보 출력\n",
    "pprint(ai_msg.tool_calls)\n",
    "print(\"-\" * 100)"
   ]
  },
  {
   "cell_type": "markdown",
   "metadata": {},
   "source": [
    "`(2) LangChain 내장 도구`\n",
    "- 일반 웹 검색을 위한 Tavily 초기화"
   ]
  },
  {
   "cell_type": "code",
   "execution_count": 11,
   "metadata": {},
   "outputs": [
    {
     "name": "stderr",
     "output_type": "stream",
     "text": [
      "C:\\Users\\kaydash\\AppData\\Local\\Temp\\ipykernel_12928\\2946762187.py:2: LangChainDeprecationWarning: The class `TavilySearchResults` was deprecated in LangChain 0.3.25 and will be removed in 1.0. An updated version of the class exists in the `langchain-tavily package and should be used instead. To use it run `pip install -U `langchain-tavily` and import as `from `langchain_tavily import TavilySearch``.\n",
      "  search_web = TavilySearchResults(max_results=2)\n"
     ]
    }
   ],
   "source": [
    "from langchain_community.tools import TavilySearchResults\n",
    "search_web = TavilySearchResults(max_results=2)"
   ]
  },
  {
   "cell_type": "code",
   "execution_count": 12,
   "metadata": {},
   "outputs": [],
   "source": [
    "from langchain_openai import ChatOpenAI\n",
    "\n",
    "# LLM 모델 \n",
    "llm = ChatOpenAI(model=\"gpt-4o-mini\")\n",
    "\n",
    "# 도구 목록\n",
    "tools = [search_menu, search_web]\n",
    "\n",
    "# 모델에 도구를 바인딩\n",
    "llm_with_tools = llm.bind_tools(tools=tools)"
   ]
  },
  {
   "cell_type": "code",
   "execution_count": 13,
   "metadata": {},
   "outputs": [
    {
     "name": "stdout",
     "output_type": "stream",
     "text": [
      "[{'args': {'query': '스테이크'},\n",
      "  'id': 'call_L7F2wksyqIjaN8GhnLboS79E',\n",
      "  'name': 'search_menu',\n",
      "  'type': 'tool_call'}]\n"
     ]
    }
   ],
   "source": [
    "from langchain_core.messages import HumanMessage\n",
    "\n",
    "# 도구 호출 \n",
    "response = llm_with_tools.invoke([HumanMessage(content=f\"스테이크 메뉴의 가격은 얼마인가요?\")])\n",
    "\n",
    "# 결과 출력\n",
    "pprint(response.tool_calls)"
   ]
  },
  {
   "cell_type": "code",
   "execution_count": 14,
   "metadata": {},
   "outputs": [
    {
     "name": "stdout",
     "output_type": "stream",
     "text": [
      "[{'args': {'query': 'LangGraph'},\n",
      "  'id': 'call_ZncPDGJ9dSh2yvlgggIPtUoX',\n",
      "  'name': 'tavily_search_results_json',\n",
      "  'type': 'tool_call'}]\n"
     ]
    }
   ],
   "source": [
    "# 도구 호출 \n",
    "response = llm_with_tools.invoke([HumanMessage(content=f\"LangGraph는 무엇인가요?\")])\n",
    "\n",
    "# 결과 출력\n",
    "pprint(response.tool_calls)"
   ]
  },
  {
   "cell_type": "code",
   "execution_count": 15,
   "metadata": {},
   "outputs": [
    {
     "name": "stdout",
     "output_type": "stream",
     "text": [
      "[]\n"
     ]
    }
   ],
   "source": [
    "# 도구 호출 \n",
    "response = llm_with_tools.invoke([HumanMessage(content=f\"3+3은 얼마인가요?\")])\n",
    "\n",
    "# 결과 출력\n",
    "pprint(response.tool_calls)"
   ]
  },
  {
   "cell_type": "markdown",
   "metadata": {},
   "source": [
    "---\n",
    "\n",
    "## **Tool Node**\n",
    "\n",
    "- AI 모델이 요청한 도구(tool) 호출을 실행하는 역할을 처리하는 LangGraph 콤포넌트\n",
    "- 작동 방식:\n",
    "    1. 가장 최근 `AIMessage`에서 `tool_calls` 추출\n",
    "    2. 요청된 도구들을 **병렬로** 실행\n",
    "    3. 각 도구 호출 결과를 `ToolMessage`로 변환하여 반환"
   ]
  },
  {
   "cell_type": "markdown",
   "metadata": {},
   "source": [
    "`(1) 도구 노드(Tool Node) 정의`\n",
    "\n"
   ]
  },
  {
   "cell_type": "code",
   "execution_count": 16,
   "metadata": {},
   "outputs": [],
   "source": [
    "from langgraph.prebuilt import ToolNode\n",
    "\n",
    "# 도구 노드 정의 \n",
    "tool_node = ToolNode(tools=tools)"
   ]
  },
  {
   "cell_type": "code",
   "execution_count": 17,
   "metadata": {},
   "outputs": [
    {
     "data": {
      "text/plain": [
       "AIMessage(content='', additional_kwargs={'refusal': None}, response_metadata={'token_usage': {'completion_tokens': 16, 'prompt_tokens': 142, 'total_tokens': 158, 'completion_tokens_details': {'accepted_prediction_tokens': 0, 'audio_tokens': 0, 'reasoning_tokens': 0, 'rejected_prediction_tokens': 0}, 'prompt_tokens_details': {'audio_tokens': 0, 'cached_tokens': 0}}, 'model_provider': 'openai', 'model_name': 'gpt-4o-mini-2024-07-18', 'system_fingerprint': 'fp_560af6e559', 'id': 'chatcmpl-CWKPe3D2AygP8RUUNQ0TDywsoNNUk', 'service_tier': 'default', 'finish_reason': 'tool_calls', 'logprobs': None}, id='lc_run--f9790187-f80e-496d-b56a-fc4f452af92a-0', tool_calls=[{'name': 'search_menu', 'args': {'query': '스테이크'}, 'id': 'call_vPor69gQE08H6Uh6WE79Cxq2', 'type': 'tool_call'}], usage_metadata={'input_tokens': 142, 'output_tokens': 16, 'total_tokens': 158, 'input_token_details': {'audio': 0, 'cache_read': 0}, 'output_token_details': {'audio': 0, 'reasoning': 0}})"
      ]
     },
     "execution_count": 17,
     "metadata": {},
     "output_type": "execute_result"
    }
   ],
   "source": [
    "# 도구 호출 \n",
    "response = llm_with_tools.invoke([HumanMessage(content=f\"스테이크 메뉴의 가격은 얼마인가요?\")])\n",
    "\n",
    "response"
   ]
  },
  {
   "cell_type": "code",
   "execution_count": 18,
   "metadata": {},
   "outputs": [
    {
     "name": "stdout",
     "output_type": "stream",
     "text": [
      "[{'args': {'query': '스테이크'},\n",
      "  'id': 'call_vPor69gQE08H6Uh6WE79Cxq2',\n",
      "  'name': 'search_menu',\n",
      "  'type': 'tool_call'}]\n"
     ]
    }
   ],
   "source": [
    "# 도구 호출 내용 출력\n",
    "pprint(response.tool_calls)"
   ]
  },
  {
   "cell_type": "markdown",
   "metadata": {},
   "source": [
    "`(2) 도구 노드(Tool Node) 실행`\n"
   ]
  },
  {
   "cell_type": "code",
   "execution_count": 19,
   "metadata": {},
   "outputs": [
    {
     "name": "stdout",
     "output_type": "stream",
     "text": [
      "=================================\u001b[1m Tool Message \u001b[0m=================================\n",
      "Name: search_menu\n",
      "\n",
      "[Document(id='9efd85c5-ec3a-462d-8557-0e5081c216a3', metadata={'menu_name': '샤토브리앙 스테이크', 'source': './data/restaurant_menu.txt', 'menu_number': 26}, page_content='26. 샤토브리앙 스테이크\\n    • 가격: ₩42,000\\n    • 주요 식재료: 프리미엄 안심 스테이크, 푸아그라, 트러플 소스\\n    • 설명: 최상급 안심 스테이크에 푸아그라를 올리고 트러플 소스를 곁들인 클래식 프렌치 요리입니다. 부드러운 육질과 깊은 풍미가 특징이며, 그린 아스파라거스와 감자 그라탕을 함께 제공합니다.'), Document(id='830640c9-399e-4d43-8d53-5abee32b8cf1', metadata={'menu_number': 8, 'menu_name': '안심 스테이크 샐러드', 'source': './data/restaurant_menu.txt'}, page_content='8. 안심 스테이크 샐러드\\n   • 가격: ₩26,000\\n   • 주요 식재료: 소고기 안심, 루꼴라, 체리 토마토, 발사믹 글레이즈\\n   • 설명: 부드러운 안심 스테이크를 얇게 슬라이스하여 신선한 루꼴라 위에 올린 메인 요리 샐러드입니다. 체리 토마토와 파마산 치즈 플레이크로 풍미를 더하고, 발사믹 글레이즈로 마무리하여 고기의 풍미를 한층 끌어올렸습니다.')]\n"
     ]
    }
   ],
   "source": [
    "# 도구 호출 결과를 메시지로 추가하여 실행 \n",
    "results = tool_node.invoke({\"messages\": [response]})\n",
    "\n",
    "# 실행 결과 출력하여 확인 \n",
    "for msg in results['messages']:\n",
    "    msg.pretty_print()"
   ]
  },
  {
   "cell_type": "code",
   "execution_count": 20,
   "metadata": {},
   "outputs": [
    {
     "data": {
      "text/plain": [
       "1"
      ]
     },
     "execution_count": 20,
     "metadata": {},
     "output_type": "execute_result"
    }
   ],
   "source": [
    "# 결과 메시지 개수 출력\n",
    "len(results['messages'])"
   ]
  },
  {
   "cell_type": "code",
   "execution_count": 21,
   "metadata": {},
   "outputs": [
    {
     "name": "stdout",
     "output_type": "stream",
     "text": [
      "메뉴 번호: 26\n",
      "메뉴 이름: 샤토브리앙 스테이크\n",
      "내용:\n",
      "26. 샤토브리앙 스테이크\n",
      "    • 가격: ₩42,000\n",
      "    • 주요 식재료: 프리미엄 안심 스테이크, 푸아그라, 트러플 소스\n",
      "    • 설명: 최상급 안심 스테이크에 푸아그...\n",
      "\n",
      "메뉴 번호: 8\n",
      "메뉴 이름: 안심 스테이크 샐러드\n",
      "내용:\n",
      "8. 안심 스테이크 샐러드\n",
      "   • 가격: ₩26,000\n",
      "   • 주요 식재료: 소고기 안심, 루꼴라, 체리 토마토, 발사믹 글레이즈\n",
      "   • 설명: 부드러운 안심 스테이크를 얇게...\n",
      "\n"
     ]
    }
   ],
   "source": [
    "# 결과 메시지에서 Document 객체 추출\n",
    "for doc in eval(results['messages'][0].content):\n",
    "    print(f\"메뉴 번호: {doc.metadata['menu_number']}\")\n",
    "    print(f\"메뉴 이름: {doc.metadata['menu_name']}\")\n",
    "    print(f\"내용:\\n{doc.page_content[:100]}...\")\n",
    "    print()"
   ]
  },
  {
   "cell_type": "markdown",
   "metadata": {},
   "source": [
    "---\n",
    "## **[실습 1]**\n",
    "\n",
    "- 한국어 질문에 대한 한국어 DB를 검색하는 도구와 영어 질문에 대한 영어 DB를 검색하는 도구를 각각 별도로 구현합니다. \n",
    "\n",
    "- 두 도구를 Tool Node에서 실행합니다. \n",
    "\n",
    "- 리비안, 테슬라 데이터베이스를 사용합니다. "
   ]
  },
  {
   "cell_type": "code",
   "execution_count": 22,
   "metadata": {},
   "outputs": [
    {
     "name": "stdout",
     "output_type": "stream",
     "text": [
      "한국어 문서 수: 39\n",
      "영어 문서 수: 42\n"
     ]
    }
   ],
   "source": [
    "from langchain_openai import OpenAIEmbeddings\n",
    "from langchain_chroma import Chroma\n",
    "\n",
    "# OpenAI 임베딩 모델 생성\n",
    "embeddings_openai = OpenAIEmbeddings(model=\"text-embedding-3-small\")\n",
    "\n",
    "# 한국어 문서로 저장되어 있는 벡터 저장소 로드\n",
    "db_korean = Chroma(\n",
    "    embedding_function=embeddings_openai,\n",
    "    collection_name=\"db_korean_cosine_metadata\",\n",
    "    persist_directory=\"./chroma_db\",\n",
    "    )\n",
    "\n",
    "print(f\"한국어 문서 수: {db_korean._collection.count()}\")\n",
    "\n",
    "# 영어 문서를 저장하는 벡터 저장소 로드\n",
    "db_english = Chroma(\n",
    "    embedding_function=embeddings_openai,\n",
    "    collection_name=\"eng_db_openai\",\n",
    "    persist_directory=\"./chroma_db\",\n",
    "    )\n",
    "\n",
    "print(f\"영어 문서 수: {db_english._collection.count()}\")"
   ]
  },
  {
   "cell_type": "code",
   "execution_count": 23,
   "metadata": {},
   "outputs": [],
   "source": [
    "# 도구 정의 \n",
    "\n",
    "@tool\n",
    "def search_kor(query: str, k: int = 2) -> List[Document]:\n",
    "    \"\"\"한국어 질문이 주어지면, 한국어 문서에서 정보를 검색합니다.\"\"\"\n",
    "    docs = db_korean.similarity_search(query, k=k)\n",
    "    if len(docs) > 0:\n",
    "        return docs\n",
    "    \n",
    "    return \"관련 정보를 찾을 수 없습니다.\"\n",
    "\n",
    "@tool\n",
    "def search_eng(query: str, k: int = 2) -> List[Document]:\n",
    "    \"\"\"영어 질문이 주어지면, 영어 문서에서 정보를 검색합니다.\"\"\"\n",
    "    docs = db_english.similarity_search(query, k=k)\n",
    "    if len(docs) > 0:\n",
    "        return docs\n",
    "    \n",
    "    return \"관련 정보를 찾을 수 없습니다.\""
   ]
  },
  {
   "cell_type": "code",
   "execution_count": 24,
   "metadata": {},
   "outputs": [
    {
     "name": "stdout",
     "output_type": "stream",
     "text": [
      "[{'args': {'query': '테슬라의 창업자'},\n",
      "  'id': 'call_0KioKfsvqklcSyFQrvBVWjiJ',\n",
      "  'name': 'search_kor',\n",
      "  'type': 'tool_call'}]\n",
      "----------------------------------------------------------------------------------------------------\n",
      "메시지 타입: <class 'langchain_core.messages.tool.ToolMessage'>\n",
      "메시지 내용: [Document(id='e2e42092-eb65-41f4-9986-f91005ee3607', metadata={'language': 'ko', 'company': '테슬라', 'source': 'data/테슬라_KR.md'}, page_content=\"[출처] 이 문서는 테슬라에 대한 문서입니다.\\n----------------------------------\\n### Roadster (2005–2009)\\n\\nElon Musk는 주류 차량으로 확장하기 전에 프리미엄 스포츠카로 시작하는 전략에 초점을 맞춰 적극적인 역할을 수행했습니다. 후속 자금 조달에는 Valor Equity Partners (2006)와 Sergey Brin, Larry Page, Jeff Skoll과 같은 기업가의 투자가 포함되었습니다.\\n\\n2007년 8월, Eberhard는 CEO에서 물러나라는 요청을 받았고, Tarpenning은 2008년 1월에 이어졌습니다. Michael Marks는 Ze'ev Drori가 인수하기 전에 임시 CEO를 역임했으며, Musk는 2008년 10월에 인수했습니다. Eberhard는 2009년 6월 Musk를 상대로 소송을 제기했지만 나중에 기각되었습니다.\"), Document(id='3a108f29-a4d1-42d9-bcef-8effa685ac74', metadata={'language': 'ko', 'company': '테슬라', 'source': 'data/테슬라_KR.md'}, page_content='[출처] 이 문서는 테슬라에 대한 문서입니다.\\n----------------------------------\\nTesla는 내부 고발자 보복, 근로자 권리 침해, 안전 결함, 홍보 부족, Musk의 논란의 여지가 있는 발언과 관련된 소송, 정부 조사 및 비판에 직면했습니다.\\n\\n## 역사\\n\\n### 창립 (2003–2004)\\n\\nTesla Motors, Inc.는 2003년 7월 1일에 Martin Eberhard와 Marc Tarpenning에 의해 설립되었으며, 각각 CEO와 CFO를 역임했습니다. Ian Wright는 얼마 지나지 않아 합류했습니다. 2004년 2월, Elon Musk는 750만 달러의 시리즈 A 자금 조달을 주도하여 회장 겸 최대 주주가 되었습니다. J. B. Straubel은 2004년 5월 CTO로 합류했습니다. 다섯 명 모두 공동 설립자로 인정받고 있습니다.\\n\\n### Roadster (2005–2009)')]\n",
      "\n"
     ]
    }
   ],
   "source": [
    "from langgraph.prebuilt import ToolNode\n",
    "from langchain_openai import ChatOpenAI\n",
    "\n",
    "# 도구 목록\n",
    "db_tools = [search_kor, search_eng]\n",
    "\n",
    "# 도구 노드 정의\n",
    "db_tool_node = ToolNode(tools=db_tools)\n",
    "\n",
    "# LLM 모델 생성\n",
    "llm = ChatOpenAI(model=\"gpt-4o-mini\")\n",
    "\n",
    "# 도구를 바인딩하여 모델 생성\n",
    "llm_with_db_tools = llm.bind_tools(tools=db_tools)\n",
    "\n",
    "# 도구 호출\n",
    "response = llm_with_db_tools.invoke([HumanMessage(content=f\"테슬라의 창업자는 누구인가요?\")])\n",
    "\n",
    "# 도구 호출 내용 출력\n",
    "pprint(response.tool_calls)\n",
    "print(\"-\" * 100)\n",
    "\n",
    "# 도구 호출 결과를 메시지로 추가하여 실행\n",
    "results = db_tool_node.invoke({\"messages\": [response]})\n",
    "\n",
    "# 실행 결과 출력하여 확인\n",
    "for result in results['messages']:\n",
    "    print(f\"메시지 타입: {type(result)}\")\n",
    "    print(f\"메시지 내용: {result.content}\")\n",
    "    print()"
   ]
  },
  {
   "cell_type": "code",
   "execution_count": 25,
   "metadata": {},
   "outputs": [
    {
     "name": "stdout",
     "output_type": "stream",
     "text": [
      "[{'args': {'query': 'founder of Tesla'},\n",
      "  'id': 'call_FKiDavZWl62HEkS5VA72cXhS',\n",
      "  'name': 'search_eng',\n",
      "  'type': 'tool_call'}]\n",
      "----------------------------------------------------------------------------------------------------\n",
      "메시지 타입: <class 'langchain_core.messages.tool.ToolMessage'>\n",
      "메시지 내용: [Document(id='0adcf573-e2f1-40be-a25d-612ef076d63e', metadata={'source': 'data/Tesla_EN.md'}, page_content=\"Tesla, Inc. is an American multinational automotive and clean energy company. It designs, manufactures, and sells electric vehicles (BEVs), stationary battery energy storage devices, solar panels, solar shingles, and related products/services. Founded in July 2003 by Martin Eberhard and Marc Tarpenning as Tesla Motors, it was named in honor of Nikola Tesla. Elon Musk led Tesla's initial funding in 2004, becoming chairman and later CEO in 2008.\"), Document(id='ff40918e-ad20-4a78-955d-546f4eca03bc', metadata={'source': 'data/Tesla_EN.md'}, page_content='Tesla has faced lawsuits, government scrutiny, and criticism related to whistleblower retaliation, worker rights violations, safety defects, lack of public relations, and controversial statements from Musk.\\n\\n## History\\n\\n### Founding (2003–2004)\\n\\nTesla Motors, Inc. was established on July 1, 2003, by Martin Eberhard and Marc Tarpenning, who served as CEO and CFO, respectively. Ian Wright joined shortly after. In February 2004, Elon Musk led a $7.5 million Series A funding round, becoming chairman and the largest shareholder. J. B. Straubel joined as CTO in May 2004. All five are recognized as co-founders.\\n\\n### Roadster (2005–2009)')]\n",
      "\n"
     ]
    }
   ],
   "source": [
    "# 도구 호출 - 영어\n",
    "response = llm_with_db_tools.invoke([HumanMessage(content=f\"Who is the founder of Tesla?\")])\n",
    "\n",
    "# 도구 호출 내용 출력\n",
    "pprint(response.tool_calls)\n",
    "print(\"-\" * 100)\n",
    "\n",
    "# 도구 호출 결과를 메시지로 추가하여 실행\n",
    "results = db_tool_node.invoke({\"messages\": [response]})\n",
    "\n",
    "# 실행 결과 출력하여 확인\n",
    "for result in results['messages']:\n",
    "    print(f\"메시지 타입: {type(result)}\")\n",
    "    print(f\"메시지 내용: {result.content}\")\n",
    "    print()"
   ]
  },
  {
   "cell_type": "markdown",
   "metadata": {},
   "source": [
    "---\n",
    "\n",
    "## **ReAct Agent**\n",
    "\n",
    "- ReAct(Reasoning and Acting) : 가장 일반적인 에이전트\n",
    "- 동작 방식:\n",
    "    - 행동 (act): 모델이 특정 도구를 호출\n",
    "    - 관찰 (observe): 도구의 출력을 모델에 다시 전달\n",
    "    - 추론 (reason): 모델이 도구 출력을 바탕으로 다음 행동을 결정 (예: 또 다른 도구를 호출하거나 직접 응답을 생성)"
   ]
  },
  {
   "cell_type": "markdown",
   "metadata": {},
   "source": [
    "`(1) 조건부 엣지 함수를 사용자 정의`\n",
    "- `should_continue` 함수에서 도구 호출 여부에 따라 종료 여부를 결정\n",
    "- 도구 실행이 필요한 경우에는 그래프가 종료되지 않고 계속 실행 "
   ]
  },
  {
   "cell_type": "code",
   "execution_count": 26,
   "metadata": {},
   "outputs": [
    {
     "data": {
      "image/png": "[encoded data removed]",
      "text/plain": [
       "<IPython.core.display.Image object>"
      ]
     },
     "metadata": {},
     "output_type": "display_data"
    }
   ],
   "source": [
    "from langgraph.graph import MessagesState, StateGraph, START, END\n",
    "from langchain_core.messages import HumanMessage, SystemMessage\n",
    "from langgraph.prebuilt import ToolNode\n",
    "from IPython.display import Image, display\n",
    "\n",
    "\n",
    "# LangGraph MessagesState 사용 (메시지 리스트를 저장하는 상태)\n",
    "class GraphState(MessagesState):\n",
    "    ...\n",
    "\n",
    "\n",
    "# 노드 구성 \n",
    "def call_model(state: GraphState):\n",
    "    system_prompt = SystemMessage(\"\"\"You are a helpful AI assistant. Please respond to the user's query to the best of your ability!\n",
    "\n",
    "중요: 답변을 제공할 때 반드시 정보의 출처를 명시해야 합니다. 출처는 다음과 같이 표시하세요:\n",
    "- 도구를 사용하여 얻은 정보: [도구: 도구이름]\n",
    "- 모델의 일반 지식에 기반한 정보: [일반 지식]\n",
    "\n",
    "항상 정확하고 관련성 있는 정보를 제공하되, 확실하지 않은 경우 그 사실을 명시하세요. 출처를 명확히 표시함으로써 사용자가 정보의 신뢰성을 판단할 수 있도록 해주세요.\"\"\")\n",
    "    \n",
    "    # 시스템 메시지와 이전 메시지를 결합하여 모델 호출\n",
    "    messages = [system_prompt] + state['messages']\n",
    "    response = llm_with_tools.invoke(messages)\n",
    "\n",
    "    # 메시지 리스트로 반환하고 상태 업데이트\n",
    "    return {\"messages\": [response]}\n",
    "\n",
    "def should_continue(state: GraphState):\n",
    "\n",
    "    last_message = state[\"messages\"][-1]\n",
    "\n",
    "    # 마지막 메시지에 도구 호출이 있으면 도구 실행\n",
    "    if last_message.tool_calls:\n",
    "        return \"execute_tools\"\n",
    "    \n",
    "    return END\n",
    "\n",
    "# 그래프 구성\n",
    "builder = StateGraph(GraphState)\n",
    "builder.add_node(\"call_model\", call_model)\n",
    "builder.add_node(\"execute_tools\", ToolNode(tools))\n",
    "\n",
    "builder.add_edge(START, \"call_model\")\n",
    "builder.add_conditional_edges(\n",
    "    \"call_model\", \n",
    "    should_continue,\n",
    "    [\"execute_tools\", END]\n",
    ")\n",
    "builder.add_edge(\"execute_tools\", \"call_model\")\n",
    "\n",
    "graph = builder.compile()\n",
    "\n",
    "# 그래프 출력 \n",
    "display(Image(graph.get_graph().draw_mermaid_png()))"
   ]
  },
  {
   "cell_type": "code",
   "execution_count": 27,
   "metadata": {},
   "outputs": [
    {
     "name": "stdout",
     "output_type": "stream",
     "text": [
      "================================\u001b[1m Human Message \u001b[0m=================================\n",
      "\n",
      "스테이크 메뉴의 가격은 얼마인가요?\n",
      "==================================\u001b[1m Ai Message \u001b[0m==================================\n",
      "Tool Calls:\n",
      "  search_menu (call_i7Sd1Bfju5tCsNEDvTnCI3CZ)\n",
      " Call ID: call_i7Sd1Bfju5tCsNEDvTnCI3CZ\n",
      "  Args:\n",
      "    query: 스테이크\n",
      "=================================\u001b[1m Tool Message \u001b[0m=================================\n",
      "Name: search_menu\n",
      "\n",
      "[Document(id='9efd85c5-ec3a-462d-8557-0e5081c216a3', metadata={'menu_number': 26, 'menu_name': '샤토브리앙 스테이크', 'source': './data/restaurant_menu.txt'}, page_content='26. 샤토브리앙 스테이크\\n    • 가격: ₩42,000\\n    • 주요 식재료: 프리미엄 안심 스테이크, 푸아그라, 트러플 소스\\n    • 설명: 최상급 안심 스테이크에 푸아그라를 올리고 트러플 소스를 곁들인 클래식 프렌치 요리입니다. 부드러운 육질과 깊은 풍미가 특징이며, 그린 아스파라거스와 감자 그라탕을 함께 제공합니다.'), Document(id='830640c9-399e-4d43-8d53-5abee32b8cf1', metadata={'menu_number': 8, 'menu_name': '안심 스테이크 샐러드', 'source': './data/restaurant_menu.txt'}, page_content='8. 안심 스테이크 샐러드\\n   • 가격: ₩26,000\\n   • 주요 식재료: 소고기 안심, 루꼴라, 체리 토마토, 발사믹 글레이즈\\n   • 설명: 부드러운 안심 스테이크를 얇게 슬라이스하여 신선한 루꼴라 위에 올린 메인 요리 샐러드입니다. 체리 토마토와 파마산 치즈 플레이크로 풍미를 더하고, 발사믹 글레이즈로 마무리하여 고기의 풍미를 한층 끌어올렸습니다.')]\n",
      "==================================\u001b[1m Ai Message \u001b[0m==================================\n",
      "\n",
      "스테이크 메뉴의 가격은 다음과 같습니다:\n",
      "\n",
      "1. **샤토브리앙 스테이크**: ₩42,000\n",
      "   - 설명: 최상급 안심 스테이크에 푸아그라를 올리고 트러플 소스를 곁들인 클래식 프렌치 요리입니다. 부드러운 육질과 깊은 풍미가 특징입니다.\n",
      "\n",
      "2. **안심 스테이크 샐러드**: ₩26,000\n",
      "   - 설명: 부드러운 안심 스테이크를 얇게 슬라이스하여 신선한 루꼴라 위에 올린 메인 요리 샐러드입니다.\n",
      "\n",
      "출처: [도구: 메뉴 검색]\n"
     ]
    }
   ],
   "source": [
    "# 그래프 실행\n",
    "inputs = {\"messages\": [HumanMessage(content=\"스테이크 메뉴의 가격은 얼마인가요?\")]}\n",
    "messages = graph.invoke(inputs)\n",
    "for m in messages['messages']:\n",
    "    m.pretty_print()"
   ]
  },
  {
   "cell_type": "markdown",
   "metadata": {},
   "source": [
    "`(2) tools_condition 활용`\n",
    "- LangGraph에서 제공하는 도구 사용을 위한 조건부 엣지 함수\n",
    "- 최신 메시지(결과)가 도구 호출이면 -> `tools_condition`이 도구로 라우팅\n",
    "- 최신 메시지(결과)가 도구 호출이 아니면 -> `tools_condition`이 `END`로 라우팅"
   ]
  },
  {
   "cell_type": "code",
   "execution_count": 28,
   "metadata": {},
   "outputs": [
    {
     "data": {
      "image/png": "[encoded data removed]",
      "text/plain": [
       "<IPython.core.display.Image object>"
      ]
     },
     "metadata": {},
     "output_type": "display_data"
    }
   ],
   "source": [
    "from langgraph.prebuilt import tools_condition\n",
    "\n",
    "# 노드 함수 정의\n",
    "def call_model(state: GraphState):\n",
    "    system_prompt = SystemMessage(\"\"\"You are a helpful AI assistant. Please respond to the user's query to the best of your ability!\n",
    "\n",
    "중요: 답변을 제공할 때 반드시 정보의 출처를 명시해야 합니다. 출처는 다음과 같이 표시하세요:\n",
    "- 도구를 사용하여 얻은 정보: [도구: 도구이름]\n",
    "- 모델의 일반 지식에 기반한 정보: [일반 지식]\n",
    "\n",
    "항상 정확하고 관련성 있는 정보를 제공하되, 확실하지 않은 경우 그 사실을 명시하세요. 출처를 명확히 표시함으로써 사용자가 정보의 신뢰성을 판단할 수 있도록 해주세요.\"\"\")\n",
    "    \n",
    "    # 시스템 메시지와 이전 메시지를 결합하여 모델 호출\n",
    "    messages = [system_prompt] + state['messages']\n",
    "    response = llm_with_tools.invoke(messages)\n",
    "\n",
    "    # 메시지 리스트로 반환하고 상태 업데이트\n",
    "    return {\"messages\": [response]}\n",
    "\n",
    "# 그래프 구성\n",
    "builder = StateGraph(GraphState)\n",
    "\n",
    "builder.add_node(\"agent\", call_model)\n",
    "builder.add_node(\"tools\", ToolNode(tools))\n",
    "\n",
    "builder.add_edge(START, \"agent\")\n",
    "\n",
    "# tools_condition을 사용한 조건부 엣지 추가\n",
    "builder.add_conditional_edges(\n",
    "    \"agent\",\n",
    "    tools_condition,\n",
    ")\n",
    "\n",
    "builder.add_edge(\"tools\", \"agent\")\n",
    "\n",
    "graph = builder.compile()\n",
    "\n",
    "# 그래프 출력\n",
    "display(Image(graph.get_graph().draw_mermaid_png()))"
   ]
  },
  {
   "cell_type": "code",
   "execution_count": 29,
   "metadata": {},
   "outputs": [
    {
     "name": "stdout",
     "output_type": "stream",
     "text": [
      "================================\u001b[1m Human Message \u001b[0m=================================\n",
      "\n",
      "파스타에 어울리는 와인을 추천해주세요.\n",
      "==================================\u001b[1m Ai Message \u001b[0m==================================\n",
      "Tool Calls:\n",
      "  tavily_search_results_json (call_JgKtHvQo78JucO4AMnlknzZf)\n",
      " Call ID: call_JgKtHvQo78JucO4AMnlknzZf\n",
      "  Args:\n",
      "    query: 파스타에 어울리는 와인 추천\n",
      "  tavily_search_results_json (call_b1r3KfpMr9pwe4T69f8gbjmM)\n",
      " Call ID: call_b1r3KfpMr9pwe4T69f8gbjmM\n",
      "  Args:\n",
      "    query: 와인 추천\n",
      "=================================\u001b[1m Tool Message \u001b[0m=================================\n",
      "Name: tavily_search_results_json\n",
      "\n",
      "[{\"title\": \"파스타와 잘 어울리는 와인은 어떤 게 있을 까?\", \"url\": \"https://algori.foodjjangyoyo.com/entry/%ED%8C%8C%EC%8A%A4%ED%83%80%EC%99%80-%EC%9E%98-%EC%96%B4%EC%9A%B8%EB%A6%AC%EB%8A%94-%EC%99%80%EC%9D%B8%EC%9D%80-%EC%96%B4%EB%96%A4-%EA%B2%8C-%EC%9E%88%EC%9D%84-%EA%B9%8C\", \"content\": \"파스타와 함께 즐길 수 있는 와인은 크게 파스타의 소스와 재료에 따라 달라집니다. 여기 몇 가지 추천드리겠습니다:   \\n  \\n1.토마토소스 파스타: 토마토 소스는 산미가 강하므로 이에 대응할 수 있는 산도가 높은 레드 와인이 잘 어울립니다. 이탈리아의 키안티(Chianti)나 캘리포니아의 진판델(Zinfandel)을 추천드립니다.   \\n  \\n2. 크림 소스 파스타: 부드러운 크림소스에는 바디감이 있으면서도 부드러운 화이트 와인이 잘 어울립니다. 샤르도네(Chardonnay) 또는 피노 그리지오(Pinot Grigio)를 추천드립니다.   \\n  \\n3. 해산물 파스타: 해산물 파스타에는 산도가 높고 깨끗한 미네랄함을 가진 화이트 와인이 잘 어울립니다. 보르도의 소비뇽 블랑(Sauvignon Blanc)이나 이탈리아의 베르디 치오(Verdicchio)를 추천드립니다. [...] 4. 고기 소스 파스타: 고기 소스에는 탄닌이 높고 바디감이 있는레드 와인이 잘 어울립니다. 카베르네 소비뇽(Cabernet Sauvignon)이나 쉬라즈(Shiraz)를 추천드립니다.   \\n  \\n각자의 입맛에 따라 와인을 선택하는 것이 가장 중요하니, 위의 조합을 참고로 하시되 가장 좋아하시는 와인을 선택하시면 됩니다. 와인과 파스타의 조합을 즐기시길 바랍니다!\", \"score\": 0.9323611}, {\"title\": \"이탈리아 파스타와 와인 페어링 - 플롯매거진 PLOT MAGAZINE\", \"url\": \"https://plotmags.com/%EC%9D%B4%ED%83%88%EB%A6%AC%EC%95%84-%ED%8C%8C%EC%8A%A4%ED%83%80%EC%99%80-%EC%99%80%EC%9D%B8-%ED%8E%98%EC%96%B4%EB%A7%81/\", \"content\": \"[파스타와 와인 페어링]  \\n파스타와 와인 페어링에 대한 특별한 규칙은 없지만, 과실미와 산도의 균형이 좋은 가벼운-중간 정도 바디의 와인이 가장 잘 어울리는 반면, 묵직하고 지나치게 오크향이 강한 와인은 소스를 압도하는 경향이 있기 때문에 권장하지 않는다.\\n\\n1) 포모도로(토마토) 파스타 – 과실미 있는 가벼운 레드 와인  \\n이 가장 심플한 이탈리아 파스타의 맛은 신선한 토마토를 사용하느냐, 아니면 기성품 소스를 사용하느냐에 따라 달라지는데, 전자는 일반적으로 더 신맛이 나고 후자는 더 단맛이 나는 경향이 있다. 파르미지아노 레지아노 치즈를 얹으면 풍미를 더할 수 있다.\\n\\n일반적으로 적당한 산도와 부드러운 타닌을 지난 과실미가 좋은 가벼운 레드 와인이 이러한 풍미와 잘 어울린다. 알토 아디제의 엔트리 레벨 피노 네로(Pinot Nero) 또는 스키아바(Schiava)를 추천한다. [...] 8) 카르보나라 – 산도 높은 오크 숙성 화이트 와인  \\n로마의 대표적인 파스타 요리인 카르보나라는 계란과 페코리노 로마노 크림의 묵직한 맛과 균형을 맞추기 위해 높은 산도의 와인이 필요하다. 동시에 돼지 볼살 및 후추와 충돌하지 않도록 충분히 부드러운 와인이 어울린다. 점성이 있는 구조, 은은한 오크 뉘앙스, 충분한 쫀쫀함을 지닌 풀바디의 우아한 화이트 와인을 추천한다. 부르고뉴 화이트 와인도 안전한 선택이지만, 이탈리아 와인을 원한다면 좋은 품질의 소아베 클라시코(Soave Classico) 역시 좋은 선택지가 될 수 있다. [...] 7) 버섯 페투치네 파스타 – 숙성된 화이트 와인  \\n제철 버섯을 얇게 썰어 익힌 후 홈메이드 페투치네 파스타에 곁들이면 흙의 풍미와 은은한 떫은맛을 느낄 수 있는데, 이는 3차향의 복합미가 있는 부드럽고 구조적인 화이트 와인과 잘 어울린다. 약간의 병숙성을 거친 베르디키오 데이 카스텔리 디 예지 리제르바(Verdicchio dei Castelli di Jesi Riserva) 와인을 추천한다.\", \"score\": 0.9088853}]\n",
      "=================================\u001b[1m Tool Message \u001b[0m=================================\n",
      "Name: tavily_search_results_json\n",
      "\n",
      "[{\"title\": \"레드와인 추천 - 입문자를 위한 구매 가이드\", \"url\": \"https://nosearch.com/contents/encyclopedia/contributors/food-drink/alcohol/red-wine-pick\", \"content\": \"회원가입 | 로그인\\n\\n레드 와인 추천 - 입문자를 위한 레드와인 추천 가이드\\n\\nby drink.zip 와인쟁이\\n\\n노써치 인증 전문가\\n\\nnadaunit@gmail.com\\n\\n15년 경력의 와인쟁이, 와린이들을 위한 와인 추천 전문가, drink.zip입니다!\\n\\n# 레드와인 추천 - 입문자를 위한 구매 가이드\\n\\n안녕하세요. 와인 없이 못사는 남자, drink.zip 입니다.  \\n  \\n 대부분의 사람들이 “와인”하면 가장 먼저 떠올리는 것은 바로 붉은 빛이 감도는 레드와인일 것입니다. 실제로 전 세계 와인 소비량 중 레드와인이 차지하는 비중은 과거 60% 이상, 화이트와인과 스파클링 와인이 많이 늘어난 요즘도 50% 이상으로, 여전히 와인하면 레드와인을 떠올리는 것은 자연스러운 현상입니다.  \\n  \\n 저 역시 처음 접한 와인도, 처음 빠진 와인도 레드와인이었습니다. 때로는 탄닌이 너무 떫어서 놀라기도 하고, 때로는 매혹적인 검붉은 과실 향에 매료되기도 했던 그 여정이 아직도 생생합니다. [...] 일반적으로 입문자들은 가벼운 바디의 와인부터 시작하면 밍밍하거나 비어있다고 느끼는 경우가 많아서, 묵직하게 가득찬 풀바디의 와인부터 점차 가벼운 바디로 경험을 넓혀가는 것을 추천드립니다. 하지만 와인은 순전히 개인 취향의 영역이므로, 이것이 꼭 정답은 아닙니다.\\n\\n## 레드와인 추천\\n\\n입문자를 위한 가성비 레드와인 베스트 6\\n\\n1\\n\\n### 까베르네 소비뇽\\n\\n(Cabernet Sauvignon) - 레드와인의 왕\\n\\n까베르네 소비뇽은 레드와인의 왕이라 불려도 손색이 없습니다. 기본적으로 전세계적으로 가장 많이 재배되는 와인 품종이기 때문이죠. 강한 탄닌과 풍부한 구조감을 갖고 있으며, 장기 숙성 능력이 뛰어납니다.  \\n  \\n생산지나 생산자의 특성에 따라 다양한 모습을 보여주는 매력적인 포도 품종입니다. 프랑스와 미국에서 우수한 품질의 까베르네 소비뇽 와인을 많이 만들고 있으며, 칠레, 호주 등에도 가성비가 뛰어난 까베르네 소비뇽이 많습니다.\\n\\ndrink.zip 의 평가\\n\\n맛과 향 [...] \\\\\\n\\n#### San Pedro Sideral (칠레)\\n\\nSyrah, Carmenere, Petit Verdot 등과 블렌딩 되어있으며, 잘 익은 검붉은 과실과 피망, 후추 등의 스파이시함이 잘 어우러집니다. 3만원 수준의 가격 대비 품질이 우수합니다.\\n\\n까베르네 소비뇽 - 10만원 이하\\n\\n\\\\\\n\\n#### Mas La Plana (스페인)\\n\\n선물용으로 백화점이나 와인샵에서 많이 추천해주는 와인입니다. 산도 있는 검은 과실을 바탕으로 적당한 오크, 바닐라, 커피 등 풍미가 잘 어우러집니다. 까베르네소비뇽의 특징을 편안하게 보여주는 와인입니다. (8만원대)\\n\\n\\\\\\n\\n#### Clos Du Val Cabernet Sauvignon (미국)\\n\\n산뜻하고 향긋한 과실향이 매력적이고, 바닐라, 오크, 후추 등이 잘 녹아 있습니다. 나파밸리의 무게감이 부담스럽다면, 섬세함이 곁들여진 이 와인을 추천드립니다. (8만원대)\\n\\n\\\\\\n\\n#### Woodlands Margaret (호주)\", \"score\": 0.7045877}, {\"title\": \"와알못의 와인모아 - 와인추천 리스트 - 마일모아 게시판\", \"url\": \"https://www.milemoa.com/bbs/board/5810290\", \"content\": \"써놓고 보니 쓸데없는 걱정입니다. 와이너리는 많고 맛도 가지각색이니 기우입니다 기우 ㅋㅋ\\\"\\n\\n### 안녕하신가영님\\n\\nMeiomi Pinot Noir\\n\\n### shilph님\\n\\n윌라메잇 벨리 피노 노아\\n\\n\\\"가성비로....추천입니다. 가격은 Costco 기준으로 15불 정도고요. \\n\\n절대로 실패하지 않는 가성비 최고의 오레곤 피노노아 이지요.\\\"\\n\\n \\n\\nCharles Krug Cabernet Sauvignon 2015,  \\n$35\\n\\n\\\"제가 먹어본 가장 비싼 와인이자 가장 맛났던 와인입니다. \\n\\n볼드하고 드라이한 편이고, 탄닌향도 꽤 괜찮고 맛이 너무 깔끔했었습니다.\\n\\n원래 $5-15 사이 와인만 마십니다만, \\n\\n이건 특별한 때 큰맘먹고 사서 마셔봤는데, 너무 맛나서 앞으로도 기회가 되면 또 사보고 싶네요.\\n\\nVivino 평점은 4.0/5, 제 개인 평점은 5스타\\\"\\n\\n \\n\\n### JoshuaR님 [...] 사실 와인에는 본인의 맛/향 취향, 주머니 상황, 접근성, 잔의 종류, 페어링 음식, 분위기, 함께하는 사람 등 여러 요소들이 들어가기에 제 취향과 맞지 않으신 분들은 가볍게 무시해주시고 제 포스팅은 서서히 없어지는 걸로 ㅜㅜ\\n\\n암튼 시작합니다. 이 글로 Ultimate Wine Thread를 만들면 좋을 것 같구요 댓글로 달아주시면 검증(?) 후 종종 추가 시키겠습니다. to Wifey - 마실 이유 만드는거 아임다.\\n\\n어느정도 모이면 적정가로 Sort하겠습니다.  \\n그리고 지역/시즌/type of store로 구매가가 다를 수 있으니 \\\"이 정도구나\\\", \\\"이 집은 사기구나\\\".. \\\"이건 겟!이구나\\\" 가격을 참고하시어 맛없는 와인을 비싸게 주고 사는 슬픈 비극이 없도록 하시길 바랍니다.\\n\\n레드  \\n  \\nMonte Antico Rosso   \\n지역 : 이탈리아 토스카나  \\n품종 : 블렌드  \\n빈티지 : 2013   \\n적정가 : $10-$12 [...] 한눈에 보이기 위해 목록으로 작성해 놓을게요^^  \\n아래댓글 추천목록 \\n\\n티모님\\n\\nCHIANTI CLASSICO SINGLE ESTATE 2015 \\n\\n종류 : CHIANTI, ITALY \\n\\n적정가 : 코스코에서 9.30\\n\\n한줄평 : 식사용으로 최고. 가격도 저렴하고 많이 쟁여놨어욧.\\n\\n \\n\\nSLH PINOT NOIR 2016\\n\\n구매지, 트레이더조 \\n\\n가격, 15에서 16\\n\\n비비노 평점 4\\n\\n\\\"피노 뉴비입니다 너무 맛있네요. 깊은맛은 아닌것 같으나 부드럽고 행복하게 만들어 주네요.  트레이더조가면 야는 좀 사놔야겠어요\\\"\\n\\n \\n\\n### 혈자님\\n\\nButtercream\\n\\n\\\"바질페스토 치킨 샌드위치와 한잔 마시고 틸라묵 치즈와 마저 마시고 있습니다.\\n\\n요새는 대놓고 아몰랑 버털리 샤도네이가 상향 평준화 된 느낌이에요! 가성비도 좋고... 다만 노트가 좀 편향적으로 바닐라 버털리로 가는 것 같기도 한데..\", \"score\": 0.67321366}]\n",
      "==================================\u001b[1m Ai Message \u001b[0m==================================\n",
      "\n",
      "파스타와 어울리는 와인 선택은 파스타의 소스와 재료에 따라 다를 수 있습니다. 다음을 참고해 보세요:\n",
      "\n",
      "1. **토마토 소스 파스타**: 이 경우 **산지오베제(Sangiovese)** 같은 중간 바디의 레드 와인이 좋습니다. 치안티(Chianti)는 이와 잘 어울립니다.\n",
      "\n",
      "2. **크림 소스 파스타**: **샤르도네(Chardonnay)** 처럼 부드럽고 고소한 화이트 와인을 추천합니다.\n",
      "\n",
      "3. **해산물 파스타**: **소비뇽 블랑(Sauvignon Blanc)** 또는 경량의 **피노 그리(Pinot Grigio)** 같은 상쾌한 화이트 와인이 어울립니다.\n",
      "\n",
      "4. **니코이즈 소스(뷔프)**: **메를로(Merlot)** 같은 부드러운 레드 와인이 잘 어울려요.\n",
      "\n",
      "이 외에도 파스타의 종류와 소스에 따라 다양한 와인을 시도해 볼 수 있습니다! 와인 선택에 대한 더 많은 정보는 이 링크에서 확인하실 수 있습니다: [파스타와 와인 매칭](https://algori.foodjjangyoyo.com/entry/%ED%8C%8C%EC%8A%A4%ED%83%80%EC%99%80-%EC%9E%98-%EC%96%B4%EC%9A%B8%EB%A6%AC%EB%8A%94-%EC%99%80%EC%9D%B8%EC%9D%80-%EC%96%B4%EB%96%A4-%EA%B2%8C-%EC%9E%88%EC%9D%84-%EA%B9%8C) [도구: tavily] \n",
      "\n",
      "다양한 와인과 음식을 조합하여 최적의 페어링을 찾는 것도 즐거운 경험이 될 것입니다!\n"
     ]
    }
   ],
   "source": [
    "# 그래프 실행\n",
    "inputs = {\"messages\": [HumanMessage(content=\"파스타에 어울리는 와인을 추천해주세요.\")]}\n",
    "messages = graph.invoke(inputs)\n",
    "for m in messages['messages']:\n",
    "    m.pretty_print()"
   ]
  },
  {
   "cell_type": "markdown",
   "metadata": {},
   "source": [
    "---\n",
    "## **[실습 2]**\n",
    "\n",
    "- [실습 1]에서 구현한 두 도구를 사용하여 사용자의 질문에 답변하는 RAG 시스템을 구현합니다. \n",
    "\n",
    "- ReAct 에이전트를 적용합니다. "
   ]
  },
  {
   "cell_type": "code",
   "execution_count": 30,
   "metadata": {},
   "outputs": [
    {
     "data": {
      "image/png": "[encoded data removed]",
      "text/plain": [
       "<IPython.core.display.Image object>"
      ]
     },
     "metadata": {},
     "output_type": "display_data"
    }
   ],
   "source": [
    "from langgraph.prebuilt import tools_condition\n",
    "\n",
    "# 노드 함수 정의\n",
    "def call_model(state: GraphState):\n",
    "    system_prompt = SystemMessage(\"\"\"You are a helpful AI assistant. Please respond to the user's query to the best of your ability!\n",
    "\n",
    "중요: 답변을 제공할 때 반드시 정보의 출처를 명시해야 합니다. 출처는 다음과 같이 표시하세요:\n",
    "- 도구를 사용하여 얻은 정보: [도구: 도구이름]\n",
    "- 모델의 일반 지식에 기반한 정보: [일반 지식]\n",
    "\n",
    "도구를 사용할 때는 반드시 사용자의 질문에서 사용한 같은 언어로 답변해야 합니다. 예를 들어, 사용자가 한국어로 질문했다면 한국어로 답변해야 합니다.                    \n",
    "\n",
    "항상 정확하고 관련성 있는 정보를 제공하되, 확실하지 않은 경우 그 사실을 명시하세요. 출처를 명확히 표시함으로써 사용자가 정보의 신뢰성을 판단할 수 있도록 해주세요.\"\"\")\n",
    "    \n",
    "    # 시스템 메시지와 이전 메시지를 결합하여 모델 호출\n",
    "    messages = [system_prompt] + state['messages']\n",
    "    response = llm_with_db_tools.invoke(messages)\n",
    "\n",
    "    # 메시지 리스트로 반환하고 상태 업데이트\n",
    "    return {\"messages\": [response]}\n",
    "\n",
    "# 그래프 구성\n",
    "builder = StateGraph(GraphState)\n",
    "\n",
    "builder.add_node(\"agent\", call_model)\n",
    "builder.add_node(\"tools\", ToolNode(db_tools))\n",
    "\n",
    "builder.add_edge(START, \"agent\")\n",
    "\n",
    "# tools_condition을 사용한 조건부 엣지 추가\n",
    "builder.add_conditional_edges(\n",
    "    \"agent\",\n",
    "    tools_condition,\n",
    ")\n",
    "\n",
    "builder.add_edge(\"tools\", \"agent\")\n",
    "\n",
    "graph = builder.compile()\n",
    "\n",
    "# 그래프 출력\n",
    "display(Image(graph.get_graph().draw_mermaid_png()))"
   ]
  },
  {
   "cell_type": "code",
   "execution_count": 31,
   "metadata": {},
   "outputs": [
    {
     "name": "stdout",
     "output_type": "stream",
     "text": [
      "================================\u001b[1m Human Message \u001b[0m=================================\n",
      "\n",
      "테슬라는 언제 설립되었나요?\n",
      "==================================\u001b[1m Ai Message \u001b[0m==================================\n",
      "Tool Calls:\n",
      "  search_kor (call_sxz9ZGUZnaT0abIRTSmudf4n)\n",
      " Call ID: call_sxz9ZGUZnaT0abIRTSmudf4n\n",
      "  Args:\n",
      "    query: 테슬라 설립 연도\n",
      "=================================\u001b[1m Tool Message \u001b[0m=================================\n",
      "Name: search_kor\n",
      "\n",
      "[Document(id='3a108f29-a4d1-42d9-bcef-8effa685ac74', metadata={'source': 'data/테슬라_KR.md', 'language': 'ko', 'company': '테슬라'}, page_content='[출처] 이 문서는 테슬라에 대한 문서입니다.\\n----------------------------------\\nTesla는 내부 고발자 보복, 근로자 권리 침해, 안전 결함, 홍보 부족, Musk의 논란의 여지가 있는 발언과 관련된 소송, 정부 조사 및 비판에 직면했습니다.\\n\\n## 역사\\n\\n### 창립 (2003–2004)\\n\\nTesla Motors, Inc.는 2003년 7월 1일에 Martin Eberhard와 Marc Tarpenning에 의해 설립되었으며, 각각 CEO와 CFO를 역임했습니다. Ian Wright는 얼마 지나지 않아 합류했습니다. 2004년 2월, Elon Musk는 750만 달러의 시리즈 A 자금 조달을 주도하여 회장 겸 최대 주주가 되었습니다. J. B. Straubel은 2004년 5월 CTO로 합류했습니다. 다섯 명 모두 공동 설립자로 인정받고 있습니다.\\n\\n### Roadster (2005–2009)'), Document(id='e2e42092-eb65-41f4-9986-f91005ee3607', metadata={'source': 'data/테슬라_KR.md', 'language': 'ko', 'company': '테슬라'}, page_content=\"[출처] 이 문서는 테슬라에 대한 문서입니다.\\n----------------------------------\\n### Roadster (2005–2009)\\n\\nElon Musk는 주류 차량으로 확장하기 전에 프리미엄 스포츠카로 시작하는 전략에 초점을 맞춰 적극적인 역할을 수행했습니다. 후속 자금 조달에는 Valor Equity Partners (2006)와 Sergey Brin, Larry Page, Jeff Skoll과 같은 기업가의 투자가 포함되었습니다.\\n\\n2007년 8월, Eberhard는 CEO에서 물러나라는 요청을 받았고, Tarpenning은 2008년 1월에 이어졌습니다. Michael Marks는 Ze'ev Drori가 인수하기 전에 임시 CEO를 역임했으며, Musk는 2008년 10월에 인수했습니다. Eberhard는 2009년 6월 Musk를 상대로 소송을 제기했지만 나중에 기각되었습니다.\")]\n",
      "==================================\u001b[1m Ai Message \u001b[0m==================================\n",
      "\n",
      "테슬라(Tesla)는 2003년 7월 1일에 Martin Eberhard와 Marc Tarpenning에 의해 설립되었습니다. 이들은 함께 CFO와 CEO 직함을 맡았으며, 이후 Elon Musk와 다른 공동 설립자들이 합류하게 됩니다. [출처: 일반 지식]\n"
     ]
    }
   ],
   "source": [
    "# 그래프 실행\n",
    "inputs = {\"messages\": [HumanMessage(content=\"테슬라는 언제 설립되었나요?\")]}\n",
    "messages = graph.invoke(inputs)\n",
    "for m in messages['messages']:\n",
    "    m.pretty_print()"
   ]
  },
  {
   "cell_type": "code",
   "execution_count": 32,
   "metadata": {},
   "outputs": [
    {
     "name": "stdout",
     "output_type": "stream",
     "text": [
      "================================\u001b[1m Human Message \u001b[0m=================================\n",
      "\n",
      "When was Tesla founded?\n",
      "==================================\u001b[1m Ai Message \u001b[0m==================================\n",
      "Tool Calls:\n",
      "  search_eng (call_L282dXpaRUGWRe3aoW1lMqoV)\n",
      " Call ID: call_L282dXpaRUGWRe3aoW1lMqoV\n",
      "  Args:\n",
      "    query: Tesla founded date\n",
      "=================================\u001b[1m Tool Message \u001b[0m=================================\n",
      "Name: search_eng\n",
      "\n",
      "[Document(id='0adcf573-e2f1-40be-a25d-612ef076d63e', metadata={'source': 'data/Tesla_EN.md'}, page_content=\"Tesla, Inc. is an American multinational automotive and clean energy company. It designs, manufactures, and sells electric vehicles (BEVs), stationary battery energy storage devices, solar panels, solar shingles, and related products/services. Founded in July 2003 by Martin Eberhard and Marc Tarpenning as Tesla Motors, it was named in honor of Nikola Tesla. Elon Musk led Tesla's initial funding in 2004, becoming chairman and later CEO in 2008.\"), Document(id='ff40918e-ad20-4a78-955d-546f4eca03bc', metadata={'source': 'data/Tesla_EN.md'}, page_content='Tesla has faced lawsuits, government scrutiny, and criticism related to whistleblower retaliation, worker rights violations, safety defects, lack of public relations, and controversial statements from Musk.\\n\\n## History\\n\\n### Founding (2003–2004)\\n\\nTesla Motors, Inc. was established on July 1, 2003, by Martin Eberhard and Marc Tarpenning, who served as CEO and CFO, respectively. Ian Wright joined shortly after. In February 2004, Elon Musk led a $7.5 million Series A funding round, becoming chairman and the largest shareholder. J. B. Straubel joined as CTO in May 2004. All five are recognized as co-founders.\\n\\n### Roadster (2005–2009)')]\n",
      "==================================\u001b[1m Ai Message \u001b[0m==================================\n",
      "\n",
      "Tesla, Inc. was founded on July 1, 2003, by Martin Eberhard and Marc Tarpenning. Originally named Tesla Motors, it was established to develop electric vehicles and other sustainable energy products. Elon Musk joined the company later, becoming chairman in 2004 and subsequently the CEO in 2008. [출처: 도구: search_eng]\n"
     ]
    }
   ],
   "source": [
    "# 그래프 실행\n",
    "inputs = {\"messages\": [HumanMessage(content=\"When was Tesla founded?\")]}\n",
    "messages = graph.invoke(inputs)\n",
    "for m in messages['messages']:\n",
    "    m.pretty_print()"
   ]
  },
  {
   "cell_type": "code",
   "execution_count": null,
   "metadata": {},
   "outputs": [],
   "source": []
  }
 ],
 "metadata": {
  "kernelspec": {
   "display_name": "modu3",
   "language": "python",
   "name": "python3"
  },
  "language_info": {
   "codemirror_mode": {
    "name": "ipython",
    "version": 3
   },
   "file_extension": ".py",
   "mimetype": "text/x-python",
   "name": "python",
   "nbconvert_exporter": "python",
   "pygments_lexer": "ipython3",
   "version": "3.12.12"
  }
 },
 "nbformat": 4,
 "nbformat_minor": 2
}
