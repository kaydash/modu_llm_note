{
 "cells": [
  {
   "cell_type": "markdown",
   "metadata": {},
   "source": [
    "#  추천 시스템 - High Cardinallity\n",
    "\n",
    "---"
   ]
  },
  {
   "cell_type": "markdown",
   "metadata": {},
   "source": [
    "## 환경 설정 및 준비"
   ]
  },
  {
   "cell_type": "markdown",
   "metadata": {},
   "source": [
    "`(1) Env 환경변수`"
   ]
  },
  {
   "cell_type": "code",
   "execution_count": 1,
   "metadata": {},
   "outputs": [
    {
     "data": {
      "text/plain": [
       "True"
      ]
     },
     "execution_count": 1,
     "metadata": {},
     "output_type": "execute_result"
    }
   ],
   "source": [
    "from dotenv import load_dotenv\n",
    "load_dotenv()"
   ]
  },
  {
   "cell_type": "markdown",
   "metadata": {},
   "source": [
    "`(2) 기본 라이브러리`"
   ]
  },
  {
   "cell_type": "code",
   "execution_count": 2,
   "metadata": {},
   "outputs": [],
   "source": [
    "import os\n",
    "from glob import glob\n",
    "\n",
    "from pprint import pprint\n",
    "import json\n",
    "\n",
    "import warnings\n",
    "warnings.filterwarnings('ignore')"
   ]
  },
  {
   "cell_type": "markdown",
   "metadata": {},
   "source": [
    "`(3) SQLite DB`"
   ]
  },
  {
   "cell_type": "code",
   "execution_count": 3,
   "metadata": {},
   "outputs": [
    {
     "name": "stdout",
     "output_type": "stream",
     "text": [
      "sqlite\n",
      "['ETFs', 'ETFsInfo']\n",
      "('466400', '1Q 25-08 회사채(A+이상)액티브', '2023/09/19', '채권-회사채-단기', '하나자산운용', 4.52, 'KIS 2025-08만기형 크레딧 A+이상 지수(총수익)', 0.11, 111916276404.0, 0.03, '매우낮음', '실물(액티브)', 0.1, '배당소득세(보유기간과세)')\n",
      "('491610', '1Q CD금리액티브(합성)', '2024/09/24', '기타', '하나자산운용', 0.0, 'KIS 하나 CD금리 총수익지수', 0.05, 316206006696.0, 0.02, '매우낮음', '합성(액티브)', 0.02, '배당소득세(보유기간과세)')\n",
      "('451060', '1Q K200액티브', '2023/01/31', '주식-시장대표', '하나자산운용', -3.66, '코스피 200', 0.77, 99754348820.0, -0.01, '높음', '실물(액티브)', 0.18, '배당소득세(보유기간과세)')\n",
      "('463290', '1Q 단기금융채액티브', '2023/08/03', '채권-혼합-단기', '하나자산운용', 4.01, 'MK 머니마켓 지수(총수익)', 0.05, 252717462257.0, 0.0, '매우낮음', '실물(액티브)', 0.08, '배당소득세(보유기간과세)')\n",
      "('479080', '1Q 머니마켓액티브', '2024/04/02', '채권-혼합-단기', '하나자산운용', 0.0, 'KIS-하나 MMF 지수(총수익)', 0.06, 308255065986.0, -0.01, '매우낮음', '실물(액티브)', 0.05, '배당소득세(보유기간과세)')\n"
     ]
    }
   ],
   "source": [
    "from langchain_community.utilities import SQLDatabase\n",
    "\n",
    "# ETF 데이터베이스 연결\n",
    "db = SQLDatabase.from_uri(\n",
    "    \"sqlite:///etf_database.db\",\n",
    "    )\n",
    "\n",
    "# 사용 가능한 테이블 목록 \n",
    "print(db.dialect)\n",
    "print(db.get_usable_table_names())\n",
    "etfs = db.run(\"SELECT * FROM ETFs LIMIT 5;\")\n",
    "\n",
    "for etf in eval(etfs):\n",
    "    print(etf)"
   ]
  },
  {
   "cell_type": "markdown",
   "metadata": {},
   "source": [
    "## **고유명사 처리** \n",
    "\n",
    "- **고유명사** 처리를 위한 **벡터 스토어** 구축\n",
    "\n",
    "- 사용자 질문 내 고유명사 **맞춤법 자동 검증** 기능\n",
    "\n",
    "- 정확한 **엔티티 매칭**을 통한 쿼리 정확도 향상\n",
    "\n",
    "- 벡터 기반 고유명사 자동 검증으로 검색 정확도 개선\n",
    "\n",
    "- 참조: https://python.langchain.com/docs/tutorials/sql_qa/"
   ]
  },
  {
   "cell_type": "markdown",
   "metadata": {},
   "source": [
    "### 1) **SQL QA Chain** 구현"
   ]
  },
  {
   "cell_type": "code",
   "execution_count": 4,
   "metadata": {},
   "outputs": [
    {
     "data": {
      "image/png": "[encoded data removed]",
      "text/plain": [
       "<IPython.core.display.Image object>"
      ]
     },
     "metadata": {},
     "output_type": "display_data"
    }
   ],
   "source": [
    "from typing import Annotated, TypedDict\n",
    "from langchain_openai import ChatOpenAI\n",
    "from langchain import hub\n",
    "from langchain_community.tools import QuerySQLDatabaseTool\n",
    "from langchain.prompts import ChatPromptTemplate\n",
    "from langgraph.graph import START, StateGraph \n",
    "from IPython.display import Image, display\n",
    "\n",
    "# 상태 정보를 저장하는 State 클래스\n",
    "class State(TypedDict):\n",
    "    question: str  # 입력 질문\n",
    "    query: str     # 생성된 쿼리\n",
    "    result: str    # 쿼리 결과\n",
    "    answer: str    # 생성된 답변\n",
    "\n",
    "# llm 모델 생성\n",
    "llm = ChatOpenAI(model=\"gpt-4.1-mini\")\n",
    "\n",
    "# sql 쿼리 생성 프롬프트 템플릿 생성\n",
    "query_prompt_template = ChatPromptTemplate.from_messages([\n",
    "    (\"system\", \"\"\"\n",
    "    Given an input question, create a syntactically correct {dialect} query to run to help find the answer. \n",
    "    Unless the user specifies in his question a specific number of examples they wish to obtain, \n",
    "    always limit your query to at most {top_k} results.\n",
    "      \n",
    "    You can order the results by a relevant column to return the most interesting examples in the database.\n",
    "    Never query for all the columns from a specific table, only ask for a the few relevant columns given the question.\n",
    "    Pay attention to use only the column names that you can see in the schema description. \n",
    "    Be careful to not query for columns that do not exist.\n",
    "      \n",
    "    Also, pay attention to which column is in which table.\n",
    "    Only use the following tables:\n",
    "    {table_info}\n",
    "    \"\"\"),\n",
    "    (\"user\", \"\"\"\n",
    "    Question:\n",
    "    {input}\n",
    "    \"\"\")\n",
    "])\n",
    "\n",
    "\n",
    "# SQL 쿼리 생성 함수\n",
    "class QueryOutput(TypedDict):\n",
    "    \"\"\"Generated SQL query.\"\"\"\n",
    "    query: Annotated[str, ..., \"Syntactically valid SQL query.\"]\n",
    "\n",
    "def write_query(state: State):\n",
    "    \"\"\"Generate SQL query to fetch information.\"\"\"\n",
    "    prompt = query_prompt_template.invoke(\n",
    "        {\n",
    "            \"dialect\": db.dialect,\n",
    "            \"top_k\": 10,\n",
    "            \"table_info\": db.get_table_info(),\n",
    "            \"input\": state[\"question\"],\n",
    "        }\n",
    "    )\n",
    "    structured_llm = llm.with_structured_output(QueryOutput)\n",
    "    result = structured_llm.invoke(prompt)\n",
    "    return {\"query\": result[\"query\"]}\n",
    "\n",
    "# SQL 쿼리 실행 함수\n",
    "def execute_query(state: State):\n",
    "    \"\"\"Execute SQL query.\"\"\"\n",
    "    execute_query_tool = QuerySQLDatabaseTool(db=db)\n",
    "    return {\"result\": execute_query_tool.invoke(state[\"query\"])}\n",
    "\n",
    "# 답변 생성 함수\n",
    "def generate_answer(state: State):\n",
    "    \"\"\"Answer question using retrieved information as context.\"\"\"\n",
    "    prompt = (\n",
    "        \"Given the following user question, corresponding SQL query, \"\n",
    "        \"and SQL result, answer the user question.\\n\\n\"\n",
    "        f'Question: {state[\"question\"]}\\n'\n",
    "        f'SQL Query: {state[\"query\"]}\\n'\n",
    "        f'SQL Result: {state[\"result\"]}'\n",
    "    )\n",
    "    response = llm.invoke(prompt)\n",
    "    return {\"answer\": response.content}\n",
    "\n",
    "\n",
    "# 상태 그래프 생성\n",
    "graph_builder = StateGraph(State).add_sequence(\n",
    "    [write_query, execute_query, generate_answer]\n",
    ")\n",
    "graph_builder.add_edge(START, \"write_query\")\n",
    "graph = graph_builder.compile()\n",
    "\n",
    "# 상태 그래프 시각화\n",
    "display(Image(graph.get_graph().draw_mermaid_png()))"
   ]
  },
  {
   "cell_type": "code",
   "execution_count": 5,
   "metadata": {},
   "outputs": [
    {
     "name": "stdout",
     "output_type": "stream",
     "text": [
      "{'write_query': {'query': \"SELECT COUNT(*) AS 운용사_ETF_개수 FROM ETFs WHERE 운용사 LIKE '%KB%';\"}}\n",
      "{'execute_query': {'result': '[(0,)]'}}\n",
      "{'generate_answer': {'answer': 'KB에서 운용하는 ETF는 없습니다.'}}\n"
     ]
    }
   ],
   "source": [
    "# 고유명사를 사용하는 쿼리 테스트 - 운용사\n",
    "for step in graph.stream(\n",
    "    {\"question\": \"KB에서 운용하는 ETF는 모두 몇개인가요?\"}, stream_mode=\"updates\"\n",
    "):\n",
    "    print(step)"
   ]
  },
  {
   "cell_type": "code",
   "execution_count": 6,
   "metadata": {},
   "outputs": [
    {
     "name": "stdout",
     "output_type": "stream",
     "text": [
      "{'write_query': {'query': \"SELECT COUNT(*) AS count FROM ETFs WHERE 운용사 = '케이비자산운용'\"}}\n",
      "{'execute_query': {'result': '[(118,)]'}}\n",
      "{'generate_answer': {'answer': '케이비자산운용에서 운용하는 ETF는 모두 118개입니다.'}}\n"
     ]
    }
   ],
   "source": [
    "# 고유명사를 사용하는 쿼리 테스트 - 운용사\n",
    "for step in graph.stream(\n",
    "    {\"question\": \"케이비자산운용에서 운용하는 ETF는 모두 몇개인가요?\"}, stream_mode=\"updates\"\n",
    "):\n",
    "    print(step)"
   ]
  },
  {
   "cell_type": "code",
   "execution_count": 7,
   "metadata": {},
   "outputs": [
    {
     "name": "stdout",
     "output_type": "stream",
     "text": [
      "{'write_query': {'query': \"SELECT COUNT(*) AS DowJones_ETF_Count FROM ETFs WHERE 기초지수 LIKE '%Dow Jones%' LIMIT 10\"}}\n",
      "{'execute_query': {'result': '[(16,)]'}}\n",
      "{'generate_answer': {'answer': 'Dow Jones ETF는 총 16개입니다.'}}\n"
     ]
    }
   ],
   "source": [
    "# 고유명사를 사용하는 쿼리 테스트 - ETF\n",
    "for step in graph.stream(\n",
    "    {\"question\": \"Dow Jones ETF는 모두 몇개인가요?\"}, stream_mode=\"updates\"\n",
    "):\n",
    "    print(step)"
   ]
  },
  {
   "cell_type": "markdown",
   "metadata": {},
   "source": [
    "### 2) **고유명사 DB** 연동"
   ]
  },
  {
   "cell_type": "markdown",
   "metadata": {},
   "source": [
    "`(1) DB 테이블에서 고유명사 추출`"
   ]
  },
  {
   "cell_type": "code",
   "execution_count": 8,
   "metadata": {},
   "outputs": [
    {
     "name": "stdout",
     "output_type": "stream",
     "text": [
      "ETF 종목 수: 925\n",
      "운용사 수: 26\n",
      "\n",
      "\n",
      "ETF 종목명: ['PLUS 미국S&P500', 'TIGER 소프트웨어', 'TIMEFOLIO 코스피액티브', 'TIGER 코리아테크액티브', 'KODEX 미국30년국채액티브(H)']\n",
      "운용사: ['에셋플러스자산운용', '브이아이자산운용', '유리에셋', '케이비자산운용', '하나자산운용']\n"
     ]
    }
   ],
   "source": [
    "import ast\n",
    "import re\n",
    "\n",
    "def query_as_list(db, query):\n",
    "    res = db.run(query)\n",
    "    res = [el for sub in ast.literal_eval(res) for el in sub if el]\n",
    "    res = [re.sub(r\"\\b\\d+\\b\", \"\", string).strip() for string in res]\n",
    "    return list(set(res))\n",
    "\n",
    "\n",
    "etfs = query_as_list(db, \"SELECT DISTINCT 종목명 FROM ETFs\")\n",
    "fund_managers = query_as_list(db, \"SELECT DISTINCT 운용사 FROM ETFs\")\n",
    "\n",
    "# 결과 출력\n",
    "print(f\"ETF 종목 수: {len(etfs)}\")\n",
    "print(f\"운용사 수: {len(fund_managers)}\")\n",
    "\n",
    "print(\"\\n\")\n",
    "\n",
    "print(f\"ETF 종목명: {etfs[:5]}\")\n",
    "print(f\"운용사: {fund_managers[:5]}\")"
   ]
  },
  {
   "cell_type": "markdown",
   "metadata": {},
   "source": [
    "`(2) 고유명사를 벡터스토어에 저장`"
   ]
  },
  {
   "cell_type": "code",
   "execution_count": 9,
   "metadata": {},
   "outputs": [],
   "source": [
    "from langchain_openai import OpenAIEmbeddings\n",
    "from langchain_core.vectorstores import InMemoryVectorStore\n",
    "\n",
    "# 임베딩 모델 생성\n",
    "# embeddings = OpenAIEmbeddings(model=\"text-embedding-3-small\") \n",
    "embeddings = OpenAIEmbeddings(model=\"text-embedding-3-large\") # \"text-embedding-3-large\" 모델 비교\n",
    "\n",
    "# 임베딩 벡터 저장소 생성\n",
    "vector_store = InMemoryVectorStore(embeddings)\n",
    "\n",
    "# ETF 종목명과 운용사를 임베딩 벡터로 변환\n",
    "_ = vector_store.add_texts(etfs + fund_managers)\n",
    "retriever = vector_store.as_retriever(search_kwargs={\"k\": 10})"
   ]
  },
  {
   "cell_type": "code",
   "execution_count": 10,
   "metadata": {},
   "outputs": [
    {
     "data": {
      "text/plain": [
       "[Document(id='e7605dba-83f2-44a9-9a7f-715316d173ff', metadata={}, page_content='케이비자산운용'),\n",
       " Document(id='683f5c3d-55c4-46df-94e7-153df1779583', metadata={}, page_content='KOSEF 블루칩'),\n",
       " Document(id='4669aae6-c5d3-4136-b50f-5777222be0aa', metadata={}, page_content='아이비케이자산운용'),\n",
       " Document(id='9d791cf6-7f4a-499c-ae6e-8e1177d31101', metadata={}, page_content='케이씨지아이자산운용'),\n",
       " Document(id='36d26de2-b232-4f3b-960d-870c15e0e449', metadata={}, page_content='PLUS 고배당주위클리커버드콜'),\n",
       " Document(id='c350042e-9c18-42d2-8383-bd4332e8b2a8', metadata={}, page_content='KOSEF 코리아밸류업'),\n",
       " Document(id='83ee11fa-967c-4720-8dc5-e98d316d95e9', metadata={}, page_content='KOSEF'),\n",
       " Document(id='a4aadd08-e183-4da9-b01a-dbf2ca8ff0f0', metadata={}, page_content='KOSEF 물가채KIS'),\n",
       " Document(id='fb6c82f6-fbeb-4c37-ae85-d8ca0d9d12d2', metadata={}, page_content='KODEX 바이오'),\n",
       " Document(id='55cb1eaf-b34b-43e7-87eb-7dfda336d611', metadata={}, page_content='RISE KQ고배당')]"
      ]
     },
     "execution_count": 10,
     "metadata": {},
     "output_type": "execute_result"
    }
   ],
   "source": [
    "# 임베딩 벡터 검색 - 운용사\n",
    "retriever.invoke(\"케이비\")"
   ]
  },
  {
   "cell_type": "code",
   "execution_count": 11,
   "metadata": {},
   "outputs": [
    {
     "data": {
      "text/plain": [
       "[Document(id='4669aae6-c5d3-4136-b50f-5777222be0aa', metadata={}, page_content='아이비케이자산운용'),\n",
       " Document(id='7eba4c0b-99a1-474c-989e-747ca59fc4d6', metadata={}, page_content='비엔케이자산운용'),\n",
       " Document(id='cdf2590f-16d8-4dd2-807a-36a05aaaf785', metadata={}, page_content='PLUS 코리아밸류업'),\n",
       " Document(id='e254f0cd-7322-45ea-9a0a-993cb40a03f9', metadata={}, page_content='키움투자자산운용'),\n",
       " Document(id='e7605dba-83f2-44a9-9a7f-715316d173ff', metadata={}, page_content='케이비자산운용'),\n",
       " Document(id='83a37230-3ffd-4ca0-b485-b62e354e1e26', metadata={}, page_content='BNK 미래전략기술액티브'),\n",
       " Document(id='7c7661de-42db-4fd6-84ba-4264f0eb00ea', metadata={}, page_content='PLUS K방산'),\n",
       " Document(id='97425737-8fad-4b82-a7ee-762855e2519b', metadata={}, page_content='PLUS 고배당주'),\n",
       " Document(id='c350042e-9c18-42d2-8383-bd4332e8b2a8', metadata={}, page_content='KOSEF 코리아밸류업'),\n",
       " Document(id='6d26adec-d2b0-4351-a54f-14becd930fd5', metadata={}, page_content='BNK 온디바이스AI')]"
      ]
     },
     "execution_count": 11,
     "metadata": {},
     "output_type": "execute_result"
    }
   ],
   "source": [
    "# 임베딩 벡터 검색 - 운용사\n",
    "retriever.invoke(\"KB운용\")"
   ]
  },
  {
   "cell_type": "code",
   "execution_count": 12,
   "metadata": {},
   "outputs": [
    {
     "data": {
      "text/plain": [
       "[Document(id='66527735-8fff-4661-a561-2d41bf77a515', metadata={}, page_content='SOL 미국배당다우존스'),\n",
       " Document(id='61d038aa-b4cc-45b5-930b-9926101068c8', metadata={}, page_content='SOL 미국배당다우존스TR'),\n",
       " Document(id='debacd17-bef1-4db2-a9b3-c42881b7f111', metadata={}, page_content='SOL 미국배당다우존스(H)'),\n",
       " Document(id='59fc78b7-b897-491c-930d-877ec1836ee4', metadata={}, page_content='PLUS 미국다우존스고배당주(합성 H)'),\n",
       " Document(id='17029ae0-df2b-487c-aec2-700a024c2cad', metadata={}, page_content='TIGER 미국배당다우존스'),\n",
       " Document(id='cdee619b-72d5-4b5e-b105-09c5b9d31467', metadata={}, page_content='KODEX 미국배당다우존스'),\n",
       " Document(id='8f96ece1-c0c5-41c1-9e94-c4444b61f265', metadata={}, page_content='ACE 미국배당다우존스'),\n",
       " Document(id='c106a60d-f511-4f95-9ce1-b6d415ee3d27', metadata={}, page_content='WON 미국S&P500'),\n",
       " Document(id='eb872311-8673-47b3-b257-6d00449c441f', metadata={}, page_content='TIGER 미국다우존스30'),\n",
       " Document(id='ebe69e47-db3f-4af6-93cf-1c137ddeabc5', metadata={}, page_content='KODEX 대만테크고배당다우존스')]"
      ]
     },
     "execution_count": 12,
     "metadata": {},
     "output_type": "execute_result"
    }
   ],
   "source": [
    "# 임베딩 벡터 검색 - ETF 종목명\n",
    "retriever.invoke(\"Dow Jones\")"
   ]
  },
  {
   "cell_type": "code",
   "execution_count": 13,
   "metadata": {},
   "outputs": [
    {
     "data": {
      "text/plain": [
       "[Document(id='8f96ece1-c0c5-41c1-9e94-c4444b61f265', metadata={}, page_content='ACE 미국배당다우존스'),\n",
       " Document(id='ebe69e47-db3f-4af6-93cf-1c137ddeabc5', metadata={}, page_content='KODEX 대만테크고배당다우존스'),\n",
       " Document(id='66527735-8fff-4661-a561-2d41bf77a515', metadata={}, page_content='SOL 미국배당다우존스'),\n",
       " Document(id='cdee619b-72d5-4b5e-b105-09c5b9d31467', metadata={}, page_content='KODEX 미국배당다우존스'),\n",
       " Document(id='61d038aa-b4cc-45b5-930b-9926101068c8', metadata={}, page_content='SOL 미국배당다우존스TR'),\n",
       " Document(id='debacd17-bef1-4db2-a9b3-c42881b7f111', metadata={}, page_content='SOL 미국배당다우존스(H)'),\n",
       " Document(id='17029ae0-df2b-487c-aec2-700a024c2cad', metadata={}, page_content='TIGER 미국배당다우존스'),\n",
       " Document(id='59fc78b7-b897-491c-930d-877ec1836ee4', metadata={}, page_content='PLUS 미국다우존스고배당주(합성 H)'),\n",
       " Document(id='9b818571-c878-45f6-83fe-2c5def2448c5', metadata={}, page_content='KODEX 미국배당다우존스타겟커버드콜'),\n",
       " Document(id='eb872311-8673-47b3-b257-6d00449c441f', metadata={}, page_content='TIGER 미국다우존스30')]"
      ]
     },
     "execution_count": 13,
     "metadata": {},
     "output_type": "execute_result"
    }
   ],
   "source": [
    "# 임베딩 벡터 검색 - ETF 종목명\n",
    "retriever.invoke(\"다우존스\")"
   ]
  },
  {
   "cell_type": "markdown",
   "metadata": {},
   "source": [
    "`(3) 검색 결과 변환하는 함수`"
   ]
  },
  {
   "cell_type": "code",
   "execution_count": 14,
   "metadata": {},
   "outputs": [
    {
     "name": "stdout",
     "output_type": "stream",
     "text": [
      "KOSEF 미국ETF산업STOXX\n",
      "\n",
      "키움투자자산운용\n",
      "\n",
      "한국투자밸류자산운용\n",
      "\n",
      "KODEX 미국ETF산업Top10 Indxx\n",
      "\n",
      "KODEX iShares미국투자등급회사채액티브\n",
      "\n",
      "케이비자산운용\n",
      "\n",
      "KODEX iShares미국인플레이션국채액티브\n",
      "\n",
      "KODEX iShares미국하이일드액티브\n",
      "\n",
      "KOSEF 미국방어배당성장나스닥\n",
      "\n",
      "KOSEF 미국나스닥100(H)\n"
     ]
    }
   ],
   "source": [
    "from langchain.agents.agent_toolkits import create_retriever_tool\n",
    "\n",
    "# 검색 프롬프트 생성\n",
    "description = (\n",
    "    \"Use to look up values to filter on. Input is an approximate spelling \"\n",
    "    \"of the proper noun, output is valid proper nouns. Use the noun most \"\n",
    "    \"similar to the search.\"\n",
    ")\n",
    "\n",
    "# 검색 도구 생성\n",
    "entity_retriever_tool = create_retriever_tool(\n",
    "    retriever,\n",
    "    name=\"search_proper_nouns\",\n",
    "    description=description,\n",
    ")\n",
    "\n",
    "# 검색 도구 사용\n",
    "print(entity_retriever_tool.invoke(\"KB에서 운용하는 ETF는 모두 몇개인가요?\"))"
   ]
  },
  {
   "cell_type": "code",
   "execution_count": 15,
   "metadata": {},
   "outputs": [
    {
     "name": "stdout",
     "output_type": "stream",
     "text": [
      "KODEX 미국ETF산업Top10 Indxx\n",
      "\n",
      "PLUS 미국다우존스고배당주(합성 H)\n",
      "\n",
      "KODEX iShares미국인플레이션국채액티브\n",
      "\n",
      "KODEX 미국배당다우존스\n",
      "\n",
      "SOL 미국배당다우존스(H)\n",
      "\n",
      "KODEX 미국배당다우존스타겟커버드콜\n",
      "\n",
      "SOL 미국배당다우존스TR\n",
      "\n",
      "KODEX iShares미국투자등급회사채액티브\n",
      "\n",
      "SOL 미국배당다우존스\n",
      "\n",
      "TIGER 미국다우존스30\n"
     ]
    }
   ],
   "source": [
    "print(entity_retriever_tool.invoke(\"Dow Jones 관련 ETF는 무엇인가요?\"))"
   ]
  },
  {
   "cell_type": "markdown",
   "metadata": {},
   "source": [
    "`(4) 쿼리 생성하는 사용자 프롬프트 정의`"
   ]
  },
  {
   "cell_type": "code",
   "execution_count": 16,
   "metadata": {},
   "outputs": [
    {
     "name": "stdout",
     "output_type": "stream",
     "text": [
      "Input variables: ['dialect', 'entity_info', 'input', 'table_info', 'top_k']\n"
     ]
    }
   ],
   "source": [
    "from langchain_core.prompts import ChatPromptTemplate\n",
    "\n",
    "# 테이블 정보와 엔티티 관계를 포함한 프롬프트 템플릿\n",
    "entity_query_template = \"\"\"\n",
    "Given an input question, create a syntactically correct {dialect} query to run to help find the answer. Unless the user specifies in his question a specific number of examples they wish to obtain, always limit your query to at most {top_k} results. You can order the results by a relevant column to return the most interesting examples in the database.\n",
    "\n",
    "Never query for all the columns from a specific table, only ask for a the few relevant columns given the question.\n",
    "\n",
    "Pay attention to use only the column names that you can see in the schema description. Be careful to not query for columns that do not exist. Also, pay attention to which column is in which table.\n",
    "\n",
    "Only use the following tables:\n",
    "{table_info}\n",
    "\n",
    "Entity names and their relationships to consider:\n",
    "{entity_info}\n",
    "\n",
    "## Matching Guidelines\n",
    "- Use exact matches when comparing entity names\n",
    "- Check for historical name variations if available\n",
    "- Apply case-sensitive matching for official names\n",
    "- Handle both Korean and English entity names when present\n",
    "\n",
    "Question: {input}\n",
    "\"\"\"\n",
    "\n",
    "# 새로운 ChatPromptTemplate 생성\n",
    "query_prompt_template = ChatPromptTemplate.from_template(entity_query_template)\n",
    "\n",
    "# 입력 변수 확인\n",
    "print(\"Input variables:\", query_prompt_template.input_variables)"
   ]
  },
  {
   "cell_type": "code",
   "execution_count": 17,
   "metadata": {},
   "outputs": [
    {
     "data": {
      "text/plain": [
       "{'query': \"SELECT COUNT(*) AS ETF_개수 FROM ETFs WHERE 운용사 = '케이비자산운용';\"}"
      ]
     },
     "execution_count": 17,
     "metadata": {},
     "output_type": "execute_result"
    }
   ],
   "source": [
    "def write_query(state: State):\n",
    "    \"\"\"Generate SQL query to fetch information.\"\"\"\n",
    "    prompt = query_prompt_template.invoke(\n",
    "        {\n",
    "            \"dialect\": db.dialect,\n",
    "            \"top_k\": 10,\n",
    "            \"table_info\": db.get_table_info(),\n",
    "            \"input\": state[\"question\"],\n",
    "            \"entity_info\": entity_retriever_tool.invoke(state[\"question\"]),\n",
    "        }\n",
    "    )\n",
    "    structured_llm = llm.with_structured_output(QueryOutput)\n",
    "    result = structured_llm.invoke(prompt)\n",
    "    return {\"query\": result[\"query\"]}\n",
    "\n",
    "\n",
    "# 쿼리 실행\n",
    "response = write_query({\"question\": \"KB에서 운용하는 ETF는 모두 몇개인가요?\"})\n",
    "\n",
    "response"
   ]
  },
  {
   "cell_type": "markdown",
   "metadata": {},
   "source": [
    "`(5) 상태 그래프 초기화`"
   ]
  },
  {
   "cell_type": "code",
   "execution_count": 18,
   "metadata": {},
   "outputs": [
    {
     "data": {
      "image/png": "[encoded data removed]",
      "text/plain": [
       "<IPython.core.display.Image object>"
      ]
     },
     "metadata": {},
     "output_type": "display_data"
    }
   ],
   "source": [
    "from langgraph.graph import START, StateGraph \n",
    "\n",
    "graph_builder = StateGraph(State)\n",
    "\n",
    "graph_builder.add_node(\"write_query\", write_query)\n",
    "graph_builder.add_node(\"execute_query\", execute_query)\n",
    "graph_builder.add_node(\"generate_answer\", generate_answer)\n",
    "\n",
    "graph_builder.add_edge(START, \"write_query\")\n",
    "graph_builder.add_edge(\"write_query\", \"execute_query\")\n",
    "graph_builder.add_edge(\"execute_query\", \"generate_answer\")  \n",
    "graph = graph_builder.compile()\n",
    "\n",
    "\n",
    "from IPython.display import Image, display\n",
    "display(Image(graph.get_graph().draw_mermaid_png()))"
   ]
  },
  {
   "cell_type": "code",
   "execution_count": 19,
   "metadata": {},
   "outputs": [
    {
     "name": "stdout",
     "output_type": "stream",
     "text": [
      "{'write_query': {'query': \"SELECT COUNT(*) AS 운용하는_ETF_수 FROM ETFs WHERE 운용사 = '케이비자산운용';\"}}\n",
      "{'execute_query': {'result': '[(118,)]'}}\n",
      "{'generate_answer': {'answer': 'KB에서 운용하는 ETF는 모두 118개입니다.'}}\n"
     ]
    }
   ],
   "source": [
    "# 고유명사를 사용하는 쿼리 테스트 - 운용사\n",
    "for step in graph.stream(\n",
    "    {\"question\": \"KB에서 운용하는 ETF는 모두 몇개인가요?\"}, stream_mode=\"updates\"\n",
    "):\n",
    "    print(step)"
   ]
  },
  {
   "cell_type": "code",
   "execution_count": 20,
   "metadata": {},
   "outputs": [
    {
     "name": "stdout",
     "output_type": "stream",
     "text": [
      "{'write_query': {'query': \"SELECT COUNT(*) AS ETF_Count FROM ETFs WHERE 운용사 LIKE '%케이비%';\"}}\n",
      "{'execute_query': {'result': '[(118,)]'}}\n",
      "{'generate_answer': {'answer': '케이비에서 운용하는 ETF는 모두 118개입니다.'}}\n"
     ]
    }
   ],
   "source": [
    "# 고유명사를 사용하는 쿼리 테스트 - 운용사\n",
    "for step in graph.stream(\n",
    "    {\"question\": \"케이비에서 운용하는 ETF는 모두 몇개인가요?\"}, stream_mode=\"updates\"\n",
    "):\n",
    "    print(step)"
   ]
  },
  {
   "cell_type": "code",
   "execution_count": 21,
   "metadata": {},
   "outputs": [
    {
     "name": "stdout",
     "output_type": "stream",
     "text": [
      "{'write_query': {'query': \"SELECT COUNT(*) AS DowJones_ETF_Count FROM ETFs WHERE 종목명 LIKE '%다우존스%'\"}}\n",
      "{'execute_query': {'result': '[(12,)]'}}\n",
      "{'generate_answer': {'answer': 'Dow Jones ETF는 모두 12개입니다.'}}\n"
     ]
    }
   ],
   "source": [
    "# 고유명사를 사용하는 쿼리 테스트 - ETF\n",
    "for step in graph.stream(\n",
    "    {\"question\": \"Dow Jones ETF는 모두 몇개인가요?\"}, stream_mode=\"updates\"\n",
    "):\n",
    "    print(step)"
   ]
  },
  {
   "cell_type": "markdown",
   "metadata": {},
   "source": [
    "---\n",
    "\n",
    "## [실습] **고유명사 DB 구축**\n",
    "\n",
    "- \"ETFInfo\" 테이블의 \"기초자산\" 등 다른 필드의 값에 있는 고유명사를 추출\n",
    "- 추출한 고유명사를 벡터 저장소에 저장하고 검색기를 생성 \n",
    "- SQL 체인 테스트"
   ]
  },
  {
   "cell_type": "code",
   "execution_count": 22,
   "metadata": {},
   "outputs": [
    {
     "name": "stdout",
     "output_type": "stream",
     "text": [
      "기초자산 수: 63\n",
      "기초시장 수: 27\n",
      "기초지수명 수: 706\n",
      "\n",
      "\n",
      "기초자산 샘플: ['(원자재) (금속) / (-) (구리) / (-)', '(주식) (업종섹터) / (-) (정보기술) / (-)', '(채권) (혼합) / (혼합) (중기) / (장기)', '(주식) (업종섹터) / (업종섹터) (업종테마) / (헬스케어)', '(주식) (업종섹터) / (-) (커뮤니케이션서비스) / (-)']\n",
      "기초시장 샘플: ['(해외) (선진국) (-)', '(해외) (아시아) (베트남)', '(해외) (남미) (멕시코)', '(해외) (글로벌) (-)', '(국내&해외) (-) (-)']\n",
      "기초지수명 샘플: ['FnGuide K-뷰티 지수', 'Markit iBoxx USD Liquid Investment Grade Index(Total Return)', 'KAP MMF 지수(TR)']\n",
      "\n",
      "\n",
      "전체 고유명사 수: 1747\n",
      "\n",
      "=== 검색 테스트 ===\n",
      "\n",
      "[테스트 1] 기초자산 검색 - '주식'\n",
      "  - 주식국채혼합(주식형)지수\n",
      "  - (주식) (전략) / (-) (가치) / (-)\n",
      "  - (주식) (전략) / (-) (배당) / (-)\n",
      "\n",
      "[테스트 2] 기초시장 검색 - '미국'\n",
      "  - (해외) (북미) (미국)\n",
      "  - PLUS 미국나스닥테크\n",
      "  - PLUS 미국대체투자Top10\n",
      "\n",
      "[테스트 3] 기초지수명 검색 - 'S&P'\n",
      "  - S&P\n",
      "  - S&P  Growth Index(PR)\n",
      "  - S&P  Total Return Index\n"
     ]
    }
   ],
   "source": [
    "# (1) ETFsInfo 테이블에서 고유명사 추출\n",
    "# 기초자산, 기초시장 등의 필드에서 고유명사 추출\n",
    "assets = query_as_list(db, \"SELECT DISTINCT 기초자산 FROM ETFsInfo WHERE 기초자산 IS NOT NULL AND 기초자산 != ''\")\n",
    "markets = query_as_list(db, \"SELECT DISTINCT 기초시장 FROM ETFsInfo WHERE 기초시장 IS NOT NULL AND 기초시장 != ''\")\n",
    "index_names = query_as_list(db, \"SELECT DISTINCT 기초지수명 FROM ETFsInfo WHERE 기초지수명 IS NOT NULL AND 기초지수명 != ''\")\n",
    "\n",
    "# 결과 출력\n",
    "print(f\"기초자산 수: {len(assets)}\")\n",
    "print(f\"기초시장 수: {len(markets)}\")\n",
    "print(f\"기초지수명 수: {len(index_names)}\")\n",
    "\n",
    "print(\"\\n\")\n",
    "\n",
    "print(f\"기초자산 샘플: {assets[:5]}\")\n",
    "print(f\"기초시장 샘플: {markets[:5]}\")\n",
    "print(f\"기초지수명 샘플: {index_names[:3]}\")\n",
    "\n",
    "print(\"\\n\")\n",
    "\n",
    "# (2) 고유명사를 벡터스토어에 저장 (기존 저장소에 추가)\n",
    "# 기존의 etfs, fund_managers에 새로운 고유명사 추가\n",
    "all_entities = etfs + fund_managers + assets + markets + index_names\n",
    "\n",
    "# 새로운 벡터 저장소 생성 (기존 + 신규)\n",
    "vector_store_v2 = InMemoryVectorStore(embeddings)\n",
    "_ = vector_store_v2.add_texts(all_entities)\n",
    "retriever_v2 = vector_store_v2.as_retriever(search_kwargs={\"k\": 10})\n",
    "\n",
    "print(f\"전체 고유명사 수: {len(all_entities)}\")\n",
    "\n",
    "# (3) 검색 테스트\n",
    "print(\"\\n=== 검색 테스트 ===\")\n",
    "print(\"\\n[테스트 1] 기초자산 검색 - '주식'\")\n",
    "test_result_1 = retriever_v2.invoke(\"주식\")\n",
    "for doc in test_result_1[:3]:\n",
    "    print(f\"  - {doc.page_content}\")\n",
    "\n",
    "print(\"\\n[테스트 2] 기초시장 검색 - '미국'\")\n",
    "test_result_2 = retriever_v2.invoke(\"미국\")\n",
    "for doc in test_result_2[:3]:\n",
    "    print(f\"  - {doc.page_content}\")\n",
    "\n",
    "print(\"\\n[테스트 3] 기초지수명 검색 - 'S&P'\")\n",
    "test_result_3 = retriever_v2.invoke(\"S&P\")\n",
    "for doc in test_result_3[:3]:\n",
    "    print(f\"  - {doc.page_content}\")"
   ]
  },
  {
   "cell_type": "code",
   "execution_count": 23,
   "metadata": {},
   "outputs": [
    {
     "name": "stdout",
     "output_type": "stream",
     "text": [
      "=== 검색 도구 테스트 ===\n",
      "\n",
      "[테스트] '미국 주식 ETF는 무엇인가요?'\n",
      "ACE 미국S&P500채권혼합액티브\n",
      "\n",
      "TIGER 미국나스닥100ETF선물\n",
      "\n",
      "KOSEF 미국ETF산업STOXX\n",
      "\n",
      "KODEX iShares미국투자등급회사채액티브\n",
      "\n",
      "KODEX iShares미국인플레이션국채액티브\n",
      "\n",
      "PLUS 미국S&P500성장주\n",
      "\n",
      "STOXX USA ETF Industry Index (KRW)\n",
      "\n",
      "KRX 나스닥  ETF 선물지수\n",
      "\n",
      "PLUS 미국S&P500\n",
      "\n",
      "KODEX 미국ETF산업Top10 Indxx\n"
     ]
    }
   ],
   "source": [
    "# (4) 업데이트된 검색 도구 생성\n",
    "# 새로운 벡터 저장소를 사용하는 검색 도구 생성\n",
    "entity_retriever_tool_v2 = create_retriever_tool(\n",
    "    retriever_v2,\n",
    "    name=\"search_proper_nouns_v2\",\n",
    "    description=description,\n",
    ")\n",
    "\n",
    "# 검색 도구 테스트\n",
    "print(\"=== 검색 도구 테스트 ===\")\n",
    "print(\"\\n[테스트] '미국 주식 ETF는 무엇인가요?'\")\n",
    "tool_result = entity_retriever_tool_v2.invoke(\"미국 주식 ETF는 무엇인가요?\")\n",
    "print(tool_result)"
   ]
  },
  {
   "cell_type": "code",
   "execution_count": 24,
   "metadata": {},
   "outputs": [
    {
     "data": {
      "image/png": "[encoded data removed]",
      "text/plain": [
       "<IPython.core.display.Image object>"
      ]
     },
     "metadata": {},
     "output_type": "display_data"
    }
   ],
   "source": [
    "# (5) 업데이트된 write_query 함수 및 SQL 체인 재구성\n",
    "def write_query_v2(state: State):\n",
    "    \"\"\"Generate SQL query to fetch information with updated entity retriever.\"\"\"\n",
    "    prompt = query_prompt_template.invoke(\n",
    "        {\n",
    "            \"dialect\": db.dialect,\n",
    "            \"top_k\": 10,\n",
    "            \"table_info\": db.get_table_info(),\n",
    "            \"input\": state[\"question\"],\n",
    "            \"entity_info\": entity_retriever_tool_v2.invoke(state[\"question\"]),\n",
    "        }\n",
    "    )\n",
    "    structured_llm = llm.with_structured_output(QueryOutput)\n",
    "    result = structured_llm.invoke(prompt)\n",
    "    return {\"query\": result[\"query\"]}\n",
    "\n",
    "\n",
    "# 새로운 상태 그래프 생성\n",
    "graph_builder_v2 = StateGraph(State)\n",
    "\n",
    "graph_builder_v2.add_node(\"write_query\", write_query_v2)\n",
    "graph_builder_v2.add_node(\"execute_query\", execute_query)\n",
    "graph_builder_v2.add_node(\"generate_answer\", generate_answer)\n",
    "\n",
    "graph_builder_v2.add_edge(START, \"write_query\")\n",
    "graph_builder_v2.add_edge(\"write_query\", \"execute_query\")\n",
    "graph_builder_v2.add_edge(\"execute_query\", \"generate_answer\")  \n",
    "graph_v2 = graph_builder_v2.compile()\n",
    "\n",
    "# 상태 그래프 시각화\n",
    "from IPython.display import Image, display\n",
    "display(Image(graph_v2.get_graph().draw_mermaid_png()))"
   ]
  },
  {
   "cell_type": "code",
   "execution_count": 25,
   "metadata": {},
   "outputs": [
    {
     "name": "stdout",
     "output_type": "stream",
     "text": [
      "=== SQL 체인 테스트 1: 기초자산 ===\n",
      "{'write_query': {'query': \"SELECT COUNT(*) AS 주식기초자산_ETF_수 FROM ETFsInfo WHERE 기초자산 LIKE '%주식%'\"}}\n",
      "{'execute_query': {'result': '[(694,)]'}}\n",
      "{'generate_answer': {'answer': '주식을 기초자산으로 하는 ETF는 총 694개입니다.'}}\n"
     ]
    }
   ],
   "source": [
    "# (6) SQL 체인 테스트 - 기초자산 및 기초시장 관련 쿼리\n",
    "print(\"=== SQL 체인 테스트 1: 기초자산 ===\")\n",
    "for step in graph_v2.stream(\n",
    "    {\"question\": \"주식을 기초자산으로 하는 ETF는 몇 개인가요?\"}, stream_mode=\"updates\"\n",
    "):\n",
    "    print(step)"
   ]
  },
  {
   "cell_type": "code",
   "execution_count": 26,
   "metadata": {},
   "outputs": [
    {
     "name": "stdout",
     "output_type": "stream",
     "text": [
      "\n",
      "=== SQL 체인 테스트 2: 기초시장 ===\n",
      "{'write_query': {'query': \"SELECT COUNT(*) AS 미국_기초시장_ETF_수 FROM ETFsInfo WHERE 기초시장 LIKE '%미국%'\"}}\n",
      "{'execute_query': {'result': '[(188,)]'}}\n",
      "{'generate_answer': {'answer': '미국 시장을 기초시장으로 하는 ETF는 총 188개입니다.'}}\n"
     ]
    }
   ],
   "source": [
    "# SQL 체인 테스트 2: 기초시장\n",
    "print(\"\\n=== SQL 체인 테스트 2: 기초시장 ===\")\n",
    "for step in graph_v2.stream(\n",
    "    {\"question\": \"미국 시장을 기초시장으로 하는 ETF는 몇 개인가요?\"}, stream_mode=\"updates\"\n",
    "):\n",
    "    print(step)"
   ]
  },
  {
   "cell_type": "code",
   "execution_count": 27,
   "metadata": {},
   "outputs": [
    {
     "name": "stdout",
     "output_type": "stream",
     "text": [
      "\n",
      "=== SQL 체인 테스트 3: 기초지수명 ===\n",
      "{'write_query': {'query': \"SELECT 종목코드, 종목명, 운용사, 수익률_최근1년 FROM ETFs WHERE 기초지수 LIKE '%S&P 500%' LIMIT 10;\"}}\n",
      "{'execute_query': {'result': \"[('360200', 'ACE 미국S&P500', '한국투자신탁운용', 41.85), ('432840', 'HANARO 미국S&P500', '엔에이치아문디자산운용', 41.36), ('449180', 'KODEX 미국S&P500(H)', '삼성자산운용', 25.42), ('379800', 'KODEX 미국S&P500TR', '삼성자산운용', 44.02), ('219480', 'KODEX 미국S&P500선물(H)', '삼성자산운용', 24.98), ('441640', 'KODEX 미국배당커버드콜액티브', '삼성자산운용', 21.89), ('449770', 'KOSEF 미국S&P500', '키움투자자산운용', 42.78), ('449780', 'KOSEF 미국S&P500(H)', '키움투자자산운용', 27.54), ('429760', 'PLUS 미국S&P500', '한화자산운용', 40.17), ('269540', 'PLUS 미국S&P500(H)', '한화자산운용', 27.17)]\"}}\n",
      "{'generate_answer': {'answer': 'S&P 500 지수를 추종하는 ETF는 다음과 같습니다:\\n\\n1. ACE 미국S&P500 (운용사: 한국투자신탁운용, 최근 1년 수익률: 41.85%)\\n2. HANARO 미국S&P500 (운용사: 엔에이치아문디자산운용, 최근 1년 수익률: 41.36%)\\n3. KODEX 미국S&P500(H) (운용사: 삼성자산운용, 최근 1년 수익률: 25.42%)\\n4. KODEX 미국S&P500TR (운용사: 삼성자산운용, 최근 1년 수익률: 44.02%)\\n5. KODEX 미국S&P500선물(H) (운용사: 삼성자산운용, 최근 1년 수익률: 24.98%)\\n6. KOSEF 미국S&P500 (운용사: 키움투자자산운용, 최근 1년 수익률: 42.78%)\\n7. KOSEF 미국S&P500(H) (운용사: 키움투자자산운용, 최근 1년 수익률: 27.54%)\\n8. PLUS 미국S&P500 (운용사: 한화자산운용, 최근 1년 수익률: 40.17%)\\n9. PLUS 미국S&P500(H) (운용사: 한화자산운용, 최근 1년 수익률: 27.17%)\\n\\n위 ETF들은 모두 S&P 500 지수를 기초지수로 하여 운용되고 있습니다.'}}\n"
     ]
    }
   ],
   "source": [
    "# SQL 체인 테스트 3: 기초지수명\n",
    "print(\"\\n=== SQL 체인 테스트 3: 기초지수명 ===\")\n",
    "for step in graph_v2.stream(\n",
    "    {\"question\": \"S&P 500 지수를 추종하는 ETF는 무엇인가요?\"}, stream_mode=\"updates\"\n",
    "):\n",
    "    print(step)"
   ]
  },
  {
   "cell_type": "code",
   "execution_count": 28,
   "metadata": {},
   "outputs": [
    {
     "name": "stdout",
     "output_type": "stream",
     "text": [
      "\n",
      "=== SQL 체인 테스트 4: 복합 쿼리 ===\n",
      "{'write_query': {'query': \"SELECT COUNT(*) AS 미국주식ETF_수 FROM ETFs WHERE 운용사 LIKE '%미래에셋%' AND 분류체계 LIKE '주식%미국%' LIMIT 10;\"}}\n",
      "{'execute_query': {'result': '[(0,)]'}}\n",
      "{'generate_answer': {'answer': '미래에셋에서 운용하는 미국 주식 ETF는 현재 없습니다.'}}\n"
     ]
    }
   ],
   "source": [
    "# SQL 체인 테스트 4: 복합 쿼리 (운용사 + 기초자산)\n",
    "print(\"\\n=== SQL 체인 테스트 4: 복합 쿼리 ===\")\n",
    "for step in graph_v2.stream(\n",
    "    {\"question\": \"미래에셋에서 운용하는 미국 주식 ETF는 몇 개인가요?\"}, stream_mode=\"updates\"\n",
    "):\n",
    "    print(step)"
   ]
  }
 ],
 "metadata": {
  "kernelspec": {
   "display_name": "modu2",
   "language": "python",
   "name": "python3"
  },
  "language_info": {
   "codemirror_mode": {
    "name": "ipython",
    "version": 3
   },
   "file_extension": ".py",
   "mimetype": "text/x-python",
   "name": "python",
   "nbconvert_exporter": "python",
   "pygments_lexer": "ipython3",
   "version": "3.12.11"
  }
 },
 "nbformat": 4,
 "nbformat_minor": 2
}
