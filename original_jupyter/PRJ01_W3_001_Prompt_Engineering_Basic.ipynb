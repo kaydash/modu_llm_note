{
  "cells": [
    {
      "cell_type": "markdown",
      "metadata": {},
      "source": [
        "#  프롬프트 엔지니어링 \n",
        "- 효과적인 프롬프트 템플릿 설계\n",
        "\n",
        "### **학습 목표:**  효과적인 프롬프트 템플릿의 기본 구조와 설계 원칙을 이해한다\n",
        "\n",
        "---"
      ]
    },
    {
      "cell_type": "markdown",
      "metadata": {},
      "source": [
        "# 환경 설정 및 준비"
      ]
    },
    {
      "cell_type": "markdown",
      "metadata": {},
      "source": [
        "`(1) Env 환경변수`"
      ]
    },
    {
      "cell_type": "code",
      "execution_count": 1,
      "metadata": {},
      "outputs": [
        {
          "data": {
            "text/plain": [
              "True"
            ]
          },
          "execution_count": 1,
          "metadata": {},
          "output_type": "execute_result"
        }
      ],
      "source": [
        "from dotenv import load_dotenv\n",
        "load_dotenv()"
      ]
    },
    {
      "cell_type": "markdown",
      "metadata": {},
      "source": [
        "`(2) 기본 라이브러리`"
      ]
    },
    {
      "cell_type": "code",
      "execution_count": 2,
      "metadata": {},
      "outputs": [],
      "source": [
        "import os\n",
        "from glob import glob\n",
        "\n",
        "from pprint import pprint\n",
        "import json"
      ]
    },
    {
      "cell_type": "markdown",
      "metadata": {},
      "source": [
        "`(3) LLM 설정`"
      ]
    },
    {
      "cell_type": "code",
      "execution_count": 3,
      "metadata": {},
      "outputs": [],
      "source": [
        "from langchain_openai import ChatOpenAI\n",
        "\n",
        "llm = ChatOpenAI(\n",
        "    model='gpt-4.1-mini',\n",
        "    temperature=0.3,\n",
        "    top_p=0.9,\n",
        ")"
      ]
    },
    {
      "cell_type": "markdown",
      "metadata": {},
      "source": [
        "---\n",
        "# **프롬프트 유형**\n",
        "\n",
        "- 종류: 질문형, 지시형, 대화형, 조건부, 예시 기반 등 \n",
        "- 이러한 프롬프트 유형들은 상황에 따라 조합하여 사용 가능\n",
        "- 목적에 맞는 적절한 유형을 선택하는 것이 중요"
      ]
    },
    {
      "cell_type": "markdown",
      "metadata": {},
      "source": [
        "`(1) 질문형 프롬프트 (Question Prompts)`\n",
        "   - 정보 추출에 효과적\n",
        "   - 구체적인 답변 유도 가능"
      ]
    },
    {
      "cell_type": "code",
      "execution_count": 5,
      "metadata": {},
      "outputs": [
        {
          "name": "stdout",
          "output_type": "stream",
          "text": [
            "✅ Langfuse 추적이 활성화되었습니다.\n",
            "('양자 컴퓨팅에 대해 알고 있는 내용을 정리해 드리겠습니다.\\n'\n",
            " '\\n'\n",
            " '### 양자 컴퓨팅이란?\\n'\n",
            " '양자 컴퓨팅(Quantum Computing)은 양자역학의 원리를 이용해 정보를 처리하는 컴퓨팅 기술입니다. 기존의 고전 컴퓨터가 '\n",
            " '비트(bit)를 사용해 0 또는 1의 값을 가지는 반면, 양자 컴퓨터는 양자 비트(큐비트, qubit)를 사용합니다. 큐비트는 0과 1의 '\n",
            " '상태를 동시에 가질 수 있는 중첩(superposition) 상태를 활용할 수 있어, 특정 계산에서 훨씬 빠른 처리 속도를 기대할 수 '\n",
            " '있습니다.\\n'\n",
            " '\\n'\n",
            " '### 주요 개념\\n'\n",
            " '- **큐비트(Qubit)**: 양자 컴퓨터의 기본 단위로, 0과 1의 중첩 상태를 가질 수 있습니다.\\n'\n",
            " '- **중첩(Superposition)**: 큐비트가 여러 상태를 동시에 가질 수 있는 현상.\\n'\n",
            " '- **얽힘(Entanglement)**: 두 개 이상의 큐비트가 서로 강하게 연결되어, 한 큐비트의 상태가 다른 큐비트의 상태에 '\n",
            " '즉각적으로 영향을 미치는 현상.\\n'\n",
            " '- **양자 게이트(Quantum Gate)**: 큐비트의 상태를 변화시키는 연산자. 고전 컴퓨터의 논리 게이트에 해당합니다.\\n'\n",
            " '- **양자 알고리즘**: 양자 컴퓨터에서 실행되는 알고리즘으로, 대표적으로 쇼어 알고리즘(Shor’s algorithm, 소인수분해), '\n",
            " '그로버 알고리즘(Grover’s algorithm, 검색 문제)이 있습니다.\\n'\n",
            " '\\n'\n",
            " '### 양자 컴퓨팅의 장점\\n'\n",
            " '- 특정 문제(예: 소인수분해, 최적화 문제, 시뮬레이션 등)에서 고전 컴퓨터보다 훨씬 빠른 계산 가능.\\n'\n",
            " '- 복잡한 분자 및 재료 시뮬레이션에 유리하여 신약 개발, 신소재 연구에 활용 기대.\\n'\n",
            " '\\n'\n",
            " '### 현재 상황과 도전 과제\\n'\n",
            " '- **하드웨어 개발**: 큐비트 수와 안정성, 오류율 개선이 필요합니다.\\n'\n",
            " '- **양자 오류 수정(Quantum Error Correction)**: 양자 상태는 매우 민감해 오류가 쉽게 발생하므로 이를 보정하는 '\n",
            " '기술이 중요합니다.\\n'\n",
            " '- **소프트웨어 및 알고리즘 개발**: 양자 컴퓨터에 적합한 알고리즘과 프로그래밍 언어 개발이 진행 중입니다.\\n'\n",
            " '- **상용화 단계**: 아직 초기 단계로, 제한된 큐비트 수와 오류 문제로 인해 범용 양자 컴퓨터는 상용화되지 않았지만, 특정 '\n",
            " '분야에서의 양자 우위(quantum advantage)를 목표로 연구가 활발합니다.\\n'\n",
            " '\\n'\n",
            " '### 주요 기업 및 연구 기관\\n'\n",
            " '- IBM, 구글, 마이크로소프트, 인텔 등 IT 기업\\n'\n",
            " '- D-Wave, Rigetti 등 양자 컴퓨터 전문 스타트업\\n'\n",
            " '- 각국 정부 및 대학 연구소\\n'\n",
            " '\\n'\n",
            " '필요하시면 양자 컴퓨팅의 원리, 응용 분야, 최신 연구 동향 등에 대해 더 자세히 설명해 드릴 수 있습니다.')\n"
          ]
        }
      ],
      "source": [
        "from langchain.prompts import PromptTemplate\n",
        "from langfuse import Langfuse, observe\n",
        "\n",
        "\n",
        "# Langfuse 설정 (심리스 전환을 위한 구조)\n",
        "LANGFUSE_ENABLED = os.getenv(\"LANGFUSE_ENABLED\", \"false\").lower() == \"true\"\n",
        "\n",
        "if LANGFUSE_ENABLED:\n",
        "    langfuse = Langfuse(\n",
        "        secret_key=os.getenv(\"LANGFUSE_SECRET_KEY\"),\n",
        "        public_key=os.getenv(\"LANGFUSE_PUBLIC_KEY\"),\n",
        "        host=os.getenv(\"LANGFUSE_HOST\")\n",
        "    )\n",
        "    print(\"✅ Langfuse 추적이 활성화되었습니다.\")\n",
        "else:\n",
        "    langfuse = None\n",
        "    print(\"ℹ️ Langfuse 추적이 비활성화되었습니다.\")\n",
        "\n",
        "# 조건부 observe 데코레이터 (심리스 전환 핵심)\n",
        "def conditional_observe(name=None, **kwargs):\n",
        "    def decorator(func):\n",
        "        if LANGFUSE_ENABLED and langfuse:\n",
        "            return observe(name=name, **kwargs)(func)\n",
        "        return func\n",
        "    return decorator\n",
        "\n",
        "\n",
        "# 단순 질문형 프롬프트\n",
        "question_prompt = PromptTemplate(\n",
        "    template=\"다음 주제에 대해 무엇을 알고 있나요?: {topic}\",\n",
        "    input_variables=[\"topic\"]\n",
        ")\n",
        "\n",
        "# LCEL chain 구성\n",
        "chain = question_prompt | llm\n",
        "\n",
        "# Langfuse 추적이 적용된 질문 함수\n",
        "@conditional_observe(name=\"quantum_computing_qa\")\n",
        "def ask_about_quantum_computing(topic: str):\n",
        "    \"\"\"양자 컴퓨팅에 대한 질문을 처리하는 함수\"\"\"\n",
        "    output = chain.invoke({\"topic\": topic})\n",
        "    return output\n",
        "\n",
        "# 실행\n",
        "if __name__ == \"__main__\":\n",
        "    topic = \"양자 컴퓨팅\"\n",
        "    output = ask_about_quantum_computing(topic)\n",
        "    pprint(output.content)\n"
      ]
    },
    {
      "cell_type": "code",
      "execution_count": 6,
      "metadata": {},
      "outputs": [
        {
          "name": "stdout",
          "output_type": "stream",
          "text": [
            "('양자 컴퓨팅(Quantum Computing)은 양자역학의 원리를 이용하여 정보를 처리하는 차세대 컴퓨팅 기술입니다. 기존의 고전 '\n",
            " '컴퓨터가 비트(bit)를 사용하여 0 또는 1의 값을 가지는 반면, 양자 컴퓨터는 양자 비트(큐비트, qubit)를 사용합니다. 큐비트는 '\n",
            " '0과 1 상태가 동시에 존재할 수 있는 중첩(superposition) 상태를 가질 수 있으며, 얽힘(entanglement)이라는 '\n",
            " '양자역학적 현상을 통해 여러 큐비트가 서로 강하게 연결될 수 있습니다.\\n'\n",
            " '\\n'\n",
            " '이러한 특성 덕분에 양자 컴퓨터는 특정 계산 문제에서 고전 컴퓨터보다 훨씬 빠른 속도로 문제를 해결할 수 있습니다. 예를 들어, '\n",
            " '소인수분해, 최적화 문제, 양자 시뮬레이션, 암호 해독 등에서 뛰어난 성능을 보일 것으로 기대됩니다.\\n'\n",
            " '\\n'\n",
            " '현재 양자 컴퓨팅은 아직 초기 단계에 있으며, 큐비트의 수와 안정성, 오류 수정 등의 기술적 도전 과제가 많습니다. 하지만 구글, '\n",
            " 'IBM, 마이크로소프트, 인텔 등 여러 기업과 연구기관이 활발히 연구 중이며, 점차 실용적인 양자 컴퓨터 개발에 가까워지고 있습니다.')\n"
          ]
        }
      ],
      "source": [
        "### from_template 메소드를 사용한 방법\n",
        "\n",
        "from langchain.prompts import PromptTemplate\n",
        "from langchain.chat_models import ChatOpenAI\n",
        "from pprint import pprint\n",
        "\n",
        "# from_template을 사용한 PromptTemplate 생성\n",
        "question_template = \"다음 주제에 대해 무엇을 알고 있나요?: {topic}\"\n",
        "question_prompt = PromptTemplate.from_template(question_template)\n",
        "\n",
        "# LCEL chain 구성\n",
        "chain = question_prompt | llm\n",
        "\n",
        "# 질문 실행\n",
        "topic = \"양자 컴퓨팅\"\n",
        "output = chain.invoke({\"topic\": topic})\n",
        "pprint(output.content)"
      ]
    },
    {
      "cell_type": "markdown",
      "metadata": {},
      "source": [
        "**[참고]** `from_template` 방식의 장점:\n",
        "- 코드가 더 간결해진다\n",
        "- 입력 변수를 수동으로 지정할 필요가 없다\n",
        "- 템플릿에서 사용된 변수를 자동으로 추출한다"
      ]
    },
    {
      "cell_type": "code",
      "execution_count": 7,
      "metadata": {},
      "outputs": [
        {
          "name": "stdout",
          "output_type": "stream",
          "text": [
            "('[답변]  \\n'\n",
            " '1. 양자 컴퓨팅은 양자역학의 원리를 기반으로 정보를 처리하는 기술이다.  \\n'\n",
            " '2. 전통적인 컴퓨팅과는 다른 방식으로 작동한다는 점이 특징이다.  \\n'\n",
            " '3. 양자 컴퓨팅의 핵심은 양자역학 원리를 활용한다는 것이다.')\n"
          ]
        }
      ],
      "source": [
        "# 분석 질문형 \n",
        "analysis_prompt = PromptTemplate(\n",
        "    template=\"\"\"다음 텍스트에서 주요 논점은 무엇인가요? 세 가지로 설명해주세요.\n",
        "\n",
        "    [텍스트]\n",
        "    {text}\n",
        "\n",
        "    [답변]\n",
        "    \"\"\",\n",
        "    input_variables=[\"text\"]\n",
        ")\n",
        "\n",
        "# LCEL\n",
        "chain = analysis_prompt | llm\n",
        "\n",
        "# 질문\n",
        "text = \"\"\"양자 컴퓨팅은 양자역학의 원리를 이용하여 정보를 처리하는 컴퓨팅 기술이다. \n",
        "양자 컴퓨팅은 전통적인 컴퓨팅과는 다르게 양자역학의 원리를 이용하여 정보를 처리한다. \n",
        "양자 컴퓨팅은 양자역학의 원리를 이용하여 정보를 처리하는 컴퓨팅 기술이다.\n",
        "\"\"\"\n",
        "\n",
        "output = chain.invoke({\"text\": text})\n",
        "pprint(output.content)"
      ]
    },
    {
      "cell_type": "markdown",
      "metadata": {},
      "source": [
        "### **[실습 1]**\n",
        "\n",
        "- 앞의 예제를 from_template 메소드를 사용하는 방식으로 구현하세요."
      ]
    },
    {
      "cell_type": "code",
      "execution_count": 11,
      "metadata": {},
      "outputs": [
        {
          "name": "stdout",
          "output_type": "stream",
          "text": [
            "('안녕! 선형대수, 미분, 적분에 대해 쉽게 설명해줄게.\\n'\n",
            " '\\n'\n",
            " '1. **선형대수**  \\n'\n",
            " '선형대수는 숫자나 그림을 이용해서 문제를 푸는 방법이야. 예를 들어, 여러 개의 숫자를 한꺼번에 계산하거나, 여러 가지 길이나 방향을 '\n",
            " '다룰 때 사용해. 마치 여러 개의 블록을 쌓아서 모양을 만드는 것처럼 생각하면 돼.\\n'\n",
            " '\\n'\n",
            " '2. **미분**  \\n'\n",
            " \"미분은 '변하는 속도'를 알아보는 거야. 예를 들어, 자동차가 얼마나 빨리 달리는지 알고 싶을 때 쓰는 방법이야. 자동차가 어느 순간에 \"\n",
            " '얼마나 빨리 가는지 알려주는 거지.\\n'\n",
            " '\\n'\n",
            " '3. **적분**  \\n'\n",
            " \"적분은 '모든 작은 부분을 더해서 전체를 구하는 것'이야. 예를 들어, 작은 조각들을 모아서 큰 퍼즐을 완성하는 것처럼, 작은 부분들을 \"\n",
            " '다 더해서 전체 크기나 양을 구하는 거야.\\n'\n",
            " '\\n'\n",
            " '쉽게 말하면, 선형대수는 숫자와 그림을 다루는 방법, 미분은 변하는 빠르기를 보는 방법, 적분은 작은 것들을 모아서 큰 것을 만드는 '\n",
            " '방법이야!')\n"
          ]
        }
      ],
      "source": [
        "analysis_prompt = PromptTemplate(\n",
        "    template=\"\"\"다음에 대해 초등학교 3학년이 이해할 수 있도록 쉽게 설명해주세요.\n",
        "\n",
        "    [텍스트]\n",
        "    {text}\n",
        "\n",
        "    [답변]\n",
        "    \"\"\",\n",
        "    input_variables=[\"text\"]\n",
        ")\n",
        "\n",
        "# LCEL\n",
        "chain = analysis_prompt | llm\n",
        "\n",
        "# 질문\n",
        "text = \"\"\"선형대수와 미분, 적분\n",
        "\"\"\"\n",
        "\n",
        "output = chain.invoke({\"text\": text})\n",
        "pprint(output.content)"
      ]
    },
    {
      "cell_type": "markdown",
      "metadata": {},
      "source": [
        "`(2) 지시형 프롬프트 (Instruction Prompts)`\n",
        "   - 명확한 작업 수행 지시\n",
        "   - 단계별 처리 가능"
      ]
    },
    {
      "cell_type": "code",
      "execution_count": 12,
      "metadata": {},
      "outputs": [
        {
          "name": "stdout",
          "output_type": "stream",
          "text": [
            "'양자 컴퓨팅은 양자 역학의 원리를 이용하여 정보를 처리하는 컴퓨팅 기술입니다.'\n"
          ]
        }
      ],
      "source": [
        "from langchain_core.output_parsers import StrOutputParser\n",
        "# 작업 지시형\n",
        "task_prompt = PromptTemplate(\n",
        "    template=\"다음 텍스트를 한국어로 번역하세요:\\n\\n[텍스트]\\n{text}\",\n",
        "    input_variables=[\"text\"]\n",
        ")\n",
        "\n",
        "# LCEL\n",
        "chain = task_prompt | llm | StrOutputParser()\n",
        "\n",
        "# 질문\n",
        "text = \"Quantum computing is a computing technology that uses the principles of quantum mechanics to process information.\"\n",
        "output = chain.invoke({\"text\": text})\n",
        "pprint(output)"
      ]
    },
    {
      "cell_type": "code",
      "execution_count": 13,
      "metadata": {},
      "outputs": [
        {
          "name": "stdout",
          "output_type": "stream",
          "text": [
            "('[작업 결과]\\n'\n",
            " '\\n'\n",
            " '1. 요약: 양자 컴퓨팅은 양자역학의 원리를 이용해 큐비트를 활용함으로써 기존 컴퓨터보다 훨씬 빠르고 복잡한 계산을 가능하게 하는 새로운 '\n",
            " '계산 방식이다.  \\n'\n",
            " '2. 핵심 키워드: 양자 컴퓨팅, 큐비트, 양자 중첩  \\n'\n",
            " '3. 감정 분석: 중립')\n"
          ]
        }
      ],
      "source": [
        "# 단계별 지시형\n",
        "step_prompt = PromptTemplate(\n",
        "    template=\"\"\"다음 텍스트에 대해서 작업을 순서대로 수행하세요:\n",
        "\n",
        "    [텍스트]\n",
        "    {text}\n",
        "\n",
        "    [작업 순서]\n",
        "    1. 텍스트를 1문장으로 요약\n",
        "    2. 핵심 키워드 3개 추출\n",
        "    3. 감정 분석 수행(긍정/부정/중립)\n",
        "\n",
        "    [작업 결과]\n",
        "    \"\"\",\n",
        "    input_variables=[\"text\"]\n",
        ")\n",
        "\n",
        "# LCEL\n",
        "chain = step_prompt | llm | StrOutputParser()\n",
        "\n",
        "# 질문\n",
        "text = \"\"\"\n",
        "양자 컴퓨팅은 양자역학의 원리를 바탕으로 데이터를 처리하는 새로운 형태의 계산 방식이다. \n",
        "기존의 고전적 컴퓨터는 0과 1로 이루어진 이진법(bit)을 사용하여 데이터를 처리하지만, \n",
        "양자 컴퓨터는 양자 비트(큐비트, qubit)를 사용하여 훨씬 더 복잡하고 빠른 계산을 수행할 수 있다. \n",
        "\n",
        "큐비트는 동시에 0과 1의 상태를 가질 수 있는 양자 중첩(superposition) 상태를 활용하며, \n",
        "이를 통해 병렬 계산과 같은 고급 기능이 가능하다.\n",
        "\"\"\" \n",
        "\n",
        "output = chain.invoke({\"text\": text})\n",
        "pprint(output)"
      ]
    },
    {
      "cell_type": "markdown",
      "metadata": {},
      "source": [
        "### **[실습 2]**\n",
        "\n",
        "- 두 개의 문장을 입력받아서, 두 문장의 맥락이 일치하는지 여부를 비교 분석하는 체인을 구성하세요.\n",
        "- PromptTemplate를 사용하고, 두 문장을 입력받을 수 있도록 합니다. \n",
        "- 단계별 지시형 프롬프트로 작성합니다. "
      ]
    },
    {
      "cell_type": "code",
      "execution_count": 19,
      "metadata": {},
      "outputs": [
        {
          "name": "stdout",
          "output_type": "stream",
          "text": [
            "('[작업 결과]\\n'\n",
            " '\\n'\n",
            " '1. 문장 요약  \\n'\n",
            " '- a문장: 사람은 언어로 의사소통한다.  \\n'\n",
            " '- b문장: 인간은 언어를 통해 서로 소통한다.\\n'\n",
            " '\\n'\n",
            " '2. 핵심 키워드 3개 추출  \\n'\n",
            " '- a문장: 사람, 언어, 의사소통  \\n'\n",
            " '- b문장: 인간, 언어, 소통\\n'\n",
            " '\\n'\n",
            " '3. 맥락 일치 여부 판단  \\n'\n",
            " \"- 두 문장 모두 '사람/인간'이 '언어'를 사용하여 '의사소통/소통' 한다는 의미로, 표현만 다를 뿐 내용과 맥락이 동일함.  \\n\"\n",
            " '- 따라서 맥락은 일치함.\\n'\n",
            " '\\n'\n",
            " '[최종 판단] 맥락 일치')\n"
          ]
        }
      ],
      "source": [
        "# 단계별 지시형\n",
        "step_prompt = PromptTemplate(\n",
        "    template=\"\"\"다음 두개의 문장에 대해서 맥락이 일치하는지 판단하세요:\n",
        "\n",
        "    [a문장]\n",
        "    {a_text}\n",
        "\n",
        "    [b문장]\n",
        "    {b_text}\n",
        "\n",
        "    [작업 순서]\n",
        "    1. 문장을 간단히 요약\n",
        "    2. 요약의 핵심 키워드 3개 추출\n",
        "    3. 키워드 기반으로 맥락 일치 여부 판단(일치/불일치)\n",
        "\n",
        "    [작업 결과]\n",
        "    \"\"\",\n",
        "    input_variables=[\"b_text\", \"a_text\"]\n",
        ")\n",
        "\n",
        "# LCEL\n",
        "chain = step_prompt | llm | StrOutputParser()\n",
        "\n",
        "# 질문\n",
        "a_text = \"\"\"\n",
        "사람은 언어를 사용하여 의사소통을 한다.\n",
        "\"\"\" \n",
        "\n",
        "b_text = \"\"\"\n",
        "인간은 언어를 통해 서로 소통한다.\n",
        "\"\"\"\n",
        "output = chain.invoke({\"b_text\": b_text, \"a_text\": a_text})\n",
        "pprint(output)"
      ]
    },
    {
      "cell_type": "markdown",
      "metadata": {},
      "source": [
        "`(3) 대화형 프롬프트 (Conversational Prompts)`\n",
        "   - 자연스러운 상호작용\n",
        "   - 문맥 유지 가능"
      ]
    },
    {
      "cell_type": "code",
      "execution_count": 20,
      "metadata": {},
      "outputs": [
        {
          "name": "stdout",
          "output_type": "stream",
          "text": [
            "'안녕하세요! 불편을 드려 죄송합니다. 배송 문제에 대해 자세히 말씀해 주시면 빠르게 도와드리겠습니다. 어떤 문제가 있으신가요?'\n"
          ]
        }
      ],
      "source": [
        "from langchain_core.prompts import ChatPromptTemplate\n",
        "from langchain_core.output_parsers import StrOutputParser\n",
        "\n",
        "# ChatPromptTemplate 객체를 직접 생성 (메시지 리스트, 입력 변수 리스트)\n",
        "chat_prompt = ChatPromptTemplate(\n",
        "    messages=[\n",
        "        (\"system\", \"당신은 친절한 고객 서비스 담당자입니다.\"),\n",
        "        (\"human\", \"{customer_message}\")\n",
        "    ],\n",
        "    input_variables=[\"customer_message\"]\n",
        ")\n",
        "\n",
        "# LCEL chain 구성\n",
        "chain = chat_prompt | llm | StrOutputParser()\n",
        "\n",
        "# 질문 실행\n",
        "customer_message = \"안녕하세요. 제품 배송 문제로 연락드렸어요.\"\n",
        "output = chain.invoke({\"customer_message\": customer_message})\n",
        "pprint(output)"
      ]
    },
    {
      "cell_type": "code",
      "execution_count": 21,
      "metadata": {},
      "outputs": [
        {
          "name": "stdout",
          "output_type": "stream",
          "text": [
            "'안녕하세요! 불편을 드려 죄송합니다. 배송 문제에 대해 자세히 말씀해 주시면 빠르게 도와드리겠습니다. 어떤 문제가 있으신가요?'\n"
          ]
        }
      ],
      "source": [
        "from langchain_core.prompts import ChatPromptTemplate\n",
        "\n",
        "# from_messages 메소드를 사용한 ChatPromptTemplate 생성\n",
        "chat_prompt = ChatPromptTemplate.from_messages([\n",
        "    (\"system\", \"당신은 친절한 고객 서비스 담당자입니다.\"),\n",
        "    (\"human\", \"{customer_message}\"),\n",
        "])\n",
        "\n",
        "# LCEL\n",
        "chain = chat_prompt | llm | StrOutputParser()\n",
        "\n",
        "# 질문\n",
        "customer_message = \"안녕하세요. 제품 배송 문제로 연락드렸어요.\"\n",
        "output = chain.invoke({\"customer_message\": customer_message})\n",
        "pprint(output)"
      ]
    },
    {
      "cell_type": "code",
      "execution_count": 22,
      "metadata": {},
      "outputs": [
        {
          "name": "stdout",
          "output_type": "stream",
          "text": [
            "'안녕하세요! 불편을 드려 죄송합니다. 배송 문제에 대해 자세히 말씀해 주시면 신속히 도와드리겠습니다. 어떤 문제가 있으신가요?'\n"
          ]
        }
      ],
      "source": [
        "from langchain_core.prompts import ChatPromptTemplate, HumanMessagePromptTemplate, SystemMessagePromptTemplate\n",
        "\n",
        "# 메시지 템플릿 사용\n",
        "chat_prompt = ChatPromptTemplate.from_messages([\n",
        "    SystemMessagePromptTemplate.from_template(\n",
        "        \"당신은 친절한 고객 서비스 담당자입니다.\"\n",
        "    ),\n",
        "    HumanMessagePromptTemplate.from_template(\n",
        "        \"{customer_message}\"\n",
        "    )\n",
        "])\n",
        "\n",
        "# LCEL\n",
        "chain = chat_prompt | llm | StrOutputParser()\n",
        "\n",
        "# 질문\n",
        "customer_message = \"안녕하세요. 제품 배송 문제로 연락드렸어요.\"\n",
        "output = chain.invoke({\"customer_message\": customer_message})\n",
        "pprint(output)\n"
      ]
    },
    {
      "cell_type": "markdown",
      "metadata": {},
      "source": [
        "### **[실습 3]**\n",
        "\n",
        "- 상품 리뷰를 분석하는 AI 체인을 대화형 프롬프트로 구성합니다. \n",
        "- 메시지 템플릿을 사용하여 메시지 역할을 구분합니다. "
      ]
    },
    {
      "cell_type": "code",
      "execution_count": 23,
      "metadata": {},
      "outputs": [],
      "source": [
        "# 예시 리뷰\n",
        "reviews = [\n",
        "    \"이 블루투스 이어폰 정말 만족스러워요! 음질도 좋고 배터리도 오래가요. 다만 케이스가 좀 큰 감이 있네요.\",\n",
        "    \"배송은 빨랐는데 제품 품질이 기대에 못 미쳐요. 터치감이 둔하고 연결이 자주 끊깁니다. 가성비 생각하면 그냥 쓸만하네요.\",\n",
        "    \"가격대비 괜찮은 것 같아요. 디자인도 깔끔하고 기본적인 기능은 다 갖췄네요. 추천합니다!\"\n",
        "]"
      ]
    },
    {
      "cell_type": "code",
      "execution_count": 24,
      "metadata": {},
      "outputs": [
        {
          "name": "stdout",
          "output_type": "stream",
          "text": [
            "\n",
            "=== 리뷰 1 분석 결과 ===\n",
            "리뷰 분석 결과:\n",
            "\n",
            "감정: 긍정적  \n",
            "주요 포인트:  \n",
            "- 음질이 좋음  \n",
            "- 배터리 지속 시간이 김  \n",
            "- 케이스 크기가 다소 큼 (단점)  \n",
            "\n",
            "종합적으로, 제품에 대해 매우 만족하며 음질과 배터리 성능을 특히 높이 평가하고 있으나, 케이스 크기에 대해서는 아쉬움을 표현하고 있습니다.\n",
            "\n",
            "=== 리뷰 2 분석 결과 ===\n",
            "리뷰 분석 결과:\n",
            "\n",
            "감정: 전반적으로 부정적이지만, 가성비 측면에서는 약간 긍정적인 평가가 혼재되어 있습니다.\n",
            "\n",
            "주요 포인트:\n",
            "1. 배송 속도: 빠름 (긍정적)\n",
            "2. 제품 품질: 기대 이하 (부정적)\n",
            "3. 터치감: 둔함 (부정적)\n",
            "4. 연결 상태: 자주 끊김 (부정적)\n",
            "5. 가성비: 가격 대비 사용 가능함 (긍정적)\n",
            "\n",
            "요약: 배송은 만족스러우나, 제품의 터치감과 연결 품질이 떨어져 아쉬움이 크다. 다만 가격 대비 성능은 무난한 편으로 평가됨.\n",
            "\n",
            "=== 리뷰 3 분석 결과 ===\n",
            "리뷰 분석 결과:\n",
            "\n",
            "감정: 긍정적  \n",
            "주요 포인트:  \n",
            "- 가격 대비 만족스러운 품질  \n",
            "- 깔끔한 디자인  \n",
            "- 기본 기능 충실  \n",
            "- 추천 의사 표현  \n",
            "\n",
            "종합적으로, 사용자는 제품의 가성비와 디자인, 기능에 만족하며 긍정적으로 평가하고 있습니다.\n"
          ]
        }
      ],
      "source": [
        "# 리뷰 분석 템플릿 생성\n",
        "review_prompt = ChatPromptTemplate.from_messages([\n",
        "    SystemMessagePromptTemplate.from_template(\n",
        "        \"당신은 상품 리뷰 분석 전문가입니다. 리뷰의 감정과 주요 포인트를 분석합니다.\"\n",
        "        ),\n",
        "    HumanMessagePromptTemplate.from_template(\n",
        "        \"다음 리뷰를 분석해주세요: {review}\"\n",
        "        )\n",
        "])\n",
        "\n",
        "# LCEL\n",
        "review_chain = review_prompt | llm | StrOutputParser()# 여기에 코드를 작성하세요.\n",
        "\n",
        "\n",
        "# 각 리뷰 분석 실행\n",
        "for idx, review in enumerate(reviews, 1):\n",
        "    print(f\"\\n=== 리뷰 {idx} 분석 결과 ===\")\n",
        "    result = review_chain.invoke({\"review\": review})\n",
        "    print(result)"
      ]
    },
    {
      "cell_type": "markdown",
      "metadata": {},
      "source": [
        "`(4) 예시 기반 프롬프트 (Few-Shot Prompts)`\n",
        "   - 원하는 출력 형식 명확화\n",
        "   - 모델의 이해도 향상"
      ]
    },
    {
      "cell_type": "code",
      "execution_count": 25,
      "metadata": {},
      "outputs": [
        {
          "name": "stdout",
          "output_type": "stream",
          "text": [
            "'요약: 양자 컴퓨팅: 양자역학 원리로 정보를 처리하는 혁신적 컴퓨팅 기술'\n"
          ]
        }
      ],
      "source": [
        "few_shot_prompt = PromptTemplate(\n",
        "    template=\"\"\"다음은 텍스트를 요약하는 예시입니다:\n",
        "\n",
        "원문: {example_input}\n",
        "요약: {example_output}\n",
        "\n",
        "이제 다음 텍스트를 같은 방식으로 50자 이내로 요약해주세요:\n",
        "원문: {input_text}\n",
        "요약:\n",
        "\"\"\",\n",
        "    input_variables=[\"example_input\", \"example_output\", \"input_text\"]\n",
        ")\n",
        "\n",
        "# LCEL\n",
        "chain = few_shot_prompt | llm | StrOutputParser()\n",
        "\n",
        "# 예시 텍스트 \n",
        "example_input = \"\"\"인공지능(AI)은 인간의 학습능력, 추론능력, 지각능력, 자연언어의 이해능력 등을 \n",
        "컴퓨터 프로그램으로 실현한 기술이다. 인공지능은 딥러닝, 기계학습 등 다양한 기술을 포함하며, \n",
        "최근에는 자율주행, 의료진단, 언어번역 등 다양한 분야에서 활용되고 있다.\"\"\"\n",
        "\n",
        "example_output = \"인공지능: 인간의 학습능력, 추론능력, 지각능력 등을 컴퓨터 프로그램으로 실현한 기술\"\n",
        "\n",
        "# 입력 텍스트 \n",
        "input_text = \"\"\"양자 컴퓨팅은 양자역학의 원리를 활용하여 정보를 처리하는 혁신적인 컴퓨팅 기술이다. \n",
        "기존의 디지털 컴퓨터가 0과 1의 이진법을 사용하는 것과 달리, 양자 컴퓨터는 중첩 상태를 활용하여 \n",
        "동시에 여러 계산을 수행할 수 있다. 이러한 특성으로 인해 특정 문제에서는 기존 컴퓨터보다 \n",
        "월등히 빠른 처리 속도를 보여준다. 현재는 아직 초기 단계지만, 암호화, 신약 개발, 기후 모델링 등 \n",
        "다양한 분야에서 혁신적인 발전이 기대된다.\"\"\"\n",
        "\n",
        "# 체인 실행\n",
        "output = chain.invoke({\n",
        "    \"example_input\": example_input, \n",
        "    \"example_output\": example_output, \n",
        "    \"input_text\": input_text\n",
        "})\n",
        "pprint(output)"
      ]
    },
    {
      "cell_type": "markdown",
      "metadata": {},
      "source": [
        "### **[실습 4]**\n",
        "\n",
        "- [실습 3]의 상품 리뷰 분석 시스템의 입출력 형식을 예시로 추가해서 프롬프트를 작성합니다.\n",
        "- 체인을 실해하여 테스트합니다. "
      ]
    },
    {
      "cell_type": "code",
      "execution_count": 26,
      "metadata": {},
      "outputs": [
        {
          "name": "stdout",
          "output_type": "stream",
          "text": [
            "분석:\n",
            "- 감정: 긍정적\n",
            "- 장점: 예쁜 디자인, 부드러운 작동, 전반적인 만족도\n",
            "- 단점: 가끔 연결 끊김 현상\n",
            "- 종합: 디자인과 사용감에 만족하지만 연결 안정성 개선 필요\n"
          ]
        }
      ],
      "source": [
        "# 여기에 코드를 작성하세요.\n",
        "from langchain_core.prompts import ChatPromptTemplate, HumanMessagePromptTemplate\n",
        "from langchain_core.messages import SystemMessage\n",
        "from langchain.chat_models import ChatOpenAI\n",
        "from langchain_core.output_parsers import StrOutputParser\n",
        "\n",
        "# Few-Shot 예시를 포함한 시스템 메시지\n",
        "system_message = \"\"\"당신은 상품 리뷰 분석 전문가입니다. 리뷰를 분석하여 아래 형식으로 출력합니다:\n",
        "\n",
        "예시 1:\n",
        "리뷰: \"이 노트북 정말 가볍고 좋아요! 배터리도 오래가고 화면도 선명해요. 다만 가격이 조금 비싸네요.\"\n",
        "분석:\n",
        "- 감정: 긍정적\n",
        "- 장점: 가벼움, 배터리 수명, 화면 품질\n",
        "- 단점: 높은 가격\n",
        "- 종합: 전반적으로 만족, 가격 대비 가치 고려 필요\n",
        "\n",
        "예시 2:\n",
        "리뷰: \"배송이 늦어져서 실망했어요. 제품 자체는 나쁘지 않은데 AS가 불편해요.\"\n",
        "분석:\n",
        "- 감정: 부정적\n",
        "- 장점: 제품 품질 양호\n",
        "- 단점: 늦은 배송, AS 서비스 불편\n",
        "- 종합: 서비스 개선 필요\n",
        "\"\"\"\n",
        "\n",
        "# 프롬프트 템플릿 구성\n",
        "review_prompt = ChatPromptTemplate.from_messages([\n",
        "    SystemMessage(content=system_message),\n",
        "    HumanMessagePromptTemplate.from_template(\"다음 리뷰를 분석해주세요:\\n리뷰: {review}\")\n",
        "])\n",
        "\n",
        "# 체인 구성\n",
        "review_chain = review_prompt | llm | StrOutputParser()\n",
        "\n",
        "\n",
        "\n",
        "# 테스트\n",
        "test_review = \"이 무선 마우스 디자인이 예쁘고 작동도 부드러워요. 근데 가끔 연결이 끊기는게 아쉽네요. 전체적으로는 만족합니다.\"\n",
        "result = review_chain.invoke({\"review\": test_review})\n",
        "print(result)"
      ]
    },
    {
      "cell_type": "markdown",
      "metadata": {},
      "source": [
        "`(5) 조건부 프롬프트 (Conditional Prompts)`\n",
        "   - 상황별 다른 처리\n",
        "   - 유연한 응답 생성"
      ]
    },
    {
      "cell_type": "code",
      "execution_count": 27,
      "metadata": {},
      "outputs": [
        {
          "name": "stderr",
          "output_type": "stream",
          "text": [
            "C:\\Users\\kaydash\\AppData\\Local\\Temp\\ipykernel_32620\\497816025.py:16: LangChainDeprecationWarning: The class `ChatOpenAI` was deprecated in LangChain 0.0.10 and will be removed in 1.0. An updated version of the class exists in the :class:`~langchain-openai package and should be used instead. To use it run `pip install -U :class:`~langchain-openai` and import as `from :class:`~langchain_openai import ChatOpenAI``.\n",
            "  llm = ChatOpenAI(model=\"gpt-4.1-mini\", temperature=0)\n"
          ]
        }
      ],
      "source": [
        "# 조건부 프롬프트 템플릿 정의 (입력 텍스트에 따라 작업 유형을 지정)\n",
        "conditional_prompt = PromptTemplate(\n",
        "    template=\"\"\"입력 텍스트: {text}\n",
        "\n",
        "주어진 텍스트가 질문인 경우: 명확한 답변을 제공\n",
        "주어진 텍스트가 진술문인 경우: 진술문의 사실 여부를 검증\n",
        "주어진 텍스트가 요청사항인 경우: 수행 방법을 단계별로 설명\n",
        "\n",
        "응답은 다음 형식을 따라주세요:\n",
        "유형: [질문/진술문/요청사항]\n",
        "내용: [상세 응답]\"\"\",\n",
        "    input_variables=[\"text\"]\n",
        ")\n",
        "\n",
        "# LCEL 체인 구성\n",
        "llm = ChatOpenAI(model=\"gpt-4.1-mini\", temperature=0)\n",
        "chain = conditional_prompt | llm | StrOutputParser()"
      ]
    },
    {
      "cell_type": "code",
      "execution_count": 28,
      "metadata": {},
      "outputs": [
        {
          "name": "stdout",
          "output_type": "stream",
          "text": [
            "유형: 질문  \n",
            "내용: 인공지능이 인간의 일자리를 모두 대체할 가능성은 매우 낮습니다. 인공지능과 자동화 기술은 일부 직업과 업무를 대체하거나 보조할 수 있지만, 창의성, 감정적 지능, 복잡한 의사결정 등 인간 고유의 능력이 요구되는 분야에서는 여전히 인간의 역할이 중요합니다. 또한, 새로운 기술 발전에 따라 새로운 일자리도 창출될 가능성이 큽니다. 따라서 인공지능은 일자리의 형태와 업무 방식을 변화시키겠지만, 모든 일자리를 완전히 대체하지는 않을 것으로 예상됩니다.\n"
          ]
        }
      ],
      "source": [
        "# 질문형 테스트\n",
        "response = chain.invoke({\n",
        "    \"text\": \"인공지능은 인간의 일자리를 모두 대체하게 될까요?\",\n",
        "})\n",
        "print(response)"
      ]
    },
    {
      "cell_type": "code",
      "execution_count": 29,
      "metadata": {},
      "outputs": [
        {
          "name": "stdout",
          "output_type": "stream",
          "text": [
            "유형: 진술문  \n",
            "내용: \"양자컴퓨터는 현재 모든 암호화 시스템을 무력화할 수 있다\"는 진술은 사실이 아닙니다. 현재 상용화된 양자컴퓨터는 매우 제한된 규모이며, 기존의 대부분 암호화 시스템을 무력화할 만큼의 성능을 갖추지 못했습니다. 다만, 이론적으로 충분히 발전한 양자컴퓨터는 일부 암호화 알고리즘(예: RSA, ECC)을 깨뜨릴 수 있는 잠재력을 가지고 있으나, 이를 대비한 양자 내성 암호화 기술도 활발히 연구되고 있습니다. 따라서 현재 시점에서는 모든 암호화 시스템이 무력화되었다고 보기 어렵습니다.\n"
          ]
        }
      ],
      "source": [
        "# 진술문 테스트\n",
        "response = chain.invoke({\n",
        "    \"text\": \"양자컴퓨터는 현재 모든 암호화 시스템을 무력화할 수 있다.\"\n",
        "})\n",
        "print(response)"
      ]
    },
    {
      "cell_type": "code",
      "execution_count": 30,
      "metadata": {},
      "outputs": [
        {
          "name": "stdout",
          "output_type": "stream",
          "text": [
            "유형: 요청사항  \n",
            "내용: 파이썬으로 간단한 웹 스크래퍼를 만드는 방법을 단계별로 설명드리겠습니다.\n",
            "\n",
            "1. 필요한 라이브러리 설치  \n",
            "   - `requests`: 웹 페이지의 HTML을 가져오기 위해 사용  \n",
            "   - `BeautifulSoup`: HTML을 파싱하여 원하는 데이터를 추출하기 위해 사용  \n",
            "   ```bash\n",
            "   pip install requests beautifulsoup4\n",
            "   ```\n",
            "\n",
            "2. 웹 페이지 요청 및 HTML 가져오기  \n",
            "   ```python\n",
            "   import requests\n",
            "\n",
            "   url = 'https://example.com'  # 스크래핑할 웹 페이지 URL\n",
            "   response = requests.get(url)\n",
            "   html = response.text\n",
            "   ```\n",
            "\n",
            "3. HTML 파싱 및 데이터 추출  \n",
            "   ```python\n",
            "   from bs4 import BeautifulSoup\n",
            "\n",
            "   soup = BeautifulSoup(html, 'html.parser')\n",
            "   # 예: 모든 <a> 태그의 텍스트와 링크 추출\n",
            "   for a_tag in soup.find_all('a'):\n",
            "       print(a_tag.text, a_tag.get('href'))\n",
            "   ```\n",
            "\n",
            "4. 결과 활용  \n",
            "   - 추출한 데이터를 파일로 저장하거나, 원하는 형태로 가공할 수 있습니다.\n",
            "\n",
            "5. 주의사항  \n",
            "   - 웹사이트의 robots.txt 파일을 확인하여 스크래핑이 허용되는지 확인하세요.  \n",
            "   - 과도한 요청은 서버에 부담을 줄 수 있으니 적절한 딜레이를 두세요.\n",
            "\n",
            "이 과정을 통해 간단한 웹 스크래퍼를 만들 수 있습니다. 필요에 따라 더 복잡한 기능도 추가 가능합니다.\n"
          ]
        }
      ],
      "source": [
        "# 요청사항 테스트\n",
        "response = chain.invoke({\n",
        "        \"text\": \"파이썬으로 간단한 웹 스크래퍼를 만들고 싶습니다.\"\n",
        "})\n",
        "print(response)"
      ]
    },
    {
      "cell_type": "markdown",
      "metadata": {},
      "source": [
        "--- \n",
        "\n",
        "# **프롬프트 엔지니어링 개념**\n",
        "\n",
        "1. **개념**:\n",
        "    - AI 모델에게 효과적인 지시를 제공하여 원하는 결과를 얻어내는 기술\n",
        "    - 입력(프롬프트)을 최적화하여 출력의 품질을 향상하는 방법 \n",
        "\n",
        "2. **원칙**:\n",
        "\n",
        "    1. **명확성(Clarity)**\n",
        "        - 모호하지 않은 명확한 지시사항 제공\n",
        "        - 구체적인 요구사항과 제약조건 명시\n",
        "        - 예시: \"5개의 짧은 문장으로 요약해주세요\" vs \"요약해주세요\"\n",
        "\n",
        "    1. **맥락성(Context)**\n",
        "        - 관련 배경 정보 제공\n",
        "        - 목적과 의도 명시\n",
        "        - 대상 독자나 사용 환경 설명\n",
        "\n",
        "    1. **구조화(Structure)**\n",
        "        - 체계적인 형식 사용\n",
        "        - 단계별 지시사항 제공\n",
        "        - 원하는 출력 형식 명시"
      ]
    },
    {
      "cell_type": "markdown",
      "metadata": {},
      "source": [
        "---\n",
        "## 1. **명확성(Clarity)**\n",
        "\n",
        "- **프롬프트의 명확성**은 AI 모델과의 효과적인 소통을 위한 핵심 요소\n",
        "\n",
        "- 불필요한 내용을 제외하고 **핵심 요구사항**에만 집중하여 작성\n",
        "\n",
        "- 원하는 결과물에 대해 **구체적이고 정확한 지시**를 제공"
      ]
    },
    {
      "cell_type": "code",
      "execution_count": 31,
      "metadata": {},
      "outputs": [
        {
          "name": "stdout",
          "output_type": "stream",
          "text": [
            "('- 인공지능은 컴퓨터가 인간처럼 학습하고 문제를 해결하는 기술을 의미한다.  \\n'\n",
            " '- 머신러닝(데이터로부터 학습하는 알고리즘)은 인공지능의 핵심 기술 중 하나이다.  \\n'\n",
            " '- 인공지능은 의료, 금융, 자율주행 등 다양한 분야에서 혁신을 이끌고 있다.')\n"
          ]
        }
      ],
      "source": [
        "from langchain_core.prompts import PromptTemplate\n",
        "\n",
        "# 명확한 지시사항이 포함된 프롬프트 템플릿\n",
        "clear_prompt = PromptTemplate(\n",
        "    input_variables=[\"topic\"],\n",
        "    template=\"\"\"\n",
        "    주제: {topic}\n",
        "    \n",
        "    다음 기준을 반드시 준수하여 설명하시오:\n",
        "    1. 정확히 3문장으로 작성할 것 (Bullet point 사용하여 구분)\n",
        "    2. 각 문장은 20단어 이내로 작성할 것\n",
        "    3. 전문 용어는 괄호 안에 간단한 설명을 포함할 것\n",
        "    \"\"\"\n",
        ")\n",
        "\n",
        "# LCEL 체인\n",
        "clear_chain = clear_prompt | llm \n",
        "\n",
        "# 테스트\n",
        "result = clear_chain.invoke({\"topic\": \"인공지능\"})\n",
        "pprint(result.content)"
      ]
    },
    {
      "cell_type": "markdown",
      "metadata": {},
      "source": [
        "---\n",
        "## 2. **맥락성(Context)**\n",
        "\n",
        "- **맥락 제공**은 AI가 작업의 배경과 목적을 이해하는데 필수적인 요소\n",
        "\n",
        "- 프롬프트에 **배경 정보**, **목적**, **대상 환경**을 명확히 포함\n",
        "\n",
        "- 적절한 맥락 제공은 AI의 **출력 품질**과 **정확도**를 크게 향상"
      ]
    },
    {
      "cell_type": "code",
      "execution_count": 32,
      "metadata": {},
      "outputs": [
        {
          "name": "stdout",
          "output_type": "stream",
          "text": [
            "맥락이 부족한 프롬프트의 결과\n",
            "('아이폰에 카카오톡을 설치하는 방법을 안내해드릴게요.\\n'\n",
            " '\\n'\n",
            " '1. **앱스토어 열기**  \\n'\n",
            " '   아이폰에서 홈 화면에 있는 **App Store** 아이콘을 탭하여 앱스토어를 엽니다.\\n'\n",
            " '\\n'\n",
            " '2. **검색하기**  \\n'\n",
            " '   하단의 돋보기 모양 아이콘(검색)을 탭한 후, 검색창에 **\"카카오톡\"**을 입력하고 검색합니다.\\n'\n",
            " '\\n'\n",
            " '3. **카카오톡 선택**  \\n'\n",
            " '   검색 결과에서 **카카오톡(KakaoTalk)** 앱을 찾아 탭합니다. 개발사는 \"Kakao Corp.\"입니다.\\n'\n",
            " '\\n'\n",
            " '4. **앱 설치하기**  \\n'\n",
            " '   **받기** 또는 **클라우드 모양 아이콘**을 탭하여 앱을 다운로드하고 설치합니다. Apple ID 비밀번호를 묻거나 Face '\n",
            " 'ID/Touch ID 인증을 요청할 수 있습니다.\\n'\n",
            " '\\n'\n",
            " '5. **설치 완료 후 열기**  \\n'\n",
            " '   설치가 완료되면 **열기** 버튼을 눌러 카카오톡을 실행합니다.\\n'\n",
            " '\\n'\n",
            " '6. **회원가입 또는 로그인**  \\n'\n",
            " '   기존 계정이 있으면 로그인하고, 없으면 회원가입 절차를 따라 계정을 만드시면 됩니다.\\n'\n",
            " '\\n'\n",
            " '필요하시면 추가로 카카오톡 사용법도 알려드릴 수 있습니다!')\n",
            "----------------------------------------------------------------------------------------------------\n",
            "맥락이 풍부한 프롬프트의 결과\n",
            "('안녕하세요! 아이폰에 카카오톡을 설치하는 방법을 아주 쉽게 알려드릴게요. 천천히 따라 하시면 누구나 할 수 있어요.\\n'\n",
            " '\\n'\n",
            " '---\\n'\n",
            " '\\n'\n",
            " '### 1단계: 아이폰에서 ‘앱스토어’ 찾기  \\n'\n",
            " '- 아이폰 바탕화면에서 **파란색 바탕에 흰색 글자 ‘App Store’** 아이콘을 찾아서 손가락으로 한 번 눌러주세요.  \\n'\n",
            " '- 예를 들어, 집에서 TV 리모컨 찾듯이 ‘앱스토어’ 아이콘을 찾아서 눌러주시면 됩니다.\\n'\n",
            " '\\n'\n",
            " '---\\n'\n",
            " '\\n'\n",
            " '### 2단계: 앱스토어에서 ‘카카오톡’ 검색하기  \\n'\n",
            " '- 앱스토어가 열리면, 화면 아래쪽에 돋보기 모양(🔍)이 있어요. 그걸 눌러주세요.  \\n'\n",
            " '- 위쪽에 흰색 검색창이 나오면, 손가락으로 눌러서 ‘카카오톡’이라고 천천히 써주세요.  \\n'\n",
            " '- 글자를 다 쓰면 키보드에서 ‘검색’ 버튼을 눌러주세요.\\n'\n",
            " '\\n'\n",
            " '---\\n'\n",
            " '\\n'\n",
            " '### 3단계: 카카오톡 앱 설치하기  \\n'\n",
            " '- 검색 결과에 ‘카카오톡’ 앱이 보일 거예요. 보통 노란색 말풍선 모양에 ‘KakaoTalk’라고 써 있어요.  \\n'\n",
            " '- ‘받기’ 또는 ‘클라우드 모양’ 버튼을 눌러주세요.  \\n'\n",
            " '- 만약 ‘받기’ 대신 ‘열기’라고 나오면 이미 설치된 상태예요.  \\n'\n",
            " '- 설치가 시작되면 동그란 원이 차오르면서 설치가 진행됩니다.  \\n'\n",
            " '- 설치가 끝나면 ‘열기’ 버튼이 나타나요.\\n'\n",
            " '\\n'\n",
            " '---\\n'\n",
            " '\\n'\n",
            " '### 4단계: 카카오톡 실행하기  \\n'\n",
            " '- ‘열기’ 버튼을 눌러서 카카오톡을 시작하세요.  \\n'\n",
            " '- 또는 아이폰 바탕화면에 ‘카카오톡’ 아이콘이 생겼는지 확인하고, 그 아이콘을 눌러도 됩니다.\\n'\n",
            " '\\n'\n",
            " '---\\n'\n",
            " '\\n'\n",
            " '### 추가 도움말  \\n'\n",
            " '- 설치 중에 ‘Apple ID 비밀번호’를 물어볼 수 있어요. 비밀번호를 모르면 가족이나 선생님께 도움을 요청하세요.  \\n'\n",
            " '- 설치가 어려우면 천천히, 한 단계씩 차근차근 해보세요.  \\n'\n",
            " '- 궁금한 점이 있으면 언제든지 물어보세요!\\n'\n",
            " '\\n'\n",
            " '---\\n'\n",
            " '\\n'\n",
            " '이렇게 하면 아이폰에 카카오톡을 쉽게 설치할 수 있습니다. 스마트폰 사용이 처음이라도 걱정하지 마세요. 천천히 연습하면 금방 익숙해질 '\n",
            " '거예요!')\n"
          ]
        }
      ],
      "source": [
        "from langchain_core.prompts import ChatPromptTemplate\n",
        "\n",
        "# 맥락이 부족한 프롬프트의 예\n",
        "bad_prompt = ChatPromptTemplate.from_template(\"\"\"\n",
        "당신은 친절한 AI 어시스턴트입니다. 사용자의 질문에 답변해주세요.\n",
        "사용자 질문: {user_question}                                              \n",
        "\"\"\")\n",
        "\n",
        "# 맥락이 풍부한 프롬프트의 예\n",
        "good_prompt = ChatPromptTemplate.from_template(\"\"\"\n",
        "사용자 질문: {user_question}\n",
        "\n",
        "배경: 65세 이상 노인을 대상으로 하는 스마트폰 교육 프로그램을 진행하고 있습니다.\n",
        "목적: 처음 스마트폰을 사용하는 노인들이 기본 기능을 쉽게 익힐 수 있도록 돕고자 합니다.\n",
        "대상: 디지털 기기 사용 경험이 거의 없는 노인입니다.\n",
        "\n",
        "위 맥락을 고려하여 응답해주세요.\n",
        "\n",
        "응답 형식:\n",
        "- 쉬운 용어 사용\n",
        "- 단계별 설명\n",
        "- 구체적인 예시 포함\n",
        "\"\"\")\n",
        "\n",
        "\n",
        "# LCEL 체인\n",
        "good_chain = good_prompt | llm \n",
        "bad_chain = bad_prompt | llm\n",
        "\n",
        "# 테스트\n",
        "question = \"아이폰에 카카오톡 설치하는 방법을 알려주세요.\"\n",
        "good_result = good_chain.invoke({\"user_question\": question})\n",
        "bad_result = bad_chain.invoke({\"user_question\": question})\n",
        "\n",
        "print(\"맥락이 부족한 프롬프트의 결과\")\n",
        "pprint(bad_result.content)\n",
        "print(\"-\"*100)\n",
        "\n",
        "print(\"맥락이 풍부한 프롬프트의 결과\")\n",
        "pprint(good_result.content)"
      ]
    },
    {
      "cell_type": "markdown",
      "metadata": {},
      "source": [
        "---\n",
        "## 3. **구조화(Structure)**\n",
        "\n",
        "- 프롬프트 입력의 구조화: PromptTemplate, ChatPromptTemplate 사용\n",
        "- LLM 출력의 구조화: OutputParser, Schema 사용\n",
        "\n",
        "- 기대효과:\n",
        "    - 일관된 형식의 입출력 보장\n",
        "    - 데이터 처리 및 후속 작업의 용이성\n",
        "    - 오류 처리의 체계화\n",
        "    - 재사용성 향상"
      ]
    },
    {
      "cell_type": "markdown",
      "metadata": {},
      "source": [
        "### 1) 프롬프트 템플릿 (Prompt Template)\n",
        "\n",
        "- **프롬프트 템플릿**은 LLM과의 상호작용을 구조화하는 핵심 도구\n",
        "\n",
        "- 템플릿은 다양한 입력값으로 **재사용**이 가능하며 **유연한 변수 처리**를 지원\n",
        "\n",
        "- **검증 기능**과 **부분 포맷팅**을 통해 프롬프트 작성의 안정성을 보장"
      ]
    },
    {
      "cell_type": "markdown",
      "metadata": {},
      "source": [
        "`(1) 기본 템플릿`\n",
        "\n"
      ]
    },
    {
      "cell_type": "code",
      "execution_count": 33,
      "metadata": {},
      "outputs": [
        {
          "name": "stdout",
          "output_type": "stream",
          "text": [
            "\n",
            "다음 주제에 대해 설명해주세요: 인공지능\n",
            "포함해야 할 내용: 정의, 역사, 응용분야\n",
            "글자수: 500자\n",
            "\n"
          ]
        }
      ],
      "source": [
        "from langchain_core.prompts import PromptTemplate\n",
        "\n",
        "# 템플릿 정의\n",
        "template = \"\"\"\n",
        "다음 주제에 대해 설명해주세요: {topic}\n",
        "포함해야 할 내용: {content}\n",
        "글자수: {length}\n",
        "\"\"\"\n",
        "\n",
        "prompt = PromptTemplate(\n",
        "    template=template,\n",
        "    input_variables=[\"topic\", \"content\", \"length\"]\n",
        ")\n",
        "\n",
        "# 템플릿 사용\n",
        "formatted_prompt = prompt.format(\n",
        "    topic=\"인공지능\",\n",
        "    content=\"정의, 역사, 응용분야\",\n",
        "    length=\"500자\"\n",
        ")\n",
        "\n",
        "print(formatted_prompt)"
      ]
    },
    {
      "cell_type": "markdown",
      "metadata": {},
      "source": [
        "`(2) from_template 메소드`"
      ]
    },
    {
      "cell_type": "code",
      "execution_count": 34,
      "metadata": {},
      "outputs": [
        {
          "name": "stdout",
          "output_type": "stream",
          "text": [
            "\n",
            "다음 주제에 대해 설명해주세요: 인공지능\n",
            "포함해야 할 내용: 정의, 역사, 응용분야\n",
            "글자수: 500자\n",
            "\n"
          ]
        }
      ],
      "source": [
        "from langchain_core.prompts import PromptTemplate\n",
        "\n",
        "# 템플릿 문자열 정의\n",
        "template = \"\"\"\n",
        "다음 주제에 대해 설명해주세요: {topic}\n",
        "포함해야 할 내용: {content}\n",
        "글자수: {length}\n",
        "\"\"\"\n",
        "\n",
        "# 템플릿 생성 (템플릿 문자열 지정)\n",
        "prompt = PromptTemplate.from_template(template)\n",
        "\n",
        "# 템플릿 사용 (입력 변수 지정)\n",
        "formatted_prompt = prompt.format(\n",
        "    topic=\"인공지능\",\n",
        "    content=\"정의, 역사, 응용분야\",\n",
        "    length=\"500자\"\n",
        ")\n",
        "\n",
        "print(formatted_prompt)"
      ]
    },
    {
      "cell_type": "markdown",
      "metadata": {},
      "source": [
        "`(3) 템플릿 검증 및 부분 포맷팅`"
      ]
    },
    {
      "cell_type": "code",
      "execution_count": 35,
      "metadata": {},
      "outputs": [
        {
          "name": "stdout",
          "output_type": "stream",
          "text": [
            "부분적으로 변수 채워진 템플릿: input_variables=['feature'] input_types={} partial_variables={'product': '스마트폰'} template='{product}의 다음 특징을 분석해주세요: {feature}' validate_template=True\n",
            "----------------------------------------------------------------------------------------------------\n",
            "나머지 변수 채워진 템플릿: 스마트폰의 다음 특징을 분석해주세요: 카메라\n",
            "----------------------------------------------------------------------------------------------------\n",
            "다른 변수 채워진 템플릿: 스마트폰의 다음 특징을 분석해주세요: 배터리 수명\n",
            "----------------------------------------------------------------------------------------------------\n",
            "모든 변수 채워진 템플릿: 노트북의 다음 특징을 분석해주세요: 배터리 수명\n"
          ]
        }
      ],
      "source": [
        "from langchain_core.prompts import PromptTemplate\n",
        "\n",
        "# 템플릿 생성 \n",
        "template = PromptTemplate(\n",
        "    template=\"{product}의 다음 특징을 분석해주세요: {feature}\",  # 템플릿 문자열\n",
        "    input_variables=[\"product\", \"feature\"],  # 입력 변수 목록\n",
        "    validate_template=True  # 템플릿 유효성 검증\n",
        ")\n",
        "\n",
        "# 부분적으로 변수 채우기\n",
        "partial_prompt = template.partial(product=\"스마트폰\")\n",
        "\n",
        "print(f\"부분적으로 변수 채워진 템플릿: {partial_prompt}\")\n",
        "print(\"-\"*100)\n",
        "\n",
        "# 나중에 나머지 변수 채우기\n",
        "final_prompt1 = partial_prompt.format(feature=\"카메라\")\n",
        "\n",
        "print(f\"나머지 변수 채워진 템플릿: {final_prompt1}\")\n",
        "print(\"-\"*100)\n",
        "\n",
        "# 다른 특징을 분석하도록 변수 변경\n",
        "final_prompt2 = partial_prompt.format(feature=\"배터리 수명\")\n",
        "\n",
        "print(f\"다른 변수 채워진 템플릿: {final_prompt2}\")\n",
        "print(\"-\"*100)\n",
        "\n",
        "# 모든 변수를 한 번에 채우기\n",
        "final_prompt3 = template.format(product=\"노트북\", feature=\"배터리 수명\")\n",
        "\n",
        "print(f\"모든 변수 채워진 템플릿: {final_prompt3}\")"
      ]
    },
    {
      "cell_type": "code",
      "execution_count": 36,
      "metadata": {},
      "outputs": [
        {
          "ename": "KeyError",
          "evalue": "'feature'",
          "output_type": "error",
          "traceback": [
            "\u001b[31m---------------------------------------------------------------------------\u001b[39m",
            "\u001b[31mKeyError\u001b[39m                                  Traceback (most recent call last)",
            "\u001b[36mCell\u001b[39m\u001b[36m \u001b[39m\u001b[32mIn[36]\u001b[39m\u001b[32m, line 3\u001b[39m\n\u001b[32m      1\u001b[39m \u001b[38;5;66;03m# 템플릿 유효성 검증 실패\u001b[39;00m\n\u001b[32m      2\u001b[39m \u001b[38;5;28;01mtry\u001b[39;00m:\n\u001b[32m----> \u001b[39m\u001b[32m3\u001b[39m     invalid_prompt = \u001b[43mtemplate\u001b[49m\u001b[43m.\u001b[49m\u001b[43mformat\u001b[49m\u001b[43m(\u001b[49m\u001b[43mproduct\u001b[49m\u001b[43m=\u001b[49m\u001b[33;43m\"\u001b[39;49m\u001b[33;43m스마트폰\u001b[39;49m\u001b[33;43m\"\u001b[39;49m\u001b[43m)\u001b[49m\n\u001b[32m      4\u001b[39m \u001b[38;5;28;01mexcept\u001b[39;00m \u001b[38;5;167;01mValueError\u001b[39;00m \u001b[38;5;28;01mas\u001b[39;00m e:\n\u001b[32m      5\u001b[39m     \u001b[38;5;28mprint\u001b[39m(\u001b[33mf\u001b[39m\u001b[33m\"\u001b[39m\u001b[33m템플릿 유효성 검증 실패: \u001b[39m\u001b[38;5;132;01m{\u001b[39;00me\u001b[38;5;132;01m}\u001b[39;00m\u001b[33m\"\u001b[39m)\n",
            "\u001b[36mFile \u001b[39m\u001b[32mh:\\miniconda3\\envs\\modu\\Lib\\site-packages\\langchain_core\\prompts\\prompt.py:187\u001b[39m, in \u001b[36mPromptTemplate.format\u001b[39m\u001b[34m(self, **kwargs)\u001b[39m\n\u001b[32m    178\u001b[39m \u001b[38;5;250m\u001b[39m\u001b[33;03m\"\"\"Format the prompt with the inputs.\u001b[39;00m\n\u001b[32m    179\u001b[39m \n\u001b[32m    180\u001b[39m \u001b[33;03mArgs:\u001b[39;00m\n\u001b[32m   (...)\u001b[39m\u001b[32m    184\u001b[39m \u001b[33;03m    A formatted string.\u001b[39;00m\n\u001b[32m    185\u001b[39m \u001b[33;03m\"\"\"\u001b[39;00m\n\u001b[32m    186\u001b[39m kwargs = \u001b[38;5;28mself\u001b[39m._merge_partial_and_user_variables(**kwargs)\n\u001b[32m--> \u001b[39m\u001b[32m187\u001b[39m \u001b[38;5;28;01mreturn\u001b[39;00m \u001b[43mDEFAULT_FORMATTER_MAPPING\u001b[49m\u001b[43m[\u001b[49m\u001b[38;5;28;43mself\u001b[39;49m\u001b[43m.\u001b[49m\u001b[43mtemplate_format\u001b[49m\u001b[43m]\u001b[49m\u001b[43m(\u001b[49m\u001b[38;5;28;43mself\u001b[39;49m\u001b[43m.\u001b[49m\u001b[43mtemplate\u001b[49m\u001b[43m,\u001b[49m\u001b[43m \u001b[49m\u001b[43m*\u001b[49m\u001b[43m*\u001b[49m\u001b[43mkwargs\u001b[49m\u001b[43m)\u001b[49m\n",
            "\u001b[36mFile \u001b[39m\u001b[32mh:\\miniconda3\\envs\\modu\\Lib\\string.py:190\u001b[39m, in \u001b[36mFormatter.format\u001b[39m\u001b[34m(self, format_string, *args, **kwargs)\u001b[39m\n\u001b[32m    189\u001b[39m \u001b[38;5;28;01mdef\u001b[39;00m\u001b[38;5;250m \u001b[39m\u001b[34mformat\u001b[39m(\u001b[38;5;28mself\u001b[39m, format_string, /, *args, **kwargs):\n\u001b[32m--> \u001b[39m\u001b[32m190\u001b[39m     \u001b[38;5;28;01mreturn\u001b[39;00m \u001b[38;5;28;43mself\u001b[39;49m\u001b[43m.\u001b[49m\u001b[43mvformat\u001b[49m\u001b[43m(\u001b[49m\u001b[43mformat_string\u001b[49m\u001b[43m,\u001b[49m\u001b[43m \u001b[49m\u001b[43margs\u001b[49m\u001b[43m,\u001b[49m\u001b[43m \u001b[49m\u001b[43mkwargs\u001b[49m\u001b[43m)\u001b[49m\n",
            "\u001b[36mFile \u001b[39m\u001b[32mh:\\miniconda3\\envs\\modu\\Lib\\site-packages\\langchain_core\\utils\\formatting.py:33\u001b[39m, in \u001b[36mStrictFormatter.vformat\u001b[39m\u001b[34m(self, format_string, args, kwargs)\u001b[39m\n\u001b[32m     28\u001b[39m     msg = (\n\u001b[32m     29\u001b[39m         \u001b[33m\"\u001b[39m\u001b[33mNo arguments should be provided, \u001b[39m\u001b[33m\"\u001b[39m\n\u001b[32m     30\u001b[39m         \u001b[33m\"\u001b[39m\u001b[33meverything should be passed as keyword arguments.\u001b[39m\u001b[33m\"\u001b[39m\n\u001b[32m     31\u001b[39m     )\n\u001b[32m     32\u001b[39m     \u001b[38;5;28;01mraise\u001b[39;00m \u001b[38;5;167;01mValueError\u001b[39;00m(msg)\n\u001b[32m---> \u001b[39m\u001b[32m33\u001b[39m \u001b[38;5;28;01mreturn\u001b[39;00m \u001b[38;5;28;43msuper\u001b[39;49m\u001b[43m(\u001b[49m\u001b[43m)\u001b[49m\u001b[43m.\u001b[49m\u001b[43mvformat\u001b[49m\u001b[43m(\u001b[49m\u001b[43mformat_string\u001b[49m\u001b[43m,\u001b[49m\u001b[43m \u001b[49m\u001b[43margs\u001b[49m\u001b[43m,\u001b[49m\u001b[43m \u001b[49m\u001b[43mkwargs\u001b[49m\u001b[43m)\u001b[49m\n",
            "\u001b[36mFile \u001b[39m\u001b[32mh:\\miniconda3\\envs\\modu\\Lib\\string.py:194\u001b[39m, in \u001b[36mFormatter.vformat\u001b[39m\u001b[34m(self, format_string, args, kwargs)\u001b[39m\n\u001b[32m    192\u001b[39m \u001b[38;5;28;01mdef\u001b[39;00m\u001b[38;5;250m \u001b[39m\u001b[34mvformat\u001b[39m(\u001b[38;5;28mself\u001b[39m, format_string, args, kwargs):\n\u001b[32m    193\u001b[39m     used_args = \u001b[38;5;28mset\u001b[39m()\n\u001b[32m--> \u001b[39m\u001b[32m194\u001b[39m     result, _ = \u001b[38;5;28;43mself\u001b[39;49m\u001b[43m.\u001b[49m\u001b[43m_vformat\u001b[49m\u001b[43m(\u001b[49m\u001b[43mformat_string\u001b[49m\u001b[43m,\u001b[49m\u001b[43m \u001b[49m\u001b[43margs\u001b[49m\u001b[43m,\u001b[49m\u001b[43m \u001b[49m\u001b[43mkwargs\u001b[49m\u001b[43m,\u001b[49m\u001b[43m \u001b[49m\u001b[43mused_args\u001b[49m\u001b[43m,\u001b[49m\u001b[43m \u001b[49m\u001b[32;43m2\u001b[39;49m\u001b[43m)\u001b[49m\n\u001b[32m    195\u001b[39m     \u001b[38;5;28mself\u001b[39m.check_unused_args(used_args, args, kwargs)\n\u001b[32m    196\u001b[39m     \u001b[38;5;28;01mreturn\u001b[39;00m result\n",
            "\u001b[36mFile \u001b[39m\u001b[32mh:\\miniconda3\\envs\\modu\\Lib\\string.py:234\u001b[39m, in \u001b[36mFormatter._vformat\u001b[39m\u001b[34m(self, format_string, args, kwargs, used_args, recursion_depth, auto_arg_index)\u001b[39m\n\u001b[32m    230\u001b[39m     auto_arg_index = \u001b[38;5;28;01mFalse\u001b[39;00m\n\u001b[32m    232\u001b[39m \u001b[38;5;66;03m# given the field_name, find the object it references\u001b[39;00m\n\u001b[32m    233\u001b[39m \u001b[38;5;66;03m#  and the argument it came from\u001b[39;00m\n\u001b[32m--> \u001b[39m\u001b[32m234\u001b[39m obj, arg_used = \u001b[38;5;28;43mself\u001b[39;49m\u001b[43m.\u001b[49m\u001b[43mget_field\u001b[49m\u001b[43m(\u001b[49m\u001b[43mfield_name\u001b[49m\u001b[43m,\u001b[49m\u001b[43m \u001b[49m\u001b[43margs\u001b[49m\u001b[43m,\u001b[49m\u001b[43m \u001b[49m\u001b[43mkwargs\u001b[49m\u001b[43m)\u001b[49m\n\u001b[32m    235\u001b[39m used_args.add(arg_used)\n\u001b[32m    237\u001b[39m \u001b[38;5;66;03m# do any conversion on the resulting object\u001b[39;00m\n",
            "\u001b[36mFile \u001b[39m\u001b[32mh:\\miniconda3\\envs\\modu\\Lib\\string.py:299\u001b[39m, in \u001b[36mFormatter.get_field\u001b[39m\u001b[34m(self, field_name, args, kwargs)\u001b[39m\n\u001b[32m    296\u001b[39m \u001b[38;5;28;01mdef\u001b[39;00m\u001b[38;5;250m \u001b[39m\u001b[34mget_field\u001b[39m(\u001b[38;5;28mself\u001b[39m, field_name, args, kwargs):\n\u001b[32m    297\u001b[39m     first, rest = _string.formatter_field_name_split(field_name)\n\u001b[32m--> \u001b[39m\u001b[32m299\u001b[39m     obj = \u001b[38;5;28;43mself\u001b[39;49m\u001b[43m.\u001b[49m\u001b[43mget_value\u001b[49m\u001b[43m(\u001b[49m\u001b[43mfirst\u001b[49m\u001b[43m,\u001b[49m\u001b[43m \u001b[49m\u001b[43margs\u001b[49m\u001b[43m,\u001b[49m\u001b[43m \u001b[49m\u001b[43mkwargs\u001b[49m\u001b[43m)\u001b[49m\n\u001b[32m    301\u001b[39m     \u001b[38;5;66;03m# loop through the rest of the field_name, doing\u001b[39;00m\n\u001b[32m    302\u001b[39m     \u001b[38;5;66;03m#  getattr or getitem as needed\u001b[39;00m\n\u001b[32m    303\u001b[39m     \u001b[38;5;28;01mfor\u001b[39;00m is_attr, i \u001b[38;5;129;01min\u001b[39;00m rest:\n",
            "\u001b[36mFile \u001b[39m\u001b[32mh:\\miniconda3\\envs\\modu\\Lib\\string.py:256\u001b[39m, in \u001b[36mFormatter.get_value\u001b[39m\u001b[34m(self, key, args, kwargs)\u001b[39m\n\u001b[32m    254\u001b[39m     \u001b[38;5;28;01mreturn\u001b[39;00m args[key]\n\u001b[32m    255\u001b[39m \u001b[38;5;28;01melse\u001b[39;00m:\n\u001b[32m--> \u001b[39m\u001b[32m256\u001b[39m     \u001b[38;5;28;01mreturn\u001b[39;00m \u001b[43mkwargs\u001b[49m\u001b[43m[\u001b[49m\u001b[43mkey\u001b[49m\u001b[43m]\u001b[49m\n",
            "\u001b[31mKeyError\u001b[39m: 'feature'"
          ]
        }
      ],
      "source": [
        "# 템플릿 유효성 검증 실패\n",
        "try:\n",
        "    invalid_prompt = template.format(product=\"스마트폰\")\n",
        "except ValueError as e:\n",
        "    print(f\"템플릿 유효성 검증 실패: {e}\")"
      ]
    },
    {
      "cell_type": "markdown",
      "metadata": {},
      "source": [
        "### 2) 챗 프롬프트 템플릿 (Chat Prompt Template)\n",
        "\n",
        "- **챗 프롬프트 템플릿**은 대화형 AI와의 상호작용을 위한 특화된 템플릿\n",
        "\n",
        "- 시스템/사용자/어시스턴트 등 **다양한 역할**의 메시지를 구조화\n",
        "\n",
        "- 대화의 **맥락과 흐름**을 유지하면서 일관된 상호작용 가능"
      ]
    },
    {
      "cell_type": "markdown",
      "metadata": {},
      "source": [
        "`(1) 메시지 템플릿 사용`"
      ]
    },
    {
      "cell_type": "code",
      "execution_count": null,
      "metadata": {},
      "outputs": [],
      "source": [
        "### 2. 복잡한 템플릿 구성:\n",
        "\n",
        "from langchain_core.prompts import ChatPromptTemplate\n",
        "from langchain_core.prompts import SystemMessagePromptTemplate, HumanMessagePromptTemplate\n",
        "\n",
        "# 개별 메시지 템플릿 생성\n",
        "system_message = SystemMessagePromptTemplate.from_template(\n",
        "    \"당신은 {role} 전문가입니다. {style} 스타일로 답변해주세요.\"\n",
        ")\n",
        "\n",
        "human_message = HumanMessagePromptTemplate.from_template(\n",
        "    \"{question}\"\n",
        ")\n",
        "\n",
        "# from_messages 메소드 사용 (여러 개의 메시지들을 원소로 갖는 리스트로 구성)\n",
        "chat_prompt = ChatPromptTemplate.from_messages([\n",
        "    system_message,\n",
        "    human_message\n",
        "])\n",
        "\n",
        "# 템플릿 사용\n",
        "formatted_prompt = chat_prompt.format(\n",
        "    role=\"인공지능\",\n",
        "    style=\"친절한\",\n",
        "    question=\"인공지능의 정의를 설명해주세요.\"\n",
        ")\n",
        "\n",
        "print(formatted_prompt)"
      ]
    },
    {
      "cell_type": "markdown",
      "metadata": {},
      "source": [
        "`(2) 문자열 템플릿 사용`"
      ]
    },
    {
      "cell_type": "code",
      "execution_count": null,
      "metadata": {},
      "outputs": [],
      "source": [
        "from langchain_core.prompts import ChatPromptTemplate\n",
        "\n",
        "# 시스템 메시지와 사용자 메시지를 포함한 템플릿 정의\n",
        "template = \"\"\"\n",
        "당신은 {role} 전문가입니다. {style} 스타일로 답변해주세요.\n",
        "\n",
        "{question}\n",
        "\"\"\"\n",
        "\n",
        "# from_template 메소드 사용 (단일 템플릿 문자열 직접 사용)\n",
        "chat_prompt = ChatPromptTemplate.from_template(template)\n",
        "\n",
        "# 템플릿 사용\n",
        "formatted_prompt = chat_prompt.format(\n",
        "    role=\"인공지능\",\n",
        "    style=\"친절한\",\n",
        "    question=\"인공지능의 정의를 설명해주세요.\"\n",
        ")\n",
        "\n",
        "# ChatPromptTemplate을 직접 생성 - 이때는 HumanMessage로 처리됨 (SystemMessage는 별도로 추가해야 함)\n",
        "print(formatted_prompt)"
      ]
    },
    {
      "cell_type": "markdown",
      "metadata": {},
      "source": [
        "### 2)  OutputParser 활용\n",
        "\n",
        "- **OutputParser**는 LLM의 출력을 다양한 데이터 형식으로 변환하는 도구\n",
        "\n",
        "- **문자열**, **JSON**, **XML** 등 여러 형식의 파싱을 지원\n",
        "\n",
        "- 파싱된 출력은 **다른 시스템**이나 **프로세스**와 연동하는데 유용"
      ]
    },
    {
      "cell_type": "markdown",
      "metadata": {},
      "source": [
        "`(1) JSONOutputParser`\n",
        "- LLM의 출력을 **구조화된 JSON**으로 변환\n",
        "- 파서는 출력의 **데이터 유효성**을 검증하고 일관된 형식을 보장"
      ]
    },
    {
      "cell_type": "code",
      "execution_count": 37,
      "metadata": {},
      "outputs": [
        {
          "name": "stdout",
          "output_type": "stream",
          "text": [
            "('The output should be formatted as a JSON instance that conforms to the JSON '\n",
            " 'schema below.\\n'\n",
            " '\\n'\n",
            " 'As an example, for the schema {\"properties\": {\"foo\": {\"title\": \"Foo\", '\n",
            " '\"description\": \"a list of strings\", \"type\": \"array\", \"items\": {\"type\": '\n",
            " '\"string\"}}}, \"required\": [\"foo\"]}\\n'\n",
            " 'the object {\"foo\": [\"bar\", \"baz\"]} is a well-formatted instance of the '\n",
            " 'schema. The object {\"properties\": {\"foo\": [\"bar\", \"baz\"]}} is not '\n",
            " 'well-formatted.\\n'\n",
            " '\\n'\n",
            " 'Here is the output schema:\\n'\n",
            " '```\\n'\n",
            " '{\"properties\": {\"name\": {\"description\": \"관광명소 이름\", \"title\": \"Name\", \"type\": '\n",
            " '\"string\"}, \"location\": {\"description\": \"위치 (구/동 정보)\", \"title\": \"Location\", '\n",
            " '\"type\": \"string\"}, \"category\": {\"description\": \"카테고리 (궁궐/박물관/쇼핑 등)\", '\n",
            " '\"title\": \"Category\", \"type\": \"string\"}, \"highlights\": {\"description\": \"주요 관람 '\n",
            " '포인트\", \"items\": {\"type\": \"string\"}, \"title\": \"Highlights\", \"type\": \"array\"}}, '\n",
            " '\"required\": [\"name\", \"location\", \"category\", \"highlights\"]}\\n'\n",
            " '```')\n"
          ]
        }
      ],
      "source": [
        "from langchain_core.output_parsers import JsonOutputParser\n",
        "from langchain_core.prompts import PromptTemplate\n",
        "from pydantic import BaseModel, Field\n",
        "from typing import List\n",
        "\n",
        "# 관광지 정보를 위한 Pydantic 모델 정의 (이름, 위치, 카테고리, 주요 관람 포인트)\n",
        "class TouristSpot(BaseModel):\n",
        "    name: str = Field(description=\"관광명소 이름\")\n",
        "    location: str = Field(description=\"위치 (구/동 정보)\")\n",
        "    category: str = Field(description=\"카테고리 (궁궐/박물관/쇼핑 등)\")\n",
        "    highlights: List[str] = Field(description=\"주요 관람 포인트\")\n",
        "\n",
        "# JsonOutputParser 파서 설정 (Pydantic 모델 지정)\n",
        "parser = JsonOutputParser(pydantic_object=TouristSpot)\n",
        "\n",
        "# parser의 get_format_instructions 메소드 사용 (포맷 지시사항 출력)\n",
        "pprint(parser.get_format_instructions())"
      ]
    },
    {
      "cell_type": "code",
      "execution_count": 38,
      "metadata": {},
      "outputs": [
        {
          "name": "stdout",
          "output_type": "stream",
          "text": [
            "('서울의 다음 관광명소에 대한 상세 정보를 제공해주세요.\\n'\n",
            " 'The output should be formatted as a JSON instance that conforms to the JSON '\n",
            " 'schema below.\\n'\n",
            " '\\n'\n",
            " 'As an example, for the schema {\"properties\": {\"foo\": {\"title\": \"Foo\", '\n",
            " '\"description\": \"a list of strings\", \"type\": \"array\", \"items\": {\"type\": '\n",
            " '\"string\"}}}, \"required\": [\"foo\"]}\\n'\n",
            " 'the object {\"foo\": [\"bar\", \"baz\"]} is a well-formatted instance of the '\n",
            " 'schema. The object {\"properties\": {\"foo\": [\"bar\", \"baz\"]}} is not '\n",
            " 'well-formatted.\\n'\n",
            " '\\n'\n",
            " 'Here is the output schema:\\n'\n",
            " '```\\n'\n",
            " '{\"properties\": {\"name\": {\"description\": \"관광명소 이름\", \"title\": \"Name\", \"type\": '\n",
            " '\"string\"}, \"location\": {\"description\": \"위치 (구/동 정보)\", \"title\": \"Location\", '\n",
            " '\"type\": \"string\"}, \"category\": {\"description\": \"카테고리 (궁궐/박물관/쇼핑 등)\", '\n",
            " '\"title\": \"Category\", \"type\": \"string\"}, \"highlights\": {\"description\": \"주요 관람 '\n",
            " '포인트\", \"items\": {\"type\": \"string\"}, \"title\": \"Highlights\", \"type\": \"array\"}}, '\n",
            " '\"required\": [\"name\", \"location\", \"category\", \"highlights\"]}\\n'\n",
            " '```\\n'\n",
            " '\\n'\n",
            " '관광지: 경복궁\\n')\n"
          ]
        }
      ],
      "source": [
        "# 프롬프트 템플릿 정의 (parser의 get_format_instructions 메소드 사용)\n",
        "prompt = PromptTemplate(\n",
        "    template=\"\"\"서울의 다음 관광명소에 대한 상세 정보를 제공해주세요.\n",
        "{format_instructions}\n",
        "\n",
        "관광지: {spot_name}\n",
        "\"\"\",\n",
        "    input_variables=[\"spot_name\"],\n",
        "    partial_variables={\"format_instructions\": parser.get_format_instructions()},\n",
        ")\n",
        "\n",
        "# 완성된 프롬프트 템플릿 출력 (포맷 지시사항 포함)\n",
        "pprint(prompt.format(spot_name=\"경복궁\"))"
      ]
    },
    {
      "cell_type": "code",
      "execution_count": 39,
      "metadata": {},
      "outputs": [
        {
          "name": "stdout",
          "output_type": "stream",
          "text": [
            "{'category': '궁궐',\n",
            " 'highlights': ['조선 시대의 대표적인 궁궐로서 한국 전통 건축 양식을 감상할 수 있음',\n",
            "                '근정전, 경회루 등 주요 건물과 아름다운 정원',\n",
            "                '한복 체험 및 수문장 교대식 관람 가능',\n",
            "                '국립고궁박물관과 국립민속박물관이 인접해 있어 역사와 문화를 함께 즐길 수 있음'],\n",
            " 'location': '종로구 세종로',\n",
            " 'name': '경복궁'}\n"
          ]
        }
      ],
      "source": [
        "# 체인 구성\n",
        "chain = prompt | llm | parser\n",
        "\n",
        "# 실행 예시\n",
        "result = chain.invoke({\n",
        "    \"spot_name\": \"경복궁\"\n",
        "})\n",
        "\n",
        "# 결과 출력\n",
        "pprint(result)"
      ]
    },
    {
      "cell_type": "markdown",
      "metadata": {},
      "source": [
        "`(2) XMLOutputParser`\n",
        "- LLM의 출력을 **구조화된 XML** 형식으로 변환\n",
        "- XML 구조는 **계층적 데이터**를 표현하는데 효과적\n",
        "- 패키지 설치: defusedxml "
      ]
    },
    {
      "cell_type": "code",
      "execution_count": 40,
      "metadata": {},
      "outputs": [
        {
          "name": "stdout",
          "output_type": "stream",
          "text": [
            "('The output should be formatted as a XML file.\\n'\n",
            " '1. Output should conform to the tags below.\\n'\n",
            " '2. If tags are not given, make them on your own.\\n'\n",
            " '3. Remember to always open and close all the tags.\\n'\n",
            " '\\n'\n",
            " 'As an example, for the tags [\"foo\", \"bar\", \"baz\"]:\\n'\n",
            " '1. String \"<foo>\\n'\n",
            " '   <bar>\\n'\n",
            " '      <baz></baz>\\n'\n",
            " '   </bar>\\n'\n",
            " '</foo>\" is a well-formatted instance of the schema.\\n'\n",
            " '2. String \"<foo>\\n'\n",
            " '   <bar>\\n'\n",
            " '   </foo>\" is a badly-formatted instance.\\n'\n",
            " '3. String \"<foo>\\n'\n",
            " '   <tag>\\n'\n",
            " '   </tag>\\n'\n",
            " '</foo>\" is a badly-formatted instance.\\n'\n",
            " '\\n'\n",
            " 'Here are the output tags:\\n'\n",
            " '```\\n'\n",
            " \"['tourist_spot', 'name', 'location', 'category', 'highlights', 'point']\\n\"\n",
            " '```')\n"
          ]
        }
      ],
      "source": [
        "from langchain_core.output_parsers import XMLOutputParser\n",
        "\n",
        "# XML 파서 설정 - 원하는 태그 구조 정의\n",
        "parser = XMLOutputParser(tags=[\"tourist_spot\", \"name\", \"location\", \"category\", \"highlights\", \"point\"])\n",
        "\n",
        "# parser의 get_format_instructions 메소드 사용 (포맷 지시사항 출력)\n",
        "pprint(parser.get_format_instructions())"
      ]
    },
    {
      "cell_type": "code",
      "execution_count": 41,
      "metadata": {},
      "outputs": [
        {
          "name": "stdout",
          "output_type": "stream",
          "text": [
            "('서울의 다음 관광명소에 대한 상세 정보를 XML 형식으로 제공해주세요.\\n'\n",
            " 'The output should be formatted as a XML file.\\n'\n",
            " '1. Output should conform to the tags below.\\n'\n",
            " '2. If tags are not given, make them on your own.\\n'\n",
            " '3. Remember to always open and close all the tags.\\n'\n",
            " '\\n'\n",
            " 'As an example, for the tags [\"foo\", \"bar\", \"baz\"]:\\n'\n",
            " '1. String \"<foo>\\n'\n",
            " '   <bar>\\n'\n",
            " '      <baz></baz>\\n'\n",
            " '   </bar>\\n'\n",
            " '</foo>\" is a well-formatted instance of the schema.\\n'\n",
            " '2. String \"<foo>\\n'\n",
            " '   <bar>\\n'\n",
            " '   </foo>\" is a badly-formatted instance.\\n'\n",
            " '3. String \"<foo>\\n'\n",
            " '   <tag>\\n'\n",
            " '   </tag>\\n'\n",
            " '</foo>\" is a badly-formatted instance.\\n'\n",
            " '\\n'\n",
            " 'Here are the output tags:\\n'\n",
            " '```\\n'\n",
            " \"['tourist_spot', 'name', 'location', 'category', 'highlights', 'point']\\n\"\n",
            " '```\\n'\n",
            " '\\n'\n",
            " '관광지: 경복궁')\n"
          ]
        }
      ],
      "source": [
        "# 프롬프트 템플릿 정의\n",
        "prompt = PromptTemplate(\n",
        "    template=\"\"\"서울의 다음 관광명소에 대한 상세 정보를 XML 형식으로 제공해주세요.\n",
        "{format_instructions}\n",
        "\n",
        "관광지: {spot_name}\"\"\",\n",
        "    input_variables=[\"spot_name\"],\n",
        "    partial_variables={\"format_instructions\": parser.get_format_instructions()}  \n",
        ")\n",
        "\n",
        "# 완성된 프롬프트 템플릿 출력 (포맷 지시사항 포함)\n",
        "pprint(prompt.format(spot_name=\"경복궁\"))"
      ]
    },
    {
      "cell_type": "code",
      "execution_count": 42,
      "metadata": {},
      "outputs": [
        {
          "name": "stdout",
          "output_type": "stream",
          "text": [
            "{'tourist_spot': [{'name': '경복궁'},\n",
            "                  {'location': '서울특별시 종로구 사직로 161'},\n",
            "                  {'category': '역사/문화유적'},\n",
            "                  {'highlights': [{'point': '조선 왕조의 정궁으로서 한국 전통 건축의 아름다움을 감상할 '\n",
            "                                            '수 있음'},\n",
            "                                  {'point': '근정전, 경회루 등 주요 건축물과 왕실 정원 관람 가능'},\n",
            "                                  {'point': '한복 체험 및 전통 문화 행사 참여 기회 제공'},\n",
            "                                  {'point': '경복궁 야간 개장 시 아름다운 야경 감상 가능'}]}]}\n"
          ]
        }
      ],
      "source": [
        "# 체인 구성\n",
        "chain = prompt | llm | parser\n",
        "\n",
        "# 실행 예시\n",
        "result = chain.invoke({\n",
        "    \"spot_name\": \"경복궁\"\n",
        "})\n",
        "\n",
        "# 결과는 Python 딕셔너리 형태로 파싱되어 반환됨 \n",
        "pprint(result)"
      ]
    },
    {
      "cell_type": "code",
      "execution_count": 43,
      "metadata": {},
      "outputs": [
        {
          "data": {
            "text/plain": [
              "[{'name': '경복궁'},\n",
              " {'location': '서울특별시 종로구 사직로 161'},\n",
              " {'category': '역사/문화유적'},\n",
              " {'highlights': [{'point': '조선 왕조의 정궁으로서 한국 전통 건축의 아름다움을 감상할 수 있음'},\n",
              "   {'point': '근정전, 경회루 등 주요 건축물과 왕실 정원 관람 가능'},\n",
              "   {'point': '한복 체험 및 전통 문화 행사 참여 기회 제공'},\n",
              "   {'point': '경복궁 야간 개장 시 아름다운 야경 감상 가능'}]}]"
            ]
          },
          "execution_count": 43,
          "metadata": {},
          "output_type": "execute_result"
        }
      ],
      "source": [
        "# XML 형식의 결과를 다시 파싱하여 출력 (가장 상위 태그를 제외한 내용만 출력)\n",
        "result['tourist_spot']"
      ]
    },
    {
      "cell_type": "markdown",
      "metadata": {},
      "source": [
        "`(3) 사용자 정의(Custom) OutputParser`\n",
        "- **사용자 정의 파서**는 **RunnableLambda**나 **RunnableGenerator**를 활용하여 구현\n",
        "- 특정 비즈니스 요구사항에 맞는 **맞춤형 출력 형식**을 정의할 수 있음 \n",
        "- 복잡한 **데이터 변환**과 **후처리 로직**을 유연하게 구현할 수 있음 "
      ]
    },
    {
      "cell_type": "code",
      "execution_count": 44,
      "metadata": {},
      "outputs": [
        {
          "name": "stdout",
          "output_type": "stream",
          "text": [
            "{'description': '조선 시대의 대표적인 궁궐로, 서울에 위치해 있습니다. 아름다운 건축과 역사적 의미가 돋보이는 관광 '\n",
            "                '명소입니다.',\n",
            " 'name': '경복궁  '}\n"
          ]
        }
      ],
      "source": [
        "from langchain_core.messages import AIMessage\n",
        "from langchain_core.prompts import PromptTemplate\n",
        "from typing import Dict\n",
        "\n",
        "# 사용자 정의 파서\n",
        "def parse_tourist_spot(ai_message: AIMessage) -> Dict:\n",
        "    \"\"\"관광지 정보를 딕셔너리로 파싱\"\"\"\n",
        "    lines = ai_message.content.split('\\n')\n",
        "    return {\n",
        "        \"name\": lines[0] if lines else \"\",\n",
        "        \"description\": ' '.join(lines[1:]) if len(lines) > 1 else \"\"\n",
        "    }\n",
        "\n",
        "# 프롬프트 템플릿\n",
        "prompt = PromptTemplate(\n",
        "    template=\"다음 관광지에 대해 첫 줄에 이름, 다음 줄부터 설명을 100자 내외로 작성해주세요:\\n{spot_name}\",\n",
        "    input_variables=[\"spot_name\"]\n",
        ")\n",
        "\n",
        "# 체인 구성 (invoke 방식)\n",
        "invoke_chain = prompt | llm | parse_tourist_spot\n",
        "\n",
        "# 체인 실행\n",
        "result = invoke_chain.invoke({\n",
        "    \"spot_name\": \"경복궁\"\n",
        "})\n",
        "\n",
        "pprint(result)"
      ]
    },
    {
      "cell_type": "code",
      "execution_count": 45,
      "metadata": {},
      "outputs": [
        {
          "name": "stdout",
          "output_type": "stream",
          "text": [
            "🏛 \n",
            "🏛 광\n",
            "🏛 화\n",
            "🏛 문\n",
            "🏛   \n",
            "\n",
            "🏛 서울\n",
            "🏛 의\n",
            "🏛  중심\n",
            "🏛 에\n",
            "🏛  위치\n",
            "🏛 한\n",
            "🏛  조\n",
            "🏛 선\n",
            "🏛  시대\n",
            "🏛 의\n",
            "🏛  정\n",
            "🏛 문\n",
            "🏛 으로\n",
            "🏛 ,\n",
            "🏛  역사\n",
            "🏛 적\n",
            "🏛  상\n",
            "🏛 징\n",
            "🏛 성과\n",
            "🏛  문화\n",
            "🏛 적\n",
            "🏛  의미\n",
            "🏛 가\n",
            "🏛  깊\n",
            "🏛 은\n",
            "🏛  명\n",
            "🏛 소\n",
            "🏛 입니다\n",
            "🏛 .\n",
            "🏛 \n"
          ]
        }
      ],
      "source": [
        "## 위 구현을 stream 방식으로 변경\n",
        "\n",
        "from langchain_core.runnables import RunnableGenerator\n",
        "from langchain_core.messages import AIMessageChunk\n",
        "from typing import Iterable\n",
        "import time\n",
        "\n",
        "# 사용자 정의 파서 (stream 방식) \n",
        "def streaming_parse_tourist_spot(chunks: Iterable[AIMessageChunk]) -> Iterable[str]:\n",
        "    \"\"\"실시간으로 관광지 정보 파싱\"\"\"\n",
        "    for chunk in chunks:\n",
        "        yield f\"🏛 {chunk.content}\"   # 🏛 이모지 추가 \n",
        "\n",
        "# stream 방식 체인 구성 \n",
        "streaming_chain = prompt | llm | RunnableGenerator(streaming_parse_tourist_spot)\n",
        "\n",
        "# 체인 실행 \n",
        "for chunk in streaming_chain.stream({\"spot_name\": \"광화문\"}):\n",
        "    print(chunk)\n",
        "    time.sleep(0.1)   # 시간 지연 추가 "
      ]
    },
    {
      "cell_type": "markdown",
      "metadata": {},
      "source": [
        "**[참고] 이모지(emoji) 입력 방법**\n",
        "\n",
        "1. Windows에서:\n",
        "    - `Windows 키 + .` (윈도우 키와 마침표를 동시에 누름)\n",
        "    - 또는 `Windows 키 + ;` (윈도우 키와 세미콜론을 동시에 누름)\n",
        "\n",
        "2. Mac에서:\n",
        "    - `fn(지구본) 키 + E` "
      ]
    },
    {
      "cell_type": "markdown",
      "metadata": {},
      "source": [
        "`(3) 구조화된 출력 프롬프트 (Structured Output Prompts)`\n",
        "   - 일관된 형식의 응답\n",
        "   - 데이터 처리 용이"
      ]
    },
    {
      "cell_type": "code",
      "execution_count": 48,
      "metadata": {},
      "outputs": [
        {
          "name": "stdout",
          "output_type": "stream",
          "text": [
            "{'keywords': ['양자 컴퓨팅', '큐비트', '중첩'],\n",
            " 'sentiment': '중립',\n",
            " 'summary': '양자 컴퓨팅은 양자역학 원리를 이용해 큐비트를 통해 기존 컴퓨터보다 더 빠르고 복잡한 계산을 수행하는 새로운 계산 '\n",
            "            '방식이다.'}\n",
            "<class 'dict'>\n",
            "----------------------------------------------------------------------------------------------------\n",
            "요약: 양자 컴퓨팅은 양자역학 원리를 이용해 큐비트를 통해 기존 컴퓨터보다 더 빠르고 복잡한 계산을 수행하는 새로운 계산 방식이다.\n",
            "키워드: ['양자 컴퓨팅', '큐비트', '중첩']\n",
            "감정: 중립\n"
          ]
        }
      ],
      "source": [
        "from langchain_core.prompts import PromptTemplate\n",
        "from langchain_core.output_parsers import JsonOutputParser\n",
        "from langchain_openai import ChatOpenAI\n",
        "from pydantic import BaseModel, Field\n",
        "from typing import List, Literal\n",
        "from pprint import pprint\n",
        "\n",
        "# LLM 설정 (기존과 동일)\n",
        "llm = ChatOpenAI(\n",
        "    model='gpt-4.1-mini',\n",
        "    temperature=0.3,\n",
        "    top_p=0.9,\n",
        ")\n",
        "\n",
        "# Pydantic 모델로 변경 (TypedDict 대신 BaseModel 사용)\n",
        "class AnalysisResult(BaseModel):\n",
        "    \"\"\"텍스트 분석 결과를 담는 스키마\"\"\"\n",
        "    summary: str = Field(..., description=\"텍스트의 핵심 내용 요약\")\n",
        "    keywords: List[str] = Field(..., description=\"텍스트에서 추출한 주요 키워드\")\n",
        "    sentiment: Literal[\"긍정\", \"부정\", \"중립\"] = Field(..., description=\"텍스트의 전반적인 감정 분석 결과\")\n",
        "\n",
        "# JsonOutputParser 설정 (Pydantic 모델 지정)\n",
        "parser = JsonOutputParser(pydantic_object=AnalysisResult)\n",
        "\n",
        "# 단계별 지시형 프롬프트 (기존과 동일)\n",
        "step_prompt = PromptTemplate(\n",
        "    template=\"\"\"다음 텍스트에 대해서 작업을 순서대로 수행하세요:\n",
        "\n",
        "    [텍스트]\n",
        "    {text}\n",
        "\n",
        "    [작업 순서]\n",
        "    1. 텍스트를 1문장으로 요약\n",
        "    2. 핵심 키워드 3개 추출\n",
        "    3. 감정 분석 수행(긍정/부정/중립)\n",
        "\n",
        "    [작업 결과]\n",
        "    {format_instructions}\n",
        "    \"\"\",\n",
        "    input_variables=[\"text\"],\n",
        "    partial_variables={\"format_instructions\": parser.get_format_instructions()},\n",
        ")\n",
        "\n",
        "# LCEL 체인 구성 (JsonOutputParser 사용)\n",
        "chain = step_prompt | llm | parser\n",
        "\n",
        "# 질문\n",
        "text = \"\"\"\n",
        "양자 컴퓨팅은 양자역학의 원리를 바탕으로 데이터를 처리하는 새로운 형태의 계산 방식이다.\n",
        "기존의 고전적 컴퓨터는 0과 1로 이루어진 이진법(bit)을 사용하여 데이터를 처리하지만,\n",
        "양자 컴퓨터는 양자 비트(큐비트, qubit)를 사용하여 훨씬 더 복잡하고 빠른 계산을 수행할 수 있다.\n",
        "\n",
        "큐비트는 동시에 0과 1의 상태를 가질 수 있는 양자 중첩(superposition) 상태를 활용하며,\n",
        "이를 통해 병렬 계산과 같은 고급 기능이 가능하다.\n",
        "\"\"\"\n",
        "\n",
        "# 체인 실행\n",
        "output = chain.invoke({\"text\": text})\n",
        "\n",
        "# 결과 출력\n",
        "pprint(output)\n",
        "print(type(output))\n",
        "print(\"-\" * 100)\n",
        "\n",
        "# JsonOutputParser는 딕셔너리를 반환하므로 키로 접근\n",
        "print(f\"요약: {output['summary']}\")\n",
        "print(f\"키워드: {output['keywords']}\")\n",
        "print(f\"감정: {output['sentiment']}\")"
      ]
    },
    {
      "cell_type": "code",
      "execution_count": null,
      "metadata": {},
      "outputs": [],
      "source": [
        "# pydantic 사용\n",
        "from typing import List, Literal\n",
        "from pydantic import BaseModel, Field\n",
        "\n",
        "class AnalysisResult(BaseModel):\n",
        "    \"\"\"텍스트 분석 결과를 담는 스키마\"\"\"\n",
        "    \n",
        "    summary: str = Field(\n",
        "        ...,  # ... 은 required 필드를 의미 (필수 입력, None 허용 안함)\n",
        "        description=\"텍스트의 핵심 내용 요약\"\n",
        "    )\n",
        "    \n",
        "    keywords: List[str] = Field(\n",
        "        ...,\n",
        "        description=\"텍스트에서 추출한 주요 키워드\"\n",
        "    )\n",
        "    \n",
        "    sentiment: Literal[\"긍정\", \"부정\", \"중립\"] = Field(\n",
        "        ...,\n",
        "        description=\"텍스트의 전반적인 감정 분석 결과\"\n",
        "    )\n",
        "\n",
        "structured_llm = llm.with_structured_output(AnalysisResult)\n",
        "\n",
        "# LCEL\n",
        "chain = step_prompt | structured_llm\n",
        "\n",
        "# 질문\n",
        "output = chain.invoke({\"text\": text})\n",
        "print(output)\n",
        "print(type(output))\n",
        "print(\"-\"*100)\n",
        "print(output.summary)\n",
        "print(output.keywords)\n",
        "print(output.sentiment)"
      ]
    },
    {
      "cell_type": "markdown",
      "metadata": {},
      "source": [
        "# [실습 프로젝트]\n",
        "\n",
        "### 맞춤형 학습 도우미 챗봇 만들기\n",
        "\n",
        "- 특정 주제에 대한 학습을 돕는 챗봇을 만들어봅니다. 앞서 배운 프롬프트 유형들을 조합하여 활용합니다.\n",
        "\n",
        "- (1) 퀴즈 문제 예시를 보고, (2) 개념 설명 체인을 완성합니다. "
      ]
    },
    {
      "cell_type": "markdown",
      "metadata": {},
      "source": [
        "`(1) 퀴즈 문제 출제 (예시)`"
      ]
    },
    {
      "cell_type": "code",
      "execution_count": 49,
      "metadata": {},
      "outputs": [
        {
          "name": "stdout",
          "output_type": "stream",
          "text": [
            "\"퀴즈 문제: 인공지능 분야에서 '강화학습'이란 무엇을 의미하며, 그 주요 구성 요소 중 하나가 아닌 것은 무엇인가?\"\n",
            "(\"보기: ['에이전트가 환경과 상호작용하며 보상을 최대화하는 학습 방법', '환경, 에이전트, 보상 함수, 정책', '데이터 레이블을 \"\n",
            " \"기반으로 한 지도 학습 방식', '에이전트가 행동을 선택하는 기준인 정책']\")\n",
            "'정답: 3'\n",
            "('정답 설명: 강화학습은 에이전트가 환경과 상호작용하며 보상을 최대화하는 방향으로 학습하는 방법입니다. 주요 구성 요소로는 환경, '\n",
            " \"에이전트, 보상 함수, 그리고 에이전트가 행동을 결정하는 정책이 포함됩니다. '데이터 레이블을 기반으로 한 지도 학습 방식'은 강화학습이 \"\n",
            " '아닌 지도학습의 정의이므로 정답이 아닙니다.')\n"
          ]
        }
      ],
      "source": [
        "from typing import List\n",
        "from pydantic import BaseModel, Field\n",
        "from langchain_core.prompts import PromptTemplate\n",
        "from langchain_openai import ChatOpenAI\n",
        "\n",
        "# 퀴즈 문제 스키마\n",
        "class QuizQuestion(BaseModel):\n",
        "    \"\"\"퀴즈 문제 스키마\"\"\"\n",
        "    question: str = Field(..., description=\"퀴즈 문제\")\n",
        "    options: List[str] = Field(..., description=\"보기 (4개)\")\n",
        "    correct_answer: int = Field(..., description=\"정답 번호 (1-4)\")\n",
        "    explanation: str = Field(..., description=\"정답 설명\")\n",
        "\n",
        "\n",
        "# 퀴즈 생성을 위한 구조화된 출력 프롬프트\n",
        "quiz_prompt = PromptTemplate(\n",
        "    template=\"\"\"다음 주제에 대한 퀴즈 문제를 만들어주세요:\n",
        "    \n",
        "주제: {topic}\n",
        "난이도(상/중/하): {difficulty}\n",
        "\n",
        "다음 조건을 만족하는 퀴즈를 생성해주세요:\n",
        "1. 문제는 명확하고 이해하기 쉽게\n",
        "2. 4개의 보기 제공\n",
        "3. 정답과 오답은 비슷한 수준으로\n",
        "4. 상세한 정답 설명 포함\"\"\",\n",
        "    input_variables=[\"topic\", \"difficulty\"]\n",
        ")\n",
        "\n",
        "# LLM 정의\n",
        "llm = ChatOpenAI(model=\"gpt-4.1-mini\", temperature=0.3)\n",
        "\n",
        "# 구조화된 출력 파서 설정\n",
        "structured_llm = llm.with_structured_output(QuizQuestion)\n",
        "\n",
        "# LCEL 체인 구성\n",
        "chain = quiz_prompt | structured_llm\n",
        "\n",
        "# 질문 실행\n",
        "output = chain.invoke({\"topic\": \"인공지능\", \"difficulty\": \"상\"})\n",
        "\n",
        "# 결과 출력\n",
        "pprint(f\"퀴즈 문제: {output.question}\")\n",
        "pprint(f\"보기: {output.options}\")\n",
        "pprint(f\"정답: {output.correct_answer}\")\n",
        "pprint(f\"정답 설명: {output.explanation}\")"
      ]
    },
    {
      "cell_type": "markdown",
      "metadata": {},
      "source": [
        "`(2) 개념 설명 체인 (문제)`"
      ]
    },
    {
      "cell_type": "code",
      "execution_count": 51,
      "metadata": {},
      "outputs": [
        {
          "name": "stdout",
          "output_type": "stream",
          "text": [
            "'주제: 인공지능'\n",
            "('설명: 인공지능은 컴퓨터가 사람처럼 생각하고 배우며 문제를 해결할 수 있도록 만드는 기술입니다. 즉, 컴퓨터가 스스로 학습하고 판단할 수 '\n",
            " '있게 하는 것입니다. 인공지능은 우리가 일상생활에서 사용하는 여러 가지 기계와 프로그램에 적용되어 편리함을 줍니다.')\n",
            "(\"예시: ['스마트폰 음성인식 비서(예: 시리, 빅스비)', '자동으로 움직이는 자율주행 자동차', '인터넷에서 내가 좋아할 만한 영상을 \"\n",
            " \"추천해 주는 서비스', '사진에서 사람 얼굴을 인식하는 기능']\")\n",
            "\"관련 개념: ['기계학습', '딥러닝', '빅데이터', '로봇공학']\"\n"
          ]
        }
      ],
      "source": [
        "from langchain_core.prompts import PromptTemplate\n",
        "from langchain_core.output_parsers import JsonOutputParser\n",
        "from langchain_openai import ChatOpenAI\n",
        "from pydantic import BaseModel, Field\n",
        "from typing import List\n",
        "from pprint import pprint\n",
        "\n",
        "# LLM 설정 (기존과 동일)\n",
        "llm = ChatOpenAI(\n",
        "    model='gpt-4.1-mini',\n",
        "    temperature=0.3,\n",
        "    top_p=0.9,\n",
        ")\n",
        "\n",
        "# 개념 설명을 위한 스키마 (필드 타입 수정)\n",
        "class ConceptExplanation(BaseModel):\n",
        "    \"\"\"개념 설명 스키마\"\"\"\n",
        "    topic: str = Field(..., description=\"주제 이름\")\n",
        "    explanation: str = Field(..., description=\"주제에 대한 자세한 설명\")\n",
        "    examples: List[str] = Field(..., description=\"실제 적용 예시들\")\n",
        "    related_concepts: List[str] = Field(..., description=\"관련된 다른 개념들\")\n",
        "\n",
        "# JsonOutputParser 설정 (Pydantic 모델 지정)\n",
        "parser = JsonOutputParser(pydantic_object=ConceptExplanation)\n",
        "\n",
        "# 개념 설명을 위한 지시형 프롬프트 (템플릿 문자열 추가)\n",
        "concept_prompt = PromptTemplate(\n",
        "    template=\"\"\"다음 주제에 대해 {difficulty} 수준으로 설명해주세요:\n",
        "\n",
        "주제: {topic}\n",
        "\n",
        "{format_instructions}\n",
        "\"\"\",\n",
        "    input_variables=[\"topic\", \"difficulty\"],\n",
        "    partial_variables={\"format_instructions\": parser.get_format_instructions()},\n",
        ")\n",
        "\n",
        "# 구조화된 출력 파서 설정 (JsonOutputParser 사용)\n",
        "structured_llm = None  # 사용하지 않음\n",
        "\n",
        "# LCEL 체인 구성 (JsonOutputParser 사용)\n",
        "chain = concept_prompt | llm | parser\n",
        "\n",
        "# 질문 실행\n",
        "output = chain.invoke({\"topic\": \"인공지능\", \"difficulty\": \"하\"})\n",
        "\n",
        "# 결과 출력 (딕셔너리 키로 접근)\n",
        "pprint(f\"주제: {output['topic']}\")\n",
        "pprint(f\"설명: {output['explanation']}\")\n",
        "pprint(f\"예시: {output['examples']}\")\n",
        "pprint(f\"관련 개념: {output['related_concepts']}\")"
      ]
    }
  ],
  "metadata": {
    "kernelspec": {
      "display_name": "modu",
      "language": "python",
      "name": "python3"
    },
    "language_info": {
      "codemirror_mode": {
        "name": "ipython",
        "version": 3
      },
      "file_extension": ".py",
      "mimetype": "text/x-python",
      "name": "python",
      "nbconvert_exporter": "python",
      "pygments_lexer": "ipython3",
      "version": "3.12.11"
    }
  },
  "nbformat": 4,
  "nbformat_minor": 2
}
