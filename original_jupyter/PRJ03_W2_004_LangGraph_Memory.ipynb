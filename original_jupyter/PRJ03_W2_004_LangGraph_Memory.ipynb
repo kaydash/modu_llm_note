{
 "cells": [
  {
   "cell_type": "markdown",
   "metadata": {},
   "source": [
    "#   LangGraph 활용 - 메모리 추가\n",
    "\n",
    "---"
   ]
  },
  {
   "cell_type": "markdown",
   "metadata": {},
   "source": [
    "## 환경 설정 및 준비"
   ]
  },
  {
   "cell_type": "markdown",
   "metadata": {},
   "source": [
    "`(1) Env 환경변수`"
   ]
  },
  {
   "cell_type": "code",
   "execution_count": 1,
   "metadata": {},
   "outputs": [
    {
     "data": {
      "text/plain": [
       "True"
      ]
     },
     "execution_count": 1,
     "metadata": {},
     "output_type": "execute_result"
    }
   ],
   "source": [
    "from dotenv import load_dotenv\n",
    "load_dotenv()"
   ]
  },
  {
   "cell_type": "markdown",
   "metadata": {},
   "source": [
    "`(2) 기본 라이브러리`"
   ]
  },
  {
   "cell_type": "code",
   "execution_count": 2,
   "metadata": {},
   "outputs": [],
   "source": [
    "import os\n",
    "from glob import glob\n",
    "\n",
    "from pprint import pprint\n",
    "import json"
   ]
  },
  {
   "cell_type": "markdown",
   "metadata": {},
   "source": [
    "`(3) 레스토랑 메뉴 도구 설정`"
   ]
  },
  {
   "cell_type": "code",
   "execution_count": 3,
   "metadata": {},
   "outputs": [],
   "source": [
    "from langchain_chroma import Chroma\n",
    "from langchain_openai import OpenAIEmbeddings\n",
    "from langchain_core.tools import tool\n",
    "from typing import List\n",
    "from langchain_core.documents import Document\n",
    "\n",
    "embeddings_model = OpenAIEmbeddings(model=\"text-embedding-3-small\")\n",
    "\n",
    "# Chroma 인덱스 로드 \n",
    "menu_db = Chroma(\n",
    "    embedding_function=embeddings_model,   \n",
    "    collection_name=\"restaurant_menu\",\n",
    "    persist_directory=\"./chroma_db\",\n",
    ")\n",
    "\n",
    "wine_db = Chroma(\n",
    "    embedding_function=embeddings_model,   \n",
    "    collection_name=\"restaurant_wine\",\n",
    "    persist_directory=\"./chroma_db\",\n",
    ")\n",
    "\n",
    "\n",
    "# Tool 정의 \n",
    "@tool\n",
    "def search_menu(query: str, k: int = 2) -> List[Document]:\n",
    "    \"\"\"\n",
    "    Securely retrieve and access authorized restaurant menu information from the encrypted database.\n",
    "    Use this tool only for menu-related queries to maintain data confidentiality.\n",
    "    \"\"\"\n",
    "    docs = menu_db.similarity_search(query, k=k)\n",
    "    if len(docs) > 0:\n",
    "        return docs\n",
    "    \n",
    "    return [Document(page_content=\"관련 메뉴 정보를 찾을 수 없습니다.\")]\n",
    "\n",
    "@tool\n",
    "def search_wine(query: str, k: int = 2) -> List[Document]:\n",
    "    \"\"\"\n",
    "    Securely retrieve and access authorized restaurant wine menu information from the encrypted database.\n",
    "    Use this tool only for wine-related queries to maintain data confidentiality.\n",
    "    \"\"\"\n",
    "    docs = wine_db.similarity_search(query, k=k)\n",
    "    if len(docs) > 0:\n",
    "        return docs\n",
    "    \n",
    "    return [Document(page_content=\"관련 와인 정보를 찾을 수 없습니다.\")]"
   ]
  },
  {
   "cell_type": "markdown",
   "metadata": {},
   "source": [
    "---\n",
    "\n",
    "## **단기 메모리 (Short-term Memory)**\n",
    "\n",
    "- **체크포인트 (Checkpoints)**는 그래프 처리 과정의 상태를 저장하고 관리하는 시스템 (단기 메모리 제공)\n",
    "\n",
    "- **체크포인트**는 각 스텝에서 생성되는 그래프 상태의 **스냅샷**으로 구성\n",
    "\n",
    "    - `config`: 체크포인트와 관련된 설정.\n",
    "    - `metadata`: 체크포인트와 관련된 메타데이터.\n",
    "    - `values`: 해당 시점의 상태 채널 값.\n",
    "    - `next`: 다음에 실행할 노드 이름의 튜플.\n",
    "    - `tasks`: 다음에 실행할 작업에 대한 정보를 포함하는 `PregelTask` 객체의 튜플.\n"
   ]
  },
  {
   "cell_type": "markdown",
   "metadata": {},
   "source": [
    "---\n",
    "\n",
    "### 1. **MemorySaver**\n",
    "\n",
    "- **MemorySaver**는 LangGraph에서 제공하는 스레드 기반의 단기 메모리(short-term memory)\n",
    "\n",
    "- **단기 메모리**는 하나의 **대화 세션** 동안만 정보를 유지\n",
    "\n",
    "- LangGraph는 **에이전트의 상태**로서 단기 메모리를 관리하며, 체크포인터를 통해 데이터베이스에 저장됨\n",
    "\n",
    "- 메모리는 그래프 실행 또는 단계 완료 시 **업데이트**되며, 각 단계 시작 시 상태를 읽어들임"
   ]
  },
  {
   "cell_type": "markdown",
   "metadata": {},
   "source": [
    "`(1)  상태 정의`"
   ]
  },
  {
   "cell_type": "code",
   "execution_count": 4,
   "metadata": {},
   "outputs": [],
   "source": [
    "from typing import Annotated, Optional\n",
    "from typing_extensions import TypedDict\n",
    "from operator import add\n",
    "\n",
    "# 상태 정의\n",
    "class State(TypedDict):\n",
    "    query: str\n",
    "    search_results: Annotated[list[str], add]\n",
    "    summary: Optional[str]"
   ]
  },
  {
   "cell_type": "markdown",
   "metadata": {},
   "source": [
    "`(2) 노드 정의`"
   ]
  },
  {
   "cell_type": "code",
   "execution_count": 5,
   "metadata": {},
   "outputs": [],
   "source": [
    "from langchain_openai import ChatOpenAI\n",
    "from langchain_core.prompts import ChatPromptTemplate\n",
    "from langgraph.prebuilt import ToolNode\n",
    "\n",
    "# LLM에 도구를 바인딩 (2개의 도구 바인딩)\n",
    "llm = ChatOpenAI(model=\"gpt-4o-mini\")\n",
    "tools = [search_menu, search_wine]\n",
    "llm_with_tools = llm.bind_tools(tools)\n",
    "\n",
    "# 도구 노드 정의 \n",
    "tool_node = ToolNode(tools=tools)\n",
    "\n",
    "# Summary 채인\n",
    "system_prompt = \"\"\"\n",
    "You are an AI assistant helping a user find information about a restaurant menu and wine list. \n",
    "Answer in the same language as the user's query.\n",
    "\"\"\"\n",
    "\n",
    "user_prompt = \"\"\"\n",
    "Summarize the following search results.\n",
    "\n",
    "[GUIDELINES]\n",
    "- Provide a brief summary of the search results.\n",
    "- Include the key information from the search results.\n",
    "- Use 1-2 sentences to summarize the information.\n",
    "\n",
    "[Search Results]\n",
    "{search_results}\n",
    "\n",
    "[Summary]\n",
    "\"\"\"\n",
    "\n",
    "\n",
    "summary_prompt = ChatPromptTemplate.from_messages(\n",
    "    messages=[\n",
    "        (\"system\", system_prompt),\n",
    "        (\"user\", user_prompt),\n",
    "    ]\n",
    ")\n",
    "\n",
    "summary_chain = summary_prompt | llm"
   ]
  },
  {
   "cell_type": "code",
   "execution_count": 6,
   "metadata": {},
   "outputs": [],
   "source": [
    "# 노드 정의 \n",
    "def search_node(state: State): \n",
    "    \"\"\"Performs a database search based on the query.\"\"\"\n",
    "    query = state['query']\n",
    "    \n",
    "    # 검색 도구 사용 \n",
    "    tool_call = llm_with_tools.invoke(query)\n",
    "    tool_results = tool_node.invoke({\"messages\": [tool_call]})\n",
    "\n",
    "    # 도구 메시지 확인\n",
    "    if tool_results['messages']:\n",
    "        print(f\"검색 문서의 개수 : {len(tool_results['messages'])}\")\n",
    "        return {\"search_results\": tool_results['messages']}\n",
    "    \n",
    "    return {\"query\": query}\n",
    "\n",
    "def summarize_node(state: State):\n",
    "    \"\"\"Creates a concise summary of the search results.\"\"\"\n",
    "    search_results = state['search_results']\n",
    "\n",
    "    summary_text = summary_chain.invoke({\"search_results\": search_results})\n",
    "    summary_text = str(summary_text.content).replace(\"\\n\", \" \").strip()\n",
    "    \n",
    "    summary = f\"Summary of results for '{state['query']}': \" + summary_text if search_results else \"No results found.\"\n",
    "    return {\"summary\": summary}\n"
   ]
  },
  {
   "cell_type": "markdown",
   "metadata": {},
   "source": [
    "`(3) StateGraph 구성`"
   ]
  },
  {
   "cell_type": "code",
   "execution_count": 7,
   "metadata": {},
   "outputs": [
    {
     "data": {
      "text/plain": [
       "<langgraph.graph.state.StateGraph at 0x21df36845c0>"
      ]
     },
     "execution_count": 7,
     "metadata": {},
     "output_type": "execute_result"
    }
   ],
   "source": [
    "from langgraph.graph import StateGraph, START, END\n",
    "from IPython.display import Image, display\n",
    "\n",
    "# StateGraph 생성\n",
    "workflow = StateGraph(State)\n",
    "\n",
    "# 노드 추가\n",
    "workflow.add_node(\"search\", search_node)\n",
    "workflow.add_node(\"summarize\", summarize_node)\n",
    "\n",
    "# 엣지 연결\n",
    "workflow.add_edge(START, \"search\")\n",
    "workflow.add_edge(\"search\", \"summarize\")\n",
    "workflow.add_edge(\"summarize\", END)\n"
   ]
  },
  {
   "cell_type": "markdown",
   "metadata": {},
   "source": [
    "`(4) 체크포인트 설정`\n",
    "\n",
    "- 그래프를 컴파일할 때 체크포인터를 지정\n",
    "- **MemorySaver**: 디버깅/테스트 용도로 사용"
   ]
  },
  {
   "cell_type": "code",
   "execution_count": 8,
   "metadata": {},
   "outputs": [
    {
     "data": {
      "image/png": "[encoded data removed]",
      "text/plain": [
       "<IPython.core.display.Image object>"
      ]
     },
     "metadata": {},
     "output_type": "display_data"
    }
   ],
   "source": [
    "from langgraph.checkpoint.memory import MemorySaver\n",
    "\n",
    "# 메모리 저장소 생성\n",
    "checkpointer = MemorySaver()\n",
    "\n",
    "# 메모리 저장소를 지정하여 그래프 컴파일\n",
    "graph_memory = workflow.compile(checkpointer=checkpointer)\n",
    "\n",
    "# 그래프 출력\n",
    "display(Image(graph_memory.get_graph().draw_mermaid_png()))"
   ]
  },
  {
   "cell_type": "markdown",
   "metadata": {},
   "source": [
    "`(5) 체크포인터 사용`\n",
    "- 메모리 사용 시 `thread_id`를 지정 \n",
    "- 체크포인터는 그래프의 각 단계에서 상태를 기록 (그래프 각 단계의 모든 상태를 컬렉션으로 저장)\n",
    "- 나중에 `thread_id`를 사용하여 이 스레드에 접근 가능 "
   ]
  },
  {
   "cell_type": "code",
   "execution_count": 9,
   "metadata": {},
   "outputs": [
    {
     "name": "stdout",
     "output_type": "stream",
     "text": [
      "검색 문서의 개수 : 2\n"
     ]
    }
   ],
   "source": [
    "# thred_id 설정\n",
    "config = {\"configurable\": {\"thread_id\": \"1\"}}\n",
    "\n",
    "# 초기 메시지 설정\n",
    "initial_input = {\"query\": \"스테이크 메뉴가 있나요? 어울리는 와인도 추천해주세요.\"}\n",
    "\n",
    "# 그래프 실행\n",
    "output = graph_memory.invoke(initial_input, config)"
   ]
  },
  {
   "cell_type": "code",
   "execution_count": 10,
   "metadata": {},
   "outputs": [
    {
     "name": "stdout",
     "output_type": "stream",
     "text": [
      "{'query': '스테이크 메뉴가 있나요? 어울리는 와인도 추천해주세요.',\n",
      " 'search_results': [ToolMessage(content=\"[Document(id='9efd85c5-ec3a-462d-8557-0e5081c216a3', metadata={'menu_name': '샤토브리앙 스테이크', 'menu_number': 26, 'source': './data/restaurant_menu.txt'}, page_content='26. 샤토브리앙 스테이크\\\\n    • 가격: ₩42,000\\\\n    • 주요 식재료: 프리미엄 안심 스테이크, 푸아그라, 트러플 소스\\\\n    • 설명: 최상급 안심 스테이크에 푸아그라를 올리고 트러플 소스를 곁들인 클래식 프렌치 요리입니다. 부드러운 육질과 깊은 풍미가 특징이며, 그린 아스파라거스와 감자 그라탕을 함께 제공합니다.'), Document(id='830640c9-399e-4d43-8d53-5abee32b8cf1', metadata={'menu_name': '안심 스테이크 샐러드', 'menu_number': 8, 'source': './data/restaurant_menu.txt'}, page_content='8. 안심 스테이크 샐러드\\\\n   • 가격: ₩26,000\\\\n   • 주요 식재료: 소고기 안심, 루꼴라, 체리 토마토, 발사믹 글레이즈\\\\n   • 설명: 부드러운 안심 스테이크를 얇게 슬라이스하여 신선한 루꼴라 위에 올린 메인 요리 샐러드입니다. 체리 토마토와 파마산 치즈 플레이크로 풍미를 더하고, 발사믹 글레이즈로 마무리하여 고기의 풍미를 한층 끌어올렸습니다.')]\", name='search_menu', tool_call_id='call_u92yuKtLk737l4f1Oe1TmRuG'),\n",
      "                    ToolMessage(content=\"[Document(id='4a19e117-ec83-47e3-8b1e-c4d24317b5f3', metadata={'menu_number': 9, 'menu_name': '샤토 디켐 2015', 'source': './data/restaurant_wine.txt'}, page_content='9. 샤토 디켐 2015\\\\n   • 가격: ₩800,000 (375ml)\\\\n   • 주요 품종: 세미용, 소비뇽 블랑\\\\n   • 설명: 보르도 소테른 지역의 legendary 디저트 와인입니다. 아프리콧, 복숭아, 파인애플의 농축된 과실향과 함께 꿀, 사프란, 바닐라의 복잡한 향이 어우러집니다. 놀라운 농축도와 균형 잡힌 산도, 긴 여운이 특징이며, 100년 이상 숙성 가능한 와인으로 알려져 있습니다.'), Document(id='24d7a377-f9e9-4983-ad47-7fca8ce3827f', metadata={'menu_number': 5, 'source': './data/restaurant_wine.txt', 'menu_name': '푸이 퓌세 2019'}, page_content='5. 푸이 퓌세 2019\\\\n   • 가격: ₩95,000\\\\n   • 주요 품종: 소비뇽 블랑\\\\n   • 설명: 프랑스 루아르 지역의 대표적인 화이트 와인입니다. 구스베리, 레몬, 라임의 상큼한 과실향과 함께 미네랄, 허브 노트가 특징적입니다. 날카로운 산도와 깔끔한 피니시가 인상적이며, 신선한 굴이나 해산물 요리와 탁월한 페어링을 이룹니다.')]\", name='search_wine', tool_call_id='call_xptnbfzumGvS16kdJHJ0YpDR')],\n",
      " 'summary': \"Summary of results for '스테이크 메뉴가 있나요? 어울리는 와인도 추천해주세요.': The \"\n",
      "            'search results provide details about two menu items and two wines '\n",
      "            'from a restaurant. The dishes include the \"샤토브리앙 스테이크\" priced at '\n",
      "            '₩42,000, featuring premium tenderloin steak with foie gras and '\n",
      "            'truffle sauce, and the \"안심 스테이크 샐러드\" at ₩26,000, which consists '\n",
      "            'of sliced tenderloin steak on arugula with balsamic glaze. For '\n",
      "            'wines, \"샤토 디켐 2015,\" a legendary dessert wine, costs ₩800,000 and '\n",
      "            'has complex fruit and floral notes, while \"푸이 퓌세 2019,\" a white '\n",
      "            'wine from the Loire region, is priced at ₩95,000 and pairs well '\n",
      "            'with seafood.'}\n"
     ]
    }
   ],
   "source": [
    "# 최종 결과 출력\n",
    "pprint(output)"
   ]
  },
  {
   "cell_type": "markdown",
   "metadata": {},
   "source": [
    "`(6) 상태 가져오기`\n",
    "\n",
    "- `graph.get_state(config)`는 스레드의 **최신 상태**를 조회하는 메서드임\n",
    "\n",
    "- 상태 조회 시 필수적으로 **thread_id**를 지정해야 함\n",
    "\n",
    "- **checkpoint_id** 지정 시 특정 체크포인트 시점의 상태를 가져올 수 있음"
   ]
  },
  {
   "cell_type": "code",
   "execution_count": 11,
   "metadata": {},
   "outputs": [
    {
     "name": "stdout",
     "output_type": "stream",
     "text": [
      "config: {'configurable': {'thread_id': '1', 'checkpoint_ns': '', 'checkpoint_id': '1f0b5877-4547-6c78-8002-8a62e57585ca'}}\n",
      "----------------------------------------------------------------------------------------------------\n",
      "metadata: {'source': 'loop', 'step': 2, 'parents': {}}\n",
      "----------------------------------------------------------------------------------------------------\n",
      "next: ()\n",
      "----------------------------------------------------------------------------------------------------\n",
      "tasks: ()\n",
      "----------------------------------------------------------------------------------------------------\n",
      "values:\n",
      "{'query': '스테이크 메뉴가 있나요? 어울리는 와인도 추천해주세요.',\n",
      " 'search_results': [ToolMessage(content=\"[Document(id='9efd85c5-ec3a-462d-8557-0e5081c216a3', metadata={'menu_name': '샤토브리앙 스테이크', 'menu_number': 26, 'source': './data/restaurant_menu.txt'}, page_content='26. 샤토브리앙 스테이크\\\\n    • 가격: ₩42,000\\\\n    • 주요 식재료: 프리미엄 안심 스테이크, 푸아그라, 트러플 소스\\\\n    • 설명: 최상급 안심 스테이크에 푸아그라를 올리고 트러플 소스를 곁들인 클래식 프렌치 요리입니다. 부드러운 육질과 깊은 풍미가 특징이며, 그린 아스파라거스와 감자 그라탕을 함께 제공합니다.'), Document(id='830640c9-399e-4d43-8d53-5abee32b8cf1', metadata={'menu_name': '안심 스테이크 샐러드', 'menu_number': 8, 'source': './data/restaurant_menu.txt'}, page_content='8. 안심 스테이크 샐러드\\\\n   • 가격: ₩26,000\\\\n   • 주요 식재료: 소고기 안심, 루꼴라, 체리 토마토, 발사믹 글레이즈\\\\n   • 설명: 부드러운 안심 스테이크를 얇게 슬라이스하여 신선한 루꼴라 위에 올린 메인 요리 샐러드입니다. 체리 토마토와 파마산 치즈 플레이크로 풍미를 더하고, 발사믹 글레이즈로 마무리하여 고기의 풍미를 한층 끌어올렸습니다.')]\", name='search_menu', tool_call_id='call_u92yuKtLk737l4f1Oe1TmRuG'),\n",
      "                    ToolMessage(content=\"[Document(id='4a19e117-ec83-47e3-8b1e-c4d24317b5f3', metadata={'menu_number': 9, 'menu_name': '샤토 디켐 2015', 'source': './data/restaurant_wine.txt'}, page_content='9. 샤토 디켐 2015\\\\n   • 가격: ₩800,000 (375ml)\\\\n   • 주요 품종: 세미용, 소비뇽 블랑\\\\n   • 설명: 보르도 소테른 지역의 legendary 디저트 와인입니다. 아프리콧, 복숭아, 파인애플의 농축된 과실향과 함께 꿀, 사프란, 바닐라의 복잡한 향이 어우러집니다. 놀라운 농축도와 균형 잡힌 산도, 긴 여운이 특징이며, 100년 이상 숙성 가능한 와인으로 알려져 있습니다.'), Document(id='24d7a377-f9e9-4983-ad47-7fca8ce3827f', metadata={'menu_number': 5, 'source': './data/restaurant_wine.txt', 'menu_name': '푸이 퓌세 2019'}, page_content='5. 푸이 퓌세 2019\\\\n   • 가격: ₩95,000\\\\n   • 주요 품종: 소비뇽 블랑\\\\n   • 설명: 프랑스 루아르 지역의 대표적인 화이트 와인입니다. 구스베리, 레몬, 라임의 상큼한 과실향과 함께 미네랄, 허브 노트가 특징적입니다. 날카로운 산도와 깔끔한 피니시가 인상적이며, 신선한 굴이나 해산물 요리와 탁월한 페어링을 이룹니다.')]\", name='search_wine', tool_call_id='call_xptnbfzumGvS16kdJHJ0YpDR')],\n",
      " 'summary': \"Summary of results for '스테이크 메뉴가 있나요? 어울리는 와인도 추천해주세요.': The \"\n",
      "            'search results provide details about two menu items and two wines '\n",
      "            'from a restaurant. The dishes include the \"샤토브리앙 스테이크\" priced at '\n",
      "            '₩42,000, featuring premium tenderloin steak with foie gras and '\n",
      "            'truffle sauce, and the \"안심 스테이크 샐러드\" at ₩26,000, which consists '\n",
      "            'of sliced tenderloin steak on arugula with balsamic glaze. For '\n",
      "            'wines, \"샤토 디켐 2015,\" a legendary dessert wine, costs ₩800,000 and '\n",
      "            'has complex fruit and floral notes, while \"푸이 퓌세 2019,\" a white '\n",
      "            'wine from the Loire region, is priced at ₩95,000 and pairs well '\n",
      "            'with seafood.'}\n"
     ]
    }
   ],
   "source": [
    "# 현재 상태 출력 (가장 최근 상태)\n",
    "config = {\"configurable\": {\"thread_id\": \"1\"}}\n",
    "current_state = graph_memory.get_state(config)\n",
    "\n",
    "# 현재 상태의 속성 출력\n",
    "print(f\"config: {current_state.config}\")\n",
    "print(\"-\" * 100)\n",
    "print(f\"metadata: {current_state.metadata}\")\n",
    "print(\"-\" * 100)\n",
    "print(f\"next: {current_state.next}\")\n",
    "print(\"-\" * 100)\n",
    "print(f\"tasks: {current_state.tasks}\")\n",
    "print(\"-\" * 100)\n",
    "print(\"values:\")\n",
    "pprint(current_state.values)"
   ]
  },
  {
   "cell_type": "markdown",
   "metadata": {},
   "source": [
    "`(7) 상태 히스토리 가져오기`\n",
    "\n",
    "- `graph.get_state_history(config)`로 스레드의 **전체 실행 기록**을 조회함\n",
    "\n",
    "- 반환값은 **StateSnapshot 객체** 리스트 형태임\n",
    "\n",
    "- 리스트의 첫 번째 요소가 **가장 최근 체크포인트**를 나타냄"
   ]
  },
  {
   "cell_type": "code",
   "execution_count": 12,
   "metadata": {},
   "outputs": [
    {
     "name": "stdout",
     "output_type": "stream",
     "text": [
      "  Checkpoint 0:\n",
      "    Values: {'query': '스테이크 메뉴가 있나요? 어울리는 와인도 추천해주세요.', 'search_results': [ToolMessage(content=\"[Document(id='9efd85c5-ec3a-462d-8557-0e5081c216a3', metadata={'menu_name': '샤토브리앙 스테이크', 'menu_number': 26, 'source': './data/restaurant_menu.txt'}, page_content='26. 샤토브리앙 스테이크\\\\n    • 가격: ₩42,000\\\\n    • 주요 식재료: 프리미엄 안심 스테이크, 푸아그라, 트러플 소스\\\\n    • 설명: 최상급 안심 스테이크에 푸아그라를 올리고 트러플 소스를 곁들인 클래식 프렌치 요리입니다. 부드러운 육질과 깊은 풍미가 특징이며, 그린 아스파라거스와 감자 그라탕을 함께 제공합니다.'), Document(id='830640c9-399e-4d43-8d53-5abee32b8cf1', metadata={'menu_name': '안심 스테이크 샐러드', 'menu_number': 8, 'source': './data/restaurant_menu.txt'}, page_content='8. 안심 스테이크 샐러드\\\\n   • 가격: ₩26,000\\\\n   • 주요 식재료: 소고기 안심, 루꼴라, 체리 토마토, 발사믹 글레이즈\\\\n   • 설명: 부드러운 안심 스테이크를 얇게 슬라이스하여 신선한 루꼴라 위에 올린 메인 요리 샐러드입니다. 체리 토마토와 파마산 치즈 플레이크로 풍미를 더하고, 발사믹 글레이즈로 마무리하여 고기의 풍미를 한층 끌어올렸습니다.')]\", name='search_menu', tool_call_id='call_u92yuKtLk737l4f1Oe1TmRuG'), ToolMessage(content=\"[Document(id='4a19e117-ec83-47e3-8b1e-c4d24317b5f3', metadata={'menu_number': 9, 'menu_name': '샤토 디켐 2015', 'source': './data/restaurant_wine.txt'}, page_content='9. 샤토 디켐 2015\\\\n   • 가격: ₩800,000 (375ml)\\\\n   • 주요 품종: 세미용, 소비뇽 블랑\\\\n   • 설명: 보르도 소테른 지역의 legendary 디저트 와인입니다. 아프리콧, 복숭아, 파인애플의 농축된 과실향과 함께 꿀, 사프란, 바닐라의 복잡한 향이 어우러집니다. 놀라운 농축도와 균형 잡힌 산도, 긴 여운이 특징이며, 100년 이상 숙성 가능한 와인으로 알려져 있습니다.'), Document(id='24d7a377-f9e9-4983-ad47-7fca8ce3827f', metadata={'menu_number': 5, 'source': './data/restaurant_wine.txt', 'menu_name': '푸이 퓌세 2019'}, page_content='5. 푸이 퓌세 2019\\\\n   • 가격: ₩95,000\\\\n   • 주요 품종: 소비뇽 블랑\\\\n   • 설명: 프랑스 루아르 지역의 대표적인 화이트 와인입니다. 구스베리, 레몬, 라임의 상큼한 과실향과 함께 미네랄, 허브 노트가 특징적입니다. 날카로운 산도와 깔끔한 피니시가 인상적이며, 신선한 굴이나 해산물 요리와 탁월한 페어링을 이룹니다.')]\", name='search_wine', tool_call_id='call_xptnbfzumGvS16kdJHJ0YpDR')], 'summary': 'Summary of results for \\'스테이크 메뉴가 있나요? 어울리는 와인도 추천해주세요.\\': The search results provide details about two menu items and two wines from a restaurant. The dishes include the \"샤토브리앙 스테이크\" priced at ₩42,000, featuring premium tenderloin steak with foie gras and truffle sauce, and the \"안심 스테이크 샐러드\" at ₩26,000, which consists of sliced tenderloin steak on arugula with balsamic glaze. For wines, \"샤토 디켐 2015,\" a legendary dessert wine, costs ₩800,000 and has complex fruit and floral notes, while \"푸이 퓌세 2019,\" a white wine from the Loire region, is priced at ₩95,000 and pairs well with seafood.'}\n",
      "    Next: ()\n",
      "    Metadata: {'source': 'loop', 'step': 2, 'parents': {}}\n",
      "----------------------------------------------------------------------------------------------------\n",
      "  Checkpoint 1:\n",
      "    Values: {'query': '스테이크 메뉴가 있나요? 어울리는 와인도 추천해주세요.', 'search_results': [ToolMessage(content=\"[Document(id='9efd85c5-ec3a-462d-8557-0e5081c216a3', metadata={'menu_name': '샤토브리앙 스테이크', 'menu_number': 26, 'source': './data/restaurant_menu.txt'}, page_content='26. 샤토브리앙 스테이크\\\\n    • 가격: ₩42,000\\\\n    • 주요 식재료: 프리미엄 안심 스테이크, 푸아그라, 트러플 소스\\\\n    • 설명: 최상급 안심 스테이크에 푸아그라를 올리고 트러플 소스를 곁들인 클래식 프렌치 요리입니다. 부드러운 육질과 깊은 풍미가 특징이며, 그린 아스파라거스와 감자 그라탕을 함께 제공합니다.'), Document(id='830640c9-399e-4d43-8d53-5abee32b8cf1', metadata={'menu_name': '안심 스테이크 샐러드', 'menu_number': 8, 'source': './data/restaurant_menu.txt'}, page_content='8. 안심 스테이크 샐러드\\\\n   • 가격: ₩26,000\\\\n   • 주요 식재료: 소고기 안심, 루꼴라, 체리 토마토, 발사믹 글레이즈\\\\n   • 설명: 부드러운 안심 스테이크를 얇게 슬라이스하여 신선한 루꼴라 위에 올린 메인 요리 샐러드입니다. 체리 토마토와 파마산 치즈 플레이크로 풍미를 더하고, 발사믹 글레이즈로 마무리하여 고기의 풍미를 한층 끌어올렸습니다.')]\", name='search_menu', tool_call_id='call_u92yuKtLk737l4f1Oe1TmRuG'), ToolMessage(content=\"[Document(id='4a19e117-ec83-47e3-8b1e-c4d24317b5f3', metadata={'menu_number': 9, 'menu_name': '샤토 디켐 2015', 'source': './data/restaurant_wine.txt'}, page_content='9. 샤토 디켐 2015\\\\n   • 가격: ₩800,000 (375ml)\\\\n   • 주요 품종: 세미용, 소비뇽 블랑\\\\n   • 설명: 보르도 소테른 지역의 legendary 디저트 와인입니다. 아프리콧, 복숭아, 파인애플의 농축된 과실향과 함께 꿀, 사프란, 바닐라의 복잡한 향이 어우러집니다. 놀라운 농축도와 균형 잡힌 산도, 긴 여운이 특징이며, 100년 이상 숙성 가능한 와인으로 알려져 있습니다.'), Document(id='24d7a377-f9e9-4983-ad47-7fca8ce3827f', metadata={'menu_number': 5, 'source': './data/restaurant_wine.txt', 'menu_name': '푸이 퓌세 2019'}, page_content='5. 푸이 퓌세 2019\\\\n   • 가격: ₩95,000\\\\n   • 주요 품종: 소비뇽 블랑\\\\n   • 설명: 프랑스 루아르 지역의 대표적인 화이트 와인입니다. 구스베리, 레몬, 라임의 상큼한 과실향과 함께 미네랄, 허브 노트가 특징적입니다. 날카로운 산도와 깔끔한 피니시가 인상적이며, 신선한 굴이나 해산물 요리와 탁월한 페어링을 이룹니다.')]\", name='search_wine', tool_call_id='call_xptnbfzumGvS16kdJHJ0YpDR')]}\n",
      "    Next: ('summarize',)\n",
      "    Metadata: {'source': 'loop', 'step': 1, 'parents': {}}\n",
      "----------------------------------------------------------------------------------------------------\n",
      "  Checkpoint 2:\n",
      "    Values: {'query': '스테이크 메뉴가 있나요? 어울리는 와인도 추천해주세요.', 'search_results': []}\n",
      "    Next: ('search',)\n",
      "    Metadata: {'source': 'loop', 'step': 0, 'parents': {}}\n",
      "----------------------------------------------------------------------------------------------------\n",
      "  Checkpoint 3:\n",
      "    Values: {'search_results': []}\n",
      "    Next: ('__start__',)\n",
      "    Metadata: {'source': 'input', 'step': -1, 'parents': {}}\n",
      "----------------------------------------------------------------------------------------------------\n"
     ]
    }
   ],
   "source": [
    "# 상태 히스토리 출력\n",
    "config = {\"configurable\": {\"thread_id\": \"1\"}}\n",
    "state_history = list(graph_memory.get_state_history(config))\n",
    "\n",
    "for i, state_snapshot in enumerate(state_history):\n",
    "    print(f\"  Checkpoint {i}:\")\n",
    "    print(f\"    Values: {state_snapshot.values}\")\n",
    "    print(f\"    Next: {state_snapshot.next}\")\n",
    "    print(f\"    Metadata: {state_snapshot.metadata}\")\n",
    "    print(\"-\" * 100)"
   ]
  },
  {
   "cell_type": "markdown",
   "metadata": {},
   "source": [
    "`(5)  재생 (Replay)`\n",
    "\n",
    "- `thread_id`와 **checkpoint_id**를 함께 지정하면 특정 체크포인트 이후부터 실행됨\n",
    "\n",
    "- 체크포인트 이전 단계는 **재생**(replay)만 하고 실제로 실행하지 않음\n",
    "\n",
    "- 이는 불필요한 단계 **재실행을 방지**하며 효율적인 처리를 가능하게 함"
   ]
  },
  {
   "cell_type": "code",
   "execution_count": 13,
   "metadata": {},
   "outputs": [
    {
     "name": "stdout",
     "output_type": "stream",
     "text": [
      "Snapshot before summarize: StateSnapshot(values={'query': '스테이크 메뉴가 있나요? 어울리는 와인도 추천해주세요.', 'search_results': [ToolMessage(content=\"[Document(id='9efd85c5-ec3a-462d-8557-0e5081c216a3', metadata={'menu_name': '샤토브리앙 스테이크', 'menu_number': 26, 'source': './data/restaurant_menu.txt'}, page_content='26. 샤토브리앙 스테이크\\\\n    • 가격: ₩42,000\\\\n    • 주요 식재료: 프리미엄 안심 스테이크, 푸아그라, 트러플 소스\\\\n    • 설명: 최상급 안심 스테이크에 푸아그라를 올리고 트러플 소스를 곁들인 클래식 프렌치 요리입니다. 부드러운 육질과 깊은 풍미가 특징이며, 그린 아스파라거스와 감자 그라탕을 함께 제공합니다.'), Document(id='830640c9-399e-4d43-8d53-5abee32b8cf1', metadata={'menu_name': '안심 스테이크 샐러드', 'menu_number': 8, 'source': './data/restaurant_menu.txt'}, page_content='8. 안심 스테이크 샐러드\\\\n   • 가격: ₩26,000\\\\n   • 주요 식재료: 소고기 안심, 루꼴라, 체리 토마토, 발사믹 글레이즈\\\\n   • 설명: 부드러운 안심 스테이크를 얇게 슬라이스하여 신선한 루꼴라 위에 올린 메인 요리 샐러드입니다. 체리 토마토와 파마산 치즈 플레이크로 풍미를 더하고, 발사믹 글레이즈로 마무리하여 고기의 풍미를 한층 끌어올렸습니다.')]\", name='search_menu', tool_call_id='call_u92yuKtLk737l4f1Oe1TmRuG'), ToolMessage(content=\"[Document(id='4a19e117-ec83-47e3-8b1e-c4d24317b5f3', metadata={'menu_number': 9, 'menu_name': '샤토 디켐 2015', 'source': './data/restaurant_wine.txt'}, page_content='9. 샤토 디켐 2015\\\\n   • 가격: ₩800,000 (375ml)\\\\n   • 주요 품종: 세미용, 소비뇽 블랑\\\\n   • 설명: 보르도 소테른 지역의 legendary 디저트 와인입니다. 아프리콧, 복숭아, 파인애플의 농축된 과실향과 함께 꿀, 사프란, 바닐라의 복잡한 향이 어우러집니다. 놀라운 농축도와 균형 잡힌 산도, 긴 여운이 특징이며, 100년 이상 숙성 가능한 와인으로 알려져 있습니다.'), Document(id='24d7a377-f9e9-4983-ad47-7fca8ce3827f', metadata={'menu_number': 5, 'source': './data/restaurant_wine.txt', 'menu_name': '푸이 퓌세 2019'}, page_content='5. 푸이 퓌세 2019\\\\n   • 가격: ₩95,000\\\\n   • 주요 품종: 소비뇽 블랑\\\\n   • 설명: 프랑스 루아르 지역의 대표적인 화이트 와인입니다. 구스베리, 레몬, 라임의 상큼한 과실향과 함께 미네랄, 허브 노트가 특징적입니다. 날카로운 산도와 깔끔한 피니시가 인상적이며, 신선한 굴이나 해산물 요리와 탁월한 페어링을 이룹니다.')]\", name='search_wine', tool_call_id='call_xptnbfzumGvS16kdJHJ0YpDR')]}, next=('summarize',), config={'configurable': {'thread_id': '1', 'checkpoint_ns': '', 'checkpoint_id': '1f0b5877-16f0-618d-8001-0259ced72dfe'}}, metadata={'source': 'loop', 'step': 1, 'parents': {}}, created_at='2025-10-30T11:56:17.679809+00:00', parent_config={'configurable': {'thread_id': '1', 'checkpoint_ns': '', 'checkpoint_id': '1f0b5876-f768-6c5d-8000-6bb0e9cab9f0'}}, tasks=(PregelTask(id='49baa5ee-cef8-6afc-9e87-1ea3ae4e134f', name='summarize', path=('__pregel_pull', 'summarize'), error=None, interrupts=(), state=None, result={'summary': 'Summary of results for \\'스테이크 메뉴가 있나요? 어울리는 와인도 추천해주세요.\\': The search results provide details about two menu items and two wines from a restaurant. The dishes include the \"샤토브리앙 스테이크\" priced at ₩42,000, featuring premium tenderloin steak with foie gras and truffle sauce, and the \"안심 스테이크 샐러드\" at ₩26,000, which consists of sliced tenderloin steak on arugula with balsamic glaze. For wines, \"샤토 디켐 2015,\" a legendary dessert wine, costs ₩800,000 and has complex fruit and floral notes, while \"푸이 퓌세 2019,\" a white wine from the Loire region, is priced at ₩95,000 and pairs well with seafood.'}),), interrupts=())\n",
      "----------------------------------------------------------------------------------------------------\n",
      "Config before summarize: {'configurable': {'thread_id': '1', 'checkpoint_ns': '', 'checkpoint_id': '1f0b5877-16f0-618d-8001-0259ced72dfe'}}\n",
      "----------------------------------------------------------------------------------------------------\n"
     ]
    }
   ],
   "source": [
    "# 요약('summarize')이 처리되기 이전 시점의 체크포인트 찾기\n",
    "snapshot_before_summarize = None\n",
    "for state_snapshot in state_history:\n",
    "    if state_snapshot.next == ('summarize',):\n",
    "        snapshot_before_summarize = state_snapshot\n",
    "        break\n",
    "\n",
    "print(f\"Snapshot before summarize: {snapshot_before_summarize}\")\n",
    "print(\"-\" * 100)\n",
    "print(f\"Config before summarize: {snapshot_before_summarize.config}\")\n",
    "print(\"-\" * 100)"
   ]
  },
  {
   "cell_type": "code",
   "execution_count": 14,
   "metadata": {},
   "outputs": [
    {
     "data": {
      "text/plain": [
       "{'query': '스테이크 메뉴가 있나요? 어울리는 와인도 추천해주세요.',\n",
       " 'search_results': [ToolMessage(content=\"[Document(id='9efd85c5-ec3a-462d-8557-0e5081c216a3', metadata={'menu_name': '샤토브리앙 스테이크', 'menu_number': 26, 'source': './data/restaurant_menu.txt'}, page_content='26. 샤토브리앙 스테이크\\\\n    • 가격: ₩42,000\\\\n    • 주요 식재료: 프리미엄 안심 스테이크, 푸아그라, 트러플 소스\\\\n    • 설명: 최상급 안심 스테이크에 푸아그라를 올리고 트러플 소스를 곁들인 클래식 프렌치 요리입니다. 부드러운 육질과 깊은 풍미가 특징이며, 그린 아스파라거스와 감자 그라탕을 함께 제공합니다.'), Document(id='830640c9-399e-4d43-8d53-5abee32b8cf1', metadata={'menu_name': '안심 스테이크 샐러드', 'menu_number': 8, 'source': './data/restaurant_menu.txt'}, page_content='8. 안심 스테이크 샐러드\\\\n   • 가격: ₩26,000\\\\n   • 주요 식재료: 소고기 안심, 루꼴라, 체리 토마토, 발사믹 글레이즈\\\\n   • 설명: 부드러운 안심 스테이크를 얇게 슬라이스하여 신선한 루꼴라 위에 올린 메인 요리 샐러드입니다. 체리 토마토와 파마산 치즈 플레이크로 풍미를 더하고, 발사믹 글레이즈로 마무리하여 고기의 풍미를 한층 끌어올렸습니다.')]\", name='search_menu', tool_call_id='call_u92yuKtLk737l4f1Oe1TmRuG'),\n",
       "  ToolMessage(content=\"[Document(id='4a19e117-ec83-47e3-8b1e-c4d24317b5f3', metadata={'menu_number': 9, 'menu_name': '샤토 디켐 2015', 'source': './data/restaurant_wine.txt'}, page_content='9. 샤토 디켐 2015\\\\n   • 가격: ₩800,000 (375ml)\\\\n   • 주요 품종: 세미용, 소비뇽 블랑\\\\n   • 설명: 보르도 소테른 지역의 legendary 디저트 와인입니다. 아프리콧, 복숭아, 파인애플의 농축된 과실향과 함께 꿀, 사프란, 바닐라의 복잡한 향이 어우러집니다. 놀라운 농축도와 균형 잡힌 산도, 긴 여운이 특징이며, 100년 이상 숙성 가능한 와인으로 알려져 있습니다.'), Document(id='24d7a377-f9e9-4983-ad47-7fca8ce3827f', metadata={'menu_number': 5, 'source': './data/restaurant_wine.txt', 'menu_name': '푸이 퓌세 2019'}, page_content='5. 푸이 퓌세 2019\\\\n   • 가격: ₩95,000\\\\n   • 주요 품종: 소비뇽 블랑\\\\n   • 설명: 프랑스 루아르 지역의 대표적인 화이트 와인입니다. 구스베리, 레몬, 라임의 상큼한 과실향과 함께 미네랄, 허브 노트가 특징적입니다. 날카로운 산도와 깔끔한 피니시가 인상적이며, 신선한 굴이나 해산물 요리와 탁월한 페어링을 이룹니다.')]\", name='search_wine', tool_call_id='call_xptnbfzumGvS16kdJHJ0YpDR')],\n",
       " 'summary': 'Summary of results for \\'스테이크 메뉴가 있나요? 어울리는 와인도 추천해주세요.\\': 식당 메뉴에는 \"샤토브리앙 스테이크\"와 \"안심 스테이크 샐러드\"가 포함되어 있으며, 각각 ₩42,000과 ₩26,000의 가격으로 제공됩니다. 와인 리스트에는 \"샤토 디켐 2015\"와 \"푸이 퓌세 2019\"가 있으며, 각각 ₩800,000과 ₩95,000의 가격으로, 디저트 와인과 화이트 와인으로서의 특성을 가지고 있습니다.'}"
      ]
     },
     "execution_count": 14,
     "metadata": {},
     "output_type": "execute_result"
    }
   ],
   "source": [
    "# 체크포인트 이전의 입력이 필요하지 않기 때문에 빈 입력으로 invoke -> 'search' 노드부터 다시 시작 (재생)\n",
    "graph_memory.invoke(None, snapshot_before_summarize.config)"
   ]
  },
  {
   "cell_type": "code",
   "execution_count": 15,
   "metadata": {},
   "outputs": [
    {
     "name": "stdout",
     "output_type": "stream",
     "text": [
      "  Checkpoint 0:\n",
      "    Values: {'query': '스테이크 메뉴가 있나요? 어울리는 와인도 추천해주세요.', 'search_results': [ToolMessage(content=\"[Document(id='9efd85c5-ec3a-462d-8557-0e5081c216a3', metadata={'menu_name': '샤토브리앙 스테이크', 'menu_number': 26, 'source': './data/restaurant_menu.txt'}, page_content='26. 샤토브리앙 스테이크\\\\n    • 가격: ₩42,000\\\\n    • 주요 식재료: 프리미엄 안심 스테이크, 푸아그라, 트러플 소스\\\\n    • 설명: 최상급 안심 스테이크에 푸아그라를 올리고 트러플 소스를 곁들인 클래식 프렌치 요리입니다. 부드러운 육질과 깊은 풍미가 특징이며, 그린 아스파라거스와 감자 그라탕을 함께 제공합니다.'), Document(id='830640c9-399e-4d43-8d53-5abee32b8cf1', metadata={'menu_name': '안심 스테이크 샐러드', 'menu_number': 8, 'source': './data/restaurant_menu.txt'}, page_content='8. 안심 스테이크 샐러드\\\\n   • 가격: ₩26,000\\\\n   • 주요 식재료: 소고기 안심, 루꼴라, 체리 토마토, 발사믹 글레이즈\\\\n   • 설명: 부드러운 안심 스테이크를 얇게 슬라이스하여 신선한 루꼴라 위에 올린 메인 요리 샐러드입니다. 체리 토마토와 파마산 치즈 플레이크로 풍미를 더하고, 발사믹 글레이즈로 마무리하여 고기의 풍미를 한층 끌어올렸습니다.')]\", name='search_menu', tool_call_id='call_u92yuKtLk737l4f1Oe1TmRuG'), ToolMessage(content=\"[Document(id='4a19e117-ec83-47e3-8b1e-c4d24317b5f3', metadata={'menu_number': 9, 'menu_name': '샤토 디켐 2015', 'source': './data/restaurant_wine.txt'}, page_content='9. 샤토 디켐 2015\\\\n   • 가격: ₩800,000 (375ml)\\\\n   • 주요 품종: 세미용, 소비뇽 블랑\\\\n   • 설명: 보르도 소테른 지역의 legendary 디저트 와인입니다. 아프리콧, 복숭아, 파인애플의 농축된 과실향과 함께 꿀, 사프란, 바닐라의 복잡한 향이 어우러집니다. 놀라운 농축도와 균형 잡힌 산도, 긴 여운이 특징이며, 100년 이상 숙성 가능한 와인으로 알려져 있습니다.'), Document(id='24d7a377-f9e9-4983-ad47-7fca8ce3827f', metadata={'menu_number': 5, 'source': './data/restaurant_wine.txt', 'menu_name': '푸이 퓌세 2019'}, page_content='5. 푸이 퓌세 2019\\\\n   • 가격: ₩95,000\\\\n   • 주요 품종: 소비뇽 블랑\\\\n   • 설명: 프랑스 루아르 지역의 대표적인 화이트 와인입니다. 구스베리, 레몬, 라임의 상큼한 과실향과 함께 미네랄, 허브 노트가 특징적입니다. 날카로운 산도와 깔끔한 피니시가 인상적이며, 신선한 굴이나 해산물 요리와 탁월한 페어링을 이룹니다.')]\", name='search_wine', tool_call_id='call_xptnbfzumGvS16kdJHJ0YpDR')]}\n",
      "    Next: ('summarize',)\n",
      "    Metadata: {'source': 'loop', 'step': 1, 'parents': {}}\n",
      "----------------------------------------------------------------------------------------------------\n"
     ]
    }
   ],
   "source": [
    "# 상태 히스토리 출력 -> Replay 이후 상태 히스토리\n",
    "state_history_after_replay = list(graph_memory.get_state_history(snapshot_before_summarize.config))\n",
    "\n",
    "for i, state_snapshot in enumerate(state_history_after_replay):\n",
    "    print(f\"  Checkpoint {i}:\")\n",
    "    print(f\"    Values: {state_snapshot.values}\")\n",
    "    print(f\"    Next: {state_snapshot.next}\")\n",
    "    print(f\"    Metadata: {state_snapshot.metadata}\")\n",
    "    print(\"-\" * 100)"
   ]
  },
  {
   "cell_type": "markdown",
   "metadata": {},
   "source": [
    "`(8) 상태 업데이트`\n",
    "\n",
    "- `graph.update_state(config, values, as_node=None)`로 그래프의 **상태를 직접 수정**함\n",
    "\n",
    "- **values** : 업데이트할 값을 지정함\n",
    "\n",
    "- **as_node** : 업데이트를 수행할 노드를 지정 (선택 사항)"
   ]
  },
  {
   "cell_type": "code",
   "execution_count": 16,
   "metadata": {},
   "outputs": [
    {
     "data": {
      "text/plain": [
       "{'configurable': {'thread_id': '1',\n",
       "  'checkpoint_ns': '',\n",
       "  'checkpoint_id': '1f0b5877-16f0-618d-8001-0259ced72dfe'}}"
      ]
     },
     "execution_count": 16,
     "metadata": {},
     "output_type": "execute_result"
    }
   ],
   "source": [
    "# 요약('summarize')이 처리되기 이전 시점의 체크포인트\n",
    "snapshot_before_summarize.config"
   ]
  },
  {
   "cell_type": "code",
   "execution_count": 17,
   "metadata": {},
   "outputs": [
    {
     "name": "stdout",
     "output_type": "stream",
     "text": [
      "Next node: ('summarize',)\n",
      "Metadata keys: ['source', 'step', 'parents']\n",
      "Full metadata: {'source': 'loop', 'step': 1, 'parents': {}}\n"
     ]
    }
   ],
   "source": [
    "# 현재 노드 확인 (메타데이터 구조 확인)\n",
    "print(f\"Next node: {snapshot_before_summarize.next}\")\n",
    "print(f\"Metadata keys: {list(snapshot_before_summarize.metadata.keys())}\")\n",
    "\n",
    "# writes 키가 있으면 출력, 없으면 메타데이터 전체 출력\n",
    "if 'writes' in snapshot_before_summarize.metadata:\n",
    "    current_node = list(snapshot_before_summarize.metadata['writes'].keys())[0]\n",
    "    print(f\"Current node: {current_node}\")\n",
    "else:\n",
    "    print(f\"Full metadata: {snapshot_before_summarize.metadata}\")"
   ]
  },
  {
   "cell_type": "code",
   "execution_count": 18,
   "metadata": {},
   "outputs": [
    {
     "name": "stdout",
     "output_type": "stream",
     "text": [
      "{'query': '메뉴 이름, 가격 정보만 간단하게 출력하세요.',\n",
      " 'search_results': [ToolMessage(content=\"[Document(id='9efd85c5-ec3a-462d-8557-0e5081c216a3', metadata={'menu_name': '샤토브리앙 스테이크', 'menu_number': 26, 'source': './data/restaurant_menu.txt'}, page_content='26. 샤토브리앙 스테이크\\\\n    • 가격: ₩42,000\\\\n    • 주요 식재료: 프리미엄 안심 스테이크, 푸아그라, 트러플 소스\\\\n    • 설명: 최상급 안심 스테이크에 푸아그라를 올리고 트러플 소스를 곁들인 클래식 프렌치 요리입니다. 부드러운 육질과 깊은 풍미가 특징이며, 그린 아스파라거스와 감자 그라탕을 함께 제공합니다.'), Document(id='830640c9-399e-4d43-8d53-5abee32b8cf1', metadata={'menu_name': '안심 스테이크 샐러드', 'menu_number': 8, 'source': './data/restaurant_menu.txt'}, page_content='8. 안심 스테이크 샐러드\\\\n   • 가격: ₩26,000\\\\n   • 주요 식재료: 소고기 안심, 루꼴라, 체리 토마토, 발사믹 글레이즈\\\\n   • 설명: 부드러운 안심 스테이크를 얇게 슬라이스하여 신선한 루꼴라 위에 올린 메인 요리 샐러드입니다. 체리 토마토와 파마산 치즈 플레이크로 풍미를 더하고, 발사믹 글레이즈로 마무리하여 고기의 풍미를 한층 끌어올렸습니다.')]\", name='search_menu', tool_call_id='call_u92yuKtLk737l4f1Oe1TmRuG'),\n",
      "                    ToolMessage(content=\"[Document(id='4a19e117-ec83-47e3-8b1e-c4d24317b5f3', metadata={'menu_number': 9, 'menu_name': '샤토 디켐 2015', 'source': './data/restaurant_wine.txt'}, page_content='9. 샤토 디켐 2015\\\\n   • 가격: ₩800,000 (375ml)\\\\n   • 주요 품종: 세미용, 소비뇽 블랑\\\\n   • 설명: 보르도 소테른 지역의 legendary 디저트 와인입니다. 아프리콧, 복숭아, 파인애플의 농축된 과실향과 함께 꿀, 사프란, 바닐라의 복잡한 향이 어우러집니다. 놀라운 농축도와 균형 잡힌 산도, 긴 여운이 특징이며, 100년 이상 숙성 가능한 와인으로 알려져 있습니다.'), Document(id='24d7a377-f9e9-4983-ad47-7fca8ce3827f', metadata={'menu_number': 5, 'source': './data/restaurant_wine.txt', 'menu_name': '푸이 퓌세 2019'}, page_content='5. 푸이 퓌세 2019\\\\n   • 가격: ₩95,000\\\\n   • 주요 품종: 소비뇽 블랑\\\\n   • 설명: 프랑스 루아르 지역의 대표적인 화이트 와인입니다. 구스베리, 레몬, 라임의 상큼한 과실향과 함께 미네랄, 허브 노트가 특징적입니다. 날카로운 산도와 깔끔한 피니시가 인상적이며, 신선한 굴이나 해산물 요리와 탁월한 페어링을 이룹니다.')]\", name='search_wine', tool_call_id='call_xptnbfzumGvS16kdJHJ0YpDR')],\n",
      " 'summary': \"Summary of results for '스테이크 메뉴가 있나요? 어울리는 와인도 추천해주세요.': The \"\n",
      "            'search results provide details about two menu items and two wines '\n",
      "            'from a restaurant. The dishes include the \"샤토브리앙 스테이크\" priced at '\n",
      "            '₩42,000, featuring premium tenderloin steak with foie gras and '\n",
      "            'truffle sauce, and the \"안심 스테이크 샐러드\" at ₩26,000, which consists '\n",
      "            'of sliced tenderloin steak on arugula with balsamic glaze. For '\n",
      "            'wines, \"샤토 디켐 2015,\" a legendary dessert wine, costs ₩800,000 and '\n",
      "            'has complex fruit and floral notes, while \"푸이 퓌세 2019,\" a white '\n",
      "            'wine from the Loire region, is priced at ₩95,000 and pairs well '\n",
      "            'with seafood.'}\n"
     ]
    }
   ],
   "source": [
    "# 상태 업데이트 -> 'search' 노드에서 '쿼리'를 수정하고 다시 실행\n",
    "update_input = {\"query\": \"메뉴 이름, 가격 정보만 간단하게 출력하세요.\"}\n",
    "\n",
    "graph_memory.update_state(\n",
    "    snapshot_before_summarize.config, \n",
    "    update_input, \n",
    ")\n",
    "\n",
    "updated_state = graph_memory.get_state(config)\n",
    "\n",
    "# 업데이트된 상태 출력\n",
    "pprint(updated_state.values)"
   ]
  },
  {
   "cell_type": "code",
   "execution_count": 19,
   "metadata": {},
   "outputs": [
    {
     "name": "stdout",
     "output_type": "stream",
     "text": [
      "  Checkpoint 0:\n",
      "    Values: {'query': '메뉴 이름, 가격 정보만 간단하게 출력하세요.', 'search_results': [ToolMessage(content=\"[Document(id='9efd85c5-ec3a-462d-8557-0e5081c216a3', metadata={'menu_name': '샤토브리앙 스테이크', 'menu_number': 26, 'source': './data/restaurant_menu.txt'}, page_content='26. 샤토브리앙 스테이크\\\\n    • 가격: ₩42,000\\\\n    • 주요 식재료: 프리미엄 안심 스테이크, 푸아그라, 트러플 소스\\\\n    • 설명: 최상급 안심 스테이크에 푸아그라를 올리고 트러플 소스를 곁들인 클래식 프렌치 요리입니다. 부드러운 육질과 깊은 풍미가 특징이며, 그린 아스파라거스와 감자 그라탕을 함께 제공합니다.'), Document(id='830640c9-399e-4d43-8d53-5abee32b8cf1', metadata={'menu_name': '안심 스테이크 샐러드', 'menu_number': 8, 'source': './data/restaurant_menu.txt'}, page_content='8. 안심 스테이크 샐러드\\\\n   • 가격: ₩26,000\\\\n   • 주요 식재료: 소고기 안심, 루꼴라, 체리 토마토, 발사믹 글레이즈\\\\n   • 설명: 부드러운 안심 스테이크를 얇게 슬라이스하여 신선한 루꼴라 위에 올린 메인 요리 샐러드입니다. 체리 토마토와 파마산 치즈 플레이크로 풍미를 더하고, 발사믹 글레이즈로 마무리하여 고기의 풍미를 한층 끌어올렸습니다.')]\", name='search_menu', tool_call_id='call_u92yuKtLk737l4f1Oe1TmRuG'), ToolMessage(content=\"[Document(id='4a19e117-ec83-47e3-8b1e-c4d24317b5f3', metadata={'menu_number': 9, 'menu_name': '샤토 디켐 2015', 'source': './data/restaurant_wine.txt'}, page_content='9. 샤토 디켐 2015\\\\n   • 가격: ₩800,000 (375ml)\\\\n   • 주요 품종: 세미용, 소비뇽 블랑\\\\n   • 설명: 보르도 소테른 지역의 legendary 디저트 와인입니다. 아프리콧, 복숭아, 파인애플의 농축된 과실향과 함께 꿀, 사프란, 바닐라의 복잡한 향이 어우러집니다. 놀라운 농축도와 균형 잡힌 산도, 긴 여운이 특징이며, 100년 이상 숙성 가능한 와인으로 알려져 있습니다.'), Document(id='24d7a377-f9e9-4983-ad47-7fca8ce3827f', metadata={'menu_number': 5, 'source': './data/restaurant_wine.txt', 'menu_name': '푸이 퓌세 2019'}, page_content='5. 푸이 퓌세 2019\\\\n   • 가격: ₩95,000\\\\n   • 주요 품종: 소비뇽 블랑\\\\n   • 설명: 프랑스 루아르 지역의 대표적인 화이트 와인입니다. 구스베리, 레몬, 라임의 상큼한 과실향과 함께 미네랄, 허브 노트가 특징적입니다. 날카로운 산도와 깔끔한 피니시가 인상적이며, 신선한 굴이나 해산물 요리와 탁월한 페어링을 이룹니다.')]\", name='search_wine', tool_call_id='call_xptnbfzumGvS16kdJHJ0YpDR')], 'summary': 'Summary of results for \\'스테이크 메뉴가 있나요? 어울리는 와인도 추천해주세요.\\': The search results provide details about two menu items and two wines from a restaurant. The dishes include the \"샤토브리앙 스테이크\" priced at ₩42,000, featuring premium tenderloin steak with foie gras and truffle sauce, and the \"안심 스테이크 샐러드\" at ₩26,000, which consists of sliced tenderloin steak on arugula with balsamic glaze. For wines, \"샤토 디켐 2015,\" a legendary dessert wine, costs ₩800,000 and has complex fruit and floral notes, while \"푸이 퓌세 2019,\" a white wine from the Loire region, is priced at ₩95,000 and pairs well with seafood.'}\n",
      "    Next: ()\n",
      "    Metadata: {'source': 'update', 'step': 2, 'parents': {}}\n",
      "----------------------------------------------------------------------------------------------------\n",
      "  Checkpoint 1:\n",
      "    Values: {'query': '스테이크 메뉴가 있나요? 어울리는 와인도 추천해주세요.', 'search_results': [ToolMessage(content=\"[Document(id='9efd85c5-ec3a-462d-8557-0e5081c216a3', metadata={'menu_name': '샤토브리앙 스테이크', 'menu_number': 26, 'source': './data/restaurant_menu.txt'}, page_content='26. 샤토브리앙 스테이크\\\\n    • 가격: ₩42,000\\\\n    • 주요 식재료: 프리미엄 안심 스테이크, 푸아그라, 트러플 소스\\\\n    • 설명: 최상급 안심 스테이크에 푸아그라를 올리고 트러플 소스를 곁들인 클래식 프렌치 요리입니다. 부드러운 육질과 깊은 풍미가 특징이며, 그린 아스파라거스와 감자 그라탕을 함께 제공합니다.'), Document(id='830640c9-399e-4d43-8d53-5abee32b8cf1', metadata={'menu_name': '안심 스테이크 샐러드', 'menu_number': 8, 'source': './data/restaurant_menu.txt'}, page_content='8. 안심 스테이크 샐러드\\\\n   • 가격: ₩26,000\\\\n   • 주요 식재료: 소고기 안심, 루꼴라, 체리 토마토, 발사믹 글레이즈\\\\n   • 설명: 부드러운 안심 스테이크를 얇게 슬라이스하여 신선한 루꼴라 위에 올린 메인 요리 샐러드입니다. 체리 토마토와 파마산 치즈 플레이크로 풍미를 더하고, 발사믹 글레이즈로 마무리하여 고기의 풍미를 한층 끌어올렸습니다.')]\", name='search_menu', tool_call_id='call_u92yuKtLk737l4f1Oe1TmRuG'), ToolMessage(content=\"[Document(id='4a19e117-ec83-47e3-8b1e-c4d24317b5f3', metadata={'menu_number': 9, 'menu_name': '샤토 디켐 2015', 'source': './data/restaurant_wine.txt'}, page_content='9. 샤토 디켐 2015\\\\n   • 가격: ₩800,000 (375ml)\\\\n   • 주요 품종: 세미용, 소비뇽 블랑\\\\n   • 설명: 보르도 소테른 지역의 legendary 디저트 와인입니다. 아프리콧, 복숭아, 파인애플의 농축된 과실향과 함께 꿀, 사프란, 바닐라의 복잡한 향이 어우러집니다. 놀라운 농축도와 균형 잡힌 산도, 긴 여운이 특징이며, 100년 이상 숙성 가능한 와인으로 알려져 있습니다.'), Document(id='24d7a377-f9e9-4983-ad47-7fca8ce3827f', metadata={'menu_number': 5, 'source': './data/restaurant_wine.txt', 'menu_name': '푸이 퓌세 2019'}, page_content='5. 푸이 퓌세 2019\\\\n   • 가격: ₩95,000\\\\n   • 주요 품종: 소비뇽 블랑\\\\n   • 설명: 프랑스 루아르 지역의 대표적인 화이트 와인입니다. 구스베리, 레몬, 라임의 상큼한 과실향과 함께 미네랄, 허브 노트가 특징적입니다. 날카로운 산도와 깔끔한 피니시가 인상적이며, 신선한 굴이나 해산물 요리와 탁월한 페어링을 이룹니다.')]\", name='search_wine', tool_call_id='call_xptnbfzumGvS16kdJHJ0YpDR')], 'summary': 'Summary of results for \\'스테이크 메뉴가 있나요? 어울리는 와인도 추천해주세요.\\': 식당 메뉴에는 \"샤토브리앙 스테이크\"와 \"안심 스테이크 샐러드\"가 포함되어 있으며, 각각 ₩42,000과 ₩26,000의 가격으로 제공됩니다. 와인 리스트에는 \"샤토 디켐 2015\"와 \"푸이 퓌세 2019\"가 있으며, 각각 ₩800,000과 ₩95,000의 가격으로, 디저트 와인과 화이트 와인으로서의 특성을 가지고 있습니다.'}\n",
      "    Next: ()\n",
      "    Metadata: {'source': 'loop', 'step': 2, 'parents': {}}\n",
      "----------------------------------------------------------------------------------------------------\n",
      "  Checkpoint 2:\n",
      "    Values: {'query': '스테이크 메뉴가 있나요? 어울리는 와인도 추천해주세요.', 'search_results': [ToolMessage(content=\"[Document(id='9efd85c5-ec3a-462d-8557-0e5081c216a3', metadata={'menu_name': '샤토브리앙 스테이크', 'menu_number': 26, 'source': './data/restaurant_menu.txt'}, page_content='26. 샤토브리앙 스테이크\\\\n    • 가격: ₩42,000\\\\n    • 주요 식재료: 프리미엄 안심 스테이크, 푸아그라, 트러플 소스\\\\n    • 설명: 최상급 안심 스테이크에 푸아그라를 올리고 트러플 소스를 곁들인 클래식 프렌치 요리입니다. 부드러운 육질과 깊은 풍미가 특징이며, 그린 아스파라거스와 감자 그라탕을 함께 제공합니다.'), Document(id='830640c9-399e-4d43-8d53-5abee32b8cf1', metadata={'menu_name': '안심 스테이크 샐러드', 'menu_number': 8, 'source': './data/restaurant_menu.txt'}, page_content='8. 안심 스테이크 샐러드\\\\n   • 가격: ₩26,000\\\\n   • 주요 식재료: 소고기 안심, 루꼴라, 체리 토마토, 발사믹 글레이즈\\\\n   • 설명: 부드러운 안심 스테이크를 얇게 슬라이스하여 신선한 루꼴라 위에 올린 메인 요리 샐러드입니다. 체리 토마토와 파마산 치즈 플레이크로 풍미를 더하고, 발사믹 글레이즈로 마무리하여 고기의 풍미를 한층 끌어올렸습니다.')]\", name='search_menu', tool_call_id='call_u92yuKtLk737l4f1Oe1TmRuG'), ToolMessage(content=\"[Document(id='4a19e117-ec83-47e3-8b1e-c4d24317b5f3', metadata={'menu_number': 9, 'menu_name': '샤토 디켐 2015', 'source': './data/restaurant_wine.txt'}, page_content='9. 샤토 디켐 2015\\\\n   • 가격: ₩800,000 (375ml)\\\\n   • 주요 품종: 세미용, 소비뇽 블랑\\\\n   • 설명: 보르도 소테른 지역의 legendary 디저트 와인입니다. 아프리콧, 복숭아, 파인애플의 농축된 과실향과 함께 꿀, 사프란, 바닐라의 복잡한 향이 어우러집니다. 놀라운 농축도와 균형 잡힌 산도, 긴 여운이 특징이며, 100년 이상 숙성 가능한 와인으로 알려져 있습니다.'), Document(id='24d7a377-f9e9-4983-ad47-7fca8ce3827f', metadata={'menu_number': 5, 'source': './data/restaurant_wine.txt', 'menu_name': '푸이 퓌세 2019'}, page_content='5. 푸이 퓌세 2019\\\\n   • 가격: ₩95,000\\\\n   • 주요 품종: 소비뇽 블랑\\\\n   • 설명: 프랑스 루아르 지역의 대표적인 화이트 와인입니다. 구스베리, 레몬, 라임의 상큼한 과실향과 함께 미네랄, 허브 노트가 특징적입니다. 날카로운 산도와 깔끔한 피니시가 인상적이며, 신선한 굴이나 해산물 요리와 탁월한 페어링을 이룹니다.')]\", name='search_wine', tool_call_id='call_xptnbfzumGvS16kdJHJ0YpDR')], 'summary': 'Summary of results for \\'스테이크 메뉴가 있나요? 어울리는 와인도 추천해주세요.\\': The search results provide details about two menu items and two wines from a restaurant. The dishes include the \"샤토브리앙 스테이크\" priced at ₩42,000, featuring premium tenderloin steak with foie gras and truffle sauce, and the \"안심 스테이크 샐러드\" at ₩26,000, which consists of sliced tenderloin steak on arugula with balsamic glaze. For wines, \"샤토 디켐 2015,\" a legendary dessert wine, costs ₩800,000 and has complex fruit and floral notes, while \"푸이 퓌세 2019,\" a white wine from the Loire region, is priced at ₩95,000 and pairs well with seafood.'}\n",
      "    Next: ()\n",
      "    Metadata: {'source': 'loop', 'step': 2, 'parents': {}}\n",
      "----------------------------------------------------------------------------------------------------\n",
      "  Checkpoint 3:\n",
      "    Values: {'query': '스테이크 메뉴가 있나요? 어울리는 와인도 추천해주세요.', 'search_results': [ToolMessage(content=\"[Document(id='9efd85c5-ec3a-462d-8557-0e5081c216a3', metadata={'menu_name': '샤토브리앙 스테이크', 'menu_number': 26, 'source': './data/restaurant_menu.txt'}, page_content='26. 샤토브리앙 스테이크\\\\n    • 가격: ₩42,000\\\\n    • 주요 식재료: 프리미엄 안심 스테이크, 푸아그라, 트러플 소스\\\\n    • 설명: 최상급 안심 스테이크에 푸아그라를 올리고 트러플 소스를 곁들인 클래식 프렌치 요리입니다. 부드러운 육질과 깊은 풍미가 특징이며, 그린 아스파라거스와 감자 그라탕을 함께 제공합니다.'), Document(id='830640c9-399e-4d43-8d53-5abee32b8cf1', metadata={'menu_name': '안심 스테이크 샐러드', 'menu_number': 8, 'source': './data/restaurant_menu.txt'}, page_content='8. 안심 스테이크 샐러드\\\\n   • 가격: ₩26,000\\\\n   • 주요 식재료: 소고기 안심, 루꼴라, 체리 토마토, 발사믹 글레이즈\\\\n   • 설명: 부드러운 안심 스테이크를 얇게 슬라이스하여 신선한 루꼴라 위에 올린 메인 요리 샐러드입니다. 체리 토마토와 파마산 치즈 플레이크로 풍미를 더하고, 발사믹 글레이즈로 마무리하여 고기의 풍미를 한층 끌어올렸습니다.')]\", name='search_menu', tool_call_id='call_u92yuKtLk737l4f1Oe1TmRuG'), ToolMessage(content=\"[Document(id='4a19e117-ec83-47e3-8b1e-c4d24317b5f3', metadata={'menu_number': 9, 'menu_name': '샤토 디켐 2015', 'source': './data/restaurant_wine.txt'}, page_content='9. 샤토 디켐 2015\\\\n   • 가격: ₩800,000 (375ml)\\\\n   • 주요 품종: 세미용, 소비뇽 블랑\\\\n   • 설명: 보르도 소테른 지역의 legendary 디저트 와인입니다. 아프리콧, 복숭아, 파인애플의 농축된 과실향과 함께 꿀, 사프란, 바닐라의 복잡한 향이 어우러집니다. 놀라운 농축도와 균형 잡힌 산도, 긴 여운이 특징이며, 100년 이상 숙성 가능한 와인으로 알려져 있습니다.'), Document(id='24d7a377-f9e9-4983-ad47-7fca8ce3827f', metadata={'menu_number': 5, 'source': './data/restaurant_wine.txt', 'menu_name': '푸이 퓌세 2019'}, page_content='5. 푸이 퓌세 2019\\\\n   • 가격: ₩95,000\\\\n   • 주요 품종: 소비뇽 블랑\\\\n   • 설명: 프랑스 루아르 지역의 대표적인 화이트 와인입니다. 구스베리, 레몬, 라임의 상큼한 과실향과 함께 미네랄, 허브 노트가 특징적입니다. 날카로운 산도와 깔끔한 피니시가 인상적이며, 신선한 굴이나 해산물 요리와 탁월한 페어링을 이룹니다.')]\", name='search_wine', tool_call_id='call_xptnbfzumGvS16kdJHJ0YpDR')]}\n",
      "    Next: ('summarize',)\n",
      "    Metadata: {'source': 'loop', 'step': 1, 'parents': {}}\n",
      "----------------------------------------------------------------------------------------------------\n",
      "  Checkpoint 4:\n",
      "    Values: {'query': '스테이크 메뉴가 있나요? 어울리는 와인도 추천해주세요.', 'search_results': []}\n",
      "    Next: ('search',)\n",
      "    Metadata: {'source': 'loop', 'step': 0, 'parents': {}}\n",
      "----------------------------------------------------------------------------------------------------\n",
      "  Checkpoint 5:\n",
      "    Values: {'search_results': []}\n",
      "    Next: ('__start__',)\n",
      "    Metadata: {'source': 'input', 'step': -1, 'parents': {}}\n",
      "----------------------------------------------------------------------------------------------------\n"
     ]
    }
   ],
   "source": [
    "# 업데이트된 상태로 이어서 실행 (재생)\n",
    "graph_memory.invoke(None, config)\n",
    "\n",
    "# 업데이트된 상태의 히스토리 출력\n",
    "state_history_after_update = list(graph_memory.get_state_history(config))\n",
    "\n",
    "for i, state_snapshot in enumerate(state_history_after_update):\n",
    "    print(f\"  Checkpoint {i}:\")\n",
    "    print(f\"    Values: {state_snapshot.values}\")\n",
    "    print(f\"    Next: {state_snapshot.next}\")\n",
    "    print(f\"    Metadata: {state_snapshot.metadata}\")\n",
    "    print(\"-\" * 100)"
   ]
  },
  {
   "cell_type": "code",
   "execution_count": 20,
   "metadata": {},
   "outputs": [
    {
     "name": "stdout",
     "output_type": "stream",
     "text": [
      "{'query': '메뉴 이름, 가격 정보만 간단하게 출력하세요.',\n",
      " 'search_results': [ToolMessage(content=\"[Document(id='9efd85c5-ec3a-462d-8557-0e5081c216a3', metadata={'menu_name': '샤토브리앙 스테이크', 'menu_number': 26, 'source': './data/restaurant_menu.txt'}, page_content='26. 샤토브리앙 스테이크\\\\n    • 가격: ₩42,000\\\\n    • 주요 식재료: 프리미엄 안심 스테이크, 푸아그라, 트러플 소스\\\\n    • 설명: 최상급 안심 스테이크에 푸아그라를 올리고 트러플 소스를 곁들인 클래식 프렌치 요리입니다. 부드러운 육질과 깊은 풍미가 특징이며, 그린 아스파라거스와 감자 그라탕을 함께 제공합니다.'), Document(id='830640c9-399e-4d43-8d53-5abee32b8cf1', metadata={'menu_name': '안심 스테이크 샐러드', 'menu_number': 8, 'source': './data/restaurant_menu.txt'}, page_content='8. 안심 스테이크 샐러드\\\\n   • 가격: ₩26,000\\\\n   • 주요 식재료: 소고기 안심, 루꼴라, 체리 토마토, 발사믹 글레이즈\\\\n   • 설명: 부드러운 안심 스테이크를 얇게 슬라이스하여 신선한 루꼴라 위에 올린 메인 요리 샐러드입니다. 체리 토마토와 파마산 치즈 플레이크로 풍미를 더하고, 발사믹 글레이즈로 마무리하여 고기의 풍미를 한층 끌어올렸습니다.')]\", name='search_menu', tool_call_id='call_u92yuKtLk737l4f1Oe1TmRuG'),\n",
      "                    ToolMessage(content=\"[Document(id='4a19e117-ec83-47e3-8b1e-c4d24317b5f3', metadata={'menu_number': 9, 'menu_name': '샤토 디켐 2015', 'source': './data/restaurant_wine.txt'}, page_content='9. 샤토 디켐 2015\\\\n   • 가격: ₩800,000 (375ml)\\\\n   • 주요 품종: 세미용, 소비뇽 블랑\\\\n   • 설명: 보르도 소테른 지역의 legendary 디저트 와인입니다. 아프리콧, 복숭아, 파인애플의 농축된 과실향과 함께 꿀, 사프란, 바닐라의 복잡한 향이 어우러집니다. 놀라운 농축도와 균형 잡힌 산도, 긴 여운이 특징이며, 100년 이상 숙성 가능한 와인으로 알려져 있습니다.'), Document(id='24d7a377-f9e9-4983-ad47-7fca8ce3827f', metadata={'menu_number': 5, 'source': './data/restaurant_wine.txt', 'menu_name': '푸이 퓌세 2019'}, page_content='5. 푸이 퓌세 2019\\\\n   • 가격: ₩95,000\\\\n   • 주요 품종: 소비뇽 블랑\\\\n   • 설명: 프랑스 루아르 지역의 대표적인 화이트 와인입니다. 구스베리, 레몬, 라임의 상큼한 과실향과 함께 미네랄, 허브 노트가 특징적입니다. 날카로운 산도와 깔끔한 피니시가 인상적이며, 신선한 굴이나 해산물 요리와 탁월한 페어링을 이룹니다.')]\", name='search_wine', tool_call_id='call_xptnbfzumGvS16kdJHJ0YpDR')],\n",
      " 'summary': \"Summary of results for '스테이크 메뉴가 있나요? 어울리는 와인도 추천해주세요.': The \"\n",
      "            'search results provide details about two menu items and two wines '\n",
      "            'from a restaurant. The dishes include the \"샤토브리앙 스테이크\" priced at '\n",
      "            '₩42,000, featuring premium tenderloin steak with foie gras and '\n",
      "            'truffle sauce, and the \"안심 스테이크 샐러드\" at ₩26,000, which consists '\n",
      "            'of sliced tenderloin steak on arugula with balsamic glaze. For '\n",
      "            'wines, \"샤토 디켐 2015,\" a legendary dessert wine, costs ₩800,000 and '\n",
      "            'has complex fruit and floral notes, while \"푸이 퓌세 2019,\" a white '\n",
      "            'wine from the Loire region, is priced at ₩95,000 and pairs well '\n",
      "            'with seafood.'}\n"
     ]
    }
   ],
   "source": [
    "# 최종 상태 출력\n",
    "final_state = graph_memory.get_state(config)\n",
    "\n",
    "pprint(final_state.values)"
   ]
  },
  {
   "cell_type": "markdown",
   "metadata": {},
   "source": [
    "---\n",
    "### **[실습 1]** 체크포인터 사용\n",
    "\n",
    "- 한국어 질문에 대한 한국어 DB를 검색하는 도구와 영어 질문에 대한 영어 DB를 검색하는 도구를 사용합니다. (리비안, 테슬라 데이터베이스)\n",
    "\n",
    "- 이 도구를 실행하는 ReAct 에이전트를 구현합니다. \n",
    "\n",
    "- 체크포인터를 지정하여 메모리를 추가하고 테스트합니다. "
   ]
  },
  {
   "cell_type": "code",
   "execution_count": 21,
   "metadata": {},
   "outputs": [
    {
     "name": "stdout",
     "output_type": "stream",
     "text": [
      "한국어 문서 수: 39\n",
      "영어 문서 수: 42\n"
     ]
    }
   ],
   "source": [
    "from langchain_openai import OpenAIEmbeddings\n",
    "from langchain_chroma import Chroma\n",
    "\n",
    "# OpenAI 임베딩 모델 생성\n",
    "embeddings_openai = OpenAIEmbeddings(model=\"text-embedding-3-small\")\n",
    "\n",
    "# 한국어 문서로 저장되어 있는 벡터 저장소 로드\n",
    "db_korean = Chroma(\n",
    "    embedding_function=embeddings_openai,\n",
    "    collection_name=\"db_korean_cosine_metadata\",\n",
    "    persist_directory=\"./chroma_db\",\n",
    "    )\n",
    "\n",
    "print(f\"한국어 문서 수: {db_korean._collection.count()}\")\n",
    "\n",
    "# 영어 문서를 저장하는 벡터 저장소 로드\n",
    "db_english = Chroma(\n",
    "    embedding_function=embeddings_openai,\n",
    "    collection_name=\"eng_db_openai\",\n",
    "    persist_directory=\"./chroma_db\",\n",
    "    )\n",
    "\n",
    "print(f\"영어 문서 수: {db_english._collection.count()}\")"
   ]
  },
  {
   "cell_type": "code",
   "execution_count": 22,
   "metadata": {},
   "outputs": [],
   "source": [
    "from langchain_core.documents import Document\n",
    "\n",
    "# 도구 정의 \n",
    "@tool\n",
    "def search_kor(query: str, k: int = 2) -> List[Document]:\n",
    "    \"\"\"한국어 질문이 주어지면, 한국어 문서에서 정보를 검색합니다.\"\"\"\n",
    "    docs = db_korean.similarity_search(query, k=k)\n",
    "    if len(docs) > 0:\n",
    "        return docs\n",
    "    \n",
    "    return \"관련 정보를 찾을 수 없습니다.\"\n",
    "\n",
    "@tool\n",
    "def search_eng(query: str, k: int = 2) -> List[Document]:\n",
    "    \"\"\"영어 질문이 주어지면, 영어 문서에서 정보를 검색합니다.\"\"\"\n",
    "    docs = db_english.similarity_search(query, k=k)\n",
    "    if len(docs) > 0:\n",
    "        return docs\n",
    "    \n",
    "    return \"관련 정보를 찾을 수 없습니다.\""
   ]
  },
  {
   "cell_type": "code",
   "execution_count": 23,
   "metadata": {},
   "outputs": [
    {
     "data": {
      "image/png": "[encoded data removed]",
      "text/plain": [
       "<IPython.core.display.Image object>"
      ]
     },
     "metadata": {},
     "output_type": "display_data"
    }
   ],
   "source": [
    "from langgraph.graph import MessagesState, StateGraph, START, END\n",
    "from langchain_core.messages import HumanMessage, SystemMessage\n",
    "from langgraph.prebuilt import ToolNode\n",
    "from IPython.display import Image, display\n",
    "from langchain_openai import ChatOpenAI\n",
    "from langgraph.prebuilt import tools_condition\n",
    "\n",
    "# LangGraph MessagesState 사용\n",
    "class GraphState(MessagesState):\n",
    "    ...\n",
    "\n",
    "# LLM 모델 \n",
    "llm = ChatOpenAI(model=\"gpt-4o-mini\", streaming=True)\n",
    "\n",
    "# 도구 목록\n",
    "tools = [search_kor, search_eng]\n",
    "\n",
    "# 모델에 도구를 바인딩\n",
    "llm_with_tools = llm.bind_tools(tools=tools)\n",
    "\n",
    "\n",
    "# 노드 함수 정의\n",
    "def call_model(state: GraphState):\n",
    "    system_prompt = SystemMessage(\"\"\"You are a helpful AI assistant. Please respond to the user's query to the best of your ability!\n",
    "\n",
    "중요: 답변을 제공할 때 반드시 정보의 출처를 명시해야 합니다. 출처는 다음과 같이 표시하세요:\n",
    "- 도구를 사용하여 얻은 정보: [도구: 도구이름]\n",
    "- 모델의 일반 지식에 기반한 정보: [일반 지식]\n",
    "\n",
    "항상 정확하고 관련성 있는 정보를 제공하되, 확실하지 않은 경우 그 사실을 명시하세요. 출처를 명확히 표시함으로써 사용자가 정보의 신뢰성을 판단할 수 있도록 해주세요.\"\"\")\n",
    "    \n",
    "    # 시스템 메시지와 이전 메시지를 결합하여 모델 호출\n",
    "    messages = [system_prompt] + state['messages']\n",
    "    response = llm_with_tools.invoke(messages)\n",
    "\n",
    "    # 메시지 리스트로 반환하고 상태 업데이트\n",
    "    return {\"messages\": [response]}\n",
    "\n",
    "# 그래프 구성\n",
    "builder = StateGraph(GraphState)\n",
    "\n",
    "builder.add_node(\"agent\", call_model)\n",
    "builder.add_node(\"tools\", ToolNode(tools))\n",
    "\n",
    "builder.add_edge(START, \"agent\")\n",
    "\n",
    "# tools_condition을 사용한 조건부 엣지 추가\n",
    "builder.add_conditional_edges(\n",
    "    \"agent\",\n",
    "    tools_condition,\n",
    ")\n",
    "\n",
    "builder.add_edge(\"tools\", \"agent\")\n",
    "\n",
    "graph = builder.compile()\n",
    "\n",
    "# 그래프 출력\n",
    "display(Image(graph.get_graph().draw_mermaid_png()))"
   ]
  },
  {
   "cell_type": "code",
   "execution_count": 24,
   "metadata": {},
   "outputs": [
    {
     "data": {
      "image/png": "[encoded data removed]",
      "text/plain": [
       "<IPython.core.display.Image object>"
      ]
     },
     "metadata": {},
     "output_type": "display_data"
    }
   ],
   "source": [
    "from langgraph.checkpoint.memory import MemorySaver\n",
    "\n",
    "# 메모리 저장소 생성\n",
    "memory = MemorySaver()\n",
    "\n",
    "# 메모리 저장소를 지정하여 그래프 컴파일\n",
    "graph_memory = builder.compile(checkpointer=memory)\n",
    "\n",
    "# 그래프 출력\n",
    "display(Image(graph_memory.get_graph().draw_mermaid_png()))"
   ]
  },
  {
   "cell_type": "code",
   "execution_count": 25,
   "metadata": {},
   "outputs": [
    {
     "name": "stdout",
     "output_type": "stream",
     "text": [
      "================================\u001b[1m Human Message \u001b[0m=================================\n",
      "\n",
      "테슬라의 설립 년도와 창업자는 누구인가요?\n",
      "==================================\u001b[1m Ai Message \u001b[0m==================================\n",
      "Tool Calls:\n",
      "  search_kor (call_QfQd1fQXCwiOeMKJeAPJrQG1)\n",
      " Call ID: call_QfQd1fQXCwiOeMKJeAPJrQG1\n",
      "  Args:\n",
      "    query: 테슬라 설립 년도\n",
      "  search_kor (call_ise8cQMce7u9PfsfjvseZ5UW)\n",
      " Call ID: call_ise8cQMce7u9PfsfjvseZ5UW\n",
      "  Args:\n",
      "    query: 테슬라 창업자\n",
      "=================================\u001b[1m Tool Message \u001b[0m=================================\n",
      "Name: search_kor\n",
      "\n",
      "[Document(id='3a108f29-a4d1-42d9-bcef-8effa685ac74', metadata={'company': '테슬라', 'language': 'ko', 'source': 'data/테슬라_KR.md'}, page_content='[출처] 이 문서는 테슬라에 대한 문서입니다.\\n----------------------------------\\nTesla는 내부 고발자 보복, 근로자 권리 침해, 안전 결함, 홍보 부족, Musk의 논란의 여지가 있는 발언과 관련된 소송, 정부 조사 및 비판에 직면했습니다.\\n\\n## 역사\\n\\n### 창립 (2003–2004)\\n\\nTesla Motors, Inc.는 2003년 7월 1일에 Martin Eberhard와 Marc Tarpenning에 의해 설립되었으며, 각각 CEO와 CFO를 역임했습니다. Ian Wright는 얼마 지나지 않아 합류했습니다. 2004년 2월, Elon Musk는 750만 달러의 시리즈 A 자금 조달을 주도하여 회장 겸 최대 주주가 되었습니다. J. B. Straubel은 2004년 5월 CTO로 합류했습니다. 다섯 명 모두 공동 설립자로 인정받고 있습니다.\\n\\n### Roadster (2005–2009)'), Document(id='e2e42092-eb65-41f4-9986-f91005ee3607', metadata={'source': 'data/테슬라_KR.md', 'company': '테슬라', 'language': 'ko'}, page_content=\"[출처] 이 문서는 테슬라에 대한 문서입니다.\\n----------------------------------\\n### Roadster (2005–2009)\\n\\nElon Musk는 주류 차량으로 확장하기 전에 프리미엄 스포츠카로 시작하는 전략에 초점을 맞춰 적극적인 역할을 수행했습니다. 후속 자금 조달에는 Valor Equity Partners (2006)와 Sergey Brin, Larry Page, Jeff Skoll과 같은 기업가의 투자가 포함되었습니다.\\n\\n2007년 8월, Eberhard는 CEO에서 물러나라는 요청을 받았고, Tarpenning은 2008년 1월에 이어졌습니다. Michael Marks는 Ze'ev Drori가 인수하기 전에 임시 CEO를 역임했으며, Musk는 2008년 10월에 인수했습니다. Eberhard는 2009년 6월 Musk를 상대로 소송을 제기했지만 나중에 기각되었습니다.\")]\n",
      "=================================\u001b[1m Tool Message \u001b[0m=================================\n",
      "Name: search_kor\n",
      "\n",
      "[Document(id='e2e42092-eb65-41f4-9986-f91005ee3607', metadata={'language': 'ko', 'company': '테슬라', 'source': 'data/테슬라_KR.md'}, page_content=\"[출처] 이 문서는 테슬라에 대한 문서입니다.\\n----------------------------------\\n### Roadster (2005–2009)\\n\\nElon Musk는 주류 차량으로 확장하기 전에 프리미엄 스포츠카로 시작하는 전략에 초점을 맞춰 적극적인 역할을 수행했습니다. 후속 자금 조달에는 Valor Equity Partners (2006)와 Sergey Brin, Larry Page, Jeff Skoll과 같은 기업가의 투자가 포함되었습니다.\\n\\n2007년 8월, Eberhard는 CEO에서 물러나라는 요청을 받았고, Tarpenning은 2008년 1월에 이어졌습니다. Michael Marks는 Ze'ev Drori가 인수하기 전에 임시 CEO를 역임했으며, Musk는 2008년 10월에 인수했습니다. Eberhard는 2009년 6월 Musk를 상대로 소송을 제기했지만 나중에 기각되었습니다.\"), Document(id='3a108f29-a4d1-42d9-bcef-8effa685ac74', metadata={'company': '테슬라', 'source': 'data/테슬라_KR.md', 'language': 'ko'}, page_content='[출처] 이 문서는 테슬라에 대한 문서입니다.\\n----------------------------------\\nTesla는 내부 고발자 보복, 근로자 권리 침해, 안전 결함, 홍보 부족, Musk의 논란의 여지가 있는 발언과 관련된 소송, 정부 조사 및 비판에 직면했습니다.\\n\\n## 역사\\n\\n### 창립 (2003–2004)\\n\\nTesla Motors, Inc.는 2003년 7월 1일에 Martin Eberhard와 Marc Tarpenning에 의해 설립되었으며, 각각 CEO와 CFO를 역임했습니다. Ian Wright는 얼마 지나지 않아 합류했습니다. 2004년 2월, Elon Musk는 750만 달러의 시리즈 A 자금 조달을 주도하여 회장 겸 최대 주주가 되었습니다. J. B. Straubel은 2004년 5월 CTO로 합류했습니다. 다섯 명 모두 공동 설립자로 인정받고 있습니다.\\n\\n### Roadster (2005–2009)')]\n",
      "==================================\u001b[1m Ai Message \u001b[0m==================================\n",
      "\n",
      "테슬라는 2003년 7월 1일에 설립되었습니다. 창립자는 Martin Eberhard와 Marc Tarpenning입니다. 이후 Elon Musk가 2004년에 투자하여 경영에 참여하게 되었습니다. [출처: 모델의 일반 지식 및 도구를 사용하여 얻은 정보]\n"
     ]
    }
   ],
   "source": [
    "# thred_id 설정\n",
    "config = {\"configurable\": {\"thread_id\": \"1\"}}\n",
    "\n",
    "# 초기 메시지 설정\n",
    "messages = [HumanMessage(content=\"테슬라의 설립 년도와 창업자는 누구인가요?\")]\n",
    "\n",
    "# 그래프 실행 및 결과 출력 (초기 메시지 사용)\n",
    "messages = graph_memory.invoke({\"messages\": messages}, config)\n",
    "for m in messages['messages']:\n",
    "    m.pretty_print()"
   ]
  },
  {
   "cell_type": "markdown",
   "metadata": {},
   "source": [
    "---\n",
    "\n",
    "### 2. **메시지 관리하기**\n",
    "\n",
    "- **긴 대화 기록**은 LLM의 컨텍스트 윈도우 제한으로 인한 오류나 성능 저하를 초래함\n",
    "\n",
    "- 메모리 관리는 **정확성**과 **응답 시간**, **비용** 사이의 균형이 필요함\n",
    "\n",
    "- 주요 해결책으로 **메시지 목록 편집**과 **과거 대화 요약**이 있음"
   ]
  },
  {
   "cell_type": "markdown",
   "metadata": {},
   "source": [
    "`(1) 긴 대화 관리 - 직접 메시지 삭제 방식`\n",
    "\n",
    "- **컨텍스트 제한**으로 인해 LLM이 처리할 수 있는 메시지 길이에 제약이 있음\n",
    "- 효율적인 **토큰 관리**를 통해 비용을 절감하고 시스템 성능을 최적화할 수 있음\n",
    "- 신속한 **응답 속도**를 위해 메시지 길이와 복잡성 조절이 필수적임"
   ]
  },
  {
   "cell_type": "code",
   "execution_count": 26,
   "metadata": {},
   "outputs": [],
   "source": [
    "from langgraph.graph import MessagesState, StateGraph, START, END\n",
    "from langchain_core.messages import HumanMessage, SystemMessage, ToolMessage\n",
    "from langgraph.prebuilt import ToolNode\n",
    "from IPython.display import Image, display\n",
    "from langchain_openai import ChatOpenAI\n",
    "from langgraph.prebuilt import tools_condition\n",
    "from typing import Union, Annotated\n",
    "from langgraph.checkpoint.memory import MemorySaver\n",
    "\n",
    "\n",
    "# 메시지 관리자 정의 (리듀서)\n",
    "def manage_list(existing: list, updates: Union[list, dict]):\n",
    "\n",
    "    # 업데이트가 리스트인 경우: 기존 메시지에 추가\n",
    "    if isinstance(updates, list):\n",
    "        return existing + updates\n",
    "    \n",
    "    # 업데이트가 딕셔너리인 경우: 메시지 관리 작업 수행\n",
    "    elif isinstance(updates, dict) and updates[\"type\"] == \"keep\":\n",
    "\n",
    "        # 지정된 범위의 메시지만 선택 (from ~ to)\n",
    "        recent_messages = existing[updates[\"from\"]:updates[\"to\"]]\n",
    "        \n",
    "        # tool call과 response 쌍 찾기 + 일반 메시지 선별\n",
    "        kept_indices = set()\n",
    "        \n",
    "        for i, msg in enumerate(recent_messages):\n",
    "            if hasattr(msg, 'tool_calls') and msg.tool_calls:\n",
    "                if i+1 < len(recent_messages) and isinstance(recent_messages[i+1], ToolMessage):\n",
    "                    # tool 쌍의 인덱스 저장\n",
    "                    kept_indices.add(i)\n",
    "                    kept_indices.add(i+1)\n",
    "            elif not isinstance(msg, ToolMessage):\n",
    "                # 일반 메시지 인덱스 저장\n",
    "                kept_indices.add(i)\n",
    "                \n",
    "        # 원본 순서 유지하면서 선택된 메시지만 반환\n",
    "        return [msg for i, msg in enumerate(recent_messages) if i in kept_indices]\n",
    "        \n",
    "    return existing\n",
    "\n",
    "\n",
    "# LangGraph MessagesState 사용\n",
    "class GraphState(MessagesState):\n",
    "    messages: Annotated[list, manage_list]  # 메시지 관리자 리듀서 사용"
   ]
  },
  {
   "cell_type": "code",
   "execution_count": 27,
   "metadata": {},
   "outputs": [],
   "source": [
    "# 메시지 관리 노드\n",
    "def message_manager(state: GraphState):\n",
    "    # 최근 5개 메시지만 유지\n",
    "    return {\n",
    "        \"messages\": {\"type\": \"keep\", \"from\": -5, \"to\": None}\n",
    "    }\n",
    "\n",
    "# LLM 모델에 도구를 바인딩 \n",
    "llm = ChatOpenAI(model=\"gpt-4o-mini\")\n",
    "tools = [search_menu, search_wine]\n",
    "llm_with_tools = llm.bind_tools(tools=tools)\n",
    "\n",
    "\n",
    "# 에이전트 실행 노드 \n",
    "def call_model(state: GraphState):\n",
    "    system_prompt = SystemMessage(\"\"\"You are a helpful AI assistant. Please respond to the user's query to the best of your ability!\n",
    "\n",
    "중요: 답변을 제공할 때 반드시 정보의 출처를 명시해야 합니다. 출처는 다음과 같이 표시하세요:\n",
    "- 도구를 사용하여 얻은 정보: [도구: 도구이름]\n",
    "- 모델의 일반 지식에 기반한 정보: [일반 지식]\n",
    "\n",
    "항상 정확하고 관련성 있는 정보를 제공하되, 확실하지 않은 경우 그 사실을 명시하세요. 출처를 명확히 표시함으로써 사용자가 정보의 신뢰성을 판단할 수 있도록 해주세요.\"\"\")\n",
    "    \n",
    "    # 시스템 메시지와 이전 메시지를 결합하여 모델 호출\n",
    "    messages = [system_prompt] + state['messages']\n",
    "    response = llm_with_tools.invoke(messages)\n",
    "\n",
    "    # 메시지 리스트로 반환하고 상태 업데이트 \n",
    "    return {\n",
    "        \"messages\": [response]\n",
    "    }"
   ]
  },
  {
   "cell_type": "code",
   "execution_count": 28,
   "metadata": {},
   "outputs": [
    {
     "data": {
      "image/png": "[encoded data removed]",
      "text/plain": [
       "<IPython.core.display.Image object>"
      ]
     },
     "metadata": {},
     "output_type": "display_data"
    }
   ],
   "source": [
    "# 그래프 구성\n",
    "builder = StateGraph(GraphState)\n",
    "\n",
    "builder.add_node(\"agent\", call_model) \n",
    "builder.add_node(\"tools\", ToolNode(tools))\n",
    "builder.add_node(\"message_manager\", message_manager)\n",
    "\n",
    "builder.add_edge(START, \"message_manager\")\n",
    "builder.add_edge(\"message_manager\", \"agent\")\n",
    "\n",
    "# tools_condition을 사용한 조건부 엣지 추가\n",
    "builder.add_conditional_edges(\n",
    "    \"agent\",\n",
    "    tools_condition,\n",
    ")\n",
    "\n",
    "builder.add_edge(\"tools\", \"agent\")\n",
    "\n",
    "# 메모리 저장소 생성\n",
    "memory = MemorySaver()\n",
    "\n",
    "# 메모리 저장소를 지정하여 그래프 컴파일\n",
    "graph_memory_trimmer = builder.compile(checkpointer=memory)\n",
    "\n",
    "# 그래프 출력\n",
    "display(Image(graph_memory_trimmer.get_graph().draw_mermaid_png()))"
   ]
  },
  {
   "cell_type": "code",
   "execution_count": 29,
   "metadata": {},
   "outputs": [
    {
     "name": "stdout",
     "output_type": "stream",
     "text": [
      "================================\u001b[1m Human Message \u001b[0m=================================\n",
      "\n",
      "스테이크 메뉴의 가격은 얼마인가요\n",
      "==================================\u001b[1m Ai Message \u001b[0m==================================\n",
      "Tool Calls:\n",
      "  search_menu (call_C6KcFBvk2w7c40ch3fnzNaf1)\n",
      " Call ID: call_C6KcFBvk2w7c40ch3fnzNaf1\n",
      "  Args:\n",
      "    query: 스테이크\n",
      "=================================\u001b[1m Tool Message \u001b[0m=================================\n",
      "Name: search_menu\n",
      "\n",
      "[Document(id='9efd85c5-ec3a-462d-8557-0e5081c216a3', metadata={'source': './data/restaurant_menu.txt', 'menu_number': 26, 'menu_name': '샤토브리앙 스테이크'}, page_content='26. 샤토브리앙 스테이크\\n    • 가격: ₩42,000\\n    • 주요 식재료: 프리미엄 안심 스테이크, 푸아그라, 트러플 소스\\n    • 설명: 최상급 안심 스테이크에 푸아그라를 올리고 트러플 소스를 곁들인 클래식 프렌치 요리입니다. 부드러운 육질과 깊은 풍미가 특징이며, 그린 아스파라거스와 감자 그라탕을 함께 제공합니다.'), Document(id='830640c9-399e-4d43-8d53-5abee32b8cf1', metadata={'source': './data/restaurant_menu.txt', 'menu_name': '안심 스테이크 샐러드', 'menu_number': 8}, page_content='8. 안심 스테이크 샐러드\\n   • 가격: ₩26,000\\n   • 주요 식재료: 소고기 안심, 루꼴라, 체리 토마토, 발사믹 글레이즈\\n   • 설명: 부드러운 안심 스테이크를 얇게 슬라이스하여 신선한 루꼴라 위에 올린 메인 요리 샐러드입니다. 체리 토마토와 파마산 치즈 플레이크로 풍미를 더하고, 발사믹 글레이즈로 마무리하여 고기의 풍미를 한층 끌어올렸습니다.')]\n",
      "==================================\u001b[1m Ai Message \u001b[0m==================================\n",
      "\n",
      "스테이크 메뉴의 가격은 다음과 같습니다:\n",
      "\n",
      "1. **샤토브리앙 스테이크**: ₩42,000\n",
      "   - 주요 식재료: 프리미엄 안심 스테이크, 푸아그라, 트러플 소스\n",
      "   - 설명: 최상급 안심 스테이크에 푸아그라를 올리고 트러플 소스를 곁들인 클래식 프렌치 요리입니다. 부드러운 육질과 깊은 풍미가 특징이며, 그린 아스파라거스와 감자 그라탕을 함께 제공합니다.\n",
      "\n",
      "2. **안심 스테이크 샐러드**: ₩26,000\n",
      "   - 주요 식재료: 소고기 안심, 루꼴라, 체리 토마토, 발사믹 글레이즈\n",
      "   - 설명: 부드러운 안심 스테이크를 얇게 슬라이스하여 신선한 루꼴라 위에 올린 메인 요리 샐러드입니다. 체리 토마토와 파마산 치즈 플레이크로 풍미를 더하고, 발사믹 글레이즈로 마무리하여 고기의 풍미를 한층 끌어올렸습니다.\n",
      "\n",
      "정보 출처: [도구: search_menu]\n"
     ]
    }
   ],
   "source": [
    "# thred_id 설정\n",
    "config = {\"configurable\": {\"thread_id\": \"1\"}}\n",
    "\n",
    "# 초기 메시지 설정\n",
    "messages = [HumanMessage(content=\"스테이크 메뉴의 가격은 얼마인가요\")]\n",
    "\n",
    "# 그래프 실행 및 결과 출력 (초기 메시지 사용)\n",
    "messages = graph_memory_trimmer.invoke({\"messages\": messages}, config)\n",
    "for m in messages['messages']:\n",
    "    m.pretty_print()"
   ]
  },
  {
   "cell_type": "code",
   "execution_count": 30,
   "metadata": {},
   "outputs": [
    {
     "name": "stdout",
     "output_type": "stream",
     "text": [
      "================================\u001b[1m Human Message \u001b[0m=================================\n",
      "\n",
      "스테이크 메뉴의 가격은 얼마인가요\n",
      "==================================\u001b[1m Ai Message \u001b[0m==================================\n",
      "Tool Calls:\n",
      "  search_menu (call_C6KcFBvk2w7c40ch3fnzNaf1)\n",
      " Call ID: call_C6KcFBvk2w7c40ch3fnzNaf1\n",
      "  Args:\n",
      "    query: 스테이크\n",
      "=================================\u001b[1m Tool Message \u001b[0m=================================\n",
      "Name: search_menu\n",
      "\n",
      "[Document(id='9efd85c5-ec3a-462d-8557-0e5081c216a3', metadata={'source': './data/restaurant_menu.txt', 'menu_number': 26, 'menu_name': '샤토브리앙 스테이크'}, page_content='26. 샤토브리앙 스테이크\\n    • 가격: ₩42,000\\n    • 주요 식재료: 프리미엄 안심 스테이크, 푸아그라, 트러플 소스\\n    • 설명: 최상급 안심 스테이크에 푸아그라를 올리고 트러플 소스를 곁들인 클래식 프렌치 요리입니다. 부드러운 육질과 깊은 풍미가 특징이며, 그린 아스파라거스와 감자 그라탕을 함께 제공합니다.'), Document(id='830640c9-399e-4d43-8d53-5abee32b8cf1', metadata={'source': './data/restaurant_menu.txt', 'menu_name': '안심 스테이크 샐러드', 'menu_number': 8}, page_content='8. 안심 스테이크 샐러드\\n   • 가격: ₩26,000\\n   • 주요 식재료: 소고기 안심, 루꼴라, 체리 토마토, 발사믹 글레이즈\\n   • 설명: 부드러운 안심 스테이크를 얇게 슬라이스하여 신선한 루꼴라 위에 올린 메인 요리 샐러드입니다. 체리 토마토와 파마산 치즈 플레이크로 풍미를 더하고, 발사믹 글레이즈로 마무리하여 고기의 풍미를 한층 끌어올렸습니다.')]\n",
      "==================================\u001b[1m Ai Message \u001b[0m==================================\n",
      "\n",
      "스테이크 메뉴의 가격은 다음과 같습니다:\n",
      "\n",
      "1. **샤토브리앙 스테이크**: ₩42,000\n",
      "   - 주요 식재료: 프리미엄 안심 스테이크, 푸아그라, 트러플 소스\n",
      "   - 설명: 최상급 안심 스테이크에 푸아그라를 올리고 트러플 소스를 곁들인 클래식 프렌치 요리입니다. 부드러운 육질과 깊은 풍미가 특징이며, 그린 아스파라거스와 감자 그라탕을 함께 제공합니다.\n",
      "\n",
      "2. **안심 스테이크 샐러드**: ₩26,000\n",
      "   - 주요 식재료: 소고기 안심, 루꼴라, 체리 토마토, 발사믹 글레이즈\n",
      "   - 설명: 부드러운 안심 스테이크를 얇게 슬라이스하여 신선한 루꼴라 위에 올린 메인 요리 샐러드입니다. 체리 토마토와 파마산 치즈 플레이크로 풍미를 더하고, 발사믹 글레이즈로 마무리하여 고기의 풍미를 한층 끌어올렸습니다.\n",
      "\n",
      "정보 출처: [도구: search_menu]\n",
      "================================\u001b[1m Human Message \u001b[0m=================================\n",
      "\n",
      "둘 중에 더 저렴한 메뉴는 무엇인가요?\n",
      "==================================\u001b[1m Ai Message \u001b[0m==================================\n",
      "\n",
      "둘 중에 더 저렴한 메뉴는 **안심 스테이크 샐러드**로, 가격은 ₩26,000입니다. 반면, **샤토브리앙 스테이크**는 ₩42,000입니다. \n",
      "\n",
      "정보 출처: [도구: search_menu]\n"
     ]
    }
   ],
   "source": [
    "# thred_id 설정 유지한 상태에서 다른 메시지로 그래프 실행\n",
    "config = {\"configurable\": {\"thread_id\": \"1\"}}\n",
    "messages = [HumanMessage(content=\"둘 중에 더 저렴한 메뉴는 무엇인가요?\")]\n",
    "\n",
    "# 그래프 실행 및 결과 출력 \n",
    "messages = graph_memory_trimmer.invoke({\"messages\": messages}, config)\n",
    "for m in messages['messages']:\n",
    "    m.pretty_print()"
   ]
  },
  {
   "cell_type": "code",
   "execution_count": 31,
   "metadata": {},
   "outputs": [
    {
     "name": "stdout",
     "output_type": "stream",
     "text": [
      "==================================\u001b[1m Ai Message \u001b[0m==================================\n",
      "\n",
      "스테이크 메뉴의 가격은 다음과 같습니다:\n",
      "\n",
      "1. **샤토브리앙 스테이크**: ₩42,000\n",
      "   - 주요 식재료: 프리미엄 안심 스테이크, 푸아그라, 트러플 소스\n",
      "   - 설명: 최상급 안심 스테이크에 푸아그라를 올리고 트러플 소스를 곁들인 클래식 프렌치 요리입니다. 부드러운 육질과 깊은 풍미가 특징이며, 그린 아스파라거스와 감자 그라탕을 함께 제공합니다.\n",
      "\n",
      "2. **안심 스테이크 샐러드**: ₩26,000\n",
      "   - 주요 식재료: 소고기 안심, 루꼴라, 체리 토마토, 발사믹 글레이즈\n",
      "   - 설명: 부드러운 안심 스테이크를 얇게 슬라이스하여 신선한 루꼴라 위에 올린 메인 요리 샐러드입니다. 체리 토마토와 파마산 치즈 플레이크로 풍미를 더하고, 발사믹 글레이즈로 마무리하여 고기의 풍미를 한층 끌어올렸습니다.\n",
      "\n",
      "정보 출처: [도구: search_menu]\n",
      "================================\u001b[1m Human Message \u001b[0m=================================\n",
      "\n",
      "둘 중에 더 저렴한 메뉴는 무엇인가요?\n",
      "==================================\u001b[1m Ai Message \u001b[0m==================================\n",
      "\n",
      "둘 중에 더 저렴한 메뉴는 **안심 스테이크 샐러드**로, 가격은 ₩26,000입니다. 반면, **샤토브리앙 스테이크**는 ₩42,000입니다. \n",
      "\n",
      "정보 출처: [도구: search_menu]\n",
      "================================\u001b[1m Human Message \u001b[0m=================================\n",
      "\n",
      "이 메뉴와 곁들이면 좋은 다른 메뉴가 있나요?\n",
      "==================================\u001b[1m Ai Message \u001b[0m==================================\n",
      "Tool Calls:\n",
      "  search_menu (call_YX3JXsWlMFGRKA2WxEF4xaoE)\n",
      " Call ID: call_YX3JXsWlMFGRKA2WxEF4xaoE\n",
      "  Args:\n",
      "    query: 안심 스테이크 샐러드\n",
      "    k: 3\n",
      "=================================\u001b[1m Tool Message \u001b[0m=================================\n",
      "Name: search_menu\n",
      "\n",
      "[Document(id='830640c9-399e-4d43-8d53-5abee32b8cf1', metadata={'source': './data/restaurant_menu.txt', 'menu_number': 8, 'menu_name': '안심 스테이크 샐러드'}, page_content='8. 안심 스테이크 샐러드\\n   • 가격: ₩26,000\\n   • 주요 식재료: 소고기 안심, 루꼴라, 체리 토마토, 발사믹 글레이즈\\n   • 설명: 부드러운 안심 스테이크를 얇게 슬라이스하여 신선한 루꼴라 위에 올린 메인 요리 샐러드입니다. 체리 토마토와 파마산 치즈 플레이크로 풍미를 더하고, 발사믹 글레이즈로 마무리하여 고기의 풍미를 한층 끌어올렸습니다.'), Document(id='9efd85c5-ec3a-462d-8557-0e5081c216a3', metadata={'source': './data/restaurant_menu.txt', 'menu_name': '샤토브리앙 스테이크', 'menu_number': 26}, page_content='26. 샤토브리앙 스테이크\\n    • 가격: ₩42,000\\n    • 주요 식재료: 프리미엄 안심 스테이크, 푸아그라, 트러플 소스\\n    • 설명: 최상급 안심 스테이크에 푸아그라를 올리고 트러플 소스를 곁들인 클래식 프렌치 요리입니다. 부드러운 육질과 깊은 풍미가 특징이며, 그린 아스파라거스와 감자 그라탕을 함께 제공합니다.'), Document(id='02b32bf0-d473-4b0b-8a4f-700643f5180e', metadata={'menu_number': 1, 'menu_name': '시그니처 스테이크', 'source': './data/restaurant_menu.txt'}, page_content='1. 시그니처 스테이크\\n   • 가격: ₩35,000\\n   • 주요 식재료: 최상급 한우 등심, 로즈메리 감자, 그릴드 아스파라거스\\n   • 설명: 셰프의 특제 시그니처 메뉴로, 21일간 건조 숙성한 최상급 한우 등심을 사용합니다. 미디엄 레어로 조리하여 육즙을 최대한 보존하며, 로즈메리 향의 감자와 아삭한 그릴드 아스파라거스가 곁들여집니다. 레드와인 소스와 함께 제공되어 풍부한 맛을 더합니다.')]\n",
      "==================================\u001b[1m Ai Message \u001b[0m==================================\n",
      "\n",
      "안심 스테이크 샐러드와 곁들이면 좋은 메뉴로는 **시그니처 스테이크**가 있습니다. \n",
      "\n",
      "- **시그니처 스테이크**\n",
      "  - 가격: ₩35,000\n",
      "  - 주요 식재료: 최상급 한우 등심, 로즈메리 감자, 그릴드 아스파라거스\n",
      "  - 설명: 21일간 건조 숙성한 최상급 한우 등심을 미디엄 레어로 조리하여 육즙을 최대한 보존하며, 로즈메리 향의 감자와 아삭한 그릴드 아스파라거스가 곁들여집니다. 레드와인 소스와 함께 제공되어 풍부한 맛을 더합니다.\n",
      "\n",
      "이 메뉴는 안심 스테이크 샐러드와 잘 어울리며, 전체적인 식사의 풍미를 한층 끌어올릴 수 있습니다.\n",
      "\n",
      "정보 출처: [도구: search_menu]\n"
     ]
    }
   ],
   "source": [
    "# thred_id 설정 유지한 상태에서 다른 메시지로 그래프 실행\n",
    "config = {\"configurable\": {\"thread_id\": \"1\"}}\n",
    "messages = [HumanMessage(content=\"이 메뉴와 곁들이면 좋은 다른 메뉴가 있나요?\")]\n",
    "\n",
    "# 그래프 실행 및 결과 출력\n",
    "messages = graph_memory_trimmer.invoke({\"messages\": messages}, config)\n",
    "for m in messages['messages']:\n",
    "    m.pretty_print()"
   ]
  },
  {
   "cell_type": "markdown",
   "metadata": {},
   "source": [
    "`(4) 긴 대화 관리 - RemoveMessage를 사용한 메시지 삭제 방식`\n",
    "\n",
    "- **메시지 삭제 방식**은 삭제할 메시지의 ID를 지정하는 \"remove\" 객체 목록을 반환함\n",
    "- **LangGraph**의 `MessagesState`는 `RemoveMessage` 기능을 활용하여 메시지를 제거"
   ]
  },
  {
   "cell_type": "code",
   "execution_count": 32,
   "metadata": {},
   "outputs": [
    {
     "data": {
      "image/png": "[encoded data removed]",
      "text/plain": [
       "<IPython.core.display.Image object>"
      ]
     },
     "metadata": {},
     "output_type": "display_data"
    }
   ],
   "source": [
    "from langgraph.graph import MessagesState, StateGraph, START, END\n",
    "from langchain_core.messages import HumanMessage, SystemMessage, AIMessage, ToolMessage, RemoveMessage\n",
    "from langgraph.prebuilt import ToolNode\n",
    "from IPython.display import Image, display\n",
    "from langchain_openai import ChatOpenAI\n",
    "from langgraph.prebuilt import tools_condition\n",
    "\n",
    "# LangGraph MessagesState 사용\n",
    "class GraphState(MessagesState):\n",
    "    ...\n",
    "\n",
    "# LLM 모델에 도구를 바인딩 \n",
    "llm = ChatOpenAI(model=\"gpt-4o-mini\")\n",
    "tools = [search_menu, search_wine]\n",
    "llm_with_tools = llm.bind_tools(tools=tools)\n",
    "\n",
    "\n",
    "# 노드 함수 정의\n",
    "def call_model(state: GraphState):\n",
    "    system_prompt = SystemMessage(\"\"\"You are a helpful AI assistant. Please respond to the user's query to the best of your ability!\n",
    "\n",
    "    중요: 답변을 제공할 때 반드시 정보의 출처를 명시해야 합니다. 출처는 다음과 같이 표시하세요:\n",
    "    - 도구를 사용하여 얻은 정보: [도구: 도구이름]\n",
    "    - 모델의 일반 지식에 기반한 정보: [일반 지식]\n",
    "\n",
    "    항상 정확하고 관련성 있는 정보를 제공하되, 확실하지 않은 경우 그 사실을 명시하세요. 출처를 명확히 표시함으로써 사용자가 정보의 신뢰성을 판단할 수 있도록 해주세요.\"\"\")\n",
    "    \n",
    "    # 시스템 메시지와 이전 메시지를 결합하여 모델 호출\n",
    "    response = llm_with_tools.invoke([system_prompt]+state['messages'])\n",
    "\n",
    "    messages = state['messages']\n",
    "    keep_count = 3  # 유지할 최근 메시지 개수\n",
    "    \n",
    "    # 삭제할 메시지 인덱스 계산\n",
    "    delete_up_to = max(0, len(messages) - keep_count)\n",
    "    \n",
    "    # 삭제할 메시지들의 인덱스 조정 (도구 호출/응답 쌍 고려)\n",
    "    if delete_up_to > 0:\n",
    "        # 삭제 지점이 도구 응답 메시지라면 도구 호출도 함께 삭제되도록 인덱스 조정\n",
    "        if (delete_up_to < len(messages) and \n",
    "            isinstance(messages[delete_up_to], ToolMessage)):\n",
    "            delete_up_to -= 1\n",
    "            \n",
    "        # 반대로 삭제 지점이 도구 호출이라면 도구 응답도 함께 삭제되도록 인덱스 조정  \n",
    "        elif (delete_up_to < len(messages) and\n",
    "                hasattr(messages[delete_up_to], 'tool_calls') and \n",
    "                messages[delete_up_to].tool_calls and\n",
    "                delete_up_to + 1 < len(messages) and\n",
    "                isinstance(messages[delete_up_to + 1], ToolMessage)):\n",
    "            delete_up_to += 1\n",
    "\n",
    "    # 삭제할 메시지들의 RemoveMessage 생성\n",
    "    delete_messages = [\n",
    "        RemoveMessage(id=msg.id) \n",
    "        for msg in messages[:delete_up_to]\n",
    "    ]\n",
    "    \n",
    "    # 새로운 응답 메시지와 함께 반환\n",
    "    return {\"messages\": delete_messages + [response]}\n",
    "\n",
    "\n",
    "# 그래프 구성\n",
    "builder = StateGraph(GraphState)\n",
    "\n",
    "builder.add_node(\"agent\", call_model)\n",
    "builder.add_node(\"tools\", ToolNode(tools))\n",
    "builder.add_edge(START, \"agent\")\n",
    "\n",
    "# tools_condition을 사용한 조건부 엣지 추가\n",
    "builder.add_conditional_edges(\n",
    "    \"agent\",\n",
    "    tools_condition,\n",
    ")\n",
    "\n",
    "builder.add_edge(\"tools\", \"agent\")\n",
    "\n",
    "# 메모리 저장소 생성\n",
    "memory = MemorySaver()\n",
    "\n",
    "# 메모리 저장소를 지정하여 그래프 컴파일\n",
    "graph_memory_remover = builder.compile(checkpointer=memory)\n",
    "\n",
    "# 그래프 출력\n",
    "display(Image(graph_memory_remover.get_graph().draw_mermaid_png()))"
   ]
  },
  {
   "cell_type": "code",
   "execution_count": 33,
   "metadata": {},
   "outputs": [
    {
     "name": "stdout",
     "output_type": "stream",
     "text": [
      "================================\u001b[1m Human Message \u001b[0m=================================\n",
      "\n",
      "스테이크 메뉴의 가격은 얼마인가요\n",
      "==================================\u001b[1m Ai Message \u001b[0m==================================\n",
      "Tool Calls:\n",
      "  search_menu (call_pGHKqsxulipT4GEJ2zBYPv0l)\n",
      " Call ID: call_pGHKqsxulipT4GEJ2zBYPv0l\n",
      "  Args:\n",
      "    query: 스테이크\n",
      "=================================\u001b[1m Tool Message \u001b[0m=================================\n",
      "Name: search_menu\n",
      "\n",
      "[Document(id='9efd85c5-ec3a-462d-8557-0e5081c216a3', metadata={'menu_name': '샤토브리앙 스테이크', 'menu_number': 26, 'source': './data/restaurant_menu.txt'}, page_content='26. 샤토브리앙 스테이크\\n    • 가격: ₩42,000\\n    • 주요 식재료: 프리미엄 안심 스테이크, 푸아그라, 트러플 소스\\n    • 설명: 최상급 안심 스테이크에 푸아그라를 올리고 트러플 소스를 곁들인 클래식 프렌치 요리입니다. 부드러운 육질과 깊은 풍미가 특징이며, 그린 아스파라거스와 감자 그라탕을 함께 제공합니다.'), Document(id='830640c9-399e-4d43-8d53-5abee32b8cf1', metadata={'menu_number': 8, 'menu_name': '안심 스테이크 샐러드', 'source': './data/restaurant_menu.txt'}, page_content='8. 안심 스테이크 샐러드\\n   • 가격: ₩26,000\\n   • 주요 식재료: 소고기 안심, 루꼴라, 체리 토마토, 발사믹 글레이즈\\n   • 설명: 부드러운 안심 스테이크를 얇게 슬라이스하여 신선한 루꼴라 위에 올린 메인 요리 샐러드입니다. 체리 토마토와 파마산 치즈 플레이크로 풍미를 더하고, 발사믹 글레이즈로 마무리하여 고기의 풍미를 한층 끌어올렸습니다.')]\n",
      "==================================\u001b[1m Ai Message \u001b[0m==================================\n",
      "\n",
      "스테이크 메뉴의 가격은 다음과 같습니다:\n",
      "\n",
      "1. **샤토브리앙 스테이크**: ₩42,000\n",
      "   - 주요 식재료: 프리미엄 안심 스테이크, 푸아그라, 트러플 소스\n",
      "   - 설명: 최상급 안심 스테이크에 푸아그라를 올리고 트러플 소스를 곁들인 클래식 프렌치 요리로, 부드러운 육질과 깊은 풍미가 특징입니다.\n",
      "\n",
      "2. **안심 스테이크 샐러드**: ₩26,000\n",
      "   - 주요 식재료: 소고기 안심, 루꼴라, 체리 토마토, 발사믹 글레이즈\n",
      "   - 설명: 부드러운 안심 스테이크를 얇게 슬라이스하여 신선한 루꼴라 위에 올린 샐러드로, 체리 토마토와 파마산 치즈 플레이크로 풍미를 더하고 발사믹 글레이즈로 마무리합니다.\n",
      "\n",
      "출처는 메뉴 데이터베이스에서 확인한 정보입니다. [도구: functions.search_menu]\n"
     ]
    }
   ],
   "source": [
    "# thred_id 설정\n",
    "config = {\"configurable\": {\"thread_id\": \"1\"}}\n",
    "messages = [HumanMessage(content=\"스테이크 메뉴의 가격은 얼마인가요\")]\n",
    "\n",
    "# 그래프 실행 및 결과 출력 (초기 메시지 사용)\n",
    "messages = graph_memory_remover.invoke({\"messages\": messages}, config)\n",
    "\n",
    "for m in messages['messages']:\n",
    "    m.pretty_print()"
   ]
  },
  {
   "cell_type": "code",
   "execution_count": 34,
   "metadata": {},
   "outputs": [
    {
     "name": "stdout",
     "output_type": "stream",
     "text": [
      "==================================\u001b[1m Ai Message \u001b[0m==================================\n",
      "Tool Calls:\n",
      "  search_menu (call_pGHKqsxulipT4GEJ2zBYPv0l)\n",
      " Call ID: call_pGHKqsxulipT4GEJ2zBYPv0l\n",
      "  Args:\n",
      "    query: 스테이크\n",
      "=================================\u001b[1m Tool Message \u001b[0m=================================\n",
      "Name: search_menu\n",
      "\n",
      "[Document(id='9efd85c5-ec3a-462d-8557-0e5081c216a3', metadata={'menu_name': '샤토브리앙 스테이크', 'menu_number': 26, 'source': './data/restaurant_menu.txt'}, page_content='26. 샤토브리앙 스테이크\\n    • 가격: ₩42,000\\n    • 주요 식재료: 프리미엄 안심 스테이크, 푸아그라, 트러플 소스\\n    • 설명: 최상급 안심 스테이크에 푸아그라를 올리고 트러플 소스를 곁들인 클래식 프렌치 요리입니다. 부드러운 육질과 깊은 풍미가 특징이며, 그린 아스파라거스와 감자 그라탕을 함께 제공합니다.'), Document(id='830640c9-399e-4d43-8d53-5abee32b8cf1', metadata={'menu_number': 8, 'menu_name': '안심 스테이크 샐러드', 'source': './data/restaurant_menu.txt'}, page_content='8. 안심 스테이크 샐러드\\n   • 가격: ₩26,000\\n   • 주요 식재료: 소고기 안심, 루꼴라, 체리 토마토, 발사믹 글레이즈\\n   • 설명: 부드러운 안심 스테이크를 얇게 슬라이스하여 신선한 루꼴라 위에 올린 메인 요리 샐러드입니다. 체리 토마토와 파마산 치즈 플레이크로 풍미를 더하고, 발사믹 글레이즈로 마무리하여 고기의 풍미를 한층 끌어올렸습니다.')]\n",
      "==================================\u001b[1m Ai Message \u001b[0m==================================\n",
      "\n",
      "스테이크 메뉴의 가격은 다음과 같습니다:\n",
      "\n",
      "1. **샤토브리앙 스테이크**: ₩42,000\n",
      "   - 주요 식재료: 프리미엄 안심 스테이크, 푸아그라, 트러플 소스\n",
      "   - 설명: 최상급 안심 스테이크에 푸아그라를 올리고 트러플 소스를 곁들인 클래식 프렌치 요리로, 부드러운 육질과 깊은 풍미가 특징입니다.\n",
      "\n",
      "2. **안심 스테이크 샐러드**: ₩26,000\n",
      "   - 주요 식재료: 소고기 안심, 루꼴라, 체리 토마토, 발사믹 글레이즈\n",
      "   - 설명: 부드러운 안심 스테이크를 얇게 슬라이스하여 신선한 루꼴라 위에 올린 샐러드로, 체리 토마토와 파마산 치즈 플레이크로 풍미를 더하고 발사믹 글레이즈로 마무리합니다.\n",
      "\n",
      "출처는 메뉴 데이터베이스에서 확인한 정보입니다. [도구: functions.search_menu]\n",
      "================================\u001b[1m Human Message \u001b[0m=================================\n",
      "\n",
      "둘 중에 더 저렴한 메뉴는 무엇인가요?\n",
      "==================================\u001b[1m Ai Message \u001b[0m==================================\n",
      "\n",
      "더 저렴한 메뉴는 **안심 스테이크 샐러드**로, 가격은 ₩26,000입니다. 반면 **샤토브리앙 스테이크**는 ₩42,000입니다. \n",
      "\n",
      "따라서, 안심 스테이크 샐러드가 더 저렴합니다.\n"
     ]
    }
   ],
   "source": [
    "# thred_id 설정 유지한 상태에서 다른 메시지로 그래프 실행\n",
    "config = {\"configurable\": {\"thread_id\": \"1\"}}\n",
    "\n",
    "messages = [HumanMessage(content=\"둘 중에 더 저렴한 메뉴는 무엇인가요?\")]\n",
    "\n",
    "# 그래프 실행 및 결과 출력\n",
    "messages = graph_memory_remover.invoke({\"messages\": messages}, config)\n",
    "\n",
    "for m in messages['messages']:\n",
    "    m.pretty_print()\n",
    "    "
   ]
  },
  {
   "cell_type": "code",
   "execution_count": 35,
   "metadata": {},
   "outputs": [
    {
     "name": "stdout",
     "output_type": "stream",
     "text": [
      "================================\u001b[1m Human Message \u001b[0m=================================\n",
      "\n",
      "이 메뉴와 곁들이면 좋은 다른 메뉴가 있나요?\n",
      "==================================\u001b[1m Ai Message \u001b[0m==================================\n",
      "Tool Calls:\n",
      "  search_menu (call_VGzmoXRcpC9KJNB6ceSTWAzs)\n",
      " Call ID: call_VGzmoXRcpC9KJNB6ceSTWAzs\n",
      "  Args:\n",
      "    query: 사이드\n",
      "=================================\u001b[1m Tool Message \u001b[0m=================================\n",
      "Name: search_menu\n",
      "\n",
      "[Document(id='a5abc408-f7ef-4072-aa06-678cca0e4476', metadata={'source': './data/restaurant_menu.txt', 'menu_number': 18, 'menu_name': '시푸드 플래터'}, page_content='18. 시푸드 플래터\\n    • 가격: ₩58,000\\n    • 주요 식재료: 랍스터, 전복, 대하, 굴, 홍합\\n    • 설명: 최상급 해산물을 한 접시에 모은 특선 플래터입니다. 신선한 랍스터와 전복, 대하, 굴, 홍합을 셰프의 특제 소스로 조리하여 제공합니다. 2-3인이 충분히 즐길 수 있는 양으로, 화이트 와인과 잘 어울립니다.'), Document(id='9d2e873d-cd62-4d36-ad8d-1d24adbb9f35', metadata={'source': './data/restaurant_menu.txt', 'menu_name': '가든 샐러드', 'menu_number': 5}, page_content='5. 가든 샐러드\\n   • 가격: ₩12,000\\n   • 주요 식재료: 유기농 믹스 그린, 체리 토마토, 오이, 당근, 발사믹 드레싱\\n   • 설명: 신선한 유기농 채소들로 구성된 건강한 샐러드입니다. 아삭한 식감의 믹스 그린에 달콤한 체리 토마토, 오이, 당근을 더해 다양한 맛과 식감을 즐길 수 있습니다. 특제 발사믹 드레싱이 채소 본연의 맛을 살려줍니다.')]\n",
      "==================================\u001b[1m Ai Message \u001b[0m==================================\n",
      "\n",
      "안심 스테이크 샐러드와 곁들이면 좋은 몇 가지 메뉴가 있습니다:\n",
      "\n",
      "1. **가든 샐러드**\n",
      "   - 가격: ₩12,000\n",
      "   - 설명: 신선한 유기농 채소로 구성되며, 아삭한 식감의 믹스 그린에 달콤한 체리 토마토, 오이, 당근을 포함하여 다양한 맛과 식감을 즐길 수 있는 건강한 샐러드입니다.\n",
      "\n",
      "2. **시푸드 플래터**\n",
      "   - 가격: ₩58,000\n",
      "   - 설명: 최상급 해산물을 한 접시에 모은 특선 플래터로, 신선한 랍스터, 전복, 대하, 굴, 홍합이 포함되어 있습니다. 2-3인이 충분히 즐길 수 있는 양으로 화이트 와인과 잘 어울립니다.\n",
      "\n",
      "가든 샐러드는 상대적으로 저렴하고, 건강한 옵션으로 스테이크 샐러드와 잘 어울립니다. [출처: ./data/restaurant_menu.txt]\n"
     ]
    }
   ],
   "source": [
    "# thred_id 설정 유지한 상태에서 다른 메시지로 그래프 실행\n",
    "config = {\"configurable\": {\"thread_id\": \"1\"}}\n",
    "messages = [HumanMessage(content=\"이 메뉴와 곁들이면 좋은 다른 메뉴가 있나요?\")]\n",
    "\n",
    "# 그래프 실행 및 결과 출력\n",
    "messages = graph_memory_remover.invoke({\"messages\": messages}, config)\n",
    "for m in messages['messages']:\n",
    "    m.pretty_print()"
   ]
  },
  {
   "cell_type": "markdown",
   "metadata": {},
   "source": [
    "---\n",
    "\n",
    "### **[실습 2]** 선택적 메시지 제거\n",
    "\n",
    "특정 키워드가 포함된 메시지를 RemoveMessage를 사용하여 제거하는 함수를 구현하세요. 단, 시스템 메시지는 보존해야 합니다."
   ]
  },
  {
   "cell_type": "code",
   "execution_count": 36,
   "metadata": {},
   "outputs": [],
   "source": [
    "# 예시 데이터 \n",
    "messages = [\n",
    "    SystemMessage(content=\"시스템 지시사항\"),\n",
    "    HumanMessage(content=\"안녕하세요\"),\n",
    "    AIMessage(content=\"테스트 메시지입니다\"),\n",
    "    HumanMessage(content=\"테스트 응답입니다\")\n",
    "]\n",
    "keywords = [\"테스트\"]"
   ]
  },
  {
   "cell_type": "code",
   "execution_count": 37,
   "metadata": {},
   "outputs": [
    {
     "name": "stdout",
     "output_type": "stream",
     "text": [
      "================================\u001b[1m System Message \u001b[0m================================\n",
      "\n",
      "시스템 지시사항\n",
      "================================\u001b[1m Human Message \u001b[0m=================================\n",
      "\n",
      "안녕하세요\n"
     ]
    }
   ],
   "source": [
    "# 여기에 코드를 작성하세요. \n",
    "\n",
    "from typing import List\n",
    "from langgraph.graph import MessagesState, StateGraph, START, END\n",
    "from langgraph.checkpoint.memory import MemorySaver\n",
    "\n",
    "# 상태 스키마 정의 - keywords를 포함하도록 확장\n",
    "class GraphState(MessagesState):\n",
    "    keywords: List[str]  # keywords를 상태에 포함\n",
    "\n",
    "# 메시지 제거 함수 정의\n",
    "def remove_messages_with_keywords(state: GraphState):\n",
    "    \"\"\"키워드가 포함된 메시지 제거\"\"\"\n",
    "\n",
    "    # 상태에서 메시지와 키워드 추출\n",
    "    messages = state['messages']\n",
    "    keywords = state['keywords']\n",
    "\n",
    "    to_delete_messages = []\n",
    "    \n",
    "    for msg in messages:\n",
    "        # 시스템 메시지는 제외\n",
    "        if isinstance(msg, SystemMessage):\n",
    "            continue\n",
    "            \n",
    "        # 키워드 포함 여부 확인\n",
    "        if any(keyword in msg.content for keyword in keywords):\n",
    "            to_delete_messages.append(RemoveMessage(id=msg.id))\n",
    "            \n",
    "    return {\"messages\": to_delete_messages}\n",
    "\n",
    "# 그래프 구성\n",
    "builder = StateGraph(GraphState)\n",
    "builder.add_node(\"remove_messages\", remove_messages_with_keywords)\n",
    "builder.add_edge(START, \"remove_messages\")\n",
    "builder.add_edge(\"remove_messages\", END)\n",
    "\n",
    "# 메모리 저장소 생성 및 그래프 컴파일\n",
    "memory = MemorySaver()\n",
    "graph_remove_messages = builder.compile(checkpointer=memory)\n",
    "\n",
    "# 그래프 실행\n",
    "config = {\"configurable\": {\"thread_id\": \"1\"}}\n",
    "input_state = {\n",
    "    \"messages\": messages,  # 기존 메시지 리스트\n",
    "    \"keywords\": keywords  # 필터링할 키워드 리스트\n",
    "}\n",
    "\n",
    "result = graph_remove_messages.invoke(input_state, config)\n",
    "\n",
    "# 결과 출력\n",
    "for m in result['messages']:\n",
    "    m.pretty_print()"
   ]
  },
  {
   "cell_type": "code",
   "execution_count": 38,
   "metadata": {},
   "outputs": [
    {
     "name": "stdout",
     "output_type": "stream",
     "text": [
      "필터링된 메시지:\n",
      "================================\u001b[1m System Message \u001b[0m================================\n",
      "\n",
      "시스템 지시사항\n",
      "================================\u001b[1m Human Message \u001b[0m=================================\n",
      "\n",
      "안녕하세요\n"
     ]
    }
   ],
   "source": [
    "# 상태 확인\n",
    "current_state = graph_remove_messages.get_state(config=config)\n",
    "\n",
    "# 필터링된 메시지 확인\n",
    "filtered_messages = current_state.values.get(\"messages\")\n",
    "\n",
    "print(\"필터링된 메시지:\")\n",
    "for m in filtered_messages:\n",
    "    m.pretty_print()"
   ]
  },
  {
   "cell_type": "markdown",
   "metadata": {},
   "source": [
    "---\n",
    "\n",
    "## **장기 메모리 (Long-term Memory)**\n",
    "\n",
    "- **LangGraph 시스템**은 다중 세션에서 정보를 유지하는 장기 메모리 기능을 제공\n",
    "\n",
    "- 정보는 **JSON 문서** 형태로 저장되며, 사용자가 정의한 **네임스페이스**와 고유 키로 구성\n",
    "\n",
    "- 메모리 저장소는 **InMemoryStore** 또는 **DB 기반** 시스템을 선택하여 구현 가능\n",
    "\n",
    "- **콘텐츠 필터**를 통해 여러 네임스페이스 간의 효율적인 검색 가능"
   ]
  },
  {
   "cell_type": "markdown",
   "metadata": {},
   "source": [
    "---\n",
    "\n",
    "### 1. **InMemoryStore**\n",
    "\n",
    "- LangGraph에서 **스레드(대화) 간에 정보를 공유**하고 저장하기 위한 인터페이스\n",
    "\n",
    "- **namespace 기반 저장**: 메모리는 튜플 형태의 namespace로 구분되어 저장 (예: (user_id, \"memories\"))\n",
    "\n",
    "- **key-value 저장**: 각 메모리는 고유한 key와 dictionary 형태의 value로 저장\n",
    "\n",
    "- **시맨틱 검색 지원**: 임베딩 모델을 사용하여 의미 기반 검색이 가능\n",
    "\n",
    "- **체크포인터와 연동**: 그래프의 체크포인터와 함께 동작하여 스레드 간 정보 공유 가능"
   ]
  },
  {
   "cell_type": "markdown",
   "metadata": {},
   "source": [
    "`(1) 기본 사용법`"
   ]
  },
  {
   "cell_type": "code",
   "execution_count": 39,
   "metadata": {},
   "outputs": [],
   "source": [
    "from langgraph.store.memory import InMemoryStore\n",
    "import uuid\n",
    "\n",
    "# InMemoryStore 생성\n",
    "store = InMemoryStore()\n",
    "\n",
    "# namespace 정의 \n",
    "user_id = \"1\"\n",
    "namespace = (user_id, \"memories\")\n",
    "\n",
    "# 메모리 저장\n",
    "memory_id = str(uuid.uuid4())\n",
    "memory = {\n",
    "    \"food_preference\": \"김치찌개를 좋아합니다\",\n",
    "    \"hobby\": \"등산\"\n",
    "}\n",
    "store.put(namespace, memory_id, memory)"
   ]
  },
  {
   "cell_type": "code",
   "execution_count": 40,
   "metadata": {},
   "outputs": [
    {
     "name": "stdout",
     "output_type": "stream",
     "text": [
      "{'created_at': '2025-10-30T11:57:11.114611+00:00',\n",
      " 'key': 'a36410f8-b2b3-42a9-bb90-3bbab40829f0',\n",
      " 'namespace': ['1', 'memories'],\n",
      " 'score': None,\n",
      " 'updated_at': '2025-10-30T11:57:11.114611+00:00',\n",
      " 'value': {'food_preference': '김치찌개를 좋아합니다', 'hobby': '등산'}}\n",
      "--------------------------------------------------------------------------------------------------------------------------------------------------------------------------------------------------------\n"
     ]
    }
   ],
   "source": [
    "# 메모리 검색\n",
    "memories = store.search(namespace)\n",
    "\n",
    "# 검색된 메모리 출력\n",
    "for memory in memories:\n",
    "    pprint(memory.dict())\n",
    "    print(\"-\" * 200)"
   ]
  },
  {
   "cell_type": "markdown",
   "metadata": {},
   "source": [
    "`(2) 시맨틱 검색 구현`"
   ]
  },
  {
   "cell_type": "code",
   "execution_count": 41,
   "metadata": {},
   "outputs": [],
   "source": [
    "from langchain_openai import OpenAIEmbeddings\n",
    "\n",
    "# 임베딩 함수 정의\n",
    "def embed(texts: list[str]) -> list[list[float]]:\n",
    "    embeddings_model = OpenAIEmbeddings(model=\"text-embedding-3-small\")\n",
    "    return embeddings_model.embed_documents(texts)\n",
    "\n",
    "# 임베딩 모델을 사용하는 store 생성\n",
    "semantic_store = InMemoryStore(\n",
    "    index={\n",
    "        \"embed\": embed,  # 임베딩 함수 지정\n",
    "        \"dims\": 1536,    # 임베딩 차원 지정\n",
    "        \"fields\": [\"food_preference\", \"hobby\"]  # 임베딩할 필드 지정\n",
    "    }  #type:ignore\n",
    ")  \n",
    "\n",
    "# 여러 메모리 저장\n",
    "memories_to_store = [\n",
    "    {\n",
    "        \"food_preference\": \"매운 음식을 좋아합니다\",\n",
    "        \"hobby\": \"영화 감상\"\n",
    "    },\n",
    "    {\n",
    "        \"food_preference\": \"한식을 선호합니다\",\n",
    "        \"hobby\": \"등산과 캠핑\" \n",
    "    },\n",
    "    {\n",
    "        \"food_preference\": \"양식을 좋아합니다\",\n",
    "        \"hobby\": \"요리\"\n",
    "    }\n",
    "]\n",
    "\n",
    "for memory in memories_to_store:\n",
    "    memory_id = str(uuid.uuid4())\n",
    "    semantic_store.put(namespace, memory_id, memory)"
   ]
  },
  {
   "cell_type": "code",
   "execution_count": 42,
   "metadata": {},
   "outputs": [
    {
     "name": "stdout",
     "output_type": "stream",
     "text": [
      "검색 결과: {'food_preference': '매운 음식을 좋아합니다', 'hobby': '영화 감상'}\n",
      "검색 결과: {'food_preference': '한식을 선호합니다', 'hobby': '등산과 캠핑'}\n"
     ]
    }
   ],
   "source": [
    "# 시맨틱 검색 수행\n",
    "search_results = semantic_store.search(\n",
    "    namespace,\n",
    "    query=\"캠핑에 어울리는 영화\",\n",
    "    limit=2\n",
    ")\n",
    "\n",
    "for result in search_results:\n",
    "    print(f\"검색 결과: {result.dict()['value']}\")"
   ]
  },
  {
   "cell_type": "markdown",
   "metadata": {},
   "source": [
    "---\n",
    "\n",
    "### 2. **체크포인트 연동**\n",
    "\n",
    "- **체크포인터와 연동**: 그래프의 체크포인터와 함께 동작하여 스레드 간 정보 공유 가능"
   ]
  },
  {
   "cell_type": "code",
   "execution_count": 43,
   "metadata": {},
   "outputs": [
    {
     "data": {
      "image/png": "[encoded data removed]",
      "text/plain": [
       "<IPython.core.display.Image object>"
      ]
     },
     "metadata": {},
     "output_type": "display_data"
    }
   ],
   "source": [
    "from langgraph.checkpoint.memory import MemorySaver\n",
    "from langgraph.graph import StateGraph, MessagesState\n",
    "from langchain_core.runnables import RunnableConfig\n",
    "from langgraph.store.base import BaseStore\n",
    "from datetime import datetime\n",
    "import uuid\n",
    "from dataclasses import dataclass\n",
    "from langchain_openai import OpenAIEmbeddings\n",
    "\n",
    "# 메모리 저장소에서 사용할 네임스페이스 정의\n",
    "@dataclass \n",
    "class Namespace:\n",
    "    user_id: str\n",
    "    memory_type: str\n",
    "    \n",
    "    def to_tuple(self) -> tuple:\n",
    "        return (self.user_id, self.memory_type)\n",
    "\n",
    "# MessagesState를 확장하여 메모리 관련 필드 추가\n",
    "class GraphState(MessagesState):\n",
    "    summary: str  # 대화 요약을 저장할 필드\n",
    "\n",
    "# 메모리 업데이트 노드\n",
    "def update_memory(state: GraphState, config: RunnableConfig, *, store: BaseStore):\n",
    "    # 네임스페이스 동적 생성\n",
    "    namespace = Namespace(\n",
    "        user_id=config.get(\"configurable\", {}).get(\"user_id\", \"default\"),\n",
    "        memory_type=config.get(\"configurable\", {}).get(\"memory_type\", \"conversation_memory\")\n",
    "    )\n",
    "    \n",
    "    # 마지막 메시지 추출 (사용자의 대화 내용)\n",
    "    last_message = state[\"messages\"][-1]\n",
    "    memory = {\n",
    "        \"conversation\": last_message.content,\n",
    "        \"timestamp\": str(datetime.now()),\n",
    "        \"type\": last_message.type\n",
    "    }\n",
    "    \n",
    "    # 메모리 저장\n",
    "    store.put(namespace.to_tuple(), str(uuid.uuid4()), memory)\n",
    "    return state\n",
    "\n",
    "\n",
    "# LLM 모델에 도구를 바인딩 \n",
    "llm = ChatOpenAI(model=\"gpt-4o-mini\")\n",
    "tools = [search_menu, search_wine]\n",
    "llm_with_tools = llm.bind_tools(tools=tools)\n",
    "\n",
    "# LLM 호출 노드\n",
    "def call_model(state: GraphState, config: RunnableConfig, *, store: BaseStore):\n",
    "    system_prompt = SystemMessage(\"\"\"You are a helpful AI assistant...\"\"\")\n",
    "    \n",
    "    # 네임스페이스 동적 생성\n",
    "    namespace = Namespace(\n",
    "        user_id=config.get(\"configurable\", {}).get(\"user_id\", \"default\"),\n",
    "        memory_type=config.get(\"configurable\", {}).get(\"memory_type\", \"conversation_memory\")\n",
    "    )\n",
    "    \n",
    "    # 메모리 검색\n",
    "    memories = store.search(\n",
    "        namespace.to_tuple(),\n",
    "        query=state[\"messages\"][-1].content,\n",
    "        limit=3\n",
    "    )\n",
    "    \n",
    "    # 이전 대화 메모리가 있는 경우, 메모리 내용을 요약에 추가\n",
    "    if memories:\n",
    "        memory_context = \"\\n이전 관련 대화:\\n\" + \"\\n\".join(\n",
    "            f\"- {m.value['conversation']}\" for m in memories\n",
    "        )\n",
    "        context_message = SystemMessage(content=memory_context)\n",
    "        messages = [system_prompt, context_message] + state[\"messages\"]\n",
    "\n",
    "    # 이전 대화 메모리가 없는 경우, 이전 메시지만 사용\n",
    "    else:\n",
    "        messages = [system_prompt] + state[\"messages\"]\n",
    "    \n",
    "    response = llm_with_tools.invoke(messages)\n",
    "    return {\"messages\": [response]}\n",
    "\n",
    "# 그래프 구성\n",
    "builder = StateGraph(GraphState)\n",
    "\n",
    "# 노드 추가\n",
    "builder.add_node(\"agent\", call_model)\n",
    "builder.add_node(\"memory\", update_memory)\n",
    "builder.add_node(\"tools\", ToolNode(tools))\n",
    "\n",
    "# 엣지 구성\n",
    "builder.add_edge(START, \"agent\")\n",
    "builder.add_edge(\"agent\", \"memory\")\n",
    "builder.add_conditional_edges(\n",
    "    \"memory\",\n",
    "    tools_condition\n",
    ")\n",
    "builder.add_edge(\"tools\", \"agent\")\n",
    "\n",
    "\n",
    "# 임베딩 함수 정의\n",
    "def embed(texts: list[str]) -> list[list[float]]:\n",
    "    embeddings_model = OpenAIEmbeddings(model=\"text-embedding-3-small\")\n",
    "    return embeddings_model.embed_documents(texts)\n",
    "\n",
    "# 임베딩 모델을 사용하는 store 생성\n",
    "conversation_store = InMemoryStore(\n",
    "    index={\n",
    "        \"embed\": embed,  # 임베딩 함수 지정\n",
    "        \"dims\": 1536,    # 임베딩 차원 지정\n",
    "        \"fields\": [\"conversation\"]  # 임베딩할 필드 지정\n",
    "    }  #type:ignore\n",
    ")  \n",
    "\n",
    "# 그래프 컴파일\n",
    "graph_with_store = builder.compile(\n",
    "    checkpointer=MemorySaver(),\n",
    "    store=conversation_store  \n",
    ")\n",
    "\n",
    "# 그래프 시각화\n",
    "display(Image(graph_with_store.get_graph().draw_mermaid_png()))"
   ]
  },
  {
   "cell_type": "code",
   "execution_count": 44,
   "metadata": {},
   "outputs": [
    {
     "name": "stdout",
     "output_type": "stream",
     "text": [
      "================================\u001b[1m Human Message \u001b[0m=================================\n",
      "\n",
      "스테이크 메뉴의 가격은 얼마인가요\n",
      "==================================\u001b[1m Ai Message \u001b[0m==================================\n",
      "Tool Calls:\n",
      "  search_menu (call_HQpq1fnlDOu0mCauzw7wxIED)\n",
      " Call ID: call_HQpq1fnlDOu0mCauzw7wxIED\n",
      "  Args:\n",
      "    query: 스테이크\n",
      "=================================\u001b[1m Tool Message \u001b[0m=================================\n",
      "Name: search_menu\n",
      "\n",
      "[Document(id='9efd85c5-ec3a-462d-8557-0e5081c216a3', metadata={'source': './data/restaurant_menu.txt', 'menu_number': 26, 'menu_name': '샤토브리앙 스테이크'}, page_content='26. 샤토브리앙 스테이크\\n    • 가격: ₩42,000\\n    • 주요 식재료: 프리미엄 안심 스테이크, 푸아그라, 트러플 소스\\n    • 설명: 최상급 안심 스테이크에 푸아그라를 올리고 트러플 소스를 곁들인 클래식 프렌치 요리입니다. 부드러운 육질과 깊은 풍미가 특징이며, 그린 아스파라거스와 감자 그라탕을 함께 제공합니다.'), Document(id='830640c9-399e-4d43-8d53-5abee32b8cf1', metadata={'source': './data/restaurant_menu.txt', 'menu_number': 8, 'menu_name': '안심 스테이크 샐러드'}, page_content='8. 안심 스테이크 샐러드\\n   • 가격: ₩26,000\\n   • 주요 식재료: 소고기 안심, 루꼴라, 체리 토마토, 발사믹 글레이즈\\n   • 설명: 부드러운 안심 스테이크를 얇게 슬라이스하여 신선한 루꼴라 위에 올린 메인 요리 샐러드입니다. 체리 토마토와 파마산 치즈 플레이크로 풍미를 더하고, 발사믹 글레이즈로 마무리하여 고기의 풍미를 한층 끌어올렸습니다.')]\n",
      "==================================\u001b[1m Ai Message \u001b[0m==================================\n",
      "\n",
      "스테이크 메뉴의 가격은 다음과 같습니다:\n",
      "\n",
      "1. **샤토브리앙 스테이크** - ₩42,000\n",
      "   - 주요 식재료: 프리미엄 안심 스테이크, 푸아그라, 트러플 소스\n",
      "   - 설명: 최상급 안심 스테이크에 푸아그라를 올리고 트러플 소스를 곁들인 클래식 프렌치 요리입니다.\n",
      "\n",
      "2. **안심 스테이크 샐러드** - ₩26,000\n",
      "   - 주요 식재료: 소고기 안심, 루꼴라, 체리 토마토, 발사믹 글레이즈\n",
      "   - 설명: 부드러운 안심 스테이크를 얇게 슬라이스하여 신선한 루꼴라 위에 올린 메인 요리 샐러드입니다.\n"
     ]
    }
   ],
   "source": [
    "# 그래프 실행 \n",
    "config = {\n",
    "    \"configurable\": {\n",
    "        \"thread_id\": \"thread_1\",\n",
    "        \"user_id\": \"user_123\",\n",
    "        \"memory_type\": \"conversation_memory\"\n",
    "    }\n",
    "}\n",
    "\n",
    "# 초기 메시지 설정\n",
    "messages = [HumanMessage(content=\"스테이크 메뉴의 가격은 얼마인가요\")]\n",
    "\n",
    "# 그래프 실행 및 결과 출력 (초기 메시지 사용)\n",
    "messages = graph_with_store.invoke({\"messages\": messages}, config) \n",
    "\n",
    "for m in messages['messages']:\n",
    "    m.pretty_print()"
   ]
  },
  {
   "cell_type": "code",
   "execution_count": 45,
   "metadata": {},
   "outputs": [
    {
     "name": "stdout",
     "output_type": "stream",
     "text": [
      "{'created_at': '2025-10-30T11:57:21.022530+00:00',\n",
      " 'key': 'd6c9d420-3d49-47e6-9d72-98d7e0e66adf',\n",
      " 'namespace': ['user_123', 'conversation_memory'],\n",
      " 'score': 0.28806721085469955,\n",
      " 'updated_at': '2025-10-30T11:57:21.022530+00:00',\n",
      " 'value': {'conversation': '',\n",
      "           'timestamp': '2025-10-30 20:57:19.713763',\n",
      "           'type': 'ai'}}\n",
      "--------------------------------------------------------------------------------------------------------------------------------------------------------------------------------------------------------\n",
      "{'created_at': '2025-10-30T11:57:28.833097+00:00',\n",
      " 'key': 'ea1aab39-79fe-4f18-9189-af3d10592207',\n",
      " 'namespace': ['user_123', 'conversation_memory'],\n",
      " 'score': 0.2394990276861836,\n",
      " 'updated_at': '2025-10-30T11:57:28.833097+00:00',\n",
      " 'value': {'conversation': '스테이크 메뉴의 가격은 다음과 같습니다:\\n'\n",
      "                           '\\n'\n",
      "                           '1. **샤토브리앙 스테이크** - ₩42,000\\n'\n",
      "                           '   - 주요 식재료: 프리미엄 안심 스테이크, 푸아그라, 트러플 소스\\n'\n",
      "                           '   - 설명: 최상급 안심 스테이크에 푸아그라를 올리고 트러플 소스를 곁들인 클래식 '\n",
      "                           '프렌치 요리입니다.\\n'\n",
      "                           '\\n'\n",
      "                           '2. **안심 스테이크 샐러드** - ₩26,000\\n'\n",
      "                           '   - 주요 식재료: 소고기 안심, 루꼴라, 체리 토마토, 발사믹 글레이즈\\n'\n",
      "                           '   - 설명: 부드러운 안심 스테이크를 얇게 슬라이스하여 신선한 루꼴라 위에 올린 메인 '\n",
      "                           '요리 샐러드입니다.',\n",
      "           'timestamp': '2025-10-30 20:57:27.576668',\n",
      "           'type': 'ai'}}\n",
      "--------------------------------------------------------------------------------------------------------------------------------------------------------------------------------------------------------\n"
     ]
    }
   ],
   "source": [
    "# 스토어 검색 수행\n",
    "\n",
    "namespace = (\"user_123\", \"conversation_memory\")\n",
    "\n",
    "memories = conversation_store.search(\n",
    "    namespace,\n",
    "    query=\"샐러드\",\n",
    "    limit=2\n",
    ")\n",
    "\n",
    "# 검색된 메모리 출력\n",
    "for memory in memories:\n",
    "    pprint(memory.dict())\n",
    "    print(\"-\" * 200)"
   ]
  },
  {
   "cell_type": "code",
   "execution_count": 46,
   "metadata": {},
   "outputs": [
    {
     "name": "stdout",
     "output_type": "stream",
     "text": [
      "================================\u001b[1m Human Message \u001b[0m=================================\n",
      "\n",
      "스테이크 메뉴 가격이 얼마라고 했나요? 더 저렴한 메뉴는 무엇인가요?\n",
      "==================================\u001b[1m Ai Message \u001b[0m==================================\n",
      "\n",
      "스테이크 메뉴 가격은 다음과 같습니다:\n",
      "\n",
      "1. **샤토브리앙 스테이크** - ₩42,000\n",
      "2. **안심 스테이크 샐러드** - ₩26,000\n",
      "\n",
      "더 저렴한 메뉴는 **안심 스테이크 샐러드**로, 가격은 ₩26,000입니다.\n"
     ]
    }
   ],
   "source": [
    "# 다른 스레드 ID로 그래프 실행\n",
    "config = {\n",
    "    \"configurable\": {\n",
    "        \"thread_id\": \"thread_2\",\n",
    "        \"user_id\": \"user_123\",\n",
    "        \"memory_type\": \"conversation_memory\"\n",
    "    }\n",
    "}\n",
    "\n",
    "# 초기 메시지 설정\n",
    "messages = [HumanMessage(content=\"스테이크 메뉴 가격이 얼마라고 했나요? 더 저렴한 메뉴는 무엇인가요?\")]\n",
    "\n",
    "# 그래프 실행 및 결과 출력 (초기 메시지 사용)\n",
    "messages = graph_with_store.invoke({\"messages\": messages}, config)\n",
    "\n",
    "for m in messages['messages']:\n",
    "    m.pretty_print()"
   ]
  },
  {
   "cell_type": "markdown",
   "metadata": {},
   "source": [
    "---\n",
    "\n",
    "### **[실습 3]** 장기 메모리 통합\n",
    "\n",
    "- Chroma DB를 활용하여 오래된 메시지를 장기 메모리로 저장하고, 필요할 때 관련 메시지를 검색하는 시스템을 구현하세요.\n",
    "\n",
    "- 리비안, 테슬라 벡터저장소 사용"
   ]
  },
  {
   "cell_type": "code",
   "execution_count": 47,
   "metadata": {},
   "outputs": [
    {
     "name": "stdout",
     "output_type": "stream",
     "text": [
      "한국어 문서 수: 39\n",
      "영어 문서 수: 42\n"
     ]
    }
   ],
   "source": [
    "from langchain_openai import OpenAIEmbeddings\n",
    "from langchain_chroma import Chroma\n",
    "\n",
    "# OpenAI 임베딩 모델 생성\n",
    "embeddings_openai = OpenAIEmbeddings(model=\"text-embedding-3-small\")\n",
    "\n",
    "# 한국어 문서로 저장되어 있는 벡터 저장소 로드\n",
    "db_korean = Chroma(\n",
    "    embedding_function=embeddings_openai,\n",
    "    collection_name=\"db_korean_cosine_metadata\",\n",
    "    persist_directory=\"./chroma_db\",\n",
    "    )\n",
    "\n",
    "print(f\"한국어 문서 수: {db_korean._collection.count()}\")\n",
    "\n",
    "# 영어 문서를 저장하는 벡터 저장소 로드\n",
    "db_english = Chroma(\n",
    "    embedding_function=embeddings_openai,\n",
    "    collection_name=\"eng_db_openai\",\n",
    "    persist_directory=\"./chroma_db\",\n",
    "    )\n",
    "\n",
    "print(f\"영어 문서 수: {db_english._collection.count()}\")"
   ]
  },
  {
   "cell_type": "code",
   "execution_count": 48,
   "metadata": {},
   "outputs": [],
   "source": [
    "# 도구 정의 \n",
    "\n",
    "@tool\n",
    "def search_kor(query: str, k: int = 2) -> List[str]:\n",
    "    \"\"\"한국어 질문이 주어지면, 한국어 문서에서 정보를 검색합니다.\"\"\"\n",
    "    docs = db_korean.similarity_search(query, k=k)\n",
    "    if len(docs) > 0:\n",
    "        return docs\n",
    "    \n",
    "    return \"관련 정보를 찾을 수 없습니다.\"\n",
    "\n",
    "@tool\n",
    "def search_eng(query: str, k: int = 2) -> List[str]:\n",
    "    \"\"\"영어 질문이 주어지면, 영어 문서에서 정보를 검색합니다.\"\"\"\n",
    "    docs = db_english.similarity_search(query, k=k)\n",
    "    if len(docs) > 0:\n",
    "        return docs\n",
    "    \n",
    "    return \"관련 정보를 찾을 수 없습니다.\""
   ]
  },
  {
   "cell_type": "code",
   "execution_count": 49,
   "metadata": {},
   "outputs": [],
   "source": [
    "from langgraph.prebuilt import ToolNode\n",
    "from langchain_openai import ChatOpenAI\n",
    "\n",
    "# 도구 목록\n",
    "db_tools = [search_kor, search_eng]\n",
    "\n",
    "# 도구 노드 정의\n",
    "db_tool_node = ToolNode(tools=db_tools)\n",
    "\n",
    "# LLM 모델 생성\n",
    "llm = ChatOpenAI(model=\"gpt-4o-mini\")\n",
    "\n",
    "# 도구를 바인딩하여 모델 생성\n",
    "llm_with_db_tools = llm.bind_tools(tools=db_tools)"
   ]
  },
  {
   "cell_type": "code",
   "execution_count": 50,
   "metadata": {},
   "outputs": [
    {
     "data": {
      "image/png": "[encoded data removed]",
      "text/plain": [
       "<IPython.core.display.Image object>"
      ]
     },
     "metadata": {},
     "output_type": "display_data"
    }
   ],
   "source": [
    "from langgraph.checkpoint.memory import MemorySaver\n",
    "from langgraph.graph import StateGraph, MessagesState\n",
    "from langchain_core.runnables import RunnableConfig\n",
    "from langgraph.store.base import BaseStore\n",
    "from datetime import datetime\n",
    "import uuid\n",
    "from dataclasses import dataclass\n",
    "from langchain_openai import OpenAIEmbeddings\n",
    "\n",
    "# 메모리 저장소에서 사용할 네임스페이스 정의\n",
    "@dataclass \n",
    "class Namespace:\n",
    "    user_id: str\n",
    "    memory_type: str\n",
    "    \n",
    "    def to_tuple(self) -> tuple:\n",
    "        return (self.user_id, self.memory_type)\n",
    "\n",
    "# MessagesState를 확장하여 메모리 관련 필드 추가\n",
    "class GraphState(MessagesState):\n",
    "    summary: str  # 대화 요약을 저장할 필드\n",
    "\n",
    "# 메모리 업데이트 노드\n",
    "def update_memory(state: GraphState, config: RunnableConfig, *, store: BaseStore):\n",
    "    # 네임스페이스 동적 생성\n",
    "    namespace = Namespace(\n",
    "        user_id=config.get(\"configurable\", {}).get(\"user_id\", \"default\"),\n",
    "        memory_type=config.get(\"configurable\", {}).get(\"memory_type\", \"conversation_memory\")\n",
    "    )\n",
    "    \n",
    "    # 마지막 메시지 추출 (사용자의 대화 내용)\n",
    "    last_message = state[\"messages\"][-1]\n",
    "    memory = {\n",
    "        \"conversation\": last_message.content,\n",
    "        \"timestamp\": str(datetime.now()),\n",
    "        \"type\": last_message.type\n",
    "    }\n",
    "    \n",
    "    # 메모리 저장\n",
    "    store.put(namespace.to_tuple(), str(uuid.uuid4()), memory)\n",
    "    return state\n",
    "\n",
    "# LLM 호출 노드\n",
    "def call_model(state: GraphState, config: RunnableConfig, *, store: BaseStore):\n",
    "    system_prompt = SystemMessage(\"\"\"You are a helpful AI assistant...\"\"\")\n",
    "    \n",
    "    # 네임스페이스 동적 생성\n",
    "    namespace = Namespace(\n",
    "        user_id=config.get(\"configurable\", {}).get(\"user_id\", \"default\"),\n",
    "        memory_type=config.get(\"configurable\", {}).get(\"memory_type\", \"conversation_memory\")\n",
    "    )\n",
    "    \n",
    "    # 메모리 검색\n",
    "    memories = store.search(\n",
    "        namespace.to_tuple(),\n",
    "        query=state[\"messages\"][-1].content,\n",
    "        limit=3\n",
    "    )\n",
    "    \n",
    "    # 이전 대화 메모리가 있는 경우, 메모리 내용을 요약에 추가\n",
    "    if memories:\n",
    "        memory_context = \"\\n이전 관련 대화:\\n\" + \"\\n\".join(\n",
    "            f\"- {m.value['conversation']}\" for m in memories\n",
    "        )\n",
    "        context_message = SystemMessage(content=memory_context)\n",
    "        messages = [system_prompt, context_message] + state[\"messages\"]\n",
    "\n",
    "    # 이전 대화 메모리가 없는 경우, 이전 메시지만 사용\n",
    "    else:\n",
    "        messages = [system_prompt] + state[\"messages\"]\n",
    "    \n",
    "    response = llm_with_db_tools.invoke(messages)\n",
    "    return {\"messages\": [response]}\n",
    "\n",
    "# 그래프 구성\n",
    "builder = StateGraph(GraphState)\n",
    "\n",
    "# 노드 추가\n",
    "builder.add_node(\"agent\", call_model)\n",
    "builder.add_node(\"memory\", update_memory)\n",
    "builder.add_node(\"tools\", ToolNode(db_tools))\n",
    "\n",
    "# 엣지 구성\n",
    "builder.add_edge(START, \"agent\")\n",
    "builder.add_edge(\"agent\", \"memory\")\n",
    "builder.add_conditional_edges(\n",
    "    \"memory\",\n",
    "    tools_condition\n",
    ")\n",
    "builder.add_edge(\"tools\", \"agent\")\n",
    "\n",
    "\n",
    "# 임베딩 함수 정의\n",
    "def embed(texts: list[str]) -> list[list[float]]:\n",
    "    embeddings_model = OpenAIEmbeddings(model=\"text-embedding-3-small\")\n",
    "    return embeddings_model.embed_documents(texts)\n",
    "\n",
    "# 임베딩 모델을 사용하는 store 생성\n",
    "conversation_store = InMemoryStore(\n",
    "    index={\n",
    "        \"embed\": embed,  # 임베딩 함수 지정\n",
    "        \"dims\": 1536,    # 임베딩 차원 지정\n",
    "        \"fields\": [\"conversation\"]  # 임베딩할 필드 지정\n",
    "    }  #type:ignore\n",
    ")  \n",
    "\n",
    "# 그래프 컴파일\n",
    "graph_with_store_test = builder.compile(\n",
    "    checkpointer=MemorySaver(),\n",
    "    store=conversation_store  \n",
    ")\n",
    "\n",
    "# 그래프 시각화\n",
    "display(Image(graph_with_store_test.get_graph().draw_mermaid_png()))"
   ]
  },
  {
   "cell_type": "code",
   "execution_count": 51,
   "metadata": {},
   "outputs": [
    {
     "name": "stdout",
     "output_type": "stream",
     "text": [
      "================================\u001b[1m Human Message \u001b[0m=================================\n",
      "\n",
      "테슬라의 설립연도와 창업자는 누구인가요?\n",
      "==================================\u001b[1m Ai Message \u001b[0m==================================\n",
      "Tool Calls:\n",
      "  search_kor (call_B92WnOoN3yw47gMBEuR6solw)\n",
      " Call ID: call_B92WnOoN3yw47gMBEuR6solw\n",
      "  Args:\n",
      "    query: 테슬라 설립연도\n",
      "  search_kor (call_HHdrK9kyasbSn1gWTKH40T0v)\n",
      " Call ID: call_HHdrK9kyasbSn1gWTKH40T0v\n",
      "  Args:\n",
      "    query: 테슬라 창업자\n",
      "=================================\u001b[1m Tool Message \u001b[0m=================================\n",
      "Name: search_kor\n",
      "\n",
      "[Document(id='3a108f29-a4d1-42d9-bcef-8effa685ac74', metadata={'company': '테슬라', 'language': 'ko', 'source': 'data/테슬라_KR.md'}, page_content='[출처] 이 문서는 테슬라에 대한 문서입니다.\\n----------------------------------\\nTesla는 내부 고발자 보복, 근로자 권리 침해, 안전 결함, 홍보 부족, Musk의 논란의 여지가 있는 발언과 관련된 소송, 정부 조사 및 비판에 직면했습니다.\\n\\n## 역사\\n\\n### 창립 (2003–2004)\\n\\nTesla Motors, Inc.는 2003년 7월 1일에 Martin Eberhard와 Marc Tarpenning에 의해 설립되었으며, 각각 CEO와 CFO를 역임했습니다. Ian Wright는 얼마 지나지 않아 합류했습니다. 2004년 2월, Elon Musk는 750만 달러의 시리즈 A 자금 조달을 주도하여 회장 겸 최대 주주가 되었습니다. J. B. Straubel은 2004년 5월 CTO로 합류했습니다. 다섯 명 모두 공동 설립자로 인정받고 있습니다.\\n\\n### Roadster (2005–2009)'), Document(id='e2e42092-eb65-41f4-9986-f91005ee3607', metadata={'language': 'ko', 'company': '테슬라', 'source': 'data/테슬라_KR.md'}, page_content=\"[출처] 이 문서는 테슬라에 대한 문서입니다.\\n----------------------------------\\n### Roadster (2005–2009)\\n\\nElon Musk는 주류 차량으로 확장하기 전에 프리미엄 스포츠카로 시작하는 전략에 초점을 맞춰 적극적인 역할을 수행했습니다. 후속 자금 조달에는 Valor Equity Partners (2006)와 Sergey Brin, Larry Page, Jeff Skoll과 같은 기업가의 투자가 포함되었습니다.\\n\\n2007년 8월, Eberhard는 CEO에서 물러나라는 요청을 받았고, Tarpenning은 2008년 1월에 이어졌습니다. Michael Marks는 Ze'ev Drori가 인수하기 전에 임시 CEO를 역임했으며, Musk는 2008년 10월에 인수했습니다. Eberhard는 2009년 6월 Musk를 상대로 소송을 제기했지만 나중에 기각되었습니다.\")]\n",
      "=================================\u001b[1m Tool Message \u001b[0m=================================\n",
      "Name: search_kor\n",
      "\n",
      "[Document(id='e2e42092-eb65-41f4-9986-f91005ee3607', metadata={'language': 'ko', 'company': '테슬라', 'source': 'data/테슬라_KR.md'}, page_content=\"[출처] 이 문서는 테슬라에 대한 문서입니다.\\n----------------------------------\\n### Roadster (2005–2009)\\n\\nElon Musk는 주류 차량으로 확장하기 전에 프리미엄 스포츠카로 시작하는 전략에 초점을 맞춰 적극적인 역할을 수행했습니다. 후속 자금 조달에는 Valor Equity Partners (2006)와 Sergey Brin, Larry Page, Jeff Skoll과 같은 기업가의 투자가 포함되었습니다.\\n\\n2007년 8월, Eberhard는 CEO에서 물러나라는 요청을 받았고, Tarpenning은 2008년 1월에 이어졌습니다. Michael Marks는 Ze'ev Drori가 인수하기 전에 임시 CEO를 역임했으며, Musk는 2008년 10월에 인수했습니다. Eberhard는 2009년 6월 Musk를 상대로 소송을 제기했지만 나중에 기각되었습니다.\"), Document(id='3a108f29-a4d1-42d9-bcef-8effa685ac74', metadata={'company': '테슬라', 'source': 'data/테슬라_KR.md', 'language': 'ko'}, page_content='[출처] 이 문서는 테슬라에 대한 문서입니다.\\n----------------------------------\\nTesla는 내부 고발자 보복, 근로자 권리 침해, 안전 결함, 홍보 부족, Musk의 논란의 여지가 있는 발언과 관련된 소송, 정부 조사 및 비판에 직면했습니다.\\n\\n## 역사\\n\\n### 창립 (2003–2004)\\n\\nTesla Motors, Inc.는 2003년 7월 1일에 Martin Eberhard와 Marc Tarpenning에 의해 설립되었으며, 각각 CEO와 CFO를 역임했습니다. Ian Wright는 얼마 지나지 않아 합류했습니다. 2004년 2월, Elon Musk는 750만 달러의 시리즈 A 자금 조달을 주도하여 회장 겸 최대 주주가 되었습니다. J. B. Straubel은 2004년 5월 CTO로 합류했습니다. 다섯 명 모두 공동 설립자로 인정받고 있습니다.\\n\\n### Roadster (2005–2009)')]\n",
      "==================================\u001b[1m Ai Message \u001b[0m==================================\n",
      "\n",
      "테슬라(Tesla)는 2003년 7월 1일에 설립되었습니다. 창업자로는 Martin Eberhard와 Marc Tarpenning가 있으며, 이후 Elon Musk도 중요한 역할을 맡게 되었습니다. Musk는 2004년에 회사에 투자하고, 2008년부터 CEO로 활동하고 있습니다.\n"
     ]
    }
   ],
   "source": [
    "# 그래프 실행 \n",
    "config = {\n",
    "    \"configurable\": {\n",
    "        \"thread_id\": \"thread_1\",\n",
    "        \"user_id\": \"user_123\",\n",
    "        \"memory_type\": \"conversation_memory\"\n",
    "    }\n",
    "}\n",
    "\n",
    "# 초기 메시지 설정\n",
    "messages = [HumanMessage(content=\"테슬라의 설립연도와 창업자는 누구인가요?\")]\n",
    "\n",
    "# 그래프 실행 및 결과 출력 (초기 메시지 사용)\n",
    "messages = graph_with_store_test.invoke({\"messages\": messages}, config) \n",
    "\n",
    "for m in messages['messages']:\n",
    "    m.pretty_print()"
   ]
  },
  {
   "cell_type": "code",
   "execution_count": 52,
   "metadata": {},
   "outputs": [
    {
     "name": "stdout",
     "output_type": "stream",
     "text": [
      "================================\u001b[1m Human Message \u001b[0m=================================\n",
      "\n",
      "테슬라의 설립연도와 창업자는 누구인가요?\n",
      "==================================\u001b[1m Ai Message \u001b[0m==================================\n",
      "Tool Calls:\n",
      "  search_kor (call_B92WnOoN3yw47gMBEuR6solw)\n",
      " Call ID: call_B92WnOoN3yw47gMBEuR6solw\n",
      "  Args:\n",
      "    query: 테슬라 설립연도\n",
      "  search_kor (call_HHdrK9kyasbSn1gWTKH40T0v)\n",
      " Call ID: call_HHdrK9kyasbSn1gWTKH40T0v\n",
      "  Args:\n",
      "    query: 테슬라 창업자\n",
      "=================================\u001b[1m Tool Message \u001b[0m=================================\n",
      "Name: search_kor\n",
      "\n",
      "[Document(id='3a108f29-a4d1-42d9-bcef-8effa685ac74', metadata={'company': '테슬라', 'language': 'ko', 'source': 'data/테슬라_KR.md'}, page_content='[출처] 이 문서는 테슬라에 대한 문서입니다.\\n----------------------------------\\nTesla는 내부 고발자 보복, 근로자 권리 침해, 안전 결함, 홍보 부족, Musk의 논란의 여지가 있는 발언과 관련된 소송, 정부 조사 및 비판에 직면했습니다.\\n\\n## 역사\\n\\n### 창립 (2003–2004)\\n\\nTesla Motors, Inc.는 2003년 7월 1일에 Martin Eberhard와 Marc Tarpenning에 의해 설립되었으며, 각각 CEO와 CFO를 역임했습니다. Ian Wright는 얼마 지나지 않아 합류했습니다. 2004년 2월, Elon Musk는 750만 달러의 시리즈 A 자금 조달을 주도하여 회장 겸 최대 주주가 되었습니다. J. B. Straubel은 2004년 5월 CTO로 합류했습니다. 다섯 명 모두 공동 설립자로 인정받고 있습니다.\\n\\n### Roadster (2005–2009)'), Document(id='e2e42092-eb65-41f4-9986-f91005ee3607', metadata={'language': 'ko', 'company': '테슬라', 'source': 'data/테슬라_KR.md'}, page_content=\"[출처] 이 문서는 테슬라에 대한 문서입니다.\\n----------------------------------\\n### Roadster (2005–2009)\\n\\nElon Musk는 주류 차량으로 확장하기 전에 프리미엄 스포츠카로 시작하는 전략에 초점을 맞춰 적극적인 역할을 수행했습니다. 후속 자금 조달에는 Valor Equity Partners (2006)와 Sergey Brin, Larry Page, Jeff Skoll과 같은 기업가의 투자가 포함되었습니다.\\n\\n2007년 8월, Eberhard는 CEO에서 물러나라는 요청을 받았고, Tarpenning은 2008년 1월에 이어졌습니다. Michael Marks는 Ze'ev Drori가 인수하기 전에 임시 CEO를 역임했으며, Musk는 2008년 10월에 인수했습니다. Eberhard는 2009년 6월 Musk를 상대로 소송을 제기했지만 나중에 기각되었습니다.\")]\n",
      "=================================\u001b[1m Tool Message \u001b[0m=================================\n",
      "Name: search_kor\n",
      "\n",
      "[Document(id='e2e42092-eb65-41f4-9986-f91005ee3607', metadata={'language': 'ko', 'company': '테슬라', 'source': 'data/테슬라_KR.md'}, page_content=\"[출처] 이 문서는 테슬라에 대한 문서입니다.\\n----------------------------------\\n### Roadster (2005–2009)\\n\\nElon Musk는 주류 차량으로 확장하기 전에 프리미엄 스포츠카로 시작하는 전략에 초점을 맞춰 적극적인 역할을 수행했습니다. 후속 자금 조달에는 Valor Equity Partners (2006)와 Sergey Brin, Larry Page, Jeff Skoll과 같은 기업가의 투자가 포함되었습니다.\\n\\n2007년 8월, Eberhard는 CEO에서 물러나라는 요청을 받았고, Tarpenning은 2008년 1월에 이어졌습니다. Michael Marks는 Ze'ev Drori가 인수하기 전에 임시 CEO를 역임했으며, Musk는 2008년 10월에 인수했습니다. Eberhard는 2009년 6월 Musk를 상대로 소송을 제기했지만 나중에 기각되었습니다.\"), Document(id='3a108f29-a4d1-42d9-bcef-8effa685ac74', metadata={'company': '테슬라', 'source': 'data/테슬라_KR.md', 'language': 'ko'}, page_content='[출처] 이 문서는 테슬라에 대한 문서입니다.\\n----------------------------------\\nTesla는 내부 고발자 보복, 근로자 권리 침해, 안전 결함, 홍보 부족, Musk의 논란의 여지가 있는 발언과 관련된 소송, 정부 조사 및 비판에 직면했습니다.\\n\\n## 역사\\n\\n### 창립 (2003–2004)\\n\\nTesla Motors, Inc.는 2003년 7월 1일에 Martin Eberhard와 Marc Tarpenning에 의해 설립되었으며, 각각 CEO와 CFO를 역임했습니다. Ian Wright는 얼마 지나지 않아 합류했습니다. 2004년 2월, Elon Musk는 750만 달러의 시리즈 A 자금 조달을 주도하여 회장 겸 최대 주주가 되었습니다. J. B. Straubel은 2004년 5월 CTO로 합류했습니다. 다섯 명 모두 공동 설립자로 인정받고 있습니다.\\n\\n### Roadster (2005–2009)')]\n",
      "==================================\u001b[1m Ai Message \u001b[0m==================================\n",
      "\n",
      "테슬라(Tesla)는 2003년 7월 1일에 설립되었습니다. 창업자로는 Martin Eberhard와 Marc Tarpenning가 있으며, 이후 Elon Musk도 중요한 역할을 맡게 되었습니다. Musk는 2004년에 회사에 투자하고, 2008년부터 CEO로 활동하고 있습니다.\n",
      "================================\u001b[1m Human Message \u001b[0m=================================\n",
      "\n",
      "리비안의 설립연도와 창업자는 누구인가요?\n",
      "==================================\u001b[1m Ai Message \u001b[0m==================================\n",
      "Tool Calls:\n",
      "  search_eng (call_w7QlxOnSER0ZeyfVvrWzkoCx)\n",
      " Call ID: call_w7QlxOnSER0ZeyfVvrWzkoCx\n",
      "  Args:\n",
      "    query: Rivian founding year\n",
      "  search_eng (call_LGDFCX7Ydnt6ZmVoyj8GfhQN)\n",
      " Call ID: call_LGDFCX7Ydnt6ZmVoyj8GfhQN\n",
      "  Args:\n",
      "    query: Rivian founders\n",
      "=================================\u001b[1m Tool Message \u001b[0m=================================\n",
      "Name: search_eng\n",
      "\n",
      "[Document(id='eb5b04f6-2913-4d3e-b8ea-a1ed27936dbc', metadata={'source': 'data/Rivian_EN.md'}, page_content='Rivian Automotive, Inc. is an American electric vehicle manufacturer, automotive technology, and outdoor recreation company founded in 2009.\\n\\n**Key Facts:**'), Document(id='6479724f-5fc8-47c9-8236-f372853ae922', metadata={'source': 'data/Rivian_EN.md'}, page_content='**Overview**\\n\\nRivian produces electric sport utility vehicles (SUVs), pickup trucks on a \"skateboard\" platform (R1T and R1S models), and electric delivery vans (Rivian EDV). Deliveries of the R1T began in late 2021. The company launched a charging network in the United States in 2022, opening it to other vehicles in 2024. Its production plant is located in Normal, Illinois, with other facilities in various US states, Canada, UK, and Serbia.\\n\\n**History**\\n\\n**Beginnings (2009–15):**')]\n",
      "=================================\u001b[1m Tool Message \u001b[0m=================================\n",
      "Name: search_eng\n",
      "\n",
      "[Document(id='eb5b04f6-2913-4d3e-b8ea-a1ed27936dbc', metadata={'source': 'data/Rivian_EN.md'}, page_content='Rivian Automotive, Inc. is an American electric vehicle manufacturer, automotive technology, and outdoor recreation company founded in 2009.\\n\\n**Key Facts:**'), Document(id='6093a223-8873-4fa1-ac5b-ed642343b1d4', metadata={'source': 'data/Rivian_EN.md'}, page_content=\"**Finances**\\n\\nRivian's financial performance has been characterized by significant revenue growth, but also substantial net losses:\\n\\n| Year | Revenue (mil. USD) | Net income (mil. USD) | Total assets (mil. USD) |\\n| ---- | ------------------ | --------------------- | ----------------------- |\\n| 2020 | 0                  | -1,018                | 4,602                   |\\n| 2021 | 55                 | -4,688                | 22,294                  |\\n| 2022 | 1,658              | -6,752                | 17,876                  |\\n| 2023 | 4,434              | -5,432                | 16,778                  |\\n\\n**Largest Shareholders**\")]\n",
      "==================================\u001b[1m Ai Message \u001b[0m==================================\n",
      "\n",
      "리비안(Rivian)은 2009년에 설립되었습니다. 창립자는 R.J. Scaringe입니다. 리비안은 전기 스포츠 유틸리티 차량(SUV), 픽업 트럭 및 전기 배달 밴을 제조하는 회사입니다.\n"
     ]
    }
   ],
   "source": [
    "# 그래프 실행 \n",
    "config = {\n",
    "    \"configurable\": {\n",
    "        \"thread_id\": \"thread_1\",\n",
    "        \"user_id\": \"user_123\",\n",
    "        \"memory_type\": \"conversation_memory\"\n",
    "    }\n",
    "}\n",
    "\n",
    "# 초기 메시지 설정\n",
    "messages = [HumanMessage(content=\"리비안의 설립연도와 창업자는 누구인가요?\")]\n",
    "\n",
    "# 그래프 실행 및 결과 출력 (초기 메시지 사용)\n",
    "messages = graph_with_store_test.invoke({\"messages\": messages}, config) \n",
    "\n",
    "for m in messages['messages']:\n",
    "    m.pretty_print()"
   ]
  },
  {
   "cell_type": "code",
   "execution_count": 53,
   "metadata": {},
   "outputs": [
    {
     "name": "stdout",
     "output_type": "stream",
     "text": [
      "{'created_at': '2025-10-30T11:57:51.235855+00:00',\n",
      " 'key': 'b3f7ae7a-e8a6-4976-9048-d70e1b4d98d7',\n",
      " 'namespace': ['user_123', 'conversation_memory'],\n",
      " 'score': 0.2177991281878869,\n",
      " 'updated_at': '2025-10-30T11:57:51.235855+00:00',\n",
      " 'value': {'conversation': '리비안(Rivian)은 2009년에 설립되었습니다. 창립자는 R.J. '\n",
      "                           'Scaringe입니다. 리비안은 전기 스포츠 유틸리티 차량(SUV), 픽업 트럭 및 전기 '\n",
      "                           '배달 밴을 제조하는 회사입니다.',\n",
      "           'timestamp': '2025-10-30 20:57:50.455947',\n",
      "           'type': 'ai'}}\n",
      "--------------------------------------------------------------------------------------------------------------------------------------------------------------------------------------------------------\n",
      "{'created_at': '2025-10-30T11:57:38.862446+00:00',\n",
      " 'key': 'c13444ae-55ea-4705-b995-d5e5ec63b204',\n",
      " 'namespace': ['user_123', 'conversation_memory'],\n",
      " 'score': 0.15732585992749293,\n",
      " 'updated_at': '2025-10-30T11:57:38.862446+00:00',\n",
      " 'value': {'conversation': '',\n",
      "           'timestamp': '2025-10-30 20:57:37.912521',\n",
      "           'type': 'ai'}}\n",
      "--------------------------------------------------------------------------------------------------------------------------------------------------------------------------------------------------------\n"
     ]
    }
   ],
   "source": [
    "# 스토어 검색 수행\n",
    "\n",
    "namespace = (\"user_123\", \"conversation_memory\")\n",
    "\n",
    "memories = conversation_store.search(\n",
    "    namespace,\n",
    "    query=\"설립연도\",\n",
    "    limit=2\n",
    ")\n",
    "\n",
    "# 검색된 메모리 출력\n",
    "for memory in memories:\n",
    "    pprint(memory.dict())\n",
    "    print(\"-\" * 200)"
   ]
  },
  {
   "cell_type": "code",
   "execution_count": 54,
   "metadata": {},
   "outputs": [
    {
     "name": "stdout",
     "output_type": "stream",
     "text": [
      "================================\u001b[1m Human Message \u001b[0m=================================\n",
      "\n",
      "두 회사 중에 더 먼저 설립된 곳은?\n",
      "==================================\u001b[1m Ai Message \u001b[0m==================================\n",
      "\n",
      "테슬라(Tesla)는 2003년에 설립되었고, 리비안(Rivian)은 2009년에 설립되었습니다. 따라서 테슬라가 더 먼저 설립된 회사입니다.\n"
     ]
    }
   ],
   "source": [
    "# 다른 스레드 ID로 그래프 실행\n",
    "config = {\n",
    "    \"configurable\": {\n",
    "        \"thread_id\": \"thread_2\",\n",
    "        \"user_id\": \"user_123\",\n",
    "        \"memory_type\": \"conversation_memory\"\n",
    "    }\n",
    "}\n",
    "\n",
    "# 초기 메시지 설정\n",
    "messages = [HumanMessage(content=\"두 회사 중에 더 먼저 설립된 곳은?\")]\n",
    "\n",
    "# 그래프 실행 및 결과 출력 (초기 메시지 사용)\n",
    "messages = graph_with_store_test.invoke({\"messages\": messages}, config) \n",
    "\n",
    "for m in messages['messages']:\n",
    "    m.pretty_print()"
   ]
  }
 ],
 "metadata": {
  "kernelspec": {
   "display_name": "modu3",
   "language": "python",
   "name": "python3"
  },
  "language_info": {
   "codemirror_mode": {
    "name": "ipython",
    "version": 3
   },
   "file_extension": ".py",
   "mimetype": "text/x-python",
   "name": "python",
   "nbconvert_exporter": "python",
   "pygments_lexer": "ipython3",
   "version": "3.12.12"
  }
 },
 "nbformat": 4,
 "nbformat_minor": 2
}
