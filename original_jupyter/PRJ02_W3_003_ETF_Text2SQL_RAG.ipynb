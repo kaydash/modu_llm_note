{
 "cells": [
  {
   "cell_type": "markdown",
   "metadata": {},
   "source": [
    "#  추천 시스템 - Text2SQL 기반 RAG 시스템\n",
    "\n",
    "---"
   ]
  },
  {
   "cell_type": "markdown",
   "metadata": {},
   "source": [
    "## 환경 설정 및 준비"
   ]
  },
  {
   "cell_type": "markdown",
   "metadata": {},
   "source": [
    "`(1) Env 환경변수`"
   ]
  },
  {
   "cell_type": "code",
   "execution_count": 1,
   "metadata": {},
   "outputs": [
    {
     "data": {
      "text/plain": [
       "True"
      ]
     },
     "execution_count": 1,
     "metadata": {},
     "output_type": "execute_result"
    }
   ],
   "source": [
    "from dotenv import load_dotenv\n",
    "load_dotenv()"
   ]
  },
  {
   "cell_type": "markdown",
   "metadata": {},
   "source": [
    "`(2) 기본 라이브러리`"
   ]
  },
  {
   "cell_type": "code",
   "execution_count": 2,
   "metadata": {},
   "outputs": [],
   "source": [
    "import os\n",
    "from glob import glob\n",
    "\n",
    "from pprint import pprint\n",
    "import json\n",
    "\n",
    "import warnings\n",
    "warnings.filterwarnings('ignore')"
   ]
  },
  {
   "cell_type": "code",
   "execution_count": 3,
   "metadata": {},
   "outputs": [
    {
     "name": "stdout",
     "output_type": "stream",
     "text": [
      "false\n"
     ]
    }
   ],
   "source": [
    "# Langsmith tracing 여부를 확인 (true: langsmith 추척 활성화, false: langsmith 추척 비활성화)\n",
    "import os\n",
    "print(os.getenv('LANGSMITH_TRACING'))"
   ]
  },
  {
   "cell_type": "markdown",
   "metadata": {},
   "source": [
    "`(3) SQLite DB`"
   ]
  },
  {
   "cell_type": "code",
   "execution_count": 4,
   "metadata": {},
   "outputs": [
    {
     "name": "stdout",
     "output_type": "stream",
     "text": [
      "sqlite\n",
      "['ETFs', 'ETFsInfo']\n",
      "('466400', '1Q 25-08 회사채(A+이상)액티브', '2023/09/19', '채권-회사채-단기', '하나자산운용', 4.52, 'KIS 2025-08만기형 크레딧 A+이상 지수(총수익)', 0.11, 111916276404.0, 0.03, '매우낮음', '실물(액티브)', 0.1, '배당소득세(보유기간과세)')\n",
      "('491610', '1Q CD금리액티브(합성)', '2024/09/24', '기타', '하나자산운용', 0.0, 'KIS 하나 CD금리 총수익지수', 0.05, 316206006696.0, 0.02, '매우낮음', '합성(액티브)', 0.02, '배당소득세(보유기간과세)')\n",
      "('451060', '1Q K200액티브', '2023/01/31', '주식-시장대표', '하나자산운용', -3.66, '코스피 200', 0.77, 99754348820.0, -0.01, '높음', '실물(액티브)', 0.18, '배당소득세(보유기간과세)')\n",
      "('463290', '1Q 단기금융채액티브', '2023/08/03', '채권-혼합-단기', '하나자산운용', 4.01, 'MK 머니마켓 지수(총수익)', 0.05, 252717462257.0, 0.0, '매우낮음', '실물(액티브)', 0.08, '배당소득세(보유기간과세)')\n",
      "('479080', '1Q 머니마켓액티브', '2024/04/02', '채권-혼합-단기', '하나자산운용', 0.0, 'KIS-하나 MMF 지수(총수익)', 0.06, 308255065986.0, -0.01, '매우낮음', '실물(액티브)', 0.05, '배당소득세(보유기간과세)')\n"
     ]
    }
   ],
   "source": [
    "from langchain_community.utilities import SQLDatabase\n",
    "\n",
    "db = SQLDatabase.from_uri(\"sqlite:///etf_database.db\")\n",
    "print(db.dialect)\n",
    "print(db.get_usable_table_names())\n",
    "etfs = db.run(\"SELECT * FROM ETFs LIMIT 5;\")\n",
    "\n",
    "for etf in eval(etfs):\n",
    "    print(etf)"
   ]
  },
  {
   "cell_type": "markdown",
   "metadata": {},
   "source": [
    "---\n",
    "\n",
    "## **SQL QA** \n",
    "\n",
    "- **SQL 기반 Q&A 시스템**은 구조화된 데이터를 LLM으로 처리하는 특수 사례\n",
    "    - **자연어 처리**를 통한 SQL 쿼리 자동 변환 구현\n",
    "    - 데이터베이스에서 **쿼리 실행 및 결과 추출** \n",
    "    - 추출된 데이터를 활용한 **자연어 답변 생성**\n",
    "\n",
    "- **Chain**과 **Agent** 두 가지 구현 방식으로 자연어 질문에 대한 답변 제공\n",
    "\n",
    "- **LangGraph**를 활용한 반복적 데이터베이스 쿼리 실행 가능\n",
    "\n",
    "- **참조**: https://python.langchain.com/docs/tutorials/sql_qa/"
   ]
  },
  {
   "cell_type": "markdown",
   "metadata": {},
   "source": [
    "### 1) **Chain** 방식\n",
    "\n",
    "- **단순 실행 흐름**으로 예측 가능한 결과 도출\n",
    "\n",
    "- **단일 쿼리** 실행만으로 해결 가능한 단순 질의에 최적화\n",
    "\n",
    "- 명확한 **입력-출력 구조**로 안정적 동작 보장"
   ]
  },
  {
   "cell_type": "markdown",
   "metadata": {},
   "source": [
    "`(1) State 상태 정의`\n",
    "\n",
    "- **LangGraph 상태 관리**를 위한 TypedDict 구조 정의\n",
    "\n",
    "- 입력 **질문**, **쿼리**, **결과**, **답변**의 4가지 핵심 상태 추적\n",
    "\n",
    "- 상태 데이터의 단계별 전달로 실행 흐름 제어"
   ]
  },
  {
   "cell_type": "code",
   "execution_count": 5,
   "metadata": {},
   "outputs": [],
   "source": [
    "from typing import TypedDict\n",
    "\n",
    "# 상태 정보를 저장하는 State 클래스\n",
    "class State(TypedDict):\n",
    "    question: str  # 입력 질문\n",
    "    query: str     # 생성된 쿼리\n",
    "    result: str    # 쿼리 결과\n",
    "    answer: str    # 생성된 답변"
   ]
  },
  {
   "cell_type": "markdown",
   "metadata": {},
   "source": [
    "`(2) 프롬프트 템플릿`"
   ]
  },
  {
   "cell_type": "code",
   "execution_count": 6,
   "metadata": {},
   "outputs": [
    {
     "name": "stdout",
     "output_type": "stream",
     "text": [
      "================================\u001b[1m System Message \u001b[0m================================\n",
      "\n",
      "\n",
      "    Given an input question, create a syntactically correct \u001b[33;1m\u001b[1;3m{dialect}\u001b[0m query to run to help find the answer. \n",
      "    Unless the user specifies in his question a specific number of examples they wish to obtain, \n",
      "    always limit your query to at most \u001b[33;1m\u001b[1;3m{top_k}\u001b[0m results.\n",
      "\n",
      "    You can order the results by a relevant column to return the most interesting examples in the database.\n",
      "    Never query for all the columns from a specific table, only ask for a the few relevant columns given the question.\n",
      "    Pay attention to use only the column names that you can see in the schema description. \n",
      "    Be careful to not query for columns that do not exist.\n",
      "\n",
      "    Also, pay attention to which column is in which table.\n",
      "    Only use the following tables:\n",
      "    \u001b[33;1m\u001b[1;3m{table_info}\u001b[0m\n",
      "    \n",
      "================================\u001b[1m Human Message \u001b[0m=================================\n",
      "\n",
      "\n",
      "    Question:\n",
      "    \u001b[33;1m\u001b[1;3m{input}\u001b[0m\n",
      "    \n"
     ]
    }
   ],
   "source": [
    "from langchain_core.prompts import ChatPromptTemplate\n",
    "from typing_extensions import TypedDict, Annotated\n",
    "\n",
    "# 프롬프트 템플릿 생성\n",
    "query_prompt_template = ChatPromptTemplate.from_messages([\n",
    "    (\"system\", \"\"\"\n",
    "    Given an input question, create a syntactically correct {dialect} query to run to help find the answer. \n",
    "    Unless the user specifies in his question a specific number of examples they wish to obtain, \n",
    "    always limit your query to at most {top_k} results.\n",
    "      \n",
    "    You can order the results by a relevant column to return the most interesting examples in the database.\n",
    "    Never query for all the columns from a specific table, only ask for a the few relevant columns given the question.\n",
    "    Pay attention to use only the column names that you can see in the schema description. \n",
    "    Be careful to not query for columns that do not exist.\n",
    "      \n",
    "    Also, pay attention to which column is in which table.\n",
    "    Only use the following tables:\n",
    "    {table_info}\n",
    "    \"\"\"),\n",
    "    (\"user\", \"\"\"\n",
    "    Question:\n",
    "    {input}\n",
    "    \"\"\")\n",
    "])\n",
    "\n",
    "# 프롬프트 템플릿 출력\n",
    "for m in query_prompt_template.messages:\n",
    "   m.pretty_print()"
   ]
  },
  {
   "cell_type": "code",
   "execution_count": 7,
   "metadata": {},
   "outputs": [
    {
     "data": {
      "text/plain": [
       "{'properties': {'dialect': {'title': 'Dialect', 'type': 'string'},\n",
       "  'input': {'title': 'Input', 'type': 'string'},\n",
       "  'table_info': {'title': 'Table Info', 'type': 'string'},\n",
       "  'top_k': {'title': 'Top K', 'type': 'string'}},\n",
       " 'required': ['dialect', 'input', 'table_info', 'top_k'],\n",
       " 'title': 'PromptInput',\n",
       " 'type': 'object'}"
      ]
     },
     "execution_count": 7,
     "metadata": {},
     "output_type": "execute_result"
    }
   ],
   "source": [
    "# required 입력 필드 확인 (dialect, input, table_info, top_k)\n",
    "query_prompt_template.input_schema.model_json_schema()"
   ]
  },
  {
   "cell_type": "markdown",
   "metadata": {},
   "source": [
    "`(3) SQL 쿼리 생성`"
   ]
  },
  {
   "cell_type": "code",
   "execution_count": 8,
   "metadata": {},
   "outputs": [],
   "source": [
    "from langchain_openai import ChatOpenAI\n",
    "\n",
    "# llm 모델 생성\n",
    "llm = ChatOpenAI(model=\"gpt-4o-mini\")"
   ]
  },
  {
   "cell_type": "code",
   "execution_count": 9,
   "metadata": {},
   "outputs": [],
   "source": [
    "from typing import Annotated, TypedDict\n",
    "\n",
    "class QueryOutput(TypedDict):\n",
    "    \"\"\"Generated SQL query.\"\"\"\n",
    "    query: Annotated[str, ..., \"Syntactically valid SQL query.\"]\n",
    "\n",
    "\n",
    "def write_query(state: State):\n",
    "    \"\"\"Generate SQL query to fetch information.\"\"\"\n",
    "    prompt = query_prompt_template.invoke(\n",
    "        {\n",
    "            \"dialect\": db.dialect,\n",
    "            \"top_k\": 10,\n",
    "            \"table_info\": db.get_table_info(),\n",
    "            \"input\": state[\"question\"],\n",
    "        }\n",
    "    )\n",
    "    structured_llm = llm.with_structured_output(QueryOutput)\n",
    "    result = structured_llm.invoke(prompt)\n",
    "    return {\"query\": result[\"query\"]}"
   ]
  },
  {
   "cell_type": "code",
   "execution_count": 10,
   "metadata": {},
   "outputs": [
    {
     "data": {
      "text/plain": [
       "{'query': 'SELECT 종목코드, 종목명, 총보수 FROM ETFs WHERE 총보수 <= 0.1 LIMIT 10;'}"
      ]
     },
     "execution_count": 10,
     "metadata": {},
     "output_type": "execute_result"
    }
   ],
   "source": [
    "# 쿼리 실행\n",
    "response = write_query({\"question\": \"총보수가 0.1% 이하인 ETF는 무엇인가요?\"}) \n",
    "\n",
    "response"
   ]
  },
  {
   "cell_type": "markdown",
   "metadata": {},
   "source": [
    "`(4) SQL 쿼리 실행`"
   ]
  },
  {
   "cell_type": "code",
   "execution_count": 11,
   "metadata": {},
   "outputs": [],
   "source": [
    "from langchain_community.tools import QuerySQLDatabaseTool\n",
    "\n",
    "def execute_query(state: State):\n",
    "    \"\"\"Execute SQL query.\"\"\"\n",
    "    execute_query_tool = QuerySQLDatabaseTool(db=db)\n",
    "    return {\"result\": execute_query_tool.invoke(state[\"query\"])}"
   ]
  },
  {
   "cell_type": "code",
   "execution_count": 12,
   "metadata": {},
   "outputs": [
    {
     "data": {
      "text/plain": [
       "{'result': \"[('466400', '1Q 25-08 회사채(A+이상)액티브', 0.1), ('491610', '1Q CD금리액티브(합성)', 0.02), ('463290', '1Q 단기금융채액티브', 0.08), ('479080', '1Q 머니마켓액티브', 0.05), ('495330', '1Q 코리아밸류업', 0.02), ('492500', '1Q 현대차그룹채권(A+이상)&국고통안', 0.1), ('473440', 'ACE 11월만기자동연장회사채AA-이상액티브', 0.05), ('105190', 'ACE 200', 0.09), ('332500', 'ACE 200TR', 0.03), ('461260', 'ACE 25-06 회사채(AA-이상)액티브', 0.05)]\"}"
      ]
     },
     "execution_count": 12,
     "metadata": {},
     "output_type": "execute_result"
    }
   ],
   "source": [
    "execute_query({\"query\": response[\"query\"]})"
   ]
  },
  {
   "cell_type": "markdown",
   "metadata": {},
   "source": [
    "`(5) RAG 답변 생성`"
   ]
  },
  {
   "cell_type": "code",
   "execution_count": 13,
   "metadata": {},
   "outputs": [],
   "source": [
    "def generate_answer(state: State):\n",
    "    \"\"\"Answer question using retrieved information as context.\"\"\"\n",
    "    prompt = (\n",
    "        \"Given the following user question, corresponding SQL query, \"\n",
    "        \"and SQL result, answer the user question.\\n\\n\"\n",
    "        f'Question: {state[\"question\"]}\\n'\n",
    "        f'SQL Query: {state[\"query\"]}\\n'\n",
    "        f'SQL Result: {state[\"result\"]}'\n",
    "    )\n",
    "    response = llm.invoke(prompt)\n",
    "    return {\"answer\": response.content}"
   ]
  },
  {
   "cell_type": "code",
   "execution_count": 14,
   "metadata": {},
   "outputs": [
    {
     "name": "stdout",
     "output_type": "stream",
     "text": [
      "총보수가 0.1% 이하인 ETF는 다음과 같습니다:\n",
      "\n",
      "1. 종목코드: 265690, 종목명: ACE 러시아MSCI(합성), 총보수: 0.0%\n",
      "2. 종목코드: 495850, 종목명: KODEX 코리아밸류업, 총보수: 0.008%\n",
      "3. 종목코드: 495050, 종목명: RISE 코리아밸류업, 총보수: 0.008%\n",
      "4. 종목코드: 496080, 종목명: TIGER 코리아밸류업, 총보수: 0.008%\n",
      "5. 종목코드: 449180, 종목명: KODEX 미국S&P500(H), 총보수: 0.009%\n",
      "6. 종목코드: 379800, 종목명: KODEX 미국S&P500TR, 총보수: 0.009%\n",
      "7. 종목코드: 449190, 종목명: KODEX 미국나스닥100(H), 총보수: 0.009%\n",
      "8. 종목코드: 379810, 종목명: KODEX 미국나스닥100TR, 총보수: 0.009%\n",
      "9. 종목코드: 489250, 종목명: KODEX 미국배당다우존스, 총보수: 0.009%\n",
      "10. 종목코드: 496090, 종목명: KOSEF 코리아밸류업, 총보수: 0.009%\n",
      "\n",
      "이 ETF들은 모두 총보수가 0.1% 이하입니다.\n"
     ]
    }
   ],
   "source": [
    "question = \"총보수가 0.1% 이하인 ETF는 무엇인가요?\"\n",
    "\n",
    "query = write_query({\"question\": question})[\"query\"]  #type: ignore\n",
    "result = execute_query({\"query\": query})[\"result\"]    #type: ignore\n",
    "\n",
    "response = generate_answer({\n",
    "    \"question\": question,\n",
    "    \"query\": query,\n",
    "    \"result\": result,\n",
    "})   #type: ignore\n",
    "\n",
    "print(response[\"answer\"])"
   ]
  },
  {
   "cell_type": "markdown",
   "metadata": {},
   "source": [
    "`(6) LangGraph 통합`\n",
    "\n",
    "- langgraph 설치 (pip 또는 uv)"
   ]
  },
  {
   "cell_type": "code",
   "execution_count": 15,
   "metadata": {},
   "outputs": [],
   "source": [
    "from langgraph.graph import START, StateGraph \n",
    "\n",
    "graph_builder = StateGraph(State)\n",
    "\n",
    "graph_builder.add_node(\"write_query\", write_query)\n",
    "graph_builder.add_node(\"execute_query\", execute_query)\n",
    "graph_builder.add_node(\"generate_answer\", generate_answer)\n",
    "\n",
    "graph_builder.add_edge(START, \"write_query\")\n",
    "graph_builder.add_edge(\"write_query\", \"execute_query\")\n",
    "graph_builder.add_edge(\"execute_query\", \"generate_answer\")  \n",
    "graph = graph_builder.compile()"
   ]
  },
  {
   "cell_type": "code",
   "execution_count": 16,
   "metadata": {},
   "outputs": [
    {
     "data": {
      "image/png": "[encoded data removed]",
      "text/plain": [
       "<IPython.core.display.Image object>"
      ]
     },
     "metadata": {},
     "output_type": "display_data"
    }
   ],
   "source": [
    "from IPython.display import Image, display\n",
    "\n",
    "display(Image(graph.get_graph().draw_mermaid_png()))"
   ]
  },
  {
   "cell_type": "code",
   "execution_count": 17,
   "metadata": {},
   "outputs": [
    {
     "name": "stdout",
     "output_type": "stream",
     "text": [
      "{'write_query': {'query': 'SELECT COUNT(*) AS 수 FROM ETFs WHERE 총보수 <= 0.1 LIMIT 10;'}}\n",
      "{'execute_query': {'result': '[(246,)]'}}\n",
      "{'generate_answer': {'answer': '총보수가 0.1% 이하인 ETF는 총 246개입니다.'}}\n"
     ]
    }
   ],
   "source": [
    "for step in graph.stream(\n",
    "    {\"question\": \"총보수가 0.1% 이하인 ETF는 모두 몇 개인가요?\"}, stream_mode=\"updates\"\n",
    "):\n",
    "    print(step)"
   ]
  },
  {
   "cell_type": "markdown",
   "metadata": {},
   "source": [
    "### 2) **Agent** 방식\n",
    "\n",
    "- **반복 쿼리 실행**으로 복잡한 데이터 분석 가능\n",
    "\n",
    "- 오류 발생 시 **자동 복구 메커니즘** 작동\n",
    "\n",
    "- **DB 스키마 기반**의 정확한 답변 생성\n",
    "\n",
    "- 다단계 추론이 필요한 **복잡한 질의** 처리 가능"
   ]
  },
  {
   "cell_type": "markdown",
   "metadata": {},
   "source": [
    "`(1) 필요한 도구 준비`\n",
    "\n",
    "- **ReAct 에이전트**와 **SQLDatabaseToolkit** 통합으로 고급 쿼리 처리\n",
    "- 다중 쿼리 실행, **오류 복구**, 스키마 기반 응답 기능 제공\n",
    "- 쿼리 생성, 구문 검사, 테이블 정보 조회 등 **다양한 도구** 활용"
   ]
  },
  {
   "cell_type": "code",
   "execution_count": 18,
   "metadata": {},
   "outputs": [
    {
     "data": {
      "text/plain": [
       "[QuerySQLDatabaseTool(description=\"Input to this tool is a detailed and correct SQL query, output is a result from the database. If the query is not correct, an error message will be returned. If an error is returned, rewrite the query, check the query, and try again. If you encounter an issue with Unknown column 'xxxx' in 'field list', use sql_db_schema to query the correct table fields.\", db=<langchain_community.utilities.sql_database.SQLDatabase object at 0x000002152BA22330>),\n",
       " InfoSQLDatabaseTool(description='Input to this tool is a comma-separated list of tables, output is the schema and sample rows for those tables. Be sure that the tables actually exist by calling sql_db_list_tables first! Example Input: table1, table2, table3', db=<langchain_community.utilities.sql_database.SQLDatabase object at 0x000002152BA22330>),\n",
       " ListSQLDatabaseTool(db=<langchain_community.utilities.sql_database.SQLDatabase object at 0x000002152BA22330>),\n",
       " QuerySQLCheckerTool(description='Use this tool to double check if your query is correct before executing it. Always use this tool before executing a query with sql_db_query!', db=<langchain_community.utilities.sql_database.SQLDatabase object at 0x000002152BA22330>, llm=ChatOpenAI(client=<openai.resources.chat.completions.completions.Completions object at 0x0000021555EDA030>, async_client=<openai.resources.chat.completions.completions.AsyncCompletions object at 0x00000215563D7860>, root_client=<openai.OpenAI object at 0x0000021555E20DA0>, root_async_client=<openai.AsyncOpenAI object at 0x0000021555E6FCB0>, model_name='gpt-4o-mini', model_kwargs={}, openai_api_key=SecretStr('**********')), llm_chain=LLMChain(verbose=False, prompt=PromptTemplate(input_variables=['dialect', 'query'], input_types={}, partial_variables={}, template='\\n{query}\\nDouble check the {dialect} query above for common mistakes, including:\\n- Using NOT IN with NULL values\\n- Using UNION when UNION ALL should have been used\\n- Using BETWEEN for exclusive ranges\\n- Data type mismatch in predicates\\n- Properly quoting identifiers\\n- Using the correct number of arguments for functions\\n- Casting to the correct data type\\n- Using the proper columns for joins\\n\\nIf there are any of the above mistakes, rewrite the query. If there are no mistakes, just reproduce the original query.\\n\\nOutput the final SQL query only.\\n\\nSQL Query: '), llm=ChatOpenAI(client=<openai.resources.chat.completions.completions.Completions object at 0x0000021555EDA030>, async_client=<openai.resources.chat.completions.completions.AsyncCompletions object at 0x00000215563D7860>, root_client=<openai.OpenAI object at 0x0000021555E20DA0>, root_async_client=<openai.AsyncOpenAI object at 0x0000021555E6FCB0>, model_name='gpt-4o-mini', model_kwargs={}, openai_api_key=SecretStr('**********')), output_parser=StrOutputParser(), llm_kwargs={}))]"
      ]
     },
     "execution_count": 18,
     "metadata": {},
     "output_type": "execute_result"
    }
   ],
   "source": [
    "from langchain_community.agent_toolkits import SQLDatabaseToolkit\n",
    "\n",
    "toolkit = SQLDatabaseToolkit(db=db, llm=llm)\n",
    "\n",
    "tools = toolkit.get_tools()\n",
    "\n",
    "tools"
   ]
  },
  {
   "cell_type": "markdown",
   "metadata": {},
   "source": [
    "`(2) 프롬프트 템플릿`"
   ]
  },
  {
   "cell_type": "code",
   "execution_count": 19,
   "metadata": {},
   "outputs": [
    {
     "name": "stdout",
     "output_type": "stream",
     "text": [
      "\n",
      "You are an agent designed to interact with a SQL database.\n",
      "Given an input question, create a syntactically correct sqlite query to run, \n",
      "then look at the results of the query and return the answer.\n",
      "Unless the user specifies a specific number of examples they wish to obtain, \n",
      "always limit your query to at most 5 results.\n",
      "You can order the results by a relevant column to return the most interesting examples in the database.\n",
      "Never query for all the columns from a specific table, only ask for the relevant columns given the question.\n",
      "You have access to tools for interacting with the database.\n",
      "Only use the below tools. Only use the information returned by the below tools to construct your final answer.\n",
      "You MUST double check your query before executing it. If you get an error while executing a query, rewrite the query and try again.\n",
      "\n",
      "DO NOT make any DML statements (INSERT, UPDATE, DELETE, DROP etc.) to the database.\n",
      "\n",
      "To start you should ALWAYS look at the tables in the database to see what you can query.\n",
      "Do NOT skip this step.\n",
      "Then you should query the schema of the most relevant tables.\n",
      "\n"
     ]
    }
   ],
   "source": [
    "system_message = \"\"\"\n",
    "You are an agent designed to interact with a SQL database.\n",
    "Given an input question, create a syntactically correct {dialect} query to run, \n",
    "then look at the results of the query and return the answer.\n",
    "Unless the user specifies a specific number of examples they wish to obtain, \n",
    "always limit your query to at most {top_k} results.\n",
    "You can order the results by a relevant column to return the most interesting examples in the database.\n",
    "Never query for all the columns from a specific table, only ask for the relevant columns given the question.\n",
    "You have access to tools for interacting with the database.\n",
    "Only use the below tools. Only use the information returned by the below tools to construct your final answer.\n",
    "You MUST double check your query before executing it. If you get an error while executing a query, rewrite the query and try again.\n",
    "\n",
    "DO NOT make any DML statements (INSERT, UPDATE, DELETE, DROP etc.) to the database.\n",
    "\n",
    "To start you should ALWAYS look at the tables in the database to see what you can query.\n",
    "Do NOT skip this step.\n",
    "Then you should query the schema of the most relevant tables.\n",
    "\"\"\".format(dialect=db.dialect, top_k=5)\n",
    "\n",
    "print(system_message)"
   ]
  },
  {
   "cell_type": "markdown",
   "metadata": {},
   "source": [
    "`(3) ReAct 에이전트 초기화`"
   ]
  },
  {
   "cell_type": "code",
   "execution_count": 20,
   "metadata": {},
   "outputs": [],
   "source": [
    "from langgraph.prebuilt import create_react_agent\n",
    "\n",
    "agent_executor = create_react_agent(llm, tools, prompt=system_message)"
   ]
  },
  {
   "cell_type": "markdown",
   "metadata": {},
   "source": [
    "`(4) ReAct 에이전트 실행`"
   ]
  },
  {
   "cell_type": "code",
   "execution_count": 21,
   "metadata": {},
   "outputs": [
    {
     "name": "stdout",
     "output_type": "stream",
     "text": [
      "================================\u001b[1m Human Message \u001b[0m=================================\n",
      "\n",
      "총보수가 0.1% 이하인 ETF는 모두 몇 개인가요?\n",
      "==================================\u001b[1m Ai Message \u001b[0m==================================\n",
      "Tool Calls:\n",
      "  sql_db_list_tables (call_QIP6z22MQe3bW8BaZkt27Mfe)\n",
      " Call ID: call_QIP6z22MQe3bW8BaZkt27Mfe\n",
      "  Args:\n",
      "=================================\u001b[1m Tool Message \u001b[0m=================================\n",
      "Name: sql_db_list_tables\n",
      "\n",
      "ETFs, ETFsInfo\n",
      "==================================\u001b[1m Ai Message \u001b[0m==================================\n",
      "Tool Calls:\n",
      "  sql_db_schema (call_7lgS3gTX5eXtJcYe4NPsZ72i)\n",
      " Call ID: call_7lgS3gTX5eXtJcYe4NPsZ72i\n",
      "  Args:\n",
      "    table_names: ETFs\n",
      "  sql_db_schema (call_rZuNAFJgTctJCeECy62XuvJP)\n",
      " Call ID: call_rZuNAFJgTctJCeECy62XuvJP\n",
      "  Args:\n",
      "    table_names: ETFsInfo\n",
      "=================================\u001b[1m Tool Message \u001b[0m=================================\n",
      "Name: sql_db_schema\n",
      "\n",
      "\n",
      "CREATE TABLE \"ETFsInfo\" (\n",
      "\t\"한글명\" TEXT, \n",
      "\t\"영문명\" TEXT, \n",
      "\t\"종목코드\" TEXT, \n",
      "\t\"상장일\" TEXT, \n",
      "\t\"펀드형태\" TEXT, \n",
      "\t\"기초지수명\" TEXT, \n",
      "\t\"추적배수\" TEXT, \n",
      "\t\"자산운용사\" TEXT, \n",
      "\t\"지정참가회사\" TEXT, \n",
      "\t\"총보수\" TEXT, \n",
      "\t\"회계기간\" TEXT, \n",
      "\t\"과세유형\" TEXT, \n",
      "\t\"분배금지급일\" TEXT, \n",
      "\t\"홈페이지\" TEXT, \n",
      "\t\"기초시장\" TEXT, \n",
      "\t\"기초자산\" TEXT, \n",
      "\t\"기본정보\" TEXT, \n",
      "\t\"투자유의사항\" TEXT, \n",
      "\tPRIMARY KEY (\"종목코드\")\n",
      ")\n",
      "\n",
      "/*\n",
      "3 rows from ETFsInfo table:\n",
      "한글명\t영문명\t종목코드\t상장일\t펀드형태\t기초지수명\t추적배수\t자산운용사\t지정참가회사\t총보수\t회계기간\t과세유형\t분배금지급일\t홈페이지\t기초시장\t기초자산\t기본정보\t투자유의사항\n",
      "TIGER 엔비디아미국채커버드콜밸런스(합성)\tTIGER SYNTH-NVIDIA UST Cvd Call Balanced\t0000D0\t2024-12-17\t수익증권형\tKEDI 엔비디아미국채30년타겟커버드콜혼합지수(TR)\t일반 (1)\t미래에셋자산운용(주)\t미래, 키움, 메리츠, 삼성\t0.39\t매년 1월 1일부터 12월 31일까지. 단, 최초 회계기간은 최초설정일로부터 당해연도 12월 31일까지\t배당소득세(보유기간과세)\t매월 마지막 영업일\twww.tigeretf.com\t(해외) (북미) (미국)\t(혼합자산) (주식+채권) / (-) (-) / (-)\t- 이 ETF는 주로 채권 및 채권관련 집합투자증권을을 주된 투자대상자산으로 하며, “KEDI 엔비디아 미국 30년 국채 타겟 커버드콜 혼합 지수(TR)(원화환산)”의 수익률 추종\t- 이 ETF의 수익률은 보수 또는 비용 등 이 ETF의 순자산가치에 부의 영향을 미치는 다양한 이유로 인하여 기초지수 수익률과 괴리(추적오차)가 발생할 수 있습니다. - 개인투자\n",
      "KODEX 200\tKODEX 200\t069500\t2002-10-14\t수익증권형\t코스피 200\t일반 (1)\t삼성자산운용(주)\tnan\t0.15\t매년 1월 1일부터 12월 31일까지\t비과세\t매 1, 4, 7, 10월의 마지막 영업일 및 회계기간 종료일(종료일이 영업일이 아닌 경우 종료일의 직전 영업일)\thttp://www.kodex.com\t(국내) (코스피) (-)\t(주식) (시장대표) / (-) (-) / (-)\t1좌당 순자산가치의 변동률을 기초지수인 KOSPI200의 변동률과 유사하도록 투자신탁재산을 운용하는 것을 목표로 합니다. 한국거래소가 산출하는 KOSPI200 지수는 한국을 대표하\t규정에서 정하는 한도를 초과하여 추적오차가 발생하고 일정기간 이상 지속될 경우, 지수 산정을 할 수 없는 경우, 그 외 상장폐지기준에 해당되거나 공익과 투자자보호를 위하여 증권시장\n",
      "KOSEF 200\tKOSEF 200\t069660\t2002-10-14\t수익증권형\t코스피 200\t일반 (1)\t키움투자자산운용(주)\tnan\t0.05\t매년 1월 1일부터 12월 31일까지\t비과세\t매 1, 4, 7, 10월의 마지막 영업일 및 회계기간 종료일(종료일이 영업일이 아닌 경우 종료일의 직전 영업일)\thttp://www.kosef.co.kr\t(국내) (코스피) (-)\t(주식) (시장대표) / (-) (-) / (-)\t1좌당 순자산가치의 변동률을 기초지수인 KOSPI 200 지수의 변동률과 유사하도록 투자신탁재산을 운용하는 것을 목표로 합니다. 한국거래소가 산출하는 KOSPI200 지수는 유가증\t이 투자신탁은 기초지수와 동일한 수익률을 실현함을 그 투자목적으로 하고 있으나, 투자신탁보수 및 위탁매매수수료 등 관련 비용의 지출 등 현실적 제한으로 인하여 기초지수와 동일한 수\n",
      "*/\n",
      "==================================\u001b[1m Ai Message \u001b[0m==================================\n",
      "Tool Calls:\n",
      "  sql_db_query_checker (call_vIJ6cZ1ziGuvPayV0Jguvd0u)\n",
      " Call ID: call_vIJ6cZ1ziGuvPayV0Jguvd0u\n",
      "  Args:\n",
      "    query: SELECT COUNT(*) FROM ETFs WHERE XJH_WAGE <= 0.001\n",
      "=================================\u001b[1m Tool Message \u001b[0m=================================\n",
      "Name: sql_db_query_checker\n",
      "\n",
      "SELECT COUNT(*) FROM ETFs WHERE XJH_WAGE <= 0.001\n",
      "==================================\u001b[1m Ai Message \u001b[0m==================================\n",
      "Tool Calls:\n",
      "  sql_db_query (call_tsASQbXurr2CSftcswLcriEL)\n",
      " Call ID: call_tsASQbXurr2CSftcswLcriEL\n",
      "  Args:\n",
      "    query: SELECT COUNT(*) FROM ETFs WHERE \f4\u0000\u00072\u000e;\u000079 <= 0.001\n",
      "=================================\u001b[1m Tool Message \u001b[0m=================================\n",
      "Name: sql_db_query\n",
      "\n",
      "Error: (sqlite3.ProgrammingError) the query contains a null character\n",
      "[SQL: SELECT COUNT(*) FROM ETFs WHERE \f4\u0000\u00072\u000e;\u000079 <= 0.001]\n",
      "(Background on this error at: https://sqlalche.me/e/20/f405)\n",
      "==================================\u001b[1m Ai Message \u001b[0m==================================\n",
      "Tool Calls:\n",
      "  sql_db_query_checker (call_ox9cgJu1RalPVvHUoUQ7YuRT)\n",
      " Call ID: call_ox9cgJu1RalPVvHUoUQ7YuRT\n",
      "  Args:\n",
      "    query: SELECT COUNT(*) FROM ETFs WHERE `총보수` <= 0.001\n",
      "=================================\u001b[1m Tool Message \u001b[0m=================================\n",
      "Name: sql_db_query_checker\n",
      "\n",
      "```sql\n",
      "SELECT COUNT(*) FROM ETFs WHERE `총보수` <= 0.001\n",
      "```\n",
      "==================================\u001b[1m Ai Message \u001b[0m==================================\n",
      "Tool Calls:\n",
      "  sql_db_query (call_2MCnSxkfJJ4I2vCIwKypNQKA)\n",
      " Call ID: call_2MCnSxkfJJ4I2vCIwKypNQKA\n",
      "  Args:\n",
      "    query: SELECT COUNT(*) FROM ETFs WHERE `총보수` <= 0.001\n",
      "=================================\u001b[1m Tool Message \u001b[0m=================================\n",
      "Name: sql_db_query\n",
      "\n",
      "[(1,)]\n",
      "==================================\u001b[1m Ai Message \u001b[0m==================================\n",
      "\n",
      "총보수가 0.1% 이하인 ETF는 1개입니다.\n"
     ]
    }
   ],
   "source": [
    "from langchain_core.messages import HumanMessage\n",
    "\n",
    "question = \"총보수가 0.1% 이하인 ETF는 모두 몇 개인가요?\"\n",
    "\n",
    "for step in agent_executor.stream(\n",
    "    {\"messages\": [HumanMessage(content=question)]}, \n",
    "    stream_mode=\"values\",\n",
    "):\n",
    "    step[\"messages\"][-1].pretty_print()"
   ]
  },
  {
   "cell_type": "markdown",
   "metadata": {},
   "source": [
    "## **DB 테이블 관리** \n",
    "\n",
    "- **테이블 선택** 및 **다중 테이블 처리** 기능으로 유연한 데이터 관리\n",
    "- 자연어로 표현된 질문을 **SQL로 자동 변환** 및 실행\n",
    "- 테이블 관리와 SQL 실행을 통합한 지능형 데이터베이스 시스템 구현"
   ]
  },
  {
   "cell_type": "markdown",
   "metadata": {},
   "source": [
    "`(1) 특정 테이블만 선택`\n",
    "\n",
    "- **Sakila Sample Database**\n",
    "- 출처: https://www.kaggle.com/datasets/atanaskanev/sqlite-sakila-sample-database/data"
   ]
  },
  {
   "cell_type": "code",
   "execution_count": 22,
   "metadata": {},
   "outputs": [
    {
     "name": "stdout",
     "output_type": "stream",
     "text": [
      "sqlite\n",
      "['actor', 'address', 'category', 'city', 'country', 'customer', 'film', 'film_actor', 'film_category', 'film_text', 'inventory', 'language', 'payment', 'rental', 'staff', 'store']\n"
     ]
    }
   ],
   "source": [
    "from langchain_community.utilities import SQLDatabase\n",
    "\n",
    "# SQLite 데이터베이스 연결\n",
    "db = SQLDatabase.from_uri(\"sqlite:///sqlite-sakila.db\", sample_rows_in_table_info=3)\n",
    "\n",
    "# 데이터베이스 정보 확인\n",
    "print(db.dialect)\n",
    "print(db.get_usable_table_names())"
   ]
  },
  {
   "cell_type": "code",
   "execution_count": 23,
   "metadata": {},
   "outputs": [
    {
     "name": "stdout",
     "output_type": "stream",
     "text": [
      "sqlite\n",
      "['film', 'film_actor', 'film_category', 'film_text']\n"
     ]
    }
   ],
   "source": [
    "from langchain_community.utilities import SQLDatabase\n",
    "\n",
    "# 일부 테이블 제외\n",
    "simple_db = SQLDatabase.from_uri(\n",
    "    \"sqlite:///sqlite-sakila.db\",\n",
    "    ignore_tables=['actor', 'address', 'category', 'city', 'country', 'customer', 'inventory', 'language', 'payment', 'rental', 'staff', 'store'],\n",
    "    )\n",
    "print(simple_db.dialect)\n",
    "\n",
    "# 사용 가능한 테이블 목록\n",
    "print(simple_db.get_usable_table_names())"
   ]
  },
  {
   "cell_type": "code",
   "execution_count": 24,
   "metadata": {},
   "outputs": [
    {
     "name": "stdout",
     "output_type": "stream",
     "text": [
      "(1, 'ACADEMY DINOSAUR', 'A Epic Drama of a Feminist And a Mad Scientist who must Battle a Teacher in The Canadian Rockies', '2006', 1, None, 6, 0.99, 86, 20.99, 'PG', 'Deleted Scenes,Behind the Scenes', '2021-03-06 15:52:00')\n",
      "(2, 'ACE GOLDFINGER', 'A Astounding Epistle of a Database Administrator And a Explorer who must Find a Car in Ancient China', '2006', 1, None, 3, 4.99, 48, 12.99, 'G', 'Trailers,Deleted Scenes', '2021-03-06 15:52:00')\n",
      "(3, 'ADAPTATION HOLES', 'A Astounding Reflection of a Lumberjack And a Car who must Sink a Lumberjack in A Baloon Factory', '2006', 1, None, 7, 2.99, 50, 18.99, 'NC-17', 'Trailers,Deleted Scenes', '2021-03-06 15:52:00')\n",
      "(4, 'AFFAIR PREJUDICE', 'A Fanciful Documentary of a Frisbee And a Lumberjack who must Chase a Monkey in A Shark Tank', '2006', 1, None, 5, 2.99, 117, 26.99, 'G', 'Commentaries,Behind the Scenes', '2021-03-06 15:52:00')\n",
      "(5, 'AFRICAN EGG', 'A Fast-Paced Documentary of a Pastry Chef And a Dentist who must Pursue a Forensic Psychologist in The Gulf of Mexico', '2006', 1, None, 6, 2.99, 130, 22.99, 'G', 'Deleted Scenes', '2021-03-06 15:52:00')\n"
     ]
    }
   ],
   "source": [
    "films = db.run(\"SELECT * FROM film LIMIT 5;\")\n",
    "\n",
    "for etf in eval(films):\n",
    "    print(etf)"
   ]
  },
  {
   "cell_type": "markdown",
   "metadata": {},
   "source": [
    "`(2) 복잡한 DB 스키마 처리`\n",
    "\n",
    "- 테이블들을 Film, Customer, Location 3개의 카테고리로 그룹화\n",
    "- Pydantic 모델을 사용하여 테이블 구조 정의"
   ]
  },
  {
   "cell_type": "code",
   "execution_count": 25,
   "metadata": {},
   "outputs": [
    {
     "name": "stdout",
     "output_type": "stream",
     "text": [
      "sqlite\n",
      "['actor', 'address', 'category', 'city', 'country', 'customer', 'film', 'film_actor', 'film_category', 'film_text', 'inventory', 'language', 'payment', 'rental', 'staff', 'store']\n"
     ]
    }
   ],
   "source": [
    "# 데이터베이스 정보 확인\n",
    "print(db.dialect)\n",
    "print(db.get_usable_table_names())"
   ]
  },
  {
   "cell_type": "code",
   "execution_count": 26,
   "metadata": {},
   "outputs": [],
   "source": [
    "from langchain_core.prompts import ChatPromptTemplate\n",
    "from langchain_core.runnables import RunnablePassthrough, RunnableLambda\n",
    "from langchain_openai import ChatOpenAI\n",
    "from pydantic import BaseModel, Field\n",
    "from operator import itemgetter\n",
    "from typing import List\n",
    "\n",
    "# 테이블 카테고리 정의를 위한 Pydantic 모델\n",
    "class Table(BaseModel):\n",
    "    \"\"\"SQL 데이터베이스의 테이블.\"\"\"\n",
    "    name: str = Field(description=\"SQL 데이터베이스의 테이블 이름\")\n",
    "    category: str = Field(description=\"테이블이 속하는 카테고리\")\n",
    "    purpose: str = Field(description=\"테이블의 주요 목적 및 역할\")\n",
    "\n",
    "class TableList(BaseModel):\n",
    "    \"\"\"SQL 데이터베이스의 테이블 목록.\"\"\"\n",
    "    tables: List[Table] = Field(description=\"관련된 테이블들의 목록\")\n",
    "\n",
    "# LLM 모델 초기화\n",
    "llm = ChatOpenAI(model='gpt-4o-mini')\n",
    "\n",
    "# 실제 SQLite Sakila 테이블에 맞춘 시스템 프롬프트\n",
    "system = \"\"\"당신은 Sakila DVD 대여점 데이터베이스의 전문가입니다.\n",
    "사용자 질문과 관련된 SQL 테이블들을 식별하고 적절한 카테고리로 분류하세요.\n",
    "\n",
    "## 실제 SQLite Sakila 데이터베이스 테이블 구조:\n",
    "테이블 목록: ['actor', 'address', 'category', 'city', 'country', 'customer', 'film', 'film_actor', 'film_category', 'film_text', 'inventory', 'language', 'payment', 'rental', 'staff', 'store']\n",
    "\n",
    "### 🎬 Film (영화 및 콘텐츠)\n",
    "- **film**: 영화 기본 정보 \n",
    "- **film_category**: 영화-카테고리 관계 테이블 \n",
    "- **film_actor**: 영화-배우 관계 테이블 \n",
    "- **category**: 영화 장르/카테고리 \n",
    "- **language**: 영화 언어 정보 \n",
    "- **actor**: 배우 정보 \n",
    "\n",
    "### 👥 Customer (고객 및 직원)\n",
    "- **customer**: 고객 정보 \n",
    "- **staff**: 직원 정보 \n",
    "\n",
    "### 💰 Transaction (거래 및 대여)\n",
    "- **rental**: 대여 기록 \n",
    "- **payment**: 결제 정보 \n",
    "\n",
    "### 📦 Inventory (재고 관리)\n",
    "- **inventory**: 영화 재고 정보 \n",
    "\n",
    "### 🏪 Location (위치 및 매장)\n",
    "- **store**: 매장 정보 \n",
    "- **address**: 주소 정보 \n",
    "- **city**: 도시 정보 \n",
    "- **country**: 국가 정보\n",
    "\n",
    "## 테이블 간 주요 관계:\n",
    "- **customer** → **rental** → **payment**: 고객이 영화를 대여하고 결제\n",
    "- **film** → **inventory** → **rental**: 영화 재고를 통한 대여 관리\n",
    "- **film** ↔ **actor** (film_actor): 영화와 배우 다대다 관계\n",
    "- **film** ↔ **category** (film_category): 영화와 장르 다대다 관계\n",
    "- **store** → **inventory**: 매장별 재고 관리\n",
    "- **address** → **city** → **country**: 계층적 주소 구조\n",
    "- **staff** → **store**: 직원과 근무 매장 관계\n",
    "\n",
    "## 분석 시 고려사항:\n",
    "- 대여 분석: rental, customer, inventory, film 테이블 조합 필요\n",
    "- 매출 분석: payment, rental, customer 테이블 조합 필요  \n",
    "- 영화 검색: film, film_text, actor, category, language 테이블 활용\n",
    "- 지역별 분석: store, address, city, country 테이블 조합 필요\n",
    "\n",
    "사용자 질문을 분석하여 관련된 테이블들을 식별하고, 각 테이블의 카테고리와 목적을 명시하세요.\"\"\"\n",
    "\n",
    "# 프롬프트 템플릿 생성\n",
    "prompt = ChatPromptTemplate.from_messages([\n",
    "    (\"system\", system),\n",
    "    (\"human\", \"질문: {input}\\n\\n위 질문에 답하기 위해 필요한 테이블들을 식별하고 분류해주세요.\"),\n",
    "])\n",
    "\n",
    "# LLM 구조화 출력 설정\n",
    "structure_llm = llm.with_structured_output(TableList)\n",
    "\n",
    "# 카테고리 체인 생성\n",
    "category_chain = prompt | structure_llm"
   ]
  },
  {
   "cell_type": "code",
   "execution_count": 27,
   "metadata": {},
   "outputs": [
    {
     "name": "stdout",
     "output_type": "stream",
     "text": [
      "📋 테이블: customer\n",
      "   카테고리: 👥 Customer (고객 및 직원)\n",
      "   목적: 고객 정보 제공\n",
      "\n",
      "📋 테이블: rental\n",
      "   카테고리: 💰 Transaction (거래 및 대여)\n",
      "   목적: 대여 기록 관리\n",
      "\n",
      "📋 테이블: inventory\n",
      "   카테고리: 📦 Inventory (재고 관리)\n",
      "   목적: 영화 재고 정보 제공\n",
      "\n",
      "📋 테이블: film\n",
      "   카테고리: 🎬 Film (영화 및 콘텐츠)\n",
      "   목적: 영화 기본 정보 제공\n",
      "\n"
     ]
    }
   ],
   "source": [
    "# Customer 카테고리 체인 실행 \n",
    "question = \"어떤 고객이 가장 많은 영화를 대여했나요?\"\n",
    "table_list = category_chain.invoke({\"input\": question})\n",
    "\n",
    "for table in table_list.tables:\n",
    "    print(f\"📋 테이블: {table.name}\")\n",
    "    print(f\"   카테고리: {table.category}\")\n",
    "    print(f\"   목적: {table.purpose}\")\n",
    "    print()"
   ]
  },
  {
   "cell_type": "code",
   "execution_count": 28,
   "metadata": {},
   "outputs": [
    {
     "name": "stdout",
     "output_type": "stream",
     "text": [
      "📋 테이블: category\n",
      "   카테고리: 🎬 Film (영화 및 콘텐츠)\n",
      "   목적: 영화 장르/카테고리 정보 제공\n",
      "\n",
      "📋 테이블: film_category\n",
      "   카테고리: 🎬 Film (영화 및 콘텐츠)\n",
      "   목적: 영화와 장르 간의 관계 테이블로, 영화가 어떤 장르에 속하는지 정보 제공\n",
      "\n",
      "📋 테이블: film\n",
      "   카테고리: 🎬 Film (영화 및 콘텐츠)\n",
      "   목적: 영화의 기본 정보 및 인기도 확인을 위한 데이터 제공\n",
      "\n",
      "📋 테이블: rental\n",
      "   카테고리: 💰 Transaction (거래 및 대여)\n",
      "   목적: 대여 기록을 통해 각 카테고리의 영화 대여 횟수 분석\n",
      "\n",
      "📋 테이블: payment\n",
      "   카테고리: 💰 Transaction (거래 및 대여)\n",
      "   목적: 결제 정보로 대여된 영화의 매출 분석을 위한 데이터 제공\n",
      "\n"
     ]
    }
   ],
   "source": [
    "# Film 카테고리 체인 실행\n",
    "question = \"가장 인기 있는 영화 장르는 무엇인가요?\"\n",
    "table_list = category_chain.invoke({\"input\": question})\n",
    "\n",
    "for table in table_list.tables:\n",
    "    print(f\"📋 테이블: {table.name}\")\n",
    "    print(f\"   카테고리: {table.category}\")\n",
    "    print(f\"   목적: {table.purpose}\")\n",
    "    print()"
   ]
  },
  {
   "cell_type": "code",
   "execution_count": 29,
   "metadata": {},
   "outputs": [
    {
     "name": "stdout",
     "output_type": "stream",
     "text": [
      "📋 테이블: payment\n",
      "   카테고리: Transaction\n",
      "   목적: 결제 정보를 담고 있어 매출 분석에 필요\n",
      "\n",
      "📋 테이블: rental\n",
      "   카테고리: Transaction\n",
      "   목적: 대여 기록을 포함하여 매출이 발생하는 상황을 제공\n",
      "\n",
      "📋 테이블: customer\n",
      "   카테고리: Customer\n",
      "   목적: 고객 정보로 매출 관련 분석에 필수적\n",
      "\n",
      "📋 테이블: store\n",
      "   카테고리: Location\n",
      "   목적: 매장 정보를 통해 매출을 매장 단위로 분석할 수 있음\n",
      "\n"
     ]
    }
   ],
   "source": [
    "# Location 카테고리 체인 실행\n",
    "question = \"각 매장의 총 매출은 얼마인가요?\"\n",
    "table_list = category_chain.invoke({\"input\": question})\n",
    "\n",
    "for table in table_list.tables:\n",
    "    print(f\"📋 테이블: {table.name}\")\n",
    "    print(f\"   카테고리: {table.category}\")\n",
    "    print(f\"   목적: {table.purpose}\")\n",
    "    print()\n"
   ]
  },
  {
   "cell_type": "markdown",
   "metadata": {},
   "source": [
    "- **모든 테이블 사용**"
   ]
  },
  {
   "cell_type": "code",
   "execution_count": 30,
   "metadata": {},
   "outputs": [
    {
     "name": "stdout",
     "output_type": "stream",
     "text": [
      "SELECT c.first_name, c.last_name, COUNT(r.rental_id) AS rental_count\n",
      "FROM customer c\n",
      "JOIN rental r ON c.customer_id = r.customer_id\n",
      "GROUP BY c.customer_id\n",
      "ORDER BY rental_count DESC\n",
      "LIMIT 10;\n"
     ]
    }
   ],
   "source": [
    "from typing import Annotated, TypedDict\n",
    "\n",
    "class QueryOutput(TypedDict):\n",
    "    \"\"\"Generated SQL query.\"\"\"\n",
    "    query: Annotated[str, ..., \"Syntactically valid SQL query.\"]\n",
    "\n",
    "# SQL 쿼리 체인 생성\n",
    "partial_prompt_template = query_prompt_template.format(\n",
    "    dialect=db.dialect,\n",
    "    top_k=10,\n",
    "    table_info=\"{table_names_to_use}\",\n",
    "    input=\"{question}\"\n",
    ")\n",
    "\n",
    "# 프롬프트 템플릿 생성\n",
    "prompt = ChatPromptTemplate.from_template(partial_prompt_template)\n",
    "\n",
    "structured_llm = llm.with_structured_output(QueryOutput)\n",
    "query_chain = prompt | structured_llm\n",
    "\n",
    "# SQL 쿼리 생성 - 모든 테이블 사용\n",
    "response = query_chain.invoke({\n",
    "    \"question\": \"가장 많은 작품을 대여한 고객은 누구인가요?\",\n",
    "    \"table_names_to_use\": db.get_table_info()})\n",
    "\n",
    "print(response.get(\"query\"))\n"
   ]
  },
  {
   "cell_type": "code",
   "execution_count": 31,
   "metadata": {},
   "outputs": [
    {
     "data": {
      "text/plain": [
       "\"[('ELEANOR', 'HUNT', 46), ('KARL', 'SEAL', 45), ('CLARA', 'SHAW', 42), ('MARCIA', 'DEAN', 42), ('TAMMY', 'SANDERS', 41), ('SUE', 'PETERS', 40), ('WESLEY', 'BULL', 40), ('RHONDA', 'KENNEDY', 39), ('MARION', 'SNYDER', 39), ('TIM', 'CARY', 39)]\""
      ]
     },
     "execution_count": 31,
     "metadata": {},
     "output_type": "execute_result"
    }
   ],
   "source": [
    "# SQL 쿼리 실행\n",
    "db.run(response.get(\"query\"))"
   ]
  },
  {
   "cell_type": "markdown",
   "metadata": {},
   "source": [
    "- **일부 테이블 사용**"
   ]
  },
  {
   "cell_type": "code",
   "execution_count": 32,
   "metadata": {},
   "outputs": [
    {
     "data": {
      "text/plain": [
       "['customer', 'rental', 'film']"
      ]
     },
     "execution_count": 32,
     "metadata": {},
     "output_type": "execute_result"
    }
   ],
   "source": [
    "# 테이블 이름 체인 생성 (테이블 이름 추출)\n",
    "table_chain = (\n",
    "    {\"input\": itemgetter(\"question\")} \n",
    "    | category_chain \n",
    "    | RunnableLambda(lambda x: [t.name for t in x.tables])\n",
    ")\n",
    "\n",
    "# 테이블 이름 체인 실행\n",
    "table_chain.invoke({\"question\": \"가장 많은 작품을 대여한 고객은 누구인가요?\"})"
   ]
  },
  {
   "cell_type": "code",
   "execution_count": 33,
   "metadata": {},
   "outputs": [
    {
     "name": "stdout",
     "output_type": "stream",
     "text": [
      "SELECT c.first_name, c.last_name, COUNT(r.rental_id) AS rentals_count\n",
      "FROM customer c\n",
      "JOIN rental r ON c.customer_id = r.customer_id\n",
      "GROUP BY c.customer_id\n",
      "ORDER BY rentals_count DESC\n",
      "LIMIT 10;\n"
     ]
    }
   ],
   "source": [
    "# 최종 체인 연결 (테이블 이름 추출 -> SQL 쿼리 생성) -> 추출된 일부 테이블 정보를 사용하여 쿼리 생성\n",
    "full_chain = RunnablePassthrough.assign(\n",
    "    table_names_to_use=table_chain | RunnableLambda(lambda x: db.get_table_info(x))\n",
    "    ) | query_chain\n",
    "\n",
    "response = full_chain.invoke({\"question\": \"가장 많은 작품을 대여한 고객은 누구인가요?\"})\n",
    "print(response.get(\"query\"))"
   ]
  },
  {
   "cell_type": "code",
   "execution_count": 34,
   "metadata": {},
   "outputs": [
    {
     "data": {
      "text/plain": [
       "\"[('ELEANOR', 'HUNT', 46), ('KARL', 'SEAL', 45), ('CLARA', 'SHAW', 42), ('MARCIA', 'DEAN', 42), ('TAMMY', 'SANDERS', 41), ('SUE', 'PETERS', 40), ('WESLEY', 'BULL', 40), ('RHONDA', 'KENNEDY', 39), ('MARION', 'SNYDER', 39), ('TIM', 'CARY', 39)]\""
      ]
     },
     "execution_count": 34,
     "metadata": {},
     "output_type": "execute_result"
    }
   ],
   "source": [
    "# SQL 쿼리 실행\n",
    "db.run(response.get(\"query\")) "
   ]
  },
  {
   "cell_type": "markdown",
   "metadata": {},
   "source": [
    "- **Agent로 구현**"
   ]
  },
  {
   "cell_type": "code",
   "execution_count": 35,
   "metadata": {},
   "outputs": [
    {
     "name": "stdout",
     "output_type": "stream",
     "text": [
      "================================\u001b[1m Human Message \u001b[0m=================================\n",
      "\n",
      "가장 많은 작품을 대여한 고객은 누구인가요?\n",
      "==================================\u001b[1m Ai Message \u001b[0m==================================\n",
      "Tool Calls:\n",
      "  select_relevant_tables (call_cDJrVHocey0PbDF38xXUYehb)\n",
      " Call ID: call_cDJrVHocey0PbDF38xXUYehb\n",
      "  Args:\n",
      "    question: 가장 많은 작품을 대여한 고객은 누구인가요?\n",
      "=================================\u001b[1m Tool Message \u001b[0m=================================\n",
      "Name: select_relevant_tables\n",
      "\n",
      "관련 테이블: customer, rental, film\n",
      "\n",
      "\n",
      "CREATE TABLE customer (\n",
      "\tcustomer_id INTEGER NOT NULL, \n",
      "\tstore_id INTEGER NOT NULL, \n",
      "\tfirst_name VARCHAR(45) NOT NULL, \n",
      "\tlast_name VARCHAR(45) NOT NULL, \n",
      "\temail VARCHAR(50) DEFAULT NULL, \n",
      "\taddress_id INTEGER NOT NULL, \n",
      "\tactive CHAR(1) DEFAULT 'Y' NOT NULL, \n",
      "\tcreate_date TIMESTAMP NOT NULL, \n",
      "\tlast_update TIMESTAMP NOT NULL, \n",
      "\tPRIMARY KEY (customer_id), \n",
      "\tCONSTRAINT fk_customer_store FOREIGN KEY(store_id) REFERENCES store (store_id) ON UPDATE CASCADE, \n",
      "\tCONSTRAINT fk_customer_address FOREIGN KEY(address_id) REFERENCES address (address_id) ON UPDATE CASCADE\n",
      ")\n",
      "\n",
      "/*\n",
      "3 rows from customer table:\n",
      "customer_id\tstore_id\tfirst_name\tlast_name\temail\taddress_id\tactive\tcreate_date\tlast_update\n",
      "1\t1\tMARY\tSMITH\tMARY.SMITH@sakilacustomer.org\t5\t1\t2006-02-14 22:04:36\t2021-03-06 15:53:36\n",
      "2\t1\tPATRICIA\tJOHNSON\tPATRICIA.JOHNSON@sakilacustomer.org\t6\t1\t2006-02-14 22:04:36\t2021-03-06 15:53:36\n",
      "3\t1\tLINDA\tWILLIAMS\tLINDA.WILLIAMS@sakilacustomer.org\t7\t1\t2006-02-14 22:04:36\t2021-03-06 15:53:36\n",
      "*/\n",
      "\n",
      "\n",
      "CREATE TABLE film (\n",
      "\tfilm_id INTEGER NOT NULL, \n",
      "\ttitle VARCHAR(255) NOT NULL, \n",
      "\tdescription TEXT DEFAULT NULL, \n",
      "\trelease_year VARCHAR(4) DEFAULT NULL, \n",
      "\tlanguage_id SMALLINT NOT NULL, \n",
      "\toriginal_language_id SMALLINT DEFAULT NULL, \n",
      "\trental_duration SMALLINT DEFAULT 3 NOT NULL, \n",
      "\trental_rate DECIMAL(4, 2) DEFAULT (4.99) NOT NULL, \n",
      "\tlength SMALLINT DEFAULT NULL, \n",
      "\treplacement_cost DECIMAL(5, 2) DEFAULT (19.99) NOT NULL, \n",
      "\trating VARCHAR(10) DEFAULT 'G', \n",
      "\tspecial_features VARCHAR(100) DEFAULT NULL, \n",
      "\tlast_update TIMESTAMP NOT NULL, \n",
      "\tPRIMARY KEY (film_id), \n",
      "\tCONSTRAINT fk_film_language FOREIGN KEY(language_id) REFERENCES language (language_id), \n",
      "\tCONSTRAINT fk_film_language_original FOREIGN KEY(original_language_id) REFERENCES language (language_id), \n",
      "\tCONSTRAINT \"CHECK_special_rating\" CHECK (rating in ('G','PG','PG-13','R','NC-17'))\n",
      ")\n",
      "\n",
      "/*\n",
      "3 rows from film table:\n",
      "film_id\ttitle\tdescription\trelease_year\tlanguage_id\toriginal_language_id\trental_duration\trental_rate\tlength\treplacement_cost\trating\tspecial_features\tlast_update\n",
      "1\tACADEMY DINOSAUR\tA Epic Drama of a Feminist And a Mad Scientist who must Battle a Teacher in The Canadian Rockies\t2006\t1\tNone\t6\t0.99\t86\t20.99\tPG\tDeleted Scenes,Behind the Scenes\t2021-03-06 15:52:00\n",
      "2\tACE GOLDFINGER\tA Astounding Epistle of a Database Administrator And a Explorer who must Find a Car in Ancient China\t2006\t1\tNone\t3\t4.99\t48\t12.99\tG\tTrailers,Deleted Scenes\t2021-03-06 15:52:00\n",
      "3\tADAPTATION HOLES\tA Astounding Reflection of a Lumberjack And a Car who must Sink a Lumberjack in A Baloon Factory\t2006\t1\tNone\t7\t2.99\t50\t18.99\tNC-17\tTrailers,Deleted Scenes\t2021-03-06 15:52:00\n",
      "*/\n",
      "\n",
      "\n",
      "CREATE TABLE rental (\n",
      "\trental_id INTEGER NOT NULL, \n",
      "\trental_date TIMESTAMP NOT NULL, \n",
      "\tinventory_id INTEGER NOT NULL, \n",
      "\tcustomer_id INTEGER NOT NULL, \n",
      "\treturn_date TIMESTAMP DEFAULT NULL, \n",
      "\tstaff_id SMALLINT NOT NULL, \n",
      "\tlast_update TIMESTAMP NOT NULL, \n",
      "\tPRIMARY KEY (rental_id), \n",
      "\tCONSTRAINT fk_rental_staff FOREIGN KEY(staff_id) REFERENCES staff (staff_id), \n",
      "\tCONSTRAINT fk_rental_inventory FOREIGN KEY(inventory_id) REFERENCES inventory (inventory_id), \n",
      "\tCONSTRAINT fk_rental_customer FOREIGN KEY(customer_id) REFERENCES customer (customer_id)\n",
      ")\n",
      "\n",
      "/*\n",
      "3 rows from rental table:\n",
      "rental_id\trental_date\tinventory_id\tcustomer_id\treturn_date\tstaff_id\tlast_update\n",
      "1\t2005-05-24 22:53:30\t367\t130\t2005-05-26 22:04:30\t1\t2021-03-06 15:53:41\n",
      "2\t2005-05-24 22:54:33\t1525\t459\t2005-05-28 19:40:33\t1\t2021-03-06 15:53:41\n",
      "3\t2005-05-24 23:03:39\t1711\t408\t2005-06-01 22:12:39\t1\t2021-03-06 15:53:41\n",
      "*/\n",
      "==================================\u001b[1m Ai Message \u001b[0m==================================\n",
      "Tool Calls:\n",
      "  sql_db_query_checker (call_qrzhg8BwCDgbQ6sURjwXfeJe)\n",
      " Call ID: call_qrzhg8BwCDgbQ6sURjwXfeJe\n",
      "  Args:\n",
      "    query: SELECT customer_id, COUNT(rental_id) AS rental_count FROM rental GROUP BY customer_id ORDER BY rental_count DESC LIMIT 5;\n",
      "=================================\u001b[1m Tool Message \u001b[0m=================================\n",
      "Name: sql_db_query_checker\n",
      "\n",
      "```sql\n",
      "SELECT customer_id, COUNT(rental_id) AS rental_count FROM rental GROUP BY customer_id ORDER BY rental_count DESC LIMIT 5;\n",
      "```\n",
      "==================================\u001b[1m Ai Message \u001b[0m==================================\n",
      "Tool Calls:\n",
      "  sql_db_query (call_NF0zu5tzKtfP88r8Xf742Edy)\n",
      " Call ID: call_NF0zu5tzKtfP88r8Xf742Edy\n",
      "  Args:\n",
      "    query: SELECT customer_id, COUNT(rental_id) AS rental_count FROM rental GROUP BY customer_id ORDER BY rental_count DESC LIMIT 5;\n",
      "=================================\u001b[1m Tool Message \u001b[0m=================================\n",
      "Name: sql_db_query\n",
      "\n",
      "[(148, 46), (526, 45), (144, 42), (236, 42), (75, 41)]\n",
      "==================================\u001b[1m Ai Message \u001b[0m==================================\n",
      "Tool Calls:\n",
      "  sql_db_query (call_Lj8Mooe75BOMSbmPxYpGrsiq)\n",
      " Call ID: call_Lj8Mooe75BOMSbmPxYpGrsiq\n",
      "  Args:\n",
      "    query: SELECT first_name, last_name FROM customer WHERE customer_id IN (148, 526, 144, 236, 75);\n",
      "=================================\u001b[1m Tool Message \u001b[0m=================================\n",
      "Name: sql_db_query\n",
      "\n",
      "[('TAMMY', 'SANDERS'), ('CLARA', 'SHAW'), ('ELEANOR', 'HUNT'), ('MARCIA', 'DEAN'), ('KARL', 'SEAL')]\n",
      "==================================\u001b[1m Ai Message \u001b[0m==================================\n",
      "\n",
      "가장 많은 작품을 대여한 고객은 다음과 같습니다:\n",
      "\n",
      "1. TAMMY SANDERS (46회 대여)\n",
      "2. CLARA SHAW (45회 대여)\n",
      "3. ELEANOR HUNT (42회 대여)\n",
      "4. MARCIA DEAN (42회 대여)\n",
      "5. KARL SEAL (41회 대여)\n"
     ]
    }
   ],
   "source": [
    "from langchain_core.tools import tool\n",
    "from typing import List\n",
    "from langchain_community.agent_toolkits import SQLDatabaseToolkit\n",
    "from langgraph.prebuilt import create_react_agent\n",
    "from langchain_core.messages import HumanMessage\n",
    "\n",
    "### 1. 테이블 선택 도구 생성\n",
    "\n",
    "@tool  \n",
    "def select_relevant_tables(question: str) -> str:\n",
    "    \"\"\"질문과 관련된 테이블의 스키마 정보를 반환한다.\"\"\"\n",
    "    # 기존 table_chain 결과를 직접 사용\n",
    "    try:\n",
    "        selected_tables = table_chain.invoke({\"question\": question})\n",
    "        table_info = db.get_table_info(selected_tables)\n",
    "        return f\"관련 테이블: {', '.join(selected_tables)}\\n\\n{table_info}\"\n",
    "    except Exception as e:\n",
    "        return f\"테이블 선택 중 오류 발생: {str(e)}\"\n",
    "\n",
    "\n",
    "### 2. Agent 구현\n",
    "\n",
    "# 기본 SQL 도구킷 생성\n",
    "toolkit = SQLDatabaseToolkit(db=db, llm=llm)\n",
    "sql_tools = toolkit.get_tools()\n",
    "\n",
    "# 커스텀 테이블 선택 도구 추가\n",
    "custom_tools = [select_relevant_tables]  \n",
    "\n",
    "# 모든 도구 결합\n",
    "all_tools = sql_tools + custom_tools\n",
    "\n",
    "# 4. 시스템 메시지 정의 (테이블 선택 기능 포함)\n",
    "system_message = f\"\"\"\n",
    "You are an agent designed to interact with a SQL database.\n",
    "Given an input question, create a syntactically correct {db.dialect} query to run, \n",
    "then look at the results of the query and return the answer.\n",
    "Unless the user specifies a specific number of examples they wish to obtain, \n",
    "always limit your query to at most 5 results.\n",
    "\n",
    "You have access to tools for interacting with the database.\n",
    "Only use the below tools. Only use the information returned by the below tools to construct your final answer.\n",
    "\n",
    "IMPORTANT WORKFLOW:\n",
    "1. FIRST, use the 'select_relevant_tables' tool to identify relevant tables for the question\n",
    "2. THEN, if needed, use 'sql_db_list_tables' to see all available tables\n",
    "3. THEN, use 'sql_db_schema' to get detailed schema for specific tables\n",
    "4. THEN, use 'sql_db_query_checker' to validate your query before execution\n",
    "5. FINALLY, use 'sql_db_query' to execute the validated query\n",
    "\n",
    "You MUST double check your query before executing it. If you get an error while executing a query, rewrite the query and try again.\n",
    "DO NOT make any DML statements (INSERT, UPDATE, DELETE, DROP etc.) to the database.\n",
    "\n",
    "Never query for all the columns from a specific table, only ask for the relevant columns given the question.\n",
    "\"\"\"\n",
    "\n",
    "# Agent 생성\n",
    "agent_executor = create_react_agent(llm, all_tools, prompt=system_message)\n",
    "\n",
    "# 실행\n",
    "question = \"가장 많은 작품을 대여한 고객은 누구인가요?\"\n",
    "\n",
    "for step in agent_executor.stream(\n",
    "    {\"messages\": [{\"role\": \"user\", \"content\": question}]},\n",
    "    stream_mode=\"values\",\n",
    "):\n",
    "    step[\"messages\"][-1].pretty_print()\n"
   ]
  },
  {
   "cell_type": "code",
   "execution_count": 36,
   "metadata": {},
   "outputs": [
    {
     "name": "stdout",
     "output_type": "stream",
     "text": [
      "================================\u001b[1m Human Message \u001b[0m=================================\n",
      "\n",
      "가장 인기 있는 영화 장르는 무엇인가요?\n",
      "==================================\u001b[1m Ai Message \u001b[0m==================================\n",
      "Tool Calls:\n",
      "  select_relevant_tables (call_MvWIs6pc5MshhR6NRg6vw5O2)\n",
      " Call ID: call_MvWIs6pc5MshhR6NRg6vw5O2\n",
      "  Args:\n",
      "    question: 가장 인기 있는 영화 장르는 무엇인가요?\n",
      "=================================\u001b[1m Tool Message \u001b[0m=================================\n",
      "Name: select_relevant_tables\n",
      "\n",
      "관련 테이블: film_category, category, rental, film\n",
      "\n",
      "\n",
      "CREATE TABLE category (\n",
      "\tcategory_id SMALLINT NOT NULL, \n",
      "\tname VARCHAR(25) NOT NULL, \n",
      "\tlast_update TIMESTAMP NOT NULL, \n",
      "\tPRIMARY KEY (category_id)\n",
      ")\n",
      "\n",
      "/*\n",
      "3 rows from category table:\n",
      "category_id\tname\tlast_update\n",
      "1\tAction\t2021-03-06 15:52:00\n",
      "2\tAnimation\t2021-03-06 15:52:00\n",
      "3\tChildren\t2021-03-06 15:52:00\n",
      "*/\n",
      "\n",
      "\n",
      "CREATE TABLE film (\n",
      "\tfilm_id INTEGER NOT NULL, \n",
      "\ttitle VARCHAR(255) NOT NULL, \n",
      "\tdescription TEXT DEFAULT NULL, \n",
      "\trelease_year VARCHAR(4) DEFAULT NULL, \n",
      "\tlanguage_id SMALLINT NOT NULL, \n",
      "\toriginal_language_id SMALLINT DEFAULT NULL, \n",
      "\trental_duration SMALLINT DEFAULT 3 NOT NULL, \n",
      "\trental_rate DECIMAL(4, 2) DEFAULT (4.99) NOT NULL, \n",
      "\tlength SMALLINT DEFAULT NULL, \n",
      "\treplacement_cost DECIMAL(5, 2) DEFAULT (19.99) NOT NULL, \n",
      "\trating VARCHAR(10) DEFAULT 'G', \n",
      "\tspecial_features VARCHAR(100) DEFAULT NULL, \n",
      "\tlast_update TIMESTAMP NOT NULL, \n",
      "\tPRIMARY KEY (film_id), \n",
      "\tCONSTRAINT fk_film_language FOREIGN KEY(language_id) REFERENCES language (language_id), \n",
      "\tCONSTRAINT fk_film_language_original FOREIGN KEY(original_language_id) REFERENCES language (language_id), \n",
      "\tCONSTRAINT \"CHECK_special_rating\" CHECK (rating in ('G','PG','PG-13','R','NC-17'))\n",
      ")\n",
      "\n",
      "/*\n",
      "3 rows from film table:\n",
      "film_id\ttitle\tdescription\trelease_year\tlanguage_id\toriginal_language_id\trental_duration\trental_rate\tlength\treplacement_cost\trating\tspecial_features\tlast_update\n",
      "1\tACADEMY DINOSAUR\tA Epic Drama of a Feminist And a Mad Scientist who must Battle a Teacher in The Canadian Rockies\t2006\t1\tNone\t6\t0.99\t86\t20.99\tPG\tDeleted Scenes,Behind the Scenes\t2021-03-06 15:52:00\n",
      "2\tACE GOLDFINGER\tA Astounding Epistle of a Database Administrator And a Explorer who must Find a Car in Ancient China\t2006\t1\tNone\t3\t4.99\t48\t12.99\tG\tTrailers,Deleted Scenes\t2021-03-06 15:52:00\n",
      "3\tADAPTATION HOLES\tA Astounding Reflection of a Lumberjack And a Car who must Sink a Lumberjack in A Baloon Factory\t2006\t1\tNone\t7\t2.99\t50\t18.99\tNC-17\tTrailers,Deleted Scenes\t2021-03-06 15:52:00\n",
      "*/\n",
      "\n",
      "\n",
      "CREATE TABLE film_category (\n",
      "\tfilm_id INTEGER NOT NULL, \n",
      "\tcategory_id SMALLINT NOT NULL, \n",
      "\tlast_update TIMESTAMP NOT NULL, \n",
      "\tPRIMARY KEY (film_id, category_id), \n",
      "\tCONSTRAINT fk_film_category_film FOREIGN KEY(film_id) REFERENCES film (film_id) ON UPDATE CASCADE, \n",
      "\tCONSTRAINT fk_film_category_category FOREIGN KEY(category_id) REFERENCES category (category_id) ON UPDATE CASCADE\n",
      ")\n",
      "\n",
      "/*\n",
      "3 rows from film_category table:\n",
      "film_id\tcategory_id\tlast_update\n",
      "1\t6\t2021-03-06 15:53:28\n",
      "2\t11\t2021-03-06 15:53:28\n",
      "3\t6\t2021-03-06 15:53:28\n",
      "*/\n",
      "\n",
      "\n",
      "CREATE TABLE rental (\n",
      "\trental_id INTEGER NOT NULL, \n",
      "\trental_date TIMESTAMP NOT NULL, \n",
      "\tinventory_id INTEGER NOT NULL, \n",
      "\tcustomer_id INTEGER NOT NULL, \n",
      "\treturn_date TIMESTAMP DEFAULT NULL, \n",
      "\tstaff_id SMALLINT NOT NULL, \n",
      "\tlast_update TIMESTAMP NOT NULL, \n",
      "\tPRIMARY KEY (rental_id), \n",
      "\tCONSTRAINT fk_rental_staff FOREIGN KEY(staff_id) REFERENCES staff (staff_id), \n",
      "\tCONSTRAINT fk_rental_inventory FOREIGN KEY(inventory_id) REFERENCES inventory (inventory_id), \n",
      "\tCONSTRAINT fk_rental_customer FOREIGN KEY(customer_id) REFERENCES customer (customer_id)\n",
      ")\n",
      "\n",
      "/*\n",
      "3 rows from rental table:\n",
      "rental_id\trental_date\tinventory_id\tcustomer_id\treturn_date\tstaff_id\tlast_update\n",
      "1\t2005-05-24 22:53:30\t367\t130\t2005-05-26 22:04:30\t1\t2021-03-06 15:53:41\n",
      "2\t2005-05-24 22:54:33\t1525\t459\t2005-05-28 19:40:33\t1\t2021-03-06 15:53:41\n",
      "3\t2005-05-24 23:03:39\t1711\t408\t2005-06-01 22:12:39\t1\t2021-03-06 15:53:41\n",
      "*/\n",
      "==================================\u001b[1m Ai Message \u001b[0m==================================\n",
      "Tool Calls:\n",
      "  sql_db_query (call_F7FbwmUM8x8fU31cTZzVW1u1)\n",
      " Call ID: call_F7FbwmUM8x8fU31cTZzVW1u1\n",
      "  Args:\n",
      "    query: SELECT c.name, COUNT(fc.film_id) as film_count \n",
      "FROM film_category fc \n",
      "JOIN category c ON fc.category_id = c.category_id \n",
      "GROUP BY c.name \n",
      "ORDER BY film_count DESC \n",
      "LIMIT 5;\n",
      "=================================\u001b[1m Tool Message \u001b[0m=================================\n",
      "Name: sql_db_query\n",
      "\n",
      "[('Sports', 74), ('Foreign', 73), ('Family', 69), ('Documentary', 68), ('Animation', 66)]\n",
      "==================================\u001b[1m Ai Message \u001b[0m==================================\n",
      "\n",
      "가장 인기 있는 영화 장르는 다음과 같습니다:\n",
      "\n",
      "1. 스포츠 (Sports) - 74편\n",
      "2. 외국 (Foreign) - 73편\n",
      "3. 가족 (Family) - 69편\n",
      "4. 다큐멘터리 (Documentary) - 68편\n",
      "5. 애니메이션 (Animation) - 66편\n"
     ]
    }
   ],
   "source": [
    "# Film 카테고리 체인 실행\n",
    "question = \"가장 인기 있는 영화 장르는 무엇인가요?\"\n",
    "\n",
    "for step in agent_executor.stream(\n",
    "    {\"messages\": [{\"role\": \"user\", \"content\": question}]},\n",
    "    stream_mode=\"values\",\n",
    "):\n",
    "    step[\"messages\"][-1].pretty_print()"
   ]
  },
  {
   "cell_type": "code",
   "execution_count": 37,
   "metadata": {},
   "outputs": [
    {
     "name": "stdout",
     "output_type": "stream",
     "text": [
      "================================\u001b[1m Human Message \u001b[0m=================================\n",
      "\n",
      "각 매장의 총 매출은 얼마인가요?\n",
      "==================================\u001b[1m Ai Message \u001b[0m==================================\n",
      "Tool Calls:\n",
      "  select_relevant_tables (call_nrCfCJJ05wRRiDjcAOpaHrrv)\n",
      " Call ID: call_nrCfCJJ05wRRiDjcAOpaHrrv\n",
      "  Args:\n",
      "    question: 각 매장의 총 매출은 얼마인가요?\n",
      "=================================\u001b[1m Tool Message \u001b[0m=================================\n",
      "Name: select_relevant_tables\n",
      "\n",
      "관련 테이블: payment, rental, store, customer\n",
      "\n",
      "\n",
      "CREATE TABLE customer (\n",
      "\tcustomer_id INTEGER NOT NULL, \n",
      "\tstore_id INTEGER NOT NULL, \n",
      "\tfirst_name VARCHAR(45) NOT NULL, \n",
      "\tlast_name VARCHAR(45) NOT NULL, \n",
      "\temail VARCHAR(50) DEFAULT NULL, \n",
      "\taddress_id INTEGER NOT NULL, \n",
      "\tactive CHAR(1) DEFAULT 'Y' NOT NULL, \n",
      "\tcreate_date TIMESTAMP NOT NULL, \n",
      "\tlast_update TIMESTAMP NOT NULL, \n",
      "\tPRIMARY KEY (customer_id), \n",
      "\tCONSTRAINT fk_customer_store FOREIGN KEY(store_id) REFERENCES store (store_id) ON UPDATE CASCADE, \n",
      "\tCONSTRAINT fk_customer_address FOREIGN KEY(address_id) REFERENCES address (address_id) ON UPDATE CASCADE\n",
      ")\n",
      "\n",
      "/*\n",
      "3 rows from customer table:\n",
      "customer_id\tstore_id\tfirst_name\tlast_name\temail\taddress_id\tactive\tcreate_date\tlast_update\n",
      "1\t1\tMARY\tSMITH\tMARY.SMITH@sakilacustomer.org\t5\t1\t2006-02-14 22:04:36\t2021-03-06 15:53:36\n",
      "2\t1\tPATRICIA\tJOHNSON\tPATRICIA.JOHNSON@sakilacustomer.org\t6\t1\t2006-02-14 22:04:36\t2021-03-06 15:53:36\n",
      "3\t1\tLINDA\tWILLIAMS\tLINDA.WILLIAMS@sakilacustomer.org\t7\t1\t2006-02-14 22:04:36\t2021-03-06 15:53:36\n",
      "*/\n",
      "\n",
      "\n",
      "CREATE TABLE payment (\n",
      "\tpayment_id INTEGER NOT NULL, \n",
      "\tcustomer_id INTEGER NOT NULL, \n",
      "\tstaff_id SMALLINT NOT NULL, \n",
      "\trental_id INTEGER DEFAULT NULL, \n",
      "\tamount DECIMAL(5, 2) NOT NULL, \n",
      "\tpayment_date TIMESTAMP NOT NULL, \n",
      "\tlast_update TIMESTAMP NOT NULL, \n",
      "\tPRIMARY KEY (payment_id), \n",
      "\tCONSTRAINT fk_payment_rental FOREIGN KEY(rental_id) REFERENCES rental (rental_id) ON DELETE SET NULL ON UPDATE CASCADE, \n",
      "\tCONSTRAINT fk_payment_customer FOREIGN KEY(customer_id) REFERENCES customer (customer_id), \n",
      "\tCONSTRAINT fk_payment_staff FOREIGN KEY(staff_id) REFERENCES staff (staff_id)\n",
      ")\n",
      "\n",
      "/*\n",
      "3 rows from payment table:\n",
      "payment_id\tcustomer_id\tstaff_id\trental_id\tamount\tpayment_date\tlast_update\n",
      "1\t1\t1\t76\t2.99\t2005-05-25 11:30:37\t2021-03-06 15:55:57\n",
      "2\t1\t1\t573\t0.99\t2005-05-28 10:35:23\t2021-03-06 15:55:57\n",
      "3\t1\t1\t1185\t5.99\t2005-06-15 00:54:12\t2021-03-06 15:55:57\n",
      "*/\n",
      "\n",
      "\n",
      "CREATE TABLE rental (\n",
      "\trental_id INTEGER NOT NULL, \n",
      "\trental_date TIMESTAMP NOT NULL, \n",
      "\tinventory_id INTEGER NOT NULL, \n",
      "\tcustomer_id INTEGER NOT NULL, \n",
      "\treturn_date TIMESTAMP DEFAULT NULL, \n",
      "\tstaff_id SMALLINT NOT NULL, \n",
      "\tlast_update TIMESTAMP NOT NULL, \n",
      "\tPRIMARY KEY (rental_id), \n",
      "\tCONSTRAINT fk_rental_staff FOREIGN KEY(staff_id) REFERENCES staff (staff_id), \n",
      "\tCONSTRAINT fk_rental_inventory FOREIGN KEY(inventory_id) REFERENCES inventory (inventory_id), \n",
      "\tCONSTRAINT fk_rental_customer FOREIGN KEY(customer_id) REFERENCES customer (customer_id)\n",
      ")\n",
      "\n",
      "/*\n",
      "3 rows from rental table:\n",
      "rental_id\trental_date\tinventory_id\tcustomer_id\treturn_date\tstaff_id\tlast_update\n",
      "1\t2005-05-24 22:53:30\t367\t130\t2005-05-26 22:04:30\t1\t2021-03-06 15:53:41\n",
      "2\t2005-05-24 22:54:33\t1525\t459\t2005-05-28 19:40:33\t1\t2021-03-06 15:53:41\n",
      "3\t2005-05-24 23:03:39\t1711\t408\t2005-06-01 22:12:39\t1\t2021-03-06 15:53:41\n",
      "*/\n",
      "\n",
      "\n",
      "CREATE TABLE store (\n",
      "\tstore_id INTEGER NOT NULL, \n",
      "\tmanager_staff_id SMALLINT NOT NULL, \n",
      "\taddress_id INTEGER NOT NULL, \n",
      "\tlast_update TIMESTAMP NOT NULL, \n",
      "\tPRIMARY KEY (store_id), \n",
      "\tCONSTRAINT fk_store_staff FOREIGN KEY(manager_staff_id) REFERENCES staff (staff_id), \n",
      "\tCONSTRAINT fk_store_address FOREIGN KEY(address_id) REFERENCES address (address_id)\n",
      ")\n",
      "\n",
      "/*\n",
      "3 rows from store table:\n",
      "store_id\tmanager_staff_id\taddress_id\tlast_update\n",
      "1\t1\t1\t2021-03-06 15:52:00\n",
      "2\t2\t2\t2021-03-06 15:52:00\n",
      "*/\n",
      "==================================\u001b[1m Ai Message \u001b[0m==================================\n",
      "Tool Calls:\n",
      "  sql_db_query_checker (call_dbfCjDjTIwYxAHkHU8JwyEXQ)\n",
      " Call ID: call_dbfCjDjTIwYxAHkHU8JwyEXQ\n",
      "  Args:\n",
      "    query: SELECT s.store_id, SUM(p.amount) AS total_sales FROM store s JOIN customer c ON s.store_id = c.store_id JOIN payment p ON c.customer_id = p.customer_id GROUP BY s.store_id LIMIT 5;\n",
      "=================================\u001b[1m Tool Message \u001b[0m=================================\n",
      "Name: sql_db_query_checker\n",
      "\n",
      "```sql\n",
      "SELECT s.store_id, SUM(p.amount) AS total_sales FROM store s JOIN customer c ON s.store_id = c.store_id JOIN payment p ON c.customer_id = p.customer_id GROUP BY s.store_id LIMIT 5;\n",
      "```\n",
      "==================================\u001b[1m Ai Message \u001b[0m==================================\n",
      "Tool Calls:\n",
      "  sql_db_query (call_xXvFdyws0dbLc0bStSuA3se5)\n",
      " Call ID: call_xXvFdyws0dbLc0bStSuA3se5\n",
      "  Args:\n",
      "    query: SELECT s.store_id, SUM(p.amount) AS total_sales FROM store s JOIN customer c ON s.store_id = c.store_id JOIN payment p ON c.customer_id = p.customer_id GROUP BY s.store_id LIMIT 5;\n",
      "=================================\u001b[1m Tool Message \u001b[0m=================================\n",
      "Name: sql_db_query\n",
      "\n",
      "[(1, 37001.520000000004), (2, 30414.99)]\n",
      "==================================\u001b[1m Ai Message \u001b[0m==================================\n",
      "\n",
      "각 매장의 총 매출은 다음과 같습니다:\n",
      "\n",
      "- 매장 1: $37,001.52\n",
      "- 매장 2: $30,414.99\n"
     ]
    }
   ],
   "source": [
    "# Location 카테고리 체인 실행\n",
    "question = \"각 매장의 총 매출은 얼마인가요?\"\n",
    "\n",
    "for step in agent_executor.stream(\n",
    "    {\"messages\": [{\"role\": \"user\", \"content\": question}]},\n",
    "    stream_mode=\"values\",\n",
    "):\n",
    "    step[\"messages\"][-1].pretty_print()"
   ]
  },
  {
   "cell_type": "markdown",
   "metadata": {},
   "source": [
    "---\n",
    "\n",
    "## [실습] **Text2SQL RAG 구현**\n",
    "\n",
    "- \"ETFs\" 테이블만 선택하여 RAG 시스템을 구현\n",
    "- Chain 방식과 Agent 방식을 각각 구현하고 테스트\n",
    "- LangSmith Trace를 분석하여 작동 방식 이해 "
   ]
  },
  {
   "cell_type": "code",
   "execution_count": 38,
   "metadata": {},
   "outputs": [
    {
     "name": "stdout",
     "output_type": "stream",
     "text": [
      "================================================================================\n",
      "실습: ETFs 테이블 Text2SQL RAG 구현\n",
      "================================================================================\n",
      "\n",
      "1. 데이터베이스 설정\n",
      "   - Dialect: sqlite\n",
      "   - 사용 가능한 테이블: ['ETFs']\n",
      "   - 샘플 데이터 확인:\n",
      "     ('466400', '1Q 25-08 회사채(A+이상)액티브', '2023/09/19', '채권-회사채-단기', '하나자산운용', 4.52, 'KIS 2025-08만기형 크레딧 A+이상 지수(총수익)', 0.11, 111916276404.0, 0.03, '매우낮음', '실물(액티브)', 0.1, '배당소득세(보유기간과세)')\n",
      "     ('491610', '1Q CD금리액티브(합성)', '2024/09/24', '기타', '하나자산운용', 0.0, 'KIS 하나 CD금리 총수익지수', 0.05, 316206006696.0, 0.02, '매우낮음', '합성(액티브)', 0.02, '배당소득세(보유기간과세)')\n",
      "     ('451060', '1Q K200액티브', '2023/01/31', '주식-시장대표', '하나자산운용', -3.66, '코스피 200', 0.77, 99754348820.0, -0.01, '높음', '실물(액티브)', 0.18, '배당소득세(보유기간과세)')\n",
      "\n",
      "================================================================================\n",
      "2. Chain 방식 구현\n",
      "================================================================================\n",
      "\n",
      "✅ Chain 방식 그래프 생성 완료\n",
      "\n",
      "[Chain 방식 테스트]\n",
      "\n",
      "--- 질문 1: 총보수가 0.1% 이하인 ETF는 모두 몇 개인가요?\n",
      "답변: 총보수가 0.1% 이하인 ETF는 246개입니다.\n",
      "\n",
      "--- 질문 2: 순자산총액이 가장 큰 ETF는 무엇인가요?\n",
      "답변: 순자산총액이 가장 큰 ETF는 'KODEX CD금리액티브(합성)'이며, 순자산총액은 9,591,343,573,385 원입니다.\n",
      "\n",
      "--- 질문 3: 배당지급 주기가 매월인 ETF를 3개만 알려주세요.\n",
      "답변: 죄송하지만 SQL 결과가 제공되지 않아 특정 ETF를 알려드릴 수 없습니다. 하지만 매월 배당 지급 주기를 가진 ETF를 찾기 위해서는 ETF 목록에서 과세유형이 '매월'인 ETF를 확인하시면 됩니다. 추가 정보가 필요하시면 알려주세요!\n",
      "\n",
      "================================================================================\n",
      "3. Agent 방식 구현\n",
      "================================================================================\n",
      "\n",
      "사용 가능한 도구: ['sql_db_query', 'sql_db_schema', 'sql_db_list_tables', 'sql_db_query_checker']\n",
      "\n",
      "✅ Agent 방식 구현 완료\n",
      "\n",
      "[Agent 방식 테스트]\n",
      "\n",
      "--- 질문 1: 총보수가 0.15% 이하인 ETF는 몇 개인가요?\n",
      "------------------------------------------------------------\n",
      "\n",
      "최종 답변: 총보수가 0.15% 이하인 ETF는 314개입니다.\n",
      "\n",
      "--- 질문 2: 순자산총액이 1조원 이상인 ETF의 평균 총보수는 얼마인가요?\n",
      "------------------------------------------------------------\n",
      "\n",
      "최종 답변: 순자산총액이 1조원 이상인 ETF의 평균 총보수는 약 0.157입니다.\n",
      "\n",
      "================================================================================\n",
      "4. 실습 완료 요약\n",
      "================================================================================\n",
      "\n",
      "✅ 구현 완료 항목:\n",
      "   1. ETFs 테이블만 선택하여 데이터베이스 연결\n",
      "   2. Chain 방식 - LangGraph를 사용한 순차적 쿼리 실행\n",
      "   3. Agent 방식 - ReAct 에이전트를 사용한 자율적 쿼리 실행\n",
      "   4. 다양한 테스트 질문으로 검증\n",
      "\n",
      "📊 Chain vs Agent 비교:\n",
      "   - Chain: 단순하고 예측 가능한 흐름, 단일 쿼리에 최적화\n",
      "   - Agent: 복잡한 질문 처리 가능, 오류 복구 메커니즘, 다단계 추론\n",
      "\n",
      "🔍 LangSmith Trace 분석 포인트:\n",
      "   - Chain: write_query → execute_query → generate_answer 순차 실행\n",
      "   - Agent: 도구 선택 → 쿼리 생성 → 실행 → 결과 분석 → 답변 생성 (반복 가능)\n",
      "\n"
     ]
    }
   ],
   "source": [
    "# =============================================================================\n",
    "# [실습] Text2SQL RAG 구현 - ETFs 테이블만 선택\n",
    "# =============================================================================\n",
    "\n",
    "print(\"=\" * 80)\n",
    "print(\"실습: ETFs 테이블 Text2SQL RAG 구현\")\n",
    "print(\"=\" * 80)\n",
    "\n",
    "# -----------------------------------------------------------------------------\n",
    "# 1. ETFs 테이블만 선택하여 데이터베이스 연결\n",
    "# -----------------------------------------------------------------------------\n",
    "from langchain_community.utilities import SQLDatabase\n",
    "\n",
    "# ETFs 테이블만 사용하도록 데이터베이스 연결\n",
    "etf_db = SQLDatabase.from_uri(\n",
    "    \"sqlite:///etf_database.db\",\n",
    "    include_tables=['ETFs'],  # ETFs 테이블만 포함\n",
    "    sample_rows_in_table_info=3\n",
    ")\n",
    "\n",
    "print(f\"\\n1. 데이터베이스 설정\")\n",
    "print(f\"   - Dialect: {etf_db.dialect}\")\n",
    "print(f\"   - 사용 가능한 테이블: {etf_db.get_usable_table_names()}\")\n",
    "print(f\"   - 샘플 데이터 확인:\")\n",
    "\n",
    "# 샘플 데이터 확인\n",
    "sample_data = etf_db.run(\"SELECT * FROM ETFs LIMIT 3;\")\n",
    "for row in eval(sample_data):\n",
    "    print(f\"     {row}\")\n",
    "\n",
    "# -----------------------------------------------------------------------------\n",
    "# 2. Chain 방식 구현\n",
    "# -----------------------------------------------------------------------------\n",
    "from typing import TypedDict\n",
    "from langchain_core.prompts import ChatPromptTemplate\n",
    "from langchain_openai import ChatOpenAI\n",
    "from langchain_community.tools import QuerySQLDatabaseTool\n",
    "from langgraph.graph import START, StateGraph\n",
    "from typing import Annotated\n",
    "\n",
    "print(\"\\n\" + \"=\" * 80)\n",
    "print(\"2. Chain 방식 구현\")\n",
    "print(\"=\" * 80)\n",
    "\n",
    "# State 정의\n",
    "class ETFState(TypedDict):\n",
    "    question: str\n",
    "    query: str\n",
    "    result: str\n",
    "    answer: str\n",
    "\n",
    "# LLM 초기화\n",
    "llm = ChatOpenAI(model=\"gpt-4o-mini\")\n",
    "\n",
    "# 프롬프트 템플릿\n",
    "query_prompt_template = ChatPromptTemplate.from_messages([\n",
    "    (\"system\", \"\"\"\n",
    "    Given an input question, create a syntactically correct {dialect} query to run to help find the answer. \n",
    "    Unless the user specifies in his question a specific number of examples they wish to obtain, \n",
    "    always limit your query to at most {top_k} results.\n",
    "      \n",
    "    You can order the results by a relevant column to return the most interesting examples in the database.\n",
    "    Never query for all the columns from a specific table, only ask for a the few relevant columns given the question.\n",
    "    Pay attention to use only the column names that you can see in the schema description. \n",
    "    Be careful to not query for columns that do not exist.\n",
    "      \n",
    "    Also, pay attention to which column is in which table.\n",
    "    Only use the following tables:\n",
    "    {table_info}\n",
    "    \"\"\"),\n",
    "    (\"user\", \"\"\"\n",
    "    Question:\n",
    "    {input}\n",
    "    \"\"\")\n",
    "])\n",
    "\n",
    "# QueryOutput 정의\n",
    "class QueryOutput(TypedDict):\n",
    "    \"\"\"Generated SQL query.\"\"\"\n",
    "    query: Annotated[str, ..., \"Syntactically valid SQL query.\"]\n",
    "\n",
    "# SQL 쿼리 생성 함수\n",
    "def write_etf_query(state: ETFState):\n",
    "    \"\"\"Generate SQL query to fetch ETF information.\"\"\"\n",
    "    prompt = query_prompt_template.invoke(\n",
    "        {\n",
    "            \"dialect\": etf_db.dialect,\n",
    "            \"top_k\": 10,\n",
    "            \"table_info\": etf_db.get_table_info(),\n",
    "            \"input\": state[\"question\"],\n",
    "        }\n",
    "    )\n",
    "    structured_llm = llm.with_structured_output(QueryOutput)\n",
    "    result = structured_llm.invoke(prompt)\n",
    "    return {\"query\": result[\"query\"]}\n",
    "\n",
    "# SQL 쿼리 실행 함수\n",
    "def execute_etf_query(state: ETFState):\n",
    "    \"\"\"Execute SQL query.\"\"\"\n",
    "    execute_query_tool = QuerySQLDatabaseTool(db=etf_db)\n",
    "    return {\"result\": execute_query_tool.invoke(state[\"query\"])}\n",
    "\n",
    "# 답변 생성 함수\n",
    "def generate_etf_answer(state: ETFState):\n",
    "    \"\"\"Answer question using retrieved information as context.\"\"\"\n",
    "    prompt = (\n",
    "        \"Given the following user question, corresponding SQL query, \"\n",
    "        \"and SQL result, answer the user question in Korean.\\\\n\\\\n\"\n",
    "        f'Question: {state[\"question\"]}\\\\n'\n",
    "        f'SQL Query: {state[\"query\"]}\\\\n'\n",
    "        f'SQL Result: {state[\"result\"]}'\n",
    "    )\n",
    "    response = llm.invoke(prompt)\n",
    "    return {\"answer\": response.content}\n",
    "\n",
    "# LangGraph 구축\n",
    "graph_builder = StateGraph(ETFState)\n",
    "\n",
    "graph_builder.add_node(\"write_query\", write_etf_query)\n",
    "graph_builder.add_node(\"execute_query\", execute_etf_query)\n",
    "graph_builder.add_node(\"generate_answer\", generate_etf_answer)\n",
    "\n",
    "graph_builder.add_edge(START, \"write_query\")\n",
    "graph_builder.add_edge(\"write_query\", \"execute_query\")\n",
    "graph_builder.add_edge(\"execute_query\", \"generate_answer\")\n",
    "\n",
    "etf_chain_graph = graph_builder.compile()\n",
    "\n",
    "print(\"\\n✅ Chain 방식 그래프 생성 완료\")\n",
    "\n",
    "# Chain 방식 테스트\n",
    "test_questions_chain = [\n",
    "    \"총보수가 0.1% 이하인 ETF는 모두 몇 개인가요?\",\n",
    "    \"순자산총액이 가장 큰 ETF는 무엇인가요?\",\n",
    "    \"배당지급 주기가 매월인 ETF를 3개만 알려주세요.\"\n",
    "]\n",
    "\n",
    "print(\"\\n[Chain 방식 테스트]\")\n",
    "for i, question in enumerate(test_questions_chain, 1):\n",
    "    print(f\"\\n--- 질문 {i}: {question}\")\n",
    "    result = None\n",
    "    for step in etf_chain_graph.stream(\n",
    "        {\"question\": question}, \n",
    "        stream_mode=\"updates\"\n",
    "    ):\n",
    "        if \"generate_answer\" in step:\n",
    "            result = step[\"generate_answer\"][\"answer\"]\n",
    "    if result:\n",
    "        print(f\"답변: {result}\")\n",
    "\n",
    "# -----------------------------------------------------------------------------\n",
    "# 3. Agent 방식 구현\n",
    "# -----------------------------------------------------------------------------\n",
    "from langchain_community.agent_toolkits import SQLDatabaseToolkit\n",
    "from langgraph.prebuilt import create_react_agent\n",
    "from langchain_core.messages import HumanMessage\n",
    "\n",
    "print(\"\\n\" + \"=\" * 80)\n",
    "print(\"3. Agent 방식 구현\")\n",
    "print(\"=\" * 80)\n",
    "\n",
    "# SQLDatabaseToolkit 생성\n",
    "etf_toolkit = SQLDatabaseToolkit(db=etf_db, llm=llm)\n",
    "etf_tools = etf_toolkit.get_tools()\n",
    "\n",
    "print(f\"\\n사용 가능한 도구: {[tool.name for tool in etf_tools]}\")\n",
    "\n",
    "# Agent 시스템 메시지\n",
    "etf_system_message = f\"\"\"\n",
    "You are an agent designed to interact with a SQL database.\n",
    "Given an input question, create a syntactically correct {etf_db.dialect} query to run, \n",
    "then look at the results of the query and return the answer in Korean.\n",
    "Unless the user specifies a specific number of examples they wish to obtain, \n",
    "always limit your query to at most 5 results.\n",
    "You can order the results by a relevant column to return the most interesting examples in the database.\n",
    "Never query for all the columns from a specific table, only ask for the relevant columns given the question.\n",
    "You have access to tools for interacting with the database.\n",
    "Only use the below tools. Only use the information returned by the below tools to construct your final answer.\n",
    "You MUST double check your query before executing it. If you get an error while executing a query, rewrite the query and try again.\n",
    "\n",
    "DO NOT make any DML statements (INSERT, UPDATE, DELETE, DROP etc.) to the database.\n",
    "\n",
    "To start you should ALWAYS look at the tables in the database to see what you can query.\n",
    "Do NOT skip this step.\n",
    "Then you should query the schema of the most relevant tables.\n",
    "\n",
    "Answer all questions in Korean (한국어로 답변하세요).\n",
    "\"\"\"\n",
    "\n",
    "# ReAct Agent 생성\n",
    "etf_agent_executor = create_react_agent(llm, etf_tools, prompt=etf_system_message)\n",
    "\n",
    "print(\"\\n✅ Agent 방식 구현 완료\")\n",
    "\n",
    "# Agent 방식 테스트\n",
    "test_questions_agent = [\n",
    "    \"총보수가 0.15% 이하인 ETF는 몇 개인가요?\",\n",
    "    \"순자산총액이 1조원 이상인 ETF의 평균 총보수는 얼마인가요?\"\n",
    "]\n",
    "\n",
    "print(\"\\n[Agent 방식 테스트]\")\n",
    "for i, question in enumerate(test_questions_agent, 1):\n",
    "    print(f\"\\n--- 질문 {i}: {question}\")\n",
    "    print(\"-\" * 60)\n",
    "    \n",
    "    messages_list = []\n",
    "    for step in etf_agent_executor.stream(\n",
    "        {\"messages\": [HumanMessage(content=question)]}, \n",
    "        stream_mode=\"values\",\n",
    "    ):\n",
    "        # 마지막 메시지만 수집\n",
    "        messages_list = step[\"messages\"]\n",
    "    \n",
    "    # 최종 답변만 출력\n",
    "    if messages_list:\n",
    "        final_answer = messages_list[-1]\n",
    "        if hasattr(final_answer, 'content'):\n",
    "            print(f\"\\n최종 답변: {final_answer.content}\")\n",
    "\n",
    "# -----------------------------------------------------------------------------\n",
    "# 4. 결과 요약\n",
    "# -----------------------------------------------------------------------------\n",
    "print(\"\\n\" + \"=\" * 80)\n",
    "print(\"4. 실습 완료 요약\")\n",
    "print(\"=\" * 80)\n",
    "print(\"\"\"\n",
    "✅ 구현 완료 항목:\n",
    "   1. ETFs 테이블만 선택하여 데이터베이스 연결\n",
    "   2. Chain 방식 - LangGraph를 사용한 순차적 쿼리 실행\n",
    "   3. Agent 방식 - ReAct 에이전트를 사용한 자율적 쿼리 실행\n",
    "   4. 다양한 테스트 질문으로 검증\n",
    "\n",
    "📊 Chain vs Agent 비교:\n",
    "   - Chain: 단순하고 예측 가능한 흐름, 단일 쿼리에 최적화\n",
    "   - Agent: 복잡한 질문 처리 가능, 오류 복구 메커니즘, 다단계 추론\n",
    "\n",
    "🔍 LangSmith Trace 분석 포인트:\n",
    "   - Chain: write_query → execute_query → generate_answer 순차 실행\n",
    "   - Agent: 도구 선택 → 쿼리 생성 → 실행 → 결과 분석 → 답변 생성 (반복 가능)\n",
    "\"\"\")"
   ]
  }
 ],
 "metadata": {
  "kernelspec": {
   "display_name": "modu2",
   "language": "python",
   "name": "python3"
  },
  "language_info": {
   "codemirror_mode": {
    "name": "ipython",
    "version": 3
   },
   "file_extension": ".py",
   "mimetype": "text/x-python",
   "name": "python",
   "nbconvert_exporter": "python",
   "pygments_lexer": "ipython3",
   "version": "3.12.11"
  }
 },
 "nbformat": 4,
 "nbformat_minor": 2
}
