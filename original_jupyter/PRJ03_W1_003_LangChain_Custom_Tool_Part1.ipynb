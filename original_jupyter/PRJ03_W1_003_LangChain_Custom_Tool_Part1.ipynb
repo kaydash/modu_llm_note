{
 "cells": [
  {
   "cell_type": "markdown",
   "metadata": {},
   "source": [
    "#   **LangChain Custom Tool** (Part1)\n",
    "\n",
    "- 사용자 정의 도구 (Custom Tool) 만들기\n",
    "\n",
    "---"
   ]
  },
  {
   "cell_type": "markdown",
   "metadata": {},
   "source": [
    "## 환경 설정 및 준비"
   ]
  },
  {
   "cell_type": "markdown",
   "metadata": {},
   "source": [
    "`(1) Env 환경변수`"
   ]
  },
  {
   "cell_type": "code",
   "execution_count": 1,
   "metadata": {},
   "outputs": [
    {
     "data": {
      "text/plain": [
       "True"
      ]
     },
     "execution_count": 1,
     "metadata": {},
     "output_type": "execute_result"
    }
   ],
   "source": [
    "from dotenv import load_dotenv\n",
    "load_dotenv()"
   ]
  },
  {
   "cell_type": "markdown",
   "metadata": {},
   "source": [
    "`(2) 기본 라이브러리`"
   ]
  },
  {
   "cell_type": "code",
   "execution_count": 2,
   "metadata": {},
   "outputs": [],
   "source": [
    "import os\n",
    "from glob import glob\n",
    "\n",
    "from pprint import pprint\n",
    "import json"
   ]
  },
  {
   "cell_type": "markdown",
   "metadata": {},
   "source": [
    "---\n",
    "\n",
    "##  **사용자 정의 도구 (Custom Tool)**\n",
    "\n",
    "\n",
    "- **사용자 정의 도구**는 개발자가 직접 설계하고 구현하는 **맞춤형 함수나 도구**를 의미\n",
    "\n",
    "- LLM이 호출할 수 있는 **고유한 기능**을 정의하여 특정 작업에 최적화된 도구 생성 가능\n",
    "\n",
    "- 개발자는 도구의 **입력값, 출력값, 기능**을 자유롭게 정의하여 유연한 확장성 확보"
   ]
  },
  {
   "cell_type": "markdown",
   "metadata": {},
   "source": [
    "---\n",
    "\n",
    "### 1. **`@tool` 데코레이터** \n",
    "\n",
    "- **@tool** 데코레이터는 **사용자 정의 도구**를 만드는 가장 기본적인 방법\n",
    "\n",
    "- 함수의 **이름**과 **독스트링**을 자동으로 도구 정보로 활용\n",
    "\n",
    "- 간단한 데코레이터 문법으로 **빠른 도구 개발** 가능"
   ]
  },
  {
   "cell_type": "markdown",
   "metadata": {},
   "source": [
    "`(1) 기본 도구 만들기`"
   ]
  },
  {
   "cell_type": "code",
   "execution_count": 3,
   "metadata": {},
   "outputs": [],
   "source": [
    "# 벡터 저장소 로드 \n",
    "from langchain_chroma import Chroma\n",
    "from langchain_openai import OpenAIEmbeddings\n",
    "\n",
    "embeddings = OpenAIEmbeddings(model=\"text-embedding-3-small\")\n",
    "\n",
    "chroma_db = Chroma(\n",
    "    collection_name=\"db_korean_cosine_metadata\",\n",
    "    embedding_function=embeddings,\n",
    "    persist_directory=\"./chroma_db\",\n",
    ")"
   ]
  },
  {
   "cell_type": "code",
   "execution_count": 4,
   "metadata": {},
   "outputs": [],
   "source": [
    "# DB 검색하는 사용자 정의 도구 생성\n",
    "from langchain_core.tools import tool\n",
    "from typing import Optional\n",
    "\n",
    "@tool\n",
    "def search_database(query: str, k: Optional[int] = 4) -> str:\n",
    "    \"\"\"\n",
    "    데이터베이스에서 주어진 쿼리로 검색을 수행합니다.\n",
    "    \n",
    "    Args:\n",
    "        query: 검색할 텍스트 쿼리\n",
    "        k: 반환할 결과의 개수 (기본값: 4)\n",
    "    \"\"\"\n",
    "    retriever = chroma_db.as_retriever(search_kwargs={\"k\": k})\n",
    "    return retriever.invoke(query)"
   ]
  },
  {
   "cell_type": "code",
   "execution_count": 5,
   "metadata": {},
   "outputs": [
    {
     "name": "stdout",
     "output_type": "stream",
     "text": [
      "search_database\n",
      "----------------------------------------------------------------------------------------------------\n",
      "데이터베이스에서 주어진 쿼리로 검색을 수행합니다.\n",
      "\n",
      "Args:\n",
      "    query: 검색할 텍스트 쿼리\n",
      "    k: 반환할 결과의 개수 (기본값: 4)\n",
      "----------------------------------------------------------------------------------------------------\n",
      "{'query': {'title': 'Query', 'type': 'string'}, 'k': {'anyOf': [{'type': 'integer'}, {'type': 'null'}], 'default': 4, 'title': 'K'}}\n",
      "----------------------------------------------------------------------------------------------------\n",
      "{'title': 'search_database_output'}\n"
     ]
    }
   ],
   "source": [
    "# 도구 속성 확인\n",
    "print(search_database.name)  \n",
    "print(\"-\" * 100)\n",
    "print(search_database.description) \n",
    "print(\"-\" * 100)\n",
    "print(search_database.args)  \n",
    "print(\"-\" * 100)\n",
    "print(search_database.output_schema.model_json_schema())"
   ]
  },
  {
   "cell_type": "code",
   "execution_count": 6,
   "metadata": {},
   "outputs": [
    {
     "name": "stdout",
     "output_type": "stream",
     "text": [
      "[Document(id='ff588b7a-95d3-4949-aabb-fd080a25daa2', metadata={'language': 'ko', 'source': 'data/리비안_KR.md', 'company': '리비안'}, page_content='[출처] 이 문서는 리비안에 대한 문서입니다.\\n----------------------------------\\n- **회사 유형:** 상장\\n- **거래소:** NASDAQ: RIVN\\n- **설립:** 2009년 6월, 플로리다 주 록ledge\\n- **설립자:** R. J. 스캐린지\\n- **본사:** 미국 캘리포니아 주 어바인\\n- **서비스 지역:** 북미\\n- **주요 인물:** R. J. 스캐린지 (CEO)\\n- **제품:** 전기 자동차, 배터리\\n- **생산량 (2023):** 57,232대\\n- **서비스:** 전기 자동차 충전, 자동차 보험\\n- **수익 (2023):** 44억 3천만 미국 달러\\n- **순이익 (2023):** -54억 미국 달러\\n- **총 자산 (2023):** 168억 미국 달러'),\n",
      " Document(id='e9ebf1e5-ae4e-46b8-9c1b-a8c8b906fa91', metadata={'source': 'data/리비안_KR.md', 'language': 'ko', 'company': '리비안'}, page_content='[출처] 이 문서는 리비안에 대한 문서입니다.\\n----------------------------------\\nRivian Automotive, Inc.는 2009년에 설립된 미국의 전기 자동차 제조업체, 자동차 기술 및 야외 레크리에이션 회사입니다.\\n\\n**주요 정보:**'),\n",
      " Document(id='b7357abb-85fb-4286-b9dd-9bb2fb75044a', metadata={'language': 'ko', 'source': 'data/리비안_KR.md', 'company': '리비안'}, page_content='[출처] 이 문서는 리비안에 대한 문서입니다.\\n----------------------------------\\n**역사**\\n\\n**초창기 (2009–15):**\\n\\n- 2009년 R. J. 스캐린지가 Mainstream Motors로 설립.\\n- 2011년 Rivian Automotive로 사명 변경.\\n- 처음에는 스포츠카 프로토타입(R1)에 집중했지만 전기 및 자율 주행 차량으로 전환.\\n\\n**생산 준비 (2016–20):**\\n\\n- 2017년 일리노이 주 노멀에 있는 이전 Mitsubishi Motors 제조 공장을 1,600만 달러에 인수.\\n- 2017년 12월, 첫 두 제품인 R1T (픽업 트럭)와 R1S (SUV)를 공개.\\n- 생산은 2020년에 시작될 예정.\\n\\n**첫 모델 배송; IPO; 감원 및 확장 (2021–24):**'),\n",
      " Document(id='cfcd5eff-6a00-482c-b198-ec5a8a28ce66', metadata={'language': 'ko', 'source': 'data/리비안_KR.md', 'company': '리비안'}, page_content='[출처] 이 문서는 리비안에 대한 문서입니다.\\n----------------------------------\\n**시설**\\n\\n- **Irvine, California:** 차량 엔지니어링 및 설계에 중점을 둔 본사.\\n- **Normal, Illinois:** 차량 부품을 생산하고 조립을 수행하는 제조 공장.\\n- **Plymouth, Michigan:** 차량 엔지니어링, 프로토타입 제작, 공급망 및 회계에 중점을 둡니다.\\n- **Palo Alto, California:** 소프트웨어 개발 및 엔지니어링에 중점을 둡니다.\\n- Carson, California 및 Woking, England에 추가 사무실이 있습니다.\\n- 애틀랜타 동쪽에 있는 새로운 50억 달러 규모의 배터리 및 조립 공장은 보류 중입니다.\\n\\n**재정**\\n\\nRivian의 재무 성과는 상당한 수익 성장과 상당한 순손실로 특징지어집니다.')]\n"
     ]
    }
   ],
   "source": [
    "# 도구 실행 \n",
    "docs = search_database.invoke(\"리비안은 언제 설립되었나요?\")\n",
    "pprint(docs)"
   ]
  },
  {
   "cell_type": "code",
   "execution_count": 7,
   "metadata": {},
   "outputs": [
    {
     "name": "stdout",
     "output_type": "stream",
     "text": [
      "[{'args': {'k': 1, 'query': '리비안 설립 연도'},\n",
      "  'id': 'call_vvrzFPHiVvyS2hRyEyYt3PgJ',\n",
      "  'name': 'search_database',\n",
      "  'type': 'tool_call'}]\n"
     ]
    }
   ],
   "source": [
    "# LLM 도구 바인딩하여 실행 \n",
    "from langchain_openai import ChatOpenAI\n",
    "\n",
    "llm = ChatOpenAI(model=\"gpt-4.1-mini\", temperature=0.7)\n",
    "llm_with_tools = llm.bind_tools([search_database])\n",
    "\n",
    "# 도구 사용\n",
    "result = llm_with_tools.invoke(\"리비안은 언제 설립되었나요?\")\n",
    "\n",
    "# 결과 확인\n",
    "\n",
    "pprint(result.tool_calls)"
   ]
  },
  {
   "cell_type": "code",
   "execution_count": 8,
   "metadata": {},
   "outputs": [
    {
     "name": "stdout",
     "output_type": "stream",
     "text": [
      "[{'args': {'query': '리비안 설립일'},\n",
      "  'id': 'call_lO03XvLEnUe1EKcp3tpwFC33',\n",
      "  'name': 'search_database',\n",
      "  'type': 'tool_call'},\n",
      " {'args': {'query': '리비안 설립 연도'},\n",
      "  'id': 'call_MloZDcMBa3Wz8UI2pkpoHU2j',\n",
      "  'name': 'search_database',\n",
      "  'type': 'tool_call'}]\n"
     ]
    }
   ],
   "source": [
    "# 도구 사용 (k=2)\n",
    "result = llm_with_tools.invoke(\"리비안은 언제 설립되었나요? (2개 문서 검색)\")\n",
    "\n",
    "pprint(result.tool_calls)"
   ]
  },
  {
   "cell_type": "markdown",
   "metadata": {},
   "source": [
    "`(2) 도구 이름 및 스키마 커스터마이징`\n",
    "\n",
    "- **@tool 데코레이터**를 사용하여 도구의 속성을 직접 설정 가능\n",
    "- 도구의 **이름**과 **스키마**를 개발자가 원하는 대로 커스터마이징할 수 있음"
   ]
  },
  {
   "cell_type": "code",
   "execution_count": 9,
   "metadata": {},
   "outputs": [],
   "source": [
    "from pydantic import BaseModel, Field\n",
    "\n",
    "# 도구 입력 스키마 정의 (pydantic 모델 사용)\n",
    "class ChromaDBInput(BaseModel):\n",
    "    \"\"\" ChromaDB 검색 도구 입력 스키마 \"\"\"\n",
    "    query: str = Field(description=\"검색할 쿼리\")\n",
    "    k: int = Field(4, description=\"반환할 문서의 개수\")\n",
    "\n",
    "@tool(\"ChromaDB-Search\", args_schema=ChromaDBInput)\n",
    "def search_database(query: str, k: int = 4) -> str:\n",
    "    \"\"\"\n",
    "    데이터베이스에서 주어진 쿼리로 검색을 수행합니다.\n",
    "    \n",
    "    Args:\n",
    "        query: 검색할 텍스트 쿼리\n",
    "        k: 반환할 결과의 개수 (기본값: 4)\n",
    "    \"\"\"\n",
    "    retriever = chroma_db.as_retriever(search_kwargs={\"k\": k})\n",
    "    return retriever.invoke(query)"
   ]
  },
  {
   "cell_type": "code",
   "execution_count": 10,
   "metadata": {},
   "outputs": [
    {
     "name": "stdout",
     "output_type": "stream",
     "text": [
      "ChromaDB-Search\n",
      "----------------------------------------------------------------------------------------------------\n",
      "데이터베이스에서 주어진 쿼리로 검색을 수행합니다.\n",
      "\n",
      "Args:\n",
      "    query: 검색할 텍스트 쿼리\n",
      "    k: 반환할 결과의 개수 (기본값: 4)\n",
      "----------------------------------------------------------------------------------------------------\n",
      "{'query': {'description': '검색할 쿼리', 'title': 'Query', 'type': 'string'}, 'k': {'default': 4, 'description': '반환할 문서의 개수', 'title': 'K', 'type': 'integer'}}\n",
      "----------------------------------------------------------------------------------------------------\n",
      "{'title': 'ChromaDB-SearchOutput'}\n"
     ]
    }
   ],
   "source": [
    "# 도구 속성 확인\n",
    "print(search_database.name)  \n",
    "print(\"-\" * 100)\n",
    "print(search_database.description) \n",
    "print(\"-\" * 100)\n",
    "print(search_database.args)  \n",
    "print(\"-\" * 100)\n",
    "print(search_database.output_schema.model_json_schema())"
   ]
  },
  {
   "cell_type": "markdown",
   "metadata": {},
   "source": [
    "---\n",
    "### **[실습]**\n",
    "\n",
    "- 도구 이름과 스키마를 직접 정의하여 도구를 생성합니다. \n",
    "- 도구 속성을 확인합니다. \n",
    "- 도구를 실행합니다. \n",
    "- LLM 모델에 도구를 바인딩하여 도구 호출 결과를 확인합니다. "
   ]
  },
  {
   "cell_type": "code",
   "execution_count": 11,
   "metadata": {},
   "outputs": [
    {
     "name": "stdout",
     "output_type": "stream",
     "text": [
      "도구 이름: Database-Search-Tool\n",
      "----------------------------------------------------------------------------------------------------\n",
      "도구 설명: ChromaDB 데이터베이스에서 주어진 쿼리로 문서를 검색합니다.\n",
      "\n",
      "Args:\n",
      "    query: 검색할 텍스트 쿼리\n",
      "    k: 반환할 결과의 개수 (기본값: 3)\n",
      "----------------------------------------------------------------------------------------------------\n",
      "도구 인자 스키마: {'query': {'description': '검색할 텍스트 쿼리', 'title': 'Query', 'type': 'string'}, 'k': {'default': 3, 'description': '반환할 문서의 개수 (기본값: 3)', 'title': 'K', 'type': 'integer'}}\n",
      "----------------------------------------------------------------------------------------------------\n",
      "도구 출력 스키마: {'title': 'Database-Search-ToolOutput'}\n",
      "----------------------------------------------------------------------------------------------------\n",
      "\n",
      "도구 실행 결과:\n",
      "[Document(id='ff588b7a-95d3-4949-aabb-fd080a25daa2', metadata={'company': '리비안', 'language': 'ko', 'source': 'data/리비안_KR.md'}, page_content='[출처] 이 문서는 리비안에 대한 문서입니다.\\n----------------------------------\\n- **회사 유형:** 상장\\n- **거래소:** NASDAQ: RIVN\\n- **설립:** 2009년 6월, 플로리다 주 록ledge\\n- **설립자:** R. J. 스캐린지\\n- **본사:** 미국 캘리포니아 주 어바인\\n- **서비스 지역:** 북미\\n- **주요 인물:** R. J. 스캐린지 (CEO)\\n- **제품:** 전기 자동차, 배터리\\n- **생산량 (2023):** 57,232대\\n- **서비스:** 전기 자동차 충전, 자동차 보험\\n- **수익 (2023):** 44억 3천만 미국 달러\\n- **순이익 (2023):** -54억 미국 달러\\n- **총 자산 (2023):** 168억 미국 달러'),\n",
      " Document(id='e9ebf1e5-ae4e-46b8-9c1b-a8c8b906fa91', metadata={'company': '리비안', 'language': 'ko', 'source': 'data/리비안_KR.md'}, page_content='[출처] 이 문서는 리비안에 대한 문서입니다.\\n----------------------------------\\nRivian Automotive, Inc.는 2009년에 설립된 미국의 전기 자동차 제조업체, 자동차 기술 및 야외 레크리에이션 회사입니다.\\n\\n**주요 정보:**'),\n",
      " Document(id='b7357abb-85fb-4286-b9dd-9bb2fb75044a', metadata={'language': 'ko', 'company': '리비안', 'source': 'data/리비안_KR.md'}, page_content='[출처] 이 문서는 리비안에 대한 문서입니다.\\n----------------------------------\\n**역사**\\n\\n**초창기 (2009–15):**\\n\\n- 2009년 R. J. 스캐린지가 Mainstream Motors로 설립.\\n- 2011년 Rivian Automotive로 사명 변경.\\n- 처음에는 스포츠카 프로토타입(R1)에 집중했지만 전기 및 자율 주행 차량으로 전환.\\n\\n**생산 준비 (2016–20):**\\n\\n- 2017년 일리노이 주 노멀에 있는 이전 Mitsubishi Motors 제조 공장을 1,600만 달러에 인수.\\n- 2017년 12월, 첫 두 제품인 R1T (픽업 트럭)와 R1S (SUV)를 공개.\\n- 생산은 2020년에 시작될 예정.\\n\\n**첫 모델 배송; IPO; 감원 및 확장 (2021–24):**')]\n",
      "----------------------------------------------------------------------------------------------------\n",
      "\n",
      "LLM 도구 호출 결과:\n",
      "[{'args': {'k': 3, 'query': '리비안 설립 연도'},\n",
      "  'id': 'call_2C0FM7cCDKQolIBhiZf1Zuic',\n",
      "  'name': 'Database-Search-Tool',\n",
      "  'type': 'tool_call'}]\n"
     ]
    }
   ],
   "source": [
    "# 여기에 코드를 작성하세요. \n",
    "\n",
    "# 1. 도구 이름과 스키마를 직접 정의하여 도구 생성\n",
    "from pydantic import BaseModel, Field\n",
    "from langchain_core.tools import tool\n",
    "\n",
    "# 입력 스키마 정의\n",
    "class DatabaseSearchInput(BaseModel):\n",
    "    \"\"\" 데이터베이스 검색 도구 입력 스키마 \"\"\"\n",
    "    query: str = Field(description=\"검색할 텍스트 쿼리\")\n",
    "    k: int = Field(3, description=\"반환할 문서의 개수 (기본값: 3)\")\n",
    "\n",
    "# 도구 생성\n",
    "@tool(\"Database-Search-Tool\", args_schema=DatabaseSearchInput)\n",
    "def my_search_tool(query: str, k: int = 3) -> str:\n",
    "    \"\"\"\n",
    "    ChromaDB 데이터베이스에서 주어진 쿼리로 문서를 검색합니다.\n",
    "    \n",
    "    Args:\n",
    "        query: 검색할 텍스트 쿼리\n",
    "        k: 반환할 결과의 개수 (기본값: 3)\n",
    "    \"\"\"\n",
    "    retriever = chroma_db.as_retriever(search_kwargs={\"k\": k})\n",
    "    return retriever.invoke(query)\n",
    "\n",
    "# 2. 도구 속성 확인\n",
    "print(\"도구 이름:\", my_search_tool.name)\n",
    "print(\"-\" * 100)\n",
    "print(\"도구 설명:\", my_search_tool.description)\n",
    "print(\"-\" * 100)\n",
    "print(\"도구 인자 스키마:\", my_search_tool.args)\n",
    "print(\"-\" * 100)\n",
    "print(\"도구 출력 스키마:\", my_search_tool.output_schema.model_json_schema())\n",
    "print(\"-\" * 100)\n",
    "\n",
    "# 3. 도구 실행\n",
    "docs = my_search_tool.invoke({\"query\": \"리비안은 언제 설립되었나요?\", \"k\": 3})\n",
    "print(\"\\n도구 실행 결과:\")\n",
    "pprint(docs)\n",
    "print(\"-\" * 100)\n",
    "\n",
    "# 4. LLM 모델에 도구를 바인딩하여 도구 호출 결과 확인\n",
    "from langchain_openai import ChatOpenAI\n",
    "\n",
    "llm = ChatOpenAI(model=\"gpt-4o-mini\", temperature=0.7)\n",
    "llm_with_tools = llm.bind_tools([my_search_tool])\n",
    "\n",
    "# 도구 호출\n",
    "result = llm_with_tools.invoke(\"리비안의 설립 연도를 알려주세요. (3개 문서 검색)\")\n",
    "\n",
    "print(\"\\nLLM 도구 호출 결과:\")\n",
    "pprint(result.tool_calls)"
   ]
  },
  {
   "cell_type": "markdown",
   "metadata": {},
   "source": [
    "`(3) 비동기 도구 만들기`\n",
    "\n",
    "- **비동기 도구**는 LangChain에서 `@tool` 데코레이터를 통해 구현 가능\n",
    "- LangChain은 **동기와 비동기** 두 가지 도구 유형을 모두 지원함\n",
    "- 비동기 도구는 더 효율적인 **병렬 처리**가 가능한 장점이 있음"
   ]
  },
  {
   "cell_type": "code",
   "execution_count": 12,
   "metadata": {},
   "outputs": [],
   "source": [
    "from langchain_core.tools import tool\n",
    "\n",
    "@tool\n",
    "async def search_database(query: str, k: int = 4) -> str:\n",
    "    \"\"\"\n",
    "    데이터베이스에서 주어진 쿼리로 검색을 수행합니다.\n",
    "    \n",
    "    Args:\n",
    "        query: 검색할 텍스트 쿼리\n",
    "        k: 반환할 결과의 개수 (기본값: 4)\n",
    "    \"\"\"\n",
    "    retriever = chroma_db.as_retriever(search_kwargs={\"k\": k})\n",
    "    return await retriever.ainvoke(query)"
   ]
  },
  {
   "cell_type": "code",
   "execution_count": 13,
   "metadata": {},
   "outputs": [
    {
     "name": "stdout",
     "output_type": "stream",
     "text": [
      "search_database\n",
      "----------------------------------------------------------------------------------------------------\n",
      "데이터베이스에서 주어진 쿼리로 검색을 수행합니다.\n",
      "\n",
      "Args:\n",
      "    query: 검색할 텍스트 쿼리\n",
      "    k: 반환할 결과의 개수 (기본값: 4)\n",
      "----------------------------------------------------------------------------------------------------\n",
      "{'query': {'title': 'Query', 'type': 'string'}, 'k': {'default': 4, 'title': 'K', 'type': 'integer'}}\n",
      "----------------------------------------------------------------------------------------------------\n",
      "{'title': 'search_database_output'}\n"
     ]
    }
   ],
   "source": [
    "# 도구 속성 확인\n",
    "print(search_database.name)\n",
    "print(\"-\" * 100)\n",
    "print(search_database.description)\n",
    "print(\"-\" * 100)\n",
    "print(search_database.args)\n",
    "print(\"-\" * 100)\n",
    "print(search_database.output_schema.model_json_schema())"
   ]
  },
  {
   "cell_type": "code",
   "execution_count": 14,
   "metadata": {},
   "outputs": [
    {
     "name": "stdout",
     "output_type": "stream",
     "text": [
      "[Document(id='ff588b7a-95d3-4949-aabb-fd080a25daa2', metadata={'language': 'ko', 'company': '리비안', 'source': 'data/리비안_KR.md'}, page_content='[출처] 이 문서는 리비안에 대한 문서입니다.\\n----------------------------------\\n- **회사 유형:** 상장\\n- **거래소:** NASDAQ: RIVN\\n- **설립:** 2009년 6월, 플로리다 주 록ledge\\n- **설립자:** R. J. 스캐린지\\n- **본사:** 미국 캘리포니아 주 어바인\\n- **서비스 지역:** 북미\\n- **주요 인물:** R. J. 스캐린지 (CEO)\\n- **제품:** 전기 자동차, 배터리\\n- **생산량 (2023):** 57,232대\\n- **서비스:** 전기 자동차 충전, 자동차 보험\\n- **수익 (2023):** 44억 3천만 미국 달러\\n- **순이익 (2023):** -54억 미국 달러\\n- **총 자산 (2023):** 168억 미국 달러'),\n",
      " Document(id='e9ebf1e5-ae4e-46b8-9c1b-a8c8b906fa91', metadata={'source': 'data/리비안_KR.md', 'language': 'ko', 'company': '리비안'}, page_content='[출처] 이 문서는 리비안에 대한 문서입니다.\\n----------------------------------\\nRivian Automotive, Inc.는 2009년에 설립된 미국의 전기 자동차 제조업체, 자동차 기술 및 야외 레크리에이션 회사입니다.\\n\\n**주요 정보:**'),\n",
      " Document(id='b7357abb-85fb-4286-b9dd-9bb2fb75044a', metadata={'language': 'ko', 'company': '리비안', 'source': 'data/리비안_KR.md'}, page_content='[출처] 이 문서는 리비안에 대한 문서입니다.\\n----------------------------------\\n**역사**\\n\\n**초창기 (2009–15):**\\n\\n- 2009년 R. J. 스캐린지가 Mainstream Motors로 설립.\\n- 2011년 Rivian Automotive로 사명 변경.\\n- 처음에는 스포츠카 프로토타입(R1)에 집중했지만 전기 및 자율 주행 차량으로 전환.\\n\\n**생산 준비 (2016–20):**\\n\\n- 2017년 일리노이 주 노멀에 있는 이전 Mitsubishi Motors 제조 공장을 1,600만 달러에 인수.\\n- 2017년 12월, 첫 두 제품인 R1T (픽업 트럭)와 R1S (SUV)를 공개.\\n- 생산은 2020년에 시작될 예정.\\n\\n**첫 모델 배송; IPO; 감원 및 확장 (2021–24):**'),\n",
      " Document(id='cfcd5eff-6a00-482c-b198-ec5a8a28ce66', metadata={'source': 'data/리비안_KR.md', 'language': 'ko', 'company': '리비안'}, page_content='[출처] 이 문서는 리비안에 대한 문서입니다.\\n----------------------------------\\n**시설**\\n\\n- **Irvine, California:** 차량 엔지니어링 및 설계에 중점을 둔 본사.\\n- **Normal, Illinois:** 차량 부품을 생산하고 조립을 수행하는 제조 공장.\\n- **Plymouth, Michigan:** 차량 엔지니어링, 프로토타입 제작, 공급망 및 회계에 중점을 둡니다.\\n- **Palo Alto, California:** 소프트웨어 개발 및 엔지니어링에 중점을 둡니다.\\n- Carson, California 및 Woking, England에 추가 사무실이 있습니다.\\n- 애틀랜타 동쪽에 있는 새로운 50억 달러 규모의 배터리 및 조립 공장은 보류 중입니다.\\n\\n**재정**\\n\\nRivian의 재무 성과는 상당한 수익 성장과 상당한 순손실로 특징지어집니다.')]\n"
     ]
    }
   ],
   "source": [
    "# 도구 실행 (비동기)\n",
    "\n",
    "docs = await search_database.ainvoke(\"리비안은 언제 설립되었나요?\")\n",
    "pprint(docs)"
   ]
  },
  {
   "cell_type": "markdown",
   "metadata": {},
   "source": [
    "---\n",
    "### **[실습]**\n",
    "\n",
    "- mmr 검색 리트리버를 사용하여 비동기 방식으로 동작하는 도구를 생성합니다. \n",
    "- 도구 속성을 확인합니다. \n",
    "- 도구를 실행합니다. "
   ]
  },
  {
   "cell_type": "code",
   "execution_count": 15,
   "metadata": {},
   "outputs": [
    {
     "name": "stdout",
     "output_type": "stream",
     "text": [
      "도구 이름: search_database_mmr\n",
      "----------------------------------------------------------------------------------------------------\n",
      "도구 설명: MMR 검색을 사용하여 데이터베이스에서 다양성을 고려한 검색을 수행합니다.\n",
      "\n",
      "Args:\n",
      "    query: 검색할 텍스트 쿼리\n",
      "    k: 반환할 결과의 개수 (기본값: 4)\n",
      "    fetch_k: MMR 알고리즘에 전달할 문서 개수 (기본값: 20)\n",
      "----------------------------------------------------------------------------------------------------\n",
      "도구 인자 스키마: {'query': {'title': 'Query', 'type': 'string'}, 'k': {'default': 4, 'title': 'K', 'type': 'integer'}, 'fetch_k': {'default': 20, 'title': 'Fetch K', 'type': 'integer'}}\n",
      "----------------------------------------------------------------------------------------------------\n",
      "도구 출력 스키마: {'title': 'search_database_mmr_output'}\n",
      "----------------------------------------------------------------------------------------------------\n",
      "\n",
      "MMR 검색 결과:\n",
      "[Document(id='ff588b7a-95d3-4949-aabb-fd080a25daa2', metadata={'company': '리비안', 'language': 'ko', 'source': 'data/리비안_KR.md'}, page_content='[출처] 이 문서는 리비안에 대한 문서입니다.\\n----------------------------------\\n- **회사 유형:** 상장\\n- **거래소:** NASDAQ: RIVN\\n- **설립:** 2009년 6월, 플로리다 주 록ledge\\n- **설립자:** R. J. 스캐린지\\n- **본사:** 미국 캘리포니아 주 어바인\\n- **서비스 지역:** 북미\\n- **주요 인물:** R. J. 스캐린지 (CEO)\\n- **제품:** 전기 자동차, 배터리\\n- **생산량 (2023):** 57,232대\\n- **서비스:** 전기 자동차 충전, 자동차 보험\\n- **수익 (2023):** 44억 3천만 미국 달러\\n- **순이익 (2023):** -54억 미국 달러\\n- **총 자산 (2023):** 168억 미국 달러'),\n",
      " Document(id='00a9814c-3bdf-493d-9a37-852015581d3a', metadata={'language': 'ko', 'company': '리비안', 'source': 'data/리비안_KR.md'}, page_content='[출처] 이 문서는 리비안에 대한 문서입니다.\\n----------------------------------\\n- 2022년 10월, 느슨한 토크 볼트로 인해 13,000대의 차량을 자발적으로 리콜.\\n- 2023년 6월, Tesla의 북미 충전 시스템(NACS) 채택을 발표.\\n- 2023년 6월, \"A Better Route Planner\"(ABRP) EV 경로 계획 앱을 개발한 Iternio 인수.\\n- 2023년 10월, Amazon과의 독점 계약을 종료하여 Rivian이 다른 상업 고객에게 공급할 수 있도록 허용.\\n- 2024년 2월, 급여 직원 10% 감축 발표.\\n- 2024년 3월, 더 작은 가격대의 R2 SUV 및 R3 공개.'),\n",
      " Document(id='8fe53148-ead3-4720-8036-5e08cf11aa8c', metadata={'language': 'ko', 'source': 'data/테슬라_KR.md', 'company': '테슬라'}, page_content='[출처] 이 문서는 테슬라에 대한 문서입니다.\\n----------------------------------\\n2023년 3월, Tesla는 잠재적인 관세 영향으로 인해 지연된 Gigafactory Mexico에 대한 계획을 발표했습니다. COVID-19 팬데믹 초기에 Tesla는 2020년 3월에 프리몬트 공장을 폐쇄하고 지방 당국과의 분쟁 후 2020년 5월 11일에 재개장했습니다. Tesla는 2021년 12월에 법적 본사를 Gigafactory Texas로 이전했지만 Megafactory (2022)와 Palo Alto의 글로벌 엔지니어링 본사(2023)로 캘리포니아에서의 입지를 확장했습니다.')]\n"
     ]
    }
   ],
   "source": [
    "# 여기에 코드를 작성하세요. \n",
    "\n",
    "# 1. MMR 검색 리트리버를 사용하여 비동기 방식으로 동작하는 도구 생성\n",
    "from langchain_core.tools import tool\n",
    "\n",
    "@tool\n",
    "async def search_database_mmr(query: str, k: int = 4, fetch_k: int = 20) -> str:\n",
    "    \"\"\"\n",
    "    MMR 검색을 사용하여 데이터베이스에서 다양성을 고려한 검색을 수행합니다.\n",
    "    \n",
    "    Args:\n",
    "        query: 검색할 텍스트 쿼리\n",
    "        k: 반환할 결과의 개수 (기본값: 4)\n",
    "        fetch_k: MMR 알고리즘에 전달할 문서 개수 (기본값: 20)\n",
    "    \"\"\"\n",
    "    retriever = chroma_db.as_retriever(\n",
    "        search_type=\"mmr\",\n",
    "        search_kwargs={\"k\": k, \"fetch_k\": fetch_k}\n",
    "    )\n",
    "    return await retriever.ainvoke(query)\n",
    "\n",
    "# 2. 도구 속성 확인\n",
    "print(\"도구 이름:\", search_database_mmr.name)\n",
    "print(\"-\" * 100)\n",
    "print(\"도구 설명:\", search_database_mmr.description)\n",
    "print(\"-\" * 100)\n",
    "print(\"도구 인자 스키마:\", search_database_mmr.args)\n",
    "print(\"-\" * 100)\n",
    "print(\"도구 출력 스키마:\", search_database_mmr.output_schema.model_json_schema())\n",
    "print(\"-\" * 100)\n",
    "\n",
    "# 3. 도구 실행 (비동기)\n",
    "docs = await search_database_mmr.ainvoke({\"query\": \"리비안은 언제 설립되었나요?\", \"k\": 3, \"fetch_k\": 15})\n",
    "print(\"\\nMMR 검색 결과:\")\n",
    "pprint(docs)"
   ]
  },
  {
   "cell_type": "markdown",
   "metadata": {},
   "source": [
    "---\n",
    "\n",
    "### 2. **StructuredTool** \n",
    "\n",
    "- **StructuredTool.from_function**을 통해 도구의 세부 동작을 정의할 수 있음\n",
    "\n",
    "- 도구의 **실행 방식**과 **응답 처리**를 상세하게 커스터마이징 가능\n",
    "\n",
    "- 개발자가 원하는 **특정 기능**을 도구에 쉽게 추가할 수 있음"
   ]
  },
  {
   "cell_type": "markdown",
   "metadata": {},
   "source": [
    "`(1) 입출력 스키마 정의`"
   ]
  },
  {
   "cell_type": "code",
   "execution_count": 16,
   "metadata": {},
   "outputs": [],
   "source": [
    "from langchain_core.tools import StructuredTool\n",
    "from pydantic import BaseModel, Field\n",
    "from typing import Literal\n",
    "from langchain_openai import ChatOpenAI\n",
    "from langchain_core.prompts import ChatPromptTemplate\n",
    "\n",
    "# 텍스트 분석 입력 스키마 정의\n",
    "class TextAnalysisInput(BaseModel):\n",
    "    text: str = Field(description=\"분석할 텍스트\")\n",
    "    include_sentiment: bool = Field(\n",
    "        description=\"감성 분석 포함 여부\", \n",
    "        default=False\n",
    "    )\n",
    "\n",
    "# 감성 분석 출력 스키마 정의\n",
    "class SentimentOutput(BaseModel):\n",
    "    sentiment: Literal['positive', 'negative'] = Field(description=\"감성 분석 결과\")"
   ]
  },
  {
   "cell_type": "markdown",
   "metadata": {},
   "source": [
    "`(2) 도구 작업을 함수로 정의`"
   ]
  },
  {
   "cell_type": "code",
   "execution_count": 17,
   "metadata": {},
   "outputs": [],
   "source": [
    "# 텍스트 분석 수행 함수 (동기)\n",
    "def analyze_text(text: str, include_sentiment: bool = False) -> dict:\n",
    "    \"\"\"텍스트를 분석하여 단어 수, 문자 수 등의 정보를 반환합니다.\"\"\"\n",
    "    result = {\n",
    "        \"word_count\": len(text.split()),\n",
    "        \"char_count\": len(text),\n",
    "        \"sentence_count\": len(text.split('.')),\n",
    "    }\n",
    "    \n",
    "    if include_sentiment:\n",
    "        # 감성 분석 수행\n",
    "        prompt = ChatPromptTemplate.from_messages(\n",
    "            [\n",
    "                (\"system\", \"입력된 문장에 대해서 감성 분석을 수행합니다.\"),\n",
    "                (\"user\", \"{input}\"),\n",
    "            ]\n",
    "        )\n",
    "        llm =  ChatOpenAI(model=\"gpt-4.1-mini\")\n",
    "\n",
    "        llm_with_structure = llm.with_structured_output(SentimentOutput)\n",
    "\n",
    "        sentiment_chain = prompt | llm_with_structure\n",
    "\n",
    "        sentiment = sentiment_chain.invoke({\"input\": text})\n",
    "\n",
    "        result[\"sentiment\"] = sentiment.sentiment\n",
    "        \n",
    "    return result\n",
    "\n",
    "# 텍스트 분석 수행 함수 (비동기)\n",
    "async def analyze_text_async(text: str, include_sentiment: bool = False) -> dict:\n",
    "    \"\"\"텍스트 분석의 비동기 버전입니다.\"\"\"\n",
    "    return analyze_text(text, include_sentiment)"
   ]
  },
  {
   "cell_type": "markdown",
   "metadata": {},
   "source": [
    "`(3) 도구 생성단계에서 커스터마이징 가능`"
   ]
  },
  {
   "cell_type": "code",
   "execution_count": 18,
   "metadata": {},
   "outputs": [
    {
     "name": "stdout",
     "output_type": "stream",
     "text": [
      "TextAnalyzer\n",
      "텍스트의 기본 통계와 선택적으로 감성 분석을 수행합니다.\n",
      "{'text': {'description': '분석할 텍스트', 'title': 'Text', 'type': 'string'}, 'include_sentiment': {'default': False, 'description': '감성 분석 포함 여부', 'title': 'Include Sentiment', 'type': 'boolean'}}\n",
      "{'title': 'TextAnalyzerOutput'}\n"
     ]
    }
   ],
   "source": [
    "# 도구 생성\n",
    "text_analyzer = StructuredTool.from_function(\n",
    "    func=analyze_text,   # 동기 함수 사용\n",
    "    name=\"TextAnalyzer\",    # 도구 이름\n",
    "    description=\"텍스트의 기본 통계와 선택적으로 감성 분석을 수행합니다.\",   # 도구 설명\n",
    "    args_schema=TextAnalysisInput,   # 입력 스키마\n",
    "    coroutine=analyze_text_async,    # 비동기 함수 사용\n",
    "    return_direct=True    # 결과를 직접 반환\n",
    ")\n",
    "\n",
    "# 도구 속성 확인\n",
    "print(text_analyzer.name)\n",
    "print(text_analyzer.description)\n",
    "print(text_analyzer.args)\n",
    "print(text_analyzer.output_schema.model_json_schema())"
   ]
  },
  {
   "cell_type": "markdown",
   "metadata": {},
   "source": [
    "`(4) 도구 실행`"
   ]
  },
  {
   "cell_type": "code",
   "execution_count": 19,
   "metadata": {},
   "outputs": [
    {
     "name": "stdout",
     "output_type": "stream",
     "text": [
      "텍스트 분석 결과: {'word_count': 7, 'char_count': 33, 'sentence_count': 4, 'sentiment': 'positive'}\n",
      "비동기 텍스트 분석 결과: {'word_count': 7, 'char_count': 33, 'sentence_count': 4}\n"
     ]
    }
   ],
   "source": [
    "# 텍스트 분석 도구 사용\n",
    "text = \"안녕하세요. 오늘은 날씨가 좋네요. 산책하기 좋은 날입니다.\"\n",
    "\n",
    "# 동기 호출\n",
    "result1 = text_analyzer.invoke({\n",
    "    \"text\": text,\n",
    "    \"include_sentiment\": True\n",
    "})\n",
    "print(\"텍스트 분석 결과:\", result1)\n",
    "\n",
    "# 비동기 호출\n",
    "result2 = await text_analyzer.ainvoke({\n",
    "    \"text\": text,\n",
    "    \"include_sentiment\": False\n",
    "})\n",
    "print(\"비동기 텍스트 분석 결과:\", result2)"
   ]
  },
  {
   "cell_type": "markdown",
   "metadata": {},
   "source": [
    "`(5) StructuredTool은 다음과 같은 상황에서 더 적합 (@tool 데코레이터와 차이점)`\n",
    "\n",
    "- **StructuredTool**은 **기존 함수**를 도구로 쉽게 변환하여 재활용 가능\n",
    "- 하나의 함수로 **다양한 설정**의 도구를 만들 수 있어 코드 중복을 방지함\n",
    "- **동기/비동기** 버전을 동시에 지원하여 유연한 실행 환경 제공"
   ]
  },
  {
   "cell_type": "code",
   "execution_count": 20,
   "metadata": {},
   "outputs": [],
   "source": [
    "### 1. 기존 함수의 재사용\n",
    "\n",
    "# 이미 존재하는 함수를 도구로 변환할 때\n",
    "def existing_function(x: int) -> str:\n",
    "    return str(x)\n",
    "\n",
    "# @tool을 사용하려면 함수를 수정해야 함\n",
    "from langchain_core.tools import tool\n",
    "\n",
    "@tool \n",
    "def modified_function(x: int) -> str:\n",
    "    \"\"\" 숫자 변환 도구 \"\"\"\n",
    "    return str(x)\n",
    "\n",
    "# StructuredTool은 기존 함수를 그대로 사용 가능\n",
    "tool = StructuredTool.from_function(\n",
    "    func=existing_function,\n",
    "    name=\"convert_number\",\n",
    "    description=\"숫자를 문자열로 변환합니다.\",\n",
    ")"
   ]
  },
  {
   "cell_type": "code",
   "execution_count": 21,
   "metadata": {},
   "outputs": [
    {
     "name": "stdout",
     "output_type": "stream",
     "text": [
      "basic_multiply\n",
      "기본 곱셈 계산기\n",
      "{'a': {'title': 'A', 'type': 'integer'}, 'b': {'title': 'B', 'type': 'integer'}}\n",
      "{'title': 'basic_multiply_output'}\n",
      "\n",
      "output_multiply\n",
      "결과 출력용\n",
      "{'a': {'title': 'A', 'type': 'integer'}, 'b': {'title': 'B', 'type': 'integer'}}\n",
      "{'title': 'output_multiply_output'}\n"
     ]
    }
   ],
   "source": [
    "### 2. 동일한 함수에 대해 다른 설정의 도구 생성\n",
    "\n",
    "def multiply(a: int, b: int) -> int:\n",
    "    return a * b\n",
    "\n",
    "# 같은 함수로 다른 설정의 도구들을 만들 수 있음\n",
    "basic_calculator = StructuredTool.from_function(\n",
    "    func=multiply,\n",
    "    name=\"basic_multiply\",\n",
    "    description=\"기본 곱셈 계산기\",\n",
    ")\n",
    "\n",
    "advanced_calculator = StructuredTool.from_function(\n",
    "    func=multiply,\n",
    "    name=\"output_multiply\", \n",
    "    description=\"결과 출력용\",\n",
    "    return_direct=True   # 결과를 직접 반환\n",
    ")\n",
    "\n",
    "# 도구 속성 확인\n",
    "print(basic_calculator.name)\n",
    "print(basic_calculator.description)\n",
    "print(basic_calculator.args)\n",
    "print(basic_calculator.output_schema.model_json_schema())\n",
    "print()\n",
    "print(advanced_calculator.name)\n",
    "print(advanced_calculator.description)\n",
    "print(advanced_calculator.args)\n",
    "print(advanced_calculator.output_schema.model_json_schema())"
   ]
  },
  {
   "cell_type": "code",
   "execution_count": 22,
   "metadata": {},
   "outputs": [
    {
     "name": "stdout",
     "output_type": "stream",
     "text": [
      "[HumanMessage(content='2와 3을 곱해줘', additional_kwargs={}, response_metadata={}, id='f63dba9f-ec0d-4343-b059-b26acb51213b'),\n",
      " AIMessage(content='', additional_kwargs={'refusal': None}, response_metadata={'token_usage': {'completion_tokens': 19, 'prompt_tokens': 77, 'total_tokens': 96, 'completion_tokens_details': {'accepted_prediction_tokens': 0, 'audio_tokens': 0, 'reasoning_tokens': 0, 'rejected_prediction_tokens': 0}, 'prompt_tokens_details': {'audio_tokens': 0, 'cached_tokens': 0}}, 'model_provider': 'openai', 'model_name': 'gpt-4o-mini-2024-07-18', 'system_fingerprint': 'fp_560af6e559', 'id': 'chatcmpl-CTRAuCrK4Vu7Cppx5VluoWao2OLgz', 'service_tier': 'default', 'finish_reason': 'tool_calls', 'logprobs': None}, id='lc_run--f0b87685-5cce-48af-84d1-e6a6a87ec543-0', tool_calls=[{'name': 'basic_multiply', 'args': {'a': 2, 'b': 3}, 'id': 'call_ZVTth6347hGxB0sBhWbJyCTL', 'type': 'tool_call'}], usage_metadata={'input_tokens': 77, 'output_tokens': 19, 'total_tokens': 96, 'input_token_details': {'audio': 0, 'cache_read': 0}, 'output_token_details': {'audio': 0, 'reasoning': 0}}),\n",
      " ToolMessage(content='6', name='basic_multiply', id='61721cbe-f654-44f0-bab9-e0f30f27ba83', tool_call_id='call_ZVTth6347hGxB0sBhWbJyCTL'),\n",
      " AIMessage(content='2와 3을 곱한 결과는 6입니다.', additional_kwargs={'refusal': None}, response_metadata={'token_usage': {'completion_tokens': 15, 'prompt_tokens': 106, 'total_tokens': 121, 'completion_tokens_details': {'accepted_prediction_tokens': 0, 'audio_tokens': 0, 'reasoning_tokens': 0, 'rejected_prediction_tokens': 0}, 'prompt_tokens_details': {'audio_tokens': 0, 'cached_tokens': 0}}, 'model_provider': 'openai', 'model_name': 'gpt-4o-mini-2024-07-18', 'system_fingerprint': 'fp_560af6e559', 'id': 'chatcmpl-CTRAvDVsNPbrp5T0nCUeDgKEoyY8v', 'service_tier': 'default', 'finish_reason': 'stop', 'logprobs': None}, id='lc_run--6154b46c-ad91-401c-ab5f-18679ea17d71-0', usage_metadata={'input_tokens': 106, 'output_tokens': 15, 'total_tokens': 121, 'input_token_details': {'audio': 0, 'cache_read': 0}, 'output_token_details': {'audio': 0, 'reasoning': 0}})]\n"
     ]
    }
   ],
   "source": [
    "from langchain.agents import create_agent\n",
    "\n",
    "# 도구 실행 에이전트 생성 (return_direct=False)\n",
    "basic_agent = create_agent(\n",
    "    model=llm,\n",
    "    tools=[basic_calculator],\n",
    "    system_prompt=\"당신은 수학 계산을 도와주는 AI 어시스턴트입니다.\"\n",
    ")\n",
    "\n",
    "# 도구 실행 에이전트 사용\n",
    "result = basic_agent.invoke(\n",
    "    {\"messages\": [{\"role\": \"user\", \"content\": \"2와 3을 곱해줘\"}]},\n",
    ")\n",
    "\n",
    "pprint(result[\"messages\"])"
   ]
  },
  {
   "cell_type": "code",
   "execution_count": 23,
   "metadata": {},
   "outputs": [
    {
     "name": "stdout",
     "output_type": "stream",
     "text": [
      "[HumanMessage(content='2와 3을 곱해줘', additional_kwargs={}, response_metadata={}, id='fe651b03-8def-4e51-8d41-7563ec50fe80'),\n",
      " AIMessage(content='', additional_kwargs={'refusal': None}, response_metadata={'token_usage': {'completion_tokens': 19, 'prompt_tokens': 73, 'total_tokens': 92, 'completion_tokens_details': {'accepted_prediction_tokens': 0, 'audio_tokens': 0, 'reasoning_tokens': 0, 'rejected_prediction_tokens': 0}, 'prompt_tokens_details': {'audio_tokens': 0, 'cached_tokens': 0}}, 'model_provider': 'openai', 'model_name': 'gpt-4o-mini-2024-07-18', 'system_fingerprint': 'fp_560af6e559', 'id': 'chatcmpl-CTRAwbbiSnl2KhRQWXgvEzgkueHtp', 'service_tier': 'default', 'finish_reason': 'tool_calls', 'logprobs': None}, id='lc_run--4f4b7d94-0d50-43f5-b254-507dcb02db4a-0', tool_calls=[{'name': 'output_multiply', 'args': {'a': 2, 'b': 3}, 'id': 'call_ApYELn8WHbQ1KryUykhsPO0R', 'type': 'tool_call'}], usage_metadata={'input_tokens': 73, 'output_tokens': 19, 'total_tokens': 92, 'input_token_details': {'audio': 0, 'cache_read': 0}, 'output_token_details': {'audio': 0, 'reasoning': 0}}),\n",
      " ToolMessage(content='6', name='output_multiply', id='b2a912e1-4e75-4699-b354-80094fce2228', tool_call_id='call_ApYELn8WHbQ1KryUykhsPO0R')]\n"
     ]
    }
   ],
   "source": [
    "# 도구 실행 에이전트 생성 (return_direct=True)\n",
    "advanced_agent = create_agent(\n",
    "    model=llm,\n",
    "    tools=[advanced_calculator],\n",
    "    system_prompt=\"당신은 수학 계산을 도와주는 AI 어시스턴트입니다.\"\n",
    ")\n",
    "\n",
    "# 도구 실행 에이전트 사용\n",
    "result = advanced_agent.invoke(\n",
    "    {\"messages\": [{\"role\": \"user\", \"content\": \"2와 3을 곱해줘\"}]},\n",
    ")\n",
    "\n",
    "pprint(result[\"messages\"])"
   ]
  },
  {
   "cell_type": "code",
   "execution_count": 24,
   "metadata": {},
   "outputs": [
    {
     "name": "stdout",
     "output_type": "stream",
     "text": [
      "10\n",
      "10\n"
     ]
    }
   ],
   "source": [
    "### 3. 동기/비동기 함수 동시 지원\n",
    "\n",
    "def sync_func(x: int) -> int:\n",
    "    return x * 2\n",
    "\n",
    "async def async_func(x: int) -> int:\n",
    "    return sync_func(x)\n",
    "\n",
    "# 동기/비동기 함수를 하나의 도구로 결합\n",
    "tool = StructuredTool.from_function(\n",
    "    func=sync_func,  # 동기 함수\n",
    "    coroutine=async_func,  # 비동기 함수\n",
    "    name=\"multiply_by_2\",\n",
    "    description=\"입력된 숫자에 2를 곱합니다.\"\n",
    ")\n",
    "\n",
    "# 사용\n",
    "result1 = tool.invoke({\"x\": 5})  # 동기 호출\n",
    "result2 = await tool.ainvoke({\"x\": 5})  # 비동기 호출\n",
    "\n",
    "print(result1)\n",
    "print(result2)"
   ]
  },
  {
   "cell_type": "markdown",
   "metadata": {},
   "source": [
    "---\n",
    "### **[실습]**\n",
    "\n",
    "- StructuredTool을 이용하여 mmr 검색 리트리버를 사용하는 도구를 생성합니다. \n",
    "- 도구 속성을 확인합니다. \n",
    "- 도구를 실행합니다. "
   ]
  },
  {
   "cell_type": "code",
   "execution_count": 25,
   "metadata": {},
   "outputs": [
    {
     "name": "stdout",
     "output_type": "stream",
     "text": [
      "도구 이름: MMR_Search\n",
      "----------------------------------------------------------------------------------------------------\n",
      "도구 설명: MMR 알고리즘을 사용하여 다양성을 고려한 문서 검색을 수행합니다.\n",
      "----------------------------------------------------------------------------------------------------\n",
      "도구 인자 스키마: {'query': {'description': '검색할 쿼리', 'title': 'Query', 'type': 'string'}, 'k': {'default': 4, 'description': '반환할 문서의 개수', 'title': 'K', 'type': 'integer'}, 'fetch_k': {'default': 20, 'description': 'MMR 알고리즘에 전달할 문서 개수', 'title': 'Fetch K', 'type': 'integer'}}\n",
      "----------------------------------------------------------------------------------------------------\n",
      "도구 출력 스키마: {'title': 'MMR_SearchOutput'}\n",
      "----------------------------------------------------------------------------------------------------\n",
      "\n",
      "동기 MMR 검색 결과:\n",
      "[Document(id='e9ebf1e5-ae4e-46b8-9c1b-a8c8b906fa91', metadata={'company': '리비안', 'language': 'ko', 'source': 'data/리비안_KR.md'}, page_content='[출처] 이 문서는 리비안에 대한 문서입니다.\\n----------------------------------\\nRivian Automotive, Inc.는 2009년에 설립된 미국의 전기 자동차 제조업체, 자동차 기술 및 야외 레크리에이션 회사입니다.\\n\\n**주요 정보:**'),\n",
      " Document(id='037b1011-687d-4892-960b-8c09abd37597', metadata={'source': 'data/테슬라_KR.md', 'language': 'ko', 'company': '테슬라'}, page_content='[출처] 이 문서는 테슬라에 대한 문서입니다.\\n----------------------------------\\n## 에너지 제품\\n\\nTesla Energy는 태양 에너지 생성 시스템과 배터리 에너지 저장 제품을 개발, 구축, 판매 및 설치합니다. 제품에는 태양 전지판, Solar Roof, Solar Inverter, Powerwall 및 Megapack이 포함됩니다. 이 회사는 대규모 고객을 위한 자동화된 전력 거래, 수요 예측 및 제품 제어를 위한 온라인 플랫폼을 운영하고 있습니다.\\n\\n## 비즈니스 전략'),\n",
      " Document(id='b2eb6d62-9519-4875-8f22-ce6b4c69de50', metadata={'language': 'ko', 'company': '테슬라', 'source': 'data/테슬라_KR.md'}, page_content='[출처] 이 문서는 테슬라에 대한 문서입니다.\\n----------------------------------\\n- **Cybertruck:** 2019년 11월에 처음 발표된 풀사이즈 픽업 트럭. 후륜 구동, 듀얼 모터 전륜 구동, 트리 모터 전륜 구동의 세 가지 모델이 제공됩니다.')]\n",
      "----------------------------------------------------------------------------------------------------\n",
      "\n",
      "비동기 MMR 검색 결과:\n",
      "[Document(id='5f7b0a65-c409-47ab-84cb-d8b58229400c', metadata={'company': '테슬라', 'language': 'ko', 'source': 'data/테슬라_KR.md'}, page_content='[출처] 이 문서는 테슬라에 대한 문서입니다.\\n----------------------------------\\n## 비즈니스 전략\\n\\nTesla의 전략은 배터리 비용을 줄이기 위해 고가, 소량 차량으로 시작한 다음 더 저렴하고 대량 차량을 제공하는 것입니다. Tesla는 자동차의 하드웨어를 지속적으로 업데이트하고 웹사이트와 회사 소유 매장을 통해 직접 차량을 판매합니다. Tesla는 수직적으로 통합되어 많은 구성 요소를 자체 개발합니다. Tesla는 일반적으로 지속 가능한 에너지 채택을 촉진하기 위해 경쟁 업체가 자사 기술을 라이선스하도록 허용합니다.\\n\\n## 기술\\n\\n### 배터리\\n\\nTesla는 CATL, LG Energy Solution 및 Panasonic에서 공급받은 원통형 및 각형 배터리 셀을 사용하고 있으며 자체 배터리를 생산할 수 있는 능력을 구축하고 있습니다.'),\n",
      " Document(id='8fb144b8-dafb-45f1-949b-fa5594f2e03a', metadata={'language': 'ko', 'company': '테슬라', 'source': 'data/테슬라_KR.md'}, page_content='[출처] 이 문서는 테슬라에 대한 문서입니다.\\n----------------------------------\\n- **Tesla Roadster:** 2008년부터 2012년까지 생산된 2인승 스포츠카.\\n\\n### 연결 서비스\\n\\nTesla 자동차에는 내비게이션을 위한 \"표준 연결\"이 함께 제공됩니다. \"프리미엄 연결\"은 구독료로 실시간 교통 정보, 위성 지도, 인터넷 검색 및 미디어 스트리밍을 추가합니다.\\n\\n### 차량 서비스'),\n",
      " Document(id='b2eb6d62-9519-4875-8f22-ce6b4c69de50', metadata={'language': 'ko', 'source': 'data/테슬라_KR.md', 'company': '테슬라'}, page_content='[출처] 이 문서는 테슬라에 대한 문서입니다.\\n----------------------------------\\n- **Cybertruck:** 2019년 11월에 처음 발표된 풀사이즈 픽업 트럭. 후륜 구동, 듀얼 모터 전륜 구동, 트리 모터 전륜 구동의 세 가지 모델이 제공됩니다.')]\n"
     ]
    }
   ],
   "source": [
    "# 여기에 코드를 작성하세요. \n",
    "\n",
    "from langchain_core.tools import StructuredTool\n",
    "from pydantic import BaseModel, Field\n",
    "\n",
    "# 1. 입력 스키마 정의\n",
    "class MMRSearchInput(BaseModel):\n",
    "    \"\"\"MMR 검색 도구 입력 스키마\"\"\"\n",
    "    query: str = Field(description=\"검색할 쿼리\")\n",
    "    k: int = Field(4, description=\"반환할 문서의 개수\")\n",
    "    fetch_k: int = Field(20, description=\"MMR 알고리즘에 전달할 문서 개수\")\n",
    "\n",
    "# 2. MMR 검색 수행 함수 (동기)\n",
    "def mmr_search(query: str, k: int = 4, fetch_k: int = 20) -> list:\n",
    "    \"\"\"MMR 검색을 수행하여 다양성을 고려한 문서를 반환합니다.\"\"\"\n",
    "    retriever = chroma_db.as_retriever(\n",
    "        search_type=\"mmr\",\n",
    "        search_kwargs={\"k\": k, \"fetch_k\": fetch_k}\n",
    "    )\n",
    "    return retriever.invoke(query)\n",
    "\n",
    "# 3. MMR 검색 수행 함수 (비동기)\n",
    "async def mmr_search_async(query: str, k: int = 4, fetch_k: int = 20) -> list:\n",
    "    \"\"\"MMR 검색의 비동기 버전입니다.\"\"\"\n",
    "    retriever = chroma_db.as_retriever(\n",
    "        search_type=\"mmr\",\n",
    "        search_kwargs={\"k\": k, \"fetch_k\": fetch_k}\n",
    "    )\n",
    "    return await retriever.ainvoke(query)\n",
    "\n",
    "# 4. StructuredTool로 도구 생성\n",
    "mmr_search_tool = StructuredTool.from_function(\n",
    "    func=mmr_search,\n",
    "    name=\"MMR_Search\",\n",
    "    description=\"MMR 알고리즘을 사용하여 다양성을 고려한 문서 검색을 수행합니다.\",\n",
    "    args_schema=MMRSearchInput,\n",
    "    coroutine=mmr_search_async,\n",
    "    return_direct=False\n",
    ")\n",
    "\n",
    "# 5. 도구 속성 확인\n",
    "print(\"도구 이름:\", mmr_search_tool.name)\n",
    "print(\"-\" * 100)\n",
    "print(\"도구 설명:\", mmr_search_tool.description)\n",
    "print(\"-\" * 100)\n",
    "print(\"도구 인자 스키마:\", mmr_search_tool.args)\n",
    "print(\"-\" * 100)\n",
    "print(\"도구 출력 스키마:\", mmr_search_tool.output_schema.model_json_schema())\n",
    "print(\"-\" * 100)\n",
    "\n",
    "# 6. 도구 실행 (동기)\n",
    "result_sync = mmr_search_tool.invoke({\n",
    "    \"query\": \"리비안의 전기 트럭에 대해 알려주세요\",\n",
    "    \"k\": 3,\n",
    "    \"fetch_k\": 15\n",
    "})\n",
    "print(\"\\n동기 MMR 검색 결과:\")\n",
    "pprint(result_sync)\n",
    "print(\"-\" * 100)\n",
    "\n",
    "# 7. 도구 실행 (비동기)\n",
    "result_async = await mmr_search_tool.ainvoke({\n",
    "    \"query\": \"테슬라의 전기차 기술\",\n",
    "    \"k\": 3,\n",
    "    \"fetch_k\": 15\n",
    "})\n",
    "print(\"\\n비동기 MMR 검색 결과:\")\n",
    "pprint(result_async)"
   ]
  },
  {
   "cell_type": "markdown",
   "metadata": {},
   "source": [
    "---\n",
    "\n",
    "### 3. **Runnable을 도구로 변환** \n",
    "\n",
    "- `as_tool` 메소드: **Runnable**을 도구로 변환하여 **복잡한 체인**을 하나의 단위로 관리 가능\n",
    "\n",
    "- 도구화를 통해 체인에 대한 **명확한 인터페이스**를 제공\n",
    "\n",
    "- 변환된 도구는 다른 프로젝트나 컴포넌트에서 쉽게 **재사용** 가능\n",
    "\n",
    "- 체인의 실행 방식을 **표준화**하여 일관된 사용 경험 제공"
   ]
  },
  {
   "cell_type": "code",
   "execution_count": 26,
   "metadata": {},
   "outputs": [
    {
     "name": "stdout",
     "output_type": "stream",
     "text": [
      "email_writer\n",
      "전문적인 이메일 작성을 도와주는 도구입니다.\n",
      "{'recipient': {'title': 'Recipient', 'type': 'string'}, 'requirements': {'title': 'Requirements', 'type': 'string'}, 'subject': {'title': 'Subject', 'type': 'string'}, 'tone': {'title': 'Tone', 'type': 'string'}}\n",
      "True\n"
     ]
    },
    {
     "name": "stderr",
     "output_type": "stream",
     "text": [
      "C:\\Users\\kaydash\\AppData\\Local\\Temp\\ipykernel_17976\\3343907101.py:24: LangChainBetaWarning: This API is in beta and may change in the future.\n",
      "  email_tool = email_chain.as_tool(\n"
     ]
    }
   ],
   "source": [
    "from langchain_core.prompts import ChatPromptTemplate\n",
    "from langchain_core.output_parsers import StrOutputParser\n",
    "from langchain_openai import ChatOpenAI\n",
    "\n",
    "# 이메일 작성 체인\n",
    "email_prompt = ChatPromptTemplate.from_messages([\n",
    "    (\"system\", \"당신은 전문적인 이메일 작성 도우미입니다.\"),\n",
    "    (\"human\", \"\"\"\n",
    "    다음 정보로 이메일을 작성해주세요:\n",
    "    - 수신자: {recipient}\n",
    "    - 제목: {subject}\n",
    "    - 톤: {tone}\n",
    "    - 추가 요청사항: {requirements}\n",
    "    \"\"\")\n",
    "])\n",
    "\n",
    "email_chain = (\n",
    "    email_prompt \n",
    "    | ChatOpenAI(model=\"gpt-4.1-mini\", temperature=0.7) \n",
    "    | StrOutputParser()\n",
    ")\n",
    "\n",
    "# 이메일 작성 도구로 변환\n",
    "email_tool = email_chain.as_tool(\n",
    "    name=\"email_writer\",\n",
    "    description=\"전문적인 이메일 작성을 도와주는 도구입니다.\",\n",
    ")\n",
    "\n",
    "# 도구 속성 변경\n",
    "email_tool.return_direct = True\n",
    "\n",
    "# 도구 속성 확인\n",
    "print(email_tool.name)\n",
    "print(email_tool.description)\n",
    "print(email_tool.args)\n",
    "print(email_tool.return_direct)"
   ]
  },
  {
   "cell_type": "code",
   "execution_count": 27,
   "metadata": {},
   "outputs": [
    {
     "name": "stdout",
     "output_type": "stream",
     "text": [
      "Subject: 프로젝트 진행 현황 보고 및 회의 일정 조율 요청\n",
      "\n",
      "team@example.com 귀하,\n",
      "\n",
      "안녕하세요.\n",
      "\n",
      "현재 진행 중인 프로젝트의 현황을 아래와 같이 보고드립니다.\n",
      "\n",
      "[프로젝트 진행 현황 요약]\n",
      "- 주요 완료 사항:\n",
      "- 진행 중인 작업:\n",
      "- 예상 일정 및 향후 계획:\n",
      "\n",
      "추가 논의가 필요한 사항이 있어 회의 일정을 조율하고자 합니다. 가능한 회의 일정을 제안해 주시면 감사하겠습니다.\n",
      "\n",
      "바쁘시겠지만 빠른 회신 부탁드립니다.\n",
      "\n",
      "감사합니다.\n",
      "\n",
      "[발신자 이름 드림]\n"
     ]
    }
   ],
   "source": [
    "# 도구 실행\n",
    "email_result = email_tool.invoke({\n",
    "    \"recipient\": \"team@example.com\",\n",
    "    \"subject\": \"프로젝트 진행 현황 보고\",\n",
    "    \"tone\": \"전문적\",\n",
    "    \"requirements\": \"회의 일정 조율 요청 포함\"\n",
    "})\n",
    "\n",
    "print(email_result)"
   ]
  },
  {
   "cell_type": "code",
   "execution_count": 28,
   "metadata": {},
   "outputs": [
    {
     "name": "stdout",
     "output_type": "stream",
     "text": [
      "[{'args': {'recipient': 'team@email.com',\n",
      "           'requirements': '회의 일정 조율 요청 포함',\n",
      "           'subject': '프로젝트 진행 현황 보고',\n",
      "           'tone': '전문적'},\n",
      "  'id': 'call_45n3kqv7OoVLNq6D6PkuNUzU',\n",
      "  'name': 'email_writer',\n",
      "  'type': 'tool_call'}]\n"
     ]
    }
   ],
   "source": [
    "# LLM과 도구 바인딩\n",
    "llm_with_tools = llm.bind_tools([email_tool])\n",
    "result = llm_with_tools.invoke(\"팀에게 프로젝트 진행 현황을 보고하는 이메일을 작성해줘. (전문적 톤, 요구사항: 회의 일정 조율 요청 포함, 수신자: 'team@email.com')\")\n",
    "\n",
    "pprint(result.tool_calls)\n"
   ]
  },
  {
   "cell_type": "code",
   "execution_count": 29,
   "metadata": {},
   "outputs": [
    {
     "name": "stdout",
     "output_type": "stream",
     "text": [
      "제목: 프로젝트 진행 현황 보고 및 회의 일정 조율 요청\n",
      "\n",
      "안녕하세요 팀 여러분,\n",
      "\n",
      "현재 진행 중인 프로젝트의 현황을 아래와 같이 보고드립니다.\n",
      "\n",
      "[프로젝트 진행 현황 요약]\n",
      "- 주요 완료 사항:\n",
      "- 진행 중인 작업:\n",
      "- 예상 일정 및 향후 계획:\n",
      "\n",
      "추가로, 프로젝트 관련 논의를 위해 회의 일정을 조율하고자 합니다. 가능한 일정과 시간을 공유해주시면 감사하겠습니다.\n",
      "\n",
      "감사합니다.\n",
      "\n",
      "[당신의 이름]  \n",
      "[당신의 직책]  \n",
      "[연락처]\n"
     ]
    }
   ],
   "source": [
    "# 도구 호출 결과를 실행\n",
    "tool_msg = email_tool.invoke(result.tool_calls[0])\n",
    "print(tool_msg.content)"
   ]
  },
  {
   "cell_type": "code",
   "execution_count": 30,
   "metadata": {},
   "outputs": [
    {
     "name": "stdout",
     "output_type": "stream",
     "text": [
      "[HumanMessage(content=\"팀에게 프로젝트 진행 현황을 보고하는 이메일을 작성해줘. (전문적 톤, 요구사항: 회의 일정 조율 요청 포함, 수신자: 'team@example.com')\", additional_kwargs={}, response_metadata={}, id='b4992d19-e723-4f24-98b1-027c7d16a04b'),\n",
      " AIMessage(content='', additional_kwargs={'refusal': None}, response_metadata={'token_usage': {'completion_tokens': 46, 'prompt_tokens': 120, 'total_tokens': 166, 'completion_tokens_details': {'accepted_prediction_tokens': 0, 'audio_tokens': 0, 'reasoning_tokens': 0, 'rejected_prediction_tokens': 0}, 'prompt_tokens_details': {'audio_tokens': 0, 'cached_tokens': 0}}, 'model_provider': 'openai', 'model_name': 'gpt-4o-mini-2024-07-18', 'system_fingerprint': 'fp_560af6e559', 'id': 'chatcmpl-CTRB7di6xmjVLIleo7C7x04XnrWdq', 'service_tier': 'default', 'finish_reason': 'tool_calls', 'logprobs': None}, id='lc_run--a5a67e84-8c75-4e05-8db9-a8a8fd479068-0', tool_calls=[{'name': 'email_writer', 'args': {'recipient': 'team@example.com', 'requirements': '회의 일정 조율 요청 포함', 'subject': '프로젝트 진행 현황 보고 및 회의 일정 조율', 'tone': '전문적'}, 'id': 'call_4I0HZClCgkyNRpuwVITFvw9O', 'type': 'tool_call'}], usage_metadata={'input_tokens': 120, 'output_tokens': 46, 'total_tokens': 166, 'input_token_details': {'audio': 0, 'cache_read': 0}, 'output_token_details': {'audio': 0, 'reasoning': 0}}),\n",
      " ToolMessage(content='Subject: 프로젝트 진행 현황 보고 및 회의 일정 조율 요청\\n\\nteam@example.com 귀하,\\n\\n안녕하세요.\\n\\n현재 진행 중인 프로젝트의 현황을 보고드리고자 연락드립니다. 주요 진행 상황과 관련 이슈를 공유드리며, 이에 대한 논의를 위해 회의 일정을 조율하고자 합니다.\\n\\n가능하신 회의 일정(날짜 및 시간)을 회신해 주시면 감사하겠습니다. 최대한 협의하에 편리한 시간으로 조정하도록 하겠습니다.\\n\\n항상 협조해 주셔서 감사드리며, 회신 기다리겠습니다.\\n\\n감사합니다.\\n\\n[작성자 이름]  \\n[직위]  \\n[연락처]  \\n[회사명]', name='email_writer', id='ccd84a4c-a468-40eb-8495-ec06b2c42029', tool_call_id='call_4I0HZClCgkyNRpuwVITFvw9O')]\n"
     ]
    }
   ],
   "source": [
    "from langchain.agents import create_agent\n",
    "\n",
    "# 도구 실행 에이전트 생성 \n",
    "email_agent = create_agent(\n",
    "    model=llm,\n",
    "    tools=[email_tool],\n",
    "    system_prompt=\"당신은 이메일 작성을 도와주는 AI 어시스턴트입니다.\"\n",
    ")\n",
    "\n",
    "# 도구 실행 에이전트 사용\n",
    "result = email_agent.invoke(\n",
    "    {\"messages\": [{\"role\": \"user\", \"content\": \"팀에게 프로젝트 진행 현황을 보고하는 이메일을 작성해줘. (전문적 톤, 요구사항: 회의 일정 조율 요청 포함, 수신자: 'team@example.com')\"}]},\n",
    ")\n",
    "\n",
    "pprint(result[\"messages\"])"
   ]
  },
  {
   "cell_type": "markdown",
   "metadata": {},
   "source": [
    "---\n",
    "\n",
    "### **[실습]**\n",
    "\n",
    "- 검색 결과(문서)와 쿼리 간의 유사도를 CrossEncoderReranker를 사용하여 Re-rank 수행 (k:10 -> top_n:3)\n",
    "- 검색 결과를 포맷팅하여 출력하는 Runnable 체인을 구성\n",
    "- Runnable 체인을 도구로 변환 "
   ]
  },
  {
   "cell_type": "code",
   "execution_count": 31,
   "metadata": {},
   "outputs": [
    {
     "name": "stdout",
     "output_type": "stream",
     "text": [
      "도구 이름: search_and_rerank\n",
      "----------------------------------------------------------------------------------------------------\n",
      "도구 설명: 데이터베이스에서 10개 문서를 검색한 후 CrossEncoder를 사용하여 상위 3개를 선택하여 포맷팅된 결과를 반환합니다.\n",
      "----------------------------------------------------------------------------------------------------\n",
      "도구 인자 스키마: {'query': {'title': 'Query'}}\n",
      "----------------------------------------------------------------------------------------------------\n",
      "\n",
      "검색 및 Re-rank 결과:\n",
      "검색 결과 (3개 문서):\n",
      "====================================================================================================\n",
      "\n",
      "[문서 1]\n",
      "내용: [출처] 이 문서는 리비안에 대한 문서입니다.\n",
      "----------------------------------\n",
      "**Volkswagen과의 파트너십 (2024)**\n",
      "\n",
      "- 2024년 6월, Volkswagen Group은 전기 아키텍처 및 소프트웨어 기술 개발을 목표로 Rivian에 최대 50억 달러를 투자할 의향을 발표.\n",
      "\n",
      "**차량**\n",
      "\n",
      "- **R1T:** 4개의 전기 모터가 장착된 픽업 트럭. 배터리 크기는 105 kWh에서 180 kWh까지 다양함.\n",
      "- **R1S:** 첫 번째 Rivian 플랫폼의 스포츠 유틸리티 차량(SUV) 버전.\n",
      "- **Electric Delivery Van (EDV):** 상업용 전기 밴으로, 주로 Amazon용으로 설계되어 사용됨.\n",
      "- **R2:** 더 작고 저렴한 SUV로, 새로운 플랫폼에서 2026년 초에 출시될 예정.\n",
      "- **R3:** 출시 예정인 전기 소형 SUV.\n",
      "메타데이터: {'company': '리비안', 'source': 'data/리비안_KR.md', 'language': 'ko'}\n",
      "----------------------------------------------------------------------------------------------------\n",
      "\n",
      "[문서 2]\n",
      "내용: [출처] 이 문서는 리비안에 대한 문서입니다.\n",
      "----------------------------------\n",
      "**개요**\n",
      "\n",
      "Rivian은 \"스케이트보드\" 플랫폼(R1T 및 R1S 모델)을 기반으로 한 전기 스포츠 유틸리티 차량(SUV), 픽업 트럭 및 전기 배달 밴(Rivian EDV)을 생산합니다. R1T 배송은 2021년 말에 시작되었습니다. 회사는 2022년에 미국에서 충전 네트워크를 시작하여 2024년에 다른 차량에도 개방했습니다. 생산 공장은 일리노이 주 노멀에 있으며, 다른 시설은 미국, 캐나다, 영국 및 세르비아의 여러 주에 있습니다.\n",
      "\n",
      "**역사**\n",
      "\n",
      "**초창기 (2009–15):**\n",
      "메타데이터: {'source': 'data/리비안_KR.md', 'language': 'ko', 'company': '리비안'}\n",
      "----------------------------------------------------------------------------------------------------\n",
      "\n",
      "[문서 3]\n",
      "내용: [출처] 이 문서는 리비안에 대한 문서입니다.\n",
      "----------------------------------\n",
      "Rivian Automotive, Inc.는 2009년에 설립된 미국의 전기 자동차 제조업체, 자동차 기술 및 야외 레크리에이션 회사입니다.\n",
      "\n",
      "**주요 정보:**\n",
      "메타데이터: {'language': 'ko', 'company': '리비안', 'source': 'data/리비안_KR.md'}\n",
      "----------------------------------------------------------------------------------------------------\n",
      "\n",
      "\n"
     ]
    }
   ],
   "source": [
    "# 여기에 코드를 작성하세요. \n",
    "\n",
    "# LangChain 1.0 호환 구현 - Cross-Encoder Reranker 직접 구현\n",
    "from langchain_core.runnables import RunnableLambda\n",
    "from sentence_transformers import CrossEncoder\n",
    "\n",
    "# 1. Cross-Encoder 모델 초기화 및 Reranking 함수 구현\n",
    "def search_and_rerank(query_input, k: int = 10, top_n: int = 3):\n",
    "    \"\"\"\n",
    "    데이터베이스에서 k개 문서를 검색한 후 Cross-Encoder로 상위 top_n개를 선택합니다.\n",
    "    \n",
    "    Args:\n",
    "        query_input: 검색 쿼리 (문자열 또는 딕셔너리)\n",
    "        k: 초기 검색할 문서 개수 (기본값: 10)\n",
    "        top_n: 최종 반환할 문서 개수 (기본값: 3)\n",
    "    \"\"\"\n",
    "    # 입력이 딕셔너리인 경우 query 키에서 추출, 아니면 그대로 사용\n",
    "    query = query_input[\"query\"] if isinstance(query_input, dict) else query_input\n",
    "    \n",
    "    # Cross-Encoder 모델 초기화\n",
    "    model = CrossEncoder(\"BAAI/bge-reranker-base\")\n",
    "    \n",
    "    # 기본 retriever로 k개 문서 검색\n",
    "    retriever = chroma_db.as_retriever(search_kwargs={\"k\": k})\n",
    "    docs = retriever.invoke(query)\n",
    "    \n",
    "    # Cross-Encoder로 relevance score 계산\n",
    "    pairs = [[query, doc.page_content] for doc in docs]\n",
    "    scores = model.predict(pairs)\n",
    "    \n",
    "    # Score 기준으로 정렬하여 상위 top_n개 선택\n",
    "    scored_docs = list(zip(docs, scores))\n",
    "    scored_docs.sort(key=lambda x: x[1], reverse=True)\n",
    "    top_docs = [doc for doc, score in scored_docs[:top_n]]\n",
    "    \n",
    "    return top_docs\n",
    "\n",
    "# 2. 검색 결과를 포맷팅하여 출력하는 함수\n",
    "def format_docs(docs):\n",
    "    \"\"\"검색된 문서를 포맷팅하여 반환합니다.\"\"\"\n",
    "    formatted_result = f\"검색 결과 ({len(docs)}개 문서):\\n\" + \"=\" * 100 + \"\\n\\n\"\n",
    "    \n",
    "    for idx, doc in enumerate(docs, 1):\n",
    "        formatted_result += f\"[문서 {idx}]\\n\"\n",
    "        formatted_result += f\"내용: {doc.page_content}\\n\"\n",
    "        \n",
    "        # 메타데이터가 있으면 출력\n",
    "        if doc.metadata:\n",
    "            formatted_result += f\"메타데이터: {doc.metadata}\\n\"\n",
    "        \n",
    "        formatted_result += \"-\" * 100 + \"\\n\\n\"\n",
    "    \n",
    "    return formatted_result\n",
    "\n",
    "# 3. Runnable 체인 구성\n",
    "search_and_rerank_chain = (\n",
    "    RunnableLambda(search_and_rerank)\n",
    "    | RunnableLambda(format_docs)\n",
    ")\n",
    "\n",
    "# 4. Runnable 체인을 도구로 변환\n",
    "search_rerank_tool = search_and_rerank_chain.as_tool(\n",
    "    name=\"search_and_rerank\",\n",
    "    description=\"데이터베이스에서 10개 문서를 검색한 후 CrossEncoder를 사용하여 상위 3개를 선택하여 포맷팅된 결과를 반환합니다.\"\n",
    ")\n",
    "\n",
    "# 도구 속성 확인\n",
    "print(\"도구 이름:\", search_rerank_tool.name)\n",
    "print(\"-\" * 100)\n",
    "print(\"도구 설명:\", search_rerank_tool.description)\n",
    "print(\"-\" * 100)\n",
    "print(\"도구 인자 스키마:\", search_rerank_tool.args)\n",
    "print(\"-\" * 100)\n",
    "\n",
    "# 도구 실행\n",
    "result = search_rerank_tool.invoke({\"query\": \"리비안의 전기 트럭 기술에 대해 알려주세요\"})\n",
    "print(\"\\n검색 및 Re-rank 결과:\")\n",
    "print(result)"
   ]
  }
 ],
 "metadata": {
  "kernelspec": {
   "display_name": "modu3",
   "language": "python",
   "name": "python3"
  },
  "language_info": {
   "codemirror_mode": {
    "name": "ipython",
    "version": 3
   },
   "file_extension": ".py",
   "mimetype": "text/x-python",
   "name": "python",
   "nbconvert_exporter": "python",
   "pygments_lexer": "ipython3",
   "version": "3.12.12"
  }
 },
 "nbformat": 4,
 "nbformat_minor": 2
}
