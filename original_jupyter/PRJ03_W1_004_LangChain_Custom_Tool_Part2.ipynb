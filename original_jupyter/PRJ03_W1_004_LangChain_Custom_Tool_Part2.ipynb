{
 "cells": [
  {
   "cell_type": "markdown",
   "metadata": {},
   "source": [
    "#   **LangChain Custom Tool** (Part2)\n",
    "\n",
    "- LangChain과 외부 API 통합\n",
    "\n",
    "---"
   ]
  },
  {
   "cell_type": "markdown",
   "metadata": {},
   "source": [
    "## 환경 설정 및 준비"
   ]
  },
  {
   "cell_type": "markdown",
   "metadata": {},
   "source": [
    "`(1) Env 환경변수`"
   ]
  },
  {
   "cell_type": "code",
   "execution_count": 1,
   "metadata": {},
   "outputs": [
    {
     "data": {
      "text/plain": [
       "True"
      ]
     },
     "execution_count": 1,
     "metadata": {},
     "output_type": "execute_result"
    }
   ],
   "source": [
    "from dotenv import load_dotenv\n",
    "load_dotenv()"
   ]
  },
  {
   "cell_type": "markdown",
   "metadata": {},
   "source": [
    "`(2) 기본 라이브러리`"
   ]
  },
  {
   "cell_type": "code",
   "execution_count": 2,
   "metadata": {},
   "outputs": [],
   "source": [
    "import os\n",
    "from glob import glob\n",
    "\n",
    "from pprint import pprint\n",
    "import json"
   ]
  },
  {
   "cell_type": "markdown",
   "metadata": {},
   "source": [
    "---\n",
    "\n",
    "##  **사용자 정의 도구 (Custom Tool)**\n",
    "\n",
    "\n",
    "- **사용자 정의 도구**는 개발자가 직접 설계하고 구현하는 **맞춤형 함수나 도구**를 의미\n",
    "\n",
    "- LLM이 호출할 수 있는 **고유한 기능**을 정의하여 특정 작업에 최적화된 도구 생성 가능\n",
    "\n",
    "- 개발자는 도구의 **입력값, 출력값, 기능**을 자유롭게 정의하여 유연한 확장성 확보"
   ]
  },
  {
   "cell_type": "markdown",
   "metadata": {},
   "source": [
    "---\n",
    "\n",
    "### 1. **외부 API 연동** \n",
    "\n",
    "- LangChain에서는 **사용자 정의 도구**를 통해 외부 API와의 연동이 가능\n",
    "\n",
    "- **Tool** 클래스를 상속받아 필요한 기능을 구현하며, `name`과 `description`을 필수로 정의\n",
    "\n",
    "- 도구는 단일 기능을 수행하는 **함수 형태**로 구현되며, 입력과 출력이 명확하게 설정함"
   ]
  },
  {
   "cell_type": "markdown",
   "metadata": {},
   "source": [
    "`(1) Yahoo Finance API` "
   ]
  },
  {
   "cell_type": "code",
   "execution_count": 3,
   "metadata": {},
   "outputs": [],
   "source": [
    "#  yfinance 설치 : pip install yfinance 또는 poetry add yfinance\n",
    "import yfinance as yf\n",
    "\n",
    "dat = yf.Ticker(\"MSFT\")"
   ]
  },
  {
   "cell_type": "code",
   "execution_count": 4,
   "metadata": {},
   "outputs": [
    {
     "data": {
      "text/plain": [
       "{'address1': 'One Microsoft Way',\n",
       " 'city': 'Redmond',\n",
       " 'state': 'WA',\n",
       " 'zip': '98052-6399',\n",
       " 'country': 'United States',\n",
       " 'phone': '425 882 8080',\n",
       " 'website': 'https://www.microsoft.com',\n",
       " 'industry': 'Software - Infrastructure',\n",
       " 'industryKey': 'software-infrastructure',\n",
       " 'industryDisp': 'Software - Infrastructure',\n",
       " 'sector': 'Technology',\n",
       " 'sectorKey': 'technology',\n",
       " 'sectorDisp': 'Technology',\n",
       " 'longBusinessSummary': \"Microsoft Corporation develops and supports software, services, devices, and solutions worldwide. The company's Productivity and Business Processes segment offers Microsoft 365 Commercial, Enterprise Mobility + Security, Windows Commercial, Power BI, Exchange, SharePoint, Microsoft Teams, Security and Compliance, and Copilot; Microsoft 365 Commercial products, such as Windows Commercial on-premises and Office licensed services; Microsoft 365 Consumer products and cloud services, such as Microsoft 365 Consumer subscriptions, Office licensed on-premises, and other consumer services; LinkedIn; Dynamics products and cloud services, such as Dynamics 365, cloud-based applications, and on-premises ERP and CRM applications. Its Intelligent Cloud segment provides Server products and cloud services, such as Azure and other cloud services, GitHub, Nuance Healthcare, virtual desktop offerings, and other cloud services; Server products, including SQL and Windows Server, Visual Studio and System Center related Client Access Licenses, and other on-premises offerings; Enterprise and partner services, including Enterprise Support and Nuance professional Services, Industry Solutions, Microsoft Partner Network, and Learning Experience. The company's Personal Computing segment provides Windows and Devices, such as Windows OEM licensing and Devices and Surface and PC accessories; Gaming services and solutions, such as Xbox hardware, content, and services, first- and third-party content Xbox Game Pass, subscriptions, and Cloud Gaming, advertising, and other cloud services; search and news advertising services, such as Bing and Copilot, Microsoft News and Edge, and third-party affiliates. It sells its products through OEMs, distributors, and resellers; and online and retail stores. The company was founded in 1975 and is headquartered in Redmond, Washington.\",\n",
       " 'fullTimeEmployees': 228000,\n",
       " 'companyOfficers': [{'maxAge': 1,\n",
       "   'name': 'Mr. Satya  Nadella',\n",
       "   'age': 57,\n",
       "   'title': 'Chairman & CEO',\n",
       "   'yearBorn': 1967,\n",
       "   'fiscalYear': 2025,\n",
       "   'totalPay': 12251294,\n",
       "   'exercisedValue': 0,\n",
       "   'unexercisedValue': 0},\n",
       "  {'maxAge': 1,\n",
       "   'name': 'Mr. Bradford L. Smith LCA',\n",
       "   'age': 65,\n",
       "   'title': 'President & Vice Chairman',\n",
       "   'yearBorn': 1959,\n",
       "   'fiscalYear': 2025,\n",
       "   'totalPay': 4532750,\n",
       "   'exercisedValue': 0,\n",
       "   'unexercisedValue': 0},\n",
       "  {'maxAge': 1,\n",
       "   'name': 'Ms. Amy E. Hood',\n",
       "   'age': 52,\n",
       "   'title': 'Executive VP & CFO',\n",
       "   'yearBorn': 1972,\n",
       "   'fiscalYear': 2025,\n",
       "   'totalPay': 4444191,\n",
       "   'exercisedValue': 0,\n",
       "   'unexercisedValue': 0},\n",
       "  {'maxAge': 1,\n",
       "   'name': 'Mr. Keith Ranger Dolliver Esq.',\n",
       "   'title': 'VP, Deputy General Counsel of Corporate, External & Legal Affairs and Secretary',\n",
       "   'fiscalYear': 2025,\n",
       "   'exercisedValue': 0,\n",
       "   'unexercisedValue': 0},\n",
       "  {'maxAge': 1,\n",
       "   'name': 'Ms. Amy L. Coleman',\n",
       "   'age': 52,\n",
       "   'title': 'Executive VP & Chief People Officer',\n",
       "   'yearBorn': 1972,\n",
       "   'fiscalYear': 2025,\n",
       "   'exercisedValue': 0,\n",
       "   'unexercisedValue': 0},\n",
       "  {'maxAge': 1,\n",
       "   'name': 'Mr. Samer Ramez Abu-Ltaif',\n",
       "   'title': 'President of Europe, Middle East & Africa (EMEA)',\n",
       "   'fiscalYear': 2025,\n",
       "   'exercisedValue': 0,\n",
       "   'unexercisedValue': 0},\n",
       "  {'maxAge': 1,\n",
       "   'name': 'Mr. Yusuf I. Mehdi',\n",
       "   'age': 57,\n",
       "   'title': 'Executive VP & Consumer Chief Marketing Officer',\n",
       "   'yearBorn': 1967,\n",
       "   'fiscalYear': 2025,\n",
       "   'exercisedValue': 0,\n",
       "   'unexercisedValue': 0},\n",
       "  {'maxAge': 1,\n",
       "   'name': 'Ms. Kathleen T. Hogan',\n",
       "   'age': 58,\n",
       "   'title': 'Executive VP - Office of Strategy & Transformation',\n",
       "   'yearBorn': 1966,\n",
       "   'fiscalYear': 2025,\n",
       "   'exercisedValue': 0,\n",
       "   'unexercisedValue': 0},\n",
       "  {'maxAge': 1,\n",
       "   'name': 'Mr. Jeff  Teper',\n",
       "   'title': 'President of Collaborative Apps & Platforms',\n",
       "   'fiscalYear': 2025,\n",
       "   'exercisedValue': 0,\n",
       "   'unexercisedValue': 0},\n",
       "  {'maxAge': 1,\n",
       "   'name': 'Mr. Rajesh  Jha',\n",
       "   'title': 'Executive Vice President of Experiences & Devices',\n",
       "   'fiscalYear': 2025,\n",
       "   'exercisedValue': 0,\n",
       "   'unexercisedValue': 0}],\n",
       " 'auditRisk': 9,\n",
       " 'boardRisk': 5,\n",
       " 'compensationRisk': 4,\n",
       " 'shareHolderRightsRisk': 2,\n",
       " 'overallRisk': 3,\n",
       " 'governanceEpochDate': 1759276800,\n",
       " 'compensationAsOfEpochDate': 1767139200,\n",
       " 'irWebsite': 'http://www.microsoft.com/investor/default.aspx',\n",
       " 'executiveTeam': [],\n",
       " 'maxAge': 86400,\n",
       " 'priceHint': 2,\n",
       " 'previousClose': 517.66,\n",
       " 'open': 521.15,\n",
       " 'dayLow': 517.71,\n",
       " 'dayHigh': 525.22,\n",
       " 'regularMarketPreviousClose': 517.66,\n",
       " 'regularMarketOpen': 521.15,\n",
       " 'regularMarketDayLow': 517.71,\n",
       " 'regularMarketDayHigh': 525.22,\n",
       " 'dividendRate': 3.64,\n",
       " 'dividendYield': 0.7,\n",
       " 'exDividendDate': 1763596800,\n",
       " 'payoutRatio': 0.2375,\n",
       " 'fiveYearAvgDividendYield': 0.81,\n",
       " 'beta': 1.023,\n",
       " 'trailingPE': 38.162754,\n",
       " 'forwardPE': 34.81873,\n",
       " 'volume': 18116198,\n",
       " 'regularMarketVolume': 18116198,\n",
       " 'averageVolume': 20344121,\n",
       " 'averageVolume10days': 17076750,\n",
       " 'averageDailyVolume10Day': 17076750,\n",
       " 'bid': 494.39,\n",
       " 'ask': 547.37,\n",
       " 'bidSize': 1,\n",
       " 'askSize': 1,\n",
       " 'marketCap': 3869219225600,\n",
       " 'fiftyTwoWeekLow': 344.79,\n",
       " 'fiftyTwoWeekHigh': 555.45,\n",
       " 'allTimeHigh': 555.45,\n",
       " 'allTimeLow': 0.088542,\n",
       " 'priceToSalesTrailing12Months': 13.734077,\n",
       " 'fiftyDayAverage': 511.769,\n",
       " 'twoHundredDayAverage': 457.39224,\n",
       " 'trailingAnnualDividendRate': 3.32,\n",
       " 'trailingAnnualDividendYield': 0.006413476,\n",
       " 'currency': 'USD',\n",
       " 'tradeable': False,\n",
       " 'enterpriseValue': 3886879342592,\n",
       " 'profitMargins': 0.36146,\n",
       " 'floatShares': 7422165293,\n",
       " 'sharesOutstanding': 7433087554,\n",
       " 'sharesShort': 54926474,\n",
       " 'sharesShortPriorMonth': 58491994,\n",
       " 'sharesShortPreviousMonthDate': 1756425600,\n",
       " 'dateShortInterest': 1759190400,\n",
       " 'sharesPercentSharesOut': 0.0074,\n",
       " 'heldPercentInsiders': 0.00066,\n",
       " 'heldPercentInstitutions': 0.76163,\n",
       " 'shortRatio': 2.72,\n",
       " 'shortPercentOfFloat': 0.0074,\n",
       " 'impliedSharesOutstanding': 7433166379,\n",
       " 'bookValue': 46.204,\n",
       " 'priceToBook': 11.266124,\n",
       " 'lastFiscalYearEnd': 1751241600,\n",
       " 'nextFiscalYearEnd': 1782777600,\n",
       " 'mostRecentQuarter': 1751241600,\n",
       " 'earningsQuarterlyGrowth': 0.236,\n",
       " 'netIncomeToCommon': 101831999488,\n",
       " 'trailingEps': 13.64,\n",
       " 'forwardEps': 14.95,\n",
       " 'lastSplitFactor': '2:1',\n",
       " 'lastSplitDate': 1045526400,\n",
       " 'enterpriseToRevenue': 13.797,\n",
       " 'enterpriseToEbitda': 24.832,\n",
       " '52WeekChange': 0.22557855,\n",
       " 'SandP52WeekChange': 0.15310872,\n",
       " 'lastDividendValue': 0.83,\n",
       " 'lastDividendDate': 1755734400,\n",
       " 'quoteType': 'EQUITY',\n",
       " 'currentPrice': 520.54,\n",
       " 'targetHighPrice': 710.0,\n",
       " 'targetLowPrice': 483.0,\n",
       " 'targetMeanPrice': 621.2663,\n",
       " 'targetMedianPrice': 630.0,\n",
       " 'recommendationMean': 1.25862,\n",
       " 'recommendationKey': 'strong_buy',\n",
       " 'numberOfAnalystOpinions': 51,\n",
       " 'totalCash': 94564999168,\n",
       " 'totalCashPerShare': 12.722,\n",
       " 'ebitda': 156528001024,\n",
       " 'totalDebt': 112184000512,\n",
       " 'quickRatio': 1.223,\n",
       " 'currentRatio': 1.353,\n",
       " 'totalRevenue': 281723994112,\n",
       " 'debtToEquity': 32.661,\n",
       " 'revenuePerShare': 37.902,\n",
       " 'returnOnAssets': 0.14203,\n",
       " 'returnOnEquity': 0.33280998,\n",
       " 'grossProfits': 193893007360,\n",
       " 'freeCashflow': 61070376960,\n",
       " 'operatingCashflow': 136162000896,\n",
       " 'earningsGrowth': 0.237,\n",
       " 'revenueGrowth': 0.181,\n",
       " 'grossMargins': 0.68824,\n",
       " 'ebitdaMargins': 0.55561,\n",
       " 'operatingMargins': 0.44901,\n",
       " 'financialCurrency': 'USD',\n",
       " 'symbol': 'MSFT',\n",
       " 'language': 'en-US',\n",
       " 'region': 'US',\n",
       " 'typeDisp': 'Equity',\n",
       " 'quoteSourceName': 'Nasdaq Real Time Price',\n",
       " 'triggerable': True,\n",
       " 'customPriceAlertConfidence': 'HIGH',\n",
       " 'corporateActions': [],\n",
       " 'preMarketTime': 1761223237,\n",
       " 'regularMarketTime': 1761163201,\n",
       " 'marketState': 'PRE',\n",
       " 'hasPrePostMarketData': True,\n",
       " 'firstTradeDateMilliseconds': 511108200000,\n",
       " 'preMarketChange': 0.44000244,\n",
       " 'preMarketChangePercent': 0.08452808,\n",
       " 'preMarketPrice': 520.98,\n",
       " 'regularMarketChange': 2.88,\n",
       " 'regularMarketDayRange': '517.71 - 525.22',\n",
       " 'fullExchangeName': 'NasdaqGS',\n",
       " 'averageDailyVolume3Month': 20344121,\n",
       " 'fiftyTwoWeekLowChange': 175.74997,\n",
       " 'fiftyTwoWeekLowChangePercent': 0.50973046,\n",
       " 'fiftyTwoWeekRange': '344.79 - 555.45',\n",
       " 'fiftyTwoWeekHighChange': -34.910034,\n",
       " 'fiftyTwoWeekHighChangePercent': -0.06285,\n",
       " 'fiftyTwoWeekChangePercent': 22.557854,\n",
       " 'dividendDate': 1765411200,\n",
       " 'earningsTimestamp': 1761768000,\n",
       " 'earningsTimestampStart': 1761768000,\n",
       " 'earningsTimestampEnd': 1761768000,\n",
       " 'earningsCallTimestampStart': 1761773400,\n",
       " 'earningsCallTimestampEnd': 1761773400,\n",
       " 'isEarningsDateEstimate': False,\n",
       " 'shortName': 'Microsoft Corporation',\n",
       " 'longName': 'Microsoft Corporation',\n",
       " 'epsTrailingTwelveMonths': 13.64,\n",
       " 'epsForward': 14.95,\n",
       " 'epsCurrentYear': 15.51977,\n",
       " 'priceEpsCurrentYear': 33.540443,\n",
       " 'fiftyDayAverageChange': 8.770966,\n",
       " 'fiftyDayAverageChangePercent': 0.017138524,\n",
       " 'twoHundredDayAverageChange': 63.147736,\n",
       " 'twoHundredDayAverageChangePercent': 0.13806036,\n",
       " 'sourceInterval': 15,\n",
       " 'exchangeDataDelayedBy': 0,\n",
       " 'averageAnalystRating': '1.3 - Strong Buy',\n",
       " 'cryptoTradeable': False,\n",
       " 'exchange': 'NMS',\n",
       " 'messageBoardId': 'finmb_21835',\n",
       " 'exchangeTimezoneName': 'America/New_York',\n",
       " 'exchangeTimezoneShortName': 'EDT',\n",
       " 'gmtOffSetMilliseconds': -14400000,\n",
       " 'market': 'us_market',\n",
       " 'esgPopulated': False,\n",
       " 'regularMarketChangePercent': 0.556351,\n",
       " 'regularMarketPrice': 520.54,\n",
       " 'displayName': 'Microsoft',\n",
       " 'trailingPegRatio': 2.2593}"
      ]
     },
     "execution_count": 4,
     "metadata": {},
     "output_type": "execute_result"
    }
   ],
   "source": [
    "# 기업정보\n",
    "dat.info"
   ]
  },
  {
   "cell_type": "code",
   "execution_count": 5,
   "metadata": {},
   "outputs": [
    {
     "data": {
      "text/plain": [
       "{'Dividend Date': datetime.date(2025, 12, 11),\n",
       " 'Ex-Dividend Date': datetime.date(2025, 11, 20),\n",
       " 'Earnings Date': [datetime.date(2025, 10, 30)],\n",
       " 'Earnings High': 3.79021,\n",
       " 'Earnings Low': 3.5,\n",
       " 'Earnings Average': 3.663,\n",
       " 'Revenue High': 76641448730,\n",
       " 'Revenue Low': 70066000000,\n",
       " 'Revenue Average': 75374737710}"
      ]
     },
     "execution_count": 5,
     "metadata": {},
     "output_type": "execute_result"
    }
   ],
   "source": [
    "# 주요 일정\n",
    "dat.calendar"
   ]
  },
  {
   "cell_type": "code",
   "execution_count": 6,
   "metadata": {},
   "outputs": [
    {
     "data": {
      "text/html": [
       "<div>\n",
       "<style scoped>\n",
       "    .dataframe tbody tr th:only-of-type {\n",
       "        vertical-align: middle;\n",
       "    }\n",
       "\n",
       "    .dataframe tbody tr th {\n",
       "        vertical-align: top;\n",
       "    }\n",
       "\n",
       "    .dataframe thead th {\n",
       "        text-align: right;\n",
       "    }\n",
       "</style>\n",
       "<table border=\"1\" class=\"dataframe\">\n",
       "  <thead>\n",
       "    <tr style=\"text-align: right;\">\n",
       "      <th></th>\n",
       "      <th>Open</th>\n",
       "      <th>High</th>\n",
       "      <th>Low</th>\n",
       "      <th>Close</th>\n",
       "      <th>Volume</th>\n",
       "      <th>Dividends</th>\n",
       "      <th>Stock Splits</th>\n",
       "    </tr>\n",
       "    <tr>\n",
       "      <th>Date</th>\n",
       "      <th></th>\n",
       "      <th></th>\n",
       "      <th></th>\n",
       "      <th></th>\n",
       "      <th></th>\n",
       "      <th></th>\n",
       "      <th></th>\n",
       "    </tr>\n",
       "  </thead>\n",
       "  <tbody>\n",
       "    <tr>\n",
       "      <th>2022-01-03 00:00:00-05:00</th>\n",
       "      <td>325.086220</td>\n",
       "      <td>327.655108</td>\n",
       "      <td>319.686689</td>\n",
       "      <td>324.504578</td>\n",
       "      <td>28865100</td>\n",
       "      <td>0.0</td>\n",
       "      <td>0.0</td>\n",
       "    </tr>\n",
       "    <tr>\n",
       "      <th>2022-01-04 00:00:00-05:00</th>\n",
       "      <td>324.582127</td>\n",
       "      <td>324.940827</td>\n",
       "      <td>316.138715</td>\n",
       "      <td>318.940277</td>\n",
       "      <td>32674300</td>\n",
       "      <td>0.0</td>\n",
       "      <td>0.0</td>\n",
       "    </tr>\n",
       "  </tbody>\n",
       "</table>\n",
       "</div>"
      ],
      "text/plain": [
       "                                 Open        High         Low       Close  \\\n",
       "Date                                                                        \n",
       "2022-01-03 00:00:00-05:00  325.086220  327.655108  319.686689  324.504578   \n",
       "2022-01-04 00:00:00-05:00  324.582127  324.940827  316.138715  318.940277   \n",
       "\n",
       "                             Volume  Dividends  Stock Splits  \n",
       "Date                                                          \n",
       "2022-01-03 00:00:00-05:00  28865100        0.0           0.0  \n",
       "2022-01-04 00:00:00-05:00  32674300        0.0           0.0  "
      ]
     },
     "execution_count": 6,
     "metadata": {},
     "output_type": "execute_result"
    }
   ],
   "source": [
    "# 2022년 1월 3일 ~ 4일의 데이터를 판다스 데이터프레임으로 출력 \n",
    "result = dat.history(start=\"2022-01-03\", end=\"2022-01-05\") \n",
    "result"
   ]
  },
  {
   "cell_type": "code",
   "execution_count": 7,
   "metadata": {},
   "outputs": [
    {
     "data": {
      "text/html": [
       "<div>\n",
       "<style scoped>\n",
       "    .dataframe tbody tr th:only-of-type {\n",
       "        vertical-align: middle;\n",
       "    }\n",
       "\n",
       "    .dataframe tbody tr th {\n",
       "        vertical-align: top;\n",
       "    }\n",
       "\n",
       "    .dataframe thead th {\n",
       "        text-align: right;\n",
       "    }\n",
       "</style>\n",
       "<table border=\"1\" class=\"dataframe\">\n",
       "  <thead>\n",
       "    <tr style=\"text-align: right;\">\n",
       "      <th></th>\n",
       "      <th>Date</th>\n",
       "      <th>Open</th>\n",
       "      <th>High</th>\n",
       "      <th>Low</th>\n",
       "      <th>Close</th>\n",
       "      <th>Volume</th>\n",
       "      <th>Dividends</th>\n",
       "      <th>Stock Splits</th>\n",
       "    </tr>\n",
       "  </thead>\n",
       "  <tbody>\n",
       "    <tr>\n",
       "      <th>0</th>\n",
       "      <td>2022-01-03 00:00:00-05:00</td>\n",
       "      <td>325.086220</td>\n",
       "      <td>327.655108</td>\n",
       "      <td>319.686689</td>\n",
       "      <td>324.504578</td>\n",
       "      <td>28865100</td>\n",
       "      <td>0.0</td>\n",
       "      <td>0.0</td>\n",
       "    </tr>\n",
       "    <tr>\n",
       "      <th>1</th>\n",
       "      <td>2022-01-04 00:00:00-05:00</td>\n",
       "      <td>324.582127</td>\n",
       "      <td>324.940827</td>\n",
       "      <td>316.138715</td>\n",
       "      <td>318.940277</td>\n",
       "      <td>32674300</td>\n",
       "      <td>0.0</td>\n",
       "      <td>0.0</td>\n",
       "    </tr>\n",
       "  </tbody>\n",
       "</table>\n",
       "</div>"
      ],
      "text/plain": [
       "                       Date        Open        High         Low       Close  \\\n",
       "0 2022-01-03 00:00:00-05:00  325.086220  327.655108  319.686689  324.504578   \n",
       "1 2022-01-04 00:00:00-05:00  324.582127  324.940827  316.138715  318.940277   \n",
       "\n",
       "     Volume  Dividends  Stock Splits  \n",
       "0  28865100        0.0           0.0  \n",
       "1  32674300        0.0           0.0  "
      ]
     },
     "execution_count": 7,
     "metadata": {},
     "output_type": "execute_result"
    }
   ],
   "source": [
    "# 인덱스 초기화 \n",
    "result = result.reset_index()\n",
    "result"
   ]
  },
  {
   "cell_type": "code",
   "execution_count": 8,
   "metadata": {},
   "outputs": [
    {
     "data": {
      "text/html": [
       "<div>\n",
       "<style scoped>\n",
       "    .dataframe tbody tr th:only-of-type {\n",
       "        vertical-align: middle;\n",
       "    }\n",
       "\n",
       "    .dataframe tbody tr th {\n",
       "        vertical-align: top;\n",
       "    }\n",
       "\n",
       "    .dataframe thead th {\n",
       "        text-align: right;\n",
       "    }\n",
       "</style>\n",
       "<table border=\"1\" class=\"dataframe\">\n",
       "  <thead>\n",
       "    <tr style=\"text-align: right;\">\n",
       "      <th></th>\n",
       "      <th>Date</th>\n",
       "      <th>Open</th>\n",
       "      <th>High</th>\n",
       "      <th>Low</th>\n",
       "      <th>Close</th>\n",
       "      <th>Volume</th>\n",
       "      <th>Dividends</th>\n",
       "      <th>Stock Splits</th>\n",
       "    </tr>\n",
       "  </thead>\n",
       "  <tbody>\n",
       "    <tr>\n",
       "      <th>0</th>\n",
       "      <td>2022-01-03</td>\n",
       "      <td>325.086220</td>\n",
       "      <td>327.655108</td>\n",
       "      <td>319.686689</td>\n",
       "      <td>324.504578</td>\n",
       "      <td>28865100</td>\n",
       "      <td>0.0</td>\n",
       "      <td>0.0</td>\n",
       "    </tr>\n",
       "    <tr>\n",
       "      <th>1</th>\n",
       "      <td>2022-01-04</td>\n",
       "      <td>324.582127</td>\n",
       "      <td>324.940827</td>\n",
       "      <td>316.138715</td>\n",
       "      <td>318.940277</td>\n",
       "      <td>32674300</td>\n",
       "      <td>0.0</td>\n",
       "      <td>0.0</td>\n",
       "    </tr>\n",
       "  </tbody>\n",
       "</table>\n",
       "</div>"
      ],
      "text/plain": [
       "         Date        Open        High         Low       Close    Volume  \\\n",
       "0  2022-01-03  325.086220  327.655108  319.686689  324.504578  28865100   \n",
       "1  2022-01-04  324.582127  324.940827  316.138715  318.940277  32674300   \n",
       "\n",
       "   Dividends  Stock Splits  \n",
       "0        0.0           0.0  \n",
       "1        0.0           0.0  "
      ]
     },
     "execution_count": 8,
     "metadata": {},
     "output_type": "execute_result"
    }
   ],
   "source": [
    "# 날짜 부분만 추출\n",
    "result['Date'] = result['Date'].dt.strftime('%Y-%m-%d')\n",
    "\n",
    "result"
   ]
  },
  {
   "cell_type": "code",
   "execution_count": 9,
   "metadata": {},
   "outputs": [
    {
     "data": {
      "text/plain": [
       "[{'Date': '2022-01-03',\n",
       "  'Open': 325.0862198389616,\n",
       "  'High': 327.6551075166869,\n",
       "  'Low': 319.68668922154853,\n",
       "  'Close': 324.50457763671875,\n",
       "  'Volume': 28865100,\n",
       "  'Dividends': 0.0,\n",
       "  'Stock Splits': 0.0},\n",
       " {'Date': '2022-01-04',\n",
       "  'Open': 324.5821267708263,\n",
       "  'High': 324.94082734218637,\n",
       "  'Low': 316.1387146989663,\n",
       "  'Close': 318.9402770996094,\n",
       "  'Volume': 32674300,\n",
       "  'Dividends': 0.0,\n",
       "  'Stock Splits': 0.0}]"
      ]
     },
     "execution_count": 9,
     "metadata": {},
     "output_type": "execute_result"
    }
   ],
   "source": [
    "# 데이터프레임을 딕셔너리로 변환\n",
    "result_dict = result.to_dict(orient='records') \n",
    "result_dict"
   ]
  },
  {
   "cell_type": "markdown",
   "metadata": {},
   "source": [
    "`(2) 데이터 연동 및 출력 포맷` "
   ]
  },
  {
   "cell_type": "code",
   "execution_count": 10,
   "metadata": {},
   "outputs": [
    {
     "name": "stdout",
     "output_type": "stream",
     "text": [
      "{'Date': '2025-10-22', 'Open': 262.6499938964844, 'High': 262.8500061035156, 'Low': 255.42999267578125, 'Close': 258.45001220703125, 'Volume': 44954300, 'Dividends': 0.0, 'Stock Splits': 0.0}\n"
     ]
    }
   ],
   "source": [
    "# 외부 API 연동하는 함수 (yfinance 사용)\n",
    "\n",
    "from langchain_core.tools import ToolException\n",
    "from typing import Dict, Optional\n",
    "from datetime import datetime, timedelta\n",
    "import yfinance as yf\n",
    "\n",
    "def get_stock_price(symbol: str, date: Optional[str] = None) -> Dict:\n",
    "    \"\"\"yfiance 사용하여 특정 날짜의 주식의 가격 정보를 조회합니다.\"\"\"\n",
    "\n",
    "    if date and not is_valid_date(date):\n",
    "        raise ToolException(f\"잘못된 날짜 형식입니다: {date}\")\n",
    "    \n",
    "    try:\n",
    "        stock = yf.Ticker(symbol)\n",
    "        # 특정 날짜의 주식 가격 정보 조회 \n",
    "        if date:\n",
    "            start = datetime.strptime(date, \"%Y-%m-%d\")\n",
    "            end = start + timedelta(days=1)\n",
    "            price = stock.history(start=start, end=end)\n",
    "\n",
    "            # 가격 정보가 없으면 해날 날짜로부터 과거 5일간의 주식 가격 정보 조회\n",
    "            if price.empty:\n",
    "                end = start - timedelta(days=5)\n",
    "                price = stock.history(start=end, end=start)\n",
    "\n",
    "        # 특정 날짜가 없으면 최근 5일간의 주식 가격 정보 조회\n",
    "        else:\n",
    "            price = stock.history(period=\"5d\")\n",
    "            \n",
    "        # 데이터프레임을 딕셔너리로 변환하여 반환 (가장 최근 날짜 데이터만 반환)\n",
    "        df = price.reset_index()\n",
    "        df['Date'] = df['Date'].dt.strftime('%Y-%m-%d')\n",
    "        return df.to_dict(orient='records')[-1]\n",
    "    \n",
    "    except Exception as e:\n",
    "        raise ToolException(str(e))\n",
    "    \n",
    "\n",
    "def is_valid_date(date_str: str) -> bool:\n",
    "    try:\n",
    "        datetime.strptime(date_str, '%Y-%m-%d')\n",
    "        return True\n",
    "    except ValueError:\n",
    "        return False\n",
    "    \n",
    "\n",
    "# 함수 실행\n",
    "result = get_stock_price(\"AAPL\")\n",
    "\n",
    "# 결과 출력\n",
    "print(result)"
   ]
  },
  {
   "cell_type": "code",
   "execution_count": 11,
   "metadata": {},
   "outputs": [
    {
     "name": "stdout",
     "output_type": "stream",
     "text": [
      "{'Date': '2025-01-03', 'Open': 242.49916076660156, 'High': 243.31625226562878, 'Low': 241.03435939639962, 'Close': 242.49916076660156, 'Volume': 40244100, 'Dividends': 0.0, 'Stock Splits': 0.0}\n"
     ]
    }
   ],
   "source": [
    "# 함수 실행 (날짜 지정)\n",
    "result = get_stock_price(\"AAPL\", \"2025-01-03\")\n",
    "print(result)"
   ]
  },
  {
   "cell_type": "markdown",
   "metadata": {},
   "source": [
    "`(3) StructuredTool 도구 변환` "
   ]
  },
  {
   "cell_type": "code",
   "execution_count": 12,
   "metadata": {},
   "outputs": [
    {
     "name": "stdout",
     "output_type": "stream",
     "text": [
      "{'Date': '2025-10-22', 'Open': 262.6499938964844, 'High': 262.8500061035156, 'Low': 255.42999267578125, 'Close': 258.45001220703125, 'Volume': 44954300, 'Dividends': 0.0, 'Stock Splits': 0.0}\n"
     ]
    }
   ],
   "source": [
    "from langchain_core.tools import StructuredTool\n",
    "\n",
    "# StructuredTool로 도구 생성\n",
    "stock_tool_basic = StructuredTool.from_function(\n",
    "    func=get_stock_price,\n",
    "    name=\"stock_price_basic\",\n",
    "    description=\"yfinance를 사용하여 주식 가격 정보를 조회하는 도구입니다.\",\n",
    ")\n",
    "\n",
    "# 도구 실행 (정상)\n",
    "result = stock_tool_basic.invoke({\"symbol\": \"AAPL\"})\n",
    "print(result)"
   ]
  },
  {
   "cell_type": "markdown",
   "metadata": {},
   "source": [
    "`(4) LLM 사용하여 도구 사용` "
   ]
  },
  {
   "cell_type": "code",
   "execution_count": 13,
   "metadata": {},
   "outputs": [
    {
     "name": "stdout",
     "output_type": "stream",
     "text": [
      "[{'args': {'symbol': 'AAPL'},\n",
      "  'id': 'call_IZK5bJLyKnhG5VhsDzLEeWGM',\n",
      "  'name': 'stock_price_basic',\n",
      "  'type': 'tool_call'}]\n",
      "----------------------------------------------------------------------------------------------------\n",
      "content='{\"Date\": \"2025-10-22\", \"Open\": 262.6499938964844, \"High\": 262.8500061035156, \"Low\": 255.42999267578125, \"Close\": 258.45001220703125, \"Volume\": 44954300, \"Dividends\": 0.0, \"Stock Splits\": 0.0}' name='stock_price_basic' tool_call_id='call_IZK5bJLyKnhG5VhsDzLEeWGM'\n"
     ]
    }
   ],
   "source": [
    "from langchain_openai import ChatOpenAI\n",
    "\n",
    "# OpenAI GPT-4.1-mini 모델 사용\n",
    "llm = ChatOpenAI(model=\"gpt-4.1-mini\", temperature=0)\n",
    "\n",
    "# 도구 바인딩\n",
    "llm_with_tool = llm.bind_tools([stock_tool_basic])\n",
    "\n",
    "# 도구 호출\n",
    "result = llm_with_tool.invoke(\"애플의 주식 가격을 알려줘\")\n",
    "pprint(result.tool_calls)\n",
    "print(\"-\"*100)\n",
    "\n",
    "# ToolCall을 도구에 전달하여 결과 확인\n",
    "tool_call = result.tool_calls[0]\n",
    "result = stock_tool_basic.invoke(tool_call)\n",
    "\n",
    "print(result)"
   ]
  },
  {
   "cell_type": "code",
   "execution_count": 14,
   "metadata": {},
   "outputs": [
    {
     "name": "stdout",
     "output_type": "stream",
     "text": [
      "[{'args': {'date': '2025-01-03', 'symbol': 'AAPL'},\n",
      "  'id': 'call_naJ9szILss7cWOQhBEXc6gDD',\n",
      "  'name': 'stock_price_basic',\n",
      "  'type': 'tool_call'}]\n",
      "content='{\"Date\": \"2025-01-03\", \"Open\": 242.49916076660156, \"High\": 243.31625226562878, \"Low\": 241.03435939639962, \"Close\": 242.49916076660156, \"Volume\": 40244100, \"Dividends\": 0.0, \"Stock Splits\": 0.0}' name='stock_price_basic' tool_call_id='call_naJ9szILss7cWOQhBEXc6gDD'\n"
     ]
    }
   ],
   "source": [
    "# 도구 호출 (날짜 지정)\n",
    "result = llm_with_tool.invoke(\"애플의 2025년 1월 3일 주식 가격을 알려줘\")\n",
    "pprint(result.tool_calls)\n",
    "\n",
    "# ToolCall을 도구에 전달하여 결과 확인\n",
    "for tool_call in result.tool_calls:\n",
    "    result = stock_tool_basic.invoke(tool_call)\n",
    "    print(result)"
   ]
  },
  {
   "cell_type": "code",
   "execution_count": 15,
   "metadata": {},
   "outputs": [
    {
     "name": "stdout",
     "output_type": "stream",
     "text": [
      "[HumanMessage(content='애플의 2025년 1월 3일 주식 가격을 알려줘', additional_kwargs={}, response_metadata={}, id='f7679d90-b33d-42eb-bdac-11755880029f'),\n",
      " AIMessage(content='', additional_kwargs={'refusal': None}, response_metadata={'token_usage': {'completion_tokens': 25, 'prompt_tokens': 100, 'total_tokens': 125, 'completion_tokens_details': {'accepted_prediction_tokens': 0, 'audio_tokens': 0, 'reasoning_tokens': 0, 'rejected_prediction_tokens': 0}, 'prompt_tokens_details': {'audio_tokens': 0, 'cached_tokens': 0}}, 'model_provider': 'openai', 'model_name': 'gpt-4.1-mini-2025-04-14', 'system_fingerprint': 'fp_4c2851f862', 'id': 'chatcmpl-CTouZMmLSX8FmxCzSUhvP7Zrbsfwa', 'service_tier': 'default', 'finish_reason': 'tool_calls', 'logprobs': None}, id='lc_run--e318f3d6-5d7b-4a2b-97ce-c9ca366db136-0', tool_calls=[{'name': 'stock_price_basic', 'args': {'symbol': 'AAPL', 'date': '2025-01-03'}, 'id': 'call_PFOlwTtHVSsZgs0BPuwiEhQJ', 'type': 'tool_call'}], usage_metadata={'input_tokens': 100, 'output_tokens': 25, 'total_tokens': 125, 'input_token_details': {'audio': 0, 'cache_read': 0}, 'output_token_details': {'audio': 0, 'reasoning': 0}}),\n",
      " ToolMessage(content='{\"Date\": \"2025-01-03\", \"Open\": 242.49916076660156, \"High\": 243.31625226562878, \"Low\": 241.03435939639962, \"Close\": 242.49916076660156, \"Volume\": 40244100, \"Dividends\": 0.0, \"Stock Splits\": 0.0}', name='stock_price_basic', id='86e883b5-7385-461f-af55-22b23a6ef8ea', tool_call_id='call_PFOlwTtHVSsZgs0BPuwiEhQJ'),\n",
      " AIMessage(content='애플(AAPL)의 2025년 1월 3일 주식 가격은 시가 242.50달러, 고가 243.32달러, 저가 241.03달러, 종가 242.50달러였습니다.', additional_kwargs={'refusal': None}, response_metadata={'token_usage': {'completion_tokens': 57, 'prompt_tokens': 221, 'total_tokens': 278, 'completion_tokens_details': {'accepted_prediction_tokens': 0, 'audio_tokens': 0, 'reasoning_tokens': 0, 'rejected_prediction_tokens': 0}, 'prompt_tokens_details': {'audio_tokens': 0, 'cached_tokens': 0}}, 'model_provider': 'openai', 'model_name': 'gpt-4.1-mini-2025-04-14', 'system_fingerprint': 'fp_4c2851f862', 'id': 'chatcmpl-CTouaUQotsZIG3XBTiuPwzm75FING', 'service_tier': 'default', 'finish_reason': 'stop', 'logprobs': None}, id='lc_run--b3c5eced-0db3-4497-b756-5c1e2e808964-0', usage_metadata={'input_tokens': 221, 'output_tokens': 57, 'total_tokens': 278, 'input_token_details': {'audio': 0, 'cache_read': 0}, 'output_token_details': {'audio': 0, 'reasoning': 0}})]\n"
     ]
    }
   ],
   "source": [
    "from langchain.agents import create_agent\n",
    "\n",
    "# 도구 실행 에이전트 생성 \n",
    "stock_agent = create_agent(\n",
    "    model=llm,\n",
    "    tools=[stock_tool_basic],\n",
    "    system_prompt=\"당신은 주식 정보를 제공하는 AI 어시스턴트입니다.\"\n",
    ")\n",
    "\n",
    "# 도구 실행 에이전트 사용\n",
    "result = stock_agent.invoke(\n",
    "    {\"messages\": [{\"role\": \"user\", \"content\": \"애플의 2025년 1월 3일 주식 가격을 알려줘\"}]}\n",
    ")\n",
    "\n",
    "pprint(result['messages'])"
   ]
  },
  {
   "cell_type": "code",
   "execution_count": 16,
   "metadata": {},
   "outputs": [
    {
     "name": "stdout",
     "output_type": "stream",
     "text": [
      "[HumanMessage(content='애플의 2025년 1월 3일 주식 가격을 알려줘', additional_kwargs={}, response_metadata={}, id='849e6f2f-d459-4ed0-bd80-8fcc2c783090'),\n",
      " AIMessage(content='', additional_kwargs={'refusal': None}, response_metadata={'token_usage': {'completion_tokens': 25, 'prompt_tokens': 100, 'total_tokens': 125, 'completion_tokens_details': {'accepted_prediction_tokens': 0, 'audio_tokens': 0, 'reasoning_tokens': 0, 'rejected_prediction_tokens': 0}, 'prompt_tokens_details': {'audio_tokens': 0, 'cached_tokens': 0}}, 'model_provider': 'openai', 'model_name': 'gpt-4.1-mini-2025-04-14', 'system_fingerprint': 'fp_4c2851f862', 'id': 'chatcmpl-CToucjDiVcMJfFyXEeA1GTYk5K8z7', 'service_tier': 'default', 'finish_reason': 'tool_calls', 'logprobs': None}, id='lc_run--323cdd97-2ed8-402f-99e1-4467dbfaddd3-0', tool_calls=[{'name': 'stock_price_basic', 'args': {'symbol': 'AAPL', 'date': '2025-01-03'}, 'id': 'call_fVEUsRdu8qexS4MzezdBPgUS', 'type': 'tool_call'}], usage_metadata={'input_tokens': 100, 'output_tokens': 25, 'total_tokens': 125, 'input_token_details': {'audio': 0, 'cache_read': 0}, 'output_token_details': {'audio': 0, 'reasoning': 0}}),\n",
      " ToolMessage(content='{\"Date\": \"2025-01-03\", \"Open\": 242.49916076660156, \"High\": 243.31625226562878, \"Low\": 241.03435939639962, \"Close\": 242.49916076660156, \"Volume\": 40244100, \"Dividends\": 0.0, \"Stock Splits\": 0.0}', name='stock_price_basic', id='95f4018c-1a25-43ac-abd9-c4c6790da205', tool_call_id='call_fVEUsRdu8qexS4MzezdBPgUS')]\n"
     ]
    }
   ],
   "source": [
    "# 도구 실행 에이전트 생성 (return_direct=True)\n",
    "stock_tool_basic.return_direct = True\n",
    "stock_agent = create_agent(\n",
    "    model=llm,\n",
    "    tools=[stock_tool_basic],\n",
    "    system_prompt=\"당신은 주식 정보를 제공하는 AI 어시스턴트입니다.\"\n",
    ")\n",
    "\n",
    "# 도구 실행 에이전트 사용\n",
    "result = stock_agent.invoke(\n",
    "    {\"messages\": [{\"role\": \"user\", \"content\": \"애플의 2025년 1월 3일 주식 가격을 알려줘\"}]}\n",
    ")\n",
    "\n",
    "pprint(result['messages'])"
   ]
  },
  {
   "cell_type": "markdown",
   "metadata": {},
   "source": [
    "---\n",
    "\n",
    "### [실습]\n",
    "\n",
    "- yfinance 사용하여 특정 기간(시작일 ~ 종료일) 동안의 거래 데이터를 가져오는 도구를 정의 \n",
    "\n",
    "- **Hint**: history 메소드의 start, end 속성에 날짜 지정 "
   ]
  },
  {
   "cell_type": "code",
   "execution_count": 17,
   "metadata": {},
   "outputs": [
    {
     "name": "stdout",
     "output_type": "stream",
     "text": [
      "[{'Date': '2025-01-02', 'Open': 248.04942813526918, 'High': 248.21884015778812, 'Low': 240.96459363401945, 'Close': 242.98741149902344, 'Volume': 55740700, 'Dividends': 0.0, 'Stock Splits': 0.0}, {'Date': '2025-01-03', 'Open': 242.49916076660156, 'High': 243.31625226562878, 'Low': 241.03435939639962, 'Close': 242.49916076660156, 'Volume': 40244100, 'Dividends': 0.0, 'Stock Splits': 0.0}, {'Date': '2025-01-06', 'Open': 243.4457849039297, 'High': 246.45510633108967, 'Low': 242.33971076643533, 'Close': 244.1333465576172, 'Volume': 45045600, 'Dividends': 0.0, 'Stock Splits': 0.0}, {'Date': '2025-01-07', 'Open': 242.12049100282684, 'High': 244.681407317594, 'Low': 240.496267218822, 'Close': 241.3532257080078, 'Volume': 40856000, 'Dividends': 0.0, 'Stock Splits': 0.0}, {'Date': '2025-01-08', 'Open': 241.0642520177986, 'High': 242.8479287466886, 'Low': 239.2008716539854, 'Close': 241.84149169921875, 'Volume': 37628900, 'Dividends': 0.0, 'Stock Splits': 0.0}]\n",
      "\n",
      "도구로 호출한 결과:\n",
      "[{'Date': '2025-01-02', 'Open': 248.04942813526918, 'High': 248.21884015778812, 'Low': 240.96459363401945, 'Close': 242.98741149902344, 'Volume': 55740700, 'Dividends': 0.0, 'Stock Splits': 0.0}, {'Date': '2025-01-03', 'Open': 242.49916076660156, 'High': 243.31625226562878, 'Low': 241.03435939639962, 'Close': 242.49916076660156, 'Volume': 40244100, 'Dividends': 0.0, 'Stock Splits': 0.0}, {'Date': '2025-01-06', 'Open': 243.4457849039297, 'High': 246.45510633108967, 'Low': 242.33971076643533, 'Close': 244.1333465576172, 'Volume': 45045600, 'Dividends': 0.0, 'Stock Splits': 0.0}, {'Date': '2025-01-07', 'Open': 242.12049100282684, 'High': 244.681407317594, 'Low': 240.496267218822, 'Close': 241.3532257080078, 'Volume': 40856000, 'Dividends': 0.0, 'Stock Splits': 0.0}, {'Date': '2025-01-08', 'Open': 241.0642520177986, 'High': 242.8479287466886, 'Low': 239.2008716539854, 'Close': 241.84149169921875, 'Volume': 37628900, 'Dividends': 0.0, 'Stock Splits': 0.0}]\n"
     ]
    }
   ],
   "source": [
    "from typing import List, Dict\n",
    "import yfinance as yf\n",
    "from datetime import datetime\n",
    "\n",
    "# 1단계: 일반 함수로 정의\n",
    "def get_stock_period_data(symbol: str, start_date: str, end_date: str) -> List[Dict]:\n",
    "    \"\"\"yfinance를 사용하여 특정 기간(시작일 ~ 종료일) 동안의 주식 거래 데이터를 가져옵니다.\n",
    "    \n",
    "    Args:\n",
    "        symbol (str): 주식 심볼 (예: AAPL, TSLA)\n",
    "        start_date (str): 시작 날짜 (YYYY-MM-DD 형식)\n",
    "        end_date (str): 종료 날짜 (YYYY-MM-DD 형식)\n",
    "    \n",
    "    Returns:\n",
    "        List[Dict]: 기간 동안의 주식 거래 데이터 리스트\n",
    "    \"\"\"\n",
    "    stock = yf.Ticker(symbol)\n",
    "    \n",
    "    # 특정 기간의 주식 가격 정보 조회 (start, end 속성 사용)\n",
    "    price = stock.history(start=start_date, end=end_date)\n",
    "    \n",
    "    # 데이터프레임을 딕셔너리로 변환하여 반환\n",
    "    df = price.reset_index()\n",
    "    df['Date'] = df['Date'].dt.strftime('%Y-%m-%d')\n",
    "    return df.to_dict(orient='records')\n",
    "\n",
    "# 함수 실행 예시 (일반 함수로 호출)\n",
    "result = get_stock_period_data(\"AAPL\", \"2025-01-01\", \"2025-01-10\")\n",
    "print(result)\n",
    "\n",
    "# 2단계: 함수를 도구로 변환\n",
    "from langchain_core.tools import tool\n",
    "\n",
    "@tool\n",
    "def get_stock_period_data_tool(symbol: str, start_date: str, end_date: str) -> List[Dict]:\n",
    "    \"\"\"yfinance를 사용하여 특정 기간(시작일 ~ 종료일) 동안의 주식 거래 데이터를 가져옵니다.\n",
    "    \n",
    "    Args:\n",
    "        symbol (str): 주식 심볼 (예: AAPL, TSLA)\n",
    "        start_date (str): 시작 날짜 (YYYY-MM-DD 형식)\n",
    "        end_date (str): 종료 날짜 (YYYY-MM-DD 형식)\n",
    "    \n",
    "    Returns:\n",
    "        List[Dict]: 기간 동안의 주식 거래 데이터 리스트\n",
    "    \"\"\"\n",
    "    return get_stock_period_data(symbol, start_date, end_date)\n",
    "\n",
    "# 도구로 호출 (invoke 메서드 사용)\n",
    "result_tool = get_stock_period_data_tool.invoke({\"symbol\": \"AAPL\", \"start_date\": \"2025-01-01\", \"end_date\": \"2025-01-10\"})\n",
    "print(\"\\n도구로 호출한 결과:\")\n",
    "print(result_tool)"
   ]
  },
  {
   "cell_type": "markdown",
   "metadata": {},
   "source": [
    "---\n",
    "\n",
    "### 2. **도구 에러 처리** \n",
    "\n",
    "> **⚠️ LangChain v1.0 업데이트**  \n",
    "> - 도구 에러 처리는 `handle_tool_error` 파라미터로 계속 사용 가능\n",
    "> - 추가로 **미들웨어(Middleware)** 를 통한 고급 에러 처리도 지원\n",
    "> - 미들웨어는 더 유연한 에러 처리와 재시도 로직 구현 가능\n",
    "\n",
    "- **handle_tool_error** 매개변수를 통해 도구의 오류를 체계적으로 관리\n",
    "\n",
    "- 에이전트와 도구 사이의 **에러 처리 로직**을 명확하게 정의할 수 있음\n",
    "\n",
    "- LangChain이 제공하는 **기본 에러 처리 방식**으로 안정적인 실행 보장\n",
    "\n",
    "- 도구 실행 중 발생하는 **예외 상황**을 효과적으로 제어 가능\n"
   ]
  },
  {
   "cell_type": "code",
   "execution_count": 18,
   "metadata": {},
   "outputs": [
    {
     "name": "stderr",
     "output_type": "stream",
     "text": [
      "$AAPL: possibly delisted; no price data found  (1d 2022-01-01 00:00:00 -> 2022-01-02 00:00:00)\n"
     ]
    },
    {
     "name": "stdout",
     "output_type": "stream",
     "text": [
      "{'Date': '2021-12-31', 'Open': 174.5999629626884, 'High': 175.71762176050464, 'Low': 173.7862266948401, 'Close': 174.0901641845703, 'Volume': 64062300, 'Dividends': 0.0, 'Stock Splits': 0.0}\n"
     ]
    }
   ],
   "source": [
    "# 함수 실행 (날짜 오류)\n",
    "result = get_stock_price(\"AAPL\", \"2022-01-01\")\n",
    "print(result)"
   ]
  },
  {
   "cell_type": "code",
   "execution_count": 19,
   "metadata": {},
   "outputs": [
    {
     "name": "stderr",
     "output_type": "stream",
     "text": [
      "$AAPL: possibly delisted; no price data found  (1d 2022-01-01 00:00:00 -> 2022-01-02 00:00:00)\n"
     ]
    },
    {
     "name": "stdout",
     "output_type": "stream",
     "text": [
      "{'Date': '2021-12-31', 'Open': 174.5999629626884, 'High': 175.71762176050464, 'Low': 173.7862266948401, 'Close': 174.0901641845703, 'Volume': 64062300, 'Dividends': 0.0, 'Stock Splits': 0.0}\n"
     ]
    }
   ],
   "source": [
    "# 도구 실행 (날짜 오류)\n",
    "result = stock_tool_basic.invoke({\"symbol\": \"AAPL\", \"date\": \"2022-01-01\"})\n",
    "print(result)"
   ]
  },
  {
   "cell_type": "markdown",
   "metadata": {},
   "source": [
    "`(1) 기본 에러 처리`\n",
    "   - *handle_tool_error=True*를 사용\n",
    "   - ToolException의 메시지를 그대로 반환"
   ]
  },
  {
   "cell_type": "code",
   "execution_count": 20,
   "metadata": {},
   "outputs": [
    {
     "name": "stdout",
     "output_type": "stream",
     "text": [
      "{'Date': '2025-10-22', 'Open': 262.6499938964844, 'High': 262.8500061035156, 'Low': 255.42999267578125, 'Close': 258.45001220703125, 'Volume': 44954300, 'Dividends': 0.0, 'Stock Splits': 0.0}\n"
     ]
    }
   ],
   "source": [
    "from langchain_core.tools import StructuredTool\n",
    "\n",
    "# StructuredTool로 도구 생성\n",
    "stock_tool_basic = StructuredTool.from_function(\n",
    "    func=get_stock_price,\n",
    "    name=\"stock_price_basic\",\n",
    "    handle_tool_error=True  # 기본 에러 메시지 반환\n",
    ")\n",
    "\n",
    "# 도구 실행 (정상)\n",
    "result = stock_tool_basic.invoke({\"symbol\": \"AAPL\"})\n",
    "print(result)"
   ]
  },
  {
   "cell_type": "code",
   "execution_count": 21,
   "metadata": {},
   "outputs": [
    {
     "name": "stdout",
     "output_type": "stream",
     "text": [
      "잘못된 날짜 형식입니다: 22-01-01\n"
     ]
    }
   ],
   "source": [
    "# 도구 실행 (날짜 오류)\n",
    "result = stock_tool_basic.invoke({\"symbol\": \"AAPL\", \"date\": \"22-01-01\"})\n",
    "print(result)"
   ]
  },
  {
   "cell_type": "markdown",
   "metadata": {},
   "source": [
    "`(2) 커스텀 에러 메시지`\n",
    "   - *handle_tool_error*=\"에러 메시지\"를 사용\n",
    "   - 모든 에러에 대해 동일한 메시지 반환"
   ]
  },
  {
   "cell_type": "code",
   "execution_count": 22,
   "metadata": {},
   "outputs": [
    {
     "name": "stdout",
     "output_type": "stream",
     "text": [
      "{'Date': '2025-10-22', 'Open': 262.6499938964844, 'High': 262.8500061035156, 'Low': 255.42999267578125, 'Close': 258.45001220703125, 'Volume': 44954300, 'Dividends': 0.0, 'Stock Splits': 0.0}\n"
     ]
    }
   ],
   "source": [
    "# StructuredTool로 도구 생성\n",
    "stock_tool_custom = StructuredTool.from_function(\n",
    "    func=get_stock_price,\n",
    "    name=\"stock_price_custom\",\n",
    "    handle_tool_error=\"유효한 날짜 형식(YYYY-MM-DD)이 아닙니다. 다시 입력해주세요.\"\n",
    ")\n",
    "\n",
    "# 도구 실행 (정상)\n",
    "result = stock_tool_custom.invoke({\"symbol\": \"AAPL\"})\n",
    "print(result)"
   ]
  },
  {
   "cell_type": "code",
   "execution_count": 23,
   "metadata": {},
   "outputs": [
    {
     "name": "stdout",
     "output_type": "stream",
     "text": [
      "유효한 날짜 형식(YYYY-MM-DD)이 아닙니다. 다시 입력해주세요.\n"
     ]
    }
   ],
   "source": [
    "# 도구 실행 (날짜 오류)\n",
    "result = stock_tool_custom.invoke({\"symbol\": \"AAPL\", \"date\": \"22-02-02\"})\n",
    "print(result)"
   ]
  },
  {
   "cell_type": "markdown",
   "metadata": {},
   "source": [
    "`(3) 커스텀 에러 처리 함수`\n",
    "   - handle_tool_error에 함수 전달\n",
    "   - 에러 타입에 따라 다른 처리 가능"
   ]
  },
  {
   "cell_type": "code",
   "execution_count": 24,
   "metadata": {},
   "outputs": [],
   "source": [
    "# 커스텀 에러 처리 함수\n",
    "def custom_error_handler(error: Exception) -> str:\n",
    "    if \"잘못된 날짜\" in str(error):\n",
    "        return f\"날짜 형식 오류: {str(error)}. YYYY-MM-DD 형식으로 입력해주세요.\"\n",
    "    else:\n",
    "        return f\"도구 실행 중 오류가 발생했습니다: {str(error)}\"\n",
    "\n",
    "# StructuredTool로 도구 생성 (커스텀 에러 처리 함수)\n",
    "stock_tool_custom_fn = StructuredTool.from_function(\n",
    "    func=get_stock_price,\n",
    "    name=\"stock_price_custom_fn\",\n",
    "    handle_tool_error=custom_error_handler\n",
    ")"
   ]
  },
  {
   "cell_type": "code",
   "execution_count": 25,
   "metadata": {},
   "outputs": [
    {
     "name": "stdout",
     "output_type": "stream",
     "text": [
      "{'Date': '2025-10-22', 'Open': 262.6499938964844, 'High': 262.8500061035156, 'Low': 255.42999267578125, 'Close': 258.45001220703125, 'Volume': 44954300, 'Dividends': 0.0, 'Stock Splits': 0.0}\n"
     ]
    }
   ],
   "source": [
    "# 도구 실행 (정상)\n",
    "result = stock_tool_custom_fn.invoke({\"symbol\": \"AAPL\"})\n",
    "print(result)"
   ]
  },
  {
   "cell_type": "code",
   "execution_count": 26,
   "metadata": {},
   "outputs": [
    {
     "name": "stdout",
     "output_type": "stream",
     "text": [
      "날짜 형식 오류: 잘못된 날짜 형식입니다: 22-01-01. YYYY-MM-DD 형식으로 입력해주세요.\n"
     ]
    }
   ],
   "source": [
    "# 도구 실행 (날짜 오류)\n",
    "result = stock_tool_custom_fn.invoke({\"symbol\": \"AAPL\", \"date\": \"22-01-01\"})\n",
    "print(result)"
   ]
  },
  {
   "cell_type": "markdown",
   "metadata": {},
   "source": [
    "`(4) 미들웨어를 통한 고급 에러 처리` \n",
    "\n",
    "- LangChain v1.0에서 추가된 기능"
   ]
  },
  {
   "cell_type": "code",
   "execution_count": null,
   "metadata": {},
   "outputs": [],
   "source": []
  },
  {
   "cell_type": "code",
   "execution_count": null,
   "metadata": {},
   "outputs": [],
   "source": []
  },
  {
   "cell_type": "code",
   "execution_count": 27,
   "metadata": {},
   "outputs": [
    {
     "name": "stdout",
     "output_type": "stream",
     "text": [
      "====================================================================================================\n",
      "테스트 1: 미들웨어 없이 실행 (에러 발생 시 중단)\n",
      "====================================================================================================\n",
      "✅ 실행 완료\n",
      "  human: 애플의 202-01-01 주식 가격을 알려줘\n",
      "  ai: \n",
      "  tool: 잘못된 날짜 형식입니다: 202-01-01\n",
      "  ai: 입력하신 날짜 형식이 잘못되었습니다. 정확한 날짜 형식(예: 2020-01-01)으로 다시 알려주시면 애플의 주식 가격을 조회해드리겠습니다.\n",
      "\n",
      "====================================================================================================\n",
      "테스트 2: 미들웨어와 함께 실행 (에러를 안전하게 처리)\n",
      "====================================================================================================\n",
      "✅ 미들웨어가 에러를 처리하여 실행 완료\n",
      "\n",
      "전체 메시지 목록:\n",
      "[HumanMessage(content='애플의 202-01-01 주식 가격을 알려줘', additional_kwargs={}, response_metadata={}, id='abfc2d8d-eb52-40f9-80a9-e46c3619106e'),\n",
      " AIMessage(content='', additional_kwargs={'refusal': None}, response_metadata={'token_usage': {'completion_tokens': 24, 'prompt_tokens': 97, 'total_tokens': 121, 'completion_tokens_details': {'accepted_prediction_tokens': 0, 'audio_tokens': 0, 'reasoning_tokens': 0, 'rejected_prediction_tokens': 0}, 'prompt_tokens_details': {'audio_tokens': 0, 'cached_tokens': 0}}, 'model_provider': 'openai', 'model_name': 'gpt-4.1-mini-2025-04-14', 'system_fingerprint': 'fp_4c2851f862', 'id': 'chatcmpl-CToukVCM8vCwBk1i9idAJBrZtQ3E6', 'service_tier': 'default', 'finish_reason': 'tool_calls', 'logprobs': None}, id='lc_run--35758ea9-3ae4-4d5c-806f-3dd4e748d2a1-0', tool_calls=[{'name': 'stock_price_basic', 'args': {'symbol': 'AAPL', 'date': '202-01-01'}, 'id': 'call_VAfyuSWX9YCks7u9Zy4g2gqj', 'type': 'tool_call'}], usage_metadata={'input_tokens': 97, 'output_tokens': 24, 'total_tokens': 121, 'input_token_details': {'audio': 0, 'cache_read': 0}, 'output_token_details': {'audio': 0, 'reasoning': 0}}),\n",
      " ToolMessage(content='잘못된 날짜 형식입니다: 202-01-01', name='stock_price_basic', id='53199ce2-f40d-4730-bb3d-e402d3312713', tool_call_id='call_VAfyuSWX9YCks7u9Zy4g2gqj', status='error'),\n",
      " AIMessage(content='입력하신 날짜 형식이 잘못되었습니다. 정확한 날짜를 다시 알려주시겠어요? 예를 들어, 2020-01-01 같은 형식으로요.', additional_kwargs={'refusal': None}, response_metadata={'token_usage': {'completion_tokens': 40, 'prompt_tokens': 144, 'total_tokens': 184, 'completion_tokens_details': {'accepted_prediction_tokens': 0, 'audio_tokens': 0, 'reasoning_tokens': 0, 'rejected_prediction_tokens': 0}, 'prompt_tokens_details': {'audio_tokens': 0, 'cached_tokens': 0}}, 'model_provider': 'openai', 'model_name': 'gpt-4.1-mini-2025-04-14', 'system_fingerprint': 'fp_4c2851f862', 'id': 'chatcmpl-CToumrCKPoZSjIo0aUvSiOngqW4DH', 'service_tier': 'default', 'finish_reason': 'stop', 'logprobs': None}, id='lc_run--72ee510d-567d-43c3-b712-9f27ae855153-0', usage_metadata={'input_tokens': 144, 'output_tokens': 40, 'total_tokens': 184, 'input_token_details': {'audio': 0, 'cache_read': 0}, 'output_token_details': {'audio': 0, 'reasoning': 0}})]\n"
     ]
    }
   ],
   "source": [
    "from langchain.agents import create_agent\n",
    "from langchain.agents.middleware import wrap_tool_call\n",
    "from langchain_core.messages import ToolMessage\n",
    "\n",
    "# 미들웨어 정의\n",
    "@wrap_tool_call\n",
    "def handle_tool_errors(request, handler):\n",
    "    \"\"\"도구 실행 에러를 처리하는 미들웨어\"\"\"\n",
    "    try:\n",
    "        return handler(request)\n",
    "    except Exception as e:\n",
    "        # 커스텀 에러 메시지 반환\n",
    "        return ToolMessage(\n",
    "            content=f\"🛡️ 미들웨어가 에러를 처리했습니다: {str(e)}. 입력값을 확인해주세요.\",\n",
    "            tool_call_id=request.tool_call[\"id\"]\n",
    "        )\n",
    "\n",
    "print(\"=\" * 100)\n",
    "print(\"테스트 1: 미들웨어 없이 실행 (에러 발생 시 중단)\")\n",
    "print(\"=\" * 100)\n",
    "\n",
    "# 미들웨어 없는 에이전트 생성\n",
    "agent_without_middleware = create_agent(\n",
    "    model=llm,\n",
    "    tools=[stock_tool_basic],\n",
    "    system_prompt=\"당신은 주식 정보를 제공하는 AI 어시스턴트입니다.\"\n",
    ")\n",
    "\n",
    "try:\n",
    "    # 잘못된 날짜로 테스트 (에러 발생)\n",
    "    result1 = agent_without_middleware.invoke(\n",
    "        {\"messages\": [{\"role\": \"user\", \"content\": \"애플의 202-01-01 주식 가격을 알려줘\"}]}\n",
    "    )\n",
    "    print(\"✅ 실행 완료\")\n",
    "    for msg in result1['messages']:\n",
    "        print(f\"  {msg.type}: {msg.content[:80] if hasattr(msg, 'content') else msg}\")\n",
    "except Exception as e:\n",
    "    print(f\"❌ 에러로 실행 중단: {type(e).__name__}\")\n",
    "    print(f\"   에러 내용: {str(e)[:150]}\")\n",
    "\n",
    "print(\"\\n\" + \"=\" * 100)\n",
    "print(\"테스트 2: 미들웨어와 함께 실행 (에러를 안전하게 처리)\")\n",
    "print(\"=\" * 100)\n",
    "\n",
    "# 미들웨어를 적용한 에이전트 생성\n",
    "agent_with_middleware = create_agent(\n",
    "    model=llm,\n",
    "    tools=[stock_tool_basic],\n",
    "    middleware=[handle_tool_errors],\n",
    "    system_prompt=\"당신은 주식 정보를 제공하는 AI 어시스턴트입니다.\"\n",
    ")\n",
    "\n",
    "try:\n",
    "    # 동일한 잘못된 날짜로 테스트\n",
    "    result2 = agent_with_middleware.invoke(\n",
    "        {\"messages\": [{\"role\": \"user\", \"content\": \"애플의 202-01-01 주식 가격을 알려줘\"}]}\n",
    "    )\n",
    "    print(\"✅ 미들웨어가 에러를 처리하여 실행 완료\")\n",
    "    print(\"\\n전체 메시지 목록:\")\n",
    "    pprint(result2['messages'])\n",
    "except Exception as e:\n",
    "    print(f\"❌ 예상치 못한 에러: {type(e).__name__}: {str(e)[:150]}\")"
   ]
  },
  {
   "cell_type": "code",
   "execution_count": 28,
   "metadata": {},
   "outputs": [
    {
     "name": "stdout",
     "output_type": "stream",
     "text": [
      "====================================================================================================\n",
      "미들웨어 적용 결과 상세 분석\n",
      "====================================================================================================\n",
      "\n",
      "[메시지 1] human\n",
      "--------------------------------------------------------------------------------\n",
      "내용: 애플의 202-01-01 주식 가격을 알려줘\n",
      "\n",
      "[메시지 2] ai\n",
      "--------------------------------------------------------------------------------\n",
      "도구 호출: [{'name': 'stock_price_basic', 'args': {'symbol': 'AAPL', 'date': '202-01-01'}, 'id': 'call_VAfyuSWX9YCks7u9Zy4g2gqj', 'type': 'tool_call'}]\n",
      "\n",
      "[메시지 3] tool\n",
      "--------------------------------------------------------------------------------\n",
      "내용: 잘못된 날짜 형식입니다: 202-01-01\n",
      "도구 호출 ID: call_VAfyuSWX9YCks7u9Zy4g2gqj\n",
      "\n",
      "[메시지 4] ai\n",
      "--------------------------------------------------------------------------------\n",
      "내용: 입력하신 날짜 형식이 잘못되었습니다. 정확한 날짜를 다시 알려주시겠어요? 예를 들어, 2020-01-01 같은 형식으로요.\n"
     ]
    }
   ],
   "source": [
    "# Cell 44의 결과를 상세히 출력 (테스트 2의 결과)\n",
    "print(\"=\" * 100)\n",
    "print(\"미들웨어 적용 결과 상세 분석\")\n",
    "print(\"=\" * 100)\n",
    "\n",
    "if 'result2' in locals():\n",
    "    for i, msg in enumerate(result2['messages'], 1):\n",
    "        print(f\"\\n[메시지 {i}] {msg.type}\")\n",
    "        print(\"-\" * 80)\n",
    "        if hasattr(msg, 'content') and msg.content:\n",
    "            print(f\"내용: {msg.content}\")\n",
    "        if hasattr(msg, 'tool_calls') and msg.tool_calls:\n",
    "            print(f\"도구 호출: {msg.tool_calls}\")\n",
    "        if hasattr(msg, 'tool_call_id') and msg.tool_call_id:\n",
    "            print(f\"도구 호출 ID: {msg.tool_call_id}\")\n",
    "else:\n",
    "    print(\"⚠️ Cell 44를 먼저 실행해주세요.\")"
   ]
  },
  {
   "cell_type": "markdown",
   "metadata": {},
   "source": [
    "---\n",
    "\n",
    "### [실습]\n",
    "\n",
    "- 도구 에러 처리 유형을 살펴 보고, 직접 수정하여 적용해봅니다. "
   ]
  },
  {
   "cell_type": "code",
   "execution_count": 29,
   "metadata": {},
   "outputs": [
    {
     "name": "stdout",
     "output_type": "stream",
     "text": [
      "=== 방법 1: 기본 에러 처리 ===\n",
      "잘못된 날짜 형식입니다: 22-01-01\n",
      "\n",
      "=== 방법 2: 커스텀 메시지 ===\n",
      "⚠️ 날짜 형식이 올바르지 않습니다. YYYY-MM-DD 형식으로 입력해주세요.\n",
      "\n",
      "=== 방법 3: 고급 에러 처리 함수 ===\n",
      "📅 날짜 형식 오류: 잘못된 날짜 형식입니다: invalid-date. YYYY-MM-DD 형식으로 입력해주세요.\n"
     ]
    }
   ],
   "source": [
    "# 방법 1: 기본 에러 메시지 반환\n",
    "stock_tool_basic_error = StructuredTool.from_function(\n",
    "    func=get_stock_price,\n",
    "    name=\"stock_price_basic_error\",\n",
    "    handle_tool_error=True  # 기본 에러 메시지 반환\n",
    ")\n",
    "\n",
    "# 테스트 (날짜 오류)\n",
    "print(\"=== 방법 1: 기본 에러 처리 ===\")\n",
    "result = stock_tool_basic_error.invoke({\"symbol\": \"AAPL\", \"date\": \"22-01-01\"})\n",
    "print(result)\n",
    "print()\n",
    "\n",
    "# 방법 2: 커스텀 에러 메시지\n",
    "stock_tool_custom_msg = StructuredTool.from_function(\n",
    "    func=get_stock_price,\n",
    "    name=\"stock_price_custom_msg\",\n",
    "    handle_tool_error=\"⚠️ 날짜 형식이 올바르지 않습니다. YYYY-MM-DD 형식으로 입력해주세요.\"\n",
    ")\n",
    "\n",
    "# 테스트 (날짜 오류)\n",
    "print(\"=== 방법 2: 커스텀 메시지 ===\")\n",
    "result = stock_tool_custom_msg.invoke({\"symbol\": \"AAPL\", \"date\": \"2022/01/01\"})\n",
    "print(result)\n",
    "print()\n",
    "\n",
    "# 방법 3: 커스텀 에러 처리 함수\n",
    "def advanced_error_handler(error: Exception) -> str:\n",
    "    \"\"\"고급 에러 처리 함수 - 에러 타입에 따라 다른 메시지 반환\"\"\"\n",
    "    error_msg = str(error)\n",
    "    \n",
    "    if \"잘못된 날짜\" in error_msg:\n",
    "        return f\"📅 날짜 형식 오류: {error_msg}. YYYY-MM-DD 형식으로 입력해주세요.\"\n",
    "    elif \"찾을 수 없습니다\" in error_msg:\n",
    "        return f\"🔍 데이터 조회 실패: {error_msg}. 주식 심볼을 확인해주세요.\"\n",
    "    else:\n",
    "        return f\"❌ 도구 실행 중 오류가 발생했습니다: {error_msg}\"\n",
    "\n",
    "stock_tool_advanced = StructuredTool.from_function(\n",
    "    func=get_stock_price,\n",
    "    name=\"stock_price_advanced\",\n",
    "    handle_tool_error=advanced_error_handler\n",
    ")\n",
    "\n",
    "# 테스트 (날짜 오류)\n",
    "print(\"=== 방법 3: 고급 에러 처리 함수 ===\")\n",
    "result = stock_tool_advanced.invoke({\"symbol\": \"AAPL\", \"date\": \"invalid-date\"})\n",
    "print(result)"
   ]
  },
  {
   "cell_type": "markdown",
   "metadata": {},
   "source": [
    "---\n",
    "\n",
    "### 3. **BaseTool 상속** \n",
    "\n",
    "- **BaseTool**을 상속하여 더 복잡한 도구 구현 가능\n",
    "\n",
    "- `_run` 메소드에서 **동기 실행 로직** 구현\n",
    "\n",
    "- `_arun` 메소드에서 **비동기 실행 로직** 구현 (선택사항)\n",
    "\n",
    "- Pydantic 모델로 **입력 스키마**를 명확하게 정의"
   ]
  },
  {
   "cell_type": "markdown",
   "metadata": {},
   "source": [
    "`(1) 입력 스키마 정의`"
   ]
  },
  {
   "cell_type": "code",
   "execution_count": 30,
   "metadata": {},
   "outputs": [],
   "source": [
    "from pydantic import BaseModel, Field\n",
    "\n",
    "class StockPriceInput(BaseModel):\n",
    "    \"\"\"주식 가격 조회 도구의 입력 스키마\"\"\"\n",
    "    symbol: str = Field(description=\"주식 심볼 (예: AAPL, TSLA)\")\n",
    "    date: str = Field(description=\"조회할 날짜 (YYYY-MM-DD 형식)\")"
   ]
  },
  {
   "cell_type": "markdown",
   "metadata": {},
   "source": [
    "`(2) BaseTool 상속하여 도구 구현`"
   ]
  },
  {
   "cell_type": "code",
   "execution_count": 31,
   "metadata": {},
   "outputs": [],
   "source": [
    "from langchain_core.tools import BaseTool\n",
    "from langchain_core.callbacks import (\n",
    "    AsyncCallbackManagerForToolRun,\n",
    "    CallbackManagerForToolRun,\n",
    ")\n",
    "\n",
    "class StockPriceTool(BaseTool):\n",
    "    name: str = \"StockPrice\"\n",
    "    description: str = \"yfinance를 사용하여 특정 날짜의 주식 가격 정보를 조회합니다.\"\n",
    "    args_schema: type[BaseModel] = StockPriceInput\n",
    "    return_direct: bool = False\n",
    "\n",
    "    def _run(\n",
    "        self,\n",
    "        symbol: str,\n",
    "        date: str,\n",
    "        run_manager: Optional[CallbackManagerForToolRun] = None\n",
    "    ) -> dict:\n",
    "        \"\"\"도구를 동기적으로 실행합니다.\"\"\"\n",
    "        \n",
    "        # 날짜 유효성 검사\n",
    "        if not is_valid_date(date):\n",
    "            raise ToolException(f\"잘못된 날짜 형식입니다: {date}\")\n",
    "\n",
    "        try:\n",
    "            stock = yf.Ticker(symbol)\n",
    "            start = datetime.strptime(date, \"%Y-%m-%d\")\n",
    "            end = start + timedelta(days=1)\n",
    "            \n",
    "            price = stock.history(start=start, end=end)\n",
    "\n",
    "            # 가격 정보가 없으면 최근 거래일 데이터 조회\n",
    "            if price.empty:\n",
    "                price = stock.history(period=\"5d\")\n",
    "                if price.empty:\n",
    "                    raise ToolException(f\"{symbol}에 대한 주식 데이터를 찾을 수 없습니다.\")\n",
    "                \n",
    "                price = price.reset_index()\n",
    "                price['Date'] = price['Date'].dt.strftime('%Y-%m-%d')\n",
    "                result = price.to_dict(orient=\"records\")[-1]\n",
    "                \n",
    "                return {\n",
    "                    \"symbol\": symbol,\n",
    "                    \"date\": result.get(\"Date\"),\n",
    "                    \"open\": result.get(\"Open\"),\n",
    "                    \"high\": result.get(\"High\"),\n",
    "                    \"low\": result.get(\"Low\"),\n",
    "                    \"close\": result.get(\"Close\"),\n",
    "                    \"volume\": result.get(\"Volume\"),\n",
    "                    \"comment\": f\"{date} 날짜의 데이터가 없어 최근 거래일인 {result.get('Date')} 날짜의 주식 가격 정보 조회\"\n",
    "                }\n",
    "\n",
    "            # 데이터프레임을 딕셔너리로 변환하여 반환 (가장 최근 날짜 데이터만 반환)\n",
    "            price = price.reset_index()\n",
    "            price['Date'] = price['Date'].dt.strftime('%Y-%m-%d')\n",
    "            result = price.to_dict(orient=\"records\")[-1]\n",
    "            return {\n",
    "                \"symbol\": symbol,\n",
    "                \"date\": result.get(\"Date\"),\n",
    "                \"open\": result.get(\"Open\"),\n",
    "                \"high\": result.get(\"High\"),\n",
    "                \"low\": result.get(\"Low\"),\n",
    "                \"close\": result.get(\"Close\"),\n",
    "                \"volume\": result.get(\"Volume\"),\n",
    "                \"comment\": f\"{result.get('Date')} 날짜의 주식 가격 정보 조회\"\n",
    "            }\n",
    "                \n",
    "        except Exception as e:\n",
    "            raise ToolException(str(e))\n",
    "\n",
    "    \n",
    "    async def _arun(\n",
    "        self,\n",
    "        symbol: str,\n",
    "        date: str,\n",
    "        run_manager: Optional[AsyncCallbackManagerForToolRun] = None\n",
    "    ) -> dict:\n",
    "        \"\"\"도구를 비동기적으로 실행합니다.\"\"\"\n",
    "        return self._run(symbol, date, run_manager.get_sync() if run_manager else None)"
   ]
  },
  {
   "cell_type": "markdown",
   "metadata": {},
   "source": [
    "`(3) 도구 실행`"
   ]
  },
  {
   "cell_type": "code",
   "execution_count": 32,
   "metadata": {},
   "outputs": [
    {
     "name": "stdout",
     "output_type": "stream",
     "text": [
      "StockPrice\n",
      "yfinance를 사용하여 특정 날짜의 주식 가격 정보를 조회합니다.\n",
      "<class '__main__.StockPriceInput'>\n",
      "False\n"
     ]
    }
   ],
   "source": [
    "# 도구 생성\n",
    "stock_tool = StockPriceTool()\n",
    "\n",
    "# 도구 속성\n",
    "print(stock_tool.name)\n",
    "print(stock_tool.description)\n",
    "print(stock_tool.args_schema)\n",
    "print(stock_tool.return_direct)"
   ]
  },
  {
   "cell_type": "code",
   "execution_count": 33,
   "metadata": {},
   "outputs": [
    {
     "name": "stderr",
     "output_type": "stream",
     "text": [
      "$TSLA: possibly delisted; no price data found  (1d 2023-12-25 00:00:00 -> 2023-12-26 00:00:00)\n"
     ]
    },
    {
     "name": "stdout",
     "output_type": "stream",
     "text": [
      "{'close': 438.9700012207031,\n",
      " 'comment': '2023-12-25 날짜의 데이터가 없어 최근 거래일인 2025-10-22 날짜의 주식 가격 정보 조회',\n",
      " 'date': '2025-10-22',\n",
      " 'high': 445.5400085449219,\n",
      " 'low': 429.0,\n",
      " 'open': 443.45001220703125,\n",
      " 'symbol': 'TSLA',\n",
      " 'volume': 81274900}\n"
     ]
    }
   ],
   "source": [
    "# 도구 실행 (거래일이 없는 날짜)\n",
    "result = stock_tool.invoke({\"symbol\": \"TSLA\", \"date\": \"2023-12-25\"})\n",
    "pprint(result)\n"
   ]
  },
  {
   "cell_type": "code",
   "execution_count": 34,
   "metadata": {},
   "outputs": [
    {
     "name": "stdout",
     "output_type": "stream",
     "text": [
      "{'close': 178.44313049316406,\n",
      " 'comment': '2022-01-03 날짜의 주식 가격 정보 조회',\n",
      " 'date': '2022-01-03',\n",
      " 'high': 179.2960912081591,\n",
      " 'low': 174.22740989529922,\n",
      " 'open': 174.34505345884557,\n",
      " 'symbol': 'AAPL',\n",
      " 'volume': 104487900}\n"
     ]
    }
   ],
   "source": [
    "# 도구 실행 (거래일이 있는 날짜)\n",
    "result = stock_tool.invoke({\"symbol\": \"AAPL\", \"date\": \"2022-01-03\"})\n",
    "pprint(result)\n"
   ]
  },
  {
   "cell_type": "code",
   "execution_count": 35,
   "metadata": {},
   "outputs": [
    {
     "name": "stdout",
     "output_type": "stream",
     "text": [
      "[{'args': {'date': '2022-01-03', 'symbol': 'AAPL'},\n",
      "  'id': 'call_2y7LW4SUrbgVwR00LeoHv7AE',\n",
      "  'name': 'StockPrice',\n",
      "  'type': 'tool_call'}]\n"
     ]
    }
   ],
   "source": [
    "# LLM에 도구 바인딩하여 사용\n",
    "from langchain_openai import ChatOpenAI\n",
    "\n",
    "llm = ChatOpenAI(model=\"gpt-4o-mini\")\n",
    "llm_with_tool = llm.bind_tools([stock_tool])\n",
    "\n",
    "# 도구 호출\n",
    "result = llm_with_tool.invoke(\"애플의 2022년 1월 3일 주식 가격을 알려줘\")\n",
    "pprint(result.tool_calls)\n"
   ]
  },
  {
   "cell_type": "code",
   "execution_count": 36,
   "metadata": {},
   "outputs": [
    {
     "name": "stdout",
     "output_type": "stream",
     "text": [
      "('{\"symbol\": \"AAPL\", \"date\": \"2022-01-03\", \"open\": 174.34505345884557, \"high\": '\n",
      " '179.2960912081591, \"low\": 174.22740989529922, \"close\": 178.44313049316406, '\n",
      " '\"volume\": 104487900, \"comment\": \"2022-01-03 날짜의 주식 가격 정보 조회\"}')\n"
     ]
    }
   ],
   "source": [
    "# ToolCall을 도구에 전달하여 결과 확인\n",
    "for tool_call in result.tool_calls:\n",
    "    msg = stock_tool.invoke(tool_call)\n",
    "    pprint(msg.content)\n"
   ]
  },
  {
   "cell_type": "code",
   "execution_count": 37,
   "metadata": {},
   "outputs": [
    {
     "name": "stdout",
     "output_type": "stream",
     "text": [
      "[{'args': {'date': '2023-12-25', 'symbol': 'TSLA'},\n",
      "  'id': 'call_7VfzqoCRAmmIA9AO5XbpKNdC',\n",
      "  'name': 'StockPrice',\n",
      "  'type': 'tool_call'}]\n"
     ]
    }
   ],
   "source": [
    "# 도구 실행 (거래일이 없는 날짜)\n",
    "result = llm_with_tool.invoke(\"테슬라의 2023년 12월 25일 주식 가격을 알려줘\")\n",
    "pprint(result.tool_calls)\n"
   ]
  },
  {
   "cell_type": "code",
   "execution_count": 38,
   "metadata": {},
   "outputs": [
    {
     "name": "stderr",
     "output_type": "stream",
     "text": [
      "$TSLA: possibly delisted; no price data found  (1d 2023-12-25 00:00:00 -> 2023-12-26 00:00:00)\n"
     ]
    },
    {
     "name": "stdout",
     "output_type": "stream",
     "text": [
      "('{\"symbol\": \"TSLA\", \"date\": \"2025-10-22\", \"open\": 443.45001220703125, \"high\": '\n",
      " '445.5400085449219, \"low\": 429.0, \"close\": 438.9700012207031, \"volume\": '\n",
      " '81274900, \"comment\": \"2023-12-25 날짜의 데이터가 없어 최근 거래일인 2025-10-22 날짜의 주식 가격 정보 '\n",
      " '조회\"}')\n"
     ]
    }
   ],
   "source": [
    "# ToolCall을 도구에 전달하여 결과 확인\n",
    "for tool_call in result.tool_calls:\n",
    "    msg = stock_tool.invoke(tool_call)\n",
    "    pprint(msg.content)"
   ]
  },
  {
   "cell_type": "code",
   "execution_count": null,
   "metadata": {},
   "outputs": [],
   "source": []
  },
  {
   "cell_type": "markdown",
   "metadata": {},
   "source": [
    "---\n",
    "\n",
    "### [실습]\n",
    "\n",
    "- BaseTool 상속받아서 도구 정의하는 과정을 살펴 보고, 직접 수정하여 적용해봅니다. "
   ]
  },
  {
   "cell_type": "code",
   "execution_count": 39,
   "metadata": {},
   "outputs": [
    {
     "name": "stdout",
     "output_type": "stream",
     "text": [
      "{'data': [{'Close': 242.98741149902344,\n",
      "           'Date': '2025-01-02',\n",
      "           'Dividends': 0.0,\n",
      "           'High': 248.21884015778812,\n",
      "           'Low': 240.96459363401945,\n",
      "           'Open': 248.04942813526918,\n",
      "           'Stock Splits': 0.0,\n",
      "           'Volume': 55740700},\n",
      "          {'Close': 242.49916076660156,\n",
      "           'Date': '2025-01-03',\n",
      "           'Dividends': 0.0,\n",
      "           'High': 243.31625226562878,\n",
      "           'Low': 241.03435939639962,\n",
      "           'Open': 242.49916076660156,\n",
      "           'Stock Splits': 0.0,\n",
      "           'Volume': 40244100},\n",
      "          {'Close': 244.1333465576172,\n",
      "           'Date': '2025-01-06',\n",
      "           'Dividends': 0.0,\n",
      "           'High': 246.45510633108967,\n",
      "           'Low': 242.33971076643533,\n",
      "           'Open': 243.4457849039297,\n",
      "           'Stock Splits': 0.0,\n",
      "           'Volume': 45045600},\n",
      "          {'Close': 241.3532257080078,\n",
      "           'Date': '2025-01-07',\n",
      "           'Dividends': 0.0,\n",
      "           'High': 244.681407317594,\n",
      "           'Low': 240.496267218822,\n",
      "           'Open': 242.12049100282684,\n",
      "           'Stock Splits': 0.0,\n",
      "           'Volume': 40856000},\n",
      "          {'Close': 241.84149169921875,\n",
      "           'Date': '2025-01-08',\n",
      "           'Dividends': 0.0,\n",
      "           'High': 242.8479287466886,\n",
      "           'Low': 239.2008716539854,\n",
      "           'Open': 241.0642520177986,\n",
      "           'Stock Splits': 0.0,\n",
      "           'Volume': 37628900}],\n",
      " 'data_count': 5,\n",
      " 'period': '2025-01-01 ~ 2025-01-10',\n",
      " 'statistics': {'change_rate': '-0.47%',\n",
      "                'end_price': 241.84149169921875,\n",
      "                'highest': 248.21884015778812,\n",
      "                'lowest': 239.2008716539854,\n",
      "                'start_price': 242.98741149902344},\n",
      " 'symbol': 'AAPL'}\n"
     ]
    }
   ],
   "source": [
    "# BaseTool 상속하여 기간별 주식 데이터 조회 도구 정의\n",
    "\n",
    "from pydantic import BaseModel, Field\n",
    "\n",
    "# 입력 스키마 정의\n",
    "class StockPeriodInput(BaseModel):\n",
    "    \"\"\"기간별 주식 데이터 조회 도구의 입력 스키마\"\"\"\n",
    "    symbol: str = Field(description=\"주식 심볼 (예: AAPL, TSLA)\")\n",
    "    start_date: str = Field(description=\"시작 날짜 (YYYY-MM-DD 형식)\")\n",
    "    end_date: str = Field(description=\"종료 날짜 (YYYY-MM-DD 형식)\")\n",
    "\n",
    "# BaseTool 상속하여 도구 구현\n",
    "class StockPeriodTool(BaseTool):\n",
    "    name: str = \"StockPeriodData\"\n",
    "    description: str = \"yfinance를 사용하여 특정 기간 동안의 주식 거래 데이터를 조회합니다.\"\n",
    "    args_schema: type[BaseModel] = StockPeriodInput\n",
    "    return_direct: bool = False\n",
    "\n",
    "    def _run(\n",
    "        self,\n",
    "        symbol: str,\n",
    "        start_date: str,\n",
    "        end_date: str,\n",
    "        run_manager: Optional[CallbackManagerForToolRun] = None\n",
    "    ) -> dict:\n",
    "        \"\"\"도구를 동기적으로 실행합니다.\"\"\"\n",
    "        \n",
    "        # 날짜 유효성 검사\n",
    "        if not is_valid_date(start_date):\n",
    "            raise ToolException(f\"잘못된 시작 날짜 형식입니다: {start_date}\")\n",
    "        if not is_valid_date(end_date):\n",
    "            raise ToolException(f\"잘못된 종료 날짜 형식입니다: {end_date}\")\n",
    "\n",
    "        try:\n",
    "            stock = yf.Ticker(symbol)\n",
    "            start = datetime.strptime(start_date, \"%Y-%m-%d\")\n",
    "            end = datetime.strptime(end_date, \"%Y-%m-%d\")\n",
    "            \n",
    "            # 기간별 주식 가격 정보 조회\n",
    "            price = stock.history(start=start, end=end)\n",
    "\n",
    "            # 데이터가 없는 경우\n",
    "            if price.empty:\n",
    "                raise ToolException(f\"{symbol}의 {start_date}부터 {end_date}까지 주식 데이터를 찾을 수 없습니다.\")\n",
    "            \n",
    "            # 데이터프레임을 딕셔너리로 변환\n",
    "            df = price.reset_index()\n",
    "            df['Date'] = df['Date'].dt.strftime('%Y-%m-%d')\n",
    "            data = df.to_dict(orient=\"records\")\n",
    "            \n",
    "            # 통계 정보 계산\n",
    "            first_close = data[0].get(\"Close\")\n",
    "            last_close = data[-1].get(\"Close\")\n",
    "            change_rate = ((last_close - first_close) / first_close * 100) if first_close else 0\n",
    "            \n",
    "            return {\n",
    "                \"symbol\": symbol,\n",
    "                \"period\": f\"{start_date} ~ {end_date}\",\n",
    "                \"data_count\": len(data),\n",
    "                \"data\": data,\n",
    "                \"statistics\": {\n",
    "                    \"start_price\": first_close,\n",
    "                    \"end_price\": last_close,\n",
    "                    \"change_rate\": f\"{change_rate:.2f}%\",\n",
    "                    \"highest\": max([d.get(\"High\") for d in data]),\n",
    "                    \"lowest\": min([d.get(\"Low\") for d in data]),\n",
    "                }\n",
    "            }\n",
    "                \n",
    "        except Exception as e:\n",
    "            raise ToolException(str(e))\n",
    "\n",
    "    async def _arun(\n",
    "        self,\n",
    "        symbol: str,\n",
    "        start_date: str,\n",
    "        end_date: str,\n",
    "        run_manager: Optional[AsyncCallbackManagerForToolRun] = None\n",
    "    ) -> dict:\n",
    "        \"\"\"도구를 비동기적으로 실행합니다.\"\"\"\n",
    "        return self._run(symbol, start_date, end_date, run_manager.get_sync() if run_manager else None)\n",
    "\n",
    "# 도구 생성 및 테스트\n",
    "stock_period_tool = StockPeriodTool()\n",
    "\n",
    "# 도구 실행\n",
    "result = stock_period_tool.invoke({\"symbol\": \"AAPL\", \"start_date\": \"2025-01-01\", \"end_date\": \"2025-01-10\"})\n",
    "pprint(result)"
   ]
  },
  {
   "cell_type": "markdown",
   "metadata": {},
   "source": [
    "---\n",
    "\n",
    "### 4. **QA 체인 구성** \n",
    "\n",
    "- **QA 체인**을 구성하여 질의응답 시스템을 체계화할 수 있음\n",
    "\n",
    "- **도구 사용**을 통해 사용자가 원하는 정보를 컨텍스트로 활용 가능 "
   ]
  },
  {
   "cell_type": "code",
   "execution_count": 40,
   "metadata": {},
   "outputs": [
    {
     "data": {
      "text/plain": [
       "'StockPrice'"
      ]
     },
     "execution_count": 40,
     "metadata": {},
     "output_type": "execute_result"
    }
   ],
   "source": [
    "# 도구의 이름 속성 확인 \n",
    "stock_tool.name"
   ]
  },
  {
   "cell_type": "code",
   "execution_count": 41,
   "metadata": {},
   "outputs": [
    {
     "name": "stdout",
     "output_type": "stream",
     "text": [
      "Tool Name:  StockPrice\n",
      "content='{\"symbol\": \"AAPL\", \"date\": \"2025-01-31\", \"open\": 246.31561143302469, \"high\": 246.31561143302469, \"low\": 232.61424963135997, \"close\": 235.16519165039062, \"volume\": 100959800, \"comment\": \"2025-01-31 날짜의 주식 가격 정보 조회\"}' name='StockPrice' tool_call_id='call_rGz6ItcsKZdr7F7HeP22xleo'\n",
      "--------------------------------------------------------------------------------------------------------------------------------------------------------------------------------------------------------\n",
      "content='2025년 1월 31일에 애플(AAPL)의 종가는 $235.17였습니다.' additional_kwargs={'refusal': None} response_metadata={'token_usage': {'completion_tokens': 24, 'prompt_tokens': 242, 'total_tokens': 266, 'completion_tokens_details': {'accepted_prediction_tokens': 0, 'audio_tokens': 0, 'reasoning_tokens': 0, 'rejected_prediction_tokens': 0}, 'prompt_tokens_details': {'audio_tokens': 0, 'cached_tokens': 0}}, 'model_provider': 'openai', 'model_name': 'gpt-4o-mini-2024-07-18', 'system_fingerprint': 'fp_560af6e559', 'id': 'chatcmpl-CTourucXji60Fpy3Ye4yoLqqXVM0B', 'service_tier': 'default', 'finish_reason': 'stop', 'logprobs': None} id='lc_run--154b433a-d7d4-4519-bc09-4e36c99a3612-0' usage_metadata={'input_tokens': 242, 'output_tokens': 24, 'total_tokens': 266, 'input_token_details': {'audio': 0, 'cache_read': 0}, 'output_token_details': {'audio': 0, 'reasoning': 0}}\n"
     ]
    }
   ],
   "source": [
    "from langchain_core.prompts import ChatPromptTemplate\n",
    "from langchain_core.runnables import RunnableConfig, chain\n",
    "from langchain_openai import ChatOpenAI\n",
    "from datetime import datetime\n",
    "\n",
    "# LLM 모델 인스턴스를 생성\n",
    "llm = ChatOpenAI(model=\"gpt-4o-mini\")\n",
    "\n",
    "# 두 도구를 LLM에 바인딩\n",
    "llm_with_tools = llm.bind_tools(tools=[stock_tool])\n",
    "\n",
    "# 오늘 날짜 설정\n",
    "today = datetime.today().strftime(\"%Y-%m-%d\")\n",
    "\n",
    "# 프롬프트 템플릿 정의\n",
    "prompt = ChatPromptTemplate([\n",
    "    (\"system\", f\"당신은 도움이 되는 AI 어시스턴트입니다. 오늘 날짜는 {today}입니다.\"),\n",
    "    (\"human\", \"{user_input}\"),\n",
    "    (\"placeholder\", \"{messages}\"),\n",
    "])\n",
    "\n",
    "# LLM 체인 생성\n",
    "llm_chain = prompt | llm_with_tools\n",
    "\n",
    "@chain\n",
    "def stock_analysis_chain(user_input: str, config: RunnableConfig):\n",
    "    input_ = {\"user_input\": user_input}\n",
    "    ai_msg = llm_chain.invoke(input_, config=config)\n",
    "\n",
    "    tool_msgs = []\n",
    "    for tool_call in ai_msg.tool_calls:\n",
    "        try:\n",
    "            if tool_call[\"name\"] == \"StockPrice\":\n",
    "                tool_result = stock_tool.invoke(tool_call)\n",
    "            else:\n",
    "                print(f\"알 수 없는 도구 호출: {tool_call['name']}\")\n",
    "                continue\n",
    "\n",
    "            # tool message 출력\n",
    "            print(\"Tool Name: \", tool_call[\"name\"])\n",
    "            print(tool_result)\n",
    "            print(\"-\"*200)\n",
    "\n",
    "            tool_msgs.append(tool_result)\n",
    "        except Exception as e:\n",
    "            print(f\"{tool_call['name']} 도구 호출 중 에러 발생: {e}\")\n",
    "    \n",
    "    return llm_chain.invoke({**input_, \"messages\": [ai_msg, *tool_msgs]}, config=config)\n",
    "\n",
    "# 체인 실행\n",
    "query = \"애플의 1월말 주가는 얼마인가요?\"\n",
    "response = stock_analysis_chain.invoke(query)\n",
    "\n",
    "print(response)\n",
    "\n"
   ]
  },
  {
   "cell_type": "code",
   "execution_count": 42,
   "metadata": {},
   "outputs": [
    {
     "name": "stdout",
     "output_type": "stream",
     "text": [
      "2025년 1월 31일에 애플(AAPL)의 종가는 $235.17였습니다.\n"
     ]
    }
   ],
   "source": [
    "print(response.content)"
   ]
  },
  {
   "cell_type": "markdown",
   "metadata": {},
   "source": [
    "---\n",
    "\n",
    "### [심화] **Naver 개발자 API** 를 도구로 사용\n",
    "\n",
    "#### **환경 설정**\n",
    "\n",
    "- 네이버 개발자 API(https://developers.naver.com/)에서 인증 권한 취득 (회원 가입 및 애플리케이션 등록 필요)\n",
    "- 환경변수(.env)를 등록합니다. (**NAVER_CLIENT_ID**, **NAVER_CLIENT_SECRET**)\n",
    "- 아래 정의된 네이버 뉴스 검색 도구(naver_news_search)를 사용하여 다음 과정을 수행합니다. "
   ]
  },
  {
   "cell_type": "code",
   "execution_count": 43,
   "metadata": {},
   "outputs": [
    {
     "data": {
      "text/plain": [
       "True"
      ]
     },
     "execution_count": 43,
     "metadata": {},
     "output_type": "execute_result"
    }
   ],
   "source": [
    "# 환경 변수 로드\n",
    "from dotenv import load_dotenv\n",
    "load_dotenv()"
   ]
  },
  {
   "cell_type": "code",
   "execution_count": 44,
   "metadata": {},
   "outputs": [],
   "source": [
    "import requests, os\n",
    "from langchain_core.tools import tool\n",
    "from typing import Dict\n",
    "\n",
    "@tool\n",
    "def naver_news_search(\n",
    "    query: str,\n",
    "    ) -> Dict[Dict, int]:\n",
    "    \"\"\"네이버 검색 API를 사용하여 뉴스 검색 결과를 조회합니다.\n",
    "\n",
    "    Args:\n",
    "        query (str): 검색어\n",
    "\n",
    "    Returns:\n",
    "        Dict[Dict, int]: 검색 결과와 상태 코드  \n",
    "    \"\"\"\n",
    "\n",
    "\n",
    "    url = \"https://openapi.naver.com/v1/search/news.json\"\n",
    "    headers = {\n",
    "        \"X-Naver-Client-Id\": os.getenv(\"NAVER_CLIENT_ID\"),\n",
    "        \"X-Naver-Client-Secret\": os.getenv(\"NAVER_CLIENT_SECRET\")\n",
    "    }\n",
    "    params = {\"query\": query}\n",
    "\n",
    "    response = requests.get(url, headers=headers, params=params)\n",
    "\n",
    "    return {\n",
    "        \"data\": response.json(),\n",
    "        \"status_code\": int(response.status_code)\n",
    "    }  #type: ignore"
   ]
  },
  {
   "cell_type": "markdown",
   "metadata": {},
   "source": [
    "---\n",
    "\n",
    "#### **문제 1**: 도구 실행 체인 구성\n",
    "\n",
    "1. 도구 설정\n",
    "    - 도구들(naver_news_search, stock_tool)을 리스트로 구성\n",
    "    - 도구 이름을 키로 하는 맵(tool_map) 생성\n",
    "\n",
    "2. 데코레이터 활용\n",
    "    - @chain 데코레이터로 일반 함수를 체인으로 변환\n",
    "    - tool_router: 도구 이름에 따라 적절한 도구 선택\n",
    "\n",
    "3. 체인 구성\n",
    "    ```python\n",
    "    tool_chain = (\n",
    "        llm_with_tools    # 어떤 도구를 사용할지 결정 (LLM 모델이 도구 호출을 처리)\n",
    "        | RunnableLambda(lambda x: x.tool_calls)  # 도구 호출을 추출\n",
    "        | tool_router.map()   # 도구 호출 라우팅\n",
    "    )\n",
    "    ```\n",
    "\n",
    "4. 동작 순서\n",
    "    1. LLM이 상황에 맞는 도구 선택\n",
    "    2. 해당 도구 실행"
   ]
  },
  {
   "cell_type": "code",
   "execution_count": 45,
   "metadata": {},
   "outputs": [
    {
     "name": "stdout",
     "output_type": "stream",
     "text": [
      "도구 목록:\n",
      "  - naver_news_search: 네이버 검색 API를 사용하여 뉴스 검색 결과를 조회합니다.\n",
      "\n",
      "    Args:\n",
      "        query (str): 검색어\n",
      "\n",
      "    Returns:\n",
      "        Dict[Dict, int]: 검색 결과와 상태 코드\n",
      "  - StockPrice: yfinance를 사용하여 특정 날짜의 주식 가격 정보를 조회합니다.\n",
      "\n",
      "=== 체인 테스트 1: 주식 가격 조회 ===\n",
      "[ToolMessage(content='{\"symbol\": \"AAPL\", \"date\": \"2023-10-30\", \"open\": 167.38054373931297, \"high\": 169.50968312123874, \"low\": 167.2319896431063, \"close\": 168.63821411132812, \"volume\": 51131000, \"comment\": \"2023-10-30 날짜의 주식 가격 정보 조회\"}', name='StockPrice', tool_call_id='call_4faE1CJhPHZKRS8kYxUU6BFB')]\n",
      "\n",
      "=== 체인 테스트 2: 뉴스 검색 ===\n",
      "[ToolMessage(content='{\"data\": {\"lastBuildDate\": \"Thu, 23 Oct 2025 21:41:12 +0900\", \"total\": 1717836, \"start\": 1, \"display\": 10, \"items\": [{\"title\": \"삼성전자, 테슬라 AI5칩 생산 참여\", \"originallink\": \"http://www.fnnews.com/news/202510232121072145\", \"link\": \"https://n.news.naver.com/mnews/article/014/0005423914?sid=101\", \"description\": \"삼성전자는 최근 <b>애플</b>과도 차세대 이미지센서 개발에 나섰다. 미국 오스틴 공장에서 아이폰 등 <b>애플</b> 제품의 전력과 성능을 최적화하는 칩을 공급할 계획이다. 최근 삼성 파운드리의 성능 및 공정 안정성 등이 크게... \", \"pubDate\": \"Thu, 23 Oct 2025 21:22:00 +0900\"}, {\"title\": \"동아제약, 어린이 영양제 \\'챔큐비타시럽\\' 출시\", \"originallink\": \"http://www.bizwnews.com/news/articleView.html?idxno=114245\", \"link\": \"http://www.bizwnews.com/news/articleView.html?idxno=114245\", \"description\": \"동아제약은 챔큐비타시럽의 주 복용층이 어린이인 점을 고려해 어린이들이 거부감 없이 섭취할 수 있도록 <b>애플</b>망고 향을 적용했다고 강조했다. 또 개별 포장형태인 스틱 파우치 형태로 휴대가 간편하고 복용이 편리한... \", \"pubDate\": \"Thu, 23 Oct 2025 21:08:00 +0900\"}, {\"title\": \"대구서부경찰서, \\'<b>애플</b>데이\\' 학교폭력예방 활동\", \"originallink\": \"https://www.ksmnews.co.kr/news/view.php?idx=570469\", \"link\": \"https://www.ksmnews.co.kr/news/view.php?idx=570469\", \"description\": \"대구서부경찰서 여성청소년과에서는 둘(2)이 서로 사(4)과를 주고 받는 기념일로 초등학생들에게 알려져 있는 “<b>애플</b>데이”(10월 24일) 날 학교 폭력예방을 위해 ’25. 10. 23.(목) 11:00 대구 비봉초등학교 전교생들을... \", \"pubDate\": \"Thu, 23 Oct 2025 20:39:00 +0900\"}, {\"title\": \"“아이들 체력 회복”…동아제약, 어린이 영양제 ‘챔큐비타시럽’ 출...\", \"originallink\": \"https://www.youthdaily.co.kr/news/article.html?no=199953\", \"link\": \"https://www.youthdaily.co.kr/news/article.html?no=199953\", \"description\": \"챔큐비타시럽은 주 복용층이 어린이인 점을 고려해 어린이들이 거부감 없이 섭취할 수 있도록 <b>애플</b>망고 향을 적용했다. 이와 함께 개별 포장형태인 스틱 파우치 형태로 휴대가 간편하며 복용이 편리한 점이 특징이다.... \", \"pubDate\": \"Thu, 23 Oct 2025 20:30:00 +0900\"}, {\"title\": \"<b>애플</b> 비전프로, 절반 가격인 삼성 XR 헤드셋 \\'갤럭시 XR\\'...삼성·<b>애플</b>이...\", \"originallink\": \"https://www.greened.kr/news/articleView.html?idxno=332347\", \"link\": \"https://www.greened.kr/news/articleView.html?idxno=332347\", \"description\": \"<b>애플</b>의 비전프로, 삼성의 갤럭 XR의 출고가다. 요즘 비싸다고 하는 플래그십 스마트폰의 가격을 훌쩍... 그럼에도 삼성과 <b>애플</b> 양대 산맥과도 같은 양사가 XR 헤드셋에 집중하는 이유는 뭘까. 업계에서는 XR기기 시장의... \", \"pubDate\": \"Thu, 23 Oct 2025 20:18:00 +0900\"}, {\"title\": \"<b>애플</b> 공동 창립자 등 1100명 “초지능 개발 반대”\", \"originallink\": \"https://idsn.co.kr/news/view/1065611520175789\", \"link\": \"https://idsn.co.kr/news/view/1065611520175789\", \"description\": \"서명자에는 스티브 워즈니악 <b>애플</b> 공동 창업자, 리처드 브랜슨 버진그룹 창립자, 노벨경제학상 수상자 다론 아제모을루 등 재계·IT 인사 및 학자들이 대거 포함됐다. ‘AI의 대부’로 불리는 제프리 힌턴과 요슈아... \", \"pubDate\": \"Thu, 23 Oct 2025 20:14:00 +0900\"}, {\"title\": \"동아제약, 어린이 영양제 \\'챔큐비타시럽\\' 출시\", \"originallink\": \"https://www.newscj.com/news/articleView.html?idxno=3331488\", \"link\": \"https://www.newscj.com/news/articleView.html?idxno=3331488\", \"description\": \"이 제품은 주 복용층이 어린이인 점을 고려해 어린이들이 거부감 없이 섭취할 수 있도록 <b>애플</b>망고 향을 적용했다. 또 개별 포장형태인 스틱 파우치 형태로 휴대가 간편하며 복용이 편리한 점이 특징이다. 동아제약... \", \"pubDate\": \"Thu, 23 Oct 2025 20:06:00 +0900\"}, {\"title\": \"전북도민일보, 하이브리드 앱 개발 완료…모바일에서도 독자와 더 가까...\", \"originallink\": \"http://www.domin.co.kr/news/articleView.html?idxno=1532811\", \"link\": \"http://www.domin.co.kr/news/articleView.html?idxno=1532811\", \"description\": \"한동안 구글 플레이스토어와 <b>애플</b> 앱스토어에서 사라졌던 \\'전북도민일보 앱\\'도 이번 개발을 통해 다시 등록돼, 독자 여러분은 누구나 앱스토어를 통해 앱을 손쉽게 다운로드 받아 이용하실 수 있습니다. 전북도민일보는... \", \"pubDate\": \"Thu, 23 Oct 2025 20:00:00 +0900\"}, {\"title\": \"&quot;오프라인 위임장 온라인서 간편 작성&quot;\", \"originallink\": \"https://zdnet.co.kr/view/?no=20251023194918\", \"link\": \"https://n.news.naver.com/mnews/article/092/0002395208?sid=105\", \"description\": \"아래는 \\'성희청과\\' 팀과의 인터뷰 - 팀 소개를 해달라 &quot;한국의 <b>애플</b>이 되고자 \\'성희청과\\'라는 팀명을 지었다. 구성원은 직장에서 만나 인연이 된 동료 1명(정현호)과 저, 박성희가 주축이 돼 만들었다. 20년 소프트웨어... \", \"pubDate\": \"Thu, 23 Oct 2025 19:50:00 +0900\"}, {\"title\": \"‘삼선 케이크’ 먹으러 갈래?… 성수동에 ‘아디다스 카페’ 열린다\", \"originallink\": \"https://www.sportsworldi.com/newsView/20251023518666\", \"link\": \"https://n.news.naver.com/mnews/article/396/0000725019?sid=103\", \"description\": \"삼선 디자인을 활용한 다양한 케이크, 트레포일 파이, 18개의 사과가 통째로 들어간 <b>애플</b>파이 등이 기다린다. 도레 크리에이티브 크루는 단순한 디저트를 넘어, 아디다스의 아이덴티티와 감성을 경험할 수 있는... \", \"pubDate\": \"Thu, 23 Oct 2025 19:38:00 +0900\"}]}, \"status_code\": 200}', name='naver_news_search', tool_call_id='call_qtZsHAe08GcGO9qN1L9TnEAi')]\n"
     ]
    }
   ],
   "source": [
    "from langchain_core.runnables import RunnableLambda\n",
    "\n",
    "# 1. 도구 설정\n",
    "tools = [naver_news_search, stock_tool]\n",
    "tool_map = {tool.name: tool for tool in tools}\n",
    "\n",
    "print(\"도구 목록:\")\n",
    "for tool in tools:\n",
    "    print(f\"  - {tool.name}: {tool.description}\")\n",
    "print()\n",
    "\n",
    "# 2. 데코레이터 활용 - tool_router\n",
    "@chain\n",
    "def tool_router(tool_call):\n",
    "    \"\"\"도구 이름에 따라 적절한 도구를 선택하고 실행합니다.\"\"\"\n",
    "    tool_name = tool_call.get(\"name\")\n",
    "    tool = tool_map.get(tool_name)\n",
    "    \n",
    "    if tool is None:\n",
    "        raise ValueError(f\"알 수 없는 도구: {tool_name}\")\n",
    "    \n",
    "    return tool.invoke(tool_call)\n",
    "\n",
    "# 3. 체인 구성\n",
    "# LLM에 도구 바인딩\n",
    "llm = ChatOpenAI(model=\"gpt-4o-mini\", temperature=0)\n",
    "llm_with_tools = llm.bind_tools(tools)\n",
    "\n",
    "# tool_chain 구성\n",
    "tool_chain = (\n",
    "    llm_with_tools    # 어떤 도구를 사용할지 결정 (LLM 모델이 도구 호출을 처리)\n",
    "    | RunnableLambda(lambda x: x.tool_calls)  # 도구 호출을 추출\n",
    "    | tool_router.map()   # 도구 호출 라우팅\n",
    ")\n",
    "\n",
    "# 4. 체인 테스트\n",
    "print(\"=== 체인 테스트 1: 주식 가격 조회 ===\")\n",
    "result = tool_chain.invoke(\"애플의 최근 주가를 알려줘\")\n",
    "pprint(result)\n",
    "print()\n",
    "\n",
    "print(\"=== 체인 테스트 2: 뉴스 검색 ===\")\n",
    "result = tool_chain.invoke(\"애플 관련 뉴스를 검색해줘\")\n",
    "pprint(result)"
   ]
  },
  {
   "cell_type": "markdown",
   "metadata": {},
   "source": [
    "---\n",
    "\n",
    "#### **문제 2**: 주식 분석 체인 구성\n",
    "\n",
    "1. 기본 설정\n",
    "    ```python\n",
    "    llm = ChatOpenAI(model=\"gpt-4.1-mini\")\n",
    "    llm_with_tools = llm.bind_tools([stock_tool, naver_news_search])\n",
    "    ```\n",
    "\n",
    "2. 프롬프트 구성\n",
    "    - 시스템/사용자 메시지 포함\n",
    "    - 도구 실행 결과를 위한 placeholder 설정\n",
    "\n",
    "3. 분석 체인 동작\n",
    "    - 도구 체인으로 주가/뉴스 정보 수집\n",
    "    - 도구 응답을 메시지 형식으로 변환 \n",
    "    - LLM으로 최종 분석 응답 생성\n",
    "\n",
    "4. 데이터 흐름\n",
    "     - 사용자 입력 -> 도구 실행 -> 결과 포맷팅 -> LLM 분석 -> 최종 응답\n"
   ]
  },
  {
   "cell_type": "code",
   "execution_count": 46,
   "metadata": {},
   "outputs": [
    {
     "name": "stdout",
     "output_type": "stream",
     "text": [
      "Tool Name:  StockPrice\n",
      "{\"symbol\": \"AAPL\", \"date\": \"2025-10-22\", \"open\": 262.7900085449219, \"high\": 262.8500061035156, \"low\": 255.42999267578125, \"close\": 258.45001220703125, \"volume\": 41141265, \"comment\": \"2025-10-22 날짜의 주식 가격 정보 조회\"}\n",
      "--------------------------------------------------------------------------------------------------------------------------------------------------------------------------------------------------------\n",
      "Tool Name:  naver_news_search\n",
      "{\"data\": {\"lastBuildDate\": \"Thu, 23 Oct 2025 21:41:15 +0900\", \"total\": 143267, \"start\": 1, \"display\": 10, \"items\": [{\"title\": \"[게임뉴스] 라이온하트, 직원 대상 AI 실무 교육 진행 외 주요 소식\", \"originallink\": \"https://www.gamevu.co.kr/news/articleView.html?idxno=52645\", \"link\": \"https://www.gamevu.co.kr/news/articleView.html?idxno=52645\", \"description\": \"- 아크시스템웍스아시아 <b>주식</b>회사는 오는 11월 27일 '버블보블 슈가 던전' 정식 출시를 앞두고 예약 판매가... 이번 사전예약은 공식 홈페이지와 구글 플레이 스토어, <b>애플</b> 앱스토어에서 진행된다. '전지적 시점: 데몬... \", \"pubDate\": \"Thu, 23 Oct 2025 18:56:00 +0900\"}, {\"title\": \"[금융 이모저모] 신한카드, 창립 18주년 맞아 달렸다…기후위기 대응 기...\", \"originallink\": \"https://www.greened.kr/news/articleView.html?idxno=332343\", \"link\": \"https://www.greened.kr/news/articleView.html?idxno=332343\", \"description\": \"카카오페이증권, '<b>주식</b> 모으기' 서비스에 '수익률 모으기·팔기' 기능 도입. O...카카오페이증권, '<b>주식</b>... 로봇청소기, <b>애플</b>워치 시리즈 11, <b>애플</b> 에어팟 Pro 3 등을 증정할 예정이다. 우리은행 관계자는 &quot;'우리WON 포트폴리오... \", \"pubDate\": \"Thu, 23 Oct 2025 18:36:00 +0900\"}, {\"title\": \"반박자 느린 카톡…아이폰17 '데이터 품질' 논란\", \"originallink\": \"https://www.hankyung.com/article/2025102386961\", \"link\": \"https://n.news.naver.com/mnews/article/015/0005201232?sid=101\", \"description\": \"<b>애플</b>이 한 달째 공식 입장을 내놓지 않으면서 사용자들의 불안도 커지고 있다. 23일 전자업계에 따르면 국내... “카카오톡이 반 박자 느려졌다” “증권 앱에서 <b>주식</b>을 사고팔 때 체결이 늦게 된다” 등의 불만이... \", \"pubDate\": \"Thu, 23 Oct 2025 17:57:00 +0900\"}, {\"title\": \"딸 회사에 일감몰아주기, 서희건설 사면초가[기업 백브리핑]\", \"originallink\": \"https://biz.sbs.co.kr/article_hub/20000267172?division=NAVER\", \"link\": \"https://n.news.naver.com/mnews/article/374/0000470267?sid=101\", \"description\": \"서희건설 계열사인 <b>애플</b> 이앤씨, 이봉관 회장 장녀가 최대주주입니다. 자본금 7억짜리 이 회사, 8년 만에... 지주택 사업 관련 임원 횡령배임까지 터져 <b>주식</b>거래 정지됐습니다. 사면초가란 말이 딱 맞는 상황입니다.\", \"pubDate\": \"Thu, 23 Oct 2025 17:04:00 +0900\"}, {\"title\": \"깊이가 다른 글로벌 투자 정보 GAM - 맛보기편 (10/23)\", \"originallink\": \"https://www.newspim.com/news/view/20251023000938\", \"link\": \"https://www.newspim.com/news/view/20251023000938\", \"description\": \"中 화웨이 '훙멍6' 버전 공개, <b>애플</b> 기기로 전송 지원 [사진 = 화웨이 훙멍 공식 홈페이지] 중국 화웨이... 비욘드미트 4거래일 사이 1300% 폭등...'밈 <b>주식</b>' 급부상 비욘드 미트 [사진=로이터 뉴스핌] 비코 ② IP... \", \"pubDate\": \"Thu, 23 Oct 2025 17:00:00 +0900\"}, {\"title\": \"'AI 버블'이 미국 경기침체 방어막 역할, &quot;<b>주식</b>으로 돈 벌어 소비 위축 ...\", \"originallink\": \"https://www.businesspost.co.kr/BP?command=article_view&num=416750\", \"link\": \"https://www.businesspost.co.kr/BP?command=article_view&num=416750\", \"description\": \"이를 주도한 미국 빅테크 기업들의 인공지능 인프라 투자가 위축되는 신호가 나타난다면 <b>주식</b>시장 및 경제... <b>애플</b>과 아마존, 구글 지주사 알파벳과 브로드컴, 메타와 마이크로소프트, 엔비디아와 오라클, 팔란티어와... \", \"pubDate\": \"Thu, 23 Oct 2025 16:32:00 +0900\"}, {\"title\": \"[이슈딜] “코스피 5000도 가능…국민연금·퇴직연금 투자가 관건”\", \"originallink\": \"https://news.dealsitetv.com/articles/160539\", \"link\": \"https://news.dealsitetv.com/articles/160539\", \"description\": \"주택에서 <b>주식</b>으로 머니무브 ◦진행: 권다영 앵커 ◦출연: 박시동 / 경제평론가 ◦제작: 최연욱 PD ◦날짜... 그리고 이제 글로벌리하게 테슬라부터 시작해서 <b>애플</b> 등 이런 큰 손들이 그나마 주문을 계속 해 주고 있거든요.... \", \"pubDate\": \"Thu, 23 Oct 2025 16:20:00 +0900\"}, {\"title\": \"브이파이브 게임즈, MMORPG ‘미르의 전설2:레드나이트’ 오는 29일 정식...\", \"originallink\": \"https://www.gamechosun.co.kr/webzine/article/view.php?no=217601\", \"link\": \"https://www.gamechosun.co.kr/webzine/article/view.php?no=217601\", \"description\": \"<b>주식</b>회사 브이파이브 게임즈(VFive Games, 대표 박미란)는 자사가 서비스 예정인 액토즈소프트(대표... ‘미르의 전설2:레드나이트’는 원작의 감동을 그대로 재현한 동양 무협 판타지 게임으로, 구글 플레이와 <b>애플</b>... \", \"pubDate\": \"Thu, 23 Oct 2025 16:20:00 +0900\"}, {\"title\": \"'김건희 목걸이' 서희건설, 이번엔 '아빠 찬스' 논란…대체 무슨 일이?\", \"originallink\": \"https://www.sisajournal.com/news/articleView.html?idxno=350367\", \"link\": \"https://n.news.naver.com/mnews/article/586/0000114347?sid=101\", \"description\": \"법인의 형태를 <b>주식</b>회사에서 유한책임회사로 변경하며 외부감사와 공시의무를 피했기 때문이다. 이번 공정위 조사 대상에 오른 <b>애플</b>이엔씨도 비슷한 수순을 밟았다. 이은희 부사장 등 오너 일가가 지분 100%를... \", \"pubDate\": \"Thu, 23 Oct 2025 15:33:00 +0900\"}, {\"title\": \"브이파이브 게임즈 MMORPG '미르의 전설2:레드나이트' 오는 29일 정식 출...\", \"originallink\": \"https://gamefocus.co.kr/detail.php?number=170372\", \"link\": \"https://gamefocus.co.kr/detail.php?number=170372\", \"description\": \"<b>주식</b>회사 브이파이브 게임즈(VFive Games, 대표 박미란)는 자사가 서비스 예정인 액토즈소프트(대표... ‘미르의 전설2:레드나이트’는 원작의 감동을 그대로 재현한 동양 무협 판타지 게임으로, 구글 플레이와 <b>애플</b>... \", \"pubDate\": \"Thu, 23 Oct 2025 15:04:00 +0900\"}]}, \"status_code\": 200}\n",
      "--------------------------------------------------------------------------------------------------------------------------------------------------------------------------------------------------------\n",
      "\n",
      "====================================================================================================\n",
      "=== 최종 분석 결과 ===\n",
      "====================================================================================================\n",
      "### 애플(AAPL) 주식 분석\n",
      "\n",
      "#### 1. 현재 주가 상황\n",
      "- **주가 (2025-10-22)**: \n",
      "  - **시가**: $262.79\n",
      "  - **고가**: $262.85\n",
      "  - **저가**: $255.43\n",
      "  - **종가**: $258.45\n",
      "  - **거래량**: 41,141,265 주\n",
      "\n",
      "애플의 주가는 최근 하루 동안 $258.45로 마감하였으며, 하루 중 최고가는 $262.85, 최저가는 $255.43로 나타났습니다. 주가는 전반적으로 하락세를 보이고 있으며, 거래량도 상당히 높아 시장의 관심이 집중되고 있음을 나타냅니다.\n",
      "\n",
      "#### 2. 최근 뉴스 동향\n",
      "최근 애플과 관련된 주요 뉴스는 다음과 같습니다:\n",
      "\n",
      "- **AI 및 기술 혁신**: 애플이 AI 기술을 활용한 새로운 제품 및 서비스에 대한 연구를 진행하고 있다는 보도가 있었습니다. 이는 애플의 기술적 우위를 강화할 수 있는 기회로 작용할 수 있습니다. [기사 링크](https://www.gamevu.co.kr/news/articleView.html?idxno=52645)\n",
      "\n",
      "- **신제품 출시**: 애플이 새로운 제품 라인업을 발표할 예정이라는 소식이 전해졌습니다. 특히, AI와 관련된 기능이 강화된 제품들이 포함될 것으로 예상됩니다. [기사 링크](https://www.greened.kr/news/articleView.html?idxno=332343)\n",
      "\n",
      "- **시장 반응**: 애플의 주가가 최근 하락세를 보이고 있는 가운데, 투자자들은 신제품 출시와 AI 기술의 발전이 주가에 미칠 영향을 주의 깊게 살펴보고 있습니다. [기사 링크](https://www.hankyung.com/article/2025102386961)\n",
      "\n",
      "#### 3. 종합적인 투자 의견\n",
      "현재 애플의 주가는 하락세를 보이고 있으며, 이는 시장의 불확실성과 관련된 여러 요인들에 기인할 수 있습니다. 그러나 AI 기술과 신제품 출시와 같은 긍정적인 뉴스가 있는 만큼, 장기적으로는 긍정적인 성장 가능성을 가지고 있습니다.\n",
      "\n",
      "- **단기 투자자**: 현재의 하락세를 고려할 때, 단기 투자자들은 신중한 접근이 필요합니다. 주가가 추가 하락할 가능성도 염두에 두어야 합니다.\n",
      "\n",
      "- **장기 투자자**: 애플의 기술 혁신과 신제품 출시가 성공적으로 이루어진다면, 장기적으로 주가 상승의 기회가 있을 것으로 보입니다. 따라서 장기 투자자들은 현재의 가격을 매수 기회로 삼을 수 있습니다.\n",
      "\n",
      "결론적으로, 애플 주식은 단기적으로는 변동성이 클 수 있으나, 장기적인 성장 가능성을 고려할 때 긍정적인 투자 대상으로 평가됩니다.\n"
     ]
    }
   ],
   "source": [
    "from langchain_core.prompts import ChatPromptTemplate\n",
    "from langchain_core.runnables import RunnableConfig, chain\n",
    "from langchain_openai import ChatOpenAI\n",
    "from datetime import datetime\n",
    "\n",
    "# 1. 기본 설정\n",
    "llm = ChatOpenAI(model=\"gpt-4o-mini\", temperature=0)\n",
    "llm_with_tools = llm.bind_tools([stock_tool, naver_news_search])\n",
    "\n",
    "# 오늘 날짜 설정\n",
    "today = datetime.today().strftime(\"%Y-%m-%d\")\n",
    "\n",
    "# 2. 프롬프트 구성\n",
    "prompt = ChatPromptTemplate([\n",
    "    (\"system\", f\"\"\"당신은 주식 투자 분석을 도와주는 전문 AI 어시스턴트입니다. \n",
    "오늘 날짜는 {today}입니다. \n",
    "주가 정보와 뉴스 정보를 종합하여 투자 판단에 도움이 되는 분석을 제공하세요.\n",
    "\n",
    "분석 시 다음 사항을 포함하세요:\n",
    "- 현재 주가 상황\n",
    "- 최근 뉴스 동향\n",
    "- 종합적인 투자 의견\n",
    "\"\"\"),\n",
    "    (\"human\", \"{user_input}\"),\n",
    "    (\"placeholder\", \"{messages}\"),\n",
    "])\n",
    "\n",
    "# LLM 체인 생성\n",
    "llm_chain = prompt | llm_with_tools\n",
    "\n",
    "# 3. 분석 체인 동작\n",
    "@chain\n",
    "def stock_analysis_chain(user_input: str, config: RunnableConfig):\n",
    "    \"\"\"주식 분석 체인 - 주가와 뉴스 정보를 종합하여 분석 제공\"\"\"\n",
    "    input_ = {\"user_input\": user_input}\n",
    "    ai_msg = llm_chain.invoke(input_, config=config)\n",
    "\n",
    "    tool_msgs = []\n",
    "    for tool_call in ai_msg.tool_calls:\n",
    "        try:\n",
    "            if tool_call[\"name\"] == \"StockPrice\":\n",
    "                tool_result = stock_tool.invoke(tool_call)\n",
    "            elif tool_call[\"name\"] == \"naver_news_search\":\n",
    "                tool_result = naver_news_search.invoke(tool_call)\n",
    "            else:\n",
    "                print(f\"알 수 없는 도구 호출: {tool_call['name']}\")\n",
    "                continue\n",
    "\n",
    "            # tool message 출력\n",
    "            print(\"Tool Name: \", tool_call[\"name\"])\n",
    "            print(tool_result.content if hasattr(tool_result, 'content') else tool_result)\n",
    "            print(\"-\"*200)\n",
    "\n",
    "            tool_msgs.append(tool_result)\n",
    "        except Exception as e:\n",
    "            print(f\"{tool_call['name']} 도구 호출 중 에러 발생: {e}\")\n",
    "    \n",
    "    return llm_chain.invoke({**input_, \"messages\": [ai_msg, *tool_msgs]}, config=config)\n",
    "\n",
    "# 4. 체인 실행\n",
    "query = \"애플 주식에 대해 분석해줘. 최근 주가와 관련 뉴스를 종합해서 알려줘.\"\n",
    "response = stock_analysis_chain.invoke(query)\n",
    "\n",
    "print(\"\\n\" + \"=\"*100)\n",
    "print(\"=== 최종 분석 결과 ===\")\n",
    "print(\"=\"*100)\n",
    "print(response.content)"
   ]
  }
 ],
 "metadata": {
  "kernelspec": {
   "display_name": "modu3",
   "language": "python",
   "name": "python3"
  },
  "language_info": {
   "codemirror_mode": {
    "name": "ipython",
    "version": 3
   },
   "file_extension": ".py",
   "mimetype": "text/x-python",
   "name": "python",
   "nbconvert_exporter": "python",
   "pygments_lexer": "ipython3",
   "version": "3.12.12"
  }
 },
 "nbformat": 4,
 "nbformat_minor": 2
}
